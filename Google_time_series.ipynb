{
  "nbformat": 4,
  "nbformat_minor": 0,
  "metadata": {
    "colab": {
      "provenance": [],
      "toc_visible": true,
      "mount_file_id": "1MAbyx5f1y9Q3OwBr2qPeBrrv0sqNjhpj",
      "authorship_tag": "ABX9TyPlE2I5F1HI9J1sA3uV+X47",
      "include_colab_link": true
    },
    "kernelspec": {
      "name": "python3",
      "display_name": "Python 3"
    },
    "language_info": {
      "name": "python"
    },
    "accelerator": "GPU",
    "gpuClass": "standard"
  },
  "cells": [
    {
      "cell_type": "markdown",
      "metadata": {
        "id": "view-in-github",
        "colab_type": "text"
      },
      "source": [
        "<a href=\"https://colab.research.google.com/github/prp20/tensorflow_learning/blob/main/Google_time_series.ipynb\" target=\"_parent\"><img src=\"https://colab.research.google.com/assets/colab-badge.svg\" alt=\"Open In Colab\"/></a>"
      ]
    },
    {
      "cell_type": "code",
      "execution_count": 1,
      "metadata": {
        "id": "h2ko0E263DvL"
      },
      "outputs": [],
      "source": [
        "! pip install -q kaggle"
      ]
    },
    {
      "cell_type": "code",
      "source": [
        "! mkdir ~/.kaggle\n",
        "! cp /content/drive/MyDrive/kaggle.json ~/.kaggle/\n",
        "! chmod 600 ~/.kaggle/kaggle.json"
      ],
      "metadata": {
        "id": "gSAqRTI03sSo"
      },
      "execution_count": 2,
      "outputs": []
    },
    {
      "cell_type": "code",
      "source": [
        "! kaggle datasets download -d varpit94/google-stock-data"
      ],
      "metadata": {
        "colab": {
          "base_uri": "https://localhost:8080/"
        },
        "id": "lqgskTtF32iE",
        "outputId": "8eb044d4-e35f-4c5c-9030-09c9c4be2e72"
      },
      "execution_count": 3,
      "outputs": [
        {
          "output_type": "stream",
          "name": "stdout",
          "text": [
            "Downloading google-stock-data.zip to /content\n",
            "\r  0% 0.00/101k [00:00<?, ?B/s]\n",
            "\r100% 101k/101k [00:00<00:00, 53.1MB/s]\n"
          ]
        }
      ]
    },
    {
      "cell_type": "code",
      "source": [
        "!unzip /content/google-stock-data.zip -d google-stock"
      ],
      "metadata": {
        "colab": {
          "base_uri": "https://localhost:8080/"
        },
        "id": "6ahETTdP361I",
        "outputId": "113a3ff0-5127-498c-d9eb-3d6a5e313276"
      },
      "execution_count": 4,
      "outputs": [
        {
          "output_type": "stream",
          "name": "stdout",
          "text": [
            "Archive:  /content/google-stock-data.zip\n",
            "  inflating: google-stock/GOOGL.csv  \n"
          ]
        }
      ]
    },
    {
      "cell_type": "code",
      "source": [
        "import pandas as pd\n",
        "import numpy as np\n",
        "import tensorflow as tf\n",
        "import matplotlib.pyplot as plt"
      ],
      "metadata": {
        "id": "b6UoD1jM4Nlx"
      },
      "execution_count": 5,
      "outputs": []
    },
    {
      "cell_type": "code",
      "source": [
        "dataset = pd.read_csv('/content/google-stock/GOOGL.csv', parse_dates=[\"Date\"], index_col=[\"Date\"])"
      ],
      "metadata": {
        "id": "kkoZQ1jR4YtF"
      },
      "execution_count": 6,
      "outputs": []
    },
    {
      "cell_type": "code",
      "source": [
        "dataset.head()"
      ],
      "metadata": {
        "colab": {
          "base_uri": "https://localhost:8080/",
          "height": 237
        },
        "id": "O6q2VcBo4eWW",
        "outputId": "a1b774aa-7a4e-402b-a0f3-3bc94f4618a7"
      },
      "execution_count": 7,
      "outputs": [
        {
          "output_type": "execute_result",
          "data": {
            "text/plain": [
              "                 Open       High        Low      Close  Adj Close    Volume\n",
              "Date                                                                       \n",
              "2004-08-19  50.050049  52.082081  48.028027  50.220219  50.220219  44659096\n",
              "2004-08-20  50.555557  54.594597  50.300301  54.209209  54.209209  22834343\n",
              "2004-08-23  55.430431  56.796799  54.579578  54.754753  54.754753  18256126\n",
              "2004-08-24  55.675674  55.855858  51.836838  52.487488  52.487488  15247337\n",
              "2004-08-25  52.532532  54.054054  51.991993  53.053055  53.053055   9188602"
            ],
            "text/html": [
              "\n",
              "  <div id=\"df-d71112eb-d84c-4e38-830f-0f92082a606a\">\n",
              "    <div class=\"colab-df-container\">\n",
              "      <div>\n",
              "<style scoped>\n",
              "    .dataframe tbody tr th:only-of-type {\n",
              "        vertical-align: middle;\n",
              "    }\n",
              "\n",
              "    .dataframe tbody tr th {\n",
              "        vertical-align: top;\n",
              "    }\n",
              "\n",
              "    .dataframe thead th {\n",
              "        text-align: right;\n",
              "    }\n",
              "</style>\n",
              "<table border=\"1\" class=\"dataframe\">\n",
              "  <thead>\n",
              "    <tr style=\"text-align: right;\">\n",
              "      <th></th>\n",
              "      <th>Open</th>\n",
              "      <th>High</th>\n",
              "      <th>Low</th>\n",
              "      <th>Close</th>\n",
              "      <th>Adj Close</th>\n",
              "      <th>Volume</th>\n",
              "    </tr>\n",
              "    <tr>\n",
              "      <th>Date</th>\n",
              "      <th></th>\n",
              "      <th></th>\n",
              "      <th></th>\n",
              "      <th></th>\n",
              "      <th></th>\n",
              "      <th></th>\n",
              "    </tr>\n",
              "  </thead>\n",
              "  <tbody>\n",
              "    <tr>\n",
              "      <th>2004-08-19</th>\n",
              "      <td>50.050049</td>\n",
              "      <td>52.082081</td>\n",
              "      <td>48.028027</td>\n",
              "      <td>50.220219</td>\n",
              "      <td>50.220219</td>\n",
              "      <td>44659096</td>\n",
              "    </tr>\n",
              "    <tr>\n",
              "      <th>2004-08-20</th>\n",
              "      <td>50.555557</td>\n",
              "      <td>54.594597</td>\n",
              "      <td>50.300301</td>\n",
              "      <td>54.209209</td>\n",
              "      <td>54.209209</td>\n",
              "      <td>22834343</td>\n",
              "    </tr>\n",
              "    <tr>\n",
              "      <th>2004-08-23</th>\n",
              "      <td>55.430431</td>\n",
              "      <td>56.796799</td>\n",
              "      <td>54.579578</td>\n",
              "      <td>54.754753</td>\n",
              "      <td>54.754753</td>\n",
              "      <td>18256126</td>\n",
              "    </tr>\n",
              "    <tr>\n",
              "      <th>2004-08-24</th>\n",
              "      <td>55.675674</td>\n",
              "      <td>55.855858</td>\n",
              "      <td>51.836838</td>\n",
              "      <td>52.487488</td>\n",
              "      <td>52.487488</td>\n",
              "      <td>15247337</td>\n",
              "    </tr>\n",
              "    <tr>\n",
              "      <th>2004-08-25</th>\n",
              "      <td>52.532532</td>\n",
              "      <td>54.054054</td>\n",
              "      <td>51.991993</td>\n",
              "      <td>53.053055</td>\n",
              "      <td>53.053055</td>\n",
              "      <td>9188602</td>\n",
              "    </tr>\n",
              "  </tbody>\n",
              "</table>\n",
              "</div>\n",
              "      <button class=\"colab-df-convert\" onclick=\"convertToInteractive('df-d71112eb-d84c-4e38-830f-0f92082a606a')\"\n",
              "              title=\"Convert this dataframe to an interactive table.\"\n",
              "              style=\"display:none;\">\n",
              "        \n",
              "  <svg xmlns=\"http://www.w3.org/2000/svg\" height=\"24px\"viewBox=\"0 0 24 24\"\n",
              "       width=\"24px\">\n",
              "    <path d=\"M0 0h24v24H0V0z\" fill=\"none\"/>\n",
              "    <path d=\"M18.56 5.44l.94 2.06.94-2.06 2.06-.94-2.06-.94-.94-2.06-.94 2.06-2.06.94zm-11 1L8.5 8.5l.94-2.06 2.06-.94-2.06-.94L8.5 2.5l-.94 2.06-2.06.94zm10 10l.94 2.06.94-2.06 2.06-.94-2.06-.94-.94-2.06-.94 2.06-2.06.94z\"/><path d=\"M17.41 7.96l-1.37-1.37c-.4-.4-.92-.59-1.43-.59-.52 0-1.04.2-1.43.59L10.3 9.45l-7.72 7.72c-.78.78-.78 2.05 0 2.83L4 21.41c.39.39.9.59 1.41.59.51 0 1.02-.2 1.41-.59l7.78-7.78 2.81-2.81c.8-.78.8-2.07 0-2.86zM5.41 20L4 18.59l7.72-7.72 1.47 1.35L5.41 20z\"/>\n",
              "  </svg>\n",
              "      </button>\n",
              "      \n",
              "  <style>\n",
              "    .colab-df-container {\n",
              "      display:flex;\n",
              "      flex-wrap:wrap;\n",
              "      gap: 12px;\n",
              "    }\n",
              "\n",
              "    .colab-df-convert {\n",
              "      background-color: #E8F0FE;\n",
              "      border: none;\n",
              "      border-radius: 50%;\n",
              "      cursor: pointer;\n",
              "      display: none;\n",
              "      fill: #1967D2;\n",
              "      height: 32px;\n",
              "      padding: 0 0 0 0;\n",
              "      width: 32px;\n",
              "    }\n",
              "\n",
              "    .colab-df-convert:hover {\n",
              "      background-color: #E2EBFA;\n",
              "      box-shadow: 0px 1px 2px rgba(60, 64, 67, 0.3), 0px 1px 3px 1px rgba(60, 64, 67, 0.15);\n",
              "      fill: #174EA6;\n",
              "    }\n",
              "\n",
              "    [theme=dark] .colab-df-convert {\n",
              "      background-color: #3B4455;\n",
              "      fill: #D2E3FC;\n",
              "    }\n",
              "\n",
              "    [theme=dark] .colab-df-convert:hover {\n",
              "      background-color: #434B5C;\n",
              "      box-shadow: 0px 1px 3px 1px rgba(0, 0, 0, 0.15);\n",
              "      filter: drop-shadow(0px 1px 2px rgba(0, 0, 0, 0.3));\n",
              "      fill: #FFFFFF;\n",
              "    }\n",
              "  </style>\n",
              "\n",
              "      <script>\n",
              "        const buttonEl =\n",
              "          document.querySelector('#df-d71112eb-d84c-4e38-830f-0f92082a606a button.colab-df-convert');\n",
              "        buttonEl.style.display =\n",
              "          google.colab.kernel.accessAllowed ? 'block' : 'none';\n",
              "\n",
              "        async function convertToInteractive(key) {\n",
              "          const element = document.querySelector('#df-d71112eb-d84c-4e38-830f-0f92082a606a');\n",
              "          const dataTable =\n",
              "            await google.colab.kernel.invokeFunction('convertToInteractive',\n",
              "                                                     [key], {});\n",
              "          if (!dataTable) return;\n",
              "\n",
              "          const docLinkHtml = 'Like what you see? Visit the ' +\n",
              "            '<a target=\"_blank\" href=https://colab.research.google.com/notebooks/data_table.ipynb>data table notebook</a>'\n",
              "            + ' to learn more about interactive tables.';\n",
              "          element.innerHTML = '';\n",
              "          dataTable['output_type'] = 'display_data';\n",
              "          await google.colab.output.renderOutput(dataTable, element);\n",
              "          const docLink = document.createElement('div');\n",
              "          docLink.innerHTML = docLinkHtml;\n",
              "          element.appendChild(docLink);\n",
              "        }\n",
              "      </script>\n",
              "    </div>\n",
              "  </div>\n",
              "  "
            ]
          },
          "metadata": {},
          "execution_count": 7
        }
      ]
    },
    {
      "cell_type": "code",
      "source": [
        "dataset.info()"
      ],
      "metadata": {
        "colab": {
          "base_uri": "https://localhost:8080/"
        },
        "id": "AZ_Tl23n4f7o",
        "outputId": "4f6adb49-7afc-4661-eae3-bcd2a284639d"
      },
      "execution_count": 8,
      "outputs": [
        {
          "output_type": "stream",
          "name": "stdout",
          "text": [
            "<class 'pandas.core.frame.DataFrame'>\n",
            "DatetimeIndex: 4431 entries, 2004-08-19 to 2022-03-24\n",
            "Data columns (total 6 columns):\n",
            " #   Column     Non-Null Count  Dtype  \n",
            "---  ------     --------------  -----  \n",
            " 0   Open       4431 non-null   float64\n",
            " 1   High       4431 non-null   float64\n",
            " 2   Low        4431 non-null   float64\n",
            " 3   Close      4431 non-null   float64\n",
            " 4   Adj Close  4431 non-null   float64\n",
            " 5   Volume     4431 non-null   int64  \n",
            "dtypes: float64(5), int64(1)\n",
            "memory usage: 242.3 KB\n"
          ]
        }
      ]
    },
    {
      "cell_type": "code",
      "source": [
        "dataset.describe()"
      ],
      "metadata": {
        "colab": {
          "base_uri": "https://localhost:8080/",
          "height": 300
        },
        "id": "ho2khNZ-EJhV",
        "outputId": "54ec7053-0e3a-4744-e8d4-b01a0c2c2033"
      },
      "execution_count": 9,
      "outputs": [
        {
          "output_type": "execute_result",
          "data": {
            "text/plain": [
              "              Open         High          Low        Close    Adj Close  \\\n",
              "count  4431.000000  4431.000000  4431.000000  4431.000000  4431.000000   \n",
              "mean    693.087345   699.735595   686.078751   693.097367   693.097367   \n",
              "std     645.118799   651.331215   638.579488   645.187806   645.187806   \n",
              "min      49.644646    50.920921    48.028027    50.055054    50.055054   \n",
              "25%     248.558563   250.853355   245.813309   248.415916   248.415916   \n",
              "50%     434.924927   437.887878   432.687683   435.330322   435.330322   \n",
              "75%    1007.364990  1020.649994   997.274994  1007.790008  1007.790008   \n",
              "max    3025.000000  3030.929932  2977.979980  2996.770020  2996.770020   \n",
              "\n",
              "             Volume  \n",
              "count  4.431000e+03  \n",
              "mean   6.444992e+06  \n",
              "std    7.690351e+06  \n",
              "min    4.656000e+05  \n",
              "25%    1.695600e+06  \n",
              "50%    3.778418e+06  \n",
              "75%    8.002390e+06  \n",
              "max    8.215117e+07  "
            ],
            "text/html": [
              "\n",
              "  <div id=\"df-97bebad2-abb8-4dbc-bf6b-95e082ebadc6\">\n",
              "    <div class=\"colab-df-container\">\n",
              "      <div>\n",
              "<style scoped>\n",
              "    .dataframe tbody tr th:only-of-type {\n",
              "        vertical-align: middle;\n",
              "    }\n",
              "\n",
              "    .dataframe tbody tr th {\n",
              "        vertical-align: top;\n",
              "    }\n",
              "\n",
              "    .dataframe thead th {\n",
              "        text-align: right;\n",
              "    }\n",
              "</style>\n",
              "<table border=\"1\" class=\"dataframe\">\n",
              "  <thead>\n",
              "    <tr style=\"text-align: right;\">\n",
              "      <th></th>\n",
              "      <th>Open</th>\n",
              "      <th>High</th>\n",
              "      <th>Low</th>\n",
              "      <th>Close</th>\n",
              "      <th>Adj Close</th>\n",
              "      <th>Volume</th>\n",
              "    </tr>\n",
              "  </thead>\n",
              "  <tbody>\n",
              "    <tr>\n",
              "      <th>count</th>\n",
              "      <td>4431.000000</td>\n",
              "      <td>4431.000000</td>\n",
              "      <td>4431.000000</td>\n",
              "      <td>4431.000000</td>\n",
              "      <td>4431.000000</td>\n",
              "      <td>4.431000e+03</td>\n",
              "    </tr>\n",
              "    <tr>\n",
              "      <th>mean</th>\n",
              "      <td>693.087345</td>\n",
              "      <td>699.735595</td>\n",
              "      <td>686.078751</td>\n",
              "      <td>693.097367</td>\n",
              "      <td>693.097367</td>\n",
              "      <td>6.444992e+06</td>\n",
              "    </tr>\n",
              "    <tr>\n",
              "      <th>std</th>\n",
              "      <td>645.118799</td>\n",
              "      <td>651.331215</td>\n",
              "      <td>638.579488</td>\n",
              "      <td>645.187806</td>\n",
              "      <td>645.187806</td>\n",
              "      <td>7.690351e+06</td>\n",
              "    </tr>\n",
              "    <tr>\n",
              "      <th>min</th>\n",
              "      <td>49.644646</td>\n",
              "      <td>50.920921</td>\n",
              "      <td>48.028027</td>\n",
              "      <td>50.055054</td>\n",
              "      <td>50.055054</td>\n",
              "      <td>4.656000e+05</td>\n",
              "    </tr>\n",
              "    <tr>\n",
              "      <th>25%</th>\n",
              "      <td>248.558563</td>\n",
              "      <td>250.853355</td>\n",
              "      <td>245.813309</td>\n",
              "      <td>248.415916</td>\n",
              "      <td>248.415916</td>\n",
              "      <td>1.695600e+06</td>\n",
              "    </tr>\n",
              "    <tr>\n",
              "      <th>50%</th>\n",
              "      <td>434.924927</td>\n",
              "      <td>437.887878</td>\n",
              "      <td>432.687683</td>\n",
              "      <td>435.330322</td>\n",
              "      <td>435.330322</td>\n",
              "      <td>3.778418e+06</td>\n",
              "    </tr>\n",
              "    <tr>\n",
              "      <th>75%</th>\n",
              "      <td>1007.364990</td>\n",
              "      <td>1020.649994</td>\n",
              "      <td>997.274994</td>\n",
              "      <td>1007.790008</td>\n",
              "      <td>1007.790008</td>\n",
              "      <td>8.002390e+06</td>\n",
              "    </tr>\n",
              "    <tr>\n",
              "      <th>max</th>\n",
              "      <td>3025.000000</td>\n",
              "      <td>3030.929932</td>\n",
              "      <td>2977.979980</td>\n",
              "      <td>2996.770020</td>\n",
              "      <td>2996.770020</td>\n",
              "      <td>8.215117e+07</td>\n",
              "    </tr>\n",
              "  </tbody>\n",
              "</table>\n",
              "</div>\n",
              "      <button class=\"colab-df-convert\" onclick=\"convertToInteractive('df-97bebad2-abb8-4dbc-bf6b-95e082ebadc6')\"\n",
              "              title=\"Convert this dataframe to an interactive table.\"\n",
              "              style=\"display:none;\">\n",
              "        \n",
              "  <svg xmlns=\"http://www.w3.org/2000/svg\" height=\"24px\"viewBox=\"0 0 24 24\"\n",
              "       width=\"24px\">\n",
              "    <path d=\"M0 0h24v24H0V0z\" fill=\"none\"/>\n",
              "    <path d=\"M18.56 5.44l.94 2.06.94-2.06 2.06-.94-2.06-.94-.94-2.06-.94 2.06-2.06.94zm-11 1L8.5 8.5l.94-2.06 2.06-.94-2.06-.94L8.5 2.5l-.94 2.06-2.06.94zm10 10l.94 2.06.94-2.06 2.06-.94-2.06-.94-.94-2.06-.94 2.06-2.06.94z\"/><path d=\"M17.41 7.96l-1.37-1.37c-.4-.4-.92-.59-1.43-.59-.52 0-1.04.2-1.43.59L10.3 9.45l-7.72 7.72c-.78.78-.78 2.05 0 2.83L4 21.41c.39.39.9.59 1.41.59.51 0 1.02-.2 1.41-.59l7.78-7.78 2.81-2.81c.8-.78.8-2.07 0-2.86zM5.41 20L4 18.59l7.72-7.72 1.47 1.35L5.41 20z\"/>\n",
              "  </svg>\n",
              "      </button>\n",
              "      \n",
              "  <style>\n",
              "    .colab-df-container {\n",
              "      display:flex;\n",
              "      flex-wrap:wrap;\n",
              "      gap: 12px;\n",
              "    }\n",
              "\n",
              "    .colab-df-convert {\n",
              "      background-color: #E8F0FE;\n",
              "      border: none;\n",
              "      border-radius: 50%;\n",
              "      cursor: pointer;\n",
              "      display: none;\n",
              "      fill: #1967D2;\n",
              "      height: 32px;\n",
              "      padding: 0 0 0 0;\n",
              "      width: 32px;\n",
              "    }\n",
              "\n",
              "    .colab-df-convert:hover {\n",
              "      background-color: #E2EBFA;\n",
              "      box-shadow: 0px 1px 2px rgba(60, 64, 67, 0.3), 0px 1px 3px 1px rgba(60, 64, 67, 0.15);\n",
              "      fill: #174EA6;\n",
              "    }\n",
              "\n",
              "    [theme=dark] .colab-df-convert {\n",
              "      background-color: #3B4455;\n",
              "      fill: #D2E3FC;\n",
              "    }\n",
              "\n",
              "    [theme=dark] .colab-df-convert:hover {\n",
              "      background-color: #434B5C;\n",
              "      box-shadow: 0px 1px 3px 1px rgba(0, 0, 0, 0.15);\n",
              "      filter: drop-shadow(0px 1px 2px rgba(0, 0, 0, 0.3));\n",
              "      fill: #FFFFFF;\n",
              "    }\n",
              "  </style>\n",
              "\n",
              "      <script>\n",
              "        const buttonEl =\n",
              "          document.querySelector('#df-97bebad2-abb8-4dbc-bf6b-95e082ebadc6 button.colab-df-convert');\n",
              "        buttonEl.style.display =\n",
              "          google.colab.kernel.accessAllowed ? 'block' : 'none';\n",
              "\n",
              "        async function convertToInteractive(key) {\n",
              "          const element = document.querySelector('#df-97bebad2-abb8-4dbc-bf6b-95e082ebadc6');\n",
              "          const dataTable =\n",
              "            await google.colab.kernel.invokeFunction('convertToInteractive',\n",
              "                                                     [key], {});\n",
              "          if (!dataTable) return;\n",
              "\n",
              "          const docLinkHtml = 'Like what you see? Visit the ' +\n",
              "            '<a target=\"_blank\" href=https://colab.research.google.com/notebooks/data_table.ipynb>data table notebook</a>'\n",
              "            + ' to learn more about interactive tables.';\n",
              "          element.innerHTML = '';\n",
              "          dataTable['output_type'] = 'display_data';\n",
              "          await google.colab.output.renderOutput(dataTable, element);\n",
              "          const docLink = document.createElement('div');\n",
              "          docLink.innerHTML = docLinkHtml;\n",
              "          element.appendChild(docLink);\n",
              "        }\n",
              "      </script>\n",
              "    </div>\n",
              "  </div>\n",
              "  "
            ]
          },
          "metadata": {},
          "execution_count": 9
        }
      ]
    },
    {
      "cell_type": "code",
      "source": [
        "dataset.isnull().any()"
      ],
      "metadata": {
        "colab": {
          "base_uri": "https://localhost:8080/"
        },
        "id": "zJTrnOEhEOgO",
        "outputId": "52e38710-f922-4322-dc7c-bd0acc562f0f"
      },
      "execution_count": 10,
      "outputs": [
        {
          "output_type": "execute_result",
          "data": {
            "text/plain": [
              "Open         False\n",
              "High         False\n",
              "Low          False\n",
              "Close        False\n",
              "Adj Close    False\n",
              "Volume       False\n",
              "dtype: bool"
            ]
          },
          "metadata": {},
          "execution_count": 10
        }
      ]
    },
    {
      "cell_type": "code",
      "source": [
        "google_stock_data = pd.DataFrame(dataset['Close']).rename(columns={'Close':'price'})\n",
        "google_stock_data.head(10)\n"
      ],
      "metadata": {
        "colab": {
          "base_uri": "https://localhost:8080/",
          "height": 394
        },
        "id": "zDHUGlFf4r3P",
        "outputId": "4437359a-4ff8-4a39-c4d2-8370c488aa4b"
      },
      "execution_count": 11,
      "outputs": [
        {
          "output_type": "execute_result",
          "data": {
            "text/plain": [
              "                price\n",
              "Date                 \n",
              "2004-08-19  50.220219\n",
              "2004-08-20  54.209209\n",
              "2004-08-23  54.754753\n",
              "2004-08-24  52.487488\n",
              "2004-08-25  53.053055\n",
              "2004-08-26  54.009010\n",
              "2004-08-27  53.128128\n",
              "2004-08-30  51.056057\n",
              "2004-08-31  51.236237\n",
              "2004-09-01  50.175175"
            ],
            "text/html": [
              "\n",
              "  <div id=\"df-63eb8d07-dd78-4d6a-a77b-d3300e79ed36\">\n",
              "    <div class=\"colab-df-container\">\n",
              "      <div>\n",
              "<style scoped>\n",
              "    .dataframe tbody tr th:only-of-type {\n",
              "        vertical-align: middle;\n",
              "    }\n",
              "\n",
              "    .dataframe tbody tr th {\n",
              "        vertical-align: top;\n",
              "    }\n",
              "\n",
              "    .dataframe thead th {\n",
              "        text-align: right;\n",
              "    }\n",
              "</style>\n",
              "<table border=\"1\" class=\"dataframe\">\n",
              "  <thead>\n",
              "    <tr style=\"text-align: right;\">\n",
              "      <th></th>\n",
              "      <th>price</th>\n",
              "    </tr>\n",
              "    <tr>\n",
              "      <th>Date</th>\n",
              "      <th></th>\n",
              "    </tr>\n",
              "  </thead>\n",
              "  <tbody>\n",
              "    <tr>\n",
              "      <th>2004-08-19</th>\n",
              "      <td>50.220219</td>\n",
              "    </tr>\n",
              "    <tr>\n",
              "      <th>2004-08-20</th>\n",
              "      <td>54.209209</td>\n",
              "    </tr>\n",
              "    <tr>\n",
              "      <th>2004-08-23</th>\n",
              "      <td>54.754753</td>\n",
              "    </tr>\n",
              "    <tr>\n",
              "      <th>2004-08-24</th>\n",
              "      <td>52.487488</td>\n",
              "    </tr>\n",
              "    <tr>\n",
              "      <th>2004-08-25</th>\n",
              "      <td>53.053055</td>\n",
              "    </tr>\n",
              "    <tr>\n",
              "      <th>2004-08-26</th>\n",
              "      <td>54.009010</td>\n",
              "    </tr>\n",
              "    <tr>\n",
              "      <th>2004-08-27</th>\n",
              "      <td>53.128128</td>\n",
              "    </tr>\n",
              "    <tr>\n",
              "      <th>2004-08-30</th>\n",
              "      <td>51.056057</td>\n",
              "    </tr>\n",
              "    <tr>\n",
              "      <th>2004-08-31</th>\n",
              "      <td>51.236237</td>\n",
              "    </tr>\n",
              "    <tr>\n",
              "      <th>2004-09-01</th>\n",
              "      <td>50.175175</td>\n",
              "    </tr>\n",
              "  </tbody>\n",
              "</table>\n",
              "</div>\n",
              "      <button class=\"colab-df-convert\" onclick=\"convertToInteractive('df-63eb8d07-dd78-4d6a-a77b-d3300e79ed36')\"\n",
              "              title=\"Convert this dataframe to an interactive table.\"\n",
              "              style=\"display:none;\">\n",
              "        \n",
              "  <svg xmlns=\"http://www.w3.org/2000/svg\" height=\"24px\"viewBox=\"0 0 24 24\"\n",
              "       width=\"24px\">\n",
              "    <path d=\"M0 0h24v24H0V0z\" fill=\"none\"/>\n",
              "    <path d=\"M18.56 5.44l.94 2.06.94-2.06 2.06-.94-2.06-.94-.94-2.06-.94 2.06-2.06.94zm-11 1L8.5 8.5l.94-2.06 2.06-.94-2.06-.94L8.5 2.5l-.94 2.06-2.06.94zm10 10l.94 2.06.94-2.06 2.06-.94-2.06-.94-.94-2.06-.94 2.06-2.06.94z\"/><path d=\"M17.41 7.96l-1.37-1.37c-.4-.4-.92-.59-1.43-.59-.52 0-1.04.2-1.43.59L10.3 9.45l-7.72 7.72c-.78.78-.78 2.05 0 2.83L4 21.41c.39.39.9.59 1.41.59.51 0 1.02-.2 1.41-.59l7.78-7.78 2.81-2.81c.8-.78.8-2.07 0-2.86zM5.41 20L4 18.59l7.72-7.72 1.47 1.35L5.41 20z\"/>\n",
              "  </svg>\n",
              "      </button>\n",
              "      \n",
              "  <style>\n",
              "    .colab-df-container {\n",
              "      display:flex;\n",
              "      flex-wrap:wrap;\n",
              "      gap: 12px;\n",
              "    }\n",
              "\n",
              "    .colab-df-convert {\n",
              "      background-color: #E8F0FE;\n",
              "      border: none;\n",
              "      border-radius: 50%;\n",
              "      cursor: pointer;\n",
              "      display: none;\n",
              "      fill: #1967D2;\n",
              "      height: 32px;\n",
              "      padding: 0 0 0 0;\n",
              "      width: 32px;\n",
              "    }\n",
              "\n",
              "    .colab-df-convert:hover {\n",
              "      background-color: #E2EBFA;\n",
              "      box-shadow: 0px 1px 2px rgba(60, 64, 67, 0.3), 0px 1px 3px 1px rgba(60, 64, 67, 0.15);\n",
              "      fill: #174EA6;\n",
              "    }\n",
              "\n",
              "    [theme=dark] .colab-df-convert {\n",
              "      background-color: #3B4455;\n",
              "      fill: #D2E3FC;\n",
              "    }\n",
              "\n",
              "    [theme=dark] .colab-df-convert:hover {\n",
              "      background-color: #434B5C;\n",
              "      box-shadow: 0px 1px 3px 1px rgba(0, 0, 0, 0.15);\n",
              "      filter: drop-shadow(0px 1px 2px rgba(0, 0, 0, 0.3));\n",
              "      fill: #FFFFFF;\n",
              "    }\n",
              "  </style>\n",
              "\n",
              "      <script>\n",
              "        const buttonEl =\n",
              "          document.querySelector('#df-63eb8d07-dd78-4d6a-a77b-d3300e79ed36 button.colab-df-convert');\n",
              "        buttonEl.style.display =\n",
              "          google.colab.kernel.accessAllowed ? 'block' : 'none';\n",
              "\n",
              "        async function convertToInteractive(key) {\n",
              "          const element = document.querySelector('#df-63eb8d07-dd78-4d6a-a77b-d3300e79ed36');\n",
              "          const dataTable =\n",
              "            await google.colab.kernel.invokeFunction('convertToInteractive',\n",
              "                                                     [key], {});\n",
              "          if (!dataTable) return;\n",
              "\n",
              "          const docLinkHtml = 'Like what you see? Visit the ' +\n",
              "            '<a target=\"_blank\" href=https://colab.research.google.com/notebooks/data_table.ipynb>data table notebook</a>'\n",
              "            + ' to learn more about interactive tables.';\n",
              "          element.innerHTML = '';\n",
              "          dataTable['output_type'] = 'display_data';\n",
              "          await google.colab.output.renderOutput(dataTable, element);\n",
              "          const docLink = document.createElement('div');\n",
              "          docLink.innerHTML = docLinkHtml;\n",
              "          element.appendChild(docLink);\n",
              "        }\n",
              "      </script>\n",
              "    </div>\n",
              "  </div>\n",
              "  "
            ]
          },
          "metadata": {},
          "execution_count": 11
        }
      ]
    },
    {
      "cell_type": "code",
      "source": [
        "google_stock_data.tail()"
      ],
      "metadata": {
        "colab": {
          "base_uri": "https://localhost:8080/",
          "height": 237
        },
        "id": "CvTNsaWI6q9S",
        "outputId": "55e4360f-f7c8-4c09-82ab-ef6bbd625f98"
      },
      "execution_count": 12,
      "outputs": [
        {
          "output_type": "execute_result",
          "data": {
            "text/plain": [
              "                  price\n",
              "Date                   \n",
              "2022-03-18  2722.510010\n",
              "2022-03-21  2722.030029\n",
              "2022-03-22  2797.360107\n",
              "2022-03-23  2765.510010\n",
              "2022-03-24  2831.439941"
            ],
            "text/html": [
              "\n",
              "  <div id=\"df-aad8e810-8e8e-4d8f-8ae3-34d72a47e505\">\n",
              "    <div class=\"colab-df-container\">\n",
              "      <div>\n",
              "<style scoped>\n",
              "    .dataframe tbody tr th:only-of-type {\n",
              "        vertical-align: middle;\n",
              "    }\n",
              "\n",
              "    .dataframe tbody tr th {\n",
              "        vertical-align: top;\n",
              "    }\n",
              "\n",
              "    .dataframe thead th {\n",
              "        text-align: right;\n",
              "    }\n",
              "</style>\n",
              "<table border=\"1\" class=\"dataframe\">\n",
              "  <thead>\n",
              "    <tr style=\"text-align: right;\">\n",
              "      <th></th>\n",
              "      <th>price</th>\n",
              "    </tr>\n",
              "    <tr>\n",
              "      <th>Date</th>\n",
              "      <th></th>\n",
              "    </tr>\n",
              "  </thead>\n",
              "  <tbody>\n",
              "    <tr>\n",
              "      <th>2022-03-18</th>\n",
              "      <td>2722.510010</td>\n",
              "    </tr>\n",
              "    <tr>\n",
              "      <th>2022-03-21</th>\n",
              "      <td>2722.030029</td>\n",
              "    </tr>\n",
              "    <tr>\n",
              "      <th>2022-03-22</th>\n",
              "      <td>2797.360107</td>\n",
              "    </tr>\n",
              "    <tr>\n",
              "      <th>2022-03-23</th>\n",
              "      <td>2765.510010</td>\n",
              "    </tr>\n",
              "    <tr>\n",
              "      <th>2022-03-24</th>\n",
              "      <td>2831.439941</td>\n",
              "    </tr>\n",
              "  </tbody>\n",
              "</table>\n",
              "</div>\n",
              "      <button class=\"colab-df-convert\" onclick=\"convertToInteractive('df-aad8e810-8e8e-4d8f-8ae3-34d72a47e505')\"\n",
              "              title=\"Convert this dataframe to an interactive table.\"\n",
              "              style=\"display:none;\">\n",
              "        \n",
              "  <svg xmlns=\"http://www.w3.org/2000/svg\" height=\"24px\"viewBox=\"0 0 24 24\"\n",
              "       width=\"24px\">\n",
              "    <path d=\"M0 0h24v24H0V0z\" fill=\"none\"/>\n",
              "    <path d=\"M18.56 5.44l.94 2.06.94-2.06 2.06-.94-2.06-.94-.94-2.06-.94 2.06-2.06.94zm-11 1L8.5 8.5l.94-2.06 2.06-.94-2.06-.94L8.5 2.5l-.94 2.06-2.06.94zm10 10l.94 2.06.94-2.06 2.06-.94-2.06-.94-.94-2.06-.94 2.06-2.06.94z\"/><path d=\"M17.41 7.96l-1.37-1.37c-.4-.4-.92-.59-1.43-.59-.52 0-1.04.2-1.43.59L10.3 9.45l-7.72 7.72c-.78.78-.78 2.05 0 2.83L4 21.41c.39.39.9.59 1.41.59.51 0 1.02-.2 1.41-.59l7.78-7.78 2.81-2.81c.8-.78.8-2.07 0-2.86zM5.41 20L4 18.59l7.72-7.72 1.47 1.35L5.41 20z\"/>\n",
              "  </svg>\n",
              "      </button>\n",
              "      \n",
              "  <style>\n",
              "    .colab-df-container {\n",
              "      display:flex;\n",
              "      flex-wrap:wrap;\n",
              "      gap: 12px;\n",
              "    }\n",
              "\n",
              "    .colab-df-convert {\n",
              "      background-color: #E8F0FE;\n",
              "      border: none;\n",
              "      border-radius: 50%;\n",
              "      cursor: pointer;\n",
              "      display: none;\n",
              "      fill: #1967D2;\n",
              "      height: 32px;\n",
              "      padding: 0 0 0 0;\n",
              "      width: 32px;\n",
              "    }\n",
              "\n",
              "    .colab-df-convert:hover {\n",
              "      background-color: #E2EBFA;\n",
              "      box-shadow: 0px 1px 2px rgba(60, 64, 67, 0.3), 0px 1px 3px 1px rgba(60, 64, 67, 0.15);\n",
              "      fill: #174EA6;\n",
              "    }\n",
              "\n",
              "    [theme=dark] .colab-df-convert {\n",
              "      background-color: #3B4455;\n",
              "      fill: #D2E3FC;\n",
              "    }\n",
              "\n",
              "    [theme=dark] .colab-df-convert:hover {\n",
              "      background-color: #434B5C;\n",
              "      box-shadow: 0px 1px 3px 1px rgba(0, 0, 0, 0.15);\n",
              "      filter: drop-shadow(0px 1px 2px rgba(0, 0, 0, 0.3));\n",
              "      fill: #FFFFFF;\n",
              "    }\n",
              "  </style>\n",
              "\n",
              "      <script>\n",
              "        const buttonEl =\n",
              "          document.querySelector('#df-aad8e810-8e8e-4d8f-8ae3-34d72a47e505 button.colab-df-convert');\n",
              "        buttonEl.style.display =\n",
              "          google.colab.kernel.accessAllowed ? 'block' : 'none';\n",
              "\n",
              "        async function convertToInteractive(key) {\n",
              "          const element = document.querySelector('#df-aad8e810-8e8e-4d8f-8ae3-34d72a47e505');\n",
              "          const dataTable =\n",
              "            await google.colab.kernel.invokeFunction('convertToInteractive',\n",
              "                                                     [key], {});\n",
              "          if (!dataTable) return;\n",
              "\n",
              "          const docLinkHtml = 'Like what you see? Visit the ' +\n",
              "            '<a target=\"_blank\" href=https://colab.research.google.com/notebooks/data_table.ipynb>data table notebook</a>'\n",
              "            + ' to learn more about interactive tables.';\n",
              "          element.innerHTML = '';\n",
              "          dataTable['output_type'] = 'display_data';\n",
              "          await google.colab.output.renderOutput(dataTable, element);\n",
              "          const docLink = document.createElement('div');\n",
              "          docLink.innerHTML = docLinkHtml;\n",
              "          element.appendChild(docLink);\n",
              "        }\n",
              "      </script>\n",
              "    </div>\n",
              "  </div>\n",
              "  "
            ]
          },
          "metadata": {},
          "execution_count": 12
        }
      ]
    },
    {
      "cell_type": "code",
      "source": [
        "google_stock_data.plot(figsize=(10,8))\n",
        "plt.ylabel(\"Stock Price\")\n",
        "plt.title(\"Price of Infosys stocks\")\n",
        "plt.legend(fontsize=14)"
      ],
      "metadata": {
        "colab": {
          "base_uri": "https://localhost:8080/",
          "height": 498
        },
        "id": "YhsUQG3P5I6O",
        "outputId": "0683e6d6-fbe5-443e-9d8e-61769086a25f"
      },
      "execution_count": 13,
      "outputs": [
        {
          "output_type": "execute_result",
          "data": {
            "text/plain": [
              "<matplotlib.legend.Legend at 0x7f98939f2510>"
            ]
          },
          "metadata": {},
          "execution_count": 13
        },
        {
          "output_type": "display_data",
          "data": {
            "text/plain": [
              "<Figure size 720x576 with 1 Axes>"
            ],
            "image/png": "[encoded data removed]"
          },
          "metadata": {
            "needs_background": "light"
          }
        }
      ]
    },
    {
      "cell_type": "code",
      "source": [
        "timesteps = google_stock_data.index.to_numpy()\n",
        "prices = google_stock_data[\"price\"].to_numpy()\n",
        "\n",
        "timesteps[:10], prices[:10]"
      ],
      "metadata": {
        "colab": {
          "base_uri": "https://localhost:8080/"
        },
        "id": "JfvU6xwu55U2",
        "outputId": "3ef55921-02bd-446a-95b2-b9413e636a57"
      },
      "execution_count": 14,
      "outputs": [
        {
          "output_type": "execute_result",
          "data": {
            "text/plain": [
              "(array(['2004-08-19T00:00:00.000000000', '2004-08-20T00:00:00.000000000',\n",
              "        '2004-08-23T00:00:00.000000000', '2004-08-24T00:00:00.000000000',\n",
              "        '2004-08-25T00:00:00.000000000', '2004-08-26T00:00:00.000000000',\n",
              "        '2004-08-27T00:00:00.000000000', '2004-08-30T00:00:00.000000000',\n",
              "        '2004-08-31T00:00:00.000000000', '2004-09-01T00:00:00.000000000'],\n",
              "       dtype='datetime64[ns]'),\n",
              " array([50.220219, 54.209209, 54.754753, 52.487488, 53.053055, 54.00901 ,\n",
              "        53.128128, 51.056057, 51.236237, 50.175175]))"
            ]
          },
          "metadata": {},
          "execution_count": 14
        }
      ]
    },
    {
      "cell_type": "code",
      "source": [
        "split_size = int(0.8 * len(prices))\n",
        "split_size"
      ],
      "metadata": {
        "colab": {
          "base_uri": "https://localhost:8080/"
        },
        "id": "bDx4VYeaEx9b",
        "outputId": "a306f866-6970-449c-b404-5760d8bde297"
      },
      "execution_count": 15,
      "outputs": [
        {
          "output_type": "execute_result",
          "data": {
            "text/plain": [
              "3544"
            ]
          },
          "metadata": {},
          "execution_count": 15
        }
      ]
    },
    {
      "cell_type": "code",
      "source": [
        "X_train, y_train = timesteps[:split_size], prices[:split_size]\n",
        "\n",
        "X_test, y_test = timesteps[split_size:], prices[split_size:]\n",
        "\n",
        "len(X_train), len(X_test)"
      ],
      "metadata": {
        "colab": {
          "base_uri": "https://localhost:8080/"
        },
        "id": "zO_Y5HNoE7Y9",
        "outputId": "20dc6d72-090a-440d-824c-0bdcb7824b01"
      },
      "execution_count": 16,
      "outputs": [
        {
          "output_type": "execute_result",
          "data": {
            "text/plain": [
              "(3544, 887)"
            ]
          },
          "metadata": {},
          "execution_count": 16
        }
      ]
    },
    {
      "cell_type": "code",
      "source": [
        "# Plot correctly made splits\n",
        "plt.figure(figsize=(10, 7))\n",
        "plt.scatter(X_train, y_train, s=5, label=\"Train data\")\n",
        "plt.scatter(X_test, y_test, s=5, label=\"Test data\")\n",
        "plt.xlabel(\"Date\")\n",
        "plt.ylabel(\"Google Stock Price\")\n",
        "plt.legend(fontsize=14)\n",
        "plt.show();"
      ],
      "metadata": {
        "colab": {
          "base_uri": "https://localhost:8080/",
          "height": 442
        },
        "id": "8edchJBXFYW6",
        "outputId": "a16fa8fd-4cfe-4237-f49b-fd372f6b38c9"
      },
      "execution_count": 17,
      "outputs": [
        {
          "output_type": "display_data",
          "data": {
            "text/plain": [
              "<Figure size 720x504 with 1 Axes>"
            ],
            "image/png": "[encoded data removed]"
          },
          "metadata": {
            "needs_background": "light"
          }
        }
      ]
    },
    {
      "cell_type": "code",
      "source": [
        "# Create a function to plot time series data\n",
        "def plot_time_series(timesteps, values, format='.', start=0, end=None, label=None):\n",
        "  \"\"\"\n",
        "  Plots a timesteps (a series of points in time) against values (a series of values across timesteps).\n",
        "  \n",
        "  Parameters\n",
        "  ---------\n",
        "  timesteps : array of timesteps\n",
        "  values : array of values across time\n",
        "  format : style of plot, default \".\"\n",
        "  start : where to start the plot (setting a value will index from start of timesteps & values)\n",
        "  end : where to end the plot (setting a value will index from end of timesteps & values)\n",
        "  label : label to show on plot of values\n",
        "  \"\"\"\n",
        "  # Plot the series\n",
        "  plt.plot(timesteps[start:end], values[start:end], format, label=label)\n",
        "  plt.xlabel(\"Time\")\n",
        "  plt.ylabel(\"BTC Price\")\n",
        "  if label:\n",
        "    plt.legend(fontsize=14) # make label bigger\n",
        "  plt.grid(True)"
      ],
      "metadata": {
        "id": "IkMGcwj5Fwdt"
      },
      "execution_count": 18,
      "outputs": []
    },
    {
      "cell_type": "code",
      "source": [
        "plt.figure(figsize=(10, 7))\n",
        "plot_time_series(timesteps=X_train, values=y_train, label=\"Train data\")\n",
        "plot_time_series(timesteps=X_test, values=y_test, label=\"Test data\")"
      ],
      "metadata": {
        "colab": {
          "base_uri": "https://localhost:8080/",
          "height": 442
        },
        "id": "b4393O59Fw69",
        "outputId": "c0928064-5e4d-4d13-b473-49c7767bbb15"
      },
      "execution_count": 19,
      "outputs": [
        {
          "output_type": "display_data",
          "data": {
            "text/plain": [
              "<Figure size 720x504 with 1 Axes>"
            ],
            "image/png": "[encoded data removed]"
          },
          "metadata": {
            "needs_background": "light"
          }
        }
      ]
    },
    {
      "cell_type": "markdown",
      "source": [
        "# Model 0: Naive Forcast"
      ],
      "metadata": {
        "id": "00XP4mIQF9sd"
      }
    },
    {
      "cell_type": "code",
      "source": [
        "naive_forecast=y_test[:-1]"
      ],
      "metadata": {
        "id": "k3v7aU2rFzSJ"
      },
      "execution_count": 20,
      "outputs": []
    },
    {
      "cell_type": "code",
      "source": [
        "plt.figure(figsize=(10,8))\n",
        "plot_time_series(timesteps=X_train, values=y_train, label=\"X_train\")\n",
        "plot_time_series(timesteps=X_test, values=y_test, label=\"X_test\")\n",
        "plot_time_series(timesteps=X_test[1:], values = naive_forecast, format=\"-\", label=\"Prediction\")"
      ],
      "metadata": {
        "colab": {
          "base_uri": "https://localhost:8080/",
          "height": 497
        },
        "id": "PIibhZvnGPEA",
        "outputId": "0654a3b0-845b-434a-e80f-58ec96466784"
      },
      "execution_count": 21,
      "outputs": [
        {
          "output_type": "display_data",
          "data": {
            "text/plain": [
              "<Figure size 720x576 with 1 Axes>"
            ],
            "image/png": "[encoded data removed]"
          },
          "metadata": {
            "needs_background": "light"
          }
        }
      ]
    },
    {
      "cell_type": "code",
      "source": [
        "plt.figure(figsize=(10,8))\n",
        "offset=300\n",
        "plot_time_series(timesteps=X_test, values=y_test,start=offset, label=\"X_test\")\n",
        "plot_time_series(timesteps=X_test[1:], values = naive_forecast, start=offset, format=\"-\", label=\"Prediction\")"
      ],
      "metadata": {
        "colab": {
          "base_uri": "https://localhost:8080/",
          "height": 497
        },
        "id": "CrEwR5ueG2S1",
        "outputId": "51378407-a328-4af3-ec9f-6f758e91c268"
      },
      "execution_count": 22,
      "outputs": [
        {
          "output_type": "display_data",
          "data": {
            "text/plain": [
              "<Figure size 720x576 with 1 Axes>"
            ],
            "image/png": "[encoded data removed]"
          },
          "metadata": {
            "needs_background": "light"
          }
        }
      ]
    },
    {
      "cell_type": "code",
      "source": [
        "# MASE implemented courtesy of sktime - https://github.com/alan-turing-institute/sktime/blob/ee7a06843a44f4aaec7582d847e36073a9ab0566/sktime/performance_metrics/forecasting/_functions.py#L16\n",
        "def mean_absolute_scaled_error(y_true, y_pred):\n",
        "  \"\"\"\n",
        "  Implement MASE (assuming no seasonality of data).\n",
        "  \"\"\"\n",
        "  mae = tf.reduce_mean(tf.abs(y_true - y_pred))\n",
        "\n",
        "  # Find MAE of naive forecast (no seasonality)\n",
        "  mae_naive_no_season = tf.reduce_mean(tf.abs(y_true[1:] - y_true[:-1])) # our seasonality is 1 day (hence the shifting of 1 day)\n",
        "\n",
        "  return mae / mae_naive_no_season"
      ],
      "metadata": {
        "id": "6rWiRiUnHIQW"
      },
      "execution_count": 23,
      "outputs": []
    },
    {
      "cell_type": "code",
      "source": [
        "def evaluate_preds(y_true, y_pred):\n",
        "  # Make sure float32 (for metric calculations)\n",
        "  y_true = tf.cast(y_true, dtype=tf.float32)\n",
        "  y_pred = tf.cast(y_pred, dtype=tf.float32)\n",
        "\n",
        "  # Calculate various metrics\n",
        "  mae = tf.keras.metrics.mean_absolute_error(y_true, y_pred)\n",
        "  mse = tf.keras.metrics.mean_squared_error(y_true, y_pred) # puts and emphasis on outliers (all errors get squared)\n",
        "  rmse = tf.sqrt(mse)\n",
        "  mape = tf.keras.metrics.mean_absolute_percentage_error(y_true, y_pred)\n",
        "  mase = mean_absolute_scaled_error(y_true, y_pred)\n",
        "  \n",
        "  return {\"mae\": mae.numpy(),\n",
        "          \"mse\": mse.numpy(),\n",
        "          \"rmse\": rmse.numpy(),\n",
        "          \"mape\": mape.numpy(),\n",
        "          \"mase\": mase.numpy()}"
      ],
      "metadata": {
        "id": "VIpPFW1sHbXm"
      },
      "execution_count": 24,
      "outputs": []
    },
    {
      "cell_type": "code",
      "source": [
        "naive_results = evaluate_preds(y_true=y_test[1:],\n",
        "                               y_pred=naive_forecast)\n",
        "naive_results"
      ],
      "metadata": {
        "colab": {
          "base_uri": "https://localhost:8080/"
        },
        "id": "9d8HlBgxHdvi",
        "outputId": "40f5dc12-9fef-4811-8723-d55170409894"
      },
      "execution_count": 25,
      "outputs": [
        {
          "output_type": "execute_result",
          "data": {
            "text/plain": [
              "{'mae': 22.165747,\n",
              " 'mse': 1057.8799,\n",
              " 'rmse': 32.525063,\n",
              " 'mape': 1.3207381,\n",
              " 'mase': 0.99924177}"
            ]
          },
          "metadata": {},
          "execution_count": 25
        }
      ]
    },
    {
      "cell_type": "code",
      "source": [
        "tf.reduce_mean(y_test).numpy()"
      ],
      "metadata": {
        "colab": {
          "base_uri": "https://localhost:8080/"
        },
        "id": "oEYGBaW2Hf19",
        "outputId": "43cd97be-dad6-4d39-c72c-d250edf9dfe2"
      },
      "execution_count": 26,
      "outputs": [
        {
          "output_type": "execute_result",
          "data": {
            "text/plain": [
              "1730.2109131352875"
            ]
          },
          "metadata": {},
          "execution_count": 26
        }
      ]
    },
    {
      "cell_type": "code",
      "source": [
        "HORIZON = 1 # predict 1 step at a time\n",
        "WINDOW_SIZE = 7 # use a week worth of timesteps to predict the horizon"
      ],
      "metadata": {
        "id": "RhYdex9VHnrZ"
      },
      "execution_count": 27,
      "outputs": []
    },
    {
      "cell_type": "code",
      "source": [
        "# Create function to label windowed data\n",
        "def get_labelled_windows(x, horizon=1):\n",
        "  \"\"\"\n",
        "  Creates labels for windowed dataset.\n",
        "\n",
        "  E.g. if horizon=1 (default)\n",
        "  Input: [1, 2, 3, 4, 5, 6] -> Output: ([1, 2, 3, 4, 5], [6])\n",
        "  \"\"\"\n",
        "  return x[:, :-horizon], x[:, -horizon:]"
      ],
      "metadata": {
        "id": "idY-GjGikcwH"
      },
      "execution_count": 28,
      "outputs": []
    },
    {
      "cell_type": "code",
      "source": [
        "test_window, test_label = get_labelled_windows(tf.expand_dims(tf.range(8)+1, axis=0), horizon=HORIZON)\n",
        "print(f\"Window: {tf.squeeze(test_window).numpy()} -> Label: {tf.squeeze(test_label).numpy()}\")"
      ],
      "metadata": {
        "id": "A3O7ZPEHkfkh",
        "outputId": "bc3b3f23-f2f8-4501-82cb-89438557dd36",
        "colab": {
          "base_uri": "https://localhost:8080/"
        }
      },
      "execution_count": 29,
      "outputs": [
        {
          "output_type": "stream",
          "name": "stdout",
          "text": [
            "Window: [1 2 3 4 5 6 7] -> Label: 8\n"
          ]
        }
      ]
    },
    {
      "cell_type": "code",
      "source": [
        "# Create function to view NumPy arrays as windows \n",
        "def make_windows(x, window_size=7, horizon=1):\n",
        "  \"\"\"\n",
        "  Turns a 1D array into a 2D array of sequential windows of window_size.\n",
        "  \"\"\"\n",
        "  # 1. Create a window of specific window_size (add the horizon on the end for later labelling)\n",
        "  window_step = np.expand_dims(np.arange(window_size+horizon), axis=0)\n",
        "  # print(f\"Window step:\\n {window_step}\")\n",
        "\n",
        "  # 2. Create a 2D array of multiple window steps (minus 1 to account for 0 indexing)\n",
        "  window_indexes = window_step + np.expand_dims(np.arange(len(x)-(window_size+horizon-1)), axis=0).T # create 2D array of windows of size window_size\n",
        "  # print(f\"Window indexes:\\n {window_indexes[:3], window_indexes[-3:], window_indexes.shape}\")\n",
        "\n",
        "  # 3. Index on the target array (time series) with 2D array of multiple window steps\n",
        "  windowed_array = x[window_indexes]\n",
        "\n",
        "  # 4. Get the labelled windows\n",
        "  windows, labels = get_labelled_windows(windowed_array, horizon=horizon)\n",
        "\n",
        "  return windows, labels\n"
      ],
      "metadata": {
        "id": "XoXuX3bAk3OG"
      },
      "execution_count": 32,
      "outputs": []
    },
    {
      "cell_type": "code",
      "source": [
        "full_windows, full_labels = make_windows(prices, window_size=WINDOW_SIZE, horizon=HORIZON)\n",
        "len(full_windows), len(full_labels)"
      ],
      "metadata": {
        "id": "YzDO56o4lVFA",
        "outputId": "1055daa4-c244-4d0a-8738-61310bb54166",
        "colab": {
          "base_uri": "https://localhost:8080/"
        }
      },
      "execution_count": 33,
      "outputs": [
        {
          "output_type": "execute_result",
          "data": {
            "text/plain": [
              "(4424, 4424)"
            ]
          },
          "metadata": {},
          "execution_count": 33
        }
      ]
    },
    {
      "cell_type": "code",
      "source": [
        "# Make the train/test splits\n",
        "def make_train_test_splits(windows, labels, test_split=0.2):\n",
        "  \"\"\"\n",
        "  Splits matching pairs of windows and labels into train and test splits.\n",
        "  \"\"\"\n",
        "  split_size = int(len(windows) * (1-test_split)) # this will default to 80% train/20% test\n",
        "  train_windows = windows[:split_size]\n",
        "  train_labels = labels[:split_size]\n",
        "  test_windows = windows[split_size:]\n",
        "  test_labels = labels[split_size:]\n",
        "  return train_windows, test_windows, train_labels, test_labels"
      ],
      "metadata": {
        "id": "gqwJenhXlYnK"
      },
      "execution_count": 34,
      "outputs": []
    },
    {
      "cell_type": "code",
      "source": [
        "train_windows, test_windows, train_labels, test_labels = make_train_test_splits(full_windows, full_labels)\n",
        "len(train_windows), len(test_windows), len(train_labels), len(test_labels)"
      ],
      "metadata": {
        "id": "1AiOawF7l2XK",
        "outputId": "0b9e8d77-0d5a-4cf0-e712-63e0367455ea",
        "colab": {
          "base_uri": "https://localhost:8080/"
        }
      },
      "execution_count": 35,
      "outputs": [
        {
          "output_type": "execute_result",
          "data": {
            "text/plain": [
              "(3539, 885, 3539, 885)"
            ]
          },
          "metadata": {},
          "execution_count": 35
        }
      ]
    },
    {
      "cell_type": "code",
      "source": [
        "np.array_equal(np.squeeze(train_labels[:-HORIZON-1]), y_train[WINDOW_SIZE:])"
      ],
      "metadata": {
        "id": "T1CP_OgLl5JW",
        "outputId": "1af36abf-66b7-4440-8249-9bdab59766a4",
        "colab": {
          "base_uri": "https://localhost:8080/"
        }
      },
      "execution_count": 36,
      "outputs": [
        {
          "output_type": "execute_result",
          "data": {
            "text/plain": [
              "True"
            ]
          },
          "metadata": {},
          "execution_count": 36
        }
      ]
    },
    {
      "cell_type": "code",
      "source": [
        "import os\n",
        "\n",
        "# Create a function to implement a ModelCheckpoint callback with a specific filename \n",
        "def create_model_checkpoint(model_name, save_path=\"model_experiments\"):\n",
        "  return tf.keras.callbacks.ModelCheckpoint(filepath=os.path.join(save_path, model_name), # create filepath to save model\n",
        "                                            verbose=0, # only output a limited amount of text\n",
        "                                            save_best_only=True) # s"
      ],
      "metadata": {
        "id": "BQuxbXuYl8Iu"
      },
      "execution_count": 37,
      "outputs": []
    },
    {
      "cell_type": "markdown",
      "source": [
        "# Model 1: Dense Model(Window=7, horizon=1)"
      ],
      "metadata": {
        "id": "QyFC328Rq7gL"
      }
    },
    {
      "cell_type": "code",
      "source": [
        "import tensorflow as tf\n",
        "from tensorflow.keras import layers\n",
        "\n",
        "# Set random seed for as reproducible results as possible\n",
        "tf.random.set_seed(42)\n",
        "\n",
        "# Construct model\n",
        "model_1 = tf.keras.Sequential([\n",
        "  layers.Dense(128, activation=\"relu\"),\n",
        "  layers.Dense(HORIZON, activation=\"linear\") # linear activation is the same as having no activation                        \n",
        "], name=\"model_1_dense\") # give the model a name so we can save it\n",
        "\n",
        "# Compile model\n",
        "model_1.compile(loss=\"mae\",\n",
        "                optimizer=tf.keras.optimizers.Adam(),\n",
        "                metrics=[\"mae\"]) # we don't necessarily need this when the loss function is already MAE\n",
        "\n",
        "# Fit model\n",
        "model_1.fit(x=train_windows, # train windows of 7 timesteps of Bitcoin prices\n",
        "            y=train_labels, # horizon value of 1 (using the previous 7 timesteps to predict next day)\n",
        "            epochs=100,\n",
        "            verbose=1,\n",
        "            batch_size=128,\n",
        "            validation_data=(test_windows, test_labels),\n",
        "            callbacks=[create_model_checkpoint(model_name=model_1.name)]) "
      ],
      "metadata": {
        "id": "lJuBMMpvq3tg",
        "outputId": "96521d32-2f94-4dec-dd28-3c86c4209913",
        "colab": {
          "base_uri": "https://localhost:8080/"
        }
      },
      "execution_count": 45,
      "outputs": [
        {
          "output_type": "stream",
          "name": "stdout",
          "text": [
            "Epoch 1/100\n",
            "28/28 [==============================] - 1s 21ms/step - loss: 73.7915 - mae: 73.7915 - val_loss: 95.5759 - val_mae: 95.5759\n",
            "Epoch 2/100\n",
            "28/28 [==============================] - 0s 18ms/step - loss: 12.0586 - mae: 12.0586 - val_loss: 41.3003 - val_mae: 41.3003\n",
            "Epoch 3/100\n",
            "28/28 [==============================] - 0s 17ms/step - loss: 8.7218 - mae: 8.7218 - val_loss: 33.4671 - val_mae: 33.4671\n",
            "Epoch 4/100\n",
            "28/28 [==============================] - 0s 4ms/step - loss: 8.4094 - mae: 8.4094 - val_loss: 33.5891 - val_mae: 33.5891\n",
            "Epoch 5/100\n",
            "28/28 [==============================] - 1s 18ms/step - loss: 8.4313 - mae: 8.4313 - val_loss: 32.7008 - val_mae: 32.7008\n",
            "Epoch 6/100\n",
            "28/28 [==============================] - 0s 4ms/step - loss: 8.2476 - mae: 8.2476 - val_loss: 33.1221 - val_mae: 33.1221\n",
            "Epoch 7/100\n",
            "28/28 [==============================] - 1s 26ms/step - loss: 8.0797 - mae: 8.0797 - val_loss: 32.1050 - val_mae: 32.1050\n",
            "Epoch 8/100\n",
            "28/28 [==============================] - 0s 4ms/step - loss: 8.1853 - mae: 8.1853 - val_loss: 32.1565 - val_mae: 32.1565\n",
            "Epoch 9/100\n",
            "28/28 [==============================] - 1s 33ms/step - loss: 8.3051 - mae: 8.3051 - val_loss: 31.4225 - val_mae: 31.4225\n",
            "Epoch 10/100\n",
            "28/28 [==============================] - 1s 51ms/step - loss: 8.6228 - mae: 8.6228 - val_loss: 31.0978 - val_mae: 31.0978\n",
            "Epoch 11/100\n",
            "28/28 [==============================] - 0s 6ms/step - loss: 7.8261 - mae: 7.8261 - val_loss: 34.9247 - val_mae: 34.9247\n",
            "Epoch 12/100\n",
            "28/28 [==============================] - 1s 37ms/step - loss: 7.7370 - mae: 7.7370 - val_loss: 30.4762 - val_mae: 30.4762\n",
            "Epoch 13/100\n",
            "28/28 [==============================] - 1s 45ms/step - loss: 7.5584 - mae: 7.5584 - val_loss: 30.1735 - val_mae: 30.1735\n",
            "Epoch 14/100\n",
            "28/28 [==============================] - 0s 7ms/step - loss: 7.4645 - mae: 7.4645 - val_loss: 31.0022 - val_mae: 31.0022\n",
            "Epoch 15/100\n",
            "28/28 [==============================] - 0s 12ms/step - loss: 7.3775 - mae: 7.3775 - val_loss: 30.2755 - val_mae: 30.2755\n",
            "Epoch 16/100\n",
            "28/28 [==============================] - 0s 6ms/step - loss: 7.3987 - mae: 7.3987 - val_loss: 32.8629 - val_mae: 32.8629\n",
            "Epoch 17/100\n",
            "28/28 [==============================] - 0s 8ms/step - loss: 7.6767 - mae: 7.6767 - val_loss: 33.2475 - val_mae: 33.2475\n",
            "Epoch 18/100\n",
            "28/28 [==============================] - 1s 48ms/step - loss: 7.2830 - mae: 7.2830 - val_loss: 29.4072 - val_mae: 29.4072\n",
            "Epoch 19/100\n",
            "28/28 [==============================] - 1s 38ms/step - loss: 7.2065 - mae: 7.2065 - val_loss: 28.9190 - val_mae: 28.9190\n",
            "Epoch 20/100\n",
            "28/28 [==============================] - 0s 8ms/step - loss: 7.4708 - mae: 7.4708 - val_loss: 31.4804 - val_mae: 31.4804\n",
            "Epoch 21/100\n",
            "28/28 [==============================] - 0s 9ms/step - loss: 7.7493 - mae: 7.7493 - val_loss: 33.4493 - val_mae: 33.4493\n",
            "Epoch 22/100\n",
            "28/28 [==============================] - 1s 40ms/step - loss: 7.0374 - mae: 7.0374 - val_loss: 27.7670 - val_mae: 27.7670\n",
            "Epoch 23/100\n",
            "28/28 [==============================] - 0s 6ms/step - loss: 6.6965 - mae: 6.6965 - val_loss: 28.0237 - val_mae: 28.0237\n",
            "Epoch 24/100\n",
            "28/28 [==============================] - 0s 4ms/step - loss: 6.6471 - mae: 6.6471 - val_loss: 28.9845 - val_mae: 28.9845\n",
            "Epoch 25/100\n",
            "28/28 [==============================] - 0s 4ms/step - loss: 7.8400 - mae: 7.8400 - val_loss: 31.6761 - val_mae: 31.6761\n",
            "Epoch 26/100\n",
            "28/28 [==============================] - 0s 18ms/step - loss: 7.0654 - mae: 7.0654 - val_loss: 27.2759 - val_mae: 27.2759\n",
            "Epoch 27/100\n",
            "28/28 [==============================] - 0s 17ms/step - loss: 6.6771 - mae: 6.6771 - val_loss: 26.7098 - val_mae: 26.7098\n",
            "Epoch 28/100\n",
            "28/28 [==============================] - 0s 17ms/step - loss: 6.5316 - mae: 6.5316 - val_loss: 26.4336 - val_mae: 26.4336\n",
            "Epoch 29/100\n",
            "28/28 [==============================] - 0s 4ms/step - loss: 6.6086 - mae: 6.6086 - val_loss: 29.7766 - val_mae: 29.7766\n",
            "Epoch 30/100\n",
            "28/28 [==============================] - 0s 4ms/step - loss: 6.5402 - mae: 6.5402 - val_loss: 27.5039 - val_mae: 27.5039\n",
            "Epoch 31/100\n",
            "28/28 [==============================] - 0s 18ms/step - loss: 6.2924 - mae: 6.2924 - val_loss: 25.9916 - val_mae: 25.9916\n",
            "Epoch 32/100\n",
            "28/28 [==============================] - 0s 4ms/step - loss: 6.1537 - mae: 6.1537 - val_loss: 26.0754 - val_mae: 26.0754\n",
            "Epoch 33/100\n",
            "28/28 [==============================] - 0s 4ms/step - loss: 6.2870 - mae: 6.2870 - val_loss: 27.5044 - val_mae: 27.5044\n",
            "Epoch 34/100\n",
            "28/28 [==============================] - 0s 4ms/step - loss: 6.3947 - mae: 6.3947 - val_loss: 27.1447 - val_mae: 27.1447\n",
            "Epoch 35/100\n",
            "28/28 [==============================] - 0s 18ms/step - loss: 6.0258 - mae: 6.0258 - val_loss: 25.4040 - val_mae: 25.4040\n",
            "Epoch 36/100\n",
            "28/28 [==============================] - 0s 4ms/step - loss: 6.0654 - mae: 6.0654 - val_loss: 26.7912 - val_mae: 26.7912\n",
            "Epoch 37/100\n",
            "28/28 [==============================] - 0s 4ms/step - loss: 5.9882 - mae: 5.9882 - val_loss: 25.4951 - val_mae: 25.4951\n",
            "Epoch 38/100\n",
            "28/28 [==============================] - 0s 4ms/step - loss: 5.8609 - mae: 5.8609 - val_loss: 25.5062 - val_mae: 25.5062\n",
            "Epoch 39/100\n",
            "28/28 [==============================] - 0s 4ms/step - loss: 6.2881 - mae: 6.2881 - val_loss: 25.7987 - val_mae: 25.7987\n",
            "Epoch 40/100\n",
            "28/28 [==============================] - 0s 4ms/step - loss: 6.6960 - mae: 6.6960 - val_loss: 26.6509 - val_mae: 26.6509\n",
            "Epoch 41/100\n",
            "28/28 [==============================] - 1s 19ms/step - loss: 6.5082 - mae: 6.5082 - val_loss: 24.7793 - val_mae: 24.7793\n",
            "Epoch 42/100\n",
            "28/28 [==============================] - 0s 4ms/step - loss: 6.0963 - mae: 6.0963 - val_loss: 26.0464 - val_mae: 26.0464\n",
            "Epoch 43/100\n",
            "28/28 [==============================] - 0s 4ms/step - loss: 5.9158 - mae: 5.9158 - val_loss: 26.2138 - val_mae: 26.2138\n",
            "Epoch 44/100\n",
            "28/28 [==============================] - 0s 4ms/step - loss: 5.7737 - mae: 5.7737 - val_loss: 25.2232 - val_mae: 25.2232\n",
            "Epoch 45/100\n",
            "28/28 [==============================] - 1s 26ms/step - loss: 5.6774 - mae: 5.6774 - val_loss: 24.4318 - val_mae: 24.4318\n",
            "Epoch 46/100\n",
            "28/28 [==============================] - 0s 4ms/step - loss: 5.6397 - mae: 5.6397 - val_loss: 25.1307 - val_mae: 25.1307\n",
            "Epoch 47/100\n",
            "28/28 [==============================] - 0s 4ms/step - loss: 5.6009 - mae: 5.6009 - val_loss: 25.0437 - val_mae: 25.0437\n",
            "Epoch 48/100\n",
            "28/28 [==============================] - 0s 4ms/step - loss: 5.8521 - mae: 5.8521 - val_loss: 24.8446 - val_mae: 24.8446\n",
            "Epoch 49/100\n",
            "28/28 [==============================] - 1s 18ms/step - loss: 5.7907 - mae: 5.7907 - val_loss: 24.1876 - val_mae: 24.1876\n",
            "Epoch 50/100\n",
            "28/28 [==============================] - 0s 4ms/step - loss: 6.1642 - mae: 6.1642 - val_loss: 25.3384 - val_mae: 25.3384\n",
            "Epoch 51/100\n",
            "28/28 [==============================] - 0s 4ms/step - loss: 5.7584 - mae: 5.7584 - val_loss: 26.4287 - val_mae: 26.4287\n",
            "Epoch 52/100\n",
            "28/28 [==============================] - 1s 18ms/step - loss: 5.5076 - mae: 5.5076 - val_loss: 24.0956 - val_mae: 24.0956\n",
            "Epoch 53/100\n",
            "28/28 [==============================] - 0s 4ms/step - loss: 5.7344 - mae: 5.7344 - val_loss: 26.6920 - val_mae: 26.6920\n",
            "Epoch 54/100\n",
            "28/28 [==============================] - 0s 3ms/step - loss: 6.0177 - mae: 6.0177 - val_loss: 24.2840 - val_mae: 24.2840\n",
            "Epoch 55/100\n",
            "28/28 [==============================] - 0s 18ms/step - loss: 5.7471 - mae: 5.7471 - val_loss: 23.9555 - val_mae: 23.9555\n",
            "Epoch 56/100\n",
            "28/28 [==============================] - 1s 18ms/step - loss: 5.4044 - mae: 5.4044 - val_loss: 23.8368 - val_mae: 23.8368\n",
            "Epoch 57/100\n",
            "28/28 [==============================] - 0s 4ms/step - loss: 5.5160 - mae: 5.5160 - val_loss: 24.2707 - val_mae: 24.2707\n",
            "Epoch 58/100\n",
            "28/28 [==============================] - 0s 3ms/step - loss: 5.8994 - mae: 5.8994 - val_loss: 27.7780 - val_mae: 27.7780\n",
            "Epoch 59/100\n",
            "28/28 [==============================] - 1s 18ms/step - loss: 5.6622 - mae: 5.6622 - val_loss: 23.7511 - val_mae: 23.7511\n",
            "Epoch 60/100\n",
            "28/28 [==============================] - 0s 18ms/step - loss: 5.5610 - mae: 5.5610 - val_loss: 23.6933 - val_mae: 23.6933\n",
            "Epoch 61/100\n",
            "28/28 [==============================] - 0s 4ms/step - loss: 5.5077 - mae: 5.5077 - val_loss: 25.9013 - val_mae: 25.9013\n",
            "Epoch 62/100\n",
            "28/28 [==============================] - 0s 4ms/step - loss: 5.4925 - mae: 5.4925 - val_loss: 24.4117 - val_mae: 24.4117\n",
            "Epoch 63/100\n",
            "28/28 [==============================] - 0s 4ms/step - loss: 5.7515 - mae: 5.7515 - val_loss: 27.1978 - val_mae: 27.1978\n",
            "Epoch 64/100\n",
            "28/28 [==============================] - 0s 18ms/step - loss: 5.6886 - mae: 5.6886 - val_loss: 23.6391 - val_mae: 23.6391\n",
            "Epoch 65/100\n",
            "28/28 [==============================] - 0s 4ms/step - loss: 5.6768 - mae: 5.6768 - val_loss: 25.3508 - val_mae: 25.3508\n",
            "Epoch 66/100\n",
            "28/28 [==============================] - 0s 4ms/step - loss: 5.7350 - mae: 5.7350 - val_loss: 29.7018 - val_mae: 29.7018\n",
            "Epoch 67/100\n",
            "28/28 [==============================] - 0s 4ms/step - loss: 5.6128 - mae: 5.6128 - val_loss: 24.4970 - val_mae: 24.4970\n",
            "Epoch 68/100\n",
            "28/28 [==============================] - 0s 3ms/step - loss: 5.3527 - mae: 5.3527 - val_loss: 24.3810 - val_mae: 24.3810\n",
            "Epoch 69/100\n",
            "28/28 [==============================] - 0s 3ms/step - loss: 5.4070 - mae: 5.4070 - val_loss: 24.8253 - val_mae: 24.8253\n",
            "Epoch 70/100\n",
            "28/28 [==============================] - 0s 17ms/step - loss: 5.3705 - mae: 5.3705 - val_loss: 23.6138 - val_mae: 23.6138\n",
            "Epoch 71/100\n",
            "28/28 [==============================] - 0s 4ms/step - loss: 5.2627 - mae: 5.2627 - val_loss: 24.2789 - val_mae: 24.2789\n",
            "Epoch 72/100\n",
            "28/28 [==============================] - 0s 4ms/step - loss: 5.4222 - mae: 5.4222 - val_loss: 24.6335 - val_mae: 24.6335\n",
            "Epoch 73/100\n",
            "28/28 [==============================] - 0s 4ms/step - loss: 5.5289 - mae: 5.5289 - val_loss: 28.7893 - val_mae: 28.7893\n",
            "Epoch 74/100\n",
            "28/28 [==============================] - 0s 4ms/step - loss: 5.5959 - mae: 5.5959 - val_loss: 24.8142 - val_mae: 24.8142\n",
            "Epoch 75/100\n",
            "28/28 [==============================] - 0s 18ms/step - loss: 5.6893 - mae: 5.6893 - val_loss: 23.5788 - val_mae: 23.5788\n",
            "Epoch 76/100\n",
            "28/28 [==============================] - 0s 4ms/step - loss: 5.3524 - mae: 5.3524 - val_loss: 23.7409 - val_mae: 23.7409\n",
            "Epoch 77/100\n",
            "28/28 [==============================] - 0s 4ms/step - loss: 5.4410 - mae: 5.4410 - val_loss: 23.7201 - val_mae: 23.7201\n",
            "Epoch 78/100\n",
            "28/28 [==============================] - 0s 18ms/step - loss: 5.2338 - mae: 5.2338 - val_loss: 23.2733 - val_mae: 23.2733\n",
            "Epoch 79/100\n",
            "28/28 [==============================] - 0s 4ms/step - loss: 5.2447 - mae: 5.2447 - val_loss: 29.0849 - val_mae: 29.0849\n",
            "Epoch 80/100\n",
            "28/28 [==============================] - 0s 18ms/step - loss: 5.6848 - mae: 5.6848 - val_loss: 23.1605 - val_mae: 23.1605\n",
            "Epoch 81/100\n",
            "28/28 [==============================] - 0s 4ms/step - loss: 5.7888 - mae: 5.7888 - val_loss: 24.1277 - val_mae: 24.1277\n",
            "Epoch 82/100\n",
            "28/28 [==============================] - 0s 4ms/step - loss: 5.5882 - mae: 5.5882 - val_loss: 26.8107 - val_mae: 26.8107\n",
            "Epoch 83/100\n",
            "28/28 [==============================] - 0s 4ms/step - loss: 5.8335 - mae: 5.8335 - val_loss: 24.6022 - val_mae: 24.6022\n",
            "Epoch 84/100\n",
            "28/28 [==============================] - 0s 18ms/step - loss: 5.2035 - mae: 5.2035 - val_loss: 23.0969 - val_mae: 23.0969\n",
            "Epoch 85/100\n",
            "28/28 [==============================] - 0s 18ms/step - loss: 5.1494 - mae: 5.1494 - val_loss: 23.0765 - val_mae: 23.0765\n",
            "Epoch 86/100\n",
            "28/28 [==============================] - 0s 4ms/step - loss: 5.2384 - mae: 5.2384 - val_loss: 27.7143 - val_mae: 27.7143\n",
            "Epoch 87/100\n",
            "28/28 [==============================] - 0s 17ms/step - loss: 5.8973 - mae: 5.8973 - val_loss: 23.0640 - val_mae: 23.0640\n",
            "Epoch 88/100\n",
            "28/28 [==============================] - 0s 4ms/step - loss: 5.3184 - mae: 5.3184 - val_loss: 24.4831 - val_mae: 24.4831\n",
            "Epoch 89/100\n",
            "28/28 [==============================] - 1s 25ms/step - loss: 5.2974 - mae: 5.2974 - val_loss: 23.0114 - val_mae: 23.0114\n",
            "Epoch 90/100\n",
            "28/28 [==============================] - 0s 4ms/step - loss: 5.8111 - mae: 5.8111 - val_loss: 23.0812 - val_mae: 23.0812\n",
            "Epoch 91/100\n",
            "28/28 [==============================] - 0s 3ms/step - loss: 5.8823 - mae: 5.8823 - val_loss: 27.7478 - val_mae: 27.7478\n",
            "Epoch 92/100\n",
            "28/28 [==============================] - 0s 18ms/step - loss: 5.2381 - mae: 5.2381 - val_loss: 22.9798 - val_mae: 22.9798\n",
            "Epoch 93/100\n",
            "28/28 [==============================] - 0s 18ms/step - loss: 5.1022 - mae: 5.1022 - val_loss: 22.9647 - val_mae: 22.9647\n",
            "Epoch 94/100\n",
            "28/28 [==============================] - 0s 4ms/step - loss: 5.1486 - mae: 5.1486 - val_loss: 22.9728 - val_mae: 22.9728\n",
            "Epoch 95/100\n",
            "28/28 [==============================] - 0s 4ms/step - loss: 5.1570 - mae: 5.1570 - val_loss: 23.1566 - val_mae: 23.1566\n",
            "Epoch 96/100\n",
            "28/28 [==============================] - 0s 4ms/step - loss: 5.2375 - mae: 5.2375 - val_loss: 23.1366 - val_mae: 23.1366\n",
            "Epoch 97/100\n",
            "28/28 [==============================] - 0s 4ms/step - loss: 5.2844 - mae: 5.2844 - val_loss: 23.0647 - val_mae: 23.0647\n",
            "Epoch 98/100\n",
            "28/28 [==============================] - 0s 4ms/step - loss: 5.3205 - mae: 5.3205 - val_loss: 26.1285 - val_mae: 26.1285\n",
            "Epoch 99/100\n",
            "28/28 [==============================] - 0s 4ms/step - loss: 5.1603 - mae: 5.1603 - val_loss: 24.0232 - val_mae: 24.0232\n",
            "Epoch 100/100\n",
            "28/28 [==============================] - 0s 18ms/step - loss: 5.2053 - mae: 5.2053 - val_loss: 22.9370 - val_mae: 22.9370\n"
          ]
        },
        {
          "output_type": "execute_result",
          "data": {
            "text/plain": [
              "<keras.callbacks.History at 0x7f9814836a50>"
            ]
          },
          "metadata": {},
          "execution_count": 45
        }
      ]
    },
    {
      "cell_type": "code",
      "source": [
        "# Evaluate model on test data\n",
        "model_1.evaluate(test_windows, test_labels)"
      ],
      "metadata": {
        "id": "RVV1X6qOrEdx",
        "outputId": "d7048652-6064-4f32-9ccd-8cf20e7dd811",
        "colab": {
          "base_uri": "https://localhost:8080/"
        }
      },
      "execution_count": 46,
      "outputs": [
        {
          "output_type": "stream",
          "name": "stdout",
          "text": [
            "28/28 [==============================] - 0s 2ms/step - loss: 22.9370 - mae: 22.9370\n"
          ]
        },
        {
          "output_type": "execute_result",
          "data": {
            "text/plain": [
              "[22.937040328979492, 22.937040328979492]"
            ]
          },
          "metadata": {},
          "execution_count": 46
        }
      ]
    },
    {
      "cell_type": "code",
      "source": [
        "# Load in saved best performing model_1 and evaluate on test data\n",
        "model_1 = tf.keras.models.load_model(\"model_experiments/model_1_dense\")\n",
        "model_1.evaluate(test_windows, test_labels)"
      ],
      "metadata": {
        "id": "0TgWGuJUrQwx",
        "outputId": "63c7f50e-98b0-4a44-b903-4efc8b8f704f",
        "colab": {
          "base_uri": "https://localhost:8080/"
        }
      },
      "execution_count": 47,
      "outputs": [
        {
          "output_type": "stream",
          "name": "stdout",
          "text": [
            "28/28 [==============================] - 0s 2ms/step - loss: 22.9370 - mae: 22.9370\n"
          ]
        },
        {
          "output_type": "execute_result",
          "data": {
            "text/plain": [
              "[22.937040328979492, 22.937040328979492]"
            ]
          },
          "metadata": {},
          "execution_count": 47
        }
      ]
    },
    {
      "cell_type": "code",
      "source": [
        "def make_preds(model, input_data):\n",
        "  \"\"\"\n",
        "  Uses model to make predictions on input_data.\n",
        "\n",
        "  Parameters\n",
        "  ----------\n",
        "  model: trained model \n",
        "  input_data: windowed input data (same kind of data model was trained on)\n",
        "\n",
        "  Returns model predictions on input_data.\n",
        "  \"\"\"\n",
        "  forecast = model.predict(input_data)\n",
        "  return tf.squeeze(forecast) # return 1D array of predictions"
      ],
      "metadata": {
        "id": "5CXmgwmGrTVO"
      },
      "execution_count": 48,
      "outputs": []
    },
    {
      "cell_type": "code",
      "source": [
        "# Make predictions using model_1 on the test dataset and view the results\n",
        "model_1_preds = make_preds(model_1, test_windows)\n",
        "len(model_1_preds), model_1_preds[:10]"
      ],
      "metadata": {
        "id": "saMGyCcSrXG7",
        "outputId": "bcf99701-2c64-431b-ad26-d5730f30681b",
        "colab": {
          "base_uri": "https://localhost:8080/"
        }
      },
      "execution_count": 49,
      "outputs": [
        {
          "output_type": "stream",
          "name": "stdout",
          "text": [
            "28/28 [==============================] - 0s 1ms/step\n"
          ]
        },
        {
          "output_type": "execute_result",
          "data": {
            "text/plain": [
              "(885, <tf.Tensor: shape=(10,), dtype=float32, numpy=\n",
              " array([1168.4681, 1176.2637, 1190.1562, 1182.5453, 1183.8976, 1192.9911,\n",
              "        1197.1638, 1208.0782, 1212.973 , 1212.329 ], dtype=float32)>)"
            ]
          },
          "metadata": {},
          "execution_count": 49
        }
      ]
    },
    {
      "cell_type": "code",
      "source": [
        "# Evaluate preds\n",
        "model_1_results = evaluate_preds(y_true=tf.squeeze(test_labels), # reduce to right shape\n",
        "                                 y_pred=model_1_preds)\n",
        "model_1_results"
      ],
      "metadata": {
        "id": "XvwQeZIsrZt-",
        "outputId": "3a6298f0-2ed8-4a16-b5af-394b246d2379",
        "colab": {
          "base_uri": "https://localhost:8080/"
        }
      },
      "execution_count": 50,
      "outputs": [
        {
          "output_type": "execute_result",
          "data": {
            "text/plain": [
              "{'mae': 22.93704,\n",
              " 'mse': 1107.4034,\n",
              " 'rmse': 33.27767,\n",
              " 'mape': 1.3551556,\n",
              " 'mase': 1.0332205}"
            ]
          },
          "metadata": {},
          "execution_count": 50
        }
      ]
    },
    {
      "cell_type": "code",
      "source": [
        "naive_results"
      ],
      "metadata": {
        "id": "59coIh8xrnJL",
        "outputId": "b55398ea-7a03-45f5-87a9-f87afae0cc7e",
        "colab": {
          "base_uri": "https://localhost:8080/"
        }
      },
      "execution_count": 51,
      "outputs": [
        {
          "output_type": "execute_result",
          "data": {
            "text/plain": [
              "{'mae': 22.165747,\n",
              " 'mse': 1057.8799,\n",
              " 'rmse': 32.525063,\n",
              " 'mape': 1.3207381,\n",
              " 'mase': 0.99924177}"
            ]
          },
          "metadata": {},
          "execution_count": 51
        }
      ]
    },
    {
      "cell_type": "markdown",
      "source": [
        "# Model 2: Dense (window = 30, horizon = 1)"
      ],
      "metadata": {
        "id": "5PnuZ2SGr3lU"
      }
    },
    {
      "cell_type": "code",
      "source": [
        "HORIZON = 1 # predict one step at a time\n",
        "WINDOW_SIZE = 30 # use 30 timesteps in the past"
      ],
      "metadata": {
        "id": "KX_TfEx5rliX"
      },
      "execution_count": 51,
      "outputs": []
    },
    {
      "cell_type": "code",
      "source": [
        "# Make windowed data with appropriate horizon and window sizes\n",
        "full_windows, full_labels = make_windows(prices, window_size=30, horizon=1)\n",
        "len(full_windows), len(full_labels)"
      ],
      "metadata": {
        "id": "Uf9htFW_sDi5",
        "outputId": "e0bfe41f-ade4-480f-bdf8-2aa3bb8148c6",
        "colab": {
          "base_uri": "https://localhost:8080/"
        }
      },
      "execution_count": 59,
      "outputs": [
        {
          "output_type": "execute_result",
          "data": {
            "text/plain": [
              "(4401, 4401)"
            ]
          },
          "metadata": {},
          "execution_count": 59
        }
      ]
    },
    {
      "cell_type": "code",
      "source": [
        "# Make train and testing windows\n",
        "train_windows, test_windows, train_labels, test_labels = make_train_test_splits(windows=full_windows, labels=full_labels)\n",
        "len(train_windows), len(test_windows), len(train_labels), len(test_labels)"
      ],
      "metadata": {
        "id": "lpf6IlvIsF0f",
        "outputId": "324940e7-a423-483f-c7c9-66bdb34cb13b",
        "colab": {
          "base_uri": "https://localhost:8080/"
        }
      },
      "execution_count": 60,
      "outputs": [
        {
          "output_type": "execute_result",
          "data": {
            "text/plain": [
              "(3520, 881, 3520, 881)"
            ]
          },
          "metadata": {},
          "execution_count": 60
        }
      ]
    },
    {
      "cell_type": "code",
      "source": [
        "tf.random.set_seed(42)\n",
        "\n",
        "# Create model (same model as model 1 but data input will be different)\n",
        "model_2 = tf.keras.Sequential([\n",
        "  layers.Dense(128, activation=\"relu\"),\n",
        "  layers.Dense(HORIZON) # need to predict horizon number of steps into the future\n",
        "], name=\"model_2_dense\")\n",
        "\n",
        "model_2.compile(loss=\"mae\",\n",
        "                optimizer=tf.keras.optimizers.Adam())\n",
        "\n",
        "model_2.fit(train_windows,\n",
        "            train_labels,\n",
        "            epochs=100,\n",
        "            batch_size=128,\n",
        "            verbose=0,\n",
        "            validation_data=(test_windows, test_labels),\n",
        "            callbacks=[create_model_checkpoint(model_name=model_2.name)])"
      ],
      "metadata": {
        "id": "k1mXqWUzsIX9",
        "outputId": "a24e0773-cfe7-4953-b1e0-6e056f65c685",
        "colab": {
          "base_uri": "https://localhost:8080/"
        }
      },
      "execution_count": 61,
      "outputs": [
        {
          "output_type": "execute_result",
          "data": {
            "text/plain": [
              "<keras.callbacks.History at 0x7f98175b0c90>"
            ]
          },
          "metadata": {},
          "execution_count": 61
        }
      ]
    },
    {
      "cell_type": "code",
      "source": [
        "# Evaluate model 2 preds\n",
        "model_2.evaluate(test_windows, test_labels)"
      ],
      "metadata": {
        "id": "UgjLYafLsL6i",
        "outputId": "6a0a284c-43e8-4308-9d7d-e8c2e213fa7a",
        "colab": {
          "base_uri": "https://localhost:8080/"
        }
      },
      "execution_count": 62,
      "outputs": [
        {
          "output_type": "stream",
          "name": "stdout",
          "text": [
            "28/28 [==============================] - 0s 2ms/step - loss: 46.9813\n"
          ]
        },
        {
          "output_type": "execute_result",
          "data": {
            "text/plain": [
              "46.98126983642578"
            ]
          },
          "metadata": {},
          "execution_count": 62
        }
      ]
    },
    {
      "cell_type": "code",
      "source": [
        "# Load in best performing model\n",
        "model_2 = tf.keras.models.load_model(\"model_experiments/model_2_dense/\")\n",
        "model_2.evaluate(test_windows, test_labels)"
      ],
      "metadata": {
        "id": "5EdORNHKsUW7",
        "outputId": "dbc77b5d-4574-435d-a460-1597a66dd46e",
        "colab": {
          "base_uri": "https://localhost:8080/"
        }
      },
      "execution_count": 63,
      "outputs": [
        {
          "output_type": "stream",
          "name": "stdout",
          "text": [
            "28/28 [==============================] - 0s 2ms/step - loss: 26.5520\n"
          ]
        },
        {
          "output_type": "execute_result",
          "data": {
            "text/plain": [
              "26.551973342895508"
            ]
          },
          "metadata": {},
          "execution_count": 63
        }
      ]
    },
    {
      "cell_type": "code",
      "source": [
        "# Get forecast predictions\n",
        "model_2_preds = make_preds(model_2,\n",
        "                           input_data=test_windows)"
      ],
      "metadata": {
        "id": "I2BgMcmdsW76",
        "outputId": "6770aec5-2b32-44ab-cb85-b7e3f708fb67",
        "colab": {
          "base_uri": "https://localhost:8080/"
        }
      },
      "execution_count": 64,
      "outputs": [
        {
          "output_type": "stream",
          "name": "stdout",
          "text": [
            "28/28 [==============================] - 0s 1ms/step\n"
          ]
        }
      ]
    },
    {
      "cell_type": "code",
      "source": [
        "# Evaluate results for model 2 predictions\n",
        "model_2_results = evaluate_preds(y_true=tf.squeeze(test_labels), # remove 1 dimension of test labels\n",
        "                                 y_pred=model_2_preds)\n",
        "model_2_results"
      ],
      "metadata": {
        "id": "1ZRUNj_EsZ5P",
        "outputId": "84b835bc-5b43-4ed8-c597-e1721e693b9c",
        "colab": {
          "base_uri": "https://localhost:8080/"
        }
      },
      "execution_count": 65,
      "outputs": [
        {
          "output_type": "execute_result",
          "data": {
            "text/plain": [
              "{'mae': 26.551968,\n",
              " 'mse': 1406.7421,\n",
              " 'rmse': 37.50656,\n",
              " 'mape': 1.5601889,\n",
              " 'mase': 1.1942074}"
            ]
          },
          "metadata": {},
          "execution_count": 65
        }
      ]
    },
    {
      "cell_type": "markdown",
      "source": [
        "# Model 3: Dense (window = 30, horizon = 7)"
      ],
      "metadata": {
        "id": "p1G1KqLNsxkM"
      }
    },
    {
      "cell_type": "code",
      "source": [
        "full_windows, full_labels = make_windows(prices, window_size=30, horizon=7)\n",
        "len(full_windows), len(full_labels)"
      ],
      "metadata": {
        "id": "uLsyxWaYsbd-",
        "outputId": "56ff9084-26ea-4259-fb53-2056ef9ba5f7",
        "colab": {
          "base_uri": "https://localhost:8080/"
        }
      },
      "execution_count": 84,
      "outputs": [
        {
          "output_type": "execute_result",
          "data": {
            "text/plain": [
              "(4395, 4395)"
            ]
          },
          "metadata": {},
          "execution_count": 84
        }
      ]
    },
    {
      "cell_type": "code",
      "source": [
        "train_windows, test_windows, train_labels, test_labels = make_train_test_splits(windows=full_windows, labels=full_labels, test_split=0.2)\n",
        "len(train_windows), len(test_windows), len(train_labels), len(test_labels)"
      ],
      "metadata": {
        "id": "NObb06iQs4VQ",
        "outputId": "fa760a3e-2b65-4b00-98e3-3f39f1d8003c",
        "colab": {
          "base_uri": "https://localhost:8080/"
        }
      },
      "execution_count": 85,
      "outputs": [
        {
          "output_type": "execute_result",
          "data": {
            "text/plain": [
              "(3516, 879, 3516, 879)"
            ]
          },
          "metadata": {},
          "execution_count": 85
        }
      ]
    },
    {
      "cell_type": "code",
      "source": [
        "test_windows.shape, test_labels.shape"
      ],
      "metadata": {
        "id": "nayy7sLKuSdk",
        "outputId": "3d9faa81-951c-400e-a127-dd3244f24539",
        "colab": {
          "base_uri": "https://localhost:8080/"
        }
      },
      "execution_count": 88,
      "outputs": [
        {
          "output_type": "execute_result",
          "data": {
            "text/plain": [
              "((879, 30), (879, 7))"
            ]
          },
          "metadata": {},
          "execution_count": 88
        }
      ]
    },
    {
      "cell_type": "code",
      "source": [
        "tf.random.set_seed(42)\n",
        "\n",
        "# Create model (same as model_1 except with different data input size)\n",
        "model_3 = tf.keras.Sequential([\n",
        "  layers.Dense(128, activation=\"relu\"),\n",
        "  layers.Dense(7)\n",
        "], name=\"model_3_dense\")\n",
        "\n",
        "model_3.compile(loss=\"mae\",\n",
        "                optimizer=tf.keras.optimizers.Adam())\n",
        "\n",
        "model_3.fit(train_windows,\n",
        "            train_labels,\n",
        "            batch_size=128,\n",
        "            epochs=100,\n",
        "            verbose=0,\n",
        "            validation_data=(test_windows, test_labels),\n",
        "            callbacks=[create_model_checkpoint(model_name=model_3.name)])"
      ],
      "metadata": {
        "id": "GZaWc2XOs97d",
        "outputId": "82fa2024-b411-4466-9f06-e6e04d66d190",
        "colab": {
          "base_uri": "https://localhost:8080/"
        }
      },
      "execution_count": 90,
      "outputs": [
        {
          "output_type": "execute_result",
          "data": {
            "text/plain": [
              "<keras.callbacks.History at 0x7f9816a19750>"
            ]
          },
          "metadata": {},
          "execution_count": 90
        }
      ]
    },
    {
      "cell_type": "code",
      "source": [
        "# How did our model with a larger window size and horizon go?\n",
        "model_3.evaluate(test_windows, test_labels)"
      ],
      "metadata": {
        "id": "zsVul4fGtBX7",
        "outputId": "0e9e55e2-8313-4f8e-ce35-5cea753e6fa7",
        "colab": {
          "base_uri": "https://localhost:8080/"
        }
      },
      "execution_count": 91,
      "outputs": [
        {
          "output_type": "stream",
          "name": "stdout",
          "text": [
            "28/28 [==============================] - 0s 2ms/step - loss: 49.3709\n"
          ]
        },
        {
          "output_type": "execute_result",
          "data": {
            "text/plain": [
              "49.370906829833984"
            ]
          },
          "metadata": {},
          "execution_count": 91
        }
      ]
    },
    {
      "cell_type": "code",
      "source": [
        "# Load in best version of model_3 and evaluate\n",
        "model_3 = tf.keras.models.load_model(\"model_experiments/model_3_dense/\")\n",
        "model_3.evaluate(test_windows, test_labels)"
      ],
      "metadata": {
        "id": "cBTmm9VNtG0L",
        "outputId": "8243ffad-0e94-4324-a534-9565e8cea489",
        "colab": {
          "base_uri": "https://localhost:8080/"
        }
      },
      "execution_count": 92,
      "outputs": [
        {
          "output_type": "stream",
          "name": "stdout",
          "text": [
            "28/28 [==============================] - 0s 2ms/step - loss: 43.0675\n"
          ]
        },
        {
          "output_type": "execute_result",
          "data": {
            "text/plain": [
              "43.067481994628906"
            ]
          },
          "metadata": {},
          "execution_count": 92
        }
      ]
    },
    {
      "cell_type": "code",
      "source": [
        "# The predictions are going to be 7 steps at a time (this is the HORIZON size)\n",
        "model_3_preds = make_preds(model_3,\n",
        "                           input_data=test_windows)\n",
        "model_3_preds[:5]"
      ],
      "metadata": {
        "id": "5o0M1k-htIag",
        "outputId": "1d30800c-d9b2-405d-ca41-4deb9d34c86f",
        "colab": {
          "base_uri": "https://localhost:8080/"
        }
      },
      "execution_count": 93,
      "outputs": [
        {
          "output_type": "stream",
          "name": "stdout",
          "text": [
            "28/28 [==============================] - 0s 1ms/step\n"
          ]
        },
        {
          "output_type": "execute_result",
          "data": {
            "text/plain": [
              "<tf.Tensor: shape=(5, 7), dtype=float32, numpy=\n",
              "array([[1165.6654, 1164.5137, 1179.7056, 1182.1954, 1178.3685, 1182.5605,\n",
              "        1185.8641],\n",
              "       [1176.4402, 1168.5579, 1181.7761, 1187.154 , 1181.7229, 1181.1512,\n",
              "        1184.6238],\n",
              "       [1189.2389, 1178.0712, 1190.1901, 1189.8557, 1197.6742, 1194.9288,\n",
              "        1188.4236],\n",
              "       [1183.2014, 1176.9606, 1186.295 , 1194.2166, 1193.2247, 1195.2029,\n",
              "        1198.7704],\n",
              "       [1177.3405, 1177.0286, 1180.1763, 1195.9568, 1186.9293, 1187.9536,\n",
              "        1195.0388]], dtype=float32)>"
            ]
          },
          "metadata": {},
          "execution_count": 93
        }
      ]
    },
    {
      "cell_type": "code",
      "source": [
        "def evaluate_preds(y_true, y_pred):\n",
        "  # Make sure float32 (for metric calculations)\n",
        "  y_true = tf.cast(y_true, dtype=tf.float32)\n",
        "  y_pred = tf.cast(y_pred, dtype=tf.float32)\n",
        "\n",
        "  # Calculate various metrics\n",
        "  mae = tf.keras.metrics.mean_absolute_error(y_true, y_pred)\n",
        "  mse = tf.keras.metrics.mean_squared_error(y_true, y_pred)\n",
        "  rmse = tf.sqrt(mse)\n",
        "  mape = tf.keras.metrics.mean_absolute_percentage_error(y_true, y_pred)\n",
        "  mase = mean_absolute_scaled_error(y_true, y_pred)\n",
        "\n",
        "  # Account for different sized metrics (for longer horizons, reduce to single number)\n",
        "  if mae.ndim > 0: # if mae isn't already a scalar, reduce it to one by aggregating tensors to mean\n",
        "    mae = tf.reduce_mean(mae)\n",
        "    mse = tf.reduce_mean(mse)\n",
        "    rmse = tf.reduce_mean(rmse)\n",
        "    mape = tf.reduce_mean(mape)\n",
        "    mase = tf.reduce_mean(mase)\n",
        "\n",
        "  return {\"mae\": mae.numpy(),\n",
        "          \"mse\": mse.numpy(),\n",
        "          \"rmse\": rmse.numpy(),\n",
        "          \"mape\": mape.numpy(),\n",
        "          \"mase\": mase.numpy()}"
      ],
      "metadata": {
        "id": "BOuUN9yqtNmT"
      },
      "execution_count": 94,
      "outputs": []
    },
    {
      "cell_type": "code",
      "source": [
        "# Get model_3 results aggregated to single values\n",
        "model_3_results = evaluate_preds(y_true=tf.squeeze(test_labels),\n",
        "                                 y_pred=model_3_preds)\n",
        "model_3_results"
      ],
      "metadata": {
        "id": "Sc6vbDqqtO4K",
        "outputId": "ba8b07f9-d643-4adc-c44a-41d05fc19549",
        "colab": {
          "base_uri": "https://localhost:8080/"
        }
      },
      "execution_count": 95,
      "outputs": [
        {
          "output_type": "execute_result",
          "data": {
            "text/plain": [
              "{'mae': 43.067482,\n",
              " 'mse': 3826.5264,\n",
              " 'rmse': 49.345604,\n",
              " 'mape': 2.5399802,\n",
              " 'mase': 1.9445084}"
            ]
          },
          "metadata": {},
          "execution_count": 95
        }
      ]
    },
    {
      "cell_type": "code",
      "source": [
        "offset = 300\n",
        "plt.figure(figsize=(10, 7))\n",
        "plot_time_series(timesteps=X_test[-len(test_windows):], values=test_labels[:, 0], start=offset, label=\"Test_data\")\n",
        "# Checking the shape of model_3_preds results in [n_test_samples, HORIZON] (this will screw up the plot)\n",
        "plot_time_series(timesteps=X_test[-len(test_windows):], values=model_3_preds, start=offset, label=\"model_3_preds\")"
      ],
      "metadata": {
        "id": "-qEWe-mEtXu_",
        "outputId": "17575c41-49f3-44c4-ffbb-31a5561db04b",
        "colab": {
          "base_uri": "https://localhost:8080/",
          "height": 442
        }
      },
      "execution_count": 96,
      "outputs": [
        {
          "output_type": "display_data",
          "data": {
            "text/plain": [
              "<Figure size 720x504 with 1 Axes>"
            ],
            "image/png": "[encoded data removed]"
          },
          "metadata": {
            "needs_background": "light"
          }
        }
      ]
    },
    {
      "cell_type": "code",
      "source": [
        "offset = 300\n",
        "plt.figure(figsize=(10, 7))\n",
        "# Plot model_3_preds by aggregating them (note: this condenses information so the preds will look fruther ahead than the test data)\n",
        "plot_time_series(timesteps=X_test[-len(test_windows):], \n",
        "                 values=test_labels[:, 0], \n",
        "                 start=offset, \n",
        "                 label=\"Test_data\")\n",
        "plot_time_series(timesteps=X_test[-len(test_windows):], \n",
        "                 values=tf.reduce_mean(model_3_preds, axis=1), \n",
        "                 format=\"-\",\n",
        "                 start=offset, \n",
        "                 label=\"model_3_preds\")"
      ],
      "metadata": {
        "id": "g69R19E0xelk",
        "outputId": "0af484bd-554d-46be-9bfe-758faa645d96",
        "colab": {
          "base_uri": "https://localhost:8080/",
          "height": 442
        }
      },
      "execution_count": 97,
      "outputs": [
        {
          "output_type": "display_data",
          "data": {
            "text/plain": [
              "<Figure size 720x504 with 1 Axes>"
            ],
            "image/png": "[encoded data removed]"
          },
          "metadata": {
            "needs_background": "light"
          }
        }
      ]
    },
    {
      "cell_type": "code",
      "source": [
        "pd.DataFrame({\"naive\": naive_results[\"mae\"], \n",
        "              \"horizon_1_window_7\": model_1_results[\"mae\"], \n",
        "              \"horizon_1_window_30\": model_2_results[\"mae\"], \n",
        "              \"horizon_7_window_30\": model_3_results[\"mae\"]}, index=[\"mae\"]).plot(figsize=(10, 7), kind=\"bar\");"
      ],
      "metadata": {
        "id": "Mt5bzrVQxjYn",
        "outputId": "f483c934-58d1-406f-8025-4831827f12c7",
        "colab": {
          "base_uri": "https://localhost:8080/",
          "height": 440
        }
      },
      "execution_count": 98,
      "outputs": [
        {
          "output_type": "display_data",
          "data": {
            "text/plain": [
              "<Figure size 720x504 with 1 Axes>"
            ],
            "image/png": "[encoded data removed]"
          },
          "metadata": {
            "needs_background": "light"
          }
        }
      ]
    },
    {
      "cell_type": "markdown",
      "source": [
        "# Model 4: Conv1D"
      ],
      "metadata": {
        "id": "1y1x5dpqxxcU"
      }
    },
    {
      "cell_type": "code",
      "source": [
        "HORIZON = 1 # predict next day\n",
        "WINDOW_SIZE = 7 # use previous week worth of data"
      ],
      "metadata": {
        "id": "6MV0NO7JxrE4"
      },
      "execution_count": 99,
      "outputs": []
    },
    {
      "cell_type": "code",
      "source": [
        "# Create windowed dataset\n",
        "full_windows, full_labels = make_windows(prices, window_size=7, horizon=1)\n",
        "len(full_windows), len(full_labels)"
      ],
      "metadata": {
        "id": "3C7jAqujx21P",
        "outputId": "48db2e18-09af-4811-aa3b-85a78c7c3669",
        "colab": {
          "base_uri": "https://localhost:8080/"
        }
      },
      "execution_count": 102,
      "outputs": [
        {
          "output_type": "execute_result",
          "data": {
            "text/plain": [
              "(4424, 4424)"
            ]
          },
          "metadata": {},
          "execution_count": 102
        }
      ]
    },
    {
      "cell_type": "code",
      "source": [
        "# Create train/test splits\n",
        "train_windows, test_windows, train_labels, test_labels = make_train_test_splits(full_windows, full_labels)\n",
        "len(train_windows), len(test_windows), len(train_labels), len(test_labels)"
      ],
      "metadata": {
        "id": "KyuYsQyXx4Qq",
        "outputId": "6ec5bd79-4702-4ae5-a675-2034e6a8db3b",
        "colab": {
          "base_uri": "https://localhost:8080/"
        }
      },
      "execution_count": 103,
      "outputs": [
        {
          "output_type": "execute_result",
          "data": {
            "text/plain": [
              "(3539, 885, 3539, 885)"
            ]
          },
          "metadata": {},
          "execution_count": 103
        }
      ]
    },
    {
      "cell_type": "code",
      "source": [
        "# Check data sample shapes\n",
        "train_windows[0].shape # returns (WINDOW_SIZE, )"
      ],
      "metadata": {
        "id": "HLporn8Sx6OR",
        "outputId": "e510c21d-7fd2-4cd5-f77c-99895d03f23a",
        "colab": {
          "base_uri": "https://localhost:8080/"
        }
      },
      "execution_count": 104,
      "outputs": [
        {
          "output_type": "execute_result",
          "data": {
            "text/plain": [
              "(7,)"
            ]
          },
          "metadata": {},
          "execution_count": 104
        }
      ]
    },
    {
      "cell_type": "code",
      "source": [
        "# Before we pass our data to the Conv1D layer, we have to reshape it in order to make sure it works\n",
        "x = tf.constant(train_windows[0])\n",
        "expand_dims_layer = layers.Lambda(lambda x: tf.expand_dims(x, axis=1)) # add an extra dimension for timesteps\n",
        "print(f\"Original shape: {x.shape}\") # (WINDOW_SIZE)\n",
        "print(f\"Expanded shape: {expand_dims_layer(x).shape}\") # (WINDOW_SIZE, input_dim) \n",
        "print(f\"Original values with expanded shape:\\n {expand_dims_layer(x)}\")"
      ],
      "metadata": {
        "id": "wqGPguQqyBfx",
        "outputId": "6bad8897-6c1b-4419-ec95-f0211c2ee688",
        "colab": {
          "base_uri": "https://localhost:8080/"
        }
      },
      "execution_count": 105,
      "outputs": [
        {
          "output_type": "stream",
          "name": "stdout",
          "text": [
            "Original shape: (7,)\n",
            "Expanded shape: (7, 1)\n",
            "Original values with expanded shape:\n",
            " [[50.22022 ]\n",
            " [54.20921 ]\n",
            " [54.754753]\n",
            " [52.487488]\n",
            " [53.053055]\n",
            " [54.00901 ]\n",
            " [53.128128]]\n"
          ]
        }
      ]
    },
    {
      "cell_type": "code",
      "source": [
        "tf.random.set_seed(42)\n",
        "\n",
        "# Create model\n",
        "model_4 = tf.keras.Sequential([\n",
        "  # Create Lambda layer to reshape inputs, without this layer, the model will error\n",
        "  layers.Lambda(lambda x: tf.expand_dims(x, axis=1)), # resize the inputs to adjust for window size / Conv1D 3D input requirements\n",
        "  layers.Conv1D(filters=128, kernel_size=5, padding=\"causal\", activation=\"relu\"),\n",
        "  layers.Dense(HORIZON)\n",
        "], name=\"model_4_conv1D\")\n",
        "\n",
        "# Compile model\n",
        "model_4.compile(loss=\"mae\",\n",
        "                optimizer=tf.keras.optimizers.Adam())\n",
        "\n",
        "# Fit model\n",
        "model_4.fit(train_windows,\n",
        "            train_labels,\n",
        "            batch_size=128, \n",
        "            epochs=100,\n",
        "            verbose=0,\n",
        "            validation_data=(test_windows, test_labels),\n",
        "            callbacks=[create_model_checkpoint(model_name=model_4.name)])"
      ],
      "metadata": {
        "id": "TrzHZ8BhyIQS",
        "outputId": "1569ccdd-88bf-4977-e9d4-8762ed411626",
        "colab": {
          "base_uri": "https://localhost:8080/"
        }
      },
      "execution_count": 106,
      "outputs": [
        {
          "output_type": "stream",
          "name": "stderr",
          "text": [
            "WARNING:absl:Found untraced functions such as _jit_compiled_convolution_op while saving (showing 1 of 1). These functions will not be directly callable after loading.\n",
            "WARNING:absl:Found untraced functions such as _jit_compiled_convolution_op while saving (showing 1 of 1). These functions will not be directly callable after loading.\n",
            "WARNING:absl:Found untraced functions such as _jit_compiled_convolution_op while saving (showing 1 of 1). These functions will not be directly callable after loading.\n",
            "WARNING:absl:Found untraced functions such as _jit_compiled_convolution_op while saving (showing 1 of 1). These functions will not be directly callable after loading.\n",
            "WARNING:absl:Found untraced functions such as _jit_compiled_convolution_op while saving (showing 1 of 1). These functions will not be directly callable after loading.\n",
            "WARNING:absl:Found untraced functions such as _jit_compiled_convolution_op while saving (showing 1 of 1). These functions will not be directly callable after loading.\n",
            "WARNING:absl:Found untraced functions such as _jit_compiled_convolution_op while saving (showing 1 of 1). These functions will not be directly callable after loading.\n",
            "WARNING:absl:Found untraced functions such as _jit_compiled_convolution_op while saving (showing 1 of 1). These functions will not be directly callable after loading.\n",
            "WARNING:absl:Found untraced functions such as _jit_compiled_convolution_op while saving (showing 1 of 1). These functions will not be directly callable after loading.\n",
            "WARNING:absl:Found untraced functions such as _jit_compiled_convolution_op while saving (showing 1 of 1). These functions will not be directly callable after loading.\n",
            "WARNING:absl:Found untraced functions such as _jit_compiled_convolution_op while saving (showing 1 of 1). These functions will not be directly callable after loading.\n",
            "WARNING:absl:Found untraced functions such as _jit_compiled_convolution_op while saving (showing 1 of 1). These functions will not be directly callable after loading.\n",
            "WARNING:absl:Found untraced functions such as _jit_compiled_convolution_op while saving (showing 1 of 1). These functions will not be directly callable after loading.\n",
            "WARNING:absl:Found untraced functions such as _jit_compiled_convolution_op while saving (showing 1 of 1). These functions will not be directly callable after loading.\n",
            "WARNING:absl:Found untraced functions such as _jit_compiled_convolution_op while saving (showing 1 of 1). These functions will not be directly callable after loading.\n",
            "WARNING:absl:Found untraced functions such as _jit_compiled_convolution_op while saving (showing 1 of 1). These functions will not be directly callable after loading.\n",
            "WARNING:absl:Found untraced functions such as _jit_compiled_convolution_op while saving (showing 1 of 1). These functions will not be directly callable after loading.\n",
            "WARNING:absl:Found untraced functions such as _jit_compiled_convolution_op while saving (showing 1 of 1). These functions will not be directly callable after loading.\n",
            "WARNING:absl:Found untraced functions such as _jit_compiled_convolution_op while saving (showing 1 of 1). These functions will not be directly callable after loading.\n",
            "WARNING:absl:Found untraced functions such as _jit_compiled_convolution_op while saving (showing 1 of 1). These functions will not be directly callable after loading.\n",
            "WARNING:absl:Found untraced functions such as _jit_compiled_convolution_op while saving (showing 1 of 1). These functions will not be directly callable after loading.\n",
            "WARNING:absl:Found untraced functions such as _jit_compiled_convolution_op while saving (showing 1 of 1). These functions will not be directly callable after loading.\n",
            "WARNING:absl:Found untraced functions such as _jit_compiled_convolution_op while saving (showing 1 of 1). These functions will not be directly callable after loading.\n",
            "WARNING:absl:Found untraced functions such as _jit_compiled_convolution_op while saving (showing 1 of 1). These functions will not be directly callable after loading.\n",
            "WARNING:absl:Found untraced functions such as _jit_compiled_convolution_op while saving (showing 1 of 1). These functions will not be directly callable after loading.\n",
            "WARNING:absl:Found untraced functions such as _jit_compiled_convolution_op while saving (showing 1 of 1). These functions will not be directly callable after loading.\n",
            "WARNING:absl:Found untraced functions such as _jit_compiled_convolution_op while saving (showing 1 of 1). These functions will not be directly callable after loading.\n",
            "WARNING:absl:Found untraced functions such as _jit_compiled_convolution_op while saving (showing 1 of 1). These functions will not be directly callable after loading.\n",
            "WARNING:absl:Found untraced functions such as _jit_compiled_convolution_op while saving (showing 1 of 1). These functions will not be directly callable after loading.\n",
            "WARNING:absl:Found untraced functions such as _jit_compiled_convolution_op while saving (showing 1 of 1). These functions will not be directly callable after loading.\n",
            "WARNING:absl:Found untraced functions such as _jit_compiled_convolution_op while saving (showing 1 of 1). These functions will not be directly callable after loading.\n",
            "WARNING:absl:Found untraced functions such as _jit_compiled_convolution_op while saving (showing 1 of 1). These functions will not be directly callable after loading.\n",
            "WARNING:absl:Found untraced functions such as _jit_compiled_convolution_op while saving (showing 1 of 1). These functions will not be directly callable after loading.\n",
            "WARNING:absl:Found untraced functions such as _jit_compiled_convolution_op while saving (showing 1 of 1). These functions will not be directly callable after loading.\n",
            "WARNING:absl:Found untraced functions such as _jit_compiled_convolution_op while saving (showing 1 of 1). These functions will not be directly callable after loading.\n"
          ]
        },
        {
          "output_type": "execute_result",
          "data": {
            "text/plain": [
              "<keras.callbacks.History at 0x7f9815671e50>"
            ]
          },
          "metadata": {},
          "execution_count": 106
        }
      ]
    },
    {
      "cell_type": "code",
      "source": [
        "model_4.summary()"
      ],
      "metadata": {
        "id": "CQ8JBGViyN0o",
        "outputId": "80820b61-6cf4-43e6-d7af-c260437f19d3",
        "colab": {
          "base_uri": "https://localhost:8080/"
        }
      },
      "execution_count": 107,
      "outputs": [
        {
          "output_type": "stream",
          "name": "stdout",
          "text": [
            "Model: \"model_4_conv1D\"\n",
            "_________________________________________________________________\n",
            " Layer (type)                Output Shape              Param #   \n",
            "=================================================================\n",
            " lambda_1 (Lambda)           (None, 1, 7)              0         \n",
            "                                                                 \n",
            " conv1d (Conv1D)             (None, 1, 128)            4608      \n",
            "                                                                 \n",
            " dense_18 (Dense)            (None, 1, 1)              129       \n",
            "                                                                 \n",
            "=================================================================\n",
            "Total params: 4,737\n",
            "Trainable params: 4,737\n",
            "Non-trainable params: 0\n",
            "_________________________________________________________________\n"
          ]
        }
      ]
    },
    {
      "cell_type": "code",
      "source": [
        "# Load in best performing Conv1D model and evaluate it on the test data\n",
        "model_4 = tf.keras.models.load_model(\"model_experiments/model_4_conv1D\")\n",
        "model_4.evaluate(test_windows, test_labels)"
      ],
      "metadata": {
        "id": "TFluwWKtyQAe",
        "outputId": "6ed838dc-aeb4-4dc9-92e9-e0f6b06e02ff",
        "colab": {
          "base_uri": "https://localhost:8080/"
        }
      },
      "execution_count": 108,
      "outputs": [
        {
          "output_type": "stream",
          "name": "stdout",
          "text": [
            "28/28 [==============================] - 0s 4ms/step - loss: 23.0670\n"
          ]
        },
        {
          "output_type": "execute_result",
          "data": {
            "text/plain": [
              "23.067047119140625"
            ]
          },
          "metadata": {},
          "execution_count": 108
        }
      ]
    },
    {
      "cell_type": "code",
      "source": [
        "# Make predictions\n",
        "model_4_preds = make_preds(model_4, test_windows)\n",
        "model_4_preds[:10]"
      ],
      "metadata": {
        "id": "qwCw4JcDyVKS",
        "outputId": "bf317c00-c59f-4b0f-ef5c-1ebcc05bcdfa",
        "colab": {
          "base_uri": "https://localhost:8080/"
        }
      },
      "execution_count": 109,
      "outputs": [
        {
          "output_type": "stream",
          "name": "stdout",
          "text": [
            "28/28 [==============================] - 0s 2ms/step\n"
          ]
        },
        {
          "output_type": "execute_result",
          "data": {
            "text/plain": [
              "<tf.Tensor: shape=(10,), dtype=float32, numpy=\n",
              "array([1166.6759, 1172.6237, 1186.7047, 1178.9877, 1180.2753, 1190.8297,\n",
              "       1194.7275, 1204.9211, 1208.8547, 1210.2495], dtype=float32)>"
            ]
          },
          "metadata": {},
          "execution_count": 109
        }
      ]
    },
    {
      "cell_type": "code",
      "source": [
        "# Evaluate predictions\n",
        "model_4_results = evaluate_preds(y_true=tf.squeeze(test_labels),\n",
        "                                 y_pred=model_4_preds)\n",
        "model_4_results"
      ],
      "metadata": {
        "id": "yYMgVSwtyXp4",
        "outputId": "fbe6c4a3-ed8d-4479-aa6a-8399398a35a9",
        "colab": {
          "base_uri": "https://localhost:8080/"
        }
      },
      "execution_count": 110,
      "outputs": [
        {
          "output_type": "execute_result",
          "data": {
            "text/plain": [
              "{'mae': 23.067043,\n",
              " 'mse': 1110.3036,\n",
              " 'rmse': 33.321217,\n",
              " 'mape': 1.3605431,\n",
              " 'mase': 1.0390767}"
            ]
          },
          "metadata": {},
          "execution_count": 110
        }
      ]
    },
    {
      "cell_type": "markdown",
      "source": [
        "# Model 5: RNN (LSTM)"
      ],
      "metadata": {
        "id": "AMOi6SVsynyf"
      }
    },
    {
      "cell_type": "code",
      "source": [
        "tf.random.set_seed(42)\n",
        "\n",
        "# Let's build an LSTM model with the Functional API\n",
        "inputs = layers.Input(shape=(WINDOW_SIZE))\n",
        "x = layers.Lambda(lambda x: tf.expand_dims(x, axis=1))(inputs) # expand input dimension to be compatible with LSTM\n",
        "# print(x.shape)\n",
        "# x = layers.LSTM(128, activation=\"relu\", return_sequences=True)(x) # this layer will error if the inputs are not the right shape\n",
        "x = layers.LSTM(128, activation=\"relu\")(x) # using the tanh loss function results in a massive error\n",
        "# print(x.shape)\n",
        "# Add another optional dense layer (you could add more of these to see if they improve model performance)\n",
        "# x = layers.Dense(32, activation=\"relu\")(x)\n",
        "output = layers.Dense(HORIZON)(x)\n",
        "model_5 = tf.keras.Model(inputs=inputs, outputs=output, name=\"model_5_lstm\")\n",
        "\n",
        "# Compile model\n",
        "model_5.compile(loss=\"mae\",\n",
        "                optimizer=tf.keras.optimizers.Adam())\n",
        "\n",
        "# Seems when saving the model several warnings are appearing: https://github.com/tensorflow/tensorflow/issues/47554 \n",
        "model_5.fit(train_windows,\n",
        "            train_labels,\n",
        "            epochs=100,\n",
        "            verbose=0,\n",
        "            batch_size=128,\n",
        "            validation_data=(test_windows, test_labels),\n",
        "            callbacks=[create_model_checkpoint(model_name=model_5.name)])"
      ],
      "metadata": {
        "id": "u72qtsaByZlb",
        "outputId": "f5c8c7f2-6b88-4b3b-ed07-d808410ce1ec",
        "colab": {
          "base_uri": "https://localhost:8080/"
        }
      },
      "execution_count": 111,
      "outputs": [
        {
          "output_type": "stream",
          "name": "stderr",
          "text": [
            "WARNING:tensorflow:Layer lstm will not use cuDNN kernels since it doesn't meet the criteria. It will use a generic GPU kernel as fallback when running on GPU.\n"
          ]
        },
        {
          "output_type": "execute_result",
          "data": {
            "text/plain": [
              "<keras.callbacks.History at 0x7f9816894ad0>"
            ]
          },
          "metadata": {},
          "execution_count": 111
        }
      ]
    },
    {
      "cell_type": "code",
      "source": [
        "# Load in best version of model 5 and evaluate on the test data\n",
        "model_5 = tf.keras.models.load_model(\"model_experiments/model_5_lstm/\")\n",
        "model_5.evaluate(test_windows, test_labels)"
      ],
      "metadata": {
        "id": "2qjXSFwQyr72",
        "outputId": "24c56b59-45b3-4387-b42f-f6a7ae220c43",
        "colab": {
          "base_uri": "https://localhost:8080/"
        }
      },
      "execution_count": 112,
      "outputs": [
        {
          "output_type": "stream",
          "name": "stderr",
          "text": [
            "WARNING:tensorflow:Layer lstm will not use cuDNN kernels since it doesn't meet the criteria. It will use a generic GPU kernel as fallback when running on GPU.\n"
          ]
        },
        {
          "output_type": "stream",
          "name": "stdout",
          "text": [
            "28/28 [==============================] - 0s 2ms/step - loss: 24.0923\n"
          ]
        },
        {
          "output_type": "execute_result",
          "data": {
            "text/plain": [
              "24.09231185913086"
            ]
          },
          "metadata": {},
          "execution_count": 112
        }
      ]
    },
    {
      "cell_type": "code",
      "source": [
        "# Make predictions with our LSTM model\n",
        "model_5_preds = make_preds(model_5, test_windows)\n",
        "model_5_preds[:10]"
      ],
      "metadata": {
        "id": "67YB4uy0yus1",
        "outputId": "6de93739-9260-4999-87cc-be2055bb459d",
        "colab": {
          "base_uri": "https://localhost:8080/"
        }
      },
      "execution_count": 113,
      "outputs": [
        {
          "output_type": "stream",
          "name": "stdout",
          "text": [
            "28/28 [==============================] - 0s 2ms/step\n"
          ]
        },
        {
          "output_type": "execute_result",
          "data": {
            "text/plain": [
              "<tf.Tensor: shape=(10,), dtype=float32, numpy=\n",
              "array([1166.1932, 1173.2966, 1183.2892, 1179.5052, 1180.3901, 1191.0024,\n",
              "       1194.4165, 1201.6945, 1209.5366, 1210.5487], dtype=float32)>"
            ]
          },
          "metadata": {},
          "execution_count": 113
        }
      ]
    },
    {
      "cell_type": "code",
      "source": [
        "# Evaluate model 5 preds\n",
        "model_5_results = evaluate_preds(y_true=tf.squeeze(test_labels),\n",
        "                                 y_pred=model_5_preds)\n",
        "model_5_results"
      ],
      "metadata": {
        "id": "FlIgmldiyxPB",
        "outputId": "763ff843-409a-458b-c291-48c9af3a8dcf",
        "colab": {
          "base_uri": "https://localhost:8080/"
        }
      },
      "execution_count": 114,
      "outputs": [
        {
          "output_type": "execute_result",
          "data": {
            "text/plain": [
              "{'mae': 24.092308,\n",
              " 'mse': 1190.723,\n",
              " 'rmse': 34.506855,\n",
              " 'mape': 1.4172723,\n",
              " 'mase': 1.0852607}"
            ]
          },
          "metadata": {},
          "execution_count": 114
        }
      ]
    },
    {
      "cell_type": "code",
      "source": [],
      "metadata": {
        "id": "PhRXwfi8yzRB"
      },
      "execution_count": null,
      "outputs": []
    }
  ]
}