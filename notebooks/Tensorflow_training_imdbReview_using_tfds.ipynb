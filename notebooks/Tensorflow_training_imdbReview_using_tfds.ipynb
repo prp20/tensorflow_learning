{
  "nbformat": 4,
  "nbformat_minor": 0,
  "metadata": {
    "colab": {
      "provenance": [],
      "authorship_tag": "ABX9TyOd+Cn1rIrSzsOqUUmgrJzV",
      "include_colab_link": true
    },
    "kernelspec": {
      "name": "python3",
      "display_name": "Python 3"
    },
    "language_info": {
      "name": "python"
    },
    "accelerator": "GPU",
    "gpuClass": "standard"
  },
  "cells": [
    {
      "cell_type": "markdown",
      "metadata": {
        "id": "view-in-github",
        "colab_type": "text"
      },
      "source": [
        "<a href=\"https://colab.research.google.com/github/prp20/tensorflow_learning/blob/main/notebooks/Tensorflow_training_imdbReview_using_tfds.ipynb\" target=\"_parent\"><img src=\"https://colab.research.google.com/assets/colab-badge.svg\" alt=\"Open In Colab\"/></a>"
      ]
    },
    {
      "cell_type": "code",
      "execution_count": 1,
      "metadata": {
        "id": "magRrLUKbp2_"
      },
      "outputs": [],
      "source": [
        "import numpy as np\n",
        "\n",
        "import tensorflow_datasets as tfds\n",
        "import tensorflow as tf\n",
        "import re\n",
        "import string\n",
        "tfds.disable_progress_bar()"
      ]
    },
    {
      "cell_type": "code",
      "source": [
        "import matplotlib.pyplot as plt\n",
        "\n",
        "\n",
        "def plot_graphs(history, metric):\n",
        "  plt.plot(history.history[metric])\n",
        "  plt.plot(history.history['val_'+metric], '')\n",
        "  plt.xlabel(\"Epochs\")\n",
        "  plt.ylabel(metric)\n",
        "  plt.legend([metric, 'val_'+metric])"
      ],
      "metadata": {
        "id": "FLFM4_7Tb3nD"
      },
      "execution_count": 2,
      "outputs": []
    },
    {
      "cell_type": "code",
      "source": [
        "def custom_standardization(input_data):\n",
        "  lowercase = tf.strings.lower(input_data)\n",
        "  stripped_html = tf.strings.regex_replace(lowercase, '<[^>]+>', ' ')\n",
        "  return tf.strings.regex_replace(stripped_html,\n",
        "                                  '[%s]' % re.escape(string.punctuation),\n",
        "                                  '')"
      ],
      "metadata": {
        "id": "vnFOKet7mPoU"
      },
      "execution_count": 3,
      "outputs": []
    },
    {
      "cell_type": "code",
      "source": [
        "def get_callbacks(model_name):\n",
        "  callbacks = []\n",
        "  MC = tf.keras.callbacks.ModelCheckpoint(f'saved_models/{model_name}', monitor='val_loss', save_best_only='True', verbose=1)\n",
        "  ES = tf.keras.callbacks.EarlyStopping(monitor='val_loss', patience=5, verbose=1, restore_best_weights='True')\n",
        "  return [MC, ES]"
      ],
      "metadata": {
        "id": "nMCdqYc0Pq2G"
      },
      "execution_count": 4,
      "outputs": []
    },
    {
      "cell_type": "code",
      "source": [
        "dataset, info = tfds.load('imdb_reviews', with_info=True,\n",
        "                          as_supervised=True)\n",
        "train_dataset, test_dataset = dataset['train'], dataset['test']\n",
        "\n",
        "train_dataset.element_spec"
      ],
      "metadata": {
        "colab": {
          "base_uri": "https://localhost:8080/"
        },
        "id": "SnEZaiLKcM9x",
        "outputId": "2d3ec771-a510-4e66-aefa-6634281eeab9"
      },
      "execution_count": 5,
      "outputs": [
        {
          "output_type": "stream",
          "name": "stdout",
          "text": [
            "Downloading and preparing dataset 80.23 MiB (download: 80.23 MiB, generated: Unknown size, total: 80.23 MiB) to ~/tensorflow_datasets/imdb_reviews/plain_text/1.0.0...\n",
            "Dataset imdb_reviews downloaded and prepared to ~/tensorflow_datasets/imdb_reviews/plain_text/1.0.0. Subsequent calls will reuse this data.\n"
          ]
        },
        {
          "output_type": "execute_result",
          "data": {
            "text/plain": [
              "(TensorSpec(shape=(), dtype=tf.string, name=None),\n",
              " TensorSpec(shape=(), dtype=tf.int64, name=None))"
            ]
          },
          "metadata": {},
          "execution_count": 5
        }
      ]
    },
    {
      "cell_type": "code",
      "source": [
        "for example, label in train_dataset.take(5):\n",
        "  print('text: ', example.numpy())\n",
        "  print('label: ', label.numpy())"
      ],
      "metadata": {
        "colab": {
          "base_uri": "https://localhost:8080/"
        },
        "id": "Fz3AWfxuc_9h",
        "outputId": "a0832522-f7c8-410d-ed9e-1d462b474e8e"
      },
      "execution_count": 6,
      "outputs": [
        {
          "output_type": "stream",
          "name": "stdout",
          "text": [
            "text:  b\"This was an absolutely terrible movie. Don't be lured in by Christopher Walken or Michael Ironside. Both are great actors, but this must simply be their worst role in history. Even their great acting could not redeem this movie's ridiculous storyline. This movie is an early nineties US propaganda piece. The most pathetic scenes were those when the Columbian rebels were making their cases for revolutions. Maria Conchita Alonso appeared phony, and her pseudo-love affair with Walken was nothing but a pathetic emotional plug in a movie that was devoid of any real meaning. I am disappointed that there are movies like this, ruining actor's like Christopher Walken's good name. I could barely sit through it.\"\n",
            "label:  0\n",
            "text:  b'I have been known to fall asleep during films, but this is usually due to a combination of things including, really tired, being warm and comfortable on the sette and having just eaten a lot. However on this occasion I fell asleep because the film was rubbish. The plot development was constant. Constantly slow and boring. Things seemed to happen, but with no explanation of what was causing them or why. I admit, I may have missed part of the film, but i watched the majority of it and everything just seemed to happen of its own accord without any real concern for anything else. I cant recommend this film at all.'\n",
            "label:  0\n",
            "text:  b'Mann photographs the Alberta Rocky Mountains in a superb fashion, and Jimmy Stewart and Walter Brennan give enjoyable performances as they always seem to do. <br /><br />But come on Hollywood - a Mountie telling the people of Dawson City, Yukon to elect themselves a marshal (yes a marshal!) and to enforce the law themselves, then gunfighters battling it out on the streets for control of the town? <br /><br />Nothing even remotely resembling that happened on the Canadian side of the border during the Klondike gold rush. Mr. Mann and company appear to have mistaken Dawson City for Deadwood, the Canadian North for the American Wild West.<br /><br />Canadian viewers be prepared for a Reefer Madness type of enjoyable howl with this ludicrous plot, or, to shake your head in disgust.'\n",
            "label:  0\n",
            "text:  b'This is the kind of film for a snowy Sunday afternoon when the rest of the world can go ahead with its own business as you descend into a big arm-chair and mellow for a couple of hours. Wonderful performances from Cher and Nicolas Cage (as always) gently row the plot along. There are no rapids to cross, no dangerous waters, just a warm and witty paddle through New York life at its best. A family film in every sense and one that deserves the praise it received.'\n",
            "label:  1\n",
            "text:  b'As others have mentioned, all the women that go nude in this film are mostly absolutely gorgeous. The plot very ably shows the hypocrisy of the female libido. When men are around they want to be pursued, but when no \"men\" are around, they become the pursuers of a 14 year old boy. And the boy becomes a man really fast (we should all be so lucky at this age!). He then gets up the courage to pursue his true love.'\n",
            "label:  1\n"
          ]
        }
      ]
    },
    {
      "cell_type": "code",
      "source": [
        "BUFFER_SIZE = 10000\n",
        "BATCH_SIZE = 64"
      ],
      "metadata": {
        "id": "HZG5zNond-WZ"
      },
      "execution_count": 7,
      "outputs": []
    },
    {
      "cell_type": "code",
      "source": [
        "train_dataset = train_dataset.shuffle(BUFFER_SIZE).batch(BATCH_SIZE).prefetch(tf.data.AUTOTUNE)\n",
        "test_dataset = test_dataset.batch(BATCH_SIZE).prefetch(tf.data.AUTOTUNE)"
      ],
      "metadata": {
        "id": "4slR_BCWgINI"
      },
      "execution_count": 8,
      "outputs": []
    },
    {
      "cell_type": "code",
      "source": [
        "for example, label in train_dataset.take(1):\n",
        "  print('texts: ', example.numpy()[:3])\n",
        "  print()\n",
        "  print('labels: ', label.numpy()[:3])"
      ],
      "metadata": {
        "colab": {
          "base_uri": "https://localhost:8080/"
        },
        "id": "ueeOkh-Wjps5",
        "outputId": "f5e4c211-b2f3-44ac-822d-bb00810cd1e1"
      },
      "execution_count": 9,
      "outputs": [
        {
          "output_type": "stream",
          "name": "stdout",
          "text": [
            "texts:  [b\"Brothers with psychokinetic powers (yes, really) duel not just for Debra Winger's affections but really over a secret from their childhood that left them at odds over their powers.<br /><br />There are surreal touches (the fire brigade that act like a singing Greek chorus), but there is also humour and romance. The soundtrack is great similar to the way American Werewolf in London used every great Wolf song they could get ~ but with fire ~ and I don't think I'll ever forget Dennis Quaid (mmmmm Dennis Quaid), setting his own trailer a rockin' to 'She's a lady' ~ priceless ;)<br /><br />Best line missing from the quotes section btw ~ 'Once you've had a clown, you never go back!'<br /><br />I love this movie (I ordered the DVD from the US) and if the comments written by the kind of people who'd be happier with Legally Blond 3 don't put you off ~ give it a try :)\"\n",
            " b'I\\'m 14 years old and I love this cartoon. Burt Reynolds and Dom Deluise make a great pair. This movie is really funny and I love the songs. My favorite songs are \"You can\\'t keep a good dog down\" and that song about sharing, I think it\\'s called \"What\\'s mine is yours\". This was the last movie with Judith Barsi, who played the voice of Anne-Marie. My favorite character is Charlie but I find Itchy\\'s voice is so fun to hear. Although some scenes I actually found scary, I still have a hard time watching the scene with Charlie\\'s dream, and Carface scares the crap out of me. Other characters like King Gator I found really funny. The ending was adorable and was actually sad, made me cry a little. I give this movie 7/10.'\n",
            " b\"this movie was so gay like its a mom and son cat that have sex, they also get scared of little kitty cats. they get set on fire by them. the mom cat alien thing kills a guy by stabbing him in the back with an ear of corn? they are bullet proof. invisible. and what not. the star of the movie, Clovis, is the cops cat, Clovis leads the cops to find the mom alien, and after the mom kills the cops, Clovis kills the mom by eating her head then she catches on fire. this movie sucks. it was way way more funny than it was scary, it wasn't even scaryt at all. the girl hits the alien on the head with a camera, it knoks him out. she then goes and hugs her. the then grabs her and begins to rape her. once again, Clovis comes to the rescue\"]\n",
            "\n",
            "labels:  [1 1 0]\n"
          ]
        }
      ]
    },
    {
      "cell_type": "code",
      "source": [
        "max_features = 10000\n",
        "sequence_length = 250\n",
        "\n",
        "vectorize_layer = tf.keras.layers.TextVectorization(\n",
        "    standardize='lower_and_strip_punctuation',\n",
        "    max_tokens=max_features,\n",
        "    output_mode='int',\n",
        "    output_sequence_length=sequence_length)\n",
        "vectorize_layer.adapt(train_dataset.map(lambda text, label: text))"
      ],
      "metadata": {
        "id": "SQ5pZY4qjr6Q"
      },
      "execution_count": 10,
      "outputs": []
    },
    {
      "cell_type": "code",
      "source": [
        "vocab = np.array(vectorize_layer.get_vocabulary())\n",
        "vocab[:20]"
      ],
      "metadata": {
        "colab": {
          "base_uri": "https://localhost:8080/"
        },
        "id": "5EKleBWEjw9R",
        "outputId": "4f1ddd18-fc68-423b-ebe6-997bc7a65f86"
      },
      "execution_count": 11,
      "outputs": [
        {
          "output_type": "execute_result",
          "data": {
            "text/plain": [
              "array(['', '[UNK]', 'the', 'and', 'a', 'of', 'to', 'is', 'in', 'it', 'i',\n",
              "       'this', 'that', 'br', 'was', 'as', 'for', 'with', 'movie', 'but'],\n",
              "      dtype='<U17')"
            ]
          },
          "metadata": {},
          "execution_count": 11
        }
      ]
    },
    {
      "cell_type": "code",
      "source": [
        "from tensorflow.keras import layers\n",
        "max_features = 10000\n",
        "sequence_length = 250\n",
        "embedding = layers.Embedding(max_features + 1, 16)"
      ],
      "metadata": {
        "id": "PxBr3N0MnuW9"
      },
      "execution_count": 12,
      "outputs": []
    },
    {
      "cell_type": "code",
      "source": [
        "input = layers.Input(shape=(), dtype=tf.string)\n",
        "x = vectorize_layer(input)\n",
        "x = embedding(x)\n",
        "x = layers.GlobalAveragePooling1D()(x)\n",
        "outputs = layers.Dense(1, activation='sigmoid')(x)\n",
        "model_1 = tf.keras.Model(input, outputs, name = \"NLP_model_1\")"
      ],
      "metadata": {
        "id": "Ujoo5BnBj4ZR"
      },
      "execution_count": 13,
      "outputs": []
    },
    {
      "cell_type": "code",
      "source": [
        "\n",
        "model_1.compile(loss=\"binary_crossentropy\", optimizer=tf.keras.optimizers.Adam(), metrics = ['accuracy'])\n",
        "history_1 = model_1.fit(train_dataset, epochs=10, validation_data=test_dataset, callbacks=get_callbacks(model_1.name))"
      ],
      "metadata": {
        "colab": {
          "base_uri": "https://localhost:8080/"
        },
        "id": "19gvXkoHoJQs",
        "outputId": "2d45e386-6762-49bb-abed-bf2370caa5cf"
      },
      "execution_count": 14,
      "outputs": [
        {
          "output_type": "stream",
          "name": "stdout",
          "text": [
            "Epoch 1/10\n",
            "390/391 [============================>.] - ETA: 0s - loss: 0.6708 - accuracy: 0.6903\n",
            "Epoch 1: val_loss improved from inf to 0.63530, saving model to saved_models/NLP_model_1\n",
            "391/391 [==============================] - 11s 20ms/step - loss: 0.6707 - accuracy: 0.6905 - val_loss: 0.6353 - val_accuracy: 0.7466\n",
            "Epoch 2/10\n",
            "388/391 [============================>.] - ETA: 0s - loss: 0.5802 - accuracy: 0.7878\n",
            "Epoch 2: val_loss improved from 0.63530 to 0.54048, saving model to saved_models/NLP_model_1\n",
            "391/391 [==============================] - 6s 16ms/step - loss: 0.5797 - accuracy: 0.7884 - val_loss: 0.5405 - val_accuracy: 0.7990\n",
            "Epoch 3/10\n",
            "386/391 [============================>.] - ETA: 0s - loss: 0.4845 - accuracy: 0.8328\n",
            "Epoch 3: val_loss improved from 0.54048 to 0.46504, saving model to saved_models/NLP_model_1\n",
            "391/391 [==============================] - 7s 17ms/step - loss: 0.4841 - accuracy: 0.8329 - val_loss: 0.4650 - val_accuracy: 0.8288\n",
            "Epoch 4/10\n",
            "388/391 [============================>.] - ETA: 0s - loss: 0.4143 - accuracy: 0.8566\n",
            "Epoch 4: val_loss improved from 0.46504 to 0.41564, saving model to saved_models/NLP_model_1\n",
            "391/391 [==============================] - 6s 16ms/step - loss: 0.4142 - accuracy: 0.8567 - val_loss: 0.4156 - val_accuracy: 0.8449\n",
            "Epoch 5/10\n",
            "385/391 [============================>.] - ETA: 0s - loss: 0.3676 - accuracy: 0.8690\n",
            "Epoch 5: val_loss improved from 0.41564 to 0.38372, saving model to saved_models/NLP_model_1\n",
            "391/391 [==============================] - 6s 15ms/step - loss: 0.3667 - accuracy: 0.8696 - val_loss: 0.3837 - val_accuracy: 0.8528\n",
            "Epoch 6/10\n",
            "391/391 [==============================] - ETA: 0s - loss: 0.3332 - accuracy: 0.8801\n",
            "Epoch 6: val_loss improved from 0.38372 to 0.36192, saving model to saved_models/NLP_model_1\n",
            "391/391 [==============================] - 6s 16ms/step - loss: 0.3332 - accuracy: 0.8801 - val_loss: 0.3619 - val_accuracy: 0.8562\n",
            "Epoch 7/10\n",
            "388/391 [============================>.] - ETA: 0s - loss: 0.3076 - accuracy: 0.8879\n",
            "Epoch 7: val_loss improved from 0.36192 to 0.34566, saving model to saved_models/NLP_model_1\n",
            "391/391 [==============================] - 6s 15ms/step - loss: 0.3078 - accuracy: 0.8878 - val_loss: 0.3457 - val_accuracy: 0.8632\n",
            "Epoch 8/10\n",
            "387/391 [============================>.] - ETA: 0s - loss: 0.2879 - accuracy: 0.8940\n",
            "Epoch 8: val_loss improved from 0.34566 to 0.33494, saving model to saved_models/NLP_model_1\n",
            "391/391 [==============================] - 7s 17ms/step - loss: 0.2876 - accuracy: 0.8941 - val_loss: 0.3349 - val_accuracy: 0.8660\n",
            "Epoch 9/10\n",
            "389/391 [============================>.] - ETA: 0s - loss: 0.2712 - accuracy: 0.9001\n",
            "Epoch 9: val_loss improved from 0.33494 to 0.32519, saving model to saved_models/NLP_model_1\n",
            "391/391 [==============================] - 6s 15ms/step - loss: 0.2709 - accuracy: 0.9002 - val_loss: 0.3252 - val_accuracy: 0.8697\n",
            "Epoch 10/10\n",
            "385/391 [============================>.] - ETA: 0s - loss: 0.2564 - accuracy: 0.9049\n",
            "Epoch 10: val_loss improved from 0.32519 to 0.31878, saving model to saved_models/NLP_model_1\n",
            "391/391 [==============================] - 6s 15ms/step - loss: 0.2564 - accuracy: 0.9049 - val_loss: 0.3188 - val_accuracy: 0.8710\n"
          ]
        }
      ]
    },
    {
      "cell_type": "code",
      "source": [
        "from sklearn.metrics import accuracy_score, precision_recall_fscore_support\n",
        "\n",
        "def calculate_results(y_true, y_pred):\n",
        "  model_accuracy = accuracy_score(y_true, y_pred) *100\n",
        "  model_precision, model_recall, model_f1score, _ = precision_recall_fscore_support(y_true, y_pred, average=\"weighted\")\n",
        "  model_results = {\"Accuracy\": model_accuracy, \"Precision\": model_precision, \"Recall value\": model_recall, \"F1-Score\": model_f1score}\n",
        "\n",
        "  return model_results"
      ],
      "metadata": {
        "id": "UoMtj7eLoTNh"
      },
      "execution_count": 15,
      "outputs": []
    },
    {
      "cell_type": "code",
      "source": [
        "model_1 = tf.keras.models.load_model(f\"saved_models/{model_1.name}\")\n",
        "results = model_1.predict(test_dataset.map(lambda text, label: text))\n",
        "results = tf.squeeze(tf.round(results))"
      ],
      "metadata": {
        "colab": {
          "base_uri": "https://localhost:8080/"
        },
        "id": "6tW-Hc_7owb7",
        "outputId": "89c6c61a-d0ea-4fe6-f653-352beac7f8bd"
      },
      "execution_count": 16,
      "outputs": [
        {
          "output_type": "stream",
          "name": "stdout",
          "text": [
            "391/391 [==============================] - 2s 6ms/step\n"
          ]
        }
      ]
    },
    {
      "cell_type": "code",
      "source": [
        "#get original labels\n",
        "y_true = np.concatenate([y for x, y in test_dataset], axis=0)"
      ],
      "metadata": {
        "id": "5yxX9ZLRqd7n"
      },
      "execution_count": 17,
      "outputs": []
    },
    {
      "cell_type": "code",
      "source": [
        "calculate_results(y_true, results)"
      ],
      "metadata": {
        "colab": {
          "base_uri": "https://localhost:8080/"
        },
        "id": "5HmD9OdNpS9O",
        "outputId": "840dc457-797b-4caf-8028-e470b51f3495"
      },
      "execution_count": 18,
      "outputs": [
        {
          "output_type": "execute_result",
          "data": {
            "text/plain": [
              "{'Accuracy': 87.09599999999999,\n",
              " 'Precision': 0.870960237414552,\n",
              " 'Recall value': 0.87096,\n",
              " 'F1-Score': 0.8709599793535966}"
            ]
          },
          "metadata": {},
          "execution_count": 18
        }
      ]
    },
    {
      "cell_type": "code",
      "source": [
        "plot_graphs(history_1, 'accuracy')"
      ],
      "metadata": {
        "colab": {
          "base_uri": "https://localhost:8080/",
          "height": 279
        },
        "id": "IxwVgqTZpjoR",
        "outputId": "626be3a6-33e6-4edf-c22a-08b6b2f44d9b"
      },
      "execution_count": 19,
      "outputs": [
        {
          "output_type": "display_data",
          "data": {
            "text/plain": [
              "<Figure size 432x288 with 1 Axes>"
            ],
            "image/png": "[encoded data removed]"
          },
          "metadata": {
            "needs_background": "light"
          }
        }
      ]
    },
    {
      "cell_type": "code",
      "source": [
        "plot_graphs(history_1, 'loss')"
      ],
      "metadata": {
        "colab": {
          "base_uri": "https://localhost:8080/",
          "height": 279
        },
        "id": "50_Ny4nrqWSZ",
        "outputId": "c00a0e21-43a4-4894-fcdc-e3e9f91a2cf7"
      },
      "execution_count": 20,
      "outputs": [
        {
          "output_type": "display_data",
          "data": {
            "text/plain": [
              "<Figure size 432x288 with 1 Axes>"
            ],
            "image/png": "[encoded data removed]"
          },
          "metadata": {
            "needs_background": "light"
          }
        }
      ]
    },
    {
      "cell_type": "code",
      "source": [
        "#Model 2 with LSTM\n",
        "from tensorflow.keras import layers\n",
        "\n",
        "input = layers.Input(shape=(), dtype=\"string\")\n",
        "x = vectorize_layer(input)\n",
        "x = embedding(x)\n",
        "x = layers.LSTM(units=64, return_sequences=True)(x)\n",
        "x = layers.LSTM(64)(x)\n",
        "x = layers.Dense(64, activation='relu')(x)\n",
        "output = layers.Dense(1, activation='sigmoid')(x)\n",
        "\n",
        "model_2 = tf.keras.Model(input, output, name=\"nlp_model_2_LSTM\")\n",
        "model_2.compile(loss=\"binary_crossentropy\", optimizer=tf.keras.optimizers.Adam(), metrics = ['accuracy'])\n",
        "history_2 = model_2.fit(train_dataset, epochs=10, validation_data=test_dataset, callbacks=get_callbacks(model_2.name))"
      ],
      "metadata": {
        "colab": {
          "base_uri": "https://localhost:8080/"
        },
        "id": "y3_NlmWVqXy3",
        "outputId": "cab81df6-41c2-4df4-b23c-5812117efc4a"
      },
      "execution_count": 21,
      "outputs": [
        {
          "output_type": "stream",
          "name": "stdout",
          "text": [
            "Epoch 1/10\n",
            "390/391 [============================>.] - ETA: 0s - loss: 0.4490 - accuracy: 0.8224\n",
            "Epoch 1: val_loss improved from inf to 0.50806, saving model to saved_models/nlp_model_2_LSTM\n"
          ]
        },
        {
          "output_type": "stream",
          "name": "stderr",
          "text": [
            "WARNING:absl:Found untraced functions such as lstm_cell_layer_call_fn, lstm_cell_layer_call_and_return_conditional_losses, lstm_cell_1_layer_call_fn, lstm_cell_1_layer_call_and_return_conditional_losses while saving (showing 4 of 4). These functions will not be directly callable after loading.\n"
          ]
        },
        {
          "output_type": "stream",
          "name": "stdout",
          "text": [
            "\b\b\b\b\b\b\b\b\b\b\b\b\b\b\b\b\b\b\b\b\b\b\b\b\b\b\b\b\b\b\b\b\b\b\b\b\b\b\b\b\b\b\b\b\b\b\b\b\b\b\b\b\b\b\b\b\b\b\b\b\b\b\b\b\b\b\b\b\b\b\b\b\b\b\b\b\b\b\b\b\b\b\b\b\r391/391 [==============================] - 29s 58ms/step - loss: 0.4490 - accuracy: 0.8224 - val_loss: 0.5081 - val_accuracy: 0.7955\n",
            "Epoch 2/10\n",
            "391/391 [==============================] - ETA: 0s - loss: 0.5077 - accuracy: 0.7535\n",
            "Epoch 2: val_loss did not improve from 0.50806\n",
            "391/391 [==============================] - 14s 36ms/step - loss: 0.5077 - accuracy: 0.7535 - val_loss: 0.5669 - val_accuracy: 0.7117\n",
            "Epoch 3/10\n",
            "391/391 [==============================] - ETA: 0s - loss: 0.5029 - accuracy: 0.7653\n",
            "Epoch 3: val_loss did not improve from 0.50806\n",
            "391/391 [==============================] - 14s 36ms/step - loss: 0.5029 - accuracy: 0.7653 - val_loss: 0.6045 - val_accuracy: 0.7065\n",
            "Epoch 4/10\n",
            "390/391 [============================>.] - ETA: 0s - loss: 0.5519 - accuracy: 0.7359\n",
            "Epoch 4: val_loss did not improve from 0.50806\n",
            "391/391 [==============================] - 15s 37ms/step - loss: 0.5518 - accuracy: 0.7360 - val_loss: 0.5849 - val_accuracy: 0.7114\n",
            "Epoch 5/10\n",
            "391/391 [==============================] - ETA: 0s - loss: 0.5908 - accuracy: 0.7070\n",
            "Epoch 5: val_loss did not improve from 0.50806\n",
            "391/391 [==============================] - 14s 36ms/step - loss: 0.5908 - accuracy: 0.7070 - val_loss: 0.6401 - val_accuracy: 0.6559\n",
            "Epoch 6/10\n",
            "389/391 [============================>.] - ETA: 0s - loss: 0.6010 - accuracy: 0.7029\n",
            "Epoch 6: val_loss did not improve from 0.50806\n",
            "Restoring model weights from the end of the best epoch: 1.\n",
            "391/391 [==============================] - 14s 36ms/step - loss: 0.6010 - accuracy: 0.7029 - val_loss: 0.6379 - val_accuracy: 0.6610\n",
            "Epoch 6: early stopping\n"
          ]
        }
      ]
    },
    {
      "cell_type": "code",
      "source": [
        "model_2 = tf.keras.models.load_model(f\"saved_models/{model_2.name}\")\n",
        "results = model_2.predict(test_dataset.map(lambda text, label: text))\n",
        "results = tf.squeeze(tf.round(results))"
      ],
      "metadata": {
        "colab": {
          "base_uri": "https://localhost:8080/"
        },
        "id": "99PTBnNVj44e",
        "outputId": "2e23c83d-b09e-494a-ce6d-d2a5c6bde7ec"
      },
      "execution_count": 22,
      "outputs": [
        {
          "output_type": "stream",
          "name": "stdout",
          "text": [
            "391/391 [==============================] - 6s 13ms/step\n"
          ]
        }
      ]
    },
    {
      "cell_type": "code",
      "source": [
        "calculate_results(y_true, results)"
      ],
      "metadata": {
        "colab": {
          "base_uri": "https://localhost:8080/"
        },
        "id": "23l_GG4ikBj4",
        "outputId": "36209ac9-239d-4eb2-aa33-7f711216e1ef"
      },
      "execution_count": 23,
      "outputs": [
        {
          "output_type": "execute_result",
          "data": {
            "text/plain": [
              "{'Accuracy': 79.552,\n",
              " 'Precision': 0.801497070891478,\n",
              " 'Recall value': 0.79552,\n",
              " 'F1-Score': 0.7945015166366941}"
            ]
          },
          "metadata": {},
          "execution_count": 23
        }
      ]
    },
    {
      "cell_type": "code",
      "source": [
        "plot_graphs(history_1, 'accuracy')"
      ],
      "metadata": {
        "colab": {
          "base_uri": "https://localhost:8080/",
          "height": 279
        },
        "id": "_YzfsVdGkEDG",
        "outputId": "d80c8d73-4423-4468-bf4d-2ecc21916095"
      },
      "execution_count": 24,
      "outputs": [
        {
          "output_type": "display_data",
          "data": {
            "text/plain": [
              "<Figure size 432x288 with 1 Axes>"
            ],
            "image/png": "[encoded data removed]"
          },
          "metadata": {
            "needs_background": "light"
          }
        }
      ]
    },
    {
      "cell_type": "code",
      "source": [
        "plot_graphs(history_1, 'loss')"
      ],
      "metadata": {
        "colab": {
          "base_uri": "https://localhost:8080/",
          "height": 279
        },
        "id": "jKFdOKlgkHIi",
        "outputId": "c8634a01-8404-48dd-dcfc-08231cfff8b9"
      },
      "execution_count": 25,
      "outputs": [
        {
          "output_type": "display_data",
          "data": {
            "text/plain": [
              "<Figure size 432x288 with 1 Axes>"
            ],
            "image/png": "[encoded data removed]"
          },
          "metadata": {
            "needs_background": "light"
          }
        }
      ]
    },
    {
      "cell_type": "code",
      "source": [
        "# Model 3\n",
        "from tensorflow.keras import layers\n",
        "\n",
        "input = layers.Input(shape=(), dtype=\"string\")\n",
        "x = vectorize_layer(input)\n",
        "x = embedding(x)\n",
        "x = layers.GRU(64, return_sequences=True)(x)\n",
        "x = layers.LSTM(64, return_sequences=True)(x)\n",
        "x = layers.GRU(64)(x)\n",
        "x = layers.Dense(64, activation='relu')(x)\n",
        "output = layers.Dense(1, activation='sigmoid')(x)\n",
        "\n",
        "model_3 = tf.keras.Model(input, output, name=\"nlp_model_3_GRU\")\n",
        "model_3.compile(loss=\"binary_crossentropy\", optimizer=tf.keras.optimizers.Adam(), metrics = ['accuracy'])\n",
        "history_3 = model_3.fit(train_dataset, epochs=10, validation_data=test_dataset, callbacks=get_callbacks(model_3.name))"
      ],
      "metadata": {
        "colab": {
          "base_uri": "https://localhost:8080/"
        },
        "id": "pU0oBHRNkMe2",
        "outputId": "26e53131-a514-47eb-e421-554af737b0b3"
      },
      "execution_count": 26,
      "outputs": [
        {
          "output_type": "stream",
          "name": "stdout",
          "text": [
            "Epoch 1/10\n",
            "391/391 [==============================] - ETA: 0s - loss: 0.5214 - accuracy: 0.7179\n",
            "Epoch 1: val_loss improved from inf to 0.37674, saving model to saved_models/nlp_model_3_GRU\n"
          ]
        },
        {
          "output_type": "stream",
          "name": "stderr",
          "text": [
            "WARNING:absl:Found untraced functions such as gru_cell_layer_call_fn, gru_cell_layer_call_and_return_conditional_losses, lstm_cell_4_layer_call_fn, lstm_cell_4_layer_call_and_return_conditional_losses, gru_cell_1_layer_call_fn while saving (showing 5 of 6). These functions will not be directly callable after loading.\n"
          ]
        },
        {
          "output_type": "stream",
          "name": "stdout",
          "text": [
            "\b\b\b\b\b\b\b\b\b\b\b\b\b\b\b\b\b\b\b\b\b\b\b\b\b\b\b\b\b\b\b\b\b\b\b\b\b\b\b\b\b\b\b\b\b\b\b\b\b\b\b\b\b\b\b\b\b\b\b\b\b\b\b\b\b\b\b\b\b\b\b\b\b\b\b\b\b\b\b\b\b\b\b\b\r391/391 [==============================] - 33s 74ms/step - loss: 0.5214 - accuracy: 0.7179 - val_loss: 0.3767 - val_accuracy: 0.8526\n",
            "Epoch 2/10\n",
            "391/391 [==============================] - ETA: 0s - loss: 0.2412 - accuracy: 0.9042\n",
            "Epoch 2: val_loss improved from 0.37674 to 0.32824, saving model to saved_models/nlp_model_3_GRU\n"
          ]
        },
        {
          "output_type": "stream",
          "name": "stderr",
          "text": [
            "WARNING:absl:Found untraced functions such as gru_cell_layer_call_fn, gru_cell_layer_call_and_return_conditional_losses, lstm_cell_4_layer_call_fn, lstm_cell_4_layer_call_and_return_conditional_losses, gru_cell_1_layer_call_fn while saving (showing 5 of 6). These functions will not be directly callable after loading.\n"
          ]
        },
        {
          "output_type": "stream",
          "name": "stdout",
          "text": [
            "\b\b\b\b\b\b\b\b\b\b\b\b\b\b\b\b\b\b\b\b\b\b\b\b\b\b\b\b\b\b\b\b\b\b\b\b\b\b\b\b\b\b\b\b\b\b\b\b\b\b\b\b\b\b\b\b\b\b\b\b\b\b\b\b\b\b\b\b\b\b\b\b\b\b\b\b\b\b\b\b\b\b\b\b\r391/391 [==============================] - 32s 80ms/step - loss: 0.2412 - accuracy: 0.9042 - val_loss: 0.3282 - val_accuracy: 0.8612\n",
            "Epoch 3/10\n",
            "391/391 [==============================] - ETA: 0s - loss: 0.2181 - accuracy: 0.9137\n",
            "Epoch 3: val_loss did not improve from 0.32824\n",
            "391/391 [==============================] - 19s 49ms/step - loss: 0.2181 - accuracy: 0.9137 - val_loss: 0.3349 - val_accuracy: 0.8664\n",
            "Epoch 4/10\n",
            "390/391 [============================>.] - ETA: 0s - loss: 0.2008 - accuracy: 0.9225\n",
            "Epoch 4: val_loss improved from 0.32824 to 0.30733, saving model to saved_models/nlp_model_3_GRU\n"
          ]
        },
        {
          "output_type": "stream",
          "name": "stderr",
          "text": [
            "WARNING:absl:Found untraced functions such as gru_cell_layer_call_fn, gru_cell_layer_call_and_return_conditional_losses, lstm_cell_4_layer_call_fn, lstm_cell_4_layer_call_and_return_conditional_losses, gru_cell_1_layer_call_fn while saving (showing 5 of 6). These functions will not be directly callable after loading.\n"
          ]
        },
        {
          "output_type": "stream",
          "name": "stdout",
          "text": [
            "\b\b\b\b\b\b\b\b\b\b\b\b\b\b\b\b\b\b\b\b\b\b\b\b\b\b\b\b\b\b\b\b\b\b\b\b\b\b\b\b\b\b\b\b\b\b\b\b\b\b\b\b\b\b\b\b\b\b\b\b\b\b\b\b\b\b\b\b\b\b\b\b\b\b\b\b\b\b\b\b\b\b\b\b\r391/391 [==============================] - 28s 72ms/step - loss: 0.2008 - accuracy: 0.9225 - val_loss: 0.3073 - val_accuracy: 0.8702\n",
            "Epoch 5/10\n",
            "391/391 [==============================] - ETA: 0s - loss: 0.1699 - accuracy: 0.9355\n",
            "Epoch 5: val_loss did not improve from 0.30733\n",
            "391/391 [==============================] - 21s 52ms/step - loss: 0.1699 - accuracy: 0.9355 - val_loss: 0.3544 - val_accuracy: 0.8626\n",
            "Epoch 6/10\n",
            "391/391 [==============================] - ETA: 0s - loss: 0.1429 - accuracy: 0.9480\n",
            "Epoch 6: val_loss did not improve from 0.30733\n",
            "391/391 [==============================] - 20s 50ms/step - loss: 0.1429 - accuracy: 0.9480 - val_loss: 0.3669 - val_accuracy: 0.8616\n",
            "Epoch 7/10\n",
            "391/391 [==============================] - ETA: 0s - loss: 0.1203 - accuracy: 0.9576\n",
            "Epoch 7: val_loss did not improve from 0.30733\n",
            "391/391 [==============================] - 19s 47ms/step - loss: 0.1203 - accuracy: 0.9576 - val_loss: 0.4154 - val_accuracy: 0.8532\n",
            "Epoch 8/10\n",
            "391/391 [==============================] - ETA: 0s - loss: 0.0956 - accuracy: 0.9684\n",
            "Epoch 8: val_loss did not improve from 0.30733\n",
            "391/391 [==============================] - 24s 61ms/step - loss: 0.0956 - accuracy: 0.9684 - val_loss: 0.4964 - val_accuracy: 0.8488\n",
            "Epoch 9/10\n",
            "391/391 [==============================] - ETA: 0s - loss: 0.0797 - accuracy: 0.9749\n",
            "Epoch 9: val_loss did not improve from 0.30733\n",
            "Restoring model weights from the end of the best epoch: 4.\n",
            "391/391 [==============================] - 19s 49ms/step - loss: 0.0797 - accuracy: 0.9749 - val_loss: 0.5196 - val_accuracy: 0.8507\n",
            "Epoch 9: early stopping\n"
          ]
        }
      ]
    },
    {
      "cell_type": "code",
      "source": [
        "model_3 = tf.keras.models.load_model(f\"saved_models/{model_3.name}\")\n",
        "results = model_3.predict(test_dataset.map(lambda text, label: text))\n",
        "results = tf.squeeze(tf.round(results))\n",
        "calculate_results(y_true, results)"
      ],
      "metadata": {
        "colab": {
          "base_uri": "https://localhost:8080/"
        },
        "id": "Bjno-frzkt4R",
        "outputId": "9bacc539-22f8-472a-c3e2-b50786f7c26f"
      },
      "execution_count": 27,
      "outputs": [
        {
          "output_type": "stream",
          "name": "stdout",
          "text": [
            "391/391 [==============================] - 7s 17ms/step\n"
          ]
        },
        {
          "output_type": "execute_result",
          "data": {
            "text/plain": [
              "{'Accuracy': 87.024,\n",
              " 'Precision': 0.8704477257468097,\n",
              " 'Recall value': 0.87024,\n",
              " 'F1-Score': 0.8702218069661426}"
            ]
          },
          "metadata": {},
          "execution_count": 27
        }
      ]
    },
    {
      "cell_type": "code",
      "source": [
        "plot_graphs(history_3, 'accuracy')"
      ],
      "metadata": {
        "colab": {
          "base_uri": "https://localhost:8080/",
          "height": 279
        },
        "id": "Yn6KPMX3lSTy",
        "outputId": "4817bd43-90ce-486c-8202-7e1ac90973cf"
      },
      "execution_count": 28,
      "outputs": [
        {
          "output_type": "display_data",
          "data": {
            "text/plain": [
              "<Figure size 432x288 with 1 Axes>"
            ],
            "image/png": "[encoded data removed]"
          },
          "metadata": {
            "needs_background": "light"
          }
        }
      ]
    },
    {
      "cell_type": "code",
      "source": [
        "plot_graphs(history_3, 'loss')"
      ],
      "metadata": {
        "colab": {
          "base_uri": "https://localhost:8080/",
          "height": 279
        },
        "id": "unuyEF-ElT0G",
        "outputId": "c80738db-1a08-4df2-d66a-7699954cea3b"
      },
      "execution_count": 29,
      "outputs": [
        {
          "output_type": "display_data",
          "data": {
            "text/plain": [
              "<Figure size 432x288 with 1 Axes>"
            ],
            "image/png": "[encoded data removed]"
          },
          "metadata": {
            "needs_background": "light"
          }
        }
      ]
    },
    {
      "cell_type": "code",
      "source": [
        "from tensorflow.keras import layers\n",
        "\n",
        "input = layers.Input(shape=(), dtype=\"string\")\n",
        "x = vectorize_layer(input)\n",
        "x = embedding(x)\n",
        "x = layers.GRU(64, return_sequences=True)(x)\n",
        "x = layers.LSTM(64, return_sequences=True)(x)\n",
        "x = layers.GlobalAveragePooling1D()(x)\n",
        "x = layers.Dense(64, activation='relu')(x)\n",
        "output = layers.Dense(1, activation='sigmoid')(x)\n",
        "\n",
        "model_3_1 = tf.keras.Model(input, output, name=\"nlp_model_3_GRU_1\")\n",
        "model_3_1.compile(loss=\"binary_crossentropy\", optimizer=tf.keras.optimizers.Adam(), metrics = ['accuracy'])\n",
        "history_3_1 = model_3_1.fit(train_dataset, epochs=10, validation_data=test_dataset, callbacks=get_callbacks(model_3_1.name))"
      ],
      "metadata": {
        "colab": {
          "base_uri": "https://localhost:8080/"
        },
        "id": "gluChrLqmV0y",
        "outputId": "7e9ec77a-6e66-4113-d01c-4b64abcc6a05"
      },
      "execution_count": 30,
      "outputs": [
        {
          "output_type": "stream",
          "name": "stdout",
          "text": [
            "Epoch 1/10\n",
            "390/391 [============================>.] - ETA: 0s - loss: 0.2258 - accuracy: 0.9179\n",
            "Epoch 1: val_loss improved from inf to 0.33454, saving model to saved_models/nlp_model_3_GRU_1\n"
          ]
        },
        {
          "output_type": "stream",
          "name": "stderr",
          "text": [
            "WARNING:absl:Found untraced functions such as gru_cell_4_layer_call_fn, gru_cell_4_layer_call_and_return_conditional_losses, lstm_cell_6_layer_call_fn, lstm_cell_6_layer_call_and_return_conditional_losses while saving (showing 4 of 4). These functions will not be directly callable after loading.\n"
          ]
        },
        {
          "output_type": "stream",
          "name": "stdout",
          "text": [
            "\b\b\b\b\b\b\b\b\b\b\b\b\b\b\b\b\b\b\b\b\b\b\b\b\b\b\b\b\b\b\b\b\b\b\b\b\b\b\b\b\b\b\b\b\b\b\b\b\b\b\b\b\b\b\b\b\b\b\b\b\b\b\b\b\b\b\b\b\b\b\b\b\b\b\b\b\b\b\b\b\b\b\b\b\r391/391 [==============================] - 25s 55ms/step - loss: 0.2256 - accuracy: 0.9179 - val_loss: 0.3345 - val_accuracy: 0.8660\n",
            "Epoch 2/10\n",
            "389/391 [============================>.] - ETA: 0s - loss: 0.1637 - accuracy: 0.9401\n",
            "Epoch 2: val_loss did not improve from 0.33454\n",
            "391/391 [==============================] - 14s 36ms/step - loss: 0.1634 - accuracy: 0.9402 - val_loss: 0.3876 - val_accuracy: 0.8614\n",
            "Epoch 3/10\n",
            "390/391 [============================>.] - ETA: 0s - loss: 0.1380 - accuracy: 0.9516\n",
            "Epoch 3: val_loss did not improve from 0.33454\n",
            "391/391 [==============================] - 14s 36ms/step - loss: 0.1379 - accuracy: 0.9516 - val_loss: 0.3638 - val_accuracy: 0.8566\n",
            "Epoch 4/10\n",
            "389/391 [============================>.] - ETA: 0s - loss: 0.1172 - accuracy: 0.9602\n",
            "Epoch 4: val_loss did not improve from 0.33454\n",
            "391/391 [==============================] - 15s 38ms/step - loss: 0.1175 - accuracy: 0.9602 - val_loss: 0.4462 - val_accuracy: 0.8400\n",
            "Epoch 5/10\n",
            "389/391 [============================>.] - ETA: 0s - loss: 0.1031 - accuracy: 0.9666\n",
            "Epoch 5: val_loss did not improve from 0.33454\n",
            "391/391 [==============================] - 16s 40ms/step - loss: 0.1030 - accuracy: 0.9666 - val_loss: 0.5328 - val_accuracy: 0.8438\n",
            "Epoch 6/10\n",
            "391/391 [==============================] - ETA: 0s - loss: 0.0871 - accuracy: 0.9720\n",
            "Epoch 6: val_loss did not improve from 0.33454\n",
            "Restoring model weights from the end of the best epoch: 1.\n",
            "391/391 [==============================] - 15s 39ms/step - loss: 0.0871 - accuracy: 0.9720 - val_loss: 0.6898 - val_accuracy: 0.8353\n",
            "Epoch 6: early stopping\n"
          ]
        }
      ]
    },
    {
      "cell_type": "code",
      "source": [
        "model_3_1 = tf.keras.models.load_model(f\"saved_models/{model_3_1.name}\")\n",
        "results = model_3_1.predict(test_dataset.map(lambda text, label: text))\n",
        "results = tf.squeeze(tf.round(results))\n",
        "calculate_results(y_true, results)"
      ],
      "metadata": {
        "colab": {
          "base_uri": "https://localhost:8080/"
        },
        "id": "EmvPa6MJmq7T",
        "outputId": "73be3dee-45e1-44f7-bdcd-b5435fc1df24"
      },
      "execution_count": 31,
      "outputs": [
        {
          "output_type": "stream",
          "name": "stdout",
          "text": [
            "391/391 [==============================] - 6s 13ms/step\n"
          ]
        },
        {
          "output_type": "execute_result",
          "data": {
            "text/plain": [
              "{'Accuracy': 86.6,\n",
              " 'Precision': 0.8671056540953257,\n",
              " 'Recall value': 0.866,\n",
              " 'F1-Score': 0.8658990281905126}"
            ]
          },
          "metadata": {},
          "execution_count": 31
        }
      ]
    },
    {
      "cell_type": "code",
      "source": [
        "plot_graphs(history_3_1, 'accuracy')"
      ],
      "metadata": {
        "colab": {
          "base_uri": "https://localhost:8080/",
          "height": 279
        },
        "id": "iaqM2DOeo1RR",
        "outputId": "08cf4436-e89c-4f40-d5fb-935573723ee9"
      },
      "execution_count": 32,
      "outputs": [
        {
          "output_type": "display_data",
          "data": {
            "text/plain": [
              "<Figure size 432x288 with 1 Axes>"
            ],
            "image/png": "[encoded data removed]"
          },
          "metadata": {
            "needs_background": "light"
          }
        }
      ]
    },
    {
      "cell_type": "code",
      "source": [
        "plot_graphs(history_3_1, 'loss')"
      ],
      "metadata": {
        "colab": {
          "base_uri": "https://localhost:8080/",
          "height": 279
        },
        "id": "aPiXg9-To4bC",
        "outputId": "afd28d79-0c9d-4391-9b18-5f651f944d45"
      },
      "execution_count": 33,
      "outputs": [
        {
          "output_type": "display_data",
          "data": {
            "text/plain": [
              "<Figure size 432x288 with 1 Axes>"
            ],
            "image/png": "[encoded data removed]"
          },
          "metadata": {
            "needs_background": "light"
          }
        }
      ]
    },
    {
      "cell_type": "code",
      "source": [
        "from tensorflow.keras import layers\n",
        "\n",
        "input = layers.Input(shape=(), dtype=\"string\")\n",
        "x = vectorize_layer(input)\n",
        "x = embedding(x)\n",
        "x = layers.Bidirectional(layers.LSTM(64, return_sequences=True))(x)\n",
        "x = layers.Bidirectional(layers.GRU(64, return_sequences=True))(x)\n",
        "x = layers.GlobalAveragePooling1D()(x)\n",
        "x = layers.Dense(64, activation='relu')(x)\n",
        "output = layers.Dense(1, activation='sigmoid')(x)\n",
        "\n",
        "model_4 = tf.keras.Model(input, output, name=\"nlp_model_4_BI_LSTM\")\n",
        "model_4.compile(loss=\"binary_crossentropy\", optimizer=tf.keras.optimizers.Adam(), metrics = ['accuracy'])\n",
        "history_4 = model_4.fit(train_dataset, epochs=10, validation_data=test_dataset, callbacks=get_callbacks(model_4.name))"
      ],
      "metadata": {
        "colab": {
          "base_uri": "https://localhost:8080/"
        },
        "id": "hK9l-crao-cc",
        "outputId": "9addbf61-4e12-44ce-f38b-cc338c32fff3"
      },
      "execution_count": 34,
      "outputs": [
        {
          "output_type": "stream",
          "name": "stdout",
          "text": [
            "Epoch 1/10\n",
            "391/391 [==============================] - ETA: 0s - loss: 0.1967 - accuracy: 0.9313\n",
            "Epoch 1: val_loss improved from inf to 0.36267, saving model to saved_models/nlp_model_4_BI_LSTM\n"
          ]
        },
        {
          "output_type": "stream",
          "name": "stderr",
          "text": [
            "WARNING:absl:Found untraced functions such as lstm_cell_9_layer_call_fn, lstm_cell_9_layer_call_and_return_conditional_losses, lstm_cell_10_layer_call_fn, lstm_cell_10_layer_call_and_return_conditional_losses, gru_cell_7_layer_call_fn while saving (showing 5 of 8). These functions will not be directly callable after loading.\n"
          ]
        },
        {
          "output_type": "stream",
          "name": "stdout",
          "text": [
            "\b\b\b\b\b\b\b\b\b\b\b\b\b\b\b\b\b\b\b\b\b\b\b\b\b\b\b\b\b\b\b\b\b\b\b\b\b\b\b\b\b\b\b\b\b\b\b\b\b\b\b\b\b\b\b\b\b\b\b\b\b\b\b\b\b\b\b\b\b\b\b\b\b\b\b\b\b\b\b\b\b\b\b\b\r391/391 [==============================] - 58s 135ms/step - loss: 0.1967 - accuracy: 0.9313 - val_loss: 0.3627 - val_accuracy: 0.8598\n",
            "Epoch 2/10\n",
            "390/391 [============================>.] - ETA: 0s - loss: 0.1510 - accuracy: 0.9466\n",
            "Epoch 2: val_loss did not improve from 0.36267\n",
            "391/391 [==============================] - 29s 74ms/step - loss: 0.1509 - accuracy: 0.9466 - val_loss: 0.3739 - val_accuracy: 0.8606\n",
            "Epoch 3/10\n",
            "391/391 [==============================] - ETA: 0s - loss: 0.1300 - accuracy: 0.9560\n",
            "Epoch 3: val_loss did not improve from 0.36267\n",
            "391/391 [==============================] - 29s 75ms/step - loss: 0.1300 - accuracy: 0.9560 - val_loss: 0.3933 - val_accuracy: 0.8516\n",
            "Epoch 4/10\n",
            "391/391 [==============================] - ETA: 0s - loss: 0.1139 - accuracy: 0.9632\n",
            "Epoch 4: val_loss did not improve from 0.36267\n",
            "391/391 [==============================] - 25s 63ms/step - loss: 0.1139 - accuracy: 0.9632 - val_loss: 0.4658 - val_accuracy: 0.8422\n",
            "Epoch 5/10\n",
            "391/391 [==============================] - ETA: 0s - loss: 0.0997 - accuracy: 0.9690\n",
            "Epoch 5: val_loss did not improve from 0.36267\n",
            "391/391 [==============================] - 27s 67ms/step - loss: 0.0997 - accuracy: 0.9690 - val_loss: 0.5250 - val_accuracy: 0.8372\n",
            "Epoch 6/10\n",
            "391/391 [==============================] - ETA: 0s - loss: 0.0892 - accuracy: 0.9716\n",
            "Epoch 6: val_loss did not improve from 0.36267\n",
            "Restoring model weights from the end of the best epoch: 1.\n",
            "391/391 [==============================] - 31s 78ms/step - loss: 0.0892 - accuracy: 0.9716 - val_loss: 0.5548 - val_accuracy: 0.8343\n",
            "Epoch 6: early stopping\n"
          ]
        }
      ]
    },
    {
      "cell_type": "code",
      "source": [
        "model_4 = tf.keras.models.load_model(f\"saved_models/{model_4.name}\")\n",
        "results = model_4.predict(test_dataset.map(lambda text, label: text))\n",
        "results = tf.squeeze(tf.round(results))\n",
        "calculate_results(y_true, results)"
      ],
      "metadata": {
        "colab": {
          "base_uri": "https://localhost:8080/"
        },
        "id": "rbSin3FwpNWl",
        "outputId": "df3635c0-508d-4faa-b62e-cd2967d3ddc2"
      },
      "execution_count": 35,
      "outputs": [
        {
          "output_type": "stream",
          "name": "stdout",
          "text": [
            "391/391 [==============================] - 9s 21ms/step\n"
          ]
        },
        {
          "output_type": "execute_result",
          "data": {
            "text/plain": [
              "{'Accuracy': 85.98,\n",
              " 'Precision': 0.8613059207653924,\n",
              " 'Recall value': 0.8598,\n",
              " 'F1-Score': 0.8596537594418924}"
            ]
          },
          "metadata": {},
          "execution_count": 35
        }
      ]
    },
    {
      "cell_type": "code",
      "source": [
        "plot_graphs(history_4, 'accuracy')"
      ],
      "metadata": {
        "colab": {
          "base_uri": "https://localhost:8080/",
          "height": 279
        },
        "id": "u4VDFQXSpTtj",
        "outputId": "1e514296-11b7-428e-9bf2-a035066c8257"
      },
      "execution_count": 37,
      "outputs": [
        {
          "output_type": "display_data",
          "data": {
            "text/plain": [
              "<Figure size 432x288 with 1 Axes>"
            ],
            "image/png": "[encoded data removed]"
          },
          "metadata": {
            "needs_background": "light"
          }
        }
      ]
    },
    {
      "cell_type": "code",
      "source": [
        "plot_graphs(history_4, 'loss')"
      ],
      "metadata": {
        "colab": {
          "base_uri": "https://localhost:8080/",
          "height": 279
        },
        "id": "bnOdPmT1pW_N",
        "outputId": "d76f2b18-630a-4ba7-c03f-78aed9e17b8c"
      },
      "execution_count": 36,
      "outputs": [
        {
          "output_type": "display_data",
          "data": {
            "text/plain": [
              "<Figure size 432x288 with 1 Axes>"
            ],
            "image/png": "[encoded data removed]"
          },
          "metadata": {
            "needs_background": "light"
          }
        }
      ]
    },
    {
      "cell_type": "code",
      "source": [
        "from tensorflow.keras import layers\n",
        "\n",
        "inputs = layers.Input(shape=(), dtype=\"string\")\n",
        "x = vectorize_layer(inputs)\n",
        "x = embedding(x)\n",
        "x = layers.Conv1D(64, 5, 1, activation='relu',padding=\"same\")(x)\n",
        "x = layers.GlobalMaxPool1D()(x)\n",
        "x = layers.Dense(64, activation='relu')(x)\n",
        "output = layers.Dense(1, activation=\"sigmoid\")(x)\n",
        "\n",
        "model_5 = tf.keras.Model(inputs, output, name=\"NLP_model_5_CNN\")\n",
        "model_5.compile(loss=\"binary_crossentropy\", optimizer=tf.keras.optimizers.Adam(), metrics = ['accuracy'])\n",
        "history_5 = model_5.fit(train_dataset, epochs=10, validation_data=test_dataset, callbacks=get_callbacks(model_5.name))"
      ],
      "metadata": {
        "colab": {
          "base_uri": "https://localhost:8080/"
        },
        "id": "naX19Auxpd0M",
        "outputId": "8d808717-cfce-424c-be75-d8c4bc8b3ca5"
      },
      "execution_count": 38,
      "outputs": [
        {
          "output_type": "stream",
          "name": "stdout",
          "text": [
            "Epoch 1/10\n",
            "391/391 [==============================] - ETA: 0s - loss: 0.3696 - accuracy: 0.8385\n",
            "Epoch 1: val_loss improved from inf to 0.38583, saving model to saved_models/NLP_model_5_CNN\n"
          ]
        },
        {
          "output_type": "stream",
          "name": "stderr",
          "text": [
            "WARNING:absl:Found untraced functions such as _jit_compiled_convolution_op while saving (showing 1 of 1). These functions will not be directly callable after loading.\n"
          ]
        },
        {
          "output_type": "stream",
          "name": "stdout",
          "text": [
            "\b\b\b\b\b\b\b\b\b\b\b\b\b\b\b\b\b\b\b\b\b\b\b\b\b\b\b\b\b\b\b\b\b\b\b\b\b\b\b\b\b\b\b\b\b\b\b\b\b\b\b\b\b\b\b\b\b\b\b\b\b\b\b\b\b\b\b\b\b\b\b\b\b\b\b\b\b\b\b\b\b\b\b\b\r391/391 [==============================] - 12s 18ms/step - loss: 0.3696 - accuracy: 0.8385 - val_loss: 0.3858 - val_accuracy: 0.8310\n",
            "Epoch 2/10\n",
            "390/391 [============================>.] - ETA: 0s - loss: 0.3379 - accuracy: 0.8552\n",
            "Epoch 2: val_loss improved from 0.38583 to 0.37864, saving model to saved_models/NLP_model_5_CNN\n"
          ]
        },
        {
          "output_type": "stream",
          "name": "stderr",
          "text": [
            "WARNING:absl:Found untraced functions such as _jit_compiled_convolution_op while saving (showing 1 of 1). These functions will not be directly callable after loading.\n"
          ]
        },
        {
          "output_type": "stream",
          "name": "stdout",
          "text": [
            "\b\b\b\b\b\b\b\b\b\b\b\b\b\b\b\b\b\b\b\b\b\b\b\b\b\b\b\b\b\b\b\b\b\b\b\b\b\b\b\b\b\b\b\b\b\b\b\b\b\b\b\b\b\b\b\b\b\b\b\b\b\b\b\b\b\b\b\b\b\b\b\b\b\b\b\b\b\b\b\b\b\b\b\b\r391/391 [==============================] - 7s 18ms/step - loss: 0.3378 - accuracy: 0.8552 - val_loss: 0.3786 - val_accuracy: 0.8366\n",
            "Epoch 3/10\n",
            "386/391 [============================>.] - ETA: 0s - loss: 0.3089 - accuracy: 0.8710\n",
            "Epoch 3: val_loss improved from 0.37864 to 0.36997, saving model to saved_models/NLP_model_5_CNN\n"
          ]
        },
        {
          "output_type": "stream",
          "name": "stderr",
          "text": [
            "WARNING:absl:Found untraced functions such as _jit_compiled_convolution_op while saving (showing 1 of 1). These functions will not be directly callable after loading.\n"
          ]
        },
        {
          "output_type": "stream",
          "name": "stdout",
          "text": [
            "\b\b\b\b\b\b\b\b\b\b\b\b\b\b\b\b\b\b\b\b\b\b\b\b\b\b\b\b\b\b\b\b\b\b\b\b\b\b\b\b\b\b\b\b\b\b\b\b\b\b\b\b\b\b\b\b\b\b\b\b\b\b\b\b\b\b\b\b\b\b\b\b\b\b\b\b\b\b\b\b\b\b\b\b\r391/391 [==============================] - 7s 17ms/step - loss: 0.3093 - accuracy: 0.8706 - val_loss: 0.3700 - val_accuracy: 0.8407\n",
            "Epoch 4/10\n",
            "390/391 [============================>.] - ETA: 0s - loss: 0.2657 - accuracy: 0.8917\n",
            "Epoch 4: val_loss improved from 0.36997 to 0.36189, saving model to saved_models/NLP_model_5_CNN\n"
          ]
        },
        {
          "output_type": "stream",
          "name": "stderr",
          "text": [
            "WARNING:absl:Found untraced functions such as _jit_compiled_convolution_op while saving (showing 1 of 1). These functions will not be directly callable after loading.\n"
          ]
        },
        {
          "output_type": "stream",
          "name": "stdout",
          "text": [
            "\b\b\b\b\b\b\b\b\b\b\b\b\b\b\b\b\b\b\b\b\b\b\b\b\b\b\b\b\b\b\b\b\b\b\b\b\b\b\b\b\b\b\b\b\b\b\b\b\b\b\b\b\b\b\b\b\b\b\b\b\b\b\b\b\b\b\b\b\b\b\b\b\b\b\b\b\b\b\b\b\b\b\b\b\r391/391 [==============================] - 7s 17ms/step - loss: 0.2657 - accuracy: 0.8917 - val_loss: 0.3619 - val_accuracy: 0.8458\n",
            "Epoch 5/10\n",
            "391/391 [==============================] - ETA: 0s - loss: 0.2185 - accuracy: 0.9163\n",
            "Epoch 5: val_loss did not improve from 0.36189\n",
            "391/391 [==============================] - 6s 15ms/step - loss: 0.2185 - accuracy: 0.9163 - val_loss: 0.3654 - val_accuracy: 0.8434\n",
            "Epoch 6/10\n",
            "391/391 [==============================] - ETA: 0s - loss: 0.1702 - accuracy: 0.9374\n",
            "Epoch 6: val_loss did not improve from 0.36189\n",
            "391/391 [==============================] - 6s 14ms/step - loss: 0.1702 - accuracy: 0.9374 - val_loss: 0.3965 - val_accuracy: 0.8441\n",
            "Epoch 7/10\n",
            "391/391 [==============================] - ETA: 0s - loss: 0.1207 - accuracy: 0.9582\n",
            "Epoch 7: val_loss did not improve from 0.36189\n",
            "391/391 [==============================] - 6s 16ms/step - loss: 0.1207 - accuracy: 0.9582 - val_loss: 0.4246 - val_accuracy: 0.8490\n",
            "Epoch 8/10\n",
            "386/391 [============================>.] - ETA: 0s - loss: 0.0802 - accuracy: 0.9737\n",
            "Epoch 8: val_loss did not improve from 0.36189\n",
            "391/391 [==============================] - 6s 15ms/step - loss: 0.0803 - accuracy: 0.9736 - val_loss: 0.4684 - val_accuracy: 0.8445\n",
            "Epoch 9/10\n",
            "385/391 [============================>.] - ETA: 0s - loss: 0.0515 - accuracy: 0.9847\n",
            "Epoch 9: val_loss did not improve from 0.36189\n",
            "Restoring model weights from the end of the best epoch: 4.\n",
            "391/391 [==============================] - 6s 14ms/step - loss: 0.0513 - accuracy: 0.9849 - val_loss: 0.5258 - val_accuracy: 0.8451\n",
            "Epoch 9: early stopping\n"
          ]
        }
      ]
    },
    {
      "cell_type": "code",
      "source": [
        "model_5 = tf.keras.models.load_model(f\"saved_models/{model_5.name}\")\n",
        "results = model_5.predict(test_dataset.map(lambda text, label: text))\n",
        "results = tf.squeeze(tf.round(results))\n",
        "calculate_results(y_true, results)"
      ],
      "metadata": {
        "colab": {
          "base_uri": "https://localhost:8080/"
        },
        "id": "7_H4efgRppQj",
        "outputId": "943f8a20-3f5e-4ad2-a6f8-8e50a3bc3b8f"
      },
      "execution_count": 40,
      "outputs": [
        {
          "output_type": "stream",
          "name": "stdout",
          "text": [
            "391/391 [==============================] - 2s 6ms/step\n"
          ]
        },
        {
          "output_type": "execute_result",
          "data": {
            "text/plain": [
              "{'Accuracy': 84.576,\n",
              " 'Precision': 0.8459073598560094,\n",
              " 'Recall value': 0.84576,\n",
              " 'F1-Score': 0.8457435713201301}"
            ]
          },
          "metadata": {},
          "execution_count": 40
        }
      ]
    },
    {
      "cell_type": "code",
      "source": [
        "plot_graphs(history_5, 'accuracy')"
      ],
      "metadata": {
        "colab": {
          "base_uri": "https://localhost:8080/",
          "height": 279
        },
        "id": "kHojOdbIpuND",
        "outputId": "9a39b172-0262-42d1-a6a9-ad89344b5aaf"
      },
      "execution_count": 41,
      "outputs": [
        {
          "output_type": "display_data",
          "data": {
            "text/plain": [
              "<Figure size 432x288 with 1 Axes>"
            ],
            "image/png": "[encoded data removed]"
          },
          "metadata": {
            "needs_background": "light"
          }
        }
      ]
    },
    {
      "cell_type": "code",
      "source": [
        "plot_graphs(history_5, 'loss')"
      ],
      "metadata": {
        "colab": {
          "base_uri": "https://localhost:8080/",
          "height": 279
        },
        "id": "uGH4U0Z2pwPl",
        "outputId": "e285fa77-ecaf-4553-cf76-ebfc7204c19a"
      },
      "execution_count": 42,
      "outputs": [
        {
          "output_type": "display_data",
          "data": {
            "text/plain": [
              "<Figure size 432x288 with 1 Axes>"
            ],
            "image/png": "[encoded data removed]"
          },
          "metadata": {
            "needs_background": "light"
          }
        }
      ]
    },
    {
      "cell_type": "code",
      "source": [
        "from tensorflow.keras import layers\n",
        "import tensorflow_hub as hub\n",
        "\n",
        "sentence_layer = hub.KerasLayer(\"https://tfhub.dev/google/universal-sentence-encoder/4\", input_shape=[], dtype=\"string\", trainable=False)"
      ],
      "metadata": {
        "id": "woeVVztSp_4c"
      },
      "execution_count": 43,
      "outputs": []
    },
    {
      "cell_type": "code",
      "source": [
        "model_6 = tf.keras.models.Sequential([\n",
        "    sentence_layer,\n",
        "    layers.Dense(64, activation='relu'),\n",
        "    layers.Dense(1, activation=\"sigmoid\")\n",
        "], name=\"nlp_model_6_use\")\n",
        "\n",
        "model_6.compile(loss=\"binary_crossentropy\", optimizer=tf.keras.optimizers.Adam(), metrics=['accuracy'])\n",
        "history_6 = model_6.fit(train_dataset, epochs=10, validation_data=test_dataset, callbacks=get_callbacks(model_6.name))"
      ],
      "metadata": {
        "colab": {
          "base_uri": "https://localhost:8080/"
        },
        "id": "MmOkWg6UqDIa",
        "outputId": "8fe89ec8-cf58-48f9-e2bb-940da3e77d4c"
      },
      "execution_count": 44,
      "outputs": [
        {
          "output_type": "stream",
          "name": "stdout",
          "text": [
            "Epoch 1/10\n",
            "391/391 [==============================] - ETA: 0s - loss: 0.4017 - accuracy: 0.8328\n",
            "Epoch 1: val_loss improved from inf to 0.32961, saving model to saved_models/nlp_model_6_use\n",
            "391/391 [==============================] - 81s 189ms/step - loss: 0.4017 - accuracy: 0.8328 - val_loss: 0.3296 - val_accuracy: 0.8550\n",
            "Epoch 2/10\n",
            "390/391 [============================>.] - ETA: 0s - loss: 0.3275 - accuracy: 0.8581\n",
            "Epoch 2: val_loss improved from 0.32961 to 0.32469, saving model to saved_models/nlp_model_6_use\n",
            "391/391 [==============================] - 56s 144ms/step - loss: 0.3274 - accuracy: 0.8582 - val_loss: 0.3247 - val_accuracy: 0.8570\n",
            "Epoch 3/10\n",
            "390/391 [============================>.] - ETA: 0s - loss: 0.3212 - accuracy: 0.8623\n",
            "Epoch 3: val_loss did not improve from 0.32469\n",
            "391/391 [==============================] - 48s 122ms/step - loss: 0.3211 - accuracy: 0.8623 - val_loss: 0.3265 - val_accuracy: 0.8560\n",
            "Epoch 4/10\n",
            "390/391 [============================>.] - ETA: 0s - loss: 0.3180 - accuracy: 0.8643\n",
            "Epoch 4: val_loss improved from 0.32469 to 0.32242, saving model to saved_models/nlp_model_6_use\n",
            "391/391 [==============================] - 56s 143ms/step - loss: 0.3179 - accuracy: 0.8644 - val_loss: 0.3224 - val_accuracy: 0.8594\n",
            "Epoch 5/10\n",
            "391/391 [==============================] - ETA: 0s - loss: 0.3146 - accuracy: 0.8651\n",
            "Epoch 5: val_loss improved from 0.32242 to 0.32160, saving model to saved_models/nlp_model_6_use\n",
            "391/391 [==============================] - 60s 154ms/step - loss: 0.3146 - accuracy: 0.8651 - val_loss: 0.3216 - val_accuracy: 0.8587\n",
            "Epoch 6/10\n",
            "390/391 [============================>.] - ETA: 0s - loss: 0.3107 - accuracy: 0.8676\n",
            "Epoch 6: val_loss did not improve from 0.32160\n",
            "391/391 [==============================] - 47s 121ms/step - loss: 0.3106 - accuracy: 0.8677 - val_loss: 0.3224 - val_accuracy: 0.8574\n",
            "Epoch 7/10\n",
            "390/391 [============================>.] - ETA: 0s - loss: 0.3085 - accuracy: 0.8699\n",
            "Epoch 7: val_loss improved from 0.32160 to 0.32040, saving model to saved_models/nlp_model_6_use\n",
            "391/391 [==============================] - 57s 144ms/step - loss: 0.3086 - accuracy: 0.8699 - val_loss: 0.3204 - val_accuracy: 0.8584\n",
            "Epoch 8/10\n",
            "391/391 [==============================] - ETA: 0s - loss: 0.3051 - accuracy: 0.8682\n",
            "Epoch 8: val_loss improved from 0.32040 to 0.31791, saving model to saved_models/nlp_model_6_use\n",
            "391/391 [==============================] - 65s 166ms/step - loss: 0.3051 - accuracy: 0.8682 - val_loss: 0.3179 - val_accuracy: 0.8602\n",
            "Epoch 9/10\n",
            "390/391 [============================>.] - ETA: 0s - loss: 0.3017 - accuracy: 0.8719\n",
            "Epoch 9: val_loss did not improve from 0.31791\n",
            "391/391 [==============================] - 63s 160ms/step - loss: 0.3019 - accuracy: 0.8718 - val_loss: 0.3184 - val_accuracy: 0.8597\n",
            "Epoch 10/10\n",
            "390/391 [============================>.] - ETA: 0s - loss: 0.2973 - accuracy: 0.8738\n",
            "Epoch 10: val_loss did not improve from 0.31791\n",
            "391/391 [==============================] - 50s 127ms/step - loss: 0.2972 - accuracy: 0.8738 - val_loss: 0.3222 - val_accuracy: 0.8567\n"
          ]
        }
      ]
    },
    {
      "cell_type": "code",
      "source": [
        "model_6 = tf.keras.models.load_model(f\"saved_models/{model_6.name}\")\n",
        "results = model_6.predict(test_dataset.map(lambda text, label: text))\n",
        "results = tf.squeeze(tf.round(results))\n",
        "calculate_results(y_true, results)"
      ],
      "metadata": {
        "colab": {
          "base_uri": "https://localhost:8080/"
        },
        "id": "SiYBKtA8qx56",
        "outputId": "5d750801-df62-4389-e4b3-9ddebee028ed"
      },
      "execution_count": 45,
      "outputs": [
        {
          "output_type": "stream",
          "name": "stdout",
          "text": [
            "391/391 [==============================] - 28s 72ms/step\n"
          ]
        },
        {
          "output_type": "execute_result",
          "data": {
            "text/plain": [
              "{'Accuracy': 86.02,\n",
              " 'Precision': 0.8602539723855332,\n",
              " 'Recall value': 0.8602,\n",
              " 'F1-Score': 0.8601947636787567}"
            ]
          },
          "metadata": {},
          "execution_count": 45
        }
      ]
    },
    {
      "cell_type": "code",
      "source": [
        "plot_graphs(history_6, 'loss')"
      ],
      "metadata": {
        "colab": {
          "base_uri": "https://localhost:8080/",
          "height": 279
        },
        "id": "O8v8t5x1q3Pe",
        "outputId": "3d577c8d-5bc1-43f8-9cbb-04866b47dc03"
      },
      "execution_count": 46,
      "outputs": [
        {
          "output_type": "display_data",
          "data": {
            "text/plain": [
              "<Figure size 432x288 with 1 Axes>"
            ],
            "image/png": "[encoded data removed]"
          },
          "metadata": {
            "needs_background": "light"
          }
        }
      ]
    },
    {
      "cell_type": "code",
      "source": [
        "plot_graphs(history_6, 'accuracy')"
      ],
      "metadata": {
        "colab": {
          "base_uri": "https://localhost:8080/",
          "height": 279
        },
        "id": "55alZQAbq5Xu",
        "outputId": "e61ac62b-f8a1-4456-b0d9-b0a462221d56"
      },
      "execution_count": 47,
      "outputs": [
        {
          "output_type": "display_data",
          "data": {
            "text/plain": [
              "<Figure size 432x288 with 1 Axes>"
            ],
            "image/png": "[encoded data removed]"
          },
          "metadata": {
            "needs_background": "light"
          }
        }
      ]
    },
    {
      "cell_type": "code",
      "source": [
        "bert_preprocess = hub.KerasLayer(\"https://tfhub.dev/tensorflow/bert_en_uncased_preprocess/3\")\n",
        "bert_encoder = hub.KerasLayer(\"https://tfhub.dev/tensorflow/bert_en_uncased_L-12_H-768_A-12/4\")"
      ],
      "metadata": {
        "colab": {
          "base_uri": "https://localhost:8080/",
          "height": 623
        },
        "id": "GJ22NuCds8mk",
        "outputId": "c1e90309-c70f-4054-e456-b9ab68fee95b"
      },
      "execution_count": 51,
      "outputs": [
        {
          "output_type": "error",
          "ename": "FileNotFoundError",
          "evalue": "ignored",
          "traceback": [
            "\u001b[0;31m---------------------------------------------------------------------------\u001b[0m",
            "\u001b[0;31mKeyError\u001b[0m                                  Traceback (most recent call last)",
            "\u001b[0;32m/usr/local/lib/python3.7/dist-packages/tensorflow/python/framework/ops.py\u001b[0m in \u001b[0;36m_get_op_def\u001b[0;34m(self, type)\u001b[0m\n\u001b[1;32m   4154\u001b[0m     \"\"\"Returns the `Tensor` with the given `name`.\n\u001b[0;32m-> 4155\u001b[0;31m \u001b[0;34m\u001b[0m\u001b[0m\n\u001b[0m\u001b[1;32m   4156\u001b[0m     \u001b[0mThis\u001b[0m \u001b[0mmethod\u001b[0m \u001b[0mmay\u001b[0m \u001b[0mbe\u001b[0m \u001b[0mcalled\u001b[0m \u001b[0mconcurrently\u001b[0m \u001b[0;32mfrom\u001b[0m \u001b[0mmultiple\u001b[0m \u001b[0mthreads\u001b[0m\u001b[0;34m.\u001b[0m\u001b[0;34m\u001b[0m\u001b[0;34m\u001b[0m\u001b[0m\n",
            "\u001b[0;31mKeyError\u001b[0m: 'CaseFoldUTF8'",
            "\nDuring handling of the above exception, another exception occurred:\n",
            "\u001b[0;31mNotFoundError\u001b[0m                             Traceback (most recent call last)",
            "\u001b[0;32m/usr/local/lib/python3.7/dist-packages/tensorflow/python/saved_model/load.py\u001b[0m in \u001b[0;36mload_partial\u001b[0;34m(export_dir, filters, tags, options)\u001b[0m\n\u001b[1;32m    912\u001b[0m     \u001b[0mfilters\u001b[0m\u001b[0;34m:\u001b[0m \u001b[0mA\u001b[0m \u001b[0mlist\u001b[0m \u001b[0;32mor\u001b[0m \u001b[0mdictionary\u001b[0m \u001b[0mwhere\u001b[0m \u001b[0meach\u001b[0m \u001b[0melement\u001b[0m \u001b[0;32mor\u001b[0m \u001b[0mkey\u001b[0m \u001b[0;32mis\u001b[0m \u001b[0ma\u001b[0m \u001b[0mstring\u001b[0m\u001b[0;34m\u001b[0m\u001b[0;34m\u001b[0m\u001b[0m\n\u001b[0;32m--> 913\u001b[0;31m       \u001b[0mpath\u001b[0m \u001b[0mto\u001b[0m \u001b[0mnodes\u001b[0m \u001b[0mthat\u001b[0m \u001b[0mshould\u001b[0m \u001b[0mbe\u001b[0m \u001b[0mloaded\u001b[0m\u001b[0;34m.\u001b[0m \u001b[0mNode\u001b[0m \u001b[0mpaths\u001b[0m \u001b[0mconsist\u001b[0m \u001b[0mof\u001b[0m \u001b[0mall\u001b[0m \u001b[0mthe\u001b[0m \u001b[0mchild\u001b[0m\u001b[0;34m\u001b[0m\u001b[0;34m\u001b[0m\u001b[0m\n\u001b[0m\u001b[1;32m    914\u001b[0m       \u001b[0mattribute\u001b[0m \u001b[0mnames\u001b[0m \u001b[0mto\u001b[0m \u001b[0mreach\u001b[0m \u001b[0mthat\u001b[0m \u001b[0mnode\u001b[0m \u001b[0;32min\u001b[0m \u001b[0mthe\u001b[0m \u001b[0mform\u001b[0m\u001b[0;34m:\u001b[0m\u001b[0;31m \u001b[0m\u001b[0;31m`\u001b[0m\u001b[0mroot\u001b[0m\u001b[0;34m.\u001b[0m\u001b[0;34m{\u001b[0m\u001b[0mattribute_name\u001b[0m\u001b[0;34m}\u001b[0m\u001b[0;31m`\u001b[0m\u001b[0;34m.\u001b[0m\u001b[0;34m\u001b[0m\u001b[0;34m\u001b[0m\u001b[0m\n",
            "\u001b[0;32m/usr/local/lib/python3.7/dist-packages/tensorflow/python/saved_model/load.py\u001b[0m in \u001b[0;36m__init__\u001b[0;34m(self, object_graph_proto, saved_model_proto, export_dir, ckpt_options, save_options, filters)\u001b[0m\n\u001b[1;32m    153\u001b[0m     self._concrete_functions = (\n\u001b[0;32m--> 154\u001b[0;31m         function_deserialization.load_function_def_library(\n\u001b[0m\u001b[1;32m    155\u001b[0m             \u001b[0mlibrary\u001b[0m\u001b[0;34m=\u001b[0m\u001b[0mmeta_graph\u001b[0m\u001b[0;34m.\u001b[0m\u001b[0mgraph_def\u001b[0m\u001b[0;34m.\u001b[0m\u001b[0mlibrary\u001b[0m\u001b[0;34m,\u001b[0m\u001b[0;34m\u001b[0m\u001b[0;34m\u001b[0m\u001b[0m\n",
            "\u001b[0;32m/usr/local/lib/python3.7/dist-packages/tensorflow/python/saved_model/function_deserialization.py\u001b[0m in \u001b[0;36mload_function_def_library\u001b[0;34m(library, saved_object_graph, load_shared_name_suffix, wrapper_function)\u001b[0m\n\u001b[1;32m    411\u001b[0m     \u001b[0;31m# leads to a O(n^2) increase of memory when importing functions and the\u001b[0m\u001b[0;34m\u001b[0m\u001b[0;34m\u001b[0m\u001b[0;34m\u001b[0m\u001b[0m\n\u001b[0;32m--> 412\u001b[0;31m     \u001b[0;31m# extra function definitions are a no-op since they already imported as a\u001b[0m\u001b[0;34m\u001b[0m\u001b[0;34m\u001b[0m\u001b[0;34m\u001b[0m\u001b[0m\n\u001b[0m\u001b[1;32m    413\u001b[0m     \u001b[0;31m# function before and passed in explicitly (due to the topologic sort\u001b[0m\u001b[0;34m\u001b[0m\u001b[0;34m\u001b[0m\u001b[0;34m\u001b[0m\u001b[0m\n",
            "\u001b[0;32m/usr/local/lib/python3.7/dist-packages/tensorflow/python/framework/function_def_to_graph.py\u001b[0m in \u001b[0;36mfunction_def_to_graph\u001b[0;34m(fdef, structured_input_signature, structured_outputs, input_shapes)\u001b[0m\n\u001b[1;32m     82\u001b[0m   graph_def, nested_to_flat_tensor_name = function_def_to_graph_def(\n\u001b[0;32m---> 83\u001b[0;31m       fdef, input_shapes)\n\u001b[0m\u001b[1;32m     84\u001b[0m \u001b[0;34m\u001b[0m\u001b[0m\n",
            "\u001b[0;32m/usr/local/lib/python3.7/dist-packages/tensorflow/python/framework/function_def_to_graph.py\u001b[0m in \u001b[0;36mfunction_def_to_graph_def\u001b[0;34m(fdef, input_shapes)\u001b[0m\n\u001b[1;32m    251\u001b[0m     \u001b[0;32melse\u001b[0m\u001b[0;34m:\u001b[0m\u001b[0;34m\u001b[0m\u001b[0;34m\u001b[0m\u001b[0m\n\u001b[0;32m--> 252\u001b[0;31m       \u001b[0mop_def\u001b[0m \u001b[0;34m=\u001b[0m \u001b[0mdefault_graph\u001b[0m\u001b[0;34m.\u001b[0m\u001b[0m_get_op_def\u001b[0m\u001b[0;34m(\u001b[0m\u001b[0mnode_def\u001b[0m\u001b[0;34m.\u001b[0m\u001b[0mop\u001b[0m\u001b[0;34m)\u001b[0m  \u001b[0;31m# pylint: disable=protected-access\u001b[0m\u001b[0;34m\u001b[0m\u001b[0;34m\u001b[0m\u001b[0m\n\u001b[0m\u001b[1;32m    253\u001b[0m \u001b[0;34m\u001b[0m\u001b[0m\n",
            "\u001b[0;32m/usr/local/lib/python3.7/dist-packages/tensorflow/python/framework/ops.py\u001b[0m in \u001b[0;36m_get_op_def\u001b[0;34m(self, type)\u001b[0m\n\u001b[1;32m   4159\u001b[0m       \u001b[0mname\u001b[0m\u001b[0;34m:\u001b[0m \u001b[0mThe\u001b[0m \u001b[0mname\u001b[0m \u001b[0mof\u001b[0m \u001b[0mthe\u001b[0m\u001b[0;31m \u001b[0m\u001b[0;31m`\u001b[0m\u001b[0mTensor\u001b[0m\u001b[0;31m`\u001b[0m \u001b[0mto\u001b[0m \u001b[0;32mreturn\u001b[0m\u001b[0;34m.\u001b[0m\u001b[0;34m\u001b[0m\u001b[0;34m\u001b[0m\u001b[0m\n\u001b[0;32m-> 4160\u001b[0;31m \u001b[0;34m\u001b[0m\u001b[0m\n\u001b[0m\u001b[1;32m   4161\u001b[0m     \u001b[0mReturns\u001b[0m\u001b[0;34m:\u001b[0m\u001b[0;34m\u001b[0m\u001b[0;34m\u001b[0m\u001b[0m\n",
            "\u001b[0;31mNotFoundError\u001b[0m: Op type not registered 'CaseFoldUTF8' in binary running on d92eb34563b4. Make sure the Op and Kernel are registered in the binary running in this process. Note that if you are loading a saved graph which used ops from tf.contrib, accessing (e.g.) `tf.contrib.resampler` should be done before importing the graph, as contrib ops are lazily registered when the module is first accessed.",
            "\nDuring handling of the above exception, another exception occurred:\n",
            "\u001b[0;31mFileNotFoundError\u001b[0m                         Traceback (most recent call last)",
            "\u001b[0;32m<ipython-input-51-bcad0ee7b0cc>\u001b[0m in \u001b[0;36m<module>\u001b[0;34m\u001b[0m\n\u001b[0;32m----> 1\u001b[0;31m \u001b[0mbert_preprocess\u001b[0m \u001b[0;34m=\u001b[0m \u001b[0mhub\u001b[0m\u001b[0;34m.\u001b[0m\u001b[0mKerasLayer\u001b[0m\u001b[0;34m(\u001b[0m\u001b[0;34m\"https://tfhub.dev/tensorflow/bert_en_uncased_preprocess/3\"\u001b[0m\u001b[0;34m)\u001b[0m\u001b[0;34m\u001b[0m\u001b[0;34m\u001b[0m\u001b[0m\n\u001b[0m\u001b[1;32m      2\u001b[0m \u001b[0mbert_encoder\u001b[0m \u001b[0;34m=\u001b[0m \u001b[0mhub\u001b[0m\u001b[0;34m.\u001b[0m\u001b[0mKerasLayer\u001b[0m\u001b[0;34m(\u001b[0m\u001b[0;34m\"https://tfhub.dev/tensorflow/bert_en_uncased_L-12_H-768_A-12/4\"\u001b[0m\u001b[0;34m)\u001b[0m\u001b[0;34m\u001b[0m\u001b[0;34m\u001b[0m\u001b[0m\n",
            "\u001b[0;32m/usr/local/lib/python3.7/dist-packages/tensorflow_hub/keras_layer.py\u001b[0m in \u001b[0;36m__init__\u001b[0;34m(self, handle, trainable, arguments, _sentinel, tags, signature, signature_outputs_as_dict, output_key, output_shape, load_options, **kwargs)\u001b[0m\n\u001b[1;32m    151\u001b[0m \u001b[0;34m\u001b[0m\u001b[0m\n\u001b[1;32m    152\u001b[0m     \u001b[0mself\u001b[0m\u001b[0;34m.\u001b[0m\u001b[0m_load_options\u001b[0m \u001b[0;34m=\u001b[0m \u001b[0mload_options\u001b[0m\u001b[0;34m\u001b[0m\u001b[0;34m\u001b[0m\u001b[0m\n\u001b[0;32m--> 153\u001b[0;31m     \u001b[0mself\u001b[0m\u001b[0;34m.\u001b[0m\u001b[0m_func\u001b[0m \u001b[0;34m=\u001b[0m \u001b[0mload_module\u001b[0m\u001b[0;34m(\u001b[0m\u001b[0mhandle\u001b[0m\u001b[0;34m,\u001b[0m \u001b[0mtags\u001b[0m\u001b[0;34m,\u001b[0m \u001b[0mself\u001b[0m\u001b[0;34m.\u001b[0m\u001b[0m_load_options\u001b[0m\u001b[0;34m)\u001b[0m\u001b[0;34m\u001b[0m\u001b[0;34m\u001b[0m\u001b[0m\n\u001b[0m\u001b[1;32m    154\u001b[0m     \u001b[0mself\u001b[0m\u001b[0;34m.\u001b[0m\u001b[0m_has_training_argument\u001b[0m \u001b[0;34m=\u001b[0m \u001b[0mfunc_has_training_argument\u001b[0m\u001b[0;34m(\u001b[0m\u001b[0mself\u001b[0m\u001b[0;34m.\u001b[0m\u001b[0m_func\u001b[0m\u001b[0;34m)\u001b[0m\u001b[0;34m\u001b[0m\u001b[0;34m\u001b[0m\u001b[0m\n\u001b[1;32m    155\u001b[0m     \u001b[0mself\u001b[0m\u001b[0;34m.\u001b[0m\u001b[0m_is_hub_module_v1\u001b[0m \u001b[0;34m=\u001b[0m \u001b[0mgetattr\u001b[0m\u001b[0;34m(\u001b[0m\u001b[0mself\u001b[0m\u001b[0;34m.\u001b[0m\u001b[0m_func\u001b[0m\u001b[0;34m,\u001b[0m \u001b[0;34m\"_is_hub_module_v1\"\u001b[0m\u001b[0;34m,\u001b[0m \u001b[0;32mFalse\u001b[0m\u001b[0;34m)\u001b[0m\u001b[0;34m\u001b[0m\u001b[0;34m\u001b[0m\u001b[0m\n",
            "\u001b[0;32m/usr/local/lib/python3.7/dist-packages/tensorflow_hub/keras_layer.py\u001b[0m in \u001b[0;36mload_module\u001b[0;34m(handle, tags, load_options)\u001b[0m\n\u001b[1;32m    447\u001b[0m       \u001b[0;32mexcept\u001b[0m \u001b[0mImportError\u001b[0m\u001b[0;34m:\u001b[0m  \u001b[0;31m# Expected before TF2.4.\u001b[0m\u001b[0;34m\u001b[0m\u001b[0;34m\u001b[0m\u001b[0m\n\u001b[1;32m    448\u001b[0m         \u001b[0mset_load_options\u001b[0m \u001b[0;34m=\u001b[0m \u001b[0mload_options\u001b[0m\u001b[0;34m\u001b[0m\u001b[0;34m\u001b[0m\u001b[0m\n\u001b[0;32m--> 449\u001b[0;31m     \u001b[0;32mreturn\u001b[0m \u001b[0mmodule_v2\u001b[0m\u001b[0;34m.\u001b[0m\u001b[0mload\u001b[0m\u001b[0;34m(\u001b[0m\u001b[0mhandle\u001b[0m\u001b[0;34m,\u001b[0m \u001b[0mtags\u001b[0m\u001b[0;34m=\u001b[0m\u001b[0mtags\u001b[0m\u001b[0;34m,\u001b[0m \u001b[0moptions\u001b[0m\u001b[0;34m=\u001b[0m\u001b[0mset_load_options\u001b[0m\u001b[0;34m)\u001b[0m\u001b[0;34m\u001b[0m\u001b[0;34m\u001b[0m\u001b[0m\n\u001b[0m\u001b[1;32m    450\u001b[0m \u001b[0;34m\u001b[0m\u001b[0m\n\u001b[1;32m    451\u001b[0m \u001b[0;34m\u001b[0m\u001b[0m\n",
            "\u001b[0;32m/usr/local/lib/python3.7/dist-packages/tensorflow_hub/module_v2.py\u001b[0m in \u001b[0;36mload\u001b[0;34m(handle, tags, options)\u001b[0m\n\u001b[1;32m    104\u001b[0m         module_path, tags=tags, options=options)\n\u001b[1;32m    105\u001b[0m   \u001b[0;32melse\u001b[0m\u001b[0;34m:\u001b[0m\u001b[0;34m\u001b[0m\u001b[0;34m\u001b[0m\u001b[0m\n\u001b[0;32m--> 106\u001b[0;31m     \u001b[0mobj\u001b[0m \u001b[0;34m=\u001b[0m \u001b[0mtf\u001b[0m\u001b[0;34m.\u001b[0m\u001b[0mcompat\u001b[0m\u001b[0;34m.\u001b[0m\u001b[0mv1\u001b[0m\u001b[0;34m.\u001b[0m\u001b[0msaved_model\u001b[0m\u001b[0;34m.\u001b[0m\u001b[0mload_v2\u001b[0m\u001b[0;34m(\u001b[0m\u001b[0mmodule_path\u001b[0m\u001b[0;34m,\u001b[0m \u001b[0mtags\u001b[0m\u001b[0;34m=\u001b[0m\u001b[0mtags\u001b[0m\u001b[0;34m)\u001b[0m\u001b[0;34m\u001b[0m\u001b[0;34m\u001b[0m\u001b[0m\n\u001b[0m\u001b[1;32m    107\u001b[0m   \u001b[0mobj\u001b[0m\u001b[0;34m.\u001b[0m\u001b[0m_is_hub_module_v1\u001b[0m \u001b[0;34m=\u001b[0m \u001b[0mis_hub_module_v1\u001b[0m  \u001b[0;31m# pylint: disable=protected-access\u001b[0m\u001b[0;34m\u001b[0m\u001b[0;34m\u001b[0m\u001b[0m\n\u001b[1;32m    108\u001b[0m   \u001b[0;32mreturn\u001b[0m \u001b[0mobj\u001b[0m\u001b[0;34m\u001b[0m\u001b[0;34m\u001b[0m\u001b[0m\n",
            "\u001b[0;32m/usr/local/lib/python3.7/dist-packages/tensorflow/python/saved_model/load.py\u001b[0m in \u001b[0;36mload\u001b[0;34m(export_dir, tags, options)\u001b[0m\n\u001b[1;32m    780\u001b[0m   \u001b[0mgraph\u001b[0m \u001b[0minstead\u001b[0m \u001b[0mof\u001b[0m\u001b[0;31m \u001b[0m\u001b[0;31m`\u001b[0m\u001b[0mtf\u001b[0m\u001b[0;34m.\u001b[0m\u001b[0mfunction\u001b[0m\u001b[0;31m`\u001b[0m \u001b[0mobjects\u001b[0m\u001b[0;34m.\u001b[0m \u001b[0mThese\u001b[0m \u001b[0mSavedModels\u001b[0m \u001b[0mwill\u001b[0m \u001b[0mbe\u001b[0m \u001b[0mloaded\u001b[0m \u001b[0;32mwith\u001b[0m\u001b[0;34m\u001b[0m\u001b[0;34m\u001b[0m\u001b[0m\n\u001b[1;32m    781\u001b[0m   \u001b[0mthe\u001b[0m \u001b[0mfollowing\u001b[0m \u001b[0mattributes\u001b[0m\u001b[0;34m:\u001b[0m\u001b[0;34m\u001b[0m\u001b[0;34m\u001b[0m\u001b[0m\n\u001b[0;32m--> 782\u001b[0;31m \u001b[0;34m\u001b[0m\u001b[0m\n\u001b[0m\u001b[1;32m    783\u001b[0m   \u001b[0;34m*\u001b[0m\u001b[0;31m \u001b[0m\u001b[0;31m`\u001b[0m\u001b[0;34m.\u001b[0m\u001b[0msignatures\u001b[0m\u001b[0;31m`\u001b[0m\u001b[0;34m:\u001b[0m \u001b[0mA\u001b[0m \u001b[0mdictionary\u001b[0m \u001b[0mmapping\u001b[0m \u001b[0msignature\u001b[0m \u001b[0mnames\u001b[0m \u001b[0mto\u001b[0m \u001b[0mfunctions\u001b[0m\u001b[0;34m.\u001b[0m\u001b[0;34m\u001b[0m\u001b[0;34m\u001b[0m\u001b[0m\n\u001b[1;32m    784\u001b[0m   \u001b[0;34m*\u001b[0m\u001b[0;31m \u001b[0m\u001b[0;31m`\u001b[0m\u001b[0;34m.\u001b[0m\u001b[0mprune\u001b[0m\u001b[0;34m(\u001b[0m\u001b[0mfeeds\u001b[0m\u001b[0;34m,\u001b[0m \u001b[0mfetches\u001b[0m\u001b[0;34m)\u001b[0m\u001b[0;31m \u001b[0m\u001b[0;31m`\u001b[0m\u001b[0;34m:\u001b[0m \u001b[0mA\u001b[0m \u001b[0mmethod\u001b[0m \u001b[0mwhich\u001b[0m \u001b[0mallows\u001b[0m \u001b[0myou\u001b[0m \u001b[0mto\u001b[0m \u001b[0mextract\u001b[0m\u001b[0;34m\u001b[0m\u001b[0;34m\u001b[0m\u001b[0m\n",
            "\u001b[0;32m/usr/local/lib/python3.7/dist-packages/tensorflow/python/saved_model/load.py\u001b[0m in \u001b[0;36mload_partial\u001b[0;34m(export_dir, filters, tags, options)\u001b[0m\n\u001b[1;32m    914\u001b[0m       \u001b[0mattribute\u001b[0m \u001b[0mnames\u001b[0m \u001b[0mto\u001b[0m \u001b[0mreach\u001b[0m \u001b[0mthat\u001b[0m \u001b[0mnode\u001b[0m \u001b[0;32min\u001b[0m \u001b[0mthe\u001b[0m \u001b[0mform\u001b[0m\u001b[0;34m:\u001b[0m\u001b[0;31m \u001b[0m\u001b[0;31m`\u001b[0m\u001b[0mroot\u001b[0m\u001b[0;34m.\u001b[0m\u001b[0;34m{\u001b[0m\u001b[0mattribute_name\u001b[0m\u001b[0;34m}\u001b[0m\u001b[0;31m`\u001b[0m\u001b[0;34m.\u001b[0m\u001b[0;34m\u001b[0m\u001b[0;34m\u001b[0m\u001b[0m\n\u001b[1;32m    915\u001b[0m       \u001b[0mThe\u001b[0m \u001b[0mloader\u001b[0m \u001b[0mwill\u001b[0m \u001b[0mload\u001b[0m \u001b[0mall\u001b[0m \u001b[0mof\u001b[0m \u001b[0mthe\u001b[0m \u001b[0mspecified\u001b[0m \u001b[0mnodes\u001b[0m \u001b[0;32mand\u001b[0m \u001b[0mtheir\u001b[0m \u001b[0mrecursive\u001b[0m\u001b[0;34m\u001b[0m\u001b[0;34m\u001b[0m\u001b[0m\n\u001b[0;32m--> 916\u001b[0;31m       \u001b[0mdescendants\u001b[0m\u001b[0;34m.\u001b[0m \u001b[0mWhen\u001b[0m \u001b[0mthis\u001b[0m \u001b[0moption\u001b[0m \u001b[0;32mis\u001b[0m \u001b[0mdefined\u001b[0m\u001b[0;34m,\u001b[0m \u001b[0mthe\u001b[0m \u001b[0mloader\u001b[0m \u001b[0mwill\u001b[0m \u001b[0;32mreturn\u001b[0m \u001b[0ma\u001b[0m\u001b[0;34m\u001b[0m\u001b[0;34m\u001b[0m\u001b[0m\n\u001b[0m\u001b[1;32m    917\u001b[0m       \u001b[0mdictionary\u001b[0m \u001b[0mmapping\u001b[0m \u001b[0mthe\u001b[0m \u001b[0mnode\u001b[0m \u001b[0mpaths\u001b[0m \u001b[0mto\u001b[0m \u001b[0mthe\u001b[0m \u001b[0mloaded\u001b[0m \u001b[0mobjects\u001b[0m\u001b[0;34m.\u001b[0m\u001b[0;34m\u001b[0m\u001b[0;34m\u001b[0m\u001b[0m\n\u001b[1;32m    918\u001b[0m     \u001b[0mtags\u001b[0m\u001b[0;34m:\u001b[0m \u001b[0mA\u001b[0m \u001b[0mtag\u001b[0m \u001b[0;32mor\u001b[0m \u001b[0msequence\u001b[0m \u001b[0mof\u001b[0m \u001b[0mtags\u001b[0m \u001b[0midentifying\u001b[0m \u001b[0mthe\u001b[0m \u001b[0mMetaGraph\u001b[0m \u001b[0mto\u001b[0m \u001b[0mload\u001b[0m\u001b[0;34m.\u001b[0m \u001b[0mOptional\u001b[0m\u001b[0;34m\u001b[0m\u001b[0;34m\u001b[0m\u001b[0m\n",
            "\u001b[0;31mFileNotFoundError\u001b[0m: Op type not registered 'CaseFoldUTF8' in binary running on d92eb34563b4. Make sure the Op and Kernel are registered in the binary running in this process. Note that if you are loading a saved graph which used ops from tf.contrib, accessing (e.g.) `tf.contrib.resampler` should be done before importing the graph, as contrib ops are lazily registered when the module is first accessed.\n You may be trying to load on a different device from the computational device. Consider setting the `experimental_io_device` option in `tf.saved_model.LoadOptions` to the io_device such as '/job:localhost'."
          ]
        }
      ]
    },
    {
      "cell_type": "code",
      "source": [
        "# Bert layers\n",
        "text_input = tf.keras.layers.Input(shape=(), dtype=tf.string, name='text')\n",
        "preprocessed_text = bert_preprocess(text_input)\n",
        "outputs = bert_encoder(preprocessed_text)\n",
        "# Neural network layers\n",
        "l = tf.keras.layers.Dropout(0.1, name=\"dropout\")(outputs['pooled_output'])\n",
        "l = tf.keras.layers.Dense(1, activation='sigmoid', name=\"output\")(l)\n",
        "# Use inputs and outputs to construct a final model\n",
        "model_7 = tf.keras.Model(inputs=[text_input], outputs = [l], name=\"model_7_BERT\")\n",
        "model_7.compile(optimizer='adam', loss='binary_crossentropy', metrics=['accuracy'])\n",
        "model_7.fit(train_dataset, epochs=5, batch_size = 32, validation_dataset=test_dataset, callbacks=get_callbacks(model_7.name))"
      ],
      "metadata": {
        "id": "OHHxE0RxtASm"
      },
      "execution_count": null,
      "outputs": []
    },
    {
      "cell_type": "code",
      "source": [
        "model_7 = tf.keras.models.load_model(f\"saved_models/{model_7.name}\")\n",
        "results = model_7.predict(test_dataset.map(lambda text, label: text))\n",
        "results = tf.squeeze(tf.round(results))\n",
        "calculate_results(y_true, results)"
      ],
      "metadata": {
        "id": "2cq-2XaEtNVV"
      },
      "execution_count": null,
      "outputs": []
    }
  ]
}