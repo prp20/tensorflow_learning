{
  "nbformat": 4,
  "nbformat_minor": 0,
  "metadata": {
    "colab": {
      "provenance": [],
      "authorship_tag": "ABX9TyMkfYT8v51Bg4qzvVMvUOwT",
      "include_colab_link": true
    },
    "kernelspec": {
      "name": "python3",
      "display_name": "Python 3"
    },
    "language_info": {
      "name": "python"
    },
    "accelerator": "GPU",
    "gpuClass": "standard"
  },
  "cells": [
    {
      "cell_type": "markdown",
      "metadata": {
        "id": "view-in-github",
        "colab_type": "text"
      },
      "source": [
        "<a href=\"https://colab.research.google.com/github/prp20/tensorflow_learning/blob/main/notebooks/nlp_practise_04.ipynb\" target=\"_parent\"><img src=\"https://colab.research.google.com/assets/colab-badge.svg\" alt=\"Open In Colab\"/></a>"
      ]
    },
    {
      "cell_type": "code",
      "execution_count": 7,
      "metadata": {
        "id": "VGhuPMgytKbc"
      },
      "outputs": [],
      "source": [
        "import tensorflow as tf\n",
        "import numpy as np\n",
        "import pandas as pd\n",
        "import matplotlib.pyplot as plt\n",
        "import os\n",
        "import tensorflow_datasets as tfds"
      ]
    },
    {
      "cell_type": "code",
      "source": [
        "! pip install kaggle"
      ],
      "metadata": {
        "colab": {
          "base_uri": "https://localhost:8080/"
        },
        "id": "LqiJeXEZ5mlE",
        "outputId": "af86dbab-939c-44ed-931a-1a5db6659077"
      },
      "execution_count": 35,
      "outputs": [
        {
          "output_type": "stream",
          "name": "stdout",
          "text": [
            "Looking in indexes: https://pypi.org/simple, https://us-python.pkg.dev/colab-wheels/public/simple/\n",
            "Requirement already satisfied: kaggle in /usr/local/lib/python3.8/dist-packages (1.5.12)\n",
            "Requirement already satisfied: certifi in /usr/local/lib/python3.8/dist-packages (from kaggle) (2022.12.7)\n",
            "Requirement already satisfied: requests in /usr/local/lib/python3.8/dist-packages (from kaggle) (2.25.1)\n",
            "Requirement already satisfied: python-slugify in /usr/local/lib/python3.8/dist-packages (from kaggle) (7.0.0)\n",
            "Requirement already satisfied: six>=1.10 in /usr/local/lib/python3.8/dist-packages (from kaggle) (1.15.0)\n",
            "Requirement already satisfied: python-dateutil in /usr/local/lib/python3.8/dist-packages (from kaggle) (2.8.2)\n",
            "Requirement already satisfied: urllib3 in /usr/local/lib/python3.8/dist-packages (from kaggle) (1.24.3)\n",
            "Requirement already satisfied: tqdm in /usr/local/lib/python3.8/dist-packages (from kaggle) (4.64.1)\n",
            "Requirement already satisfied: text-unidecode>=1.3 in /usr/local/lib/python3.8/dist-packages (from python-slugify->kaggle) (1.3)\n",
            "Requirement already satisfied: idna<3,>=2.5 in /usr/local/lib/python3.8/dist-packages (from requests->kaggle) (2.10)\n",
            "Requirement already satisfied: chardet<5,>=3.0.2 in /usr/local/lib/python3.8/dist-packages (from requests->kaggle) (4.0.0)\n"
          ]
        }
      ]
    },
    {
      "cell_type": "code",
      "source": [
        "from google.colab import drive\n",
        "drive.mount('/content/drive')"
      ],
      "metadata": {
        "colab": {
          "base_uri": "https://localhost:8080/"
        },
        "id": "F6c6by3O5vOr",
        "outputId": "17a58af2-77b6-400d-b4db-f1c8cd4e0ce5"
      },
      "execution_count": 36,
      "outputs": [
        {
          "output_type": "stream",
          "name": "stdout",
          "text": [
            "Mounted at /content/drive\n"
          ]
        }
      ]
    },
    {
      "cell_type": "code",
      "source": [
        "! mkdir ~/.kaggle\n",
        "! cp /content/drive/MyDrive/kaggle.json ~/.kaggle/\n",
        "! chmod 600 ~/.kaggle/kaggle.json"
      ],
      "metadata": {
        "id": "ZYIkTAUF5xJS"
      },
      "execution_count": 37,
      "outputs": []
    },
    {
      "cell_type": "code",
      "source": [
        "! kaggle datasets download -d falgunipatel19/biomedical-text-publication-classification"
      ],
      "metadata": {
        "colab": {
          "base_uri": "https://localhost:8080/"
        },
        "id": "tUkyt6Q752pk",
        "outputId": "34677710-af2b-4388-906f-2dba51acfab9"
      },
      "execution_count": 58,
      "outputs": [
        {
          "output_type": "stream",
          "name": "stdout",
          "text": [
            "Downloading biomedical-text-publication-classification.zip to /content\n",
            "100% 55.9M/55.9M [00:05<00:00, 17.5MB/s]\n",
            "100% 55.9M/55.9M [00:05<00:00, 10.2MB/s]\n"
          ]
        }
      ]
    },
    {
      "cell_type": "code",
      "source": [
        "! unzip /content/biomedical-text-publication-classification.zip"
      ],
      "metadata": {
        "colab": {
          "base_uri": "https://localhost:8080/"
        },
        "id": "RMNuIGxT9jQz",
        "outputId": "62bb2d87-ad8f-42b3-aabf-e215595dda39"
      },
      "execution_count": 59,
      "outputs": [
        {
          "output_type": "stream",
          "name": "stdout",
          "text": [
            "Archive:  /content/biomedical-text-publication-classification.zip\n",
            "  inflating: alldata_1_for_kaggle.csv  \n"
          ]
        }
      ]
    },
    {
      "cell_type": "code",
      "source": [
        "dataset = pd.read_csv(\"/content/alldata_1_for_kaggle.csv\", encoding='latin1')"
      ],
      "metadata": {
        "id": "xmvQwA3e9ooZ"
      },
      "execution_count": 62,
      "outputs": []
    },
    {
      "cell_type": "code",
      "source": [
        "dataset.head()"
      ],
      "metadata": {
        "colab": {
          "base_uri": "https://localhost:8080/",
          "height": 206
        },
        "id": "i8RV3hK49oBM",
        "outputId": "3098e14c-0bbe-469c-c856-f1dead01ef52"
      },
      "execution_count": 63,
      "outputs": [
        {
          "output_type": "execute_result",
          "data": {
            "text/plain": [
              "   Unnamed: 0               0  \\\n",
              "0           0  Thyroid_Cancer   \n",
              "1           1  Thyroid_Cancer   \n",
              "2           2  Thyroid_Cancer   \n",
              "3           3  Thyroid_Cancer   \n",
              "4           4  Thyroid_Cancer   \n",
              "\n",
              "                                                   a  \n",
              "0  Thyroid surgery in  children in a single insti...  \n",
              "1  \" The adopted strategy was the same as that us...  \n",
              "2  coronary arterybypass grafting thrombosis ï¬b...  \n",
              "3   Solitary plasmacytoma SP of the skull is an u...  \n",
              "4   This study aimed to investigate serum matrix ...  "
            ],
            "text/html": [
              "\n",
              "  <div id=\"df-37886ac5-5591-4af6-b521-2d2f2e9929df\">\n",
              "    <div class=\"colab-df-container\">\n",
              "      <div>\n",
              "<style scoped>\n",
              "    .dataframe tbody tr th:only-of-type {\n",
              "        vertical-align: middle;\n",
              "    }\n",
              "\n",
              "    .dataframe tbody tr th {\n",
              "        vertical-align: top;\n",
              "    }\n",
              "\n",
              "    .dataframe thead th {\n",
              "        text-align: right;\n",
              "    }\n",
              "</style>\n",
              "<table border=\"1\" class=\"dataframe\">\n",
              "  <thead>\n",
              "    <tr style=\"text-align: right;\">\n",
              "      <th></th>\n",
              "      <th>Unnamed: 0</th>\n",
              "      <th>0</th>\n",
              "      <th>a</th>\n",
              "    </tr>\n",
              "  </thead>\n",
              "  <tbody>\n",
              "    <tr>\n",
              "      <th>0</th>\n",
              "      <td>0</td>\n",
              "      <td>Thyroid_Cancer</td>\n",
              "      <td>Thyroid surgery in  children in a single insti...</td>\n",
              "    </tr>\n",
              "    <tr>\n",
              "      <th>1</th>\n",
              "      <td>1</td>\n",
              "      <td>Thyroid_Cancer</td>\n",
              "      <td>\" The adopted strategy was the same as that us...</td>\n",
              "    </tr>\n",
              "    <tr>\n",
              "      <th>2</th>\n",
              "      <td>2</td>\n",
              "      <td>Thyroid_Cancer</td>\n",
              "      <td>coronary arterybypass grafting thrombosis ï¬b...</td>\n",
              "    </tr>\n",
              "    <tr>\n",
              "      <th>3</th>\n",
              "      <td>3</td>\n",
              "      <td>Thyroid_Cancer</td>\n",
              "      <td>Solitary plasmacytoma SP of the skull is an u...</td>\n",
              "    </tr>\n",
              "    <tr>\n",
              "      <th>4</th>\n",
              "      <td>4</td>\n",
              "      <td>Thyroid_Cancer</td>\n",
              "      <td>This study aimed to investigate serum matrix ...</td>\n",
              "    </tr>\n",
              "  </tbody>\n",
              "</table>\n",
              "</div>\n",
              "      <button class=\"colab-df-convert\" onclick=\"convertToInteractive('df-37886ac5-5591-4af6-b521-2d2f2e9929df')\"\n",
              "              title=\"Convert this dataframe to an interactive table.\"\n",
              "              style=\"display:none;\">\n",
              "        \n",
              "  <svg xmlns=\"http://www.w3.org/2000/svg\" height=\"24px\"viewBox=\"0 0 24 24\"\n",
              "       width=\"24px\">\n",
              "    <path d=\"M0 0h24v24H0V0z\" fill=\"none\"/>\n",
              "    <path d=\"M18.56 5.44l.94 2.06.94-2.06 2.06-.94-2.06-.94-.94-2.06-.94 2.06-2.06.94zm-11 1L8.5 8.5l.94-2.06 2.06-.94-2.06-.94L8.5 2.5l-.94 2.06-2.06.94zm10 10l.94 2.06.94-2.06 2.06-.94-2.06-.94-.94-2.06-.94 2.06-2.06.94z\"/><path d=\"M17.41 7.96l-1.37-1.37c-.4-.4-.92-.59-1.43-.59-.52 0-1.04.2-1.43.59L10.3 9.45l-7.72 7.72c-.78.78-.78 2.05 0 2.83L4 21.41c.39.39.9.59 1.41.59.51 0 1.02-.2 1.41-.59l7.78-7.78 2.81-2.81c.8-.78.8-2.07 0-2.86zM5.41 20L4 18.59l7.72-7.72 1.47 1.35L5.41 20z\"/>\n",
              "  </svg>\n",
              "      </button>\n",
              "      \n",
              "  <style>\n",
              "    .colab-df-container {\n",
              "      display:flex;\n",
              "      flex-wrap:wrap;\n",
              "      gap: 12px;\n",
              "    }\n",
              "\n",
              "    .colab-df-convert {\n",
              "      background-color: #E8F0FE;\n",
              "      border: none;\n",
              "      border-radius: 50%;\n",
              "      cursor: pointer;\n",
              "      display: none;\n",
              "      fill: #1967D2;\n",
              "      height: 32px;\n",
              "      padding: 0 0 0 0;\n",
              "      width: 32px;\n",
              "    }\n",
              "\n",
              "    .colab-df-convert:hover {\n",
              "      background-color: #E2EBFA;\n",
              "      box-shadow: 0px 1px 2px rgba(60, 64, 67, 0.3), 0px 1px 3px 1px rgba(60, 64, 67, 0.15);\n",
              "      fill: #174EA6;\n",
              "    }\n",
              "\n",
              "    [theme=dark] .colab-df-convert {\n",
              "      background-color: #3B4455;\n",
              "      fill: #D2E3FC;\n",
              "    }\n",
              "\n",
              "    [theme=dark] .colab-df-convert:hover {\n",
              "      background-color: #434B5C;\n",
              "      box-shadow: 0px 1px 3px 1px rgba(0, 0, 0, 0.15);\n",
              "      filter: drop-shadow(0px 1px 2px rgba(0, 0, 0, 0.3));\n",
              "      fill: #FFFFFF;\n",
              "    }\n",
              "  </style>\n",
              "\n",
              "      <script>\n",
              "        const buttonEl =\n",
              "          document.querySelector('#df-37886ac5-5591-4af6-b521-2d2f2e9929df button.colab-df-convert');\n",
              "        buttonEl.style.display =\n",
              "          google.colab.kernel.accessAllowed ? 'block' : 'none';\n",
              "\n",
              "        async function convertToInteractive(key) {\n",
              "          const element = document.querySelector('#df-37886ac5-5591-4af6-b521-2d2f2e9929df');\n",
              "          const dataTable =\n",
              "            await google.colab.kernel.invokeFunction('convertToInteractive',\n",
              "                                                     [key], {});\n",
              "          if (!dataTable) return;\n",
              "\n",
              "          const docLinkHtml = 'Like what you see? Visit the ' +\n",
              "            '<a target=\"_blank\" href=https://colab.research.google.com/notebooks/data_table.ipynb>data table notebook</a>'\n",
              "            + ' to learn more about interactive tables.';\n",
              "          element.innerHTML = '';\n",
              "          dataTable['output_type'] = 'display_data';\n",
              "          await google.colab.output.renderOutput(dataTable, element);\n",
              "          const docLink = document.createElement('div');\n",
              "          docLink.innerHTML = docLinkHtml;\n",
              "          element.appendChild(docLink);\n",
              "        }\n",
              "      </script>\n",
              "    </div>\n",
              "  </div>\n",
              "  "
            ]
          },
          "metadata": {},
          "execution_count": 63
        }
      ]
    },
    {
      "cell_type": "code",
      "source": [
        "dataset.info()"
      ],
      "metadata": {
        "colab": {
          "base_uri": "https://localhost:8080/"
        },
        "id": "UNVMmtrD-oYL",
        "outputId": "b3cd2796-6d48-4b17-bddf-fe70e89ce962"
      },
      "execution_count": 64,
      "outputs": [
        {
          "output_type": "stream",
          "name": "stdout",
          "text": [
            "<class 'pandas.core.frame.DataFrame'>\n",
            "RangeIndex: 7570 entries, 0 to 7569\n",
            "Data columns (total 3 columns):\n",
            " #   Column      Non-Null Count  Dtype \n",
            "---  ------      --------------  ----- \n",
            " 0   Unnamed: 0  7570 non-null   int64 \n",
            " 1   0           7570 non-null   object\n",
            " 2   a           7570 non-null   object\n",
            "dtypes: int64(1), object(2)\n",
            "memory usage: 177.5+ KB\n"
          ]
        }
      ]
    },
    {
      "cell_type": "code",
      "source": [
        "#dataset = dataset.drop('Unnamed: 0', axis=1)\n",
        "dataset"
      ],
      "metadata": {
        "colab": {
          "base_uri": "https://localhost:8080/",
          "height": 423
        },
        "id": "z561OEdD-oN6",
        "outputId": "1ea2a6f5-312d-47a8-c832-5abbec1717fe"
      },
      "execution_count": 67,
      "outputs": [
        {
          "output_type": "execute_result",
          "data": {
            "text/plain": [
              "                   0                                                  a\n",
              "0     Thyroid_Cancer  Thyroid surgery in  children in a single insti...\n",
              "1     Thyroid_Cancer  \" The adopted strategy was the same as that us...\n",
              "2     Thyroid_Cancer  coronary arterybypass grafting thrombosis ï¬b...\n",
              "3     Thyroid_Cancer   Solitary plasmacytoma SP of the skull is an u...\n",
              "4     Thyroid_Cancer   This study aimed to investigate serum matrix ...\n",
              "...              ...                                                ...\n",
              "7565    Colon_Cancer  we report the case of a 24yearold man who pres...\n",
              "7566    Colon_Cancer  among synchronous colorectal cancers scrcs rep...\n",
              "7567    Colon_Cancer  the heterogeneity of cancer cells is generally...\n",
              "7568    Colon_Cancer  \"adipogenesis is the process through which mes...\n",
              "7569    Colon_Cancer  the periparturient period is one of the most c...\n",
              "\n",
              "[7570 rows x 2 columns]"
            ],
            "text/html": [
              "\n",
              "  <div id=\"df-ee79d946-1332-4b4f-b731-3d338cfbd18f\">\n",
              "    <div class=\"colab-df-container\">\n",
              "      <div>\n",
              "<style scoped>\n",
              "    .dataframe tbody tr th:only-of-type {\n",
              "        vertical-align: middle;\n",
              "    }\n",
              "\n",
              "    .dataframe tbody tr th {\n",
              "        vertical-align: top;\n",
              "    }\n",
              "\n",
              "    .dataframe thead th {\n",
              "        text-align: right;\n",
              "    }\n",
              "</style>\n",
              "<table border=\"1\" class=\"dataframe\">\n",
              "  <thead>\n",
              "    <tr style=\"text-align: right;\">\n",
              "      <th></th>\n",
              "      <th>0</th>\n",
              "      <th>a</th>\n",
              "    </tr>\n",
              "  </thead>\n",
              "  <tbody>\n",
              "    <tr>\n",
              "      <th>0</th>\n",
              "      <td>Thyroid_Cancer</td>\n",
              "      <td>Thyroid surgery in  children in a single insti...</td>\n",
              "    </tr>\n",
              "    <tr>\n",
              "      <th>1</th>\n",
              "      <td>Thyroid_Cancer</td>\n",
              "      <td>\" The adopted strategy was the same as that us...</td>\n",
              "    </tr>\n",
              "    <tr>\n",
              "      <th>2</th>\n",
              "      <td>Thyroid_Cancer</td>\n",
              "      <td>coronary arterybypass grafting thrombosis ï¬b...</td>\n",
              "    </tr>\n",
              "    <tr>\n",
              "      <th>3</th>\n",
              "      <td>Thyroid_Cancer</td>\n",
              "      <td>Solitary plasmacytoma SP of the skull is an u...</td>\n",
              "    </tr>\n",
              "    <tr>\n",
              "      <th>4</th>\n",
              "      <td>Thyroid_Cancer</td>\n",
              "      <td>This study aimed to investigate serum matrix ...</td>\n",
              "    </tr>\n",
              "    <tr>\n",
              "      <th>...</th>\n",
              "      <td>...</td>\n",
              "      <td>...</td>\n",
              "    </tr>\n",
              "    <tr>\n",
              "      <th>7565</th>\n",
              "      <td>Colon_Cancer</td>\n",
              "      <td>we report the case of a 24yearold man who pres...</td>\n",
              "    </tr>\n",
              "    <tr>\n",
              "      <th>7566</th>\n",
              "      <td>Colon_Cancer</td>\n",
              "      <td>among synchronous colorectal cancers scrcs rep...</td>\n",
              "    </tr>\n",
              "    <tr>\n",
              "      <th>7567</th>\n",
              "      <td>Colon_Cancer</td>\n",
              "      <td>the heterogeneity of cancer cells is generally...</td>\n",
              "    </tr>\n",
              "    <tr>\n",
              "      <th>7568</th>\n",
              "      <td>Colon_Cancer</td>\n",
              "      <td>\"adipogenesis is the process through which mes...</td>\n",
              "    </tr>\n",
              "    <tr>\n",
              "      <th>7569</th>\n",
              "      <td>Colon_Cancer</td>\n",
              "      <td>the periparturient period is one of the most c...</td>\n",
              "    </tr>\n",
              "  </tbody>\n",
              "</table>\n",
              "<p>7570 rows × 2 columns</p>\n",
              "</div>\n",
              "      <button class=\"colab-df-convert\" onclick=\"convertToInteractive('df-ee79d946-1332-4b4f-b731-3d338cfbd18f')\"\n",
              "              title=\"Convert this dataframe to an interactive table.\"\n",
              "              style=\"display:none;\">\n",
              "        \n",
              "  <svg xmlns=\"http://www.w3.org/2000/svg\" height=\"24px\"viewBox=\"0 0 24 24\"\n",
              "       width=\"24px\">\n",
              "    <path d=\"M0 0h24v24H0V0z\" fill=\"none\"/>\n",
              "    <path d=\"M18.56 5.44l.94 2.06.94-2.06 2.06-.94-2.06-.94-.94-2.06-.94 2.06-2.06.94zm-11 1L8.5 8.5l.94-2.06 2.06-.94-2.06-.94L8.5 2.5l-.94 2.06-2.06.94zm10 10l.94 2.06.94-2.06 2.06-.94-2.06-.94-.94-2.06-.94 2.06-2.06.94z\"/><path d=\"M17.41 7.96l-1.37-1.37c-.4-.4-.92-.59-1.43-.59-.52 0-1.04.2-1.43.59L10.3 9.45l-7.72 7.72c-.78.78-.78 2.05 0 2.83L4 21.41c.39.39.9.59 1.41.59.51 0 1.02-.2 1.41-.59l7.78-7.78 2.81-2.81c.8-.78.8-2.07 0-2.86zM5.41 20L4 18.59l7.72-7.72 1.47 1.35L5.41 20z\"/>\n",
              "  </svg>\n",
              "      </button>\n",
              "      \n",
              "  <style>\n",
              "    .colab-df-container {\n",
              "      display:flex;\n",
              "      flex-wrap:wrap;\n",
              "      gap: 12px;\n",
              "    }\n",
              "\n",
              "    .colab-df-convert {\n",
              "      background-color: #E8F0FE;\n",
              "      border: none;\n",
              "      border-radius: 50%;\n",
              "      cursor: pointer;\n",
              "      display: none;\n",
              "      fill: #1967D2;\n",
              "      height: 32px;\n",
              "      padding: 0 0 0 0;\n",
              "      width: 32px;\n",
              "    }\n",
              "\n",
              "    .colab-df-convert:hover {\n",
              "      background-color: #E2EBFA;\n",
              "      box-shadow: 0px 1px 2px rgba(60, 64, 67, 0.3), 0px 1px 3px 1px rgba(60, 64, 67, 0.15);\n",
              "      fill: #174EA6;\n",
              "    }\n",
              "\n",
              "    [theme=dark] .colab-df-convert {\n",
              "      background-color: #3B4455;\n",
              "      fill: #D2E3FC;\n",
              "    }\n",
              "\n",
              "    [theme=dark] .colab-df-convert:hover {\n",
              "      background-color: #434B5C;\n",
              "      box-shadow: 0px 1px 3px 1px rgba(0, 0, 0, 0.15);\n",
              "      filter: drop-shadow(0px 1px 2px rgba(0, 0, 0, 0.3));\n",
              "      fill: #FFFFFF;\n",
              "    }\n",
              "  </style>\n",
              "\n",
              "      <script>\n",
              "        const buttonEl =\n",
              "          document.querySelector('#df-ee79d946-1332-4b4f-b731-3d338cfbd18f button.colab-df-convert');\n",
              "        buttonEl.style.display =\n",
              "          google.colab.kernel.accessAllowed ? 'block' : 'none';\n",
              "\n",
              "        async function convertToInteractive(key) {\n",
              "          const element = document.querySelector('#df-ee79d946-1332-4b4f-b731-3d338cfbd18f');\n",
              "          const dataTable =\n",
              "            await google.colab.kernel.invokeFunction('convertToInteractive',\n",
              "                                                     [key], {});\n",
              "          if (!dataTable) return;\n",
              "\n",
              "          const docLinkHtml = 'Like what you see? Visit the ' +\n",
              "            '<a target=\"_blank\" href=https://colab.research.google.com/notebooks/data_table.ipynb>data table notebook</a>'\n",
              "            + ' to learn more about interactive tables.';\n",
              "          element.innerHTML = '';\n",
              "          dataTable['output_type'] = 'display_data';\n",
              "          await google.colab.output.renderOutput(dataTable, element);\n",
              "          const docLink = document.createElement('div');\n",
              "          docLink.innerHTML = docLinkHtml;\n",
              "          element.appendChild(docLink);\n",
              "        }\n",
              "      </script>\n",
              "    </div>\n",
              "  </div>\n",
              "  "
            ]
          },
          "metadata": {},
          "execution_count": 67
        }
      ]
    },
    {
      "cell_type": "code",
      "source": [
        "sentences = dataset['a'].to_list()\n",
        "labels = dataset['0'].to_numpy().reshape(-1,1)"
      ],
      "metadata": {
        "id": "dbelEpJk-5Oa"
      },
      "execution_count": 69,
      "outputs": []
    },
    {
      "cell_type": "code",
      "source": [
        "labels"
      ],
      "metadata": {
        "colab": {
          "base_uri": "https://localhost:8080/"
        },
        "id": "zVLsx4MH_U1R",
        "outputId": "e7bbeab7-fca6-41ce-8984-4e1b1a156c0e"
      },
      "execution_count": 70,
      "outputs": [
        {
          "output_type": "execute_result",
          "data": {
            "text/plain": [
              "array([['Thyroid_Cancer'],\n",
              "       ['Thyroid_Cancer'],\n",
              "       ['Thyroid_Cancer'],\n",
              "       ...,\n",
              "       ['Colon_Cancer'],\n",
              "       ['Colon_Cancer'],\n",
              "       ['Colon_Cancer']], dtype=object)"
            ]
          },
          "metadata": {},
          "execution_count": 70
        }
      ]
    },
    {
      "cell_type": "code",
      "source": [
        "from sklearn.preprocessing import OneHotEncoder, LabelEncoder\n",
        "from sklearn.model_selection import train_test_split\n",
        "\n",
        "train_data, test_data, train_labels, test_labels = train_test_split(sentences, labels, test_size=0.2, shuffle=True, random_state=42)\n",
        "len(train_data), len(test_data), len(train_labels), len(test_labels)"
      ],
      "metadata": {
        "colab": {
          "base_uri": "https://localhost:8080/"
        },
        "id": "bwdjeio2_XMO",
        "outputId": "cd2f46df-f82f-4601-b036-845da02a95af"
      },
      "execution_count": 72,
      "outputs": [
        {
          "output_type": "execute_result",
          "data": {
            "text/plain": [
              "(6056, 1514, 6056, 1514)"
            ]
          },
          "metadata": {},
          "execution_count": 72
        }
      ]
    },
    {
      "cell_type": "code",
      "source": [
        "one_hot_encoder = OneHotEncoder(sparse=False)\n",
        "label_encoder = LabelEncoder()"
      ],
      "metadata": {
        "id": "ZyjUvV1HAAoR"
      },
      "execution_count": 73,
      "outputs": []
    },
    {
      "cell_type": "code",
      "source": [
        "train_labels_one_hot = one_hot_encoder.fit_transform(train_labels)\n",
        "test_labels_one_hot = one_hot_encoder.transform(test_labels)\n",
        "\n",
        "train_labels = label_encoder.fit_transform(train_labels)\n",
        "test_labels = label_encoder.transform(test_labels)"
      ],
      "metadata": {
        "colab": {
          "base_uri": "https://localhost:8080/"
        },
        "id": "bOkJQ87wABo_",
        "outputId": "b6b9f46f-d838-4e4c-dc79-3fabcfac9062"
      },
      "execution_count": 74,
      "outputs": [
        {
          "output_type": "stream",
          "name": "stderr",
          "text": [
            "/usr/local/lib/python3.8/dist-packages/sklearn/preprocessing/_label.py:115: DataConversionWarning: A column-vector y was passed when a 1d array was expected. Please change the shape of y to (n_samples, ), for example using ravel().\n",
            "  y = column_or_1d(y, warn=True)\n",
            "/usr/local/lib/python3.8/dist-packages/sklearn/preprocessing/_label.py:133: DataConversionWarning: A column-vector y was passed when a 1d array was expected. Please change the shape of y to (n_samples, ), for example using ravel().\n",
            "  y = column_or_1d(y, warn=True)\n"
          ]
        }
      ]
    },
    {
      "cell_type": "code",
      "source": [
        "\n",
        "NUM_CLASSES = len(label_encoder.classes_)\n",
        "NUM_CLASSES"
      ],
      "metadata": {
        "colab": {
          "base_uri": "https://localhost:8080/"
        },
        "id": "WkUpnjPFAGI0",
        "outputId": "8e153000-b68a-4c81-fcaf-136e671a14ef"
      },
      "execution_count": 75,
      "outputs": [
        {
          "output_type": "execute_result",
          "data": {
            "text/plain": [
              "3"
            ]
          },
          "metadata": {},
          "execution_count": 75
        }
      ]
    },
    {
      "cell_type": "code",
      "source": [
        "from sklearn.feature_extraction.text import TfidfVectorizer\n",
        "from sklearn.naive_bayes import MultinomialNB\n",
        "from sklearn.pipeline import Pipeline\n",
        "\n",
        "model_0 = Pipeline([\n",
        "    (\"tfidf\", TfidfVectorizer()),\n",
        "    (\"clf\", MultinomialNB())\n",
        "])\n",
        "model_0.fit(train_data, train_labels)"
      ],
      "metadata": {
        "colab": {
          "base_uri": "https://localhost:8080/"
        },
        "id": "RF4sfpm7AJuj",
        "outputId": "50c8c389-fc10-4c1d-9930-4e26a473bdb8"
      },
      "execution_count": 76,
      "outputs": [
        {
          "output_type": "execute_result",
          "data": {
            "text/plain": [
              "Pipeline(steps=[('tfidf', TfidfVectorizer()), ('clf', MultinomialNB())])"
            ]
          },
          "metadata": {},
          "execution_count": 76
        }
      ]
    },
    {
      "cell_type": "code",
      "source": [
        "model_0_score = model_0.score(test_data, test_labels)"
      ],
      "metadata": {
        "id": "07DZ6DNKAMeS"
      },
      "execution_count": 77,
      "outputs": []
    },
    {
      "cell_type": "code",
      "source": [
        "from sklearn.metrics import accuracy_score, precision_recall_fscore_support\n",
        "def calculate_results(y_true, y_pred):\n",
        "  model_accuracy = accuracy_score(y_true, y_pred) * 100\n",
        "  model_precision, model_recall, model_f1_score, _ = precision_recall_fscore_support(y_true, y_pred, average=\"weighted\")\n",
        "  model_results = {\n",
        "      \"accuracy\": model_accuracy,\n",
        "      \"precision\":model_precision,\n",
        "      \"recall\": model_recall,\n",
        "      \"f1_score\": model_f1_score\n",
        "  }\n",
        "  return model_results\n",
        "\n",
        "def return_callbacks(model_name):\n",
        "  callbacks_list = []\n",
        "  callbacks_list.append(tf.keras.callbacks.ModelCheckpoint(\"saved_models/\"+model_name, monitor='val_loss', save_best_only='True', verbose=1))\n",
        "  callbacks_list.append(tf.keras.callbacks.EarlyStopping(monitor='val_loss', patience=5, verbose=1, restore_best_weights='True'))\n",
        "  return callbacks_list"
      ],
      "metadata": {
        "id": "ulvcbCkRAR6G"
      },
      "execution_count": 78,
      "outputs": []
    },
    {
      "cell_type": "code",
      "source": [
        "model_0_preds = model_0.predict(test_data)\n",
        "model_0_results = calculate_results(test_labels, model_0_preds)\n",
        "model_results_dataset = {}\n",
        "model_results_dataset['model_0'] = model_0_results\n",
        "model_0_results"
      ],
      "metadata": {
        "colab": {
          "base_uri": "https://localhost:8080/"
        },
        "id": "ErpU0ZWhAUI1",
        "outputId": "b556f7c0-0f3d-4ce3-8719-4a90e627faf7"
      },
      "execution_count": 79,
      "outputs": [
        {
          "output_type": "execute_result",
          "data": {
            "text/plain": [
              "{'accuracy': 92.53632760898283,\n",
              " 'precision': 0.9257391715264577,\n",
              " 'recall': 0.9253632760898283,\n",
              " 'f1_score': 0.9252128786513554}"
            ]
          },
          "metadata": {},
          "execution_count": 79
        }
      ]
    },
    {
      "cell_type": "code",
      "source": [
        "train_dataset = tf.data.Dataset.from_tensor_slices((train_data, train_labels_one_hot))\n",
        "test_dataset = tf.data.Dataset.from_tensor_slices((test_data, test_labels_one_hot))\n",
        "\n",
        "# Take the TensorSliceDataset's and turn them into prefetched batches\n",
        "train_dataset = train_dataset.batch(32).prefetch(tf.data.AUTOTUNE)\n",
        "test_dataset = test_dataset.batch(32).prefetch(tf.data.AUTOTUNE)\n",
        "\n",
        "train_dataset"
      ],
      "metadata": {
        "colab": {
          "base_uri": "https://localhost:8080/"
        },
        "id": "38K9VTdQAa1c",
        "outputId": "66da2749-88b2-4dec-be09-c233ec80dd26"
      },
      "execution_count": 80,
      "outputs": [
        {
          "output_type": "execute_result",
          "data": {
            "text/plain": [
              "<PrefetchDataset element_spec=(TensorSpec(shape=(None,), dtype=tf.string, name=None), TensorSpec(shape=(None, 3), dtype=tf.float64, name=None))>"
            ]
          },
          "metadata": {},
          "execution_count": 80
        }
      ]
    },
    {
      "cell_type": "code",
      "source": [
        "from tensorflow.keras.layers import TextVectorization\n",
        "output_seq_length = round(sum([len(i.split()) for i in train_data])/len(train_data))\n",
        "tv_layer = TextVectorization(max_tokens=10000, standardize=\"lower_and_strip_punctuation\", split=\"whitespace\", output_mode=\"int\", output_sequence_length=output_seq_length, pad_to_max_tokens=True)\n",
        "tv_layer.adapt(train_data)"
      ],
      "metadata": {
        "id": "IxfqNY977A1H"
      },
      "execution_count": 81,
      "outputs": []
    },
    {
      "cell_type": "code",
      "source": [
        "from tensorflow.keras import layers\n",
        "\n",
        "embedding_layer = layers.Embedding(input_dim=10000, output_dim=128, input_length=output_seq_length)"
      ],
      "metadata": {
        "id": "YVEwGDznAm_R"
      },
      "execution_count": 82,
      "outputs": []
    },
    {
      "cell_type": "code",
      "source": [
        "from tensorflow.keras import layers\n",
        "\n",
        "inputs = layers.Input(shape=(1,), dtype=tf.string)\n",
        "x = tv_layer(inputs)\n",
        "x = embedding_layer(x)\n",
        "x = layers.GlobalAveragePooling1D()(x)\n",
        "output = layers.Dense(NUM_CLASSES, activation='softmax')(x)\n",
        "\n",
        "model_1 = tf.keras.Model(inputs, output, name=\"nlp_model_1\")\n",
        "model_1.summary()"
      ],
      "metadata": {
        "colab": {
          "base_uri": "https://localhost:8080/"
        },
        "id": "DFDrXYQb7Vw6",
        "outputId": "033f46f6-322a-4ad9-ad1d-85e8c8d44190"
      },
      "execution_count": 83,
      "outputs": [
        {
          "output_type": "stream",
          "name": "stdout",
          "text": [
            "Model: \"nlp_model_1\"\n",
            "_________________________________________________________________\n",
            " Layer (type)                Output Shape              Param #   \n",
            "=================================================================\n",
            " input_4 (InputLayer)        [(None, 1)]               0         \n",
            "                                                                 \n",
            " text_vectorization_2 (TextV  (None, 3478)             0         \n",
            " ectorization)                                                   \n",
            "                                                                 \n",
            " embedding_2 (Embedding)     (None, 3478, 128)         1280000   \n",
            "                                                                 \n",
            " global_average_pooling1d_5   (None, 128)              0         \n",
            " (GlobalAveragePooling1D)                                        \n",
            "                                                                 \n",
            " dense_7 (Dense)             (None, 3)                 387       \n",
            "                                                                 \n",
            "=================================================================\n",
            "Total params: 1,280,387\n",
            "Trainable params: 1,280,387\n",
            "Non-trainable params: 0\n",
            "_________________________________________________________________\n"
          ]
        }
      ]
    },
    {
      "cell_type": "code",
      "source": [
        "model_1.compile(loss=\"categorical_crossentropy\", optimizer=tf.keras.optimizers.Adam(), metrics=[\"accuracy\"])\n",
        "history_1 = model_1.fit(train_dataset, epochs=20, validation_data=test_dataset, callbacks=return_callbacks(model_1.name))"
      ],
      "metadata": {
        "colab": {
          "base_uri": "https://localhost:8080/"
        },
        "id": "7vuvs5I872PU",
        "outputId": "a4336c37-f540-4ae0-abce-812ade596a04"
      },
      "execution_count": 84,
      "outputs": [
        {
          "output_type": "stream",
          "name": "stdout",
          "text": [
            "Epoch 1/20\n",
            "190/190 [==============================] - ETA: 0s - loss: 0.8542 - accuracy: 0.6126\n",
            "Epoch 1: val_loss improved from inf to 0.72124, saving model to saved_models/nlp_model_1\n",
            "190/190 [==============================] - 7s 34ms/step - loss: 0.8542 - accuracy: 0.6126 - val_loss: 0.7212 - val_accuracy: 0.6460\n",
            "Epoch 2/20\n",
            "188/190 [============================>.] - ETA: 0s - loss: 0.6166 - accuracy: 0.7979\n",
            "Epoch 2: val_loss improved from 0.72124 to 0.54516, saving model to saved_models/nlp_model_1\n",
            "190/190 [==============================] - 6s 33ms/step - loss: 0.6157 - accuracy: 0.7984 - val_loss: 0.5452 - val_accuracy: 0.8435\n",
            "Epoch 3/20\n",
            "190/190 [==============================] - ETA: 0s - loss: 0.4376 - accuracy: 0.8932\n",
            "Epoch 3: val_loss improved from 0.54516 to 0.38925, saving model to saved_models/nlp_model_1\n",
            "190/190 [==============================] - 6s 32ms/step - loss: 0.4376 - accuracy: 0.8932 - val_loss: 0.3892 - val_accuracy: 0.8930\n",
            "Epoch 4/20\n",
            "190/190 [==============================] - ETA: 0s - loss: 0.3066 - accuracy: 0.9158\n",
            "Epoch 4: val_loss improved from 0.38925 to 0.28752, saving model to saved_models/nlp_model_1\n",
            "190/190 [==============================] - 6s 33ms/step - loss: 0.3066 - accuracy: 0.9158 - val_loss: 0.2875 - val_accuracy: 0.9055\n",
            "Epoch 5/20\n",
            "189/190 [============================>.] - ETA: 0s - loss: 0.2276 - accuracy: 0.9268\n",
            "Epoch 5: val_loss improved from 0.28752 to 0.22515, saving model to saved_models/nlp_model_1\n",
            "190/190 [==============================] - 10s 53ms/step - loss: 0.2273 - accuracy: 0.9268 - val_loss: 0.2251 - val_accuracy: 0.9155\n",
            "Epoch 6/20\n",
            "190/190 [==============================] - ETA: 0s - loss: 0.1804 - accuracy: 0.9402\n",
            "Epoch 6: val_loss improved from 0.22515 to 0.18593, saving model to saved_models/nlp_model_1\n",
            "190/190 [==============================] - 7s 35ms/step - loss: 0.1804 - accuracy: 0.9402 - val_loss: 0.1859 - val_accuracy: 0.9293\n",
            "Epoch 7/20\n",
            "189/190 [============================>.] - ETA: 0s - loss: 0.1515 - accuracy: 0.9507\n",
            "Epoch 7: val_loss improved from 0.18593 to 0.16003, saving model to saved_models/nlp_model_1\n",
            "190/190 [==============================] - 6s 34ms/step - loss: 0.1514 - accuracy: 0.9508 - val_loss: 0.1600 - val_accuracy: 0.9386\n",
            "Epoch 8/20\n",
            "188/190 [============================>.] - ETA: 0s - loss: 0.1328 - accuracy: 0.9558\n",
            "Epoch 8: val_loss improved from 0.16003 to 0.14197, saving model to saved_models/nlp_model_1\n",
            "190/190 [==============================] - 6s 33ms/step - loss: 0.1323 - accuracy: 0.9561 - val_loss: 0.1420 - val_accuracy: 0.9399\n",
            "Epoch 9/20\n",
            "189/190 [============================>.] - ETA: 0s - loss: 0.1192 - accuracy: 0.9608\n",
            "Epoch 9: val_loss improved from 0.14197 to 0.12869, saving model to saved_models/nlp_model_1\n",
            "190/190 [==============================] - 6s 33ms/step - loss: 0.1191 - accuracy: 0.9609 - val_loss: 0.1287 - val_accuracy: 0.9439\n",
            "Epoch 10/20\n",
            "188/190 [============================>.] - ETA: 0s - loss: 0.1096 - accuracy: 0.9628\n",
            "Epoch 10: val_loss improved from 0.12869 to 0.11849, saving model to saved_models/nlp_model_1\n",
            "190/190 [==============================] - 6s 33ms/step - loss: 0.1092 - accuracy: 0.9630 - val_loss: 0.1185 - val_accuracy: 0.9458\n",
            "Epoch 11/20\n",
            "190/190 [==============================] - ETA: 0s - loss: 0.1016 - accuracy: 0.9643\n",
            "Epoch 11: val_loss improved from 0.11849 to 0.11037, saving model to saved_models/nlp_model_1\n",
            "190/190 [==============================] - 6s 31ms/step - loss: 0.1016 - accuracy: 0.9643 - val_loss: 0.1104 - val_accuracy: 0.9491\n",
            "Epoch 12/20\n",
            "188/190 [============================>.] - ETA: 0s - loss: 0.0958 - accuracy: 0.9659\n",
            "Epoch 12: val_loss improved from 0.11037 to 0.10372, saving model to saved_models/nlp_model_1\n",
            "190/190 [==============================] - 6s 30ms/step - loss: 0.0954 - accuracy: 0.9661 - val_loss: 0.1037 - val_accuracy: 0.9511\n",
            "Epoch 13/20\n",
            "189/190 [============================>.] - ETA: 0s - loss: 0.0904 - accuracy: 0.9668\n",
            "Epoch 13: val_loss improved from 0.10372 to 0.09817, saving model to saved_models/nlp_model_1\n",
            "190/190 [==============================] - 6s 31ms/step - loss: 0.0903 - accuracy: 0.9668 - val_loss: 0.0982 - val_accuracy: 0.9524\n",
            "Epoch 14/20\n",
            "189/190 [============================>.] - ETA: 0s - loss: 0.0860 - accuracy: 0.9688\n",
            "Epoch 14: val_loss improved from 0.09817 to 0.09344, saving model to saved_models/nlp_model_1\n",
            "190/190 [==============================] - 6s 30ms/step - loss: 0.0859 - accuracy: 0.9688 - val_loss: 0.0934 - val_accuracy: 0.9564\n",
            "Epoch 15/20\n",
            "188/190 [============================>.] - ETA: 0s - loss: 0.0824 - accuracy: 0.9702\n",
            "Epoch 15: val_loss improved from 0.09344 to 0.08937, saving model to saved_models/nlp_model_1\n",
            "190/190 [==============================] - 6s 31ms/step - loss: 0.0820 - accuracy: 0.9704 - val_loss: 0.0894 - val_accuracy: 0.9564\n",
            "Epoch 16/20\n",
            "189/190 [============================>.] - ETA: 0s - loss: 0.0787 - accuracy: 0.9721\n",
            "Epoch 16: val_loss improved from 0.08937 to 0.08579, saving model to saved_models/nlp_model_1\n",
            "190/190 [==============================] - 6s 31ms/step - loss: 0.0786 - accuracy: 0.9721 - val_loss: 0.0858 - val_accuracy: 0.9571\n",
            "Epoch 17/20\n",
            "189/190 [============================>.] - ETA: 0s - loss: 0.0757 - accuracy: 0.9729\n",
            "Epoch 17: val_loss improved from 0.08579 to 0.08263, saving model to saved_models/nlp_model_1\n",
            "190/190 [==============================] - 6s 31ms/step - loss: 0.0756 - accuracy: 0.9729 - val_loss: 0.0826 - val_accuracy: 0.9571\n",
            "Epoch 18/20\n",
            "190/190 [==============================] - ETA: 0s - loss: 0.0729 - accuracy: 0.9737\n",
            "Epoch 18: val_loss improved from 0.08263 to 0.07979, saving model to saved_models/nlp_model_1\n",
            "190/190 [==============================] - 6s 31ms/step - loss: 0.0729 - accuracy: 0.9737 - val_loss: 0.0798 - val_accuracy: 0.9571\n",
            "Epoch 19/20\n",
            "190/190 [==============================] - ETA: 0s - loss: 0.0703 - accuracy: 0.9739\n",
            "Epoch 19: val_loss improved from 0.07979 to 0.07723, saving model to saved_models/nlp_model_1\n",
            "190/190 [==============================] - 7s 36ms/step - loss: 0.0703 - accuracy: 0.9739 - val_loss: 0.0772 - val_accuracy: 0.9571\n",
            "Epoch 20/20\n",
            "189/190 [============================>.] - ETA: 0s - loss: 0.0681 - accuracy: 0.9744\n",
            "Epoch 20: val_loss improved from 0.07723 to 0.07489, saving model to saved_models/nlp_model_1\n",
            "190/190 [==============================] - 6s 31ms/step - loss: 0.0680 - accuracy: 0.9744 - val_loss: 0.0749 - val_accuracy: 0.9571\n"
          ]
        }
      ]
    },
    {
      "cell_type": "code",
      "source": [
        "model_1.evaluate(test_dataset)\n",
        "model_1_loaded = tf.keras.models.load_model(\"saved_models/nlp_model_1\")\n",
        "model_1_preds = model_1_loaded.predict(test_dataset)\n",
        "model_1_results = calculate_results(test_labels, tf.argmax(model_1_preds, axis=1))\n",
        "model_results_dataset['model_1'] = model_1_results\n",
        "model_1_results"
      ],
      "metadata": {
        "colab": {
          "base_uri": "https://localhost:8080/"
        },
        "id": "kXRAeI_w8B4d",
        "outputId": "3e712025-494d-489b-e474-5db9b2cbde2f"
      },
      "execution_count": 85,
      "outputs": [
        {
          "output_type": "stream",
          "name": "stdout",
          "text": [
            "48/48 [==============================] - 1s 19ms/step - loss: 0.0749 - accuracy: 0.9571\n",
            "48/48 [==============================] - 1s 19ms/step\n"
          ]
        },
        {
          "output_type": "execute_result",
          "data": {
            "text/plain": [
              "{'accuracy': 95.70673712021136,\n",
              " 'precision': 0.9573298296739985,\n",
              " 'recall': 0.9570673712021136,\n",
              " 'f1_score': 0.9570527182773984}"
            ]
          },
          "metadata": {},
          "execution_count": 85
        }
      ]
    },
    {
      "cell_type": "code",
      "source": [
        "tf.keras.backend.clear_session()"
      ],
      "metadata": {
        "id": "qPKaYD2d8HZo"
      },
      "execution_count": 86,
      "outputs": []
    },
    {
      "cell_type": "code",
      "source": [
        "from tensorflow.keras import layers\n",
        "model_2_embedding = layers.Embedding(input_dim=10000, output_dim=128, embeddings_initializer=\"uniform\", input_length=output_seq_length, name=\"embedding_2\")\n",
        "\n",
        "inputs = layers.Input(shape=(1,), dtype=tf.string)\n",
        "x = tv_layer(inputs)\n",
        "x = model_2_embedding(x)\n",
        "x = layers.GlobalAveragePooling1D()(x)\n",
        "x = layers.Dense(64, activation='relu')(x)\n",
        "output = layers.Dense(NUM_CLASSES, activation='softmax')(x)\n",
        "\n",
        "model_2 = tf.keras.Model(inputs, output, name=\"nlp_model_2\")\n",
        "model_2.summary()"
      ],
      "metadata": {
        "colab": {
          "base_uri": "https://localhost:8080/"
        },
        "id": "YM5OES8fA_eO",
        "outputId": "aa967157-8074-46e2-ce30-5c62f6bbabcf"
      },
      "execution_count": 87,
      "outputs": [
        {
          "output_type": "stream",
          "name": "stdout",
          "text": [
            "Model: \"nlp_model_2\"\n",
            "_________________________________________________________________\n",
            " Layer (type)                Output Shape              Param #   \n",
            "=================================================================\n",
            " input_1 (InputLayer)        [(None, 1)]               0         \n",
            "                                                                 \n",
            " text_vectorization_2 (TextV  (None, 3478)             0         \n",
            " ectorization)                                                   \n",
            "                                                                 \n",
            " embedding_2 (Embedding)     (None, 3478, 128)         1280000   \n",
            "                                                                 \n",
            " global_average_pooling1d (G  (None, 128)              0         \n",
            " lobalAveragePooling1D)                                          \n",
            "                                                                 \n",
            " dense (Dense)               (None, 64)                8256      \n",
            "                                                                 \n",
            " dense_1 (Dense)             (None, 3)                 195       \n",
            "                                                                 \n",
            "=================================================================\n",
            "Total params: 1,288,451\n",
            "Trainable params: 1,288,451\n",
            "Non-trainable params: 0\n",
            "_________________________________________________________________\n"
          ]
        }
      ]
    },
    {
      "cell_type": "code",
      "source": [
        "model_2.compile(loss=\"categorical_crossentropy\", optimizer=tf.keras.optimizers.Adam(), metrics=[\"accuracy\"])\n",
        "history_2 = model_2.fit(train_dataset, epochs=20, validation_data=test_dataset,callbacks=return_callbacks(model_2.name))"
      ],
      "metadata": {
        "colab": {
          "base_uri": "https://localhost:8080/"
        },
        "id": "MthuRznDBCIL",
        "outputId": "49fbde43-33e7-44c5-913c-205b11b54ce6"
      },
      "execution_count": 88,
      "outputs": [
        {
          "output_type": "stream",
          "name": "stdout",
          "text": [
            "Epoch 1/20\n",
            "188/190 [============================>.] - ETA: 0s - loss: 0.7445 - accuracy: 0.6509\n",
            "Epoch 1: val_loss improved from inf to 0.55177, saving model to saved_models/nlp_model_2\n",
            "190/190 [==============================] - 7s 35ms/step - loss: 0.7430 - accuracy: 0.6514 - val_loss: 0.5518 - val_accuracy: 0.7358\n",
            "Epoch 2/20\n",
            "189/190 [============================>.] - ETA: 0s - loss: 0.3900 - accuracy: 0.8674\n",
            "Epoch 2: val_loss improved from 0.55177 to 0.26846, saving model to saved_models/nlp_model_2\n",
            "190/190 [==============================] - 6s 32ms/step - loss: 0.3896 - accuracy: 0.8676 - val_loss: 0.2685 - val_accuracy: 0.9055\n",
            "Epoch 3/20\n",
            "188/190 [============================>.] - ETA: 0s - loss: 0.1774 - accuracy: 0.9310\n",
            "Epoch 3: val_loss improved from 0.26846 to 0.14936, saving model to saved_models/nlp_model_2\n",
            "190/190 [==============================] - 6s 31ms/step - loss: 0.1767 - accuracy: 0.9313 - val_loss: 0.1494 - val_accuracy: 0.9306\n",
            "Epoch 4/20\n",
            "189/190 [============================>.] - ETA: 0s - loss: 0.1184 - accuracy: 0.9453\n",
            "Epoch 4: val_loss improved from 0.14936 to 0.11405, saving model to saved_models/nlp_model_2\n",
            "190/190 [==============================] - 6s 30ms/step - loss: 0.1182 - accuracy: 0.9453 - val_loss: 0.1141 - val_accuracy: 0.9458\n",
            "Epoch 5/20\n",
            "189/190 [============================>.] - ETA: 0s - loss: 0.0984 - accuracy: 0.9540\n",
            "Epoch 5: val_loss improved from 0.11405 to 0.09702, saving model to saved_models/nlp_model_2\n",
            "190/190 [==============================] - 6s 33ms/step - loss: 0.0983 - accuracy: 0.9541 - val_loss: 0.0970 - val_accuracy: 0.9551\n",
            "Epoch 6/20\n",
            "190/190 [==============================] - ETA: 0s - loss: 0.0869 - accuracy: 0.9609\n",
            "Epoch 6: val_loss improved from 0.09702 to 0.08647, saving model to saved_models/nlp_model_2\n",
            "190/190 [==============================] - 6s 31ms/step - loss: 0.0869 - accuracy: 0.9609 - val_loss: 0.0865 - val_accuracy: 0.9590\n",
            "Epoch 7/20\n",
            "188/190 [============================>.] - ETA: 0s - loss: 0.0793 - accuracy: 0.9644\n",
            "Epoch 7: val_loss improved from 0.08647 to 0.07910, saving model to saved_models/nlp_model_2\n",
            "190/190 [==============================] - 6s 31ms/step - loss: 0.0789 - accuracy: 0.9645 - val_loss: 0.0791 - val_accuracy: 0.9610\n",
            "Epoch 8/20\n",
            "189/190 [============================>.] - ETA: 0s - loss: 0.0728 - accuracy: 0.9661\n",
            "Epoch 8: val_loss improved from 0.07910 to 0.07342, saving model to saved_models/nlp_model_2\n",
            "190/190 [==============================] - 6s 31ms/step - loss: 0.0728 - accuracy: 0.9661 - val_loss: 0.0734 - val_accuracy: 0.9637\n",
            "Epoch 9/20\n",
            "189/190 [============================>.] - ETA: 0s - loss: 0.0678 - accuracy: 0.9683\n",
            "Epoch 9: val_loss improved from 0.07342 to 0.06906, saving model to saved_models/nlp_model_2\n",
            "190/190 [==============================] - 6s 31ms/step - loss: 0.0678 - accuracy: 0.9683 - val_loss: 0.0691 - val_accuracy: 0.9650\n",
            "Epoch 10/20\n",
            "190/190 [==============================] - ETA: 0s - loss: 0.0636 - accuracy: 0.9708\n",
            "Epoch 10: val_loss improved from 0.06906 to 0.06540, saving model to saved_models/nlp_model_2\n",
            "190/190 [==============================] - 6s 31ms/step - loss: 0.0636 - accuracy: 0.9708 - val_loss: 0.0654 - val_accuracy: 0.9650\n",
            "Epoch 11/20\n",
            "190/190 [==============================] - ETA: 0s - loss: 0.0602 - accuracy: 0.9728\n",
            "Epoch 11: val_loss improved from 0.06540 to 0.06250, saving model to saved_models/nlp_model_2\n",
            "190/190 [==============================] - 6s 31ms/step - loss: 0.0602 - accuracy: 0.9728 - val_loss: 0.0625 - val_accuracy: 0.9690\n",
            "Epoch 12/20\n",
            "190/190 [==============================] - ETA: 0s - loss: 0.0572 - accuracy: 0.9737\n",
            "Epoch 12: val_loss improved from 0.06250 to 0.05989, saving model to saved_models/nlp_model_2\n",
            "190/190 [==============================] - 6s 31ms/step - loss: 0.0572 - accuracy: 0.9737 - val_loss: 0.0599 - val_accuracy: 0.9690\n",
            "Epoch 13/20\n",
            "188/190 [============================>.] - ETA: 0s - loss: 0.0549 - accuracy: 0.9741\n",
            "Epoch 13: val_loss improved from 0.05989 to 0.05765, saving model to saved_models/nlp_model_2\n",
            "190/190 [==============================] - 6s 31ms/step - loss: 0.0547 - accuracy: 0.9742 - val_loss: 0.0576 - val_accuracy: 0.9690\n",
            "Epoch 14/20\n",
            "190/190 [==============================] - ETA: 0s - loss: 0.0524 - accuracy: 0.9752\n",
            "Epoch 14: val_loss improved from 0.05765 to 0.05581, saving model to saved_models/nlp_model_2\n",
            "190/190 [==============================] - 6s 33ms/step - loss: 0.0524 - accuracy: 0.9752 - val_loss: 0.0558 - val_accuracy: 0.9690\n",
            "Epoch 15/20\n",
            "189/190 [============================>.] - ETA: 0s - loss: 0.0506 - accuracy: 0.9759\n",
            "Epoch 15: val_loss improved from 0.05581 to 0.05406, saving model to saved_models/nlp_model_2\n",
            "190/190 [==============================] - 6s 31ms/step - loss: 0.0505 - accuracy: 0.9759 - val_loss: 0.0541 - val_accuracy: 0.9716\n",
            "Epoch 16/20\n",
            "190/190 [==============================] - ETA: 0s - loss: 0.0488 - accuracy: 0.9764\n",
            "Epoch 16: val_loss improved from 0.05406 to 0.05251, saving model to saved_models/nlp_model_2\n",
            "190/190 [==============================] - 6s 31ms/step - loss: 0.0488 - accuracy: 0.9764 - val_loss: 0.0525 - val_accuracy: 0.9716\n",
            "Epoch 17/20\n",
            "189/190 [============================>.] - ETA: 0s - loss: 0.0474 - accuracy: 0.9770\n",
            "Epoch 17: val_loss improved from 0.05251 to 0.05112, saving model to saved_models/nlp_model_2\n",
            "190/190 [==============================] - 10s 51ms/step - loss: 0.0474 - accuracy: 0.9770 - val_loss: 0.0511 - val_accuracy: 0.9716\n",
            "Epoch 18/20\n",
            "189/190 [============================>.] - ETA: 0s - loss: 0.0461 - accuracy: 0.9775\n",
            "Epoch 18: val_loss improved from 0.05112 to 0.04987, saving model to saved_models/nlp_model_2\n",
            "190/190 [==============================] - 6s 33ms/step - loss: 0.0461 - accuracy: 0.9775 - val_loss: 0.0499 - val_accuracy: 0.9742\n",
            "Epoch 19/20\n",
            "190/190 [==============================] - ETA: 0s - loss: 0.0449 - accuracy: 0.9777\n",
            "Epoch 19: val_loss improved from 0.04987 to 0.04871, saving model to saved_models/nlp_model_2\n",
            "190/190 [==============================] - 6s 33ms/step - loss: 0.0449 - accuracy: 0.9777 - val_loss: 0.0487 - val_accuracy: 0.9742\n",
            "Epoch 20/20\n",
            "189/190 [============================>.] - ETA: 0s - loss: 0.0440 - accuracy: 0.9783\n",
            "Epoch 20: val_loss improved from 0.04871 to 0.04765, saving model to saved_models/nlp_model_2\n",
            "190/190 [==============================] - 8s 41ms/step - loss: 0.0439 - accuracy: 0.9784 - val_loss: 0.0476 - val_accuracy: 0.9742\n"
          ]
        }
      ]
    },
    {
      "cell_type": "code",
      "source": [
        "model_2.evaluate(test_dataset)\n",
        "model_2_loaded = tf.keras.models.load_model(\"saved_models/nlp_model_2\")\n",
        "model_2_preds = model_2_loaded.predict(test_dataset)\n",
        "model_2_results = calculate_results(test_labels, tf.argmax(model_2_preds, axis=1))\n",
        "model_results_dataset['model_2'] = model_2_results\n",
        "model_2_results"
      ],
      "metadata": {
        "colab": {
          "base_uri": "https://localhost:8080/"
        },
        "id": "7UEaJRF9BEcc",
        "outputId": "66abd20a-e3e3-40cc-c375-b1edb592a741"
      },
      "execution_count": 89,
      "outputs": [
        {
          "output_type": "stream",
          "name": "stdout",
          "text": [
            "48/48 [==============================] - 1s 20ms/step - loss: 0.0476 - accuracy: 0.9742\n",
            "48/48 [==============================] - 1s 19ms/step\n"
          ]
        },
        {
          "output_type": "execute_result",
          "data": {
            "text/plain": [
              "{'accuracy': 97.42404227212683,\n",
              " 'precision': 0.9745113504055504,\n",
              " 'recall': 0.9742404227212682,\n",
              " 'f1_score': 0.9742080473274934}"
            ]
          },
          "metadata": {},
          "execution_count": 89
        }
      ]
    },
    {
      "cell_type": "code",
      "source": [
        "tf.keras.backend.clear_session()"
      ],
      "metadata": {
        "id": "KKQauFeLBIpJ"
      },
      "execution_count": 90,
      "outputs": []
    },
    {
      "cell_type": "code",
      "source": [
        "from tensorflow.keras import layers\n",
        "model_3_embedding = layers.Embedding(input_dim=10000, output_dim=128, embeddings_initializer=\"uniform\", input_length=output_seq_length, name=\"embedding_2\")\n",
        "\n",
        "inputs = layers.Input(shape=(1,), dtype=tf.string)\n",
        "x = tv_layer(inputs)\n",
        "x = model_3_embedding(x)\n",
        "x = layers.LSTM(64)(x)\n",
        "x = layers.Dense(64, activation='relu')(x)\n",
        "output = layers.Dense(NUM_CLASSES, activation='softmax')(x)\n",
        "\n",
        "model_3 = tf.keras.Model(inputs, output, name=\"nlp_model_3\")\n",
        "model_3.summary()"
      ],
      "metadata": {
        "colab": {
          "base_uri": "https://localhost:8080/"
        },
        "id": "5iwIUXtNB3t9",
        "outputId": "45d3b6aa-abf9-4145-bc52-dd00b2753491"
      },
      "execution_count": 91,
      "outputs": [
        {
          "output_type": "stream",
          "name": "stdout",
          "text": [
            "Model: \"nlp_model_3\"\n",
            "_________________________________________________________________\n",
            " Layer (type)                Output Shape              Param #   \n",
            "=================================================================\n",
            " input_1 (InputLayer)        [(None, 1)]               0         \n",
            "                                                                 \n",
            " text_vectorization_2 (TextV  (None, 3478)             0         \n",
            " ectorization)                                                   \n",
            "                                                                 \n",
            " embedding_2 (Embedding)     (None, 3478, 128)         1280000   \n",
            "                                                                 \n",
            " lstm (LSTM)                 (None, 64)                49408     \n",
            "                                                                 \n",
            " dense (Dense)               (None, 64)                4160      \n",
            "                                                                 \n",
            " dense_1 (Dense)             (None, 3)                 195       \n",
            "                                                                 \n",
            "=================================================================\n",
            "Total params: 1,333,763\n",
            "Trainable params: 1,333,763\n",
            "Non-trainable params: 0\n",
            "_________________________________________________________________\n"
          ]
        }
      ]
    },
    {
      "cell_type": "code",
      "source": [
        "model_3.compile(loss=\"categorical_crossentropy\", optimizer=tf.keras.optimizers.Adam(), metrics=[\"accuracy\"])\n",
        "history_3 = model_3.fit(train_dataset, epochs=20, validation_data=test_dataset,callbacks=return_callbacks(model_3.name))"
      ],
      "metadata": {
        "colab": {
          "base_uri": "https://localhost:8080/"
        },
        "id": "eTYS48FgB5cf",
        "outputId": "a92d3315-2309-4a08-b00f-e950c44cbdff"
      },
      "execution_count": 92,
      "outputs": [
        {
          "output_type": "stream",
          "name": "stdout",
          "text": [
            "Epoch 1/20\n",
            "190/190 [==============================] - ETA: 0s - loss: 0.6330 - accuracy: 0.7442\n",
            "Epoch 1: val_loss improved from inf to 0.36036, saving model to saved_models/nlp_model_3\n"
          ]
        },
        {
          "output_type": "stream",
          "name": "stderr",
          "text": [
            "WARNING:absl:Found untraced functions such as lstm_cell_layer_call_fn, lstm_cell_layer_call_and_return_conditional_losses while saving (showing 2 of 2). These functions will not be directly callable after loading.\n"
          ]
        },
        {
          "output_type": "stream",
          "name": "stdout",
          "text": [
            "\b\b\b\b\b\b\b\b\b\b\b\b\b\b\b\b\b\b\b\b\b\b\b\b\b\b\b\b\b\b\b\b\b\b\b\b\b\b\b\b\b\b\b\b\b\b\b\b\b\b\b\b\b\b\b\b\b\b\b\b\b\b\b\b\b\b\b\b\b\b\b\b\b\b\b\b\b\b\b\b\b\b\b\b\r190/190 [==============================] - 39s 182ms/step - loss: 0.6330 - accuracy: 0.7442 - val_loss: 0.3604 - val_accuracy: 0.8686\n",
            "Epoch 2/20\n",
            "190/190 [==============================] - ETA: 0s - loss: 0.3217 - accuracy: 0.8905\n",
            "Epoch 2: val_loss improved from 0.36036 to 0.30676, saving model to saved_models/nlp_model_3\n"
          ]
        },
        {
          "output_type": "stream",
          "name": "stderr",
          "text": [
            "WARNING:absl:Found untraced functions such as lstm_cell_layer_call_fn, lstm_cell_layer_call_and_return_conditional_losses while saving (showing 2 of 2). These functions will not be directly callable after loading.\n"
          ]
        },
        {
          "output_type": "stream",
          "name": "stdout",
          "text": [
            "\b\b\b\b\b\b\b\b\b\b\b\b\b\b\b\b\b\b\b\b\b\b\b\b\b\b\b\b\b\b\b\b\b\b\b\b\b\b\b\b\b\b\b\b\b\b\b\b\b\b\b\b\b\b\b\b\b\b\b\b\b\b\b\b\b\b\b\b\b\b\b\b\b\b\b\b\b\b\b\b\b\b\b\b\r190/190 [==============================] - 33s 175ms/step - loss: 0.3217 - accuracy: 0.8905 - val_loss: 0.3068 - val_accuracy: 0.8904\n",
            "Epoch 3/20\n",
            "190/190 [==============================] - ETA: 0s - loss: 0.2949 - accuracy: 0.8988\n",
            "Epoch 3: val_loss improved from 0.30676 to 0.29227, saving model to saved_models/nlp_model_3\n"
          ]
        },
        {
          "output_type": "stream",
          "name": "stderr",
          "text": [
            "WARNING:absl:Found untraced functions such as lstm_cell_layer_call_fn, lstm_cell_layer_call_and_return_conditional_losses while saving (showing 2 of 2). These functions will not be directly callable after loading.\n"
          ]
        },
        {
          "output_type": "stream",
          "name": "stdout",
          "text": [
            "\b\b\b\b\b\b\b\b\b\b\b\b\b\b\b\b\b\b\b\b\b\b\b\b\b\b\b\b\b\b\b\b\b\b\b\b\b\b\b\b\b\b\b\b\b\b\b\b\b\b\b\b\b\b\b\b\b\b\b\b\b\b\b\b\b\b\b\b\b\b\b\b\b\b\b\b\b\b\b\b\b\b\b\b\r190/190 [==============================] - 33s 172ms/step - loss: 0.2949 - accuracy: 0.8988 - val_loss: 0.2923 - val_accuracy: 0.8937\n",
            "Epoch 4/20\n",
            "190/190 [==============================] - ETA: 0s - loss: 0.2866 - accuracy: 0.9006\n",
            "Epoch 4: val_loss improved from 0.29227 to 0.28272, saving model to saved_models/nlp_model_3\n"
          ]
        },
        {
          "output_type": "stream",
          "name": "stderr",
          "text": [
            "WARNING:absl:Found untraced functions such as lstm_cell_layer_call_fn, lstm_cell_layer_call_and_return_conditional_losses while saving (showing 2 of 2). These functions will not be directly callable after loading.\n"
          ]
        },
        {
          "output_type": "stream",
          "name": "stdout",
          "text": [
            "\b\b\b\b\b\b\b\b\b\b\b\b\b\b\b\b\b\b\b\b\b\b\b\b\b\b\b\b\b\b\b\b\b\b\b\b\b\b\b\b\b\b\b\b\b\b\b\b\b\b\b\b\b\b\b\b\b\b\b\b\b\b\b\b\b\b\b\b\b\b\b\b\b\b\b\b\b\b\b\b\b\b\b\b\r190/190 [==============================] - 33s 174ms/step - loss: 0.2866 - accuracy: 0.9006 - val_loss: 0.2827 - val_accuracy: 0.8937\n",
            "Epoch 5/20\n",
            "190/190 [==============================] - ETA: 0s - loss: 0.2821 - accuracy: 0.9013\n",
            "Epoch 5: val_loss improved from 0.28272 to 0.28064, saving model to saved_models/nlp_model_3\n"
          ]
        },
        {
          "output_type": "stream",
          "name": "stderr",
          "text": [
            "WARNING:absl:Found untraced functions such as lstm_cell_layer_call_fn, lstm_cell_layer_call_and_return_conditional_losses while saving (showing 2 of 2). These functions will not be directly callable after loading.\n"
          ]
        },
        {
          "output_type": "stream",
          "name": "stdout",
          "text": [
            "\b\b\b\b\b\b\b\b\b\b\b\b\b\b\b\b\b\b\b\b\b\b\b\b\b\b\b\b\b\b\b\b\b\b\b\b\b\b\b\b\b\b\b\b\b\b\b\b\b\b\b\b\b\b\b\b\b\b\b\b\b\b\b\b\b\b\b\b\b\b\b\b\b\b\b\b\b\b\b\b\b\b\b\b\r190/190 [==============================] - 33s 171ms/step - loss: 0.2821 - accuracy: 0.9013 - val_loss: 0.2806 - val_accuracy: 0.8937\n",
            "Epoch 6/20\n",
            "190/190 [==============================] - ETA: 0s - loss: 0.2809 - accuracy: 0.9009\n",
            "Epoch 6: val_loss improved from 0.28064 to 0.27936, saving model to saved_models/nlp_model_3\n"
          ]
        },
        {
          "output_type": "stream",
          "name": "stderr",
          "text": [
            "WARNING:absl:Found untraced functions such as lstm_cell_layer_call_fn, lstm_cell_layer_call_and_return_conditional_losses while saving (showing 2 of 2). These functions will not be directly callable after loading.\n"
          ]
        },
        {
          "output_type": "stream",
          "name": "stdout",
          "text": [
            "\b\b\b\b\b\b\b\b\b\b\b\b\b\b\b\b\b\b\b\b\b\b\b\b\b\b\b\b\b\b\b\b\b\b\b\b\b\b\b\b\b\b\b\b\b\b\b\b\b\b\b\b\b\b\b\b\b\b\b\b\b\b\b\b\b\b\b\b\b\b\b\b\b\b\b\b\b\b\b\b\b\b\b\b\r190/190 [==============================] - 31s 164ms/step - loss: 0.2809 - accuracy: 0.9009 - val_loss: 0.2794 - val_accuracy: 0.8943\n",
            "Epoch 7/20\n",
            "190/190 [==============================] - ETA: 0s - loss: 0.2757 - accuracy: 0.9024\n",
            "Epoch 7: val_loss did not improve from 0.27936\n",
            "190/190 [==============================] - 26s 137ms/step - loss: 0.2757 - accuracy: 0.9024 - val_loss: 0.2795 - val_accuracy: 0.8950\n",
            "Epoch 8/20\n",
            "190/190 [==============================] - ETA: 0s - loss: 0.2845 - accuracy: 0.9003\n",
            "Epoch 8: val_loss did not improve from 0.27936\n",
            "190/190 [==============================] - 26s 138ms/step - loss: 0.2845 - accuracy: 0.9003 - val_loss: 0.2807 - val_accuracy: 0.8943\n",
            "Epoch 9/20\n",
            "190/190 [==============================] - ETA: 0s - loss: 0.2777 - accuracy: 0.9008\n",
            "Epoch 9: val_loss did not improve from 0.27936\n",
            "190/190 [==============================] - 26s 137ms/step - loss: 0.2777 - accuracy: 0.9008 - val_loss: 0.2796 - val_accuracy: 0.8923\n",
            "Epoch 10/20\n",
            "190/190 [==============================] - ETA: 0s - loss: 0.2766 - accuracy: 0.9004\n",
            "Epoch 10: val_loss improved from 0.27936 to 0.27852, saving model to saved_models/nlp_model_3\n"
          ]
        },
        {
          "output_type": "stream",
          "name": "stderr",
          "text": [
            "WARNING:absl:Found untraced functions such as lstm_cell_layer_call_fn, lstm_cell_layer_call_and_return_conditional_losses while saving (showing 2 of 2). These functions will not be directly callable after loading.\n"
          ]
        },
        {
          "output_type": "stream",
          "name": "stdout",
          "text": [
            "\b\b\b\b\b\b\b\b\b\b\b\b\b\b\b\b\b\b\b\b\b\b\b\b\b\b\b\b\b\b\b\b\b\b\b\b\b\b\b\b\b\b\b\b\b\b\b\b\b\b\b\b\b\b\b\b\b\b\b\b\b\b\b\b\b\b\b\b\b\b\b\b\b\b\b\b\b\b\b\b\b\b\b\b\r190/190 [==============================] - 32s 169ms/step - loss: 0.2766 - accuracy: 0.9004 - val_loss: 0.2785 - val_accuracy: 0.8923\n",
            "Epoch 11/20\n",
            "190/190 [==============================] - ETA: 0s - loss: 0.2760 - accuracy: 0.9001\n",
            "Epoch 11: val_loss improved from 0.27852 to 0.27747, saving model to saved_models/nlp_model_3\n"
          ]
        },
        {
          "output_type": "stream",
          "name": "stderr",
          "text": [
            "WARNING:absl:Found untraced functions such as lstm_cell_layer_call_fn, lstm_cell_layer_call_and_return_conditional_losses while saving (showing 2 of 2). These functions will not be directly callable after loading.\n"
          ]
        },
        {
          "output_type": "stream",
          "name": "stdout",
          "text": [
            "\b\b\b\b\b\b\b\b\b\b\b\b\b\b\b\b\b\b\b\b\b\b\b\b\b\b\b\b\b\b\b\b\b\b\b\b\b\b\b\b\b\b\b\b\b\b\b\b\b\b\b\b\b\b\b\b\b\b\b\b\b\b\b\b\b\b\b\b\b\b\b\b\b\b\b\b\b\b\b\b\b\b\b\b\r190/190 [==============================] - 30s 160ms/step - loss: 0.2760 - accuracy: 0.9001 - val_loss: 0.2775 - val_accuracy: 0.8923\n",
            "Epoch 12/20\n",
            "190/190 [==============================] - ETA: 0s - loss: 0.2756 - accuracy: 0.9004\n",
            "Epoch 12: val_loss improved from 0.27747 to 0.27711, saving model to saved_models/nlp_model_3\n"
          ]
        },
        {
          "output_type": "stream",
          "name": "stderr",
          "text": [
            "WARNING:absl:Found untraced functions such as lstm_cell_layer_call_fn, lstm_cell_layer_call_and_return_conditional_losses while saving (showing 2 of 2). These functions will not be directly callable after loading.\n"
          ]
        },
        {
          "output_type": "stream",
          "name": "stdout",
          "text": [
            "\b\b\b\b\b\b\b\b\b\b\b\b\b\b\b\b\b\b\b\b\b\b\b\b\b\b\b\b\b\b\b\b\b\b\b\b\b\b\b\b\b\b\b\b\b\b\b\b\b\b\b\b\b\b\b\b\b\b\b\b\b\b\b\b\b\b\b\b\b\b\b\b\b\b\b\b\b\b\b\b\b\b\b\b\r190/190 [==============================] - 30s 158ms/step - loss: 0.2756 - accuracy: 0.9004 - val_loss: 0.2771 - val_accuracy: 0.8923\n",
            "Epoch 13/20\n",
            "190/190 [==============================] - ETA: 0s - loss: 0.2753 - accuracy: 0.9004\n",
            "Epoch 13: val_loss improved from 0.27711 to 0.27697, saving model to saved_models/nlp_model_3\n"
          ]
        },
        {
          "output_type": "stream",
          "name": "stderr",
          "text": [
            "WARNING:absl:Found untraced functions such as lstm_cell_layer_call_fn, lstm_cell_layer_call_and_return_conditional_losses while saving (showing 2 of 2). These functions will not be directly callable after loading.\n"
          ]
        },
        {
          "output_type": "stream",
          "name": "stdout",
          "text": [
            "\b\b\b\b\b\b\b\b\b\b\b\b\b\b\b\b\b\b\b\b\b\b\b\b\b\b\b\b\b\b\b\b\b\b\b\b\b\b\b\b\b\b\b\b\b\b\b\b\b\b\b\b\b\b\b\b\b\b\b\b\b\b\b\b\b\b\b\b\b\b\b\b\b\b\b\b\b\b\b\b\b\b\b\b\r190/190 [==============================] - 30s 158ms/step - loss: 0.2753 - accuracy: 0.9004 - val_loss: 0.2770 - val_accuracy: 0.8923\n",
            "Epoch 14/20\n",
            "190/190 [==============================] - ETA: 0s - loss: 0.2752 - accuracy: 0.9004\n",
            "Epoch 14: val_loss improved from 0.27697 to 0.27692, saving model to saved_models/nlp_model_3\n"
          ]
        },
        {
          "output_type": "stream",
          "name": "stderr",
          "text": [
            "WARNING:absl:Found untraced functions such as lstm_cell_layer_call_fn, lstm_cell_layer_call_and_return_conditional_losses while saving (showing 2 of 2). These functions will not be directly callable after loading.\n"
          ]
        },
        {
          "output_type": "stream",
          "name": "stdout",
          "text": [
            "\b\b\b\b\b\b\b\b\b\b\b\b\b\b\b\b\b\b\b\b\b\b\b\b\b\b\b\b\b\b\b\b\b\b\b\b\b\b\b\b\b\b\b\b\b\b\b\b\b\b\b\b\b\b\b\b\b\b\b\b\b\b\b\b\b\b\b\b\b\b\b\b\b\b\b\b\b\b\b\b\b\b\b\b\r190/190 [==============================] - 30s 160ms/step - loss: 0.2752 - accuracy: 0.9004 - val_loss: 0.2769 - val_accuracy: 0.8923\n",
            "Epoch 15/20\n",
            "190/190 [==============================] - ETA: 0s - loss: 0.2750 - accuracy: 0.9003\n",
            "Epoch 15: val_loss improved from 0.27692 to 0.27672, saving model to saved_models/nlp_model_3\n"
          ]
        },
        {
          "output_type": "stream",
          "name": "stderr",
          "text": [
            "WARNING:absl:Found untraced functions such as lstm_cell_layer_call_fn, lstm_cell_layer_call_and_return_conditional_losses while saving (showing 2 of 2). These functions will not be directly callable after loading.\n"
          ]
        },
        {
          "output_type": "stream",
          "name": "stdout",
          "text": [
            "\b\b\b\b\b\b\b\b\b\b\b\b\b\b\b\b\b\b\b\b\b\b\b\b\b\b\b\b\b\b\b\b\b\b\b\b\b\b\b\b\b\b\b\b\b\b\b\b\b\b\b\b\b\b\b\b\b\b\b\b\b\b\b\b\b\b\b\b\b\b\b\b\b\b\b\b\b\b\b\b\b\b\b\b\r190/190 [==============================] - 30s 159ms/step - loss: 0.2750 - accuracy: 0.9003 - val_loss: 0.2767 - val_accuracy: 0.8923\n",
            "Epoch 16/20\n",
            "190/190 [==============================] - ETA: 0s - loss: 0.2748 - accuracy: 0.9006\n",
            "Epoch 16: val_loss improved from 0.27672 to 0.27450, saving model to saved_models/nlp_model_3\n"
          ]
        },
        {
          "output_type": "stream",
          "name": "stderr",
          "text": [
            "WARNING:absl:Found untraced functions such as lstm_cell_layer_call_fn, lstm_cell_layer_call_and_return_conditional_losses while saving (showing 2 of 2). These functions will not be directly callable after loading.\n"
          ]
        },
        {
          "output_type": "stream",
          "name": "stdout",
          "text": [
            "\b\b\b\b\b\b\b\b\b\b\b\b\b\b\b\b\b\b\b\b\b\b\b\b\b\b\b\b\b\b\b\b\b\b\b\b\b\b\b\b\b\b\b\b\b\b\b\b\b\b\b\b\b\b\b\b\b\b\b\b\b\b\b\b\b\b\b\b\b\b\b\b\b\b\b\b\b\b\b\b\b\b\b\b\r190/190 [==============================] - 32s 167ms/step - loss: 0.2748 - accuracy: 0.9006 - val_loss: 0.2745 - val_accuracy: 0.8923\n",
            "Epoch 17/20\n",
            "190/190 [==============================] - ETA: 0s - loss: 0.2732 - accuracy: 0.9014\n",
            "Epoch 17: val_loss improved from 0.27450 to 0.27329, saving model to saved_models/nlp_model_3\n"
          ]
        },
        {
          "output_type": "stream",
          "name": "stderr",
          "text": [
            "WARNING:absl:Found untraced functions such as lstm_cell_layer_call_fn, lstm_cell_layer_call_and_return_conditional_losses while saving (showing 2 of 2). These functions will not be directly callable after loading.\n"
          ]
        },
        {
          "output_type": "stream",
          "name": "stdout",
          "text": [
            "\b\b\b\b\b\b\b\b\b\b\b\b\b\b\b\b\b\b\b\b\b\b\b\b\b\b\b\b\b\b\b\b\b\b\b\b\b\b\b\b\b\b\b\b\b\b\b\b\b\b\b\b\b\b\b\b\b\b\b\b\b\b\b\b\b\b\b\b\b\b\b\b\b\b\b\b\b\b\b\b\b\b\b\b\r190/190 [==============================] - 30s 160ms/step - loss: 0.2732 - accuracy: 0.9014 - val_loss: 0.2733 - val_accuracy: 0.8943\n",
            "Epoch 18/20\n",
            "190/190 [==============================] - ETA: 0s - loss: 0.2788 - accuracy: 0.8998\n",
            "Epoch 18: val_loss did not improve from 0.27329\n",
            "190/190 [==============================] - 27s 141ms/step - loss: 0.2788 - accuracy: 0.8998 - val_loss: 0.3094 - val_accuracy: 0.8871\n",
            "Epoch 19/20\n",
            "190/190 [==============================] - ETA: 0s - loss: 0.2791 - accuracy: 0.9009\n",
            "Epoch 19: val_loss did not improve from 0.27329\n",
            "190/190 [==============================] - 27s 140ms/step - loss: 0.2791 - accuracy: 0.9009 - val_loss: 0.2747 - val_accuracy: 0.8943\n",
            "Epoch 20/20\n",
            "190/190 [==============================] - ETA: 0s - loss: 0.2734 - accuracy: 0.9016\n",
            "Epoch 20: val_loss improved from 0.27329 to 0.27321, saving model to saved_models/nlp_model_3\n"
          ]
        },
        {
          "output_type": "stream",
          "name": "stderr",
          "text": [
            "WARNING:absl:Found untraced functions such as lstm_cell_layer_call_fn, lstm_cell_layer_call_and_return_conditional_losses while saving (showing 2 of 2). These functions will not be directly callable after loading.\n"
          ]
        },
        {
          "output_type": "stream",
          "name": "stdout",
          "text": [
            "\b\b\b\b\b\b\b\b\b\b\b\b\b\b\b\b\b\b\b\b\b\b\b\b\b\b\b\b\b\b\b\b\b\b\b\b\b\b\b\b\b\b\b\b\b\b\b\b\b\b\b\b\b\b\b\b\b\b\b\b\b\b\b\b\b\b\b\b\b\b\b\b\b\b\b\b\b\b\b\b\b\b\b\b\r190/190 [==============================] - 30s 158ms/step - loss: 0.2734 - accuracy: 0.9016 - val_loss: 0.2732 - val_accuracy: 0.8943\n"
          ]
        }
      ]
    },
    {
      "cell_type": "code",
      "source": [
        "model_3.evaluate(test_dataset)\n",
        "model_3_loaded = tf.keras.models.load_model(\"saved_models/nlp_model_3\")\n",
        "model_3_preds = model_3_loaded.predict(test_dataset)\n",
        "model_3_results = calculate_results(test_labels, tf.argmax(model_3_preds, axis=1))\n",
        "model_results_dataset['model_3'] = model_3_results\n",
        "model_3_results"
      ],
      "metadata": {
        "colab": {
          "base_uri": "https://localhost:8080/"
        },
        "id": "8GYx2HWNB7_T",
        "outputId": "150172f9-9c8d-42aa-ba4e-a7a85ffa3853"
      },
      "execution_count": 93,
      "outputs": [
        {
          "output_type": "stream",
          "name": "stdout",
          "text": [
            "48/48 [==============================] - 3s 69ms/step - loss: 0.2732 - accuracy: 0.8943\n",
            "48/48 [==============================] - 4s 68ms/step\n"
          ]
        },
        {
          "output_type": "execute_result",
          "data": {
            "text/plain": [
              "{'accuracy': 89.43196829590488,\n",
              " 'precision': 0.919303890533646,\n",
              " 'recall': 0.8943196829590488,\n",
              " 'f1_score': 0.897437239766824}"
            ]
          },
          "metadata": {},
          "execution_count": 93
        }
      ]
    },
    {
      "cell_type": "code",
      "source": [
        "tf.keras.backend.clear_session()"
      ],
      "metadata": {
        "id": "mWKSXUXjB_b3"
      },
      "execution_count": 94,
      "outputs": []
    },
    {
      "cell_type": "code",
      "source": [
        "from tensorflow.keras import layers\n",
        "model_4_embedding = layers.Embedding(input_dim=10000, output_dim=128, embeddings_initializer=\"uniform\", input_length=output_seq_length, name=\"embedding_4\")\n",
        "\n",
        "inputs = layers.Input(shape=(1,), dtype=tf.string)\n",
        "x = tv_layer(inputs)\n",
        "x = model_4_embedding(x)\n",
        "x = layers.LSTM(64, return_sequences=True)(x)\n",
        "x = layers.GRU(64)(x)\n",
        "x = layers.Dense(64, activation='relu')(x)\n",
        "output = layers.Dense(NUM_CLASSES, activation='softmax')(x)\n",
        "\n",
        "model_4 = tf.keras.Model(inputs, output, name=\"nlp_model_4\")\n",
        "model_4.summary()"
      ],
      "metadata": {
        "colab": {
          "base_uri": "https://localhost:8080/"
        },
        "id": "xT-lkjS9CBP5",
        "outputId": "b3057e92-bd78-4e67-8bce-bea7f437db94"
      },
      "execution_count": 95,
      "outputs": [
        {
          "output_type": "stream",
          "name": "stdout",
          "text": [
            "Model: \"nlp_model_4\"\n",
            "_________________________________________________________________\n",
            " Layer (type)                Output Shape              Param #   \n",
            "=================================================================\n",
            " input_1 (InputLayer)        [(None, 1)]               0         \n",
            "                                                                 \n",
            " text_vectorization_2 (TextV  (None, 3478)             0         \n",
            " ectorization)                                                   \n",
            "                                                                 \n",
            " embedding_4 (Embedding)     (None, 3478, 128)         1280000   \n",
            "                                                                 \n",
            " lstm (LSTM)                 (None, 3478, 64)          49408     \n",
            "                                                                 \n",
            " gru (GRU)                   (None, 64)                24960     \n",
            "                                                                 \n",
            " dense (Dense)               (None, 64)                4160      \n",
            "                                                                 \n",
            " dense_1 (Dense)             (None, 3)                 195       \n",
            "                                                                 \n",
            "=================================================================\n",
            "Total params: 1,358,723\n",
            "Trainable params: 1,358,723\n",
            "Non-trainable params: 0\n",
            "_________________________________________________________________\n"
          ]
        }
      ]
    },
    {
      "cell_type": "code",
      "source": [
        "model_4.compile(loss=\"categorical_crossentropy\", optimizer=tf.keras.optimizers.Adam(), metrics=[\"accuracy\"])\n",
        "history_4 = model_4.fit(train_dataset, epochs=20, validation_data=test_dataset,callbacks=return_callbacks(model_4.name))"
      ],
      "metadata": {
        "colab": {
          "base_uri": "https://localhost:8080/"
        },
        "id": "6Zm6vIG6CDZ_",
        "outputId": "af322b61-b3ac-4af3-8819-55129facbd38"
      },
      "execution_count": 96,
      "outputs": [
        {
          "output_type": "stream",
          "name": "stdout",
          "text": [
            "Epoch 1/20\n",
            "190/190 [==============================] - ETA: 0s - loss: 0.6022 - accuracy: 0.7576\n",
            "Epoch 1: val_loss improved from inf to 0.37683, saving model to saved_models/nlp_model_4\n"
          ]
        },
        {
          "output_type": "stream",
          "name": "stderr",
          "text": [
            "WARNING:absl:Found untraced functions such as lstm_cell_layer_call_fn, lstm_cell_layer_call_and_return_conditional_losses, gru_cell_layer_call_fn, gru_cell_layer_call_and_return_conditional_losses while saving (showing 4 of 4). These functions will not be directly callable after loading.\n"
          ]
        },
        {
          "output_type": "stream",
          "name": "stdout",
          "text": [
            "\b\b\b\b\b\b\b\b\b\b\b\b\b\b\b\b\b\b\b\b\b\b\b\b\b\b\b\b\b\b\b\b\b\b\b\b\b\b\b\b\b\b\b\b\b\b\b\b\b\b\b\b\b\b\b\b\b\b\b\b\b\b\b\b\b\b\b\b\b\b\b\b\b\b\b\b\b\b\b\b\b\b\b\b\r190/190 [==============================] - 57s 283ms/step - loss: 0.6022 - accuracy: 0.7576 - val_loss: 0.3768 - val_accuracy: 0.8580\n",
            "Epoch 2/20\n",
            "190/190 [==============================] - ETA: 0s - loss: 0.3264 - accuracy: 0.8851\n",
            "Epoch 2: val_loss improved from 0.37683 to 0.28396, saving model to saved_models/nlp_model_4\n"
          ]
        },
        {
          "output_type": "stream",
          "name": "stderr",
          "text": [
            "WARNING:absl:Found untraced functions such as lstm_cell_layer_call_fn, lstm_cell_layer_call_and_return_conditional_losses, gru_cell_layer_call_fn, gru_cell_layer_call_and_return_conditional_losses while saving (showing 4 of 4). These functions will not be directly callable after loading.\n"
          ]
        },
        {
          "output_type": "stream",
          "name": "stdout",
          "text": [
            "\b\b\b\b\b\b\b\b\b\b\b\b\b\b\b\b\b\b\b\b\b\b\b\b\b\b\b\b\b\b\b\b\b\b\b\b\b\b\b\b\b\b\b\b\b\b\b\b\b\b\b\b\b\b\b\b\b\b\b\b\b\b\b\b\b\b\b\b\b\b\b\b\b\b\b\b\b\b\b\b\b\b\b\b\r190/190 [==============================] - 50s 264ms/step - loss: 0.3264 - accuracy: 0.8851 - val_loss: 0.2840 - val_accuracy: 0.8824\n",
            "Epoch 3/20\n",
            "190/190 [==============================] - ETA: 0s - loss: 0.1160 - accuracy: 0.9420\n",
            "Epoch 3: val_loss improved from 0.28396 to 0.09419, saving model to saved_models/nlp_model_4\n"
          ]
        },
        {
          "output_type": "stream",
          "name": "stderr",
          "text": [
            "WARNING:absl:Found untraced functions such as lstm_cell_layer_call_fn, lstm_cell_layer_call_and_return_conditional_losses, gru_cell_layer_call_fn, gru_cell_layer_call_and_return_conditional_losses while saving (showing 4 of 4). These functions will not be directly callable after loading.\n"
          ]
        },
        {
          "output_type": "stream",
          "name": "stdout",
          "text": [
            "\b\b\b\b\b\b\b\b\b\b\b\b\b\b\b\b\b\b\b\b\b\b\b\b\b\b\b\b\b\b\b\b\b\b\b\b\b\b\b\b\b\b\b\b\b\b\b\b\b\b\b\b\b\b\b\b\b\b\b\b\b\b\b\b\b\b\b\b\b\b\b\b\b\b\b\b\b\b\b\b\b\b\b\b\r190/190 [==============================] - 51s 270ms/step - loss: 0.1160 - accuracy: 0.9420 - val_loss: 0.0942 - val_accuracy: 0.9485\n",
            "Epoch 4/20\n",
            "190/190 [==============================] - ETA: 0s - loss: 0.0802 - accuracy: 0.9609\n",
            "Epoch 4: val_loss improved from 0.09419 to 0.06600, saving model to saved_models/nlp_model_4\n"
          ]
        },
        {
          "output_type": "stream",
          "name": "stderr",
          "text": [
            "WARNING:absl:Found untraced functions such as lstm_cell_layer_call_fn, lstm_cell_layer_call_and_return_conditional_losses, gru_cell_layer_call_fn, gru_cell_layer_call_and_return_conditional_losses while saving (showing 4 of 4). These functions will not be directly callable after loading.\n"
          ]
        },
        {
          "output_type": "stream",
          "name": "stdout",
          "text": [
            "\b\b\b\b\b\b\b\b\b\b\b\b\b\b\b\b\b\b\b\b\b\b\b\b\b\b\b\b\b\b\b\b\b\b\b\b\b\b\b\b\b\b\b\b\b\b\b\b\b\b\b\b\b\b\b\b\b\b\b\b\b\b\b\b\b\b\b\b\b\b\b\b\b\b\b\b\b\b\b\b\b\b\b\b\r190/190 [==============================] - 51s 270ms/step - loss: 0.0802 - accuracy: 0.9609 - val_loss: 0.0660 - val_accuracy: 0.9690\n",
            "Epoch 5/20\n",
            "190/190 [==============================] - ETA: 0s - loss: 0.0459 - accuracy: 0.9825\n",
            "Epoch 5: val_loss improved from 0.06600 to 0.04071, saving model to saved_models/nlp_model_4\n"
          ]
        },
        {
          "output_type": "stream",
          "name": "stderr",
          "text": [
            "WARNING:absl:Found untraced functions such as lstm_cell_layer_call_fn, lstm_cell_layer_call_and_return_conditional_losses, gru_cell_layer_call_fn, gru_cell_layer_call_and_return_conditional_losses while saving (showing 4 of 4). These functions will not be directly callable after loading.\n"
          ]
        },
        {
          "output_type": "stream",
          "name": "stdout",
          "text": [
            "\b\b\b\b\b\b\b\b\b\b\b\b\b\b\b\b\b\b\b\b\b\b\b\b\b\b\b\b\b\b\b\b\b\b\b\b\b\b\b\b\b\b\b\b\b\b\b\b\b\b\b\b\b\b\b\b\b\b\b\b\b\b\b\b\b\b\b\b\b\b\b\b\b\b\b\b\b\b\b\b\b\b\b\b\r190/190 [==============================] - 51s 266ms/step - loss: 0.0459 - accuracy: 0.9825 - val_loss: 0.0407 - val_accuracy: 0.9762\n",
            "Epoch 6/20\n",
            "190/190 [==============================] - ETA: 0s - loss: 0.0255 - accuracy: 0.9893\n",
            "Epoch 6: val_loss improved from 0.04071 to 0.03211, saving model to saved_models/nlp_model_4\n"
          ]
        },
        {
          "output_type": "stream",
          "name": "stderr",
          "text": [
            "WARNING:absl:Found untraced functions such as lstm_cell_layer_call_fn, lstm_cell_layer_call_and_return_conditional_losses, gru_cell_layer_call_fn, gru_cell_layer_call_and_return_conditional_losses while saving (showing 4 of 4). These functions will not be directly callable after loading.\n"
          ]
        },
        {
          "output_type": "stream",
          "name": "stdout",
          "text": [
            "\b\b\b\b\b\b\b\b\b\b\b\b\b\b\b\b\b\b\b\b\b\b\b\b\b\b\b\b\b\b\b\b\b\b\b\b\b\b\b\b\b\b\b\b\b\b\b\b\b\b\b\b\b\b\b\b\b\b\b\b\b\b\b\b\b\b\b\b\b\b\b\b\b\b\b\b\b\b\b\b\b\b\b\b\r190/190 [==============================] - 52s 271ms/step - loss: 0.0255 - accuracy: 0.9893 - val_loss: 0.0321 - val_accuracy: 0.9808\n",
            "Epoch 7/20\n",
            "190/190 [==============================] - ETA: 0s - loss: 0.0210 - accuracy: 0.9901\n",
            "Epoch 7: val_loss improved from 0.03211 to 0.02391, saving model to saved_models/nlp_model_4\n"
          ]
        },
        {
          "output_type": "stream",
          "name": "stderr",
          "text": [
            "WARNING:absl:Found untraced functions such as lstm_cell_layer_call_fn, lstm_cell_layer_call_and_return_conditional_losses, gru_cell_layer_call_fn, gru_cell_layer_call_and_return_conditional_losses while saving (showing 4 of 4). These functions will not be directly callable after loading.\n"
          ]
        },
        {
          "output_type": "stream",
          "name": "stdout",
          "text": [
            "\b\b\b\b\b\b\b\b\b\b\b\b\b\b\b\b\b\b\b\b\b\b\b\b\b\b\b\b\b\b\b\b\b\b\b\b\b\b\b\b\b\b\b\b\b\b\b\b\b\b\b\b\b\b\b\b\b\b\b\b\b\b\b\b\b\b\b\b\b\b\b\b\b\b\b\b\b\b\b\b\b\b\b\b\r190/190 [==============================] - 52s 275ms/step - loss: 0.0210 - accuracy: 0.9901 - val_loss: 0.0239 - val_accuracy: 0.9815\n",
            "Epoch 8/20\n",
            "190/190 [==============================] - ETA: 0s - loss: 0.0180 - accuracy: 0.9901\n",
            "Epoch 8: val_loss did not improve from 0.02391\n",
            "190/190 [==============================] - 44s 229ms/step - loss: 0.0180 - accuracy: 0.9901 - val_loss: 0.0298 - val_accuracy: 0.9808\n",
            "Epoch 9/20\n",
            "190/190 [==============================] - ETA: 0s - loss: 0.0173 - accuracy: 0.9903\n",
            "Epoch 9: val_loss did not improve from 0.02391\n",
            "190/190 [==============================] - 43s 228ms/step - loss: 0.0173 - accuracy: 0.9903 - val_loss: 0.0247 - val_accuracy: 0.9828\n",
            "Epoch 10/20\n",
            "190/190 [==============================] - ETA: 0s - loss: 0.0166 - accuracy: 0.9906\n",
            "Epoch 10: val_loss did not improve from 0.02391\n",
            "190/190 [==============================] - 45s 234ms/step - loss: 0.0166 - accuracy: 0.9906 - val_loss: 0.0261 - val_accuracy: 0.9808\n",
            "Epoch 11/20\n",
            "190/190 [==============================] - ETA: 0s - loss: 0.0164 - accuracy: 0.9903\n",
            "Epoch 11: val_loss did not improve from 0.02391\n",
            "190/190 [==============================] - 44s 230ms/step - loss: 0.0164 - accuracy: 0.9903 - val_loss: 0.0250 - val_accuracy: 0.9828\n",
            "Epoch 12/20\n",
            "190/190 [==============================] - ETA: 0s - loss: 0.0160 - accuracy: 0.9901\n",
            "Epoch 12: val_loss did not improve from 0.02391\n",
            "Restoring model weights from the end of the best epoch: 7.\n",
            "190/190 [==============================] - 44s 233ms/step - loss: 0.0160 - accuracy: 0.9901 - val_loss: 0.0243 - val_accuracy: 0.9828\n",
            "Epoch 12: early stopping\n"
          ]
        }
      ]
    },
    {
      "cell_type": "code",
      "source": [
        "model_4.evaluate(test_dataset)\n",
        "model_4_loaded = tf.keras.models.load_model(\"saved_models/nlp_model_4\")\n",
        "model_4_preds = model_4_loaded.predict(test_dataset)\n",
        "model_4_results = calculate_results(test_labels, tf.argmax(model_4_preds, axis=1))\n",
        "model_results_dataset['model_4'] = model_4_results"
      ],
      "metadata": {
        "colab": {
          "base_uri": "https://localhost:8080/"
        },
        "id": "5pNH6yw2CFfp",
        "outputId": "54ba1eb0-87f4-44d0-dfe1-fa40caac60bd"
      },
      "execution_count": 97,
      "outputs": [
        {
          "output_type": "stream",
          "name": "stdout",
          "text": [
            "48/48 [==============================] - 42s 902ms/step - loss: 0.0239 - accuracy: 0.9815\n",
            "48/48 [==============================] - 6s 102ms/step\n"
          ]
        }
      ]
    },
    {
      "cell_type": "code",
      "source": [
        "tf.keras.backend.clear_session()"
      ],
      "metadata": {
        "id": "H8E0x2bYCJnt"
      },
      "execution_count": 98,
      "outputs": []
    },
    {
      "cell_type": "code",
      "source": [
        "from tensorflow.keras import layers\n",
        "model_5_embedding = layers.Embedding(input_dim=10000, output_dim=128, embeddings_initializer=\"uniform\", input_length=output_seq_length, name=\"embedding_5\")\n",
        "\n",
        "inputs = layers.Input(shape=(1,), dtype=tf.string)\n",
        "x = tv_layer(inputs)\n",
        "x = model_5_embedding(x)\n",
        "x = layers.Bidirectional(layers.LSTM(64, return_sequences=True))(x)\n",
        "x = layers.Bidirectional(layers.GRU(64))(x)\n",
        "x = layers.Dense(64, activation='relu')(x)\n",
        "output = layers.Dense(NUM_CLASSES, activation='softmax')(x)\n",
        "\n",
        "model_5 = tf.keras.Model(inputs, output, name=\"nlp_model_5\")\n",
        "model_5.summary()"
      ],
      "metadata": {
        "colab": {
          "base_uri": "https://localhost:8080/"
        },
        "id": "abvs68_9CLTE",
        "outputId": "15675e8e-df3a-4a81-bb3f-c1f289c6b13a"
      },
      "execution_count": 99,
      "outputs": [
        {
          "output_type": "stream",
          "name": "stdout",
          "text": [
            "Model: \"nlp_model_5\"\n",
            "_________________________________________________________________\n",
            " Layer (type)                Output Shape              Param #   \n",
            "=================================================================\n",
            " input_1 (InputLayer)        [(None, 1)]               0         \n",
            "                                                                 \n",
            " text_vectorization_2 (TextV  (None, 3478)             0         \n",
            " ectorization)                                                   \n",
            "                                                                 \n",
            " embedding_5 (Embedding)     (None, 3478, 128)         1280000   \n",
            "                                                                 \n",
            " bidirectional (Bidirectiona  (None, 3478, 128)        98816     \n",
            " l)                                                              \n",
            "                                                                 \n",
            " bidirectional_1 (Bidirectio  (None, 128)              74496     \n",
            " nal)                                                            \n",
            "                                                                 \n",
            " dense (Dense)               (None, 64)                8256      \n",
            "                                                                 \n",
            " dense_1 (Dense)             (None, 3)                 195       \n",
            "                                                                 \n",
            "=================================================================\n",
            "Total params: 1,461,763\n",
            "Trainable params: 1,461,763\n",
            "Non-trainable params: 0\n",
            "_________________________________________________________________\n"
          ]
        }
      ]
    },
    {
      "cell_type": "code",
      "source": [
        "model_5.compile(loss=\"categorical_crossentropy\", optimizer=tf.keras.optimizers.Adam(), metrics=[\"accuracy\"])\n",
        "history_5 = model_5.fit(train_dataset, epochs=20, validation_data=test_dataset,callbacks=return_callbacks(model_5.name))"
      ],
      "metadata": {
        "colab": {
          "base_uri": "https://localhost:8080/"
        },
        "id": "oTfj_N-3CM6O",
        "outputId": "f988ad43-39e4-48bc-b6b9-1b5ea5955ac8"
      },
      "execution_count": 100,
      "outputs": [
        {
          "output_type": "stream",
          "name": "stdout",
          "text": [
            "Epoch 1/20\n",
            "190/190 [==============================] - ETA: 0s - loss: 0.3923 - accuracy: 0.8362\n",
            "Epoch 1: val_loss improved from inf to 0.09766, saving model to saved_models/nlp_model_5\n"
          ]
        },
        {
          "output_type": "stream",
          "name": "stderr",
          "text": [
            "WARNING:absl:Found untraced functions such as lstm_cell_1_layer_call_fn, lstm_cell_1_layer_call_and_return_conditional_losses, lstm_cell_2_layer_call_fn, lstm_cell_2_layer_call_and_return_conditional_losses, gru_cell_1_layer_call_fn while saving (showing 5 of 8). These functions will not be directly callable after loading.\n"
          ]
        },
        {
          "output_type": "stream",
          "name": "stdout",
          "text": [
            "\b\b\b\b\b\b\b\b\b\b\b\b\b\b\b\b\b\b\b\b\b\b\b\b\b\b\b\b\b\b\b\b\b\b\b\b\b\b\b\b\b\b\b\b\b\b\b\b\b\b\b\b\b\b\b\b\b\b\b\b\b\b\b\b\b\b\b\b\b\b\b\b\b\b\b\b\b\b\b\b\b\b\b\b\r190/190 [==============================] - 109s 550ms/step - loss: 0.3923 - accuracy: 0.8362 - val_loss: 0.0977 - val_accuracy: 0.9577\n",
            "Epoch 2/20\n",
            "190/190 [==============================] - ETA: 0s - loss: 0.0541 - accuracy: 0.9767\n",
            "Epoch 2: val_loss improved from 0.09766 to 0.03738, saving model to saved_models/nlp_model_5\n"
          ]
        },
        {
          "output_type": "stream",
          "name": "stderr",
          "text": [
            "WARNING:absl:Found untraced functions such as lstm_cell_1_layer_call_fn, lstm_cell_1_layer_call_and_return_conditional_losses, lstm_cell_2_layer_call_fn, lstm_cell_2_layer_call_and_return_conditional_losses, gru_cell_1_layer_call_fn while saving (showing 5 of 8). These functions will not be directly callable after loading.\n"
          ]
        },
        {
          "output_type": "stream",
          "name": "stdout",
          "text": [
            "\b\b\b\b\b\b\b\b\b\b\b\b\b\b\b\b\b\b\b\b\b\b\b\b\b\b\b\b\b\b\b\b\b\b\b\b\b\b\b\b\b\b\b\b\b\b\b\b\b\b\b\b\b\b\b\b\b\b\b\b\b\b\b\b\b\b\b\b\b\b\b\b\b\b\b\b\b\b\b\b\b\b\b\b\r190/190 [==============================] - 105s 553ms/step - loss: 0.0541 - accuracy: 0.9767 - val_loss: 0.0374 - val_accuracy: 0.9828\n",
            "Epoch 3/20\n",
            "190/190 [==============================] - ETA: 0s - loss: 0.0215 - accuracy: 0.9904\n",
            "Epoch 3: val_loss improved from 0.03738 to 0.00931, saving model to saved_models/nlp_model_5\n"
          ]
        },
        {
          "output_type": "stream",
          "name": "stderr",
          "text": [
            "WARNING:absl:Found untraced functions such as lstm_cell_1_layer_call_fn, lstm_cell_1_layer_call_and_return_conditional_losses, lstm_cell_2_layer_call_fn, lstm_cell_2_layer_call_and_return_conditional_losses, gru_cell_1_layer_call_fn while saving (showing 5 of 8). These functions will not be directly callable after loading.\n"
          ]
        },
        {
          "output_type": "stream",
          "name": "stdout",
          "text": [
            "\b\b\b\b\b\b\b\b\b\b\b\b\b\b\b\b\b\b\b\b\b\b\b\b\b\b\b\b\b\b\b\b\b\b\b\b\b\b\b\b\b\b\b\b\b\b\b\b\b\b\b\b\b\b\b\b\b\b\b\b\b\b\b\b\b\b\b\b\b\b\b\b\b\b\b\b\b\b\b\b\b\b\b\b\r190/190 [==============================] - 103s 543ms/step - loss: 0.0215 - accuracy: 0.9904 - val_loss: 0.0093 - val_accuracy: 0.9967\n",
            "Epoch 4/20\n",
            "190/190 [==============================] - ETA: 0s - loss: 0.0090 - accuracy: 0.9969\n",
            "Epoch 4: val_loss improved from 0.00931 to 0.00658, saving model to saved_models/nlp_model_5\n"
          ]
        },
        {
          "output_type": "stream",
          "name": "stderr",
          "text": [
            "WARNING:absl:Found untraced functions such as lstm_cell_1_layer_call_fn, lstm_cell_1_layer_call_and_return_conditional_losses, lstm_cell_2_layer_call_fn, lstm_cell_2_layer_call_and_return_conditional_losses, gru_cell_1_layer_call_fn while saving (showing 5 of 8). These functions will not be directly callable after loading.\n"
          ]
        },
        {
          "output_type": "stream",
          "name": "stdout",
          "text": [
            "\b\b\b\b\b\b\b\b\b\b\b\b\b\b\b\b\b\b\b\b\b\b\b\b\b\b\b\b\b\b\b\b\b\b\b\b\b\b\b\b\b\b\b\b\b\b\b\b\b\b\b\b\b\b\b\b\b\b\b\b\b\b\b\b\b\b\b\b\b\b\b\b\b\b\b\b\b\b\b\b\b\b\b\b\r190/190 [==============================] - 104s 548ms/step - loss: 0.0090 - accuracy: 0.9969 - val_loss: 0.0066 - val_accuracy: 0.9967\n",
            "Epoch 5/20\n",
            "190/190 [==============================] - ETA: 0s - loss: 0.0072 - accuracy: 0.9964\n",
            "Epoch 5: val_loss improved from 0.00658 to 0.00607, saving model to saved_models/nlp_model_5\n"
          ]
        },
        {
          "output_type": "stream",
          "name": "stderr",
          "text": [
            "WARNING:absl:Found untraced functions such as lstm_cell_1_layer_call_fn, lstm_cell_1_layer_call_and_return_conditional_losses, lstm_cell_2_layer_call_fn, lstm_cell_2_layer_call_and_return_conditional_losses, gru_cell_1_layer_call_fn while saving (showing 5 of 8). These functions will not be directly callable after loading.\n"
          ]
        },
        {
          "output_type": "stream",
          "name": "stdout",
          "text": [
            "\b\b\b\b\b\b\b\b\b\b\b\b\b\b\b\b\b\b\b\b\b\b\b\b\b\b\b\b\b\b\b\b\b\b\b\b\b\b\b\b\b\b\b\b\b\b\b\b\b\b\b\b\b\b\b\b\b\b\b\b\b\b\b\b\b\b\b\b\b\b\b\b\b\b\b\b\b\b\b\b\b\b\b\b\r190/190 [==============================] - 105s 550ms/step - loss: 0.0072 - accuracy: 0.9964 - val_loss: 0.0061 - val_accuracy: 0.9967\n",
            "Epoch 6/20\n",
            "190/190 [==============================] - ETA: 0s - loss: 0.0057 - accuracy: 0.9970\n",
            "Epoch 6: val_loss improved from 0.00607 to 0.00429, saving model to saved_models/nlp_model_5\n"
          ]
        },
        {
          "output_type": "stream",
          "name": "stderr",
          "text": [
            "WARNING:absl:Found untraced functions such as lstm_cell_1_layer_call_fn, lstm_cell_1_layer_call_and_return_conditional_losses, lstm_cell_2_layer_call_fn, lstm_cell_2_layer_call_and_return_conditional_losses, gru_cell_1_layer_call_fn while saving (showing 5 of 8). These functions will not be directly callable after loading.\n"
          ]
        },
        {
          "output_type": "stream",
          "name": "stdout",
          "text": [
            "\b\b\b\b\b\b\b\b\b\b\b\b\b\b\b\b\b\b\b\b\b\b\b\b\b\b\b\b\b\b\b\b\b\b\b\b\b\b\b\b\b\b\b\b\b\b\b\b\b\b\b\b\b\b\b\b\b\b\b\b\b\b\b\b\b\b\b\b\b\b\b\b\b\b\b\b\b\b\b\b\b\b\b\b\r190/190 [==============================] - 103s 543ms/step - loss: 0.0057 - accuracy: 0.9970 - val_loss: 0.0043 - val_accuracy: 0.9967\n",
            "Epoch 7/20\n",
            "190/190 [==============================] - ETA: 0s - loss: 0.0050 - accuracy: 0.9967\n",
            "Epoch 7: val_loss improved from 0.00429 to 0.00385, saving model to saved_models/nlp_model_5\n"
          ]
        },
        {
          "output_type": "stream",
          "name": "stderr",
          "text": [
            "WARNING:absl:Found untraced functions such as lstm_cell_1_layer_call_fn, lstm_cell_1_layer_call_and_return_conditional_losses, lstm_cell_2_layer_call_fn, lstm_cell_2_layer_call_and_return_conditional_losses, gru_cell_1_layer_call_fn while saving (showing 5 of 8). These functions will not be directly callable after loading.\n"
          ]
        },
        {
          "output_type": "stream",
          "name": "stdout",
          "text": [
            "\b\b\b\b\b\b\b\b\b\b\b\b\b\b\b\b\b\b\b\b\b\b\b\b\b\b\b\b\b\b\b\b\b\b\b\b\b\b\b\b\b\b\b\b\b\b\b\b\b\b\b\b\b\b\b\b\b\b\b\b\b\b\b\b\b\b\b\b\b\b\b\b\b\b\b\b\b\b\b\b\b\b\b\b\r190/190 [==============================] - 104s 548ms/step - loss: 0.0050 - accuracy: 0.9967 - val_loss: 0.0039 - val_accuracy: 0.9987\n",
            "Epoch 8/20\n",
            "190/190 [==============================] - ETA: 0s - loss: 0.0050 - accuracy: 0.9970\n",
            "Epoch 8: val_loss did not improve from 0.00385\n",
            "190/190 [==============================] - 87s 458ms/step - loss: 0.0050 - accuracy: 0.9970 - val_loss: 0.0045 - val_accuracy: 0.9967\n",
            "Epoch 9/20\n",
            "190/190 [==============================] - ETA: 0s - loss: 0.0050 - accuracy: 0.9969\n",
            "Epoch 9: val_loss improved from 0.00385 to 0.00378, saving model to saved_models/nlp_model_5\n"
          ]
        },
        {
          "output_type": "stream",
          "name": "stderr",
          "text": [
            "WARNING:absl:Found untraced functions such as lstm_cell_1_layer_call_fn, lstm_cell_1_layer_call_and_return_conditional_losses, lstm_cell_2_layer_call_fn, lstm_cell_2_layer_call_and_return_conditional_losses, gru_cell_1_layer_call_fn while saving (showing 5 of 8). These functions will not be directly callable after loading.\n"
          ]
        },
        {
          "output_type": "stream",
          "name": "stdout",
          "text": [
            "\b\b\b\b\b\b\b\b\b\b\b\b\b\b\b\b\b\b\b\b\b\b\b\b\b\b\b\b\b\b\b\b\b\b\b\b\b\b\b\b\b\b\b\b\b\b\b\b\b\b\b\b\b\b\b\b\b\b\b\b\b\b\b\b\b\b\b\b\b\b\b\b\b\b\b\b\b\b\b\b\b\b\b\b\r190/190 [==============================] - 104s 548ms/step - loss: 0.0050 - accuracy: 0.9969 - val_loss: 0.0038 - val_accuracy: 0.9980\n",
            "Epoch 10/20\n",
            "190/190 [==============================] - ETA: 0s - loss: 0.0046 - accuracy: 0.9965\n",
            "Epoch 10: val_loss did not improve from 0.00378\n",
            "190/190 [==============================] - 87s 455ms/step - loss: 0.0046 - accuracy: 0.9965 - val_loss: 0.0038 - val_accuracy: 0.9980\n",
            "Epoch 11/20\n",
            "190/190 [==============================] - ETA: 0s - loss: 0.0044 - accuracy: 0.9967\n",
            "Epoch 11: val_loss improved from 0.00378 to 0.00371, saving model to saved_models/nlp_model_5\n"
          ]
        },
        {
          "output_type": "stream",
          "name": "stderr",
          "text": [
            "WARNING:absl:Found untraced functions such as lstm_cell_1_layer_call_fn, lstm_cell_1_layer_call_and_return_conditional_losses, lstm_cell_2_layer_call_fn, lstm_cell_2_layer_call_and_return_conditional_losses, gru_cell_1_layer_call_fn while saving (showing 5 of 8). These functions will not be directly callable after loading.\n"
          ]
        },
        {
          "output_type": "stream",
          "name": "stdout",
          "text": [
            "\b\b\b\b\b\b\b\b\b\b\b\b\b\b\b\b\b\b\b\b\b\b\b\b\b\b\b\b\b\b\b\b\b\b\b\b\b\b\b\b\b\b\b\b\b\b\b\b\b\b\b\b\b\b\b\b\b\b\b\b\b\b\b\b\b\b\b\b\b\b\b\b\b\b\b\b\b\b\b\b\b\b\b\b\r190/190 [==============================] - 104s 547ms/step - loss: 0.0044 - accuracy: 0.9967 - val_loss: 0.0037 - val_accuracy: 0.9980\n",
            "Epoch 12/20\n",
            "190/190 [==============================] - ETA: 0s - loss: 0.0242 - accuracy: 0.9908\n",
            "Epoch 12: val_loss did not improve from 0.00371\n",
            "190/190 [==============================] - 87s 457ms/step - loss: 0.0242 - accuracy: 0.9908 - val_loss: 0.0151 - val_accuracy: 0.9927\n",
            "Epoch 13/20\n",
            "190/190 [==============================] - ETA: 0s - loss: 0.0141 - accuracy: 0.9950\n",
            "Epoch 13: val_loss did not improve from 0.00371\n",
            "190/190 [==============================] - 85s 445ms/step - loss: 0.0141 - accuracy: 0.9950 - val_loss: 0.0077 - val_accuracy: 0.9967\n",
            "Epoch 14/20\n",
            "190/190 [==============================] - ETA: 0s - loss: 0.0053 - accuracy: 0.9969\n",
            "Epoch 14: val_loss did not improve from 0.00371\n",
            "190/190 [==============================] - 86s 450ms/step - loss: 0.0053 - accuracy: 0.9969 - val_loss: 0.0043 - val_accuracy: 0.9967\n",
            "Epoch 15/20\n",
            "190/190 [==============================] - ETA: 0s - loss: 0.0046 - accuracy: 0.9967\n",
            "Epoch 15: val_loss did not improve from 0.00371\n",
            "190/190 [==============================] - 87s 457ms/step - loss: 0.0046 - accuracy: 0.9967 - val_loss: 0.0037 - val_accuracy: 0.9980\n",
            "Epoch 16/20\n",
            "190/190 [==============================] - ETA: 0s - loss: 0.0044 - accuracy: 0.9967\n",
            "Epoch 16: val_loss improved from 0.00371 to 0.00369, saving model to saved_models/nlp_model_5\n"
          ]
        },
        {
          "output_type": "stream",
          "name": "stderr",
          "text": [
            "WARNING:absl:Found untraced functions such as lstm_cell_1_layer_call_fn, lstm_cell_1_layer_call_and_return_conditional_losses, lstm_cell_2_layer_call_fn, lstm_cell_2_layer_call_and_return_conditional_losses, gru_cell_1_layer_call_fn while saving (showing 5 of 8). These functions will not be directly callable after loading.\n"
          ]
        },
        {
          "output_type": "stream",
          "name": "stdout",
          "text": [
            "\b\b\b\b\b\b\b\b\b\b\b\b\b\b\b\b\b\b\b\b\b\b\b\b\b\b\b\b\b\b\b\b\b\b\b\b\b\b\b\b\b\b\b\b\b\b\b\b\b\b\b\b\b\b\b\b\b\b\b\b\b\b\b\b\b\b\b\b\b\b\b\b\b\b\b\b\b\b\b\b\b\b\b\b\r190/190 [==============================] - 104s 548ms/step - loss: 0.0044 - accuracy: 0.9967 - val_loss: 0.0037 - val_accuracy: 0.9980\n",
            "Epoch 17/20\n",
            "190/190 [==============================] - ETA: 0s - loss: 0.0043 - accuracy: 0.9967\n",
            "Epoch 17: val_loss did not improve from 0.00369\n",
            "190/190 [==============================] - 84s 441ms/step - loss: 0.0043 - accuracy: 0.9967 - val_loss: 0.0037 - val_accuracy: 0.9980\n",
            "Epoch 18/20\n",
            "190/190 [==============================] - ETA: 0s - loss: 0.0043 - accuracy: 0.9967\n",
            "Epoch 18: val_loss did not improve from 0.00369\n",
            "190/190 [==============================] - 84s 441ms/step - loss: 0.0043 - accuracy: 0.9967 - val_loss: 0.0041 - val_accuracy: 0.9960\n",
            "Epoch 19/20\n",
            "190/190 [==============================] - ETA: 0s - loss: 0.0042 - accuracy: 0.9970\n",
            "Epoch 19: val_loss did not improve from 0.00369\n",
            "190/190 [==============================] - 85s 446ms/step - loss: 0.0042 - accuracy: 0.9970 - val_loss: 0.0038 - val_accuracy: 0.9980\n",
            "Epoch 20/20\n",
            "190/190 [==============================] - ETA: 0s - loss: 0.0042 - accuracy: 0.9965\n",
            "Epoch 20: val_loss did not improve from 0.00369\n",
            "190/190 [==============================] - 86s 450ms/step - loss: 0.0042 - accuracy: 0.9965 - val_loss: 0.0039 - val_accuracy: 0.9960\n"
          ]
        }
      ]
    },
    {
      "cell_type": "code",
      "source": [
        "model_5.evaluate(test_dataset)\n",
        "model_5_loaded = tf.keras.models.load_model(\"saved_models/nlp_model_5\")\n",
        "model_5_preds = model_5_loaded.predict(test_dataset)\n",
        "model_5_results = calculate_results(test_labels, tf.argmax(model_5_preds, axis=1))\n",
        "model_results_dataset['model_5'] = model_5_results"
      ],
      "metadata": {
        "colab": {
          "base_uri": "https://localhost:8080/"
        },
        "id": "f0oQeEkaCPCj",
        "outputId": "3415e133-9f17-42f9-da4b-034623471ed9"
      },
      "execution_count": 101,
      "outputs": [
        {
          "output_type": "stream",
          "name": "stdout",
          "text": [
            "48/48 [==============================] - 10s 203ms/step - loss: 0.0039 - accuracy: 0.9960\n",
            "48/48 [==============================] - 11s 197ms/step\n"
          ]
        }
      ]
    },
    {
      "cell_type": "code",
      "source": [
        "tf.keras.backend.clear_session()\n",
        "\n",
        "model_6_embedding = layers.Embedding(input_dim=10000, output_dim=128, embeddings_initializer=\"uniform\", input_length=output_seq_length, name=\"embedding_6\")\n",
        "\n",
        "# Create 1D convolutional model to process sequences\n",
        "inputs = layers.Input(shape=(1,), dtype=tf.string)\n",
        "text_vectors = tv_layer(inputs) # vectorize text inputs\n",
        "token_embeddings = model_6_embedding(text_vectors) # create embedding\n",
        "x = layers.Conv1D(64, kernel_size=5, padding=\"same\", activation=\"relu\")(token_embeddings)\n",
        "x = layers.GlobalAveragePooling1D()(x) # condense the output of our feature vector\n",
        "outputs = layers.Dense(NUM_CLASSES, activation=\"softmax\")(x)\n",
        "model_6 = tf.keras.Model(inputs, outputs, name=\"nlp_model_6\")\n",
        "\n",
        "# Compile\n",
        "model_6.compile(loss=\"categorical_crossentropy\", # if your labels are integer form (not one hot) use sparse_categorical_crossentropy\n",
        "                optimizer=tf.keras.optimizers.Adam(),\n",
        "                metrics=[\"accuracy\"])\n",
        "history_6 = model_6.fit(train_dataset, epochs=20, validation_data=test_dataset,callbacks=return_callbacks(model_6.name))"
      ],
      "metadata": {
        "colab": {
          "base_uri": "https://localhost:8080/"
        },
        "id": "Sj8wW3WqCRqX",
        "outputId": "94c32684-191b-4f7d-f31b-4ec5ecf847a9"
      },
      "execution_count": 102,
      "outputs": [
        {
          "output_type": "stream",
          "name": "stdout",
          "text": [
            "Epoch 1/20\n",
            "190/190 [==============================] - ETA: 0s - loss: 0.6284 - accuracy: 0.7285\n",
            "Epoch 1: val_loss improved from inf to 0.31176, saving model to saved_models/nlp_model_6\n"
          ]
        },
        {
          "output_type": "stream",
          "name": "stderr",
          "text": [
            "WARNING:absl:Found untraced functions such as _jit_compiled_convolution_op while saving (showing 1 of 1). These functions will not be directly callable after loading.\n"
          ]
        },
        {
          "output_type": "stream",
          "name": "stdout",
          "text": [
            "\b\b\b\b\b\b\b\b\b\b\b\b\b\b\b\b\b\b\b\b\b\b\b\b\b\b\b\b\b\b\b\b\b\b\b\b\b\b\b\b\b\b\b\b\b\b\b\b\b\b\b\b\b\b\b\b\b\b\b\b\b\b\b\b\b\b\b\b\b\b\b\b\b\b\b\b\b\b\b\b\b\b\b\b\r190/190 [==============================] - 12s 42ms/step - loss: 0.6284 - accuracy: 0.7285 - val_loss: 0.3118 - val_accuracy: 0.8976\n",
            "Epoch 2/20\n",
            "189/190 [============================>.] - ETA: 0s - loss: 0.1871 - accuracy: 0.9266\n",
            "Epoch 2: val_loss improved from 0.31176 to 0.14441, saving model to saved_models/nlp_model_6\n"
          ]
        },
        {
          "output_type": "stream",
          "name": "stderr",
          "text": [
            "WARNING:absl:Found untraced functions such as _jit_compiled_convolution_op while saving (showing 1 of 1). These functions will not be directly callable after loading.\n"
          ]
        },
        {
          "output_type": "stream",
          "name": "stdout",
          "text": [
            "\b\b\b\b\b\b\b\b\b\b\b\b\b\b\b\b\b\b\b\b\b\b\b\b\b\b\b\b\b\b\b\b\b\b\b\b\b\b\b\b\b\b\b\b\b\b\b\b\b\b\b\b\b\b\b\b\b\b\b\b\b\b\b\b\b\b\b\b\b\b\b\b\b\b\b\b\b\b\b\b\b\b\b\b\r190/190 [==============================] - 8s 41ms/step - loss: 0.1869 - accuracy: 0.9267 - val_loss: 0.1444 - val_accuracy: 0.9280\n",
            "Epoch 3/20\n",
            "189/190 [============================>.] - ETA: 0s - loss: 0.1183 - accuracy: 0.9433\n",
            "Epoch 3: val_loss improved from 0.14441 to 0.11405, saving model to saved_models/nlp_model_6\n"
          ]
        },
        {
          "output_type": "stream",
          "name": "stderr",
          "text": [
            "WARNING:absl:Found untraced functions such as _jit_compiled_convolution_op while saving (showing 1 of 1). These functions will not be directly callable after loading.\n"
          ]
        },
        {
          "output_type": "stream",
          "name": "stdout",
          "text": [
            "\b\b\b\b\b\b\b\b\b\b\b\b\b\b\b\b\b\b\b\b\b\b\b\b\b\b\b\b\b\b\b\b\b\b\b\b\b\b\b\b\b\b\b\b\b\b\b\b\b\b\b\b\b\b\b\b\b\b\b\b\b\b\b\b\b\b\b\b\b\b\b\b\b\b\b\b\b\b\b\b\b\b\b\b\r190/190 [==============================] - 8s 41ms/step - loss: 0.1181 - accuracy: 0.9434 - val_loss: 0.1141 - val_accuracy: 0.9419\n",
            "Epoch 4/20\n",
            "189/190 [============================>.] - ETA: 0s - loss: 0.0980 - accuracy: 0.9540\n",
            "Epoch 4: val_loss improved from 0.11405 to 0.09744, saving model to saved_models/nlp_model_6\n"
          ]
        },
        {
          "output_type": "stream",
          "name": "stderr",
          "text": [
            "WARNING:absl:Found untraced functions such as _jit_compiled_convolution_op while saving (showing 1 of 1). These functions will not be directly callable after loading.\n"
          ]
        },
        {
          "output_type": "stream",
          "name": "stdout",
          "text": [
            "\b\b\b\b\b\b\b\b\b\b\b\b\b\b\b\b\b\b\b\b\b\b\b\b\b\b\b\b\b\b\b\b\b\b\b\b\b\b\b\b\b\b\b\b\b\b\b\b\b\b\b\b\b\b\b\b\b\b\b\b\b\b\b\b\b\b\b\b\b\b\b\b\b\b\b\b\b\b\b\b\b\b\b\b\r190/190 [==============================] - 8s 41ms/step - loss: 0.0979 - accuracy: 0.9541 - val_loss: 0.0974 - val_accuracy: 0.9511\n",
            "Epoch 5/20\n",
            "189/190 [============================>.] - ETA: 0s - loss: 0.0864 - accuracy: 0.9610\n",
            "Epoch 5: val_loss improved from 0.09744 to 0.08636, saving model to saved_models/nlp_model_6\n"
          ]
        },
        {
          "output_type": "stream",
          "name": "stderr",
          "text": [
            "WARNING:absl:Found untraced functions such as _jit_compiled_convolution_op while saving (showing 1 of 1). These functions will not be directly callable after loading.\n"
          ]
        },
        {
          "output_type": "stream",
          "name": "stdout",
          "text": [
            "\b\b\b\b\b\b\b\b\b\b\b\b\b\b\b\b\b\b\b\b\b\b\b\b\b\b\b\b\b\b\b\b\b\b\b\b\b\b\b\b\b\b\b\b\b\b\b\b\b\b\b\b\b\b\b\b\b\b\b\b\b\b\b\b\b\b\b\b\b\b\b\b\b\b\b\b\b\b\b\b\b\b\b\b\r190/190 [==============================] - 8s 41ms/step - loss: 0.0863 - accuracy: 0.9610 - val_loss: 0.0864 - val_accuracy: 0.9584\n",
            "Epoch 6/20\n",
            "189/190 [============================>.] - ETA: 0s - loss: 0.0781 - accuracy: 0.9643\n",
            "Epoch 6: val_loss improved from 0.08636 to 0.07806, saving model to saved_models/nlp_model_6\n"
          ]
        },
        {
          "output_type": "stream",
          "name": "stderr",
          "text": [
            "WARNING:absl:Found untraced functions such as _jit_compiled_convolution_op while saving (showing 1 of 1). These functions will not be directly callable after loading.\n"
          ]
        },
        {
          "output_type": "stream",
          "name": "stdout",
          "text": [
            "\b\b\b\b\b\b\b\b\b\b\b\b\b\b\b\b\b\b\b\b\b\b\b\b\b\b\b\b\b\b\b\b\b\b\b\b\b\b\b\b\b\b\b\b\b\b\b\b\b\b\b\b\b\b\b\b\b\b\b\b\b\b\b\b\b\b\b\b\b\b\b\b\b\b\b\b\b\b\b\b\b\b\b\b\r190/190 [==============================] - 8s 41ms/step - loss: 0.0780 - accuracy: 0.9643 - val_loss: 0.0781 - val_accuracy: 0.9604\n",
            "Epoch 7/20\n",
            "189/190 [============================>.] - ETA: 0s - loss: 0.0715 - accuracy: 0.9673\n",
            "Epoch 7: val_loss improved from 0.07806 to 0.07117, saving model to saved_models/nlp_model_6\n"
          ]
        },
        {
          "output_type": "stream",
          "name": "stderr",
          "text": [
            "WARNING:absl:Found untraced functions such as _jit_compiled_convolution_op while saving (showing 1 of 1). These functions will not be directly callable after loading.\n"
          ]
        },
        {
          "output_type": "stream",
          "name": "stdout",
          "text": [
            "\b\b\b\b\b\b\b\b\b\b\b\b\b\b\b\b\b\b\b\b\b\b\b\b\b\b\b\b\b\b\b\b\b\b\b\b\b\b\b\b\b\b\b\b\b\b\b\b\b\b\b\b\b\b\b\b\b\b\b\b\b\b\b\b\b\b\b\b\b\b\b\b\b\b\b\b\b\b\b\b\b\b\b\b\r190/190 [==============================] - 9s 46ms/step - loss: 0.0714 - accuracy: 0.9673 - val_loss: 0.0712 - val_accuracy: 0.9657\n",
            "Epoch 8/20\n",
            "189/190 [============================>.] - ETA: 0s - loss: 0.0661 - accuracy: 0.9697\n",
            "Epoch 8: val_loss improved from 0.07117 to 0.06577, saving model to saved_models/nlp_model_6\n"
          ]
        },
        {
          "output_type": "stream",
          "name": "stderr",
          "text": [
            "WARNING:absl:Found untraced functions such as _jit_compiled_convolution_op while saving (showing 1 of 1). These functions will not be directly callable after loading.\n"
          ]
        },
        {
          "output_type": "stream",
          "name": "stdout",
          "text": [
            "\b\b\b\b\b\b\b\b\b\b\b\b\b\b\b\b\b\b\b\b\b\b\b\b\b\b\b\b\b\b\b\b\b\b\b\b\b\b\b\b\b\b\b\b\b\b\b\b\b\b\b\b\b\b\b\b\b\b\b\b\b\b\b\b\b\b\b\b\b\b\b\b\b\b\b\b\b\b\b\b\b\b\b\b\r190/190 [==============================] - 8s 41ms/step - loss: 0.0660 - accuracy: 0.9698 - val_loss: 0.0658 - val_accuracy: 0.9696\n",
            "Epoch 9/20\n",
            "189/190 [============================>.] - ETA: 0s - loss: 0.0616 - accuracy: 0.9711\n",
            "Epoch 9: val_loss improved from 0.06577 to 0.06129, saving model to saved_models/nlp_model_6\n"
          ]
        },
        {
          "output_type": "stream",
          "name": "stderr",
          "text": [
            "WARNING:absl:Found untraced functions such as _jit_compiled_convolution_op while saving (showing 1 of 1). These functions will not be directly callable after loading.\n"
          ]
        },
        {
          "output_type": "stream",
          "name": "stdout",
          "text": [
            "\b\b\b\b\b\b\b\b\b\b\b\b\b\b\b\b\b\b\b\b\b\b\b\b\b\b\b\b\b\b\b\b\b\b\b\b\b\b\b\b\b\b\b\b\b\b\b\b\b\b\b\b\b\b\b\b\b\b\b\b\b\b\b\b\b\b\b\b\b\b\b\b\b\b\b\b\b\b\b\b\b\b\b\b\r190/190 [==============================] - 8s 45ms/step - loss: 0.0615 - accuracy: 0.9711 - val_loss: 0.0613 - val_accuracy: 0.9716\n",
            "Epoch 10/20\n",
            "189/190 [============================>.] - ETA: 0s - loss: 0.0578 - accuracy: 0.9726\n",
            "Epoch 10: val_loss improved from 0.06129 to 0.05749, saving model to saved_models/nlp_model_6\n"
          ]
        },
        {
          "output_type": "stream",
          "name": "stderr",
          "text": [
            "WARNING:absl:Found untraced functions such as _jit_compiled_convolution_op while saving (showing 1 of 1). These functions will not be directly callable after loading.\n"
          ]
        },
        {
          "output_type": "stream",
          "name": "stdout",
          "text": [
            "\b\b\b\b\b\b\b\b\b\b\b\b\b\b\b\b\b\b\b\b\b\b\b\b\b\b\b\b\b\b\b\b\b\b\b\b\b\b\b\b\b\b\b\b\b\b\b\b\b\b\b\b\b\b\b\b\b\b\b\b\b\b\b\b\b\b\b\b\b\b\b\b\b\b\b\b\b\b\b\b\b\b\b\b\r190/190 [==============================] - 8s 42ms/step - loss: 0.0577 - accuracy: 0.9726 - val_loss: 0.0575 - val_accuracy: 0.9709\n",
            "Epoch 11/20\n",
            "189/190 [============================>.] - ETA: 0s - loss: 0.0544 - accuracy: 0.9739\n",
            "Epoch 11: val_loss improved from 0.05749 to 0.05429, saving model to saved_models/nlp_model_6\n"
          ]
        },
        {
          "output_type": "stream",
          "name": "stderr",
          "text": [
            "WARNING:absl:Found untraced functions such as _jit_compiled_convolution_op while saving (showing 1 of 1). These functions will not be directly callable after loading.\n"
          ]
        },
        {
          "output_type": "stream",
          "name": "stdout",
          "text": [
            "\b\b\b\b\b\b\b\b\b\b\b\b\b\b\b\b\b\b\b\b\b\b\b\b\b\b\b\b\b\b\b\b\b\b\b\b\b\b\b\b\b\b\b\b\b\b\b\b\b\b\b\b\b\b\b\b\b\b\b\b\b\b\b\b\b\b\b\b\b\b\b\b\b\b\b\b\b\b\b\b\b\b\b\b\r190/190 [==============================] - 8s 42ms/step - loss: 0.0544 - accuracy: 0.9739 - val_loss: 0.0543 - val_accuracy: 0.9703\n",
            "Epoch 12/20\n",
            "189/190 [============================>.] - ETA: 0s - loss: 0.0515 - accuracy: 0.9757\n",
            "Epoch 12: val_loss improved from 0.05429 to 0.05167, saving model to saved_models/nlp_model_6\n"
          ]
        },
        {
          "output_type": "stream",
          "name": "stderr",
          "text": [
            "WARNING:absl:Found untraced functions such as _jit_compiled_convolution_op while saving (showing 1 of 1). These functions will not be directly callable after loading.\n"
          ]
        },
        {
          "output_type": "stream",
          "name": "stdout",
          "text": [
            "\b\b\b\b\b\b\b\b\b\b\b\b\b\b\b\b\b\b\b\b\b\b\b\b\b\b\b\b\b\b\b\b\b\b\b\b\b\b\b\b\b\b\b\b\b\b\b\b\b\b\b\b\b\b\b\b\b\b\b\b\b\b\b\b\b\b\b\b\b\b\b\b\b\b\b\b\b\b\b\b\b\b\b\b\r190/190 [==============================] - 8s 41ms/step - loss: 0.0515 - accuracy: 0.9757 - val_loss: 0.0517 - val_accuracy: 0.9716\n",
            "Epoch 13/20\n",
            "189/190 [============================>.] - ETA: 0s - loss: 0.0490 - accuracy: 0.9770\n",
            "Epoch 13: val_loss improved from 0.05167 to 0.04954, saving model to saved_models/nlp_model_6\n"
          ]
        },
        {
          "output_type": "stream",
          "name": "stderr",
          "text": [
            "WARNING:absl:Found untraced functions such as _jit_compiled_convolution_op while saving (showing 1 of 1). These functions will not be directly callable after loading.\n"
          ]
        },
        {
          "output_type": "stream",
          "name": "stdout",
          "text": [
            "\b\b\b\b\b\b\b\b\b\b\b\b\b\b\b\b\b\b\b\b\b\b\b\b\b\b\b\b\b\b\b\b\b\b\b\b\b\b\b\b\b\b\b\b\b\b\b\b\b\b\b\b\b\b\b\b\b\b\b\b\b\b\b\b\b\b\b\b\b\b\b\b\b\b\b\b\b\b\b\b\b\b\b\b\r190/190 [==============================] - 8s 41ms/step - loss: 0.0489 - accuracy: 0.9770 - val_loss: 0.0495 - val_accuracy: 0.9716\n",
            "Epoch 14/20\n",
            "189/190 [============================>.] - ETA: 0s - loss: 0.0468 - accuracy: 0.9775\n",
            "Epoch 14: val_loss improved from 0.04954 to 0.04780, saving model to saved_models/nlp_model_6\n"
          ]
        },
        {
          "output_type": "stream",
          "name": "stderr",
          "text": [
            "WARNING:absl:Found untraced functions such as _jit_compiled_convolution_op while saving (showing 1 of 1). These functions will not be directly callable after loading.\n"
          ]
        },
        {
          "output_type": "stream",
          "name": "stdout",
          "text": [
            "\b\b\b\b\b\b\b\b\b\b\b\b\b\b\b\b\b\b\b\b\b\b\b\b\b\b\b\b\b\b\b\b\b\b\b\b\b\b\b\b\b\b\b\b\b\b\b\b\b\b\b\b\b\b\b\b\b\b\b\b\b\b\b\b\b\b\b\b\b\b\b\b\b\b\b\b\b\b\b\b\b\b\b\b\r190/190 [==============================] - 8s 41ms/step - loss: 0.0467 - accuracy: 0.9775 - val_loss: 0.0478 - val_accuracy: 0.9769\n",
            "Epoch 15/20\n",
            "189/190 [============================>.] - ETA: 0s - loss: 0.0448 - accuracy: 0.9785\n",
            "Epoch 15: val_loss improved from 0.04780 to 0.04636, saving model to saved_models/nlp_model_6\n"
          ]
        },
        {
          "output_type": "stream",
          "name": "stderr",
          "text": [
            "WARNING:absl:Found untraced functions such as _jit_compiled_convolution_op while saving (showing 1 of 1). These functions will not be directly callable after loading.\n"
          ]
        },
        {
          "output_type": "stream",
          "name": "stdout",
          "text": [
            "\b\b\b\b\b\b\b\b\b\b\b\b\b\b\b\b\b\b\b\b\b\b\b\b\b\b\b\b\b\b\b\b\b\b\b\b\b\b\b\b\b\b\b\b\b\b\b\b\b\b\b\b\b\b\b\b\b\b\b\b\b\b\b\b\b\b\b\b\b\b\b\b\b\b\b\b\b\b\b\b\b\b\b\b\r190/190 [==============================] - 8s 41ms/step - loss: 0.0447 - accuracy: 0.9785 - val_loss: 0.0464 - val_accuracy: 0.9769\n",
            "Epoch 16/20\n",
            "189/190 [============================>.] - ETA: 0s - loss: 0.0430 - accuracy: 0.9787\n",
            "Epoch 16: val_loss improved from 0.04636 to 0.04499, saving model to saved_models/nlp_model_6\n"
          ]
        },
        {
          "output_type": "stream",
          "name": "stderr",
          "text": [
            "WARNING:absl:Found untraced functions such as _jit_compiled_convolution_op while saving (showing 1 of 1). These functions will not be directly callable after loading.\n"
          ]
        },
        {
          "output_type": "stream",
          "name": "stdout",
          "text": [
            "\b\b\b\b\b\b\b\b\b\b\b\b\b\b\b\b\b\b\b\b\b\b\b\b\b\b\b\b\b\b\b\b\b\b\b\b\b\b\b\b\b\b\b\b\b\b\b\b\b\b\b\b\b\b\b\b\b\b\b\b\b\b\b\b\b\b\b\b\b\b\b\b\b\b\b\b\b\b\b\b\b\b\b\b\r190/190 [==============================] - 8s 41ms/step - loss: 0.0430 - accuracy: 0.9787 - val_loss: 0.0450 - val_accuracy: 0.9769\n",
            "Epoch 17/20\n",
            "189/190 [============================>.] - ETA: 0s - loss: 0.0415 - accuracy: 0.9783\n",
            "Epoch 17: val_loss improved from 0.04499 to 0.04353, saving model to saved_models/nlp_model_6\n"
          ]
        },
        {
          "output_type": "stream",
          "name": "stderr",
          "text": [
            "WARNING:absl:Found untraced functions such as _jit_compiled_convolution_op while saving (showing 1 of 1). These functions will not be directly callable after loading.\n"
          ]
        },
        {
          "output_type": "stream",
          "name": "stdout",
          "text": [
            "\b\b\b\b\b\b\b\b\b\b\b\b\b\b\b\b\b\b\b\b\b\b\b\b\b\b\b\b\b\b\b\b\b\b\b\b\b\b\b\b\b\b\b\b\b\b\b\b\b\b\b\b\b\b\b\b\b\b\b\b\b\b\b\b\b\b\b\b\b\b\b\b\b\b\b\b\b\b\b\b\b\b\b\b\r190/190 [==============================] - 8s 41ms/step - loss: 0.0415 - accuracy: 0.9784 - val_loss: 0.0435 - val_accuracy: 0.9769\n",
            "Epoch 18/20\n",
            "189/190 [============================>.] - ETA: 0s - loss: 0.0401 - accuracy: 0.9793\n",
            "Epoch 18: val_loss improved from 0.04353 to 0.04197, saving model to saved_models/nlp_model_6\n"
          ]
        },
        {
          "output_type": "stream",
          "name": "stderr",
          "text": [
            "WARNING:absl:Found untraced functions such as _jit_compiled_convolution_op while saving (showing 1 of 1). These functions will not be directly callable after loading.\n"
          ]
        },
        {
          "output_type": "stream",
          "name": "stdout",
          "text": [
            "\b\b\b\b\b\b\b\b\b\b\b\b\b\b\b\b\b\b\b\b\b\b\b\b\b\b\b\b\b\b\b\b\b\b\b\b\b\b\b\b\b\b\b\b\b\b\b\b\b\b\b\b\b\b\b\b\b\b\b\b\b\b\b\b\b\b\b\b\b\b\b\b\b\b\b\b\b\b\b\b\b\b\b\b\r190/190 [==============================] - 8s 41ms/step - loss: 0.0401 - accuracy: 0.9794 - val_loss: 0.0420 - val_accuracy: 0.9769\n",
            "Epoch 19/20\n",
            "189/190 [============================>.] - ETA: 0s - loss: 0.0388 - accuracy: 0.9802\n",
            "Epoch 19: val_loss improved from 0.04197 to 0.04044, saving model to saved_models/nlp_model_6\n"
          ]
        },
        {
          "output_type": "stream",
          "name": "stderr",
          "text": [
            "WARNING:absl:Found untraced functions such as _jit_compiled_convolution_op while saving (showing 1 of 1). These functions will not be directly callable after loading.\n"
          ]
        },
        {
          "output_type": "stream",
          "name": "stdout",
          "text": [
            "\b\b\b\b\b\b\b\b\b\b\b\b\b\b\b\b\b\b\b\b\b\b\b\b\b\b\b\b\b\b\b\b\b\b\b\b\b\b\b\b\b\b\b\b\b\b\b\b\b\b\b\b\b\b\b\b\b\b\b\b\b\b\b\b\b\b\b\b\b\b\b\b\b\b\b\b\b\b\b\b\b\b\b\b\r190/190 [==============================] - 8s 41ms/step - loss: 0.0388 - accuracy: 0.9802 - val_loss: 0.0404 - val_accuracy: 0.9769\n",
            "Epoch 20/20\n",
            "188/190 [============================>.] - ETA: 0s - loss: 0.0377 - accuracy: 0.9802\n",
            "Epoch 20: val_loss improved from 0.04044 to 0.03912, saving model to saved_models/nlp_model_6\n"
          ]
        },
        {
          "output_type": "stream",
          "name": "stderr",
          "text": [
            "WARNING:absl:Found untraced functions such as _jit_compiled_convolution_op while saving (showing 1 of 1). These functions will not be directly callable after loading.\n"
          ]
        },
        {
          "output_type": "stream",
          "name": "stdout",
          "text": [
            "\b\b\b\b\b\b\b\b\b\b\b\b\b\b\b\b\b\b\b\b\b\b\b\b\b\b\b\b\b\b\b\b\b\b\b\b\b\b\b\b\b\b\b\b\b\b\b\b\b\b\b\b\b\b\b\b\b\b\b\b\b\b\b\b\b\b\b\b\b\b\b\b\b\b\b\b\b\b\b\b\b\b\b\b\r190/190 [==============================] - 8s 41ms/step - loss: 0.0374 - accuracy: 0.9804 - val_loss: 0.0391 - val_accuracy: 0.9782\n"
          ]
        }
      ]
    },
    {
      "cell_type": "code",
      "source": [
        "model_6.evaluate(test_dataset)\n",
        "model_6_loaded = tf.keras.models.load_model(\"saved_models/nlp_model_6\")\n",
        "model_6_preds = model_6_loaded.predict(test_dataset)\n",
        "model_6_results = calculate_results(test_labels, tf.argmax(model_6_preds, axis=1))\n",
        "model_results_dataset['model_6'] = model_6_results"
      ],
      "metadata": {
        "colab": {
          "base_uri": "https://localhost:8080/"
        },
        "id": "qRPTFNzkCVCT",
        "outputId": "ad986bc0-8ffb-432f-b6f1-70e93f91be8c"
      },
      "execution_count": 103,
      "outputs": [
        {
          "output_type": "stream",
          "name": "stdout",
          "text": [
            "48/48 [==============================] - 1s 24ms/step - loss: 0.0391 - accuracy: 0.9782\n",
            "48/48 [==============================] - 1s 21ms/step\n"
          ]
        }
      ]
    },
    {
      "cell_type": "code",
      "source": [
        "tf.keras.backend.clear_session()\n",
        "\n",
        "import tensorflow_hub as hub\n",
        "tf_hub_embedding_layer = hub.KerasLayer(\"https://tfhub.dev/google/universal-sentence-encoder/4\",\n",
        "                                        trainable=False,\n",
        "                                        name=\"universal_sentence_encoder\")\n",
        "\n",
        "model_7 = tf.keras.Sequential([\n",
        "  layers.Input(shape=[], dtype=tf.string),\n",
        "  tf_hub_embedding_layer, # take in sentences and then encode them into an embedding\n",
        "  layers.Dense(128, activation=\"relu\"),\n",
        "  layers.Dense(NUM_CLASSES, activation=\"softmax\")\n",
        "], name=\"nlp_model_7\")\n",
        "\n",
        "model_7.summary()\n",
        "\n",
        "model_7.compile(loss=\"categorical_crossentropy\", # if your labels are integer form (not one hot) use sparse_categorical_crossentropy\n",
        "                optimizer=tf.keras.optimizers.Adam(),\n",
        "                metrics=[\"accuracy\"])\n",
        "history_7 = model_7.fit(train_dataset, epochs=20, validation_data=test_dataset,callbacks=return_callbacks(model_7.name))"
      ],
      "metadata": {
        "colab": {
          "base_uri": "https://localhost:8080/"
        },
        "id": "1LhxyhkqCXqO",
        "outputId": "1ad04d56-4b64-4391-8a56-4ad0ceab586c"
      },
      "execution_count": 104,
      "outputs": [
        {
          "output_type": "stream",
          "name": "stdout",
          "text": [
            "Model: \"nlp_model_7\"\n",
            "_________________________________________________________________\n",
            " Layer (type)                Output Shape              Param #   \n",
            "=================================================================\n",
            " universal_sentence_encoder   (None, 512)              256797824 \n",
            " (KerasLayer)                                                    \n",
            "                                                                 \n",
            " dense (Dense)               (None, 128)               65664     \n",
            "                                                                 \n",
            " dense_1 (Dense)             (None, 3)                 387       \n",
            "                                                                 \n",
            "=================================================================\n",
            "Total params: 256,863,875\n",
            "Trainable params: 66,051\n",
            "Non-trainable params: 256,797,824\n",
            "_________________________________________________________________\n",
            "Epoch 1/20\n",
            "190/190 [==============================] - ETA: 0s - loss: 0.7452 - accuracy: 0.6778\n",
            "Epoch 1: val_loss improved from inf to 0.53100, saving model to saved_models/nlp_model_7\n",
            "190/190 [==============================] - 61s 300ms/step - loss: 0.7452 - accuracy: 0.6778 - val_loss: 0.5310 - val_accuracy: 0.7787\n",
            "Epoch 2/20\n",
            "189/190 [============================>.] - ETA: 0s - loss: 0.4560 - accuracy: 0.7993\n",
            "Epoch 2: val_loss improved from 0.53100 to 0.42634, saving model to saved_models/nlp_model_7\n",
            "190/190 [==============================] - 53s 279ms/step - loss: 0.4558 - accuracy: 0.7992 - val_loss: 0.4263 - val_accuracy: 0.8104\n",
            "Epoch 3/20\n",
            "190/190 [==============================] - ETA: 0s - loss: 0.3753 - accuracy: 0.8378\n",
            "Epoch 3: val_loss improved from 0.42634 to 0.37081, saving model to saved_models/nlp_model_7\n",
            "190/190 [==============================] - 53s 279ms/step - loss: 0.3753 - accuracy: 0.8378 - val_loss: 0.3708 - val_accuracy: 0.8388\n",
            "Epoch 4/20\n",
            "190/190 [==============================] - ETA: 0s - loss: 0.3233 - accuracy: 0.8618\n",
            "Epoch 4: val_loss improved from 0.37081 to 0.32787, saving model to saved_models/nlp_model_7\n",
            "190/190 [==============================] - 54s 284ms/step - loss: 0.3233 - accuracy: 0.8618 - val_loss: 0.3279 - val_accuracy: 0.8712\n",
            "Epoch 5/20\n",
            "190/190 [==============================] - ETA: 0s - loss: 0.2832 - accuracy: 0.8823\n",
            "Epoch 5: val_loss improved from 0.32787 to 0.29364, saving model to saved_models/nlp_model_7\n",
            "190/190 [==============================] - 54s 284ms/step - loss: 0.2832 - accuracy: 0.8823 - val_loss: 0.2936 - val_accuracy: 0.8811\n",
            "Epoch 6/20\n",
            "190/190 [==============================] - ETA: 0s - loss: 0.2505 - accuracy: 0.8976\n",
            "Epoch 6: val_loss improved from 0.29364 to 0.26433, saving model to saved_models/nlp_model_7\n",
            "190/190 [==============================] - 54s 285ms/step - loss: 0.2505 - accuracy: 0.8976 - val_loss: 0.2643 - val_accuracy: 0.8910\n",
            "Epoch 7/20\n",
            "190/190 [==============================] - ETA: 0s - loss: 0.2233 - accuracy: 0.9074\n",
            "Epoch 7: val_loss improved from 0.26433 to 0.23881, saving model to saved_models/nlp_model_7\n",
            "190/190 [==============================] - 53s 279ms/step - loss: 0.2233 - accuracy: 0.9074 - val_loss: 0.2388 - val_accuracy: 0.8989\n",
            "Epoch 8/20\n",
            "190/190 [==============================] - ETA: 0s - loss: 0.2010 - accuracy: 0.9174\n",
            "Epoch 8: val_loss improved from 0.23881 to 0.21654, saving model to saved_models/nlp_model_7\n",
            "190/190 [==============================] - 53s 279ms/step - loss: 0.2010 - accuracy: 0.9174 - val_loss: 0.2165 - val_accuracy: 0.9135\n",
            "Epoch 9/20\n",
            "190/190 [==============================] - ETA: 0s - loss: 0.1827 - accuracy: 0.9232\n",
            "Epoch 9: val_loss improved from 0.21654 to 0.19712, saving model to saved_models/nlp_model_7\n",
            "190/190 [==============================] - 55s 291ms/step - loss: 0.1827 - accuracy: 0.9232 - val_loss: 0.1971 - val_accuracy: 0.9234\n",
            "Epoch 10/20\n",
            "190/190 [==============================] - ETA: 0s - loss: 0.1675 - accuracy: 0.9306\n",
            "Epoch 10: val_loss improved from 0.19712 to 0.18092, saving model to saved_models/nlp_model_7\n",
            "190/190 [==============================] - 53s 278ms/step - loss: 0.1675 - accuracy: 0.9306 - val_loss: 0.1809 - val_accuracy: 0.9273\n",
            "Epoch 11/20\n",
            "189/190 [============================>.] - ETA: 0s - loss: 0.1550 - accuracy: 0.9363\n",
            "Epoch 11: val_loss improved from 0.18092 to 0.16749, saving model to saved_models/nlp_model_7\n",
            "190/190 [==============================] - 53s 278ms/step - loss: 0.1549 - accuracy: 0.9364 - val_loss: 0.1675 - val_accuracy: 0.9339\n",
            "Epoch 12/20\n",
            "189/190 [============================>.] - ETA: 0s - loss: 0.1447 - accuracy: 0.9396\n",
            "Epoch 12: val_loss improved from 0.16749 to 0.15648, saving model to saved_models/nlp_model_7\n",
            "190/190 [==============================] - 55s 288ms/step - loss: 0.1446 - accuracy: 0.9397 - val_loss: 0.1565 - val_accuracy: 0.9379\n",
            "Epoch 13/20\n",
            "189/190 [============================>.] - ETA: 0s - loss: 0.1366 - accuracy: 0.9428\n",
            "Epoch 13: val_loss improved from 0.15648 to 0.14713, saving model to saved_models/nlp_model_7\n",
            "190/190 [==============================] - 53s 279ms/step - loss: 0.1364 - accuracy: 0.9429 - val_loss: 0.1471 - val_accuracy: 0.9399\n",
            "Epoch 14/20\n",
            "190/190 [==============================] - ETA: 0s - loss: 0.1298 - accuracy: 0.9452\n",
            "Epoch 14: val_loss improved from 0.14713 to 0.13970, saving model to saved_models/nlp_model_7\n",
            "190/190 [==============================] - 54s 284ms/step - loss: 0.1298 - accuracy: 0.9452 - val_loss: 0.1397 - val_accuracy: 0.9412\n",
            "Epoch 15/20\n",
            "190/190 [==============================] - ETA: 0s - loss: 0.1244 - accuracy: 0.9462\n",
            "Epoch 15: val_loss improved from 0.13970 to 0.13320, saving model to saved_models/nlp_model_7\n",
            "190/190 [==============================] - 54s 287ms/step - loss: 0.1244 - accuracy: 0.9462 - val_loss: 0.1332 - val_accuracy: 0.9472\n",
            "Epoch 16/20\n",
            "190/190 [==============================] - ETA: 0s - loss: 0.1196 - accuracy: 0.9472\n",
            "Epoch 16: val_loss improved from 0.13320 to 0.12833, saving model to saved_models/nlp_model_7\n",
            "190/190 [==============================] - 53s 277ms/step - loss: 0.1196 - accuracy: 0.9472 - val_loss: 0.1283 - val_accuracy: 0.9432\n",
            "Epoch 17/20\n",
            "190/190 [==============================] - ETA: 0s - loss: 0.1156 - accuracy: 0.9488\n",
            "Epoch 17: val_loss improved from 0.12833 to 0.12345, saving model to saved_models/nlp_model_7\n",
            "190/190 [==============================] - 54s 285ms/step - loss: 0.1156 - accuracy: 0.9488 - val_loss: 0.1234 - val_accuracy: 0.9445\n",
            "Epoch 18/20\n",
            "190/190 [==============================] - ETA: 0s - loss: 0.1123 - accuracy: 0.9496\n",
            "Epoch 18: val_loss improved from 0.12345 to 0.11939, saving model to saved_models/nlp_model_7\n",
            "190/190 [==============================] - 54s 282ms/step - loss: 0.1123 - accuracy: 0.9496 - val_loss: 0.1194 - val_accuracy: 0.9465\n",
            "Epoch 19/20\n",
            "190/190 [==============================] - ETA: 0s - loss: 0.1090 - accuracy: 0.9493\n",
            "Epoch 19: val_loss improved from 0.11939 to 0.11589, saving model to saved_models/nlp_model_7\n",
            "190/190 [==============================] - 53s 277ms/step - loss: 0.1090 - accuracy: 0.9493 - val_loss: 0.1159 - val_accuracy: 0.9465\n",
            "Epoch 20/20\n",
            "190/190 [==============================] - ETA: 0s - loss: 0.1062 - accuracy: 0.9511\n",
            "Epoch 20: val_loss improved from 0.11589 to 0.11254, saving model to saved_models/nlp_model_7\n",
            "190/190 [==============================] - 54s 286ms/step - loss: 0.1062 - accuracy: 0.9511 - val_loss: 0.1125 - val_accuracy: 0.9505\n"
          ]
        }
      ]
    },
    {
      "cell_type": "code",
      "source": [
        "model_7.evaluate(test_dataset)\n",
        "model_7_loaded = tf.keras.models.load_model(\"saved_models/nlp_model_7\")\n",
        "model_7_preds = model_7_loaded.predict(test_dataset)\n",
        "model_7_results = calculate_results(test_labels, tf.argmax(model_7_preds, axis=1))\n",
        "model_results_dataset['model_7'] = model_7_results"
      ],
      "metadata": {
        "colab": {
          "base_uri": "https://localhost:8080/"
        },
        "id": "Z7jnO9A8CZ8N",
        "outputId": "dd812bfa-e13b-4c43-bf7e-27f6ee62a43f"
      },
      "execution_count": 105,
      "outputs": [
        {
          "output_type": "stream",
          "name": "stdout",
          "text": [
            "48/48 [==============================] - 9s 187ms/step - loss: 0.1125 - accuracy: 0.9505\n",
            "48/48 [==============================] - 9s 185ms/step\n"
          ]
        }
      ]
    },
    {
      "cell_type": "code",
      "source": [
        "tf.keras.backend.clear_session()"
      ],
      "metadata": {
        "id": "h4cjj9G_Cc1U"
      },
      "execution_count": 106,
      "outputs": []
    },
    {
      "cell_type": "code",
      "source": [
        "# Make function to split sentences into characters\n",
        "def split_chars(text):\n",
        "  return \" \".join(list(text))\n",
        "\n",
        "# Split sequence-level data splits into character-level data splits\n",
        "train_chars = [split_chars(sentence) for sentence in train_data]\n",
        "test_chars = [split_chars(sentence) for sentence in test_data]\n",
        "print(train_chars[0])\n",
        "char_lens = [len(sentence) for sentence in train_data]\n",
        "mean_char_len = np.mean(char_lens)\n",
        "mean_char_len\n",
        "output_seq_char_len = int(np.percentile(char_lens, 95))\n",
        "output_seq_char_len"
      ],
      "metadata": {
        "colab": {
          "base_uri": "https://localhost:8080/"
        },
        "id": "nWeEuRevCery",
        "outputId": "456ab5b0-28ef-4e9d-dcf9-9eececc4a8d4"
      },
      "execution_count": 107,
      "outputs": [
        {
          "output_type": "stream",
          "name": "stdout",
          "text": [
            "\"     a   c r i t i c a l   b a r r i e r   t o   i m p r o v i n g   t h e   q u a l i t y   o f   e n d o f l i f e   e o l   c a n c e r   c a r e   i s   o u r   l a c k   o f   u n d e r s t a n d i n g   o f   t h e m e c h a n i s m s   u n d e r l y i n g   v a r i a t i o n   i n   e o l   t r e a t m e n t   i n t e n s i t y   t h i s   s t u d y   a i m s   t o   f i l l   t h i s   g a p   b y   i d e n t i f y i n g   a n i z a t i o n a l   a n d   p r o v i d e r   p r a c t i c e   n o r m s   a t   m a j o r   u s   c a n c e r   c e n t e r s   a n d     h o w   t h e s e   n o r m s   i n f l u e n c e   p r o v i d e r d e c i s i o n   m a k i n g   h e u r i s t i c s   a n d   p a t i e n t   e x p e c t a t i o n s   f o r   e o l   c a r e   p a r t i c u l a r l y   f o r   m i n o r i t y   p a t i e n t s   w i t h   a d v a n c e d   c a n c e r m e t h o d s   t h i s   i s   a   m u l t i c e n t e r   q u a l i t a t i v e   c a s e   s t u d y   a t   s i x   n a t i o n a l   c o m p r e h e n s i v e   c a n c e r   n e t w o r k   n c c n   a n d n a t i o n a l   c a n c e r   i n s t i t u t e   n c i   c o m p r e h e n s i v e   c a n c e r   c e n t e r s   w e   w i l l   t h e o r e t i c a l l y   s a m p l e   c e n t e r s   b a s e d   u p o n   n a t i o n a l q u a l i t y   f o r u m   n q f   e n d o r s e d   e o l   q u a l i t y   m e t r i c s   a n d   d e m o g r a p h i c s   t o   e n s u r e   h e t e r o g e n e i t y   i n   e o l   i n t e n s i t y   a n d r e g i o n   a   m u l t i d i s c i p l i n a r y   t e a m   o f   c l i n i c i a n   a n d   n o n c l i n i c i a n   r e s e a r c h e r s   w i l l   c o n d u c t   d i r e c t   o b s e r v a t i o n s   s e m i s t r u c t u r e d i n t e r v i e w s   a n d   a r t i f a c t   c o l l e c t i o n   p a r t i c i p a n t s   w i l l   i n c l u d e     c a n c e r   c e n t e r   a n d   c l i n i c a l   s e r v i c e   l i n e   a d m i n i s t r a t o r s   p r o v i d e r s   f r o m   m e d i c a l   s u r g i c a l   a n d   r a d i a t i o n   o n c o l o g y   p a l l i a t i v e   o r   s u p p o r t i v e   c a r e   i n t e n s i v e   c a r e   h o s p i t a l   m e d i c i n e a n d   e m e r g e n c y   m e d i c i n e   w h o   s e e   p a t i e n t s   w i t h   c a n c e r   a n d   h a v e   h i g h   c l i n i c a l   p r a c t i c e   v o l u m e   o r   h i g h   l o c a l   i n f l u e n c e p r o v i d e r   i n t e r v i e w s   a n d   o b s e r v a t i o n s   a n d     a d u l t   p a t i e n t s   w i t h   m e t a s t a t i c   s o l i d   t u m o r s   a n d   w h o m   t h e   p r o v i d e r w o u l d   n o t   b e   s u r p r i s e d   i f   t h e y   d i e d   i n   t h e   n e x t     m o n t h s   a n d   t h e i r   c a r e g i v e r s   p a t i e n t   a n d   c a r e g i v e r   i n t e r v i e w s l e a d e r s h i p   i n t e r v i e w s   w i l l   p r o b e   a b o u t   e o l   i n s t i t u t i o n a l   n o r m s   a n d   a n i z a t i o n   w e   w i l l   o b s e r v e   i n p a t i e n t   a n d o u t p a t i e n t   c a r e   f o r   t w o   w e e k s   p r o v i d e r   i n t e r v i e w s   w i l l   u s e   v i g n e t t e s   t o   p r o b e   e x p l i c i t   a n d   i m p l i c i t   m o t i v a t i o n s   f o r t r e a t m e n t   c h o i c e s   s e m i s t r u c t u r e d   i n t e r v i e w s   w i t h   p a t i e n t s   n e a r   e o l   o r   t h e i r   f a m i l y   m e m b e r s   a n d   c a r e g i v e r s   w i l l e x p l o r e   p a s t   c u r r e n t   a n d   f u t u r e   d e c i s i o n s   r e l a t e d   t o   t h e i r   c a n c e r   c a r e   w e   w i l l   i m p o r t   t r a n s c r i b e d   f i e l d   n o t e s   a n d i n t e r v i e w s   i n t o   d e d o o s e   s o f t w a r e   f o r   q u a l i t a t i v e   d a t a   m a n a g e m e n t   a n d   a n a l y s i s   a n d   w e   w i l l   d e v e l o p   a n d   a p p l y   a d e d u c t i v e   a n d   i n d u c t i v e   c o d e b o o k   t o   t h e   d a t a d i s c u s s i o n   t h i s   s t u d y   a i m s   t o   i m p r o v e   o u r   u n d e r s t a n d i n g   o f   a n i z a t i o n a l   a n d   p r o v i d e r   p r a c t i c e   n o r m s   p e r t i n e n t   t o e o l   c a r e   i n   u s   c a n c e r   c e n t e r s   t h i s   r e s e a r c h   w i l l   u l t i m a t e l y   b e   u s e d   t o   i n f o r m   a   p r o v i d e r o r i e n t e d   i n t e r v e n t i o n   t o i m p r o v e   e o l   c a r e   f o r   r a c i a l   a n d   e t h n i c   m i n o r i t y   p a t i e n t s   w i t h   a d v a n c e d   c a n c e r t r i a l   r e g i s t r a t i o n   c l i n i c a l t r i a l s g o v   n c t 0 3 7 8 0 8 1 6   d e c e m b e r     k e y w o r d s   e n d o f l i f e   n o r m s   h e u r i s t i c s   c a n c e r   m i n o r i t y   h e a l t h   c o r r e s p o n d e n c e   a m b e r b a r n a t o d a r t m o u t h e d u 2 t h e   d a r t m o u t h   i n s t i t u t e   f o r   h e a l t h   p o l i c y   a n d   c l i n i c a l   p r a c t i c e   g e i s e l   s c h o o l o f   m e d i c i n e   d a r t m o u t h   c o l l e g e   l e b a n o n   n h   u s a 5 d e p a r t m e n t   o f   m e d i c i n e   g e i s e l   s c h o o l   o f   m e d i c i n e   h a n o v e r   n h   u s a f u l l   l i s t   o f   a u t h o r   i n f o r m a t i o n   i s   a v a i l a b l e   a t   t h e   e n d   o f   t h e     t h e   a u t h o r s     o p e n   a c c e s s   t h i s     i s   l i c e n s e d   u n d e r   a   c r e a t i v e   c o m m o n s   a t t r i b u t i o n     i n t e r n a t i o n a l   l i c e n s e w h i c h   p e r m i t s   u s e   s h a r i n g   a d a p t a t i o n   d i s t r i b u t i o n   a n d   r e p r o d u c t i o n   i n   a n y   m e d i u m   o r   f o r m a t   a s   l o n g   a s   y o u   g i v e a p p r o p r i a t e   c r e d i t   t o   t h e   o r i g i n a l   a u t h o r s   a n d   t h e   s o u r c e   p r o v i d e   a   l i n k   t o   t h e   c r e a t i v e   c o m m o n s   l i c e n c e   a n d   i n d i c a t e   i f c h a n g e s   w e r e   m a d e   t h e   i m a g e s   o r   o t h e r   t h i r d   p a r t y   m a t e r i a l   i n   t h i s     a r e   i n c l u d e d   i n   t h e   ' s   c r e a t i v e   c o m m o n s l i c e n c e   u n l e s s   i n d i c a t e d   o t h e r w i s e   i n   a   c r e d i t   l i n e   t o   t h e   m a t e r i a l   i f   m a t e r i a l   i s   n o t   i n c l u d e d   i n   t h e   ' s   c r e a t i v e   c o m m o n s l i c e n c e   a n d   y o u r   i n t e n d e d   u s e   i s   n o t   p e r m i t t e d   b y   s t a t u t o r y   r e g u l a t i o n   o r   e x c e e d s   t h e   p e r m i t t e d   u s e   y o u   w i l l   n e e d   t o   o b t a i n p e r m i s s i o n   d i r e c t l y   f r o m   t h e   c o p y r i g h t   h o l d e r   t o   v i e w   a   c o p y   o f   t h i s   l i c e n c e   v i s i t   h t t p c r e a t i v e c o m m o n s l i c e n s e s b y 4 0 t h e   c r e a t i v e   c o m m o n s   p u b l i c   d o m a i n   d e d i c a t i o n   w a i v e r   h t t p c r e a t i v e c o m m o n s p u b l i c d o m a i n z e r o 1 0   a p p l i e s   t o   t h e d a t a   m a d e   a v a i l a b l e   i n   t h i s     u n l e s s   o t h e r w i s e   s t a t e d   i n   a   c r e d i t   l i n e   t o   t h e   d a t a   0 c k n u t z e n       b m c   p a l l i a t i v e   c a r e                         p a g e     o f     t h e   n a t i o n a l   a c a d e m y   o f   m e d i c i n e   h a s   i d e n t i f i e d   i n c r e a s i n g l y   a g g r e s s i v e   b u r d e n s o m e   a n d   e x p e n s i v e   e n d o f l i f e   e o l   t r e a t m e n t   a s   a   m a j o r   p u b l i c   h e a l t h   p r o b l e m     t h e   a m e r i c a n   s o c i e t y   o f   c l i n i c a l   o n c o l o g y   a n d n a t i o n a l   q u a l i t y   f o r u m   n q f   d e f i n e   a g g r e s s i v e   b u r d e n s o m e   a n d   e x p e n s i v e   e o l   t r e a t m e n t   i n   c a n c e r   a s   t h e r e c e i p t   o f   c h e m o t h e r a p y   i n   t h e   l a s t     d a y s   o f   l i f e   n q f   i n t e n s i v e   c a r e   u n i t   i c u   a d m i s s i o n   i n   t h e   l a s t   d a y s   o f   l i f e   n q f     a n d   n o n   n q f     o r l a t e   n q f     h o s p i c e   r e f e r r a l       s u c h   t r e a t m e n t a d v e r s e l y   a f f e c t s   p a t i e n t   q u a l i t y   o f   l i f e   q u a l i t y   o f   d y i n g a n d   c a r e g i v e r   b e r e a v e m e n t   o u t c o m e s   [  ]   m i n o r i t i e s a r e   m o r e   l i k e l y   t o   r e c e i v e   s u c h   e o l   t r e a t m e n t   [  ] p o t e n t i a l l y   i n   d i s p r o p o r t i o n   t o   t h e i r   p r e f e r e n c e s   [   ] d e s p i t e   a t t e n t i o n   f o c u s e d   u p o n   i n t e g r a t i n g   e a r l y   p a l l i a t i v e   c a r e   i n t o   a d v a n c e d   c a n c e r   t r e a t m e n t   [  ]   i c u a d m i s s i o n   i n   t h e   l a s t     d a y s   o f   l i f e   a n d   l a t e   h o s p i c e r e f e r r a l   h a v e   b e e n   s e c u l a r l y   i n c r e a s i n g       y e t   n o t   a l l a n i z a t i o n s   a r e   e q u a l   c a n c e r   c e n t e r s   v a r y   b y   m o r e t h a n   t w o f o l d   i n   t h e s e   e o l   i n t e n s i t y   m e a s u r e s   [   ] t h e s e   v a r i a t i o n s   c a n n o t   b e   e x p l a i n e d   b y   s t r u c t u r a l   c h a r a c t e r i s t i c s   o r   c a s e m i x       s i n c e   c e n t e r s   s e r v i n g   a h i g h e r   p r o p o r t i o n   o f   m i n o r i t y   p a t i e n t s   h a v e   s y s t e m a t i c a l l y   h i g h e r   e o l   i n t e n s i t y   t h a n   c e n t e r s   s e r v i n g   a   h i g h e r p r o p o r t i o n   o f   w h i t e   p a t i e n t s       t h e s e   v a r i a t i o n s   i n p r a c t i c e   p a t t e r n s   m a y   c o n t r i b u t e   t o   r a c i a l   d i s p a r i t i e s   i n b u r d e n s o m e   t r e a t m e n t   n e a r   d e a t h   m o r e o v e r   d e s p i t e e f f o r t s   t o   a t t r i b u t e   s u c h   v a r i a t i o n   t o   d i f f e r e n c e s   i n   p a t i e n t   p r e f e r e n c e s   r a t h e r   r e g i o n l e v e l   a n a l y s e s   s u g g e s t   t h a t   t h e   i m p a c t   o f   t h e s e p r e f e r e n c e s   o n   v a r i a t i o n   a r e   l i k e l y   v e r y   s m a l l   [   ] t h a n   r a c i a l   d i s p a r i t i e s i n   l o c a l   a n i z a t i o n a l   a n d   p r o v i d e r w e   p o s i t   t h a t   a   c r i t i c a l   b a r r i e r   t o   i m p r o v i n g   t h e q u a l i t y   o f   e o l   c a n c e r   c a r e   i n   t h e   u s      a n d   a m o n g m i n o r i t i e s   i n   p a r t i c u l a r      i s   o u r   l a c k   o f   u n d e r s t a n d i n g r e g a r d i n g   t h e   m e c h a n i s m s   u n d e r l y i n g   c a n c e r   c e n t e r v a r i a t i o n   i n   e o l   t r e a t m e n t   i n t e n s i t y       t h e   o v e r a r c h i n g   h y p o t h e s i s   d r i v i n g   t h i s   s t u d y   i s   t h a t   d i f f e r e n c e s s o c i a l n o r m s      r u l e s   a b o u t   w h i c h   t h e r e   i s   a t   l e a s t   s o m e   d e g r e e   o f   c o n s e n s u s   e n f o r c e d   t h r o u g h   s o c i a l   s a n c t i o n s        a r e   a   k e y   m e c h a n i s m   u n d e r l y i n g   t h i s   v a r i a t i o n w e   b a s e   t h i s   h y p o t h e s i s   o n   o u r   p r e l i m i n a r y   w o r k   a t t w o   u s   a c a d e m i c   m e d i c a l   c e n t e r   h o s p i t a l s   a t   o p p o s i t e e x t r e m e s   o f   e o l   t r e a t m e n t i n t e n s i t y   d e m o n s t r a t i n g m a r k e d   d i f f e r e n c e s i c u   a n d   l i f e s u s t a i n i n g   t r e a t m e n t   d e c i s i o n   m a k i n g   t h e s e   n o r m s w e r e   f o u n d   t o   d i r e c t l y       a n d   i n d i r e c t l y       v i a   i n f l u e n c i n g   p a t i e n t   a n d   f a m i l y   t r e a t m e n t   e x p e c t a t i o n s a n d   p r o v i d e r   d e c i s i o n   m a k i n g   h e u r i s t i c s   a f f e c t   t r e a t m e n t   d e c i s i o n s   f o r   m i n o r i t y   a n d   n o n m i n o r i t y   p a t i e n t s   w i t h   a d v a n c e d   c a n c e r   n o r m s   a r e   f r u i t f u l f o r s t u d y   b e c a u s e   o n c e   u n d e r s t o o d   t h e y   a r e   p o t e n t i a l l y m a l l e a b l e a n d l e a d e r s h i p   e f f o r t s t h r o u g h   e x p l i c i t i n   n o r m s   o f i m p l e m e n t a t i o n   o f   n e w   f o r m s   o f   p o s i t i v e   a n d   n e g a t i v e s a n c t i o n s   v i a   s o c i a l   m a r k e t i n g   i n t e r v e n t i o n s     o u r   s t u d y   a i m s   t o   s t u d y   m e c h a n i s m s   u n d e r l y i n g   c a n c e r   c e n t e r   v a r i a t i o n   i n   e o l   t r e a t m e n t   i n t e n s i t y   a m o n g m i n o r i t y   a n d   n o n m i n o r i t y   p a t i e n t s   u s i n g   a   q u a l i t a t i v e c a s e   s t u d y   d e s i g n   a n d   h a s   t w o   o b j e c t i v e s   f i r s t   w e   w i l l i d e n t i f y   t h e   l o c a l   a n i z a t i o n a l   a n d   p r o v i d e r   p r a c t i c e n o r m s   t h a t   i n f l u e n c e   d e c i s i o n s   a b o u t   l a t e r l i n e   c h e m o t h e r a p y   h o s p i c e   a n d   i c u   u s e   a m o n g   m i n o r i t i e s   w i t h a d v a n c e d   c a n c e r   a t   m a j o r   u s   c a n c e r   c e n t e r s   s e c o n d   w e w i l l   a s s e s s   t h e   i n f l u e n c e   o f   t h e s e   n o r m s   o n   p a t i e n t   a n d f a m i l y   e x p e c t a t i o n s   a n d   p r o v i d e r   d e c i s i o n   m a k i n g   h e u r i s t i c s   f o r   l a t e r l i n e   c h e m o t h e r a p y   h o s p i c e   a n d   i c u   u s e a m o n g   m i n o r i t i e s   w i t h   a d v a n c e d   c a n c e r   a t   m a j o r   u s c a n c e r   c e n t e r s   b e l o w   w e   d e s c r i b e   o u r   q u a l i t a t i v e   s t u d y d e s i g n   a p p r o a c h   t o   m e e t   o u r   s t u d y   o b j e c t i v e s r e c o m m e n d a t i o n s m e t h o d s d e s i g n t h e   d e s i g n   o f   t h e   s t u d y w e   c h o s e   a   q u a l i t a t i v e   c a s e   s t u d y   d e s i g n   a t   s i x   s i t e s   t o i d e n t i f y   l o c a l   a n i z a t i o n a l   a n d   p r o v i d e r   p r a c t i c e   n o r m s t h a t   i n f l u e n c e   v a r i a t i o n   i n   e o l   t r e a t m e n t   i n t e n s i t y   p a r t i c u l a r l y   f o r   m i n o r i t y   p a t i e n t s   b a s e d   o n     m e d i c a r e c l a i m s   d a t a   a n a l y s e s       w e   w i l l   r e c r u i t     o f   t h e   n c i n c c n   d e s i g n a t e d   c a n c e r   c e n t e r s   s e r v i n g   a t   l e a s t   a f r i c a n   a m e r i c a n   a d v a n c e d   c a n c e r   p a t i e n t s   w e b a s e d   o u r   s a m p l e   s i z e   o n   r e c e n t   l i t e r a t u r e   r e l a t e d   t o s a m p l e   s i z e   s u f f i c i e n c y t o   r e a c h m u l t i s i t e   d a t a   s a t u r a t i o n   a n d   q u a l i t a t i v e   r e s e a r c h   e x p e r t i s e   o f   o u r   s t u d y   t e a m   f i r s t   o u r   s t u d y   i s   g u i d e d   b y   a t h e o r y   b a s e d   o n   p r e v i o u s   r e s e a r c h   a n d   u s e s   d a t a   f r o m m u l t i p l e   s o u r c e s   t o   t e s t   a n d   c r o s s c h e c k   f o r   c o n f i r m i n g o r   d i s c o n f i r m i n g   e v i d e n c e   o f   o u r   t h e o r y   a   n e c e s s a r y c o m p o n e n t   o f   e n s u r i n g   d a t a   s u f f i c i e n c y   [   ]   i n a d d i t i o n   c o n d u c t i n g   q u a l i t a t i v e   c a s e   s t u d i e s   a t   s i x   s i t e s e a c h   o f   w h i c h   w i l l   i n c l u d e   o v e r     i n t e r v i e w s   p l u s   m u l t i p l e   o b s e r v a t i o n s   w i l l   p r o d u c e   f i n e g r a i n e d   a n d   r i c h   d e s c r i p t i v e   a n a l y s i s   t o   g e n e r a t e   a n d   c o m p a r e   t h e o r e t i c a l i n s i g h t s   a c r o s s   s i t e s   a s   w e l l   a s   a c r o s s   s t a k e h o l d e r s   e g p r o v i d e r s   p a t i e n t s   w i t h i n   s i t e s   [  ]   o u r   t a r g e t n u m b e r s   f o r   i n t e r v i e w s   a n d   o b s e r v a t i o n s   a r e   w e l l   w i t h i n r e c o m m e n d a t i o n s a n d s a t u r a t i o n   g i v e n   o u r   w e l l   d e f i n e d   s t u d y   a i m       l a s t l y r e s e a r c h   s u g g e s t s   t h a t   q u a l i t a t i v e   r e s e a r c h   e x p e r t i s e   i n c l u d i n g   t h e   q u a l i t y   a n d   d e p t h   o f   i n t e r v i e w   p r o c e s s   i s   a n i m p o r t a n t   c r i t e r i o n   t o   c o n s i d e r   f o r   a s s e s s i n g   s a m p l e   s i z e     o u r   s i t e   v i s i t   t e a m   h a s   o v e r     y e a r s   o f   c o l l e c t i v e e x p e r i e n c e   c o n d u c t i n g   q u a l i t a t i v e   r e s e a r c h   i n   h e a l t h c a r e t o p i c s   a n d   s e t t i n g s   e n s u r i n g   a   r i g o r o u s   a n d   t h o r o u g h p r o c e s s   a t   e a c h   o f   t h e   s i x   s i t e s r e a c h i n g   d a t a a d e q u a c y f o r w e   w i l l t a r g e t   n a t i o n a l   c o m p r e h e n s i v e   c a n c e r n e t w o r k   n c c n   a n d   n a t i o n a l   c a n c e r   i n s t i t u t e   n c i c o m p r e h e n s i v e   c a n c e r   c e n t e r s   f o r   o u r   s t u d y   b e c a u s e t h e y   s e t   n a t i o n a l   s t a n d a r d s   f o r   h i g h   q u a l i t y   c a n c e r   c a r e   0 c k n u t z e n       b m c   p a l l i a t i v e   c a r e                         p a g e     o f   w e   w i l l   e n g a g e   u p   t o   s i x   s i t e s   s e r v i n g   a   h i g h   p r o p o r t i o n o f   a f r i c a n   a m e r i c a n   p a t i e n t s   r a n g i n g   i n   e o l   c a r e   i n t e n s i t y   a n d   t h e o r e t i c a l l y   s a m p l e d   t o   m a x i m i z e   o u r   a b i l i t y   t o   c o m p a r e   a n d   c o n t r a s t   a n i z a t i o n a l   a n d   p r o v i d e r p r a c t i c e   n o r m s   r e l a t e d   t o   e o l   c a r e   w e   d e f i n e d   h i g h p r o p o r t i o n   o f   m i n o r i t y   p a t i e n t s   a s       w e   m e a s u r e d e o l   c a r e   i n t e n s i t y   b a s e d   u p o n   r i s k a d j u s t e d   m e t r i c s   o f e o l   q u a l i t y   u s i n g     m e d i c a r e   f e e f o r s e r v i c e   c l a i m s d a t a   r e c e i p t   o f   c h e m o t h e r a p y   i n   t h e   l a s t     d a y s   o f   l i f e n q f     i n t e n s i v e   c a r e   u n i t   i c u   a d m i s s i o n   i n   t h e l a s t     d a y s   o f   l i f e   n q f     a n d   n o n   n q f   o r   l a t e   n q f     h o s p i c e   r e f e r r a l   o u r   a p p r o a c h   t o c a l c u l a t i n g   t h e s e   e o l   q u a l i t y   m e t r i c s   h a s   b e e n   p u b l i s h e d e l s e w h e r e       g i v e n   t h e   m u l t i v a r i a b l e   n a t u r e   o f   t h e s e m e t r i c s   w e   u s e   d a t a   v i s u a l i z a t i o n   t o   p u r p o s i v e l y   s e l e c t s i t e s   f o r   c a s e   s t u d y   t h a t   m a x i m i z e   p o t e n t i a l   h e t e r o g e n e i t y   i n   p r a c t i c e   p a t t e r n s       f o l l o w i n g   t h e   p r i n c i p l e s   o f p o s i t i v e   d e v i a n c e   s a m p l i n g [   ]   w e   w i l l   s a m p l e h i g h e r   v e r s u s   l o w e r   e o l   q u a l i t y   s i t e s   i n   a   r a t i o   o f   w e   w i l l   e m p l o y   q u a l i t a t i v e   c a s e   s t u d y   r e s e a r c h m e t h o d s   i n   t h i s   s t u d y   i n c l u d i n g   i n p a t i e n t   o b s e r v a t i o n p r o c e d u r e s   a n d   p r o v i d e r   p a t i e n t   a n d   l e a d e r s h i p   s e m i s t r u c t u r e d   i n t e r v i e w s   t h a t   h a v e   b e e n   p r e v i o u s l y   d e v e l o p e d   a n d   p i l o t e d   [      ]   w e   w i l l   a u g m e n t   t h e s e m e t h o d s   w i t h   o u t p a t i e n t   a n d   t u m o r   b o a r d   o b s e r v a t i o n p r o c e d u r e s   w h i c h   w e   d e v e l o p e d   a n d   t e s t e d   a t   a   n o n s t u d y   n c i d e s i g n a t e d   c a n c e r   c e n t e r   s e r v i n g   a   w h i t e r u r a l   p o p u l a t i o n   w e   w i l l i t e r a t i v e l y   r e v i s e   a l l   d a t a c o l l e c t i o n   p r o c e d u r e s   b a s e d   o n   r e s e a r c h e r   e x p e r i e n c e s a n d   t h e m a t i c   i n s i g h t s   f o l l o w i n g   e a c h   s a m p l e d   c a s e   s t u d y s i t e   v i s i t q u a l i t a t i v e   d a t a   c o l l e c t i o n t h e   s t u d y   t e a m   w i l l   c o l l e c t     t y p e s   o f   d a t a   f i e l d   n o t e s f r o m   d i r e c t   o b s e r v a t i o n   o f   i n p a t i e n t   a n d   o u t p a t i e n t   c a n c e r   c a r e   a n d   c a n c e r   t u m o r   b o a r d s   t r a n s c r i b e d   a u d i o r e c o r d e d   s e m i s t r u c t u r e d   i n t e r v i e w s   w i t h   c a n c e r   c e n t e r l e a d e r s h i p   p r o v i d e r s   a n d   p a t i e n t s   f a m i l y   m e m b e r s   a n d c a r e g i v e r s   a n d   a r t i f a c t s   t a b l e     w e   w i l l   l i n k   a l l   d a t a f r o m   o b s e r v a t i o n s   u s i n g   a   u n i q u e   i d e n t i f i c a t i o n   i d n u m b e r   w e   w i l l   u s e   a   d a t a   c o l l e c t i o n   f o r m   f o r   f i e l d   o b s e r v a t i o n s   t o   c a p t u r e   p r o v i d e r   a n d   p a t i e n t   d e m o g r a p h i c i n f o r m a t i o n   a s   w e l l   a s   l o c a t i o n   t i m e   a n d   i n d i v i d u a l s p r e s e n t   a t   t h e   e n c o u n t e r   i n   a d d i t i o n   t o   r e l e v a n t   c l i n i c a l d a t a   o b s e r v e r s   w i l l   n o t e   s o c i o l i n g u i s t i c   d i m e n s i o n s s u c h   a s   t u r n   t a k i n g   t o n e   a f f e c t   b o d y   p o s i t i o n i n g   a n d e y e   c o n t a c t   a r t i f a c t s   c o l l e c t e d   d u r i n g   t h e   s i t e   v i s i t   w i l l i n c l u d e   w o r k f l o w s   m a r k e t i n g i n f o r m a t i o n a l   m a t e r i a l s o r i e n t a t i o n   g u i d e l i n e s   q u a l i t y   r e p o r t i n g   a n d   c o m m u n i c a t i o n   d o c u m e n t s   u s e d   i n   t h e   c a n c e r   c e n t e r s e m i s t r u c t u r e d   i n t e r v i e w   g u i d e s   f o r   s i t e   l e a d e r s h i p f o c u s   o n   i n s t i t u t i o n a l   n o r m s   i n c l u d i n g   r e s o u r c e s   p r o g r a m s   a n d   p o l i c i e s   r e l a t e d   t o   e o l   c a r e   a n d   o u t c o m e s a s   w e l l   a s   s i t e s p e c i f i c   w o r k f l o w s   a n d   s c h e d u l i n g   l o g i s t i c s i n   p r e p a r a t i o n   f o r   s i t e   v i s i t s   c o g n i t i v e   m e n t a l   m o d e l s s e m i s t r u c t u r e d   i n t e r v i e w   g u i d e s   f o r   p r o v i d e r s   w h i c h t a b l e     d a t a   c o l l e c t i o n   r a t i o n a l e d a t a   c o l l e c t i o n   m e t h o d d i r e c t   o b s e r v a t i o n r a t i o n a l e t o   l e a r n   a b o u t   e o l   c a r e   f o r   m i n o r i t y   p a t i e n t s   w i t h   a d v a n c e d   c a n c e r   s p e c i f i c a l l y   h o w   i t   i s   i n f l u e n c e d   b y   a n i z a t i o n a l   a n d   p r o v i d e r   p r a c t i c e   n o r m s   p r o v i d e r   d e c i s i o n   m a k i n g   h e u r i s t i c s   p a t i e n t   a n d   f a m i l y   e x p e c t a t i o n s s e m i s t r u c t u r e d   i n t e r v i e w s l e a d e r s h i p t o   p r o b e   a n i z a t i o n l e v e l   n o r m s   i n c l u d i n g   r e s o u r c e s   p r o g r a m s   a n d   p o l i c i e s   s i t e s p e c i f i c   w o r k f l o w s   a n d   s c h e d u l i n g   l o g i s t i c s p r o v i d e r s t o   e x p l o r e   i n d i v i d u a l l e v e l   m o t i v a t i o n s   d e c i s i o n   h e u r i s t i c s   a n d o r   r a t i o n a l i z a t i o n s   u n c o n s c i o u s   b e l i e f s   a n d   a s s u m p t i o n s   t h a t   s t r u c t u r e   a d v a n c e d   c a n c e r   d e c i s i o n   m a k i n g   u s i n g   c a s e v i g n e t t e s   t o   p r i m e   m e n t a l   m o d e l s p a t i e n t s   f a m i l y   m e m b e r s c a r e g i v e r s t o   p r o b e   i n d i v i d u a l l e v e l   p r e f e r e n c e s   f o r   c a n c e r   c a r e   p a s t   c u r r e n t   a n d   f u t u r e   d e c i s i o n s   r e l a t e d   t o   c a n c e r   c a r e a r t i f a c t   c o l l e c t i o n t o   l e a r n   h o w   t h e   a n i z a t i o n   s t a n d a r d i z e s   w o r k f l o w s   m a r k e t i n g i n f o r m a t i o n a l   m a t e r i a l s   o r i e n t a t i o n   g u i d e l i n e s q u a l i t y   r e p o r t i n g   a n d   c o m m u n i c a t i o n   d o c u m e n t s   u s e d   i n   t h e   c a n c e r   c e n t e r   a n d   h o w   t h i s   i m p a c t s   l o c a l   a n i z a t i o n a l   a n d   p r o v i d e r   p r a c t i c e   n o r m s   p r o v i d e r   d e c i s i o n   m a k i n g   h e u r i s t i c s   p a t i e n t   a n d   f a m i l y   e x p e c t a t i o n s   0 c k n u t z e n       b m c   p a l l i a t i v e   c a r e                         p a g e     o f   i n c l u d e   e o l   c a s e   v i g n e t t e s   e x p l o r e   m o t i v a t i o n s   d e c i s i o n   h e u r i s t i c s   a n d o r   r a t i o n a l i z a t i o n s       s i x   e o l   v i g n e t t e s   w e r e   d e v e l o p e d   b y a   m e d i c a l   o n c o l o g i s t r a d i a t i o n   o n c o l o g i s t   a n d   p a l l i a t i v e   c a r e   p r o v i d e r s   t o h i g h l i g h t   k e y   d e c i s i o n   p o i n t s   c o m m o n   t o   o u t p a t i e n t   o r i n p a t i e n t   p r o v i d e r s   s e e   t a b l e     e a c h   v i g n e t t e   h a s   o n e v e r s i o n   w i t h   a   p h o t o   o f   a n   a f r i c a n   a m e r i c a n   p a t i e n t   a n d o n e   w i t h   a   p h o t o   o f   a   w h i t e   p a t i e n t   p r o v i d e r s   w i l l   v i e w o n e   a f r i c a n   a m e r i c a n   c a s e   a n d   o n e   w h i t e   p a t i e n t   c a s e t o   f a c i l i t a t e   m e n t a l   m o d e l s   d e b r i e f i n g   a n d   u n c o v e r   u n c o n s c i o u s   b e l i e f s   a n d   a s s u m p t i o n s   r e l a t e d   t o   r a c e   t h a t s t r u c t u r e   a d v a n c e d   c a n c e r   d e c i s i o n   m a k i n g   s e m i s t r u c t u r e d   i n t e r v i e w   g u i d e s   f o r   p a t i e n t s   f a m i l y   m e m b e r s a n d   c a r e g i v e r s   p r o b e   p a s t   c u r r e n t   a n d   f u t u r e   d e c i s i o n s r e l a t e d   t o   t h e i r   c a n c e r   c a r e s i t e   v i s i t   t e a m s   w i l l   c o n s i s t   o f      r e s e a r c h e r s   w e   w i l l i d e n t i f y   a   s i t e s p e c i f i c   p r i n c i p a l   i n v e s t i g a t o r   p i   a t   e a c h s i t e   t o   h e l p   f a c i l i t a t e   s u p p o r t   f r o m   s i t e   l e a d e r s h i p   a n d i d e n t i f y   a n d   r e c r u i t   i n f o r m a n t s   f o r   p r e   s i t e v i s i t   i n t e r v i e w s   a n d   p r o v i d e r s   f o r   s i t e v i s i t   o b s e r v a t i o n   a n d   i n t e r v i e w s   u p   t o   t w o   m o n t h s   i n   a d v a n c e   o f   t h e   s i t e   v i s i t   t h e s t u d y   t e a m   w i l l   c o n d u c t   l e a d e r s h i p   i n t e r v i e w s   b y   p h o n e i n c l u d i n g   p h y s i c i a n   a n d   n u r s i n g   l e a d e r s   o u t p a t i e n t   o n c o l o g y   p r a c t i c e   m a n a g e r s   a n d   k e y   r e f e r r a l   s e r v i c e   l i n e l e a d e r s   f r o m   p a l l i a t i v e s u p p o r t i v e   c a r e   h o s p i t a l   m e d i c i n e   a n d   i n t e n s i v e   c a r e   w e   w i l l   a p p r o a c h   o t h e r   s i t e l e a d e r s   f o r   i n t e r v i e w s   a t   t h e   s u g g e s t i o n   o f   t h e   s i t e   p i w h e n   n e c e s s a r y l e a d e r s h i p   i n t e r v i e w s   w i l l   t a k e   p l a c e d u r i n g   a n d   a f t e r   s i t e   v i s i t s o n e   m o n t h   i n   a d v a n c e   o f   t h e   s i t e   v i s i t   t h e   s t u d y   t e a m w i l l   r e c r u i t   p r o v i d e r s   f o r   o b s e r v a t i o n   i n   t h e   i n p a t i e n t a n d   o u t p a t i e n t   s e t t i n g   t h e   o b s e r v a t i o n   s c h e d u l e   w i l l   i n v o l v e   o n e   r e s e a r c h e r   a s s i g n e d   t o   e a c h   o b s e r v e d   p r o v i d e r f o r   a   h a l f d a y   o b s e r v a t i o n   i n   o u t p a t i e n t   c l i n i c s   m o r n i n g t a b l e     v i g n e t t e   s u m m a r i e s s e t t i n g v i g n e t t e   n u m b e r   a n d p a t i e n t   r a c e s p e c i a l t y i n p a t i e n t   a f r i c a n   a m e r i c a n   w h i t e   a f r i c a n   a m e r i c a n i n p a t i e n t   w h i t e   a f r i c a n   a m e r i c a n m e d i c a l o n c o l o g y   w h i t e   a f r i c a n   a m e r i c a n   w h i t e r a d i a t i o n o n c o l o g y   a f r i c a n   a m e r i c a n s u r g i c a l o n c o l o g y   w h i t e   a f r i c a n   a m e r i c a n   o u t p a t i e n t   w h i t e v i g n e t t e   s u m m a r y   a n d   k e y   q u e s t i o n s u m m a r y     y e a r o l d   m a n   w i t h   m e t a s t a t i c   g a s t r i c   c a n c e r   h e   w a s   l i v i n g   i n   a   s k i l l e d   n u r s i n g   f a c i l i t y a f t e r   a   l o n g   h o s p i t a l i z a t i o n   f o r   i n f e c t i o n   h e   i s   n o w   h o s p i t a l i z e d   w i t h   r e c u r r e n t   f e v e r   r e s p i r a t o r y d i s t r e s s   a n d   a n x i e t y k e y   q u e s t i o n   h o w   t o   m a n a g e   a n x i e t y   a n d   r e s p i r a t o r y   d i s t r e s s   i n   a   p a t i e n t   w i t h   a d v a n c e d   c a n c e r a n d   h i g h   r i s k   f o r   s h o r t t e r m   d e a t h s u m m a r y     y e a r o l d   w o m a n   w i t h   r e c u r r e n t   m e t a s t a t i c   p a n c r e a t i c   c a n c e r   a n d   m i l d   d e m e n t i a   s h e   i s s c h e d u l e d   t o   s t a r t   p a l l i a t i v e   c h e m o t h e r a p y   n e x t   w e e k   s h e   p r e s e n t s   t o   t h e   e d   w i t h   d e c l i n i n g p e r f o r m a n c e   s t a t u s   d e c r e a s e d   a p p e t i t e   a n d   a b d o m i n a l   p a i n   h e r   h o s p i t a l   e v a l u a t i o n   d e m o n s t r a t e s p o o r   k i d n e y   f u n c t i o n   l o w   b l o o d   p r e s s u r e   a n d   r a p i d   b r e a t h i n g      a l l   w o r r i s o m e   f o r   r a p i d   c o n s t i t u t i o n a l d e c l i n e k e y   q u e s t i o n   h o w   t o   m a n a g e   a   p a t i e n t   w i t h   a n   a g g r e s s i v e   c a n c e r   p r e s e n t i n g   t o   t h e   e m e r g e n c y d e p a r t m e n t   w i t h   m u l t i p l e   s i g n s   o f   c o n s t i t u t i o n a l   d e c l i n e s u m m a r y     y e a r o l d   m a n   w i t h   a d v a n c e d   m e t a s t a t i c   c o l o n   c a n c e r   h e   i s   m a r r i e d   a n d   l i v e s   a t   h o m e w i t h   h i s   w i f e   h e   p r e s e n t s   t o   c l i n i c   w i t h   p a i n   w e i g h t   l o s s   a n d   s i g n s   o f   c a n c e r   p r o g r e s s i o n   h e   a s k s  d o   y o u   t h i n k   t h e   c h e m o   i s   w o r k i n g  k e y   q u e s t i o n   h o w   t o   a n s w e r   p a t i e n t   q u e s t i o n s   a b o u t   p r o g n o s i s   a n d   n e x t   s t e p s   i n   t r e a t m e n t   o f a d v a n c e d   c a n c e r   w i t h   l i m i t e d   t r e a t m e n t   o p t i o n s s u m m a r y     y e a r o l d   m a n   w i t h   a   n e w   d i a g n o s i s   o f   m e t a s t a t i c   r e n a l   c e l l   c a r c i n o m a   h e   p r e s e n t s   w i t h s e i z u r e s   b r a i n   m e t a s t a s e s   a n d   l u n g   m e t a s t a s e s   h e   i s   u n m a r r i e d   a n d   w i t h o u t   c h i l d r e n   h i s   p e r f o r m a n c e s t a t u s   i s   p o o r   a n d   h e   i s   n o t   a b l e   t o   m a k e   h i s   o w n   h e a l t h   c a r e   d e c i s i o n s   h i s   e l d e s t   b r o t h e r   i s   h i s   d u r a b l e p o w e r   o f   a t t o r n e y   a n d   a s k s    d o c   w h a t   w o u l d   y o u   d o   i f   h e   w a s   y o u r   b r o t h e r  k e y   q u e s t i o n   h o w   t o   a p p r o a c h   s u r r o g a t e   d e c i s i o n   m a k i n g   a b o u t   m a n a g e m e n t   a p p r o a c h   f o r   a   p a t i e n t w i t h   p o o r   p r o g n o s i s s u m m a r y     y e a r o l d   m a n   w i t h   n e w l y   d i a g n o s e d   n o n m e t a s t a t i c   l u n g   c a n c e r   h e   h a s   s e v e r e   l u n g d i s e a s e   a n d   s i g n i f i c a n t   v a s c u l a r   d i s e a s e   f r o m   h e a v y   s m o k i n g   h e   i s   a   p o o r   s u r g i c a l   c a n d i d a t e   h e m e n t i o n s   t h a t   t h e   s t r e s s   o f   h i s   c a n c e r   d i a g n o s i s   h a s   c a u s e d   h i m   t o   d r i n k   a l c o h o l   m o r e   h e a v i l y   t h a n u s u a l   a n d   h e   i s   c o u g h i n g   u p   a b o u t      t a b l e s p o o n s   o f   b r i g h t   r e d   b l o o d   d a i l y k e y   q u e s t i o n   h o w   t o   a p p r o a c h   a   p a t i e n t   w i t h   a   n e w   d i a g n o s i s   o f   a   p o t e n t i a l l y   c u r a b l e   c a n c e r   w h e n t h e r e   a r e   a   n u m b e r   o f   r e d   f l a g s   t h a t   t h e   p a t i e n t   m a y   d o   p o o r l y   w i t h   s u r g i c a l   t r e a t m e n t s u m m a r y     y e a r o l d   w o m a n   w i t h   a   r e c e n t   d i a g n o s i s   o f   p a n c r e a s   c a n c e r   s h e   h a s   b e e n   h o s p i t a l i z e d w i t h   w e i g h t   l o s s   p a i n   a n d   d e c l i n i n g   a c t i v i t y   h e r   e v a l u a t i o n   s h o w s   a    b o r d e r l i n e   r e s e c t a b l e    p a n c r e a t i c c a n c e r   i n i t i a l   t r e a t m e n t   w o u l d   b e   c h e m o t h e r a p y   o r   c h e m o r a d i a t i o n   i f   s h e   c o u l d   t o l e r a t e   t h i s   s h e   h a s b e e n   u n a b l e   t o   e a t   o r   a m b u l a t e   f o r   t h e   l a s t   f i v e   d a y s   d u e   t o   p o o r   a p p e t i t e   a n d   p e r f o r m a n c e   s t a t u s s h e   s a y s    i  m   a   f i g h t e r   n o t   a   q u i t t e r    a n d    w i t h   j e s u s   a n y t h i n g   i s   p o s s i b l e    s h e   t h e n   a s k s    w h a t   c o m e s n e x t  k e y   q u e s t i o n   h o w   t o   a p p r o a c h   a   p a t i e n t   w h o   h a s   a    t r e a t a b l e    d i a g n o s i s   b u t   w h o   d o e s   n o t   h a v e   t h e p e r f o r m a n c e   s t a t u s   t o   t o l e r a t e   t r e a t m e n t   0 c k n u t z e n       b m c   p a l l i a t i v e   c a r e                         p a g e     o f   o r   a f t e r n o o n   s e s s i o n   t h e   e m e r g e n c y   d e p a r t m e n t   b y s h i f t   a n d   i n p a t i e n t   s e t t i n g   b y   t i m i n g   o f   d a i l y   s e r v i c e   o r c o n s u l t   r o u n d s   a s   w e l l   a s   s c h e d u l e d   t u m o r   b o a r d s   a n d f a m i l y   m e e t i n g s   s e l e c t i o n   c r i t e r i a   f o r   p r o v i d e r s   t o   o b s e r v e   a n d   i n t e r v i e w   f o c u s   o n   m a x i m i z i n g   o u r   a b i l i t y   t o a s s e s s   p r o v i d e r   n o r m s   f o r   a d v a n c e d   c a n c e r   c a r e   w i t h i n t h e   p a r t i c u l a r   i n s t i t u t i o n a l   c o n t e x t   t h a t   w e   w i l l   e x p l o r e d u r i n g   l e a d e r s h i p   i n t e r v i e w s   p r o v i d e r   s e l e c t i o n   c r i t e r i a i n c l u d e s   p r o v i d e r s   w h o   m a n a g e   p a t i e n t s   w i t h     m e t a s t a t i c   s o l i d   t u m o r s   i e   w e   e x c l u d e d   l e u k e m i a   l y m p h o m a   a n d   b o n e   m a r r o w   t r a n s p l a n t   p r o v i d e r s   a n d   h a v e e i t h e r     h i g h   v o l u m e s   o f   p a t i e n t s   a n d o r     h i g h   p e e r i n f l u e n c e   a s   p e r c e i v e d   b y   t h e   s i t e   p i   o r   o t h e r   k e y   i n f o r m a n t s   w e   s e e k   t o   r e c r u i t   m e d i c a l   r a d i a t i o n   a n d   s u r g i c a l   o n c o l o g y   p r o v i d e r s   a s   w e l l   a s   p a l l i a t i v e s u p p o r t i v e c a r e   p r o v i d e r s   w h o   s e e   c a n c e r   p a t i e n t s   s e e   t a b l e     f o r t a r g e t   s a m p l i n g   f r a m e   w e   a l s o   s e e k   t o   r e c r u i t   p r o v i d e r s f r o m   i n t e n s i v e   c a r e   h o s p i t a l   m e d i c i n e   a n d   e m e r g e n c y m e d i c i n e   w h o   c a r e   f o r   a c u t e l y   i l l   c a n c e r   p a t i e n t s   w e p r e s e n t   a n   e x a m p l e   o b s e r v a t i o n   s c h e d u l e   i n   f i g     w e w i l l   a s k   a l l   p r o v i d e r s r e c r u i t e d   f o r   o b s e r v a t i o n   t o c o m p l e t e   a n   i n t e r v i e w   i n t e r v i e w s   w i t h   p r o v i d e r s   w i l l o c c u r   i n   p e r s o n   d u r i n g   o r   b y   p h o n e   a f t e r   t h e   s i t e   v i s i t w e   w i l l   d i g i t a l l y   r e c o r d   a l l   i n t e r v i e w s   a n d   c o m p e n s a t e a l l   p r o v i d e r s   f o r   p a r t i c i p a t i n g   i n   a n   i n t e r v i e w a t   l e a s t     w e e k s   p r i o r   t o   t h e   s i t e   v i s i t   w e   w i l l   s e n d f l y e r s   a b o u t   t h e   s t u d y   w i t h   p h o t o s   o f   t h e   s t u d y   t e a m   t o t h e   s i t e   p i   w h o   w i l l   f a c i l i t a t e   p o s t i n g   o f   t h e   f l i e r   i n   p u b l i c s e t t i n g s   s u c h   a s   w a i t i n g   r o o m s   c l i n i c   r o o m s   i n f u s i o n s u i t e s   a n d   i n p a t i e n t   u n i t s   t h e   p u r p o s e   o f   t h i s   f l y e r   i s   t o a l e r t   n o n c o n s e n t e d   i n d i v i d u a l s   t o   o u r   s t u d y   p u r p o s e a n d   t o   p r o v i d e   i n s t r u c t i o n s   f o r   o p t i n g   o u t d u r i n g   p a t i e n t   c a r e   o b s e r v a t i o n   r e s e a r c h e r s   w i l l   d i r e c t l y   a p p r o a c h   p a t i e n t s   a n d   t h e i r   f a m i l y c a r e g i v e r s   f o l l o w i n g   i n t r o d u c t i o n   b y   t h e   c o n s e n t e d   p r o v i d e r i f p a t i e n t s   o r   t h e i r   f a m i l y c a r e g i v e r   v e r b a l l y   c o n s e n t   t o   b e i n t e r v i e w e d   t h e   s t u d y   t e a m   m e m b e r   w i l l   o b t a i n   c o n t a c t i n f o r m a t i o n   t o   a r r a n g e   f o r   a   p h o n e   i n t e r v i e w   a t   t h e p a t i e n t   f a m i l y   m e m b e r   o r   c a r e g i v e r  s   c o n v e n i e n c e   a t   a l a t e r   d a t e   s e l e c t i o n   c r i t e r i a   f o r   p a t i e n t   i n t e r v i e w s   i n c l u d e s     a d u l t s   a g e d     y e a r s   o r   o l d e r   w i t h     m e t a s t a t i c   s o l i d   t u m o r     w h o m   t h e   p r o v i d e r   w o u l d   n o t   b e s u r p r i s e d   i f   t h e y   d i e d   i n   t h e   n e x t     m o n t h s   a n d     s e e n b y   a   c o n s e n t e d   p r o v i d e r   w e   w i l l   s e e k   t o   r e c r u i t   e q u a l n u m b e r s   o f   m i n o r i t y   a n d   n o n m i n o r i t y   p a t i e n t s   w e   w i l l d i g i t a l l y   r e c o r d   a l l   i n t e r v i e w s   a n d   c o m p e n s a t e   e a c h   p a r t i c i p a n t   f o r   p a r t i c i p a t i n g t h e o r e t i c a l   m o d e l f i n d i n g s q u a l i t a t i v e   d a t a   a n a l y s i s w e   w i l l   u s e   a   q u a l i t a t i v e   a n d   m i x e d   m e t h o d s   d a t a   a n a l y s i s   p l a t f o r m   d e d o o s e   t o   m a n a g e   a n d   a n a l y z e   a l l   t r a n s c r i b e d   f i e l d   n o t e s i n t e r v i e w s   a n d   a r t i f a c t s   a n d   l i n k r e l e v a n t   d a t a   t o   c o n t e x t u a l   i n f o r m a t i o n   e g   p a t i e n t   a n d p r o v i d e r   r a c e   s i t e   f e a t u r e s   s o c i o c u l t u r a l   r e s e a r c h   c o n s u l t a n t s   l l c   w e   w i l l   d e v e l o p   a   c o d e b o o k   f i r s t   d e d u c t i v e l y   u s i n g   o u r i n   t h e l i t e r a t u r e   a n d   p r i o r r e s e a r c h   a n d   t h e n   i n d u c t i v e l y t h r o u g h   a n   i t e r a t i v e   p r o c e s s   o f   c l o s e   r e a d i n g s   a n d   d i s c u s s i o n   o f   t h e   d a t a   i n   o r d e r   t o   i d e n t i f y   a d d i t i o n a l   c o d e s t h r e e   q u a l i t a t i v e   r e s e a r c h e r s   w i l l   a p p l y   t h e   c o d e b o o k   t o t h e   d a t a   t w o   w h o   w i l l   d i v i d e   a n d   c o d e   a l l   t h e   d a t a   a n d o n e   w h o   w i l l   a s s e s s   r e l i a b i l i t y   o f   c o d i n g   b y   r e v i e w i n g   a s u b s e t   o f t h r e e   q u a l i t a t i v e   r e s e a r c h e r s   w i l l   d i s c u s s   d i f f e r e n c e s   i n   c o d i n g   a n d   r e s o l v e b y   c o n s e n s u s   w e   w i l l   r e p e a t   t h e   a n a l y s i s   p r o c e s s   a f t e r e a c h   s i t e   v i s i t   t o   c o n d u c t   c o n s t a n t   c o m p a r a t i v e   a n a l y s i s r e g a r d i n g   s i m i l a r i t i e s   a n d   d i f f e r e n c e s   b e t w e e n   a n d   w i t h i n s i t e s   i n   s u p p o r t   o f   s t u d y   a i m s     a n d     a f t e r   c o m p l e t i o n o f   e a c h   s i t e   v i s i t   t h e   s t u d y   t e a m   w i l l   d e v e l o p   a   w r i t t e n s u m m a r y   o f   p r e l i m i n a r y   q u a n t i t a t i v e   a n d   q u a l i t a t i v e f i n d i n g s   s p e c i f i c   t o   t h e   s i t e   w h i c h   w i l l   t h e n   b e   s e n t   t o   a l l p a r t i c i p a n t s   f r o m   t h a t   s i t e   t o   a s s e s s   i n i t i a l   v a l i d i t y   o f   t h e s i t e s p e c i f i c   f i n d i n g s   a f t e r   c o m p l e t i o n   o f   a l l   s i t e   v i s i t s a n d   a n a l y s i s   o f   d a t a   w e   w i l l   s e n d   f i n a l   s t u d y   r e p o r t s   t o p a r t i c i p a t i n g   s i t e s t h e   c o d e d   d a t a   a l l t a b l e     t a r g e t   s a m p l i n g   f r a m e   a t   e a c h   s i t e d a t a   c o l l e c t i o n   s e t t i n g o u t p a t i e n t m e d i c a l   o n c o l o g y s u r g i c a l   o n c o l o g y r a d i a t i o n   o n c o l o g y s u p p o r t i v e p a l l i a t i v e   c a r e e m e r g e n c y   m e d i c i n e i n p a t i e n t h o s p i t a l   m e d i c i n e i n t e n s i v e   c a r e s u p p o r t i v e p a l l i a t i v e   c a r e o n c o l o g y   c o n s u l t r i g o r   a n d   r e p r o d u c i b i l i t y o u r   r e s e a r c h   t e a m   i s   a l s o   c o n s c i o u s   o f   c o n d u c t i n g   p u r p o s e f u l l y   i n f o r m e d   a n d   r e s p e c t f u l   r e s e a r c h   o n   t h e   c a n c e r e x p e r i e n c e s   o f   r a c i a l   a n d   e t h n i c   m i n o r i t i e s   a n d   w e   h a v e t a k e n   s t e p s   t o   e n s u r e   s c i e n t i f i c   r i g o r   o f   o u r   a p p r o a c h a n d   r e s u l t s   t h r o u g h   s t u d y   d e s i g n   d e v e l o p m e n t   a n d   w i l l c o n t i n u e   t o   d o   s o   t h r o u g h   d a t a   c o l l e c t i o n   a n d   d a t a   a n a l y s i s   b a s e d   i n   a   r e l a t i v e l y   n o n r a c i a l l y   d i v e r s e   g e o g r a p h i c r e g i o n   o u r   t e a m   n       i s   c o m p r i s e d   o f     r a c i a l   a n d e t h n i c   m i n o r i t y   r e s e a r c h e r s   a s   s u c h   w e   s e e k   t o   i n c o r p o r a t e   g r e a t e r   d i v e r s i t y   o f   r a c i a l   a n d   e t h n i c   k n o w l e d g e   a s w e l l   a s   d i s c i p l i n a r y   p e r s p e c t i v e   t h r o u g h   a n   e x t e r n a l   a d v i s o r y   b o a r d   w i t h   d e e p   t o p i c a l   e x p e r t i s e   i n   c a n c e r   c a r e p a l l i a t i v e   c a r e   r a c i a l   a n d   e t h n i c   h e a l t h   e q u i t y   a n d   s o c i a l n o r m s   a d d i t i o n a l l y   t o   a d d r e s s   p o t e n t i a l   r e s e a r c h e r   b i a s t h e   e n t i r e   s t u d y   t e a m   c o m p l e t e d   i m p l i c i t   b i a s   t r a i n i n g n            0 c k n u t z e n       b m c   p a l l i a t i v e   c a r e                         p a g e     o f   f i g     m o c k   o n s i t e   o b s e r v a t i o n   s c h e d u l e   r e s e a r c h e r s   w i l l   i d e a l l y   o b s e r v e   r e l e v a n t   o u t p a t i e n t   c l i n i c s   d u r i n g   w e e k     a n d   i n p a t i e n t   s e r v i c e s d u r i n g   w e e k     r e s e a r c h e r s   w i l l   g o   t o   t u m o r   b o a r d s   a t t e n d e d   b y   c o n s e n t e d   p r o v i d e r s   a s   w e l l   a s   o t h e r   r e l e v a n t   s t a f f   m e e t i n g s   e g   f e l l o w s m e e t i n g s   r e s e a r c h e r s   w i l l   o b s e r v e   p r o v i d e r s   d u r i n g   e i t h e r   a m   o r   p m   b l o c k s   u s i n g   t h e   a l t e r n a t i n g   d a i l y   b l o c k   t o   d i c t a t e   f i e l d   n o t e s   a n d   c o n d u c t i n t e r v i e w s   w i t h   p r o v i d e r s   a n d   p a t i e n t s   o n s i t e f o c u s e d   o n   u n c o n s c i o u s   b i a s e s   r e l a t e d   t o   a t t i t u d e s   a b o u t r a c e   e t h n i c i t y   c a n c e r   c a n c e r   t r e a t m e n t   d e a t h   a n d d y i n g   o n e   r e s e a r c h e r   p a r t i c i p a t i n g   i n   d a t a   c o l l e c t i o n w i l l   r e m a i n   b l i n d e d   t o   s i t e s    e o l   t r e a t m e n t   i n t e n s i t y c l a s s i f i c a t i o n   u n t i l   d a t a   c o l l e c t i o n   i s   c o m p l e t e f i n a l l y   w e   w i l l   e m p l o y   m u l t i p l e   m e t h o d s   o f   t r i a n g u l a t i o n   t o   a s s u r e   c o m p r e h e n s i v e n e s s   a n d   v a l i d i t y   o f   d a t a t w o   t o   t h r e e   r e s e a r c h e r s   o f   a   m u l t i d i s c i p l i n a r y   t e a m   w i l l p a r t i c i p a t e   i n   e a c h   s i t e   v i s i t   a n d   a n   a d d i t i o n a l   t h r e e   r e s e a r c h e r s   w i l l   c o n d u c t   q u a l i t a t i v e   a n a l y s i s t o   s a t i s f y i n v e s t i g a t o r   t r i a n g u l a t i o n   m e t h o d   t r i a n g u l a t i o n   w i l l   i n c l u d e   d i r e c t   o b s e r v a t i o n   s e m i s t r u c t u r e d   i n t e r v i e w s   a n d a r t i f a c t   c o l l e c t i o n   w e   w i l l   a c h i e v e   d a t a   t r i a n g u l a t i o n   b y o b s e r v i n g   a n d   i n t e r v i e w i n g   l e a d e r s h i p   p e r s o n n e l   p r o v i d e r s   a n d   p a t i e n t s   f a m i l y   m e m b e r s   a n d   c a r e g i v e r s   a t e a c h   s i t e   o f   v a r i o u s     s   s p e c i a l t i e s   a n d   d i a g n o s e s   r e s p e c t i v e l y   q u a l i t a t i v e   a n a l y s i s   w i l l   u s e   b o t h   d e d u c t i v e   a n d   i n d u c t i v e   m e t h o d s t o   a c h i e v e   t h e o r y t r i a n g u l a t i o n e t h i c s   a p p r o v a l   a n d   c o n s e n t   t o   p a r t i c i p a t e t h e   s t u d y   h a s   b e e n   a p p r o v e d   b y   t h e   d a r t m o u t h   c o l l e g e c o m m i t t e e   f o r t h e   p r o t e c t i o n   o f   h u m a n   s u b j e c t s s t u d y 0 0 0 3 1 1 2 9   a n d   i s   c o n s i d e r e d   m i n i m a l   r i s k   a l l p a r t i c i p a t i n g   s i t e s   w i l l     w a i v e   i n d e p e n d e n t   i r b   a p p r o v a l   i n   f a v o r   o f   a c k n o w l e d g i n g   d a r t m o u t h  s   i r b   r e l y   o n   d a r t m o u t h  s   i r b   v i a   a   s m a r t   i r b   r e l i a n c e   o r   c o n d u c t   a   l o c a l   e t h i c a l   r e v i e w   a n d   a p p r o v a l   w e   w i l l o b t a i n   a   w a i v e r   o f   i n f o r m e d   c o n s e n t   f o r   p a r t i c i p a n t   o b s e r v a t i o n   a l l   p r o v i d e r s   w i l l   p r o v i d e   w r i t t e n   e l e c t r o n i c c o n s e n t   f o r   o b s e r v a t i o n   a n d   i n t e r v i e w   a n d   a l l i n t e r v i e w e d   l e a d e r s h i p   p a t i e n t s   a n d   f a m i l i e s   w i l l   p r o v i d e   o r a l c o n s e n t   f o r   i n t e r v i e w   w e   h a v e   o b t a i n e d   a   c e r t i f i c a t e   o f c o n f i d e n t i a l i t y   f r o m   t h e   n a t i o n a l   i n s t i t u t e s   o f   h e a l t h n i h   f o r   t h i s   s t u d y s t a f f w e   w i l l   n o t   r e c o r d   a n y   i d e n t i f i a b l e   o r   p e r s o n a l   i n f o r m a t i o n   a b o u t   p r o v i d e r s   p a t i e n t s   f a m i l y   m e m b e r s   c a r e g i v e r s   o r i n   f i e l d   n o t e s   e x c e p t   d e m o g r a p h i c i n f o r m a t i o n   a   u n i q u e   i d   n u m b e r   w i l l   l i n k   d a t a   f r o m o b s e r v a t i o n s   a n d   i n t e r v i e w s i n c l u d i n g   d e m o g r a p h i c d a t a   t o   c o n s e n t e d   p a r t i c i p a n t s   t h e   k e y   l i n k i n g   t h e   i d n u m b e r   a n d   i d e n t i f y i n g   i n f o r m a t i o n   o f   t h e   c o n s e n t e d p a r t i c i p a n t s   w i l l   b e   m a i n t a i n e d   o n   a   p a s s w o r d p r o t e c t e d s e r v e r   o n l y   t h e   r e s e a r c h   t e a m   w i l l   h a v e   a c c e s s   t o   t h e l i n k a g e   f i l e   a l l   d a t a   c o l l e c t e d   o n   i n d i v i d u a l s   w i l l   b e l i n k e d   t o   t h e i r   i d   n u m b e r   a l o n e   w e   w i l l   a u d i o r e c o r d a n d   t r a n s c r i b e   a l l   h a n d w r i t t e n   f i e l d   n o t e s   w i t h o u t   a n y i d e n t i f i a b l e   i n f o r m a t i o n   w e   w i l l   s t o r e   a l l   o r i g i n a l   f i e l d n o t e s   i n   a   l o c k e d   f i l i n g   c a b i n e t   a n d   a l l   t r a n s c r i p t s   o n   a p a s s w o r d p r o t e c t e d   s e r v e r   t o   w h i c h   o n l y   t h e   r e s e a r c h t e a m   w i l l   h a v e   a c c e s s   w e   w i l l   g i v e   a   d i s c r e e t   l a p e l   p i n t o   a l l   p r o v i d e r s   s t a f f   p a t i e n t s f a m i l y   m e m b e r s   a n d   0 c k n u t z e n       b m c   p a l l i a t i v e   c a r e                         p a g e     o f   c a r e g i v e r s   w h o   d o   n o t   w i s h   t o   b e   o b s e r v e d   a s   a d v e r t i s e d b y   t h e   i n f o r m a t i o n a l   f l y e r s   p o s t e d   p r i o r   t o   t h e   s t u d y t e a m  s   a r r i v a l   a t   t h e   s i t e   w e   w i l l   n o t   d o c u m e n t   a n y   i n d i v i d u a l   w e a r i n g   s u c h   a   p i n   i n   f i e l d   n o t e s   n o r   w i l l   w e a p p r o a c h   t h e m   f o r   a n   i n t e r v i e w w e   w i l l   g i v e   a l l   i n d i v i d u a l s   p a r t i c i p a t i n g   i n   i n t e r v i e w s a n   i n f o r m a t i o n   s h e e t   p r i o r   t o   t h e   i n t e r v i e w   a n d   w e   w i l l o b t a i n   i n f o r m e d   c o n s e n t   v e r b a l l y   a t   t h e   t i m e   o f   t h e i n t e r v i e w   w e   w i l l   o b t a i n   i n f o r m e d   c o n s e n t   v e r b a l l y   a s m a n y   o f   t h e   i n t e r v i e w s   w i l l   b e   c o n d u c t e d   b y   p h o n e   e i t h e r   b e f o r e   o r   a f t e r   t h e   s i t e   v i s i t   t h e   p r o c e s s   o f   o b t a i n i n g   v e r b a l   c o n s e n t   h a s   b e e n   a p p r o v e d   b y   t h e   d a r t m o u t h c o l l e g e   c o m m i t t e e   f o r t h e   p r o t e c t i o n   o f   h u m a n s u b j e c t s   w e   w i l l   r e c o r d   a l l   i n t e r v i e w s   a n d   l a t e r   p r o f e s s i o n a l l y   t r a n s c r i b e   t h e m   w i t h o u t   a n y   i d e n t i f i a b l e   i n f o r m a t i o n   w e   w i l l   s t o r e   a l l   r e c o r d i n g s   a n d   t r a n s c r i p t s   o n   a p a s s w o r d p r o t e c t e d   s e r v e r   t o   w h i c h   o n l y   t h e   r e s e a r c h t e a m   w i l l   h a v e   a c c e s s   a d d i t i o n a l l y   w e   c o n s u l t e d   t h e g u i d e l i n e s   f o r   e n d o f l i f e   r e s e a r c h   p u t f o r t h   i n   t h e  m e t h o d s   o f   r e s e a r c h i n g   e n d   o f   l i f e   c a r e    m o r e c a r e p r o j e c t   w h i l e   d e s i g n i n g   t h e   p r o t o c o l   f o r   t h i s   s t u d y     s p e c i f i c a l l y   w e   c o n s i d e r e d   t h e   r i s k s   e g i n t e r v i e w e e d i s t r e s s   a n d   r e w a r d s   e g   p o t e n t i a l   t h e r a p e u t i c   e f f e c t t h a t   q u a l i t a t i v e   i n t e r v i e w s   m a y   h a v e   f o r   p a t i e n t s   f a m i l y m e m b e r s t h e s e p r o t o c o l s g i v e r s   w h i l e   d e s i g n i n g a n d   c a r e d i s c u s s i o n o u r   s t u d y   i s   t h e   f i r s t   c o m p r e h e n s i v e   q u a l i t a t i v e   s t u d y   o f l o c a l   a n i z a t i o n a l   a n d   p r o v i d e r   n o r m s   a t   m i n o r i t y s e r v i n g   n c c n   a n d   n c i d e s i g n a t e d   c o m p r e h e n s i v e   u s c a n c e r   c e n t e r s   i f   t h e   a i m s   o f   t h i s   s t u d y   a r e   a c h i e v e d   w e e x p e c t   t o   i d e n t i f y   t a r g e t s   f o r   i n s t i t u t i o n a l   c h a n g e   a t   c a n c e r   c e n t e r s   w i t h   l o w e r   e o l   q u a l i t y   m e t r i c   p e r f o r m a n c e t h e   t w o   m a i n   d e l i v e r a b l e s   o f   t h i s   r e s e a r c h   w i l l   b e   k n o w l e d g e   r e g a r d i n g   n o r m s   a n d   t h e i r   i m p a c t   o n   e o l d e c i s i o n   m a k i n g   a t   p a r t i c i p a t i n g   c a n c e r   c e n t e r s   a n d   i d e n t i f i c a t i o n   o f   p o t e n t i a l   m e m b e r s   o f   a   c o m m u n i t y   r e s e a r c h   a d v i s o r y   b o a r d   t o   o v e r s e e   f u t u r e   i n s t i t u t i o n l e v e l i n t e r v e n t i o n s   a i m e d   a t   i m p r o v i n g   e o l   c a r e   r e s p e c t i v e t o   t h e   f i r s t   d e l i v e r a b l e   p a r t i c i p a t i n g   c a n c e r   c e n t e r s   w i l l r e c e i v e   a   c u s t o m i z e d   r e p o r t   o f   o u r   f i n d i n g s   a b o u t   t h e i r o w n   c e n t e r   f o l l o w i n g   c o m p l e t i o n   o f   o u r   s i t e   v i s i t   a f t e r c o m p l e t i o n   o f   a l l   s i t e   v i s i t s   w e   w i l l   w o r k   w i t h   t h e a m e r i c a n   c a n c e r   s o c i e t y   a n d   p a r t i c i p a t i n g   c a n c e r c e n t e r s   t o   i d e n t i f y   l o c a l   c h a p t e r s   o f t h e   a m e r i c a n c a n c e r   s o c i e t y   a c s   a n d   p r o v i d e r   m e d i c a l   s o c i e t i e s e g   c o u n t y   m e d i c a l   a n d   n u r s i n g   s o c i e t i e s   a t   w h i c h   w e c a n   d i s c u s s   o u r   f i n d i n g s   a n d   t h e i r   i m p l i c a t i o n s   f o r   l o c a l p a t i e n t s   a n d   p r o v i d e r s r e s p e c t i v e   t o   t h e   s e c o n d   d e l i v e r a b l e   w e   a n t i c i p a t e   t h e o p p o r t u n i t y   t o   d e v e l o p   i n s t i t u t i o n l e v e l i n t e r v e n t i o n s a i m e d   a t   e o l   c a r e   i n   t h e   f u t u r e   n o r m s   a r e   f r u i t f u l   f o r s t u d y   b e c a u s e   o n c e   u n d e r s t o o d   t h e y   a r e   p o t e n t i a l l y m a l l e a b l e   t h r o u g h   e x p l i c i t   l e a d e r s h i p   e f f o r t s   a n d   i m p l e m e n t a t i o n   o f   n e w   f o r m s   o f   p o s i t i v e   a n d   n e g a t i v e s a n c t i o n s   s p e c i f i c a l l y   s o c i a l   m a r k e t i n g      t h e   u s e   o f m a r k e t i n g   p r i n c i p l e s   t o   i n f l u e n c e   h u m a n   b e h a v i o r   t o   i m p r o v e   h e a l t h   o r   b e n e f i t   s o c i e t y          i s   a   p r o m i s i n g s t r a t e g y   f o r   c h a n g i n g   n o r m s   i n t e r v e n t i o n i s t s   h a v e   s u c c e s s f u l l y   a p p l i e d   t h e   p r i n c i p l e s   o f   s o c i a l   m a r k e t i n g   t o c h a n g e   h i v   r i s k   b e h a v i o r s   [   ]   a n d   p a l l i a t i v e   c a r e c o n s u l t a t i o n   u s e       i n t e g r a t i n g   s o c i a l   m a r k e t i n g   i n t e r v e n t i o n s   i n   c a n c e r   c e n t e r s   w i t h   h i g h   i n t e n s i t y   e o l   c a r e c o u l d   h a v e   t h e   e f f e c t   o f   i m p r o v i n g   t h e   q u a l i t y   a n d   c o s t o f   c a n c e r   c a r e   p a r t i c u l a r l y   f o r   r a c i a l   a n d   e t h n i c   m i n o r i t i e s   f u r t h e r   b y   s t u d y i n g   n o r m s   o f   d e c i s i o n   m a k i n g a m o n g   g r o u p s   o f   p h y s i c i a n s   t h i s   p r o j e c t   w i l l   o v e r c o m e t h e   l i m i t a t i o n   o f   p a s t   r e s e a r c h   w h i c h   u n i f o r m l y   h a s n e g l e c t e d   t h i s   i m p o r t a n t   i s s u e a b b r e v i a t i o n s n c c n   n a t i o n a l   c o m p r e h e n s i v e   c a n c e r   n e t w o r k   n c i   n a t i o n a l   c a n c e r i n s t i t u t e   e o l   e n d o f l i f e   n q f   n a t i o n a l   q u a l i t y   f o r u m   i c u   i n t e n s i v e   c a r e u n i t   i d   i d e n t i f i c a t i o n   p i   p r i n c i p a l   i n v e s t i g a t o r   i r b   i n s t i t u t i o n a l   r e v i e w b o a r d   a c s   a m e r i c a n   c a n c e r   s o c i e t y a c k n o w l e d g e m e n t s t h a n k   y o u   t o   i n a s   k a y h a l   f o r   h e r   a s s i s t a n c e   w i t h   t h e   c l u s t e r   a n a l y s i s   f o r   s i t e s a m p l i n g   a n d   a s s o c i a t e d   v i s u a l i z a t i o n s   a n d   t o   g a r r e t t   w a s p   f o r   h i s   i n p u t   o n t h e   c l i n i c a l   v i g n e t t e s a u t h o r s    c o n t r i b u t i o n s k e k   l e d   c o o r d i n a t i o n   o f   t h e   s t u d y   p a r t i c i p a t e d   i n   d e s i g n   o f   t h e   p r o t o c o l c o n t r i b u t e d   t o   i n s t r u m e n t   d e v e l o p m e n t   a n d   l e d   p r e p a r a t i o n   o f   t h e m a n u s c r i p t   a e b   l e d   d e s i g n   a n d   w r i t i n g   o f   t h e   g r a n t   a n d   p r o t o c o l c o n t r i b u t e d   t o   i n s t r u m e n t   d e v e l o p m e n t   a n d   p a r t i c i p a t e d   i n   p r e p a r a t i o n   o f t h e   m a n u s c r i p t   k e s   p a r t i c i p a t e d   i n   d e s i g n   a n d   w r i t i n g   o f   t h e   g r a n t   a n d p r o t o c o l   l e d   i n s t r u m e n t   d e v e l o p m e n t   a n d   p a r t i c i p a t e d   i n   p r e p a r a t i o n   o f   t h e m a n u s c r i p t   g f m   a n d   r b   p a r t i c i p a t e d   i n   d e s i g n   o f   t h e   p r o t o c o l   c o n t r i b u t e d t o   i n s t r u m e n t   d e v e l o p m e n t   a n d   p a r t i c i p a t e d   i n   p r e p a r a t i o n   o f   t h e m a n u s c r i p t   g a b   a n d   n s k   c r e a t e d   t h e   c l i n i c a l   v i g n e t t e s   c o n t r i b u t e d   t o i n s t r u m e n t   d e v e l o p m e n t   a n d   p a r t i c i p a t e d   i n   d e s i g n   o f   t h e   p r o t o c o l   s s a c o n t r i b u t e d   t o   i n s t r u m e n t   d e v e l o p m e n t   a n d   p a r t i c i p a t e d   i n   d e s i g n   o f   t h e p r o t o c o l   t h e   a u t h o r s   r e a d   a n d   a p p r o v e d   t h e   f i n a l   m a n u s c r i p t f u n d i n g t h i s   r e s e a r c h   i s   f u n d e d   b y   t h e   a m e r i c a n   c a n c e r   s o c i e t y   g r a n t   n u m b e r   r s g 1 8 0 1 7 0 1 c p h p s   t h e   f u n d i n g   b o d y   h a d   n o   r o l e   i n   t h e   d e s i g n   o f   t h e   s t u d y a n d   w i l l   h a v e   n o   r o l e   i n   t h e   c o l l e c t i o n   a n a l y s i s   a n d   i n t e r p r e t a t i o n   o f   d a t a   o r w r i t i n g   o f   t h e   m a n u s c r i p t a v a i l a b i l i t y   o f   d a t a   a n d   m a t e r i a l s e n d o f l i f e   m e t r i c s   d a t a   c a n   b e   f o u n d   a t   h t t p s w w w d a r t m o u t h a t l a s i n t e r a c t i v e a p p s e n d o f l i f e c a n c e r c a r e   q u a l i t a t i v e   d a t a   w i l l   b e   d e i d e n t i f i e d a n d   m a d e   a v a i l a b l e   t o   r e s e a r c h e r s   t h r o u g h   t h e   n i n r f u n d e d   p a l l i a t i v e   c a r e r e s e a r c h   c o o p e r a t i v e   q u a l i t a t i v e   d a t a   r e p o s i t o r y   a f t e r   a n a l y s e s   i n   s u p p o r t   o f t h e   p r i m a r y   a i m s   a r e   c o m p l e t e   a l l   m a t e r i a l s   a n d   i n s t r u m e n t s   d e v e l o p e d   f o r t h i s   s t u d y   a r e   a v a i l a b l e   b y   r e q u e s t   o f   t h e   a u t h o r s e t h i c s   a p p r o v a l   a n d   c o n s e n t   t o   p a r t i c i p a t e t h i s   s t u d y   h a s   b e e n   a p p r o v e d   b y   t h e   d a r t m o u t h   c o l l e g e   c o m m i t t e e   f o r   t h e p r o t e c t i o n   o f   h u m a n   s u b j e c t s   s t u d y 0 0 0 3 1 1 2 9   t h i s   s t u d y   i s   c o n s i d e r e d m i n i m a l   r i s k c o n s e n t   f o r   p u b l i c a t i o n n o t   a p p l i c a b l e   0 c k n u t z e n       b m c   p a l l i a t i v e   c a r e                         p a g e     o f   c o m p e t i n g   i n t e r e s t s a l l   a u t h o r s   d e c l a r e   n o   c o m p e t i n g   i n t e r e s t   w i t h   r e s p e c t   t o   t h e   r e s e a r c h a u t h o r s h i p   o r   p u b l i c a t i o n   o f   t h i s   a u t h o r   d e t a i l s 1 d e p a r t m e n t   o f   b e h a v i o r a l   s o c i a l   a n d   h e a l t h   e d u c a t i o n   s c i e n c e s   r o l l i n s s c h o o l   o f   p u b l i c   h e a l t h   e m o r y   u n i v e r s i t y   a t l a n t a   g a   u s a   2 t h e   d a r t m o u t h i n s t i t u t e   f o r   h e a l t h   p o l i c y   a n d   c l i n i c a l   p r a c t i c e   g e i s e l   s c h o o l   o f   m e d i c i n e d a r t m o u t h   c o l l e g e   l e b a n o n   n h   u s a   3 d e p a r t m e n t   o f   g e n e r a l   i n t e r n a l m e d i c i n e   b o s t o n   m e d i c a l   c e n t e r   b o s t o n   m a   u s a   4 e v i d e r a   p h a r m a c e u t i c a l p r o d u c t   d e v e l o p m e n t   b e t h e s d a   m d   u s a   5 d e p a r t m e n t   o f   m e d i c i n e   g e i s e l s c h o o l   o f   m e d i c i n e   h a n o v e r   n h   u s a   6 n o r r i s   c o t t o n   c a n c e r   c e n t e r   a t d a r t m o u t h h i t c h c o c k   m e d i c a l   c e n t e r   l e b a n o n   n h   u s a r e c e i v e d     j u l y     a c c e p t e d     a u g u s t   r e f e r e\n"
          ]
        },
        {
          "output_type": "execute_result",
          "data": {
            "text/plain": [
              "32618"
            ]
          },
          "metadata": {},
          "execution_count": 107
        }
      ]
    },
    {
      "cell_type": "code",
      "source": [
        "import string\n",
        "alphabet = string.ascii_lowercase + string.digits + string.punctuation\n",
        "alphabet"
      ],
      "metadata": {
        "colab": {
          "base_uri": "https://localhost:8080/",
          "height": 36
        },
        "id": "eXeT4WD5ChJR",
        "outputId": "56abda46-9ae5-4a09-ac36-fa35f88d1f01"
      },
      "execution_count": 108,
      "outputs": [
        {
          "output_type": "execute_result",
          "data": {
            "text/plain": [
              "'abcdefghijklmnopqrstuvwxyz0123456789!\"#$%&\\'()*+,-./:;<=>?@[\\\\]^_`{|}~'"
            ],
            "application/vnd.google.colaboratory.intrinsic+json": {
              "type": "string"
            }
          },
          "metadata": {},
          "execution_count": 108
        }
      ]
    },
    {
      "cell_type": "code",
      "source": [
        "# Create char-level token vectorizer instance\n",
        "NUM_CHAR_TOKENS = len(alphabet) + 2 # num characters in alphabet + space + OOV token\n",
        "char_vectorizer = TextVectorization(max_tokens=NUM_CHAR_TOKENS,  \n",
        "                                    output_sequence_length=output_seq_char_len,\n",
        "                                    standardize=\"lower_and_strip_punctuation\",\n",
        "                                    name=\"char_vectorizer\")\n",
        "\n",
        "# Adapt character vectorizer to training characters\n",
        "char_vectorizer.adapt(train_chars)"
      ],
      "metadata": {
        "id": "kQu-BIRlCjly"
      },
      "execution_count": 109,
      "outputs": []
    },
    {
      "cell_type": "code",
      "source": [
        "# Create char embedding layer\n",
        "char_embed = layers.Embedding(input_dim=NUM_CHAR_TOKENS, # number of different characters\n",
        "                              output_dim=25, # embedding dimension of each character (same as Figure 1 in https://arxiv.org/pdf/1612.05251.pdf)\n",
        "                              mask_zero=False, # don't use masks (this messes up model_5 if set to True)\n",
        "                              name=\"char_embed\")"
      ],
      "metadata": {
        "id": "nJWHx85TClPJ"
      },
      "execution_count": 110,
      "outputs": []
    },
    {
      "cell_type": "code",
      "source": [
        "# Make Conv1D on chars only\n",
        "inputs = layers.Input(shape=(1,), dtype=\"string\")\n",
        "char_vectors = char_vectorizer(inputs)\n",
        "char_embeddings = char_embed(char_vectors)\n",
        "x = layers.Conv1D(64, kernel_size=5, padding=\"same\", activation=\"relu\")(char_embeddings)\n",
        "x = layers.GlobalMaxPool1D()(x)\n",
        "outputs = layers.Dense(NUM_CLASSES, activation=\"softmax\")(x)\n",
        "model_8 = tf.keras.Model(inputs=inputs,\n",
        "                         outputs=outputs,\n",
        "                         name=\"nlp_model_8\")\n",
        "\n",
        "# Compile model\n",
        "model_8.compile(loss=\"categorical_crossentropy\",\n",
        "                optimizer=tf.keras.optimizers.Adam(),\n",
        "                metrics=[\"accuracy\"])"
      ],
      "metadata": {
        "id": "ceERY3nTXuPk"
      },
      "execution_count": 111,
      "outputs": []
    },
    {
      "cell_type": "code",
      "source": [
        "train_char_dataset = tf.data.Dataset.from_tensor_slices((train_chars, train_labels_one_hot)).batch(32).prefetch(tf.data.AUTOTUNE)\n",
        "val_char_dataset = tf.data.Dataset.from_tensor_slices((test_chars, test_labels_one_hot)).batch(32).prefetch(tf.data.AUTOTUNE)\n",
        "\n",
        "train_char_dataset"
      ],
      "metadata": {
        "colab": {
          "base_uri": "https://localhost:8080/"
        },
        "id": "gXwEKY64Xw4Z",
        "outputId": "08528f90-469a-447e-e871-38ce4dfa6ce2"
      },
      "execution_count": 113,
      "outputs": [
        {
          "output_type": "execute_result",
          "data": {
            "text/plain": [
              "<PrefetchDataset element_spec=(TensorSpec(shape=(None,), dtype=tf.string, name=None), TensorSpec(shape=(None, 3), dtype=tf.float64, name=None))>"
            ]
          },
          "metadata": {},
          "execution_count": 113
        }
      ]
    },
    {
      "cell_type": "code",
      "source": [
        "history_8 = model_8.fit(train_char_dataset, epochs=20, validation_data=val_char_dataset,callbacks=return_callbacks(model_8.name))"
      ],
      "metadata": {
        "colab": {
          "base_uri": "https://localhost:8080/"
        },
        "id": "36zUpvs1X0Mm",
        "outputId": "454b0bf9-cf9e-4b39-981b-d5158d0cf006"
      },
      "execution_count": 114,
      "outputs": [
        {
          "output_type": "stream",
          "name": "stdout",
          "text": [
            "Epoch 1/20\n",
            "190/190 [==============================] - ETA: 0s - loss: 0.9860 - accuracy: 0.4972\n",
            "Epoch 1: val_loss improved from inf to 0.76931, saving model to saved_models/nlp_model_8\n"
          ]
        },
        {
          "output_type": "stream",
          "name": "stderr",
          "text": [
            "WARNING:absl:Found untraced functions such as _jit_compiled_convolution_op while saving (showing 1 of 1). These functions will not be directly callable after loading.\n"
          ]
        },
        {
          "output_type": "stream",
          "name": "stdout",
          "text": [
            "\b\b\b\b\b\b\b\b\b\b\b\b\b\b\b\b\b\b\b\b\b\b\b\b\b\b\b\b\b\b\b\b\b\b\b\b\b\b\b\b\b\b\b\b\b\b\b\b\b\b\b\b\b\b\b\b\b\b\b\b\b\b\b\b\b\b\b\b\b\b\b\b\b\b\b\b\b\b\b\b\b\b\b\b\r190/190 [==============================] - 28s 138ms/step - loss: 0.9860 - accuracy: 0.4972 - val_loss: 0.7693 - val_accuracy: 0.6625\n",
            "Epoch 2/20\n",
            "189/190 [============================>.] - ETA: 0s - loss: 0.5881 - accuracy: 0.7212\n",
            "Epoch 2: val_loss improved from 0.76931 to 0.51028, saving model to saved_models/nlp_model_8\n"
          ]
        },
        {
          "output_type": "stream",
          "name": "stderr",
          "text": [
            "WARNING:absl:Found untraced functions such as _jit_compiled_convolution_op while saving (showing 1 of 1). These functions will not be directly callable after loading.\n"
          ]
        },
        {
          "output_type": "stream",
          "name": "stdout",
          "text": [
            "\b\b\b\b\b\b\b\b\b\b\b\b\b\b\b\b\b\b\b\b\b\b\b\b\b\b\b\b\b\b\b\b\b\b\b\b\b\b\b\b\b\b\b\b\b\b\b\b\b\b\b\b\b\b\b\b\b\b\b\b\b\b\b\b\b\b\b\b\b\b\b\b\b\b\b\b\b\b\b\b\b\b\b\b\r190/190 [==============================] - 27s 141ms/step - loss: 0.5877 - accuracy: 0.7214 - val_loss: 0.5103 - val_accuracy: 0.7768\n",
            "Epoch 3/20\n",
            "189/190 [============================>.] - ETA: 0s - loss: 0.4285 - accuracy: 0.8264\n",
            "Epoch 3: val_loss improved from 0.51028 to 0.39417, saving model to saved_models/nlp_model_8\n"
          ]
        },
        {
          "output_type": "stream",
          "name": "stderr",
          "text": [
            "WARNING:absl:Found untraced functions such as _jit_compiled_convolution_op while saving (showing 1 of 1). These functions will not be directly callable after loading.\n"
          ]
        },
        {
          "output_type": "stream",
          "name": "stdout",
          "text": [
            "\b\b\b\b\b\b\b\b\b\b\b\b\b\b\b\b\b\b\b\b\b\b\b\b\b\b\b\b\b\b\b\b\b\b\b\b\b\b\b\b\b\b\b\b\b\b\b\b\b\b\b\b\b\b\b\b\b\b\b\b\b\b\b\b\b\b\b\b\b\b\b\b\b\b\b\b\b\b\b\b\b\b\b\b\r190/190 [==============================] - 26s 138ms/step - loss: 0.4282 - accuracy: 0.8265 - val_loss: 0.3942 - val_accuracy: 0.8606\n",
            "Epoch 4/20\n",
            "189/190 [============================>.] - ETA: 0s - loss: 0.3297 - accuracy: 0.8938\n",
            "Epoch 4: val_loss improved from 0.39417 to 0.31374, saving model to saved_models/nlp_model_8\n"
          ]
        },
        {
          "output_type": "stream",
          "name": "stderr",
          "text": [
            "WARNING:absl:Found untraced functions such as _jit_compiled_convolution_op while saving (showing 1 of 1). These functions will not be directly callable after loading.\n"
          ]
        },
        {
          "output_type": "stream",
          "name": "stdout",
          "text": [
            "\b\b\b\b\b\b\b\b\b\b\b\b\b\b\b\b\b\b\b\b\b\b\b\b\b\b\b\b\b\b\b\b\b\b\b\b\b\b\b\b\b\b\b\b\b\b\b\b\b\b\b\b\b\b\b\b\b\b\b\b\b\b\b\b\b\b\b\b\b\b\b\b\b\b\b\b\b\b\b\b\b\b\b\b\r190/190 [==============================] - 27s 142ms/step - loss: 0.3295 - accuracy: 0.8940 - val_loss: 0.3137 - val_accuracy: 0.9003\n",
            "Epoch 5/20\n",
            "189/190 [============================>.] - ETA: 0s - loss: 0.2546 - accuracy: 0.9244\n",
            "Epoch 5: val_loss improved from 0.31374 to 0.24782, saving model to saved_models/nlp_model_8\n"
          ]
        },
        {
          "output_type": "stream",
          "name": "stderr",
          "text": [
            "WARNING:absl:Found untraced functions such as _jit_compiled_convolution_op while saving (showing 1 of 1). These functions will not be directly callable after loading.\n"
          ]
        },
        {
          "output_type": "stream",
          "name": "stdout",
          "text": [
            "\b\b\b\b\b\b\b\b\b\b\b\b\b\b\b\b\b\b\b\b\b\b\b\b\b\b\b\b\b\b\b\b\b\b\b\b\b\b\b\b\b\b\b\b\b\b\b\b\b\b\b\b\b\b\b\b\b\b\b\b\b\b\b\b\b\b\b\b\b\b\b\b\b\b\b\b\b\b\b\b\b\b\b\b\r190/190 [==============================] - 27s 142ms/step - loss: 0.2543 - accuracy: 0.9245 - val_loss: 0.2478 - val_accuracy: 0.9267\n",
            "Epoch 6/20\n",
            "189/190 [============================>.] - ETA: 0s - loss: 0.1973 - accuracy: 0.9426\n",
            "Epoch 6: val_loss improved from 0.24782 to 0.19633, saving model to saved_models/nlp_model_8\n"
          ]
        },
        {
          "output_type": "stream",
          "name": "stderr",
          "text": [
            "WARNING:absl:Found untraced functions such as _jit_compiled_convolution_op while saving (showing 1 of 1). These functions will not be directly callable after loading.\n"
          ]
        },
        {
          "output_type": "stream",
          "name": "stdout",
          "text": [
            "\b\b\b\b\b\b\b\b\b\b\b\b\b\b\b\b\b\b\b\b\b\b\b\b\b\b\b\b\b\b\b\b\b\b\b\b\b\b\b\b\b\b\b\b\b\b\b\b\b\b\b\b\b\b\b\b\b\b\b\b\b\b\b\b\b\b\b\b\b\b\b\b\b\b\b\b\b\b\b\b\b\b\b\b\r190/190 [==============================] - 27s 140ms/step - loss: 0.1971 - accuracy: 0.9427 - val_loss: 0.1963 - val_accuracy: 0.9399\n",
            "Epoch 7/20\n",
            "189/190 [============================>.] - ETA: 0s - loss: 0.1574 - accuracy: 0.9506\n",
            "Epoch 7: val_loss improved from 0.19633 to 0.15991, saving model to saved_models/nlp_model_8\n"
          ]
        },
        {
          "output_type": "stream",
          "name": "stderr",
          "text": [
            "WARNING:absl:Found untraced functions such as _jit_compiled_convolution_op while saving (showing 1 of 1). These functions will not be directly callable after loading.\n"
          ]
        },
        {
          "output_type": "stream",
          "name": "stdout",
          "text": [
            "\b\b\b\b\b\b\b\b\b\b\b\b\b\b\b\b\b\b\b\b\b\b\b\b\b\b\b\b\b\b\b\b\b\b\b\b\b\b\b\b\b\b\b\b\b\b\b\b\b\b\b\b\b\b\b\b\b\b\b\b\b\b\b\b\b\b\b\b\b\b\b\b\b\b\b\b\b\b\b\b\b\b\b\b\r190/190 [==============================] - 26s 137ms/step - loss: 0.1572 - accuracy: 0.9506 - val_loss: 0.1599 - val_accuracy: 0.9432\n",
            "Epoch 8/20\n",
            "189/190 [============================>.] - ETA: 0s - loss: 0.1305 - accuracy: 0.9554\n",
            "Epoch 8: val_loss improved from 0.15991 to 0.13500, saving model to saved_models/nlp_model_8\n"
          ]
        },
        {
          "output_type": "stream",
          "name": "stderr",
          "text": [
            "WARNING:absl:Found untraced functions such as _jit_compiled_convolution_op while saving (showing 1 of 1). These functions will not be directly callable after loading.\n"
          ]
        },
        {
          "output_type": "stream",
          "name": "stdout",
          "text": [
            "\b\b\b\b\b\b\b\b\b\b\b\b\b\b\b\b\b\b\b\b\b\b\b\b\b\b\b\b\b\b\b\b\b\b\b\b\b\b\b\b\b\b\b\b\b\b\b\b\b\b\b\b\b\b\b\b\b\b\b\b\b\b\b\b\b\b\b\b\b\b\b\b\b\b\b\b\b\b\b\b\b\b\b\b\r190/190 [==============================] - 26s 138ms/step - loss: 0.1303 - accuracy: 0.9554 - val_loss: 0.1350 - val_accuracy: 0.9524\n",
            "Epoch 9/20\n",
            "189/190 [============================>.] - ETA: 0s - loss: 0.1125 - accuracy: 0.9592\n",
            "Epoch 9: val_loss improved from 0.13500 to 0.11863, saving model to saved_models/nlp_model_8\n"
          ]
        },
        {
          "output_type": "stream",
          "name": "stderr",
          "text": [
            "WARNING:absl:Found untraced functions such as _jit_compiled_convolution_op while saving (showing 1 of 1). These functions will not be directly callable after loading.\n"
          ]
        },
        {
          "output_type": "stream",
          "name": "stdout",
          "text": [
            "\b\b\b\b\b\b\b\b\b\b\b\b\b\b\b\b\b\b\b\b\b\b\b\b\b\b\b\b\b\b\b\b\b\b\b\b\b\b\b\b\b\b\b\b\b\b\b\b\b\b\b\b\b\b\b\b\b\b\b\b\b\b\b\b\b\b\b\b\b\b\b\b\b\b\b\b\b\b\b\b\b\b\b\b\r190/190 [==============================] - 26s 138ms/step - loss: 0.1124 - accuracy: 0.9592 - val_loss: 0.1186 - val_accuracy: 0.9557\n",
            "Epoch 10/20\n",
            "189/190 [============================>.] - ETA: 0s - loss: 0.1006 - accuracy: 0.9613\n",
            "Epoch 10: val_loss improved from 0.11863 to 0.10783, saving model to saved_models/nlp_model_8\n"
          ]
        },
        {
          "output_type": "stream",
          "name": "stderr",
          "text": [
            "WARNING:absl:Found untraced functions such as _jit_compiled_convolution_op while saving (showing 1 of 1). These functions will not be directly callable after loading.\n"
          ]
        },
        {
          "output_type": "stream",
          "name": "stdout",
          "text": [
            "\b\b\b\b\b\b\b\b\b\b\b\b\b\b\b\b\b\b\b\b\b\b\b\b\b\b\b\b\b\b\b\b\b\b\b\b\b\b\b\b\b\b\b\b\b\b\b\b\b\b\b\b\b\b\b\b\b\b\b\b\b\b\b\b\b\b\b\b\b\b\b\b\b\b\b\b\b\b\b\b\b\b\b\b\r190/190 [==============================] - 26s 137ms/step - loss: 0.1005 - accuracy: 0.9614 - val_loss: 0.1078 - val_accuracy: 0.9551\n",
            "Epoch 11/20\n",
            "189/190 [============================>.] - ETA: 0s - loss: 0.0919 - accuracy: 0.9631\n",
            "Epoch 11: val_loss improved from 0.10783 to 0.09924, saving model to saved_models/nlp_model_8\n"
          ]
        },
        {
          "output_type": "stream",
          "name": "stderr",
          "text": [
            "WARNING:absl:Found untraced functions such as _jit_compiled_convolution_op while saving (showing 1 of 1). These functions will not be directly callable after loading.\n"
          ]
        },
        {
          "output_type": "stream",
          "name": "stdout",
          "text": [
            "\b\b\b\b\b\b\b\b\b\b\b\b\b\b\b\b\b\b\b\b\b\b\b\b\b\b\b\b\b\b\b\b\b\b\b\b\b\b\b\b\b\b\b\b\b\b\b\b\b\b\b\b\b\b\b\b\b\b\b\b\b\b\b\b\b\b\b\b\b\b\b\b\b\b\b\b\b\b\b\b\b\b\b\b\r190/190 [==============================] - 27s 140ms/step - loss: 0.0918 - accuracy: 0.9632 - val_loss: 0.0992 - val_accuracy: 0.9604\n",
            "Epoch 12/20\n",
            "189/190 [============================>.] - ETA: 0s - loss: 0.0855 - accuracy: 0.9646\n",
            "Epoch 12: val_loss improved from 0.09924 to 0.09328, saving model to saved_models/nlp_model_8\n"
          ]
        },
        {
          "output_type": "stream",
          "name": "stderr",
          "text": [
            "WARNING:absl:Found untraced functions such as _jit_compiled_convolution_op while saving (showing 1 of 1). These functions will not be directly callable after loading.\n"
          ]
        },
        {
          "output_type": "stream",
          "name": "stdout",
          "text": [
            "\b\b\b\b\b\b\b\b\b\b\b\b\b\b\b\b\b\b\b\b\b\b\b\b\b\b\b\b\b\b\b\b\b\b\b\b\b\b\b\b\b\b\b\b\b\b\b\b\b\b\b\b\b\b\b\b\b\b\b\b\b\b\b\b\b\b\b\b\b\b\b\b\b\b\b\b\b\b\b\b\b\b\b\b\r190/190 [==============================] - 26s 137ms/step - loss: 0.0854 - accuracy: 0.9647 - val_loss: 0.0933 - val_accuracy: 0.9624\n",
            "Epoch 13/20\n",
            "189/190 [============================>.] - ETA: 0s - loss: 0.0805 - accuracy: 0.9663\n",
            "Epoch 13: val_loss improved from 0.09328 to 0.08771, saving model to saved_models/nlp_model_8\n"
          ]
        },
        {
          "output_type": "stream",
          "name": "stderr",
          "text": [
            "WARNING:absl:Found untraced functions such as _jit_compiled_convolution_op while saving (showing 1 of 1). These functions will not be directly callable after loading.\n"
          ]
        },
        {
          "output_type": "stream",
          "name": "stdout",
          "text": [
            "\b\b\b\b\b\b\b\b\b\b\b\b\b\b\b\b\b\b\b\b\b\b\b\b\b\b\b\b\b\b\b\b\b\b\b\b\b\b\b\b\b\b\b\b\b\b\b\b\b\b\b\b\b\b\b\b\b\b\b\b\b\b\b\b\b\b\b\b\b\b\b\b\b\b\b\b\b\b\b\b\b\b\b\b\r190/190 [==============================] - 26s 137ms/step - loss: 0.0804 - accuracy: 0.9663 - val_loss: 0.0877 - val_accuracy: 0.9637\n",
            "Epoch 14/20\n",
            "189/190 [============================>.] - ETA: 0s - loss: 0.0761 - accuracy: 0.9684\n",
            "Epoch 14: val_loss improved from 0.08771 to 0.08347, saving model to saved_models/nlp_model_8\n"
          ]
        },
        {
          "output_type": "stream",
          "name": "stderr",
          "text": [
            "WARNING:absl:Found untraced functions such as _jit_compiled_convolution_op while saving (showing 1 of 1). These functions will not be directly callable after loading.\n"
          ]
        },
        {
          "output_type": "stream",
          "name": "stdout",
          "text": [
            "\b\b\b\b\b\b\b\b\b\b\b\b\b\b\b\b\b\b\b\b\b\b\b\b\b\b\b\b\b\b\b\b\b\b\b\b\b\b\b\b\b\b\b\b\b\b\b\b\b\b\b\b\b\b\b\b\b\b\b\b\b\b\b\b\b\b\b\b\b\b\b\b\b\b\b\b\b\b\b\b\b\b\b\b\r190/190 [==============================] - 26s 138ms/step - loss: 0.0760 - accuracy: 0.9685 - val_loss: 0.0835 - val_accuracy: 0.9624\n",
            "Epoch 15/20\n",
            "189/190 [============================>.] - ETA: 0s - loss: 0.0726 - accuracy: 0.9697\n",
            "Epoch 15: val_loss improved from 0.08347 to 0.07971, saving model to saved_models/nlp_model_8\n"
          ]
        },
        {
          "output_type": "stream",
          "name": "stderr",
          "text": [
            "WARNING:absl:Found untraced functions such as _jit_compiled_convolution_op while saving (showing 1 of 1). These functions will not be directly callable after loading.\n"
          ]
        },
        {
          "output_type": "stream",
          "name": "stdout",
          "text": [
            "\b\b\b\b\b\b\b\b\b\b\b\b\b\b\b\b\b\b\b\b\b\b\b\b\b\b\b\b\b\b\b\b\b\b\b\b\b\b\b\b\b\b\b\b\b\b\b\b\b\b\b\b\b\b\b\b\b\b\b\b\b\b\b\b\b\b\b\b\b\b\b\b\b\b\b\b\b\b\b\b\b\b\b\b\r190/190 [==============================] - 26s 138ms/step - loss: 0.0725 - accuracy: 0.9698 - val_loss: 0.0797 - val_accuracy: 0.9670\n",
            "Epoch 16/20\n",
            "189/190 [============================>.] - ETA: 0s - loss: 0.0696 - accuracy: 0.9711\n",
            "Epoch 16: val_loss improved from 0.07971 to 0.07624, saving model to saved_models/nlp_model_8\n"
          ]
        },
        {
          "output_type": "stream",
          "name": "stderr",
          "text": [
            "WARNING:absl:Found untraced functions such as _jit_compiled_convolution_op while saving (showing 1 of 1). These functions will not be directly callable after loading.\n"
          ]
        },
        {
          "output_type": "stream",
          "name": "stdout",
          "text": [
            "\b\b\b\b\b\b\b\b\b\b\b\b\b\b\b\b\b\b\b\b\b\b\b\b\b\b\b\b\b\b\b\b\b\b\b\b\b\b\b\b\b\b\b\b\b\b\b\b\b\b\b\b\b\b\b\b\b\b\b\b\b\b\b\b\b\b\b\b\b\b\b\b\b\b\b\b\b\b\b\b\b\b\b\b\r190/190 [==============================] - 27s 141ms/step - loss: 0.0695 - accuracy: 0.9711 - val_loss: 0.0762 - val_accuracy: 0.9690\n",
            "Epoch 17/20\n",
            "189/190 [============================>.] - ETA: 0s - loss: 0.0668 - accuracy: 0.9714\n",
            "Epoch 17: val_loss improved from 0.07624 to 0.07303, saving model to saved_models/nlp_model_8\n"
          ]
        },
        {
          "output_type": "stream",
          "name": "stderr",
          "text": [
            "WARNING:absl:Found untraced functions such as _jit_compiled_convolution_op while saving (showing 1 of 1). These functions will not be directly callable after loading.\n"
          ]
        },
        {
          "output_type": "stream",
          "name": "stdout",
          "text": [
            "\b\b\b\b\b\b\b\b\b\b\b\b\b\b\b\b\b\b\b\b\b\b\b\b\b\b\b\b\b\b\b\b\b\b\b\b\b\b\b\b\b\b\b\b\b\b\b\b\b\b\b\b\b\b\b\b\b\b\b\b\b\b\b\b\b\b\b\b\b\b\b\b\b\b\b\b\b\b\b\b\b\b\b\b\r190/190 [==============================] - 26s 138ms/step - loss: 0.0667 - accuracy: 0.9714 - val_loss: 0.0730 - val_accuracy: 0.9690\n",
            "Epoch 18/20\n",
            "189/190 [============================>.] - ETA: 0s - loss: 0.0644 - accuracy: 0.9735\n",
            "Epoch 18: val_loss improved from 0.07303 to 0.07078, saving model to saved_models/nlp_model_8\n"
          ]
        },
        {
          "output_type": "stream",
          "name": "stderr",
          "text": [
            "WARNING:absl:Found untraced functions such as _jit_compiled_convolution_op while saving (showing 1 of 1). These functions will not be directly callable after loading.\n"
          ]
        },
        {
          "output_type": "stream",
          "name": "stdout",
          "text": [
            "\b\b\b\b\b\b\b\b\b\b\b\b\b\b\b\b\b\b\b\b\b\b\b\b\b\b\b\b\b\b\b\b\b\b\b\b\b\b\b\b\b\b\b\b\b\b\b\b\b\b\b\b\b\b\b\b\b\b\b\b\b\b\b\b\b\b\b\b\b\b\b\b\b\b\b\b\b\b\b\b\b\b\b\b\r190/190 [==============================] - 26s 138ms/step - loss: 0.0643 - accuracy: 0.9736 - val_loss: 0.0708 - val_accuracy: 0.9690\n",
            "Epoch 19/20\n",
            "189/190 [============================>.] - ETA: 0s - loss: 0.0620 - accuracy: 0.9740\n",
            "Epoch 19: val_loss improved from 0.07078 to 0.06737, saving model to saved_models/nlp_model_8\n"
          ]
        },
        {
          "output_type": "stream",
          "name": "stderr",
          "text": [
            "WARNING:absl:Found untraced functions such as _jit_compiled_convolution_op while saving (showing 1 of 1). These functions will not be directly callable after loading.\n"
          ]
        },
        {
          "output_type": "stream",
          "name": "stdout",
          "text": [
            "\b\b\b\b\b\b\b\b\b\b\b\b\b\b\b\b\b\b\b\b\b\b\b\b\b\b\b\b\b\b\b\b\b\b\b\b\b\b\b\b\b\b\b\b\b\b\b\b\b\b\b\b\b\b\b\b\b\b\b\b\b\b\b\b\b\b\b\b\b\b\b\b\b\b\b\b\b\b\b\b\b\b\b\b\r190/190 [==============================] - 26s 138ms/step - loss: 0.0619 - accuracy: 0.9741 - val_loss: 0.0674 - val_accuracy: 0.9690\n",
            "Epoch 20/20\n",
            "189/190 [============================>.] - ETA: 0s - loss: 0.0592 - accuracy: 0.9755\n",
            "Epoch 20: val_loss improved from 0.06737 to 0.06361, saving model to saved_models/nlp_model_8\n"
          ]
        },
        {
          "output_type": "stream",
          "name": "stderr",
          "text": [
            "WARNING:absl:Found untraced functions such as _jit_compiled_convolution_op while saving (showing 1 of 1). These functions will not be directly callable after loading.\n"
          ]
        },
        {
          "output_type": "stream",
          "name": "stdout",
          "text": [
            "\b\b\b\b\b\b\b\b\b\b\b\b\b\b\b\b\b\b\b\b\b\b\b\b\b\b\b\b\b\b\b\b\b\b\b\b\b\b\b\b\b\b\b\b\b\b\b\b\b\b\b\b\b\b\b\b\b\b\b\b\b\b\b\b\b\b\b\b\b\b\b\b\b\b\b\b\b\b\b\b\b\b\b\b\r190/190 [==============================] - 26s 137ms/step - loss: 0.0591 - accuracy: 0.9756 - val_loss: 0.0636 - val_accuracy: 0.9729\n"
          ]
        }
      ]
    },
    {
      "cell_type": "code",
      "source": [
        "model_8.evaluate(test_dataset)\n",
        "model_8_loaded = tf.keras.models.load_model(\"saved_models/nlp_model_8\")\n",
        "model_8_preds = model_8_loaded.predict(test_dataset)\n",
        "model_8_results = calculate_results(test_labels, tf.argmax(model_8_preds, axis=1))\n",
        "model_results_dataset['model_8'] = model_8_results"
      ],
      "metadata": {
        "colab": {
          "base_uri": "https://localhost:8080/"
        },
        "id": "lvC83b59YB_t",
        "outputId": "11603756-e6f8-49e7-bc43-8331f6cc3813"
      },
      "execution_count": 116,
      "outputs": [
        {
          "output_type": "stream",
          "name": "stdout",
          "text": [
            "48/48 [==============================] - 2s 50ms/step - loss: 1.2665 - accuracy: 0.6050\n",
            "48/48 [==============================] - 2s 42ms/step\n"
          ]
        }
      ]
    },
    {
      "cell_type": "code",
      "source": [
        "tf.keras.backend.clear_session()"
      ],
      "metadata": {
        "id": "7MGjFIlKY0Pz"
      },
      "execution_count": 117,
      "outputs": []
    },
    {
      "cell_type": "code",
      "source": [
        "\n",
        "# 1. Setup token inputs/model\n",
        "token_inputs = layers.Input(shape=[], dtype=tf.string, name=\"token_input\")\n",
        "token_embeddings = tf_hub_embedding_layer(token_inputs)\n",
        "token_output = layers.Dense(128, activation=\"relu\")(token_embeddings)\n",
        "token_model = tf.keras.Model(inputs=token_inputs,\n",
        "                             outputs=token_output)\n",
        "\n",
        "# 2. Setup char inputs/model\n",
        "char_inputs = layers.Input(shape=(1,), dtype=tf.string, name=\"char_input\")\n",
        "char_vectors = char_vectorizer(char_inputs)\n",
        "char_embeddings = char_embed(char_vectors)\n",
        "char_bi_lstm = layers.Bidirectional(layers.LSTM(25))(char_embeddings) # bi-LSTM shown in Figure 1 of https://arxiv.org/pdf/1612.05251.pdf\n",
        "char_model = tf.keras.Model(inputs=char_inputs,\n",
        "                            outputs=char_bi_lstm)\n",
        "\n",
        "# 3. Concatenate token and char inputs (create hybrid token embedding)\n",
        "token_char_concat = layers.Concatenate(name=\"token_char_hybrid\")([token_model.output, \n",
        "                                                                  char_model.output])\n",
        "\n",
        "# 4. Create output layers - addition of dropout discussed in 4.2 of https://arxiv.org/pdf/1612.05251.pdf\n",
        "combined_dropout = layers.Dropout(0.5)(token_char_concat)\n",
        "combined_dense = layers.Dense(200, activation=\"relu\")(combined_dropout) # slightly different to Figure 1 due to different shapes of token/char embedding layers\n",
        "final_dropout = layers.Dropout(0.5)(combined_dense)\n",
        "output_layer = layers.Dense(4, activation=\"softmax\")(final_dropout)\n",
        "\n",
        "# 5. Construct model with char and token inputs\n",
        "model_9 = tf.keras.Model(inputs=[token_model.input, char_model.input],\n",
        "                         outputs=output_layer,\n",
        "                         name=\"nlp_model_9\")"
      ],
      "metadata": {
        "id": "I8TLnNnaa4XR"
      },
      "execution_count": 118,
      "outputs": []
    },
    {
      "cell_type": "code",
      "source": [
        "# Compile token char model\n",
        "model_9.compile(loss=\"categorical_crossentropy\",\n",
        "                optimizer=tf.keras.optimizers.Adam(), # section 4.2 of https://arxiv.org/pdf/1612.05251.pdf mentions using SGD but we'll stick with Adam\n",
        "                metrics=[\"accuracy\"])"
      ],
      "metadata": {
        "id": "3lTMVK31a8aL"
      },
      "execution_count": 119,
      "outputs": []
    },
    {
      "cell_type": "code",
      "source": [
        "# Combine chars and tokens into a dataset\n",
        "train_char_token_data = tf.data.Dataset.from_tensor_slices((train_data, train_chars)) # make data\n",
        "train_char_token_labels = tf.data.Dataset.from_tensor_slices(train_labels_one_hot) # make labels\n",
        "train_char_token_dataset = tf.data.Dataset.zip((train_char_token_data, train_char_token_labels)) # combine data and labels\n",
        "\n",
        "# Prefetch and batch train data\n",
        "train_char_token_dataset = train_char_token_dataset.batch(32).prefetch(tf.data.AUTOTUNE) \n",
        "\n",
        "# Repeat same steps validation data\n",
        "val_char_token_data = tf.data.Dataset.from_tensor_slices((test_data, test_chars))\n",
        "val_char_token_labels = tf.data.Dataset.from_tensor_slices(test_labels_one_hot)\n",
        "val_char_token_dataset = tf.data.Dataset.zip((val_char_token_data, val_char_token_labels))\n",
        "val_char_token_dataset = val_char_token_dataset.batch(32).prefetch(tf.data.AUTOTUNE)"
      ],
      "metadata": {
        "id": "faAlmwUOa_C6"
      },
      "execution_count": 120,
      "outputs": []
    },
    {
      "cell_type": "code",
      "source": [
        "  history_9 = model_9.fit(train_char_token_dataset, epochs=20, validation_data=val_char_token_dataset, callbacks=return_callbacks(model_9.name))"
      ],
      "metadata": {
        "colab": {
          "base_uri": "https://localhost:8080/",
          "height": 744
        },
        "id": "wJskFpWVbSX7",
        "outputId": "8217a557-3f62-4ef5-fbfb-844a030a47d4"
      },
      "execution_count": 121,
      "outputs": [
        {
          "output_type": "stream",
          "name": "stdout",
          "text": [
            "Epoch 1/20\n"
          ]
        },
        {
          "output_type": "error",
          "ename": "ValueError",
          "evalue": "ignored",
          "traceback": [
            "\u001b[0;31m---------------------------------------------------------------------------\u001b[0m",
            "\u001b[0;31mValueError\u001b[0m                                Traceback (most recent call last)",
            "\u001b[0;32m<ipython-input-121-52aa9280dfc8>\u001b[0m in \u001b[0;36m<module>\u001b[0;34m\u001b[0m\n\u001b[0;32m----> 1\u001b[0;31m \u001b[0mhistory_9\u001b[0m \u001b[0;34m=\u001b[0m \u001b[0mmodel_9\u001b[0m\u001b[0;34m.\u001b[0m\u001b[0mfit\u001b[0m\u001b[0;34m(\u001b[0m\u001b[0mtrain_char_token_dataset\u001b[0m\u001b[0;34m,\u001b[0m \u001b[0mepochs\u001b[0m\u001b[0;34m=\u001b[0m\u001b[0;36m20\u001b[0m\u001b[0;34m,\u001b[0m \u001b[0mvalidation_data\u001b[0m\u001b[0;34m=\u001b[0m\u001b[0mval_char_token_dataset\u001b[0m\u001b[0;34m,\u001b[0m \u001b[0mcallbacks\u001b[0m\u001b[0;34m=\u001b[0m\u001b[0mreturn_callbacks\u001b[0m\u001b[0;34m(\u001b[0m\u001b[0mmodel_9\u001b[0m\u001b[0;34m.\u001b[0m\u001b[0mname\u001b[0m\u001b[0;34m)\u001b[0m\u001b[0;34m)\u001b[0m\u001b[0;34m\u001b[0m\u001b[0;34m\u001b[0m\u001b[0m\n\u001b[0m",
            "\u001b[0;32m/usr/local/lib/python3.8/dist-packages/keras/utils/traceback_utils.py\u001b[0m in \u001b[0;36merror_handler\u001b[0;34m(*args, **kwargs)\u001b[0m\n\u001b[1;32m     65\u001b[0m     \u001b[0;32mexcept\u001b[0m \u001b[0mException\u001b[0m \u001b[0;32mas\u001b[0m \u001b[0me\u001b[0m\u001b[0;34m:\u001b[0m  \u001b[0;31m# pylint: disable=broad-except\u001b[0m\u001b[0;34m\u001b[0m\u001b[0;34m\u001b[0m\u001b[0m\n\u001b[1;32m     66\u001b[0m       \u001b[0mfiltered_tb\u001b[0m \u001b[0;34m=\u001b[0m \u001b[0m_process_traceback_frames\u001b[0m\u001b[0;34m(\u001b[0m\u001b[0me\u001b[0m\u001b[0;34m.\u001b[0m\u001b[0m__traceback__\u001b[0m\u001b[0;34m)\u001b[0m\u001b[0;34m\u001b[0m\u001b[0;34m\u001b[0m\u001b[0m\n\u001b[0;32m---> 67\u001b[0;31m       \u001b[0;32mraise\u001b[0m \u001b[0me\u001b[0m\u001b[0;34m.\u001b[0m\u001b[0mwith_traceback\u001b[0m\u001b[0;34m(\u001b[0m\u001b[0mfiltered_tb\u001b[0m\u001b[0;34m)\u001b[0m \u001b[0;32mfrom\u001b[0m \u001b[0;32mNone\u001b[0m\u001b[0;34m\u001b[0m\u001b[0;34m\u001b[0m\u001b[0m\n\u001b[0m\u001b[1;32m     68\u001b[0m     \u001b[0;32mfinally\u001b[0m\u001b[0;34m:\u001b[0m\u001b[0;34m\u001b[0m\u001b[0;34m\u001b[0m\u001b[0m\n\u001b[1;32m     69\u001b[0m       \u001b[0;32mdel\u001b[0m \u001b[0mfiltered_tb\u001b[0m\u001b[0;34m\u001b[0m\u001b[0;34m\u001b[0m\u001b[0m\n",
            "\u001b[0;32m/usr/local/lib/python3.8/dist-packages/keras/engine/training.py\u001b[0m in \u001b[0;36mtf__train_function\u001b[0;34m(iterator)\u001b[0m\n\u001b[1;32m     13\u001b[0m                 \u001b[0;32mtry\u001b[0m\u001b[0;34m:\u001b[0m\u001b[0;34m\u001b[0m\u001b[0;34m\u001b[0m\u001b[0m\n\u001b[1;32m     14\u001b[0m                     \u001b[0mdo_return\u001b[0m \u001b[0;34m=\u001b[0m \u001b[0;32mTrue\u001b[0m\u001b[0;34m\u001b[0m\u001b[0;34m\u001b[0m\u001b[0m\n\u001b[0;32m---> 15\u001b[0;31m                     \u001b[0mretval_\u001b[0m \u001b[0;34m=\u001b[0m \u001b[0mag__\u001b[0m\u001b[0;34m.\u001b[0m\u001b[0mconverted_call\u001b[0m\u001b[0;34m(\u001b[0m\u001b[0mag__\u001b[0m\u001b[0;34m.\u001b[0m\u001b[0mld\u001b[0m\u001b[0;34m(\u001b[0m\u001b[0mstep_function\u001b[0m\u001b[0;34m)\u001b[0m\u001b[0;34m,\u001b[0m \u001b[0;34m(\u001b[0m\u001b[0mag__\u001b[0m\u001b[0;34m.\u001b[0m\u001b[0mld\u001b[0m\u001b[0;34m(\u001b[0m\u001b[0mself\u001b[0m\u001b[0;34m)\u001b[0m\u001b[0;34m,\u001b[0m \u001b[0mag__\u001b[0m\u001b[0;34m.\u001b[0m\u001b[0mld\u001b[0m\u001b[0;34m(\u001b[0m\u001b[0miterator\u001b[0m\u001b[0;34m)\u001b[0m\u001b[0;34m)\u001b[0m\u001b[0;34m,\u001b[0m \u001b[0;32mNone\u001b[0m\u001b[0;34m,\u001b[0m \u001b[0mfscope\u001b[0m\u001b[0;34m)\u001b[0m\u001b[0;34m\u001b[0m\u001b[0;34m\u001b[0m\u001b[0m\n\u001b[0m\u001b[1;32m     16\u001b[0m                 \u001b[0;32mexcept\u001b[0m\u001b[0;34m:\u001b[0m\u001b[0;34m\u001b[0m\u001b[0;34m\u001b[0m\u001b[0m\n\u001b[1;32m     17\u001b[0m                     \u001b[0mdo_return\u001b[0m \u001b[0;34m=\u001b[0m \u001b[0;32mFalse\u001b[0m\u001b[0;34m\u001b[0m\u001b[0;34m\u001b[0m\u001b[0m\n",
            "\u001b[0;31mValueError\u001b[0m: in user code:\n\n    File \"/usr/local/lib/python3.8/dist-packages/keras/engine/training.py\", line 1051, in train_function  *\n        return step_function(self, iterator)\n    File \"/usr/local/lib/python3.8/dist-packages/keras/engine/training.py\", line 1040, in step_function  **\n        outputs = model.distribute_strategy.run(run_step, args=(data,))\n    File \"/usr/local/lib/python3.8/dist-packages/keras/engine/training.py\", line 1030, in run_step  **\n        outputs = model.train_step(data)\n    File \"/usr/local/lib/python3.8/dist-packages/keras/engine/training.py\", line 890, in train_step\n        loss = self.compute_loss(x, y, y_pred, sample_weight)\n    File \"/usr/local/lib/python3.8/dist-packages/keras/engine/training.py\", line 948, in compute_loss\n        return self.compiled_loss(\n    File \"/usr/local/lib/python3.8/dist-packages/keras/engine/compile_utils.py\", line 201, in __call__\n        loss_value = loss_obj(y_t, y_p, sample_weight=sw)\n    File \"/usr/local/lib/python3.8/dist-packages/keras/losses.py\", line 139, in __call__\n        losses = call_fn(y_true, y_pred)\n    File \"/usr/local/lib/python3.8/dist-packages/keras/losses.py\", line 243, in call  **\n        return ag_fn(y_true, y_pred, **self._fn_kwargs)\n    File \"/usr/local/lib/python3.8/dist-packages/keras/losses.py\", line 1787, in categorical_crossentropy\n        return backend.categorical_crossentropy(\n    File \"/usr/local/lib/python3.8/dist-packages/keras/backend.py\", line 5119, in categorical_crossentropy\n        target.shape.assert_is_compatible_with(output.shape)\n\n    ValueError: Shapes (None, 3) and (None, 4) are incompatible\n"
          ]
        }
      ]
    },
    {
      "cell_type": "code",
      "source": [
        "tf.keras.backend.clear_session()"
      ],
      "metadata": {
        "id": "h8GBBNjibWcQ"
      },
      "execution_count": 122,
      "outputs": []
    },
    {
      "cell_type": "code",
      "source": [
        "model_10_embedding = tf.keras.layers.Embedding(input_dim=10000, output_dim=128, embeddings_initializer=\"uniform\", input_length=output_seq_length, name=\"embedding_6\")\n",
        "\n",
        "inputs = layers.Input(shape=(1,), dtype=tf.string)\n",
        "x = tv_layer(inputs)\n",
        "x = model_10_embedding(x)\n",
        "x = layers.Conv1D(128, 5, activation=\"relu\")(x)\n",
        "x = layers.MaxPooling1D(5)(x)\n",
        "x = layers.Conv1D(128, 5, activation=\"relu\")(x)\n",
        "x = layers.MaxPooling1D(5)(x)\n",
        "x = layers.Conv1D(128, 5, activation=\"relu\")(x)\n",
        "x = layers.GlobalMaxPooling1D()(x)\n",
        "x = layers.Dense(128, activation=\"relu\")(x)\n",
        "x = layers.Dropout(0.5)(x)\n",
        "preds = layers.Dense(NUM_CLASSES, activation=\"softmax\")(x)\n",
        "model_10 = tf.keras.Model(inputs, preds, name=\"nlp_model_10\")\n",
        "model_10.summary()"
      ],
      "metadata": {
        "colab": {
          "base_uri": "https://localhost:8080/"
        },
        "id": "9t80Ewahbefy",
        "outputId": "e9282278-8bd6-4c54-b391-80909df64b2f"
      },
      "execution_count": 126,
      "outputs": [
        {
          "output_type": "stream",
          "name": "stdout",
          "text": [
            "Model: \"nlp_model_10\"\n",
            "_________________________________________________________________\n",
            " Layer (type)                Output Shape              Param #   \n",
            "=================================================================\n",
            " input_4 (InputLayer)        [(None, 1)]               0         \n",
            "                                                                 \n",
            " text_vectorization_2 (TextV  (None, 3478)             0         \n",
            " ectorization)                                                   \n",
            "                                                                 \n",
            " embedding_6 (Embedding)     (None, 3478, 128)         1280000   \n",
            "                                                                 \n",
            " conv1d_3 (Conv1D)           (None, 3474, 128)         82048     \n",
            "                                                                 \n",
            " max_pooling1d_2 (MaxPooling  (None, 694, 128)         0         \n",
            " 1D)                                                             \n",
            "                                                                 \n",
            " conv1d_4 (Conv1D)           (None, 690, 128)          82048     \n",
            "                                                                 \n",
            " max_pooling1d_3 (MaxPooling  (None, 138, 128)         0         \n",
            " 1D)                                                             \n",
            "                                                                 \n",
            " conv1d_5 (Conv1D)           (None, 134, 128)          82048     \n",
            "                                                                 \n",
            " global_max_pooling1d_1 (Glo  (None, 128)              0         \n",
            " balMaxPooling1D)                                                \n",
            "                                                                 \n",
            " dense_2 (Dense)             (None, 128)               16512     \n",
            "                                                                 \n",
            " dropout_1 (Dropout)         (None, 128)               0         \n",
            "                                                                 \n",
            " dense_3 (Dense)             (None, 3)                 387       \n",
            "                                                                 \n",
            "=================================================================\n",
            "Total params: 1,543,043\n",
            "Trainable params: 1,543,043\n",
            "Non-trainable params: 0\n",
            "_________________________________________________________________\n"
          ]
        }
      ]
    },
    {
      "cell_type": "code",
      "source": [
        "model_10.compile(loss=\"categorical_crossentropy\", # if your labels are integer form (not one hot) use sparse_categorical_crossentropy\n",
        "                optimizer=tf.keras.optimizers.Adam(),\n",
        "                metrics=[\"accuracy\"])\n",
        "history_10 = model_10.fit(train_dataset, epochs=20, validation_data=test_dataset,callbacks=return_callbacks(model_10.name))"
      ],
      "metadata": {
        "colab": {
          "base_uri": "https://localhost:8080/"
        },
        "id": "Sf0FxShacTQm",
        "outputId": "cd374430-6b95-4f77-e5c8-780d3f8d13ae"
      },
      "execution_count": 127,
      "outputs": [
        {
          "output_type": "stream",
          "name": "stdout",
          "text": [
            "Epoch 1/20\n",
            "190/190 [==============================] - ETA: 0s - loss: 0.6477 - accuracy: 0.6585\n",
            "Epoch 1: val_loss improved from inf to 0.20720, saving model to saved_models/nlp_model_10\n"
          ]
        },
        {
          "output_type": "stream",
          "name": "stderr",
          "text": [
            "WARNING:absl:Found untraced functions such as _jit_compiled_convolution_op, _jit_compiled_convolution_op, _jit_compiled_convolution_op while saving (showing 3 of 3). These functions will not be directly callable after loading.\n"
          ]
        },
        {
          "output_type": "stream",
          "name": "stdout",
          "text": [
            "\b\b\b\b\b\b\b\b\b\b\b\b\b\b\b\b\b\b\b\b\b\b\b\b\b\b\b\b\b\b\b\b\b\b\b\b\b\b\b\b\b\b\b\b\b\b\b\b\b\b\b\b\b\b\b\b\b\b\b\b\b\b\b\b\b\b\b\b\b\b\b\b\b\b\b\b\b\b\b\b\b\b\b\b\r190/190 [==============================] - 14s 68ms/step - loss: 0.6477 - accuracy: 0.6585 - val_loss: 0.2072 - val_accuracy: 0.9174\n",
            "Epoch 2/20\n",
            "189/190 [============================>.] - ETA: 0s - loss: 0.1016 - accuracy: 0.9640\n",
            "Epoch 2: val_loss improved from 0.20720 to 0.04102, saving model to saved_models/nlp_model_10\n"
          ]
        },
        {
          "output_type": "stream",
          "name": "stderr",
          "text": [
            "WARNING:absl:Found untraced functions such as _jit_compiled_convolution_op, _jit_compiled_convolution_op, _jit_compiled_convolution_op while saving (showing 3 of 3). These functions will not be directly callable after loading.\n"
          ]
        },
        {
          "output_type": "stream",
          "name": "stdout",
          "text": [
            "\b\b\b\b\b\b\b\b\b\b\b\b\b\b\b\b\b\b\b\b\b\b\b\b\b\b\b\b\b\b\b\b\b\b\b\b\b\b\b\b\b\b\b\b\b\b\b\b\b\b\b\b\b\b\b\b\b\b\b\b\b\b\b\b\b\b\b\b\b\b\b\b\b\b\b\b\b\b\b\b\b\b\b\b\r190/190 [==============================] - 14s 72ms/step - loss: 0.1014 - accuracy: 0.9640 - val_loss: 0.0410 - val_accuracy: 0.9875\n",
            "Epoch 3/20\n",
            "189/190 [============================>.] - ETA: 0s - loss: 0.0325 - accuracy: 0.9893\n",
            "Epoch 3: val_loss improved from 0.04102 to 0.01627, saving model to saved_models/nlp_model_10\n"
          ]
        },
        {
          "output_type": "stream",
          "name": "stderr",
          "text": [
            "WARNING:absl:Found untraced functions such as _jit_compiled_convolution_op, _jit_compiled_convolution_op, _jit_compiled_convolution_op while saving (showing 3 of 3). These functions will not be directly callable after loading.\n"
          ]
        },
        {
          "output_type": "stream",
          "name": "stdout",
          "text": [
            "\b\b\b\b\b\b\b\b\b\b\b\b\b\b\b\b\b\b\b\b\b\b\b\b\b\b\b\b\b\b\b\b\b\b\b\b\b\b\b\b\b\b\b\b\b\b\b\b\b\b\b\b\b\b\b\b\b\b\b\b\b\b\b\b\b\b\b\b\b\b\b\b\b\b\b\b\b\b\b\b\b\b\b\b\r190/190 [==============================] - 12s 61ms/step - loss: 0.0325 - accuracy: 0.9893 - val_loss: 0.0163 - val_accuracy: 0.9914\n",
            "Epoch 4/20\n",
            "190/190 [==============================] - ETA: 0s - loss: 0.0242 - accuracy: 0.9914\n",
            "Epoch 4: val_loss did not improve from 0.01627\n",
            "190/190 [==============================] - 10s 51ms/step - loss: 0.0242 - accuracy: 0.9914 - val_loss: 0.0277 - val_accuracy: 0.9914\n",
            "Epoch 5/20\n",
            "189/190 [============================>.] - ETA: 0s - loss: 0.0166 - accuracy: 0.9929\n",
            "Epoch 5: val_loss improved from 0.01627 to 0.01059, saving model to saved_models/nlp_model_10\n"
          ]
        },
        {
          "output_type": "stream",
          "name": "stderr",
          "text": [
            "WARNING:absl:Found untraced functions such as _jit_compiled_convolution_op, _jit_compiled_convolution_op, _jit_compiled_convolution_op while saving (showing 3 of 3). These functions will not be directly callable after loading.\n"
          ]
        },
        {
          "output_type": "stream",
          "name": "stdout",
          "text": [
            "\b\b\b\b\b\b\b\b\b\b\b\b\b\b\b\b\b\b\b\b\b\b\b\b\b\b\b\b\b\b\b\b\b\b\b\b\b\b\b\b\b\b\b\b\b\b\b\b\b\b\b\b\b\b\b\b\b\b\b\b\b\b\b\b\b\b\b\b\b\b\b\b\b\b\b\b\b\b\b\b\b\b\b\b\r190/190 [==============================] - 11s 59ms/step - loss: 0.0166 - accuracy: 0.9929 - val_loss: 0.0106 - val_accuracy: 0.9921\n",
            "Epoch 6/20\n",
            "190/190 [==============================] - ETA: 0s - loss: 0.0141 - accuracy: 0.9936\n",
            "Epoch 6: val_loss did not improve from 0.01059\n",
            "190/190 [==============================] - 10s 51ms/step - loss: 0.0141 - accuracy: 0.9936 - val_loss: 0.0182 - val_accuracy: 0.9914\n",
            "Epoch 7/20\n",
            "189/190 [============================>.] - ETA: 0s - loss: 0.0188 - accuracy: 0.9926\n",
            "Epoch 7: val_loss did not improve from 0.01059\n",
            "190/190 [==============================] - 10s 54ms/step - loss: 0.0187 - accuracy: 0.9926 - val_loss: 0.0141 - val_accuracy: 0.9921\n",
            "Epoch 8/20\n",
            "190/190 [==============================] - ETA: 0s - loss: 0.0125 - accuracy: 0.9941\n",
            "Epoch 8: val_loss did not improve from 0.01059\n",
            "190/190 [==============================] - 10s 53ms/step - loss: 0.0125 - accuracy: 0.9941 - val_loss: 0.0306 - val_accuracy: 0.9947\n",
            "Epoch 9/20\n",
            "190/190 [==============================] - ETA: 0s - loss: 0.0139 - accuracy: 0.9932\n",
            "Epoch 9: val_loss improved from 0.01059 to 0.00606, saving model to saved_models/nlp_model_10\n"
          ]
        },
        {
          "output_type": "stream",
          "name": "stderr",
          "text": [
            "WARNING:absl:Found untraced functions such as _jit_compiled_convolution_op, _jit_compiled_convolution_op, _jit_compiled_convolution_op while saving (showing 3 of 3). These functions will not be directly callable after loading.\n"
          ]
        },
        {
          "output_type": "stream",
          "name": "stdout",
          "text": [
            "\b\b\b\b\b\b\b\b\b\b\b\b\b\b\b\b\b\b\b\b\b\b\b\b\b\b\b\b\b\b\b\b\b\b\b\b\b\b\b\b\b\b\b\b\b\b\b\b\b\b\b\b\b\b\b\b\b\b\b\b\b\b\b\b\b\b\b\b\b\b\b\b\b\b\b\b\b\b\b\b\b\b\b\b\r190/190 [==============================] - 11s 58ms/step - loss: 0.0139 - accuracy: 0.9932 - val_loss: 0.0061 - val_accuracy: 0.9960\n",
            "Epoch 10/20\n",
            "189/190 [============================>.] - ETA: 0s - loss: 0.0099 - accuracy: 0.9954\n",
            "Epoch 10: val_loss improved from 0.00606 to 0.00504, saving model to saved_models/nlp_model_10\n"
          ]
        },
        {
          "output_type": "stream",
          "name": "stderr",
          "text": [
            "WARNING:absl:Found untraced functions such as _jit_compiled_convolution_op, _jit_compiled_convolution_op, _jit_compiled_convolution_op while saving (showing 3 of 3). These functions will not be directly callable after loading.\n"
          ]
        },
        {
          "output_type": "stream",
          "name": "stdout",
          "text": [
            "\b\b\b\b\b\b\b\b\b\b\b\b\b\b\b\b\b\b\b\b\b\b\b\b\b\b\b\b\b\b\b\b\b\b\b\b\b\b\b\b\b\b\b\b\b\b\b\b\b\b\b\b\b\b\b\b\b\b\b\b\b\b\b\b\b\b\b\b\b\b\b\b\b\b\b\b\b\b\b\b\b\b\b\b\r190/190 [==============================] - 11s 58ms/step - loss: 0.0098 - accuracy: 0.9954 - val_loss: 0.0050 - val_accuracy: 0.9974\n",
            "Epoch 11/20\n",
            "190/190 [==============================] - ETA: 0s - loss: 0.0076 - accuracy: 0.9957\n",
            "Epoch 11: val_loss did not improve from 0.00504\n",
            "190/190 [==============================] - 10s 51ms/step - loss: 0.0076 - accuracy: 0.9957 - val_loss: 0.0056 - val_accuracy: 0.9960\n",
            "Epoch 12/20\n",
            "189/190 [============================>.] - ETA: 0s - loss: 0.0079 - accuracy: 0.9954\n",
            "Epoch 12: val_loss did not improve from 0.00504\n",
            "190/190 [==============================] - 10s 50ms/step - loss: 0.0079 - accuracy: 0.9954 - val_loss: 0.0080 - val_accuracy: 0.9947\n",
            "Epoch 13/20\n",
            "190/190 [==============================] - ETA: 0s - loss: 0.0075 - accuracy: 0.9957\n",
            "Epoch 13: val_loss improved from 0.00504 to 0.00461, saving model to saved_models/nlp_model_10\n"
          ]
        },
        {
          "output_type": "stream",
          "name": "stderr",
          "text": [
            "WARNING:absl:Found untraced functions such as _jit_compiled_convolution_op, _jit_compiled_convolution_op, _jit_compiled_convolution_op while saving (showing 3 of 3). These functions will not be directly callable after loading.\n"
          ]
        },
        {
          "output_type": "stream",
          "name": "stdout",
          "text": [
            "\b\b\b\b\b\b\b\b\b\b\b\b\b\b\b\b\b\b\b\b\b\b\b\b\b\b\b\b\b\b\b\b\b\b\b\b\b\b\b\b\b\b\b\b\b\b\b\b\b\b\b\b\b\b\b\b\b\b\b\b\b\b\b\b\b\b\b\b\b\b\b\b\b\b\b\b\b\b\b\b\b\b\b\b\r190/190 [==============================] - 11s 58ms/step - loss: 0.0075 - accuracy: 0.9957 - val_loss: 0.0046 - val_accuracy: 0.9980\n",
            "Epoch 14/20\n",
            "190/190 [==============================] - ETA: 0s - loss: 0.0067 - accuracy: 0.9952\n",
            "Epoch 14: val_loss improved from 0.00461 to 0.00429, saving model to saved_models/nlp_model_10\n"
          ]
        },
        {
          "output_type": "stream",
          "name": "stderr",
          "text": [
            "WARNING:absl:Found untraced functions such as _jit_compiled_convolution_op, _jit_compiled_convolution_op, _jit_compiled_convolution_op while saving (showing 3 of 3). These functions will not be directly callable after loading.\n"
          ]
        },
        {
          "output_type": "stream",
          "name": "stdout",
          "text": [
            "\b\b\b\b\b\b\b\b\b\b\b\b\b\b\b\b\b\b\b\b\b\b\b\b\b\b\b\b\b\b\b\b\b\b\b\b\b\b\b\b\b\b\b\b\b\b\b\b\b\b\b\b\b\b\b\b\b\b\b\b\b\b\b\b\b\b\b\b\b\b\b\b\b\b\b\b\b\b\b\b\b\b\b\b\r190/190 [==============================] - 11s 58ms/step - loss: 0.0067 - accuracy: 0.9952 - val_loss: 0.0043 - val_accuracy: 0.9980\n",
            "Epoch 15/20\n",
            "190/190 [==============================] - ETA: 0s - loss: 0.0063 - accuracy: 0.9960\n",
            "Epoch 15: val_loss did not improve from 0.00429\n",
            "190/190 [==============================] - 10s 51ms/step - loss: 0.0063 - accuracy: 0.9960 - val_loss: 0.0048 - val_accuracy: 0.9987\n",
            "Epoch 16/20\n",
            "190/190 [==============================] - ETA: 0s - loss: 0.0087 - accuracy: 0.9964\n",
            "Epoch 16: val_loss did not improve from 0.00429\n",
            "190/190 [==============================] - 10s 50ms/step - loss: 0.0087 - accuracy: 0.9964 - val_loss: 0.0068 - val_accuracy: 0.9974\n",
            "Epoch 17/20\n",
            "190/190 [==============================] - ETA: 0s - loss: 0.0538 - accuracy: 0.9850\n",
            "Epoch 17: val_loss did not improve from 0.00429\n",
            "190/190 [==============================] - 10s 50ms/step - loss: 0.0538 - accuracy: 0.9850 - val_loss: 0.0168 - val_accuracy: 0.9934\n",
            "Epoch 18/20\n",
            "189/190 [============================>.] - ETA: 0s - loss: 0.0085 - accuracy: 0.9952\n",
            "Epoch 18: val_loss did not improve from 0.00429\n",
            "190/190 [==============================] - 10s 50ms/step - loss: 0.0085 - accuracy: 0.9952 - val_loss: 0.0070 - val_accuracy: 0.9941\n",
            "Epoch 19/20\n",
            "189/190 [============================>.] - ETA: 0s - loss: 0.0050 - accuracy: 0.9977\n",
            "Epoch 19: val_loss did not improve from 0.00429\n",
            "Restoring model weights from the end of the best epoch: 14.\n",
            "190/190 [==============================] - 10s 51ms/step - loss: 0.0050 - accuracy: 0.9977 - val_loss: 0.0044 - val_accuracy: 0.9967\n",
            "Epoch 19: early stopping\n"
          ]
        }
      ]
    },
    {
      "cell_type": "code",
      "source": [
        "model_10.evaluate(test_dataset)\n",
        "model_10_loaded = tf.keras.models.load_model(\"saved_models/nlp_model_10\")\n",
        "model_10_preds = model_10_loaded.predict(test_dataset)\n",
        "model_10_results = calculate_results(test_labels, tf.argmax(model_10_preds, axis=1))\n",
        "model_results_dataset['model_10'] = model_10_results"
      ],
      "metadata": {
        "colab": {
          "base_uri": "https://localhost:8080/"
        },
        "id": "aeN1ZK_Wc3N_",
        "outputId": "b5b2e9e9-7248-4261-be97-e5d2c07545f2"
      },
      "execution_count": 128,
      "outputs": [
        {
          "output_type": "stream",
          "name": "stdout",
          "text": [
            "48/48 [==============================] - 1s 30ms/step - loss: 0.0043 - accuracy: 0.9980\n",
            "48/48 [==============================] - 1s 26ms/step\n"
          ]
        }
      ]
    },
    {
      "cell_type": "code",
      "source": [
        "dataframe = pd.DataFrame(model_results_dataset).T\n",
        "dataframe['accuracy'] = dataframe['accuracy'].div(100)\n",
        "dataframe"
      ],
      "metadata": {
        "colab": {
          "base_uri": "https://localhost:8080/",
          "height": 363
        },
        "id": "EyBJ00oqdE9_",
        "outputId": "5fc93179-7f20-4bcf-ff19-2e404e48fcef"
      },
      "execution_count": 135,
      "outputs": [
        {
          "output_type": "execute_result",
          "data": {
            "text/plain": [
              "          accuracy  precision    recall  f1_score\n",
              "model_0   0.925363   0.925739  0.925363  0.925213\n",
              "model_1   0.957067   0.957330  0.957067  0.957053\n",
              "model_2   0.974240   0.974511  0.974240  0.974208\n",
              "model_3   0.894320   0.919304  0.894320  0.897437\n",
              "model_4   0.981506   0.981506  0.981506  0.981504\n",
              "model_5   0.998018   0.998029  0.998018  0.998018\n",
              "model_6   0.978203   0.978206  0.978203  0.978199\n",
              "model_7   0.950462   0.950454  0.950462  0.950453\n",
              "model_8   0.605020   0.544834  0.605020  0.506291\n",
              "model_10  0.998018   0.998029  0.998018  0.998018"
            ],
            "text/html": [
              "\n",
              "  <div id=\"df-d0c0e782-948b-4b2a-a0f8-21d6efe332e6\">\n",
              "    <div class=\"colab-df-container\">\n",
              "      <div>\n",
              "<style scoped>\n",
              "    .dataframe tbody tr th:only-of-type {\n",
              "        vertical-align: middle;\n",
              "    }\n",
              "\n",
              "    .dataframe tbody tr th {\n",
              "        vertical-align: top;\n",
              "    }\n",
              "\n",
              "    .dataframe thead th {\n",
              "        text-align: right;\n",
              "    }\n",
              "</style>\n",
              "<table border=\"1\" class=\"dataframe\">\n",
              "  <thead>\n",
              "    <tr style=\"text-align: right;\">\n",
              "      <th></th>\n",
              "      <th>accuracy</th>\n",
              "      <th>precision</th>\n",
              "      <th>recall</th>\n",
              "      <th>f1_score</th>\n",
              "    </tr>\n",
              "  </thead>\n",
              "  <tbody>\n",
              "    <tr>\n",
              "      <th>model_0</th>\n",
              "      <td>0.925363</td>\n",
              "      <td>0.925739</td>\n",
              "      <td>0.925363</td>\n",
              "      <td>0.925213</td>\n",
              "    </tr>\n",
              "    <tr>\n",
              "      <th>model_1</th>\n",
              "      <td>0.957067</td>\n",
              "      <td>0.957330</td>\n",
              "      <td>0.957067</td>\n",
              "      <td>0.957053</td>\n",
              "    </tr>\n",
              "    <tr>\n",
              "      <th>model_2</th>\n",
              "      <td>0.974240</td>\n",
              "      <td>0.974511</td>\n",
              "      <td>0.974240</td>\n",
              "      <td>0.974208</td>\n",
              "    </tr>\n",
              "    <tr>\n",
              "      <th>model_3</th>\n",
              "      <td>0.894320</td>\n",
              "      <td>0.919304</td>\n",
              "      <td>0.894320</td>\n",
              "      <td>0.897437</td>\n",
              "    </tr>\n",
              "    <tr>\n",
              "      <th>model_4</th>\n",
              "      <td>0.981506</td>\n",
              "      <td>0.981506</td>\n",
              "      <td>0.981506</td>\n",
              "      <td>0.981504</td>\n",
              "    </tr>\n",
              "    <tr>\n",
              "      <th>model_5</th>\n",
              "      <td>0.998018</td>\n",
              "      <td>0.998029</td>\n",
              "      <td>0.998018</td>\n",
              "      <td>0.998018</td>\n",
              "    </tr>\n",
              "    <tr>\n",
              "      <th>model_6</th>\n",
              "      <td>0.978203</td>\n",
              "      <td>0.978206</td>\n",
              "      <td>0.978203</td>\n",
              "      <td>0.978199</td>\n",
              "    </tr>\n",
              "    <tr>\n",
              "      <th>model_7</th>\n",
              "      <td>0.950462</td>\n",
              "      <td>0.950454</td>\n",
              "      <td>0.950462</td>\n",
              "      <td>0.950453</td>\n",
              "    </tr>\n",
              "    <tr>\n",
              "      <th>model_8</th>\n",
              "      <td>0.605020</td>\n",
              "      <td>0.544834</td>\n",
              "      <td>0.605020</td>\n",
              "      <td>0.506291</td>\n",
              "    </tr>\n",
              "    <tr>\n",
              "      <th>model_10</th>\n",
              "      <td>0.998018</td>\n",
              "      <td>0.998029</td>\n",
              "      <td>0.998018</td>\n",
              "      <td>0.998018</td>\n",
              "    </tr>\n",
              "  </tbody>\n",
              "</table>\n",
              "</div>\n",
              "      <button class=\"colab-df-convert\" onclick=\"convertToInteractive('df-d0c0e782-948b-4b2a-a0f8-21d6efe332e6')\"\n",
              "              title=\"Convert this dataframe to an interactive table.\"\n",
              "              style=\"display:none;\">\n",
              "        \n",
              "  <svg xmlns=\"http://www.w3.org/2000/svg\" height=\"24px\"viewBox=\"0 0 24 24\"\n",
              "       width=\"24px\">\n",
              "    <path d=\"M0 0h24v24H0V0z\" fill=\"none\"/>\n",
              "    <path d=\"M18.56 5.44l.94 2.06.94-2.06 2.06-.94-2.06-.94-.94-2.06-.94 2.06-2.06.94zm-11 1L8.5 8.5l.94-2.06 2.06-.94-2.06-.94L8.5 2.5l-.94 2.06-2.06.94zm10 10l.94 2.06.94-2.06 2.06-.94-2.06-.94-.94-2.06-.94 2.06-2.06.94z\"/><path d=\"M17.41 7.96l-1.37-1.37c-.4-.4-.92-.59-1.43-.59-.52 0-1.04.2-1.43.59L10.3 9.45l-7.72 7.72c-.78.78-.78 2.05 0 2.83L4 21.41c.39.39.9.59 1.41.59.51 0 1.02-.2 1.41-.59l7.78-7.78 2.81-2.81c.8-.78.8-2.07 0-2.86zM5.41 20L4 18.59l7.72-7.72 1.47 1.35L5.41 20z\"/>\n",
              "  </svg>\n",
              "      </button>\n",
              "      \n",
              "  <style>\n",
              "    .colab-df-container {\n",
              "      display:flex;\n",
              "      flex-wrap:wrap;\n",
              "      gap: 12px;\n",
              "    }\n",
              "\n",
              "    .colab-df-convert {\n",
              "      background-color: #E8F0FE;\n",
              "      border: none;\n",
              "      border-radius: 50%;\n",
              "      cursor: pointer;\n",
              "      display: none;\n",
              "      fill: #1967D2;\n",
              "      height: 32px;\n",
              "      padding: 0 0 0 0;\n",
              "      width: 32px;\n",
              "    }\n",
              "\n",
              "    .colab-df-convert:hover {\n",
              "      background-color: #E2EBFA;\n",
              "      box-shadow: 0px 1px 2px rgba(60, 64, 67, 0.3), 0px 1px 3px 1px rgba(60, 64, 67, 0.15);\n",
              "      fill: #174EA6;\n",
              "    }\n",
              "\n",
              "    [theme=dark] .colab-df-convert {\n",
              "      background-color: #3B4455;\n",
              "      fill: #D2E3FC;\n",
              "    }\n",
              "\n",
              "    [theme=dark] .colab-df-convert:hover {\n",
              "      background-color: #434B5C;\n",
              "      box-shadow: 0px 1px 3px 1px rgba(0, 0, 0, 0.15);\n",
              "      filter: drop-shadow(0px 1px 2px rgba(0, 0, 0, 0.3));\n",
              "      fill: #FFFFFF;\n",
              "    }\n",
              "  </style>\n",
              "\n",
              "      <script>\n",
              "        const buttonEl =\n",
              "          document.querySelector('#df-d0c0e782-948b-4b2a-a0f8-21d6efe332e6 button.colab-df-convert');\n",
              "        buttonEl.style.display =\n",
              "          google.colab.kernel.accessAllowed ? 'block' : 'none';\n",
              "\n",
              "        async function convertToInteractive(key) {\n",
              "          const element = document.querySelector('#df-d0c0e782-948b-4b2a-a0f8-21d6efe332e6');\n",
              "          const dataTable =\n",
              "            await google.colab.kernel.invokeFunction('convertToInteractive',\n",
              "                                                     [key], {});\n",
              "          if (!dataTable) return;\n",
              "\n",
              "          const docLinkHtml = 'Like what you see? Visit the ' +\n",
              "            '<a target=\"_blank\" href=https://colab.research.google.com/notebooks/data_table.ipynb>data table notebook</a>'\n",
              "            + ' to learn more about interactive tables.';\n",
              "          element.innerHTML = '';\n",
              "          dataTable['output_type'] = 'display_data';\n",
              "          await google.colab.output.renderOutput(dataTable, element);\n",
              "          const docLink = document.createElement('div');\n",
              "          docLink.innerHTML = docLinkHtml;\n",
              "          element.appendChild(docLink);\n",
              "        }\n",
              "      </script>\n",
              "    </div>\n",
              "  </div>\n",
              "  "
            ]
          },
          "metadata": {},
          "execution_count": 135
        }
      ]
    },
    {
      "cell_type": "code",
      "source": [
        "dataframe.plot.bar()"
      ],
      "metadata": {
        "colab": {
          "base_uri": "https://localhost:8080/",
          "height": 321
        },
        "id": "ISCZAyhveBGn",
        "outputId": "7c680af7-b560-4863-c574-4c7048d1328f"
      },
      "execution_count": 136,
      "outputs": [
        {
          "output_type": "execute_result",
          "data": {
            "text/plain": [
              "<matplotlib.axes._subplots.AxesSubplot at 0x7f7854867370>"
            ]
          },
          "metadata": {},
          "execution_count": 136
        },
        {
          "output_type": "display_data",
          "data": {
            "text/plain": [
              "<Figure size 432x288 with 1 Axes>"
            ],
            "image/png": "[encoded data removed]"
          },
          "metadata": {
            "needs_background": "light"
          }
        }
      ]
    },
    {
      "cell_type": "code",
      "source": [],
      "metadata": {
        "id": "ZGs39iW9ecPr"
      },
      "execution_count": null,
      "outputs": []
    }
  ]
}