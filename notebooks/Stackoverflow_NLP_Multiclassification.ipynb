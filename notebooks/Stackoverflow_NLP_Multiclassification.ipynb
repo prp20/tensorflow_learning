{
 "cells": [
  {
   "cell_type": "code",
   "execution_count": 1,
   "id": "cb017c31",
   "metadata": {},
   "outputs": [
    {
     "name": "stdout",
     "output_type": "stream",
     "text": [
      "GPU 0: NVIDIA GeForce GTX 1660 Ti (UUID: GPU-2a3d1dcb-c220-642c-91e9-cb51a54e9757)\n"
     ]
    }
   ],
   "source": [
    "!nvidia-smi -L"
   ]
  },
  {
   "cell_type": "code",
   "execution_count": 2,
   "id": "39d7cd8a",
   "metadata": {},
   "outputs": [],
   "source": [
    "import matplotlib.pyplot as plt\n",
    "import os\n",
    "import re\n",
    "import shutil\n",
    "import string\n",
    "import tensorflow as tf\n",
    "\n",
    "from tensorflow.keras import layers\n",
    "from tensorflow.keras import losses\n",
    "\n",
    "%matplotlib inline"
   ]
  },
  {
   "cell_type": "code",
   "execution_count": null,
   "id": "c17a8c10",
   "metadata": {},
   "outputs": [],
   "source": []
  },
  {
   "cell_type": "code",
   "execution_count": 2,
   "id": "651f1375",
   "metadata": {},
   "outputs": [],
   "source": [
    "url = \"https://storage.googleapis.com/download.tensorflow.org/data/stack_overflow_16k.tar.gz\"\n",
    "\n",
    "dataset = tf.keras.utils.get_file(\"../datasets/stack_overflow_dataset/stack_overflow_16k\", url,\n",
    "                                    untar=True, cache_dir='.',\n",
    "                                    cache_subdir='')\n",
    "dataset\n",
    "dataset_dir = os.path.join(os.path.dirname(dataset), 'stack_overflow_dataset')"
   ]
  },
  {
   "cell_type": "code",
   "execution_count": 3,
   "id": "5b26163c",
   "metadata": {},
   "outputs": [
    {
     "data": {
      "text/plain": [
       "['csharp', 'java', 'javascript', 'python']"
      ]
     },
     "execution_count": 3,
     "metadata": {},
     "output_type": "execute_result"
    }
   ],
   "source": [
    "train_dir = \"./train\"\n",
    "test_dir = \"./test\"\n",
    "\n",
    "os.listdir(train_dir)"
   ]
  },
  {
   "cell_type": "code",
   "execution_count": 4,
   "id": "635d925b",
   "metadata": {},
   "outputs": [
    {
     "name": "stdout",
     "output_type": "stream",
     "text": [
      "Found 8000 files belonging to 4 classes.\n",
      "Using 6400 files for training.\n",
      "Found 8000 files belonging to 4 classes.\n",
      "Using 1600 files for validation.\n"
     ]
    }
   ],
   "source": [
    "batch_size = 32\n",
    "seed = 42\n",
    "\n",
    "raw_train_ds = tf.keras.utils.text_dataset_from_directory(\n",
    "    train_dir, \n",
    "    batch_size=batch_size, \n",
    "    validation_split=0.2, \n",
    "    subset='training', \n",
    "    seed=seed)\n",
    "\n",
    "raw_val_ds = tf.keras.utils.text_dataset_from_directory(\n",
    "    test_dir, \n",
    "    batch_size=batch_size, \n",
    "    validation_split=0.2, \n",
    "    subset='validation', \n",
    "    seed=seed)"
   ]
  },
  {
   "cell_type": "code",
   "execution_count": 5,
   "id": "69155bac",
   "metadata": {},
   "outputs": [
    {
     "name": "stdout",
     "output_type": "stream",
     "text": [
      "Review b'\"my tester is going to the wrong constructor i am new to programming so if i ask a question that can be easily fixed, please forgive me. my program has a tester class with a main. when i send that to my regularpolygon class, it sends it to the wrong constructor. i have two constructors. 1 without perameters..public regularpolygon().    {.       mynumsides = 5;.       mysidelength = 30;.    }//end default constructor...and my second, with perameters. ..public regularpolygon(int numsides, double sidelength).    {.        mynumsides = numsides;.        mysidelength = sidelength;.    }// end constructor...in my tester class i have these two lines:..regularpolygon shape = new regularpolygon(numsides, sidelength);.        shape.menu();...numsides and sidelength were declared and initialized earlier in the testing class...so what i want to happen, is the tester class sends numsides and sidelength to the second constructor and use it in that class. but it only uses the default constructor, which therefor ruins the whole rest of the program. can somebody help me?..for those of you who want to see more of my code: here you go..public double vertexangle().    {.        system.out.println(\"\"the vertex angle method: \"\" + mynumsides);// prints out 5.        system.out.println(\"\"the vertex angle method: \"\" + mysidelength); // prints out 30..        double vertexangle;.        vertexangle = ((mynumsides - 2.0) / mynumsides) * 180.0;.        return vertexangle;.    }//end method vertexangle..public void menu().{.    system.out.println(mynumsides); // prints out what the user puts in.    system.out.println(mysidelength); // prints out what the user puts in.    gotographic();.    calcr(mynumsides, mysidelength);.    calcr(mynumsides, mysidelength);.    print(); .}// end menu...this is my entire tester class:..public static void main(string[] arg).{.    int numsides;.    double sidelength;.    scanner keyboard = new scanner(system.in);..    system.out.println(\"\"welcome to the regular polygon program!\"\");.    system.out.println();..    system.out.print(\"\"enter the number of sides of the polygon ==&gt; \"\");.    numsides = keyboard.nextint();.    system.out.println();..    system.out.print(\"\"enter the side length of each side ==&gt; \"\");.    sidelength = keyboard.nextdouble();.    system.out.println();..    regularpolygon shape = new regularpolygon(numsides, sidelength);.    shape.menu();.}//end main...for testing it i sent it numsides 4 and sidelength 100.\"\\n'\n",
      "Label 1\n",
      "Review b'\"blank code slow skin detection this code changes the color space to lab and using a threshold finds the skin area of an image. but it\\'s ridiculously slow. i don\\'t know how to make it faster ?    ..from colormath.color_objects import *..def skindetection(img, treshold=80, color=[255,20,147]):..    print img.shape.    res=img.copy().    for x in range(img.shape[0]):.        for y in range(img.shape[1]):.            rgbimg=rgbcolor(img[x,y,0],img[x,y,1],img[x,y,2]).            labimg=rgbimg.convert_to(\\'lab\\', debug=false).            if (labimg.lab_l &gt; treshold):.                res[x,y,:]=color.            else: .                res[x,y,:]=img[x,y,:]..    return res\"\\n'\n",
      "Label 3\n",
      "Review b'\"option and validation in blank i want to add a new option on my system where i want to add two text files, both rental.txt and customer.txt. inside each text are id numbers of the customer, the videotape they need and the price...i want to place it as an option on my code. right now i have:...add customer.rent return.view list.search.exit...i want to add this as my sixth option. say for example i ordered a video, it would display the price and would let me confirm the price and if i am going to buy it or not...here is my current code:..  import blank.io.*;.    import blank.util.arraylist;.    import static blank.lang.system.out;..    public class rentalsystem{.    static bufferedreader input = new bufferedreader(new inputstreamreader(system.in));.    static file file = new file(\"\"file.txt\"\");.    static arraylist&lt;string&gt; list = new arraylist&lt;string&gt;();.    static int rows;..    public static void main(string[] args) throws exception{.        introduction();.        system.out.print(\"\"nn\"\");.        login();.        system.out.print(\"\"nnnnnnnnnnnnnnnnnnnnnn\"\");.        introduction();.        string repeat;.        do{.            loadfile();.            system.out.print(\"\"nwhat do you want to do?nn\"\");.            system.out.print(\"\"n                    - - - - - - - - - - - - - - - - - - - - - - -\"\");.            system.out.print(\"\"nn                    |     1. add customer    |   2. rent return |n\"\");.            system.out.print(\"\"n                    - - - - - - - - - - - - - - - - - - - - - - -\"\");.            system.out.print(\"\"nn                    |     3. view list       |   4. search      |n\"\");.            system.out.print(\"\"n                    - - - - - - - - - - - - - - - - - - - - - - -\"\");.            system.out.print(\"\"nn                                             |   5. exit        |n\"\");.            system.out.print(\"\"n                                              - - - - - - - - - -\"\");.            system.out.print(\"\"nnchoice:\"\");.            int choice = integer.parseint(input.readline());.            switch(choice){.                case 1:.                    writedata();.                    break;.                case 2:.                    rentdata();.                    break;.                case 3:.                    viewlist();.                    break;.                case 4:.                    search();.                    break;.                case 5:.                    system.out.println(\"\"goodbye!\"\");.                    system.exit(0);.                default:.                    system.out.print(\"\"invalid choice: \"\");.                    break;.            }.            system.out.print(\"\"ndo another task? [y/n] \"\");.            repeat = input.readline();.        }while(repeat.equals(\"\"y\"\"));..        if(repeat!=\"\"y\"\") system.out.println(\"\"ngoodbye!\"\");..    }..    public static void writedata() throws exception{.        system.out.print(\"\"nname: \"\");.        string cname = input.readline();.        system.out.print(\"\"address: \"\");.        string add = input.readline();.        system.out.print(\"\"phone no.: \"\");.        string pno = input.readline();.        system.out.print(\"\"rental amount: \"\");.        string ramount = input.readline();.        system.out.print(\"\"tapenumber: \"\");.        string tno = input.readline();.        system.out.print(\"\"title: \"\");.        string title = input.readline();.        system.out.print(\"\"date borrowed: \"\");.        string dborrowed = input.readline();.        system.out.print(\"\"due date: \"\");.        string ddate = input.readline();.        createline(cname, add, pno, ramount,tno, title, dborrowed, ddate);.        rentdata();.    }..    public static void createline(string name, string address, string phone , string rental, string tapenumber, string title, string borrowed, string due) throws exception{.        filewriter fw = new filewriter(file, true);.        fw.write(\"\"nname: \"\"+name + \"\"naddress: \"\" + address +\"\"nphone no.: \"\"+ phone+\"\"nrentalamount: \"\"+rental+\"\"ntape no.: \"\"+ tapenumber+\"\"ntitle: \"\"+ title+\"\"ndate borrowed: \"\"+borrowed +\"\"ndue date: \"\"+ due+\"\":rn\"\");.        fw.close();.    }..    public static void loadfile() throws exception{.        try{.            list.clear();.            fileinputstream fstream = new fileinputstream(file);.            bufferedreader br = new bufferedreader(new inputstreamreader(fstream));.            rows = 0;.            while( br.ready()).            {.                list.add(br.readline());.                rows++;.            }.            br.close();.        } catch(exception e){.            system.out.println(\"\"list not yet loaded.\"\");.        }.    }..    public static void viewlist(){.        system.out.print(\"\"n~ ~ ~ ~ ~ ~ ~ ~ ~ ~ ~\"\");.        system.out.print(\"\" |list of all costumers|\"\");.        system.out.print(\"\"~ ~ ~ ~ ~ ~ ~ ~ ~ ~ ~\"\");.        for(int i = 0; i &lt;rows; i++){.            system.out.println(list.get(i));.        }.    }.        public static void rentdata()throws exception.    {   system.out.print(\"\"n~ ~ ~ ~ ~ ~ ~ ~ ~ ~ ~\"\");.        system.out.print(\"\" |rent data list|\"\");.        system.out.print(\"\"~ ~ ~ ~ ~ ~ ~ ~ ~ ~ ~\"\");.        system.out.print(\"\"nenter customer name: \"\");.        string cname = input.readline();.        system.out.print(\"\"date borrowed: \"\");.        string dborrowed = input.readline();.        system.out.print(\"\"due date: \"\");.        string ddate = input.readline();.        system.out.print(\"\"return date: \"\");.        string rdate = input.readline();.        system.out.print(\"\"rent amount: \"\");.        string ramount = input.readline();..        system.out.print(\"\"you pay:\"\"+ramount);...    }.    public static void search()throws exception.    {   system.out.print(\"\"n~ ~ ~ ~ ~ ~ ~ ~ ~ ~ ~\"\");.        system.out.print(\"\" |search costumers|\"\");.        system.out.print(\"\"~ ~ ~ ~ ~ ~ ~ ~ ~ ~ ~\"\");.        system.out.print(\"\"nenter costumer name: \"\");.        string cname = input.readline();.        boolean found = false;..        for(int i=0; i &lt; rows; i++){.            string temp[] = list.get(i).split(\"\",\"\");..            if(cname.equals(temp[0])){.            system.out.println(\"\"search result:nyou are \"\" + temp[0] + \"\" from \"\" + temp[1] + \"\".\"\"+ temp[2] + \"\".\"\"+ temp[3] + \"\".\"\"+ temp[4] + \"\".\"\"+ temp[5] + \"\" is \"\" + temp[6] + \"\".\"\"+ temp[7] + \"\" is \"\" + temp[8] + \"\".\"\");.                found = true;.            }.        }..        if(!found){.            system.out.print(\"\"no results.\"\");.        }..    }..        public static boolean evaluate(string uname, string pass){.        if (uname.equals(\"\"admin\"\")&amp;&amp;pass.equals(\"\"12345\"\")) return true;.        else return false;.    }..    public static string login()throws exception{.        bufferedreader input=new bufferedreader(new inputstreamreader(system.in));.        int counter=0;.        do{.            system.out.print(\"\"username:\"\");.            string uname =input.readline();.            system.out.print(\"\"password:\"\");.            string pass =input.readline();..            boolean accept= evaluate(uname,pass);..            if(accept){.                break;.                }else{.                    system.out.println(\"\"incorrect username or password!\"\");.                    counter ++;.                    }.        }while(counter&lt;3);..            if(counter !=3) return \"\"login successful\"\";.            else return \"\"login failed\"\";.            }.        public static void introduction() throws exception{..        system.out.println(\"\"                  - - - - - - - - - - - - - - - - - - - - - - - - -\"\");.        system.out.println(\"\"                  !                  r e n t a l                  !\"\");.        system.out.println(\"\"                   ! ~ ~ ~ ~ ~ !  =================  ! ~ ~ ~ ~ ~ !\"\");.        system.out.println(\"\"                  !                  s y s t e m                  !\"\");.        system.out.println(\"\"                  - - - - - - - - - - - - - - - - - - - - - - - - -\"\");.        }..}\"\\n'\n",
      "Label 1\n"
     ]
    }
   ],
   "source": [
    "for text_batch, label_batch in raw_train_ds.take(1):\n",
    "  for i in range(3):\n",
    "    print(\"Review\", text_batch.numpy()[i])\n",
    "    print(\"Label\", label_batch.numpy()[i])"
   ]
  },
  {
   "cell_type": "code",
   "execution_count": 6,
   "id": "169d8cab",
   "metadata": {},
   "outputs": [
    {
     "name": "stdout",
     "output_type": "stream",
     "text": [
      "Label 0 corresponds to csharp\n",
      "Label 1 corresponds to java\n",
      "Label 1 corresponds to javascript\n",
      "Label 1 corresponds to python\n"
     ]
    }
   ],
   "source": [
    "print(\"Label 0 corresponds to\", raw_train_ds.class_names[0])\n",
    "print(\"Label 1 corresponds to\", raw_train_ds.class_names[1])\n",
    "print(\"Label 1 corresponds to\", raw_train_ds.class_names[2])\n",
    "print(\"Label 1 corresponds to\", raw_train_ds.class_names[3])"
   ]
  },
  {
   "cell_type": "code",
   "execution_count": 7,
   "id": "bcba8495",
   "metadata": {},
   "outputs": [],
   "source": [
    "def custom_standardization(input_data):\n",
    "  lowercase = tf.strings.lower(input_data)\n",
    "  stripped_html = tf.strings.regex_replace(lowercase, '<br />', ' ')\n",
    "  return tf.strings.regex_replace(stripped_html,\n",
    "                                  '[%s]' % re.escape(string.punctuation),\n",
    "                                  '')"
   ]
  },
  {
   "cell_type": "code",
   "execution_count": 8,
   "id": "99fa6c0f",
   "metadata": {},
   "outputs": [],
   "source": [
    "max_features = 10000\n",
    "sequence_length = 250\n",
    "\n",
    "vectorize_layer = layers.TextVectorization(\n",
    "    standardize=custom_standardization,\n",
    "    max_tokens=max_features,\n",
    "    output_mode='int',\n",
    "    output_sequence_length=sequence_length)"
   ]
  },
  {
   "cell_type": "code",
   "execution_count": 9,
   "id": "eb802de2",
   "metadata": {},
   "outputs": [],
   "source": [
    "# Make a text-only dataset (without labels), then call adapt\n",
    "train_text = raw_train_ds.map(lambda x, y: x)\n",
    "vectorize_layer.adapt(train_text)"
   ]
  },
  {
   "cell_type": "code",
   "execution_count": 10,
   "id": "59c158e9",
   "metadata": {},
   "outputs": [],
   "source": [
    "def vectorize_text(text, label):\n",
    "  text = tf.expand_dims(text, -1)\n",
    "  return vectorize_layer(text), label"
   ]
  },
  {
   "cell_type": "code",
   "execution_count": 11,
   "id": "79f7c434",
   "metadata": {},
   "outputs": [
    {
     "name": "stdout",
     "output_type": "stream",
     "text": [
      "Review tf.Tensor(b'\"set blank to quit on exception? i\\'m using blank 3..i\\'ve been looking around for an answer to this, but i haven\\'t found it yet. basically, i\\'m running several blank scripts into a game engine, and each script has its own entry point...i\\'d rather not add try: except blocks through all of my code, so i was wondering if it\\'s at all possible to tell blank to quit (or perhaps assign a custom function to that \"\"callback\"\") on finding its first error, regardless of where or what it found? ..currently, the game engine will continue after finding and hitting an error, making it more difficult than necessary to diagnose issues since running into one error may make a subsequent script not work (as it relies on variables that the error-ing script set, for example). any ideas? ..i know that i could redirect the console to a file to allow for easier scrolling, but just capturing the first error and stopping the game prematurely would be really useful...okay, a couple of extra bits of info - sorry for neglecting to say this. the engine i\\'m using (the blender game engine) is coded in c, so changing the source is more than i\\'d like to do.....after googling, it would appear that a similar question with a solid answer has been asked here, which is how to get the last raised exception. if i check the sys module for the presence of the last_value variable and it exists, then i can quit prematurely, as the console would have already printed out the error...thanks for the help.\"\\n', shape=(), dtype=string)\n",
      "Label python\n",
      "Vectorized review (<tf.Tensor: shape=(1, 250), dtype=int64, numpy=\n",
      "array([[ 107,   16,    4, 1139,   37,  184,   52,   47,   16,    1,  215,\n",
      "         417,  518,   12,   32,  182,    4,   13,   26,    3, 1416,  227,\n",
      "          11,  894,  627,   52,  309,  718,   16, 1274,  100,    5,  244,\n",
      "        1826,    8,  119,  224,   95,   97,  657,  858,    1,  797,   20,\n",
      "         125,  117,  559, 2282,  194,   73,    9,   23,   30,   50,    3,\n",
      "         115,  566,   10,   97,   59,   73,  204,    4,  412,   16,    4,\n",
      "        1139,   45, 1670,  601,    5,  694,   38,    4,   14,  851,   37,\n",
      "         967,   97,   98,   65, 2374,    9,  132,   45,   55,   11,  227,\n",
      "         401,    2,  244, 1826,   72,  534,  156,  967,    8, 7808,   32,\n",
      "          65,  468,   11,  181, 2332,  198, 1461,    4,    1, 1093,  447,\n",
      "         309,  100,   71,   65,  454,  109,    5, 3560,  224,   20,  139,\n",
      "          36,   11, 9052,   37,  233,   14,    2,    1,  224,  107,   12,\n",
      "         137,   76,  779,    3,  102,   14,    3,  176, 1853,    2,  332,\n",
      "           4,    5,   39,    4,  787,   12, 1320, 3579,   26,  106,    1,\n",
      "           2,   98,   65,    8, 2902,    2,  244,    1,   69,   33,  336,\n",
      "           1,    5, 1759,    9, 1157, 2531,    9,  568,  729,   12,    1,\n",
      "           4,  321,   13,    2, 1826,   52,   47,    2,    1,  244, 1826,\n",
      "           6, 2619,    7,  131,   50,  801,    2,  313,    6,  181,  198,\n",
      "         142,   48,    4,    1, 3965,   11,   69,  882,   14,    5,  520,\n",
      "         159,   21,    5, 1706,  182,   95,  215,  912,  101,   66,    6,\n",
      "          24,    4,   41,    2,  218, 2918,  184,   10,    3,  186,    2,\n",
      "        1358,  380,   12,    2, 9151,    9,    2,    1,  116,    8,   11,\n",
      "         758,   87,    3,   35, 1139,    1,   36,    2]], dtype=int64)>, <tf.Tensor: shape=(), dtype=int32, numpy=3>)\n"
     ]
    }
   ],
   "source": [
    "# retrieve a batch (of 32 reviews and labels) from the dataset\n",
    "text_batch, label_batch = next(iter(raw_train_ds))\n",
    "first_review, first_label = text_batch[0], label_batch[0]\n",
    "print(\"Review\", first_review)\n",
    "print(\"Label\", raw_train_ds.class_names[first_label])\n",
    "print(\"Vectorized review\", vectorize_text(first_review, first_label))"
   ]
  },
  {
   "cell_type": "code",
   "execution_count": 11,
   "id": "5fd4e5c4",
   "metadata": {},
   "outputs": [
    {
     "name": "stdout",
     "output_type": "stream",
     "text": [
      "1287 --->  scissors\n",
      " 313 --->  source\n",
      "Vocabulary size: 10000\n"
     ]
    }
   ],
   "source": [
    "print(\"1287 ---> \",vectorize_layer.get_vocabulary()[1287])\n",
    "print(\" 313 ---> \",vectorize_layer.get_vocabulary()[313])\n",
    "print('Vocabulary size: {}'.format(len(vectorize_layer.get_vocabulary())))"
   ]
  },
  {
   "cell_type": "code",
   "execution_count": 12,
   "id": "28ef701c",
   "metadata": {},
   "outputs": [],
   "source": [
    "train_ds = raw_train_ds.map(vectorize_text)\n",
    "val_ds = raw_val_ds.map(vectorize_text)"
   ]
  },
  {
   "cell_type": "code",
   "execution_count": 13,
   "id": "37b2ef8c",
   "metadata": {},
   "outputs": [],
   "source": [
    "AUTOTUNE = tf.data.AUTOTUNE\n",
    "\n",
    "train_ds = train_ds.cache().prefetch(buffer_size=AUTOTUNE)\n",
    "val_ds = val_ds.cache().prefetch(buffer_size=AUTOTUNE)"
   ]
  },
  {
   "cell_type": "code",
   "execution_count": 14,
   "id": "416d6268",
   "metadata": {},
   "outputs": [
    {
     "name": "stdout",
     "output_type": "stream",
     "text": [
      "Model: \"sequential\"\n",
      "_________________________________________________________________\n",
      " Layer (type)                Output Shape              Param #   \n",
      "=================================================================\n",
      " embedding (Embedding)       (None, None, 16)          160016    \n",
      "                                                                 \n",
      " dropout (Dropout)           (None, None, 16)          0         \n",
      "                                                                 \n",
      " global_average_pooling1d (G  (None, 16)               0         \n",
      " lobalAveragePooling1D)                                          \n",
      "                                                                 \n",
      " dropout_1 (Dropout)         (None, 16)                0         \n",
      "                                                                 \n",
      " dense (Dense)               (None, 4)                 68        \n",
      "                                                                 \n",
      "=================================================================\n",
      "Total params: 160,084\n",
      "Trainable params: 160,084\n",
      "Non-trainable params: 0\n",
      "_________________________________________________________________\n"
     ]
    }
   ],
   "source": [
    "model = tf.keras.Sequential([\n",
    "  layers.Embedding(max_features + 1, 16),\n",
    "  layers.Dropout(0.2),\n",
    "  layers.GlobalAveragePooling1D(),\n",
    "  layers.Dropout(0.2),\n",
    "  layers.Dense(4)])\n",
    "\n",
    "model.summary()"
   ]
  },
  {
   "cell_type": "code",
   "execution_count": 15,
   "id": "dc3f8a82",
   "metadata": {},
   "outputs": [],
   "source": [
    "model.compile(loss=losses.SparseCategoricalCrossentropy(from_logits=True),\n",
    "              optimizer='adam',\n",
    "              metrics=['accuracy'])"
   ]
  },
  {
   "cell_type": "code",
   "execution_count": 16,
   "id": "7ef5b50b",
   "metadata": {},
   "outputs": [
    {
     "name": "stdout",
     "output_type": "stream",
     "text": [
      "Epoch 1/30\n",
      "200/200 [==============================] - 3s 13ms/step - loss: 1.3805 - accuracy: 0.3414 - val_loss: 1.3721 - val_accuracy: 0.4431\n",
      "Epoch 2/30\n",
      "200/200 [==============================] - 1s 3ms/step - loss: 1.3543 - accuracy: 0.4605 - val_loss: 1.3356 - val_accuracy: 0.4944\n",
      "Epoch 3/30\n",
      "200/200 [==============================] - 0s 2ms/step - loss: 1.3032 - accuracy: 0.5323 - val_loss: 1.2766 - val_accuracy: 0.5750\n",
      "Epoch 4/30\n",
      "200/200 [==============================] - 1s 3ms/step - loss: 1.2326 - accuracy: 0.5836 - val_loss: 1.2055 - val_accuracy: 0.6106\n",
      "Epoch 5/30\n",
      "200/200 [==============================] - 0s 2ms/step - loss: 1.1550 - accuracy: 0.6308 - val_loss: 1.1306 - val_accuracy: 0.6475\n",
      "Epoch 6/30\n",
      "200/200 [==============================] - 0s 2ms/step - loss: 1.0763 - accuracy: 0.6662 - val_loss: 1.0610 - val_accuracy: 0.6900\n",
      "Epoch 7/30\n",
      "200/200 [==============================] - 0s 2ms/step - loss: 1.0071 - accuracy: 0.7075 - val_loss: 0.9980 - val_accuracy: 0.7113\n",
      "Epoch 8/30\n",
      "200/200 [==============================] - 1s 3ms/step - loss: 0.9398 - accuracy: 0.7277 - val_loss: 0.9441 - val_accuracy: 0.7256\n",
      "Epoch 9/30\n",
      "200/200 [==============================] - 0s 2ms/step - loss: 0.8827 - accuracy: 0.7489 - val_loss: 0.8952 - val_accuracy: 0.7344\n",
      "Epoch 10/30\n",
      "200/200 [==============================] - 1s 3ms/step - loss: 0.8302 - accuracy: 0.7648 - val_loss: 0.8537 - val_accuracy: 0.7425\n",
      "Epoch 11/30\n",
      "200/200 [==============================] - 0s 2ms/step - loss: 0.7858 - accuracy: 0.7792 - val_loss: 0.8160 - val_accuracy: 0.7525\n",
      "Epoch 12/30\n",
      "200/200 [==============================] - 0s 2ms/step - loss: 0.7462 - accuracy: 0.7866 - val_loss: 0.7840 - val_accuracy: 0.7613\n",
      "Epoch 13/30\n",
      "200/200 [==============================] - 0s 2ms/step - loss: 0.7090 - accuracy: 0.7986 - val_loss: 0.7557 - val_accuracy: 0.7663\n",
      "Epoch 14/30\n",
      "200/200 [==============================] - 0s 2ms/step - loss: 0.6758 - accuracy: 0.8102 - val_loss: 0.7300 - val_accuracy: 0.7700\n",
      "Epoch 15/30\n",
      "200/200 [==============================] - 0s 2ms/step - loss: 0.6438 - accuracy: 0.8197 - val_loss: 0.7072 - val_accuracy: 0.7763\n",
      "Epoch 16/30\n",
      "200/200 [==============================] - 0s 2ms/step - loss: 0.6190 - accuracy: 0.8294 - val_loss: 0.6861 - val_accuracy: 0.7750\n",
      "Epoch 17/30\n",
      "200/200 [==============================] - 1s 2ms/step - loss: 0.5937 - accuracy: 0.8323 - val_loss: 0.6689 - val_accuracy: 0.7775\n",
      "Epoch 18/30\n",
      "200/200 [==============================] - 0s 2ms/step - loss: 0.5696 - accuracy: 0.8448 - val_loss: 0.6518 - val_accuracy: 0.7825\n",
      "Epoch 19/30\n",
      "200/200 [==============================] - 1s 3ms/step - loss: 0.5479 - accuracy: 0.8461 - val_loss: 0.6375 - val_accuracy: 0.7850\n",
      "Epoch 20/30\n",
      "200/200 [==============================] - 0s 2ms/step - loss: 0.5278 - accuracy: 0.8542 - val_loss: 0.6230 - val_accuracy: 0.7875\n",
      "Epoch 21/30\n",
      "200/200 [==============================] - 1s 3ms/step - loss: 0.5058 - accuracy: 0.8623 - val_loss: 0.6109 - val_accuracy: 0.7931\n",
      "Epoch 22/30\n",
      "200/200 [==============================] - 0s 2ms/step - loss: 0.4880 - accuracy: 0.8716 - val_loss: 0.6007 - val_accuracy: 0.7919\n",
      "Epoch 23/30\n",
      "200/200 [==============================] - 1s 3ms/step - loss: 0.4719 - accuracy: 0.8734 - val_loss: 0.5913 - val_accuracy: 0.7937\n",
      "Epoch 24/30\n",
      "200/200 [==============================] - 0s 2ms/step - loss: 0.4569 - accuracy: 0.8766 - val_loss: 0.5811 - val_accuracy: 0.8019\n",
      "Epoch 25/30\n",
      "200/200 [==============================] - 1s 3ms/step - loss: 0.4403 - accuracy: 0.8833 - val_loss: 0.5727 - val_accuracy: 0.8019\n",
      "Epoch 26/30\n",
      "200/200 [==============================] - 0s 2ms/step - loss: 0.4271 - accuracy: 0.8817 - val_loss: 0.5647 - val_accuracy: 0.8044\n",
      "Epoch 27/30\n",
      "200/200 [==============================] - 1s 3ms/step - loss: 0.4119 - accuracy: 0.8916 - val_loss: 0.5584 - val_accuracy: 0.8044\n",
      "Epoch 28/30\n",
      "200/200 [==============================] - 1s 3ms/step - loss: 0.3982 - accuracy: 0.8953 - val_loss: 0.5523 - val_accuracy: 0.8069\n",
      "Epoch 29/30\n",
      "200/200 [==============================] - 1s 3ms/step - loss: 0.3843 - accuracy: 0.9006 - val_loss: 0.5447 - val_accuracy: 0.8037\n",
      "Epoch 30/30\n",
      "200/200 [==============================] - 0s 2ms/step - loss: 0.3734 - accuracy: 0.9034 - val_loss: 0.5405 - val_accuracy: 0.8044\n"
     ]
    }
   ],
   "source": [
    "epochs = 30\n",
    "history = model.fit(\n",
    "    train_ds,\n",
    "    validation_data=val_ds,\n",
    "    epochs=epochs)"
   ]
  },
  {
   "cell_type": "code",
   "execution_count": 17,
   "id": "9de660be",
   "metadata": {},
   "outputs": [
    {
     "name": "stdout",
     "output_type": "stream",
     "text": [
      "50/50 [==============================] - 0s 1ms/step - loss: 0.5405 - accuracy: 0.8044\n",
      "Loss:  0.5404895544052124\n",
      "Accuracy:  0.8043749928474426\n"
     ]
    }
   ],
   "source": [
    "loss, accuracy = model.evaluate(val_ds)\n",
    "\n",
    "print(\"Loss: \", loss)\n",
    "print(\"Accuracy: \", accuracy)"
   ]
  },
  {
   "cell_type": "code",
   "execution_count": 18,
   "id": "7aebf1b9",
   "metadata": {},
   "outputs": [
    {
     "name": "stdout",
     "output_type": "stream",
     "text": [
      "Model: \"sequential\"\n",
      "_________________________________________________________________\n",
      " Layer (type)                Output Shape              Param #   \n",
      "=================================================================\n",
      " embedding (Embedding)       (None, None, 16)          160016    \n",
      "                                                                 \n",
      " dropout (Dropout)           (None, None, 16)          0         \n",
      "                                                                 \n",
      " global_average_pooling1d (G  (None, 16)               0         \n",
      " lobalAveragePooling1D)                                          \n",
      "                                                                 \n",
      " dropout_1 (Dropout)         (None, 16)                0         \n",
      "                                                                 \n",
      " dense (Dense)               (None, 4)                 68        \n",
      "                                                                 \n",
      "=================================================================\n",
      "Total params: 160,084\n",
      "Trainable params: 160,084\n",
      "Non-trainable params: 0\n",
      "_________________________________________________________________\n"
     ]
    }
   ],
   "source": [
    "model_1 = tf.keras.Sequential([\n",
    "  layers.Embedding(max_features + 1, 16),\n",
    "  layers.GlobalAveragePooling1D(),\n",
    "  layers.Dense(4)])\n",
    "model_1.compile(loss=losses.SparseCategoricalCrossentropy(from_logits=True),\n",
    "              optimizer='adam',\n",
    "              metrics=['accuracy'])\n",
    "model.summary()"
   ]
  },
  {
   "cell_type": "code",
   "execution_count": 19,
   "id": "a06fb456",
   "metadata": {
    "scrolled": true
   },
   "outputs": [
    {
     "name": "stdout",
     "output_type": "stream",
     "text": [
      "Epoch 1/30\n",
      "200/200 [==============================] - 1s 2ms/step - loss: 1.3756 - accuracy: 0.3556 - val_loss: 1.3623 - val_accuracy: 0.4506\n",
      "Epoch 2/30\n",
      "200/200 [==============================] - 0s 2ms/step - loss: 1.3369 - accuracy: 0.4931 - val_loss: 1.3123 - val_accuracy: 0.5362\n",
      "Epoch 3/30\n",
      "200/200 [==============================] - 0s 2ms/step - loss: 1.2710 - accuracy: 0.5533 - val_loss: 1.2400 - val_accuracy: 0.5975\n",
      "Epoch 4/30\n",
      "200/200 [==============================] - 0s 2ms/step - loss: 1.1876 - accuracy: 0.6119 - val_loss: 1.1590 - val_accuracy: 0.6456\n",
      "Epoch 5/30\n",
      "200/200 [==============================] - 0s 2ms/step - loss: 1.0999 - accuracy: 0.6698 - val_loss: 1.0801 - val_accuracy: 0.6850\n",
      "Epoch 6/30\n",
      "200/200 [==============================] - 0s 2ms/step - loss: 1.0161 - accuracy: 0.7100 - val_loss: 1.0085 - val_accuracy: 0.7144\n",
      "Epoch 7/30\n",
      "200/200 [==============================] - 0s 2ms/step - loss: 0.9400 - accuracy: 0.7402 - val_loss: 0.9455 - val_accuracy: 0.7294\n",
      "Epoch 8/30\n",
      "200/200 [==============================] - 0s 2ms/step - loss: 0.8725 - accuracy: 0.7584 - val_loss: 0.8911 - val_accuracy: 0.7344\n",
      "Epoch 9/30\n",
      "200/200 [==============================] - 0s 2ms/step - loss: 0.8134 - accuracy: 0.7747 - val_loss: 0.8445 - val_accuracy: 0.7444\n",
      "Epoch 10/30\n",
      "200/200 [==============================] - 0s 2ms/step - loss: 0.7617 - accuracy: 0.7881 - val_loss: 0.8044 - val_accuracy: 0.7525\n",
      "Epoch 11/30\n",
      "200/200 [==============================] - 0s 1ms/step - loss: 0.7161 - accuracy: 0.8027 - val_loss: 0.7698 - val_accuracy: 0.7575\n",
      "Epoch 12/30\n",
      "200/200 [==============================] - 0s 2ms/step - loss: 0.6756 - accuracy: 0.8136 - val_loss: 0.7397 - val_accuracy: 0.7613\n",
      "Epoch 13/30\n",
      "200/200 [==============================] - 0s 2ms/step - loss: 0.6394 - accuracy: 0.8250 - val_loss: 0.7134 - val_accuracy: 0.7644\n",
      "Epoch 14/30\n",
      "200/200 [==============================] - 0s 1ms/step - loss: 0.6068 - accuracy: 0.8333 - val_loss: 0.6903 - val_accuracy: 0.7706\n",
      "Epoch 15/30\n",
      "200/200 [==============================] - 0s 2ms/step - loss: 0.5771 - accuracy: 0.8419 - val_loss: 0.6698 - val_accuracy: 0.7756\n",
      "Epoch 16/30\n",
      "200/200 [==============================] - 0s 2ms/step - loss: 0.5498 - accuracy: 0.8500 - val_loss: 0.6516 - val_accuracy: 0.7844\n",
      "Epoch 17/30\n",
      "200/200 [==============================] - 0s 2ms/step - loss: 0.5247 - accuracy: 0.8586 - val_loss: 0.6354 - val_accuracy: 0.7856\n",
      "Epoch 18/30\n",
      "200/200 [==============================] - 0s 2ms/step - loss: 0.5015 - accuracy: 0.8684 - val_loss: 0.6208 - val_accuracy: 0.7869\n",
      "Epoch 19/30\n",
      "200/200 [==============================] - 0s 2ms/step - loss: 0.4798 - accuracy: 0.8734 - val_loss: 0.6078 - val_accuracy: 0.7906\n",
      "Epoch 20/30\n",
      "200/200 [==============================] - 0s 1ms/step - loss: 0.4596 - accuracy: 0.8805 - val_loss: 0.5960 - val_accuracy: 0.7937\n",
      "Epoch 21/30\n",
      "200/200 [==============================] - 0s 2ms/step - loss: 0.4406 - accuracy: 0.8867 - val_loss: 0.5854 - val_accuracy: 0.7956\n",
      "Epoch 22/30\n",
      "200/200 [==============================] - 0s 2ms/step - loss: 0.4227 - accuracy: 0.8931 - val_loss: 0.5759 - val_accuracy: 0.7987\n",
      "Epoch 23/30\n",
      "200/200 [==============================] - 0s 2ms/step - loss: 0.4059 - accuracy: 0.8980 - val_loss: 0.5673 - val_accuracy: 0.8019\n",
      "Epoch 24/30\n",
      "200/200 [==============================] - 0s 2ms/step - loss: 0.3899 - accuracy: 0.9013 - val_loss: 0.5596 - val_accuracy: 0.8000\n",
      "Epoch 25/30\n",
      "200/200 [==============================] - 0s 2ms/step - loss: 0.3748 - accuracy: 0.9062 - val_loss: 0.5527 - val_accuracy: 0.8000\n",
      "Epoch 26/30\n",
      "200/200 [==============================] - 0s 2ms/step - loss: 0.3604 - accuracy: 0.9109 - val_loss: 0.5464 - val_accuracy: 0.8012\n",
      "Epoch 27/30\n",
      "200/200 [==============================] - 0s 2ms/step - loss: 0.3467 - accuracy: 0.9152 - val_loss: 0.5408 - val_accuracy: 0.8019\n",
      "Epoch 28/30\n",
      "200/200 [==============================] - 0s 2ms/step - loss: 0.3337 - accuracy: 0.9192 - val_loss: 0.5359 - val_accuracy: 0.8025\n",
      "Epoch 29/30\n",
      "200/200 [==============================] - 0s 2ms/step - loss: 0.3212 - accuracy: 0.9225 - val_loss: 0.5315 - val_accuracy: 0.8037\n",
      "Epoch 30/30\n",
      "200/200 [==============================] - 0s 2ms/step - loss: 0.3094 - accuracy: 0.9250 - val_loss: 0.5276 - val_accuracy: 0.8037\n"
     ]
    }
   ],
   "source": [
    "epochs = 30\n",
    "history_1 = model_1.fit(\n",
    "    train_ds,\n",
    "    validation_data=val_ds,\n",
    "    epochs=epochs)"
   ]
  },
  {
   "cell_type": "code",
   "execution_count": 20,
   "id": "d7d0b7e8",
   "metadata": {},
   "outputs": [
    {
     "name": "stdout",
     "output_type": "stream",
     "text": [
      "50/50 [==============================] - 0s 679us/step - loss: 0.5276 - accuracy: 0.8037\n",
      "Loss:  0.5275871157646179\n",
      "Accuracy:  0.8037499785423279\n"
     ]
    }
   ],
   "source": [
    "loss, accuracy = model_1.evaluate(val_ds)\n",
    "\n",
    "print(\"Loss: \", loss)\n",
    "print(\"Accuracy: \", accuracy)"
   ]
  },
  {
   "cell_type": "code",
   "execution_count": 23,
   "id": "7b83595b",
   "metadata": {},
   "outputs": [
    {
     "name": "stdout",
     "output_type": "stream",
     "text": [
      "Model: \"sequential_3\"\n",
      "_________________________________________________________________\n",
      " Layer (type)                Output Shape              Param #   \n",
      "=================================================================\n",
      " embedding_3 (Embedding)     (None, None, 128)         1280128   \n",
      "                                                                 \n",
      " lstm_2 (LSTM)               (None, None, 64)          49408     \n",
      "                                                                 \n",
      " lstm_3 (LSTM)               (None, 64)                33024     \n",
      "                                                                 \n",
      " dense_4 (Dense)             (None, 64)                4160      \n",
      "                                                                 \n",
      " dense_5 (Dense)             (None, 4)                 260       \n",
      "                                                                 \n",
      "=================================================================\n",
      "Total params: 1,366,980\n",
      "Trainable params: 1,366,980\n",
      "Non-trainable params: 0\n",
      "_________________________________________________________________\n"
     ]
    }
   ],
   "source": [
    "model_2 = tf.keras.Sequential([\n",
    "  layers.Embedding(max_features + 1, 128),\n",
    "  layers.LSTM(units=64, return_sequences=True),\n",
    "  layers.LSTM(64),\n",
    "  layers.Dense(64, activation='relu'),\n",
    "  layers.Dense(4)])\n",
    "model_2.compile(loss=losses.SparseCategoricalCrossentropy(from_logits=True),\n",
    "              optimizer='adam',\n",
    "              metrics=['accuracy'])\n",
    "model_2.summary()"
   ]
  },
  {
   "cell_type": "code",
   "execution_count": 24,
   "id": "dedd9d5e",
   "metadata": {},
   "outputs": [
    {
     "name": "stdout",
     "output_type": "stream",
     "text": [
      "Epoch 1/30\n",
      "200/200 [==============================] - 45s 214ms/step - loss: 1.3852 - accuracy: 0.2583 - val_loss: 1.3833 - val_accuracy: 0.2463\n",
      "Epoch 2/30\n",
      "200/200 [==============================] - 43s 213ms/step - loss: 1.3641 - accuracy: 0.2870 - val_loss: 1.3644 - val_accuracy: 0.2606\n",
      "Epoch 3/30\n",
      "200/200 [==============================] - 43s 214ms/step - loss: 1.3388 - accuracy: 0.3052 - val_loss: 1.2865 - val_accuracy: 0.3219\n",
      "Epoch 4/30\n",
      "200/200 [==============================] - 45s 226ms/step - loss: 1.2332 - accuracy: 0.3931 - val_loss: 1.2768 - val_accuracy: 0.4100\n",
      "Epoch 5/30\n",
      "200/200 [==============================] - 45s 226ms/step - loss: 1.2707 - accuracy: 0.3884 - val_loss: 1.2965 - val_accuracy: 0.3644\n",
      "Epoch 6/30\n",
      "200/200 [==============================] - 45s 224ms/step - loss: 1.3070 - accuracy: 0.3648 - val_loss: 1.3074 - val_accuracy: 0.3350\n",
      "Epoch 7/30\n",
      "200/200 [==============================] - 45s 223ms/step - loss: 1.3057 - accuracy: 0.3628 - val_loss: 1.3087 - val_accuracy: 0.3325\n",
      "Epoch 8/30\n",
      "200/200 [==============================] - 45s 224ms/step - loss: 1.2767 - accuracy: 0.3787 - val_loss: 1.2299 - val_accuracy: 0.4094\n",
      "Epoch 9/30\n",
      "200/200 [==============================] - 45s 227ms/step - loss: 1.2742 - accuracy: 0.3664 - val_loss: 1.3162 - val_accuracy: 0.3187\n",
      "Epoch 10/30\n",
      "200/200 [==============================] - 47s 235ms/step - loss: 1.3565 - accuracy: 0.2991 - val_loss: 1.3894 - val_accuracy: 0.2594\n",
      "Epoch 11/30\n",
      "200/200 [==============================] - 47s 236ms/step - loss: 1.3859 - accuracy: 0.2481 - val_loss: 1.3889 - val_accuracy: 0.2606\n",
      "Epoch 12/30\n",
      "200/200 [==============================] - 46s 231ms/step - loss: 1.3837 - accuracy: 0.2619 - val_loss: 1.3867 - val_accuracy: 0.2600\n",
      "Epoch 13/30\n",
      "200/200 [==============================] - 46s 229ms/step - loss: 1.3577 - accuracy: 0.2819 - val_loss: 1.3833 - val_accuracy: 0.2519\n",
      "Epoch 14/30\n",
      "200/200 [==============================] - 45s 227ms/step - loss: 1.3493 - accuracy: 0.2862 - val_loss: 1.3707 - val_accuracy: 0.2512\n",
      "Epoch 15/30\n",
      "200/200 [==============================] - 48s 241ms/step - loss: 1.2965 - accuracy: 0.3361 - val_loss: 1.2342 - val_accuracy: 0.4075\n",
      "Epoch 16/30\n",
      "200/200 [==============================] - 48s 240ms/step - loss: 1.1507 - accuracy: 0.4458 - val_loss: 1.1140 - val_accuracy: 0.4825\n",
      "Epoch 17/30\n",
      "200/200 [==============================] - 48s 241ms/step - loss: 0.9700 - accuracy: 0.5820 - val_loss: 1.0161 - val_accuracy: 0.5956\n",
      "Epoch 18/30\n",
      "200/200 [==============================] - 47s 234ms/step - loss: 0.7793 - accuracy: 0.6883 - val_loss: 0.9729 - val_accuracy: 0.6413\n",
      "Epoch 19/30\n",
      "200/200 [==============================] - 47s 234ms/step - loss: 0.6414 - accuracy: 0.7441 - val_loss: 0.9404 - val_accuracy: 0.6781\n",
      "Epoch 20/30\n",
      "200/200 [==============================] - 48s 241ms/step - loss: 0.5225 - accuracy: 0.7992 - val_loss: 0.9151 - val_accuracy: 0.6931\n",
      "Epoch 21/30\n",
      "200/200 [==============================] - 48s 238ms/step - loss: 0.4272 - accuracy: 0.8339 - val_loss: 0.9781 - val_accuracy: 0.7050\n",
      "Epoch 22/30\n",
      "200/200 [==============================] - 48s 242ms/step - loss: 0.3483 - accuracy: 0.8695 - val_loss: 0.9664 - val_accuracy: 0.7094\n",
      "Epoch 23/30\n",
      "200/200 [==============================] - 49s 245ms/step - loss: 0.2768 - accuracy: 0.8963 - val_loss: 0.9569 - val_accuracy: 0.7306\n",
      "Epoch 24/30\n",
      "200/200 [==============================] - 48s 241ms/step - loss: 0.2125 - accuracy: 0.9256 - val_loss: 1.0429 - val_accuracy: 0.7125\n",
      "Epoch 25/30\n",
      "200/200 [==============================] - 50s 252ms/step - loss: 0.1866 - accuracy: 0.9392 - val_loss: 1.0528 - val_accuracy: 0.7331\n",
      "Epoch 26/30\n",
      "200/200 [==============================] - 48s 238ms/step - loss: 0.1524 - accuracy: 0.9508 - val_loss: 0.9902 - val_accuracy: 0.7431\n",
      "Epoch 27/30\n",
      "200/200 [==============================] - 48s 241ms/step - loss: 0.1174 - accuracy: 0.9645 - val_loss: 1.2558 - val_accuracy: 0.7250\n",
      "Epoch 28/30\n",
      "200/200 [==============================] - 48s 240ms/step - loss: 0.0947 - accuracy: 0.9720 - val_loss: 1.1240 - val_accuracy: 0.7462\n",
      "Epoch 29/30\n",
      "200/200 [==============================] - 48s 241ms/step - loss: 0.0732 - accuracy: 0.9786 - val_loss: 1.1968 - val_accuracy: 0.7394\n",
      "Epoch 30/30\n",
      "200/200 [==============================] - 47s 235ms/step - loss: 0.0652 - accuracy: 0.9812 - val_loss: 1.1822 - val_accuracy: 0.7513\n"
     ]
    }
   ],
   "source": [
    "epochs = 30\n",
    "history_2 = model_2.fit(\n",
    "    train_ds,\n",
    "    validation_data=val_ds,\n",
    "    epochs=epochs)"
   ]
  },
  {
   "cell_type": "code",
   "execution_count": 25,
   "id": "9d5c31ea",
   "metadata": {},
   "outputs": [
    {
     "name": "stdout",
     "output_type": "stream",
     "text": [
      "50/50 [==============================] - 3s 61ms/step - loss: 1.1822 - accuracy: 0.7513\n",
      "Loss:  1.1821742057800293\n",
      "Accuracy:  0.7512500286102295\n"
     ]
    }
   ],
   "source": [
    "loss, accuracy = model_2.evaluate(val_ds)\n",
    "\n",
    "print(\"Loss: \", loss)\n",
    "print(\"Accuracy: \", accuracy)"
   ]
  },
  {
   "cell_type": "code",
   "execution_count": 26,
   "id": "2af1984b",
   "metadata": {},
   "outputs": [
    {
     "name": "stdout",
     "output_type": "stream",
     "text": [
      "Model: \"sequential_4\"\n",
      "_________________________________________________________________\n",
      " Layer (type)                Output Shape              Param #   \n",
      "=================================================================\n",
      " embedding_4 (Embedding)     (None, None, 128)         1280128   \n",
      "                                                                 \n",
      " gru (GRU)                   (None, None, 64)          37248     \n",
      "                                                                 \n",
      " lstm_4 (LSTM)               (None, None, 64)          33024     \n",
      "                                                                 \n",
      " gru_1 (GRU)                 (None, 64)                24960     \n",
      "                                                                 \n",
      " dense_6 (Dense)             (None, 64)                4160      \n",
      "                                                                 \n",
      " dense_7 (Dense)             (None, 4)                 260       \n",
      "                                                                 \n",
      "=================================================================\n",
      "Total params: 1,379,780\n",
      "Trainable params: 1,379,780\n",
      "Non-trainable params: 0\n",
      "_________________________________________________________________\n"
     ]
    }
   ],
   "source": [
    "model_3 = tf.keras.Sequential([\n",
    "  layers.Embedding(max_features + 1, 128),\n",
    "  layers.GRU(64, return_sequences=True),\n",
    "  layers.LSTM(64, return_sequences=True),\n",
    "  layers.GRU(64),\n",
    "  layers.Dense(64, activation='relu'),\n",
    "  layers.Dense(4)])\n",
    "model_3.compile(loss=losses.SparseCategoricalCrossentropy(from_logits=True),\n",
    "              optimizer='adam',\n",
    "              metrics=['accuracy'])\n",
    "model_3.summary()"
   ]
  },
  {
   "cell_type": "code",
   "execution_count": 27,
   "id": "1cc1dd74",
   "metadata": {},
   "outputs": [
    {
     "name": "stdout",
     "output_type": "stream",
     "text": [
      "Epoch 1/30\n",
      "200/200 [==============================] - 74s 352ms/step - loss: 1.3849 - accuracy: 0.2680 - val_loss: 1.3840 - val_accuracy: 0.2425\n",
      "Epoch 2/30\n",
      "200/200 [==============================] - 69s 347ms/step - loss: 1.3660 - accuracy: 0.2781 - val_loss: 1.3730 - val_accuracy: 0.2544\n",
      "Epoch 3/30\n",
      "200/200 [==============================] - 70s 351ms/step - loss: 1.3391 - accuracy: 0.2956 - val_loss: 1.3935 - val_accuracy: 0.2500\n",
      "Epoch 4/30\n",
      "200/200 [==============================] - 73s 363ms/step - loss: 1.2886 - accuracy: 0.3342 - val_loss: 1.1854 - val_accuracy: 0.4325\n",
      "Epoch 5/30\n",
      "200/200 [==============================] - 72s 358ms/step - loss: 1.1300 - accuracy: 0.4347 - val_loss: 1.1242 - val_accuracy: 0.4737\n",
      "Epoch 6/30\n",
      "200/200 [==============================] - 71s 356ms/step - loss: 1.0004 - accuracy: 0.5263 - val_loss: 0.9776 - val_accuracy: 0.5119\n",
      "Epoch 7/30\n",
      "200/200 [==============================] - 71s 353ms/step - loss: 0.7841 - accuracy: 0.6803 - val_loss: 0.6995 - val_accuracy: 0.7237\n",
      "Epoch 8/30\n",
      "200/200 [==============================] - 70s 351ms/step - loss: 0.4691 - accuracy: 0.8272 - val_loss: 0.6598 - val_accuracy: 0.7631\n",
      "Epoch 9/30\n",
      "200/200 [==============================] - 69s 346ms/step - loss: 0.3059 - accuracy: 0.8927 - val_loss: 0.7349 - val_accuracy: 0.7681\n",
      "Epoch 10/30\n",
      "200/200 [==============================] - 71s 356ms/step - loss: 0.2070 - accuracy: 0.9294 - val_loss: 0.9317 - val_accuracy: 0.7506\n",
      "Epoch 11/30\n",
      "200/200 [==============================] - 70s 351ms/step - loss: 0.1583 - accuracy: 0.9463 - val_loss: 0.9015 - val_accuracy: 0.7456\n",
      "Epoch 12/30\n",
      "200/200 [==============================] - 71s 355ms/step - loss: 0.1165 - accuracy: 0.9622 - val_loss: 0.8387 - val_accuracy: 0.7819\n",
      "Epoch 13/30\n",
      "200/200 [==============================] - 71s 354ms/step - loss: 0.0975 - accuracy: 0.9708 - val_loss: 0.8961 - val_accuracy: 0.7819\n",
      "Epoch 14/30\n",
      "200/200 [==============================] - 72s 358ms/step - loss: 0.0770 - accuracy: 0.9770 - val_loss: 0.9861 - val_accuracy: 0.7738\n",
      "Epoch 15/30\n",
      "200/200 [==============================] - 70s 352ms/step - loss: 0.0580 - accuracy: 0.9825 - val_loss: 1.1216 - val_accuracy: 0.7663\n",
      "Epoch 16/30\n",
      "200/200 [==============================] - 71s 353ms/step - loss: 0.0521 - accuracy: 0.9837 - val_loss: 1.2511 - val_accuracy: 0.7481\n",
      "Epoch 17/30\n",
      "200/200 [==============================] - 71s 353ms/step - loss: 0.0426 - accuracy: 0.9873 - val_loss: 1.1621 - val_accuracy: 0.7725\n",
      "Epoch 18/30\n",
      "200/200 [==============================] - 71s 355ms/step - loss: 0.0322 - accuracy: 0.9894 - val_loss: 1.2293 - val_accuracy: 0.7663\n",
      "Epoch 19/30\n",
      "200/200 [==============================] - 70s 352ms/step - loss: 0.0261 - accuracy: 0.9922 - val_loss: 1.3140 - val_accuracy: 0.7581\n",
      "Epoch 20/30\n",
      "200/200 [==============================] - 70s 351ms/step - loss: 0.0243 - accuracy: 0.9931 - val_loss: 1.2519 - val_accuracy: 0.7669\n",
      "Epoch 21/30\n",
      "200/200 [==============================] - 70s 349ms/step - loss: 0.0117 - accuracy: 0.9966 - val_loss: 1.3036 - val_accuracy: 0.7806\n",
      "Epoch 22/30\n",
      "200/200 [==============================] - 73s 366ms/step - loss: 0.0087 - accuracy: 0.9983 - val_loss: 1.3376 - val_accuracy: 0.7806\n",
      "Epoch 23/30\n",
      "200/200 [==============================] - 70s 352ms/step - loss: 0.0082 - accuracy: 0.9983 - val_loss: 1.4171 - val_accuracy: 0.7613\n",
      "Epoch 24/30\n",
      "200/200 [==============================] - 70s 352ms/step - loss: 0.0067 - accuracy: 0.9987 - val_loss: 1.3831 - val_accuracy: 0.7788\n",
      "Epoch 25/30\n",
      "200/200 [==============================] - 71s 357ms/step - loss: 0.0050 - accuracy: 0.9989 - val_loss: 1.4308 - val_accuracy: 0.7788\n",
      "Epoch 26/30\n",
      "200/200 [==============================] - 71s 353ms/step - loss: 0.0044 - accuracy: 0.9989 - val_loss: 1.5570 - val_accuracy: 0.7688\n",
      "Epoch 27/30\n",
      "200/200 [==============================] - 71s 357ms/step - loss: 0.0036 - accuracy: 0.9994 - val_loss: 1.5200 - val_accuracy: 0.7825\n",
      "Epoch 28/30\n",
      "200/200 [==============================] - 71s 353ms/step - loss: 0.0029 - accuracy: 0.9994 - val_loss: 1.5994 - val_accuracy: 0.7763\n",
      "Epoch 29/30\n",
      "200/200 [==============================] - 68s 339ms/step - loss: 0.0242 - accuracy: 0.9934 - val_loss: 1.4392 - val_accuracy: 0.7506\n",
      "Epoch 30/30\n",
      "200/200 [==============================] - 70s 352ms/step - loss: 0.0415 - accuracy: 0.9870 - val_loss: 1.1444 - val_accuracy: 0.7781\n"
     ]
    }
   ],
   "source": [
    "epochs = 30\n",
    "history_3 = model_3.fit(\n",
    "    train_ds,\n",
    "    validation_data=val_ds,\n",
    "    epochs=epochs)"
   ]
  },
  {
   "cell_type": "code",
   "execution_count": 28,
   "id": "da980aa8",
   "metadata": {},
   "outputs": [
    {
     "name": "stdout",
     "output_type": "stream",
     "text": [
      "50/50 [==============================] - 4s 90ms/step - loss: 1.1444 - accuracy: 0.7781\n",
      "Loss:  1.1443883180618286\n",
      "Accuracy:  0.778124988079071\n"
     ]
    }
   ],
   "source": [
    "loss, accuracy = model_3.evaluate(val_ds)\n",
    "\n",
    "print(\"Loss: \", loss)\n",
    "print(\"Accuracy: \", accuracy)"
   ]
  },
  {
   "cell_type": "code",
   "execution_count": 29,
   "id": "b9b303de",
   "metadata": {},
   "outputs": [
    {
     "name": "stdout",
     "output_type": "stream",
     "text": [
      "Model: \"sequential_5\"\n",
      "_________________________________________________________________\n",
      " Layer (type)                Output Shape              Param #   \n",
      "=================================================================\n",
      " embedding_5 (Embedding)     (None, None, 128)         1280128   \n",
      "                                                                 \n",
      " lstm_5 (LSTM)               (None, None, 128)         131584    \n",
      "                                                                 \n",
      " gru_2 (GRU)                 (None, 64)                37248     \n",
      "                                                                 \n",
      " dense_8 (Dense)             (None, 64)                4160      \n",
      "                                                                 \n",
      " dense_9 (Dense)             (None, 4)                 260       \n",
      "                                                                 \n",
      "=================================================================\n",
      "Total params: 1,453,380\n",
      "Trainable params: 1,453,380\n",
      "Non-trainable params: 0\n",
      "_________________________________________________________________\n"
     ]
    }
   ],
   "source": [
    "model_4 = tf.keras.Sequential([\n",
    "  layers.Embedding(max_features + 1, 128),\n",
    "  layers.LSTM(128, return_sequences=True),\n",
    "  layers.GRU(64),\n",
    "  layers.Dense(64, activation='relu'),\n",
    "  layers.Dense(4, activation='softmax')])\n",
    "model_4.compile(loss=losses.SparseCategoricalCrossentropy(from_logits=True),\n",
    "              optimizer='adam',\n",
    "              metrics=['accuracy'])\n",
    "model_4.summary()"
   ]
  },
  {
   "cell_type": "code",
   "execution_count": null,
   "id": "ed3d6e29",
   "metadata": {},
   "outputs": [
    {
     "name": "stdout",
     "output_type": "stream",
     "text": [
      "Epoch 1/30\n"
     ]
    },
    {
     "name": "stderr",
     "output_type": "stream",
     "text": [
      "C:\\Users\\Admin\\anaconda3\\lib\\site-packages\\tensorflow\\python\\util\\dispatch.py:1082: UserWarning: \"`sparse_categorical_crossentropy` received `from_logits=True`, but the `output` argument was produced by a sigmoid or softmax activation and thus does not represent logits. Was this intended?\"\n",
      "  return dispatch_target(*args, **kwargs)\n"
     ]
    },
    {
     "name": "stdout",
     "output_type": "stream",
     "text": [
      "200/200 [==============================] - 52s 246ms/step - loss: 1.3856 - accuracy: 0.2658 - val_loss: 1.3842 - val_accuracy: 0.2438\n",
      "Epoch 2/30\n",
      "200/200 [==============================] - 50s 251ms/step - loss: 1.3302 - accuracy: 0.3231 - val_loss: 1.3195 - val_accuracy: 0.3469\n",
      "Epoch 3/30\n",
      "200/200 [==============================] - 51s 253ms/step - loss: 1.2762 - accuracy: 0.3844 - val_loss: 1.2631 - val_accuracy: 0.3831\n",
      "Epoch 4/30\n",
      "200/200 [==============================] - 51s 257ms/step - loss: 1.2146 - accuracy: 0.4025 - val_loss: 1.4679 - val_accuracy: 0.4181\n",
      "Epoch 5/30\n",
      "200/200 [==============================] - 50s 249ms/step - loss: 1.2609 - accuracy: 0.3909 - val_loss: 1.1818 - val_accuracy: 0.4381\n",
      "Epoch 6/30\n",
      "200/200 [==============================] - 48s 240ms/step - loss: 1.2092 - accuracy: 0.3758 - val_loss: 1.2289 - val_accuracy: 0.3562\n",
      "Epoch 7/30\n",
      "200/200 [==============================] - 48s 242ms/step - loss: 1.1900 - accuracy: 0.3898 - val_loss: 1.4047 - val_accuracy: 0.2500\n",
      "Epoch 8/30\n",
      "200/200 [==============================] - 51s 254ms/step - loss: 1.2168 - accuracy: 0.3848 - val_loss: 1.1898 - val_accuracy: 0.4263\n",
      "Epoch 9/30\n",
      "200/200 [==============================] - 50s 252ms/step - loss: 0.9129 - accuracy: 0.6250 - val_loss: 0.8162 - val_accuracy: 0.6519\n",
      "Epoch 10/30\n",
      "200/200 [==============================] - 50s 252ms/step - loss: 0.5319 - accuracy: 0.7989 - val_loss: 0.6773 - val_accuracy: 0.7394\n",
      "Epoch 11/30\n",
      "200/200 [==============================] - 50s 252ms/step - loss: 0.3516 - accuracy: 0.8694 - val_loss: 0.7068 - val_accuracy: 0.7606\n",
      "Epoch 12/30\n",
      "200/200 [==============================] - 50s 249ms/step - loss: 0.2361 - accuracy: 0.9180 - val_loss: 0.7143 - val_accuracy: 0.7713\n",
      "Epoch 13/30\n",
      "200/200 [==============================] - 51s 253ms/step - loss: 0.1846 - accuracy: 0.9394 - val_loss: 0.7427 - val_accuracy: 0.7763\n",
      "Epoch 14/30\n",
      "200/200 [==============================] - 50s 251ms/step - loss: 0.1241 - accuracy: 0.9606 - val_loss: 0.8824 - val_accuracy: 0.7713\n",
      "Epoch 15/30\n",
      "200/200 [==============================] - 50s 251ms/step - loss: 0.0892 - accuracy: 0.9737 - val_loss: 0.9095 - val_accuracy: 0.7688\n",
      "Epoch 16/30\n",
      "135/200 [===================>..........] - ETA: 15s - loss: 0.0660 - accuracy: 0.9789"
     ]
    }
   ],
   "source": [
    "epochs = 30\n",
    "history_4 = model_4.fit(\n",
    "    train_ds,\n",
    "    validation_data=val_ds,\n",
    "    epochs=epochs)"
   ]
  },
  {
   "cell_type": "code",
   "execution_count": null,
   "id": "dd0caf1a",
   "metadata": {},
   "outputs": [],
   "source": []
  }
 ],
 "metadata": {
  "kernelspec": {
   "display_name": "Python 3 (ipykernel)",
   "language": "python",
   "name": "python3"
  },
  "language_info": {
   "codemirror_mode": {
    "name": "ipython",
    "version": 3
   },
   "file_extension": ".py",
   "mimetype": "text/x-python",
   "name": "python",
   "nbconvert_exporter": "python",
   "pygments_lexer": "ipython3",
   "version": "3.9.13"
  }
 },
 "nbformat": 4,
 "nbformat_minor": 5
}
