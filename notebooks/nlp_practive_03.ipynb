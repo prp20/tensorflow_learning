{
  "nbformat": 4,
  "nbformat_minor": 0,
  "metadata": {
    "colab": {
      "provenance": [],
      "authorship_tag": "ABX9TyPzKgh4vBTnuFQwmJ0OMhUC",
      "include_colab_link": true
    },
    "kernelspec": {
      "name": "python3",
      "display_name": "Python 3"
    },
    "language_info": {
      "name": "python"
    },
    "accelerator": "GPU",
    "gpuClass": "standard"
  },
  "cells": [
    {
      "cell_type": "markdown",
      "metadata": {
        "id": "view-in-github",
        "colab_type": "text"
      },
      "source": [
        "<a href=\"https://colab.research.google.com/github/prp20/tensorflow_learning/blob/main/notebooks/nlp_practive_03.ipynb\" target=\"_parent\"><img src=\"https://colab.research.google.com/assets/colab-badge.svg\" alt=\"Open In Colab\"/></a>"
      ]
    },
    {
      "cell_type": "code",
      "execution_count": 1,
      "metadata": {
        "colab": {
          "base_uri": "https://localhost:8080/",
          "height": 36
        },
        "id": "g6sDkRBv8ejS",
        "outputId": "9d61cad5-bbae-4d6f-a833-95468ef75b1c"
      },
      "outputs": [
        {
          "output_type": "execute_result",
          "data": {
            "text/plain": [
              "'2.9.2'"
            ],
            "application/vnd.google.colaboratory.intrinsic+json": {
              "type": "string"
            }
          },
          "metadata": {},
          "execution_count": 1
        }
      ],
      "source": [
        "import tensorflow as tf\n",
        "import pandas as pd\n",
        "import numpy as np\n",
        "import tensorflow_datasets as tfds\n",
        "\n",
        "tf.__version__"
      ]
    },
    {
      "cell_type": "code",
      "source": [
        "! pip install kaggle"
      ],
      "metadata": {
        "colab": {
          "base_uri": "https://localhost:8080/"
        },
        "id": "4Ijz9Vfe8gjZ",
        "outputId": "be7e6d34-df09-4486-8107-34ab1dc905a2"
      },
      "execution_count": 2,
      "outputs": [
        {
          "output_type": "stream",
          "name": "stdout",
          "text": [
            "Looking in indexes: https://pypi.org/simple, https://us-python.pkg.dev/colab-wheels/public/simple/\n",
            "Requirement already satisfied: kaggle in /usr/local/lib/python3.8/dist-packages (1.5.12)\n",
            "Requirement already satisfied: six>=1.10 in /usr/local/lib/python3.8/dist-packages (from kaggle) (1.15.0)\n",
            "Requirement already satisfied: python-slugify in /usr/local/lib/python3.8/dist-packages (from kaggle) (7.0.0)\n",
            "Requirement already satisfied: certifi in /usr/local/lib/python3.8/dist-packages (from kaggle) (2022.12.7)\n",
            "Requirement already satisfied: python-dateutil in /usr/local/lib/python3.8/dist-packages (from kaggle) (2.8.2)\n",
            "Requirement already satisfied: urllib3 in /usr/local/lib/python3.8/dist-packages (from kaggle) (1.24.3)\n",
            "Requirement already satisfied: requests in /usr/local/lib/python3.8/dist-packages (from kaggle) (2.25.1)\n",
            "Requirement already satisfied: tqdm in /usr/local/lib/python3.8/dist-packages (from kaggle) (4.64.1)\n",
            "Requirement already satisfied: text-unidecode>=1.3 in /usr/local/lib/python3.8/dist-packages (from python-slugify->kaggle) (1.3)\n",
            "Requirement already satisfied: idna<3,>=2.5 in /usr/local/lib/python3.8/dist-packages (from requests->kaggle) (2.10)\n",
            "Requirement already satisfied: chardet<5,>=3.0.2 in /usr/local/lib/python3.8/dist-packages (from requests->kaggle) (4.0.0)\n"
          ]
        }
      ]
    },
    {
      "cell_type": "code",
      "source": [
        "from google.colab import drive\n",
        "drive.mount('/content/drive')"
      ],
      "metadata": {
        "colab": {
          "base_uri": "https://localhost:8080/"
        },
        "id": "zgnQ4TtM8jXq",
        "outputId": "318d1884-d49c-40e7-a0c6-62a9c014f4e5"
      },
      "execution_count": 3,
      "outputs": [
        {
          "output_type": "stream",
          "name": "stdout",
          "text": [
            "Mounted at /content/drive\n"
          ]
        }
      ]
    },
    {
      "cell_type": "code",
      "source": [
        "! mkdir ~/.kaggle\n",
        "! cp /content/drive/MyDrive/kaggle.json ~/.kaggle/\n",
        "! chmod 600 ~/.kaggle/kaggle.json"
      ],
      "metadata": {
        "id": "GcjNii_M8lrj"
      },
      "execution_count": 4,
      "outputs": []
    },
    {
      "cell_type": "code",
      "source": [
        "! kaggle datasets download -d hijest/genre-classification-dataset-imdb"
      ],
      "metadata": {
        "colab": {
          "base_uri": "https://localhost:8080/"
        },
        "id": "pTA5jqVD8qW4",
        "outputId": "22b8d7a6-c92d-4510-c9d9-566abd5383ae"
      },
      "execution_count": 5,
      "outputs": [
        {
          "output_type": "stream",
          "name": "stdout",
          "text": [
            "Downloading genre-classification-dataset-imdb.zip to /content\n",
            " 94% 39.0M/41.7M [00:03<00:00, 21.5MB/s]\n",
            "100% 41.7M/41.7M [00:03<00:00, 14.2MB/s]\n"
          ]
        }
      ]
    },
    {
      "cell_type": "code",
      "source": [
        "! unzip genre-classification-dataset-imdb.zip"
      ],
      "metadata": {
        "colab": {
          "base_uri": "https://localhost:8080/"
        },
        "id": "akMhIgZs8vw7",
        "outputId": "0b561ca0-8110-4f34-a693-b24d4ac7a543"
      },
      "execution_count": 6,
      "outputs": [
        {
          "output_type": "stream",
          "name": "stdout",
          "text": [
            "Archive:  genre-classification-dataset-imdb.zip\n",
            "  inflating: Genre Classification Dataset/description.txt  \n",
            "  inflating: Genre Classification Dataset/test_data.txt  \n",
            "  inflating: Genre Classification Dataset/test_data_solution.txt  \n",
            "  inflating: Genre Classification Dataset/train_data.txt  \n"
          ]
        }
      ]
    },
    {
      "cell_type": "code",
      "source": [
        "train_dataset = pd.read_csv(\"/content/Genre_Classification_Dataset/train_data.txt\", sep=\" ::: \", names=['id', 'title', 'genre', 'description'])\n",
        "test_dataset = train_dataset = pd.read_csv(\"/content/Genre_Classification_Dataset/test_data_solution.txt\", sep=\" ::: \", names=['id', 'title', 'genre', 'description'])"
      ],
      "metadata": {
        "colab": {
          "base_uri": "https://localhost:8080/"
        },
        "id": "KLc32soS83Y1",
        "outputId": "bad9b441-f099-44ea-9eeb-a464eefae208"
      },
      "execution_count": 7,
      "outputs": [
        {
          "output_type": "stream",
          "name": "stderr",
          "text": [
            "/usr/local/lib/python3.8/dist-packages/pandas/util/_decorators.py:311: ParserWarning: Falling back to the 'python' engine because the 'c' engine does not support regex separators (separators > 1 char and different from '\\s+' are interpreted as regex); you can avoid this warning by specifying engine='python'.\n",
            "  return func(*args, **kwargs)\n"
          ]
        }
      ]
    },
    {
      "cell_type": "code",
      "source": [
        "train_dataset"
      ],
      "metadata": {
        "colab": {
          "base_uri": "https://localhost:8080/",
          "height": 423
        },
        "id": "rhx07vca9YJh",
        "outputId": "b2c4cf9c-4d99-41e0-9988-5c6f8df40f55"
      },
      "execution_count": 8,
      "outputs": [
        {
          "output_type": "execute_result",
          "data": {
            "text/plain": [
              "          id                           title        genre  \\\n",
              "0          1            Edgar's Lunch (1998)     thriller   \n",
              "1          2        La guerra de papá (1977)       comedy   \n",
              "2          3     Off the Beaten Track (2010)  documentary   \n",
              "3          4          Meu Amigo Hindu (2015)        drama   \n",
              "4          5               Er nu zhai (1955)        drama   \n",
              "...      ...                             ...          ...   \n",
              "54195  54196  \"Tales of Light & Dark\" (2013)       horror   \n",
              "54196  54197     Der letzte Mohikaner (1965)      western   \n",
              "54197  54198             Oliver Twink (2007)        adult   \n",
              "54198  54199               Slipstream (1973)        drama   \n",
              "54199  54200       Curitiba Zero Grau (2010)        drama   \n",
              "\n",
              "                                             description  \n",
              "0      L.R. Brane loves his life - his car, his apart...  \n",
              "1      Spain, March 1964: Quico is a very naughty chi...  \n",
              "2      One year in the life of Albin and his family o...  \n",
              "3      His father has died, he hasn't spoken with his...  \n",
              "4      Before he was known internationally as a marti...  \n",
              "...                                                  ...  \n",
              "54195  Covering multiple genres, Tales of Light & Dar...  \n",
              "54196  As Alice and Cora Munro attempt to find their ...  \n",
              "54197  A movie 169 years in the making. Oliver Twist,...  \n",
              "54198  Popular, but mysterious rock D.J Mike Mallard ...  \n",
              "54199  Curitiba is a city in movement, with rhythms a...  \n",
              "\n",
              "[54200 rows x 4 columns]"
            ],
            "text/html": [
              "\n",
              "  <div id=\"df-6714de33-1465-43fd-8a49-bb8156ba61e8\">\n",
              "    <div class=\"colab-df-container\">\n",
              "      <div>\n",
              "<style scoped>\n",
              "    .dataframe tbody tr th:only-of-type {\n",
              "        vertical-align: middle;\n",
              "    }\n",
              "\n",
              "    .dataframe tbody tr th {\n",
              "        vertical-align: top;\n",
              "    }\n",
              "\n",
              "    .dataframe thead th {\n",
              "        text-align: right;\n",
              "    }\n",
              "</style>\n",
              "<table border=\"1\" class=\"dataframe\">\n",
              "  <thead>\n",
              "    <tr style=\"text-align: right;\">\n",
              "      <th></th>\n",
              "      <th>id</th>\n",
              "      <th>title</th>\n",
              "      <th>genre</th>\n",
              "      <th>description</th>\n",
              "    </tr>\n",
              "  </thead>\n",
              "  <tbody>\n",
              "    <tr>\n",
              "      <th>0</th>\n",
              "      <td>1</td>\n",
              "      <td>Edgar's Lunch (1998)</td>\n",
              "      <td>thriller</td>\n",
              "      <td>L.R. Brane loves his life - his car, his apart...</td>\n",
              "    </tr>\n",
              "    <tr>\n",
              "      <th>1</th>\n",
              "      <td>2</td>\n",
              "      <td>La guerra de papá (1977)</td>\n",
              "      <td>comedy</td>\n",
              "      <td>Spain, March 1964: Quico is a very naughty chi...</td>\n",
              "    </tr>\n",
              "    <tr>\n",
              "      <th>2</th>\n",
              "      <td>3</td>\n",
              "      <td>Off the Beaten Track (2010)</td>\n",
              "      <td>documentary</td>\n",
              "      <td>One year in the life of Albin and his family o...</td>\n",
              "    </tr>\n",
              "    <tr>\n",
              "      <th>3</th>\n",
              "      <td>4</td>\n",
              "      <td>Meu Amigo Hindu (2015)</td>\n",
              "      <td>drama</td>\n",
              "      <td>His father has died, he hasn't spoken with his...</td>\n",
              "    </tr>\n",
              "    <tr>\n",
              "      <th>4</th>\n",
              "      <td>5</td>\n",
              "      <td>Er nu zhai (1955)</td>\n",
              "      <td>drama</td>\n",
              "      <td>Before he was known internationally as a marti...</td>\n",
              "    </tr>\n",
              "    <tr>\n",
              "      <th>...</th>\n",
              "      <td>...</td>\n",
              "      <td>...</td>\n",
              "      <td>...</td>\n",
              "      <td>...</td>\n",
              "    </tr>\n",
              "    <tr>\n",
              "      <th>54195</th>\n",
              "      <td>54196</td>\n",
              "      <td>\"Tales of Light &amp; Dark\" (2013)</td>\n",
              "      <td>horror</td>\n",
              "      <td>Covering multiple genres, Tales of Light &amp; Dar...</td>\n",
              "    </tr>\n",
              "    <tr>\n",
              "      <th>54196</th>\n",
              "      <td>54197</td>\n",
              "      <td>Der letzte Mohikaner (1965)</td>\n",
              "      <td>western</td>\n",
              "      <td>As Alice and Cora Munro attempt to find their ...</td>\n",
              "    </tr>\n",
              "    <tr>\n",
              "      <th>54197</th>\n",
              "      <td>54198</td>\n",
              "      <td>Oliver Twink (2007)</td>\n",
              "      <td>adult</td>\n",
              "      <td>A movie 169 years in the making. Oliver Twist,...</td>\n",
              "    </tr>\n",
              "    <tr>\n",
              "      <th>54198</th>\n",
              "      <td>54199</td>\n",
              "      <td>Slipstream (1973)</td>\n",
              "      <td>drama</td>\n",
              "      <td>Popular, but mysterious rock D.J Mike Mallard ...</td>\n",
              "    </tr>\n",
              "    <tr>\n",
              "      <th>54199</th>\n",
              "      <td>54200</td>\n",
              "      <td>Curitiba Zero Grau (2010)</td>\n",
              "      <td>drama</td>\n",
              "      <td>Curitiba is a city in movement, with rhythms a...</td>\n",
              "    </tr>\n",
              "  </tbody>\n",
              "</table>\n",
              "<p>54200 rows × 4 columns</p>\n",
              "</div>\n",
              "      <button class=\"colab-df-convert\" onclick=\"convertToInteractive('df-6714de33-1465-43fd-8a49-bb8156ba61e8')\"\n",
              "              title=\"Convert this dataframe to an interactive table.\"\n",
              "              style=\"display:none;\">\n",
              "        \n",
              "  <svg xmlns=\"http://www.w3.org/2000/svg\" height=\"24px\"viewBox=\"0 0 24 24\"\n",
              "       width=\"24px\">\n",
              "    <path d=\"M0 0h24v24H0V0z\" fill=\"none\"/>\n",
              "    <path d=\"M18.56 5.44l.94 2.06.94-2.06 2.06-.94-2.06-.94-.94-2.06-.94 2.06-2.06.94zm-11 1L8.5 8.5l.94-2.06 2.06-.94-2.06-.94L8.5 2.5l-.94 2.06-2.06.94zm10 10l.94 2.06.94-2.06 2.06-.94-2.06-.94-.94-2.06-.94 2.06-2.06.94z\"/><path d=\"M17.41 7.96l-1.37-1.37c-.4-.4-.92-.59-1.43-.59-.52 0-1.04.2-1.43.59L10.3 9.45l-7.72 7.72c-.78.78-.78 2.05 0 2.83L4 21.41c.39.39.9.59 1.41.59.51 0 1.02-.2 1.41-.59l7.78-7.78 2.81-2.81c.8-.78.8-2.07 0-2.86zM5.41 20L4 18.59l7.72-7.72 1.47 1.35L5.41 20z\"/>\n",
              "  </svg>\n",
              "      </button>\n",
              "      \n",
              "  <style>\n",
              "    .colab-df-container {\n",
              "      display:flex;\n",
              "      flex-wrap:wrap;\n",
              "      gap: 12px;\n",
              "    }\n",
              "\n",
              "    .colab-df-convert {\n",
              "      background-color: #E8F0FE;\n",
              "      border: none;\n",
              "      border-radius: 50%;\n",
              "      cursor: pointer;\n",
              "      display: none;\n",
              "      fill: #1967D2;\n",
              "      height: 32px;\n",
              "      padding: 0 0 0 0;\n",
              "      width: 32px;\n",
              "    }\n",
              "\n",
              "    .colab-df-convert:hover {\n",
              "      background-color: #E2EBFA;\n",
              "      box-shadow: 0px 1px 2px rgba(60, 64, 67, 0.3), 0px 1px 3px 1px rgba(60, 64, 67, 0.15);\n",
              "      fill: #174EA6;\n",
              "    }\n",
              "\n",
              "    [theme=dark] .colab-df-convert {\n",
              "      background-color: #3B4455;\n",
              "      fill: #D2E3FC;\n",
              "    }\n",
              "\n",
              "    [theme=dark] .colab-df-convert:hover {\n",
              "      background-color: #434B5C;\n",
              "      box-shadow: 0px 1px 3px 1px rgba(0, 0, 0, 0.15);\n",
              "      filter: drop-shadow(0px 1px 2px rgba(0, 0, 0, 0.3));\n",
              "      fill: #FFFFFF;\n",
              "    }\n",
              "  </style>\n",
              "\n",
              "      <script>\n",
              "        const buttonEl =\n",
              "          document.querySelector('#df-6714de33-1465-43fd-8a49-bb8156ba61e8 button.colab-df-convert');\n",
              "        buttonEl.style.display =\n",
              "          google.colab.kernel.accessAllowed ? 'block' : 'none';\n",
              "\n",
              "        async function convertToInteractive(key) {\n",
              "          const element = document.querySelector('#df-6714de33-1465-43fd-8a49-bb8156ba61e8');\n",
              "          const dataTable =\n",
              "            await google.colab.kernel.invokeFunction('convertToInteractive',\n",
              "                                                     [key], {});\n",
              "          if (!dataTable) return;\n",
              "\n",
              "          const docLinkHtml = 'Like what you see? Visit the ' +\n",
              "            '<a target=\"_blank\" href=https://colab.research.google.com/notebooks/data_table.ipynb>data table notebook</a>'\n",
              "            + ' to learn more about interactive tables.';\n",
              "          element.innerHTML = '';\n",
              "          dataTable['output_type'] = 'display_data';\n",
              "          await google.colab.output.renderOutput(dataTable, element);\n",
              "          const docLink = document.createElement('div');\n",
              "          docLink.innerHTML = docLinkHtml;\n",
              "          element.appendChild(docLink);\n",
              "        }\n",
              "      </script>\n",
              "    </div>\n",
              "  </div>\n",
              "  "
            ]
          },
          "metadata": {},
          "execution_count": 8
        }
      ]
    },
    {
      "cell_type": "code",
      "source": [
        "test_dataset"
      ],
      "metadata": {
        "colab": {
          "base_uri": "https://localhost:8080/",
          "height": 423
        },
        "id": "fPMuiyWJ9Zze",
        "outputId": "f9fe5e4f-f085-48ad-c0f3-ad7776a64bc4"
      },
      "execution_count": 9,
      "outputs": [
        {
          "output_type": "execute_result",
          "data": {
            "text/plain": [
              "          id                           title        genre  \\\n",
              "0          1            Edgar's Lunch (1998)     thriller   \n",
              "1          2        La guerra de papá (1977)       comedy   \n",
              "2          3     Off the Beaten Track (2010)  documentary   \n",
              "3          4          Meu Amigo Hindu (2015)        drama   \n",
              "4          5               Er nu zhai (1955)        drama   \n",
              "...      ...                             ...          ...   \n",
              "54195  54196  \"Tales of Light & Dark\" (2013)       horror   \n",
              "54196  54197     Der letzte Mohikaner (1965)      western   \n",
              "54197  54198             Oliver Twink (2007)        adult   \n",
              "54198  54199               Slipstream (1973)        drama   \n",
              "54199  54200       Curitiba Zero Grau (2010)        drama   \n",
              "\n",
              "                                             description  \n",
              "0      L.R. Brane loves his life - his car, his apart...  \n",
              "1      Spain, March 1964: Quico is a very naughty chi...  \n",
              "2      One year in the life of Albin and his family o...  \n",
              "3      His father has died, he hasn't spoken with his...  \n",
              "4      Before he was known internationally as a marti...  \n",
              "...                                                  ...  \n",
              "54195  Covering multiple genres, Tales of Light & Dar...  \n",
              "54196  As Alice and Cora Munro attempt to find their ...  \n",
              "54197  A movie 169 years in the making. Oliver Twist,...  \n",
              "54198  Popular, but mysterious rock D.J Mike Mallard ...  \n",
              "54199  Curitiba is a city in movement, with rhythms a...  \n",
              "\n",
              "[54200 rows x 4 columns]"
            ],
            "text/html": [
              "\n",
              "  <div id=\"df-dc8b0819-5e14-433b-b331-584ae1c5b255\">\n",
              "    <div class=\"colab-df-container\">\n",
              "      <div>\n",
              "<style scoped>\n",
              "    .dataframe tbody tr th:only-of-type {\n",
              "        vertical-align: middle;\n",
              "    }\n",
              "\n",
              "    .dataframe tbody tr th {\n",
              "        vertical-align: top;\n",
              "    }\n",
              "\n",
              "    .dataframe thead th {\n",
              "        text-align: right;\n",
              "    }\n",
              "</style>\n",
              "<table border=\"1\" class=\"dataframe\">\n",
              "  <thead>\n",
              "    <tr style=\"text-align: right;\">\n",
              "      <th></th>\n",
              "      <th>id</th>\n",
              "      <th>title</th>\n",
              "      <th>genre</th>\n",
              "      <th>description</th>\n",
              "    </tr>\n",
              "  </thead>\n",
              "  <tbody>\n",
              "    <tr>\n",
              "      <th>0</th>\n",
              "      <td>1</td>\n",
              "      <td>Edgar's Lunch (1998)</td>\n",
              "      <td>thriller</td>\n",
              "      <td>L.R. Brane loves his life - his car, his apart...</td>\n",
              "    </tr>\n",
              "    <tr>\n",
              "      <th>1</th>\n",
              "      <td>2</td>\n",
              "      <td>La guerra de papá (1977)</td>\n",
              "      <td>comedy</td>\n",
              "      <td>Spain, March 1964: Quico is a very naughty chi...</td>\n",
              "    </tr>\n",
              "    <tr>\n",
              "      <th>2</th>\n",
              "      <td>3</td>\n",
              "      <td>Off the Beaten Track (2010)</td>\n",
              "      <td>documentary</td>\n",
              "      <td>One year in the life of Albin and his family o...</td>\n",
              "    </tr>\n",
              "    <tr>\n",
              "      <th>3</th>\n",
              "      <td>4</td>\n",
              "      <td>Meu Amigo Hindu (2015)</td>\n",
              "      <td>drama</td>\n",
              "      <td>His father has died, he hasn't spoken with his...</td>\n",
              "    </tr>\n",
              "    <tr>\n",
              "      <th>4</th>\n",
              "      <td>5</td>\n",
              "      <td>Er nu zhai (1955)</td>\n",
              "      <td>drama</td>\n",
              "      <td>Before he was known internationally as a marti...</td>\n",
              "    </tr>\n",
              "    <tr>\n",
              "      <th>...</th>\n",
              "      <td>...</td>\n",
              "      <td>...</td>\n",
              "      <td>...</td>\n",
              "      <td>...</td>\n",
              "    </tr>\n",
              "    <tr>\n",
              "      <th>54195</th>\n",
              "      <td>54196</td>\n",
              "      <td>\"Tales of Light &amp; Dark\" (2013)</td>\n",
              "      <td>horror</td>\n",
              "      <td>Covering multiple genres, Tales of Light &amp; Dar...</td>\n",
              "    </tr>\n",
              "    <tr>\n",
              "      <th>54196</th>\n",
              "      <td>54197</td>\n",
              "      <td>Der letzte Mohikaner (1965)</td>\n",
              "      <td>western</td>\n",
              "      <td>As Alice and Cora Munro attempt to find their ...</td>\n",
              "    </tr>\n",
              "    <tr>\n",
              "      <th>54197</th>\n",
              "      <td>54198</td>\n",
              "      <td>Oliver Twink (2007)</td>\n",
              "      <td>adult</td>\n",
              "      <td>A movie 169 years in the making. Oliver Twist,...</td>\n",
              "    </tr>\n",
              "    <tr>\n",
              "      <th>54198</th>\n",
              "      <td>54199</td>\n",
              "      <td>Slipstream (1973)</td>\n",
              "      <td>drama</td>\n",
              "      <td>Popular, but mysterious rock D.J Mike Mallard ...</td>\n",
              "    </tr>\n",
              "    <tr>\n",
              "      <th>54199</th>\n",
              "      <td>54200</td>\n",
              "      <td>Curitiba Zero Grau (2010)</td>\n",
              "      <td>drama</td>\n",
              "      <td>Curitiba is a city in movement, with rhythms a...</td>\n",
              "    </tr>\n",
              "  </tbody>\n",
              "</table>\n",
              "<p>54200 rows × 4 columns</p>\n",
              "</div>\n",
              "      <button class=\"colab-df-convert\" onclick=\"convertToInteractive('df-dc8b0819-5e14-433b-b331-584ae1c5b255')\"\n",
              "              title=\"Convert this dataframe to an interactive table.\"\n",
              "              style=\"display:none;\">\n",
              "        \n",
              "  <svg xmlns=\"http://www.w3.org/2000/svg\" height=\"24px\"viewBox=\"0 0 24 24\"\n",
              "       width=\"24px\">\n",
              "    <path d=\"M0 0h24v24H0V0z\" fill=\"none\"/>\n",
              "    <path d=\"M18.56 5.44l.94 2.06.94-2.06 2.06-.94-2.06-.94-.94-2.06-.94 2.06-2.06.94zm-11 1L8.5 8.5l.94-2.06 2.06-.94-2.06-.94L8.5 2.5l-.94 2.06-2.06.94zm10 10l.94 2.06.94-2.06 2.06-.94-2.06-.94-.94-2.06-.94 2.06-2.06.94z\"/><path d=\"M17.41 7.96l-1.37-1.37c-.4-.4-.92-.59-1.43-.59-.52 0-1.04.2-1.43.59L10.3 9.45l-7.72 7.72c-.78.78-.78 2.05 0 2.83L4 21.41c.39.39.9.59 1.41.59.51 0 1.02-.2 1.41-.59l7.78-7.78 2.81-2.81c.8-.78.8-2.07 0-2.86zM5.41 20L4 18.59l7.72-7.72 1.47 1.35L5.41 20z\"/>\n",
              "  </svg>\n",
              "      </button>\n",
              "      \n",
              "  <style>\n",
              "    .colab-df-container {\n",
              "      display:flex;\n",
              "      flex-wrap:wrap;\n",
              "      gap: 12px;\n",
              "    }\n",
              "\n",
              "    .colab-df-convert {\n",
              "      background-color: #E8F0FE;\n",
              "      border: none;\n",
              "      border-radius: 50%;\n",
              "      cursor: pointer;\n",
              "      display: none;\n",
              "      fill: #1967D2;\n",
              "      height: 32px;\n",
              "      padding: 0 0 0 0;\n",
              "      width: 32px;\n",
              "    }\n",
              "\n",
              "    .colab-df-convert:hover {\n",
              "      background-color: #E2EBFA;\n",
              "      box-shadow: 0px 1px 2px rgba(60, 64, 67, 0.3), 0px 1px 3px 1px rgba(60, 64, 67, 0.15);\n",
              "      fill: #174EA6;\n",
              "    }\n",
              "\n",
              "    [theme=dark] .colab-df-convert {\n",
              "      background-color: #3B4455;\n",
              "      fill: #D2E3FC;\n",
              "    }\n",
              "\n",
              "    [theme=dark] .colab-df-convert:hover {\n",
              "      background-color: #434B5C;\n",
              "      box-shadow: 0px 1px 3px 1px rgba(0, 0, 0, 0.15);\n",
              "      filter: drop-shadow(0px 1px 2px rgba(0, 0, 0, 0.3));\n",
              "      fill: #FFFFFF;\n",
              "    }\n",
              "  </style>\n",
              "\n",
              "      <script>\n",
              "        const buttonEl =\n",
              "          document.querySelector('#df-dc8b0819-5e14-433b-b331-584ae1c5b255 button.colab-df-convert');\n",
              "        buttonEl.style.display =\n",
              "          google.colab.kernel.accessAllowed ? 'block' : 'none';\n",
              "\n",
              "        async function convertToInteractive(key) {\n",
              "          const element = document.querySelector('#df-dc8b0819-5e14-433b-b331-584ae1c5b255');\n",
              "          const dataTable =\n",
              "            await google.colab.kernel.invokeFunction('convertToInteractive',\n",
              "                                                     [key], {});\n",
              "          if (!dataTable) return;\n",
              "\n",
              "          const docLinkHtml = 'Like what you see? Visit the ' +\n",
              "            '<a target=\"_blank\" href=https://colab.research.google.com/notebooks/data_table.ipynb>data table notebook</a>'\n",
              "            + ' to learn more about interactive tables.';\n",
              "          element.innerHTML = '';\n",
              "          dataTable['output_type'] = 'display_data';\n",
              "          await google.colab.output.renderOutput(dataTable, element);\n",
              "          const docLink = document.createElement('div');\n",
              "          docLink.innerHTML = docLinkHtml;\n",
              "          element.appendChild(docLink);\n",
              "        }\n",
              "      </script>\n",
              "    </div>\n",
              "  </div>\n",
              "  "
            ]
          },
          "metadata": {},
          "execution_count": 9
        }
      ]
    },
    {
      "cell_type": "code",
      "source": [
        "train_data, train_labels = train_dataset['description'].to_list(), train_dataset['genre'].to_numpy()\n",
        "test_data, test_labels = test_dataset['description'].to_list(), test_dataset['genre'].to_numpy()\n",
        "\n",
        "train_labels = train_labels.reshape(-1,1)\n",
        "test_labels = test_labels.reshape(-1,1)"
      ],
      "metadata": {
        "id": "h1AqCzZo-I4d"
      },
      "execution_count": 10,
      "outputs": []
    },
    {
      "cell_type": "code",
      "source": [
        "from sklearn.preprocessing import OneHotEncoder, LabelEncoder"
      ],
      "metadata": {
        "id": "jPUpv0tDA-2Z"
      },
      "execution_count": 11,
      "outputs": []
    },
    {
      "cell_type": "code",
      "source": [
        "one_hot_encoder = OneHotEncoder(sparse=False)\n",
        "label_encoder = LabelEncoder()"
      ],
      "metadata": {
        "id": "k53t7J5mBI1i"
      },
      "execution_count": 12,
      "outputs": []
    },
    {
      "cell_type": "code",
      "source": [
        "train_labels_one_hot = one_hot_encoder.fit_transform(train_labels)\n",
        "test_labels_one_hot = one_hot_encoder.transform(test_labels)\n",
        "\n",
        "train_labels = label_encoder.fit_transform(train_labels)\n",
        "test_labels = label_encoder.transform(test_labels)"
      ],
      "metadata": {
        "colab": {
          "base_uri": "https://localhost:8080/"
        },
        "id": "ZOnlsrtkBOMf",
        "outputId": "8cf26621-df7a-414f-f600-20c4dacd0df4"
      },
      "execution_count": 13,
      "outputs": [
        {
          "output_type": "stream",
          "name": "stderr",
          "text": [
            "/usr/local/lib/python3.8/dist-packages/sklearn/preprocessing/_label.py:115: DataConversionWarning: A column-vector y was passed when a 1d array was expected. Please change the shape of y to (n_samples, ), for example using ravel().\n",
            "  y = column_or_1d(y, warn=True)\n",
            "/usr/local/lib/python3.8/dist-packages/sklearn/preprocessing/_label.py:133: DataConversionWarning: A column-vector y was passed when a 1d array was expected. Please change the shape of y to (n_samples, ), for example using ravel().\n",
            "  y = column_or_1d(y, warn=True)\n"
          ]
        }
      ]
    },
    {
      "cell_type": "code",
      "source": [
        "train_labels_one_hot"
      ],
      "metadata": {
        "colab": {
          "base_uri": "https://localhost:8080/"
        },
        "id": "T-KTIeFoBf78",
        "outputId": "83126910-1c70-4ff9-f634-2b781b6586d0"
      },
      "execution_count": 14,
      "outputs": [
        {
          "output_type": "execute_result",
          "data": {
            "text/plain": [
              "array([[0., 0., 0., ..., 1., 0., 0.],\n",
              "       [0., 0., 0., ..., 0., 0., 0.],\n",
              "       [0., 0., 0., ..., 0., 0., 0.],\n",
              "       ...,\n",
              "       [0., 1., 0., ..., 0., 0., 0.],\n",
              "       [0., 0., 0., ..., 0., 0., 0.],\n",
              "       [0., 0., 0., ..., 0., 0., 0.]])"
            ]
          },
          "metadata": {},
          "execution_count": 14
        }
      ]
    },
    {
      "cell_type": "code",
      "source": [
        "NUM_CLASSES = len(label_encoder.classes_)\n",
        "NUM_CLASSES"
      ],
      "metadata": {
        "colab": {
          "base_uri": "https://localhost:8080/"
        },
        "id": "SgeSxfXZB-vm",
        "outputId": "dc828a67-7223-4ae0-e5cb-fc464975110f"
      },
      "execution_count": 15,
      "outputs": [
        {
          "output_type": "execute_result",
          "data": {
            "text/plain": [
              "27"
            ]
          },
          "metadata": {},
          "execution_count": 15
        }
      ]
    },
    {
      "cell_type": "code",
      "source": [
        "from sklearn.feature_extraction.text import TfidfVectorizer\n",
        "from sklearn.naive_bayes import MultinomialNB\n",
        "from sklearn.pipeline import Pipeline\n",
        "\n",
        "model_0 = Pipeline([\n",
        "    (\"tfidf\", TfidfVectorizer()),\n",
        "    (\"clf\", MultinomialNB())\n",
        "])\n",
        "model_0.fit(train_data, train_labels)"
      ],
      "metadata": {
        "colab": {
          "base_uri": "https://localhost:8080/"
        },
        "id": "Tt-lgXAnCETQ",
        "outputId": "0ae281ba-263d-4407-bae8-ad816f873c4e"
      },
      "execution_count": 16,
      "outputs": [
        {
          "output_type": "execute_result",
          "data": {
            "text/plain": [
              "Pipeline(steps=[('tfidf', TfidfVectorizer()), ('clf', MultinomialNB())])"
            ]
          },
          "metadata": {},
          "execution_count": 16
        }
      ]
    },
    {
      "cell_type": "code",
      "source": [
        "model_0_score = model_0.score(test_data, test_labels)"
      ],
      "metadata": {
        "id": "CT5z601TCNnk"
      },
      "execution_count": 17,
      "outputs": []
    },
    {
      "cell_type": "code",
      "source": [
        "from sklearn.metrics import accuracy_score, precision_recall_fscore_support\n",
        "def calculate_results(y_true, y_pred):\n",
        "  model_accuracy = accuracy_score(y_true, y_pred) * 100\n",
        "  model_precision, model_recall, model_f1_score, _ = precision_recall_fscore_support(y_true, y_pred, average=\"weighted\")\n",
        "  model_results = {\n",
        "      \"accuracy\": model_accuracy,\n",
        "      \"precision\":model_precision,\n",
        "      \"recall\": model_recall,\n",
        "      \"f1_score\": model_f1_score\n",
        "  }\n",
        "  return model_results\n",
        "\n",
        "def return_callbacks(model_name):\n",
        "  callbacks_list = []\n",
        "  callbacks_list.append(tf.keras.callbacks.ModelCheckpoint(\"saved_models/\"+model_name, monitor='val_loss', save_best_only='True', verbose=1))\n",
        "  callbacks_list.append(tf.keras.callbacks.EarlyStopping(monitor='val_loss', patience=5, verbose=1, restore_best_weights='True'))\n",
        "  return callbacks_list"
      ],
      "metadata": {
        "id": "Q0hOk_N2CUZ_"
      },
      "execution_count": 18,
      "outputs": []
    },
    {
      "cell_type": "code",
      "source": [
        "model_0_preds = model_0.predict(test_data)\n",
        "model_0_results = calculate_results(test_labels, model_0_preds)\n",
        "model_results_dataset = {}\n",
        "model_results_dataset['model_0'] = model_0_results\n",
        "model_0_results"
      ],
      "metadata": {
        "colab": {
          "base_uri": "https://localhost:8080/"
        },
        "id": "CQTnouHsCXSC",
        "outputId": "a9d88228-e560-4cb9-c877-b4f8a5f10926"
      },
      "execution_count": 19,
      "outputs": [
        {
          "output_type": "stream",
          "name": "stderr",
          "text": [
            "/usr/local/lib/python3.8/dist-packages/sklearn/metrics/_classification.py:1318: UndefinedMetricWarning: Precision and F-score are ill-defined and being set to 0.0 in labels with no predicted samples. Use `zero_division` parameter to control this behavior.\n",
            "  _warn_prf(average, modifier, msg_start, len(result))\n"
          ]
        },
        {
          "output_type": "execute_result",
          "data": {
            "text/plain": [
              "{'accuracy': 46.14944649446495,\n",
              " 'precision': 0.44949339171552266,\n",
              " 'recall': 0.46149446494464946,\n",
              " 'f1_score': 0.3214748860994953}"
            ]
          },
          "metadata": {},
          "execution_count": 19
        }
      ]
    },
    {
      "cell_type": "code",
      "source": [
        "train_dataset = tf.data.Dataset.from_tensor_slices((train_data, train_labels_one_hot))\n",
        "test_dataset = tf.data.Dataset.from_tensor_slices((test_data, test_labels_one_hot))\n",
        "\n",
        "# Take the TensorSliceDataset's and turn them into prefetched batches\n",
        "train_dataset = train_dataset.batch(32).prefetch(tf.data.AUTOTUNE)\n",
        "test_dataset = test_dataset.batch(32).prefetch(tf.data.AUTOTUNE)\n",
        "\n",
        "train_dataset"
      ],
      "metadata": {
        "colab": {
          "base_uri": "https://localhost:8080/"
        },
        "id": "g9ZA4JBtCkZ-",
        "outputId": "9e334a04-226e-4a78-9333-0b652fbc80fa"
      },
      "execution_count": 20,
      "outputs": [
        {
          "output_type": "execute_result",
          "data": {
            "text/plain": [
              "<PrefetchDataset element_spec=(TensorSpec(shape=(None,), dtype=tf.string, name=None), TensorSpec(shape=(None, 27), dtype=tf.float64, name=None))>"
            ]
          },
          "metadata": {},
          "execution_count": 20
        }
      ]
    },
    {
      "cell_type": "code",
      "source": [
        "from tensorflow.keras.layers import TextVectorization\n",
        "output_seq_length = round(sum([len(i.split()) for i in train_data])/len(train_data))\n",
        "tv_layer = TextVectorization(max_tokens=10000, standardize=\"lower_and_strip_punctuation\", split=\"whitespace\", output_mode=\"int\", output_sequence_length=output_seq_length, pad_to_max_tokens=True)\n",
        "tv_layer.adapt(train_data)"
      ],
      "metadata": {
        "id": "RhqbyyERCwuB"
      },
      "execution_count": 21,
      "outputs": []
    },
    {
      "cell_type": "code",
      "source": [
        "from tensorflow.keras import layers\n",
        "\n",
        "embedding_layer = layers.Embedding(input_dim=10000, output_dim=128, input_length=output_seq_length)"
      ],
      "metadata": {
        "id": "TtE9ItId28T3"
      },
      "execution_count": 22,
      "outputs": []
    },
    {
      "cell_type": "code",
      "source": [
        "from tensorflow.keras import layers\n",
        "\n",
        "inputs = layers.Input(shape=(1,), dtype=tf.string)\n",
        "x = tv_layer(inputs)\n",
        "x = embedding_layer(x)\n",
        "x = layers.GlobalAveragePooling1D()(x)\n",
        "output = layers.Dense(NUM_CLASSES, activation='softmax')(x)\n",
        "\n",
        "model_1 = tf.keras.Model(inputs, output, name=\"nlp_model_1\")\n",
        "model_1.summary()"
      ],
      "metadata": {
        "colab": {
          "base_uri": "https://localhost:8080/"
        },
        "id": "66pOMD4v3BAu",
        "outputId": "27455f26-5a18-4260-8dd1-4c8f77a57eec"
      },
      "execution_count": 23,
      "outputs": [
        {
          "output_type": "stream",
          "name": "stdout",
          "text": [
            "Model: \"nlp_model_1\"\n",
            "_________________________________________________________________\n",
            " Layer (type)                Output Shape              Param #   \n",
            "=================================================================\n",
            " input_1 (InputLayer)        [(None, 1)]               0         \n",
            "                                                                 \n",
            " text_vectorization (TextVec  (None, 102)              0         \n",
            " torization)                                                     \n",
            "                                                                 \n",
            " embedding (Embedding)       (None, 102, 128)          1280000   \n",
            "                                                                 \n",
            " global_average_pooling1d (G  (None, 128)              0         \n",
            " lobalAveragePooling1D)                                          \n",
            "                                                                 \n",
            " dense (Dense)               (None, 27)                3483      \n",
            "                                                                 \n",
            "=================================================================\n",
            "Total params: 1,283,483\n",
            "Trainable params: 1,283,483\n",
            "Non-trainable params: 0\n",
            "_________________________________________________________________\n"
          ]
        }
      ]
    },
    {
      "cell_type": "code",
      "source": [
        "model_1.compile(loss=\"categorical_crossentropy\", optimizer=tf.keras.optimizers.Adam(), metrics=[\"accuracy\"])\n",
        "history_1 = model_1.fit(train_dataset, epochs=20, validation_data=test_dataset, callbacks=return_callbacks(model_1.name))"
      ],
      "metadata": {
        "colab": {
          "base_uri": "https://localhost:8080/"
        },
        "id": "-IenPnV83HNO",
        "outputId": "b91d2891-c555-475d-862e-91175c623618"
      },
      "execution_count": 24,
      "outputs": [
        {
          "output_type": "stream",
          "name": "stdout",
          "text": [
            "Epoch 1/20\n",
            "1691/1694 [============================>.] - ETA: 0s - loss: 2.1005 - accuracy: 0.4184\n",
            "Epoch 1: val_loss improved from inf to 1.81960, saving model to saved_models/nlp_model_1\n",
            "1694/1694 [==============================] - 25s 13ms/step - loss: 2.0999 - accuracy: 0.4187 - val_loss: 1.8196 - val_accuracy: 0.4856\n",
            "Epoch 2/20\n",
            "1689/1694 [============================>.] - ETA: 0s - loss: 1.6800 - accuracy: 0.5237\n",
            "Epoch 2: val_loss improved from 1.81960 to 1.51474, saving model to saved_models/nlp_model_1\n",
            "1694/1694 [==============================] - 13s 7ms/step - loss: 1.6797 - accuracy: 0.5239 - val_loss: 1.5147 - val_accuracy: 0.5737\n",
            "Epoch 3/20\n",
            "1691/1694 [============================>.] - ETA: 0s - loss: 1.4462 - accuracy: 0.5887\n",
            "Epoch 3: val_loss improved from 1.51474 to 1.33092, saving model to saved_models/nlp_model_1\n",
            "1694/1694 [==============================] - 13s 8ms/step - loss: 1.4458 - accuracy: 0.5889 - val_loss: 1.3309 - val_accuracy: 0.6231\n",
            "Epoch 4/20\n",
            "1692/1694 [============================>.] - ETA: 0s - loss: 1.2958 - accuracy: 0.6282\n",
            "Epoch 4: val_loss improved from 1.33092 to 1.20083, saving model to saved_models/nlp_model_1\n",
            "1694/1694 [==============================] - 13s 8ms/step - loss: 1.2959 - accuracy: 0.6282 - val_loss: 1.2008 - val_accuracy: 0.6559\n",
            "Epoch 5/20\n",
            "1684/1694 [============================>.] - ETA: 0s - loss: 1.1832 - accuracy: 0.6559\n",
            "Epoch 5: val_loss improved from 1.20083 to 1.09647, saving model to saved_models/nlp_model_1\n",
            "1694/1694 [==============================] - 13s 7ms/step - loss: 1.1825 - accuracy: 0.6561 - val_loss: 1.0965 - val_accuracy: 0.6814\n",
            "Epoch 6/20\n",
            "1683/1694 [============================>.] - ETA: 0s - loss: 1.0892 - accuracy: 0.6786\n",
            "Epoch 6: val_loss improved from 1.09647 to 1.00760, saving model to saved_models/nlp_model_1\n",
            "1694/1694 [==============================] - 13s 7ms/step - loss: 1.0886 - accuracy: 0.6787 - val_loss: 1.0076 - val_accuracy: 0.7046\n",
            "Epoch 7/20\n",
            "1687/1694 [============================>.] - ETA: 0s - loss: 1.0079 - accuracy: 0.6984\n",
            "Epoch 7: val_loss improved from 1.00760 to 0.92996, saving model to saved_models/nlp_model_1\n",
            "1694/1694 [==============================] - 13s 8ms/step - loss: 1.0075 - accuracy: 0.6986 - val_loss: 0.9300 - val_accuracy: 0.7239\n",
            "Epoch 8/20\n",
            "1683/1694 [============================>.] - ETA: 0s - loss: 0.9363 - accuracy: 0.7164\n",
            "Epoch 8: val_loss improved from 0.92996 to 0.86062, saving model to saved_models/nlp_model_1\n",
            "1694/1694 [==============================] - 12s 7ms/step - loss: 0.9358 - accuracy: 0.7165 - val_loss: 0.8606 - val_accuracy: 0.7437\n",
            "Epoch 9/20\n",
            "1685/1694 [============================>.] - ETA: 0s - loss: 0.8716 - accuracy: 0.7335\n",
            "Epoch 9: val_loss improved from 0.86062 to 0.79759, saving model to saved_models/nlp_model_1\n",
            "1694/1694 [==============================] - 13s 8ms/step - loss: 0.8711 - accuracy: 0.7337 - val_loss: 0.7976 - val_accuracy: 0.7622\n",
            "Epoch 10/20\n",
            "1694/1694 [==============================] - ETA: 0s - loss: 0.8116 - accuracy: 0.7513\n",
            "Epoch 10: val_loss improved from 0.79759 to 0.73957, saving model to saved_models/nlp_model_1\n",
            "1694/1694 [==============================] - 13s 8ms/step - loss: 0.8116 - accuracy: 0.7513 - val_loss: 0.7396 - val_accuracy: 0.7793\n",
            "Epoch 11/20\n",
            "1688/1694 [============================>.] - ETA: 0s - loss: 0.7570 - accuracy: 0.7668\n",
            "Epoch 11: val_loss improved from 0.73957 to 0.68576, saving model to saved_models/nlp_model_1\n",
            "1694/1694 [==============================] - 12s 7ms/step - loss: 0.7565 - accuracy: 0.7669 - val_loss: 0.6858 - val_accuracy: 0.7951\n",
            "Epoch 12/20\n",
            "1689/1694 [============================>.] - ETA: 0s - loss: 0.7054 - accuracy: 0.7816\n",
            "Epoch 12: val_loss improved from 0.68576 to 0.63567, saving model to saved_models/nlp_model_1\n",
            "1694/1694 [==============================] - 13s 7ms/step - loss: 0.7050 - accuracy: 0.7817 - val_loss: 0.6357 - val_accuracy: 0.8111\n",
            "Epoch 13/20\n",
            "1688/1694 [============================>.] - ETA: 0s - loss: 0.6573 - accuracy: 0.7971\n",
            "Epoch 13: val_loss improved from 0.63567 to 0.58899, saving model to saved_models/nlp_model_1\n",
            "1694/1694 [==============================] - 13s 7ms/step - loss: 0.6569 - accuracy: 0.7973 - val_loss: 0.5890 - val_accuracy: 0.8273\n",
            "Epoch 14/20\n",
            "1683/1694 [============================>.] - ETA: 0s - loss: 0.6121 - accuracy: 0.8126\n",
            "Epoch 14: val_loss improved from 0.58899 to 0.54552, saving model to saved_models/nlp_model_1\n",
            "1694/1694 [==============================] - 13s 7ms/step - loss: 0.6117 - accuracy: 0.8127 - val_loss: 0.5455 - val_accuracy: 0.8417\n",
            "Epoch 15/20\n",
            "1690/1694 [============================>.] - ETA: 0s - loss: 0.5697 - accuracy: 0.8261\n",
            "Epoch 15: val_loss improved from 0.54552 to 0.50515, saving model to saved_models/nlp_model_1\n",
            "1694/1694 [==============================] - 13s 8ms/step - loss: 0.5695 - accuracy: 0.8262 - val_loss: 0.5051 - val_accuracy: 0.8544\n",
            "Epoch 16/20\n",
            "1694/1694 [==============================] - ETA: 0s - loss: 0.5300 - accuracy: 0.8394\n",
            "Epoch 16: val_loss improved from 0.50515 to 0.46775, saving model to saved_models/nlp_model_1\n",
            "1694/1694 [==============================] - 13s 7ms/step - loss: 0.5300 - accuracy: 0.8394 - val_loss: 0.4678 - val_accuracy: 0.8668\n",
            "Epoch 17/20\n",
            "1686/1694 [============================>.] - ETA: 0s - loss: 0.4934 - accuracy: 0.8512\n",
            "Epoch 17: val_loss improved from 0.46775 to 0.43324, saving model to saved_models/nlp_model_1\n",
            "1694/1694 [==============================] - 13s 8ms/step - loss: 0.4932 - accuracy: 0.8513 - val_loss: 0.4332 - val_accuracy: 0.8788\n",
            "Epoch 18/20\n",
            "1686/1694 [============================>.] - ETA: 0s - loss: 0.4591 - accuracy: 0.8630\n",
            "Epoch 18: val_loss improved from 0.43324 to 0.40149, saving model to saved_models/nlp_model_1\n",
            "1694/1694 [==============================] - 13s 7ms/step - loss: 0.4590 - accuracy: 0.8631 - val_loss: 0.4015 - val_accuracy: 0.8895\n",
            "Epoch 19/20\n",
            "1687/1694 [============================>.] - ETA: 0s - loss: 0.4275 - accuracy: 0.8741\n",
            "Epoch 19: val_loss improved from 0.40149 to 0.37239, saving model to saved_models/nlp_model_1\n",
            "1694/1694 [==============================] - 13s 7ms/step - loss: 0.4274 - accuracy: 0.8742 - val_loss: 0.3724 - val_accuracy: 0.8992\n",
            "Epoch 20/20\n",
            "1686/1694 [============================>.] - ETA: 0s - loss: 0.3982 - accuracy: 0.8830\n",
            "Epoch 20: val_loss improved from 0.37239 to 0.34583, saving model to saved_models/nlp_model_1\n",
            "1694/1694 [==============================] - 12s 7ms/step - loss: 0.3982 - accuracy: 0.8831 - val_loss: 0.3458 - val_accuracy: 0.9075\n"
          ]
        }
      ]
    },
    {
      "cell_type": "code",
      "source": [
        "model_1.evaluate(test_dataset)\n",
        "model_1_loaded = tf.keras.models.load_model(\"saved_models/nlp_model_1\")\n",
        "model_1_preds = model_1_loaded.predict(test_dataset)\n",
        "model_1_results = calculate_results(test_labels, tf.argmax(model_1_preds, axis=1))\n",
        "model_results_dataset['model_1'] = model_1_results\n",
        "model_1_results"
      ],
      "metadata": {
        "colab": {
          "base_uri": "https://localhost:8080/"
        },
        "id": "qKCqBz7i3MQ0",
        "outputId": "3514c656-1855-455c-fccc-51e5ce693e05"
      },
      "execution_count": 25,
      "outputs": [
        {
          "output_type": "stream",
          "name": "stdout",
          "text": [
            "1694/1694 [==============================] - 5s 3ms/step - loss: 0.3458 - accuracy: 0.9075\n",
            "1694/1694 [==============================] - 4s 2ms/step\n"
          ]
        },
        {
          "output_type": "execute_result",
          "data": {
            "text/plain": [
              "{'accuracy': 90.75092250922509,\n",
              " 'precision': 0.9083169199119676,\n",
              " 'recall': 0.907509225092251,\n",
              " 'f1_score': 0.9073697795928753}"
            ]
          },
          "metadata": {},
          "execution_count": 25
        }
      ]
    },
    {
      "cell_type": "markdown",
      "source": [
        "## model 2"
      ],
      "metadata": {
        "id": "-u6yr6jA7kAn"
      }
    },
    {
      "cell_type": "code",
      "source": [
        "tf.keras.backend.clear_session()"
      ],
      "metadata": {
        "id": "qluubOtF7cET"
      },
      "execution_count": 26,
      "outputs": []
    },
    {
      "cell_type": "code",
      "source": [
        "from tensorflow.keras import layers\n",
        "model_2_embedding = layers.Embedding(input_dim=10000, output_dim=128, embeddings_initializer=\"uniform\", input_length=output_seq_length, name=\"embedding_2\")\n",
        "\n",
        "inputs = layers.Input(shape=(1,), dtype=tf.string)\n",
        "x = tv_layer(inputs)\n",
        "x = model_2_embedding(x)\n",
        "x = layers.GlobalAveragePooling1D()(x)\n",
        "x = layers.Dense(64, activation='relu')(x)\n",
        "output = layers.Dense(NUM_CLASSES, activation='softmax')(x)\n",
        "\n",
        "model_2 = tf.keras.Model(inputs, output, name=\"nlp_model_2\")\n",
        "model_2.summary()"
      ],
      "metadata": {
        "colab": {
          "base_uri": "https://localhost:8080/"
        },
        "id": "LlUlurEa7loM",
        "outputId": "e87356c6-a028-4bc4-869a-3920195b637e"
      },
      "execution_count": 27,
      "outputs": [
        {
          "output_type": "stream",
          "name": "stdout",
          "text": [
            "Model: \"nlp_model_2\"\n",
            "_________________________________________________________________\n",
            " Layer (type)                Output Shape              Param #   \n",
            "=================================================================\n",
            " input_1 (InputLayer)        [(None, 1)]               0         \n",
            "                                                                 \n",
            " text_vectorization (TextVec  (None, 102)              0         \n",
            " torization)                                                     \n",
            "                                                                 \n",
            " embedding_2 (Embedding)     (None, 102, 128)          1280000   \n",
            "                                                                 \n",
            " global_average_pooling1d (G  (None, 128)              0         \n",
            " lobalAveragePooling1D)                                          \n",
            "                                                                 \n",
            " dense (Dense)               (None, 64)                8256      \n",
            "                                                                 \n",
            " dense_1 (Dense)             (None, 27)                1755      \n",
            "                                                                 \n",
            "=================================================================\n",
            "Total params: 1,290,011\n",
            "Trainable params: 1,290,011\n",
            "Non-trainable params: 0\n",
            "_________________________________________________________________\n"
          ]
        }
      ]
    },
    {
      "cell_type": "code",
      "source": [
        "model_2.compile(loss=\"categorical_crossentropy\", optimizer=tf.keras.optimizers.Adam(), metrics=[\"accuracy\"])\n",
        "history_2 = model_2.fit(train_dataset, epochs=20, validation_data=test_dataset,callbacks=return_callbacks(model_2.name))"
      ],
      "metadata": {
        "colab": {
          "base_uri": "https://localhost:8080/"
        },
        "id": "CGvbyq6s7r9U",
        "outputId": "5d57e90d-749a-4c57-bcc0-dfd3e3517eeb"
      },
      "execution_count": 28,
      "outputs": [
        {
          "output_type": "stream",
          "name": "stdout",
          "text": [
            "Epoch 1/20\n",
            "1683/1694 [============================>.] - ETA: 0s - loss: 1.9386 - accuracy: 0.4486\n",
            "Epoch 1: val_loss improved from inf to 1.53869, saving model to saved_models/nlp_model_2\n",
            "1694/1694 [==============================] - 13s 8ms/step - loss: 1.9367 - accuracy: 0.4493 - val_loss: 1.5387 - val_accuracy: 0.5637\n",
            "Epoch 2/20\n",
            "1688/1694 [============================>.] - ETA: 0s - loss: 1.4591 - accuracy: 0.5804\n",
            "Epoch 2: val_loss improved from 1.53869 to 1.26428, saving model to saved_models/nlp_model_2\n",
            "1694/1694 [==============================] - 13s 7ms/step - loss: 1.4584 - accuracy: 0.5808 - val_loss: 1.2643 - val_accuracy: 0.6361\n",
            "Epoch 3/20\n",
            "1689/1694 [============================>.] - ETA: 0s - loss: 1.2675 - accuracy: 0.6302\n",
            "Epoch 3: val_loss improved from 1.26428 to 1.10883, saving model to saved_models/nlp_model_2\n",
            "1694/1694 [==============================] - 14s 8ms/step - loss: 1.2671 - accuracy: 0.6304 - val_loss: 1.1088 - val_accuracy: 0.6773\n",
            "Epoch 4/20\n",
            "1685/1694 [============================>.] - ETA: 0s - loss: 1.1401 - accuracy: 0.6617\n",
            "Epoch 4: val_loss improved from 1.10883 to 0.99114, saving model to saved_models/nlp_model_2\n",
            "1694/1694 [==============================] - 13s 8ms/step - loss: 1.1394 - accuracy: 0.6620 - val_loss: 0.9911 - val_accuracy: 0.7096\n",
            "Epoch 5/20\n",
            "1693/1694 [============================>.] - ETA: 0s - loss: 1.0365 - accuracy: 0.6908\n",
            "Epoch 5: val_loss improved from 0.99114 to 0.89176, saving model to saved_models/nlp_model_2\n",
            "1694/1694 [==============================] - 13s 8ms/step - loss: 1.0364 - accuracy: 0.6908 - val_loss: 0.8918 - val_accuracy: 0.7372\n",
            "Epoch 6/20\n",
            "1692/1694 [============================>.] - ETA: 0s - loss: 0.9448 - accuracy: 0.7161\n",
            "Epoch 6: val_loss improved from 0.89176 to 0.80188, saving model to saved_models/nlp_model_2\n",
            "1694/1694 [==============================] - 14s 8ms/step - loss: 0.9446 - accuracy: 0.7161 - val_loss: 0.8019 - val_accuracy: 0.7625\n",
            "Epoch 7/20\n",
            "1688/1694 [============================>.] - ETA: 0s - loss: 0.8607 - accuracy: 0.7391\n",
            "Epoch 7: val_loss improved from 0.80188 to 0.72043, saving model to saved_models/nlp_model_2\n",
            "1694/1694 [==============================] - 13s 8ms/step - loss: 0.8602 - accuracy: 0.7393 - val_loss: 0.7204 - val_accuracy: 0.7857\n",
            "Epoch 8/20\n",
            "1688/1694 [============================>.] - ETA: 0s - loss: 0.7827 - accuracy: 0.7604\n",
            "Epoch 8: val_loss improved from 0.72043 to 0.64648, saving model to saved_models/nlp_model_2\n",
            "1694/1694 [==============================] - 13s 8ms/step - loss: 0.7822 - accuracy: 0.7607 - val_loss: 0.6465 - val_accuracy: 0.8082\n",
            "Epoch 9/20\n",
            "1688/1694 [============================>.] - ETA: 0s - loss: 0.7104 - accuracy: 0.7815\n",
            "Epoch 9: val_loss improved from 0.64648 to 0.58071, saving model to saved_models/nlp_model_2\n",
            "1694/1694 [==============================] - 13s 8ms/step - loss: 0.7100 - accuracy: 0.7816 - val_loss: 0.5807 - val_accuracy: 0.8271\n",
            "Epoch 10/20\n",
            "1684/1694 [============================>.] - ETA: 0s - loss: 0.6431 - accuracy: 0.8022\n",
            "Epoch 10: val_loss improved from 0.58071 to 0.52097, saving model to saved_models/nlp_model_2\n",
            "1694/1694 [==============================] - 13s 8ms/step - loss: 0.6428 - accuracy: 0.8023 - val_loss: 0.5210 - val_accuracy: 0.8463\n",
            "Epoch 11/20\n",
            "1688/1694 [============================>.] - ETA: 0s - loss: 0.5802 - accuracy: 0.8243\n",
            "Epoch 11: val_loss improved from 0.52097 to 0.46637, saving model to saved_models/nlp_model_2\n",
            "1694/1694 [==============================] - 13s 8ms/step - loss: 0.5798 - accuracy: 0.8244 - val_loss: 0.4664 - val_accuracy: 0.8632\n",
            "Epoch 12/20\n",
            "1693/1694 [============================>.] - ETA: 0s - loss: 0.5206 - accuracy: 0.8442\n",
            "Epoch 12: val_loss improved from 0.46637 to 0.41614, saving model to saved_models/nlp_model_2\n",
            "1694/1694 [==============================] - 13s 8ms/step - loss: 0.5205 - accuracy: 0.8442 - val_loss: 0.4161 - val_accuracy: 0.8791\n",
            "Epoch 13/20\n",
            "1687/1694 [============================>.] - ETA: 0s - loss: 0.4644 - accuracy: 0.8642\n",
            "Epoch 13: val_loss improved from 0.41614 to 0.37089, saving model to saved_models/nlp_model_2\n",
            "1694/1694 [==============================] - 13s 8ms/step - loss: 0.4642 - accuracy: 0.8642 - val_loss: 0.3709 - val_accuracy: 0.8934\n",
            "Epoch 14/20\n",
            "1694/1694 [==============================] - ETA: 0s - loss: 0.4112 - accuracy: 0.8824\n",
            "Epoch 14: val_loss improved from 0.37089 to 0.32942, saving model to saved_models/nlp_model_2\n",
            "1694/1694 [==============================] - 13s 7ms/step - loss: 0.4112 - accuracy: 0.8824 - val_loss: 0.3294 - val_accuracy: 0.9056\n",
            "Epoch 15/20\n",
            "1694/1694 [==============================] - ETA: 0s - loss: 0.3608 - accuracy: 0.8994\n",
            "Epoch 15: val_loss improved from 0.32942 to 0.29102, saving model to saved_models/nlp_model_2\n",
            "1694/1694 [==============================] - 13s 8ms/step - loss: 0.3608 - accuracy: 0.8994 - val_loss: 0.2910 - val_accuracy: 0.9173\n",
            "Epoch 16/20\n",
            "1692/1694 [============================>.] - ETA: 0s - loss: 0.3144 - accuracy: 0.9153\n",
            "Epoch 16: val_loss improved from 0.29102 to 0.25612, saving model to saved_models/nlp_model_2\n",
            "1694/1694 [==============================] - 13s 7ms/step - loss: 0.3143 - accuracy: 0.9154 - val_loss: 0.2561 - val_accuracy: 0.9276\n",
            "Epoch 17/20\n",
            "1689/1694 [============================>.] - ETA: 0s - loss: 0.2715 - accuracy: 0.9293\n",
            "Epoch 17: val_loss improved from 0.25612 to 0.22503, saving model to saved_models/nlp_model_2\n",
            "1694/1694 [==============================] - 13s 7ms/step - loss: 0.2713 - accuracy: 0.9294 - val_loss: 0.2250 - val_accuracy: 0.9356\n",
            "Epoch 18/20\n",
            "1685/1694 [============================>.] - ETA: 0s - loss: 0.2326 - accuracy: 0.9416\n",
            "Epoch 18: val_loss improved from 0.22503 to 0.19681, saving model to saved_models/nlp_model_2\n",
            "1694/1694 [==============================] - 14s 8ms/step - loss: 0.2326 - accuracy: 0.9417 - val_loss: 0.1968 - val_accuracy: 0.9430\n",
            "Epoch 19/20\n",
            "1689/1694 [============================>.] - ETA: 0s - loss: 0.1978 - accuracy: 0.9521\n",
            "Epoch 19: val_loss improved from 0.19681 to 0.17661, saving model to saved_models/nlp_model_2\n",
            "1694/1694 [==============================] - 13s 8ms/step - loss: 0.1976 - accuracy: 0.9521 - val_loss: 0.1766 - val_accuracy: 0.9470\n",
            "Epoch 20/20\n",
            "1684/1694 [============================>.] - ETA: 0s - loss: 0.1682 - accuracy: 0.9611\n",
            "Epoch 20: val_loss improved from 0.17661 to 0.16100, saving model to saved_models/nlp_model_2\n",
            "1694/1694 [==============================] - 13s 7ms/step - loss: 0.1681 - accuracy: 0.9612 - val_loss: 0.1610 - val_accuracy: 0.9501\n"
          ]
        }
      ]
    },
    {
      "cell_type": "code",
      "source": [
        "model_2.evaluate(test_dataset)\n",
        "model_2_loaded = tf.keras.models.load_model(\"saved_models/nlp_model_2\")\n",
        "model_2_preds = model_2_loaded.predict(test_dataset)\n",
        "model_2_results = calculate_results(test_labels, tf.argmax(model_2_preds, axis=1))\n",
        "model_results_dataset['model_2'] = model_2_results\n",
        "model_2_results"
      ],
      "metadata": {
        "colab": {
          "base_uri": "https://localhost:8080/"
        },
        "id": "Xkg-xjNX7w0g",
        "outputId": "3c234592-d9fa-4db6-f344-86ff24988e70"
      },
      "execution_count": 29,
      "outputs": [
        {
          "output_type": "stream",
          "name": "stdout",
          "text": [
            "1694/1694 [==============================] - 5s 3ms/step - loss: 0.1610 - accuracy: 0.9501\n",
            "1694/1694 [==============================] - 4s 2ms/step\n"
          ]
        },
        {
          "output_type": "execute_result",
          "data": {
            "text/plain": [
              "{'accuracy': 95.00922509225093,\n",
              " 'precision': 0.9522016733871342,\n",
              " 'recall': 0.9500922509225093,\n",
              " 'f1_score': 0.9500793175919274}"
            ]
          },
          "metadata": {},
          "execution_count": 29
        }
      ]
    },
    {
      "cell_type": "markdown",
      "source": [
        "## Model 3"
      ],
      "metadata": {
        "id": "y4NE_7Ms77CV"
      }
    },
    {
      "cell_type": "code",
      "source": [
        "tf.keras.backend.clear_session()"
      ],
      "metadata": {
        "id": "Zi8BYMgW76S2"
      },
      "execution_count": 30,
      "outputs": []
    },
    {
      "cell_type": "code",
      "source": [
        "from tensorflow.keras import layers\n",
        "model_3_embedding = layers.Embedding(input_dim=10000, output_dim=128, embeddings_initializer=\"uniform\", input_length=output_seq_length, name=\"embedding_2\")\n",
        "\n",
        "inputs = layers.Input(shape=(1,), dtype=tf.string)\n",
        "x = tv_layer(inputs)\n",
        "x = model_3_embedding(x)\n",
        "x = layers.LSTM(64)(x)\n",
        "x = layers.Dense(64, activation='relu')(x)\n",
        "output = layers.Dense(NUM_CLASSES, activation='softmax')(x)\n",
        "\n",
        "model_3 = tf.keras.Model(inputs, output, name=\"nlp_model_3\")\n",
        "model_3.summary()"
      ],
      "metadata": {
        "colab": {
          "base_uri": "https://localhost:8080/"
        },
        "id": "hVBpr8am8CAp",
        "outputId": "129c3749-c2ef-4792-ae12-d9aa698c54a5"
      },
      "execution_count": 31,
      "outputs": [
        {
          "output_type": "stream",
          "name": "stdout",
          "text": [
            "Model: \"nlp_model_3\"\n",
            "_________________________________________________________________\n",
            " Layer (type)                Output Shape              Param #   \n",
            "=================================================================\n",
            " input_1 (InputLayer)        [(None, 1)]               0         \n",
            "                                                                 \n",
            " text_vectorization (TextVec  (None, 102)              0         \n",
            " torization)                                                     \n",
            "                                                                 \n",
            " embedding_2 (Embedding)     (None, 102, 128)          1280000   \n",
            "                                                                 \n",
            " lstm (LSTM)                 (None, 64)                49408     \n",
            "                                                                 \n",
            " dense (Dense)               (None, 64)                4160      \n",
            "                                                                 \n",
            " dense_1 (Dense)             (None, 27)                1755      \n",
            "                                                                 \n",
            "=================================================================\n",
            "Total params: 1,335,323\n",
            "Trainable params: 1,335,323\n",
            "Non-trainable params: 0\n",
            "_________________________________________________________________\n"
          ]
        }
      ]
    },
    {
      "cell_type": "code",
      "source": [
        "model_3.compile(loss=\"categorical_crossentropy\", optimizer=tf.keras.optimizers.Adam(), metrics=[\"accuracy\"])\n",
        "history_3 = model_3.fit(train_dataset, epochs=20, validation_data=test_dataset,callbacks=return_callbacks(model_3.name))"
      ],
      "metadata": {
        "colab": {
          "base_uri": "https://localhost:8080/"
        },
        "id": "sHEV6TxO8Faw",
        "outputId": "50db57ed-f5f6-4867-b026-1b5c2dcf1b10"
      },
      "execution_count": 32,
      "outputs": [
        {
          "output_type": "stream",
          "name": "stdout",
          "text": [
            "Epoch 1/20\n",
            "1691/1694 [============================>.] - ETA: 0s - loss: 2.2218 - accuracy: 0.3486\n",
            "Epoch 1: val_loss improved from inf to 1.96156, saving model to saved_models/nlp_model_3\n"
          ]
        },
        {
          "output_type": "stream",
          "name": "stderr",
          "text": [
            "WARNING:absl:Found untraced functions such as lstm_cell_layer_call_fn, lstm_cell_layer_call_and_return_conditional_losses while saving (showing 2 of 2). These functions will not be directly callable after loading.\n"
          ]
        },
        {
          "output_type": "stream",
          "name": "stdout",
          "text": [
            "\b\b\b\b\b\b\b\b\b\b\b\b\b\b\b\b\b\b\b\b\b\b\b\b\b\b\b\b\b\b\b\b\b\b\b\b\b\b\b\b\b\b\b\b\b\b\b\b\b\b\b\b\b\b\b\b\b\b\b\b\b\b\b\b\b\b\b\b\b\b\b\b\b\b\b\b\b\b\b\b\b\b\b\b\b\b\r1694/1694 [==============================] - 30s 16ms/step - loss: 2.2211 - accuracy: 0.3489 - val_loss: 1.9616 - val_accuracy: 0.4419\n",
            "Epoch 2/20\n",
            "1694/1694 [==============================] - ETA: 0s - loss: 1.8132 - accuracy: 0.4810\n",
            "Epoch 2: val_loss improved from 1.96156 to 1.60307, saving model to saved_models/nlp_model_3\n"
          ]
        },
        {
          "output_type": "stream",
          "name": "stderr",
          "text": [
            "WARNING:absl:Found untraced functions such as lstm_cell_layer_call_fn, lstm_cell_layer_call_and_return_conditional_losses while saving (showing 2 of 2). These functions will not be directly callable after loading.\n"
          ]
        },
        {
          "output_type": "stream",
          "name": "stdout",
          "text": [
            "\b\b\b\b\b\b\b\b\b\b\b\b\b\b\b\b\b\b\b\b\b\b\b\b\b\b\b\b\b\b\b\b\b\b\b\b\b\b\b\b\b\b\b\b\b\b\b\b\b\b\b\b\b\b\b\b\b\b\b\b\b\b\b\b\b\b\b\b\b\b\b\b\b\b\b\b\b\b\b\b\b\b\b\b\b\b\r1694/1694 [==============================] - 26s 15ms/step - loss: 1.8132 - accuracy: 0.4810 - val_loss: 1.6031 - val_accuracy: 0.5404\n",
            "Epoch 3/20\n",
            "1691/1694 [============================>.] - ETA: 0s - loss: 1.5797 - accuracy: 0.5500\n",
            "Epoch 3: val_loss improved from 1.60307 to 1.36196, saving model to saved_models/nlp_model_3\n"
          ]
        },
        {
          "output_type": "stream",
          "name": "stderr",
          "text": [
            "WARNING:absl:Found untraced functions such as lstm_cell_layer_call_fn, lstm_cell_layer_call_and_return_conditional_losses while saving (showing 2 of 2). These functions will not be directly callable after loading.\n"
          ]
        },
        {
          "output_type": "stream",
          "name": "stdout",
          "text": [
            "\b\b\b\b\b\b\b\b\b\b\b\b\b\b\b\b\b\b\b\b\b\b\b\b\b\b\b\b\b\b\b\b\b\b\b\b\b\b\b\b\b\b\b\b\b\b\b\b\b\b\b\b\b\b\b\b\b\b\b\b\b\b\b\b\b\b\b\b\b\b\b\b\b\b\b\b\b\b\b\b\b\b\b\b\b\b\r1694/1694 [==============================] - 27s 16ms/step - loss: 1.5792 - accuracy: 0.5501 - val_loss: 1.3620 - val_accuracy: 0.6119\n",
            "Epoch 4/20\n",
            "1693/1694 [============================>.] - ETA: 0s - loss: 1.3717 - accuracy: 0.6088\n",
            "Epoch 4: val_loss improved from 1.36196 to 1.16373, saving model to saved_models/nlp_model_3\n"
          ]
        },
        {
          "output_type": "stream",
          "name": "stderr",
          "text": [
            "WARNING:absl:Found untraced functions such as lstm_cell_layer_call_fn, lstm_cell_layer_call_and_return_conditional_losses while saving (showing 2 of 2). These functions will not be directly callable after loading.\n"
          ]
        },
        {
          "output_type": "stream",
          "name": "stdout",
          "text": [
            "\b\b\b\b\b\b\b\b\b\b\b\b\b\b\b\b\b\b\b\b\b\b\b\b\b\b\b\b\b\b\b\b\b\b\b\b\b\b\b\b\b\b\b\b\b\b\b\b\b\b\b\b\b\b\b\b\b\b\b\b\b\b\b\b\b\b\b\b\b\b\b\b\b\b\b\b\b\b\b\b\b\b\b\b\b\b\r1694/1694 [==============================] - 27s 16ms/step - loss: 1.3717 - accuracy: 0.6088 - val_loss: 1.1637 - val_accuracy: 0.6667\n",
            "Epoch 5/20\n",
            "1693/1694 [============================>.] - ETA: 0s - loss: 1.1789 - accuracy: 0.6631\n",
            "Epoch 5: val_loss improved from 1.16373 to 0.98670, saving model to saved_models/nlp_model_3\n"
          ]
        },
        {
          "output_type": "stream",
          "name": "stderr",
          "text": [
            "WARNING:absl:Found untraced functions such as lstm_cell_layer_call_fn, lstm_cell_layer_call_and_return_conditional_losses while saving (showing 2 of 2). These functions will not be directly callable after loading.\n"
          ]
        },
        {
          "output_type": "stream",
          "name": "stdout",
          "text": [
            "\b\b\b\b\b\b\b\b\b\b\b\b\b\b\b\b\b\b\b\b\b\b\b\b\b\b\b\b\b\b\b\b\b\b\b\b\b\b\b\b\b\b\b\b\b\b\b\b\b\b\b\b\b\b\b\b\b\b\b\b\b\b\b\b\b\b\b\b\b\b\b\b\b\b\b\b\b\b\b\b\b\b\b\b\b\b\r1694/1694 [==============================] - 27s 16ms/step - loss: 1.1788 - accuracy: 0.6631 - val_loss: 0.9867 - val_accuracy: 0.7201\n",
            "Epoch 6/20\n",
            "1693/1694 [============================>.] - ETA: 0s - loss: 0.9989 - accuracy: 0.7149\n",
            "Epoch 6: val_loss improved from 0.98670 to 0.83586, saving model to saved_models/nlp_model_3\n"
          ]
        },
        {
          "output_type": "stream",
          "name": "stderr",
          "text": [
            "WARNING:absl:Found untraced functions such as lstm_cell_layer_call_fn, lstm_cell_layer_call_and_return_conditional_losses while saving (showing 2 of 2). These functions will not be directly callable after loading.\n"
          ]
        },
        {
          "output_type": "stream",
          "name": "stdout",
          "text": [
            "\b\b\b\b\b\b\b\b\b\b\b\b\b\b\b\b\b\b\b\b\b\b\b\b\b\b\b\b\b\b\b\b\b\b\b\b\b\b\b\b\b\b\b\b\b\b\b\b\b\b\b\b\b\b\b\b\b\b\b\b\b\b\b\b\b\b\b\b\b\b\b\b\b\b\b\b\b\b\b\b\b\b\b\b\b\b\r1694/1694 [==============================] - 26s 15ms/step - loss: 0.9988 - accuracy: 0.7149 - val_loss: 0.8359 - val_accuracy: 0.7624\n",
            "Epoch 7/20\n",
            "1694/1694 [==============================] - ETA: 0s - loss: 0.8373 - accuracy: 0.7636\n",
            "Epoch 7: val_loss improved from 0.83586 to 0.71765, saving model to saved_models/nlp_model_3\n"
          ]
        },
        {
          "output_type": "stream",
          "name": "stderr",
          "text": [
            "WARNING:absl:Found untraced functions such as lstm_cell_layer_call_fn, lstm_cell_layer_call_and_return_conditional_losses while saving (showing 2 of 2). These functions will not be directly callable after loading.\n"
          ]
        },
        {
          "output_type": "stream",
          "name": "stdout",
          "text": [
            "\b\b\b\b\b\b\b\b\b\b\b\b\b\b\b\b\b\b\b\b\b\b\b\b\b\b\b\b\b\b\b\b\b\b\b\b\b\b\b\b\b\b\b\b\b\b\b\b\b\b\b\b\b\b\b\b\b\b\b\b\b\b\b\b\b\b\b\b\b\b\b\b\b\b\b\b\b\b\b\b\b\b\b\b\b\b\r1694/1694 [==============================] - 26s 15ms/step - loss: 0.8373 - accuracy: 0.7636 - val_loss: 0.7177 - val_accuracy: 0.7964\n",
            "Epoch 8/20\n",
            "1689/1694 [============================>.] - ETA: 0s - loss: 0.7009 - accuracy: 0.8028\n",
            "Epoch 8: val_loss improved from 0.71765 to 0.60880, saving model to saved_models/nlp_model_3\n"
          ]
        },
        {
          "output_type": "stream",
          "name": "stderr",
          "text": [
            "WARNING:absl:Found untraced functions such as lstm_cell_layer_call_fn, lstm_cell_layer_call_and_return_conditional_losses while saving (showing 2 of 2). These functions will not be directly callable after loading.\n"
          ]
        },
        {
          "output_type": "stream",
          "name": "stdout",
          "text": [
            "\b\b\b\b\b\b\b\b\b\b\b\b\b\b\b\b\b\b\b\b\b\b\b\b\b\b\b\b\b\b\b\b\b\b\b\b\b\b\b\b\b\b\b\b\b\b\b\b\b\b\b\b\b\b\b\b\b\b\b\b\b\b\b\b\b\b\b\b\b\b\b\b\b\b\b\b\b\b\b\b\b\b\b\b\b\b\r1694/1694 [==============================] - 27s 16ms/step - loss: 0.7008 - accuracy: 0.8028 - val_loss: 0.6088 - val_accuracy: 0.8263\n",
            "Epoch 9/20\n",
            "1694/1694 [==============================] - ETA: 0s - loss: 0.5882 - accuracy: 0.8336\n",
            "Epoch 9: val_loss improved from 0.60880 to 0.51163, saving model to saved_models/nlp_model_3\n"
          ]
        },
        {
          "output_type": "stream",
          "name": "stderr",
          "text": [
            "WARNING:absl:Found untraced functions such as lstm_cell_layer_call_fn, lstm_cell_layer_call_and_return_conditional_losses while saving (showing 2 of 2). These functions will not be directly callable after loading.\n"
          ]
        },
        {
          "output_type": "stream",
          "name": "stdout",
          "text": [
            "\b\b\b\b\b\b\b\b\b\b\b\b\b\b\b\b\b\b\b\b\b\b\b\b\b\b\b\b\b\b\b\b\b\b\b\b\b\b\b\b\b\b\b\b\b\b\b\b\b\b\b\b\b\b\b\b\b\b\b\b\b\b\b\b\b\b\b\b\b\b\b\b\b\b\b\b\b\b\b\b\b\b\b\b\b\b\r1694/1694 [==============================] - 26s 15ms/step - loss: 0.5882 - accuracy: 0.8336 - val_loss: 0.5116 - val_accuracy: 0.8529\n",
            "Epoch 10/20\n",
            "1689/1694 [============================>.] - ETA: 0s - loss: 0.4960 - accuracy: 0.8583\n",
            "Epoch 10: val_loss improved from 0.51163 to 0.45206, saving model to saved_models/nlp_model_3\n"
          ]
        },
        {
          "output_type": "stream",
          "name": "stderr",
          "text": [
            "WARNING:absl:Found untraced functions such as lstm_cell_layer_call_fn, lstm_cell_layer_call_and_return_conditional_losses while saving (showing 2 of 2). These functions will not be directly callable after loading.\n"
          ]
        },
        {
          "output_type": "stream",
          "name": "stdout",
          "text": [
            "\b\b\b\b\b\b\b\b\b\b\b\b\b\b\b\b\b\b\b\b\b\b\b\b\b\b\b\b\b\b\b\b\b\b\b\b\b\b\b\b\b\b\b\b\b\b\b\b\b\b\b\b\b\b\b\b\b\b\b\b\b\b\b\b\b\b\b\b\b\b\b\b\b\b\b\b\b\b\b\b\b\b\b\b\b\b\r1694/1694 [==============================] - 26s 15ms/step - loss: 0.4959 - accuracy: 0.8583 - val_loss: 0.4521 - val_accuracy: 0.8685\n",
            "Epoch 11/20\n",
            "1692/1694 [============================>.] - ETA: 0s - loss: 0.4130 - accuracy: 0.8809\n",
            "Epoch 11: val_loss improved from 0.45206 to 0.39721, saving model to saved_models/nlp_model_3\n"
          ]
        },
        {
          "output_type": "stream",
          "name": "stderr",
          "text": [
            "WARNING:absl:Found untraced functions such as lstm_cell_layer_call_fn, lstm_cell_layer_call_and_return_conditional_losses while saving (showing 2 of 2). These functions will not be directly callable after loading.\n"
          ]
        },
        {
          "output_type": "stream",
          "name": "stdout",
          "text": [
            "\b\b\b\b\b\b\b\b\b\b\b\b\b\b\b\b\b\b\b\b\b\b\b\b\b\b\b\b\b\b\b\b\b\b\b\b\b\b\b\b\b\b\b\b\b\b\b\b\b\b\b\b\b\b\b\b\b\b\b\b\b\b\b\b\b\b\b\b\b\b\b\b\b\b\b\b\b\b\b\b\b\b\b\b\b\b\r1694/1694 [==============================] - 26s 15ms/step - loss: 0.4131 - accuracy: 0.8808 - val_loss: 0.3972 - val_accuracy: 0.8825\n",
            "Epoch 12/20\n",
            "1688/1694 [============================>.] - ETA: 0s - loss: 0.3477 - accuracy: 0.9016\n",
            "Epoch 12: val_loss improved from 0.39721 to 0.35970, saving model to saved_models/nlp_model_3\n"
          ]
        },
        {
          "output_type": "stream",
          "name": "stderr",
          "text": [
            "WARNING:absl:Found untraced functions such as lstm_cell_layer_call_fn, lstm_cell_layer_call_and_return_conditional_losses while saving (showing 2 of 2). These functions will not be directly callable after loading.\n"
          ]
        },
        {
          "output_type": "stream",
          "name": "stdout",
          "text": [
            "\b\b\b\b\b\b\b\b\b\b\b\b\b\b\b\b\b\b\b\b\b\b\b\b\b\b\b\b\b\b\b\b\b\b\b\b\b\b\b\b\b\b\b\b\b\b\b\b\b\b\b\b\b\b\b\b\b\b\b\b\b\b\b\b\b\b\b\b\b\b\b\b\b\b\b\b\b\b\b\b\b\b\b\b\b\b\r1694/1694 [==============================] - 26s 15ms/step - loss: 0.3476 - accuracy: 0.9016 - val_loss: 0.3597 - val_accuracy: 0.8922\n",
            "Epoch 13/20\n",
            "1693/1694 [============================>.] - ETA: 0s - loss: 0.2944 - accuracy: 0.9169\n",
            "Epoch 13: val_loss improved from 0.35970 to 0.30465, saving model to saved_models/nlp_model_3\n"
          ]
        },
        {
          "output_type": "stream",
          "name": "stderr",
          "text": [
            "WARNING:absl:Found untraced functions such as lstm_cell_layer_call_fn, lstm_cell_layer_call_and_return_conditional_losses while saving (showing 2 of 2). These functions will not be directly callable after loading.\n"
          ]
        },
        {
          "output_type": "stream",
          "name": "stdout",
          "text": [
            "\b\b\b\b\b\b\b\b\b\b\b\b\b\b\b\b\b\b\b\b\b\b\b\b\b\b\b\b\b\b\b\b\b\b\b\b\b\b\b\b\b\b\b\b\b\b\b\b\b\b\b\b\b\b\b\b\b\b\b\b\b\b\b\b\b\b\b\b\b\b\b\b\b\b\b\b\b\b\b\b\b\b\b\b\b\b\r1694/1694 [==============================] - 26s 15ms/step - loss: 0.2944 - accuracy: 0.9169 - val_loss: 0.3047 - val_accuracy: 0.9089\n",
            "Epoch 14/20\n",
            "1689/1694 [============================>.] - ETA: 0s - loss: 0.2421 - accuracy: 0.9313\n",
            "Epoch 14: val_loss improved from 0.30465 to 0.25296, saving model to saved_models/nlp_model_3\n"
          ]
        },
        {
          "output_type": "stream",
          "name": "stderr",
          "text": [
            "WARNING:absl:Found untraced functions such as lstm_cell_layer_call_fn, lstm_cell_layer_call_and_return_conditional_losses while saving (showing 2 of 2). These functions will not be directly callable after loading.\n"
          ]
        },
        {
          "output_type": "stream",
          "name": "stdout",
          "text": [
            "\b\b\b\b\b\b\b\b\b\b\b\b\b\b\b\b\b\b\b\b\b\b\b\b\b\b\b\b\b\b\b\b\b\b\b\b\b\b\b\b\b\b\b\b\b\b\b\b\b\b\b\b\b\b\b\b\b\b\b\b\b\b\b\b\b\b\b\b\b\b\b\b\b\b\b\b\b\b\b\b\b\b\b\b\b\b\r1694/1694 [==============================] - 27s 16ms/step - loss: 0.2422 - accuracy: 0.9312 - val_loss: 0.2530 - val_accuracy: 0.9245\n",
            "Epoch 15/20\n",
            "1690/1694 [============================>.] - ETA: 0s - loss: 0.2061 - accuracy: 0.9423\n",
            "Epoch 15: val_loss improved from 0.25296 to 0.23725, saving model to saved_models/nlp_model_3\n"
          ]
        },
        {
          "output_type": "stream",
          "name": "stderr",
          "text": [
            "WARNING:absl:Found untraced functions such as lstm_cell_layer_call_fn, lstm_cell_layer_call_and_return_conditional_losses while saving (showing 2 of 2). These functions will not be directly callable after loading.\n"
          ]
        },
        {
          "output_type": "stream",
          "name": "stdout",
          "text": [
            "\b\b\b\b\b\b\b\b\b\b\b\b\b\b\b\b\b\b\b\b\b\b\b\b\b\b\b\b\b\b\b\b\b\b\b\b\b\b\b\b\b\b\b\b\b\b\b\b\b\b\b\b\b\b\b\b\b\b\b\b\b\b\b\b\b\b\b\b\b\b\b\b\b\b\b\b\b\b\b\b\b\b\b\b\b\b\r1694/1694 [==============================] - 26s 15ms/step - loss: 0.2062 - accuracy: 0.9423 - val_loss: 0.2373 - val_accuracy: 0.9300\n",
            "Epoch 16/20\n",
            "1689/1694 [============================>.] - ETA: 0s - loss: 0.1758 - accuracy: 0.9510\n",
            "Epoch 16: val_loss improved from 0.23725 to 0.20861, saving model to saved_models/nlp_model_3\n"
          ]
        },
        {
          "output_type": "stream",
          "name": "stderr",
          "text": [
            "WARNING:absl:Found untraced functions such as lstm_cell_layer_call_fn, lstm_cell_layer_call_and_return_conditional_losses while saving (showing 2 of 2). These functions will not be directly callable after loading.\n"
          ]
        },
        {
          "output_type": "stream",
          "name": "stdout",
          "text": [
            "\b\b\b\b\b\b\b\b\b\b\b\b\b\b\b\b\b\b\b\b\b\b\b\b\b\b\b\b\b\b\b\b\b\b\b\b\b\b\b\b\b\b\b\b\b\b\b\b\b\b\b\b\b\b\b\b\b\b\b\b\b\b\b\b\b\b\b\b\b\b\b\b\b\b\b\b\b\b\b\b\b\b\b\b\b\b\r1694/1694 [==============================] - 26s 15ms/step - loss: 0.1757 - accuracy: 0.9511 - val_loss: 0.2086 - val_accuracy: 0.9377\n",
            "Epoch 17/20\n",
            "1694/1694 [==============================] - ETA: 0s - loss: 0.1500 - accuracy: 0.9569\n",
            "Epoch 17: val_loss did not improve from 0.20861\n",
            "1694/1694 [==============================] - 22s 13ms/step - loss: 0.1500 - accuracy: 0.9569 - val_loss: 0.2227 - val_accuracy: 0.9337\n",
            "Epoch 18/20\n",
            "1688/1694 [============================>.] - ETA: 0s - loss: 0.1267 - accuracy: 0.9650\n",
            "Epoch 18: val_loss improved from 0.20861 to 0.19332, saving model to saved_models/nlp_model_3\n"
          ]
        },
        {
          "output_type": "stream",
          "name": "stderr",
          "text": [
            "WARNING:absl:Found untraced functions such as lstm_cell_layer_call_fn, lstm_cell_layer_call_and_return_conditional_losses while saving (showing 2 of 2). These functions will not be directly callable after loading.\n"
          ]
        },
        {
          "output_type": "stream",
          "name": "stdout",
          "text": [
            "\b\b\b\b\b\b\b\b\b\b\b\b\b\b\b\b\b\b\b\b\b\b\b\b\b\b\b\b\b\b\b\b\b\b\b\b\b\b\b\b\b\b\b\b\b\b\b\b\b\b\b\b\b\b\b\b\b\b\b\b\b\b\b\b\b\b\b\b\b\b\b\b\b\b\b\b\b\b\b\b\b\b\b\b\b\b\r1694/1694 [==============================] - 26s 15ms/step - loss: 0.1267 - accuracy: 0.9650 - val_loss: 0.1933 - val_accuracy: 0.9423\n",
            "Epoch 19/20\n",
            "1692/1694 [============================>.] - ETA: 0s - loss: 0.1145 - accuracy: 0.9682\n",
            "Epoch 19: val_loss improved from 0.19332 to 0.16535, saving model to saved_models/nlp_model_3\n"
          ]
        },
        {
          "output_type": "stream",
          "name": "stderr",
          "text": [
            "WARNING:absl:Found untraced functions such as lstm_cell_layer_call_fn, lstm_cell_layer_call_and_return_conditional_losses while saving (showing 2 of 2). These functions will not be directly callable after loading.\n"
          ]
        },
        {
          "output_type": "stream",
          "name": "stdout",
          "text": [
            "\b\b\b\b\b\b\b\b\b\b\b\b\b\b\b\b\b\b\b\b\b\b\b\b\b\b\b\b\b\b\b\b\b\b\b\b\b\b\b\b\b\b\b\b\b\b\b\b\b\b\b\b\b\b\b\b\b\b\b\b\b\b\b\b\b\b\b\b\b\b\b\b\b\b\b\b\b\b\b\b\b\b\b\b\b\b\r1694/1694 [==============================] - 25s 15ms/step - loss: 0.1145 - accuracy: 0.9682 - val_loss: 0.1654 - val_accuracy: 0.9495\n",
            "Epoch 20/20\n",
            "1689/1694 [============================>.] - ETA: 0s - loss: 0.0998 - accuracy: 0.9713\n",
            "Epoch 20: val_loss improved from 0.16535 to 0.13824, saving model to saved_models/nlp_model_3\n"
          ]
        },
        {
          "output_type": "stream",
          "name": "stderr",
          "text": [
            "WARNING:absl:Found untraced functions such as lstm_cell_layer_call_fn, lstm_cell_layer_call_and_return_conditional_losses while saving (showing 2 of 2). These functions will not be directly callable after loading.\n"
          ]
        },
        {
          "output_type": "stream",
          "name": "stdout",
          "text": [
            "\b\b\b\b\b\b\b\b\b\b\b\b\b\b\b\b\b\b\b\b\b\b\b\b\b\b\b\b\b\b\b\b\b\b\b\b\b\b\b\b\b\b\b\b\b\b\b\b\b\b\b\b\b\b\b\b\b\b\b\b\b\b\b\b\b\b\b\b\b\b\b\b\b\b\b\b\b\b\b\b\b\b\b\b\b\b\r1694/1694 [==============================] - 27s 16ms/step - loss: 0.0999 - accuracy: 0.9713 - val_loss: 0.1382 - val_accuracy: 0.9574\n"
          ]
        }
      ]
    },
    {
      "cell_type": "code",
      "source": [
        "model_3.evaluate(test_dataset)\n",
        "model_3_loaded = tf.keras.models.load_model(\"saved_models/nlp_model_3\")\n",
        "model_3_preds = model_3_loaded.predict(test_dataset)\n",
        "model_3_results = calculate_results(test_labels, tf.argmax(model_3_preds, axis=1))\n",
        "model_results_dataset['model_3'] = model_3_results\n",
        "model_3_results"
      ],
      "metadata": {
        "colab": {
          "base_uri": "https://localhost:8080/"
        },
        "id": "XwBWS7328Jwx",
        "outputId": "9abdf3e4-12c6-4501-a471-40b5ab39719d"
      },
      "execution_count": 33,
      "outputs": [
        {
          "output_type": "stream",
          "name": "stdout",
          "text": [
            "1694/1694 [==============================] - 11s 6ms/step - loss: 0.1382 - accuracy: 0.9574\n",
            "1694/1694 [==============================] - 8s 4ms/step\n"
          ]
        },
        {
          "output_type": "execute_result",
          "data": {
            "text/plain": [
              "{'accuracy': 95.73985239852398,\n",
              " 'precision': 0.9599607610980802,\n",
              " 'recall': 0.9573985239852398,\n",
              " 'f1_score': 0.9577868941400521}"
            ]
          },
          "metadata": {},
          "execution_count": 33
        }
      ]
    },
    {
      "cell_type": "markdown",
      "source": [
        "## model 4"
      ],
      "metadata": {
        "id": "T-YuHC05HNCh"
      }
    },
    {
      "cell_type": "code",
      "source": [
        "tf.keras.backend.clear_session()"
      ],
      "metadata": {
        "id": "FH3ABkGAHGrB"
      },
      "execution_count": 34,
      "outputs": []
    },
    {
      "cell_type": "code",
      "source": [
        "from tensorflow.keras import layers\n",
        "model_4_embedding = layers.Embedding(input_dim=10000, output_dim=128, embeddings_initializer=\"uniform\", input_length=output_seq_length, name=\"embedding_4\")\n",
        "\n",
        "inputs = layers.Input(shape=(1,), dtype=tf.string)\n",
        "x = tv_layer(inputs)\n",
        "x = model_4_embedding(x)\n",
        "x = layers.LSTM(64, return_sequences=True)(x)\n",
        "x = layers.GRU(64)(x)\n",
        "x = layers.Dense(64, activation='relu')(x)\n",
        "output = layers.Dense(NUM_CLASSES, activation='softmax')(x)\n",
        "\n",
        "model_4 = tf.keras.Model(inputs, output, name=\"nlp_model_4\")\n",
        "model_4.summary()"
      ],
      "metadata": {
        "colab": {
          "base_uri": "https://localhost:8080/"
        },
        "id": "YuzLh2GAHQMZ",
        "outputId": "ab1290aa-fc76-4ea5-998d-c61bcc7ca158"
      },
      "execution_count": 35,
      "outputs": [
        {
          "output_type": "stream",
          "name": "stdout",
          "text": [
            "Model: \"nlp_model_4\"\n",
            "_________________________________________________________________\n",
            " Layer (type)                Output Shape              Param #   \n",
            "=================================================================\n",
            " input_1 (InputLayer)        [(None, 1)]               0         \n",
            "                                                                 \n",
            " text_vectorization (TextVec  (None, 102)              0         \n",
            " torization)                                                     \n",
            "                                                                 \n",
            " embedding_4 (Embedding)     (None, 102, 128)          1280000   \n",
            "                                                                 \n",
            " lstm (LSTM)                 (None, 102, 64)           49408     \n",
            "                                                                 \n",
            " gru (GRU)                   (None, 64)                24960     \n",
            "                                                                 \n",
            " dense (Dense)               (None, 64)                4160      \n",
            "                                                                 \n",
            " dense_1 (Dense)             (None, 27)                1755      \n",
            "                                                                 \n",
            "=================================================================\n",
            "Total params: 1,360,283\n",
            "Trainable params: 1,360,283\n",
            "Non-trainable params: 0\n",
            "_________________________________________________________________\n"
          ]
        }
      ]
    },
    {
      "cell_type": "code",
      "source": [
        "model_4.compile(loss=\"categorical_crossentropy\", optimizer=tf.keras.optimizers.Adam(), metrics=[\"accuracy\"])\n",
        "history_4 = model_4.fit(train_dataset, epochs=20, validation_data=test_dataset,callbacks=return_callbacks(model_4.name))"
      ],
      "metadata": {
        "colab": {
          "base_uri": "https://localhost:8080/"
        },
        "id": "aT3Ew97hHUh4",
        "outputId": "c7d1de27-e85a-4744-dc33-4563c15d0a87"
      },
      "execution_count": 36,
      "outputs": [
        {
          "output_type": "stream",
          "name": "stdout",
          "text": [
            "Epoch 1/20\n",
            "1692/1694 [============================>.] - ETA: 0s - loss: 2.0015 - accuracy: 0.4091\n",
            "Epoch 1: val_loss improved from inf to 1.58822, saving model to saved_models/nlp_model_4\n"
          ]
        },
        {
          "output_type": "stream",
          "name": "stderr",
          "text": [
            "WARNING:absl:Found untraced functions such as lstm_cell_layer_call_fn, lstm_cell_layer_call_and_return_conditional_losses, gru_cell_layer_call_fn, gru_cell_layer_call_and_return_conditional_losses while saving (showing 4 of 4). These functions will not be directly callable after loading.\n"
          ]
        },
        {
          "output_type": "stream",
          "name": "stdout",
          "text": [
            "\b\b\b\b\b\b\b\b\b\b\b\b\b\b\b\b\b\b\b\b\b\b\b\b\b\b\b\b\b\b\b\b\b\b\b\b\b\b\b\b\b\b\b\b\b\b\b\b\b\b\b\b\b\b\b\b\b\b\b\b\b\b\b\b\b\b\b\b\b\b\b\b\b\b\b\b\b\b\b\b\b\b\b\b\b\b\r1694/1694 [==============================] - 48s 27ms/step - loss: 2.0012 - accuracy: 0.4092 - val_loss: 1.5882 - val_accuracy: 0.5348\n",
            "Epoch 2/20\n",
            "1690/1694 [============================>.] - ETA: 0s - loss: 1.5495 - accuracy: 0.5462\n",
            "Epoch 2: val_loss improved from 1.58822 to 1.34545, saving model to saved_models/nlp_model_4\n"
          ]
        },
        {
          "output_type": "stream",
          "name": "stderr",
          "text": [
            "WARNING:absl:Found untraced functions such as lstm_cell_layer_call_fn, lstm_cell_layer_call_and_return_conditional_losses, gru_cell_layer_call_fn, gru_cell_layer_call_and_return_conditional_losses while saving (showing 4 of 4). These functions will not be directly callable after loading.\n"
          ]
        },
        {
          "output_type": "stream",
          "name": "stdout",
          "text": [
            "\b\b\b\b\b\b\b\b\b\b\b\b\b\b\b\b\b\b\b\b\b\b\b\b\b\b\b\b\b\b\b\b\b\b\b\b\b\b\b\b\b\b\b\b\b\b\b\b\b\b\b\b\b\b\b\b\b\b\b\b\b\b\b\b\b\b\b\b\b\b\b\b\b\b\b\b\b\b\b\b\b\b\b\b\b\b\r1694/1694 [==============================] - 45s 27ms/step - loss: 1.5489 - accuracy: 0.5465 - val_loss: 1.3455 - val_accuracy: 0.5994\n",
            "Epoch 3/20\n",
            "1693/1694 [============================>.] - ETA: 0s - loss: 1.3395 - accuracy: 0.6094\n",
            "Epoch 3: val_loss improved from 1.34545 to 1.15474, saving model to saved_models/nlp_model_4\n"
          ]
        },
        {
          "output_type": "stream",
          "name": "stderr",
          "text": [
            "WARNING:absl:Found untraced functions such as lstm_cell_layer_call_fn, lstm_cell_layer_call_and_return_conditional_losses, gru_cell_layer_call_fn, gru_cell_layer_call_and_return_conditional_losses while saving (showing 4 of 4). These functions will not be directly callable after loading.\n"
          ]
        },
        {
          "output_type": "stream",
          "name": "stdout",
          "text": [
            "\b\b\b\b\b\b\b\b\b\b\b\b\b\b\b\b\b\b\b\b\b\b\b\b\b\b\b\b\b\b\b\b\b\b\b\b\b\b\b\b\b\b\b\b\b\b\b\b\b\b\b\b\b\b\b\b\b\b\b\b\b\b\b\b\b\b\b\b\b\b\b\b\b\b\b\b\b\b\b\b\b\b\b\b\b\b\r1694/1694 [==============================] - 43s 26ms/step - loss: 1.3393 - accuracy: 0.6094 - val_loss: 1.1547 - val_accuracy: 0.6649\n",
            "Epoch 4/20\n",
            "1691/1694 [============================>.] - ETA: 0s - loss: 1.1721 - accuracy: 0.6614\n",
            "Epoch 4: val_loss improved from 1.15474 to 1.01697, saving model to saved_models/nlp_model_4\n"
          ]
        },
        {
          "output_type": "stream",
          "name": "stderr",
          "text": [
            "WARNING:absl:Found untraced functions such as lstm_cell_layer_call_fn, lstm_cell_layer_call_and_return_conditional_losses, gru_cell_layer_call_fn, gru_cell_layer_call_and_return_conditional_losses while saving (showing 4 of 4). These functions will not be directly callable after loading.\n"
          ]
        },
        {
          "output_type": "stream",
          "name": "stdout",
          "text": [
            "\b\b\b\b\b\b\b\b\b\b\b\b\b\b\b\b\b\b\b\b\b\b\b\b\b\b\b\b\b\b\b\b\b\b\b\b\b\b\b\b\b\b\b\b\b\b\b\b\b\b\b\b\b\b\b\b\b\b\b\b\b\b\b\b\b\b\b\b\b\b\b\b\b\b\b\b\b\b\b\b\b\b\b\b\b\b\r1694/1694 [==============================] - 44s 26ms/step - loss: 1.1715 - accuracy: 0.6616 - val_loss: 1.0170 - val_accuracy: 0.7050\n",
            "Epoch 5/20\n",
            "1692/1694 [============================>.] - ETA: 0s - loss: 1.0217 - accuracy: 0.7064\n",
            "Epoch 5: val_loss improved from 1.01697 to 0.91618, saving model to saved_models/nlp_model_4\n"
          ]
        },
        {
          "output_type": "stream",
          "name": "stderr",
          "text": [
            "WARNING:absl:Found untraced functions such as lstm_cell_layer_call_fn, lstm_cell_layer_call_and_return_conditional_losses, gru_cell_layer_call_fn, gru_cell_layer_call_and_return_conditional_losses while saving (showing 4 of 4). These functions will not be directly callable after loading.\n"
          ]
        },
        {
          "output_type": "stream",
          "name": "stdout",
          "text": [
            "\b\b\b\b\b\b\b\b\b\b\b\b\b\b\b\b\b\b\b\b\b\b\b\b\b\b\b\b\b\b\b\b\b\b\b\b\b\b\b\b\b\b\b\b\b\b\b\b\b\b\b\b\b\b\b\b\b\b\b\b\b\b\b\b\b\b\b\b\b\b\b\b\b\b\b\b\b\b\b\b\b\b\b\b\b\b\r1694/1694 [==============================] - 42s 25ms/step - loss: 1.0215 - accuracy: 0.7064 - val_loss: 0.9162 - val_accuracy: 0.7323\n",
            "Epoch 6/20\n",
            "1693/1694 [============================>.] - ETA: 0s - loss: 0.8863 - accuracy: 0.7468\n",
            "Epoch 6: val_loss improved from 0.91618 to 0.79266, saving model to saved_models/nlp_model_4\n"
          ]
        },
        {
          "output_type": "stream",
          "name": "stderr",
          "text": [
            "WARNING:absl:Found untraced functions such as lstm_cell_layer_call_fn, lstm_cell_layer_call_and_return_conditional_losses, gru_cell_layer_call_fn, gru_cell_layer_call_and_return_conditional_losses while saving (showing 4 of 4). These functions will not be directly callable after loading.\n"
          ]
        },
        {
          "output_type": "stream",
          "name": "stdout",
          "text": [
            "\b\b\b\b\b\b\b\b\b\b\b\b\b\b\b\b\b\b\b\b\b\b\b\b\b\b\b\b\b\b\b\b\b\b\b\b\b\b\b\b\b\b\b\b\b\b\b\b\b\b\b\b\b\b\b\b\b\b\b\b\b\b\b\b\b\b\b\b\b\b\b\b\b\b\b\b\b\b\b\b\b\b\b\b\b\b\r1694/1694 [==============================] - 37s 22ms/step - loss: 0.8862 - accuracy: 0.7468 - val_loss: 0.7927 - val_accuracy: 0.7671\n",
            "Epoch 7/20\n",
            "1690/1694 [============================>.] - ETA: 0s - loss: 0.7576 - accuracy: 0.7825\n",
            "Epoch 7: val_loss improved from 0.79266 to 0.73139, saving model to saved_models/nlp_model_4\n"
          ]
        },
        {
          "output_type": "stream",
          "name": "stderr",
          "text": [
            "WARNING:absl:Found untraced functions such as lstm_cell_layer_call_fn, lstm_cell_layer_call_and_return_conditional_losses, gru_cell_layer_call_fn, gru_cell_layer_call_and_return_conditional_losses while saving (showing 4 of 4). These functions will not be directly callable after loading.\n"
          ]
        },
        {
          "output_type": "stream",
          "name": "stdout",
          "text": [
            "\b\b\b\b\b\b\b\b\b\b\b\b\b\b\b\b\b\b\b\b\b\b\b\b\b\b\b\b\b\b\b\b\b\b\b\b\b\b\b\b\b\b\b\b\b\b\b\b\b\b\b\b\b\b\b\b\b\b\b\b\b\b\b\b\b\b\b\b\b\b\b\b\b\b\b\b\b\b\b\b\b\b\b\b\b\b\r1694/1694 [==============================] - 38s 23ms/step - loss: 0.7571 - accuracy: 0.7826 - val_loss: 0.7314 - val_accuracy: 0.7805\n",
            "Epoch 8/20\n",
            "1694/1694 [==============================] - ETA: 0s - loss: 0.6504 - accuracy: 0.8128\n",
            "Epoch 8: val_loss improved from 0.73139 to 0.62877, saving model to saved_models/nlp_model_4\n"
          ]
        },
        {
          "output_type": "stream",
          "name": "stderr",
          "text": [
            "WARNING:absl:Found untraced functions such as lstm_cell_layer_call_fn, lstm_cell_layer_call_and_return_conditional_losses, gru_cell_layer_call_fn, gru_cell_layer_call_and_return_conditional_losses while saving (showing 4 of 4). These functions will not be directly callable after loading.\n"
          ]
        },
        {
          "output_type": "stream",
          "name": "stdout",
          "text": [
            "\b\b\b\b\b\b\b\b\b\b\b\b\b\b\b\b\b\b\b\b\b\b\b\b\b\b\b\b\b\b\b\b\b\b\b\b\b\b\b\b\b\b\b\b\b\b\b\b\b\b\b\b\b\b\b\b\b\b\b\b\b\b\b\b\b\b\b\b\b\b\b\b\b\b\b\b\b\b\b\b\b\b\b\b\b\b\r1694/1694 [==============================] - 40s 23ms/step - loss: 0.6504 - accuracy: 0.8128 - val_loss: 0.6288 - val_accuracy: 0.8138\n",
            "Epoch 9/20\n",
            "1693/1694 [============================>.] - ETA: 0s - loss: 0.5503 - accuracy: 0.8435\n",
            "Epoch 9: val_loss improved from 0.62877 to 0.52209, saving model to saved_models/nlp_model_4\n"
          ]
        },
        {
          "output_type": "stream",
          "name": "stderr",
          "text": [
            "WARNING:absl:Found untraced functions such as lstm_cell_layer_call_fn, lstm_cell_layer_call_and_return_conditional_losses, gru_cell_layer_call_fn, gru_cell_layer_call_and_return_conditional_losses while saving (showing 4 of 4). These functions will not be directly callable after loading.\n"
          ]
        },
        {
          "output_type": "stream",
          "name": "stdout",
          "text": [
            "\b\b\b\b\b\b\b\b\b\b\b\b\b\b\b\b\b\b\b\b\b\b\b\b\b\b\b\b\b\b\b\b\b\b\b\b\b\b\b\b\b\b\b\b\b\b\b\b\b\b\b\b\b\b\b\b\b\b\b\b\b\b\b\b\b\b\b\b\b\b\b\b\b\b\b\b\b\b\b\b\b\b\b\b\b\b\r1694/1694 [==============================] - 37s 22ms/step - loss: 0.5502 - accuracy: 0.8435 - val_loss: 0.5221 - val_accuracy: 0.8445\n",
            "Epoch 10/20\n",
            "1693/1694 [============================>.] - ETA: 0s - loss: 0.4556 - accuracy: 0.8719\n",
            "Epoch 10: val_loss improved from 0.52209 to 0.46228, saving model to saved_models/nlp_model_4\n"
          ]
        },
        {
          "output_type": "stream",
          "name": "stderr",
          "text": [
            "WARNING:absl:Found untraced functions such as lstm_cell_layer_call_fn, lstm_cell_layer_call_and_return_conditional_losses, gru_cell_layer_call_fn, gru_cell_layer_call_and_return_conditional_losses while saving (showing 4 of 4). These functions will not be directly callable after loading.\n"
          ]
        },
        {
          "output_type": "stream",
          "name": "stdout",
          "text": [
            "\b\b\b\b\b\b\b\b\b\b\b\b\b\b\b\b\b\b\b\b\b\b\b\b\b\b\b\b\b\b\b\b\b\b\b\b\b\b\b\b\b\b\b\b\b\b\b\b\b\b\b\b\b\b\b\b\b\b\b\b\b\b\b\b\b\b\b\b\b\b\b\b\b\b\b\b\b\b\b\b\b\b\b\b\b\b\r1694/1694 [==============================] - 38s 22ms/step - loss: 0.4555 - accuracy: 0.8720 - val_loss: 0.4623 - val_accuracy: 0.8635\n",
            "Epoch 11/20\n",
            "1692/1694 [============================>.] - ETA: 0s - loss: 0.3788 - accuracy: 0.8913\n",
            "Epoch 11: val_loss improved from 0.46228 to 0.42156, saving model to saved_models/nlp_model_4\n"
          ]
        },
        {
          "output_type": "stream",
          "name": "stderr",
          "text": [
            "WARNING:absl:Found untraced functions such as lstm_cell_layer_call_fn, lstm_cell_layer_call_and_return_conditional_losses, gru_cell_layer_call_fn, gru_cell_layer_call_and_return_conditional_losses while saving (showing 4 of 4). These functions will not be directly callable after loading.\n"
          ]
        },
        {
          "output_type": "stream",
          "name": "stdout",
          "text": [
            "\b\b\b\b\b\b\b\b\b\b\b\b\b\b\b\b\b\b\b\b\b\b\b\b\b\b\b\b\b\b\b\b\b\b\b\b\b\b\b\b\b\b\b\b\b\b\b\b\b\b\b\b\b\b\b\b\b\b\b\b\b\b\b\b\b\b\b\b\b\b\b\b\b\b\b\b\b\b\b\b\b\b\b\b\b\b\r1694/1694 [==============================] - 38s 23ms/step - loss: 0.3787 - accuracy: 0.8913 - val_loss: 0.4216 - val_accuracy: 0.8732\n",
            "Epoch 12/20\n",
            "1692/1694 [============================>.] - ETA: 0s - loss: 0.3179 - accuracy: 0.9093\n",
            "Epoch 12: val_loss improved from 0.42156 to 0.38354, saving model to saved_models/nlp_model_4\n"
          ]
        },
        {
          "output_type": "stream",
          "name": "stderr",
          "text": [
            "WARNING:absl:Found untraced functions such as lstm_cell_layer_call_fn, lstm_cell_layer_call_and_return_conditional_losses, gru_cell_layer_call_fn, gru_cell_layer_call_and_return_conditional_losses while saving (showing 4 of 4). These functions will not be directly callable after loading.\n"
          ]
        },
        {
          "output_type": "stream",
          "name": "stdout",
          "text": [
            "\b\b\b\b\b\b\b\b\b\b\b\b\b\b\b\b\b\b\b\b\b\b\b\b\b\b\b\b\b\b\b\b\b\b\b\b\b\b\b\b\b\b\b\b\b\b\b\b\b\b\b\b\b\b\b\b\b\b\b\b\b\b\b\b\b\b\b\b\b\b\b\b\b\b\b\b\b\b\b\b\b\b\b\b\b\b\r1694/1694 [==============================] - 39s 23ms/step - loss: 0.3179 - accuracy: 0.9092 - val_loss: 0.3835 - val_accuracy: 0.8834\n",
            "Epoch 13/20\n",
            "1693/1694 [============================>.] - ETA: 0s - loss: 0.2605 - accuracy: 0.9255\n",
            "Epoch 13: val_loss improved from 0.38354 to 0.32881, saving model to saved_models/nlp_model_4\n"
          ]
        },
        {
          "output_type": "stream",
          "name": "stderr",
          "text": [
            "WARNING:absl:Found untraced functions such as lstm_cell_layer_call_fn, lstm_cell_layer_call_and_return_conditional_losses, gru_cell_layer_call_fn, gru_cell_layer_call_and_return_conditional_losses while saving (showing 4 of 4). These functions will not be directly callable after loading.\n"
          ]
        },
        {
          "output_type": "stream",
          "name": "stdout",
          "text": [
            "\b\b\b\b\b\b\b\b\b\b\b\b\b\b\b\b\b\b\b\b\b\b\b\b\b\b\b\b\b\b\b\b\b\b\b\b\b\b\b\b\b\b\b\b\b\b\b\b\b\b\b\b\b\b\b\b\b\b\b\b\b\b\b\b\b\b\b\b\b\b\b\b\b\b\b\b\b\b\b\b\b\b\b\b\b\b\r1694/1694 [==============================] - 40s 23ms/step - loss: 0.2605 - accuracy: 0.9255 - val_loss: 0.3288 - val_accuracy: 0.8996\n",
            "Epoch 14/20\n",
            "1691/1694 [============================>.] - ETA: 0s - loss: 0.2140 - accuracy: 0.9386\n",
            "Epoch 14: val_loss improved from 0.32881 to 0.30249, saving model to saved_models/nlp_model_4\n"
          ]
        },
        {
          "output_type": "stream",
          "name": "stderr",
          "text": [
            "WARNING:absl:Found untraced functions such as lstm_cell_layer_call_fn, lstm_cell_layer_call_and_return_conditional_losses, gru_cell_layer_call_fn, gru_cell_layer_call_and_return_conditional_losses while saving (showing 4 of 4). These functions will not be directly callable after loading.\n"
          ]
        },
        {
          "output_type": "stream",
          "name": "stdout",
          "text": [
            "\b\b\b\b\b\b\b\b\b\b\b\b\b\b\b\b\b\b\b\b\b\b\b\b\b\b\b\b\b\b\b\b\b\b\b\b\b\b\b\b\b\b\b\b\b\b\b\b\b\b\b\b\b\b\b\b\b\b\b\b\b\b\b\b\b\b\b\b\b\b\b\b\b\b\b\b\b\b\b\b\b\b\b\b\b\b\r1694/1694 [==============================] - 39s 23ms/step - loss: 0.2138 - accuracy: 0.9386 - val_loss: 0.3025 - val_accuracy: 0.9067\n",
            "Epoch 15/20\n",
            "1694/1694 [==============================] - ETA: 0s - loss: 0.1782 - accuracy: 0.9487\n",
            "Epoch 15: val_loss improved from 0.30249 to 0.27326, saving model to saved_models/nlp_model_4\n"
          ]
        },
        {
          "output_type": "stream",
          "name": "stderr",
          "text": [
            "WARNING:absl:Found untraced functions such as lstm_cell_layer_call_fn, lstm_cell_layer_call_and_return_conditional_losses, gru_cell_layer_call_fn, gru_cell_layer_call_and_return_conditional_losses while saving (showing 4 of 4). These functions will not be directly callable after loading.\n"
          ]
        },
        {
          "output_type": "stream",
          "name": "stdout",
          "text": [
            "\b\b\b\b\b\b\b\b\b\b\b\b\b\b\b\b\b\b\b\b\b\b\b\b\b\b\b\b\b\b\b\b\b\b\b\b\b\b\b\b\b\b\b\b\b\b\b\b\b\b\b\b\b\b\b\b\b\b\b\b\b\b\b\b\b\b\b\b\b\b\b\b\b\b\b\b\b\b\b\b\b\b\b\b\b\b\r1694/1694 [==============================] - 39s 23ms/step - loss: 0.1782 - accuracy: 0.9487 - val_loss: 0.2733 - val_accuracy: 0.9146\n",
            "Epoch 16/20\n",
            "1694/1694 [==============================] - ETA: 0s - loss: 0.1489 - accuracy: 0.9579\n",
            "Epoch 16: val_loss improved from 0.27326 to 0.20916, saving model to saved_models/nlp_model_4\n"
          ]
        },
        {
          "output_type": "stream",
          "name": "stderr",
          "text": [
            "WARNING:absl:Found untraced functions such as lstm_cell_layer_call_fn, lstm_cell_layer_call_and_return_conditional_losses, gru_cell_layer_call_fn, gru_cell_layer_call_and_return_conditional_losses while saving (showing 4 of 4). These functions will not be directly callable after loading.\n"
          ]
        },
        {
          "output_type": "stream",
          "name": "stdout",
          "text": [
            "\b\b\b\b\b\b\b\b\b\b\b\b\b\b\b\b\b\b\b\b\b\b\b\b\b\b\b\b\b\b\b\b\b\b\b\b\b\b\b\b\b\b\b\b\b\b\b\b\b\b\b\b\b\b\b\b\b\b\b\b\b\b\b\b\b\b\b\b\b\b\b\b\b\b\b\b\b\b\b\b\b\b\b\b\b\b\r1694/1694 [==============================] - 39s 23ms/step - loss: 0.1489 - accuracy: 0.9579 - val_loss: 0.2092 - val_accuracy: 0.9357\n",
            "Epoch 17/20\n",
            "1691/1694 [============================>.] - ETA: 0s - loss: 0.1356 - accuracy: 0.9606\n",
            "Epoch 17: val_loss improved from 0.20916 to 0.19132, saving model to saved_models/nlp_model_4\n"
          ]
        },
        {
          "output_type": "stream",
          "name": "stderr",
          "text": [
            "WARNING:absl:Found untraced functions such as lstm_cell_layer_call_fn, lstm_cell_layer_call_and_return_conditional_losses, gru_cell_layer_call_fn, gru_cell_layer_call_and_return_conditional_losses while saving (showing 4 of 4). These functions will not be directly callable after loading.\n"
          ]
        },
        {
          "output_type": "stream",
          "name": "stdout",
          "text": [
            "\b\b\b\b\b\b\b\b\b\b\b\b\b\b\b\b\b\b\b\b\b\b\b\b\b\b\b\b\b\b\b\b\b\b\b\b\b\b\b\b\b\b\b\b\b\b\b\b\b\b\b\b\b\b\b\b\b\b\b\b\b\b\b\b\b\b\b\b\b\b\b\b\b\b\b\b\b\b\b\b\b\b\b\b\b\b\r1694/1694 [==============================] - 41s 24ms/step - loss: 0.1355 - accuracy: 0.9607 - val_loss: 0.1913 - val_accuracy: 0.9408\n",
            "Epoch 18/20\n",
            "1693/1694 [============================>.] - ETA: 0s - loss: 0.1129 - accuracy: 0.9671\n",
            "Epoch 18: val_loss improved from 0.19132 to 0.15281, saving model to saved_models/nlp_model_4\n"
          ]
        },
        {
          "output_type": "stream",
          "name": "stderr",
          "text": [
            "WARNING:absl:Found untraced functions such as lstm_cell_layer_call_fn, lstm_cell_layer_call_and_return_conditional_losses, gru_cell_layer_call_fn, gru_cell_layer_call_and_return_conditional_losses while saving (showing 4 of 4). These functions will not be directly callable after loading.\n"
          ]
        },
        {
          "output_type": "stream",
          "name": "stdout",
          "text": [
            "\b\b\b\b\b\b\b\b\b\b\b\b\b\b\b\b\b\b\b\b\b\b\b\b\b\b\b\b\b\b\b\b\b\b\b\b\b\b\b\b\b\b\b\b\b\b\b\b\b\b\b\b\b\b\b\b\b\b\b\b\b\b\b\b\b\b\b\b\b\b\b\b\b\b\b\b\b\b\b\b\b\b\b\b\b\b\r1694/1694 [==============================] - 39s 23ms/step - loss: 0.1129 - accuracy: 0.9672 - val_loss: 0.1528 - val_accuracy: 0.9527\n",
            "Epoch 19/20\n",
            "1692/1694 [============================>.] - ETA: 0s - loss: 0.0992 - accuracy: 0.9712\n",
            "Epoch 19: val_loss did not improve from 0.15281\n",
            "1694/1694 [==============================] - 32s 19ms/step - loss: 0.0992 - accuracy: 0.9713 - val_loss: 0.1607 - val_accuracy: 0.9518\n",
            "Epoch 20/20\n",
            "1691/1694 [============================>.] - ETA: 0s - loss: 0.0849 - accuracy: 0.9758\n",
            "Epoch 20: val_loss improved from 0.15281 to 0.13171, saving model to saved_models/nlp_model_4\n"
          ]
        },
        {
          "output_type": "stream",
          "name": "stderr",
          "text": [
            "WARNING:absl:Found untraced functions such as lstm_cell_layer_call_fn, lstm_cell_layer_call_and_return_conditional_losses, gru_cell_layer_call_fn, gru_cell_layer_call_and_return_conditional_losses while saving (showing 4 of 4). These functions will not be directly callable after loading.\n"
          ]
        },
        {
          "output_type": "stream",
          "name": "stdout",
          "text": [
            "\b\b\b\b\b\b\b\b\b\b\b\b\b\b\b\b\b\b\b\b\b\b\b\b\b\b\b\b\b\b\b\b\b\b\b\b\b\b\b\b\b\b\b\b\b\b\b\b\b\b\b\b\b\b\b\b\b\b\b\b\b\b\b\b\b\b\b\b\b\b\b\b\b\b\b\b\b\b\b\b\b\b\b\b\b\b\r1694/1694 [==============================] - 39s 23ms/step - loss: 0.0849 - accuracy: 0.9758 - val_loss: 0.1317 - val_accuracy: 0.9594\n"
          ]
        }
      ]
    },
    {
      "cell_type": "code",
      "source": [
        "model_4.evaluate(test_dataset)\n",
        "model_4_loaded = tf.keras.models.load_model(\"saved_models/nlp_model_4\")\n",
        "model_4_preds = model_4_loaded.predict(test_dataset)\n",
        "model_4_results = calculate_results(test_labels, tf.argmax(model_4_preds, axis=1))\n",
        "model_results_dataset['model_4'] = model_4_results"
      ],
      "metadata": {
        "colab": {
          "base_uri": "https://localhost:8080/"
        },
        "id": "WK2ND-jbHYny",
        "outputId": "429991aa-20ca-4f97-c7eb-e2f1a389741c"
      },
      "execution_count": 37,
      "outputs": [
        {
          "output_type": "stream",
          "name": "stdout",
          "text": [
            "1694/1694 [==============================] - 12s 7ms/step - loss: 0.1317 - accuracy: 0.9594\n",
            "1694/1694 [==============================] - 12s 6ms/step\n"
          ]
        }
      ]
    },
    {
      "cell_type": "markdown",
      "source": [
        "## Model 5: Bi-Directional RNN"
      ],
      "metadata": {
        "id": "StDZXkhVHj9X"
      }
    },
    {
      "cell_type": "code",
      "source": [
        "tf.keras.backend.clear_session()"
      ],
      "metadata": {
        "id": "5PVHr_FeHgzE"
      },
      "execution_count": 38,
      "outputs": []
    },
    {
      "cell_type": "code",
      "source": [
        "from tensorflow.keras import layers\n",
        "model_5_embedding = layers.Embedding(input_dim=10000, output_dim=128, embeddings_initializer=\"uniform\", input_length=output_seq_length, name=\"embedding_5\")\n",
        "\n",
        "inputs = layers.Input(shape=(1,), dtype=tf.string)\n",
        "x = tv_layer(inputs)\n",
        "x = model_5_embedding(x)\n",
        "x = layers.Bidirectional(layers.LSTM(64, return_sequences=True))(x)\n",
        "x = layers.Bidirectional(layers.GRU(64))(x)\n",
        "x = layers.Dense(64, activation='relu')(x)\n",
        "output = layers.Dense(NUM_CLASSES, activation='softmax')(x)\n",
        "\n",
        "model_5 = tf.keras.Model(inputs, output, name=\"nlp_model_5\")\n",
        "model_5.summary()"
      ],
      "metadata": {
        "colab": {
          "base_uri": "https://localhost:8080/"
        },
        "id": "oNvXR43IHo3F",
        "outputId": "3a812a63-30d9-4005-c537-4617cf66ac38"
      },
      "execution_count": 39,
      "outputs": [
        {
          "output_type": "stream",
          "name": "stdout",
          "text": [
            "Model: \"nlp_model_5\"\n",
            "_________________________________________________________________\n",
            " Layer (type)                Output Shape              Param #   \n",
            "=================================================================\n",
            " input_1 (InputLayer)        [(None, 1)]               0         \n",
            "                                                                 \n",
            " text_vectorization (TextVec  (None, 102)              0         \n",
            " torization)                                                     \n",
            "                                                                 \n",
            " embedding_5 (Embedding)     (None, 102, 128)          1280000   \n",
            "                                                                 \n",
            " bidirectional (Bidirectiona  (None, 102, 128)         98816     \n",
            " l)                                                              \n",
            "                                                                 \n",
            " bidirectional_1 (Bidirectio  (None, 128)              74496     \n",
            " nal)                                                            \n",
            "                                                                 \n",
            " dense (Dense)               (None, 64)                8256      \n",
            "                                                                 \n",
            " dense_1 (Dense)             (None, 27)                1755      \n",
            "                                                                 \n",
            "=================================================================\n",
            "Total params: 1,463,323\n",
            "Trainable params: 1,463,323\n",
            "Non-trainable params: 0\n",
            "_________________________________________________________________\n"
          ]
        }
      ]
    },
    {
      "cell_type": "code",
      "source": [
        "model_5.compile(loss=\"categorical_crossentropy\", optimizer=tf.keras.optimizers.Adam(), metrics=[\"accuracy\"])\n",
        "history_5 = model_5.fit(train_dataset, epochs=20, validation_data=test_dataset,callbacks=return_callbacks(model_5.name))"
      ],
      "metadata": {
        "colab": {
          "base_uri": "https://localhost:8080/"
        },
        "id": "aR0baqW6HsKY",
        "outputId": "4ec353ac-ce31-4ae2-f3bd-d15c45bbf1a4"
      },
      "execution_count": 40,
      "outputs": [
        {
          "output_type": "stream",
          "name": "stdout",
          "text": [
            "Epoch 1/20\n",
            "1692/1694 [============================>.] - ETA: 0s - loss: 1.8517 - accuracy: 0.4726\n",
            "Epoch 1: val_loss improved from inf to 1.47549, saving model to saved_models/nlp_model_5\n"
          ]
        },
        {
          "output_type": "stream",
          "name": "stderr",
          "text": [
            "WARNING:absl:Found untraced functions such as lstm_cell_1_layer_call_fn, lstm_cell_1_layer_call_and_return_conditional_losses, lstm_cell_2_layer_call_fn, lstm_cell_2_layer_call_and_return_conditional_losses, gru_cell_1_layer_call_fn while saving (showing 5 of 8). These functions will not be directly callable after loading.\n"
          ]
        },
        {
          "output_type": "stream",
          "name": "stdout",
          "text": [
            "\b\b\b\b\b\b\b\b\b\b\b\b\b\b\b\b\b\b\b\b\b\b\b\b\b\b\b\b\b\b\b\b\b\b\b\b\b\b\b\b\b\b\b\b\b\b\b\b\b\b\b\b\b\b\b\b\b\b\b\b\b\b\b\b\b\b\b\b\b\b\b\b\b\b\b\b\b\b\b\b\b\b\b\b\b\b\r1694/1694 [==============================] - 85s 47ms/step - loss: 1.8515 - accuracy: 0.4727 - val_loss: 1.4755 - val_accuracy: 0.5729\n",
            "Epoch 2/20\n",
            "1693/1694 [============================>.] - ETA: 0s - loss: 1.4537 - accuracy: 0.5806\n",
            "Epoch 2: val_loss improved from 1.47549 to 1.20665, saving model to saved_models/nlp_model_5\n"
          ]
        },
        {
          "output_type": "stream",
          "name": "stderr",
          "text": [
            "WARNING:absl:Found untraced functions such as lstm_cell_1_layer_call_fn, lstm_cell_1_layer_call_and_return_conditional_losses, lstm_cell_2_layer_call_fn, lstm_cell_2_layer_call_and_return_conditional_losses, gru_cell_1_layer_call_fn while saving (showing 5 of 8). These functions will not be directly callable after loading.\n"
          ]
        },
        {
          "output_type": "stream",
          "name": "stdout",
          "text": [
            "\b\b\b\b\b\b\b\b\b\b\b\b\b\b\b\b\b\b\b\b\b\b\b\b\b\b\b\b\b\b\b\b\b\b\b\b\b\b\b\b\b\b\b\b\b\b\b\b\b\b\b\b\b\b\b\b\b\b\b\b\b\b\b\b\b\b\b\b\b\b\b\b\b\b\b\b\b\b\b\b\b\b\b\b\b\b\r1694/1694 [==============================] - 76s 45ms/step - loss: 1.4536 - accuracy: 0.5806 - val_loss: 1.2067 - val_accuracy: 0.6497\n",
            "Epoch 3/20\n",
            "1694/1694 [==============================] - ETA: 0s - loss: 1.2176 - accuracy: 0.6464\n",
            "Epoch 3: val_loss improved from 1.20665 to 1.03340, saving model to saved_models/nlp_model_5\n"
          ]
        },
        {
          "output_type": "stream",
          "name": "stderr",
          "text": [
            "WARNING:absl:Found untraced functions such as lstm_cell_1_layer_call_fn, lstm_cell_1_layer_call_and_return_conditional_losses, lstm_cell_2_layer_call_fn, lstm_cell_2_layer_call_and_return_conditional_losses, gru_cell_1_layer_call_fn while saving (showing 5 of 8). These functions will not be directly callable after loading.\n"
          ]
        },
        {
          "output_type": "stream",
          "name": "stdout",
          "text": [
            "\b\b\b\b\b\b\b\b\b\b\b\b\b\b\b\b\b\b\b\b\b\b\b\b\b\b\b\b\b\b\b\b\b\b\b\b\b\b\b\b\b\b\b\b\b\b\b\b\b\b\b\b\b\b\b\b\b\b\b\b\b\b\b\b\b\b\b\b\b\b\b\b\b\b\b\b\b\b\b\b\b\b\b\b\b\b\r1694/1694 [==============================] - 79s 46ms/step - loss: 1.2176 - accuracy: 0.6464 - val_loss: 1.0334 - val_accuracy: 0.7034\n",
            "Epoch 4/20\n",
            "1694/1694 [==============================] - ETA: 0s - loss: 1.0253 - accuracy: 0.7003\n",
            "Epoch 4: val_loss improved from 1.03340 to 0.90371, saving model to saved_models/nlp_model_5\n"
          ]
        },
        {
          "output_type": "stream",
          "name": "stderr",
          "text": [
            "WARNING:absl:Found untraced functions such as lstm_cell_1_layer_call_fn, lstm_cell_1_layer_call_and_return_conditional_losses, lstm_cell_2_layer_call_fn, lstm_cell_2_layer_call_and_return_conditional_losses, gru_cell_1_layer_call_fn while saving (showing 5 of 8). These functions will not be directly callable after loading.\n"
          ]
        },
        {
          "output_type": "stream",
          "name": "stdout",
          "text": [
            "\b\b\b\b\b\b\b\b\b\b\b\b\b\b\b\b\b\b\b\b\b\b\b\b\b\b\b\b\b\b\b\b\b\b\b\b\b\b\b\b\b\b\b\b\b\b\b\b\b\b\b\b\b\b\b\b\b\b\b\b\b\b\b\b\b\b\b\b\b\b\b\b\b\b\b\b\b\b\b\b\b\b\b\b\b\b\r1694/1694 [==============================] - 72s 42ms/step - loss: 1.0253 - accuracy: 0.7003 - val_loss: 0.9037 - val_accuracy: 0.7343\n",
            "Epoch 5/20\n",
            "1693/1694 [============================>.] - ETA: 0s - loss: 0.8499 - accuracy: 0.7503\n",
            "Epoch 5: val_loss improved from 0.90371 to 0.85181, saving model to saved_models/nlp_model_5\n"
          ]
        },
        {
          "output_type": "stream",
          "name": "stderr",
          "text": [
            "WARNING:absl:Found untraced functions such as lstm_cell_1_layer_call_fn, lstm_cell_1_layer_call_and_return_conditional_losses, lstm_cell_2_layer_call_fn, lstm_cell_2_layer_call_and_return_conditional_losses, gru_cell_1_layer_call_fn while saving (showing 5 of 8). These functions will not be directly callable after loading.\n"
          ]
        },
        {
          "output_type": "stream",
          "name": "stdout",
          "text": [
            "\b\b\b\b\b\b\b\b\b\b\b\b\b\b\b\b\b\b\b\b\b\b\b\b\b\b\b\b\b\b\b\b\b\b\b\b\b\b\b\b\b\b\b\b\b\b\b\b\b\b\b\b\b\b\b\b\b\b\b\b\b\b\b\b\b\b\b\b\b\b\b\b\b\b\b\b\b\b\b\b\b\b\b\b\b\b\r1694/1694 [==============================] - 75s 44ms/step - loss: 0.8498 - accuracy: 0.7503 - val_loss: 0.8518 - val_accuracy: 0.7438\n",
            "Epoch 6/20\n",
            "1692/1694 [============================>.] - ETA: 0s - loss: 0.7093 - accuracy: 0.7909\n",
            "Epoch 6: val_loss improved from 0.85181 to 0.79482, saving model to saved_models/nlp_model_5\n"
          ]
        },
        {
          "output_type": "stream",
          "name": "stderr",
          "text": [
            "WARNING:absl:Found untraced functions such as lstm_cell_1_layer_call_fn, lstm_cell_1_layer_call_and_return_conditional_losses, lstm_cell_2_layer_call_fn, lstm_cell_2_layer_call_and_return_conditional_losses, gru_cell_1_layer_call_fn while saving (showing 5 of 8). These functions will not be directly callable after loading.\n"
          ]
        },
        {
          "output_type": "stream",
          "name": "stdout",
          "text": [
            "\b\b\b\b\b\b\b\b\b\b\b\b\b\b\b\b\b\b\b\b\b\b\b\b\b\b\b\b\b\b\b\b\b\b\b\b\b\b\b\b\b\b\b\b\b\b\b\b\b\b\b\b\b\b\b\b\b\b\b\b\b\b\b\b\b\b\b\b\b\b\b\b\b\b\b\b\b\b\b\b\b\b\b\b\b\b\r1694/1694 [==============================] - 73s 43ms/step - loss: 0.7092 - accuracy: 0.7910 - val_loss: 0.7948 - val_accuracy: 0.7612\n",
            "Epoch 7/20\n",
            "1694/1694 [==============================] - ETA: 0s - loss: 0.5964 - accuracy: 0.8199\n",
            "Epoch 7: val_loss improved from 0.79482 to 0.65218, saving model to saved_models/nlp_model_5\n"
          ]
        },
        {
          "output_type": "stream",
          "name": "stderr",
          "text": [
            "WARNING:absl:Found untraced functions such as lstm_cell_1_layer_call_fn, lstm_cell_1_layer_call_and_return_conditional_losses, lstm_cell_2_layer_call_fn, lstm_cell_2_layer_call_and_return_conditional_losses, gru_cell_1_layer_call_fn while saving (showing 5 of 8). These functions will not be directly callable after loading.\n"
          ]
        },
        {
          "output_type": "stream",
          "name": "stdout",
          "text": [
            "\b\b\b\b\b\b\b\b\b\b\b\b\b\b\b\b\b\b\b\b\b\b\b\b\b\b\b\b\b\b\b\b\b\b\b\b\b\b\b\b\b\b\b\b\b\b\b\b\b\b\b\b\b\b\b\b\b\b\b\b\b\b\b\b\b\b\b\b\b\b\b\b\b\b\b\b\b\b\b\b\b\b\b\b\b\b\r1694/1694 [==============================] - 73s 43ms/step - loss: 0.5964 - accuracy: 0.8199 - val_loss: 0.6522 - val_accuracy: 0.8021\n",
            "Epoch 8/20\n",
            "1694/1694 [==============================] - ETA: 0s - loss: 0.4708 - accuracy: 0.8568\n",
            "Epoch 8: val_loss improved from 0.65218 to 0.61094, saving model to saved_models/nlp_model_5\n"
          ]
        },
        {
          "output_type": "stream",
          "name": "stderr",
          "text": [
            "WARNING:absl:Found untraced functions such as lstm_cell_1_layer_call_fn, lstm_cell_1_layer_call_and_return_conditional_losses, lstm_cell_2_layer_call_fn, lstm_cell_2_layer_call_and_return_conditional_losses, gru_cell_1_layer_call_fn while saving (showing 5 of 8). These functions will not be directly callable after loading.\n"
          ]
        },
        {
          "output_type": "stream",
          "name": "stdout",
          "text": [
            "\b\b\b\b\b\b\b\b\b\b\b\b\b\b\b\b\b\b\b\b\b\b\b\b\b\b\b\b\b\b\b\b\b\b\b\b\b\b\b\b\b\b\b\b\b\b\b\b\b\b\b\b\b\b\b\b\b\b\b\b\b\b\b\b\b\b\b\b\b\b\b\b\b\b\b\b\b\b\b\b\b\b\b\b\b\b\r1694/1694 [==============================] - 75s 45ms/step - loss: 0.4708 - accuracy: 0.8568 - val_loss: 0.6109 - val_accuracy: 0.8165\n",
            "Epoch 9/20\n",
            "1694/1694 [==============================] - ETA: 0s - loss: 0.3814 - accuracy: 0.8842\n",
            "Epoch 9: val_loss improved from 0.61094 to 0.53244, saving model to saved_models/nlp_model_5\n"
          ]
        },
        {
          "output_type": "stream",
          "name": "stderr",
          "text": [
            "WARNING:absl:Found untraced functions such as lstm_cell_1_layer_call_fn, lstm_cell_1_layer_call_and_return_conditional_losses, lstm_cell_2_layer_call_fn, lstm_cell_2_layer_call_and_return_conditional_losses, gru_cell_1_layer_call_fn while saving (showing 5 of 8). These functions will not be directly callable after loading.\n"
          ]
        },
        {
          "output_type": "stream",
          "name": "stdout",
          "text": [
            "\b\b\b\b\b\b\b\b\b\b\b\b\b\b\b\b\b\b\b\b\b\b\b\b\b\b\b\b\b\b\b\b\b\b\b\b\b\b\b\b\b\b\b\b\b\b\b\b\b\b\b\b\b\b\b\b\b\b\b\b\b\b\b\b\b\b\b\b\b\b\b\b\b\b\b\b\b\b\b\b\b\b\b\b\b\b\r1694/1694 [==============================] - 75s 45ms/step - loss: 0.3814 - accuracy: 0.8842 - val_loss: 0.5324 - val_accuracy: 0.8415\n",
            "Epoch 10/20\n",
            "1694/1694 [==============================] - ETA: 0s - loss: 0.3032 - accuracy: 0.9060\n",
            "Epoch 10: val_loss improved from 0.53244 to 0.45005, saving model to saved_models/nlp_model_5\n"
          ]
        },
        {
          "output_type": "stream",
          "name": "stderr",
          "text": [
            "WARNING:absl:Found untraced functions such as lstm_cell_1_layer_call_fn, lstm_cell_1_layer_call_and_return_conditional_losses, lstm_cell_2_layer_call_fn, lstm_cell_2_layer_call_and_return_conditional_losses, gru_cell_1_layer_call_fn while saving (showing 5 of 8). These functions will not be directly callable after loading.\n"
          ]
        },
        {
          "output_type": "stream",
          "name": "stdout",
          "text": [
            "\b\b\b\b\b\b\b\b\b\b\b\b\b\b\b\b\b\b\b\b\b\b\b\b\b\b\b\b\b\b\b\b\b\b\b\b\b\b\b\b\b\b\b\b\b\b\b\b\b\b\b\b\b\b\b\b\b\b\b\b\b\b\b\b\b\b\b\b\b\b\b\b\b\b\b\b\b\b\b\b\b\b\b\b\b\b\r1694/1694 [==============================] - 76s 45ms/step - loss: 0.3032 - accuracy: 0.9060 - val_loss: 0.4501 - val_accuracy: 0.8677\n",
            "Epoch 11/20\n",
            "1692/1694 [============================>.] - ETA: 0s - loss: 0.2469 - accuracy: 0.9233\n",
            "Epoch 11: val_loss improved from 0.45005 to 0.33184, saving model to saved_models/nlp_model_5\n"
          ]
        },
        {
          "output_type": "stream",
          "name": "stderr",
          "text": [
            "WARNING:absl:Found untraced functions such as lstm_cell_1_layer_call_fn, lstm_cell_1_layer_call_and_return_conditional_losses, lstm_cell_2_layer_call_fn, lstm_cell_2_layer_call_and_return_conditional_losses, gru_cell_1_layer_call_fn while saving (showing 5 of 8). These functions will not be directly callable after loading.\n"
          ]
        },
        {
          "output_type": "stream",
          "name": "stdout",
          "text": [
            "\b\b\b\b\b\b\b\b\b\b\b\b\b\b\b\b\b\b\b\b\b\b\b\b\b\b\b\b\b\b\b\b\b\b\b\b\b\b\b\b\b\b\b\b\b\b\b\b\b\b\b\b\b\b\b\b\b\b\b\b\b\b\b\b\b\b\b\b\b\b\b\b\b\b\b\b\b\b\b\b\b\b\b\b\b\b\r1694/1694 [==============================] - 74s 43ms/step - loss: 0.2468 - accuracy: 0.9233 - val_loss: 0.3318 - val_accuracy: 0.9006\n",
            "Epoch 12/20\n",
            "1692/1694 [============================>.] - ETA: 0s - loss: 0.1953 - accuracy: 0.9400\n",
            "Epoch 12: val_loss improved from 0.33184 to 0.26324, saving model to saved_models/nlp_model_5\n"
          ]
        },
        {
          "output_type": "stream",
          "name": "stderr",
          "text": [
            "WARNING:absl:Found untraced functions such as lstm_cell_1_layer_call_fn, lstm_cell_1_layer_call_and_return_conditional_losses, lstm_cell_2_layer_call_fn, lstm_cell_2_layer_call_and_return_conditional_losses, gru_cell_1_layer_call_fn while saving (showing 5 of 8). These functions will not be directly callable after loading.\n"
          ]
        },
        {
          "output_type": "stream",
          "name": "stdout",
          "text": [
            "\b\b\b\b\b\b\b\b\b\b\b\b\b\b\b\b\b\b\b\b\b\b\b\b\b\b\b\b\b\b\b\b\b\b\b\b\b\b\b\b\b\b\b\b\b\b\b\b\b\b\b\b\b\b\b\b\b\b\b\b\b\b\b\b\b\b\b\b\b\b\b\b\b\b\b\b\b\b\b\b\b\b\b\b\b\b\r1694/1694 [==============================] - 75s 44ms/step - loss: 0.1952 - accuracy: 0.9400 - val_loss: 0.2632 - val_accuracy: 0.9203\n",
            "Epoch 13/20\n",
            "1692/1694 [============================>.] - ETA: 0s - loss: 0.1550 - accuracy: 0.9496\n",
            "Epoch 13: val_loss improved from 0.26324 to 0.24431, saving model to saved_models/nlp_model_5\n"
          ]
        },
        {
          "output_type": "stream",
          "name": "stderr",
          "text": [
            "WARNING:absl:Found untraced functions such as lstm_cell_1_layer_call_fn, lstm_cell_1_layer_call_and_return_conditional_losses, lstm_cell_2_layer_call_fn, lstm_cell_2_layer_call_and_return_conditional_losses, gru_cell_1_layer_call_fn while saving (showing 5 of 8). These functions will not be directly callable after loading.\n"
          ]
        },
        {
          "output_type": "stream",
          "name": "stdout",
          "text": [
            "\b\b\b\b\b\b\b\b\b\b\b\b\b\b\b\b\b\b\b\b\b\b\b\b\b\b\b\b\b\b\b\b\b\b\b\b\b\b\b\b\b\b\b\b\b\b\b\b\b\b\b\b\b\b\b\b\b\b\b\b\b\b\b\b\b\b\b\b\b\b\b\b\b\b\b\b\b\b\b\b\b\b\b\b\b\b\r1694/1694 [==============================] - 73s 43ms/step - loss: 0.1549 - accuracy: 0.9496 - val_loss: 0.2443 - val_accuracy: 0.9233\n",
            "Epoch 14/20\n",
            "1693/1694 [============================>.] - ETA: 0s - loss: 0.1330 - accuracy: 0.9576\n",
            "Epoch 14: val_loss improved from 0.24431 to 0.19448, saving model to saved_models/nlp_model_5\n"
          ]
        },
        {
          "output_type": "stream",
          "name": "stderr",
          "text": [
            "WARNING:absl:Found untraced functions such as lstm_cell_1_layer_call_fn, lstm_cell_1_layer_call_and_return_conditional_losses, lstm_cell_2_layer_call_fn, lstm_cell_2_layer_call_and_return_conditional_losses, gru_cell_1_layer_call_fn while saving (showing 5 of 8). These functions will not be directly callable after loading.\n"
          ]
        },
        {
          "output_type": "stream",
          "name": "stdout",
          "text": [
            "\b\b\b\b\b\b\b\b\b\b\b\b\b\b\b\b\b\b\b\b\b\b\b\b\b\b\b\b\b\b\b\b\b\b\b\b\b\b\b\b\b\b\b\b\b\b\b\b\b\b\b\b\b\b\b\b\b\b\b\b\b\b\b\b\b\b\b\b\b\b\b\b\b\b\b\b\b\b\b\b\b\b\b\b\b\b\r1694/1694 [==============================] - 72s 43ms/step - loss: 0.1330 - accuracy: 0.9576 - val_loss: 0.1945 - val_accuracy: 0.9394\n",
            "Epoch 15/20\n",
            "1693/1694 [============================>.] - ETA: 0s - loss: 0.1098 - accuracy: 0.9662\n",
            "Epoch 15: val_loss did not improve from 0.19448\n",
            "1694/1694 [==============================] - 57s 33ms/step - loss: 0.1098 - accuracy: 0.9662 - val_loss: 0.2023 - val_accuracy: 0.9370\n",
            "Epoch 16/20\n",
            "1693/1694 [============================>.] - ETA: 0s - loss: 0.0939 - accuracy: 0.9698\n",
            "Epoch 16: val_loss improved from 0.19448 to 0.13975, saving model to saved_models/nlp_model_5\n"
          ]
        },
        {
          "output_type": "stream",
          "name": "stderr",
          "text": [
            "WARNING:absl:Found untraced functions such as lstm_cell_1_layer_call_fn, lstm_cell_1_layer_call_and_return_conditional_losses, lstm_cell_2_layer_call_fn, lstm_cell_2_layer_call_and_return_conditional_losses, gru_cell_1_layer_call_fn while saving (showing 5 of 8). These functions will not be directly callable after loading.\n"
          ]
        },
        {
          "output_type": "stream",
          "name": "stdout",
          "text": [
            "\b\b\b\b\b\b\b\b\b\b\b\b\b\b\b\b\b\b\b\b\b\b\b\b\b\b\b\b\b\b\b\b\b\b\b\b\b\b\b\b\b\b\b\b\b\b\b\b\b\b\b\b\b\b\b\b\b\b\b\b\b\b\b\b\b\b\b\b\b\b\b\b\b\b\b\b\b\b\b\b\b\b\b\b\b\b\r1694/1694 [==============================] - 72s 42ms/step - loss: 0.0939 - accuracy: 0.9698 - val_loss: 0.1397 - val_accuracy: 0.9563\n",
            "Epoch 17/20\n",
            "1693/1694 [============================>.] - ETA: 0s - loss: 0.0808 - accuracy: 0.9737\n",
            "Epoch 17: val_loss improved from 0.13975 to 0.12683, saving model to saved_models/nlp_model_5\n"
          ]
        },
        {
          "output_type": "stream",
          "name": "stderr",
          "text": [
            "WARNING:absl:Found untraced functions such as lstm_cell_1_layer_call_fn, lstm_cell_1_layer_call_and_return_conditional_losses, lstm_cell_2_layer_call_fn, lstm_cell_2_layer_call_and_return_conditional_losses, gru_cell_1_layer_call_fn while saving (showing 5 of 8). These functions will not be directly callable after loading.\n"
          ]
        },
        {
          "output_type": "stream",
          "name": "stdout",
          "text": [
            "\b\b\b\b\b\b\b\b\b\b\b\b\b\b\b\b\b\b\b\b\b\b\b\b\b\b\b\b\b\b\b\b\b\b\b\b\b\b\b\b\b\b\b\b\b\b\b\b\b\b\b\b\b\b\b\b\b\b\b\b\b\b\b\b\b\b\b\b\b\b\b\b\b\b\b\b\b\b\b\b\b\b\b\b\b\b\r1694/1694 [==============================] - 72s 42ms/step - loss: 0.0808 - accuracy: 0.9737 - val_loss: 0.1268 - val_accuracy: 0.9592\n",
            "Epoch 18/20\n",
            "1692/1694 [============================>.] - ETA: 0s - loss: 0.0729 - accuracy: 0.9763\n",
            "Epoch 18: val_loss improved from 0.12683 to 0.11561, saving model to saved_models/nlp_model_5\n"
          ]
        },
        {
          "output_type": "stream",
          "name": "stderr",
          "text": [
            "WARNING:absl:Found untraced functions such as lstm_cell_1_layer_call_fn, lstm_cell_1_layer_call_and_return_conditional_losses, lstm_cell_2_layer_call_fn, lstm_cell_2_layer_call_and_return_conditional_losses, gru_cell_1_layer_call_fn while saving (showing 5 of 8). These functions will not be directly callable after loading.\n"
          ]
        },
        {
          "output_type": "stream",
          "name": "stdout",
          "text": [
            "\b\b\b\b\b\b\b\b\b\b\b\b\b\b\b\b\b\b\b\b\b\b\b\b\b\b\b\b\b\b\b\b\b\b\b\b\b\b\b\b\b\b\b\b\b\b\b\b\b\b\b\b\b\b\b\b\b\b\b\b\b\b\b\b\b\b\b\b\b\b\b\b\b\b\b\b\b\b\b\b\b\b\b\b\b\b\r1694/1694 [==============================] - 75s 44ms/step - loss: 0.0729 - accuracy: 0.9763 - val_loss: 0.1156 - val_accuracy: 0.9635\n",
            "Epoch 19/20\n",
            "1694/1694 [==============================] - ETA: 0s - loss: 0.0704 - accuracy: 0.9771\n",
            "Epoch 19: val_loss improved from 0.11561 to 0.09139, saving model to saved_models/nlp_model_5\n"
          ]
        },
        {
          "output_type": "stream",
          "name": "stderr",
          "text": [
            "WARNING:absl:Found untraced functions such as lstm_cell_1_layer_call_fn, lstm_cell_1_layer_call_and_return_conditional_losses, lstm_cell_2_layer_call_fn, lstm_cell_2_layer_call_and_return_conditional_losses, gru_cell_1_layer_call_fn while saving (showing 5 of 8). These functions will not be directly callable after loading.\n"
          ]
        },
        {
          "output_type": "stream",
          "name": "stdout",
          "text": [
            "\b\b\b\b\b\b\b\b\b\b\b\b\b\b\b\b\b\b\b\b\b\b\b\b\b\b\b\b\b\b\b\b\b\b\b\b\b\b\b\b\b\b\b\b\b\b\b\b\b\b\b\b\b\b\b\b\b\b\b\b\b\b\b\b\b\b\b\b\b\b\b\b\b\b\b\b\b\b\b\b\b\b\b\b\b\b\r1694/1694 [==============================] - 72s 43ms/step - loss: 0.0704 - accuracy: 0.9771 - val_loss: 0.0914 - val_accuracy: 0.9722\n",
            "Epoch 20/20\n",
            "1694/1694 [==============================] - ETA: 0s - loss: 0.0589 - accuracy: 0.9814\n",
            "Epoch 20: val_loss improved from 0.09139 to 0.07425, saving model to saved_models/nlp_model_5\n"
          ]
        },
        {
          "output_type": "stream",
          "name": "stderr",
          "text": [
            "WARNING:absl:Found untraced functions such as lstm_cell_1_layer_call_fn, lstm_cell_1_layer_call_and_return_conditional_losses, lstm_cell_2_layer_call_fn, lstm_cell_2_layer_call_and_return_conditional_losses, gru_cell_1_layer_call_fn while saving (showing 5 of 8). These functions will not be directly callable after loading.\n"
          ]
        },
        {
          "output_type": "stream",
          "name": "stdout",
          "text": [
            "\b\b\b\b\b\b\b\b\b\b\b\b\b\b\b\b\b\b\b\b\b\b\b\b\b\b\b\b\b\b\b\b\b\b\b\b\b\b\b\b\b\b\b\b\b\b\b\b\b\b\b\b\b\b\b\b\b\b\b\b\b\b\b\b\b\b\b\b\b\b\b\b\b\b\b\b\b\b\b\b\b\b\b\b\b\b\r1694/1694 [==============================] - 75s 44ms/step - loss: 0.0589 - accuracy: 0.9814 - val_loss: 0.0742 - val_accuracy: 0.9763\n"
          ]
        }
      ]
    },
    {
      "cell_type": "code",
      "source": [
        "model_5.evaluate(test_dataset)\n",
        "model_5_loaded = tf.keras.models.load_model(\"saved_models/nlp_model_5\")\n",
        "model_5_preds = model_5_loaded.predict(test_dataset)\n",
        "model_5_results = calculate_results(test_labels, tf.argmax(model_5_preds, axis=1))\n",
        "model_results_dataset['model_5'] = model_5_results"
      ],
      "metadata": {
        "colab": {
          "base_uri": "https://localhost:8080/"
        },
        "id": "Sbbymv-8Hx62",
        "outputId": "618c322c-46b9-4292-cf75-7148c221fd21"
      },
      "execution_count": 41,
      "outputs": [
        {
          "output_type": "stream",
          "name": "stdout",
          "text": [
            "1694/1694 [==============================] - 19s 11ms/step - loss: 0.0742 - accuracy: 0.9763\n",
            "1694/1694 [==============================] - 19s 11ms/step\n"
          ]
        }
      ]
    },
    {
      "cell_type": "markdown",
      "source": [
        "## Model 6: CNN"
      ],
      "metadata": {
        "id": "E8BGE55oH8DK"
      }
    },
    {
      "cell_type": "code",
      "source": [
        "tf.keras.backend.clear_session()\n",
        "\n",
        "model_6_embedding = layers.Embedding(input_dim=10000, output_dim=128, embeddings_initializer=\"uniform\", input_length=output_seq_length, name=\"embedding_6\")\n",
        "\n",
        "# Create 1D convolutional model to process sequences\n",
        "inputs = layers.Input(shape=(1,), dtype=tf.string)\n",
        "text_vectors = tv_layer(inputs) # vectorize text inputs\n",
        "token_embeddings = model_6_embedding(text_vectors) # create embedding\n",
        "x = layers.Conv1D(64, kernel_size=5, padding=\"same\", activation=\"relu\")(token_embeddings)\n",
        "x = layers.GlobalAveragePooling1D()(x) # condense the output of our feature vector\n",
        "outputs = layers.Dense(NUM_CLASSES, activation=\"softmax\")(x)\n",
        "model_6 = tf.keras.Model(inputs, outputs, name=\"nlp_model_6\")\n",
        "\n",
        "# Compile\n",
        "model_6.compile(loss=\"categorical_crossentropy\", # if your labels are integer form (not one hot) use sparse_categorical_crossentropy\n",
        "                optimizer=tf.keras.optimizers.Adam(),\n",
        "                metrics=[\"accuracy\"])\n",
        "history_6 = model_6.fit(train_dataset, epochs=20, validation_data=test_dataset,callbacks=return_callbacks(model_6.name))"
      ],
      "metadata": {
        "colab": {
          "base_uri": "https://localhost:8080/"
        },
        "id": "pcIoz8NvH3mG",
        "outputId": "c3f45716-e493-4c48-e5c4-bd109ae78f88"
      },
      "execution_count": 42,
      "outputs": [
        {
          "output_type": "stream",
          "name": "stdout",
          "text": [
            "Epoch 1/20\n",
            "1694/1694 [==============================] - ETA: 0s - loss: 1.8245 - accuracy: 0.4836\n",
            "Epoch 1: val_loss improved from inf to 1.41329, saving model to saved_models/nlp_model_6\n"
          ]
        },
        {
          "output_type": "stream",
          "name": "stderr",
          "text": [
            "WARNING:absl:Found untraced functions such as _jit_compiled_convolution_op while saving (showing 1 of 1). These functions will not be directly callable after loading.\n"
          ]
        },
        {
          "output_type": "stream",
          "name": "stdout",
          "text": [
            "\b\b\b\b\b\b\b\b\b\b\b\b\b\b\b\b\b\b\b\b\b\b\b\b\b\b\b\b\b\b\b\b\b\b\b\b\b\b\b\b\b\b\b\b\b\b\b\b\b\b\b\b\b\b\b\b\b\b\b\b\b\b\b\b\b\b\b\b\b\b\b\b\b\b\b\b\b\b\b\b\b\b\b\b\b\b\r1694/1694 [==============================] - 19s 9ms/step - loss: 1.8245 - accuracy: 0.4836 - val_loss: 1.4133 - val_accuracy: 0.5998\n",
            "Epoch 2/20\n",
            "1685/1694 [============================>.] - ETA: 0s - loss: 1.3901 - accuracy: 0.6000\n",
            "Epoch 2: val_loss improved from 1.41329 to 1.18079, saving model to saved_models/nlp_model_6\n"
          ]
        },
        {
          "output_type": "stream",
          "name": "stderr",
          "text": [
            "WARNING:absl:Found untraced functions such as _jit_compiled_convolution_op while saving (showing 1 of 1). These functions will not be directly callable after loading.\n"
          ]
        },
        {
          "output_type": "stream",
          "name": "stdout",
          "text": [
            "\b\b\b\b\b\b\b\b\b\b\b\b\b\b\b\b\b\b\b\b\b\b\b\b\b\b\b\b\b\b\b\b\b\b\b\b\b\b\b\b\b\b\b\b\b\b\b\b\b\b\b\b\b\b\b\b\b\b\b\b\b\b\b\b\b\b\b\b\b\b\b\b\b\b\b\b\b\b\b\b\b\b\b\b\b\b\r1694/1694 [==============================] - 14s 8ms/step - loss: 1.3892 - accuracy: 0.6003 - val_loss: 1.1808 - val_accuracy: 0.6601\n",
            "Epoch 3/20\n",
            "1692/1694 [============================>.] - ETA: 0s - loss: 1.2050 - accuracy: 0.6471\n",
            "Epoch 3: val_loss improved from 1.18079 to 1.00811, saving model to saved_models/nlp_model_6\n"
          ]
        },
        {
          "output_type": "stream",
          "name": "stderr",
          "text": [
            "WARNING:absl:Found untraced functions such as _jit_compiled_convolution_op while saving (showing 1 of 1). These functions will not be directly callable after loading.\n"
          ]
        },
        {
          "output_type": "stream",
          "name": "stdout",
          "text": [
            "\b\b\b\b\b\b\b\b\b\b\b\b\b\b\b\b\b\b\b\b\b\b\b\b\b\b\b\b\b\b\b\b\b\b\b\b\b\b\b\b\b\b\b\b\b\b\b\b\b\b\b\b\b\b\b\b\b\b\b\b\b\b\b\b\b\b\b\b\b\b\b\b\b\b\b\b\b\b\b\b\b\b\b\b\b\b\r1694/1694 [==============================] - 14s 8ms/step - loss: 1.2049 - accuracy: 0.6470 - val_loss: 1.0081 - val_accuracy: 0.7074\n",
            "Epoch 4/20\n",
            "1693/1694 [============================>.] - ETA: 0s - loss: 1.0571 - accuracy: 0.6864\n",
            "Epoch 4: val_loss improved from 1.00811 to 0.86509, saving model to saved_models/nlp_model_6\n"
          ]
        },
        {
          "output_type": "stream",
          "name": "stderr",
          "text": [
            "WARNING:absl:Found untraced functions such as _jit_compiled_convolution_op while saving (showing 1 of 1). These functions will not be directly callable after loading.\n"
          ]
        },
        {
          "output_type": "stream",
          "name": "stdout",
          "text": [
            "\b\b\b\b\b\b\b\b\b\b\b\b\b\b\b\b\b\b\b\b\b\b\b\b\b\b\b\b\b\b\b\b\b\b\b\b\b\b\b\b\b\b\b\b\b\b\b\b\b\b\b\b\b\b\b\b\b\b\b\b\b\b\b\b\b\b\b\b\b\b\b\b\b\b\b\b\b\b\b\b\b\b\b\b\b\b\r1694/1694 [==============================] - 14s 9ms/step - loss: 1.0571 - accuracy: 0.6864 - val_loss: 0.8651 - val_accuracy: 0.7450\n",
            "Epoch 5/20\n",
            "1692/1694 [============================>.] - ETA: 0s - loss: 0.9319 - accuracy: 0.7194\n",
            "Epoch 5: val_loss improved from 0.86509 to 0.74548, saving model to saved_models/nlp_model_6\n"
          ]
        },
        {
          "output_type": "stream",
          "name": "stderr",
          "text": [
            "WARNING:absl:Found untraced functions such as _jit_compiled_convolution_op while saving (showing 1 of 1). These functions will not be directly callable after loading.\n"
          ]
        },
        {
          "output_type": "stream",
          "name": "stdout",
          "text": [
            "\b\b\b\b\b\b\b\b\b\b\b\b\b\b\b\b\b\b\b\b\b\b\b\b\b\b\b\b\b\b\b\b\b\b\b\b\b\b\b\b\b\b\b\b\b\b\b\b\b\b\b\b\b\b\b\b\b\b\b\b\b\b\b\b\b\b\b\b\b\b\b\b\b\b\b\b\b\b\b\b\b\b\b\b\b\b\r1694/1694 [==============================] - 15s 9ms/step - loss: 0.9317 - accuracy: 0.7194 - val_loss: 0.7455 - val_accuracy: 0.7785\n",
            "Epoch 6/20\n",
            "1692/1694 [============================>.] - ETA: 0s - loss: 0.8224 - accuracy: 0.7488\n",
            "Epoch 6: val_loss improved from 0.74548 to 0.64191, saving model to saved_models/nlp_model_6\n"
          ]
        },
        {
          "output_type": "stream",
          "name": "stderr",
          "text": [
            "WARNING:absl:Found untraced functions such as _jit_compiled_convolution_op while saving (showing 1 of 1). These functions will not be directly callable after loading.\n"
          ]
        },
        {
          "output_type": "stream",
          "name": "stdout",
          "text": [
            "\b\b\b\b\b\b\b\b\b\b\b\b\b\b\b\b\b\b\b\b\b\b\b\b\b\b\b\b\b\b\b\b\b\b\b\b\b\b\b\b\b\b\b\b\b\b\b\b\b\b\b\b\b\b\b\b\b\b\b\b\b\b\b\b\b\b\b\b\b\b\b\b\b\b\b\b\b\b\b\b\b\b\b\b\b\b\r1694/1694 [==============================] - 16s 9ms/step - loss: 0.8222 - accuracy: 0.7489 - val_loss: 0.6419 - val_accuracy: 0.8098\n",
            "Epoch 7/20\n",
            "1687/1694 [============================>.] - ETA: 0s - loss: 0.7238 - accuracy: 0.7788\n",
            "Epoch 7: val_loss improved from 0.64191 to 0.55112, saving model to saved_models/nlp_model_6\n"
          ]
        },
        {
          "output_type": "stream",
          "name": "stderr",
          "text": [
            "WARNING:absl:Found untraced functions such as _jit_compiled_convolution_op while saving (showing 1 of 1). These functions will not be directly callable after loading.\n"
          ]
        },
        {
          "output_type": "stream",
          "name": "stdout",
          "text": [
            "\b\b\b\b\b\b\b\b\b\b\b\b\b\b\b\b\b\b\b\b\b\b\b\b\b\b\b\b\b\b\b\b\b\b\b\b\b\b\b\b\b\b\b\b\b\b\b\b\b\b\b\b\b\b\b\b\b\b\b\b\b\b\b\b\b\b\b\b\b\b\b\b\b\b\b\b\b\b\b\b\b\b\b\b\b\b\r1694/1694 [==============================] - 15s 9ms/step - loss: 0.7235 - accuracy: 0.7789 - val_loss: 0.5511 - val_accuracy: 0.8383\n",
            "Epoch 8/20\n",
            "1694/1694 [==============================] - ETA: 0s - loss: 0.6334 - accuracy: 0.8073\n",
            "Epoch 8: val_loss improved from 0.55112 to 0.47434, saving model to saved_models/nlp_model_6\n"
          ]
        },
        {
          "output_type": "stream",
          "name": "stderr",
          "text": [
            "WARNING:absl:Found untraced functions such as _jit_compiled_convolution_op while saving (showing 1 of 1). These functions will not be directly callable after loading.\n"
          ]
        },
        {
          "output_type": "stream",
          "name": "stdout",
          "text": [
            "\b\b\b\b\b\b\b\b\b\b\b\b\b\b\b\b\b\b\b\b\b\b\b\b\b\b\b\b\b\b\b\b\b\b\b\b\b\b\b\b\b\b\b\b\b\b\b\b\b\b\b\b\b\b\b\b\b\b\b\b\b\b\b\b\b\b\b\b\b\b\b\b\b\b\b\b\b\b\b\b\b\b\b\b\b\b\r1694/1694 [==============================] - 15s 9ms/step - loss: 0.6334 - accuracy: 0.8073 - val_loss: 0.4743 - val_accuracy: 0.8625\n",
            "Epoch 9/20\n",
            "1692/1694 [============================>.] - ETA: 0s - loss: 0.5506 - accuracy: 0.8352\n",
            "Epoch 9: val_loss improved from 0.47434 to 0.40884, saving model to saved_models/nlp_model_6\n"
          ]
        },
        {
          "output_type": "stream",
          "name": "stderr",
          "text": [
            "WARNING:absl:Found untraced functions such as _jit_compiled_convolution_op while saving (showing 1 of 1). These functions will not be directly callable after loading.\n"
          ]
        },
        {
          "output_type": "stream",
          "name": "stdout",
          "text": [
            "\b\b\b\b\b\b\b\b\b\b\b\b\b\b\b\b\b\b\b\b\b\b\b\b\b\b\b\b\b\b\b\b\b\b\b\b\b\b\b\b\b\b\b\b\b\b\b\b\b\b\b\b\b\b\b\b\b\b\b\b\b\b\b\b\b\b\b\b\b\b\b\b\b\b\b\b\b\b\b\b\b\b\b\b\b\b\r1694/1694 [==============================] - 14s 8ms/step - loss: 0.5506 - accuracy: 0.8352 - val_loss: 0.4088 - val_accuracy: 0.8818\n",
            "Epoch 10/20\n",
            "1693/1694 [============================>.] - ETA: 0s - loss: 0.4745 - accuracy: 0.8601\n",
            "Epoch 10: val_loss improved from 0.40884 to 0.34996, saving model to saved_models/nlp_model_6\n"
          ]
        },
        {
          "output_type": "stream",
          "name": "stderr",
          "text": [
            "WARNING:absl:Found untraced functions such as _jit_compiled_convolution_op while saving (showing 1 of 1). These functions will not be directly callable after loading.\n"
          ]
        },
        {
          "output_type": "stream",
          "name": "stdout",
          "text": [
            "\b\b\b\b\b\b\b\b\b\b\b\b\b\b\b\b\b\b\b\b\b\b\b\b\b\b\b\b\b\b\b\b\b\b\b\b\b\b\b\b\b\b\b\b\b\b\b\b\b\b\b\b\b\b\b\b\b\b\b\b\b\b\b\b\b\b\b\b\b\b\b\b\b\b\b\b\b\b\b\b\b\b\b\b\b\b\r1694/1694 [==============================] - 15s 9ms/step - loss: 0.4744 - accuracy: 0.8601 - val_loss: 0.3500 - val_accuracy: 0.8997\n",
            "Epoch 11/20\n",
            "1692/1694 [============================>.] - ETA: 0s - loss: 0.4052 - accuracy: 0.8843\n",
            "Epoch 11: val_loss improved from 0.34996 to 0.29795, saving model to saved_models/nlp_model_6\n"
          ]
        },
        {
          "output_type": "stream",
          "name": "stderr",
          "text": [
            "WARNING:absl:Found untraced functions such as _jit_compiled_convolution_op while saving (showing 1 of 1). These functions will not be directly callable after loading.\n"
          ]
        },
        {
          "output_type": "stream",
          "name": "stdout",
          "text": [
            "\b\b\b\b\b\b\b\b\b\b\b\b\b\b\b\b\b\b\b\b\b\b\b\b\b\b\b\b\b\b\b\b\b\b\b\b\b\b\b\b\b\b\b\b\b\b\b\b\b\b\b\b\b\b\b\b\b\b\b\b\b\b\b\b\b\b\b\b\b\b\b\b\b\b\b\b\b\b\b\b\b\b\b\b\b\b\r1694/1694 [==============================] - 14s 8ms/step - loss: 0.4051 - accuracy: 0.8844 - val_loss: 0.2979 - val_accuracy: 0.9147\n",
            "Epoch 12/20\n",
            "1689/1694 [============================>.] - ETA: 0s - loss: 0.3426 - accuracy: 0.9050\n",
            "Epoch 12: val_loss improved from 0.29795 to 0.25576, saving model to saved_models/nlp_model_6\n"
          ]
        },
        {
          "output_type": "stream",
          "name": "stderr",
          "text": [
            "WARNING:absl:Found untraced functions such as _jit_compiled_convolution_op while saving (showing 1 of 1). These functions will not be directly callable after loading.\n"
          ]
        },
        {
          "output_type": "stream",
          "name": "stdout",
          "text": [
            "\b\b\b\b\b\b\b\b\b\b\b\b\b\b\b\b\b\b\b\b\b\b\b\b\b\b\b\b\b\b\b\b\b\b\b\b\b\b\b\b\b\b\b\b\b\b\b\b\b\b\b\b\b\b\b\b\b\b\b\b\b\b\b\b\b\b\b\b\b\b\b\b\b\b\b\b\b\b\b\b\b\b\b\b\b\b\r1694/1694 [==============================] - 14s 8ms/step - loss: 0.3425 - accuracy: 0.9050 - val_loss: 0.2558 - val_accuracy: 0.9264\n",
            "Epoch 13/20\n",
            "1693/1694 [============================>.] - ETA: 0s - loss: 0.2863 - accuracy: 0.9230\n",
            "Epoch 13: val_loss improved from 0.25576 to 0.21895, saving model to saved_models/nlp_model_6\n"
          ]
        },
        {
          "output_type": "stream",
          "name": "stderr",
          "text": [
            "WARNING:absl:Found untraced functions such as _jit_compiled_convolution_op while saving (showing 1 of 1). These functions will not be directly callable after loading.\n"
          ]
        },
        {
          "output_type": "stream",
          "name": "stdout",
          "text": [
            "\b\b\b\b\b\b\b\b\b\b\b\b\b\b\b\b\b\b\b\b\b\b\b\b\b\b\b\b\b\b\b\b\b\b\b\b\b\b\b\b\b\b\b\b\b\b\b\b\b\b\b\b\b\b\b\b\b\b\b\b\b\b\b\b\b\b\b\b\b\b\b\b\b\b\b\b\b\b\b\b\b\b\b\b\b\b\r1694/1694 [==============================] - 14s 8ms/step - loss: 0.2863 - accuracy: 0.9230 - val_loss: 0.2190 - val_accuracy: 0.9370\n",
            "Epoch 14/20\n",
            "1685/1694 [============================>.] - ETA: 0s - loss: 0.2367 - accuracy: 0.9402\n",
            "Epoch 14: val_loss improved from 0.21895 to 0.18734, saving model to saved_models/nlp_model_6\n"
          ]
        },
        {
          "output_type": "stream",
          "name": "stderr",
          "text": [
            "WARNING:absl:Found untraced functions such as _jit_compiled_convolution_op while saving (showing 1 of 1). These functions will not be directly callable after loading.\n"
          ]
        },
        {
          "output_type": "stream",
          "name": "stdout",
          "text": [
            "\b\b\b\b\b\b\b\b\b\b\b\b\b\b\b\b\b\b\b\b\b\b\b\b\b\b\b\b\b\b\b\b\b\b\b\b\b\b\b\b\b\b\b\b\b\b\b\b\b\b\b\b\b\b\b\b\b\b\b\b\b\b\b\b\b\b\b\b\b\b\b\b\b\b\b\b\b\b\b\b\b\b\b\b\b\b\r1694/1694 [==============================] - 14s 9ms/step - loss: 0.2367 - accuracy: 0.9402 - val_loss: 0.1873 - val_accuracy: 0.9449\n",
            "Epoch 15/20\n",
            "1686/1694 [============================>.] - ETA: 0s - loss: 0.1943 - accuracy: 0.9531\n",
            "Epoch 15: val_loss improved from 0.18734 to 0.16249, saving model to saved_models/nlp_model_6\n"
          ]
        },
        {
          "output_type": "stream",
          "name": "stderr",
          "text": [
            "WARNING:absl:Found untraced functions such as _jit_compiled_convolution_op while saving (showing 1 of 1). These functions will not be directly callable after loading.\n"
          ]
        },
        {
          "output_type": "stream",
          "name": "stdout",
          "text": [
            "\b\b\b\b\b\b\b\b\b\b\b\b\b\b\b\b\b\b\b\b\b\b\b\b\b\b\b\b\b\b\b\b\b\b\b\b\b\b\b\b\b\b\b\b\b\b\b\b\b\b\b\b\b\b\b\b\b\b\b\b\b\b\b\b\b\b\b\b\b\b\b\b\b\b\b\b\b\b\b\b\b\b\b\b\b\b\r1694/1694 [==============================] - 15s 9ms/step - loss: 0.1943 - accuracy: 0.9532 - val_loss: 0.1625 - val_accuracy: 0.9513\n",
            "Epoch 16/20\n",
            "1693/1694 [============================>.] - ETA: 0s - loss: 0.1585 - accuracy: 0.9646\n",
            "Epoch 16: val_loss improved from 0.16249 to 0.14745, saving model to saved_models/nlp_model_6\n"
          ]
        },
        {
          "output_type": "stream",
          "name": "stderr",
          "text": [
            "WARNING:absl:Found untraced functions such as _jit_compiled_convolution_op while saving (showing 1 of 1). These functions will not be directly callable after loading.\n"
          ]
        },
        {
          "output_type": "stream",
          "name": "stdout",
          "text": [
            "\b\b\b\b\b\b\b\b\b\b\b\b\b\b\b\b\b\b\b\b\b\b\b\b\b\b\b\b\b\b\b\b\b\b\b\b\b\b\b\b\b\b\b\b\b\b\b\b\b\b\b\b\b\b\b\b\b\b\b\b\b\b\b\b\b\b\b\b\b\b\b\b\b\b\b\b\b\b\b\b\b\b\b\b\b\b\r1694/1694 [==============================] - 15s 9ms/step - loss: 0.1585 - accuracy: 0.9646 - val_loss: 0.1474 - val_accuracy: 0.9545\n",
            "Epoch 17/20\n",
            "1691/1694 [============================>.] - ETA: 0s - loss: 0.1333 - accuracy: 0.9714\n",
            "Epoch 17: val_loss did not improve from 0.14745\n",
            "1694/1694 [==============================] - 16s 9ms/step - loss: 0.1333 - accuracy: 0.9714 - val_loss: 0.1665 - val_accuracy: 0.9434\n",
            "Epoch 18/20\n",
            "1684/1694 [============================>.] - ETA: 0s - loss: 0.1199 - accuracy: 0.9730\n",
            "Epoch 18: val_loss did not improve from 0.14745\n",
            "1694/1694 [==============================] - 14s 8ms/step - loss: 0.1201 - accuracy: 0.9729 - val_loss: 0.1583 - val_accuracy: 0.9447\n",
            "Epoch 19/20\n",
            "1690/1694 [============================>.] - ETA: 0s - loss: 0.1246 - accuracy: 0.9656\n",
            "Epoch 19: val_loss improved from 0.14745 to 0.13334, saving model to saved_models/nlp_model_6\n"
          ]
        },
        {
          "output_type": "stream",
          "name": "stderr",
          "text": [
            "WARNING:absl:Found untraced functions such as _jit_compiled_convolution_op while saving (showing 1 of 1). These functions will not be directly callable after loading.\n"
          ]
        },
        {
          "output_type": "stream",
          "name": "stdout",
          "text": [
            "\b\b\b\b\b\b\b\b\b\b\b\b\b\b\b\b\b\b\b\b\b\b\b\b\b\b\b\b\b\b\b\b\b\b\b\b\b\b\b\b\b\b\b\b\b\b\b\b\b\b\b\b\b\b\b\b\b\b\b\b\b\b\b\b\b\b\b\b\b\b\b\b\b\b\b\b\b\b\b\b\b\b\b\b\b\b\r1694/1694 [==============================] - 15s 9ms/step - loss: 0.1246 - accuracy: 0.9657 - val_loss: 0.1333 - val_accuracy: 0.9573\n",
            "Epoch 20/20\n",
            "1687/1694 [============================>.] - ETA: 0s - loss: 0.1211 - accuracy: 0.9632\n",
            "Epoch 20: val_loss improved from 0.13334 to 0.08938, saving model to saved_models/nlp_model_6\n"
          ]
        },
        {
          "output_type": "stream",
          "name": "stderr",
          "text": [
            "WARNING:absl:Found untraced functions such as _jit_compiled_convolution_op while saving (showing 1 of 1). These functions will not be directly callable after loading.\n"
          ]
        },
        {
          "output_type": "stream",
          "name": "stdout",
          "text": [
            "\b\b\b\b\b\b\b\b\b\b\b\b\b\b\b\b\b\b\b\b\b\b\b\b\b\b\b\b\b\b\b\b\b\b\b\b\b\b\b\b\b\b\b\b\b\b\b\b\b\b\b\b\b\b\b\b\b\b\b\b\b\b\b\b\b\b\b\b\b\b\b\b\b\b\b\b\b\b\b\b\b\b\b\b\b\b\r1694/1694 [==============================] - 14s 9ms/step - loss: 0.1210 - accuracy: 0.9632 - val_loss: 0.0894 - val_accuracy: 0.9739\n"
          ]
        }
      ]
    },
    {
      "cell_type": "code",
      "source": [
        "model_6.evaluate(test_dataset)\n",
        "model_6_loaded = tf.keras.models.load_model(\"saved_models/nlp_model_6\")\n",
        "model_6_preds = model_6_loaded.predict(test_dataset)\n",
        "model_6_results = calculate_results(test_labels, tf.argmax(model_6_preds, axis=1))\n",
        "model_results_dataset['model_6'] = model_6_results"
      ],
      "metadata": {
        "colab": {
          "base_uri": "https://localhost:8080/"
        },
        "id": "BFFYzxK7IGTa",
        "outputId": "d4900c8f-605c-40e5-b826-4c4c1e29d7d2"
      },
      "execution_count": 43,
      "outputs": [
        {
          "output_type": "stream",
          "name": "stdout",
          "text": [
            "1694/1694 [==============================] - 6s 4ms/step - loss: 0.0894 - accuracy: 0.9739\n",
            "1694/1694 [==============================] - 4s 3ms/step\n"
          ]
        }
      ]
    },
    {
      "cell_type": "markdown",
      "source": [
        "## Model 7: Pre-trained Layer"
      ],
      "metadata": {
        "id": "-guzg5DsINZW"
      }
    },
    {
      "cell_type": "code",
      "source": [
        "tf.keras.backend.clear_session()\n",
        "\n",
        "import tensorflow_hub as hub\n",
        "tf_hub_embedding_layer = hub.KerasLayer(\"https://tfhub.dev/google/universal-sentence-encoder/4\",\n",
        "                                        trainable=False,\n",
        "                                        name=\"universal_sentence_encoder\")\n",
        "\n",
        "model_7 = tf.keras.Sequential([\n",
        "  layers.Input(shape=[], dtype=tf.string),\n",
        "  tf_hub_embedding_layer, # take in sentences and then encode them into an embedding\n",
        "  layers.Dense(128, activation=\"relu\"),\n",
        "  layers.Dense(NUM_CLASSES, activation=\"softmax\")\n",
        "], name=\"nlp_model_7\")\n",
        "\n",
        "model_7.summary()\n",
        "\n",
        "model_7.compile(loss=\"categorical_crossentropy\", # if your labels are integer form (not one hot) use sparse_categorical_crossentropy\n",
        "                optimizer=tf.keras.optimizers.Adam(),\n",
        "                metrics=[\"accuracy\"])\n",
        "history_7 = model_7.fit(train_dataset, epochs=20, validation_data=test_dataset,callbacks=return_callbacks(model_7.name))"
      ],
      "metadata": {
        "colab": {
          "base_uri": "https://localhost:8080/"
        },
        "id": "lXRZSCxjIMlH",
        "outputId": "402840a1-58de-4287-8cb6-a4a888a355a7"
      },
      "execution_count": 44,
      "outputs": [
        {
          "output_type": "stream",
          "name": "stdout",
          "text": [
            "Model: \"nlp_model_7\"\n",
            "_________________________________________________________________\n",
            " Layer (type)                Output Shape              Param #   \n",
            "=================================================================\n",
            " universal_sentence_encoder   (None, 512)              256797824 \n",
            " (KerasLayer)                                                    \n",
            "                                                                 \n",
            " dense (Dense)               (None, 128)               65664     \n",
            "                                                                 \n",
            " dense_1 (Dense)             (None, 27)                3483      \n",
            "                                                                 \n",
            "=================================================================\n",
            "Total params: 256,866,971\n",
            "Trainable params: 69,147\n",
            "Non-trainable params: 256,797,824\n",
            "_________________________________________________________________\n",
            "Epoch 1/20\n",
            "1693/1694 [============================>.] - ETA: 0s - loss: 1.5530 - accuracy: 0.5444\n",
            "Epoch 1: val_loss improved from inf to 1.32269, saving model to saved_models/nlp_model_7\n",
            "1694/1694 [==============================] - 83s 47ms/step - loss: 1.5529 - accuracy: 0.5444 - val_loss: 1.3227 - val_accuracy: 0.5893\n",
            "Epoch 2/20\n",
            "1694/1694 [==============================] - ETA: 0s - loss: 1.3051 - accuracy: 0.5915\n",
            "Epoch 2: val_loss improved from 1.32269 to 1.25960, saving model to saved_models/nlp_model_7\n",
            "1694/1694 [==============================] - 73s 43ms/step - loss: 1.3051 - accuracy: 0.5915 - val_loss: 1.2596 - val_accuracy: 0.6030\n",
            "Epoch 3/20\n",
            "1692/1694 [============================>.] - ETA: 0s - loss: 1.2630 - accuracy: 0.6009\n",
            "Epoch 3: val_loss improved from 1.25960 to 1.22760, saving model to saved_models/nlp_model_7\n",
            "1694/1694 [==============================] - 73s 43ms/step - loss: 1.2631 - accuracy: 0.6009 - val_loss: 1.2276 - val_accuracy: 0.6101\n",
            "Epoch 4/20\n",
            "1694/1694 [==============================] - ETA: 0s - loss: 1.2361 - accuracy: 0.6078\n",
            "Epoch 4: val_loss improved from 1.22760 to 1.20295, saving model to saved_models/nlp_model_7\n",
            "1694/1694 [==============================] - 77s 45ms/step - loss: 1.2361 - accuracy: 0.6078 - val_loss: 1.2029 - val_accuracy: 0.6156\n",
            "Epoch 5/20\n",
            "1692/1694 [============================>.] - ETA: 0s - loss: 1.2142 - accuracy: 0.6131\n",
            "Epoch 5: val_loss improved from 1.20295 to 1.18215, saving model to saved_models/nlp_model_7\n",
            "1694/1694 [==============================] - 75s 44ms/step - loss: 1.2143 - accuracy: 0.6131 - val_loss: 1.1821 - val_accuracy: 0.6201\n",
            "Epoch 6/20\n",
            "1694/1694 [==============================] - ETA: 0s - loss: 1.1952 - accuracy: 0.6185\n",
            "Epoch 6: val_loss improved from 1.18215 to 1.16333, saving model to saved_models/nlp_model_7\n",
            "1694/1694 [==============================] - 77s 45ms/step - loss: 1.1952 - accuracy: 0.6185 - val_loss: 1.1633 - val_accuracy: 0.6254\n",
            "Epoch 7/20\n",
            "1694/1694 [==============================] - ETA: 0s - loss: 1.1776 - accuracy: 0.6227\n",
            "Epoch 7: val_loss improved from 1.16333 to 1.14585, saving model to saved_models/nlp_model_7\n",
            "1694/1694 [==============================] - 73s 43ms/step - loss: 1.1776 - accuracy: 0.6227 - val_loss: 1.1459 - val_accuracy: 0.6300\n",
            "Epoch 8/20\n",
            "1694/1694 [==============================] - ETA: 0s - loss: 1.1610 - accuracy: 0.6281\n",
            "Epoch 8: val_loss improved from 1.14585 to 1.12954, saving model to saved_models/nlp_model_7\n",
            "1694/1694 [==============================] - 74s 44ms/step - loss: 1.1610 - accuracy: 0.6281 - val_loss: 1.1295 - val_accuracy: 0.6356\n",
            "Epoch 9/20\n",
            "1694/1694 [==============================] - ETA: 0s - loss: 1.1452 - accuracy: 0.6337\n",
            "Epoch 9: val_loss improved from 1.12954 to 1.11365, saving model to saved_models/nlp_model_7\n",
            "1694/1694 [==============================] - 75s 44ms/step - loss: 1.1452 - accuracy: 0.6337 - val_loss: 1.1137 - val_accuracy: 0.6402\n",
            "Epoch 10/20\n",
            "1693/1694 [============================>.] - ETA: 0s - loss: 1.1301 - accuracy: 0.6385\n",
            "Epoch 10: val_loss improved from 1.11365 to 1.09822, saving model to saved_models/nlp_model_7\n",
            "1694/1694 [==============================] - 74s 44ms/step - loss: 1.1300 - accuracy: 0.6385 - val_loss: 1.0982 - val_accuracy: 0.6453\n",
            "Epoch 11/20\n",
            "1694/1694 [==============================] - ETA: 0s - loss: 1.1153 - accuracy: 0.6424\n",
            "Epoch 11: val_loss improved from 1.09822 to 1.08345, saving model to saved_models/nlp_model_7\n",
            "1694/1694 [==============================] - 74s 43ms/step - loss: 1.1153 - accuracy: 0.6424 - val_loss: 1.0835 - val_accuracy: 0.6502\n",
            "Epoch 12/20\n",
            "1694/1694 [==============================] - ETA: 0s - loss: 1.1012 - accuracy: 0.6468\n",
            "Epoch 12: val_loss improved from 1.08345 to 1.06923, saving model to saved_models/nlp_model_7\n",
            "1694/1694 [==============================] - 73s 43ms/step - loss: 1.1012 - accuracy: 0.6468 - val_loss: 1.0692 - val_accuracy: 0.6554\n",
            "Epoch 13/20\n",
            "1694/1694 [==============================] - ETA: 0s - loss: 1.0875 - accuracy: 0.6510\n",
            "Epoch 13: val_loss improved from 1.06923 to 1.05553, saving model to saved_models/nlp_model_7\n",
            "1694/1694 [==============================] - 78s 46ms/step - loss: 1.0875 - accuracy: 0.6510 - val_loss: 1.0555 - val_accuracy: 0.6608\n",
            "Epoch 14/20\n",
            "1694/1694 [==============================] - ETA: 0s - loss: 1.0742 - accuracy: 0.6560\n",
            "Epoch 14: val_loss improved from 1.05553 to 1.04213, saving model to saved_models/nlp_model_7\n",
            "1694/1694 [==============================] - 73s 43ms/step - loss: 1.0742 - accuracy: 0.6560 - val_loss: 1.0421 - val_accuracy: 0.6654\n",
            "Epoch 15/20\n",
            "1692/1694 [============================>.] - ETA: 0s - loss: 1.0611 - accuracy: 0.6605\n",
            "Epoch 15: val_loss improved from 1.04213 to 1.02972, saving model to saved_models/nlp_model_7\n",
            "1694/1694 [==============================] - 74s 43ms/step - loss: 1.0612 - accuracy: 0.6605 - val_loss: 1.0297 - val_accuracy: 0.6693\n",
            "Epoch 16/20\n",
            "1694/1694 [==============================] - ETA: 0s - loss: 1.0486 - accuracy: 0.6646\n",
            "Epoch 16: val_loss improved from 1.02972 to 1.01711, saving model to saved_models/nlp_model_7\n",
            "1694/1694 [==============================] - 76s 45ms/step - loss: 1.0486 - accuracy: 0.6646 - val_loss: 1.0171 - val_accuracy: 0.6729\n",
            "Epoch 17/20\n",
            "1694/1694 [==============================] - ETA: 0s - loss: 1.0364 - accuracy: 0.6682\n",
            "Epoch 17: val_loss improved from 1.01711 to 1.00488, saving model to saved_models/nlp_model_7\n",
            "1694/1694 [==============================] - 74s 44ms/step - loss: 1.0364 - accuracy: 0.6682 - val_loss: 1.0049 - val_accuracy: 0.6770\n",
            "Epoch 18/20\n",
            "1694/1694 [==============================] - ETA: 0s - loss: 1.0244 - accuracy: 0.6713\n",
            "Epoch 18: val_loss improved from 1.00488 to 0.99340, saving model to saved_models/nlp_model_7\n",
            "1694/1694 [==============================] - 74s 44ms/step - loss: 1.0244 - accuracy: 0.6713 - val_loss: 0.9934 - val_accuracy: 0.6802\n",
            "Epoch 19/20\n",
            "1693/1694 [============================>.] - ETA: 0s - loss: 1.0129 - accuracy: 0.6747\n",
            "Epoch 19: val_loss improved from 0.99340 to 0.98225, saving model to saved_models/nlp_model_7\n",
            "1694/1694 [==============================] - 81s 48ms/step - loss: 1.0128 - accuracy: 0.6747 - val_loss: 0.9823 - val_accuracy: 0.6836\n",
            "Epoch 20/20\n",
            "1694/1694 [==============================] - ETA: 0s - loss: 1.0013 - accuracy: 0.6780\n",
            "Epoch 20: val_loss improved from 0.98225 to 0.97081, saving model to saved_models/nlp_model_7\n",
            "1694/1694 [==============================] - 84s 50ms/step - loss: 1.0013 - accuracy: 0.6780 - val_loss: 0.9708 - val_accuracy: 0.6870\n"
          ]
        }
      ]
    },
    {
      "cell_type": "code",
      "source": [
        "model_7.evaluate(test_dataset)\n",
        "model_7_loaded = tf.keras.models.load_model(\"saved_models/nlp_model_7\")\n",
        "model_7_preds = model_7_loaded.predict(test_dataset)\n",
        "model_7_results = calculate_results(test_labels, tf.argmax(model_7_preds, axis=1))\n",
        "model_results_dataset['model_7'] = model_7_results"
      ],
      "metadata": {
        "colab": {
          "base_uri": "https://localhost:8080/"
        },
        "id": "-gF_tM9RIZlS",
        "outputId": "15d96c7d-4649-40ec-8afa-a09ad1c00bb8"
      },
      "execution_count": 45,
      "outputs": [
        {
          "output_type": "stream",
          "name": "stdout",
          "text": [
            "1694/1694 [==============================] - 33s 20ms/step - loss: 0.9708 - accuracy: 0.6870\n",
            "1694/1694 [==============================] - 32s 19ms/step\n"
          ]
        }
      ]
    },
    {
      "cell_type": "markdown",
      "source": [
        "## Model 8: Conv1D with character embeddings"
      ],
      "metadata": {
        "id": "QfitgUAEYEph"
      }
    },
    {
      "cell_type": "code",
      "source": [
        "tf.keras.backend.clear_session()"
      ],
      "metadata": {
        "id": "jr4YlboHIfUH"
      },
      "execution_count": 46,
      "outputs": []
    },
    {
      "cell_type": "code",
      "source": [
        "# Make function to split sentences into characters\n",
        "def split_chars(text):\n",
        "  return \" \".join(list(text))\n",
        "\n",
        "# Split sequence-level data splits into character-level data splits\n",
        "train_chars = [split_chars(sentence) for sentence in train_data]\n",
        "test_chars = [split_chars(sentence) for sentence in test_data]\n",
        "print(train_chars[0])\n",
        "char_lens = [len(sentence) for sentence in train_data]\n",
        "mean_char_len = np.mean(char_lens)\n",
        "mean_char_len\n",
        "output_seq_char_len = int(np.percentile(char_lens, 95))\n",
        "output_seq_char_len"
      ],
      "metadata": {
        "colab": {
          "base_uri": "https://localhost:8080/"
        },
        "id": "_goTqviBYIfV",
        "outputId": "5d372311-cd6e-48b6-e7ef-e97062ea3e17"
      },
      "execution_count": 48,
      "outputs": [
        {
          "output_type": "stream",
          "name": "stdout",
          "text": [
            "L . R .   B r a n e   l o v e s   h i s   l i f e   -   h i s   c a r ,   h i s   a p a r t m e n t ,   h i s   j o b ,   b u t   e s p e c i a l l y   h i s   g i r l f r i e n d ,   V e s p a .   O n e   d a y   w h i l e   s h o w e r i n g ,   V e s p a   r u n s   o u t   o f   s h a m p o o .   L . R .   r u n s   a c r o s s   t h e   s t r e e t   t o   a   c o n v e n i e n c e   s t o r e   t o   b u y   s o m e   m o r e ,   a   q u i c k   t r i p   o f   n o   m o r e   t h a n   a   f e w   m i n u t e s .   W h e n   h e   r e t u r n s ,   V e s p a   i s   g o n e   a n d   e v e r y   t r a c e   o f   h e r   e x i s t e n c e   h a s   b e e n   w i p e d   o u t .   L . R . ' s   l i f e   b e c o m e s   a   t o r t u r e d   e x i s t e n c e   a s   o n e   s t r a n g e   e v e n t   a f t e r   a n o t h e r   o c c u r s   t o   c o n f i r m   i n   h i s   m i n d   t h a t   a   c o n s p i r a c y   i s   w o r k i n g   a g a i n s t   h i s   f i n d i n g   V e s p a .\n"
          ]
        },
        {
          "output_type": "execute_result",
          "data": {
            "text/plain": [
              "1432"
            ]
          },
          "metadata": {},
          "execution_count": 48
        }
      ]
    },
    {
      "cell_type": "code",
      "source": [
        "import string\n",
        "alphabet = string.ascii_lowercase + string.digits + string.punctuation\n",
        "alphabet"
      ],
      "metadata": {
        "colab": {
          "base_uri": "https://localhost:8080/",
          "height": 36
        },
        "id": "D8dALKclYXtu",
        "outputId": "a2922aba-7f90-4c98-9c71-d1325c7d3d64"
      },
      "execution_count": 49,
      "outputs": [
        {
          "output_type": "execute_result",
          "data": {
            "text/plain": [
              "'abcdefghijklmnopqrstuvwxyz0123456789!\"#$%&\\'()*+,-./:;<=>?@[\\\\]^_`{|}~'"
            ],
            "application/vnd.google.colaboratory.intrinsic+json": {
              "type": "string"
            }
          },
          "metadata": {},
          "execution_count": 49
        }
      ]
    },
    {
      "cell_type": "code",
      "source": [
        "# Create char-level token vectorizer instance\n",
        "NUM_CHAR_TOKENS = len(alphabet) + 2 # num characters in alphabet + space + OOV token\n",
        "char_vectorizer = TextVectorization(max_tokens=NUM_CHAR_TOKENS,  \n",
        "                                    output_sequence_length=output_seq_char_len,\n",
        "                                    standardize=\"lower_and_strip_punctuation\",\n",
        "                                    name=\"char_vectorizer\")\n",
        "\n",
        "# Adapt character vectorizer to training characters\n",
        "char_vectorizer.adapt(train_chars)"
      ],
      "metadata": {
        "id": "VlKJT4jcYZoY"
      },
      "execution_count": null,
      "outputs": []
    },
    {
      "cell_type": "code",
      "source": [
        "# Create char embedding layer\n",
        "char_embed = layers.Embedding(input_dim=NUM_CHAR_TOKENS, # number of different characters\n",
        "                              output_dim=25, # embedding dimension of each character (same as Figure 1 in https://arxiv.org/pdf/1612.05251.pdf)\n",
        "                              mask_zero=False, # don't use masks (this messes up model_5 if set to True)\n",
        "                              name=\"char_embed\")"
      ],
      "metadata": {
        "colab": {
          "base_uri": "https://localhost:8080/",
          "height": 252
        },
        "id": "oFgEhwPvYbvf",
        "outputId": "a99926b4-55cf-415f-d84b-4977c0b9cb53"
      },
      "execution_count": 1,
      "outputs": [
        {
          "output_type": "error",
          "ename": "NameError",
          "evalue": "ignored",
          "traceback": [
            "\u001b[0;31m---------------------------------------------------------------------------\u001b[0m",
            "\u001b[0;31mNameError\u001b[0m                                 Traceback (most recent call last)",
            "\u001b[0;32m<ipython-input-1-df8b567f9265>\u001b[0m in \u001b[0;36m<module>\u001b[0;34m\u001b[0m\n\u001b[1;32m      1\u001b[0m \u001b[0;31m# Create char embedding layer\u001b[0m\u001b[0;34m\u001b[0m\u001b[0;34m\u001b[0m\u001b[0;34m\u001b[0m\u001b[0m\n\u001b[0;32m----> 2\u001b[0;31m char_embed = layers.Embedding(input_dim=NUM_CHAR_TOKENS, # number of different characters\n\u001b[0m\u001b[1;32m      3\u001b[0m                               \u001b[0moutput_dim\u001b[0m\u001b[0;34m=\u001b[0m\u001b[0;36m25\u001b[0m\u001b[0;34m,\u001b[0m \u001b[0;31m# embedding dimension of each character (same as Figure 1 in https://arxiv.org/pdf/1612.05251.pdf)\u001b[0m\u001b[0;34m\u001b[0m\u001b[0;34m\u001b[0m\u001b[0m\n\u001b[1;32m      4\u001b[0m                               \u001b[0mmask_zero\u001b[0m\u001b[0;34m=\u001b[0m\u001b[0;32mFalse\u001b[0m\u001b[0;34m,\u001b[0m \u001b[0;31m# don't use masks (this messes up model_5 if set to True)\u001b[0m\u001b[0;34m\u001b[0m\u001b[0;34m\u001b[0m\u001b[0m\n\u001b[1;32m      5\u001b[0m                               name=\"char_embed\")\n",
            "\u001b[0;31mNameError\u001b[0m: name 'layers' is not defined"
          ]
        }
      ]
    },
    {
      "cell_type": "code",
      "source": [
        "# Make Conv1D on chars only\n",
        "inputs = layers.Input(shape=(1,), dtype=\"string\")\n",
        "char_vectors = char_vectorizer(inputs)\n",
        "char_embeddings = char_embed(char_vectors)\n",
        "x = layers.Conv1D(64, kernel_size=5, padding=\"same\", activation=\"relu\")(char_embeddings)\n",
        "x = layers.GlobalMaxPool1D()(x)\n",
        "outputs = layers.Dense(NUM_CLASSES, activation=\"softmax\")(x)\n",
        "model_8 = tf.keras.Model(inputs=inputs,\n",
        "                         outputs=outputs,\n",
        "                         name=\"nlp_model_8\")\n",
        "\n",
        "# Compile model\n",
        "model_8.compile(loss=\"categorical_crossentropy\",\n",
        "                optimizer=tf.keras.optimizers.Adam(),\n",
        "                metrics=[\"accuracy\"])"
      ],
      "metadata": {
        "id": "8wQ91eUjYdMx"
      },
      "execution_count": null,
      "outputs": []
    },
    {
      "cell_type": "code",
      "source": [
        "train_char_dataset = tf.data.Dataset.from_tensor_slices((train_chars, train_labels_one_hot)).batch(32).prefetch(tf.data.AUTOTUNE)\n",
        "val_char_dataset = tf.data.Dataset.from_tensor_slices((val_chars, val_labels_one_hot)).batch(32).prefetch(tf.data.AUTOTUNE)\n",
        "\n",
        "train_char_dataset"
      ],
      "metadata": {
        "id": "_MKHfM4lYkyj"
      },
      "execution_count": null,
      "outputs": []
    },
    {
      "cell_type": "code",
      "source": [],
      "metadata": {
        "id": "Aavsfr3pYn1Q"
      },
      "execution_count": null,
      "outputs": []
    }
  ]
}