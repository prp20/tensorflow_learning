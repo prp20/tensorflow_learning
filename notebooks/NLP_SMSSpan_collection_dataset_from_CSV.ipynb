{
  "nbformat": 4,
  "nbformat_minor": 0,
  "metadata": {
    "colab": {
      "provenance": [],
      "toc_visible": true,
      "authorship_tag": "ABX9TyMMKjYh4SjMdMgqpF4MDT7E",
      "include_colab_link": true
    },
    "kernelspec": {
      "name": "python3",
      "display_name": "Python 3"
    },
    "language_info": {
      "name": "python"
    },
    "accelerator": "GPU",
    "gpuClass": "standard"
  },
  "cells": [
    {
      "cell_type": "markdown",
      "metadata": {
        "id": "view-in-github",
        "colab_type": "text"
      },
      "source": [
        "<a href=\"https://colab.research.google.com/github/prp20/tensorflow_learning/blob/main/notebooks/NLP_SMSSpan_collection_dataset_from_CSV.ipynb\" target=\"_parent\"><img src=\"https://colab.research.google.com/assets/colab-badge.svg\" alt=\"Open In Colab\"/></a>"
      ]
    },
    {
      "cell_type": "code",
      "source": [
        "!pip install tensorflow-text"
      ],
      "metadata": {
        "colab": {
          "base_uri": "https://localhost:8080/"
        },
        "id": "GawGh5YxwpC9",
        "outputId": "3a7bb422-f6e2-463b-9879-4a7cd8c165e0"
      },
      "execution_count": 1,
      "outputs": [
        {
          "output_type": "stream",
          "name": "stdout",
          "text": [
            "Looking in indexes: https://pypi.org/simple, https://us-python.pkg.dev/colab-wheels/public/simple/\n",
            "Collecting tensorflow-text\n",
            "  Downloading tensorflow_text-2.11.0-cp37-cp37m-manylinux_2_17_x86_64.manylinux2014_x86_64.whl (5.8 MB)\n",
            "\u001b[K     |████████████████████████████████| 5.8 MB 6.1 MB/s \n",
            "\u001b[?25hRequirement already satisfied: tensorflow-hub>=0.8.0 in /usr/local/lib/python3.7/dist-packages (from tensorflow-text) (0.12.0)\n",
            "Collecting tensorflow<2.12,>=2.11.0\n",
            "  Downloading tensorflow-2.11.0-cp37-cp37m-manylinux_2_17_x86_64.manylinux2014_x86_64.whl (588.3 MB)\n",
            "\u001b[K     |████████████████████████████████| 588.3 MB 7.0 kB/s \n",
            "\u001b[?25hRequirement already satisfied: termcolor>=1.1.0 in /usr/local/lib/python3.7/dist-packages (from tensorflow<2.12,>=2.11.0->tensorflow-text) (2.1.0)\n",
            "Requirement already satisfied: astunparse>=1.6.0 in /usr/local/lib/python3.7/dist-packages (from tensorflow<2.12,>=2.11.0->tensorflow-text) (1.6.3)\n",
            "Requirement already satisfied: wrapt>=1.11.0 in /usr/local/lib/python3.7/dist-packages (from tensorflow<2.12,>=2.11.0->tensorflow-text) (1.14.1)\n",
            "Requirement already satisfied: grpcio<2.0,>=1.24.3 in /usr/local/lib/python3.7/dist-packages (from tensorflow<2.12,>=2.11.0->tensorflow-text) (1.50.0)\n",
            "Collecting tensorflow-estimator<2.12,>=2.11.0\n",
            "  Downloading tensorflow_estimator-2.11.0-py2.py3-none-any.whl (439 kB)\n",
            "\u001b[K     |████████████████████████████████| 439 kB 64.7 MB/s \n",
            "\u001b[?25hCollecting flatbuffers>=2.0\n",
            "  Downloading flatbuffers-22.10.26-py2.py3-none-any.whl (26 kB)\n",
            "Requirement already satisfied: protobuf<3.20,>=3.9.2 in /usr/local/lib/python3.7/dist-packages (from tensorflow<2.12,>=2.11.0->tensorflow-text) (3.19.6)\n",
            "Requirement already satisfied: setuptools in /usr/local/lib/python3.7/dist-packages (from tensorflow<2.12,>=2.11.0->tensorflow-text) (57.4.0)\n",
            "Requirement already satisfied: numpy>=1.20 in /usr/local/lib/python3.7/dist-packages (from tensorflow<2.12,>=2.11.0->tensorflow-text) (1.21.6)\n",
            "Collecting keras<2.12,>=2.11.0\n",
            "  Downloading keras-2.11.0-py2.py3-none-any.whl (1.7 MB)\n",
            "\u001b[K     |████████████████████████████████| 1.7 MB 50.6 MB/s \n",
            "\u001b[?25hCollecting tensorboard<2.12,>=2.11\n",
            "  Downloading tensorboard-2.11.0-py3-none-any.whl (6.0 MB)\n",
            "\u001b[K     |████████████████████████████████| 6.0 MB 48.3 MB/s \n",
            "\u001b[?25hRequirement already satisfied: google-pasta>=0.1.1 in /usr/local/lib/python3.7/dist-packages (from tensorflow<2.12,>=2.11.0->tensorflow-text) (0.2.0)\n",
            "Requirement already satisfied: absl-py>=1.0.0 in /usr/local/lib/python3.7/dist-packages (from tensorflow<2.12,>=2.11.0->tensorflow-text) (1.3.0)\n",
            "Requirement already satisfied: tensorflow-io-gcs-filesystem>=0.23.1 in /usr/local/lib/python3.7/dist-packages (from tensorflow<2.12,>=2.11.0->tensorflow-text) (0.27.0)\n",
            "Requirement already satisfied: typing-extensions>=3.6.6 in /usr/local/lib/python3.7/dist-packages (from tensorflow<2.12,>=2.11.0->tensorflow-text) (4.1.1)\n",
            "Requirement already satisfied: libclang>=13.0.0 in /usr/local/lib/python3.7/dist-packages (from tensorflow<2.12,>=2.11.0->tensorflow-text) (14.0.6)\n",
            "Requirement already satisfied: six>=1.12.0 in /usr/local/lib/python3.7/dist-packages (from tensorflow<2.12,>=2.11.0->tensorflow-text) (1.15.0)\n",
            "Requirement already satisfied: packaging in /usr/local/lib/python3.7/dist-packages (from tensorflow<2.12,>=2.11.0->tensorflow-text) (21.3)\n",
            "Requirement already satisfied: h5py>=2.9.0 in /usr/local/lib/python3.7/dist-packages (from tensorflow<2.12,>=2.11.0->tensorflow-text) (3.1.0)\n",
            "Requirement already satisfied: opt-einsum>=2.3.2 in /usr/local/lib/python3.7/dist-packages (from tensorflow<2.12,>=2.11.0->tensorflow-text) (3.3.0)\n",
            "Requirement already satisfied: gast<=0.4.0,>=0.2.1 in /usr/local/lib/python3.7/dist-packages (from tensorflow<2.12,>=2.11.0->tensorflow-text) (0.4.0)\n",
            "Requirement already satisfied: wheel<1.0,>=0.23.0 in /usr/local/lib/python3.7/dist-packages (from astunparse>=1.6.0->tensorflow<2.12,>=2.11.0->tensorflow-text) (0.38.3)\n",
            "Requirement already satisfied: cached-property in /usr/local/lib/python3.7/dist-packages (from h5py>=2.9.0->tensorflow<2.12,>=2.11.0->tensorflow-text) (1.5.2)\n",
            "Requirement already satisfied: tensorboard-plugin-wit>=1.6.0 in /usr/local/lib/python3.7/dist-packages (from tensorboard<2.12,>=2.11->tensorflow<2.12,>=2.11.0->tensorflow-text) (1.8.1)\n",
            "Requirement already satisfied: werkzeug>=1.0.1 in /usr/local/lib/python3.7/dist-packages (from tensorboard<2.12,>=2.11->tensorflow<2.12,>=2.11.0->tensorflow-text) (1.0.1)\n",
            "Requirement already satisfied: markdown>=2.6.8 in /usr/local/lib/python3.7/dist-packages (from tensorboard<2.12,>=2.11->tensorflow<2.12,>=2.11.0->tensorflow-text) (3.4.1)\n",
            "Requirement already satisfied: tensorboard-data-server<0.7.0,>=0.6.0 in /usr/local/lib/python3.7/dist-packages (from tensorboard<2.12,>=2.11->tensorflow<2.12,>=2.11.0->tensorflow-text) (0.6.1)\n",
            "Requirement already satisfied: requests<3,>=2.21.0 in /usr/local/lib/python3.7/dist-packages (from tensorboard<2.12,>=2.11->tensorflow<2.12,>=2.11.0->tensorflow-text) (2.23.0)\n",
            "Requirement already satisfied: google-auth<3,>=1.6.3 in /usr/local/lib/python3.7/dist-packages (from tensorboard<2.12,>=2.11->tensorflow<2.12,>=2.11.0->tensorflow-text) (2.14.1)\n",
            "Requirement already satisfied: google-auth-oauthlib<0.5,>=0.4.1 in /usr/local/lib/python3.7/dist-packages (from tensorboard<2.12,>=2.11->tensorflow<2.12,>=2.11.0->tensorflow-text) (0.4.6)\n",
            "Requirement already satisfied: cachetools<6.0,>=2.0.0 in /usr/local/lib/python3.7/dist-packages (from google-auth<3,>=1.6.3->tensorboard<2.12,>=2.11->tensorflow<2.12,>=2.11.0->tensorflow-text) (5.2.0)\n",
            "Requirement already satisfied: rsa<5,>=3.1.4 in /usr/local/lib/python3.7/dist-packages (from google-auth<3,>=1.6.3->tensorboard<2.12,>=2.11->tensorflow<2.12,>=2.11.0->tensorflow-text) (4.9)\n",
            "Requirement already satisfied: pyasn1-modules>=0.2.1 in /usr/local/lib/python3.7/dist-packages (from google-auth<3,>=1.6.3->tensorboard<2.12,>=2.11->tensorflow<2.12,>=2.11.0->tensorflow-text) (0.2.8)\n",
            "Requirement already satisfied: requests-oauthlib>=0.7.0 in /usr/local/lib/python3.7/dist-packages (from google-auth-oauthlib<0.5,>=0.4.1->tensorboard<2.12,>=2.11->tensorflow<2.12,>=2.11.0->tensorflow-text) (1.3.1)\n",
            "Requirement already satisfied: importlib-metadata>=4.4 in /usr/local/lib/python3.7/dist-packages (from markdown>=2.6.8->tensorboard<2.12,>=2.11->tensorflow<2.12,>=2.11.0->tensorflow-text) (4.13.0)\n",
            "Requirement already satisfied: zipp>=0.5 in /usr/local/lib/python3.7/dist-packages (from importlib-metadata>=4.4->markdown>=2.6.8->tensorboard<2.12,>=2.11->tensorflow<2.12,>=2.11.0->tensorflow-text) (3.10.0)\n",
            "Requirement already satisfied: pyasn1<0.5.0,>=0.4.6 in /usr/local/lib/python3.7/dist-packages (from pyasn1-modules>=0.2.1->google-auth<3,>=1.6.3->tensorboard<2.12,>=2.11->tensorflow<2.12,>=2.11.0->tensorflow-text) (0.4.8)\n",
            "Requirement already satisfied: certifi>=2017.4.17 in /usr/local/lib/python3.7/dist-packages (from requests<3,>=2.21.0->tensorboard<2.12,>=2.11->tensorflow<2.12,>=2.11.0->tensorflow-text) (2022.9.24)\n",
            "Requirement already satisfied: idna<3,>=2.5 in /usr/local/lib/python3.7/dist-packages (from requests<3,>=2.21.0->tensorboard<2.12,>=2.11->tensorflow<2.12,>=2.11.0->tensorflow-text) (2.10)\n",
            "Requirement already satisfied: urllib3!=1.25.0,!=1.25.1,<1.26,>=1.21.1 in /usr/local/lib/python3.7/dist-packages (from requests<3,>=2.21.0->tensorboard<2.12,>=2.11->tensorflow<2.12,>=2.11.0->tensorflow-text) (1.24.3)\n",
            "Requirement already satisfied: chardet<4,>=3.0.2 in /usr/local/lib/python3.7/dist-packages (from requests<3,>=2.21.0->tensorboard<2.12,>=2.11->tensorflow<2.12,>=2.11.0->tensorflow-text) (3.0.4)\n",
            "Requirement already satisfied: oauthlib>=3.0.0 in /usr/local/lib/python3.7/dist-packages (from requests-oauthlib>=0.7.0->google-auth-oauthlib<0.5,>=0.4.1->tensorboard<2.12,>=2.11->tensorflow<2.12,>=2.11.0->tensorflow-text) (3.2.2)\n",
            "Requirement already satisfied: pyparsing!=3.0.5,>=2.0.2 in /usr/local/lib/python3.7/dist-packages (from packaging->tensorflow<2.12,>=2.11.0->tensorflow-text) (3.0.9)\n",
            "Installing collected packages: tensorflow-estimator, tensorboard, keras, flatbuffers, tensorflow, tensorflow-text\n",
            "  Attempting uninstall: tensorflow-estimator\n",
            "    Found existing installation: tensorflow-estimator 2.9.0\n",
            "    Uninstalling tensorflow-estimator-2.9.0:\n",
            "      Successfully uninstalled tensorflow-estimator-2.9.0\n",
            "  Attempting uninstall: tensorboard\n",
            "    Found existing installation: tensorboard 2.9.1\n",
            "    Uninstalling tensorboard-2.9.1:\n",
            "      Successfully uninstalled tensorboard-2.9.1\n",
            "  Attempting uninstall: keras\n",
            "    Found existing installation: keras 2.9.0\n",
            "    Uninstalling keras-2.9.0:\n",
            "      Successfully uninstalled keras-2.9.0\n",
            "  Attempting uninstall: flatbuffers\n",
            "    Found existing installation: flatbuffers 1.12\n",
            "    Uninstalling flatbuffers-1.12:\n",
            "      Successfully uninstalled flatbuffers-1.12\n",
            "  Attempting uninstall: tensorflow\n",
            "    Found existing installation: tensorflow 2.9.2\n",
            "    Uninstalling tensorflow-2.9.2:\n",
            "      Successfully uninstalled tensorflow-2.9.2\n",
            "Successfully installed flatbuffers-22.10.26 keras-2.11.0 tensorboard-2.11.0 tensorflow-2.11.0 tensorflow-estimator-2.11.0 tensorflow-text-2.11.0\n"
          ]
        }
      ]
    },
    {
      "cell_type": "code",
      "source": [
        "import numpy as np\n",
        "import matplotlib.pyplot as plt\n",
        "import tensorflow_datasets as tfds\n",
        "import tensorflow as tf\n",
        "from tensorflow.keras import layers\n",
        "import re\n",
        "import string\n",
        "tfds.disable_progress_bar()"
      ],
      "metadata": {
        "id": "BXtm8ZGdxHst"
      },
      "execution_count": 2,
      "outputs": []
    },
    {
      "cell_type": "code",
      "source": [
        "def plot_graphs(history, metric):\n",
        "  plt.plot(history.history[metric])\n",
        "  plt.plot(history.history['val_'+metric], '')\n",
        "  plt.xlabel(\"Epochs\")\n",
        "  plt.ylabel(metric)\n",
        "  plt.legend([metric, 'val_'+metric])"
      ],
      "metadata": {
        "id": "uJXwa1tdyIVU"
      },
      "execution_count": 3,
      "outputs": []
    },
    {
      "cell_type": "code",
      "source": [
        "def custom_standardization(input_data):\n",
        "  lowercase = tf.strings.lower(input_data)\n",
        "  stripped_html = tf.strings.regex_replace(lowercase, '<[^>]+>', ' ')\n",
        "  return tf.strings.regex_replace(stripped_html,\n",
        "                                  '[%s]' % re.escape(string.punctuation),\n",
        "                                  '')"
      ],
      "metadata": {
        "id": "QgzlYpRMyJN0"
      },
      "execution_count": 4,
      "outputs": []
    },
    {
      "cell_type": "code",
      "source": [
        "def get_callbacks(model_name):\n",
        "  callbacks = []\n",
        "  MC = tf.keras.callbacks.ModelCheckpoint(f'saved_models/{model_name}', monitor='val_loss', save_best_only='True', verbose=1)\n",
        "  ES = tf.keras.callbacks.EarlyStopping(monitor='val_loss', patience=5, verbose=1, restore_best_weights='True')\n",
        "  return [MC, ES]"
      ],
      "metadata": {
        "id": "gPgvL3xeyLQU"
      },
      "execution_count": 5,
      "outputs": []
    },
    {
      "cell_type": "code",
      "source": [
        "from sklearn.metrics import accuracy_score, precision_recall_fscore_support\n",
        "\n",
        "def calculate_results(y_true, y_pred):\n",
        "  model_accuracy = accuracy_score(y_true, y_pred) *100\n",
        "  model_precision, model_recall, model_f1score, _ = precision_recall_fscore_support(y_true, y_pred, average=\"weighted\")\n",
        "  model_results = {\"Accuracy\": model_accuracy, \"Precision\": model_precision, \"Recall value\": model_recall, \"F1-Score\": model_f1score}\n",
        "\n",
        "  return model_results"
      ],
      "metadata": {
        "id": "Qc7hm8PSAigy"
      },
      "execution_count": 108,
      "outputs": []
    },
    {
      "cell_type": "code",
      "source": [
        "import pandas as pd"
      ],
      "metadata": {
        "id": "6pAbWmN6yNUS"
      },
      "execution_count": 6,
      "outputs": []
    },
    {
      "cell_type": "code",
      "source": [
        "url = \"https://archive.ics.uci.edu/ml/machine-learning-databases/00228/smsspamcollection.zip\"\n",
        "path_to_dataset = tf.keras.utils.get_file(\"spam_dataset\", url, untar=True)"
      ],
      "metadata": {
        "colab": {
          "base_uri": "https://localhost:8080/"
        },
        "id": "3BBD5IyYyR1U",
        "outputId": "a5adbd9e-74bc-4d18-cd83-5faf740eb4fe"
      },
      "execution_count": 9,
      "outputs": [
        {
          "output_type": "stream",
          "name": "stdout",
          "text": [
            "Downloading data from https://archive.ics.uci.edu/ml/machine-learning-databases/00228/smsspamcollection.zip\n",
            "203415/203415 [==============================] - 0s 0us/step\n"
          ]
        }
      ]
    },
    {
      "cell_type": "code",
      "source": [
        "! wget https://archive.ics.uci.edu/ml/machine-learning-databases/00228/smsspamcollection.zip"
      ],
      "metadata": {
        "colab": {
          "base_uri": "https://localhost:8080/"
        },
        "id": "iNLKtargyVry",
        "outputId": "1213504d-8989-46fe-a21d-8b6a7ba16a21"
      },
      "execution_count": 10,
      "outputs": [
        {
          "output_type": "stream",
          "name": "stdout",
          "text": [
            "--2022-11-19 16:50:59--  https://archive.ics.uci.edu/ml/machine-learning-databases/00228/smsspamcollection.zip\n",
            "Resolving archive.ics.uci.edu (archive.ics.uci.edu)... 128.195.10.252\n",
            "Connecting to archive.ics.uci.edu (archive.ics.uci.edu)|128.195.10.252|:443... connected.\n",
            "HTTP request sent, awaiting response... 200 OK\n",
            "Length: 203415 (199K) [application/x-httpd-php]\n",
            "Saving to: ‘smsspamcollection.zip’\n",
            "\n",
            "smsspamcollection.z 100%[===================>] 198.65K  --.-KB/s    in 0.1s    \n",
            "\n",
            "2022-11-19 16:50:59 (1.83 MB/s) - ‘smsspamcollection.zip’ saved [203415/203415]\n",
            "\n"
          ]
        }
      ]
    },
    {
      "cell_type": "code",
      "source": [
        "def get_lines(filename):\n",
        "  with open(filename, \"r\") as f:\n",
        "    return f.readlines()"
      ],
      "metadata": {
        "id": "ProxBRaNzUth"
      },
      "execution_count": 77,
      "outputs": []
    },
    {
      "cell_type": "code",
      "source": [
        "data_lines = get_lines(\"/content/SMSSpamCollection\")"
      ],
      "metadata": {
        "id": "LB6kIDDBz2iF"
      },
      "execution_count": 78,
      "outputs": []
    },
    {
      "cell_type": "code",
      "source": [
        "dataset = []\n",
        "def pre_process_test(lines):\n",
        "  for line in lines:\n",
        "    lines_data = {}\n",
        "    lines_data['label'] = [1 if line.split(\"\\t\")[0] == \"spam\" else 0][0]\n",
        "    lines_data['text'] = line.split(\"\\t\")[1]\n",
        "    dataset.append(lines_data)"
      ],
      "metadata": {
        "id": "tI12M8UY0L3h"
      },
      "execution_count": 90,
      "outputs": []
    },
    {
      "cell_type": "code",
      "source": [
        "pre_process_test(data_lines)"
      ],
      "metadata": {
        "id": "ZZQ8rmyf0vpr"
      },
      "execution_count": 91,
      "outputs": []
    },
    {
      "cell_type": "code",
      "source": [
        "dataset"
      ],
      "metadata": {
        "colab": {
          "base_uri": "https://localhost:8080/"
        },
        "id": "t9AsdQp00zdg",
        "outputId": "5e57a0fd-71c9-4c0d-9eac-c8971b8c486c"
      },
      "execution_count": 92,
      "outputs": [
        {
          "output_type": "execute_result",
          "data": {
            "text/plain": [
              "[{'label': 0,\n",
              "  'text': 'Go until jurong point, crazy.. Available only in bugis n great world la e buffet... Cine there got amore wat...\\n'},\n",
              " {'label': 0, 'text': 'Ok lar... Joking wif u oni...\\n'},\n",
              " {'label': 1,\n",
              "  'text': \"Free entry in 2 a wkly comp to win FA Cup final tkts 21st May 2005. Text FA to 87121 to receive entry question(std txt rate)T&C's apply 08452810075over18's\\n\"},\n",
              " {'label': 0, 'text': 'U dun say so early hor... U c already then say...\\n'},\n",
              " {'label': 0,\n",
              "  'text': \"Nah I don't think he goes to usf, he lives around here though\\n\"},\n",
              " {'label': 1,\n",
              "  'text': \"FreeMsg Hey there darling it's been 3 week's now and no word back! I'd like some fun you up for it still? Tb ok! XxX std chgs to send, £1.50 to rcv\\n\"},\n",
              " {'label': 0,\n",
              "  'text': 'Even my brother is not like to speak with me. They treat me like aids patent.\\n'},\n",
              " {'label': 0,\n",
              "  'text': \"As per your request 'Melle Melle (Oru Minnaminunginte Nurungu Vettam)' has been set as your callertune for all Callers. Press *9 to copy your friends Callertune\\n\"},\n",
              " {'label': 1,\n",
              "  'text': 'WINNER!! As a valued network customer you have been selected to receivea £900 prize reward! To claim call 09061701461. Claim code KL341. Valid 12 hours only.\\n'},\n",
              " {'label': 1,\n",
              "  'text': 'Had your mobile 11 months or more? U R entitled to Update to the latest colour mobiles with camera for Free! Call The Mobile Update Co FREE on 08002986030\\n'},\n",
              " {'label': 0,\n",
              "  'text': \"I'm gonna be home soon and i don't want to talk about this stuff anymore tonight, k? I've cried enough today.\\n\"},\n",
              " {'label': 1,\n",
              "  'text': 'SIX chances to win CASH! From 100 to 20,000 pounds txt> CSH11 and send to 87575. Cost 150p/day, 6days, 16+ TsandCs apply Reply HL 4 info\\n'},\n",
              " {'label': 1,\n",
              "  'text': 'URGENT! You have won a 1 week FREE membership in our £100,000 Prize Jackpot! Txt the word: CLAIM to No: 81010 T&C www.dbuk.net LCCLTD POBOX 4403LDNW1A7RW18\\n'},\n",
              " {'label': 0,\n",
              "  'text': \"I've been searching for the right words to thank you for this breather. I promise i wont take your help for granted and will fulfil my promise. You have been wonderful and a blessing at all times.\\n\"},\n",
              " {'label': 0, 'text': 'I HAVE A DATE ON SUNDAY WITH WILL!!\\n'},\n",
              " {'label': 1,\n",
              "  'text': 'XXXMobileMovieClub: To use your credit, click the WAP link in the next txt message or click here>> http://wap. xxxmobilemovieclub.com?n=QJKGIGHJJGCBL\\n'},\n",
              " {'label': 0, 'text': \"Oh k...i'm watching here:)\\n\"},\n",
              " {'label': 0,\n",
              "  'text': 'Eh u remember how 2 spell his name... Yes i did. He v naughty make until i v wet.\\n'},\n",
              " {'label': 0,\n",
              "  'text': 'Fine if that\\x92s the way u feel. That\\x92s the way its gota b\\n'},\n",
              " {'label': 1,\n",
              "  'text': 'England v Macedonia - dont miss the goals/team news. Txt ur national team to 87077 eg ENGLAND to 87077 Try:WALES, SCOTLAND 4txt/ú1.20 POBOXox36504W45WQ 16+\\n'},\n",
              " {'label': 0, 'text': 'Is that seriously how you spell his name?\\n'},\n",
              " {'label': 0, 'text': 'I‘m going to try for 2 months ha ha only joking\\n'},\n",
              " {'label': 0,\n",
              "  'text': 'So ü pay first lar... Then when is da stock comin...\\n'},\n",
              " {'label': 0,\n",
              "  'text': 'Aft i finish my lunch then i go str down lor. Ard 3 smth lor. U finish ur lunch already?\\n'},\n",
              " {'label': 0,\n",
              "  'text': 'Ffffffffff. Alright no way I can meet up with you sooner?\\n'},\n",
              " {'label': 0,\n",
              "  'text': \"Just forced myself to eat a slice. I'm really not hungry tho. This sucks. Mark is getting worried. He knows I'm sick when I turn down pizza. Lol\\n\"},\n",
              " {'label': 0, 'text': 'Lol your always so convincing.\\n'},\n",
              " {'label': 0,\n",
              "  'text': \"Did you catch the bus ? Are you frying an egg ? Did you make a tea? Are you eating your mom's left over dinner ? Do you feel my Love ?\\n\"},\n",
              " {'label': 0,\n",
              "  'text': \"I'm back &amp; we're packing the car now, I'll let you know if there's room\\n\"},\n",
              " {'label': 0,\n",
              "  'text': 'Ahhh. Work. I vaguely remember that! What does it feel like? Lol\\n'},\n",
              " {'label': 0,\n",
              "  'text': \"Wait that's still not all that clear, were you not sure about me being sarcastic or that that's why x doesn't want to live with us\\n\"},\n",
              " {'label': 0,\n",
              "  'text': \"Yeah he got in at 2 and was v apologetic. n had fallen out and she was actin like spoilt child and he got caught up in that. Till 2! But we won't go there! Not doing too badly cheers. You? \\n\"},\n",
              " {'label': 0, 'text': 'K tell me anything about you.\\n'},\n",
              " {'label': 0,\n",
              "  'text': 'For fear of fainting with the of all that housework you just did? Quick have a cuppa\\n'},\n",
              " {'label': 1,\n",
              "  'text': 'Thanks for your subscription to Ringtone UK your mobile will be charged £5/month Please confirm by replying YES or NO. If you reply NO you will not be charged\\n'},\n",
              " {'label': 0,\n",
              "  'text': 'Yup... Ok i go home look at the timings then i msg ü again... Xuhui going to learn on 2nd may too but her lesson is at 8am\\n'},\n",
              " {'label': 0, 'text': \"Oops, I'll let you know when my roommate's done\\n\"},\n",
              " {'label': 0, 'text': 'I see the letter B on my car\\n'},\n",
              " {'label': 0, 'text': 'Anything lor... U decide...\\n'},\n",
              " {'label': 0,\n",
              "  'text': \"Hello! How's you and how did saturday go? I was just texting to see if you'd decided to do anything tomo. Not that i'm trying to invite myself or anything!\\n\"},\n",
              " {'label': 0,\n",
              "  'text': 'Pls go ahead with watts. I just wanted to be sure. Do have a great weekend. Abiola\\n'},\n",
              " {'label': 0,\n",
              "  'text': 'Did I forget to tell you ? I want you , I need you, I crave you ... But most of all ... I love you my sweet Arabian steed ... Mmmmmm ... Yummy\\n'},\n",
              " {'label': 1,\n",
              "  'text': '07732584351 - Rodger Burns - MSG = We tried to call you re your reply to our sms for a free nokia mobile + free camcorder. Please call now 08000930705 for delivery tomorrow\\n'},\n",
              " {'label': 0, 'text': 'WHO ARE YOU SEEING?\\n'},\n",
              " {'label': 0,\n",
              "  'text': 'Great! I hope you like your man well endowed. I am  &lt;#&gt;  inches...\\n'},\n",
              " {'label': 0, 'text': 'No calls..messages..missed calls\\n'},\n",
              " {'label': 0, 'text': \"Didn't you get hep b immunisation in nigeria.\\n\"},\n",
              " {'label': 0, 'text': 'Fair enough, anything going on?\\n'},\n",
              " {'label': 0,\n",
              "  'text': \"Yeah hopefully, if tyler can't do it I could maybe ask around a bit\\n\"},\n",
              " {'label': 0,\n",
              "  'text': \"U don't know how stubborn I am. I didn't even want to go to the hospital. I kept telling Mark I'm not a weak sucker. Hospitals are for weak suckers.\\n\"},\n",
              " {'label': 0,\n",
              "  'text': 'What you thinked about me. First time you saw me in class.\\n'},\n",
              " {'label': 0,\n",
              "  'text': 'A gram usually runs like  &lt;#&gt; , a half eighth is smarter though and gets you almost a whole second gram for  &lt;#&gt;\\n'},\n",
              " {'label': 0,\n",
              "  'text': \"K fyi x has a ride early tomorrow morning but he's crashing at our place tonight\\n\"},\n",
              " {'label': 0,\n",
              "  'text': 'Wow. I never realized that you were so embarassed by your accomodations. I thought you liked it, since i was doing the best i could and you always seemed so happy about \"the cave\". I\\'m sorry I didn\\'t and don\\'t have more to give. I\\'m sorry i offered. I\\'m sorry your room was so embarassing.\\n'},\n",
              " {'label': 1,\n",
              "  'text': 'SMS. ac Sptv: The New Jersey Devils and the Detroit Red Wings play Ice Hockey. Correct or Incorrect? End? Reply END SPTV\\n'},\n",
              " {'label': 0,\n",
              "  'text': 'Do you know what Mallika Sherawat did yesterday? Find out now @  &lt;URL&gt;\\n'},\n",
              " {'label': 1,\n",
              "  'text': 'Congrats! 1 year special cinema pass for 2 is yours. call 09061209465 now! C Suprman V, Matrix3, StarWars3, etc all 4 FREE! bx420-ip4-5we. 150pm. Dont miss out! \\n'},\n",
              " {'label': 0, 'text': \"Sorry, I'll call later in meeting.\\n\"},\n",
              " {'label': 0, 'text': 'Tell where you reached\\n'},\n",
              " {'label': 0, 'text': 'Yes..gauti and sehwag out of odi series.\\n'},\n",
              " {'label': 0,\n",
              "  'text': \"Your gonna have to pick up a $1 burger for yourself on your way home. I can't even move. Pain is killing me.\\n\"},\n",
              " {'label': 0, 'text': 'Ha ha ha good joke. Girls are situation seekers.\\n'},\n",
              " {'label': 0, 'text': 'Its a part of checking IQ\\n'},\n",
              " {'label': 0,\n",
              "  'text': 'Sorry my roommates took forever, it ok if I come by now?\\n'},\n",
              " {'label': 0,\n",
              "  'text': 'Ok lar i double check wif da hair dresser already he said wun cut v short. He said will cut until i look nice.\\n'},\n",
              " {'label': 1,\n",
              "  'text': 'As a valued customer, I am pleased to advise you that following recent review of your Mob No. you are awarded with a £1500 Bonus Prize, call 09066364589\\n'},\n",
              " {'label': 0,\n",
              "  'text': 'Today is \"song dedicated day..\" Which song will u dedicate for me? Send this to all ur valuable frnds but first rply me...\\n'},\n",
              " {'label': 1,\n",
              "  'text': 'Urgent UR awarded a complimentary trip to EuroDisinc Trav, Aco&Entry41 Or £1000. To claim txt DIS to 87121 18+6*£1.50(moreFrmMob. ShrAcomOrSglSuplt)10, LS1 3AJ\\n'},\n",
              " {'label': 1,\n",
              "  'text': 'Did you hear about the new \"Divorce Barbie\"? It comes with all of Ken\\'s stuff!\\n'},\n",
              " {'label': 0, 'text': 'I plane to give on this month end.\\n'},\n",
              " {'label': 0, 'text': 'Wah lucky man... Then can save money... Hee...\\n'},\n",
              " {'label': 0, 'text': 'Finished class where are you.\\n'},\n",
              " {'label': 0, 'text': 'HI BABE IM AT HOME NOW WANNA DO SOMETHING? XX\\n'},\n",
              " {'label': 0, 'text': 'K..k:)where are you?how did you performed?\\n'},\n",
              " {'label': 0, 'text': 'U can call me now...\\n'},\n",
              " {'label': 0, 'text': 'I am waiting machan. Call me once you free.\\n'},\n",
              " {'label': 0,\n",
              "  'text': 'Thats cool. i am a gentleman and will treat you with dignity and respect.\\n'},\n",
              " {'label': 0, 'text': 'I like you peoples very much:) but am very shy pa.\\n'},\n",
              " {'label': 0, 'text': 'Does not operate after  &lt;#&gt;  or what\\n'},\n",
              " {'label': 0,\n",
              "  'text': \"Its not the same here. Still looking for a job. How much do Ta's earn there.\\n\"},\n",
              " {'label': 0, 'text': \"Sorry, I'll call later\\n\"},\n",
              " {'label': 0, 'text': 'K. Did you call me just now ah? \\n'},\n",
              " {'label': 0, 'text': 'Ok i am on the way to home hi hi\\n'},\n",
              " {'label': 0, 'text': 'You will be in the place of that man\\n'},\n",
              " {'label': 0, 'text': 'Yup next stop.\\n'},\n",
              " {'label': 0,\n",
              "  'text': \"I call you later, don't have network. If urgnt, sms me.\\n\"},\n",
              " {'label': 0,\n",
              "  'text': \"For real when u getting on yo? I only need 2 more tickets and one more jacket and I'm done. I already used all my multis.\\n\"},\n",
              " {'label': 0,\n",
              "  'text': \"Yes I started to send requests to make it but pain came back so I'm back in bed. Double coins at the factory too. I gotta cash in all my nitros.\\n\"},\n",
              " {'label': 0, 'text': \"I'm really not up to it still tonight babe\\n\"},\n",
              " {'label': 0, 'text': 'Ela kano.,il download, come wen ur free..\\n'},\n",
              " {'label': 0,\n",
              "  'text': 'Yeah do! Don‘t stand to close tho- you‘ll catch something!\\n'},\n",
              " {'label': 0,\n",
              "  'text': \"Sorry to be a pain. Is it ok if we meet another night? I spent late afternoon in casualty and that means i haven't done any of y stuff42moro and that includes all my time sheets and that. Sorry. \\n\"},\n",
              " {'label': 0,\n",
              "  'text': 'Smile in Pleasure Smile in Pain Smile when trouble pours like Rain Smile when sum1 Hurts U Smile becoz SOMEONE still Loves to see u Smiling!!\\n'},\n",
              " {'label': 1,\n",
              "  'text': 'Please call our customer service representative on 0800 169 6031 between 10am-9pm as you have WON a guaranteed £1000 cash or £5000 prize!\\n'},\n",
              " {'label': 0,\n",
              "  'text': 'Havent planning to buy later. I check already lido only got 530 show in e afternoon. U finish work already?\\n'},\n",
              " {'label': 1,\n",
              "  'text': 'Your free ringtone is waiting to be collected. Simply text the password \"MIX\" to 85069 to verify. Get Usher and Britney. FML, PO Box 5249, MK17 92H. 450Ppw 16\\n'},\n",
              " {'label': 0, 'text': 'Watching telugu movie..wat abt u?\\n'},\n",
              " {'label': 0, 'text': 'i see. When we finish we have loads of loans to pay\\n'},\n",
              " {'label': 0,\n",
              "  'text': 'Hi. Wk been ok - on hols now! Yes on for a bit of a run. Forgot that i have hairdressers appointment at four so need to get home n shower beforehand. Does that cause prob for u?\"\\n'},\n",
              " {'label': 0, 'text': 'I see a cup of coffee animation\\n'},\n",
              " {'label': 0,\n",
              "  'text': \"Please don't text me anymore. I have nothing else to say.\\n\"},\n",
              " {'label': 0,\n",
              "  'text': 'Okay name ur price as long as its legal! Wen can I pick them up? Y u ave x ams xx\\n'},\n",
              " {'label': 0,\n",
              "  'text': \"I'm still looking for a car to buy. And have not gone 4the driving test yet.\\n\"},\n",
              " {'label': 0,\n",
              "  'text': \"As per your request 'Melle Melle (Oru Minnaminunginte Nurungu Vettam)' has been set as your callertune for all Callers. Press *9 to copy your friends Callertune\\n\"},\n",
              " {'label': 0,\n",
              "  'text': \"wow. You're right! I didn't mean to do that. I guess once i gave up on boston men and changed my search location to nyc, something changed. Cuz on my signin page it still says boston.\\n\"},\n",
              " {'label': 0, 'text': 'Umma my life and vava umma love you lot dear\\n'},\n",
              " {'label': 0,\n",
              "  'text': 'Thanks a lot for your wishes on my birthday. Thanks you for making my birthday truly memorable.\\n'},\n",
              " {'label': 0, 'text': \"Aight, I'll hit you up when I get some cash\\n\"},\n",
              " {'label': 0,\n",
              "  'text': \"How would my ip address test that considering my computer isn't a minecraft server\\n\"},\n",
              " {'label': 0,\n",
              "  'text': 'I know! Grumpy old people. My mom was like you better not be lying. Then again I am always the one to play jokes...\\n'},\n",
              " {'label': 0, 'text': \"Dont worry. I guess he's busy.\\n\"},\n",
              " {'label': 0, 'text': 'What is the plural of the noun research?\\n'},\n",
              " {'label': 0, 'text': 'Going for dinner.msg you after.\\n'},\n",
              " {'label': 0,\n",
              "  'text': \"I'm ok wif it cos i like 2 try new things. But i scared u dun like mah. Cos u said not too loud.\\n\"},\n",
              " {'label': 1,\n",
              "  'text': 'GENT! We are trying to contact you. Last weekends draw shows that you won a £1000 prize GUARANTEED. Call 09064012160. Claim Code K52. Valid 12hrs only. 150ppm\\n'},\n",
              " {'label': 0,\n",
              "  'text': \"Wa, ur openin sentence very formal... Anyway, i'm fine too, juz tt i'm eatin too much n puttin on weight...Haha... So anythin special happened?\\n\"},\n",
              " {'label': 0,\n",
              "  'text': \"As I entered my cabin my PA said, '' Happy B'day Boss !!''. I felt special. She askd me 4 lunch. After lunch she invited me to her apartment. We went there.\\n\"},\n",
              " {'label': 1,\n",
              "  'text': 'You are a winner U have been specially selected 2 receive £1000 or a 4* holiday (flights inc) speak to a live operator 2 claim 0871277810910p/min (18+) \\n'},\n",
              " {'label': 0,\n",
              "  'text': 'Goodo! Yes we must speak friday - egg-potato ratio for tortilla needed! \\n'},\n",
              " {'label': 0,\n",
              "  'text': \"Hmm...my uncle just informed me that he's paying the school directly. So pls buy food.\\n\"},\n",
              " {'label': 1,\n",
              "  'text': 'PRIVATE! Your 2004 Account Statement for 07742676969 shows 786 unredeemed Bonus Points. To claim call 08719180248 Identifier Code: 45239 Expires\\n'},\n",
              " {'label': 1,\n",
              "  'text': 'URGENT! Your Mobile No. was awarded £2000 Bonus Caller Prize on 5/9/03 This is our final try to contact U! Call from Landline 09064019788 BOX42WR29C, 150PPM\\n'},\n",
              " {'label': 0,\n",
              "  'text': 'here is my new address -apples&pairs&all that malarky\\n'},\n",
              " {'label': 1,\n",
              "  'text': 'Todays Voda numbers ending 7548 are selected to receive a $350 award. If you have a match please call 08712300220 quoting claim code 4041 standard rates app\\n'},\n",
              " {'label': 0,\n",
              "  'text': 'I am going to sao mu today. Will be done only at 12 \\n'},\n",
              " {'label': 0, 'text': \"Ü predict wat time ü'll finish buying?\\n\"},\n",
              " {'label': 0, 'text': 'Good stuff, will do.\\n'},\n",
              " {'label': 0,\n",
              "  'text': \"Just so that you know,yetunde hasn't sent money yet. I just sent her a text not to bother sending. So its over, you dont have to involve yourself in anything. I shouldn't have imposed anything on you in the first place so for that, i apologise.\\n\"},\n",
              " {'label': 0, 'text': 'Are you there in room.\\n'},\n",
              " {'label': 0,\n",
              "  'text': 'HEY GIRL. HOW R U? HOPE U R WELL ME AN DEL R BAK! AGAIN LONG TIME NO C! GIVE ME A CALL SUM TIME FROM LUCYxx\\n'},\n",
              " {'label': 0, 'text': 'K..k:)how much does it cost?\\n'},\n",
              " {'label': 0, 'text': \"I'm home.\\n\"},\n",
              " {'label': 0, 'text': 'Dear, will call Tmorrow.pls accomodate.\\n'},\n",
              " {'label': 0, 'text': 'First answer my question.\\n'},\n",
              " {'label': 1,\n",
              "  'text': 'Sunshine Quiz Wkly Q! Win a top Sony DVD player if u know which country the Algarve is in? Txt ansr to 82277. £1.50 SP:Tyrone\\n'},\n",
              " {'label': 1,\n",
              "  'text': \"Want 2 get laid tonight? Want real Dogging locations sent direct 2 ur mob? Join the UK's largest Dogging Network bt Txting GRAVEL to 69888! Nt. ec2a. 31p.msg@150p\\n\"},\n",
              " {'label': 0, 'text': \"I only haf msn. It's yijue@hotmail.com\\n\"},\n",
              " {'label': 0, 'text': 'He is there. You call and meet him\\n'},\n",
              " {'label': 0, 'text': 'No no. I will check all rooms befor activities\\n'},\n",
              " {'label': 1,\n",
              "  'text': \"You'll not rcv any more msgs from the chat svc. For FREE Hardcore services text GO to: 69988 If u get nothing u must Age Verify with yr network & try again\\n\"},\n",
              " {'label': 0,\n",
              "  'text': 'Got c... I lazy to type... I forgot ü in lect... I saw a pouch but like not v nice...\\n'},\n",
              " {'label': 0, 'text': \"K, text me when you're on the way\\n\"},\n",
              " {'label': 0, 'text': 'Sir, Waiting for your mail.\\n'},\n",
              " {'label': 0,\n",
              "  'text': 'A swt thought: \"Nver get tired of doing little things 4 lovable persons..\" Coz..somtimes those little things occupy d biggest part in their Hearts.. Gud ni8\\n'},\n",
              " {'label': 0, 'text': 'I know you are. Can you pls open the back?\\n'},\n",
              " {'label': 0, 'text': 'Yes see ya not on the dot\\n'},\n",
              " {'label': 0, 'text': 'Whats the staff name who is taking class for us?\\n'},\n",
              " {'label': 1,\n",
              "  'text': \"FreeMsg Why haven't you replied to my text? I'm Randy, sexy, female and live local. Luv to hear from u. Netcollex Ltd 08700621170150p per msg reply Stop to end\\n\"},\n",
              " {'label': 0,\n",
              "  'text': 'Ummma.will call after check in.our life will begin from qatar so pls pray very hard.\\n'},\n",
              " {'label': 0, 'text': 'K..i deleted my contact that why?\\n'},\n",
              " {'label': 0, 'text': 'Sindu got job in birla soft ..\\n'},\n",
              " {'label': 0, 'text': \"The wine is flowing and i'm i have nevering..\\n\"},\n",
              " {'label': 0,\n",
              "  'text': 'Yup i thk cine is better cos no need 2 go down 2 plaza mah.\\n'},\n",
              " {'label': 0, 'text': 'Ok... Ur typical reply...\\n'},\n",
              " {'label': 0,\n",
              "  'text': \"As per your request 'Melle Melle (Oru Minnaminunginte Nurungu Vettam)' has been set as your callertune for all Callers. Press *9 to copy your friends Callertune\\n\"},\n",
              " {'label': 0,\n",
              "  'text': 'You are everywhere dirt, on the floor, the windows, even on my shirt. And sometimes when i open my mouth, you are all that comes flowing out. I dream of my world without you, then half my chores are out too. A time of joy for me, lots of tv shows i.ll see. But i guess like all things you just must exist, like rain, hail and mist, and when my time here is done, you and i become one.\\n'},\n",
              " {'label': 0, 'text': 'Aaooooright are you at work?\\n'},\n",
              " {'label': 0, 'text': \"I'm leaving my house now...\\n\"},\n",
              " {'label': 0,\n",
              "  'text': 'Hello, my love. What are you doing? Did you get to that interview today? Are you you happy? Are you being a good boy? Do you think of me?Are you missing me ?\\n'},\n",
              " {'label': 1,\n",
              "  'text': 'Customer service annoncement. You have a New Years delivery waiting for you. Please call 07046744435 now to arrange delivery\\n'},\n",
              " {'label': 1,\n",
              "  'text': 'You are a winner U have been specially selected 2 receive £1000 cash or a 4* holiday (flights inc) speak to a live operator 2 claim 0871277810810\\n'},\n",
              " {'label': 0,\n",
              "  'text': \"Keep yourself safe for me because I need you and I miss you already and I envy everyone that see's you in real life\\n\"},\n",
              " {'label': 0,\n",
              "  'text': 'New car and house for my parents.:)i have only new job in hand:)\\n'},\n",
              " {'label': 0,\n",
              "  'text': \"I'm so in love with you. I'm excited each day i spend with you. You make me so happy.\\n\"},\n",
              " {'label': 1,\n",
              "  'text': '-PLS STOP bootydelious (32/F) is inviting you to be her friend. Reply YES-434 or NO-434 See her: www.SMS.ac/u/bootydelious STOP? Send STOP FRND to 62468\\n'},\n",
              " {'label': 1,\n",
              "  'text': 'BangBabes Ur order is on the way. U SHOULD receive a Service Msg 2 download UR content. If U do not, GoTo wap. bangb. tv on UR mobile internet/service menu\\n'},\n",
              " {'label': 0, 'text': 'I place all ur points on e cultures module already.\\n'},\n",
              " {'label': 1,\n",
              "  'text': 'URGENT! We are trying to contact you. Last weekends draw shows that you have won a £900 prize GUARANTEED. Call 09061701939. Claim code S89. Valid 12hrs only\\n'},\n",
              " {'label': 0,\n",
              "  'text': \"Hi frnd, which is best way to avoid missunderstding wit our beloved one's?\\n\"},\n",
              " {'label': 0,\n",
              "  'text': 'Great escape. I fancy the bridge but needs her lager. See you tomo \\n'},\n",
              " {'label': 0,\n",
              "  'text': 'Yes :)it completely in out of form:)clark also utter waste.\\n'},\n",
              " {'label': 0, 'text': 'Sir, I need AXIS BANK account no and bank address.\\n'},\n",
              " {'label': 0,\n",
              "  'text': 'Hmmm.. Thk sure got time to hop ard... Ya, can go 4 free abt... Muz call u to discuss liao... \\n'},\n",
              " {'label': 0, 'text': 'What time you coming down later? \\n'},\n",
              " {'label': 0,\n",
              "  'text': 'Bloody hell, cant believe you forgot my surname Mr . Ill give u a clue, its spanish and begins with m... \\n'},\n",
              " {'label': 0,\n",
              "  'text': \"Well, i'm gonna finish my bath now. Have a good...fine night.\\n\"},\n",
              " {'label': 0,\n",
              "  'text': \"Let me know when you've got the money so carlos can make the call\\n\"},\n",
              " {'label': 0, 'text': 'U still going to the mall?\\n'},\n",
              " {'label': 0,\n",
              "  'text': \"Turns out my friends are staying for the whole show and won't be back til ~ &lt;#&gt; , so feel free to go ahead and smoke that $ &lt;#&gt;  worth\\n\"},\n",
              " {'label': 0,\n",
              "  'text': 'Text her. If she doesnt reply let me know so i can have her log in\\n'},\n",
              " {'label': 0,\n",
              "  'text': \"Hi! You just spoke to MANEESHA V. We'd like to know if you were satisfied with the experience. Reply Toll Free with Yes or No.\\n\"},\n",
              " {'label': 0,\n",
              "  'text': 'You lifted my hopes with the offer of money. I am in need. Especially when the end of the month approaches and it hurts my studying. Anyways have a gr8 weekend\\n'},\n",
              " {'label': 0, 'text': 'Lol no. U can trust me.\\n'},\n",
              " {'label': 0,\n",
              "  'text': 'ok. I am a gentleman and will treat you with dignity and respect.\\n'},\n",
              " {'label': 0, 'text': 'He will, you guys close?\\n'},\n",
              " {'label': 0, 'text': 'Going on nothing great.bye\\n'},\n",
              " {'label': 0,\n",
              "  'text': \"Hello handsome ! Are you finding that job ? Not being lazy ? Working towards getting back that net for mummy ? Where's my boytoy now ? Does he miss me ?\\n\"},\n",
              " {'label': 0, 'text': 'Haha awesome, be there in a minute\\n'},\n",
              " {'label': 1,\n",
              "  'text': 'Please call our customer service representative on FREEPHONE 0808 145 4742 between 9am-11pm as you have WON a guaranteed £1000 cash or £5000 prize!\\n'},\n",
              " {'label': 0,\n",
              "  'text': 'Have you got Xmas radio times. If not i will get it now\\n'},\n",
              " {'label': 0,\n",
              "  'text': 'I jus reached home. I go bathe first. But my sis using net tell u when she finishes k...\\n'},\n",
              " {'label': 1,\n",
              "  'text': 'Are you unique enough? Find out from 30th August. www.areyouunique.co.uk\\n'},\n",
              " {'label': 0,\n",
              "  'text': \"I'm sorry. I've joined the league of people that dont keep in touch. You mean a great deal to me. You have been a friend at all times even at great personal cost. Do have a great week.|\\n\"},\n",
              " {'label': 0, 'text': 'Hi :)finally i completed the course:)\\n'},\n",
              " {'label': 0,\n",
              "  'text': 'It will stop on itself. I however suggest she stays with someone that will be able to give ors for every stool.\\n'},\n",
              " {'label': 0,\n",
              "  'text': \"How are you doing? Hope you've settled in for the new school year. Just wishin you a gr8 day\\n\"},\n",
              " {'label': 0, 'text': 'Gud mrng dear hav a nice day\\n'},\n",
              " {'label': 0, 'text': 'Did u got that persons story\\n'},\n",
              " {'label': 0,\n",
              "  'text': 'is your hamster dead? Hey so tmr i meet you at 1pm orchard mrt? \\n'},\n",
              " {'label': 0,\n",
              "  'text': 'Hi its Kate how is your evening? I hope i can see you tomorrow for a bit but i have to bloody babyjontet! Txt back if u can. :) xxx\\n'},\n",
              " {'label': 0, 'text': 'Found it, ENC  &lt;#&gt; , where you at?\\n'},\n",
              " {'label': 0, 'text': 'I sent you  &lt;#&gt;  bucks\\n'},\n",
              " {'label': 0,\n",
              "  'text': 'Hello darlin ive finished college now so txt me when u finish if u can love Kate xxx\\n'},\n",
              " {'label': 0,\n",
              "  'text': 'Your account has been refilled successfully by INR  &lt;DECIMAL&gt; . Your KeralaCircle prepaid account balance is Rs  &lt;DECIMAL&gt; . Your Transaction ID is KR &lt;#&gt; .\\n'},\n",
              " {'label': 0, 'text': 'Goodmorning sleeping ga.\\n'},\n",
              " {'label': 0, 'text': 'U call me alter at 11 ok.\\n'},\n",
              " {'label': 0,\n",
              "  'text': 'Ü say until like dat i dun buy ericsson oso cannot oredi lar...\\n'},\n",
              " {'label': 0,\n",
              "  'text': \"As I entered my cabin my PA said, '' Happy B'day Boss !!''. I felt special. She askd me 4 lunch. After lunch she invited me to her apartment. We went there.\\n\"},\n",
              " {'label': 0, 'text': 'Aight yo, dats straight dogg\\n'},\n",
              " {'label': 0,\n",
              "  'text': 'You please give us connection today itself before  &lt;DECIMAL&gt;  or refund the bill\\n'},\n",
              " {'label': 0, 'text': 'Both :) i shoot big loads so get ready!\\n'},\n",
              " {'label': 0,\n",
              "  'text': \"What's up bruv, hope you had a great break. Do have a rewarding semester.\\n\"},\n",
              " {'label': 0, 'text': 'Home so we can always chat\\n'},\n",
              " {'label': 0, 'text': 'K:)k:)good:)study well.\\n'},\n",
              " {'label': 0, 'text': 'Yup... How ü noe leh...\\n'},\n",
              " {'label': 0, 'text': 'Sounds great! Are you home now?\\n'},\n",
              " {'label': 0,\n",
              "  'text': 'Finally the match heading towards draw as your prediction.\\n'},\n",
              " {'label': 0, 'text': \"Tired. I haven't slept well the past few nights.\\n\"},\n",
              " {'label': 0, 'text': 'Easy ah?sen got selected means its good..\\n'},\n",
              " {'label': 0, 'text': 'I have to take exam with march 3\\n'},\n",
              " {'label': 0,\n",
              "  'text': \"Yeah you should. I think you can use your gt atm now to register. Not sure but if there's anyway i can help let me know. But when you do be sure you are ready.\\n\"},\n",
              " {'label': 0, 'text': 'Ok no prob. Take ur time.\\n'},\n",
              " {'label': 0,\n",
              "  'text': 'There is os called ubandu which will run without installing in hard disk...you can use that os to copy the important files in system and give it to repair shop..\\n'},\n",
              " {'label': 0, 'text': \"Sorry, I'll call later\\n\"},\n",
              " {'label': 0,\n",
              "  'text': 'U say leh... Of course nothing happen lar. Not say v romantic jus a bit only lor. I thk e nite scenery not so nice leh.\\n'},\n",
              " {'label': 1,\n",
              "  'text': '500 New Mobiles from 2004, MUST GO! Txt: NOKIA to No: 89545 & collect yours today!From ONLY £1 www.4-tc.biz 2optout 087187262701.50gbp/mtmsg18\\n'},\n",
              " {'label': 0,\n",
              "  'text': 'Would really appreciate if you call me. Just need someone to talk to.\\n'},\n",
              " {'label': 1,\n",
              "  'text': 'Will u meet ur dream partner soon? Is ur career off 2 a flyng start? 2 find out free, txt HORO followed by ur star sign, e. g. HORO ARIES\\n'},\n",
              " {'label': 0, 'text': 'Hey company elama po mudyadhu.\\n'},\n",
              " {'label': 0,\n",
              "  'text': 'Life is more strict than teacher... Bcoz Teacher teaches lesson &amp; then conducts exam, But Life first conducts Exam &amp; then teaches Lessons. Happy morning. . .\\n'},\n",
              " {'label': 0, 'text': 'Dear good morning now only i am up\\n'},\n",
              " {'label': 0,\n",
              "  'text': 'Get down in gandhipuram and walk to cross cut road. Right side &lt;#&gt; street road and turn at first right.\\n'},\n",
              " {'label': 0, 'text': 'Dear we are going to our rubber place\\n'},\n",
              " {'label': 0, 'text': \"Sorry battery died, yeah I'm here\\n\"},\n",
              " {'label': 0, 'text': 'Yes:)here tv is always available in work place..\\n'},\n",
              " {'label': 1,\n",
              "  'text': 'Text & meet someone sexy today. U can find a date or even flirt its up to U. Join 4 just 10p. REPLY with NAME & AGE eg Sam 25. 18 -msg recd@thirtyeight pence\\n'},\n",
              " {'label': 0, 'text': 'I have printed it oh. So  &lt;#&gt;  come upstairs\\n'},\n",
              " {'label': 0,\n",
              "  'text': 'Or ill be a little closer like at the bus stop on the same street\\n'},\n",
              " {'label': 0, 'text': 'Where are you?when wil you reach here?\\n'},\n",
              " {'label': 0,\n",
              "  'text': \"New Theory: Argument wins d SITUATION, but loses the PERSON. So dont argue with ur friends just.. . . . kick them &amp; say, I'm always correct.!\\n\"},\n",
              " {'label': 1,\n",
              "  'text': 'U 447801259231 have a secret admirer who is looking 2 make contact with U-find out who they R*reveal who thinks UR so special-call on 09058094597\\n'},\n",
              " {'label': 0, 'text': 'Tomarrow final hearing on my laptop case so i cant.\\n'},\n",
              " {'label': 0, 'text': 'PLEASSSSSSSEEEEEE TEL ME V AVENT DONE SPORTSx\\n'},\n",
              " {'label': 0,\n",
              "  'text': 'Okay. No no, just shining on. That was meant to be signing, but that sounds better.\\n'},\n",
              " {'label': 0,\n",
              "  'text': \"Although i told u dat i'm into baig face watches now but i really like e watch u gave cos it's fr u. Thanx 4 everything dat u've done today, i'm touched...\\n\"},\n",
              " {'label': 0, 'text': \"U don't remember that old commercial?\\n\"},\n",
              " {'label': 0,\n",
              "  'text': \"Too late. I said i have the website. I didn't i have or dont have the slippers\\n\"},\n",
              " {'label': 0, 'text': 'I asked you to call him now ok\\n'},\n",
              " {'label': 0, 'text': 'Kallis wont bat in 2nd innings.\\n'},\n",
              " {'label': 0,\n",
              "  'text': 'It didnt work again oh. Ok goodnight then. I.ll fix and have it ready by the time you wake up. You are very dearly missed have a good night sleep.\\n'},\n",
              " {'label': 1,\n",
              "  'text': 'Congratulations ur awarded 500 of CD vouchers or 125gift guaranteed & Free entry 2 100 wkly draw txt MUSIC to 87066 TnCs www.Ldew.com1win150ppmx3age16\\n'},\n",
              " {'label': 0, 'text': 'Ranjith cal drpd Deeraj and deepak 5min hold\\n'},\n",
              " {'label': 0,\n",
              "  'text': 'Wen ur lovable bcums angry wid u, dnt take it seriously.. Coz being angry is d most childish n true way of showing deep affection, care n luv!.. kettoda manda... Have nice day da.\\n'},\n",
              " {'label': 0, 'text': 'What you doing?how are you?\\n'},\n",
              " {'label': 0,\n",
              "  'text': 'Ups which is 3days also, and the shipping company that takes 2wks. The other way is usps which takes a week but when it gets to lag you may have to bribe nipost to get your stuff.\\n'},\n",
              " {'label': 0, 'text': \"I'm back, lemme know when you're ready\\n\"},\n",
              " {'label': 0,\n",
              "  'text': \"Don't necessarily expect it to be done before you get back though because I'm just now headin out\\n\"},\n",
              " {'label': 0, 'text': 'Mmm so yummy babe ... Nice jolt to the suzy\\n'},\n",
              " {'label': 0, 'text': 'Where are you lover ? I need you ...\\n'},\n",
              " {'label': 1,\n",
              "  'text': 'We tried to contact you re your reply to our offer of a Video Handset? 750 anytime networks mins? UNLIMITED TEXT? Camcorder? Reply or call 08000930705 NOW\\n'},\n",
              " {'label': 0,\n",
              "  'text': 'I‘m parked next to a MINI!!!! When are you coming in today do you think?\\n'},\n",
              " {'label': 0, 'text': 'Yup\\n'},\n",
              " {'label': 0,\n",
              "  'text': \"Anyway i'm going shopping on my own now. Cos my sis not done yet. Dun disturb u liao.\\n\"},\n",
              " {'label': 0, 'text': 'MY NO. IN LUTON 0125698789 RING ME IF UR AROUND! H*\\n'},\n",
              " {'label': 1,\n",
              "  'text': 'Hey I am really horny want to chat or see me naked text hot to 69698 text charged at 150pm to unsubscribe text stop 69698\\n'},\n",
              " {'label': 0, 'text': 'Why you Dint come with us.\\n'},\n",
              " {'label': 0, 'text': 'Same. Wana plan a trip sometme then\\n'},\n",
              " {'label': 0, 'text': 'Not sure yet, still trying to get a hold of him\\n'},\n",
              " {'label': 1,\n",
              "  'text': 'Ur ringtone service has changed! 25 Free credits! Go to club4mobiles.com to choose content now! Stop? txt CLUB STOP to 87070. 150p/wk Club4 PO Box1146 MK45 2WT\\n'},\n",
              " {'label': 0, 'text': 'The evo. I just had to download flash. Jealous?\\n'},\n",
              " {'label': 1,\n",
              "  'text': 'Ringtone Club: Get the UK singles chart on your mobile each week and choose any top quality ringtone! This message is free of charge.\\n'},\n",
              " {'label': 0,\n",
              "  'text': \"Come to mu, we're sorting out our narcotics situation\\n\"},\n",
              " {'label': 0,\n",
              "  'text': 'Night has ended for another day, morning has come in a special way. May you smile like the sunny rays and leaves your worries at the blue blue bay.\\n'},\n",
              " {'label': 1,\n",
              "  'text': 'HMV BONUS SPECIAL 500 pounds of genuine HMV vouchers to be won. Just answer 4 easy questions. Play Now! Send HMV to 86688 More info:www.100percent-real.com\\n'},\n",
              " {'label': 0, 'text': 'Usf I guess, might as well take 1 car\\n'},\n",
              " {'label': 0, 'text': 'No objection. My bf not coming.\\n'},\n",
              " {'label': 0, 'text': 'Thanx...\\n'},\n",
              " {'label': 0, 'text': 'Tell rob to mack his gf in the theater\\n'},\n",
              " {'label': 0, 'text': \"Awesome, I'll see you in a bit\\n\"},\n",
              " {'label': 0, 'text': 'Just sent it. So what type of food do you like?\\n'},\n",
              " {'label': 0,\n",
              "  'text': 'All done? All handed in? Celebrations in full swing yet?\\n'},\n",
              " {'label': 0, 'text': 'You got called a tool?\\n'},\n",
              " {'label': 0,\n",
              "  'text': '\"Wen u miss someone, the person is definitely special for u..... But if the person is so special, why to miss them, just Keep-in-touch\" gdeve..\\n'},\n",
              " {'label': 0, 'text': 'Ok. I asked for money how far\\n'},\n",
              " {'label': 0, 'text': 'Okie...\\n'},\n",
              " {'label': 0,\n",
              "  'text': \"Yeah I think my usual guy's still passed out from last night, if you get ahold of anybody let me know and I'll throw down\\n\"},\n",
              " {'label': 0,\n",
              "  'text': 'K, I might come by tonight then if my class lets out early\\n'},\n",
              " {'label': 0, 'text': 'Ok..\\n'},\n",
              " {'label': 0,\n",
              "  'text': 'hi baby im cruisin with my girl friend what r u up 2? give me a call in and hour at home if thats alright or fone me on this fone now love jenny xxx\\n'},\n",
              " {'label': 0,\n",
              "  'text': 'My life Means a lot to me, Not because I love my life, But because I love the people in my life, The world calls them friends, I call them my World:-).. Ge:-)..\\n'},\n",
              " {'label': 0,\n",
              "  'text': 'Dear,shall mail tonite.busy in the street,shall update you tonite.things are looking ok.varunnathu edukkukayee raksha ollu.but a good one in real sense.\\n'},\n",
              " {'label': 0, 'text': 'Hey you told your name to gautham ah?\\n'},\n",
              " {'label': 0,\n",
              "  'text': 'Haf u found him? I feel so stupid da v cam was working.\\n'},\n",
              " {'label': 0, 'text': 'Oops. 4 got that bit.\\n'},\n",
              " {'label': 0, 'text': 'Are you this much buzy\\n'},\n",
              " {'label': 0, 'text': 'I accidentally deleted the message. Resend please.\\n'},\n",
              " {'label': 1,\n",
              "  'text': \"T-Mobile customer you may now claim your FREE CAMERA PHONE upgrade & a pay & go sim card for your loyalty. Call on 0845 021 3680.Offer ends 28thFeb.T&C's apply\\n\"},\n",
              " {'label': 0,\n",
              "  'text': \"Unless it's a situation where YOU GO GURL would be more appropriate\\n\"},\n",
              " {'label': 0,\n",
              "  'text': 'Hurt me... Tease me... Make me cry... But in the end of my life when i die plz keep one rose on my grave and say STUPID I MISS U.. HAVE A NICE DAY BSLVYL\\n'},\n",
              " {'label': 0, 'text': 'I cant pick the phone right now. Pls send a message\\n'},\n",
              " {'label': 0,\n",
              "  'text': \"Need a coffee run tomo?Can't believe it's that time of week already\\n\"},\n",
              " {'label': 0,\n",
              "  'text': 'Awesome, I remember the last time we got somebody high for the first time with diesel :V\\n'},\n",
              " {'label': 0,\n",
              "  'text': 'Shit that is really shocking and scary, cant imagine for a second. Def up for night out. Do u think there is somewhere i could crash for night, save on taxi?\\n'},\n",
              " {'label': 0,\n",
              "  'text': 'Oh and by the way you do have more food in your fridge! Want to go out for a meal tonight? \\n'},\n",
              " {'label': 0, 'text': 'He is a womdarfull actor\\n'},\n",
              " {'label': 1,\n",
              "  'text': 'SMS. ac Blind Date 4U!: Rodds1 is 21/m from Aberdeen, United Kingdom. Check Him out http://img. sms. ac/W/icmb3cktz8r7!-4 no Blind Dates send HIDE\\n'},\n",
              " {'label': 0,\n",
              "  'text': 'Yup... From what i remb... I think should be can book... \\n'},\n",
              " {'label': 0, 'text': 'Jos ask if u wana meet up?\\n'},\n",
              " {'label': 0,\n",
              "  'text': \"Lol yes. Our friendship is hanging on a thread cause u won't buy stuff.\\n\"},\n",
              " {'label': 1,\n",
              "  'text': 'TheMob> Check out our newest selection of content, Games, Tones, Gossip, babes and sport, Keep your mobile fit and funky text WAP to 82468\\n'},\n",
              " {'label': 0,\n",
              "  'text': \"Where are the garage keys? They aren't on the bookshelf\\n\"},\n",
              " {'label': 0,\n",
              "  'text': 'Today is ACCEPT DAY..U Accept me as? Brother Sister Lover Dear1 Best1 Clos1 Lvblefrnd Jstfrnd Cutefrnd Lifpartnr Belovd Swtheart Bstfrnd No rply means enemy\\n'},\n",
              " {'label': 1,\n",
              "  'text': 'Think ur smart ? Win £200 this week in our weekly quiz, text PLAY to 85222 now!T&Cs WinnersClub PO BOX 84, M26 3UZ. 16+. GBP1.50/week\\n'},\n",
              " {'label': 0,\n",
              "  'text': \"He says he'll give me a call when his friend's got the money but that he's definitely buying before the end of the week\\n\"},\n",
              " {'label': 0,\n",
              "  'text': 'Hi the way I was with u 2day, is the normal way&this is the real me. UR unique&I hope I know u 4 the rest of mylife. Hope u find wot was lost.\\n'},\n",
              " {'label': 0, 'text': 'You made my day. Do have a great day too.\\n'},\n",
              " {'label': 0, 'text': 'K.k:)advance happy pongal.\\n'},\n",
              " {'label': 0,\n",
              "  'text': 'Hmmm... Guess we can go 4 kb n power yoga... Haha, dunno we can tahan power yoga anot... Thk got lo oso, forgot liao...\\n'},\n",
              " {'label': 0, 'text': \"Not really dude, have no friends i'm afraid :(\\n\"},\n",
              " {'label': 1,\n",
              "  'text': 'December only! Had your mobile 11mths+? You are entitled to update to the latest colour camera mobile for Free! Call The Mobile Update Co FREE on 08002986906\\n'},\n",
              " {'label': 0, 'text': 'Coffee cake, i guess...\\n'},\n",
              " {'label': 0, 'text': 'Merry Christmas to you too babe, i love ya *kisses*\\n'},\n",
              " {'label': 0,\n",
              "  'text': 'Hey... Why dont we just go watch x men and have lunch... Haha \\n'},\n",
              " {'label': 0,\n",
              "  'text': 'cud u tell ppl im gona b a bit l8 cos 2 buses hav gon past cos they were full & im still waitin 4 1. Pete x\\n'},\n",
              " {'label': 0,\n",
              "  'text': \"That would be great. We'll be at the Guild. Could meet on Bristol road or somewhere - will get in touch over weekend. Our plans take flight! Have a good week\\n\"},\n",
              " {'label': 0, 'text': 'No problem. How are you doing?\\n'},\n",
              " {'label': 0, 'text': 'No calls..messages..missed calls\\n'},\n",
              " {'label': 0, 'text': 'Hi da:)how is the todays class?\\n'},\n",
              " {'label': 0,\n",
              "  'text': \"I'd say that's a good sign but, well, you know my track record at reading women\\n\"},\n",
              " {'label': 0, 'text': \"Cool, text me when you're parked\\n\"},\n",
              " {'label': 0,\n",
              "  'text': \"I'm reading the text i just sent you. Its meant to be a joke. So read it in that light\\n\"},\n",
              " {'label': 0, 'text': 'K.k:)apo k.good movie.\\n'},\n",
              " {'label': 0,\n",
              "  'text': 'Maybe i could get book out tomo then return it immediately ..? Or something.\\n'},\n",
              " {'label': 1,\n",
              "  'text': 'Call Germany for only 1 pence per minute! Call from a fixed line via access number 0844 861 85 85. No prepayment. Direct access!\\n'},\n",
              " {'label': 0,\n",
              "  'text': \"Any chance you might have had with me evaporated as soon as you violated my privacy by stealing my phone number from your employer's paperwork. Not cool at all. Please do not contact me again or I will report you to your supervisor.\\n\"},\n",
              " {'label': 1,\n",
              "  'text': 'Valentines Day Special! Win over £1000 in our quiz and take your partner on the trip of a lifetime! Send GO to 83600 now. 150p/msg rcvd. CustCare:08718720201.\\n'},\n",
              " {'label': 0, 'text': 'Ta-Daaaaa! I am home babe, are you still up ?\\n'},\n",
              " {'label': 0,\n",
              "  'text': 'Cool. So how come you havent been wined and dined before?\\n'},\n",
              " {'label': 0, 'text': 'Just sleeping..and surfing\\n'},\n",
              " {'label': 0, 'text': \"Sorry, I'll call later\\n\"},\n",
              " {'label': 0, 'text': 'U calling me right? Call my hand phone...\\n'},\n",
              " {'label': 0, 'text': \"Ok that's great thanx a lot.\\n\"},\n",
              " {'label': 0,\n",
              "  'text': 'I take it the post has come then! You must have 1000s of texts now! Happy reading. My one from wiv hello caroline at the end is my favourite. Bless him\\n'},\n",
              " {'label': 0, 'text': 'Where u been hiding stranger?\\n'},\n",
              " {'label': 0, 'text': 'Am not interested to do like that.\\n'},\n",
              " {'label': 0,\n",
              "  'text': 'My sister cleared two round in birla soft yesterday.\\n'},\n",
              " {'label': 0, 'text': 'Gudnite....tc...practice going on\\n'},\n",
              " {'label': 0,\n",
              "  'text': 'Dis is yijue. I jus saw ur mail. In case huiming havent sent u my num. Dis is my num.\\n'},\n",
              " {'label': 0, 'text': 'One small prestige problem now.\\n'},\n",
              " {'label': 1,\n",
              "  'text': 'Fancy a shag? I do.Interested? sextextuk.com txt XXUK SUZY to 69876. Txts cost 1.50 per msg. TnCs on website. X\\n'},\n",
              " {'label': 0,\n",
              "  'text': 'Just checking in on you. Really do miss seeing Jeremiah. Do have a great month\\n'},\n",
              " {'label': 0, 'text': \"Nah can't help you there, I've never had an iphone\\n\"},\n",
              " {'label': 0,\n",
              "  'text': \"If you're not in my car in an hour and a half I'm going apeshit\\n\"},\n",
              " {'label': 0,\n",
              "  'text': \"TODAY is Sorry day.! If ever i was angry with you, if ever i misbehaved or hurt you? plz plz JUST SLAP URSELF Bcoz, Its ur fault, I'm basically GOOD\\n\"},\n",
              " {'label': 0,\n",
              "  'text': 'Yo you guys ever figure out how much we need for alcohol? Jay and I are trying to figure out how much we can safely spend on weed\\n'},\n",
              " {'label': 0, 'text': '&lt;#&gt; ISH MINUTES WAS 5 MINUTES AGO. WTF.\\n'},\n",
              " {'label': 0,\n",
              "  'text': 'Thank You for calling.Forgot to say Happy Onam to you Sirji.I am fine here and remembered you when i met an insurance person.Meet You in Qatar Insha Allah.Rakhesh, ex Tata AIG who joined TISSCO,Tayseer.\\n'},\n",
              " {'label': 1,\n",
              "  'text': 'Congratulations ur awarded 500 of CD vouchers or 125gift guaranteed & Free entry 2 100 wkly draw txt MUSIC to 87066 TnCs www.Ldew.com1win150ppmx3age16\\n'},\n",
              " {'label': 1,\n",
              "  'text': 'Ur cash-balance is currently 500 pounds - to maximize ur cash-in now send CASH to 86688 only 150p/msg. CC: 08708800282 HG/Suite342/2Lands Row/W1J6HL\\n'},\n",
              " {'label': 0,\n",
              "  'text': \"I'm an actor. When i work, i work in the evening and sleep late. Since i'm unemployed at the moment, i ALWAYS sleep late. When you're unemployed, every day is saturday.\\n\"},\n",
              " {'label': 0,\n",
              "  'text': 'Hello! Just got here, st andrews-boy its a long way! Its cold. I will keep you posted\\n'},\n",
              " {'label': 0, 'text': 'Ha ha cool cool chikku chikku:-):-DB-)\\n'},\n",
              " {'label': 0, 'text': 'Oh ok no prob..\\n'},\n",
              " {'label': 0, 'text': \"Check audrey's status right now\\n\"},\n",
              " {'label': 0,\n",
              "  'text': 'Busy here. Trying to finish for new year. I am looking forward to finally meeting you...\\n'},\n",
              " {'label': 0,\n",
              "  'text': 'Good afternoon sunshine! How dawns that day ? Are we refreshed and happy to be alive? Do we breathe in the air and smile ? I think of you, my love ... As always\\n'},\n",
              " {'label': 0, 'text': 'Well i know Z will take care of me. So no worries.\\n'},\n",
              " {'label': 1,\n",
              "  'text': 'Update_Now - Xmas Offer! Latest Motorola, SonyEricsson & Nokia & FREE Bluetooth! Double Mins & 1000 Txt on Orange. Call MobileUpd8 on 08000839402 or call2optout/F4Q=\\n'},\n",
              " {'label': 1,\n",
              "  'text': 'Here is your discount code RP176781. To stop further messages reply stop. www.regalportfolio.co.uk. Customer Services 08717205546\\n'},\n",
              " {'label': 0, 'text': 'Wat uniform? In where get?\\n'},\n",
              " {'label': 0, 'text': \"Cool, text me when you're ready\\n\"},\n",
              " {'label': 0,\n",
              "  'text': 'Hello my boytoy ... Geeee I miss you already and I just woke up. I wish you were here in bed with me, cuddling me. I love you ...\\n'},\n",
              " {'label': 0, 'text': 'I will spoil you in bed as well :)\\n'},\n",
              " {'label': 0,\n",
              "  'text': \"I'm going for bath will msg you next  &lt;#&gt;  min..\\n\"},\n",
              " {'label': 0,\n",
              "  'text': 'I cant keep talking to people if am not sure i can pay them if they agree to price. So pls tell me what you want to really buy and how much you are willing to pay\\n'},\n",
              " {'label': 1,\n",
              "  'text': 'Thanks for your Ringtone Order, Reference T91. You will be charged GBP 4 per week. You can unsubscribe at anytime by calling customer services on 09057039994\\n'},\n",
              " {'label': 0, 'text': 'Can you say what happen\\n'},\n",
              " {'label': 0,\n",
              "  'text': \"You could have seen me..i did't recognise you Face.:)\\n\"},\n",
              " {'label': 0,\n",
              "  'text': \"Well there's not a lot of things happening in Lindsay on New years *sighs* Some bars in Ptbo and the blue heron has something going\\n\"},\n",
              " {'label': 0, 'text': 'Keep my payasam there if rinu brings\\n'},\n",
              " {'label': 0,\n",
              "  'text': 'I taught that Ranjith sir called me. So only i sms like that. Becaus hes verifying about project. Prabu told today so only pa dont mistake me..\\n'},\n",
              " {'label': 0,\n",
              "  'text': \"I guess that's why you re worried. You must know that there's a way the body repairs itself. And i'm quite sure you shouldn't worry. We'll take it slow. First the tests, they will guide when your ovulation is then just relax. Nothing you've said is a reason to worry but i.ll keep on followin you up.\\n\"},\n",
              " {'label': 0,\n",
              "  'text': 'Yeah sure, give me a couple minutes to track down my wallet\\n'},\n",
              " {'label': 0, 'text': 'Hey leave it. not a big deal:-) take care.\\n'},\n",
              " {'label': 0, 'text': 'Hey i will be late ah... Meet you at 945+\\n'},\n",
              " {'label': 1,\n",
              "  'text': 'Double mins and txts 4 6months FREE Bluetooth on Orange. Available on Sony, Nokia Motorola phones. Call MobileUpd8 on 08000839402 or call2optout/N9DX\\n'},\n",
              " {'label': 0, 'text': 'It took Mr owl 3 licks\\n'},\n",
              " {'label': 0, 'text': 'Customer place i will call you.\\n'},\n",
              " {'label': 0, 'text': 'Mm that time you dont like fun\\n'},\n",
              " {'label': 1,\n",
              "  'text': '4mths half price Orange line rental & latest camera phones 4 FREE. Had your phone 11mths ? Call MobilesDirect free on 08000938767 to update now! or2stoptxt\\n'},\n",
              " {'label': 0, 'text': 'Yup having my lunch buffet now.. U eat already?\\n'},\n",
              " {'label': 0, 'text': 'Huh so late... Fr dinner?\\n'},\n",
              " {'label': 0,\n",
              "  'text': 'Hey so this sat are we going for the intro pilates only? Or the kickboxing too? \\n'},\n",
              " {'label': 0, 'text': 'Morning only i can ok.\\n'},\n",
              " {'label': 0,\n",
              "  'text': 'Yes i think so. I am in office but my lap is in room i think thats on for the last few days. I didnt shut that down\\n'},\n",
              " {'label': 0,\n",
              "  'text': 'Pick you up bout 7.30ish? What time are  and that going?\\n'},\n",
              " {'label': 0,\n",
              "  'text': 'From here after The performance award is calculated every two month.not for current one month period..\\n'},\n",
              " {'label': 0,\n",
              "  'text': 'Was actually sleeping and still might when u call back. So a text is gr8. You rock sis. Will send u a text wen i wake.\\n'},\n",
              " {'label': 0,\n",
              "  'text': \"You are always putting your business out there. You put pictures of your ass on facebook. You are one of the most open people i've ever met. Why would i think a picture of your room would hurt you, make you feel violated.\\n\"},\n",
              " {'label': 0,\n",
              "  'text': 'Good evening Sir, Al Salam Wahleykkum.sharing a happy news.By the grace of God, i got an offer from Tayseer,TISSCO and i joined.Hope you are fine.Inshah Allah,meet you sometime.Rakhesh,visitor from India.\\n'},\n",
              " {'label': 0,\n",
              "  'text': 'Hmmm...k...but i want to change the field quickly da:-)i wanna get system administrator or network administrator..\\n'},\n",
              " {'label': 1,\n",
              "  'text': 'FREE RINGTONE text FIRST to 87131 for a poly or text GET to 87131 for a true tone! Help? 0845 2814032 16 after 1st free, tones are 3x£150pw to e£nd txt stop\\n'},\n",
              " {'label': 0, 'text': 'Dear how is chechi. Did you talk to her\\n'},\n",
              " {'label': 0, 'text': 'The hair cream has not been shipped.\\n'},\n",
              " {'label': 0, 'text': \"None of that's happening til you get here though\\n\"},\n",
              " {'label': 0,\n",
              "  'text': 'Yep, the great loxahatchee xmas tree burning of  &lt;#&gt;  starts in an hour\\n'},\n",
              " {'label': 0,\n",
              "  'text': 'Haha get used to driving to usf man, I know a lot of stoners\\n'},\n",
              " {'label': 0,\n",
              "  'text': \"All was well until slightly disastrous class this pm with my fav darlings! Hope day off ok. Coffee wld be good as can't stay late tomorrow. Same time + place as always?\\n\"},\n",
              " {'label': 0, 'text': 'Hello! Good week? Fancy a drink or something later?\\n'},\n",
              " {'label': 0, 'text': 'Headin towards busetop\\n'},\n",
              " {'label': 0,\n",
              "  'text': 'Message:some text missing* Sender:Name Missing* *Number Missing *Sent:Date missing *Missing U a lot thats y everything is missing sent via fullonsms.com\\n'},\n",
              " {'label': 0,\n",
              "  'text': 'Come by our room at some point so we can iron out the plan for this weekend\\n'},\n",
              " {'label': 0, 'text': 'Cos i want it to be your thing\\n'},\n",
              " {'label': 0,\n",
              "  'text': \"Okies... I'll go yan jiu too... We can skip ard oso, go cine den go mrt one, blah blah blah... \\n\"},\n",
              " {'label': 0, 'text': 'Bring home some Wendy =D\\n'},\n",
              " {'label': 1, 'text': '100 dating service cal;l 09064012103 box334sk38ch\\n'},\n",
              " {'label': 0, 'text': 'Whatsup there. Dont u want to sleep\\n'},\n",
              " {'label': 0, 'text': 'Alright i have a new goal now\\n'},\n",
              " {'label': 1,\n",
              "  'text': 'FREE entry into our £250 weekly competition just text the word WIN to 80086 NOW. 18 T&C www.txttowin.co.uk\\n'},\n",
              " {'label': 0,\n",
              "  'text': \"Alright, I'll head out in a few minutes, text me where to meet you\\n\"},\n",
              " {'label': 1,\n",
              "  'text': 'Send a logo 2 ur lover - 2 names joined by a heart. Txt LOVE NAME1 NAME2 MOBNO eg LOVE ADAM EVE 07123456789 to 87077 Yahoo! POBox36504W45WQ TxtNO 4 no ads 150p\\n'},\n",
              " {'label': 0, 'text': \"Yes:)from last week itself i'm taking live call.\\n\"},\n",
              " {'label': 1,\n",
              "  'text': 'Someone has contacted our dating service and entered your phone because they fancy you! To find out who it is call from a landline 09111032124 . PoBox12n146tf150p\\n'},\n",
              " {'label': 0, 'text': 'Siva is in hostel aha:-.\\n'},\n",
              " {'label': 1,\n",
              "  'text': 'URGENT! Your Mobile number has been awarded with a £2000 prize GUARANTEED. Call 09058094455 from land line. Claim 3030. Valid 12hrs only\\n'},\n",
              " {'label': 0,\n",
              "  'text': 'Send this to ur friends and receive something about ur voice..... How is my speaking expression? 1.childish 2.naughty 3.Sentiment 4.rowdy 5.ful of attitude 6.romantic 7.shy 8.Attractive 9.funny  &lt;#&gt; .irritating  &lt;#&gt; .lovable. reply me..\\n'},\n",
              " {'label': 0, 'text': \"Ok. She'll be ok. I guess\\n\"},\n",
              " {'label': 0, 'text': 'aathi..where are you dear..\\n'},\n",
              " {'label': 0, 'text': 'Any pain on urination any thing else?\\n'},\n",
              " {'label': 0,\n",
              "  'text': '7 at esplanade.. Do ü mind giving me a lift cos i got no car today..\\n'},\n",
              " {'label': 0,\n",
              "  'text': 'I wnt to buy a BMW car urgently..its vry urgent.but hv a shortage of  &lt;#&gt; Lacs.there is no source to arng dis amt. &lt;#&gt; lacs..thats my prob\\n'},\n",
              " {'label': 0, 'text': 'At home watching tv lor.\\n'},\n",
              " {'label': 0,\n",
              "  'text': 'Does she usually take fifteen fucking minutes to respond to a yes or no question\\n'},\n",
              " {'label': 1,\n",
              "  'text': 'Congrats! Nokia 3650 video camera phone is your Call 09066382422 Calls cost 150ppm Ave call 3mins vary from mobiles 16+ Close 300603 post BCM4284 Ldn WC1N3XX\\n'},\n",
              " {'label': 0, 'text': 'Booked ticket for pongal?\\n'},\n",
              " {'label': 0,\n",
              "  'text': \"You available now? I'm like right around hillsborough &amp;  &lt;#&gt; th\\n\"},\n",
              " {'label': 0,\n",
              "  'text': 'The message sent is askin for  &lt;#&gt; dollars. Shoul i pay  &lt;#&gt;  or  &lt;#&gt; ?\\n'},\n",
              " {'label': 0,\n",
              "  'text': \"Ask g or iouri, I've told the story like ten times already\\n\"},\n",
              " {'label': 0, 'text': 'How long does applebees fucking take\\n'},\n",
              " {'label': 0,\n",
              "  'text': 'Hi hope u get this txt~journey hasnt been gd,now about 50 mins late I think.\\n'},\n",
              " {'label': 0, 'text': 'But i have to. I like to have love and arrange.\\n'},\n",
              " {'label': 0,\n",
              "  'text': 'Yes..he is really great..bhaji told kallis best cricketer after sachin in world:).very tough to get out.\\n'},\n",
              " {'label': 0, 'text': 'You were supposed to wake ME up &gt;:(\\n'},\n",
              " {'label': 0,\n",
              "  'text': 'Oic... I saw him too but i tot he din c me... I found a group liao...\\n'},\n",
              " {'label': 0, 'text': \"Sorry, I'll call later\\n\"},\n",
              " {'label': 0,\n",
              "  'text': '\"HEY HEY WERETHE MONKEESPEOPLE SAY WE MONKEYAROUND! HOWDY GORGEOUS, HOWU DOIN? FOUNDURSELF A JOBYET SAUSAGE?LOVE JEN XXX\"\\n'},\n",
              " {'label': 0,\n",
              "  'text': \"Sorry, my battery died, I can come by but I'm only getting a gram for now, where's your place?\\n\"},\n",
              " {'label': 0,\n",
              "  'text': 'Well done, blimey, exercise, yeah, i kinda remember wot that is, hmm. \\n'},\n",
              " {'label': 0,\n",
              "  'text': 'I wont get concentration dear you know you are my mind and everything :-)\\n'},\n",
              " {'label': 0, 'text': 'LOL ... Have you made plans for new years?\\n'},\n",
              " {'label': 0, 'text': '10 min later k...\\n'},\n",
              " {'label': 0, 'text': 'hanks lotsly!\\n'},\n",
              " {'label': 0, 'text': 'Thanks for this hope you had a good day today\\n'},\n",
              " {'label': 0,\n",
              "  'text': 'K:)k:)what are detail you want to transfer?acc no enough?\\n'},\n",
              " {'label': 0,\n",
              "  'text': 'Ok i will tell her to stay out. Yeah its been tough but we are optimistic things will improve this month.\\n'},\n",
              " {'label': 1,\n",
              "  'text': \"Loan for any purpose £500 - £75,000. Homeowners + Tenants welcome. Have you been previously refused? We can still help. Call Free 0800 1956669 or text back 'help'\\n\"},\n",
              " {'label': 0, 'text': 'Si si. I think ill go make those oreo truffles.\\n'},\n",
              " {'label': 0,\n",
              "  'text': 'LOOK AT AMY URE A BEAUTIFUL, INTELLIGENT WOMAN AND I LIKE U A LOT. I KNOW U DON\\x92T LIKE ME LIKE THAT SO DON\\x92T WORRY.\\n'},\n",
              " {'label': 0,\n",
              "  'text': \"I hope you that's the result of being consistently intelligent and kind. Start asking him about practicum links and keep your ears open and all the best. ttyl\\n\"},\n",
              " {'label': 0,\n",
              "  'text': '1.20 that call cost. Which i guess isnt bad. Miss ya, need ya, want ya, love ya\\n'},\n",
              " {'label': 0,\n",
              "  'text': 'Going thru a very different feeling.wavering decisions and coping up with the same is the same individual.time will heal everything i believe.\\n'},\n",
              " {'label': 0,\n",
              "  'text': 'Where did u go? My phone is gonna die you have to stay in here\\n'},\n",
              " {'label': 0,\n",
              "  'text': 'Great. Never been better. Each day gives even more reasons to thank God\\n'},\n",
              " {'label': 1,\n",
              "  'text': \"UpgrdCentre Orange customer, you may now claim your FREE CAMERA PHONE upgrade for your loyalty. Call now on 0207 153 9153. Offer ends 26th July. T&C's apply. Opt-out available\\n\"},\n",
              " {'label': 0, 'text': \"Sorry, I'll call later ok bye\\n\"},\n",
              " {'label': 0, 'text': 'Ok i am on the way to railway\\n'},\n",
              " {'label': 0,\n",
              "  'text': 'great princess! I love giving and receiving oral. Doggy style is my fave position. How about you? I enjoy making love  &lt;#&gt;  times per night :)\\n'},\n",
              " {'label': 0,\n",
              "  'text': \"They don't put that stuff on the roads to keep it from getting slippery over there?\\n\"},\n",
              " {'label': 0, 'text': 'When are you going to ride your bike?\\n'},\n",
              " {'label': 0, 'text': \"Yup, no need. I'll jus wait 4 e rain 2 stop.\\n\"},\n",
              " {'label': 0, 'text': 'There are many company. Tell me the language.\\n'},\n",
              " {'label': 1,\n",
              "  'text': 'okmail: Dear Dave this is your final notice to collect your 4* Tenerife Holiday or #5000 CASH award! Call 09061743806 from landline. TCs SAE Box326 CW25WX 150ppm\\n'},\n",
              " {'label': 0, 'text': 'How long has it been since you screamed, princess?\\n'},\n",
              " {'label': 0,\n",
              "  'text': 'Nothing. I meant that once the money enters your account here, the bank will remove its flat rate. Someone transfered  &lt;#&gt;  to my account and  &lt;#&gt; dollars got removed. So the banks differ and charges also differ.be sure you trust the 9ja person you are sending account details to cos...\\n'},\n",
              " {'label': 1,\n",
              "  'text': \"Want 2 get laid tonight? Want real Dogging locations sent direct 2 ur Mob? Join the UK's largest Dogging Network by txting MOAN to 69888Nyt. ec2a. 31p.msg@150p\\n\"},\n",
              " {'label': 0,\n",
              "  'text': \"Nice line said by a broken heart- Plz don't cum 1 more times infront of me... Other wise once again I ll trust U... Good 9t:)\\n\"},\n",
              " {'label': 0, 'text': \"Ok I'm gonna head up to usf in like fifteen minutes\\n\"},\n",
              " {'label': 0, 'text': 'Love you aathi..love u lot..\\n'},\n",
              " {'label': 0, 'text': 'Tension ah?what machi?any problem?\\n'},\n",
              " {'label': 0, 'text': \"K, can I pick up another 8th when you're done?\\n\"},\n",
              " {'label': 0,\n",
              "  'text': \"When're you guys getting back? G said you were thinking about not staying for mcr\\n\"},\n",
              " {'label': 0, 'text': 'Almost there, see u in a sec\\n'},\n",
              " {'label': 0,\n",
              "  'text': 'Yo carlos, a few friends are already asking me about you, you working at all this weekend?\\n'},\n",
              " {'label': 0, 'text': 'Watching tv lor...\\n'},\n",
              " {'label': 0,\n",
              "  'text': 'Thank you baby! I cant wait to taste the real thing...\\n'},\n",
              " {'label': 0,\n",
              "  'text': 'You should change your fb to jaykwon thuglyfe falconerf\\n'},\n",
              " {'label': 0, 'text': 'If we win its really no 1 side for long time.\\n'},\n",
              " {'label': 1,\n",
              "  'text': 'FREE MESSAGE Activate your 500 FREE Text Messages by replying to this message with the word FREE For terms & conditions, visit www.07781482378.com\\n'},\n",
              " {'label': 0, 'text': 'Dear reached railway. What happen to you\\n'},\n",
              " {'label': 0,\n",
              "  'text': 'Depends on quality. If you want the type i sent boye, faded glory, then about 6. If you want ralphs maybe 2\\n'},\n",
              " {'label': 0, 'text': \"I think i've fixed it can you send a test message?\\n\"},\n",
              " {'label': 0,\n",
              "  'text': \"Sorry man my account's dry or I would, if you want we could trade back half or I could buy some shit with my credit card\\n\"},\n",
              " {'label': 1,\n",
              "  'text': 'Congrats! 1 year special cinema pass for 2 is yours. call 09061209465 now! C Suprman V, Matrix3, StarWars3, etc all 4 FREE! bx420-ip4-5we. 150pm. Dont miss out!\\n'},\n",
              " {'label': 0, 'text': \"Sorry,in meeting I'll call later\\n\"},\n",
              " {'label': 0, 'text': 'What class of  &lt;#&gt;  reunion?\\n'},\n",
              " {'label': 0, 'text': 'Are you free now?can i call now?\\n'},\n",
              " {'label': 0, 'text': 'Got meh... When?\\n'},\n",
              " {'label': 0,\n",
              "  'text': 'Nope... Think i will go for it on monday... Sorry i replied so late\\n'},\n",
              " {'label': 0,\n",
              "  'text': 'Some of them told accenture is not confirm. Is it true.\\n'},\n",
              " {'label': 0, 'text': 'Kate jackson rec center before 7ish, right?\\n'},\n",
              " {'label': 0, 'text': 'Dear i have reache room\\n'},\n",
              " {'label': 0,\n",
              "  'text': 'Fighting with the world is easy, u either win or lose bt fightng with some1 who is close to u is dificult if u lose - u lose if u win - u still lose.\\n'},\n",
              " {'label': 0, 'text': 'When can ü come out?\\n'},\n",
              " {'label': 0, 'text': 'Check with nuerologist.\\n'},\n",
              " {'label': 0, 'text': 'Lolnice. I went from a fish to ..water.?\\n'},\n",
              " {'label': 1,\n",
              "  'text': \"+123 Congratulations - in this week's competition draw u have won the £1450 prize to claim just call 09050002311 b4280703. T&Cs/stop SMS 08718727868. Over 18 only 150ppm\\n\"},\n",
              " {'label': 0,\n",
              "  'text': \"No it's waiting in e car dat's bored wat. Cos wait outside got nothing 2 do. At home can do my stuff or watch tv wat.\\n\"},\n",
              " {'label': 0,\n",
              "  'text': 'Maybe westshore or hyde park village, the place near my house?\\n'},\n",
              " {'label': 0,\n",
              "  'text': \"You should know now. So how's anthony. Are you bringing money. I've school fees to pay and rent and stuff like that. Thats why i need your help. A friend in need....|\\n\"},\n",
              " {'label': 0, 'text': \"What's the significance?\\n\"},\n",
              " {'label': 0,\n",
              "  'text': 'Your opinion about me? 1. Over 2. Jada 3. Kusruthi 4. Lovable 5. Silent 6. Spl character 7. Not matured 8. Stylish 9. Simple Pls reply..\\n'},\n",
              " {'label': 0,\n",
              "  'text': \"8 at the latest, g's still there if you can scrounge up some ammo and want to give the new ak a try\\n\"},\n",
              " {'label': 0, 'text': \"Prabha..i'm soryda..realy..frm heart i'm sory\\n\"},\n",
              " {'label': 0, 'text': 'Lol ok your forgiven :)\\n'},\n",
              " {'label': 0, 'text': 'No..jst change tat only..\\n'},\n",
              " {'label': 1,\n",
              "  'text': 'You are guaranteed the latest Nokia Phone, a 40GB iPod MP3 player or a £500 prize! Txt word: COLLECT to No: 83355! IBHltd LdnW15H 150p/Mtmsgrcvd18+\\n'},\n",
              " {'label': 0, 'text': 'S:)no competition for him.\\n'},\n",
              " {'label': 1,\n",
              "  'text': 'Boltblue tones for 150p Reply POLY# or MONO# eg POLY3 1. Cha Cha Slide 2. Yeah 3. Slow Jamz 6. Toxic 8. Come With Me or STOP 4 more tones txt MORE\\n'},\n",
              " {'label': 1,\n",
              "  'text': 'Your credits have been topped up for http://www.bubbletext.com Your renewal Pin is tgxxrz\\n'},\n",
              " {'label': 0,\n",
              "  'text': 'That way transport is less problematic than on sat night. By the way, if u want to ask  n  to join my bday, feel free. But need to know definite nos as booking on fri. \\n'},\n",
              " {'label': 0,\n",
              "  'text': \"Usually the person is unconscious that's in children but in adults they may just behave abnormally. I.ll call you now\\n\"},\n",
              " {'label': 0, 'text': \"But that's on ebay it might be less elsewhere.\\n\"},\n",
              " {'label': 0, 'text': 'Shall i come to get pickle\\n'},\n",
              " {'label': 0, 'text': 'Were gonna go get some tacos\\n'},\n",
              " {'label': 0, 'text': \"That's very rude, you on campus?\\n\"},\n",
              " {'label': 1,\n",
              "  'text': 'URGENT!: Your Mobile No. was awarded a £2,000 Bonus Caller Prize on 02/09/03! This is our 2nd attempt to contact YOU! Call 0871-872-9755 BOX95QU\\n'},\n",
              " {'label': 0,\n",
              "  'text': \"Hi i won't b ard 4 christmas. But do enjoy n merry x'mas.\\n\"},\n",
              " {'label': 1,\n",
              "  'text': \"Today's Offer! Claim ur £150 worth of discount vouchers! Text YES to 85023 now! SavaMob, member offers mobile! T Cs 08717898035. £3.00 Sub. 16 . Unsub reply X\\n\"},\n",
              " {'label': 0, 'text': 'Yes! How is a pretty lady like you single?\\n'},\n",
              " {'label': 1,\n",
              "  'text': 'You will recieve your tone within the next 24hrs. For Terms and conditions please see Channel U Teletext Pg 750\\n'},\n",
              " {'label': 0, 'text': \"Jay says that you're a double-faggot\\n\"},\n",
              " {'label': 1,\n",
              "  'text': 'PRIVATE! Your 2003 Account Statement for 07815296484 shows 800 un-redeemed S.I.M. points. Call 08718738001 Identifier Code 41782 Expires 18/11/04 \\n'},\n",
              " {'label': 0, 'text': 'What Today-sunday..sunday is holiday..so no work..\\n'},\n",
              " {'label': 0, 'text': 'Gudnite....tc...practice going on\\n'},\n",
              " {'label': 0, 'text': \"I'll be late...\\n\"},\n",
              " {'label': 0,\n",
              "  'text': \"I've not called you in a while. This is hoping it was l8r malaria and that you know that we miss you guys. I miss Bani big, so pls give her my love especially. Have a great day.\\n\"},\n",
              " {'label': 0,\n",
              "  'text': 'Good afternoon, my love! How goes that day ? I hope maybe you got some leads on a job. I think of you, boytoy and send you a passionate kiss from across the sea\\n'},\n",
              " {'label': 0,\n",
              "  'text': 'Probably gonna be here for a while, see you later tonight &lt;)\\n'},\n",
              " {'label': 0,\n",
              "  'text': \"Or maybe my fat fingers just press all these buttons and it doesn't know what to do.\\n\"},\n",
              " {'label': 0,\n",
              "  'text': 'Ummmmmaah Many many happy returns of d day my dear sweet heart.. HAPPY BIRTHDAY dear\\n'},\n",
              " {'label': 0,\n",
              "  'text': 'I am in tirupur da, once you started from office call me.\\n'},\n",
              " {'label': 1,\n",
              "  'text': 'from www.Applausestore.com MonthlySubscription@50p/msg max6/month T&CsC web age16 2stop txt stop\\n'},\n",
              " {'label': 0,\n",
              "  'text': \"A famous quote : when you develop the ability to listen to 'anything' unconditionally without losing your temper or self confidence, it means you are ......... 'MARRIED'\\n\"},\n",
              " {'label': 0,\n",
              "  'text': 'But am going to college pa. What to do. are else ill come there it self. Pa.\\n'},\n",
              " {'label': 0, 'text': '4 oclock at mine. Just to bash out a flat plan.\\n'},\n",
              " {'label': 0,\n",
              "  'text': \"This girl does not stay in bed. This girl doesn't need recovery time. Id rather pass out while having fun then be cooped up in bed\\n\"},\n",
              " {'label': 0, 'text': 'Then any special there?\\n'},\n",
              " {'label': 0,\n",
              "  'text': \"I know but you need to get hotel now. I just got my invitation but i had to apologise. Cali is to sweet for me to come to some english bloke's weddin\\n\"},\n",
              " {'label': 0, 'text': 'Sorry that took so long, omw now\\n'},\n",
              " {'label': 0, 'text': 'Wait  &lt;#&gt;  min..\\n'},\n",
              " {'label': 0,\n",
              "  'text': \"Ok give me 5 minutes I think I see her. BTW you're my alibi. You were cutting my hair the whole time.\\n\"},\n",
              " {'label': 0,\n",
              "  'text': 'Imagine you finally get to sink into that bath after I have put you through your paces, maybe even having you eat me for a while before I left ... But also imagine the feel of that cage on your cock surrounded by the bath water, reminding you always who owns you ... Enjoy, my cuck\\n'},\n",
              " {'label': 0,\n",
              "  'text': \"Hurry up, I've been weed-deficient for like three days\\n\"},\n",
              " {'label': 0,\n",
              "  'text': \"Sure, if I get an acknowledgement from you that it's astoundingly tactless and generally faggy to demand a blood oath fo\\n\"},\n",
              " {'label': 0,\n",
              "  'text': \"Ok. Every night take a warm bath drink a cup of milk and you'll see a work of magic. You still need to loose weight. Just so that you know\\n\"},\n",
              " {'label': 0,\n",
              "  'text': 'I‘ll have a look at the frying pan in case it‘s cheap or a book perhaps. No that‘s silly a frying pan isn‘t likely to be a book\\n'},\n",
              " {'label': 0,\n",
              "  'text': 'O. Well uv causes mutations. Sunscreen is like essential thesedays\\n'},\n",
              " {'label': 0, 'text': 'Having lunch:)you are not in online?why?\\n'},\n",
              " {'label': 0, 'text': 'I know that my friend already told that.\\n'},\n",
              " {'label': 0,\n",
              "  'text': 'Hi Princess! Thank you for the pics. You are very pretty. How are you?\\n'},\n",
              " {'label': 0,\n",
              "  'text': 'Aiyo... U always c our ex one... I dunno abt mei, she haven reply... First time u reply so fast... Y so lucky not workin huh, got bao by ur sugardad ah...gee.. \\n'},\n",
              " {'label': 0, 'text': \"Hi msg me:)i'm in office..\\n\"},\n",
              " {'label': 0, 'text': \"Thanx 4 e brownie it's v nice...\\n\"},\n",
              " {'label': 0, 'text': 'Geeeee ... I love you so much I can barely stand it\\n'},\n",
              " {'label': 1,\n",
              "  'text': 'GENT! We are trying to contact you. Last weekends draw shows that you won a £1000 prize GUARANTEED. Call 09064012160. Claim Code K52. Valid 12hrs only. 150ppm \\n'},\n",
              " {'label': 0,\n",
              "  'text': \"Fuck babe ... I miss you already, you know ? Can't you let me send you some money towards your net ? I need you ... I want you ... I crave you ...\\n\"},\n",
              " {'label': 0,\n",
              "  'text': 'Ill call u 2mrw at ninish, with my address that icky American freek wont stop callin me 2 bad Jen k eh?\\n'},\n",
              " {'label': 0, 'text': 'Oooh bed ridden ey? What are YOU thinking of?\\n'},\n",
              " {'label': 0,\n",
              "  'text': 'So anyways, you can just go to your gym or whatever, my love *smiles* I hope your ok and having a good day babe ... I miss you so much already\\n'},\n",
              " {'label': 0,\n",
              "  'text': 'Love it! Daddy will make you scream with pleasure! I am going to slap your ass with my dick!\\n'},\n",
              " {'label': 0, 'text': 'WOT U WANNA DO THEN MISSY?\\n'},\n",
              " {'label': 0,\n",
              "  'text': 'Yar lor wait 4 my mum 2 finish sch then have lunch lor... I whole morning stay at home clean my room now my room quite clean... Hee...\\n'},\n",
              " {'label': 0, 'text': 'Do you know where my lab goggles went\\n'},\n",
              " {'label': 0, 'text': 'Can you open the door?\\n'},\n",
              " {'label': 0, 'text': 'Waiting for your call.\\n'},\n",
              " {'label': 0, 'text': 'Nope i waiting in sch 4 daddy... \\n'},\n",
              " {'label': 1,\n",
              "  'text': 'You have won ?1,000 cash or a ?2,000 prize! To claim, call09050000327\\n'},\n",
              " {'label': 0,\n",
              "  'text': \"I'm tired of arguing with you about this week after week. Do what you want and from now on, i'll do the same.\\n\"},\n",
              " {'label': 0, 'text': 'Ü wait 4 me in sch i finish ard 5..\\n'},\n",
              " {'label': 1,\n",
              "  'text': 'our mobile number has won £5000, to claim calls us back or ring the claims hot line on 09050005321.\\n'},\n",
              " {'label': 0,\n",
              "  'text': 'Arngd marriage is while u r walkin unfortuntly a snake bites u. bt love marriage is dancing in frnt of d snake &amp; sayin Bite me, bite me.\\n'},\n",
              " {'label': 0, 'text': 'Huh so early.. Then ü having dinner outside izzit?\\n'},\n",
              " {'label': 0, 'text': 'Ok anyway no need to change with what you said\\n'},\n",
              " {'label': 1,\n",
              "  'text': 'We tried to contact you re your reply to our offer of 750 mins 150 textand a new video phone call 08002988890 now or reply for free delivery tomorrow\\n'},\n",
              " {'label': 0,\n",
              "  'text': 'my ex-wife was not able to have kids. Do you want kids one day?\\n'},\n",
              " {'label': 0,\n",
              "  'text': \"So how's scotland. Hope you are not over showing your JJC tendencies. Take care. Live the dream\\n\"},\n",
              " {'label': 0,\n",
              "  'text': 'Tell them u have a headache and just want to use 1 hour of sick time.\\n'},\n",
              " {'label': 0,\n",
              "  'text': \"I dun thk i'll quit yet... Hmmm, can go jazz ? Yogasana oso can... We can go meet em after our lessons den... \\n\"},\n",
              " {'label': 0,\n",
              "  'text': '\"Pete can you please ring meive hardly gotany credit\"\\n'},\n",
              " {'label': 0, 'text': 'Ya srsly better than yi tho\\n'},\n",
              " {'label': 0, 'text': \"I'm in a meeting, call me later at\\n\"},\n",
              " {'label': 1,\n",
              "  'text': \"For ur chance to win a £250 wkly shopping spree TXT: SHOP to 80878. T's&C's www.txt-2-shop.com custcare 08715705022, 1x150p/wk\\n\"},\n",
              " {'label': 1,\n",
              "  'text': 'You have been specially selected to receive a 2000 pound award! Call 08712402050 BEFORE the lines close. Cost 10ppm. 16+. T&Cs apply. AG Promo\\n'},\n",
              " {'label': 1,\n",
              "  'text': 'PRIVATE! Your 2003 Account Statement for 07753741225 shows 800 un-redeemed S. I. M. points. Call 08715203677 Identifier Code: 42478 Expires 24/10/04\\n'},\n",
              " {'label': 0, 'text': 'You still at grand prix?\\n'},\n",
              " {'label': 0,\n",
              "  'text': 'I met you as a stranger and choose you as my friend. As long as the world stands, our friendship never ends. Lets be Friends forever!!! Gud nitz...\\n'},\n",
              " {'label': 0, 'text': 'I am great! How are you?\\n'},\n",
              " {'label': 0, 'text': 'Gud mrng dear have a nice day\\n'},\n",
              " {'label': 1,\n",
              "  'text': 'You have an important customer service announcement. Call FREEPHONE 0800 542 0825 now!\\n'},\n",
              " {'label': 0,\n",
              "  'text': 'Will do. Was exhausted on train this morning. Too much wine and pie. You sleep well too\\n'},\n",
              " {'label': 0, 'text': \"I'm going out to buy mum's present ar.\\n\"},\n",
              " {'label': 0,\n",
              "  'text': 'Mind blastin.. No more Tsunamis will occur from now on.. Rajnikant stopped swimming in Indian Ocean..:-D\\n'},\n",
              " {'label': 0,\n",
              "  'text': \"If u sending her home first it's ok lor. I'm not ready yet.\\n\"},\n",
              " {'label': 0, 'text': 'Speaking of does he have any cash yet?\\n'},\n",
              " {'label': 0, 'text': 'Be happy there. I will come after noon\\n'},\n",
              " {'label': 0, 'text': 'Meet after lunch la...\\n'},\n",
              " {'label': 0, 'text': 'TaKe CaRE n gET WeLL sOOn\\n'},\n",
              " {'label': 1,\n",
              "  'text': 'XCLUSIVE@CLUBSAISAI 2MOROW 28/5 SOIREE SPECIALE ZOUK WITH NICHOLS FROM PARIS.FREE ROSES 2 ALL LADIES !!! info: 07946746291/07880867867 \\n'},\n",
              " {'label': 0,\n",
              "  'text': 'what I meant to say is cant wait to see u again getting bored of this bridgwater banter\\n'},\n",
              " {'label': 0, 'text': \"Neva mind it's ok..\\n\"},\n",
              " {'label': 0,\n",
              "  'text': \"It's fine, imma get a drink or somethin. Want me to come find you?\\n\"},\n",
              " {'label': 1,\n",
              "  'text': '22 days to kick off! For Euro2004 U will be kept up to date with the latest news and results daily. To be removed send GET TXT STOP to 83222\\n'},\n",
              " {'label': 0,\n",
              "  'text': 'Its a valentine game. . . Send dis msg to all ur friends. .. If 5 answers r d same then someone really loves u. Ques- which colour suits me the best?rply me\\n'},\n",
              " {'label': 0, 'text': 'I have many dependents\\n'},\n",
              " {'label': 0,\n",
              "  'text': 'THANX4 TODAY CER IT WAS NICE 2 CATCH UP BUT WE AVE 2 FIND MORE TIME MORE OFTEN OH WELL TAKE CARE C U SOON.C\\n'},\n",
              " {'label': 0,\n",
              "  'text': 'I called and said all to him:)then he have to choose this future.\\n'},\n",
              " {'label': 0,\n",
              "  'text': '\"Happy valentines day\" I know its early but i have hundreds of handsomes and beauties to wish. So i thought to finish off aunties and uncles 1st...\\n'},\n",
              " {'label': 0,\n",
              "  'text': 'He like not v shock leh. Cos telling shuhui is like telling leona also. Like dat almost all know liao. He got ask me abt ur reaction lor.\\n'},\n",
              " {'label': 0, 'text': 'For my family happiness..\\n'},\n",
              " {'label': 0,\n",
              "  'text': 'I come n pick ü up... Come out immediately aft ur lesson...\\n'},\n",
              " {'label': 0,\n",
              "  'text': 'Let there be snow. Let there be snow. This kind of weather brings ppl together so friendships can grow.\\n'},\n",
              " {'label': 0, 'text': 'Dear we got  &lt;#&gt;  dollars hi hi\\n'},\n",
              " {'label': 0,\n",
              "  'text': 'Good words.... But words may leave u in dismay many times.\\n'},\n",
              " {'label': 0,\n",
              "  'text': \"MAKE SURE ALEX KNOWS HIS BIRTHDAY IS OVER IN FIFTEEN MINUTES AS FAR AS YOU'RE CONCERNED\\n\"},\n",
              " {'label': 0,\n",
              "  'text': 'sorry, no, have got few things to do. may be in pub later.\\n'},\n",
              " {'label': 0,\n",
              "  'text': \"Nah it's straight, if you can just bring bud or drinks or something that's actually a little more useful than straight cash\\n\"},\n",
              " {'label': 0,\n",
              "  'text': \"Haha good to hear, I'm officially paid and on the market for an 8th\\n\"},\n",
              " {'label': 0,\n",
              "  'text': 'How many licks does it take to get to the center of a tootsie pop?\\n'},\n",
              " {'label': 0,\n",
              "  'text': 'Yup i thk they r e teacher said that will make my face look longer. Darren ask me not 2 cut too short.\\n'},\n",
              " {'label': 1,\n",
              "  'text': 'New TEXTBUDDY Chat 2 horny guys in ur area 4 just 25p Free 2 receive Search postcode or at gaytextbuddy.com. TXT ONE name to 89693\\n'},\n",
              " {'label': 1,\n",
              "  'text': 'Todays Vodafone numbers ending with 4882 are selected to a receive a £350 award. If your number matches call 09064019014 to receive your £350 award.\\n'},\n",
              " {'label': 0, 'text': 'Please dont say like that. Hi hi hi\\n'},\n",
              " {'label': 0, 'text': 'Thank u!\\n'},\n",
              " {'label': 0,\n",
              "  'text': 'Oh that was a forwarded message. I thought you send that to me\\n'},\n",
              " {'label': 0,\n",
              "  'text': 'Got it. Seventeen pounds for seven hundred ml – hope ok.\\n'},\n",
              " {'label': 1,\n",
              "  'text': 'Dear Voucher Holder, 2 claim this weeks offer, at your PC go to http://www.e-tlp.co.uk/expressoffer Ts&Cs apply.2 stop texts txt STOP to 80062.\\n'},\n",
              " {'label': 0, 'text': 'Me n him so funny...\\n'},\n",
              " {'label': 0,\n",
              "  'text': 'Sweetheart, hope you are not having that kind of day! Have one with loads of reasons to smile. Biola\\n'},\n",
              " {'label': 0, 'text': 'When ü login dat time... Dad fetching ü home now?\\n'},\n",
              " {'label': 0, 'text': 'What will we do in the shower, baby?\\n'},\n",
              " {'label': 0,\n",
              "  'text': 'I had askd u a question some hours before. Its answer\\n'},\n",
              " {'label': 0,\n",
              "  'text': \"Well imma definitely need to restock before thanksgiving, I'll let you know when I'm out\\n\"},\n",
              " {'label': 0,\n",
              "  'text': \" said kiss, kiss, i can't do the sound effects! He is a gorgeous man isn't he! Kind of person who needs a smile to brighten his day! \\n\"},\n",
              " {'label': 0, 'text': 'Probably gonna swing by in a wee bit\\n'},\n",
              " {'label': 0, 'text': 'Ya very nice. . .be ready on thursday\\n'},\n",
              " {'label': 0,\n",
              "  'text': 'Allo! We have braved the buses and taken on the trains and triumphed. I mean we‘re in b‘ham. Have a jolly good rest of week\\n'},\n",
              " {'label': 0,\n",
              "  'text': 'Watching cartoon, listening music &amp; at eve had to go temple &amp; church.. What about u?\\n'},\n",
              " {'label': 0,\n",
              "  'text': 'Do you mind if I ask what happened? You dont have to say if it is uncomfortable.\\n'},\n",
              " {'label': 1,\n",
              "  'text': 'PRIVATE! Your 2003 Account Statement for shows 800 un-redeemed S. I. M. points. Call 08715203694 Identifier Code: 40533 Expires 31/10/04\\n'},\n",
              " {'label': 0, 'text': 'No prob. I will send to your email.\\n'},\n",
              " {'label': 1,\n",
              "  'text': 'You have won ?1,000 cash or a ?2,000 prize! To claim, call09050000327. T&C: RSTM, SW7 3SS. 150ppm\\n'},\n",
              " {'label': 0,\n",
              "  'text': 'Thats cool! Sometimes slow and gentle. Sonetimes rough and hard :)\\n'},\n",
              " {'label': 0,\n",
              "  'text': \"I'm gonna say no. Sorry. I would but as normal am starting to panic about time. Sorry again! Are you seeing on Tuesday?\\n\"},\n",
              " {'label': 0,\n",
              "  'text': 'Wait, do you know if wesleys in town? I bet she does hella drugs!\\n'},\n",
              " {'label': 0, 'text': 'Fine i miss you very much.\\n'},\n",
              " {'label': 0, 'text': 'Did u got that persons story\\n'},\n",
              " {'label': 0, 'text': \"Tell them the drug dealer's getting impatient\\n\"},\n",
              " {'label': 0,\n",
              "  'text': 'Sun cant come to earth but send luv as rays. cloud cant come to river but send luv as rain. I cant come to meet U, but can send my care as msg to U. Gud evng\\n'},\n",
              " {'label': 0, 'text': 'You will be in the place of that man\\n'},\n",
              " {'label': 0,\n",
              "  'text': 'It doesnt make sense to take it there unless its free. If you need to know more, wikipedia.com\\n'},\n",
              " {'label': 1,\n",
              "  'text': '88800 and 89034 are premium phone services call 08718711108\\n'},\n",
              " {'label': 0,\n",
              "  'text': \"Under the sea, there lays a rock. In the rock, there is an envelope. In the envelope, there is a paper. On the paper, there are 3 words... '\\n\"},\n",
              " {'label': 0, 'text': \"Then mum's repent how?\\n\"},\n",
              " {'label': 0,\n",
              "  'text': 'Sorry me going home first... Daddy come fetch ü later...\\n'},\n",
              " {'label': 0, 'text': 'Leave it de:-). Start Prepare for next:-)..\\n'},\n",
              " {'label': 0,\n",
              "  'text': 'Yes baby! We can study all the positions of the kama sutra ;)\\n'},\n",
              " {'label': 0,\n",
              "  'text': 'En chikku nange bakra msg kalstiya..then had tea/coffee?\\n'},\n",
              " {'label': 0,\n",
              "  'text': \"Carlos'll be here in a minute if you still need to buy\\n\"},\n",
              " {'label': 0, 'text': 'This pay is  &lt;DECIMAL&gt;  lakhs:)\\n'},\n",
              " {'label': 0, 'text': 'Have a good evening! Ttyl\\n'},\n",
              " {'label': 0, 'text': 'Did u receive my msg?\\n'},\n",
              " {'label': 0, 'text': 'Ho ho - big belly laugh! See ya tomo\\n'},\n",
              " {'label': 1,\n",
              "  'text': 'SMS. ac sun0819 posts HELLO:\"You seem cool, wanted to say hi. HI!!!\" Stop? Send STOP to 62468\\n'},\n",
              " {'label': 1,\n",
              "  'text': 'Get ur 1st RINGTONE FREE NOW! Reply to this msg with TONE. Gr8 TOP 20 tones to your phone every week just £1.50 per wk 2 opt out send STOP 08452810071 16\\n'},\n",
              " {'label': 0,\n",
              "  'text': \"Ditto. And you won't have to worry about me saying ANYTHING to you anymore. Like i said last night, you do whatever you want and i'll do the same. Peace.\\n\"},\n",
              " {'label': 0, 'text': \"I've got  &lt;#&gt; , any way I could pick up?\\n\"},\n",
              " {'label': 0, 'text': 'I dont knw pa, i just drink milk..\\n'},\n",
              " {'label': 0,\n",
              "  'text': 'Maybe?! Say hi to  and find out if  got his card. Great escape or wetherspoons? \\n'},\n",
              " {'label': 0,\n",
              "  'text': \"Piggy, r u awake? I bet u're still sleeping. I'm going 4 lunch now...\\n\"},\n",
              " {'label': 0, 'text': \"Cause I'm not freaky lol\\n\"},\n",
              " {'label': 0,\n",
              "  'text': \"Missed your call cause I was yelling at scrappy. Miss u. Can't wait for u to come home. I'm so lonely today.\\n\"},\n",
              " {'label': 0, 'text': \"What is this 'hex' place you talk of? Explain!\\n\"},\n",
              " {'label': 0, 'text': \"Ü log off 4 wat. It's sdryb8i\\n\"},\n",
              " {'label': 0, 'text': 'Is xy going 4 e lunch?\\n'},\n",
              " {'label': 1,\n",
              "  'text': \"Hi I'm sue. I am 20 years old and work as a lapdancer. I love sex. Text me live - I'm i my bedroom now. text SUE to 89555. By TextOperator G2 1DA 150ppmsg 18+\\n\"},\n",
              " {'label': 0,\n",
              "  'text': 'I wanted to ask ü to wait 4 me to finish lect. Cos my lect finishes in an hour anyway.\\n'},\n",
              " {'label': 0, 'text': 'Have you finished work yet? :)\\n'},\n",
              " {'label': 0,\n",
              "  'text': 'Every King Was Once A Crying Baby And Every Great Building Was Once A Map.. Not Imprtant Where U r TODAY, BUT Where U Wil Reach TOMORW. Gud ni8\\n'},\n",
              " {'label': 0,\n",
              "  'text': 'Dear,Me at cherthala.in case u r coming cochin pls call bfore u start.i shall also reach accordingly.or tell me which day u r coming.tmorow i am engaged ans its holiday.\\n'},\n",
              " {'label': 0, 'text': 'Thanks love. But am i doing torch or bold.\\n'},\n",
              " {'label': 1,\n",
              "  'text': '<Forwarded from 448712404000>Please CALL 08712404000 immediately as there is an urgent message waiting for you.\\n'},\n",
              " {'label': 0, 'text': 'Was the farm open?\\n'},\n",
              " {'label': 0,\n",
              "  'text': 'Sorry to trouble u again. Can buy 4d for my dad again? 1405, 1680, 1843. All 2 big 1 small, sat n sun. Thanx.\\n'},\n",
              " {'label': 0,\n",
              "  'text': 'My sister in law, hope you are having a great month. Just saying hey. Abiola\\n'},\n",
              " {'label': 0,\n",
              "  'text': 'Will purchase d stuff today and mail to you. Do you have a po box number?\\n'},\n",
              " {'label': 0,\n",
              "  'text': 'Ah poop. Looks like ill prob have to send in my laptop to get fixed cuz it has a gpu problem\\n'},\n",
              " {'label': 0, 'text': 'Good. Good job. I like entrepreneurs\\n'},\n",
              " {'label': 0,\n",
              "  'text': \"Aight, you close by or still down around alex's place?\\n\"},\n",
              " {'label': 0,\n",
              "  'text': 'meet you in corporation st outside gap … you can see how my mind is working!\\n'},\n",
              " {'label': 0, 'text': 'Mum ask ü to buy food home...\\n'},\n",
              " {'label': 0, 'text': 'K..u also dont msg or reply to his msg..\\n'},\n",
              " {'label': 0, 'text': 'How much r ü willing to pay?\\n'},\n",
              " {'label': 0, 'text': \"Sorry, I'll call later\\n\"},\n",
              " {'label': 0,\n",
              "  'text': 'What is important is that you prevent dehydration by giving her enough fluids\\n'},\n",
              " {'label': 0,\n",
              "  'text': 'Thats a bit weird, even ?- where is the do supposed to be happening? But good idea, sure they will be in pub!\\n'},\n",
              " {'label': 0,\n",
              "  'text': \"True dear..i sat to pray evening and felt so.so i sms'd you in some time...\\n\"},\n",
              " {'label': 0,\n",
              "  'text': \"I don't think I can get away for a trek that long with family in town, sorry\\n\"},\n",
              " {'label': 0, 'text': 'So when do you wanna gym harri\\n'},\n",
              " {'label': 0, 'text': 'Quite late lar... Ard 12 anyway i wun b drivin...\\n'},\n",
              " {'label': 1,\n",
              "  'text': 'To review and KEEP the fantastic Nokia N-Gage game deck with Club Nokia, go 2 www.cnupdates.com/newsletter. unsubscribe from alerts reply with the word OUT\\n'},\n",
              " {'label': 1,\n",
              "  'text': '4mths half price Orange line rental & latest camera phones 4 FREE. Had your phone 11mths+? Call MobilesDirect free on 08000938767 to update now! or2stoptxt T&Cs\\n'},\n",
              " {'label': 0,\n",
              "  'text': 'Height of Confidence: All the Aeronautics professors wer calld &amp; they wer askd 2 sit in an aeroplane. Aftr they sat they wer told dat the plane ws made by their students. Dey all hurried out of d plane.. Bt only 1 didnt move... He said:\"if it is made by my students,this wont even start........ Datz confidence..\\n'},\n",
              " {'label': 0,\n",
              "  'text': 'It just seems like weird timing that the night that all you and g want is for me to come smoke is the same day as when a shitstorm is attributed to me always coming over and making everyone smoke\\n'},\n",
              " {'label': 1, 'text': '08714712388 between 10am-7pm Cost 10p\\n'},\n",
              " {'label': 0,\n",
              "  'text': 'Save yourself the stress. If the person has a dorm account, just send your account details and the money will be sent to you.\\n'},\n",
              " {'label': 0, 'text': 'He also knows about lunch menu only da. . I know\\n'},\n",
              " {'label': 0, 'text': 'When i have stuff to sell i.ll tell you\\n'},\n",
              " {'label': 1,\n",
              "  'text': '+449071512431 URGENT! This is the 2nd attempt to contact U!U have WON £1250 CALL 09071512433 b4 050703 T&CsBCM4235WC1N3XX. callcost 150ppm mobilesvary. max£7. 50\\n'},\n",
              " {'label': 0,\n",
              "  'text': \"Book which lesson? then you msg me... I will call up after work or sth... I'm going to get specs. My membership is PX3748\\n\"},\n",
              " {'label': 1,\n",
              "  'text': 'You have WON a guaranteed £1000 cash or a £2000 prize. To claim yr prize call our customer service representative on 08714712394 between 10am-7pm\\n'},\n",
              " {'label': 0,\n",
              "  'text': 'Macha dont feel upset.i can assume your mindset.believe me one evening with me and i have some wonderful plans for both of us.LET LIFE BEGIN AGAIN.call me anytime\\n'},\n",
              " {'label': 0, 'text': 'Oh is it? Send me the address\\n'},\n",
              " {'label': 0, 'text': \"S'fine. Anytime. All the best with it.\\n\"},\n",
              " {'label': 0, 'text': 'That is wondar full flim.\\n'},\n",
              " {'label': 0, 'text': 'Ya even those cookies have jelly on them\\n'},\n",
              " {'label': 0,\n",
              "  'text': 'The world is running and i am still.maybe all are feeling the same,so be it.or i have to admit,i am mad.then where is the correction?or let me call this is life.and keep running with the world,may be u r also running.lets run.\\n'},\n",
              " {'label': 0,\n",
              "  'text': 'Got it! It looks scrumptious... daddy wants to eat you all night long!\\n'},\n",
              " {'label': 0,\n",
              "  'text': \"Of cos can lar i'm not so ba dao ok... 1 pm lor... Y u never ask where we go ah... I said u would ask on fri but he said u will ask today...\\n\"},\n",
              " {'label': 0, 'text': 'Alright omw, gotta change my order to a half8th\\n'},\n",
              " {'label': 0,\n",
              "  'text': 'Exactly. Anyways how far. Is jide her to study or just visiting\\n'},\n",
              " {'label': 0, 'text': 'Dunno y u ask me.\\n'},\n",
              " {'label': 1,\n",
              "  'text': 'Email AlertFrom: Jeri StewartSize: 2KBSubject: Low-cost prescripiton drvgsTo listen to email call 123\\n'},\n",
              " {'label': 0, 'text': \"No he didn't. Spring is coming early yay!\\n\"},\n",
              " {'label': 0,\n",
              "  'text': \"Lol you won't feel bad when I use her money to take you out to a steak dinner =D\\n\"},\n",
              " {'label': 0,\n",
              "  'text': 'Even u dont get in trouble while convincing..just tel him once or twice and just tel neglect his msgs dont c and read it..just dont reply\\n'},\n",
              " {'label': 0,\n",
              "  'text': 'Leaving to qatar tonite in search of an opportunity.all went fast.pls add me in ur prayers dear.Rakhesh\\n'},\n",
              " {'label': 0, 'text': 'Then why no one talking to me\\n'},\n",
              " {'label': 0, 'text': 'Thanks for looking out for me. I really appreciate.\\n'},\n",
              " {'label': 1,\n",
              "  'text': 'Hi. Customer Loyalty Offer:The NEW Nokia6650 Mobile from ONLY £10 at TXTAUCTION! Txt word: START to No: 81151 & get yours Now! 4T&Ctxt TC 150p/MTmsg\\n'},\n",
              " {'label': 0, 'text': 'Wish i were with you now!\\n'},\n",
              " {'label': 0,\n",
              "  'text': \"Haha mayb u're rite... U know me well. Da feeling of being liked by someone is gd lor. U faster go find one then all gals in our group attached liao.\\n\"},\n",
              " {'label': 0, 'text': 'Yes i will be there. Glad you made it.\\n'},\n",
              " {'label': 0,\n",
              "  'text': 'Do well :)all will for little time. Thing of good times ahead:\\n'},\n",
              " {'label': 0,\n",
              "  'text': \"Just got up. have to be out of the room very soon. …. i hadn't put the clocks back til at 8 i shouted at everyone to get up and then realised it was 7. wahay. another hour in bed.\\n\"},\n",
              " {'label': 0, 'text': 'Ok. There may be a free gym about.\\n'},\n",
              " {'label': 0, 'text': 'Men like shorter ladies. Gaze up into his eyes.\\n'},\n",
              " {'label': 0, 'text': 'Dunno he jus say go lido. Same time 930.\\n'},\n",
              " {'label': 0,\n",
              "  'text': 'I promise to take good care of you, princess. I have to run now. Please send pics when you get a chance. Ttyl!\\n'},\n",
              " {'label': 1,\n",
              "  'text': 'U are subscribed to the best Mobile Content Service in the UK for £3 per 10 days until you send STOP to 82324. Helpline 08706091795\\n'},\n",
              " {'label': 0,\n",
              "  'text': \"Is there a reason we've not spoken this year? Anyways have a great week and all the best in your exam\\n\"},\n",
              " {'label': 0, 'text': 'By monday next week. Give me the full gist\\n'},\n",
              " {'label': 1,\n",
              "  'text': \"Do you realize that in about 40 years, we'll have thousands of old ladies running around with tattoos?\\n\"},\n",
              " {'label': 1,\n",
              "  'text': 'You have an important customer service announcement from PREMIER.\\n'},\n",
              " {'label': 0, 'text': 'Dont gimme that lip caveboy\\n'},\n",
              " {'label': 0, 'text': 'When did you get to the library\\n'},\n",
              " {'label': 0,\n",
              "  'text': \"Realy sorry-i don't recognise this number and am now confused :) who r u please?! \\n\"},\n",
              " {'label': 0, 'text': 'So why didnt you holla?\\n'},\n",
              " {'label': 0,\n",
              "  'text': 'Cant think of anyone with * spare room off * top of my head\\n'},\n",
              " {'label': 0,\n",
              "  'text': 'Faith makes things possible,Hope makes things work,Love makes things beautiful,May you have all three this Christmas!Merry Christmas!\\n'},\n",
              " {'label': 0, 'text': 'U should have made an appointment\\n'},\n",
              " {'label': 0,\n",
              "  'text': \"Call me when you/carlos is/are here, my phone's vibrate is acting up and I might not hear texts\\n\"},\n",
              " {'label': 1,\n",
              "  'text': 'Romantic Paris. 2 nights, 2 flights from £79 Book now 4 next year. Call 08704439680Ts&Cs apply.\\n'},\n",
              " {'label': 0,\n",
              "  'text': 'We are at grandmas. Oh dear, u still ill? I felt Shit this morning but i think i am just hungover! Another night then. We leave on sat.\\n'},\n",
              " {'label': 1,\n",
              "  'text': 'Urgent Ur £500 guaranteed award is still unclaimed! Call 09066368327 NOW closingdate04/09/02 claimcode M39M51 £1.50pmmorefrommobile2Bremoved-MobyPOBox734LS27YF\\n'},\n",
              " {'label': 0,\n",
              "  'text': 'Nothing but we jus tot u would ask cos u ba gua... But we went mt faber yest... Yest jus went out already mah so today not going out... Jus call lor...\\n'},\n",
              " {'label': 0,\n",
              "  'text': 'Wishing you and your family Merry \"X\" mas and HAPPY NEW Year in advance..\\n'},\n",
              " {'label': 1,\n",
              "  'text': 'UR awarded a City Break and could WIN a £200 Summer Shopping spree every WK. Txt STORE to 88039 . SkilGme. TsCs087147403231Winawk!Age16 £1.50perWKsub\\n'},\n",
              " {'label': 0,\n",
              "  'text': \"I'm nt goin, got somethin on, unless they meetin 4 dinner lor... Haha, i wonder who will go tis time...\\n\"},\n",
              " {'label': 0, 'text': \"Sorry, I'll call later\\n\"},\n",
              " {'label': 0, 'text': 'I cant pick the phone right now. Pls send a message\\n'},\n",
              " {'label': 0,\n",
              "  'text': \"Lol I know! They're so dramatic. Schools already closed for tomorrow. Apparently we can't drive in the inch of snow were supposed to get.\\n\"},\n",
              " {'label': 0,\n",
              "  'text': 'Not getting anywhere with this damn job hunting over here!\\n'},\n",
              " {'label': 0,\n",
              "  'text': 'Lol! U drunkard! Just doing my hair at d moment. Yeah still up 4 tonight. Wats the plan? \\n'},\n",
              " {'label': 0,\n",
              "  'text': 'idc get over here, you are not weaseling your way out of this shit twice in a row\\n'},\n",
              " {'label': 0,\n",
              "  'text': 'I wil be there with in  &lt;#&gt;  minutes. Got any space\\n'},\n",
              " {'label': 0, 'text': 'Just sleeping..and surfing\\n'},\n",
              " {'label': 0, 'text': 'Thanks for picking up the trash.\\n'},\n",
              " {'label': 0,\n",
              "  'text': \"Why don't you go tell your friend you're not sure you want to live with him because he smokes too much then spend hours begging him to come smoke\\n\"},\n",
              " {'label': 0,\n",
              "  'text': '\"Hi its Kate it was lovely to see you tonight and ill phone you tomorrow. I got to sing and a guy gave me his card! xxx\"\\n'},\n",
              " {'label': 0,\n",
              "  'text': 'Happy New year my dear brother. I really do miss you. Just got your number and decided to send you this text wishing you only happiness. Abiola\\n'},\n",
              " {'label': 0, 'text': 'That means get the door\\n'},\n",
              " {'label': 0,\n",
              "  'text': 'Your opinion about me? 1. Over 2. Jada 3. Kusruthi 4. Lovable 5. Silent 6. Spl character 7. Not matured 8. Stylish 9. Simple Pls reply..\\n'},\n",
              " {'label': 0,\n",
              "  'text': 'Hmmm ... I thought we said 2 hours slave, not 3 ... You are late ... How should I punish you ?\\n'},\n",
              " {'label': 0, 'text': 'Beerage?\\n'},\n",
              " {'label': 1,\n",
              "  'text': 'You have an important customer service announcement from PREMIER. Call FREEPHONE 0800 542 0578 now!\\n'},\n",
              " {'label': 0,\n",
              "  'text': 'Dont think so. It turns off like randomlly within 5min of opening\\n'},\n",
              " {'label': 0,\n",
              "  'text': \"She was supposed to be but couldn't make it, she's still in town though\\n\"},\n",
              " {'label': 0,\n",
              "  'text': 'It does it on its own. Most of the time it fixes my spelling. But sometimes it gets a completely diff word. Go figure\\n'},\n",
              " {'label': 1,\n",
              "  'text': 'Ever thought about living a good life with a perfect partner? Just txt back NAME and AGE to join the mobile community. (100p/SMS)\\n'},\n",
              " {'label': 1,\n",
              "  'text': '5 Free Top Polyphonic Tones call 087018728737, National Rate. Get a toppoly tune sent every week, just text SUBPOLY to 81618, £3 per pole. UnSub 08718727870.\\n'},\n",
              " {'label': 0, 'text': 'Gud mrng dear hav a nice day\\n'},\n",
              " {'label': 0,\n",
              "  'text': \"This is hoping you enjoyed your game yesterday. Sorry i've not been in touch but pls know that you are fondly bein thot off. Have a great week. Abiola\\n\"},\n",
              " {'label': 0, 'text': 'All e best 4 ur driving tmr :-)\\n'},\n",
              " {'label': 0,\n",
              "  'text': 'Y?WHERE U AT DOGBREATH? ITS JUST SOUNDING LIKE JAN C THAT\\x92S AL!!!!!!!!!\\n'},\n",
              " {'label': 0,\n",
              "  'text': 'Omg I want to scream. I weighed myself and I lost more weight! Woohoo!\\n'},\n",
              " {'label': 0,\n",
              "  'text': \"There generally isn't one. It's an uncountable noun - u in the dictionary. pieces of research?\\n\"},\n",
              " {'label': 0, 'text': \"it's really getting me down just hanging around.\\n\"},\n",
              " {'label': 1,\n",
              "  'text': \"Orange customer, you may now claim your FREE CAMERA PHONE upgrade for your loyalty. Call now on 0207 153 9996. Offer ends 14thMarch. T&C's apply. Opt-out availa\\n\"},\n",
              " {'label': 0,\n",
              "  'text': '\"Petey boy whereare you me and all your friendsare in theKingshead come down if you canlove Nic\"\\n'},\n",
              " {'label': 0, 'text': 'Ok i msg u b4 i leave my house.\\n'},\n",
              " {'label': 0, 'text': '\"Gimme a few\" was  &lt;#&gt;  minutes ago\\n'},\n",
              " {'label': 1,\n",
              "  'text': 'Last Chance! Claim ur £150 worth of discount vouchers today! Text SHOP to 85023 now! SavaMob, offers mobile! T Cs SavaMob POBOX84, M263UZ. £3.00 Sub. 16\\n'},\n",
              " {'label': 0,\n",
              "  'text': \"Appt is at &lt;TIME&gt; am. Not my fault u don't listen. I told u twice\\n\"},\n",
              " {'label': 1,\n",
              "  'text': 'FREE for 1st week! No1 Nokia tone 4 ur mobile every week just txt NOKIA to 8077 Get txting and tell ur mates. www.getzed.co.uk POBox 36504 W45WQ 16+ norm150p/tone\\n'},\n",
              " {'label': 1,\n",
              "  'text': 'You have won a guaranteed £200 award or even £1000 cashto claim UR award call free on 08000407165 (18+) 2 stop getstop on 88222 PHP. RG21 4JX\\n'},\n",
              " {'label': 0, 'text': \"K I'll be there before 4.\\n\"},\n",
              " {'label': 0, 'text': 'I dled 3d its very imp\\n'},\n",
              " {'label': 0, 'text': \"sure, but make sure he knows we ain't smokin yet\\n\"},\n",
              " {'label': 0, 'text': 'Boooo you always work. Just quit.\\n'},\n",
              " {'label': 0, 'text': 'I am taking half day leave bec i am not well\\n'},\n",
              " {'label': 0, 'text': \"Ugh I don't wanna get out of bed. It's so warm.\\n\"},\n",
              " {'label': 0, 'text': 'S:)s.nervous  &lt;#&gt; :)\\n'},\n",
              " {'label': 0,\n",
              "  'text': \"So there's a ring that comes with the guys costumes. It's there so they can gift their future yowifes. Hint hint\\n\"},\n",
              " {'label': 1,\n",
              "  'text': 'Congratulations ur awarded either £500 of CD gift vouchers & Free entry 2 our £100 weekly draw txt MUSIC to 87066 TnCs www.Ldew.com1win150ppmx3age16\\n'},\n",
              " {'label': 0, 'text': 'I borrow ur bag ok.\\n'},\n",
              " {'label': 1,\n",
              "  'text': 'U were outbid by simonwatson5120 on the Shinco DVD Plyr. 2 bid again, visit sms. ac/smsrewards 2 end bid notifications, reply END OUT\\n'},\n",
              " {'label': 0, 'text': \"Where's my boytoy? I miss you ... What happened?\\n\"},\n",
              " {'label': 0,\n",
              "  'text': \"He has lots of used ones babe, but the model doesn't help. Youi have to bring it over and he'll match it up\\n\"},\n",
              " {'label': 0, 'text': 'Also are you bringing galileo or dobby\\n'},\n",
              " {'label': 0, 'text': 'Then why you not responding\\n'},\n",
              " {'label': 0,\n",
              "  'text': '\"BOO BABE! U ENJOYIN YOURJOB? U SEEMED 2 B GETTIN ON WELL HUNNY!HOPE URE OK?TAKE CARE & I\\x92LLSPEAK 2U SOONLOTS OF LOVEME XXXX.\"\\n'},\n",
              " {'label': 0,\n",
              "  'text': \"Good afternoon starshine! How's my boytoy? Does he crave me yet? Ache to fuck me ? *sips cappuccino* I miss you babe *teasing kiss*\\n\"},\n",
              " {'label': 0, 'text': 'On the road so cant txt\\n'},\n",
              " {'label': 1,\n",
              "  'text': 'SMSSERVICES. for yourinclusive text credits, pls goto www.comuk.net login= 3qxj9 unsubscribe with STOP, no extra charge. help 08702840625.COMUK. 220-CM2 9AE\\n'},\n",
              " {'label': 1,\n",
              "  'text': \"25p 4 alfie Moon's Children in need song on ur mob. Tell ur m8s. Txt Tone charity to 8007 for Nokias or Poly charity for polys: zed 08701417012 profit 2 charity.\\n\"},\n",
              " {'label': 0, 'text': 'Have a good evening! Ttyl\\n'},\n",
              " {'label': 0, 'text': 'Hmm .. Bits and pieces lol ... *sighs* ...\\n'},\n",
              " {'label': 0, 'text': 'Hahaha..use your brain dear\\n'},\n",
              " {'label': 0, 'text': 'Hey. You got any mail?\\n'},\n",
              " {'label': 0,\n",
              "  'text': 'Sorry light turned green, I meant another friend wanted  &lt;#&gt;  worth but he may not be around\\n'},\n",
              " {'label': 0,\n",
              "  'text': 'Thanks for yesterday sir. You have been wonderful. Hope you enjoyed the burial. MojiBiola\\n'},\n",
              " {'label': 1,\n",
              "  'text': 'U have a secret admirer. REVEAL who thinks U R So special. Call 09065174042. To opt out Reply REVEAL STOP. 1.50 per msg recd. Cust care 07821230901\\n'},\n",
              " {'label': 0,\n",
              "  'text': 'Hi mate its RV did u hav a nice hol just a message 3 say hello coz haven\\x92t sent u 1 in ages started driving so stay off roads!RVx\\n'},\n",
              " {'label': 1,\n",
              "  'text': 'Dear Voucher Holder, To claim this weeks offer, at you PC please go to http://www.e-tlp.co.uk/expressoffer Ts&Cs apply. To stop texts, txt STOP to 80062\\n'},\n",
              " {'label': 0,\n",
              "  'text': \"Thank you so much. When we skyped wit kz and sura, we didnt get the pleasure of your company. Hope you are good. We've given you ultimatum oh! We are countin down to aburo. Enjoy! This is the message i sent days ago\\n\"},\n",
              " {'label': 0, 'text': 'Surely result will offer:)\\n'},\n",
              " {'label': 0,\n",
              "  'text': 'Good Morning my Dear........... Have a great &amp; successful day.\\n'},\n",
              " {'label': 1,\n",
              "  'text': 'Do you want 750 anytime any network mins 150 text and a NEW VIDEO phone for only five pounds per week call 08002888812 or reply for delivery tomorrow\\n'},\n",
              " {'label': 0,\n",
              "  'text': \"Sir, I have been late in paying rent for the past few months and had to pay a $ &lt;#&gt;  charge. I felt it would be inconsiderate of me to nag about something you give at great cost to yourself and that's why i didnt speak up. I however am in a recession and wont be able to pay the charge this month hence my askin well ahead of month's end. Can you please help. Thanks\\n\"},\n",
              " {'label': 1,\n",
              "  'text': 'We tried to contact you re our offer of New Video Phone 750 anytime any network mins HALF PRICE Rental camcorder call 08000930705 or reply for delivery Wed\\n'},\n",
              " {'label': 1,\n",
              "  'text': 'Last chance 2 claim ur £150 worth of discount vouchers-Text YES to 85023 now!SavaMob-member offers mobile T Cs 08717898035. £3.00 Sub. 16 . Remove txt X or STOP\\n'},\n",
              " {'label': 0,\n",
              "  'text': 'I luv u soo much u don\\x92t understand how special u r 2 me ring u 2morrow luv u xxx\\n'},\n",
              " {'label': 0,\n",
              "  'text': \"Pls send me a comprehensive mail about who i'm paying, when and how much.\\n\"},\n",
              " {'label': 0,\n",
              "  'text': \"Our Prashanthettan's mother passed away last night. pray for her and family.\\n\"},\n",
              " {'label': 1,\n",
              "  'text': 'Urgent! call 09066350750 from your landline. Your complimentary 4* Ibiza Holiday or 10,000 cash await collection SAE T&Cs PO BOX 434 SK3 8WP 150 ppm 18+ \\n'},\n",
              " {'label': 0, 'text': 'K.k:)when are you going?\\n'},\n",
              " {'label': 0,\n",
              "  'text': \"Meanwhile in the shit suite: xavier decided to give us  &lt;#&gt;  seconds of warning that samantha was coming over and is playing jay's guitar to impress her or some shit. Also I don't think doug realizes I don't live here anymore\\n\"},\n",
              " {'label': 0,\n",
              "  'text': \"My stomach has been thru so much trauma I swear I just can't eat. I better lose weight.\\n\"},\n",
              " {'label': 0,\n",
              "  'text': 'I am in office:)whats the matter..msg me now.i will call you at break:).\\n'},\n",
              " {'label': 0,\n",
              "  'text': \"Yeah there's barely enough room for the two of us, x has too many fucking shoes. Sorry man, see you later\\n\"},\n",
              " {'label': 1,\n",
              "  'text': \"Today's Offer! Claim ur £150 worth of discount vouchers! Text YES to 85023 now! SavaMob, member offers mobile! T Cs 08717898035. £3.00 Sub. 16 . Unsub reply X\\n\"},\n",
              " {'label': 0,\n",
              "  'text': 'U reach orchard already? U wan 2 go buy tickets first?\\n'},\n",
              " {'label': 0,\n",
              "  'text': 'I am real, baby! I want to bring out your inner tigress...\\n'},\n",
              " {'label': 0,\n",
              "  'text': 'No da if you run that it activate the full version da.\\n'},\n",
              " {'label': 0,\n",
              "  'text': '\"AH POOR BABY!HOPE URFEELING BETTERSN LUV! PROBTHAT OVERDOSE OF WORK HEY GO CAREFUL SPK 2 U SN LOTS OF LOVEJEN XXX.\"\\n'},\n",
              " {'label': 0,\n",
              "  'text': \"Stop the story. I've told him i've returned it and he's saying i should not re order it.\\n\"},\n",
              " {'label': 1,\n",
              "  'text': 'Talk sexy!! Make new friends or fall in love in the worlds most discreet text dating service. Just text VIP to 83110 and see who you could meet.\\n'},\n",
              " {'label': 0, 'text': 'Going to take your babe out ?\\n'},\n",
              " {'label': 0,\n",
              "  'text': 'Hai ana tomarrow am coming on morning.  &lt;DECIMAL&gt;  ill be there in sathy then we ll go to RTO office. Reply me after came to home.\\n'},\n",
              " {'label': 0, 'text': 'Spoons it is then okay?\\n'},\n",
              " {'label': 0, 'text': 'Did he just say somebody is named tampa\\n'},\n",
              " {'label': 0, 'text': 'In work now. Going have in few min.\\n'},\n",
              " {'label': 0, 'text': 'Your brother is a genius\\n'},\n",
              " {'label': 0,\n",
              "  'text': \"Sorry, I guess whenever I can get a hold of my connections, maybe an hour or two? I'll text you\\n\"},\n",
              " {'label': 0,\n",
              "  'text': 'Did u find out what time the bus is at coz i need to sort some stuff out.\\n'},\n",
              " {'label': 0, 'text': 'Dude ive been seeing a lotta corvettes lately\\n'},\n",
              " {'label': 1,\n",
              "  'text': 'Congratulations ur awarded either a yrs supply of CDs from Virgin Records or a Mystery Gift GUARANTEED Call 09061104283 Ts&Cs www.smsco.net £1.50pm approx 3mins\\n'},\n",
              " {'label': 0,\n",
              "  'text': \"Same here, but I consider walls and bunkers and shit important just because I never play on peaceful but I guess your place is high enough that it don't matter\\n\"},\n",
              " {'label': 1,\n",
              "  'text': 'PRIVATE! Your 2003 Account Statement for 07808 XXXXXX shows 800 un-redeemed S. I. M. points. Call 08719899217 Identifier Code: 41685 Expires 07/11/04\\n'},\n",
              " {'label': 1,\n",
              "  'text': 'Hello. We need some posh birds and chaps to user trial prods for champneys. Can i put you down? I need your address and dob asap. Ta r\\n'},\n",
              " {'label': 1,\n",
              "  'text': 'What do U want for Xmas? How about 100 free text messages & a new video phone with half price line rental? Call free now on 0800 0721072 to find out more!\\n'},\n",
              " {'label': 0,\n",
              "  'text': 'Well am officially in a philosophical hole, so if u wanna call am at home ready to be saved!\\n'},\n",
              " {'label': 0,\n",
              "  'text': 'Its going good...no problem..but still need little experience to understand american customer voice...\\n'},\n",
              " {'label': 0, 'text': \"I'll text you when I drop x off\\n\"},\n",
              " {'label': 0,\n",
              "  'text': \"Ugh its been a long day. I'm exhausted. Just want to cuddle up and take a nap\\n\"},\n",
              " {'label': 0,\n",
              "  'text': 'Talk With Yourself Atleast Once In A Day...!!! Otherwise You Will Miss Your Best FRIEND In This WORLD...!!! -Shakespeare- SHESIL  &lt;#&gt;\\n'},\n",
              " {'label': 1,\n",
              "  'text': 'Shop till u Drop, IS IT YOU, either 10K, 5K, £500 Cash or £100 Travel voucher, Call now, 09064011000. NTT PO Box CR01327BT fixedline Cost 150ppm mobile vary\\n'},\n",
              " {'label': 0, 'text': 'Are you in castor? You need to see something\\n'},\n",
              " {'label': 1,\n",
              "  'text': 'Sunshine Quiz Wkly Q! Win a top Sony DVD player if u know which country Liverpool played in mid week? Txt ansr to 82277. £1.50 SP:Tyrone\\n'},\n",
              " {'label': 1,\n",
              "  'text': 'U have a secret admirer who is looking 2 make contact with U-find out who they R*reveal who thinks UR so special-call on 09058094565\\n'},\n",
              " {'label': 1,\n",
              "  'text': 'U have a Secret Admirer who is looking 2 make contact with U-find out who they R*reveal who thinks UR so special-call on 09065171142-stopsms-08\\n'},\n",
              " {'label': 1,\n",
              "  'text': 'Reminder: You have not downloaded the content you have already paid for. Goto http://doit. mymoby. tv/ to collect your content.\\n'},\n",
              " {'label': 0,\n",
              "  'text': \"see, i knew giving you a break a few times woul lead to you always wanting to miss curfew. I was gonna gibe you 'til one, but a MIDNIGHT movie is not gonna get out til after 2. You need to come home. You need to getsleep and, if anything, you need to b studdying ear training.\\n\"},\n",
              " {'label': 0,\n",
              "  'text': 'I love to give massages. I use lots of baby oil... What is your fave position?\\n'},\n",
              " {'label': 0, 'text': 'Dude we should go sup again\\n'},\n",
              " {'label': 0,\n",
              "  'text': 'Yoyyooo u know how to change permissions for a drive in mac. My usb flash drive\\n'},\n",
              " {'label': 0, 'text': 'Gibbs unsold.mike hussey\\n'},\n",
              " {'label': 0,\n",
              "  'text': 'I like to talk pa but am not able to. I dont know y.\\n'},\n",
              " {'label': 0,\n",
              "  'text': \"Y dun cut too short leh. U dun like ah? She failed. She's quite sad.\\n\"},\n",
              " {'label': 0, 'text': 'You unbelievable faglord\\n'},\n",
              " {'label': 0, 'text': 'Wife.how she knew the time of murder exactly\\n'},\n",
              " {'label': 0, 'text': 'Why do you ask princess?\\n'},\n",
              " {'label': 0,\n",
              "  'text': 'I am great princess! What are you thinking about me? :)\\n'},\n",
              " {'label': 0,\n",
              "  'text': 'Nutter. Cutter. Ctter. Cttergg. Cttargg. Ctargg. Ctagg. ie you\\n'},\n",
              " {'label': 0,\n",
              "  'text': \"It's ok i noe u're busy but i'm really too bored so i msg u. I oso dunno wat colour she choose 4 me one.\\n\"},\n",
              " {'label': 0,\n",
              "  'text': \"Doesn't g have class early tomorrow and thus shouldn't be trying to smoke at  &lt;#&gt;\\n\"},\n",
              " {'label': 0,\n",
              "  'text': 'Superb Thought- \"Be grateful that u dont have everything u want. That means u still have an opportunity to be happier tomorrow than u are today.\":-)\\n'},\n",
              " {'label': 0, 'text': 'Hope you are having a good week. Just checking in\\n'},\n",
              " {'label': 0,\n",
              "  'text': \"I'm used to it. I just hope my agents don't drop me since i've only booked a few things this year. This whole me in boston, them in nyc was an experiment.\\n\"},\n",
              " {'label': 0,\n",
              "  'text': \"Thursday night? Yeah, sure thing, we'll work it out then\\n\"},\n",
              " {'label': 1,\n",
              "  'text': 'Your free ringtone is waiting to be collected. Simply text the password \"MIX\" to 85069 to verify. Get Usher and Britney. FML, PO Box 5249, MK17 92H. 450Ppw 16\\n'},\n",
              " {'label': 0,\n",
              "  'text': 'Probably money worries. Things are coming due and i have several outstanding invoices for work i did two and three months ago.\\n'},\n",
              " {'label': 0, 'text': 'How is it possible to teach you. And where.\\n'},\n",
              " {'label': 0,\n",
              "  'text': 'I wonder if your phone battery went dead ? I had to tell you, I love you babe\\n'},\n",
              " {'label': 0, 'text': \"Lovely smell on this bus and it ain't tobacco... \\n\"},\n",
              " {'label': 0,\n",
              "  'text': \"We're all getting worried over here, derek and taylor have already assumed the worst\\n\"},\n",
              " {'label': 0, 'text': \"Hey what's up charles sorry about the late reply.\\n\"},\n",
              " {'label': 1,\n",
              "  'text': 'all the lastest from Stereophonics, Marley, Dizzee Racal, Libertines and The Strokes! Win Nookii games with Flirt!! Click TheMob WAP Bookmark or text WAP to 82468\\n'},\n",
              " {'label': 0,\n",
              "  'text': 'I.ll give her once i have it. Plus she said grinule greet you whenever we speak\\n'},\n",
              " {'label': 0, 'text': 'WHITE FUDGE OREOS ARE IN STORES\\n'},\n",
              " {'label': 1,\n",
              "  'text': 'January Male Sale! Hot Gay chat now cheaper, call 08709222922. National rate from 1.5p/min cheap to 7.8p/min peak! To stop texts call 08712460324 (10p/min)\\n'},\n",
              " {'label': 0,\n",
              "  'text': \"My love ! How come it took you so long to leave for Zaher's? I got your words on ym and was happy to see them but was sad you had left. I miss you\\n\"},\n",
              " {'label': 0, 'text': 'I am sorry it hurt you.\\n'},\n",
              " {'label': 0,\n",
              "  'text': \"Can't. I feel nauseous. I'm so pissed. I didn't eat any sweets all week cause today I was planning to pig out. I was dieting all week. And now I'm not hungry :/\\n\"},\n",
              " {'label': 0,\n",
              "  'text': 'Ok lor but not too early. Me still having project meeting now.\\n'},\n",
              " {'label': 0, 'text': 'Call me da, i am waiting for your call.\\n'},\n",
              " {'label': 0,\n",
              "  'text': 'I could ask carlos if we could get more if anybody else can chip in\\n'},\n",
              " {'label': 0,\n",
              "  'text': 'Was actually about to send you a reminder today. Have a wonderful weekend\\n'},\n",
              " {'label': 0,\n",
              "  'text': \"When people see my msgs, They think Iam addicted to msging... They are wrong, Bcoz They don\\\\'t know that Iam addicted to my sweet Friends..!! BSLVYL\\n\"},\n",
              " {'label': 0,\n",
              "  'text': 'Hey you gave them your photo when you registered for driving ah? Tmr wanna meet at yck? \\n'},\n",
              " {'label': 0, 'text': 'Dont talk to him ever ok its my word.\\n'},\n",
              " {'label': 0, 'text': 'When u wana see it then\\n'},\n",
              " {'label': 0,\n",
              "  'text': \"On ma way to school. Can you pls send me ashley's number\\n\"},\n",
              " {'label': 0,\n",
              "  'text': 'It shall be fine. I have avalarr now. Will hollalater\\n'},\n",
              " {'label': 0,\n",
              "  'text': \"She went to attend another two rounds today..but still did't reach home..\\n\"},\n",
              " {'label': 0,\n",
              "  'text': 'Actually i deleted my old website..now i m blogging at magicalsongs.blogspot.com\\n'},\n",
              " {'label': 0, 'text': 'K, wait chikku..il send aftr  &lt;#&gt; mins\\n'},\n",
              " {'label': 0,\n",
              "  'text': \"But I'm on a diet. And I ate 1 too many slices of pizza yesterday. Ugh I'm ALWAYS on a diet.\\n\"},\n",
              " {'label': 0, 'text': 'K:)i will give my kvb acc details:)\\n'},\n",
              " {'label': 0, 'text': 'Oh all have to come ah?\\n'},\n",
              " {'label': 1,\n",
              "  'text': 'money!!! you r a lucky winner ! 2 claim your prize text money 2 88600 over £1million to give away ! ppt150x3+normal text rate box403 w1t1jy\\n'},\n",
              " {'label': 0,\n",
              "  'text': \"I'm really sorry i won't b able 2 do this friday.hope u can find an alternative.hope yr term's going ok:-)\\n\"},\n",
              " {'label': 0,\n",
              "  'text': 'Congratulations ore mo owo re wa. Enjoy it and i wish you many happy moments to and fro wherever you go\\n'},\n",
              " {'label': 0, 'text': 'So do you have samus shoulders yet\\n'},\n",
              " {'label': 0,\n",
              "  'text': \"What time you think you'll have it? Need to know when I should be near campus\\n\"},\n",
              " {'label': 1,\n",
              "  'text': 'Dear Matthew please call 09063440451 from a landline, your complimentary 4*Lux Tenerife holiday or £1000 CASH await collection. ppm150 SAE T&Cs Box334 SK38XH.\\n'},\n",
              " {'label': 0, 'text': 'Then dun wear jeans lor...\\n'},\n",
              " {'label': 0, 'text': 'Since when, which side, any fever, any vomitin.\\n'},\n",
              " {'label': 0, 'text': 'K:)k.are you in college?\\n'},\n",
              " {'label': 1,\n",
              "  'text': 'Urgent! call 09061749602 from Landline. Your complimentary 4* Tenerife Holiday or £10,000 cash await collection SAE T&Cs BOX 528 HP20 1YF 150ppm 18+\\n'},\n",
              " {'label': 0,\n",
              "  'text': 'Better. Made up for Friday and stuffed myself like a pig yesterday. Now I feel bleh. But at least its not writhing pain kind of bleh.\\n'},\n",
              " {'label': 0,\n",
              "  'text': \"No we sell it all so we'll have tons if coins. Then sell our coins to someone thru paypal. Voila! Money back in life pockets:)\\n\"},\n",
              " {'label': 0,\n",
              "  'text': 'Theyre doing it to lots of places. Only hospitals and medical places are safe.\\n'},\n",
              " {'label': 1,\n",
              "  'text': 'How about getting in touch with folks waiting for company? Just txt back your NAME and AGE to opt in! Enjoy the community (150p/SMS)\\n'},\n",
              " {'label': 0,\n",
              "  'text': \"And also I've sorta blown him off a couple times recently so id rather not text him out of the blue looking for weed\\n\"},\n",
              " {'label': 0,\n",
              "  'text': 'I sent my scores to sophas and i had to do secondary application for a few schools. I think if you are thinking of applying, do a research on cost also. Contact joke ogunrinde, her school is one me the less expensive ones\\n'},\n",
              " {'label': 0,\n",
              "  'text': 'I cant wait to see you! How were the photos were useful? :)\\n'},\n",
              " {'label': 1,\n",
              "  'text': 'Ur cash-balance is currently 500 pounds - to maximize ur cash-in now send GO to 86688 only 150p/msg. CC: 08718720201 PO BOX 114/14 TCR/W1\\n'},\n",
              " {'label': 0,\n",
              "  'text': 'Hey i booked the kb on sat already... what other lessons are we going for ah? Keep your sat night free we need to meet and confirm our lodging \\n'},\n",
              " {'label': 0, 'text': 'Chk in ur belovd ms dict\\n'},\n",
              " {'label': 0, 'text': 'Is that what time you want me to come?\\n'},\n",
              " {'label': 0, 'text': \"Awesome, lemme know whenever you're around\\n\"},\n",
              " {'label': 0, 'text': 'Shb b ok lor... Thanx...\\n'},\n",
              " {'label': 0,\n",
              "  'text': 'Beautiful Truth against Gravity.. Read carefully: \"Our heart feels light when someone is in it.. But it feels very heavy when someone leaves it..\" GOOD NIGHT\\n'},\n",
              " {'label': 0, 'text': \"Also remember to get dobby's bowl from your car\\n\"},\n",
              " {'label': 1, 'text': 'Filthy stories and GIRLS waiting for your\\n'},\n",
              " {'label': 0,\n",
              "  'text': \"Sorry i now then c ur msg... Yar lor so poor thing... But only 4 one night... Tmr u'll have a brand new room 2 sleep in...\\n\"},\n",
              " {'label': 0,\n",
              "  'text': \"Love isn't a decision, it's a feeling. If we could decide who to love, then, life would be much simpler, but then less magical\\n\"},\n",
              " {'label': 0, 'text': 'Welp apparently he retired\\n'},\n",
              " {'label': 0,\n",
              "  'text': \"My sort code is  and acc no is . The bank is natwest. Can you reply to confirm i've sent this to the right person!\\n\"},\n",
              " {'label': 0, 'text': 'Where @\\n'},\n",
              " {'label': 0, 'text': \"U sure u can't take any sick time?\\n\"},\n",
              " {'label': 1,\n",
              "  'text': 'URGENT! We are trying to contact U. Todays draw shows that you have won a £800 prize GUARANTEED. Call 09050001808 from land line. Claim M95. Valid12hrs only\\n'},\n",
              " {'label': 0,\n",
              "  'text': 'Watching cartoon, listening music &amp; at eve had to go temple &amp; church.. What about u?\\n'},\n",
              " {'label': 0,\n",
              "  'text': 'Yo chad which gymnastics class do you wanna take? The site says Christians class is full..\\n'},\n",
              " {'label': 0, 'text': 'Are you this much buzy\\n'},\n",
              " {'label': 0,\n",
              "  'text': 'Or better still can you catch her and let ask her if she can sell  &lt;#&gt;  for me.\\n'},\n",
              " {'label': 0,\n",
              "  'text': 'I am not sure about night menu. . . I know only about noon menu\\n'},\n",
              " {'label': 0,\n",
              "  'text': 'What do u want when i come back?.a beautiful necklace as a token of my heart for you.thats what i will give but ONLY to MY WIFE OF MY LIKING.BE THAT AND SEE..NO ONE can give you that.dont call me.i will wait till i come.\\n'},\n",
              " {'label': 0, 'text': 'Are you willing to go for aptitude class.\\n'},\n",
              " {'label': 0,\n",
              "  'text': 'It wont b until 2.15 as trying 2 sort house out, is that ok?\\n'},\n",
              " {'label': 0,\n",
              "  'text': 'Yar lor he wan 2 go c horse racing today mah, so eat earlier lor. I ate chicken rice. U?\\n'},\n",
              " {'label': 0, 'text': 'Haha awesome, omw back now then\\n'},\n",
              " {'label': 0, 'text': 'Yup i thk so until e shop closes lor.\\n'},\n",
              " {'label': 0, 'text': 'what is your account number?\\n'},\n",
              " {'label': 0, 'text': 'Eh u send wrongly lar...\\n'},\n",
              " {'label': 0,\n",
              "  'text': 'Hey no I ad a crap nite was borin without ya 2 boggy with me u boring biatch! Thanx but u wait til nxt time il ave ya \\n'},\n",
              " {'label': 0, 'text': 'Ok i shall talk to him\\n'},\n",
              " {'label': 0,\n",
              "  'text': 'Dont hesitate. You know this is the second time she has had weakness like that. So keep i notebook of what she eat and did the day before or if anything changed the day before so that we can be sure its nothing\\n'},\n",
              " {'label': 0, 'text': 'Hey you can pay. With salary de. Only  &lt;#&gt; .\\n'},\n",
              " {'label': 0, 'text': 'Another month. I need chocolate weed and alcohol.\\n'},\n",
              " {'label': 0,\n",
              "  'text': 'If he started searching he will get job in few days.he have great potential and talent.\\n'},\n",
              " {'label': 0,\n",
              "  'text': 'Reckon need to be in town by eightish to walk from * carpark.\\n'},\n",
              " {'label': 1,\n",
              "  'text': 'Congrats! 2 mobile 3G Videophones R yours. call 09063458130 now! videochat wid your mates, play java games, Dload polyPH music, noline rentl.\\n'},\n",
              " {'label': 0,\n",
              "  'text': 'LOOK AT THE FUCKIN TIME. WHAT THE FUCK YOU THINK IS UP\\n'},\n",
              " {'label': 0, 'text': 'Yo guess what I just dropped\\n'},\n",
              " {'label': 0, 'text': \"Carlos says he'll be at mu in  &lt;#&gt;  minutes\\n\"},\n",
              " {'label': 0,\n",
              "  'text': \"I'm in office now . I will call you  &lt;#&gt;  min:)\\n\"},\n",
              " {'label': 0,\n",
              "  'text': \"Geeee ... I miss you already, you know ? Your all I can think about. Fuck, I can't wait till next year when we will be together ... *loving kiss*\\n\"},\n",
              " {'label': 0,\n",
              "  'text': 'Yun ah.the ubi one say if ü wan call by tomorrow.call 67441233 look for irene.ere only got bus8,22,65,61,66,382. Ubi cres,ubi tech park.6ph for 1st 5wkg days.èn\\n'},\n",
              " {'label': 0,\n",
              "  'text': 'Ugh. Gotta drive back to sd from la. My butt is sore.\\n'},\n",
              " {'label': 0, 'text': '26th OF JULY\\n'},\n",
              " {'label': 0,\n",
              "  'text': 'Hi im having the most relaxing time ever! we have to get up at 7am every day! was the party good the other night? I get home tomorrow at 5ish.\\n'},\n",
              " {'label': 0,\n",
              "  'text': 'Up to ü... Ü wan come then come lor... But i din c any stripes skirt...\\n'},\n",
              " {'label': 0,\n",
              "  'text': 'The Xmas story is peace.. The Xmas msg is love.. The Xmas miracle is jesus.. Hav a blessed month ahead &amp; wish U Merry Xmas...\\n'},\n",
              " {'label': 0, 'text': \"I can't, I don't have her number!\\n\"},\n",
              " {'label': 0, 'text': \"Change again... It's e one next to escalator...\\n\"},\n",
              " {'label': 0,\n",
              "  'text': \"Yetunde i'm in class can you not run water on it to make it ok. Pls now.\\n\"},\n",
              " {'label': 0,\n",
              "  'text': 'Not a lot has happened here. Feels very quiet. Beth is at her aunts and charlie is working lots. Just me and helen in at the mo. How have you been? \\n'},\n",
              " {'label': 0,\n",
              "  'text': 'Then ü wait 4 me at bus stop aft ur lect lar. If i dun c ü then i go get my car then come back n pick ü.\\n'},\n",
              " ...]"
            ]
          },
          "metadata": {},
          "execution_count": 92
        }
      ]
    },
    {
      "cell_type": "code",
      "source": [
        "dataset = pd.DataFrame(dataset)\n",
        "dataset"
      ],
      "metadata": {
        "colab": {
          "base_uri": "https://localhost:8080/",
          "height": 424
        },
        "id": "OkwLRjVD1bo3",
        "outputId": "a79145ba-2de6-4baf-f4fa-5bfb716d6e59"
      },
      "execution_count": 95,
      "outputs": [
        {
          "output_type": "execute_result",
          "data": {
            "text/plain": [
              "      label                                               text\n",
              "0         0  Go until jurong point, crazy.. Available only ...\n",
              "1         0                    Ok lar... Joking wif u oni...\\n\n",
              "2         1  Free entry in 2 a wkly comp to win FA Cup fina...\n",
              "3         0  U dun say so early hor... U c already then say...\n",
              "4         0  Nah I don't think he goes to usf, he lives aro...\n",
              "...     ...                                                ...\n",
              "5569      1  This is the 2nd time we have tried 2 contact u...\n",
              "5570      0             Will ü b going to esplanade fr home?\\n\n",
              "5571      0  Pity, * was in mood for that. So...any other s...\n",
              "5572      0  The guy did some bitching but I acted like i'd...\n",
              "5573      0                       Rofl. Its true to its name\\n\n",
              "\n",
              "[5574 rows x 2 columns]"
            ],
            "text/html": [
              "\n",
              "  <div id=\"df-9d8d0c53-140c-4c42-8c16-b0f49642a98f\">\n",
              "    <div class=\"colab-df-container\">\n",
              "      <div>\n",
              "<style scoped>\n",
              "    .dataframe tbody tr th:only-of-type {\n",
              "        vertical-align: middle;\n",
              "    }\n",
              "\n",
              "    .dataframe tbody tr th {\n",
              "        vertical-align: top;\n",
              "    }\n",
              "\n",
              "    .dataframe thead th {\n",
              "        text-align: right;\n",
              "    }\n",
              "</style>\n",
              "<table border=\"1\" class=\"dataframe\">\n",
              "  <thead>\n",
              "    <tr style=\"text-align: right;\">\n",
              "      <th></th>\n",
              "      <th>label</th>\n",
              "      <th>text</th>\n",
              "    </tr>\n",
              "  </thead>\n",
              "  <tbody>\n",
              "    <tr>\n",
              "      <th>0</th>\n",
              "      <td>0</td>\n",
              "      <td>Go until jurong point, crazy.. Available only ...</td>\n",
              "    </tr>\n",
              "    <tr>\n",
              "      <th>1</th>\n",
              "      <td>0</td>\n",
              "      <td>Ok lar... Joking wif u oni...\\n</td>\n",
              "    </tr>\n",
              "    <tr>\n",
              "      <th>2</th>\n",
              "      <td>1</td>\n",
              "      <td>Free entry in 2 a wkly comp to win FA Cup fina...</td>\n",
              "    </tr>\n",
              "    <tr>\n",
              "      <th>3</th>\n",
              "      <td>0</td>\n",
              "      <td>U dun say so early hor... U c already then say...</td>\n",
              "    </tr>\n",
              "    <tr>\n",
              "      <th>4</th>\n",
              "      <td>0</td>\n",
              "      <td>Nah I don't think he goes to usf, he lives aro...</td>\n",
              "    </tr>\n",
              "    <tr>\n",
              "      <th>...</th>\n",
              "      <td>...</td>\n",
              "      <td>...</td>\n",
              "    </tr>\n",
              "    <tr>\n",
              "      <th>5569</th>\n",
              "      <td>1</td>\n",
              "      <td>This is the 2nd time we have tried 2 contact u...</td>\n",
              "    </tr>\n",
              "    <tr>\n",
              "      <th>5570</th>\n",
              "      <td>0</td>\n",
              "      <td>Will ü b going to esplanade fr home?\\n</td>\n",
              "    </tr>\n",
              "    <tr>\n",
              "      <th>5571</th>\n",
              "      <td>0</td>\n",
              "      <td>Pity, * was in mood for that. So...any other s...</td>\n",
              "    </tr>\n",
              "    <tr>\n",
              "      <th>5572</th>\n",
              "      <td>0</td>\n",
              "      <td>The guy did some bitching but I acted like i'd...</td>\n",
              "    </tr>\n",
              "    <tr>\n",
              "      <th>5573</th>\n",
              "      <td>0</td>\n",
              "      <td>Rofl. Its true to its name\\n</td>\n",
              "    </tr>\n",
              "  </tbody>\n",
              "</table>\n",
              "<p>5574 rows × 2 columns</p>\n",
              "</div>\n",
              "      <button class=\"colab-df-convert\" onclick=\"convertToInteractive('df-9d8d0c53-140c-4c42-8c16-b0f49642a98f')\"\n",
              "              title=\"Convert this dataframe to an interactive table.\"\n",
              "              style=\"display:none;\">\n",
              "        \n",
              "  <svg xmlns=\"http://www.w3.org/2000/svg\" height=\"24px\"viewBox=\"0 0 24 24\"\n",
              "       width=\"24px\">\n",
              "    <path d=\"M0 0h24v24H0V0z\" fill=\"none\"/>\n",
              "    <path d=\"M18.56 5.44l.94 2.06.94-2.06 2.06-.94-2.06-.94-.94-2.06-.94 2.06-2.06.94zm-11 1L8.5 8.5l.94-2.06 2.06-.94-2.06-.94L8.5 2.5l-.94 2.06-2.06.94zm10 10l.94 2.06.94-2.06 2.06-.94-2.06-.94-.94-2.06-.94 2.06-2.06.94z\"/><path d=\"M17.41 7.96l-1.37-1.37c-.4-.4-.92-.59-1.43-.59-.52 0-1.04.2-1.43.59L10.3 9.45l-7.72 7.72c-.78.78-.78 2.05 0 2.83L4 21.41c.39.39.9.59 1.41.59.51 0 1.02-.2 1.41-.59l7.78-7.78 2.81-2.81c.8-.78.8-2.07 0-2.86zM5.41 20L4 18.59l7.72-7.72 1.47 1.35L5.41 20z\"/>\n",
              "  </svg>\n",
              "      </button>\n",
              "      \n",
              "  <style>\n",
              "    .colab-df-container {\n",
              "      display:flex;\n",
              "      flex-wrap:wrap;\n",
              "      gap: 12px;\n",
              "    }\n",
              "\n",
              "    .colab-df-convert {\n",
              "      background-color: #E8F0FE;\n",
              "      border: none;\n",
              "      border-radius: 50%;\n",
              "      cursor: pointer;\n",
              "      display: none;\n",
              "      fill: #1967D2;\n",
              "      height: 32px;\n",
              "      padding: 0 0 0 0;\n",
              "      width: 32px;\n",
              "    }\n",
              "\n",
              "    .colab-df-convert:hover {\n",
              "      background-color: #E2EBFA;\n",
              "      box-shadow: 0px 1px 2px rgba(60, 64, 67, 0.3), 0px 1px 3px 1px rgba(60, 64, 67, 0.15);\n",
              "      fill: #174EA6;\n",
              "    }\n",
              "\n",
              "    [theme=dark] .colab-df-convert {\n",
              "      background-color: #3B4455;\n",
              "      fill: #D2E3FC;\n",
              "    }\n",
              "\n",
              "    [theme=dark] .colab-df-convert:hover {\n",
              "      background-color: #434B5C;\n",
              "      box-shadow: 0px 1px 3px 1px rgba(0, 0, 0, 0.15);\n",
              "      filter: drop-shadow(0px 1px 2px rgba(0, 0, 0, 0.3));\n",
              "      fill: #FFFFFF;\n",
              "    }\n",
              "  </style>\n",
              "\n",
              "      <script>\n",
              "        const buttonEl =\n",
              "          document.querySelector('#df-9d8d0c53-140c-4c42-8c16-b0f49642a98f button.colab-df-convert');\n",
              "        buttonEl.style.display =\n",
              "          google.colab.kernel.accessAllowed ? 'block' : 'none';\n",
              "\n",
              "        async function convertToInteractive(key) {\n",
              "          const element = document.querySelector('#df-9d8d0c53-140c-4c42-8c16-b0f49642a98f');\n",
              "          const dataTable =\n",
              "            await google.colab.kernel.invokeFunction('convertToInteractive',\n",
              "                                                     [key], {});\n",
              "          if (!dataTable) return;\n",
              "\n",
              "          const docLinkHtml = 'Like what you see? Visit the ' +\n",
              "            '<a target=\"_blank\" href=https://colab.research.google.com/notebooks/data_table.ipynb>data table notebook</a>'\n",
              "            + ' to learn more about interactive tables.';\n",
              "          element.innerHTML = '';\n",
              "          dataTable['output_type'] = 'display_data';\n",
              "          await google.colab.output.renderOutput(dataTable, element);\n",
              "          const docLink = document.createElement('div');\n",
              "          docLink.innerHTML = docLinkHtml;\n",
              "          element.appendChild(docLink);\n",
              "        }\n",
              "      </script>\n",
              "    </div>\n",
              "  </div>\n",
              "  "
            ]
          },
          "metadata": {},
          "execution_count": 95
        }
      ]
    },
    {
      "cell_type": "code",
      "source": [
        "labels = dataset['label'].to_numpy()\n",
        "text_data = dataset['text'].to_numpy()\n",
        "\n",
        "\n",
        "from sklearn.model_selection import train_test_split\n",
        "train_data, test_data, train_labels, test_labels = train_test_split(text_data, labels, test_size=0.2, shuffle=True,random_state=42)\n",
        "len(train_data), len(test_data), len(train_labels), len(test_labels)"
      ],
      "metadata": {
        "colab": {
          "base_uri": "https://localhost:8080/"
        },
        "id": "o1tTEftD-tzn",
        "outputId": "15b75c04-6961-4f15-ae4a-0f5b3ec5e9c0"
      },
      "execution_count": 100,
      "outputs": [
        {
          "output_type": "execute_result",
          "data": {
            "text/plain": [
              "(4459, 1115, 4459, 1115)"
            ]
          },
          "metadata": {},
          "execution_count": 100
        }
      ]
    },
    {
      "cell_type": "code",
      "source": [
        "(test_data[10], test_labels[10])"
      ],
      "metadata": {
        "colab": {
          "base_uri": "https://localhost:8080/"
        },
        "id": "CNm7lMTL29DD",
        "outputId": "40d46098-f463-4248-c820-bb0bdf78db57"
      },
      "execution_count": 101,
      "outputs": [
        {
          "output_type": "execute_result",
          "data": {
            "text/plain": [
              "('K, wen ur free come to my home and also tel vikky i hav sent mail to him also.. Better come evening il be free today aftr 6pm..:-)\\n',\n",
              " 0)"
            ]
          },
          "metadata": {},
          "execution_count": 101
        }
      ]
    },
    {
      "cell_type": "code",
      "source": [
        "max_features = 10000\n",
        "sequence_length = 250\n",
        "\n",
        "vectorize_layer = layers.TextVectorization(\n",
        "    standardize='lower_and_strip_punctuation',\n",
        "    max_tokens=max_features,\n",
        "    output_mode='int',\n",
        "    output_sequence_length=sequence_length)"
      ],
      "metadata": {
        "id": "tP3mmxhQ3NNe"
      },
      "execution_count": 102,
      "outputs": []
    },
    {
      "cell_type": "code",
      "source": [
        "vectorize_layer.adapt(train_data)\n"
      ],
      "metadata": {
        "id": "m25Xmxxj_0YC"
      },
      "execution_count": 103,
      "outputs": []
    },
    {
      "cell_type": "code",
      "source": [
        "train_sentences = tf.convert_to_tensor(train_data)\n",
        "test_sentences = tf.convert_to_tensor(test_data)\n"
      ],
      "metadata": {
        "id": "9XSeMw1S_4_Z"
      },
      "execution_count": 104,
      "outputs": []
    },
    {
      "cell_type": "code",
      "source": [
        "train_ds = tf.data.Dataset.from_tensor_slices((train_sentences, train_labels))\n",
        "test_ds = tf.data.Dataset.from_tensor_slices((test_sentences, test_labels))"
      ],
      "metadata": {
        "id": "Vdb8xL7UAKCp"
      },
      "execution_count": 105,
      "outputs": []
    },
    {
      "cell_type": "code",
      "source": [
        "AUTOTUNE = tf.data.AUTOTUNE\n",
        "\n",
        "train_ds = train_ds.cache().prefetch(buffer_size=AUTOTUNE).batch(32)\n",
        "test_ds = test_ds.cache().prefetch(buffer_size=AUTOTUNE).batch(32)"
      ],
      "metadata": {
        "id": "yKARt4bYAQkX"
      },
      "execution_count": 106,
      "outputs": []
    },
    {
      "cell_type": "code",
      "source": [
        "embedding = layers.Embedding(max_features + 1, 128)"
      ],
      "metadata": {
        "id": "lKKEaA86ARJe"
      },
      "execution_count": 107,
      "outputs": []
    },
    {
      "cell_type": "markdown",
      "source": [
        "# Model 1"
      ],
      "metadata": {
        "id": "wyF179MgApgv"
      }
    },
    {
      "cell_type": "code",
      "source": [
        "input = layers.Input(shape=(), dtype=tf.string)\n",
        "x = vectorize_layer(input)\n",
        "x = embedding(x)\n",
        "x = layers.GlobalAveragePooling1D()(x)\n",
        "outputs = layers.Dense(1, activation='sigmoid')(x)\n",
        "model_1 = tf.keras.Model(input, outputs, name = \"NLP_model_1\")\n",
        "model_1.compile(loss=\"binary_crossentropy\", optimizer=tf.keras.optimizers.Adam(), metrics = ['accuracy'])\n",
        "history_1 = model_1.fit(train_ds, epochs=10, validation_data=test_ds, callbacks=get_callbacks(model_1.name))"
      ],
      "metadata": {
        "colab": {
          "base_uri": "https://localhost:8080/"
        },
        "id": "O3JsMzmoAZGY",
        "outputId": "0c418d58-1677-470c-e2ad-c3beeaa51ddc"
      },
      "execution_count": 109,
      "outputs": [
        {
          "output_type": "stream",
          "name": "stdout",
          "text": [
            "Epoch 1/10\n",
            "140/140 [==============================] - ETA: 0s - loss: 0.4584 - accuracy: 0.8686\n",
            "Epoch 1: val_loss improved from inf to 0.39580, saving model to saved_models/NLP_model_1\n",
            "140/140 [==============================] - 21s 125ms/step - loss: 0.4584 - accuracy: 0.8686 - val_loss: 0.3958 - val_accuracy: 0.8556\n",
            "Epoch 2/10\n",
            "139/140 [============================>.] - ETA: 0s - loss: 0.3669 - accuracy: 0.8687\n",
            "Epoch 2: val_loss improved from 0.39580 to 0.38340, saving model to saved_models/NLP_model_1\n",
            "140/140 [==============================] - 2s 12ms/step - loss: 0.3671 - accuracy: 0.8686 - val_loss: 0.3834 - val_accuracy: 0.8556\n",
            "Epoch 3/10\n",
            "137/140 [============================>.] - ETA: 0s - loss: 0.3518 - accuracy: 0.8695\n",
            "Epoch 3: val_loss improved from 0.38340 to 0.36652, saving model to saved_models/NLP_model_1\n",
            "140/140 [==============================] - 2s 12ms/step - loss: 0.3533 - accuracy: 0.8686 - val_loss: 0.3665 - val_accuracy: 0.8556\n",
            "Epoch 4/10\n",
            "139/140 [============================>.] - ETA: 0s - loss: 0.3330 - accuracy: 0.8687\n",
            "Epoch 4: val_loss improved from 0.36652 to 0.34028, saving model to saved_models/NLP_model_1\n",
            "140/140 [==============================] - 2s 12ms/step - loss: 0.3331 - accuracy: 0.8686 - val_loss: 0.3403 - val_accuracy: 0.8556\n",
            "Epoch 5/10\n",
            "139/140 [============================>.] - ETA: 0s - loss: 0.3023 - accuracy: 0.8687\n",
            "Epoch 5: val_loss improved from 0.34028 to 0.30208, saving model to saved_models/NLP_model_1\n",
            "140/140 [==============================] - 2s 11ms/step - loss: 0.3023 - accuracy: 0.8686 - val_loss: 0.3021 - val_accuracy: 0.8556\n",
            "Epoch 6/10\n",
            "129/140 [==========================>...] - ETA: 0s - loss: 0.2593 - accuracy: 0.8723\n",
            "Epoch 6: val_loss improved from 0.30208 to 0.25625, saving model to saved_models/NLP_model_1\n",
            "140/140 [==============================] - 2s 12ms/step - loss: 0.2608 - accuracy: 0.8702 - val_loss: 0.2562 - val_accuracy: 0.8771\n",
            "Epoch 7/10\n",
            "136/140 [============================>.] - ETA: 0s - loss: 0.2150 - accuracy: 0.8989\n",
            "Epoch 7: val_loss improved from 0.25625 to 0.21197, saving model to saved_models/NLP_model_1\n",
            "140/140 [==============================] - 2s 12ms/step - loss: 0.2154 - accuracy: 0.8986 - val_loss: 0.2120 - val_accuracy: 0.9229\n",
            "Epoch 8/10\n",
            "140/140 [==============================] - ETA: 0s - loss: 0.1746 - accuracy: 0.9325\n",
            "Epoch 8: val_loss improved from 0.21197 to 0.17577, saving model to saved_models/NLP_model_1\n",
            "140/140 [==============================] - 2s 15ms/step - loss: 0.1746 - accuracy: 0.9325 - val_loss: 0.1758 - val_accuracy: 0.9525\n",
            "Epoch 9/10\n",
            "138/140 [============================>.] - ETA: 0s - loss: 0.1423 - accuracy: 0.9540\n",
            "Epoch 9: val_loss improved from 0.17577 to 0.14866, saving model to saved_models/NLP_model_1\n",
            "140/140 [==============================] - 2s 18ms/step - loss: 0.1423 - accuracy: 0.9542 - val_loss: 0.1487 - val_accuracy: 0.9641\n",
            "Epoch 10/10\n",
            "135/140 [===========================>..] - ETA: 0s - loss: 0.1182 - accuracy: 0.9674\n",
            "Epoch 10: val_loss improved from 0.14866 to 0.12892, saving model to saved_models/NLP_model_1\n",
            "140/140 [==============================] - 2s 16ms/step - loss: 0.1182 - accuracy: 0.9675 - val_loss: 0.1289 - val_accuracy: 0.9677\n"
          ]
        }
      ]
    },
    {
      "cell_type": "code",
      "source": [
        "model_1 = tf.keras.models.load_model(f\"saved_models/{model_1.name}\")\n",
        "results = model_1.predict(test_ds.map(lambda text, label: text))\n",
        "results = tf.squeeze(tf.round(results))"
      ],
      "metadata": {
        "colab": {
          "base_uri": "https://localhost:8080/"
        },
        "id": "m7jz9DAJA9Qj",
        "outputId": "03540cea-8ea9-4bd4-c3f3-91b5537e962d"
      },
      "execution_count": 110,
      "outputs": [
        {
          "output_type": "stream",
          "name": "stderr",
          "text": [
            "WARNING:tensorflow:From /usr/local/lib/python3.7/dist-packages/tensorflow/python/autograph/pyct/static_analysis/liveness.py:83: Analyzer.lamba_check (from tensorflow.python.autograph.pyct.static_analysis.liveness) is deprecated and will be removed after 2023-09-23.\n",
            "Instructions for updating:\n",
            "Lambda fuctions will be no more assumed to be used in the statement where they are used, or at least in the same block. https://github.com/tensorflow/tensorflow/issues/56089\n"
          ]
        },
        {
          "output_type": "stream",
          "name": "stdout",
          "text": [
            "35/35 [==============================] - 0s 4ms/step\n"
          ]
        }
      ]
    },
    {
      "cell_type": "code",
      "source": [
        "model_1_results = calculate_results(test_labels, results)\n",
        "all_results = []\n",
        "all_results.append(model_1_results)"
      ],
      "metadata": {
        "id": "A4YqYdD6BJKb"
      },
      "execution_count": 118,
      "outputs": []
    },
    {
      "cell_type": "code",
      "source": [
        "plot_graphs(history_1, 'accuracy')"
      ],
      "metadata": {
        "colab": {
          "base_uri": "https://localhost:8080/",
          "height": 279
        },
        "id": "LDA1v2xCBOJy",
        "outputId": "a0bf453a-ca36-45b0-8c53-78721a7f7006"
      },
      "execution_count": 119,
      "outputs": [
        {
          "output_type": "display_data",
          "data": {
            "text/plain": [
              "<Figure size 432x288 with 1 Axes>"
            ],
            "image/png": "[encoded data removed]"
          },
          "metadata": {
            "needs_background": "light"
          }
        }
      ]
    },
    {
      "cell_type": "code",
      "source": [
        "plot_graphs(history_1, 'loss')"
      ],
      "metadata": {
        "colab": {
          "base_uri": "https://localhost:8080/",
          "height": 279
        },
        "id": "CN7t7ybRBU_h",
        "outputId": "9fd81d8b-a9f8-4dfc-b36e-bf925409116c"
      },
      "execution_count": 120,
      "outputs": [
        {
          "output_type": "display_data",
          "data": {
            "text/plain": [
              "<Figure size 432x288 with 1 Axes>"
            ],
            "image/png": "[encoded data removed]"
          },
          "metadata": {
            "needs_background": "light"
          }
        }
      ]
    },
    {
      "cell_type": "markdown",
      "source": [
        "# Model 2"
      ],
      "metadata": {
        "id": "H04EFiOpBXwN"
      }
    },
    {
      "cell_type": "code",
      "source": [
        "input = layers.Input(shape=(), dtype=tf.string)\n",
        "x = vectorize_layer(input)\n",
        "x = embedding(x)\n",
        "x = layers.GlobalAveragePooling1D()(x)\n",
        "x = layers.Dense(64, activation='relu')(x)\n",
        "outputs = layers.Dense(1, activation='sigmoid')(x)\n",
        "model_2 = tf.keras.Model(input, outputs, name = \"NLP_model_2\")\n",
        "model_2.compile(loss=\"binary_crossentropy\", optimizer=tf.keras.optimizers.Adam(), metrics = ['accuracy'])\n",
        "history_2 = model_2.fit(train_ds, epochs=10, validation_data=test_ds, callbacks=get_callbacks(model_2.name))"
      ],
      "metadata": {
        "colab": {
          "base_uri": "https://localhost:8080/"
        },
        "id": "aGB2RL15BW_0",
        "outputId": "e935d3d4-e30c-4ada-c031-5a952f9452ae"
      },
      "execution_count": 115,
      "outputs": [
        {
          "output_type": "stream",
          "name": "stdout",
          "text": [
            "Epoch 1/10\n",
            "140/140 [==============================] - ETA: 0s - loss: 0.2483 - accuracy: 0.9089\n",
            "Epoch 1: val_loss improved from inf to 0.12771, saving model to saved_models/NLP_model_2\n",
            "140/140 [==============================] - 16s 107ms/step - loss: 0.2483 - accuracy: 0.9089 - val_loss: 0.1277 - val_accuracy: 0.9686\n",
            "Epoch 2/10\n",
            "131/140 [===========================>..] - ETA: 0s - loss: 0.0733 - accuracy: 0.9814\n",
            "Epoch 2: val_loss improved from 0.12771 to 0.07712, saving model to saved_models/NLP_model_2\n",
            "140/140 [==============================] - 2s 13ms/step - loss: 0.0726 - accuracy: 0.9812 - val_loss: 0.0771 - val_accuracy: 0.9758\n",
            "Epoch 3/10\n",
            "140/140 [==============================] - ETA: 0s - loss: 0.0472 - accuracy: 0.9859\n",
            "Epoch 3: val_loss improved from 0.07712 to 0.06755, saving model to saved_models/NLP_model_2\n",
            "140/140 [==============================] - 3s 24ms/step - loss: 0.0472 - accuracy: 0.9859 - val_loss: 0.0675 - val_accuracy: 0.9785\n",
            "Epoch 4/10\n",
            "136/140 [============================>.] - ETA: 0s - loss: 0.0383 - accuracy: 0.9876\n",
            "Epoch 4: val_loss improved from 0.06755 to 0.06375, saving model to saved_models/NLP_model_2\n",
            "140/140 [==============================] - 2s 14ms/step - loss: 0.0390 - accuracy: 0.9877 - val_loss: 0.0638 - val_accuracy: 0.9803\n",
            "Epoch 5/10\n",
            "140/140 [==============================] - ETA: 0s - loss: 0.0340 - accuracy: 0.9904\n",
            "Epoch 5: val_loss improved from 0.06375 to 0.06149, saving model to saved_models/NLP_model_2\n",
            "140/140 [==============================] - 3s 18ms/step - loss: 0.0340 - accuracy: 0.9904 - val_loss: 0.0615 - val_accuracy: 0.9812\n",
            "Epoch 6/10\n",
            "140/140 [==============================] - ETA: 0s - loss: 0.0303 - accuracy: 0.9917\n",
            "Epoch 6: val_loss improved from 0.06149 to 0.05988, saving model to saved_models/NLP_model_2\n",
            "140/140 [==============================] - 3s 21ms/step - loss: 0.0303 - accuracy: 0.9917 - val_loss: 0.0599 - val_accuracy: 0.9839\n",
            "Epoch 7/10\n",
            "133/140 [===========================>..] - ETA: 0s - loss: 0.0266 - accuracy: 0.9922\n",
            "Epoch 7: val_loss improved from 0.05988 to 0.05876, saving model to saved_models/NLP_model_2\n",
            "140/140 [==============================] - 2s 13ms/step - loss: 0.0272 - accuracy: 0.9922 - val_loss: 0.0588 - val_accuracy: 0.9857\n",
            "Epoch 8/10\n",
            "132/140 [===========================>..] - ETA: 0s - loss: 0.0240 - accuracy: 0.9934\n",
            "Epoch 8: val_loss improved from 0.05876 to 0.05812, saving model to saved_models/NLP_model_2\n",
            "140/140 [==============================] - 2s 13ms/step - loss: 0.0246 - accuracy: 0.9933 - val_loss: 0.0581 - val_accuracy: 0.9857\n",
            "Epoch 9/10\n",
            "134/140 [===========================>..] - ETA: 0s - loss: 0.0214 - accuracy: 0.9942\n",
            "Epoch 9: val_loss improved from 0.05812 to 0.05788, saving model to saved_models/NLP_model_2\n",
            "140/140 [==============================] - 2s 16ms/step - loss: 0.0223 - accuracy: 0.9939 - val_loss: 0.0579 - val_accuracy: 0.9857\n",
            "Epoch 10/10\n",
            "133/140 [===========================>..] - ETA: 0s - loss: 0.0194 - accuracy: 0.9946\n",
            "Epoch 10: val_loss did not improve from 0.05788\n",
            "140/140 [==============================] - 1s 5ms/step - loss: 0.0202 - accuracy: 0.9944 - val_loss: 0.0580 - val_accuracy: 0.9865\n"
          ]
        }
      ]
    },
    {
      "cell_type": "code",
      "source": [
        "model_2 = tf.keras.models.load_model(f\"saved_models/{model_2.name}\")\n",
        "results = model_2.predict(test_ds.map(lambda text, label: text))\n",
        "results = tf.squeeze(tf.round(results))\n",
        "model_2_results = calculate_results(test_labels, results)\n",
        "model_2_results"
      ],
      "metadata": {
        "colab": {
          "base_uri": "https://localhost:8080/"
        },
        "id": "qLNmqDVOBlnB",
        "outputId": "6e38cc1f-6b9e-4f30-9bbf-c2e584f72261"
      },
      "execution_count": 122,
      "outputs": [
        {
          "output_type": "stream",
          "name": "stdout",
          "text": [
            "35/35 [==============================] - 0s 2ms/step\n"
          ]
        },
        {
          "output_type": "execute_result",
          "data": {
            "text/plain": [
              "{'Accuracy': 98.56502242152466,\n",
              " 'Precision': 0.9855521450878877,\n",
              " 'Recall value': 0.9856502242152466,\n",
              " 'F1-Score': 0.9854973823019776}"
            ]
          },
          "metadata": {},
          "execution_count": 122
        }
      ]
    },
    {
      "cell_type": "code",
      "source": [
        "all_results.append(model_2_results)"
      ],
      "metadata": {
        "id": "lQ59VnzWCPyI"
      },
      "execution_count": 123,
      "outputs": []
    },
    {
      "cell_type": "markdown",
      "source": [
        "# Model 3"
      ],
      "metadata": {
        "id": "_L741KqDCX0u"
      }
    },
    {
      "cell_type": "code",
      "source": [
        "from tensorflow.keras import layers\n",
        "\n",
        "input = layers.Input(shape=(), dtype=\"string\")\n",
        "x = vectorize_layer(input)\n",
        "x = embedding(x)\n",
        "x = layers.LSTM(units=64, return_sequences=True)(x)\n",
        "x = layers.LSTM(64)(x)\n",
        "x = layers.Dense(64, activation='relu')(x)\n",
        "output = layers.Dense(1, activation='sigmoid')(x)\n",
        "\n",
        "model_3 = tf.keras.Model(input, output, name=\"nlp_model_2_LSTM\")\n",
        "model_3.compile(loss=\"binary_crossentropy\", optimizer=tf.keras.optimizers.Adam(), metrics = ['accuracy'])\n",
        "history_3 = model_3.fit(train_ds, epochs=10, validation_data=test_ds, callbacks=get_callbacks(model_3.name))"
      ],
      "metadata": {
        "colab": {
          "base_uri": "https://localhost:8080/"
        },
        "id": "xGHwp6ndCXTz",
        "outputId": "ec2f3451-3528-456f-e15b-68caaa695b7a"
      },
      "execution_count": 124,
      "outputs": [
        {
          "output_type": "stream",
          "name": "stdout",
          "text": [
            "Epoch 1/10\n",
            "140/140 [==============================] - ETA: 0s - loss: 0.4038 - accuracy: 0.8686\n",
            "Epoch 1: val_loss improved from inf to 0.41557, saving model to saved_models/nlp_model_2_LSTM\n"
          ]
        },
        {
          "output_type": "stream",
          "name": "stderr",
          "text": [
            "WARNING:absl:Found untraced functions such as lstm_cell_layer_call_fn, lstm_cell_layer_call_and_return_conditional_losses, lstm_cell_1_layer_call_fn, lstm_cell_1_layer_call_and_return_conditional_losses while saving (showing 4 of 4). These functions will not be directly callable after loading.\n"
          ]
        },
        {
          "output_type": "stream",
          "name": "stdout",
          "text": [
            "\b\b\b\b\b\b\b\b\b\b\b\b\b\b\b\b\b\b\b\b\b\b\b\b\b\b\b\b\b\b\b\b\b\b\b\b\b\b\b\b\b\b\b\b\b\b\b\b\b\b\b\b\b\b\b\b\b\b\b\b\b\b\b\b\b\b\b\b\b\b\b\b\b\b\b\b\b\b\b\b\b\b\b\b\r140/140 [==============================] - 47s 287ms/step - loss: 0.4038 - accuracy: 0.8686 - val_loss: 0.4156 - val_accuracy: 0.8556\n",
            "Epoch 2/10\n",
            "138/140 [============================>.] - ETA: 0s - loss: 0.3910 - accuracy: 0.8691\n",
            "Epoch 2: val_loss improved from 0.41557 to 0.41452, saving model to saved_models/nlp_model_2_LSTM\n"
          ]
        },
        {
          "output_type": "stream",
          "name": "stderr",
          "text": [
            "WARNING:absl:Found untraced functions such as lstm_cell_layer_call_fn, lstm_cell_layer_call_and_return_conditional_losses, lstm_cell_1_layer_call_fn, lstm_cell_1_layer_call_and_return_conditional_losses while saving (showing 4 of 4). These functions will not be directly callable after loading.\n"
          ]
        },
        {
          "output_type": "stream",
          "name": "stdout",
          "text": [
            "\b\b\b\b\b\b\b\b\b\b\b\b\b\b\b\b\b\b\b\b\b\b\b\b\b\b\b\b\b\b\b\b\b\b\b\b\b\b\b\b\b\b\b\b\b\b\b\b\b\b\b\b\b\b\b\b\b\b\b\b\b\b\b\b\b\b\b\b\b\b\b\b\b\b\b\b\b\b\b\b\b\b\b\b\r140/140 [==============================] - 15s 110ms/step - loss: 0.3919 - accuracy: 0.8686 - val_loss: 0.4145 - val_accuracy: 0.8556\n",
            "Epoch 3/10\n",
            "139/140 [============================>.] - ETA: 0s - loss: 0.3912 - accuracy: 0.8687\n",
            "Epoch 3: val_loss improved from 0.41452 to 0.41379, saving model to saved_models/nlp_model_2_LSTM\n"
          ]
        },
        {
          "output_type": "stream",
          "name": "stderr",
          "text": [
            "WARNING:absl:Found untraced functions such as lstm_cell_layer_call_fn, lstm_cell_layer_call_and_return_conditional_losses, lstm_cell_1_layer_call_fn, lstm_cell_1_layer_call_and_return_conditional_losses while saving (showing 4 of 4). These functions will not be directly callable after loading.\n"
          ]
        },
        {
          "output_type": "stream",
          "name": "stdout",
          "text": [
            "\b\b\b\b\b\b\b\b\b\b\b\b\b\b\b\b\b\b\b\b\b\b\b\b\b\b\b\b\b\b\b\b\b\b\b\b\b\b\b\b\b\b\b\b\b\b\b\b\b\b\b\b\b\b\b\b\b\b\b\b\b\b\b\b\b\b\b\b\b\b\b\b\b\b\b\b\b\b\b\b\b\b\b\b\r140/140 [==============================] - 19s 137ms/step - loss: 0.3915 - accuracy: 0.8686 - val_loss: 0.4138 - val_accuracy: 0.8556\n",
            "Epoch 4/10\n",
            "140/140 [==============================] - ETA: 0s - loss: 0.3912 - accuracy: 0.8686\n",
            "Epoch 4: val_loss improved from 0.41379 to 0.41338, saving model to saved_models/nlp_model_2_LSTM\n"
          ]
        },
        {
          "output_type": "stream",
          "name": "stderr",
          "text": [
            "WARNING:absl:Found untraced functions such as lstm_cell_layer_call_fn, lstm_cell_layer_call_and_return_conditional_losses, lstm_cell_1_layer_call_fn, lstm_cell_1_layer_call_and_return_conditional_losses while saving (showing 4 of 4). These functions will not be directly callable after loading.\n"
          ]
        },
        {
          "output_type": "stream",
          "name": "stdout",
          "text": [
            "\b\b\b\b\b\b\b\b\b\b\b\b\b\b\b\b\b\b\b\b\b\b\b\b\b\b\b\b\b\b\b\b\b\b\b\b\b\b\b\b\b\b\b\b\b\b\b\b\b\b\b\b\b\b\b\b\b\b\b\b\b\b\b\b\b\b\b\b\b\b\b\b\b\b\b\b\b\b\b\b\b\b\b\b\r140/140 [==============================] - 16s 112ms/step - loss: 0.3912 - accuracy: 0.8686 - val_loss: 0.4134 - val_accuracy: 0.8556\n",
            "Epoch 5/10\n",
            "139/140 [============================>.] - ETA: 0s - loss: 0.3908 - accuracy: 0.8687\n",
            "Epoch 5: val_loss improved from 0.41338 to 0.41324, saving model to saved_models/nlp_model_2_LSTM\n"
          ]
        },
        {
          "output_type": "stream",
          "name": "stderr",
          "text": [
            "WARNING:absl:Found untraced functions such as lstm_cell_layer_call_fn, lstm_cell_layer_call_and_return_conditional_losses, lstm_cell_1_layer_call_fn, lstm_cell_1_layer_call_and_return_conditional_losses while saving (showing 4 of 4). These functions will not be directly callable after loading.\n"
          ]
        },
        {
          "output_type": "stream",
          "name": "stdout",
          "text": [
            "\b\b\b\b\b\b\b\b\b\b\b\b\b\b\b\b\b\b\b\b\b\b\b\b\b\b\b\b\b\b\b\b\b\b\b\b\b\b\b\b\b\b\b\b\b\b\b\b\b\b\b\b\b\b\b\b\b\b\b\b\b\b\b\b\b\b\b\b\b\b\b\b\b\b\b\b\b\b\b\b\b\b\b\b\r140/140 [==============================] - 17s 120ms/step - loss: 0.3911 - accuracy: 0.8686 - val_loss: 0.4132 - val_accuracy: 0.8556\n",
            "Epoch 6/10\n",
            "138/140 [============================>.] - ETA: 0s - loss: 0.3900 - accuracy: 0.8691\n",
            "Epoch 6: val_loss improved from 0.41324 to 0.41314, saving model to saved_models/nlp_model_2_LSTM\n"
          ]
        },
        {
          "output_type": "stream",
          "name": "stderr",
          "text": [
            "WARNING:absl:Found untraced functions such as lstm_cell_layer_call_fn, lstm_cell_layer_call_and_return_conditional_losses, lstm_cell_1_layer_call_fn, lstm_cell_1_layer_call_and_return_conditional_losses while saving (showing 4 of 4). These functions will not be directly callable after loading.\n"
          ]
        },
        {
          "output_type": "stream",
          "name": "stdout",
          "text": [
            "\b\b\b\b\b\b\b\b\b\b\b\b\b\b\b\b\b\b\b\b\b\b\b\b\b\b\b\b\b\b\b\b\b\b\b\b\b\b\b\b\b\b\b\b\b\b\b\b\b\b\b\b\b\b\b\b\b\b\b\b\b\b\b\b\b\b\b\b\b\b\b\b\b\b\b\b\b\b\b\b\b\b\b\b\r140/140 [==============================] - 14s 100ms/step - loss: 0.3909 - accuracy: 0.8686 - val_loss: 0.4131 - val_accuracy: 0.8556\n",
            "Epoch 7/10\n",
            "140/140 [==============================] - ETA: 0s - loss: 0.3908 - accuracy: 0.8686\n",
            "Epoch 7: val_loss improved from 0.41314 to 0.41306, saving model to saved_models/nlp_model_2_LSTM\n"
          ]
        },
        {
          "output_type": "stream",
          "name": "stderr",
          "text": [
            "WARNING:absl:Found untraced functions such as lstm_cell_layer_call_fn, lstm_cell_layer_call_and_return_conditional_losses, lstm_cell_1_layer_call_fn, lstm_cell_1_layer_call_and_return_conditional_losses while saving (showing 4 of 4). These functions will not be directly callable after loading.\n"
          ]
        },
        {
          "output_type": "stream",
          "name": "stdout",
          "text": [
            "\b\b\b\b\b\b\b\b\b\b\b\b\b\b\b\b\b\b\b\b\b\b\b\b\b\b\b\b\b\b\b\b\b\b\b\b\b\b\b\b\b\b\b\b\b\b\b\b\b\b\b\b\b\b\b\b\b\b\b\b\b\b\b\b\b\b\b\b\b\b\b\b\b\b\b\b\b\b\b\b\b\b\b\b\r140/140 [==============================] - 12s 84ms/step - loss: 0.3908 - accuracy: 0.8686 - val_loss: 0.4131 - val_accuracy: 0.8556\n",
            "Epoch 8/10\n",
            "138/140 [============================>.] - ETA: 0s - loss: 0.3897 - accuracy: 0.8691\n",
            "Epoch 8: val_loss improved from 0.41306 to 0.41302, saving model to saved_models/nlp_model_2_LSTM\n"
          ]
        },
        {
          "output_type": "stream",
          "name": "stderr",
          "text": [
            "WARNING:absl:Found untraced functions such as lstm_cell_layer_call_fn, lstm_cell_layer_call_and_return_conditional_losses, lstm_cell_1_layer_call_fn, lstm_cell_1_layer_call_and_return_conditional_losses while saving (showing 4 of 4). These functions will not be directly callable after loading.\n"
          ]
        },
        {
          "output_type": "stream",
          "name": "stdout",
          "text": [
            "\b\b\b\b\b\b\b\b\b\b\b\b\b\b\b\b\b\b\b\b\b\b\b\b\b\b\b\b\b\b\b\b\b\b\b\b\b\b\b\b\b\b\b\b\b\b\b\b\b\b\b\b\b\b\b\b\b\b\b\b\b\b\b\b\b\b\b\b\b\b\b\b\b\b\b\b\b\b\b\b\b\b\b\b\r140/140 [==============================] - 12s 84ms/step - loss: 0.3907 - accuracy: 0.8686 - val_loss: 0.4130 - val_accuracy: 0.8556\n",
            "Epoch 9/10\n",
            "140/140 [==============================] - ETA: 0s - loss: 0.3906 - accuracy: 0.8686\n",
            "Epoch 9: val_loss improved from 0.41302 to 0.41298, saving model to saved_models/nlp_model_2_LSTM\n"
          ]
        },
        {
          "output_type": "stream",
          "name": "stderr",
          "text": [
            "WARNING:absl:Found untraced functions such as lstm_cell_layer_call_fn, lstm_cell_layer_call_and_return_conditional_losses, lstm_cell_1_layer_call_fn, lstm_cell_1_layer_call_and_return_conditional_losses while saving (showing 4 of 4). These functions will not be directly callable after loading.\n"
          ]
        },
        {
          "output_type": "stream",
          "name": "stdout",
          "text": [
            "\b\b\b\b\b\b\b\b\b\b\b\b\b\b\b\b\b\b\b\b\b\b\b\b\b\b\b\b\b\b\b\b\b\b\b\b\b\b\b\b\b\b\b\b\b\b\b\b\b\b\b\b\b\b\b\b\b\b\b\b\b\b\b\b\b\b\b\b\b\b\b\b\b\b\b\b\b\b\b\b\b\b\b\b\r140/140 [==============================] - 13s 95ms/step - loss: 0.3906 - accuracy: 0.8686 - val_loss: 0.4130 - val_accuracy: 0.8556\n",
            "Epoch 10/10\n",
            "139/140 [============================>.] - ETA: 0s - loss: 0.3903 - accuracy: 0.8687\n",
            "Epoch 10: val_loss improved from 0.41298 to 0.41296, saving model to saved_models/nlp_model_2_LSTM\n"
          ]
        },
        {
          "output_type": "stream",
          "name": "stderr",
          "text": [
            "WARNING:absl:Found untraced functions such as lstm_cell_layer_call_fn, lstm_cell_layer_call_and_return_conditional_losses, lstm_cell_1_layer_call_fn, lstm_cell_1_layer_call_and_return_conditional_losses while saving (showing 4 of 4). These functions will not be directly callable after loading.\n"
          ]
        },
        {
          "output_type": "stream",
          "name": "stdout",
          "text": [
            "\b\b\b\b\b\b\b\b\b\b\b\b\b\b\b\b\b\b\b\b\b\b\b\b\b\b\b\b\b\b\b\b\b\b\b\b\b\b\b\b\b\b\b\b\b\b\b\b\b\b\b\b\b\b\b\b\b\b\b\b\b\b\b\b\b\b\b\b\b\b\b\b\b\b\b\b\b\b\b\b\b\b\b\b\r140/140 [==============================] - 13s 90ms/step - loss: 0.3906 - accuracy: 0.8686 - val_loss: 0.4130 - val_accuracy: 0.8556\n"
          ]
        }
      ]
    },
    {
      "cell_type": "code",
      "source": [
        "model_3 = tf.keras.models.load_model(f\"saved_models/{model_3.name}\")\n",
        "results = model_3.predict(test_ds.map(lambda text, label: text))\n",
        "results = tf.squeeze(tf.round(results))\n",
        "model_3_results = calculate_results(test_labels, results)\n",
        "model_3_results"
      ],
      "metadata": {
        "colab": {
          "base_uri": "https://localhost:8080/"
        },
        "id": "ZOIamrGNCWax",
        "outputId": "0cd15c7f-5803-4d94-eacb-bda3db97477a"
      },
      "execution_count": 125,
      "outputs": [
        {
          "output_type": "stream",
          "name": "stdout",
          "text": [
            "35/35 [==============================] - 1s 12ms/step\n"
          ]
        },
        {
          "output_type": "stream",
          "name": "stderr",
          "text": [
            "/usr/local/lib/python3.7/dist-packages/sklearn/metrics/_classification.py:1318: UndefinedMetricWarning: Precision and F-score are ill-defined and being set to 0.0 in labels with no predicted samples. Use `zero_division` parameter to control this behavior.\n",
            "  _warn_prf(average, modifier, msg_start, len(result))\n"
          ]
        },
        {
          "output_type": "execute_result",
          "data": {
            "text/plain": [
              "{'Accuracy': 85.56053811659193,\n",
              " 'Precision': 0.732060568280078,\n",
              " 'Recall value': 0.8556053811659193,\n",
              " 'F1-Score': 0.7890261320756761}"
            ]
          },
          "metadata": {},
          "execution_count": 125
        }
      ]
    },
    {
      "cell_type": "code",
      "source": [
        "all_results.append(model_3_results)"
      ],
      "metadata": {
        "id": "LCR_e9VhCsIN"
      },
      "execution_count": null,
      "outputs": []
    },
    {
      "cell_type": "markdown",
      "source": [
        "# Model 4"
      ],
      "metadata": {
        "id": "9C2cZfTJCt_n"
      }
    },
    {
      "cell_type": "code",
      "source": [
        "input = layers.Input(shape=(), dtype=\"string\")\n",
        "x = vectorize_layer(input)\n",
        "x = embedding(x)\n",
        "x = layers.GRU(64, return_sequences=True)(x)\n",
        "x = layers.LSTM(64, return_sequences=True)(x)\n",
        "x = layers.GRU(64)(x)\n",
        "x = layers.Dense(64, activation='relu')(x)\n",
        "output = layers.Dense(1, activation='sigmoid')(x)\n",
        "\n",
        "model_4 = tf.keras.Model(input, output, name=\"nlp_model_3_GRU\")\n",
        "model_4.compile(loss=\"binary_crossentropy\", optimizer=tf.keras.optimizers.Adam(), metrics = ['accuracy'])\n",
        "history_4 = model_4.fit(train_ds, epochs=10, validation_data=test_ds, callbacks=get_callbacks(model_4.name))"
      ],
      "metadata": {
        "colab": {
          "base_uri": "https://localhost:8080/"
        },
        "id": "2IIXjWAMCvUU",
        "outputId": "a0329721-75dd-4f7d-d3c6-fe1ebafcf04c"
      },
      "execution_count": 126,
      "outputs": [
        {
          "output_type": "stream",
          "name": "stdout",
          "text": [
            "Epoch 1/10\n",
            "140/140 [==============================] - ETA: 0s - loss: 0.4055 - accuracy: 0.8686\n",
            "Epoch 1: val_loss improved from inf to 0.41502, saving model to saved_models/nlp_model_3_GRU\n"
          ]
        },
        {
          "output_type": "stream",
          "name": "stderr",
          "text": [
            "WARNING:absl:Found untraced functions such as gru_cell_layer_call_fn, gru_cell_layer_call_and_return_conditional_losses, lstm_cell_4_layer_call_fn, lstm_cell_4_layer_call_and_return_conditional_losses, gru_cell_1_layer_call_fn while saving (showing 5 of 6). These functions will not be directly callable after loading.\n"
          ]
        },
        {
          "output_type": "stream",
          "name": "stdout",
          "text": [
            "\b\b\b\b\b\b\b\b\b\b\b\b\b\b\b\b\b\b\b\b\b\b\b\b\b\b\b\b\b\b\b\b\b\b\b\b\b\b\b\b\b\b\b\b\b\b\b\b\b\b\b\b\b\b\b\b\b\b\b\b\b\b\b\b\b\b\b\b\b\b\b\b\b\b\b\b\b\b\b\b\b\b\b\b\r140/140 [==============================] - 35s 210ms/step - loss: 0.4055 - accuracy: 0.8686 - val_loss: 0.4150 - val_accuracy: 0.8556\n",
            "Epoch 2/10\n",
            "140/140 [==============================] - ETA: 0s - loss: 0.3928 - accuracy: 0.8686\n",
            "Epoch 2: val_loss improved from 0.41502 to 0.41459, saving model to saved_models/nlp_model_3_GRU\n"
          ]
        },
        {
          "output_type": "stream",
          "name": "stderr",
          "text": [
            "WARNING:absl:Found untraced functions such as gru_cell_layer_call_fn, gru_cell_layer_call_and_return_conditional_losses, lstm_cell_4_layer_call_fn, lstm_cell_4_layer_call_and_return_conditional_losses, gru_cell_1_layer_call_fn while saving (showing 5 of 6). These functions will not be directly callable after loading.\n"
          ]
        },
        {
          "output_type": "stream",
          "name": "stdout",
          "text": [
            "\b\b\b\b\b\b\b\b\b\b\b\b\b\b\b\b\b\b\b\b\b\b\b\b\b\b\b\b\b\b\b\b\b\b\b\b\b\b\b\b\b\b\b\b\b\b\b\b\b\b\b\b\b\b\b\b\b\b\b\b\b\b\b\b\b\b\b\b\b\b\b\b\b\b\b\b\b\b\b\b\b\b\b\b\r140/140 [==============================] - 17s 120ms/step - loss: 0.3928 - accuracy: 0.8686 - val_loss: 0.4146 - val_accuracy: 0.8556\n",
            "Epoch 3/10\n",
            "140/140 [==============================] - ETA: 0s - loss: 0.3928 - accuracy: 0.8686\n",
            "Epoch 3: val_loss did not improve from 0.41459\n",
            "140/140 [==============================] - 4s 32ms/step - loss: 0.3928 - accuracy: 0.8686 - val_loss: 0.4153 - val_accuracy: 0.8556\n",
            "Epoch 4/10\n",
            "139/140 [============================>.] - ETA: 0s - loss: 0.3918 - accuracy: 0.8687\n",
            "Epoch 4: val_loss did not improve from 0.41459\n",
            "140/140 [==============================] - 4s 31ms/step - loss: 0.3920 - accuracy: 0.8686 - val_loss: 0.4147 - val_accuracy: 0.8556\n",
            "Epoch 5/10\n",
            "140/140 [==============================] - ETA: 0s - loss: 0.3918 - accuracy: 0.8686\n",
            "Epoch 5: val_loss improved from 0.41459 to 0.41458, saving model to saved_models/nlp_model_3_GRU\n"
          ]
        },
        {
          "output_type": "stream",
          "name": "stderr",
          "text": [
            "WARNING:absl:Found untraced functions such as gru_cell_layer_call_fn, gru_cell_layer_call_and_return_conditional_losses, lstm_cell_4_layer_call_fn, lstm_cell_4_layer_call_and_return_conditional_losses, gru_cell_1_layer_call_fn while saving (showing 5 of 6). These functions will not be directly callable after loading.\n"
          ]
        },
        {
          "output_type": "stream",
          "name": "stdout",
          "text": [
            "\b\b\b\b\b\b\b\b\b\b\b\b\b\b\b\b\b\b\b\b\b\b\b\b\b\b\b\b\b\b\b\b\b\b\b\b\b\b\b\b\b\b\b\b\b\b\b\b\b\b\b\b\b\b\b\b\b\b\b\b\b\b\b\b\b\b\b\b\b\b\b\b\b\b\b\b\b\b\b\b\b\b\b\b\r140/140 [==============================] - 17s 122ms/step - loss: 0.3918 - accuracy: 0.8686 - val_loss: 0.4146 - val_accuracy: 0.8556\n",
            "Epoch 6/10\n",
            "139/140 [============================>.] - ETA: 0s - loss: 0.3914 - accuracy: 0.8687\n",
            "Epoch 6: val_loss did not improve from 0.41458\n",
            "140/140 [==============================] - 5s 39ms/step - loss: 0.3916 - accuracy: 0.8686 - val_loss: 0.4147 - val_accuracy: 0.8556\n",
            "Epoch 7/10\n",
            "140/140 [==============================] - ETA: 0s - loss: 0.3915 - accuracy: 0.8686\n",
            "Epoch 7: val_loss improved from 0.41458 to 0.41376, saving model to saved_models/nlp_model_3_GRU\n"
          ]
        },
        {
          "output_type": "stream",
          "name": "stderr",
          "text": [
            "WARNING:absl:Found untraced functions such as gru_cell_layer_call_fn, gru_cell_layer_call_and_return_conditional_losses, lstm_cell_4_layer_call_fn, lstm_cell_4_layer_call_and_return_conditional_losses, gru_cell_1_layer_call_fn while saving (showing 5 of 6). These functions will not be directly callable after loading.\n"
          ]
        },
        {
          "output_type": "stream",
          "name": "stdout",
          "text": [
            "\b\b\b\b\b\b\b\b\b\b\b\b\b\b\b\b\b\b\b\b\b\b\b\b\b\b\b\b\b\b\b\b\b\b\b\b\b\b\b\b\b\b\b\b\b\b\b\b\b\b\b\b\b\b\b\b\b\b\b\b\b\b\b\b\b\b\b\b\b\b\b\b\b\b\b\b\b\b\b\b\b\b\b\b\r140/140 [==============================] - 18s 125ms/step - loss: 0.3915 - accuracy: 0.8686 - val_loss: 0.4138 - val_accuracy: 0.8556\n",
            "Epoch 8/10\n",
            "139/140 [============================>.] - ETA: 0s - loss: 0.3910 - accuracy: 0.8687\n",
            "Epoch 8: val_loss improved from 0.41376 to 0.41357, saving model to saved_models/nlp_model_3_GRU\n"
          ]
        },
        {
          "output_type": "stream",
          "name": "stderr",
          "text": [
            "WARNING:absl:Found untraced functions such as gru_cell_layer_call_fn, gru_cell_layer_call_and_return_conditional_losses, lstm_cell_4_layer_call_fn, lstm_cell_4_layer_call_and_return_conditional_losses, gru_cell_1_layer_call_fn while saving (showing 5 of 6). These functions will not be directly callable after loading.\n"
          ]
        },
        {
          "output_type": "stream",
          "name": "stdout",
          "text": [
            "\b\b\b\b\b\b\b\b\b\b\b\b\b\b\b\b\b\b\b\b\b\b\b\b\b\b\b\b\b\b\b\b\b\b\b\b\b\b\b\b\b\b\b\b\b\b\b\b\b\b\b\b\b\b\b\b\b\b\b\b\b\b\b\b\b\b\b\b\b\b\b\b\b\b\b\b\b\b\b\b\b\b\b\b\r140/140 [==============================] - 20s 141ms/step - loss: 0.3913 - accuracy: 0.8686 - val_loss: 0.4136 - val_accuracy: 0.8556\n",
            "Epoch 9/10\n",
            "139/140 [============================>.] - ETA: 0s - loss: 0.3909 - accuracy: 0.8687\n",
            "Epoch 9: val_loss improved from 0.41357 to 0.41345, saving model to saved_models/nlp_model_3_GRU\n"
          ]
        },
        {
          "output_type": "stream",
          "name": "stderr",
          "text": [
            "WARNING:absl:Found untraced functions such as gru_cell_layer_call_fn, gru_cell_layer_call_and_return_conditional_losses, lstm_cell_4_layer_call_fn, lstm_cell_4_layer_call_and_return_conditional_losses, gru_cell_1_layer_call_fn while saving (showing 5 of 6). These functions will not be directly callable after loading.\n"
          ]
        },
        {
          "output_type": "stream",
          "name": "stdout",
          "text": [
            "\b\b\b\b\b\b\b\b\b\b\b\b\b\b\b\b\b\b\b\b\b\b\b\b\b\b\b\b\b\b\b\b\b\b\b\b\b\b\b\b\b\b\b\b\b\b\b\b\b\b\b\b\b\b\b\b\b\b\b\b\b\b\b\b\b\b\b\b\b\b\b\b\b\b\b\b\b\b\b\b\b\b\b\b\r140/140 [==============================] - 28s 201ms/step - loss: 0.3911 - accuracy: 0.8686 - val_loss: 0.4135 - val_accuracy: 0.8556\n",
            "Epoch 10/10\n",
            "140/140 [==============================] - ETA: 0s - loss: 0.3911 - accuracy: 0.8686\n",
            "Epoch 10: val_loss improved from 0.41345 to 0.41343, saving model to saved_models/nlp_model_3_GRU\n"
          ]
        },
        {
          "output_type": "stream",
          "name": "stderr",
          "text": [
            "WARNING:absl:Found untraced functions such as gru_cell_layer_call_fn, gru_cell_layer_call_and_return_conditional_losses, lstm_cell_4_layer_call_fn, lstm_cell_4_layer_call_and_return_conditional_losses, gru_cell_1_layer_call_fn while saving (showing 5 of 6). These functions will not be directly callable after loading.\n"
          ]
        },
        {
          "output_type": "stream",
          "name": "stdout",
          "text": [
            "\b\b\b\b\b\b\b\b\b\b\b\b\b\b\b\b\b\b\b\b\b\b\b\b\b\b\b\b\b\b\b\b\b\b\b\b\b\b\b\b\b\b\b\b\b\b\b\b\b\b\b\b\b\b\b\b\b\b\b\b\b\b\b\b\b\b\b\b\b\b\b\b\b\b\b\b\b\b\b\b\b\b\b\b\r140/140 [==============================] - 24s 171ms/step - loss: 0.3911 - accuracy: 0.8686 - val_loss: 0.4134 - val_accuracy: 0.8556\n"
          ]
        }
      ]
    },
    {
      "cell_type": "code",
      "source": [
        "model_4 = tf.keras.models.load_model(f\"saved_models/{model_4.name}\")\n",
        "results = model_4.predict(test_ds.map(lambda text, label: text))\n",
        "results = tf.squeeze(tf.round(results))\n",
        "model_4_results = calculate_results(test_labels, results)\n",
        "model_4_results"
      ],
      "metadata": {
        "colab": {
          "base_uri": "https://localhost:8080/"
        },
        "id": "_OfBvX2oC5IZ",
        "outputId": "f5218b83-be1e-43cb-c0f6-b862890f5840"
      },
      "execution_count": 127,
      "outputs": [
        {
          "output_type": "stream",
          "name": "stdout",
          "text": [
            "35/35 [==============================] - 2s 22ms/step\n"
          ]
        },
        {
          "output_type": "stream",
          "name": "stderr",
          "text": [
            "/usr/local/lib/python3.7/dist-packages/sklearn/metrics/_classification.py:1318: UndefinedMetricWarning: Precision and F-score are ill-defined and being set to 0.0 in labels with no predicted samples. Use `zero_division` parameter to control this behavior.\n",
            "  _warn_prf(average, modifier, msg_start, len(result))\n"
          ]
        },
        {
          "output_type": "execute_result",
          "data": {
            "text/plain": [
              "{'Accuracy': 85.56053811659193,\n",
              " 'Precision': 0.732060568280078,\n",
              " 'Recall value': 0.8556053811659193,\n",
              " 'F1-Score': 0.7890261320756761}"
            ]
          },
          "metadata": {},
          "execution_count": 127
        }
      ]
    },
    {
      "cell_type": "code",
      "source": [
        "all_results.append(model_4_results)"
      ],
      "metadata": {
        "id": "DvdERc9cDAcL"
      },
      "execution_count": 128,
      "outputs": []
    },
    {
      "cell_type": "markdown",
      "source": [
        "# Model 5"
      ],
      "metadata": {
        "id": "ZelVgqZdDnfw"
      }
    },
    {
      "cell_type": "code",
      "source": [
        "input = layers.Input(shape=(), dtype=\"string\")\n",
        "x = vectorize_layer(input)\n",
        "x = embedding(x)\n",
        "x = layers.Bidirectional(layers.LSTM(64, return_sequences=True))(x)\n",
        "x = layers.Bidirectional(layers.GRU(64, return_sequences=True))(x)\n",
        "x = layers.GlobalAveragePooling1D()(x)\n",
        "x = layers.Dense(64, activation='relu')(x)\n",
        "output = layers.Dense(1, activation='sigmoid')(x)\n",
        "\n",
        "model_5 = tf.keras.Model(input, output, name=\"nlp_model_4_BI_LSTM\")\n",
        "model_5.compile(loss=\"binary_crossentropy\", optimizer=tf.keras.optimizers.Adam(), metrics = ['accuracy'])\n",
        "history_5 = model_5.fit(train_ds, epochs=10, validation_data=test_ds, callbacks=get_callbacks(model_5.name))"
      ],
      "metadata": {
        "colab": {
          "base_uri": "https://localhost:8080/"
        },
        "id": "RspuT1pgDBmk",
        "outputId": "02138826-cc9a-4338-d816-de8c2cca927f"
      },
      "execution_count": 129,
      "outputs": [
        {
          "output_type": "stream",
          "name": "stdout",
          "text": [
            "Epoch 1/10\n",
            "140/140 [==============================] - ETA: 0s - loss: 0.1192 - accuracy: 0.9610\n",
            "Epoch 1: val_loss improved from inf to 0.07365, saving model to saved_models/nlp_model_4_BI_LSTM\n"
          ]
        },
        {
          "output_type": "stream",
          "name": "stderr",
          "text": [
            "WARNING:absl:Found untraced functions such as lstm_cell_7_layer_call_fn, lstm_cell_7_layer_call_and_return_conditional_losses, lstm_cell_8_layer_call_fn, lstm_cell_8_layer_call_and_return_conditional_losses, gru_cell_5_layer_call_fn while saving (showing 5 of 8). These functions will not be directly callable after loading.\n"
          ]
        },
        {
          "output_type": "stream",
          "name": "stdout",
          "text": [
            "\b\b\b\b\b\b\b\b\b\b\b\b\b\b\b\b\b\b\b\b\b\b\b\b\b\b\b\b\b\b\b\b\b\b\b\b\b\b\b\b\b\b\b\b\b\b\b\b\b\b\b\b\b\b\b\b\b\b\b\b\b\b\b\b\b\b\b\b\b\b\b\b\b\b\b\b\b\b\b\b\b\b\b\b\r140/140 [==============================] - 51s 302ms/step - loss: 0.1192 - accuracy: 0.9610 - val_loss: 0.0737 - val_accuracy: 0.9803\n",
            "Epoch 2/10\n",
            "140/140 [==============================] - ETA: 0s - loss: 0.0249 - accuracy: 0.9937\n",
            "Epoch 2: val_loss improved from 0.07365 to 0.05877, saving model to saved_models/nlp_model_4_BI_LSTM\n"
          ]
        },
        {
          "output_type": "stream",
          "name": "stderr",
          "text": [
            "WARNING:absl:Found untraced functions such as lstm_cell_7_layer_call_fn, lstm_cell_7_layer_call_and_return_conditional_losses, lstm_cell_8_layer_call_fn, lstm_cell_8_layer_call_and_return_conditional_losses, gru_cell_5_layer_call_fn while saving (showing 5 of 8). These functions will not be directly callable after loading.\n"
          ]
        },
        {
          "output_type": "stream",
          "name": "stdout",
          "text": [
            "\b\b\b\b\b\b\b\b\b\b\b\b\b\b\b\b\b\b\b\b\b\b\b\b\b\b\b\b\b\b\b\b\b\b\b\b\b\b\b\b\b\b\b\b\b\b\b\b\b\b\b\b\b\b\b\b\b\b\b\b\b\b\b\b\b\b\b\b\b\b\b\b\b\b\b\b\b\b\b\b\b\b\b\b\r140/140 [==============================] - 29s 206ms/step - loss: 0.0249 - accuracy: 0.9937 - val_loss: 0.0588 - val_accuracy: 0.9857\n",
            "Epoch 3/10\n",
            "140/140 [==============================] - ETA: 0s - loss: 0.0226 - accuracy: 0.9933\n",
            "Epoch 3: val_loss did not improve from 0.05877\n",
            "140/140 [==============================] - 8s 55ms/step - loss: 0.0226 - accuracy: 0.9933 - val_loss: 0.0613 - val_accuracy: 0.9821\n",
            "Epoch 4/10\n",
            "140/140 [==============================] - ETA: 0s - loss: 0.0164 - accuracy: 0.9964\n",
            "Epoch 4: val_loss did not improve from 0.05877\n",
            "140/140 [==============================] - 6s 43ms/step - loss: 0.0164 - accuracy: 0.9964 - val_loss: 0.0663 - val_accuracy: 0.9848\n",
            "Epoch 5/10\n",
            "139/140 [============================>.] - ETA: 0s - loss: 0.0125 - accuracy: 0.9971\n",
            "Epoch 5: val_loss improved from 0.05877 to 0.05775, saving model to saved_models/nlp_model_4_BI_LSTM\n"
          ]
        },
        {
          "output_type": "stream",
          "name": "stderr",
          "text": [
            "WARNING:absl:Found untraced functions such as lstm_cell_7_layer_call_fn, lstm_cell_7_layer_call_and_return_conditional_losses, lstm_cell_8_layer_call_fn, lstm_cell_8_layer_call_and_return_conditional_losses, gru_cell_5_layer_call_fn while saving (showing 5 of 8). These functions will not be directly callable after loading.\n"
          ]
        },
        {
          "output_type": "stream",
          "name": "stdout",
          "text": [
            "\b\b\b\b\b\b\b\b\b\b\b\b\b\b\b\b\b\b\b\b\b\b\b\b\b\b\b\b\b\b\b\b\b\b\b\b\b\b\b\b\b\b\b\b\b\b\b\b\b\b\b\b\b\b\b\b\b\b\b\b\b\b\b\b\b\b\b\b\b\b\b\b\b\b\b\b\b\b\b\b\b\b\b\b\r140/140 [==============================] - 28s 202ms/step - loss: 0.0125 - accuracy: 0.9971 - val_loss: 0.0578 - val_accuracy: 0.9848\n",
            "Epoch 6/10\n",
            "140/140 [==============================] - ETA: 0s - loss: 0.0077 - accuracy: 0.9980\n",
            "Epoch 6: val_loss did not improve from 0.05775\n",
            "140/140 [==============================] - 6s 42ms/step - loss: 0.0077 - accuracy: 0.9980 - val_loss: 0.0615 - val_accuracy: 0.9865\n",
            "Epoch 7/10\n",
            "140/140 [==============================] - ETA: 0s - loss: 0.0050 - accuracy: 0.9984\n",
            "Epoch 7: val_loss did not improve from 0.05775\n",
            "140/140 [==============================] - 8s 54ms/step - loss: 0.0050 - accuracy: 0.9984 - val_loss: 0.0661 - val_accuracy: 0.9857\n",
            "Epoch 8/10\n",
            "139/140 [============================>.] - ETA: 0s - loss: 0.0016 - accuracy: 0.9993\n",
            "Epoch 8: val_loss did not improve from 0.05775\n",
            "140/140 [==============================] - 6s 41ms/step - loss: 0.0016 - accuracy: 0.9993 - val_loss: 0.1088 - val_accuracy: 0.9839\n",
            "Epoch 9/10\n",
            "140/140 [==============================] - ETA: 0s - loss: 0.0047 - accuracy: 0.9982\n",
            "Epoch 9: val_loss did not improve from 0.05775\n",
            "140/140 [==============================] - 6s 42ms/step - loss: 0.0047 - accuracy: 0.9982 - val_loss: 0.0633 - val_accuracy: 0.9901\n",
            "Epoch 10/10\n",
            "139/140 [============================>.] - ETA: 0s - loss: 0.0023 - accuracy: 0.9989\n",
            "Epoch 10: val_loss did not improve from 0.05775\n",
            "Restoring model weights from the end of the best epoch: 5.\n",
            "140/140 [==============================] - 6s 41ms/step - loss: 0.0023 - accuracy: 0.9989 - val_loss: 0.0779 - val_accuracy: 0.9803\n",
            "Epoch 10: early stopping\n"
          ]
        }
      ]
    },
    {
      "cell_type": "code",
      "source": [
        "model_5 = tf.keras.models.load_model(f\"saved_models/{model_5.name}\")\n",
        "results = model_5.predict(test_ds.map(lambda text, label: text))\n",
        "results = tf.squeeze(tf.round(results))\n",
        "model_5_results = calculate_results(test_labels, results)\n",
        "model_5_results"
      ],
      "metadata": {
        "colab": {
          "base_uri": "https://localhost:8080/"
        },
        "id": "lkq14lHfD4jU",
        "outputId": "5b2299f8-20b9-4058-a9c6-428e26b29196"
      },
      "execution_count": 131,
      "outputs": [
        {
          "output_type": "stream",
          "name": "stdout",
          "text": [
            "35/35 [==============================] - 2s 20ms/step\n"
          ]
        },
        {
          "output_type": "execute_result",
          "data": {
            "text/plain": [
              "{'Accuracy': 98.47533632286995,\n",
              " 'Precision': 0.984883352728743,\n",
              " 'Recall value': 0.9847533632286996,\n",
              " 'F1-Score': 0.9844403526509884}"
            ]
          },
          "metadata": {},
          "execution_count": 131
        }
      ]
    },
    {
      "cell_type": "code",
      "source": [
        "all_results.append(model_5_results)"
      ],
      "metadata": {
        "id": "VhObDl2cEAAc"
      },
      "execution_count": 134,
      "outputs": []
    },
    {
      "cell_type": "markdown",
      "source": [
        "# Model 6"
      ],
      "metadata": {
        "id": "S2dXU8PAE3jD"
      }
    },
    {
      "cell_type": "code",
      "source": [
        "from tensorflow.keras import layers\n",
        "\n",
        "inputs = layers.Input(shape=(), dtype=\"string\")\n",
        "x = vectorize_layer(inputs)\n",
        "x = embedding(x)\n",
        "x = layers.Conv1D(64, 5, 1, activation='relu',padding=\"same\")(x)\n",
        "x = layers.GlobalMaxPool1D()(x)\n",
        "x = layers.Dense(64, activation='relu')(x)\n",
        "output = layers.Dense(1, activation=\"sigmoid\")(x)\n",
        "\n",
        "model_6 = tf.keras.Model(inputs, output, name=\"NLP_model_5_CNN\")\n",
        "model_6.compile(loss=\"binary_crossentropy\", optimizer=tf.keras.optimizers.Adam(), metrics = ['accuracy'])\n",
        "history_6 = model_6.fit(train_ds, epochs=10, validation_data=test_ds, callbacks=get_callbacks(model_6.name))"
      ],
      "metadata": {
        "colab": {
          "base_uri": "https://localhost:8080/"
        },
        "id": "cout2VqkEAl3",
        "outputId": "a9182074-7051-4cd3-b6d8-565cbd5fb3bb"
      },
      "execution_count": 132,
      "outputs": [
        {
          "output_type": "stream",
          "name": "stdout",
          "text": [
            "140/140 [==============================] - ETA: 0s - loss: 0.0504 - accuracy: 0.9841\n",
            "Epoch 1: val_loss improved from inf to 0.07074, saving model to saved_models/NLP_model_5_CNN\n"
          ]
        },
        {
          "output_type": "stream",
          "name": "stderr",
          "text": [
            "WARNING:absl:Found untraced functions such as _jit_compiled_convolution_op while saving (showing 1 of 1). These functions will not be directly callable after loading.\n"
          ]
        },
        {
          "output_type": "stream",
          "name": "stdout",
          "text": [
            "\b\b\b\b\b\b\b\b\b\b\b\b\b\b\b\b\b\b\b\b\b\b\b\b\b\b\b\b\b\b\b\b\b\b\b\b\b\b\b\b\b\b\b\b\b\b\b\b\b\b\b\b\b\b\b\b\b\b\b\b\b\b\b\b\b\b\b\b\b\b\b\b\b\b\b\b\b\b\b\b\b\b\b\b\r140/140 [==============================] - 20s 101ms/step - loss: 0.0504 - accuracy: 0.9841 - val_loss: 0.0707 - val_accuracy: 0.9821\n",
            "Epoch 2/10\n",
            "135/140 [===========================>..] - ETA: 0s - loss: 0.0324 - accuracy: 0.9891\n",
            "Epoch 2: val_loss improved from 0.07074 to 0.06955, saving model to saved_models/NLP_model_5_CNN\n"
          ]
        },
        {
          "output_type": "stream",
          "name": "stderr",
          "text": [
            "WARNING:absl:Found untraced functions such as _jit_compiled_convolution_op while saving (showing 1 of 1). These functions will not be directly callable after loading.\n"
          ]
        },
        {
          "output_type": "stream",
          "name": "stdout",
          "text": [
            "\b\b\b\b\b\b\b\b\b\b\b\b\b\b\b\b\b\b\b\b\b\b\b\b\b\b\b\b\b\b\b\b\b\b\b\b\b\b\b\b\b\b\b\b\b\b\b\b\b\b\b\b\b\b\b\b\b\b\b\b\b\b\b\b\b\b\b\b\b\b\b\b\b\b\b\b\b\b\b\b\b\b\b\b\r140/140 [==============================] - 2s 15ms/step - loss: 0.0330 - accuracy: 0.9888 - val_loss: 0.0695 - val_accuracy: 0.9848\n",
            "Epoch 3/10\n",
            "139/140 [============================>.] - ETA: 0s - loss: 0.0259 - accuracy: 0.9912\n",
            "Epoch 3: val_loss improved from 0.06955 to 0.06923, saving model to saved_models/NLP_model_5_CNN\n"
          ]
        },
        {
          "output_type": "stream",
          "name": "stderr",
          "text": [
            "WARNING:absl:Found untraced functions such as _jit_compiled_convolution_op while saving (showing 1 of 1). These functions will not be directly callable after loading.\n"
          ]
        },
        {
          "output_type": "stream",
          "name": "stdout",
          "text": [
            "\b\b\b\b\b\b\b\b\b\b\b\b\b\b\b\b\b\b\b\b\b\b\b\b\b\b\b\b\b\b\b\b\b\b\b\b\b\b\b\b\b\b\b\b\b\b\b\b\b\b\b\b\b\b\b\b\b\b\b\b\b\b\b\b\b\b\b\b\b\b\b\b\b\b\b\b\b\b\b\b\b\b\b\b\r140/140 [==============================] - 3s 21ms/step - loss: 0.0259 - accuracy: 0.9913 - val_loss: 0.0692 - val_accuracy: 0.9865\n",
            "Epoch 4/10\n",
            "137/140 [============================>.] - ETA: 0s - loss: 0.0186 - accuracy: 0.9936\n",
            "Epoch 4: val_loss improved from 0.06923 to 0.06853, saving model to saved_models/NLP_model_5_CNN\n"
          ]
        },
        {
          "output_type": "stream",
          "name": "stderr",
          "text": [
            "WARNING:absl:Found untraced functions such as _jit_compiled_convolution_op while saving (showing 1 of 1). These functions will not be directly callable after loading.\n"
          ]
        },
        {
          "output_type": "stream",
          "name": "stdout",
          "text": [
            "\b\b\b\b\b\b\b\b\b\b\b\b\b\b\b\b\b\b\b\b\b\b\b\b\b\b\b\b\b\b\b\b\b\b\b\b\b\b\b\b\b\b\b\b\b\b\b\b\b\b\b\b\b\b\b\b\b\b\b\b\b\b\b\b\b\b\b\b\b\b\b\b\b\b\b\b\b\b\b\b\b\b\b\b\r140/140 [==============================] - 5s 36ms/step - loss: 0.0185 - accuracy: 0.9937 - val_loss: 0.0685 - val_accuracy: 0.9874\n",
            "Epoch 5/10\n",
            "138/140 [============================>.] - ETA: 0s - loss: 0.0136 - accuracy: 0.9955\n",
            "Epoch 5: val_loss did not improve from 0.06853\n",
            "140/140 [==============================] - 2s 14ms/step - loss: 0.0135 - accuracy: 0.9955 - val_loss: 0.0705 - val_accuracy: 0.9874\n",
            "Epoch 6/10\n",
            "136/140 [============================>.] - ETA: 0s - loss: 0.0101 - accuracy: 0.9966\n",
            "Epoch 6: val_loss did not improve from 0.06853\n",
            "140/140 [==============================] - 2s 11ms/step - loss: 0.0101 - accuracy: 0.9966 - val_loss: 0.0764 - val_accuracy: 0.9865\n",
            "Epoch 7/10\n",
            "136/140 [============================>.] - ETA: 0s - loss: 0.0069 - accuracy: 0.9977\n",
            "Epoch 7: val_loss did not improve from 0.06853\n",
            "140/140 [==============================] - 1s 7ms/step - loss: 0.0069 - accuracy: 0.9978 - val_loss: 0.0971 - val_accuracy: 0.9821\n",
            "Epoch 8/10\n",
            "135/140 [===========================>..] - ETA: 0s - loss: 0.0061 - accuracy: 0.9979\n",
            "Epoch 8: val_loss did not improve from 0.06853\n",
            "140/140 [==============================] - 1s 6ms/step - loss: 0.0059 - accuracy: 0.9980 - val_loss: 0.0806 - val_accuracy: 0.9848\n",
            "Epoch 9/10\n",
            "140/140 [==============================] - ETA: 0s - loss: 0.0027 - accuracy: 0.9989\n",
            "Epoch 9: val_loss did not improve from 0.06853\n",
            "Restoring model weights from the end of the best epoch: 4.\n",
            "140/140 [==============================] - 1s 8ms/step - loss: 0.0027 - accuracy: 0.9989 - val_loss: 0.0771 - val_accuracy: 0.9848\n",
            "Epoch 9: early stopping\n"
          ]
        }
      ]
    },
    {
      "cell_type": "code",
      "source": [
        "model_6 = tf.keras.models.load_model(f\"saved_models/{model_6.name}\")\n",
        "results = model_6.predict(test_ds.map(lambda text, label: text))\n",
        "results = tf.squeeze(tf.round(results))\n",
        "model_6_results = calculate_results(test_labels, results)\n",
        "model_6_results"
      ],
      "metadata": {
        "colab": {
          "base_uri": "https://localhost:8080/"
        },
        "id": "Ovk8Ku1sFdrt",
        "outputId": "692cdfc4-a318-4e42-999c-1928e4f4154c"
      },
      "execution_count": 133,
      "outputs": [
        {
          "output_type": "stream",
          "name": "stdout",
          "text": [
            "35/35 [==============================] - 0s 3ms/step\n"
          ]
        },
        {
          "output_type": "execute_result",
          "data": {
            "text/plain": [
              "{'Accuracy': 98.7443946188341,\n",
              " 'Precision': 0.9875165504667965,\n",
              " 'Recall value': 0.9874439461883409,\n",
              " 'F1-Score': 0.9872401634601476}"
            ]
          },
          "metadata": {},
          "execution_count": 133
        }
      ]
    },
    {
      "cell_type": "code",
      "source": [
        "all_results.append(model_6_results)"
      ],
      "metadata": {
        "id": "L3TLmvdgFn5Q"
      },
      "execution_count": 135,
      "outputs": []
    },
    {
      "cell_type": "markdown",
      "source": [
        "# Model 7"
      ],
      "metadata": {
        "id": "gL_wfeusFrjF"
      }
    },
    {
      "cell_type": "code",
      "source": [
        "from tensorflow.keras import layers\n",
        "import tensorflow_hub as hub\n",
        "\n",
        "sentence_layer = hub.KerasLayer(\"https://tfhub.dev/google/universal-sentence-encoder/4\", input_shape=[], dtype=\"string\", trainable=False)"
      ],
      "metadata": {
        "colab": {
          "base_uri": "https://localhost:8080/"
        },
        "id": "ryLvkGreFtQj",
        "outputId": "1021689c-b925-4899-93b4-413af3f151b1"
      },
      "execution_count": 136,
      "outputs": [
        {
          "output_type": "stream",
          "name": "stderr",
          "text": [
            "WARNING:tensorflow:Please fix your imports. Module tensorflow.python.training.tracking.data_structures has been moved to tensorflow.python.trackable.data_structures. The old module will be deleted in version 2.11.\n"
          ]
        }
      ]
    },
    {
      "cell_type": "code",
      "source": [
        "model_7 = tf.keras.models.Sequential([\n",
        "    sentence_layer,\n",
        "    layers.Dense(64, activation='relu'),\n",
        "    layers.Dense(1, activation=\"sigmoid\")\n",
        "], name=\"nlp_model_6_use\")\n",
        "\n",
        "model_7.compile(loss=\"binary_crossentropy\", optimizer=tf.keras.optimizers.Adam(), metrics=['accuracy'])\n",
        "history_7 = model_7.fit(train_ds, epochs=10, validation_data=test_ds, callbacks=get_callbacks(model_7.name))"
      ],
      "metadata": {
        "colab": {
          "base_uri": "https://localhost:8080/"
        },
        "id": "j_xMZ9gBFyBv",
        "outputId": "0b78bd3c-f513-4825-9a7f-50bad97fb407"
      },
      "execution_count": 137,
      "outputs": [
        {
          "output_type": "stream",
          "name": "stdout",
          "text": [
            "Epoch 1/10\n",
            "138/140 [============================>.] - ETA: 0s - loss: 0.2674 - accuracy: 0.9287\n",
            "Epoch 1: val_loss improved from inf to 0.09724, saving model to saved_models/nlp_model_6_use\n",
            "140/140 [==============================] - 21s 120ms/step - loss: 0.2659 - accuracy: 0.9289 - val_loss: 0.0972 - val_accuracy: 0.9767\n",
            "Epoch 2/10\n",
            "136/140 [============================>.] - ETA: 0s - loss: 0.0777 - accuracy: 0.9798\n",
            "Epoch 2: val_loss improved from 0.09724 to 0.06113, saving model to saved_models/nlp_model_6_use\n",
            "140/140 [==============================] - 13s 96ms/step - loss: 0.0780 - accuracy: 0.9794 - val_loss: 0.0611 - val_accuracy: 0.9839\n",
            "Epoch 3/10\n",
            "139/140 [============================>.] - ETA: 0s - loss: 0.0562 - accuracy: 0.9840\n",
            "Epoch 3: val_loss improved from 0.06113 to 0.05011, saving model to saved_models/nlp_model_6_use\n",
            "140/140 [==============================] - 17s 125ms/step - loss: 0.0561 - accuracy: 0.9841 - val_loss: 0.0501 - val_accuracy: 0.9848\n",
            "Epoch 4/10\n",
            "138/140 [============================>.] - ETA: 0s - loss: 0.0458 - accuracy: 0.9878\n",
            "Epoch 4: val_loss improved from 0.05011 to 0.04441, saving model to saved_models/nlp_model_6_use\n",
            "140/140 [==============================] - 18s 128ms/step - loss: 0.0462 - accuracy: 0.9874 - val_loss: 0.0444 - val_accuracy: 0.9839\n",
            "Epoch 5/10\n",
            "138/140 [============================>.] - ETA: 0s - loss: 0.0394 - accuracy: 0.9885\n",
            "Epoch 5: val_loss improved from 0.04441 to 0.04094, saving model to saved_models/nlp_model_6_use\n",
            "140/140 [==============================] - 13s 93ms/step - loss: 0.0399 - accuracy: 0.9881 - val_loss: 0.0409 - val_accuracy: 0.9848\n",
            "Epoch 6/10\n",
            "140/140 [==============================] - ETA: 0s - loss: 0.0353 - accuracy: 0.9897\n",
            "Epoch 6: val_loss improved from 0.04094 to 0.03862, saving model to saved_models/nlp_model_6_use\n",
            "140/140 [==============================] - 17s 123ms/step - loss: 0.0353 - accuracy: 0.9897 - val_loss: 0.0386 - val_accuracy: 0.9857\n",
            "Epoch 7/10\n",
            "140/140 [==============================] - ETA: 0s - loss: 0.0315 - accuracy: 0.9901\n",
            "Epoch 7: val_loss improved from 0.03862 to 0.03703, saving model to saved_models/nlp_model_6_use\n",
            "140/140 [==============================] - 14s 98ms/step - loss: 0.0315 - accuracy: 0.9901 - val_loss: 0.0370 - val_accuracy: 0.9857\n",
            "Epoch 8/10\n",
            "136/140 [============================>.] - ETA: 0s - loss: 0.0274 - accuracy: 0.9910\n",
            "Epoch 8: val_loss improved from 0.03703 to 0.03592, saving model to saved_models/nlp_model_6_use\n",
            "140/140 [==============================] - 14s 97ms/step - loss: 0.0283 - accuracy: 0.9904 - val_loss: 0.0359 - val_accuracy: 0.9874\n",
            "Epoch 9/10\n",
            "138/140 [============================>.] - ETA: 0s - loss: 0.0251 - accuracy: 0.9930\n",
            "Epoch 9: val_loss improved from 0.03592 to 0.03515, saving model to saved_models/nlp_model_6_use\n",
            "140/140 [==============================] - 12s 84ms/step - loss: 0.0254 - accuracy: 0.9928 - val_loss: 0.0351 - val_accuracy: 0.9892\n",
            "Epoch 10/10\n",
            "138/140 [============================>.] - ETA: 0s - loss: 0.0226 - accuracy: 0.9941\n",
            "Epoch 10: val_loss improved from 0.03515 to 0.03463, saving model to saved_models/nlp_model_6_use\n",
            "140/140 [==============================] - 12s 83ms/step - loss: 0.0229 - accuracy: 0.9939 - val_loss: 0.0346 - val_accuracy: 0.9892\n"
          ]
        }
      ]
    },
    {
      "cell_type": "code",
      "source": [
        "model_7 = tf.keras.models.load_model(f\"saved_models/{model_7.name}\")\n",
        "results = model_7.predict(test_ds.map(lambda text, label: text))\n",
        "results = tf.squeeze(tf.round(results))\n",
        "model_7_results = calculate_results(test_labels, results)\n",
        "model_7_results"
      ],
      "metadata": {
        "colab": {
          "base_uri": "https://localhost:8080/"
        },
        "id": "yd5bYrxyF6G_",
        "outputId": "f73b484a-8140-4590-c3d8-8ef9a9995295"
      },
      "execution_count": 138,
      "outputs": [
        {
          "output_type": "stream",
          "name": "stdout",
          "text": [
            "35/35 [==============================] - 1s 10ms/step\n"
          ]
        },
        {
          "output_type": "execute_result",
          "data": {
            "text/plain": [
              "{'Accuracy': 98.9237668161435,\n",
              " 'Precision': 0.9892184618114452,\n",
              " 'Recall value': 0.989237668161435,\n",
              " 'F1-Score': 0.989123036726483}"
            ]
          },
          "metadata": {},
          "execution_count": 138
        }
      ]
    },
    {
      "cell_type": "code",
      "source": [
        "all_results.append(model_7_results)"
      ],
      "metadata": {
        "id": "HSVFxbFQGFF7"
      },
      "execution_count": 139,
      "outputs": []
    },
    {
      "cell_type": "markdown",
      "source": [
        "# Model 8"
      ],
      "metadata": {
        "id": "qIbKti6KGILG"
      }
    },
    {
      "cell_type": "code",
      "source": [
        "import tensorflow_text as text  # Registers the ops.\n",
        "bert_preprocess = hub.load(\"https://tfhub.dev/tensorflow/bert_en_uncased_preprocess/3\")\n",
        "bert_encoder = hub.KerasLayer(\"https://tfhub.dev/tensorflow/bert_en_uncased_L-12_H-768_A-12/4\")"
      ],
      "metadata": {
        "id": "QXhBpTv_GJoM"
      },
      "execution_count": 142,
      "outputs": []
    },
    {
      "cell_type": "code",
      "source": [
        "# Bert layers\n",
        "text_input = tf.keras.layers.Input(shape=(), dtype=tf.string, name='text')\n",
        "preprocessed_text = bert_preprocess(text_input)\n",
        "outputs = bert_encoder(preprocessed_text)\n",
        "# Neural network layers\n",
        "l = tf.keras.layers.Dropout(0.1, name=\"dropout\")(outputs['pooled_output'])\n",
        "l = tf.keras.layers.Dense(1, activation='sigmoid', name=\"output\")(l)\n",
        "# Use inputs and outputs to construct a final model\n",
        "model_8 = tf.keras.Model(inputs=[text_input], outputs = [l], name=\"model_8_BERT\")\n",
        "model_8.compile(optimizer='adam', loss='binary_crossentropy', metrics=['accuracy'])\n",
        "model_8.fit(train_ds, epochs=5, batch_size = 32, validation_dataset=test_ds, callbacks=get_callbacks(model_8.name))"
      ],
      "metadata": {
        "colab": {
          "base_uri": "https://localhost:8080/",
          "height": 432
        },
        "id": "80kfPFy6GNi2",
        "outputId": "6c40a048-291a-4e1f-caaf-d08bd620f1a3"
      },
      "execution_count": 143,
      "outputs": [
        {
          "output_type": "error",
          "ename": "TypeError",
          "evalue": "ignored",
          "traceback": [
            "\u001b[0;31m---------------------------------------------------------------------------\u001b[0m",
            "\u001b[0;31mTypeError\u001b[0m                                 Traceback (most recent call last)",
            "\u001b[0;32m<ipython-input-143-5483fa1b26b5>\u001b[0m in \u001b[0;36m<module>\u001b[0;34m\u001b[0m\n\u001b[1;32m      1\u001b[0m \u001b[0;31m# Bert layers\u001b[0m\u001b[0;34m\u001b[0m\u001b[0;34m\u001b[0m\u001b[0;34m\u001b[0m\u001b[0m\n\u001b[1;32m      2\u001b[0m \u001b[0mtext_input\u001b[0m \u001b[0;34m=\u001b[0m \u001b[0mtf\u001b[0m\u001b[0;34m.\u001b[0m\u001b[0mkeras\u001b[0m\u001b[0;34m.\u001b[0m\u001b[0mlayers\u001b[0m\u001b[0;34m.\u001b[0m\u001b[0mInput\u001b[0m\u001b[0;34m(\u001b[0m\u001b[0mshape\u001b[0m\u001b[0;34m=\u001b[0m\u001b[0;34m(\u001b[0m\u001b[0;34m)\u001b[0m\u001b[0;34m,\u001b[0m \u001b[0mdtype\u001b[0m\u001b[0;34m=\u001b[0m\u001b[0mtf\u001b[0m\u001b[0;34m.\u001b[0m\u001b[0mstring\u001b[0m\u001b[0;34m,\u001b[0m \u001b[0mname\u001b[0m\u001b[0;34m=\u001b[0m\u001b[0;34m'text'\u001b[0m\u001b[0;34m)\u001b[0m\u001b[0;34m\u001b[0m\u001b[0;34m\u001b[0m\u001b[0m\n\u001b[0;32m----> 3\u001b[0;31m \u001b[0mpreprocessed_text\u001b[0m \u001b[0;34m=\u001b[0m \u001b[0mbert_preprocess\u001b[0m\u001b[0;34m(\u001b[0m\u001b[0mtext_input\u001b[0m\u001b[0;34m)\u001b[0m\u001b[0;34m\u001b[0m\u001b[0;34m\u001b[0m\u001b[0m\n\u001b[0m\u001b[1;32m      4\u001b[0m \u001b[0moutputs\u001b[0m \u001b[0;34m=\u001b[0m \u001b[0mbert_encoder\u001b[0m\u001b[0;34m(\u001b[0m\u001b[0mpreprocessed_text\u001b[0m\u001b[0;34m)\u001b[0m\u001b[0;34m\u001b[0m\u001b[0;34m\u001b[0m\u001b[0m\n\u001b[1;32m      5\u001b[0m \u001b[0;31m# Neural network layers\u001b[0m\u001b[0;34m\u001b[0m\u001b[0;34m\u001b[0m\u001b[0;34m\u001b[0m\u001b[0m\n",
            "\u001b[0;32m/usr/local/lib/python3.7/dist-packages/tensorflow/python/saved_model/load.py\u001b[0m in \u001b[0;36m_call_attribute\u001b[0;34m(instance, *args, **kwargs)\u001b[0m\n\u001b[1;32m    730\u001b[0m \u001b[0;34m\u001b[0m\u001b[0m\n\u001b[1;32m    731\u001b[0m \u001b[0;32mdef\u001b[0m \u001b[0m_call_attribute\u001b[0m\u001b[0;34m(\u001b[0m\u001b[0minstance\u001b[0m\u001b[0;34m,\u001b[0m \u001b[0;34m*\u001b[0m\u001b[0margs\u001b[0m\u001b[0;34m,\u001b[0m \u001b[0;34m**\u001b[0m\u001b[0mkwargs\u001b[0m\u001b[0;34m)\u001b[0m\u001b[0;34m:\u001b[0m\u001b[0;34m\u001b[0m\u001b[0;34m\u001b[0m\u001b[0m\n\u001b[0;32m--> 732\u001b[0;31m   \u001b[0;32mreturn\u001b[0m \u001b[0minstance\u001b[0m\u001b[0;34m.\u001b[0m\u001b[0m__call__\u001b[0m\u001b[0;34m(\u001b[0m\u001b[0;34m*\u001b[0m\u001b[0margs\u001b[0m\u001b[0;34m,\u001b[0m \u001b[0;34m**\u001b[0m\u001b[0mkwargs\u001b[0m\u001b[0;34m)\u001b[0m\u001b[0;34m\u001b[0m\u001b[0;34m\u001b[0m\u001b[0m\n\u001b[0m\u001b[1;32m    733\u001b[0m \u001b[0;34m\u001b[0m\u001b[0m\n\u001b[1;32m    734\u001b[0m \u001b[0;34m\u001b[0m\u001b[0m\n",
            "\u001b[0;32m/usr/local/lib/python3.7/dist-packages/tensorflow/python/util/traceback_utils.py\u001b[0m in \u001b[0;36merror_handler\u001b[0;34m(*args, **kwargs)\u001b[0m\n\u001b[1;32m    151\u001b[0m     \u001b[0;32mexcept\u001b[0m \u001b[0mException\u001b[0m \u001b[0;32mas\u001b[0m \u001b[0me\u001b[0m\u001b[0;34m:\u001b[0m\u001b[0;34m\u001b[0m\u001b[0;34m\u001b[0m\u001b[0m\n\u001b[1;32m    152\u001b[0m       \u001b[0mfiltered_tb\u001b[0m \u001b[0;34m=\u001b[0m \u001b[0m_process_traceback_frames\u001b[0m\u001b[0;34m(\u001b[0m\u001b[0me\u001b[0m\u001b[0;34m.\u001b[0m\u001b[0m__traceback__\u001b[0m\u001b[0;34m)\u001b[0m\u001b[0;34m\u001b[0m\u001b[0;34m\u001b[0m\u001b[0m\n\u001b[0;32m--> 153\u001b[0;31m       \u001b[0;32mraise\u001b[0m \u001b[0me\u001b[0m\u001b[0;34m.\u001b[0m\u001b[0mwith_traceback\u001b[0m\u001b[0;34m(\u001b[0m\u001b[0mfiltered_tb\u001b[0m\u001b[0;34m)\u001b[0m \u001b[0;32mfrom\u001b[0m \u001b[0;32mNone\u001b[0m\u001b[0;34m\u001b[0m\u001b[0;34m\u001b[0m\u001b[0m\n\u001b[0m\u001b[1;32m    154\u001b[0m     \u001b[0;32mfinally\u001b[0m\u001b[0;34m:\u001b[0m\u001b[0;34m\u001b[0m\u001b[0;34m\u001b[0m\u001b[0m\n\u001b[1;32m    155\u001b[0m       \u001b[0;32mdel\u001b[0m \u001b[0mfiltered_tb\u001b[0m\u001b[0;34m\u001b[0m\u001b[0;34m\u001b[0m\u001b[0m\n",
            "\u001b[0;32m/usr/local/lib/python3.7/dist-packages/keras/engine/keras_tensor.py\u001b[0m in \u001b[0;36m__array__\u001b[0;34m(self, dtype)\u001b[0m\n\u001b[1;32m    282\u001b[0m     \u001b[0;32mdef\u001b[0m \u001b[0m__array__\u001b[0m\u001b[0;34m(\u001b[0m\u001b[0mself\u001b[0m\u001b[0;34m,\u001b[0m \u001b[0mdtype\u001b[0m\u001b[0;34m=\u001b[0m\u001b[0;32mNone\u001b[0m\u001b[0;34m)\u001b[0m\u001b[0;34m:\u001b[0m\u001b[0;34m\u001b[0m\u001b[0;34m\u001b[0m\u001b[0m\n\u001b[1;32m    283\u001b[0m         raise TypeError(\n\u001b[0;32m--> 284\u001b[0;31m             \u001b[0;34mf\"You are passing {self}, an intermediate Keras symbolic \"\u001b[0m\u001b[0;34m\u001b[0m\u001b[0;34m\u001b[0m\u001b[0m\n\u001b[0m\u001b[1;32m    285\u001b[0m             \u001b[0;34m\"input/output, to a TF API that does not allow registering custom \"\u001b[0m\u001b[0;34m\u001b[0m\u001b[0;34m\u001b[0m\u001b[0m\n\u001b[1;32m    286\u001b[0m             \u001b[0;34m\"dispatchers, such as `tf.cond`, `tf.function`, gradient tapes, \"\u001b[0m\u001b[0;34m\u001b[0m\u001b[0;34m\u001b[0m\u001b[0m\n",
            "\u001b[0;31mTypeError\u001b[0m: You are passing KerasTensor(type_spec=TensorSpec(shape=(None,), dtype=tf.string, name='text'), name='text', description=\"created by layer 'text'\"), an intermediate Keras symbolic input/output, to a TF API that does not allow registering custom dispatchers, such as `tf.cond`, `tf.function`, gradient tapes, or `tf.map_fn`. Keras Functional model construction only supports TF API calls that *do* support dispatching, such as `tf.math.add` or `tf.reshape`. Other APIs cannot be called directly on symbolic Kerasinputs/outputs. You can work around this limitation by putting the operation in a custom Keras layer `call` and calling that layer on this symbolic input/output."
          ]
        }
      ]
    },
    {
      "cell_type": "code",
      "source": [
        "model_8 = tf.keras.models.load_model(f\"saved_models/{model_8.name}\")\n",
        "results = model_8.predict(test_ds.map(lambda text, label: text))\n",
        "results = tf.squeeze(tf.round(results))\n",
        "model_8_results = calculate_results(test_labels, results)\n",
        "model_8_results"
      ],
      "metadata": {
        "id": "38dTy3oIGcgx"
      },
      "execution_count": null,
      "outputs": []
    },
    {
      "cell_type": "code",
      "source": [
        "all_results"
      ],
      "metadata": {
        "colab": {
          "base_uri": "https://localhost:8080/"
        },
        "id": "CTCjHWU_IvO2",
        "outputId": "d08ea7e8-a9a7-463e-8e26-9fb1560cd4b8"
      },
      "execution_count": 144,
      "outputs": [
        {
          "output_type": "execute_result",
          "data": {
            "text/plain": [
              "[{'Accuracy': 96.7713004484305,\n",
              "  'Precision': 0.968887077048512,\n",
              "  'Recall value': 0.967713004484305,\n",
              "  'F1-Score': 0.9659799094776673},\n",
              " {'Accuracy': 98.56502242152466,\n",
              "  'Precision': 0.9855521450878877,\n",
              "  'Recall value': 0.9856502242152466,\n",
              "  'F1-Score': 0.9854973823019776},\n",
              " {'Accuracy': 85.56053811659193,\n",
              "  'Precision': 0.732060568280078,\n",
              "  'Recall value': 0.8556053811659193,\n",
              "  'F1-Score': 0.7890261320756761},\n",
              " {'Accuracy': 85.56053811659193,\n",
              "  'Precision': 0.732060568280078,\n",
              "  'Recall value': 0.8556053811659193,\n",
              "  'F1-Score': 0.7890261320756761},\n",
              " {'Accuracy': 98.47533632286995,\n",
              "  'Precision': 0.984883352728743,\n",
              "  'Recall value': 0.9847533632286996,\n",
              "  'F1-Score': 0.9844403526509884},\n",
              " {'Accuracy': 98.7443946188341,\n",
              "  'Precision': 0.9875165504667965,\n",
              "  'Recall value': 0.9874439461883409,\n",
              "  'F1-Score': 0.9872401634601476},\n",
              " {'Accuracy': 98.9237668161435,\n",
              "  'Precision': 0.9892184618114452,\n",
              "  'Recall value': 0.989237668161435,\n",
              "  'F1-Score': 0.989123036726483}]"
            ]
          },
          "metadata": {},
          "execution_count": 144
        }
      ]
    },
    {
      "cell_type": "code",
      "source": [
        "all_results = pd.DataFrame(all_results)"
      ],
      "metadata": {
        "id": "uVpHRKZ2Iwmk"
      },
      "execution_count": 145,
      "outputs": []
    },
    {
      "cell_type": "code",
      "source": [
        "all_results"
      ],
      "metadata": {
        "colab": {
          "base_uri": "https://localhost:8080/",
          "height": 269
        },
        "id": "ItEoNF7zJCfa",
        "outputId": "8362730f-b6db-481c-9a7f-6a423c6e9f25"
      },
      "execution_count": 146,
      "outputs": [
        {
          "output_type": "execute_result",
          "data": {
            "text/plain": [
              "    Accuracy  Precision  Recall value  F1-Score\n",
              "0  96.771300   0.968887      0.967713  0.965980\n",
              "1  98.565022   0.985552      0.985650  0.985497\n",
              "2  85.560538   0.732061      0.855605  0.789026\n",
              "3  85.560538   0.732061      0.855605  0.789026\n",
              "4  98.475336   0.984883      0.984753  0.984440\n",
              "5  98.744395   0.987517      0.987444  0.987240\n",
              "6  98.923767   0.989218      0.989238  0.989123"
            ],
            "text/html": [
              "\n",
              "  <div id=\"df-69d85f64-b1f4-4ea3-90c5-fec1fead81fb\">\n",
              "    <div class=\"colab-df-container\">\n",
              "      <div>\n",
              "<style scoped>\n",
              "    .dataframe tbody tr th:only-of-type {\n",
              "        vertical-align: middle;\n",
              "    }\n",
              "\n",
              "    .dataframe tbody tr th {\n",
              "        vertical-align: top;\n",
              "    }\n",
              "\n",
              "    .dataframe thead th {\n",
              "        text-align: right;\n",
              "    }\n",
              "</style>\n",
              "<table border=\"1\" class=\"dataframe\">\n",
              "  <thead>\n",
              "    <tr style=\"text-align: right;\">\n",
              "      <th></th>\n",
              "      <th>Accuracy</th>\n",
              "      <th>Precision</th>\n",
              "      <th>Recall value</th>\n",
              "      <th>F1-Score</th>\n",
              "    </tr>\n",
              "  </thead>\n",
              "  <tbody>\n",
              "    <tr>\n",
              "      <th>0</th>\n",
              "      <td>96.771300</td>\n",
              "      <td>0.968887</td>\n",
              "      <td>0.967713</td>\n",
              "      <td>0.965980</td>\n",
              "    </tr>\n",
              "    <tr>\n",
              "      <th>1</th>\n",
              "      <td>98.565022</td>\n",
              "      <td>0.985552</td>\n",
              "      <td>0.985650</td>\n",
              "      <td>0.985497</td>\n",
              "    </tr>\n",
              "    <tr>\n",
              "      <th>2</th>\n",
              "      <td>85.560538</td>\n",
              "      <td>0.732061</td>\n",
              "      <td>0.855605</td>\n",
              "      <td>0.789026</td>\n",
              "    </tr>\n",
              "    <tr>\n",
              "      <th>3</th>\n",
              "      <td>85.560538</td>\n",
              "      <td>0.732061</td>\n",
              "      <td>0.855605</td>\n",
              "      <td>0.789026</td>\n",
              "    </tr>\n",
              "    <tr>\n",
              "      <th>4</th>\n",
              "      <td>98.475336</td>\n",
              "      <td>0.984883</td>\n",
              "      <td>0.984753</td>\n",
              "      <td>0.984440</td>\n",
              "    </tr>\n",
              "    <tr>\n",
              "      <th>5</th>\n",
              "      <td>98.744395</td>\n",
              "      <td>0.987517</td>\n",
              "      <td>0.987444</td>\n",
              "      <td>0.987240</td>\n",
              "    </tr>\n",
              "    <tr>\n",
              "      <th>6</th>\n",
              "      <td>98.923767</td>\n",
              "      <td>0.989218</td>\n",
              "      <td>0.989238</td>\n",
              "      <td>0.989123</td>\n",
              "    </tr>\n",
              "  </tbody>\n",
              "</table>\n",
              "</div>\n",
              "      <button class=\"colab-df-convert\" onclick=\"convertToInteractive('df-69d85f64-b1f4-4ea3-90c5-fec1fead81fb')\"\n",
              "              title=\"Convert this dataframe to an interactive table.\"\n",
              "              style=\"display:none;\">\n",
              "        \n",
              "  <svg xmlns=\"http://www.w3.org/2000/svg\" height=\"24px\"viewBox=\"0 0 24 24\"\n",
              "       width=\"24px\">\n",
              "    <path d=\"M0 0h24v24H0V0z\" fill=\"none\"/>\n",
              "    <path d=\"M18.56 5.44l.94 2.06.94-2.06 2.06-.94-2.06-.94-.94-2.06-.94 2.06-2.06.94zm-11 1L8.5 8.5l.94-2.06 2.06-.94-2.06-.94L8.5 2.5l-.94 2.06-2.06.94zm10 10l.94 2.06.94-2.06 2.06-.94-2.06-.94-.94-2.06-.94 2.06-2.06.94z\"/><path d=\"M17.41 7.96l-1.37-1.37c-.4-.4-.92-.59-1.43-.59-.52 0-1.04.2-1.43.59L10.3 9.45l-7.72 7.72c-.78.78-.78 2.05 0 2.83L4 21.41c.39.39.9.59 1.41.59.51 0 1.02-.2 1.41-.59l7.78-7.78 2.81-2.81c.8-.78.8-2.07 0-2.86zM5.41 20L4 18.59l7.72-7.72 1.47 1.35L5.41 20z\"/>\n",
              "  </svg>\n",
              "      </button>\n",
              "      \n",
              "  <style>\n",
              "    .colab-df-container {\n",
              "      display:flex;\n",
              "      flex-wrap:wrap;\n",
              "      gap: 12px;\n",
              "    }\n",
              "\n",
              "    .colab-df-convert {\n",
              "      background-color: #E8F0FE;\n",
              "      border: none;\n",
              "      border-radius: 50%;\n",
              "      cursor: pointer;\n",
              "      display: none;\n",
              "      fill: #1967D2;\n",
              "      height: 32px;\n",
              "      padding: 0 0 0 0;\n",
              "      width: 32px;\n",
              "    }\n",
              "\n",
              "    .colab-df-convert:hover {\n",
              "      background-color: #E2EBFA;\n",
              "      box-shadow: 0px 1px 2px rgba(60, 64, 67, 0.3), 0px 1px 3px 1px rgba(60, 64, 67, 0.15);\n",
              "      fill: #174EA6;\n",
              "    }\n",
              "\n",
              "    [theme=dark] .colab-df-convert {\n",
              "      background-color: #3B4455;\n",
              "      fill: #D2E3FC;\n",
              "    }\n",
              "\n",
              "    [theme=dark] .colab-df-convert:hover {\n",
              "      background-color: #434B5C;\n",
              "      box-shadow: 0px 1px 3px 1px rgba(0, 0, 0, 0.15);\n",
              "      filter: drop-shadow(0px 1px 2px rgba(0, 0, 0, 0.3));\n",
              "      fill: #FFFFFF;\n",
              "    }\n",
              "  </style>\n",
              "\n",
              "      <script>\n",
              "        const buttonEl =\n",
              "          document.querySelector('#df-69d85f64-b1f4-4ea3-90c5-fec1fead81fb button.colab-df-convert');\n",
              "        buttonEl.style.display =\n",
              "          google.colab.kernel.accessAllowed ? 'block' : 'none';\n",
              "\n",
              "        async function convertToInteractive(key) {\n",
              "          const element = document.querySelector('#df-69d85f64-b1f4-4ea3-90c5-fec1fead81fb');\n",
              "          const dataTable =\n",
              "            await google.colab.kernel.invokeFunction('convertToInteractive',\n",
              "                                                     [key], {});\n",
              "          if (!dataTable) return;\n",
              "\n",
              "          const docLinkHtml = 'Like what you see? Visit the ' +\n",
              "            '<a target=\"_blank\" href=https://colab.research.google.com/notebooks/data_table.ipynb>data table notebook</a>'\n",
              "            + ' to learn more about interactive tables.';\n",
              "          element.innerHTML = '';\n",
              "          dataTable['output_type'] = 'display_data';\n",
              "          await google.colab.output.renderOutput(dataTable, element);\n",
              "          const docLink = document.createElement('div');\n",
              "          docLink.innerHTML = docLinkHtml;\n",
              "          element.appendChild(docLink);\n",
              "        }\n",
              "      </script>\n",
              "    </div>\n",
              "  </div>\n",
              "  "
            ]
          },
          "metadata": {},
          "execution_count": 146
        }
      ]
    },
    {
      "cell_type": "code",
      "source": [
        "all_results['Accuracy'].plot(kind = 'hist')"
      ],
      "metadata": {
        "colab": {
          "base_uri": "https://localhost:8080/",
          "height": 282
        },
        "id": "JDzsU-g3JDnK",
        "outputId": "09173dce-4746-4efb-e002-f75795a010c9"
      },
      "execution_count": 150,
      "outputs": [
        {
          "output_type": "execute_result",
          "data": {
            "text/plain": [
              "<matplotlib.axes._subplots.AxesSubplot at 0x7f87bf490610>"
            ]
          },
          "metadata": {},
          "execution_count": 150
        },
        {
          "output_type": "display_data",
          "data": {
            "text/plain": [
              "<Figure size 432x288 with 1 Axes>"
            ],
            "image/png": "[encoded data removed]"
          },
          "metadata": {
            "needs_background": "light"
          }
        }
      ]
    },
    {
      "cell_type": "code",
      "source": [],
      "metadata": {
        "id": "l3eVidcgJXZw"
      },
      "execution_count": null,
      "outputs": []
    }
  ]
}