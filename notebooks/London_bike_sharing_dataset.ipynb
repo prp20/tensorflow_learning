{
 "cells": [
  {
   "cell_type": "code",
   "execution_count": 1,
   "id": "54bd6921",
   "metadata": {},
   "outputs": [
    {
     "name": "stdout",
     "output_type": "stream",
     "text": [
      "GPU 0: NVIDIA GeForce GTX 1660 Ti (UUID: GPU-2a3d1dcb-c220-642c-91e9-cb51a54e9757)\n"
     ]
    }
   ],
   "source": [
    "!nvidia-smi -L"
   ]
  },
  {
   "cell_type": "code",
   "execution_count": 2,
   "id": "c0c65c6f",
   "metadata": {},
   "outputs": [],
   "source": [
    "dataset_file = \"../datasets/london_merged.csv\""
   ]
  },
  {
   "cell_type": "code",
   "execution_count": 3,
   "id": "3eee3e48",
   "metadata": {},
   "outputs": [],
   "source": [
    "import numpy as np\n",
    "import pandas as pd\n",
    "import tensorflow as tf\n",
    "import matplotlib.pyplot as plt\n",
    "import seaborn as sns"
   ]
  },
  {
   "cell_type": "code",
   "execution_count": 4,
   "id": "9b725988",
   "metadata": {},
   "outputs": [],
   "source": [
    "%matplotlib inline"
   ]
  },
  {
   "cell_type": "code",
   "execution_count": 5,
   "id": "34ded9d1",
   "metadata": {},
   "outputs": [
    {
     "data": {
      "text/html": [
       "<div>\n",
       "<style scoped>\n",
       "    .dataframe tbody tr th:only-of-type {\n",
       "        vertical-align: middle;\n",
       "    }\n",
       "\n",
       "    .dataframe tbody tr th {\n",
       "        vertical-align: top;\n",
       "    }\n",
       "\n",
       "    .dataframe thead th {\n",
       "        text-align: right;\n",
       "    }\n",
       "</style>\n",
       "<table border=\"1\" class=\"dataframe\">\n",
       "  <thead>\n",
       "    <tr style=\"text-align: right;\">\n",
       "      <th></th>\n",
       "      <th>cnt</th>\n",
       "      <th>t1</th>\n",
       "      <th>t2</th>\n",
       "      <th>hum</th>\n",
       "      <th>wind_speed</th>\n",
       "      <th>weather_code</th>\n",
       "      <th>is_holiday</th>\n",
       "      <th>is_weekend</th>\n",
       "      <th>season</th>\n",
       "    </tr>\n",
       "    <tr>\n",
       "      <th>timestamp</th>\n",
       "      <th></th>\n",
       "      <th></th>\n",
       "      <th></th>\n",
       "      <th></th>\n",
       "      <th></th>\n",
       "      <th></th>\n",
       "      <th></th>\n",
       "      <th></th>\n",
       "      <th></th>\n",
       "    </tr>\n",
       "  </thead>\n",
       "  <tbody>\n",
       "    <tr>\n",
       "      <th>2015-01-04 00:00:00</th>\n",
       "      <td>182</td>\n",
       "      <td>3.0</td>\n",
       "      <td>2.0</td>\n",
       "      <td>93.0</td>\n",
       "      <td>6.0</td>\n",
       "      <td>3.0</td>\n",
       "      <td>0.0</td>\n",
       "      <td>1.0</td>\n",
       "      <td>3.0</td>\n",
       "    </tr>\n",
       "    <tr>\n",
       "      <th>2015-01-04 01:00:00</th>\n",
       "      <td>138</td>\n",
       "      <td>3.0</td>\n",
       "      <td>2.5</td>\n",
       "      <td>93.0</td>\n",
       "      <td>5.0</td>\n",
       "      <td>1.0</td>\n",
       "      <td>0.0</td>\n",
       "      <td>1.0</td>\n",
       "      <td>3.0</td>\n",
       "    </tr>\n",
       "    <tr>\n",
       "      <th>2015-01-04 02:00:00</th>\n",
       "      <td>134</td>\n",
       "      <td>2.5</td>\n",
       "      <td>2.5</td>\n",
       "      <td>96.5</td>\n",
       "      <td>0.0</td>\n",
       "      <td>1.0</td>\n",
       "      <td>0.0</td>\n",
       "      <td>1.0</td>\n",
       "      <td>3.0</td>\n",
       "    </tr>\n",
       "    <tr>\n",
       "      <th>2015-01-04 03:00:00</th>\n",
       "      <td>72</td>\n",
       "      <td>2.0</td>\n",
       "      <td>2.0</td>\n",
       "      <td>100.0</td>\n",
       "      <td>0.0</td>\n",
       "      <td>1.0</td>\n",
       "      <td>0.0</td>\n",
       "      <td>1.0</td>\n",
       "      <td>3.0</td>\n",
       "    </tr>\n",
       "    <tr>\n",
       "      <th>2015-01-04 04:00:00</th>\n",
       "      <td>47</td>\n",
       "      <td>2.0</td>\n",
       "      <td>0.0</td>\n",
       "      <td>93.0</td>\n",
       "      <td>6.5</td>\n",
       "      <td>1.0</td>\n",
       "      <td>0.0</td>\n",
       "      <td>1.0</td>\n",
       "      <td>3.0</td>\n",
       "    </tr>\n",
       "  </tbody>\n",
       "</table>\n",
       "</div>"
      ],
      "text/plain": [
       "                     cnt   t1   t2    hum  wind_speed  weather_code  \\\n",
       "timestamp                                                             \n",
       "2015-01-04 00:00:00  182  3.0  2.0   93.0         6.0           3.0   \n",
       "2015-01-04 01:00:00  138  3.0  2.5   93.0         5.0           1.0   \n",
       "2015-01-04 02:00:00  134  2.5  2.5   96.5         0.0           1.0   \n",
       "2015-01-04 03:00:00   72  2.0  2.0  100.0         0.0           1.0   \n",
       "2015-01-04 04:00:00   47  2.0  0.0   93.0         6.5           1.0   \n",
       "\n",
       "                     is_holiday  is_weekend  season  \n",
       "timestamp                                            \n",
       "2015-01-04 00:00:00         0.0         1.0     3.0  \n",
       "2015-01-04 01:00:00         0.0         1.0     3.0  \n",
       "2015-01-04 02:00:00         0.0         1.0     3.0  \n",
       "2015-01-04 03:00:00         0.0         1.0     3.0  \n",
       "2015-01-04 04:00:00         0.0         1.0     3.0  "
      ]
     },
     "execution_count": 5,
     "metadata": {},
     "output_type": "execute_result"
    }
   ],
   "source": [
    "dataset = pd.read_csv(dataset_file, index_col=['timestamp'], parse_dates=True)\n",
    "dataset.head()"
   ]
  },
  {
   "cell_type": "code",
   "execution_count": 6,
   "id": "6ad48e38",
   "metadata": {},
   "outputs": [
    {
     "data": {
      "text/plain": [
       "Index(['cnt', 't1', 't2', 'hum', 'wind_speed', 'weather_code', 'is_holiday',\n",
       "       'is_weekend', 'season'],\n",
       "      dtype='object')"
      ]
     },
     "execution_count": 6,
     "metadata": {},
     "output_type": "execute_result"
    }
   ],
   "source": [
    "dataset.columns"
   ]
  },
  {
   "cell_type": "code",
   "execution_count": 7,
   "id": "3d59b20d",
   "metadata": {},
   "outputs": [],
   "source": [
    "dataset['hour'] = dataset.index.hour\n",
    "dataset['day_of_the_week'] = dataset.index.dayofweek\n",
    "dataset['day_of_month'] = dataset.index.day\n",
    "dataset['month'] = dataset.index.month"
   ]
  },
  {
   "cell_type": "code",
   "execution_count": 8,
   "id": "f75914af",
   "metadata": {},
   "outputs": [
    {
     "data": {
      "text/html": [
       "<div>\n",
       "<style scoped>\n",
       "    .dataframe tbody tr th:only-of-type {\n",
       "        vertical-align: middle;\n",
       "    }\n",
       "\n",
       "    .dataframe tbody tr th {\n",
       "        vertical-align: top;\n",
       "    }\n",
       "\n",
       "    .dataframe thead th {\n",
       "        text-align: right;\n",
       "    }\n",
       "</style>\n",
       "<table border=\"1\" class=\"dataframe\">\n",
       "  <thead>\n",
       "    <tr style=\"text-align: right;\">\n",
       "      <th></th>\n",
       "      <th>cnt</th>\n",
       "      <th>t1</th>\n",
       "      <th>t2</th>\n",
       "      <th>hum</th>\n",
       "      <th>wind_speed</th>\n",
       "      <th>weather_code</th>\n",
       "      <th>is_holiday</th>\n",
       "      <th>is_weekend</th>\n",
       "      <th>season</th>\n",
       "      <th>hour</th>\n",
       "      <th>day_of_the_week</th>\n",
       "      <th>day_of_month</th>\n",
       "      <th>month</th>\n",
       "    </tr>\n",
       "    <tr>\n",
       "      <th>timestamp</th>\n",
       "      <th></th>\n",
       "      <th></th>\n",
       "      <th></th>\n",
       "      <th></th>\n",
       "      <th></th>\n",
       "      <th></th>\n",
       "      <th></th>\n",
       "      <th></th>\n",
       "      <th></th>\n",
       "      <th></th>\n",
       "      <th></th>\n",
       "      <th></th>\n",
       "      <th></th>\n",
       "    </tr>\n",
       "  </thead>\n",
       "  <tbody>\n",
       "    <tr>\n",
       "      <th>2015-01-04 00:00:00</th>\n",
       "      <td>182</td>\n",
       "      <td>3.0</td>\n",
       "      <td>2.0</td>\n",
       "      <td>93.0</td>\n",
       "      <td>6.0</td>\n",
       "      <td>3.0</td>\n",
       "      <td>0.0</td>\n",
       "      <td>1.0</td>\n",
       "      <td>3.0</td>\n",
       "      <td>0</td>\n",
       "      <td>6</td>\n",
       "      <td>4</td>\n",
       "      <td>1</td>\n",
       "    </tr>\n",
       "    <tr>\n",
       "      <th>2015-01-04 01:00:00</th>\n",
       "      <td>138</td>\n",
       "      <td>3.0</td>\n",
       "      <td>2.5</td>\n",
       "      <td>93.0</td>\n",
       "      <td>5.0</td>\n",
       "      <td>1.0</td>\n",
       "      <td>0.0</td>\n",
       "      <td>1.0</td>\n",
       "      <td>3.0</td>\n",
       "      <td>1</td>\n",
       "      <td>6</td>\n",
       "      <td>4</td>\n",
       "      <td>1</td>\n",
       "    </tr>\n",
       "    <tr>\n",
       "      <th>2015-01-04 02:00:00</th>\n",
       "      <td>134</td>\n",
       "      <td>2.5</td>\n",
       "      <td>2.5</td>\n",
       "      <td>96.5</td>\n",
       "      <td>0.0</td>\n",
       "      <td>1.0</td>\n",
       "      <td>0.0</td>\n",
       "      <td>1.0</td>\n",
       "      <td>3.0</td>\n",
       "      <td>2</td>\n",
       "      <td>6</td>\n",
       "      <td>4</td>\n",
       "      <td>1</td>\n",
       "    </tr>\n",
       "    <tr>\n",
       "      <th>2015-01-04 03:00:00</th>\n",
       "      <td>72</td>\n",
       "      <td>2.0</td>\n",
       "      <td>2.0</td>\n",
       "      <td>100.0</td>\n",
       "      <td>0.0</td>\n",
       "      <td>1.0</td>\n",
       "      <td>0.0</td>\n",
       "      <td>1.0</td>\n",
       "      <td>3.0</td>\n",
       "      <td>3</td>\n",
       "      <td>6</td>\n",
       "      <td>4</td>\n",
       "      <td>1</td>\n",
       "    </tr>\n",
       "    <tr>\n",
       "      <th>2015-01-04 04:00:00</th>\n",
       "      <td>47</td>\n",
       "      <td>2.0</td>\n",
       "      <td>0.0</td>\n",
       "      <td>93.0</td>\n",
       "      <td>6.5</td>\n",
       "      <td>1.0</td>\n",
       "      <td>0.0</td>\n",
       "      <td>1.0</td>\n",
       "      <td>3.0</td>\n",
       "      <td>4</td>\n",
       "      <td>6</td>\n",
       "      <td>4</td>\n",
       "      <td>1</td>\n",
       "    </tr>\n",
       "  </tbody>\n",
       "</table>\n",
       "</div>"
      ],
      "text/plain": [
       "                     cnt   t1   t2    hum  wind_speed  weather_code  \\\n",
       "timestamp                                                             \n",
       "2015-01-04 00:00:00  182  3.0  2.0   93.0         6.0           3.0   \n",
       "2015-01-04 01:00:00  138  3.0  2.5   93.0         5.0           1.0   \n",
       "2015-01-04 02:00:00  134  2.5  2.5   96.5         0.0           1.0   \n",
       "2015-01-04 03:00:00   72  2.0  2.0  100.0         0.0           1.0   \n",
       "2015-01-04 04:00:00   47  2.0  0.0   93.0         6.5           1.0   \n",
       "\n",
       "                     is_holiday  is_weekend  season  hour  day_of_the_week  \\\n",
       "timestamp                                                                    \n",
       "2015-01-04 00:00:00         0.0         1.0     3.0     0                6   \n",
       "2015-01-04 01:00:00         0.0         1.0     3.0     1                6   \n",
       "2015-01-04 02:00:00         0.0         1.0     3.0     2                6   \n",
       "2015-01-04 03:00:00         0.0         1.0     3.0     3                6   \n",
       "2015-01-04 04:00:00         0.0         1.0     3.0     4                6   \n",
       "\n",
       "                     day_of_month  month  \n",
       "timestamp                                 \n",
       "2015-01-04 00:00:00             4      1  \n",
       "2015-01-04 01:00:00             4      1  \n",
       "2015-01-04 02:00:00             4      1  \n",
       "2015-01-04 03:00:00             4      1  \n",
       "2015-01-04 04:00:00             4      1  "
      ]
     },
     "execution_count": 8,
     "metadata": {},
     "output_type": "execute_result"
    }
   ],
   "source": [
    "dataset.head()"
   ]
  },
  {
   "cell_type": "code",
   "execution_count": 9,
   "id": "7fe67fe8",
   "metadata": {},
   "outputs": [
    {
     "data": {
      "text/plain": [
       "<AxesSubplot:xlabel='timestamp', ylabel='cnt'>"
      ]
     },
     "execution_count": 9,
     "metadata": {},
     "output_type": "execute_result"
    },
    {
     "data": {
      "image/png": "[encoded data removed]",
      "text/plain": [
       "<Figure size 432x288 with 1 Axes>"
      ]
     },
     "metadata": {
      "needs_background": "light"
     },
     "output_type": "display_data"
    }
   ],
   "source": [
    "sns.lineplot(x=dataset.index, y='cnt', data=dataset)"
   ]
  },
  {
   "cell_type": "code",
   "execution_count": 10,
   "id": "2e5de3b2",
   "metadata": {},
   "outputs": [],
   "source": [
    "train_size = int(len(dataset) * 0.8)"
   ]
  },
  {
   "cell_type": "code",
   "execution_count": 11,
   "id": "47b03244",
   "metadata": {},
   "outputs": [],
   "source": [
    "train_dataset = dataset.iloc[0:train_size]\n",
    "test_dataset = dataset.iloc[train_size:]"
   ]
  },
  {
   "cell_type": "code",
   "execution_count": 12,
   "id": "b0d2364c",
   "metadata": {},
   "outputs": [
    {
     "data": {
      "text/plain": [
       "(13931, 13)"
      ]
     },
     "execution_count": 12,
     "metadata": {},
     "output_type": "execute_result"
    }
   ],
   "source": [
    "train_dataset.shape"
   ]
  },
  {
   "cell_type": "code",
   "execution_count": 13,
   "id": "1ace0af2",
   "metadata": {},
   "outputs": [
    {
     "data": {
      "text/plain": [
       "(3483, 13)"
      ]
     },
     "execution_count": 13,
     "metadata": {},
     "output_type": "execute_result"
    }
   ],
   "source": [
    "test_dataset.shape"
   ]
  },
  {
   "cell_type": "code",
   "execution_count": 14,
   "id": "73d11383",
   "metadata": {},
   "outputs": [
    {
     "name": "stderr",
     "output_type": "stream",
     "text": [
      "C:\\Users\\Admin\\AppData\\Local\\Temp/ipykernel_4388/388671367.py:11: SettingWithCopyWarning: \n",
      "A value is trying to be set on a copy of a slice from a DataFrame.\n",
      "Try using .loc[row_indexer,col_indexer] = value instead\n",
      "\n",
      "See the caveats in the documentation: https://pandas.pydata.org/pandas-docs/stable/user_guide/indexing.html#returning-a-view-versus-a-copy\n",
      "  train_dataset.loc[:,f_cols] = RS_scaler.fit_transform(train_dataset[f_cols].to_numpy())\n",
      "C:\\Users\\Admin\\AppData\\Local\\Temp/ipykernel_4388/388671367.py:12: SettingWithCopyWarning: \n",
      "A value is trying to be set on a copy of a slice from a DataFrame.\n",
      "Try using .loc[row_indexer,col_indexer] = value instead\n",
      "\n",
      "See the caveats in the documentation: https://pandas.pydata.org/pandas-docs/stable/user_guide/indexing.html#returning-a-view-versus-a-copy\n",
      "  train_dataset['cnt'] = Cnt_scaler.fit_transform(train_dataset[['cnt']])\n",
      "C:\\Users\\Admin\\AppData\\Local\\Temp/ipykernel_4388/388671367.py:14: SettingWithCopyWarning: \n",
      "A value is trying to be set on a copy of a slice from a DataFrame.\n",
      "Try using .loc[row_indexer,col_indexer] = value instead\n",
      "\n",
      "See the caveats in the documentation: https://pandas.pydata.org/pandas-docs/stable/user_guide/indexing.html#returning-a-view-versus-a-copy\n",
      "  test_dataset.loc[:,f_cols] = RS_scaler.fit_transform(test_dataset[f_cols].to_numpy())\n",
      "C:\\Users\\Admin\\AppData\\Local\\Temp/ipykernel_4388/388671367.py:15: SettingWithCopyWarning: \n",
      "A value is trying to be set on a copy of a slice from a DataFrame.\n",
      "Try using .loc[row_indexer,col_indexer] = value instead\n",
      "\n",
      "See the caveats in the documentation: https://pandas.pydata.org/pandas-docs/stable/user_guide/indexing.html#returning-a-view-versus-a-copy\n",
      "  test_dataset['cnt'] = Cnt_scaler.fit_transform(test_dataset[['cnt']])\n"
     ]
    }
   ],
   "source": [
    "from sklearn.preprocessing import RobustScaler\n",
    "\n",
    "f_cols = ['t1', 't2', 'hum', 'wind_speed']\n",
    "\n",
    "RS_scaler = RobustScaler()\n",
    "Cnt_scaler = RobustScaler()\n",
    "\n",
    "# RS_transformer = RS_scaler.fit(train_dataset[cols].to_numpy())\n",
    "# Cnt_transformer = Cnt_scaler.fit(train_dataset[['cnt']])\n",
    "\n",
    "train_dataset.loc[:,f_cols] = RS_scaler.fit_transform(train_dataset[f_cols].to_numpy())\n",
    "train_dataset['cnt'] = Cnt_scaler.fit_transform(train_dataset[['cnt']])\n",
    "\n",
    "test_dataset.loc[:,f_cols] = RS_scaler.fit_transform(test_dataset[f_cols].to_numpy())\n",
    "test_dataset['cnt'] = Cnt_scaler.fit_transform(test_dataset[['cnt']])"
   ]
  },
  {
   "cell_type": "code",
   "execution_count": 15,
   "id": "ec10db9f",
   "metadata": {},
   "outputs": [],
   "source": [
    "def create_dataset(X, y, time_steps=1):\n",
    "    Xs, ys = [], []\n",
    "    for i in range(len(X) - time_steps):\n",
    "        v = X.iloc[i:(i + time_steps)].values\n",
    "        Xs.append(v)\n",
    "        ys.append(y.iloc[i + time_steps])\n",
    "    return np.array(Xs), np.array(ys)"
   ]
  },
  {
   "cell_type": "code",
   "execution_count": 16,
   "id": "6b23ef6e",
   "metadata": {},
   "outputs": [
    {
     "name": "stdout",
     "output_type": "stream",
     "text": [
      "(13921, 10, 13) (13921,)\n"
     ]
    }
   ],
   "source": [
    "time_steps = 10\n",
    "# reshape to [samples, time_steps, n_features]\n",
    "X_train, y_train = create_dataset(train_dataset, train_dataset.cnt, time_steps)\n",
    "X_test, y_test = create_dataset(test_dataset, test_dataset.cnt, time_steps)\n",
    "print(X_train.shape, y_train.shape)"
   ]
  },
  {
   "cell_type": "code",
   "execution_count": 17,
   "id": "c2557c4c",
   "metadata": {},
   "outputs": [
    {
     "data": {
      "text/plain": [
       "(10, 13)"
      ]
     },
     "execution_count": 17,
     "metadata": {},
     "output_type": "execute_result"
    }
   ],
   "source": [
    "X_train[0].shape"
   ]
  },
  {
   "cell_type": "code",
   "execution_count": 18,
   "id": "94062bce",
   "metadata": {},
   "outputs": [],
   "source": [
    "model = tf.keras.Sequential()\n",
    "model.add(\n",
    "  tf.keras.layers.Bidirectional(\n",
    "    tf.keras.layers.LSTM(\n",
    "      units=128,\n",
    "      input_shape=(X_train.shape[1], X_train.shape[2])\n",
    "    )\n",
    "  )\n",
    ")\n",
    "model.add(tf.keras.layers.Dropout(rate=0.2))\n",
    "model.add(tf.keras.layers.Dense(units=1))\n",
    "model.compile(loss='mean_squared_error', optimizer='adam', metrics=['mse'])"
   ]
  },
  {
   "cell_type": "code",
   "execution_count": 19,
   "id": "ab02c590",
   "metadata": {},
   "outputs": [
    {
     "name": "stdout",
     "output_type": "stream",
     "text": [
      "Epoch 1/30\n",
      "392/392 [==============================] - 6s 10ms/step - loss: 0.3072 - mse: 0.3072 - val_loss: 0.0984 - val_mse: 0.0984\n",
      "Epoch 2/30\n",
      "392/392 [==============================] - 3s 8ms/step - loss: 0.0969 - mse: 0.0969 - val_loss: 0.0900 - val_mse: 0.0900\n",
      "Epoch 3/30\n",
      "392/392 [==============================] - 3s 8ms/step - loss: 0.0569 - mse: 0.0569 - val_loss: 0.0531 - val_mse: 0.0531\n",
      "Epoch 4/30\n",
      "392/392 [==============================] - 3s 8ms/step - loss: 0.0512 - mse: 0.0512 - val_loss: 0.0437 - val_mse: 0.0437\n",
      "Epoch 5/30\n",
      "392/392 [==============================] - 3s 8ms/step - loss: 0.0354 - mse: 0.0354 - val_loss: 0.0434 - val_mse: 0.0434\n",
      "Epoch 6/30\n",
      "392/392 [==============================] - 3s 9ms/step - loss: 0.0341 - mse: 0.0341 - val_loss: 0.0473 - val_mse: 0.0473\n",
      "Epoch 7/30\n",
      "392/392 [==============================] - 3s 9ms/step - loss: 0.0296 - mse: 0.0296 - val_loss: 0.0366 - val_mse: 0.0366\n",
      "Epoch 8/30\n",
      "392/392 [==============================] - 3s 9ms/step - loss: 0.0267 - mse: 0.0267 - val_loss: 0.0359 - val_mse: 0.0359\n",
      "Epoch 9/30\n",
      "392/392 [==============================] - 3s 9ms/step - loss: 0.0246 - mse: 0.0246 - val_loss: 0.0403 - val_mse: 0.0403\n",
      "Epoch 10/30\n",
      "392/392 [==============================] - 4s 9ms/step - loss: 0.0240 - mse: 0.0240 - val_loss: 0.0404 - val_mse: 0.0404\n",
      "Epoch 11/30\n",
      "392/392 [==============================] - 4s 9ms/step - loss: 0.0221 - mse: 0.0221 - val_loss: 0.0340 - val_mse: 0.0340\n",
      "Epoch 12/30\n",
      "392/392 [==============================] - 3s 9ms/step - loss: 0.0221 - mse: 0.0221 - val_loss: 0.0366 - val_mse: 0.0366\n",
      "Epoch 13/30\n",
      "392/392 [==============================] - 3s 9ms/step - loss: 0.0212 - mse: 0.0212 - val_loss: 0.0286 - val_mse: 0.0286\n",
      "Epoch 14/30\n",
      "392/392 [==============================] - 3s 9ms/step - loss: 0.0205 - mse: 0.0205 - val_loss: 0.0273 - val_mse: 0.0273\n",
      "Epoch 15/30\n",
      "392/392 [==============================] - 3s 9ms/step - loss: 0.0195 - mse: 0.0195 - val_loss: 0.0370 - val_mse: 0.0370\n",
      "Epoch 16/30\n",
      "392/392 [==============================] - 3s 9ms/step - loss: 0.0192 - mse: 0.0192 - val_loss: 0.0272 - val_mse: 0.0272\n",
      "Epoch 17/30\n",
      "392/392 [==============================] - 3s 8ms/step - loss: 0.0188 - mse: 0.0188 - val_loss: 0.0276 - val_mse: 0.0276\n",
      "Epoch 18/30\n",
      "392/392 [==============================] - 3s 8ms/step - loss: 0.0186 - mse: 0.0186 - val_loss: 0.0269 - val_mse: 0.0269\n",
      "Epoch 19/30\n",
      "392/392 [==============================] - 3s 9ms/step - loss: 0.0169 - mse: 0.0169 - val_loss: 0.0262 - val_mse: 0.0262\n",
      "Epoch 20/30\n",
      "392/392 [==============================] - 3s 8ms/step - loss: 0.0176 - mse: 0.0176 - val_loss: 0.0243 - val_mse: 0.0243\n",
      "Epoch 21/30\n",
      "392/392 [==============================] - 3s 9ms/step - loss: 0.0172 - mse: 0.0172 - val_loss: 0.0245 - val_mse: 0.0245\n",
      "Epoch 22/30\n",
      "392/392 [==============================] - 3s 9ms/step - loss: 0.0165 - mse: 0.0165 - val_loss: 0.0256 - val_mse: 0.0256\n",
      "Epoch 23/30\n",
      "392/392 [==============================] - 3s 9ms/step - loss: 0.0159 - mse: 0.0159 - val_loss: 0.0259 - val_mse: 0.0259\n",
      "Epoch 24/30\n",
      "392/392 [==============================] - 3s 9ms/step - loss: 0.0154 - mse: 0.0154 - val_loss: 0.0256 - val_mse: 0.0256\n",
      "Epoch 25/30\n",
      "392/392 [==============================] - 3s 9ms/step - loss: 0.0159 - mse: 0.0159 - val_loss: 0.0255 - val_mse: 0.0255\n",
      "Epoch 26/30\n",
      "392/392 [==============================] - 3s 9ms/step - loss: 0.0153 - mse: 0.0153 - val_loss: 0.0260 - val_mse: 0.0260\n",
      "Epoch 27/30\n",
      "392/392 [==============================] - 3s 9ms/step - loss: 0.0148 - mse: 0.0148 - val_loss: 0.0235 - val_mse: 0.0235\n",
      "Epoch 28/30\n",
      "392/392 [==============================] - 3s 9ms/step - loss: 0.0151 - mse: 0.0151 - val_loss: 0.0311 - val_mse: 0.0311\n",
      "Epoch 29/30\n",
      "392/392 [==============================] - 3s 9ms/step - loss: 0.0146 - mse: 0.0146 - val_loss: 0.0246 - val_mse: 0.0246\n",
      "Epoch 30/30\n",
      "392/392 [==============================] - 3s 9ms/step - loss: 0.0134 - mse: 0.0134 - val_loss: 0.0264 - val_mse: 0.0264\n"
     ]
    }
   ],
   "source": [
    "history = model.fit(\n",
    "    X_train, y_train,\n",
    "    epochs=30,\n",
    "    batch_size=32,\n",
    "    validation_split=0.1,\n",
    "    shuffle=False\n",
    ")"
   ]
  },
  {
   "cell_type": "code",
   "execution_count": 20,
   "id": "1d714917",
   "metadata": {},
   "outputs": [
    {
     "data": {
      "image/png": "[encoded data removed]",
      "text/plain": [
       "<Figure size 432x288 with 1 Axes>"
      ]
     },
     "metadata": {
      "needs_background": "light"
     },
     "output_type": "display_data"
    }
   ],
   "source": [
    "plt.plot(history.history['loss'])\n",
    "plt.plot(history.history['val_loss'])\n",
    "plt.title('model loss')\n",
    "plt.ylabel('loss')\n",
    "plt.xlabel('epoch')\n",
    "plt.legend(['train', 'test'], loc='upper left')\n",
    "plt.show()"
   ]
  },
  {
   "cell_type": "code",
   "execution_count": 21,
   "id": "eec587cd",
   "metadata": {},
   "outputs": [],
   "source": [
    "from tensorflow.keras.preprocessing.sequence import TimeseriesGenerator"
   ]
  },
  {
   "cell_type": "code",
   "execution_count": 22,
   "id": "15ec5f17",
   "metadata": {},
   "outputs": [],
   "source": [
    "data = [1,2,3,4,5,6,7,8,9,10,11,12,13,14,15,16,17,18,19,20]"
   ]
  },
  {
   "cell_type": "code",
   "execution_count": 23,
   "id": "10c807a9",
   "metadata": {},
   "outputs": [],
   "source": [
    "generator = TimeseriesGenerator(data, data, stride=1, length=4, batch_size=3)"
   ]
  },
  {
   "cell_type": "code",
   "execution_count": 24,
   "id": "2fa8a9c5",
   "metadata": {},
   "outputs": [
    {
     "data": {
      "text/plain": [
       "(array([[1, 2, 3, 4],\n",
       "        [2, 3, 4, 5],\n",
       "        [3, 4, 5, 6]]),\n",
       " array([5, 6, 7]))"
      ]
     },
     "execution_count": 24,
     "metadata": {},
     "output_type": "execute_result"
    }
   ],
   "source": [
    "generator[0]"
   ]
  },
  {
   "cell_type": "code",
   "execution_count": 37,
   "id": "c090b323",
   "metadata": {},
   "outputs": [],
   "source": [
    "train_td_dataset = TimeseriesGenerator(train_dataset, train_dataset.cnt, stride=1, length=14, batch_size=32)\n",
    "test_td_dataset = TimeseriesGenerator(test_dataset, test_dataset.cnt, stride=1, length=14, batch_size=32)"
   ]
  },
  {
   "cell_type": "code",
   "execution_count": 38,
   "id": "7f9f3cd7",
   "metadata": {},
   "outputs": [
    {
     "data": {
      "text/plain": [
       "(32, 14, 13)"
      ]
     },
     "execution_count": 38,
     "metadata": {},
     "output_type": "execute_result"
    }
   ],
   "source": [
    "train_td_dataset[0][0].shape"
   ]
  },
  {
   "cell_type": "code",
   "execution_count": 39,
   "id": "17910804",
   "metadata": {},
   "outputs": [],
   "source": [
    "model = tf.keras.Sequential()\n",
    "model.add(\n",
    "  tf.keras.layers.Bidirectional(\n",
    "    tf.keras.layers.LSTM(\n",
    "      units=128,\n",
    "      input_shape=(X_train.shape[1], X_train.shape[2])\n",
    "    )\n",
    "  )\n",
    ")\n",
    "model.add(tf.keras.layers.Dropout(rate=0.2))\n",
    "model.add(tf.keras.layers.Dense(units=1))\n",
    "model.compile(loss='mean_squared_error', optimizer='adam', metrics=['mse'])"
   ]
  },
  {
   "cell_type": "code",
   "execution_count": 40,
   "id": "b2a5adb7",
   "metadata": {},
   "outputs": [
    {
     "name": "stdout",
     "output_type": "stream",
     "text": [
      "Epoch 1/30\n",
      "435/435 [==============================] - 9s 15ms/step - loss: 0.2789 - mse: 0.2789 - val_loss: 0.1094 - val_mse: 0.1094\n",
      "Epoch 2/30\n",
      "435/435 [==============================] - 6s 14ms/step - loss: 0.0800 - mse: 0.0800 - val_loss: 0.0428 - val_mse: 0.0428\n",
      "Epoch 3/30\n",
      "435/435 [==============================] - 6s 14ms/step - loss: 0.0483 - mse: 0.0483 - val_loss: 0.0285 - val_mse: 0.0285\n",
      "Epoch 4/30\n",
      "435/435 [==============================] - 7s 15ms/step - loss: 0.0399 - mse: 0.0399 - val_loss: 0.0242 - val_mse: 0.0242\n",
      "Epoch 5/30\n",
      "435/435 [==============================] - 7s 15ms/step - loss: 0.0307 - mse: 0.0307 - val_loss: 0.0289 - val_mse: 0.0289\n",
      "Epoch 6/30\n",
      "435/435 [==============================] - 7s 16ms/step - loss: 0.0281 - mse: 0.0281 - val_loss: 0.0195 - val_mse: 0.0195\n",
      "Epoch 7/30\n",
      "435/435 [==============================] - 7s 15ms/step - loss: 0.0259 - mse: 0.0259 - val_loss: 0.0188 - val_mse: 0.0188\n",
      "Epoch 8/30\n",
      "435/435 [==============================] - 6s 14ms/step - loss: 0.0235 - mse: 0.0235 - val_loss: 0.0253 - val_mse: 0.0253\n",
      "Epoch 9/30\n",
      "435/435 [==============================] - 6s 14ms/step - loss: 0.0229 - mse: 0.0229 - val_loss: 0.0174 - val_mse: 0.0174\n",
      "Epoch 10/30\n",
      "435/435 [==============================] - 6s 14ms/step - loss: 0.0232 - mse: 0.0232 - val_loss: 0.0218 - val_mse: 0.0218\n",
      "Epoch 11/30\n",
      "435/435 [==============================] - 6s 14ms/step - loss: 0.0224 - mse: 0.0224 - val_loss: 0.0224 - val_mse: 0.0224\n",
      "Epoch 12/30\n",
      "435/435 [==============================] - 6s 14ms/step - loss: 0.0207 - mse: 0.0207 - val_loss: 0.0168 - val_mse: 0.0168\n",
      "Epoch 13/30\n",
      "435/435 [==============================] - 6s 14ms/step - loss: 0.0192 - mse: 0.0192 - val_loss: 0.0137 - val_mse: 0.0137\n",
      "Epoch 14/30\n",
      "435/435 [==============================] - 6s 15ms/step - loss: 0.0197 - mse: 0.0197 - val_loss: 0.0135 - val_mse: 0.0135\n",
      "Epoch 15/30\n",
      "435/435 [==============================] - 6s 15ms/step - loss: 0.0191 - mse: 0.0191 - val_loss: 0.0128 - val_mse: 0.0128\n",
      "Epoch 16/30\n",
      "435/435 [==============================] - 6s 14ms/step - loss: 0.0188 - mse: 0.0188 - val_loss: 0.0137 - val_mse: 0.0137\n",
      "Epoch 17/30\n",
      "435/435 [==============================] - 6s 14ms/step - loss: 0.0179 - mse: 0.0179 - val_loss: 0.0132 - val_mse: 0.0132\n",
      "Epoch 18/30\n",
      "435/435 [==============================] - 6s 15ms/step - loss: 0.0180 - mse: 0.0180 - val_loss: 0.0168 - val_mse: 0.0168\n",
      "Epoch 19/30\n",
      "435/435 [==============================] - 6s 14ms/step - loss: 0.0184 - mse: 0.0184 - val_loss: 0.0140 - val_mse: 0.0140\n",
      "Epoch 20/30\n",
      "435/435 [==============================] - 6s 14ms/step - loss: 0.0178 - mse: 0.0178 - val_loss: 0.0136 - val_mse: 0.0136\n",
      "Epoch 21/30\n",
      "435/435 [==============================] - 6s 14ms/step - loss: 0.0165 - mse: 0.0165 - val_loss: 0.0115 - val_mse: 0.0115\n",
      "Epoch 22/30\n",
      "435/435 [==============================] - 6s 15ms/step - loss: 0.0171 - mse: 0.0171 - val_loss: 0.0123 - val_mse: 0.0123\n",
      "Epoch 23/30\n",
      "435/435 [==============================] - 6s 15ms/step - loss: 0.0163 - mse: 0.0163 - val_loss: 0.0121 - val_mse: 0.0121\n",
      "Epoch 24/30\n",
      "435/435 [==============================] - 7s 15ms/step - loss: 0.0168 - mse: 0.0168 - val_loss: 0.0129 - val_mse: 0.0129\n",
      "Epoch 25/30\n",
      "435/435 [==============================] - 6s 15ms/step - loss: 0.0160 - mse: 0.0160 - val_loss: 0.0143 - val_mse: 0.0143\n",
      "Epoch 26/30\n",
      "435/435 [==============================] - 7s 15ms/step - loss: 0.0157 - mse: 0.0157 - val_loss: 0.0112 - val_mse: 0.0112\n",
      "Epoch 27/30\n",
      "435/435 [==============================] - 6s 14ms/step - loss: 0.0158 - mse: 0.0158 - val_loss: 0.0131 - val_mse: 0.0131\n",
      "Epoch 28/30\n",
      "435/435 [==============================] - 7s 15ms/step - loss: 0.0155 - mse: 0.0155 - val_loss: 0.0128 - val_mse: 0.0128\n",
      "Epoch 29/30\n",
      "435/435 [==============================] - 7s 15ms/step - loss: 0.0146 - mse: 0.0146 - val_loss: 0.0145 - val_mse: 0.0145\n",
      "Epoch 30/30\n",
      "435/435 [==============================] - 7s 16ms/step - loss: 0.0148 - mse: 0.0148 - val_loss: 0.0119 - val_mse: 0.0119\n"
     ]
    }
   ],
   "source": [
    "history = model.fit(\n",
    "    train_td_dataset,\n",
    "    epochs=30,\n",
    "    batch_size=32,\n",
    "    validation_data = test_td_dataset\n",
    ")"
   ]
  },
  {
   "cell_type": "code",
   "execution_count": 41,
   "id": "8c53ce2a",
   "metadata": {},
   "outputs": [
    {
     "data": {
      "image/png": "[encoded data removed]",
      "text/plain": [
       "<Figure size 432x288 with 1 Axes>"
      ]
     },
     "metadata": {
      "needs_background": "light"
     },
     "output_type": "display_data"
    }
   ],
   "source": [
    "plt.plot(history.history['loss'])\n",
    "plt.plot(history.history['val_loss'])\n",
    "plt.title('model loss')\n",
    "plt.ylabel('loss')\n",
    "plt.xlabel('epoch')\n",
    "plt.legend(['train', 'test'], loc='upper left')\n",
    "plt.show()"
   ]
  },
  {
   "cell_type": "code",
   "execution_count": null,
   "id": "5af0bc0b",
   "metadata": {},
   "outputs": [],
   "source": []
  }
 ],
 "metadata": {
  "kernelspec": {
   "display_name": "Python 3 (ipykernel)",
   "language": "python",
   "name": "python3"
  },
  "language_info": {
   "codemirror_mode": {
    "name": "ipython",
    "version": 3
   },
   "file_extension": ".py",
   "mimetype": "text/x-python",
   "name": "python",
   "nbconvert_exporter": "python",
   "pygments_lexer": "ipython3",
   "version": "3.9.15"
  }
 },
 "nbformat": 4,
 "nbformat_minor": 5
}
