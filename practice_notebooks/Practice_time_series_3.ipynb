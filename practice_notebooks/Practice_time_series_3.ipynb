{
 "cells": [
  {
   "cell_type": "code",
   "execution_count": 1,
   "id": "b16cd9ad",
   "metadata": {},
   "outputs": [
    {
     "name": "stderr",
     "output_type": "stream",
     "text": [
      "2023-03-07 22:39:18.004308: I tensorflow/core/platform/cpu_feature_guard.cc:193] This TensorFlow binary is optimized with oneAPI Deep Neural Network Library (oneDNN) to use the following CPU instructions in performance-critical operations:  AVX2 FMA\n",
      "To enable them in other operations, rebuild TensorFlow with the appropriate compiler flags.\n",
      "2023-03-07 22:39:20.510801: W tensorflow/compiler/xla/stream_executor/platform/default/dso_loader.cc:64] Could not load dynamic library 'libnvinfer.so.7'; dlerror: libnvinfer.so.7: cannot open shared object file: No such file or directory; LD_LIBRARY_PATH: :/home/prp/anaconda3/lib/\n",
      "2023-03-07 22:39:20.510891: W tensorflow/compiler/xla/stream_executor/platform/default/dso_loader.cc:64] Could not load dynamic library 'libnvinfer_plugin.so.7'; dlerror: libnvinfer_plugin.so.7: cannot open shared object file: No such file or directory; LD_LIBRARY_PATH: :/home/prp/anaconda3/lib/\n",
      "2023-03-07 22:39:20.510899: W tensorflow/compiler/tf2tensorrt/utils/py_utils.cc:38] TF-TRT Warning: Cannot dlopen some TensorRT libraries. If you would like to use Nvidia GPU with TensorRT, please make sure the missing libraries mentioned above are installed properly.\n"
     ]
    }
   ],
   "source": [
    "import pandas as pd\n",
    "import numpy as np\n",
    "import matplotlib.pyplot as plt\n",
    "import tensorflow as tf\n",
    "from sklearn.preprocessing import MinMaxScaler"
   ]
  },
  {
   "cell_type": "code",
   "execution_count": 2,
   "id": "2f7ec192",
   "metadata": {},
   "outputs": [
    {
     "name": "stderr",
     "output_type": "stream",
     "text": [
      "2023-03-07 22:39:23.587524: I tensorflow/compiler/xla/stream_executor/cuda/cuda_gpu_executor.cc:967] could not open file to read NUMA node: /sys/bus/pci/devices/0000:01:00.0/numa_node\n",
      "Your kernel may have been built without NUMA support.\n",
      "2023-03-07 22:39:23.698761: I tensorflow/compiler/xla/stream_executor/cuda/cuda_gpu_executor.cc:967] could not open file to read NUMA node: /sys/bus/pci/devices/0000:01:00.0/numa_node\n",
      "Your kernel may have been built without NUMA support.\n",
      "2023-03-07 22:39:23.698817: I tensorflow/compiler/xla/stream_executor/cuda/cuda_gpu_executor.cc:967] could not open file to read NUMA node: /sys/bus/pci/devices/0000:01:00.0/numa_node\n",
      "Your kernel may have been built without NUMA support.\n"
     ]
    },
    {
     "data": {
      "text/plain": [
       "[PhysicalDevice(name='/physical_device:GPU:0', device_type='GPU')]"
      ]
     },
     "execution_count": 2,
     "metadata": {},
     "output_type": "execute_result"
    }
   ],
   "source": [
    "import tensorflow as tf\n",
    "tf.config.list_physical_devices('GPU')"
   ]
  },
  {
   "cell_type": "code",
   "execution_count": 3,
   "id": "3652ae78",
   "metadata": {},
   "outputs": [
    {
     "data": {
      "text/html": [
       "<div>\n",
       "<style scoped>\n",
       "    .dataframe tbody tr th:only-of-type {\n",
       "        vertical-align: middle;\n",
       "    }\n",
       "\n",
       "    .dataframe tbody tr th {\n",
       "        vertical-align: top;\n",
       "    }\n",
       "\n",
       "    .dataframe thead th {\n",
       "        text-align: right;\n",
       "    }\n",
       "</style>\n",
       "<table border=\"1\" class=\"dataframe\">\n",
       "  <thead>\n",
       "    <tr style=\"text-align: right;\">\n",
       "      <th></th>\n",
       "      <th>Unnamed: 0</th>\n",
       "      <th>dt</th>\n",
       "      <th>dt_iso</th>\n",
       "      <th>city_id</th>\n",
       "      <th>city_name</th>\n",
       "      <th>temp</th>\n",
       "      <th>temp_min</th>\n",
       "      <th>temp_max</th>\n",
       "      <th>pressure</th>\n",
       "      <th>humidity</th>\n",
       "      <th>wind_speed</th>\n",
       "      <th>wind_deg</th>\n",
       "      <th>rain_1h</th>\n",
       "      <th>rain_3h</th>\n",
       "      <th>snow_3h</th>\n",
       "      <th>clouds_all</th>\n",
       "      <th>weather_id</th>\n",
       "      <th>weather_main</th>\n",
       "      <th>weather_description</th>\n",
       "      <th>weather_icon</th>\n",
       "    </tr>\n",
       "  </thead>\n",
       "  <tbody>\n",
       "    <tr>\n",
       "      <th>0</th>\n",
       "      <td>0</td>\n",
       "      <td>2013-10-01 02:00:00</td>\n",
       "      <td>2013-10-01 00:00:00 +0000 UTC</td>\n",
       "      <td>2509954</td>\n",
       "      <td>Valencia</td>\n",
       "      <td>299.150000</td>\n",
       "      <td>299.150000</td>\n",
       "      <td>299.150000</td>\n",
       "      <td>1008</td>\n",
       "      <td>61</td>\n",
       "      <td>5</td>\n",
       "      <td>290</td>\n",
       "      <td>0.0</td>\n",
       "      <td>0.0</td>\n",
       "      <td>0.0</td>\n",
       "      <td>20</td>\n",
       "      <td>801</td>\n",
       "      <td>clouds</td>\n",
       "      <td>few clouds</td>\n",
       "      <td>02n</td>\n",
       "    </tr>\n",
       "    <tr>\n",
       "      <th>1</th>\n",
       "      <td>1</td>\n",
       "      <td>2013-10-01 03:00:00</td>\n",
       "      <td>2013-10-01 01:00:00 +0000 UTC</td>\n",
       "      <td>2509954</td>\n",
       "      <td>Valencia</td>\n",
       "      <td>298.150000</td>\n",
       "      <td>298.150000</td>\n",
       "      <td>298.150000</td>\n",
       "      <td>1009</td>\n",
       "      <td>65</td>\n",
       "      <td>4</td>\n",
       "      <td>250</td>\n",
       "      <td>0.0</td>\n",
       "      <td>0.0</td>\n",
       "      <td>0.0</td>\n",
       "      <td>20</td>\n",
       "      <td>801</td>\n",
       "      <td>clouds</td>\n",
       "      <td>few clouds</td>\n",
       "      <td>02n</td>\n",
       "    </tr>\n",
       "    <tr>\n",
       "      <th>2</th>\n",
       "      <td>2</td>\n",
       "      <td>2013-10-01 04:00:00</td>\n",
       "      <td>2013-10-01 02:00:00 +0000 UTC</td>\n",
       "      <td>2509954</td>\n",
       "      <td>Valencia</td>\n",
       "      <td>296.161000</td>\n",
       "      <td>296.161000</td>\n",
       "      <td>296.161000</td>\n",
       "      <td>1009</td>\n",
       "      <td>71</td>\n",
       "      <td>4</td>\n",
       "      <td>269</td>\n",
       "      <td>0.0</td>\n",
       "      <td>0.0</td>\n",
       "      <td>0.0</td>\n",
       "      <td>10</td>\n",
       "      <td>800</td>\n",
       "      <td>clear</td>\n",
       "      <td>sky is clear</td>\n",
       "      <td>02</td>\n",
       "    </tr>\n",
       "    <tr>\n",
       "      <th>3</th>\n",
       "      <td>3</td>\n",
       "      <td>2013-10-01 05:00:00</td>\n",
       "      <td>2013-10-01 03:00:00 +0000 UTC</td>\n",
       "      <td>2509954</td>\n",
       "      <td>Valencia</td>\n",
       "      <td>297.150000</td>\n",
       "      <td>297.150000</td>\n",
       "      <td>297.150000</td>\n",
       "      <td>1008</td>\n",
       "      <td>69</td>\n",
       "      <td>1</td>\n",
       "      <td>250</td>\n",
       "      <td>0.0</td>\n",
       "      <td>0.0</td>\n",
       "      <td>0.0</td>\n",
       "      <td>20</td>\n",
       "      <td>801</td>\n",
       "      <td>clouds</td>\n",
       "      <td>few clouds</td>\n",
       "      <td>02n</td>\n",
       "    </tr>\n",
       "    <tr>\n",
       "      <th>4</th>\n",
       "      <td>4</td>\n",
       "      <td>2013-10-01 06:00:00</td>\n",
       "      <td>2013-10-01 04:00:00 +0000 UTC</td>\n",
       "      <td>2509954</td>\n",
       "      <td>Valencia</td>\n",
       "      <td>294.031687</td>\n",
       "      <td>294.031687</td>\n",
       "      <td>294.031687</td>\n",
       "      <td>1009</td>\n",
       "      <td>78</td>\n",
       "      <td>4</td>\n",
       "      <td>288</td>\n",
       "      <td>0.0</td>\n",
       "      <td>0.0</td>\n",
       "      <td>0.0</td>\n",
       "      <td>0</td>\n",
       "      <td>800</td>\n",
       "      <td>clear</td>\n",
       "      <td>sky is clear</td>\n",
       "      <td>01</td>\n",
       "    </tr>\n",
       "    <tr>\n",
       "      <th>...</th>\n",
       "      <td>...</td>\n",
       "      <td>...</td>\n",
       "      <td>...</td>\n",
       "      <td>...</td>\n",
       "      <td>...</td>\n",
       "      <td>...</td>\n",
       "      <td>...</td>\n",
       "      <td>...</td>\n",
       "      <td>...</td>\n",
       "      <td>...</td>\n",
       "      <td>...</td>\n",
       "      <td>...</td>\n",
       "      <td>...</td>\n",
       "      <td>...</td>\n",
       "      <td>...</td>\n",
       "      <td>...</td>\n",
       "      <td>...</td>\n",
       "      <td>...</td>\n",
       "      <td>...</td>\n",
       "      <td>...</td>\n",
       "    </tr>\n",
       "    <tr>\n",
       "      <th>262995</th>\n",
       "      <td>262995</td>\n",
       "      <td>2019-08-25 22:00:00</td>\n",
       "      <td>2019-08-25 20:00:00 +0000 UTC</td>\n",
       "      <td>6361046</td>\n",
       "      <td>Seville</td>\n",
       "      <td>300.490000</td>\n",
       "      <td>299.260000</td>\n",
       "      <td>302.150000</td>\n",
       "      <td>1012</td>\n",
       "      <td>47</td>\n",
       "      <td>3</td>\n",
       "      <td>250</td>\n",
       "      <td>0.0</td>\n",
       "      <td>0.0</td>\n",
       "      <td>0.0</td>\n",
       "      <td>0</td>\n",
       "      <td>800</td>\n",
       "      <td>clear</td>\n",
       "      <td>clear sky</td>\n",
       "      <td>01n</td>\n",
       "    </tr>\n",
       "    <tr>\n",
       "      <th>262996</th>\n",
       "      <td>262996</td>\n",
       "      <td>2019-08-25 23:00:00</td>\n",
       "      <td>2019-08-25 21:00:00 +0000 UTC</td>\n",
       "      <td>6361046</td>\n",
       "      <td>Seville</td>\n",
       "      <td>299.750000</td>\n",
       "      <td>298.150000</td>\n",
       "      <td>301.150000</td>\n",
       "      <td>1013</td>\n",
       "      <td>54</td>\n",
       "      <td>3</td>\n",
       "      <td>260</td>\n",
       "      <td>0.0</td>\n",
       "      <td>0.0</td>\n",
       "      <td>0.0</td>\n",
       "      <td>0</td>\n",
       "      <td>800</td>\n",
       "      <td>clear</td>\n",
       "      <td>clear sky</td>\n",
       "      <td>01n</td>\n",
       "    </tr>\n",
       "    <tr>\n",
       "      <th>262997</th>\n",
       "      <td>262997</td>\n",
       "      <td>2019-08-26 00:00:00</td>\n",
       "      <td>2019-08-25 22:00:00 +0000 UTC</td>\n",
       "      <td>6361046</td>\n",
       "      <td>Seville</td>\n",
       "      <td>298.830000</td>\n",
       "      <td>297.150000</td>\n",
       "      <td>300.150000</td>\n",
       "      <td>1013</td>\n",
       "      <td>60</td>\n",
       "      <td>2</td>\n",
       "      <td>310</td>\n",
       "      <td>0.0</td>\n",
       "      <td>0.0</td>\n",
       "      <td>0.0</td>\n",
       "      <td>0</td>\n",
       "      <td>800</td>\n",
       "      <td>clear</td>\n",
       "      <td>clear sky</td>\n",
       "      <td>01n</td>\n",
       "    </tr>\n",
       "    <tr>\n",
       "      <th>262998</th>\n",
       "      <td>262998</td>\n",
       "      <td>2019-08-26 01:00:00</td>\n",
       "      <td>2019-08-25 23:00:00 +0000 UTC</td>\n",
       "      <td>6361046</td>\n",
       "      <td>Seville</td>\n",
       "      <td>297.890000</td>\n",
       "      <td>296.480000</td>\n",
       "      <td>300.150000</td>\n",
       "      <td>1013</td>\n",
       "      <td>57</td>\n",
       "      <td>2</td>\n",
       "      <td>299</td>\n",
       "      <td>0.0</td>\n",
       "      <td>0.0</td>\n",
       "      <td>0.0</td>\n",
       "      <td>0</td>\n",
       "      <td>800</td>\n",
       "      <td>clear</td>\n",
       "      <td>clear sky</td>\n",
       "      <td>01n</td>\n",
       "    </tr>\n",
       "    <tr>\n",
       "      <th>262999</th>\n",
       "      <td>262999</td>\n",
       "      <td>2019-08-26 02:00:00</td>\n",
       "      <td>2019-08-26 00:00:00 +0000 UTC</td>\n",
       "      <td>6361046</td>\n",
       "      <td>Seville</td>\n",
       "      <td>297.590000</td>\n",
       "      <td>295.930000</td>\n",
       "      <td>299.150000</td>\n",
       "      <td>1013</td>\n",
       "      <td>50</td>\n",
       "      <td>3</td>\n",
       "      <td>270</td>\n",
       "      <td>0.0</td>\n",
       "      <td>0.0</td>\n",
       "      <td>0.0</td>\n",
       "      <td>61</td>\n",
       "      <td>803</td>\n",
       "      <td>clouds</td>\n",
       "      <td>broken clouds</td>\n",
       "      <td>04n</td>\n",
       "    </tr>\n",
       "  </tbody>\n",
       "</table>\n",
       "<p>263000 rows × 20 columns</p>\n",
       "</div>"
      ],
      "text/plain": [
       "        Unnamed: 0                   dt                         dt_iso  \\\n",
       "0                0  2013-10-01 02:00:00  2013-10-01 00:00:00 +0000 UTC   \n",
       "1                1  2013-10-01 03:00:00  2013-10-01 01:00:00 +0000 UTC   \n",
       "2                2  2013-10-01 04:00:00  2013-10-01 02:00:00 +0000 UTC   \n",
       "3                3  2013-10-01 05:00:00  2013-10-01 03:00:00 +0000 UTC   \n",
       "4                4  2013-10-01 06:00:00  2013-10-01 04:00:00 +0000 UTC   \n",
       "...            ...                  ...                            ...   \n",
       "262995      262995  2019-08-25 22:00:00  2019-08-25 20:00:00 +0000 UTC   \n",
       "262996      262996  2019-08-25 23:00:00  2019-08-25 21:00:00 +0000 UTC   \n",
       "262997      262997  2019-08-26 00:00:00  2019-08-25 22:00:00 +0000 UTC   \n",
       "262998      262998  2019-08-26 01:00:00  2019-08-25 23:00:00 +0000 UTC   \n",
       "262999      262999  2019-08-26 02:00:00  2019-08-26 00:00:00 +0000 UTC   \n",
       "\n",
       "        city_id city_name        temp    temp_min    temp_max  pressure  \\\n",
       "0       2509954  Valencia  299.150000  299.150000  299.150000      1008   \n",
       "1       2509954  Valencia  298.150000  298.150000  298.150000      1009   \n",
       "2       2509954  Valencia  296.161000  296.161000  296.161000      1009   \n",
       "3       2509954  Valencia  297.150000  297.150000  297.150000      1008   \n",
       "4       2509954  Valencia  294.031687  294.031687  294.031687      1009   \n",
       "...         ...       ...         ...         ...         ...       ...   \n",
       "262995  6361046   Seville  300.490000  299.260000  302.150000      1012   \n",
       "262996  6361046   Seville  299.750000  298.150000  301.150000      1013   \n",
       "262997  6361046   Seville  298.830000  297.150000  300.150000      1013   \n",
       "262998  6361046   Seville  297.890000  296.480000  300.150000      1013   \n",
       "262999  6361046   Seville  297.590000  295.930000  299.150000      1013   \n",
       "\n",
       "        humidity  wind_speed  wind_deg  rain_1h  rain_3h  snow_3h  clouds_all  \\\n",
       "0             61           5       290      0.0      0.0      0.0          20   \n",
       "1             65           4       250      0.0      0.0      0.0          20   \n",
       "2             71           4       269      0.0      0.0      0.0          10   \n",
       "3             69           1       250      0.0      0.0      0.0          20   \n",
       "4             78           4       288      0.0      0.0      0.0           0   \n",
       "...          ...         ...       ...      ...      ...      ...         ...   \n",
       "262995        47           3       250      0.0      0.0      0.0           0   \n",
       "262996        54           3       260      0.0      0.0      0.0           0   \n",
       "262997        60           2       310      0.0      0.0      0.0           0   \n",
       "262998        57           2       299      0.0      0.0      0.0           0   \n",
       "262999        50           3       270      0.0      0.0      0.0          61   \n",
       "\n",
       "        weather_id weather_main weather_description weather_icon  \n",
       "0              801       clouds          few clouds          02n  \n",
       "1              801       clouds          few clouds          02n  \n",
       "2              800        clear        sky is clear           02  \n",
       "3              801       clouds          few clouds          02n  \n",
       "4              800        clear        sky is clear           01  \n",
       "...            ...          ...                 ...          ...  \n",
       "262995         800        clear           clear sky          01n  \n",
       "262996         800        clear           clear sky          01n  \n",
       "262997         800        clear           clear sky          01n  \n",
       "262998         800        clear           clear sky          01n  \n",
       "262999         803       clouds       broken clouds          04n  \n",
       "\n",
       "[263000 rows x 20 columns]"
      ]
     },
     "execution_count": 3,
     "metadata": {},
     "output_type": "execute_result"
    }
   ],
   "source": [
    "def load_data(path, col=None, verbose=False):\n",
    "    df = pd.read_csv(path)\n",
    "    if col is not None:\n",
    "        df = df[col]\n",
    "    if verbose:\n",
    "        print(df.head())\n",
    "    return df\n",
    "\n",
    "data_path = \"/mnt/d/Learning/tensorflow_learning/datasets/energy_2013_2019.csv\"\n",
    "multivar_df = load_data(data_path)\n",
    "\n",
    "multivar_df"
   ]
  },
  {
   "cell_type": "code",
   "execution_count": 4,
   "id": "80c8bdd2",
   "metadata": {},
   "outputs": [
    {
     "data": {
      "text/plain": [
       "3117735    53357\n",
       "3128026    52774\n",
       "6361046    52488\n",
       "3128760    52416\n",
       "2509954    51965\n",
       "Name: city_id, dtype: int64"
      ]
     },
     "execution_count": 4,
     "metadata": {},
     "output_type": "execute_result"
    }
   ],
   "source": [
    "multivar_df.city_id.value_counts()"
   ]
  },
  {
   "cell_type": "code",
   "execution_count": 5,
   "id": "c7c1aab8",
   "metadata": {},
   "outputs": [
    {
     "data": {
      "text/html": [
       "<div>\n",
       "<style scoped>\n",
       "    .dataframe tbody tr th:only-of-type {\n",
       "        vertical-align: middle;\n",
       "    }\n",
       "\n",
       "    .dataframe tbody tr th {\n",
       "        vertical-align: top;\n",
       "    }\n",
       "\n",
       "    .dataframe thead th {\n",
       "        text-align: right;\n",
       "    }\n",
       "</style>\n",
       "<table border=\"1\" class=\"dataframe\">\n",
       "  <thead>\n",
       "    <tr style=\"text-align: right;\">\n",
       "      <th></th>\n",
       "      <th>Unnamed: 0</th>\n",
       "      <th>dt</th>\n",
       "      <th>dt_iso</th>\n",
       "      <th>city_id</th>\n",
       "      <th>city_name</th>\n",
       "      <th>temp</th>\n",
       "      <th>temp_min</th>\n",
       "      <th>temp_max</th>\n",
       "      <th>pressure</th>\n",
       "      <th>humidity</th>\n",
       "      <th>wind_speed</th>\n",
       "      <th>wind_deg</th>\n",
       "      <th>rain_1h</th>\n",
       "      <th>rain_3h</th>\n",
       "      <th>snow_3h</th>\n",
       "      <th>clouds_all</th>\n",
       "      <th>weather_id</th>\n",
       "      <th>weather_main</th>\n",
       "      <th>weather_description</th>\n",
       "      <th>weather_icon</th>\n",
       "    </tr>\n",
       "  </thead>\n",
       "  <tbody>\n",
       "    <tr>\n",
       "      <th>51965</th>\n",
       "      <td>51965</td>\n",
       "      <td>2013-10-01 02:00:00</td>\n",
       "      <td>2013-10-01 00:00:00 +0000 UTC</td>\n",
       "      <td>3117735</td>\n",
       "      <td>Madrid</td>\n",
       "      <td>291.860</td>\n",
       "      <td>291.860</td>\n",
       "      <td>291.860</td>\n",
       "      <td>1012</td>\n",
       "      <td>94</td>\n",
       "      <td>3</td>\n",
       "      <td>210</td>\n",
       "      <td>0.0</td>\n",
       "      <td>0.0</td>\n",
       "      <td>0.0</td>\n",
       "      <td>92</td>\n",
       "      <td>804</td>\n",
       "      <td>clouds</td>\n",
       "      <td>overcast clouds</td>\n",
       "      <td>04</td>\n",
       "    </tr>\n",
       "    <tr>\n",
       "      <th>51966</th>\n",
       "      <td>51966</td>\n",
       "      <td>2013-10-01 03:00:00</td>\n",
       "      <td>2013-10-01 01:00:00 +0000 UTC</td>\n",
       "      <td>3117735</td>\n",
       "      <td>Madrid</td>\n",
       "      <td>292.100</td>\n",
       "      <td>292.040</td>\n",
       "      <td>292.150</td>\n",
       "      <td>1012</td>\n",
       "      <td>93</td>\n",
       "      <td>4</td>\n",
       "      <td>180</td>\n",
       "      <td>0.0</td>\n",
       "      <td>0.0</td>\n",
       "      <td>0.0</td>\n",
       "      <td>92</td>\n",
       "      <td>300</td>\n",
       "      <td>drizzle</td>\n",
       "      <td>light intensity drizzle</td>\n",
       "      <td>09n</td>\n",
       "    </tr>\n",
       "    <tr>\n",
       "      <th>51967</th>\n",
       "      <td>51967</td>\n",
       "      <td>2013-10-01 04:00:00</td>\n",
       "      <td>2013-10-01 02:00:00 +0000 UTC</td>\n",
       "      <td>3117735</td>\n",
       "      <td>Madrid</td>\n",
       "      <td>291.761</td>\n",
       "      <td>291.761</td>\n",
       "      <td>291.761</td>\n",
       "      <td>1011</td>\n",
       "      <td>94</td>\n",
       "      <td>4</td>\n",
       "      <td>208</td>\n",
       "      <td>0.0</td>\n",
       "      <td>0.0</td>\n",
       "      <td>0.0</td>\n",
       "      <td>92</td>\n",
       "      <td>804</td>\n",
       "      <td>clouds</td>\n",
       "      <td>overcast clouds</td>\n",
       "      <td>04</td>\n",
       "    </tr>\n",
       "    <tr>\n",
       "      <th>51968</th>\n",
       "      <td>51968</td>\n",
       "      <td>2013-10-01 05:00:00</td>\n",
       "      <td>2013-10-01 03:00:00 +0000 UTC</td>\n",
       "      <td>3117735</td>\n",
       "      <td>Madrid</td>\n",
       "      <td>293.020</td>\n",
       "      <td>293.020</td>\n",
       "      <td>293.020</td>\n",
       "      <td>1012</td>\n",
       "      <td>93</td>\n",
       "      <td>4</td>\n",
       "      <td>193</td>\n",
       "      <td>0.0</td>\n",
       "      <td>0.0</td>\n",
       "      <td>0.0</td>\n",
       "      <td>80</td>\n",
       "      <td>803</td>\n",
       "      <td>clouds</td>\n",
       "      <td>broken clouds</td>\n",
       "      <td>04</td>\n",
       "    </tr>\n",
       "    <tr>\n",
       "      <th>51969</th>\n",
       "      <td>51969</td>\n",
       "      <td>2013-10-01 06:00:00</td>\n",
       "      <td>2013-10-01 04:00:00 +0000 UTC</td>\n",
       "      <td>3117735</td>\n",
       "      <td>Madrid</td>\n",
       "      <td>293.480</td>\n",
       "      <td>292.040</td>\n",
       "      <td>296.480</td>\n",
       "      <td>1012</td>\n",
       "      <td>93</td>\n",
       "      <td>4</td>\n",
       "      <td>200</td>\n",
       "      <td>0.0</td>\n",
       "      <td>0.0</td>\n",
       "      <td>0.0</td>\n",
       "      <td>75</td>\n",
       "      <td>803</td>\n",
       "      <td>clouds</td>\n",
       "      <td>broken clouds</td>\n",
       "      <td>04n</td>\n",
       "    </tr>\n",
       "  </tbody>\n",
       "</table>\n",
       "</div>"
      ],
      "text/plain": [
       "       Unnamed: 0                   dt                         dt_iso  \\\n",
       "51965       51965  2013-10-01 02:00:00  2013-10-01 00:00:00 +0000 UTC   \n",
       "51966       51966  2013-10-01 03:00:00  2013-10-01 01:00:00 +0000 UTC   \n",
       "51967       51967  2013-10-01 04:00:00  2013-10-01 02:00:00 +0000 UTC   \n",
       "51968       51968  2013-10-01 05:00:00  2013-10-01 03:00:00 +0000 UTC   \n",
       "51969       51969  2013-10-01 06:00:00  2013-10-01 04:00:00 +0000 UTC   \n",
       "\n",
       "       city_id city_name     temp  temp_min  temp_max  pressure  humidity  \\\n",
       "51965  3117735    Madrid  291.860   291.860   291.860      1012        94   \n",
       "51966  3117735    Madrid  292.100   292.040   292.150      1012        93   \n",
       "51967  3117735    Madrid  291.761   291.761   291.761      1011        94   \n",
       "51968  3117735    Madrid  293.020   293.020   293.020      1012        93   \n",
       "51969  3117735    Madrid  293.480   292.040   296.480      1012        93   \n",
       "\n",
       "       wind_speed  wind_deg  rain_1h  rain_3h  snow_3h  clouds_all  \\\n",
       "51965           3       210      0.0      0.0      0.0          92   \n",
       "51966           4       180      0.0      0.0      0.0          92   \n",
       "51967           4       208      0.0      0.0      0.0          92   \n",
       "51968           4       193      0.0      0.0      0.0          80   \n",
       "51969           4       200      0.0      0.0      0.0          75   \n",
       "\n",
       "       weather_id weather_main      weather_description weather_icon  \n",
       "51965         804       clouds          overcast clouds           04  \n",
       "51966         300      drizzle  light intensity drizzle          09n  \n",
       "51967         804       clouds          overcast clouds           04  \n",
       "51968         803       clouds            broken clouds           04  \n",
       "51969         803       clouds            broken clouds          04n  "
      ]
     },
     "execution_count": 5,
     "metadata": {},
     "output_type": "execute_result"
    }
   ],
   "source": [
    "dataset = multivar_df[multivar_df['city_id']==3117735]\n",
    "dataset.head()"
   ]
  },
  {
   "cell_type": "code",
   "execution_count": 6,
   "id": "73866380",
   "metadata": {},
   "outputs": [
    {
     "data": {
      "text/html": [
       "<div>\n",
       "<style scoped>\n",
       "    .dataframe tbody tr th:only-of-type {\n",
       "        vertical-align: middle;\n",
       "    }\n",
       "\n",
       "    .dataframe tbody tr th {\n",
       "        vertical-align: top;\n",
       "    }\n",
       "\n",
       "    .dataframe thead th {\n",
       "        text-align: right;\n",
       "    }\n",
       "</style>\n",
       "<table border=\"1\" class=\"dataframe\">\n",
       "  <thead>\n",
       "    <tr style=\"text-align: right;\">\n",
       "      <th></th>\n",
       "      <th>dt</th>\n",
       "      <th>dt_iso</th>\n",
       "      <th>city_id</th>\n",
       "      <th>city_name</th>\n",
       "      <th>temp</th>\n",
       "      <th>temp_min</th>\n",
       "      <th>temp_max</th>\n",
       "      <th>pressure</th>\n",
       "      <th>humidity</th>\n",
       "      <th>wind_speed</th>\n",
       "      <th>wind_deg</th>\n",
       "      <th>rain_1h</th>\n",
       "      <th>rain_3h</th>\n",
       "      <th>snow_3h</th>\n",
       "      <th>clouds_all</th>\n",
       "      <th>weather_id</th>\n",
       "      <th>weather_main</th>\n",
       "      <th>weather_description</th>\n",
       "      <th>weather_icon</th>\n",
       "    </tr>\n",
       "  </thead>\n",
       "  <tbody>\n",
       "    <tr>\n",
       "      <th>51965</th>\n",
       "      <td>2013-10-01 02:00:00</td>\n",
       "      <td>2013-10-01 00:00:00 +0000 UTC</td>\n",
       "      <td>3117735</td>\n",
       "      <td>Madrid</td>\n",
       "      <td>291.860</td>\n",
       "      <td>291.860</td>\n",
       "      <td>291.860</td>\n",
       "      <td>1012</td>\n",
       "      <td>94</td>\n",
       "      <td>3</td>\n",
       "      <td>210</td>\n",
       "      <td>0.0</td>\n",
       "      <td>0.0</td>\n",
       "      <td>0.0</td>\n",
       "      <td>92</td>\n",
       "      <td>804</td>\n",
       "      <td>clouds</td>\n",
       "      <td>overcast clouds</td>\n",
       "      <td>04</td>\n",
       "    </tr>\n",
       "    <tr>\n",
       "      <th>51966</th>\n",
       "      <td>2013-10-01 03:00:00</td>\n",
       "      <td>2013-10-01 01:00:00 +0000 UTC</td>\n",
       "      <td>3117735</td>\n",
       "      <td>Madrid</td>\n",
       "      <td>292.100</td>\n",
       "      <td>292.040</td>\n",
       "      <td>292.150</td>\n",
       "      <td>1012</td>\n",
       "      <td>93</td>\n",
       "      <td>4</td>\n",
       "      <td>180</td>\n",
       "      <td>0.0</td>\n",
       "      <td>0.0</td>\n",
       "      <td>0.0</td>\n",
       "      <td>92</td>\n",
       "      <td>300</td>\n",
       "      <td>drizzle</td>\n",
       "      <td>light intensity drizzle</td>\n",
       "      <td>09n</td>\n",
       "    </tr>\n",
       "    <tr>\n",
       "      <th>51967</th>\n",
       "      <td>2013-10-01 04:00:00</td>\n",
       "      <td>2013-10-01 02:00:00 +0000 UTC</td>\n",
       "      <td>3117735</td>\n",
       "      <td>Madrid</td>\n",
       "      <td>291.761</td>\n",
       "      <td>291.761</td>\n",
       "      <td>291.761</td>\n",
       "      <td>1011</td>\n",
       "      <td>94</td>\n",
       "      <td>4</td>\n",
       "      <td>208</td>\n",
       "      <td>0.0</td>\n",
       "      <td>0.0</td>\n",
       "      <td>0.0</td>\n",
       "      <td>92</td>\n",
       "      <td>804</td>\n",
       "      <td>clouds</td>\n",
       "      <td>overcast clouds</td>\n",
       "      <td>04</td>\n",
       "    </tr>\n",
       "    <tr>\n",
       "      <th>51968</th>\n",
       "      <td>2013-10-01 05:00:00</td>\n",
       "      <td>2013-10-01 03:00:00 +0000 UTC</td>\n",
       "      <td>3117735</td>\n",
       "      <td>Madrid</td>\n",
       "      <td>293.020</td>\n",
       "      <td>293.020</td>\n",
       "      <td>293.020</td>\n",
       "      <td>1012</td>\n",
       "      <td>93</td>\n",
       "      <td>4</td>\n",
       "      <td>193</td>\n",
       "      <td>0.0</td>\n",
       "      <td>0.0</td>\n",
       "      <td>0.0</td>\n",
       "      <td>80</td>\n",
       "      <td>803</td>\n",
       "      <td>clouds</td>\n",
       "      <td>broken clouds</td>\n",
       "      <td>04</td>\n",
       "    </tr>\n",
       "    <tr>\n",
       "      <th>51969</th>\n",
       "      <td>2013-10-01 06:00:00</td>\n",
       "      <td>2013-10-01 04:00:00 +0000 UTC</td>\n",
       "      <td>3117735</td>\n",
       "      <td>Madrid</td>\n",
       "      <td>293.480</td>\n",
       "      <td>292.040</td>\n",
       "      <td>296.480</td>\n",
       "      <td>1012</td>\n",
       "      <td>93</td>\n",
       "      <td>4</td>\n",
       "      <td>200</td>\n",
       "      <td>0.0</td>\n",
       "      <td>0.0</td>\n",
       "      <td>0.0</td>\n",
       "      <td>75</td>\n",
       "      <td>803</td>\n",
       "      <td>clouds</td>\n",
       "      <td>broken clouds</td>\n",
       "      <td>04n</td>\n",
       "    </tr>\n",
       "  </tbody>\n",
       "</table>\n",
       "</div>"
      ],
      "text/plain": [
       "                        dt                         dt_iso  city_id city_name  \\\n",
       "51965  2013-10-01 02:00:00  2013-10-01 00:00:00 +0000 UTC  3117735    Madrid   \n",
       "51966  2013-10-01 03:00:00  2013-10-01 01:00:00 +0000 UTC  3117735    Madrid   \n",
       "51967  2013-10-01 04:00:00  2013-10-01 02:00:00 +0000 UTC  3117735    Madrid   \n",
       "51968  2013-10-01 05:00:00  2013-10-01 03:00:00 +0000 UTC  3117735    Madrid   \n",
       "51969  2013-10-01 06:00:00  2013-10-01 04:00:00 +0000 UTC  3117735    Madrid   \n",
       "\n",
       "          temp  temp_min  temp_max  pressure  humidity  wind_speed  wind_deg  \\\n",
       "51965  291.860   291.860   291.860      1012        94           3       210   \n",
       "51966  292.100   292.040   292.150      1012        93           4       180   \n",
       "51967  291.761   291.761   291.761      1011        94           4       208   \n",
       "51968  293.020   293.020   293.020      1012        93           4       193   \n",
       "51969  293.480   292.040   296.480      1012        93           4       200   \n",
       "\n",
       "       rain_1h  rain_3h  snow_3h  clouds_all  weather_id weather_main  \\\n",
       "51965      0.0      0.0      0.0          92         804       clouds   \n",
       "51966      0.0      0.0      0.0          92         300      drizzle   \n",
       "51967      0.0      0.0      0.0          92         804       clouds   \n",
       "51968      0.0      0.0      0.0          80         803       clouds   \n",
       "51969      0.0      0.0      0.0          75         803       clouds   \n",
       "\n",
       "           weather_description weather_icon  \n",
       "51965          overcast clouds           04  \n",
       "51966  light intensity drizzle          09n  \n",
       "51967          overcast clouds           04  \n",
       "51968            broken clouds           04  \n",
       "51969            broken clouds          04n  "
      ]
     },
     "execution_count": 6,
     "metadata": {},
     "output_type": "execute_result"
    }
   ],
   "source": [
    "dataset = dataset.drop(dataset.columns[0], axis=1)\n",
    "dataset.head()"
   ]
  },
  {
   "cell_type": "code",
   "execution_count": 7,
   "id": "3b33511d",
   "metadata": {},
   "outputs": [
    {
     "data": {
      "text/html": [
       "<div>\n",
       "<style scoped>\n",
       "    .dataframe tbody tr th:only-of-type {\n",
       "        vertical-align: middle;\n",
       "    }\n",
       "\n",
       "    .dataframe tbody tr th {\n",
       "        vertical-align: top;\n",
       "    }\n",
       "\n",
       "    .dataframe thead th {\n",
       "        text-align: right;\n",
       "    }\n",
       "</style>\n",
       "<table border=\"1\" class=\"dataframe\">\n",
       "  <thead>\n",
       "    <tr style=\"text-align: right;\">\n",
       "      <th></th>\n",
       "      <th>dt</th>\n",
       "      <th>temp</th>\n",
       "      <th>temp_min</th>\n",
       "      <th>temp_max</th>\n",
       "      <th>pressure</th>\n",
       "      <th>humidity</th>\n",
       "      <th>wind_speed</th>\n",
       "      <th>wind_deg</th>\n",
       "      <th>rain_1h</th>\n",
       "      <th>rain_3h</th>\n",
       "      <th>snow_3h</th>\n",
       "      <th>clouds_all</th>\n",
       "      <th>weather_id</th>\n",
       "      <th>weather_main</th>\n",
       "      <th>weather_description</th>\n",
       "    </tr>\n",
       "  </thead>\n",
       "  <tbody>\n",
       "    <tr>\n",
       "      <th>51965</th>\n",
       "      <td>2013-10-01 02:00:00</td>\n",
       "      <td>291.860</td>\n",
       "      <td>291.860</td>\n",
       "      <td>291.860</td>\n",
       "      <td>1012</td>\n",
       "      <td>94</td>\n",
       "      <td>3</td>\n",
       "      <td>210</td>\n",
       "      <td>0.0</td>\n",
       "      <td>0.0</td>\n",
       "      <td>0.0</td>\n",
       "      <td>92</td>\n",
       "      <td>804</td>\n",
       "      <td>clouds</td>\n",
       "      <td>overcast clouds</td>\n",
       "    </tr>\n",
       "    <tr>\n",
       "      <th>51966</th>\n",
       "      <td>2013-10-01 03:00:00</td>\n",
       "      <td>292.100</td>\n",
       "      <td>292.040</td>\n",
       "      <td>292.150</td>\n",
       "      <td>1012</td>\n",
       "      <td>93</td>\n",
       "      <td>4</td>\n",
       "      <td>180</td>\n",
       "      <td>0.0</td>\n",
       "      <td>0.0</td>\n",
       "      <td>0.0</td>\n",
       "      <td>92</td>\n",
       "      <td>300</td>\n",
       "      <td>drizzle</td>\n",
       "      <td>light intensity drizzle</td>\n",
       "    </tr>\n",
       "    <tr>\n",
       "      <th>51967</th>\n",
       "      <td>2013-10-01 04:00:00</td>\n",
       "      <td>291.761</td>\n",
       "      <td>291.761</td>\n",
       "      <td>291.761</td>\n",
       "      <td>1011</td>\n",
       "      <td>94</td>\n",
       "      <td>4</td>\n",
       "      <td>208</td>\n",
       "      <td>0.0</td>\n",
       "      <td>0.0</td>\n",
       "      <td>0.0</td>\n",
       "      <td>92</td>\n",
       "      <td>804</td>\n",
       "      <td>clouds</td>\n",
       "      <td>overcast clouds</td>\n",
       "    </tr>\n",
       "    <tr>\n",
       "      <th>51968</th>\n",
       "      <td>2013-10-01 05:00:00</td>\n",
       "      <td>293.020</td>\n",
       "      <td>293.020</td>\n",
       "      <td>293.020</td>\n",
       "      <td>1012</td>\n",
       "      <td>93</td>\n",
       "      <td>4</td>\n",
       "      <td>193</td>\n",
       "      <td>0.0</td>\n",
       "      <td>0.0</td>\n",
       "      <td>0.0</td>\n",
       "      <td>80</td>\n",
       "      <td>803</td>\n",
       "      <td>clouds</td>\n",
       "      <td>broken clouds</td>\n",
       "    </tr>\n",
       "    <tr>\n",
       "      <th>51969</th>\n",
       "      <td>2013-10-01 06:00:00</td>\n",
       "      <td>293.480</td>\n",
       "      <td>292.040</td>\n",
       "      <td>296.480</td>\n",
       "      <td>1012</td>\n",
       "      <td>93</td>\n",
       "      <td>4</td>\n",
       "      <td>200</td>\n",
       "      <td>0.0</td>\n",
       "      <td>0.0</td>\n",
       "      <td>0.0</td>\n",
       "      <td>75</td>\n",
       "      <td>803</td>\n",
       "      <td>clouds</td>\n",
       "      <td>broken clouds</td>\n",
       "    </tr>\n",
       "  </tbody>\n",
       "</table>\n",
       "</div>"
      ],
      "text/plain": [
       "                        dt     temp  temp_min  temp_max  pressure  humidity  \\\n",
       "51965  2013-10-01 02:00:00  291.860   291.860   291.860      1012        94   \n",
       "51966  2013-10-01 03:00:00  292.100   292.040   292.150      1012        93   \n",
       "51967  2013-10-01 04:00:00  291.761   291.761   291.761      1011        94   \n",
       "51968  2013-10-01 05:00:00  293.020   293.020   293.020      1012        93   \n",
       "51969  2013-10-01 06:00:00  293.480   292.040   296.480      1012        93   \n",
       "\n",
       "       wind_speed  wind_deg  rain_1h  rain_3h  snow_3h  clouds_all  \\\n",
       "51965           3       210      0.0      0.0      0.0          92   \n",
       "51966           4       180      0.0      0.0      0.0          92   \n",
       "51967           4       208      0.0      0.0      0.0          92   \n",
       "51968           4       193      0.0      0.0      0.0          80   \n",
       "51969           4       200      0.0      0.0      0.0          75   \n",
       "\n",
       "       weather_id weather_main      weather_description  \n",
       "51965         804       clouds          overcast clouds  \n",
       "51966         300      drizzle  light intensity drizzle  \n",
       "51967         804       clouds          overcast clouds  \n",
       "51968         803       clouds            broken clouds  \n",
       "51969         803       clouds            broken clouds  "
      ]
     },
     "execution_count": 7,
     "metadata": {},
     "output_type": "execute_result"
    }
   ],
   "source": [
    "dataset = dataset.drop([\"dt_iso\", \"weather_icon\", \"city_id\", \"city_name\"], axis=1)\n",
    "dataset.head()"
   ]
  },
  {
   "cell_type": "code",
   "execution_count": 8,
   "id": "32e6ac9b",
   "metadata": {},
   "outputs": [
    {
     "data": {
      "text/html": [
       "<div>\n",
       "<style scoped>\n",
       "    .dataframe tbody tr th:only-of-type {\n",
       "        vertical-align: middle;\n",
       "    }\n",
       "\n",
       "    .dataframe tbody tr th {\n",
       "        vertical-align: top;\n",
       "    }\n",
       "\n",
       "    .dataframe thead th {\n",
       "        text-align: right;\n",
       "    }\n",
       "</style>\n",
       "<table border=\"1\" class=\"dataframe\">\n",
       "  <thead>\n",
       "    <tr style=\"text-align: right;\">\n",
       "      <th></th>\n",
       "      <th>dt</th>\n",
       "      <th>temp</th>\n",
       "      <th>temp_min</th>\n",
       "      <th>temp_max</th>\n",
       "      <th>pressure</th>\n",
       "      <th>humidity</th>\n",
       "      <th>wind_speed</th>\n",
       "      <th>wind_deg</th>\n",
       "      <th>rain_1h</th>\n",
       "      <th>rain_3h</th>\n",
       "      <th>snow_3h</th>\n",
       "      <th>clouds_all</th>\n",
       "      <th>weather_id</th>\n",
       "    </tr>\n",
       "  </thead>\n",
       "  <tbody>\n",
       "    <tr>\n",
       "      <th>51965</th>\n",
       "      <td>2013-10-01 02:00:00</td>\n",
       "      <td>291.860</td>\n",
       "      <td>291.860</td>\n",
       "      <td>291.860</td>\n",
       "      <td>1012</td>\n",
       "      <td>94</td>\n",
       "      <td>3</td>\n",
       "      <td>210</td>\n",
       "      <td>0.0</td>\n",
       "      <td>0.0</td>\n",
       "      <td>0.0</td>\n",
       "      <td>92</td>\n",
       "      <td>804</td>\n",
       "    </tr>\n",
       "    <tr>\n",
       "      <th>51966</th>\n",
       "      <td>2013-10-01 03:00:00</td>\n",
       "      <td>292.100</td>\n",
       "      <td>292.040</td>\n",
       "      <td>292.150</td>\n",
       "      <td>1012</td>\n",
       "      <td>93</td>\n",
       "      <td>4</td>\n",
       "      <td>180</td>\n",
       "      <td>0.0</td>\n",
       "      <td>0.0</td>\n",
       "      <td>0.0</td>\n",
       "      <td>92</td>\n",
       "      <td>300</td>\n",
       "    </tr>\n",
       "    <tr>\n",
       "      <th>51967</th>\n",
       "      <td>2013-10-01 04:00:00</td>\n",
       "      <td>291.761</td>\n",
       "      <td>291.761</td>\n",
       "      <td>291.761</td>\n",
       "      <td>1011</td>\n",
       "      <td>94</td>\n",
       "      <td>4</td>\n",
       "      <td>208</td>\n",
       "      <td>0.0</td>\n",
       "      <td>0.0</td>\n",
       "      <td>0.0</td>\n",
       "      <td>92</td>\n",
       "      <td>804</td>\n",
       "    </tr>\n",
       "    <tr>\n",
       "      <th>51968</th>\n",
       "      <td>2013-10-01 05:00:00</td>\n",
       "      <td>293.020</td>\n",
       "      <td>293.020</td>\n",
       "      <td>293.020</td>\n",
       "      <td>1012</td>\n",
       "      <td>93</td>\n",
       "      <td>4</td>\n",
       "      <td>193</td>\n",
       "      <td>0.0</td>\n",
       "      <td>0.0</td>\n",
       "      <td>0.0</td>\n",
       "      <td>80</td>\n",
       "      <td>803</td>\n",
       "    </tr>\n",
       "    <tr>\n",
       "      <th>51969</th>\n",
       "      <td>2013-10-01 06:00:00</td>\n",
       "      <td>293.480</td>\n",
       "      <td>292.040</td>\n",
       "      <td>296.480</td>\n",
       "      <td>1012</td>\n",
       "      <td>93</td>\n",
       "      <td>4</td>\n",
       "      <td>200</td>\n",
       "      <td>0.0</td>\n",
       "      <td>0.0</td>\n",
       "      <td>0.0</td>\n",
       "      <td>75</td>\n",
       "      <td>803</td>\n",
       "    </tr>\n",
       "  </tbody>\n",
       "</table>\n",
       "</div>"
      ],
      "text/plain": [
       "                        dt     temp  temp_min  temp_max  pressure  humidity  \\\n",
       "51965  2013-10-01 02:00:00  291.860   291.860   291.860      1012        94   \n",
       "51966  2013-10-01 03:00:00  292.100   292.040   292.150      1012        93   \n",
       "51967  2013-10-01 04:00:00  291.761   291.761   291.761      1011        94   \n",
       "51968  2013-10-01 05:00:00  293.020   293.020   293.020      1012        93   \n",
       "51969  2013-10-01 06:00:00  293.480   292.040   296.480      1012        93   \n",
       "\n",
       "       wind_speed  wind_deg  rain_1h  rain_3h  snow_3h  clouds_all  weather_id  \n",
       "51965           3       210      0.0      0.0      0.0          92         804  \n",
       "51966           4       180      0.0      0.0      0.0          92         300  \n",
       "51967           4       208      0.0      0.0      0.0          92         804  \n",
       "51968           4       193      0.0      0.0      0.0          80         803  \n",
       "51969           4       200      0.0      0.0      0.0          75         803  "
      ]
     },
     "execution_count": 8,
     "metadata": {},
     "output_type": "execute_result"
    }
   ],
   "source": [
    "dataset = dataset.drop([\"weather_main\", \"weather_description\"], axis=1)\n",
    "dataset.head()"
   ]
  },
  {
   "cell_type": "code",
   "execution_count": 9,
   "id": "e92e5c2d",
   "metadata": {},
   "outputs": [
    {
     "data": {
      "text/plain": [
       "dt            0\n",
       "temp          0\n",
       "temp_min      0\n",
       "temp_max      0\n",
       "pressure      0\n",
       "humidity      0\n",
       "wind_speed    0\n",
       "wind_deg      0\n",
       "rain_1h       0\n",
       "rain_3h       0\n",
       "snow_3h       0\n",
       "clouds_all    0\n",
       "weather_id    0\n",
       "dtype: int64"
      ]
     },
     "execution_count": 9,
     "metadata": {},
     "output_type": "execute_result"
    }
   ],
   "source": [
    "dataset.isnull().sum()"
   ]
  },
  {
   "cell_type": "code",
   "execution_count": 10,
   "id": "da4e71e5",
   "metadata": {},
   "outputs": [
    {
     "data": {
      "text/plain": [
       "['dt',\n",
       " 'temp',\n",
       " 'temp_min',\n",
       " 'temp_max',\n",
       " 'pressure',\n",
       " 'humidity',\n",
       " 'wind_speed',\n",
       " 'wind_deg',\n",
       " 'rain_1h',\n",
       " 'rain_3h',\n",
       " 'snow_3h',\n",
       " 'clouds_all',\n",
       " 'weather_id']"
      ]
     },
     "execution_count": 10,
     "metadata": {},
     "output_type": "execute_result"
    }
   ],
   "source": [
    "col_names = list(dataset.columns)\n",
    "col_names"
   ]
  },
  {
   "cell_type": "code",
   "execution_count": 11,
   "id": "0dc105b6",
   "metadata": {},
   "outputs": [],
   "source": [
    "def clean_data(series):\n",
    "    \"\"\"Fills missing values. \n",
    "    \n",
    "        Interpolate missing values with a linear approximation.\n",
    "    \"\"\"\n",
    "    series_filled = series.interpolate(method='linear')\n",
    "        \n",
    "    return series_filled\n",
    "        \n",
    "    \n",
    "def min_max_scale(dataframe):\n",
    "    \"\"\" Applies MinMax Scaling\n",
    "    \n",
    "        Wrapper for sklearn's MinMaxScaler class.\n",
    "    \"\"\"\n",
    "    mm = MinMaxScaler()\n",
    "    return mm.fit_transform(dataframe)"
   ]
  },
  {
   "cell_type": "code",
   "execution_count": 12,
   "id": "6d9d93a7",
   "metadata": {},
   "outputs": [],
   "source": [
    "def make_time_features(series):\n",
    "    \n",
    "    #convert series to datetimes\n",
    "    datetimes = pd.DatetimeIndex(series)\n",
    "    \n",
    "    hours = datetimes.hour.values\n",
    "    days = datetimes.day.values\n",
    "    months = datetimes.month.values\n",
    "    years = datetimes.year.values\n",
    "    \n",
    "    hour = pd.Series(hours, name='hours')\n",
    "    day = pd.Series(days, name='day')\n",
    "    month = pd.Series(months, name='months')\n",
    "    year = pd.Series(years, name='year')\n",
    "    \n",
    "    return hour, day, month, year"
   ]
  },
  {
   "cell_type": "code",
   "execution_count": 13,
   "id": "611226bc",
   "metadata": {},
   "outputs": [],
   "source": [
    "def split_data(series, train_fraq):\n",
    "    \"\"\"Splits input series into train, val and test.\n",
    "    \n",
    "        Default to 1 year of test data.\n",
    "    \"\"\"\n",
    "    #make train and validation from the remaining\n",
    "    train_val_data = series\n",
    "    train_size = int(len(train_val_data) * train_fraq)\n",
    "    \n",
    "    train_data = train_val_data[:train_size]\n",
    "    val_data = train_val_data[train_size:]\n",
    "    test_data = val_data\n",
    "    \n",
    "    return train_data, val_data, test_data"
   ]
  },
  {
   "cell_type": "code",
   "execution_count": 14,
   "id": "0b22dd71",
   "metadata": {},
   "outputs": [],
   "source": [
    "def window_dataset(data, n_steps, n_horizon, batch_size, shuffle_buffer, multi_var=False, expand_dims=False):\n",
    "    \"\"\" Create a windowed tensorflow dataset\n",
    "    \n",
    "    \"\"\"\n",
    "\n",
    "    #create a window with n steps back plus the size of the prediction length\n",
    "    window = n_steps + n_horizon\n",
    "    \n",
    "    #expand dimensions to 3D to fit with LSTM inputs\n",
    "    #creat the inital tensor dataset\n",
    "    if expand_dims:\n",
    "        ds = tf.expand_dims(data, axis=-1)\n",
    "        ds = tf.data.Dataset.from_tensor_slices(ds)\n",
    "    else:\n",
    "        ds = tf.data.Dataset.from_tensor_slices(data)\n",
    "    \n",
    "    #create the window function shifting the data by the prediction length\n",
    "    ds = ds.window(window, shift=n_horizon, drop_remainder=True)\n",
    "    \n",
    "    #flatten the dataset and batch into the window size\n",
    "    ds = ds.flat_map(lambda x : x.batch(window))\n",
    "    ds = ds.shuffle(shuffle_buffer)    \n",
    "    \n",
    "    #create the supervised learning problem x and y and batch\n",
    "    if multi_var:\n",
    "        ds = ds.map(lambda x : (x[:-n_horizon], x[-n_horizon:, :1]))\n",
    "    else:\n",
    "        ds = ds.map(lambda x : (x[:-n_horizon], x[-n_horizon:]))\n",
    "    \n",
    "    ds = ds.batch(batch_size).prefetch(1)\n",
    "    \n",
    "    return ds"
   ]
  },
  {
   "cell_type": "code",
   "execution_count": 15,
   "id": "52fe7475",
   "metadata": {},
   "outputs": [],
   "source": [
    "def build_dataset(train_fraq=0.80, n_steps=24, n_horizon=1, batch_size=256, shuffle_buffer=500, expand_dims=False, multi_var=False):\n",
    "    \"\"\"If multi variate then first column is always the column from which the target is contstructed.\n",
    "    \"\"\"\n",
    "    \n",
    "    tf.random.set_seed(23)\n",
    "    \n",
    "    if multi_var:\n",
    "        data = dataset\n",
    "        hours, day, months, years = make_time_features(data.dt)\n",
    "        data = pd.concat([data.drop(['dt'], axis=1), hours, day, months, years], axis=1)\n",
    "    else:\n",
    "        data = load_data(col=['total load actual'])\n",
    "        \n",
    "    data = clean_data(data)\n",
    "    \n",
    "    if multi_var:\n",
    "        mm = MinMaxScaler()\n",
    "        data = mm.fit_transform(data)\n",
    "    \n",
    "    train_data, val_data, test_data = split_data(data, train_fraq=train_fraq)\n",
    "    \n",
    "    train_ds = window_dataset(train_data, n_steps, n_horizon, batch_size, shuffle_buffer, multi_var=multi_var, expand_dims=expand_dims)\n",
    "    val_ds = window_dataset(val_data, n_steps, n_horizon, batch_size, shuffle_buffer, multi_var=multi_var, expand_dims=expand_dims)\n",
    "    test_ds = window_dataset(test_data, n_steps, n_horizon, batch_size, shuffle_buffer, multi_var=multi_var, expand_dims=expand_dims)\n",
    "    print(f\"Prediction lookback (n_steps): {n_steps}\")\n",
    "    print(f\"Prediction horizon (n_horizon): {n_horizon}\")\n",
    "    print(f\"Batch Size: {batch_size}\")\n",
    "    print(\"Datasets:\")\n",
    "    print(train_ds.element_spec)\n",
    "    \n",
    "    return train_ds, val_ds, test_ds"
   ]
  },
  {
   "cell_type": "code",
   "execution_count": 16,
   "id": "2992e430",
   "metadata": {},
   "outputs": [
    {
     "name": "stderr",
     "output_type": "stream",
     "text": [
      "2023-03-07 22:39:24.934833: I tensorflow/core/platform/cpu_feature_guard.cc:193] This TensorFlow binary is optimized with oneAPI Deep Neural Network Library (oneDNN) to use the following CPU instructions in performance-critical operations:  AVX2 FMA\n",
      "To enable them in other operations, rebuild TensorFlow with the appropriate compiler flags.\n",
      "2023-03-07 22:39:24.940420: I tensorflow/compiler/xla/stream_executor/cuda/cuda_gpu_executor.cc:967] could not open file to read NUMA node: /sys/bus/pci/devices/0000:01:00.0/numa_node\n",
      "Your kernel may have been built without NUMA support.\n",
      "2023-03-07 22:39:24.940488: I tensorflow/compiler/xla/stream_executor/cuda/cuda_gpu_executor.cc:967] could not open file to read NUMA node: /sys/bus/pci/devices/0000:01:00.0/numa_node\n",
      "Your kernel may have been built without NUMA support.\n",
      "2023-03-07 22:39:24.940522: I tensorflow/compiler/xla/stream_executor/cuda/cuda_gpu_executor.cc:967] could not open file to read NUMA node: /sys/bus/pci/devices/0000:01:00.0/numa_node\n",
      "Your kernel may have been built without NUMA support.\n",
      "2023-03-07 22:39:28.639190: I tensorflow/compiler/xla/stream_executor/cuda/cuda_gpu_executor.cc:967] could not open file to read NUMA node: /sys/bus/pci/devices/0000:01:00.0/numa_node\n",
      "Your kernel may have been built without NUMA support.\n",
      "2023-03-07 22:39:28.640501: I tensorflow/compiler/xla/stream_executor/cuda/cuda_gpu_executor.cc:967] could not open file to read NUMA node: /sys/bus/pci/devices/0000:01:00.0/numa_node\n",
      "Your kernel may have been built without NUMA support.\n",
      "2023-03-07 22:39:28.640515: I tensorflow/core/common_runtime/gpu/gpu_device.cc:1700] Could not identify NUMA node of platform GPU id 0, defaulting to 0.  Your kernel may not have been built with NUMA support.\n",
      "2023-03-07 22:39:28.640556: I tensorflow/compiler/xla/stream_executor/cuda/cuda_gpu_executor.cc:967] could not open file to read NUMA node: /sys/bus/pci/devices/0000:01:00.0/numa_node\n",
      "Your kernel may have been built without NUMA support.\n",
      "2023-03-07 22:39:28.641210: I tensorflow/core/common_runtime/gpu/gpu_device.cc:1613] Created device /job:localhost/replica:0/task:0/device:GPU:0 with 3929 MB memory:  -> device: 0, name: NVIDIA GeForce GTX 1660 Ti, pci bus id: 0000:01:00.0, compute capability: 7.5\n"
     ]
    },
    {
     "name": "stdout",
     "output_type": "stream",
     "text": [
      "WARNING:tensorflow:From /home/prp/anaconda3/lib/python3.9/site-packages/tensorflow/python/autograph/pyct/static_analysis/liveness.py:83: Analyzer.lamba_check (from tensorflow.python.autograph.pyct.static_analysis.liveness) is deprecated and will be removed after 2023-09-23.\n",
      "Instructions for updating:\n",
      "Lambda fuctions will be no more assumed to be used in the statement where they are used, or at least in the same block. https://github.com/tensorflow/tensorflow/issues/56089\n",
      "Prediction lookback (n_steps): 24\n",
      "Prediction horizon (n_horizon): 1\n",
      "Batch Size: 256\n",
      "Datasets:\n",
      "(TensorSpec(shape=(None, None, 16), dtype=tf.float64, name=None), TensorSpec(shape=(None, None, 1), dtype=tf.float64, name=None))\n"
     ]
    }
   ],
   "source": [
    "train_ds, val_ds, test_ds = build_dataset(multi_var=True)"
   ]
  },
  {
   "cell_type": "code",
   "execution_count": 17,
   "id": "9844c8c4",
   "metadata": {},
   "outputs": [],
   "source": [
    "model_configs = dict()\n",
    "\n",
    "def cfg_model_run(model, history, test_ds):\n",
    "    return {\"model\": model, \"history\" : history, \"test_ds\": test_ds}\n",
    "\n",
    "def get_callbacks(model_name):\n",
    "  callbacks = []\n",
    "  MC = tf.keras.callbacks.ModelCheckpoint(f'saved_models/{model_name}', monitor='val_loss', save_best_only='True', verbose=1)\n",
    "  ES = tf.keras.callbacks.EarlyStopping(monitor='val_loss', patience=7, verbose=1, restore_best_weights='True')\n",
    "  return [MC, ES]\n",
    "\n",
    "def run_model(model_name, model_func, model_configs, epochs):\n",
    "    \n",
    "    n_steps, n_horizon, n_features, lr = get_params(multivar=True)\n",
    "    train_ds, val_ds, test_ds = build_dataset(n_steps=n_steps, n_horizon=n_horizon, multi_var=True)\n",
    "\n",
    "    model = model_func(n_steps, n_horizon, n_features, lr=lr)\n",
    "\n",
    "    model_hist = model.fit(train_ds, validation_data=val_ds, epochs=epochs, callbacks = get_callbacks(model.name))\n",
    "\n",
    "    model_configs[model_name] = cfg_model_run(model, model_hist, test_ds)\n",
    "    return test_ds"
   ]
  },
  {
   "cell_type": "code",
   "execution_count": 18,
   "id": "3c1506fe",
   "metadata": {},
   "outputs": [
    {
     "name": "stderr",
     "output_type": "stream",
     "text": [
      "WARNING:absl:`lr` is deprecated, please use `learning_rate` instead, or use the legacy optimizer, e.g.,tf.keras.optimizers.legacy.Adam.\n"
     ]
    },
    {
     "name": "stdout",
     "output_type": "stream",
     "text": [
      "Model: \"dnn\"\n",
      "_________________________________________________________________\n",
      " Layer (type)                Output Shape              Param #   \n",
      "=================================================================\n",
      " flatten (Flatten)           (None, 384)               0         \n",
      "                                                                 \n",
      " dense (Dense)               (None, 128)               49280     \n",
      "                                                                 \n",
      " dropout (Dropout)           (None, 128)               0         \n",
      "                                                                 \n",
      " dense_1 (Dense)             (None, 128)               16512     \n",
      "                                                                 \n",
      " dropout_1 (Dropout)         (None, 128)               0         \n",
      "                                                                 \n",
      " dense_2 (Dense)             (None, 1)                 129       \n",
      "                                                                 \n",
      "=================================================================\n",
      "Total params: 65,921\n",
      "Trainable params: 65,921\n",
      "Non-trainable params: 0\n",
      "_________________________________________________________________\n"
     ]
    }
   ],
   "source": [
    "def get_params(multivar=False):\n",
    "    lr = 3e-4\n",
    "    n_steps=24\n",
    "    n_horizon=1\n",
    "    if multivar:\n",
    "        n_features=16\n",
    "    else:\n",
    "        n_features=1\n",
    "        \n",
    "    return n_steps, n_horizon, n_features, lr\n",
    "\n",
    "def dnn_model(n_steps, n_horizon, n_features, lr):\n",
    "    tf.keras.backend.clear_session()\n",
    "    \n",
    "    model = tf.keras.models.Sequential([\n",
    "        tf.keras.layers.Flatten(input_shape=(n_steps, n_features)),\n",
    "        tf.keras.layers.Dense(128, activation='relu'),\n",
    "        tf.keras.layers.Dropout(0.3),\n",
    "        tf.keras.layers.Dense(128, activation='relu'),\n",
    "        tf.keras.layers.Dropout(0.3),\n",
    "        tf.keras.layers.Dense(n_horizon)\n",
    "    ], name='dnn')\n",
    "    \n",
    "    loss=tf.keras.losses.Huber()\n",
    "    optimizer = tf.keras.optimizers.Adam(lr=lr)\n",
    "    \n",
    "    model.compile(loss=loss, optimizer='adam', metrics=['mae'])\n",
    "    \n",
    "    return model\n",
    "\n",
    "\n",
    "dnn = dnn_model(*get_params(multivar=True))\n",
    "dnn.summary()"
   ]
  },
  {
   "cell_type": "code",
   "execution_count": 19,
   "id": "4356a60c",
   "metadata": {},
   "outputs": [
    {
     "name": "stderr",
     "output_type": "stream",
     "text": [
      "WARNING:absl:`lr` is deprecated, please use `learning_rate` instead, or use the legacy optimizer, e.g.,tf.keras.optimizers.legacy.Adam.\n"
     ]
    },
    {
     "name": "stdout",
     "output_type": "stream",
     "text": [
      "Model: \"CNN\"\n",
      "_________________________________________________________________\n",
      " Layer (type)                Output Shape              Param #   \n",
      "=================================================================\n",
      " conv1d (Conv1D)             (None, 19, 64)            6208      \n",
      "                                                                 \n",
      " max_pooling1d (MaxPooling1D  (None, 9, 64)            0         \n",
      " )                                                               \n",
      "                                                                 \n",
      " conv1d_1 (Conv1D)           (None, 7, 64)             12352     \n",
      "                                                                 \n",
      " max_pooling1d_1 (MaxPooling  (None, 3, 64)            0         \n",
      " 1D)                                                             \n",
      "                                                                 \n",
      " flatten (Flatten)           (None, 192)               0         \n",
      "                                                                 \n",
      " dropout (Dropout)           (None, 192)               0         \n",
      "                                                                 \n",
      " dense (Dense)               (None, 128)               24704     \n",
      "                                                                 \n",
      " dropout_1 (Dropout)         (None, 128)               0         \n",
      "                                                                 \n",
      " dense_1 (Dense)             (None, 1)                 129       \n",
      "                                                                 \n",
      "=================================================================\n",
      "Total params: 43,393\n",
      "Trainable params: 43,393\n",
      "Non-trainable params: 0\n",
      "_________________________________________________________________\n"
     ]
    }
   ],
   "source": [
    "def cnn_model(n_steps, n_horizon, n_features, lr=3e-4):\n",
    "    \n",
    "    tf.keras.backend.clear_session()\n",
    "    \n",
    "    model = tf.keras.models.Sequential([\n",
    "        tf.keras.layers.Conv1D(64, kernel_size=6, activation='relu', input_shape=(n_steps,n_features)),\n",
    "        tf.keras.layers.MaxPooling1D(2),\n",
    "        tf.keras.layers.Conv1D(64, kernel_size=3, activation='relu'),\n",
    "        tf.keras.layers.MaxPooling1D(2),\n",
    "        tf.keras.layers.Flatten(),\n",
    "        tf.keras.layers.Dropout(0.3),\n",
    "        tf.keras.layers.Dense(128),\n",
    "        tf.keras.layers.Dropout(0.3),\n",
    "        tf.keras.layers.Dense(n_horizon)\n",
    "    ], name=\"CNN\")\n",
    "    \n",
    "    loss= tf.keras.losses.Huber()\n",
    "    optimizer = tf.keras.optimizers.Adam(lr=lr)\n",
    "    \n",
    "    model.compile(loss=loss, optimizer='adam', metrics=['mae'])\n",
    "    \n",
    "    return model\n",
    "\n",
    "cnn = cnn_model(*get_params(multivar=True))\n",
    "cnn.summary()"
   ]
  },
  {
   "cell_type": "code",
   "execution_count": 20,
   "id": "be815103",
   "metadata": {},
   "outputs": [
    {
     "name": "stdout",
     "output_type": "stream",
     "text": [
      "WARNING:tensorflow:Layer lstm will not use cuDNN kernels since it doesn't meet the criteria. It will use a generic GPU kernel as fallback when running on GPU.\n"
     ]
    },
    {
     "name": "stderr",
     "output_type": "stream",
     "text": [
      "WARNING:tensorflow:Layer lstm will not use cuDNN kernels since it doesn't meet the criteria. It will use a generic GPU kernel as fallback when running on GPU.\n"
     ]
    },
    {
     "name": "stdout",
     "output_type": "stream",
     "text": [
      "WARNING:tensorflow:Layer lstm_1 will not use cuDNN kernels since it doesn't meet the criteria. It will use a generic GPU kernel as fallback when running on GPU.\n"
     ]
    },
    {
     "name": "stderr",
     "output_type": "stream",
     "text": [
      "WARNING:tensorflow:Layer lstm_1 will not use cuDNN kernels since it doesn't meet the criteria. It will use a generic GPU kernel as fallback when running on GPU.\n",
      "WARNING:absl:`lr` is deprecated, please use `learning_rate` instead, or use the legacy optimizer, e.g.,tf.keras.optimizers.legacy.Adam.\n"
     ]
    },
    {
     "name": "stdout",
     "output_type": "stream",
     "text": [
      "Model: \"lstm\"\n",
      "_________________________________________________________________\n",
      " Layer (type)                Output Shape              Param #   \n",
      "=================================================================\n",
      " lstm (LSTM)                 (None, 24, 72)            25632     \n",
      "                                                                 \n",
      " lstm_1 (LSTM)               (None, 48)                23232     \n",
      "                                                                 \n",
      " flatten (Flatten)           (None, 48)                0         \n",
      "                                                                 \n",
      " dropout (Dropout)           (None, 48)                0         \n",
      "                                                                 \n",
      " dense (Dense)               (None, 128)               6272      \n",
      "                                                                 \n",
      " dropout_1 (Dropout)         (None, 128)               0         \n",
      "                                                                 \n",
      " dense_1 (Dense)             (None, 1)                 129       \n",
      "                                                                 \n",
      "=================================================================\n",
      "Total params: 55,265\n",
      "Trainable params: 55,265\n",
      "Non-trainable params: 0\n",
      "_________________________________________________________________\n"
     ]
    }
   ],
   "source": [
    "def lstm_model(n_steps, n_horizon, n_features, lr):\n",
    "    \n",
    "    tf.keras.backend.clear_session()\n",
    "    \n",
    "    model = tf.keras.models.Sequential([\n",
    "        tf.keras.layers.LSTM(72, activation='relu', input_shape=(n_steps, n_features), return_sequences=True),\n",
    "        tf.keras.layers.LSTM(48, activation='relu', return_sequences=False),\n",
    "        tf.keras.layers.Flatten(),\n",
    "        tf.keras.layers.Dropout(0.3),\n",
    "        tf.keras.layers.Dense(128, activation='relu'),\n",
    "        tf.keras.layers.Dropout(0.3),\n",
    "        tf.keras.layers.Dense(n_horizon)\n",
    "    ], name='lstm')\n",
    "    \n",
    "    loss = tf.keras.losses.Huber()\n",
    "    optimizer = tf.keras.optimizers.Adam(lr=lr)\n",
    "    \n",
    "    model.compile(loss=loss, optimizer='adam', metrics=['mae'])\n",
    "    \n",
    "    return model\n",
    "\n",
    "lstm = lstm_model(*get_params(multivar=True))\n",
    "lstm.summary()"
   ]
  },
  {
   "cell_type": "code",
   "execution_count": 21,
   "id": "6d2bbddd",
   "metadata": {},
   "outputs": [
    {
     "name": "stdout",
     "output_type": "stream",
     "text": [
      "WARNING:tensorflow:Layer lstm will not use cuDNN kernels since it doesn't meet the criteria. It will use a generic GPU kernel as fallback when running on GPU.\n"
     ]
    },
    {
     "name": "stderr",
     "output_type": "stream",
     "text": [
      "WARNING:tensorflow:Layer lstm will not use cuDNN kernels since it doesn't meet the criteria. It will use a generic GPU kernel as fallback when running on GPU.\n"
     ]
    },
    {
     "name": "stdout",
     "output_type": "stream",
     "text": [
      "WARNING:tensorflow:Layer lstm_1 will not use cuDNN kernels since it doesn't meet the criteria. It will use a generic GPU kernel as fallback when running on GPU.\n"
     ]
    },
    {
     "name": "stderr",
     "output_type": "stream",
     "text": [
      "WARNING:tensorflow:Layer lstm_1 will not use cuDNN kernels since it doesn't meet the criteria. It will use a generic GPU kernel as fallback when running on GPU.\n",
      "WARNING:absl:`lr` is deprecated, please use `learning_rate` instead, or use the legacy optimizer, e.g.,tf.keras.optimizers.legacy.Adam.\n"
     ]
    },
    {
     "name": "stdout",
     "output_type": "stream",
     "text": [
      "Model: \"lstm_cnn\"\n",
      "_________________________________________________________________\n",
      " Layer (type)                Output Shape              Param #   \n",
      "=================================================================\n",
      " conv1d (Conv1D)             (None, 19, 64)            6208      \n",
      "                                                                 \n",
      " max_pooling1d (MaxPooling1D  (None, 9, 64)            0         \n",
      " )                                                               \n",
      "                                                                 \n",
      " conv1d_1 (Conv1D)           (None, 7, 64)             12352     \n",
      "                                                                 \n",
      " max_pooling1d_1 (MaxPooling  (None, 3, 64)            0         \n",
      " 1D)                                                             \n",
      "                                                                 \n",
      " lstm (LSTM)                 (None, 3, 72)             39456     \n",
      "                                                                 \n",
      " lstm_1 (LSTM)               (None, 48)                23232     \n",
      "                                                                 \n",
      " flatten (Flatten)           (None, 48)                0         \n",
      "                                                                 \n",
      " dropout (Dropout)           (None, 48)                0         \n",
      "                                                                 \n",
      " dense (Dense)               (None, 128)               6272      \n",
      "                                                                 \n",
      " dropout_1 (Dropout)         (None, 128)               0         \n",
      "                                                                 \n",
      " dense_1 (Dense)             (None, 1)                 129       \n",
      "                                                                 \n",
      "=================================================================\n",
      "Total params: 87,649\n",
      "Trainable params: 87,649\n",
      "Non-trainable params: 0\n",
      "_________________________________________________________________\n"
     ]
    }
   ],
   "source": [
    "def lstm_cnn_model(n_steps, n_horizon, n_features, lr):\n",
    "    \n",
    "    tf.keras.backend.clear_session()\n",
    "    \n",
    "    model = tf.keras.models.Sequential([\n",
    "        tf.keras.layers.Conv1D(64, kernel_size=6, activation='relu', input_shape=(n_steps,n_features)),\n",
    "        tf.keras.layers.MaxPooling1D(2),\n",
    "        tf.keras.layers.Conv1D(64, kernel_size=3, activation='relu'),\n",
    "        tf.keras.layers.MaxPooling1D(2),\n",
    "        tf.keras.layers.LSTM(72, activation='relu', return_sequences=True),\n",
    "        tf.keras.layers.LSTM(48, activation='relu', return_sequences=False),\n",
    "        tf.keras.layers.Flatten(),\n",
    "        tf.keras.layers.Dropout(0.3),\n",
    "        tf.keras.layers.Dense(128),\n",
    "        tf.keras.layers.Dropout(0.3),\n",
    "        tf.keras.layers.Dense(n_horizon)\n",
    "    ], name=\"lstm_cnn\")\n",
    "    \n",
    "    loss = tf.keras.losses.Huber()\n",
    "    optimizer = tf.keras.optimizers.Adam(lr=lr)\n",
    "    \n",
    "    model.compile(loss=loss, optimizer='adam', metrics=['mae'])\n",
    "    \n",
    "    return model\n",
    "\n",
    "lstm_cnn = lstm_cnn_model(*get_params(multivar=True))\n",
    "lstm_cnn.summary()"
   ]
  },
  {
   "cell_type": "code",
   "execution_count": 22,
   "id": "9c3c3ee8",
   "metadata": {},
   "outputs": [
    {
     "name": "stdout",
     "output_type": "stream",
     "text": [
      "WARNING:tensorflow:Layer lstm will not use cuDNN kernels since it doesn't meet the criteria. It will use a generic GPU kernel as fallback when running on GPU.\n"
     ]
    },
    {
     "name": "stderr",
     "output_type": "stream",
     "text": [
      "WARNING:tensorflow:Layer lstm will not use cuDNN kernels since it doesn't meet the criteria. It will use a generic GPU kernel as fallback when running on GPU.\n"
     ]
    },
    {
     "name": "stdout",
     "output_type": "stream",
     "text": [
      "WARNING:tensorflow:Layer lstm_1 will not use cuDNN kernels since it doesn't meet the criteria. It will use a generic GPU kernel as fallback when running on GPU.\n"
     ]
    },
    {
     "name": "stderr",
     "output_type": "stream",
     "text": [
      "WARNING:tensorflow:Layer lstm_1 will not use cuDNN kernels since it doesn't meet the criteria. It will use a generic GPU kernel as fallback when running on GPU.\n",
      "WARNING:absl:`lr` is deprecated, please use `learning_rate` instead, or use the legacy optimizer, e.g.,tf.keras.optimizers.legacy.Adam.\n"
     ]
    },
    {
     "name": "stdout",
     "output_type": "stream",
     "text": [
      "Model: \"lstm_skip\"\n",
      "__________________________________________________________________________________________________\n",
      " Layer (type)                   Output Shape         Param #     Connected to                     \n",
      "==================================================================================================\n",
      " main (InputLayer)              [(None, 24, 16)]     0           []                               \n",
      "                                                                                                  \n",
      " conv1d (Conv1D)                (None, 19, 64)       6208        ['main[0][0]']                   \n",
      "                                                                                                  \n",
      " max_pooling1d (MaxPooling1D)   (None, 9, 64)        0           ['conv1d[0][0]']                 \n",
      "                                                                                                  \n",
      " conv1d_1 (Conv1D)              (None, 7, 64)        12352       ['max_pooling1d[0][0]']          \n",
      "                                                                                                  \n",
      " max_pooling1d_1 (MaxPooling1D)  (None, 3, 64)       0           ['conv1d_1[0][0]']               \n",
      "                                                                                                  \n",
      " lstm (LSTM)                    (None, 3, 72)        39456       ['max_pooling1d_1[0][0]']        \n",
      "                                                                                                  \n",
      " lstm_1 (LSTM)                  (None, 48)           23232       ['lstm[0][0]']                   \n",
      "                                                                                                  \n",
      " flatten (Flatten)              (None, 48)           0           ['lstm_1[0][0]']                 \n",
      "                                                                                                  \n",
      " flatten_1 (Flatten)            (None, 384)          0           ['main[0][0]']                   \n",
      "                                                                                                  \n",
      " concatenate (Concatenate)      (None, 432)          0           ['flatten[0][0]',                \n",
      "                                                                  'flatten_1[0][0]']              \n",
      "                                                                                                  \n",
      " dropout (Dropout)              (None, 432)          0           ['concatenate[0][0]']            \n",
      "                                                                                                  \n",
      " dense (Dense)                  (None, 128)          55424       ['dropout[0][0]']                \n",
      "                                                                                                  \n",
      " dropout_1 (Dropout)            (None, 128)          0           ['dense[0][0]']                  \n",
      "                                                                                                  \n",
      " dense_1 (Dense)                (None, 1)            129         ['dropout_1[0][0]']              \n",
      "                                                                                                  \n",
      "==================================================================================================\n",
      "Total params: 136,801\n",
      "Trainable params: 136,801\n",
      "Non-trainable params: 0\n",
      "__________________________________________________________________________________________________\n"
     ]
    }
   ],
   "source": [
    "def lstm_cnn_skip_model(n_steps, n_horizon, n_features, lr):\n",
    "    \n",
    "    tf.keras.backend.clear_session()\n",
    "    \n",
    "   \n",
    "    inputs = tf.keras.layers.Input(shape=(n_steps,n_features), name='main')\n",
    "    \n",
    "    conv1 = tf.keras.layers.Conv1D(64, kernel_size=6, activation='relu')(inputs)\n",
    "    max_pool_1 = tf.keras.layers.MaxPooling1D(2)(conv1)\n",
    "    conv2 = tf.keras.layers.Conv1D(64, kernel_size=3, activation='relu')(max_pool_1)\n",
    "    max_pool_2 = tf.keras.layers.MaxPooling1D(2)(conv2)\n",
    "    lstm_1 = tf.keras.layers.LSTM(72, activation='relu', return_sequences=True)(max_pool_2)\n",
    "    lstm_2 = tf.keras.layers.LSTM(48, activation='relu', return_sequences=False)(lstm_1)\n",
    "    flatten = tf.keras.layers.Flatten()(lstm_2)\n",
    "    \n",
    "    skip_flatten = tf.keras.layers.Flatten()(inputs)\n",
    "\n",
    "    concat = tf.keras.layers.Concatenate(axis=-1)([flatten, skip_flatten])\n",
    "    drop_1 = tf.keras.layers.Dropout(0.3)(concat)\n",
    "    dense_1 = tf.keras.layers.Dense(128, activation='relu')(drop_1)\n",
    "    drop_2 = tf.keras.layers.Dropout(0.3)(dense_1)\n",
    "    output = tf.keras.layers.Dense(n_horizon)(drop_2)\n",
    "    \n",
    "    model = tf.keras.Model(inputs=inputs, outputs=output, name='lstm_skip')\n",
    "    \n",
    "    loss = tf.keras.losses.Huber()\n",
    "    optimizer = tf.keras.optimizers.Adam(lr=lr)\n",
    "    \n",
    "    model.compile(loss=loss, optimizer='adam', metrics=['mae'])\n",
    "    \n",
    "    return model\n",
    "\n",
    "lstm_skip = lstm_cnn_skip_model(*get_params(multivar=True))\n",
    "lstm_skip.summary()"
   ]
  },
  {
   "cell_type": "code",
   "execution_count": 23,
   "id": "182e390b",
   "metadata": {},
   "outputs": [
    {
     "name": "stdout",
     "output_type": "stream",
     "text": [
      "You must install pydot (`pip install pydot`) and install graphviz (see instructions at https://graphviz.gitlab.io/download/) for plot_model to work.\n"
     ]
    }
   ],
   "source": [
    "tf.keras.utils.plot_model(lstm_skip, show_shapes=True)"
   ]
  },
  {
   "cell_type": "code",
   "execution_count": 24,
   "id": "e8ab3811",
   "metadata": {},
   "outputs": [
    {
     "name": "stderr",
     "output_type": "stream",
     "text": [
      "WARNING:absl:`lr` is deprecated, please use `learning_rate` instead, or use the legacy optimizer, e.g.,tf.keras.optimizers.legacy.Adam.\n"
     ]
    },
    {
     "name": "stdout",
     "output_type": "stream",
     "text": [
      "Prediction lookback (n_steps): 24\n",
      "Prediction horizon (n_horizon): 1\n",
      "Batch Size: 256\n",
      "Datasets:\n",
      "(TensorSpec(shape=(None, None, 16), dtype=tf.float64, name=None), TensorSpec(shape=(None, None, 1), dtype=tf.float64, name=None))\n",
      "Epoch 1/150\n"
     ]
    },
    {
     "name": "stderr",
     "output_type": "stream",
     "text": [
      "2023-03-07 22:39:32.310798: I tensorflow/compiler/xla/service/service.cc:173] XLA service 0x221bc0f0 initialized for platform CUDA (this does not guarantee that XLA will be used). Devices:\n",
      "2023-03-07 22:39:32.310843: I tensorflow/compiler/xla/service/service.cc:181]   StreamExecutor device (0): NVIDIA GeForce GTX 1660 Ti, Compute Capability 7.5\n",
      "2023-03-07 22:39:32.365465: I tensorflow/compiler/mlir/tensorflow/utils/dump_mlir_util.cc:268] disabling MLIR crash reproducer, set env var `MLIR_CRASH_REPRODUCER_DIRECTORY` to enable.\n",
      "2023-03-07 22:39:32.742160: I tensorflow/tsl/platform/default/subprocess.cc:304] Start cannot spawn child process: No such file or directory\n",
      "2023-03-07 22:39:32.866776: I tensorflow/compiler/jit/xla_compilation_cache.cc:477] Compiled cluster using XLA!  This line is logged at most once for the lifetime of the process.\n"
     ]
    },
    {
     "name": "stdout",
     "output_type": "stream",
     "text": [
      "    327/Unknown - 14s 33ms/step - loss: 0.0135 - mae: 0.1156\n",
      "Epoch 1: val_loss improved from inf to 0.00198, saving model to saved_models/dnn\n",
      "INFO:tensorflow:Assets written to: saved_models/dnn/assets\n"
     ]
    },
    {
     "name": "stderr",
     "output_type": "stream",
     "text": [
      "INFO:tensorflow:Assets written to: saved_models/dnn/assets\n"
     ]
    },
    {
     "name": "stdout",
     "output_type": "stream",
     "text": [
      "330/330 [==============================] - 17s 43ms/step - loss: 0.0134 - mae: 0.1152 - val_loss: 0.0020 - val_mae: 0.0610\n",
      "Epoch 2/150\n",
      "327/330 [============================>.] - ETA: 0s - loss: 0.0086 - mae: 0.0986\n",
      "Epoch 2: val_loss improved from 0.00198 to 0.00000, saving model to saved_models/dnn\n",
      "INFO:tensorflow:Assets written to: saved_models/dnn/assets\n"
     ]
    },
    {
     "name": "stderr",
     "output_type": "stream",
     "text": [
      "INFO:tensorflow:Assets written to: saved_models/dnn/assets\n"
     ]
    },
    {
     "name": "stdout",
     "output_type": "stream",
     "text": [
      "330/330 [==============================] - 14s 43ms/step - loss: 0.0085 - mae: 0.0982 - val_loss: 4.0785e-06 - val_mae: 0.0024\n",
      "Epoch 3/150\n",
      "327/330 [============================>.] - ETA: 0s - loss: 0.0100 - mae: 0.1022\n",
      "Epoch 3: val_loss did not improve from 0.00000\n",
      "330/330 [==============================] - 14s 41ms/step - loss: 0.0099 - mae: 0.1018 - val_loss: 5.4914e-06 - val_mae: 0.0033\n",
      "Epoch 4/150\n",
      "327/330 [============================>.] - ETA: 0s - loss: 0.0123 - mae: 0.1165\n",
      "Epoch 4: val_loss did not improve from 0.00000\n",
      "330/330 [==============================] - 14s 41ms/step - loss: 0.0123 - mae: 0.1160 - val_loss: 1.9381e-04 - val_mae: 0.0190\n",
      "Epoch 5/150\n",
      "327/330 [============================>.] - ETA: 0s - loss: 0.0112 - mae: 0.1107\n",
      "Epoch 5: val_loss did not improve from 0.00000\n",
      "330/330 [==============================] - 14s 41ms/step - loss: 0.0111 - mae: 0.1102 - val_loss: 1.4757e-04 - val_mae: 0.0171\n",
      "Epoch 6/150\n",
      "327/330 [============================>.] - ETA: 0s - loss: 0.0101 - mae: 0.1031\n",
      "Epoch 6: val_loss did not improve from 0.00000\n",
      "330/330 [==============================] - 17s 50ms/step - loss: 0.0100 - mae: 0.1026 - val_loss: 5.9536e-06 - val_mae: 0.0034\n",
      "Epoch 7/150\n",
      "327/330 [============================>.] - ETA: 0s - loss: 0.0097 - mae: 0.1012\n",
      "Epoch 7: val_loss did not improve from 0.00000\n",
      "330/330 [==============================] - 14s 42ms/step - loss: 0.0096 - mae: 0.1008 - val_loss: 8.0956e-04 - val_mae: 0.0397\n",
      "Epoch 8/150\n",
      "327/330 [============================>.] - ETA: 0s - loss: 0.0069 - mae: 0.0833\n",
      "Epoch 8: val_loss did not improve from 0.00000\n",
      "330/330 [==============================] - 16s 47ms/step - loss: 0.0069 - mae: 0.0830 - val_loss: 5.7637e-04 - val_mae: 0.0333\n",
      "Epoch 9/150\n",
      "327/330 [============================>.] - ETA: 0s - loss: 0.0066 - mae: 0.0830\n",
      "Epoch 9: val_loss did not improve from 0.00000\n",
      "Restoring model weights from the end of the best epoch: 2.\n",
      "330/330 [==============================] - 16s 47ms/step - loss: 0.0066 - mae: 0.0827 - val_loss: 8.7552e-04 - val_mae: 0.0412\n",
      "Epoch 9: early stopping\n"
     ]
    },
    {
     "name": "stderr",
     "output_type": "stream",
     "text": [
      "WARNING:absl:`lr` is deprecated, please use `learning_rate` instead, or use the legacy optimizer, e.g.,tf.keras.optimizers.legacy.Adam.\n"
     ]
    },
    {
     "name": "stdout",
     "output_type": "stream",
     "text": [
      "Prediction lookback (n_steps): 24\n",
      "Prediction horizon (n_horizon): 1\n",
      "Batch Size: 256\n",
      "Datasets:\n",
      "(TensorSpec(shape=(None, None, 16), dtype=tf.float64, name=None), TensorSpec(shape=(None, None, 1), dtype=tf.float64, name=None))\n",
      "Epoch 1/150\n"
     ]
    },
    {
     "name": "stderr",
     "output_type": "stream",
     "text": [
      "2023-03-07 22:41:52.046543: I tensorflow/compiler/xla/stream_executor/cuda/cuda_dnn.cc:428] Loaded cuDNN version 8100\n",
      "2023-03-07 22:41:56.575910: I tensorflow/tsl/platform/default/subprocess.cc:304] Start cannot spawn child process: No such file or directory\n"
     ]
    },
    {
     "name": "stdout",
     "output_type": "stream",
     "text": [
      "    330/Unknown - 29s 37ms/step - loss: 0.0176 - mae: 0.1235\n",
      "Epoch 1: val_loss improved from inf to 0.00027, saving model to saved_models/CNN\n"
     ]
    },
    {
     "name": "stderr",
     "output_type": "stream",
     "text": [
      "WARNING:absl:Found untraced functions such as _jit_compiled_convolution_op, _jit_compiled_convolution_op while saving (showing 2 of 2). These functions will not be directly callable after loading.\n"
     ]
    },
    {
     "name": "stdout",
     "output_type": "stream",
     "text": [
      "INFO:tensorflow:Assets written to: saved_models/CNN/assets\n"
     ]
    },
    {
     "name": "stderr",
     "output_type": "stream",
     "text": [
      "INFO:tensorflow:Assets written to: saved_models/CNN/assets\n"
     ]
    },
    {
     "name": "stdout",
     "output_type": "stream",
     "text": [
      "330/330 [==============================] - 33s 49ms/step - loss: 0.0176 - mae: 0.1235 - val_loss: 2.6946e-04 - val_mae: 0.0198\n",
      "Epoch 2/150\n",
      "327/330 [============================>.] - ETA: 0s - loss: 0.0140 - mae: 0.1243\n",
      "Epoch 2: val_loss improved from 0.00027 to 0.00009, saving model to saved_models/CNN\n"
     ]
    },
    {
     "name": "stderr",
     "output_type": "stream",
     "text": [
      "WARNING:absl:Found untraced functions such as _jit_compiled_convolution_op, _jit_compiled_convolution_op while saving (showing 2 of 2). These functions will not be directly callable after loading.\n"
     ]
    },
    {
     "name": "stdout",
     "output_type": "stream",
     "text": [
      "INFO:tensorflow:Assets written to: saved_models/CNN/assets\n"
     ]
    },
    {
     "name": "stderr",
     "output_type": "stream",
     "text": [
      "INFO:tensorflow:Assets written to: saved_models/CNN/assets\n"
     ]
    },
    {
     "name": "stdout",
     "output_type": "stream",
     "text": [
      "330/330 [==============================] - 15s 45ms/step - loss: 0.0139 - mae: 0.1238 - val_loss: 9.1284e-05 - val_mae: 0.0112\n",
      "Epoch 3/150\n",
      "327/330 [============================>.] - ETA: 0s - loss: 0.0149 - mae: 0.1300\n",
      "Epoch 3: val_loss did not improve from 0.00009\n",
      "330/330 [==============================] - 14s 42ms/step - loss: 0.0148 - mae: 0.1295 - val_loss: 8.8315e-04 - val_mae: 0.0387\n",
      "Epoch 4/150\n",
      "327/330 [============================>.] - ETA: 0s - loss: 0.0089 - mae: 0.1012\n",
      "Epoch 4: val_loss did not improve from 0.00009\n",
      "330/330 [==============================] - 14s 43ms/step - loss: 0.0089 - mae: 0.1008 - val_loss: 6.6789e-04 - val_mae: 0.0338\n",
      "Epoch 5/150\n",
      "328/330 [============================>.] - ETA: 0s - loss: 0.0064 - mae: 0.0860\n",
      "Epoch 5: val_loss did not improve from 0.00009\n",
      "330/330 [==============================] - 15s 44ms/step - loss: 0.0064 - mae: 0.0859 - val_loss: 3.6870e-04 - val_mae: 0.0252\n",
      "Epoch 6/150\n",
      "329/330 [============================>.] - ETA: 0s - loss: 0.0053 - mae: 0.0781\n",
      "Epoch 6: val_loss did not improve from 0.00009\n",
      "330/330 [==============================] - 15s 45ms/step - loss: 0.0053 - mae: 0.0781 - val_loss: 2.3453e-04 - val_mae: 0.0198\n",
      "Epoch 7/150\n",
      "328/330 [============================>.] - ETA: 0s - loss: 0.0047 - mae: 0.0731\n",
      "Epoch 7: val_loss did not improve from 0.00009\n",
      "330/330 [==============================] - 15s 45ms/step - loss: 0.0047 - mae: 0.0730 - val_loss: 3.6022e-04 - val_mae: 0.0248\n",
      "Epoch 8/150\n",
      "329/330 [============================>.] - ETA: 0s - loss: 0.0045 - mae: 0.0715\n",
      "Epoch 8: val_loss did not improve from 0.00009\n",
      "330/330 [==============================] - 15s 44ms/step - loss: 0.0045 - mae: 0.0715 - val_loss: 2.5070e-04 - val_mae: 0.0208\n",
      "Epoch 9/150\n",
      "327/330 [============================>.] - ETA: 0s - loss: 0.0049 - mae: 0.0742\n",
      "Epoch 9: val_loss did not improve from 0.00009\n",
      "Restoring model weights from the end of the best epoch: 2.\n",
      "330/330 [==============================] - 15s 44ms/step - loss: 0.0048 - mae: 0.0740 - val_loss: 3.0884e-04 - val_mae: 0.0231\n",
      "Epoch 9: early stopping\n",
      "Prediction lookback (n_steps): 24\n",
      "Prediction horizon (n_horizon): 1\n",
      "Batch Size: 256\n",
      "Datasets:\n",
      "(TensorSpec(shape=(None, None, 16), dtype=tf.float64, name=None), TensorSpec(shape=(None, None, 1), dtype=tf.float64, name=None))\n",
      "WARNING:tensorflow:Layer lstm will not use cuDNN kernels since it doesn't meet the criteria. It will use a generic GPU kernel as fallback when running on GPU.\n"
     ]
    },
    {
     "name": "stderr",
     "output_type": "stream",
     "text": [
      "WARNING:tensorflow:Layer lstm will not use cuDNN kernels since it doesn't meet the criteria. It will use a generic GPU kernel as fallback when running on GPU.\n"
     ]
    },
    {
     "name": "stdout",
     "output_type": "stream",
     "text": [
      "WARNING:tensorflow:Layer lstm_1 will not use cuDNN kernels since it doesn't meet the criteria. It will use a generic GPU kernel as fallback when running on GPU.\n"
     ]
    },
    {
     "name": "stderr",
     "output_type": "stream",
     "text": [
      "WARNING:tensorflow:Layer lstm_1 will not use cuDNN kernels since it doesn't meet the criteria. It will use a generic GPU kernel as fallback when running on GPU.\n",
      "WARNING:absl:`lr` is deprecated, please use `learning_rate` instead, or use the legacy optimizer, e.g.,tf.keras.optimizers.legacy.Adam.\n"
     ]
    },
    {
     "name": "stdout",
     "output_type": "stream",
     "text": [
      "Epoch 1/150\n",
      "    330/Unknown - 56s 162ms/step - loss: 0.0144 - mae: 0.1243\n",
      "Epoch 1: val_loss improved from inf to 0.00000, saving model to saved_models/lstm\n",
      "INFO:tensorflow:Assets written to: saved_models/lstm/assets\n"
     ]
    },
    {
     "name": "stderr",
     "output_type": "stream",
     "text": [
      "INFO:tensorflow:Assets written to: saved_models/lstm/assets\n"
     ]
    },
    {
     "name": "stdout",
     "output_type": "stream",
     "text": [
      "330/330 [==============================] - 61s 179ms/step - loss: 0.0144 - mae: 0.1243 - val_loss: 2.2970e-06 - val_mae: 0.0017\n",
      "Epoch 2/150\n",
      "330/330 [==============================] - ETA: 0s - loss: 0.0117 - mae: 0.1143\n",
      "Epoch 2: val_loss did not improve from 0.00000\n",
      "330/330 [==============================] - 58s 174ms/step - loss: 0.0117 - mae: 0.1143 - val_loss: 2.0309e-04 - val_mae: 0.0189\n",
      "Epoch 3/150\n",
      "330/330 [==============================] - ETA: 0s - loss: 0.0071 - mae: 0.0910\n",
      "Epoch 3: val_loss did not improve from 0.00000\n",
      "330/330 [==============================] - 57s 174ms/step - loss: 0.0071 - mae: 0.0910 - val_loss: 1.6226e-04 - val_mae: 0.0162\n",
      "Epoch 4/150\n",
      "330/330 [==============================] - ETA: 0s - loss: 0.0049 - mae: 0.0771\n",
      "Epoch 4: val_loss did not improve from 0.00000\n",
      "330/330 [==============================] - 56s 170ms/step - loss: 0.0049 - mae: 0.0771 - val_loss: 2.2262e-04 - val_mae: 0.0198\n",
      "Epoch 5/150\n",
      "330/330 [==============================] - ETA: 0s - loss: 0.0039 - mae: 0.0684\n",
      "Epoch 5: val_loss did not improve from 0.00000\n",
      "330/330 [==============================] - 56s 170ms/step - loss: 0.0039 - mae: 0.0684 - val_loss: 9.8445e-05 - val_mae: 0.0123\n",
      "Epoch 6/150\n",
      "330/330 [==============================] - ETA: 0s - loss: 0.0034 - mae: 0.0642\n",
      "Epoch 6: val_loss did not improve from 0.00000\n",
      "330/330 [==============================] - 57s 172ms/step - loss: 0.0034 - mae: 0.0642 - val_loss: 7.3142e-05 - val_mae: 0.0101\n",
      "Epoch 7/150\n",
      "330/330 [==============================] - ETA: 0s - loss: 0.0028 - mae: 0.0581\n",
      "Epoch 7: val_loss did not improve from 0.00000\n",
      "330/330 [==============================] - 56s 170ms/step - loss: 0.0028 - mae: 0.0581 - val_loss: 8.0177e-05 - val_mae: 0.0104\n",
      "Epoch 8/150\n",
      "330/330 [==============================] - ETA: 0s - loss: 0.0025 - mae: 0.0553\n",
      "Epoch 8: val_loss did not improve from 0.00000\n",
      "Restoring model weights from the end of the best epoch: 1.\n",
      "330/330 [==============================] - 57s 173ms/step - loss: 0.0025 - mae: 0.0553 - val_loss: 8.3922e-05 - val_mae: 0.0104\n",
      "Epoch 8: early stopping\n",
      "Prediction lookback (n_steps): 24\n",
      "Prediction horizon (n_horizon): 1\n",
      "Batch Size: 256\n",
      "Datasets:\n",
      "(TensorSpec(shape=(None, None, 16), dtype=tf.float64, name=None), TensorSpec(shape=(None, None, 1), dtype=tf.float64, name=None))\n",
      "WARNING:tensorflow:Layer lstm will not use cuDNN kernels since it doesn't meet the criteria. It will use a generic GPU kernel as fallback when running on GPU.\n"
     ]
    },
    {
     "name": "stderr",
     "output_type": "stream",
     "text": [
      "WARNING:tensorflow:Layer lstm will not use cuDNN kernels since it doesn't meet the criteria. It will use a generic GPU kernel as fallback when running on GPU.\n"
     ]
    },
    {
     "name": "stdout",
     "output_type": "stream",
     "text": [
      "WARNING:tensorflow:Layer lstm_1 will not use cuDNN kernels since it doesn't meet the criteria. It will use a generic GPU kernel as fallback when running on GPU.\n"
     ]
    },
    {
     "name": "stderr",
     "output_type": "stream",
     "text": [
      "WARNING:tensorflow:Layer lstm_1 will not use cuDNN kernels since it doesn't meet the criteria. It will use a generic GPU kernel as fallback when running on GPU.\n",
      "WARNING:absl:`lr` is deprecated, please use `learning_rate` instead, or use the legacy optimizer, e.g.,tf.keras.optimizers.legacy.Adam.\n"
     ]
    },
    {
     "name": "stdout",
     "output_type": "stream",
     "text": [
      "Epoch 1/150\n",
      "    330/Unknown - 15s 37ms/step - loss: 0.0173 - mae: 0.1350\n",
      "Epoch 1: val_loss improved from inf to 0.00000, saving model to saved_models/lstm_cnn\n"
     ]
    },
    {
     "name": "stderr",
     "output_type": "stream",
     "text": [
      "WARNING:absl:Found untraced functions such as _jit_compiled_convolution_op, _jit_compiled_convolution_op while saving (showing 2 of 2). These functions will not be directly callable after loading.\n"
     ]
    },
    {
     "name": "stdout",
     "output_type": "stream",
     "text": [
      "INFO:tensorflow:Assets written to: saved_models/lstm_cnn/assets\n"
     ]
    },
    {
     "name": "stderr",
     "output_type": "stream",
     "text": [
      "INFO:tensorflow:Assets written to: saved_models/lstm_cnn/assets\n"
     ]
    },
    {
     "name": "stdout",
     "output_type": "stream",
     "text": [
      "330/330 [==============================] - 21s 55ms/step - loss: 0.0173 - mae: 0.1350 - val_loss: 2.5862e-06 - val_mae: 0.0023\n",
      "Epoch 2/150\n",
      "330/330 [==============================] - ETA: 0s - loss: 0.0173 - mae: 0.1385\n",
      "Epoch 2: val_loss did not improve from 0.00000\n",
      "330/330 [==============================] - 15s 45ms/step - loss: 0.0173 - mae: 0.1385 - val_loss: 4.7256e-06 - val_mae: 0.0031\n",
      "Epoch 3/150\n",
      "329/330 [============================>.] - ETA: 0s - loss: 0.0170 - mae: 0.1378\n",
      "Epoch 3: val_loss did not improve from 0.00000\n",
      "330/330 [==============================] - 15s 46ms/step - loss: 0.0170 - mae: 0.1378 - val_loss: 6.1329e-06 - val_mae: 0.0035\n",
      "Epoch 4/150\n",
      "330/330 [==============================] - ETA: 0s - loss: 0.0166 - mae: 0.1359\n",
      "Epoch 4: val_loss did not improve from 0.00000\n",
      "330/330 [==============================] - 15s 46ms/step - loss: 0.0166 - mae: 0.1359 - val_loss: 4.2717e-06 - val_mae: 0.0029\n",
      "Epoch 5/150\n",
      "329/330 [============================>.] - ETA: 0s - loss: 0.0163 - mae: 0.1347\n",
      "Epoch 5: val_loss did not improve from 0.00000\n",
      "330/330 [==============================] - 15s 45ms/step - loss: 0.0163 - mae: 0.1347 - val_loss: 3.4685e-06 - val_mae: 0.0026\n",
      "Epoch 6/150\n",
      "329/330 [============================>.] - ETA: 0s - loss: 0.0161 - mae: 0.1341\n",
      "Epoch 6: val_loss did not improve from 0.00000\n",
      "330/330 [==============================] - 15s 46ms/step - loss: 0.0161 - mae: 0.1341 - val_loss: 4.0851e-06 - val_mae: 0.0029\n",
      "Epoch 7/150\n",
      "329/330 [============================>.] - ETA: 0s - loss: 0.0160 - mae: 0.1334\n",
      "Epoch 7: val_loss did not improve from 0.00000\n",
      "330/330 [==============================] - 15s 46ms/step - loss: 0.0160 - mae: 0.1334 - val_loss: 3.4253e-06 - val_mae: 0.0026\n",
      "Epoch 8/150\n",
      "330/330 [==============================] - ETA: 0s - loss: 0.0158 - mae: 0.1328\n",
      "Epoch 8: val_loss did not improve from 0.00000\n",
      "Restoring model weights from the end of the best epoch: 1.\n",
      "330/330 [==============================] - 15s 46ms/step - loss: 0.0158 - mae: 0.1328 - val_loss: 6.3856e-06 - val_mae: 0.0036\n",
      "Epoch 8: early stopping\n",
      "Prediction lookback (n_steps): 24\n",
      "Prediction horizon (n_horizon): 1\n",
      "Batch Size: 256\n",
      "Datasets:\n",
      "(TensorSpec(shape=(None, None, 16), dtype=tf.float64, name=None), TensorSpec(shape=(None, None, 1), dtype=tf.float64, name=None))\n",
      "WARNING:tensorflow:Layer lstm will not use cuDNN kernels since it doesn't meet the criteria. It will use a generic GPU kernel as fallback when running on GPU.\n"
     ]
    },
    {
     "name": "stderr",
     "output_type": "stream",
     "text": [
      "WARNING:tensorflow:Layer lstm will not use cuDNN kernels since it doesn't meet the criteria. It will use a generic GPU kernel as fallback when running on GPU.\n"
     ]
    },
    {
     "name": "stdout",
     "output_type": "stream",
     "text": [
      "WARNING:tensorflow:Layer lstm_1 will not use cuDNN kernels since it doesn't meet the criteria. It will use a generic GPU kernel as fallback when running on GPU.\n"
     ]
    },
    {
     "name": "stderr",
     "output_type": "stream",
     "text": [
      "WARNING:tensorflow:Layer lstm_1 will not use cuDNN kernels since it doesn't meet the criteria. It will use a generic GPU kernel as fallback when running on GPU.\n",
      "WARNING:absl:`lr` is deprecated, please use `learning_rate` instead, or use the legacy optimizer, e.g.,tf.keras.optimizers.legacy.Adam.\n"
     ]
    },
    {
     "name": "stdout",
     "output_type": "stream",
     "text": [
      "Epoch 1/150\n",
      "    329/Unknown - 15s 37ms/step - loss: 0.0243 - mae: 0.1490\n",
      "Epoch 1: val_loss improved from inf to 0.00090, saving model to saved_models/lstm_skip\n"
     ]
    },
    {
     "name": "stderr",
     "output_type": "stream",
     "text": [
      "WARNING:absl:Found untraced functions such as _jit_compiled_convolution_op, _jit_compiled_convolution_op while saving (showing 2 of 2). These functions will not be directly callable after loading.\n"
     ]
    },
    {
     "name": "stdout",
     "output_type": "stream",
     "text": [
      "INFO:tensorflow:Assets written to: saved_models/lstm_skip/assets\n"
     ]
    },
    {
     "name": "stderr",
     "output_type": "stream",
     "text": [
      "INFO:tensorflow:Assets written to: saved_models/lstm_skip/assets\n"
     ]
    },
    {
     "name": "stdout",
     "output_type": "stream",
     "text": [
      "330/330 [==============================] - 21s 54ms/step - loss: 0.0243 - mae: 0.1490 - val_loss: 8.9968e-04 - val_mae: 0.0389\n",
      "Epoch 2/150\n",
      "329/330 [============================>.] - ETA: 0s - loss: 0.0112 - mae: 0.1170\n",
      "Epoch 2: val_loss improved from 0.00090 to 0.00007, saving model to saved_models/lstm_skip\n"
     ]
    },
    {
     "name": "stderr",
     "output_type": "stream",
     "text": [
      "WARNING:absl:Found untraced functions such as _jit_compiled_convolution_op, _jit_compiled_convolution_op while saving (showing 2 of 2). These functions will not be directly callable after loading.\n"
     ]
    },
    {
     "name": "stdout",
     "output_type": "stream",
     "text": [
      "INFO:tensorflow:Assets written to: saved_models/lstm_skip/assets\n"
     ]
    },
    {
     "name": "stderr",
     "output_type": "stream",
     "text": [
      "INFO:tensorflow:Assets written to: saved_models/lstm_skip/assets\n"
     ]
    },
    {
     "name": "stdout",
     "output_type": "stream",
     "text": [
      "330/330 [==============================] - 17s 52ms/step - loss: 0.0112 - mae: 0.1170 - val_loss: 7.3109e-05 - val_mae: 0.0100\n",
      "Epoch 3/150\n",
      "329/330 [============================>.] - ETA: 0s - loss: 0.0134 - mae: 0.1244\n",
      "Epoch 3: val_loss did not improve from 0.00007\n",
      "330/330 [==============================] - 15s 45ms/step - loss: 0.0134 - mae: 0.1244 - val_loss: 2.1224e-04 - val_mae: 0.0201\n",
      "Epoch 4/150\n",
      "329/330 [============================>.] - ETA: 0s - loss: 0.0055 - mae: 0.0820\n",
      "Epoch 4: val_loss did not improve from 0.00007\n",
      "330/330 [==============================] - 15s 46ms/step - loss: 0.0055 - mae: 0.0820 - val_loss: 1.7905e-04 - val_mae: 0.0182\n",
      "Epoch 5/150\n",
      "330/330 [==============================] - ETA: 0s - loss: 0.0048 - mae: 0.0768\n",
      "Epoch 5: val_loss did not improve from 0.00007\n",
      "330/330 [==============================] - 15s 46ms/step - loss: 0.0048 - mae: 0.0768 - val_loss: 3.2882e-04 - val_mae: 0.0247\n",
      "Epoch 6/150\n",
      "330/330 [==============================] - ETA: 0s - loss: 0.0046 - mae: 0.0750\n",
      "Epoch 6: val_loss did not improve from 0.00007\n",
      "330/330 [==============================] - 15s 45ms/step - loss: 0.0046 - mae: 0.0750 - val_loss: 2.8887e-04 - val_mae: 0.0232\n",
      "Epoch 7/150\n",
      "330/330 [==============================] - ETA: 0s - loss: 0.0046 - mae: 0.0749\n",
      "Epoch 7: val_loss did not improve from 0.00007\n",
      "330/330 [==============================] - 15s 45ms/step - loss: 0.0046 - mae: 0.0749 - val_loss: 5.5327e-04 - val_mae: 0.0324\n",
      "Epoch 8/150\n",
      "329/330 [============================>.] - ETA: 0s - loss: 0.0045 - mae: 0.0742\n",
      "Epoch 8: val_loss did not improve from 0.00007\n",
      "330/330 [==============================] - 30s 90ms/step - loss: 0.0045 - mae: 0.0742 - val_loss: 1.8476e-04 - val_mae: 0.0180\n",
      "Epoch 9/150\n",
      "329/330 [============================>.] - ETA: 0s - loss: 0.0044 - mae: 0.0730\n",
      "Epoch 9: val_loss did not improve from 0.00007\n",
      "Restoring model weights from the end of the best epoch: 2.\n",
      "330/330 [==============================] - 15s 46ms/step - loss: 0.0044 - mae: 0.0730 - val_loss: 4.2157e-04 - val_mae: 0.0277\n",
      "Epoch 9: early stopping\n"
     ]
    },
    {
     "data": {
      "text/plain": [
       "<PrefetchDataset element_spec=(TensorSpec(shape=(None, None, 16), dtype=tf.float64, name=None), TensorSpec(shape=(None, None, 1), dtype=tf.float64, name=None))>"
      ]
     },
     "execution_count": 24,
     "metadata": {},
     "output_type": "execute_result"
    }
   ],
   "source": [
    "model_configs=dict()\n",
    "run_model(\"dnn\", dnn_model, model_configs, epochs=150)\n",
    "run_model(\"cnn\", cnn_model, model_configs, epochs=150)\n",
    "run_model(\"lstm\", lstm_model, model_configs, epochs=150)\n",
    "run_model(\"lstm_cnn\", lstm_cnn_model, model_configs, epochs=150)\n",
    "run_model(\"lstm_skip\", lstm_cnn_skip_model, model_configs, epochs=150)"
   ]
  },
  {
   "cell_type": "code",
   "execution_count": 25,
   "id": "7e63e17d",
   "metadata": {},
   "outputs": [
    {
     "name": "stdout",
     "output_type": "stream",
     "text": [
      "Loss Curves\n"
     ]
    },
    {
     "data": {
      "image/png": "[encoded data removed]",
      "text/plain": [
       "<Figure size 2500x500 with 5 Axes>"
      ]
     },
     "metadata": {},
     "output_type": "display_data"
    }
   ],
   "source": [
    "legend = list()\n",
    "\n",
    "fig, axs = plt.subplots(1, 5, figsize=(25,5))\n",
    "\n",
    "def plot_graphs(metric, val, ax, upper):\n",
    "    ax.plot(val['history'].history[metric])\n",
    "    ax.plot(val['history'].history[f'val_{metric}'])\n",
    "    ax.set_title(key)\n",
    "    ax.legend([metric, f\"val_{metric}\"])\n",
    "    ax.set_xlabel('epochs')\n",
    "    ax.set_ylabel(metric)\n",
    "    ax.set_ylim([0, upper])\n",
    "    \n",
    "for (key, val), ax in zip(model_configs.items(), axs.flatten()):\n",
    "    plot_graphs('loss', val, ax, 0.2)\n",
    "print(\"Loss Curves\")"
   ]
  },
  {
   "cell_type": "code",
   "execution_count": 26,
   "id": "18f1d1cb",
   "metadata": {},
   "outputs": [
    {
     "name": "stdout",
     "output_type": "stream",
     "text": [
      "MAE Curves\n"
     ]
    },
    {
     "data": {
      "image/png": "[encoded data removed]",
      "text/plain": [
       "<Figure size 2500x500 with 5 Axes>"
      ]
     },
     "metadata": {},
     "output_type": "display_data"
    }
   ],
   "source": [
    "print(\"MAE Curves\")\n",
    "fig, axs = plt.subplots(1, 5, figsize=(25,5))\n",
    "for (key, val), ax in zip(model_configs.items(), axs.flatten()):\n",
    "    plot_graphs('mae', val, ax, 0.6)"
   ]
  },
  {
   "cell_type": "code",
   "execution_count": 29,
   "id": "2838de3a",
   "metadata": {},
   "outputs": [
    {
     "name": "stdout",
     "output_type": "stream",
     "text": [
      "83/83 [==============================] - 3s 32ms/step - loss: 4.0785e-06 - mae: 0.0024\n",
      "83/83 [==============================] - 3s 31ms/step - loss: 9.1284e-05 - mae: 0.0112\n",
      "83/83 [==============================] - 3s 35ms/step - loss: 2.2970e-06 - mae: 0.0017\n",
      "83/83 [==============================] - 3s 33ms/step - loss: 2.5862e-06 - mae: 0.0023\n",
      "83/83 [==============================] - 3s 33ms/step - loss: 7.3109e-05 - mae: 0.0100\n",
      "                mae  error_mw\n",
      "dnn        0.002358  0.679145\n",
      "cnn        0.011191  3.223442\n",
      "lstm       0.001743  0.502049\n",
      "lstm_cnn   0.002271  0.654272\n",
      "lstm_skip  0.009965  2.870298\n"
     ]
    }
   ],
   "source": [
    "names = list()\n",
    "performance = list()\n",
    "\n",
    "for key, value in model_configs.items():\n",
    "    names.append(key)\n",
    "    mae = value['model'].evaluate(value['test_ds'])\n",
    "    performance.append(mae[1])\n",
    "    \n",
    "performance_df = pd.DataFrame(performance, index=names, columns=['mae'])\n",
    "performance_df['error_mw'] = performance_df['mae'] * dataset['temp'].mean()\n",
    "print(performance_df)  "
   ]
  },
  {
   "cell_type": "code",
   "execution_count": 32,
   "id": "bbf15f90",
   "metadata": {},
   "outputs": [
    {
     "name": "stdout",
     "output_type": "stream",
     "text": [
      "83/83 [==============================] - 3s 32ms/step\n",
      "83/83 [==============================] - 3s 33ms/step\n",
      "83/83 [==============================] - 3s 36ms/step\n",
      "83/83 [==============================] - 3s 34ms/step\n",
      "83/83 [==============================] - 3s 33ms/step\n",
      "First Two Weeks of Predictions\n"
     ]
    },
    {
     "data": {
      "image/png": "[encoded data removed]",
      "text/plain": [
       "<Figure size 1800x1000 with 5 Axes>"
      ]
     },
     "metadata": {},
     "output_type": "display_data"
    }
   ],
   "source": [
    "fig, axs = plt.subplots(5, 1, figsize=(18, 10))\n",
    "days = 100\n",
    "\n",
    "vline = np.linspace(0, days, days+1)\n",
    "\n",
    "for (key, val), ax in zip(model_configs.items(), axs):\n",
    "\n",
    "    test = val['test_ds']\n",
    "    preds = val['model'].predict(test)\n",
    "\n",
    "    xbatch, ybatch = iter(test).get_next()\n",
    "\n",
    "    ax.plot(ybatch.numpy()[:days].reshape(-1))\n",
    "    ax.plot(preds[:days].reshape(-1))\n",
    "    ax.set_title(key)\n",
    "    ax.vlines(vline, ymin=0, ymax=1, linestyle='dotted', transform = ax.get_xaxis_transform())\n",
    "    ax.legend([\"Actual\", \"Predicted\"])\n",
    "\n",
    "plt.xlabel(\"Hours Cumulative\")\n",
    "print('First Two Weeks of Predictions')"
   ]
  },
  {
   "cell_type": "code",
   "execution_count": null,
   "id": "e06adf20",
   "metadata": {},
   "outputs": [],
   "source": []
  }
 ],
 "metadata": {
  "kernelspec": {
   "display_name": "Python 3 (ipykernel)",
   "language": "python",
   "name": "python3"
  },
  "language_info": {
   "codemirror_mode": {
    "name": "ipython",
    "version": 3
   },
   "file_extension": ".py",
   "mimetype": "text/x-python",
   "name": "python",
   "nbconvert_exporter": "python",
   "pygments_lexer": "ipython3",
   "version": "3.9.13"
  }
 },
 "nbformat": 4,
 "nbformat_minor": 5
}
