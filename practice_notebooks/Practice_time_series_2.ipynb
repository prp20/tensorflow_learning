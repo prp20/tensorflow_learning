{
 "cells": [
  {
   "cell_type": "markdown",
   "metadata": {
    "colab_type": "text",
    "id": "view-in-github"
   },
   "source": [
    "<a href=\"https://colab.research.google.com/github/prp20/tensorflow_learning/blob/main/practice_timeseries_2.ipynb\" target=\"_parent\"><img src=\"https://colab.research.google.com/assets/colab-badge.svg\" alt=\"Open In Colab\"/></a>"
   ]
  },
  {
   "cell_type": "code",
   "execution_count": 1,
   "metadata": {
    "colab": {
     "base_uri": "https://localhost:8080/"
    },
    "id": "GsW2McXBWjsh",
    "outputId": "b1e6d137-277b-4260-87bf-c317dc12e627"
   },
   "outputs": [
    {
     "name": "stdout",
     "output_type": "stream",
     "text": [
      "/bin/bash: /home/prp/anaconda3/lib/libtinfo.so.6: no version information available (required by /bin/bash)\r\n",
      "/home/prp/tensorflow_learning/practice_notebooks\r\n"
     ]
    }
   ],
   "source": [
    "!pwd"
   ]
  },
  {
   "cell_type": "code",
   "execution_count": 2,
   "metadata": {
    "colab": {
     "base_uri": "https://localhost:8080/"
    },
    "id": "yX64vQZgW7rN",
    "outputId": "ed9b6593-c034-46ac-d94d-6eca8c3f50f9"
   },
   "outputs": [
    {
     "name": "stdout",
     "output_type": "stream",
     "text": [
      "/bin/bash: /home/prp/anaconda3/lib/libtinfo.so.6: no version information available (required by /bin/bash)\r\n",
      "unzip:  cannot find or open /content/archive.zip, /content/archive.zip.zip or /content/archive.zip.ZIP.\r\n"
     ]
    }
   ],
   "source": [
    "!unzip /content/archive.zip -d /content/dataset"
   ]
  },
  {
   "cell_type": "code",
   "execution_count": 3,
   "metadata": {
    "id": "m0_CwUYMXGVm"
   },
   "outputs": [
    {
     "name": "stderr",
     "output_type": "stream",
     "text": [
      "2023-03-04 12:30:39.567376: I tensorflow/core/platform/cpu_feature_guard.cc:193] This TensorFlow binary is optimized with oneAPI Deep Neural Network Library (oneDNN) to use the following CPU instructions in performance-critical operations:  AVX2 FMA\n",
      "To enable them in other operations, rebuild TensorFlow with the appropriate compiler flags.\n",
      "2023-03-04 12:30:40.303710: W tensorflow/compiler/xla/stream_executor/platform/default/dso_loader.cc:64] Could not load dynamic library 'libnvinfer.so.7'; dlerror: libnvinfer.so.7: cannot open shared object file: No such file or directory; LD_LIBRARY_PATH: :/home/prp/anaconda3/lib/\n",
      "2023-03-04 12:30:40.303815: W tensorflow/compiler/xla/stream_executor/platform/default/dso_loader.cc:64] Could not load dynamic library 'libnvinfer_plugin.so.7'; dlerror: libnvinfer_plugin.so.7: cannot open shared object file: No such file or directory; LD_LIBRARY_PATH: :/home/prp/anaconda3/lib/\n",
      "2023-03-04 12:30:40.303824: W tensorflow/compiler/tf2tensorrt/utils/py_utils.cc:38] TF-TRT Warning: Cannot dlopen some TensorRT libraries. If you would like to use Nvidia GPU with TensorRT, please make sure the missing libraries mentioned above are installed properly.\n"
     ]
    }
   ],
   "source": [
    "import pandas as pd\n",
    "import numpy as np\n",
    "import matplotlib.pyplot as plt\n",
    "import tensorflow as tf\n",
    "from sklearn.preprocessing import MinMaxScaler"
   ]
  },
  {
   "cell_type": "code",
   "execution_count": 4,
   "metadata": {
    "colab": {
     "base_uri": "https://localhost:8080/"
    },
    "id": "zJe4MqZeXLKn",
    "outputId": "590d7d84-e546-4753-c2fb-e3f06f4b262c"
   },
   "outputs": [
    {
     "name": "stderr",
     "output_type": "stream",
     "text": [
      "2023-03-04 12:30:41.511828: I tensorflow/compiler/xla/stream_executor/cuda/cuda_gpu_executor.cc:967] could not open file to read NUMA node: /sys/bus/pci/devices/0000:01:00.0/numa_node\n",
      "Your kernel may have been built without NUMA support.\n",
      "2023-03-04 12:30:41.517744: I tensorflow/compiler/xla/stream_executor/cuda/cuda_gpu_executor.cc:967] could not open file to read NUMA node: /sys/bus/pci/devices/0000:01:00.0/numa_node\n",
      "Your kernel may have been built without NUMA support.\n",
      "2023-03-04 12:30:41.517807: I tensorflow/compiler/xla/stream_executor/cuda/cuda_gpu_executor.cc:967] could not open file to read NUMA node: /sys/bus/pci/devices/0000:01:00.0/numa_node\n",
      "Your kernel may have been built without NUMA support.\n"
     ]
    },
    {
     "data": {
      "text/plain": [
       "[PhysicalDevice(name='/physical_device:GPU:0', device_type='GPU')]"
      ]
     },
     "execution_count": 4,
     "metadata": {},
     "output_type": "execute_result"
    }
   ],
   "source": [
    "import tensorflow as tf\n",
    "tf.config.list_physical_devices('GPU')"
   ]
  },
  {
   "cell_type": "code",
   "execution_count": 5,
   "metadata": {
    "colab": {
     "base_uri": "https://localhost:8080/"
    },
    "id": "64CyksYOXRJ4",
    "outputId": "b153c016-5bf1-4eef-c631-71eded2cc414"
   },
   "outputs": [
    {
     "name": "stdout",
     "output_type": "stream",
     "text": [
      "         date   meantemp   humidity  wind_speed  meanpressure\n",
      "0  2013-01-01  10.000000  84.500000    0.000000   1015.666667\n",
      "1  2013-01-02   7.400000  92.000000    2.980000   1017.800000\n",
      "2  2013-01-03   7.166667  87.000000    4.633333   1018.666667\n",
      "3  2013-01-04   8.666667  71.333333    1.233333   1017.166667\n",
      "4  2013-01-05   6.000000  86.833333    3.700000   1016.500000\n"
     ]
    }
   ],
   "source": [
    "def load_data(path, col=None, verbose=False):\n",
    "    df = pd.read_csv(path)\n",
    "    if col is not None:\n",
    "        df = df[col]\n",
    "    if verbose:\n",
    "        print(df.head())\n",
    "    return df\n",
    "\n",
    "train_data_path = \"/mnt/d/Learning/tensorflow_learning/datasets/DailyDelhiClimateTrain.csv\"\n",
    "test_data_path = \"/mnt/d/Learning/tensorflow_learning/datasets/DailyDelhiClimateTest.csv\"\n",
    "train_df = load_data(train_data_path, verbose=True)\n",
    "test_df = load_data(test_data_path)"
   ]
  },
  {
   "cell_type": "code",
   "execution_count": 6,
   "metadata": {
    "colab": {
     "base_uri": "https://localhost:8080/"
    },
    "id": "THwNG1brYBLQ",
    "outputId": "b92757c4-9365-4bec-a455-9addb4b1b9b8"
   },
   "outputs": [],
   "source": [
    "def clean_data(series):\n",
    "    \"\"\"Fills missing values. \n",
    "    \n",
    "        Interpolate missing values with a linear approximation.\n",
    "    \"\"\"\n",
    "    series_filled = series.interpolate(method='linear')\n",
    "        \n",
    "    return series_filled\n",
    "        \n",
    "    \n",
    "def min_max_scale(dataframe):\n",
    "    \"\"\" Applies MinMax Scaling\n",
    "    \n",
    "        Wrapper for sklearn's MinMaxScaler class.\n",
    "    \"\"\"\n",
    "    mm = MinMaxScaler()\n",
    "    return mm.fit_transform(dataframe)\n",
    "\n",
    "def make_time_features(series):\n",
    "    \n",
    "    #convert series to datetimes\n",
    "    datetimes = pd.DatetimeIndex(series)\n",
    "    \n",
    "    year = datetimes.year.values\n",
    "    day = datetimes.day.values\n",
    "    months = datetimes.month.values\n",
    "    \n",
    "    years = pd.Series(year, name='hours')\n",
    "    dayofw = pd.Series(day, name='dayofw')\n",
    "    month = pd.Series(months, name='months')\n",
    "    \n",
    "    return years, dayofw, month"
   ]
  },
  {
   "cell_type": "code",
   "execution_count": 7,
   "metadata": {
    "colab": {
     "base_uri": "https://localhost:8080/"
    },
    "id": "mGAAUtJmYsLN",
    "outputId": "62728b42-3881-49b7-c27d-6f64eb1ccadf"
   },
   "outputs": [],
   "source": [
    "def split_data(series, train_fraq):\n",
    "    \"\"\"Splits input series into train, val and test.\n",
    "    \n",
    "        Default to 1 year of test data.\n",
    "    \"\"\"\n",
    "    #slice the last year of data for testing 1 year has 8760 hours\n",
    "    train_val_data = series\n",
    "\n",
    "    #make train and validation from the remaining\n",
    "    train_size = int(len(train_val_data) * train_fraq)\n",
    "    \n",
    "    train_data = train_val_data[:train_size]\n",
    "    val_data = train_val_data[train_size:]\n",
    "    test_data = val_data\n",
    "    return train_data, val_data, test_data"
   ]
  },
  {
   "cell_type": "code",
   "execution_count": 8,
   "metadata": {
    "colab": {
     "base_uri": "https://localhost:8080/"
    },
    "id": "H7DCDSAXZ6TG",
    "outputId": "b2d6608e-cb1d-46e4-de85-323bbde27293"
   },
   "outputs": [],
   "source": [
    "def window_dataset(data, n_steps, n_horizon, batch_size, shuffle_buffer, multi_var=False, expand_dims=False):\n",
    "    window = n_steps + n_horizon\n",
    "    if expand_dims:\n",
    "        ds = tf.expand_dims(data, axis=-1)\n",
    "        ds = tf.data.Dataset.from_tensor_slices(ds)\n",
    "    else:\n",
    "        ds = tf.data.Dataset.from_tensor_slices(data)\n",
    "    ds = ds.window(window, shift=n_horizon, drop_remainder=True)\n",
    "    ds = ds.flat_map(lambda x : x.batch(window))\n",
    "    ds = ds.shuffle(shuffle_buffer)    \n",
    "    if multi_var:\n",
    "        ds = ds.map(lambda x : (x[:-n_horizon], x[-n_horizon:, :1]))\n",
    "    else:\n",
    "        ds = ds.map(lambda x : (x[:-n_horizon], x[-n_horizon:]))\n",
    "    ds = ds.batch(batch_size).prefetch(1)\n",
    "    return ds"
   ]
  },
  {
   "cell_type": "code",
   "execution_count": null,
   "metadata": {
    "colab": {
     "base_uri": "https://localhost:8080/"
    },
    "id": "1jhd4JMXbt3t",
    "outputId": "2fba7bf4-d389-4ac9-99da-56566b4045f9"
   },
   "outputs": [],
   "source": []
  },
  {
   "cell_type": "code",
   "execution_count": 29,
   "metadata": {
    "colab": {
     "base_uri": "https://localhost:8080/"
    },
    "id": "XQnnz47Ua6pd",
    "outputId": "272b3cd5-5b62-4891-96f2-0b0796c345cc"
   },
   "outputs": [],
   "source": [
    "def build_dataset(n_steps, n_horizon, batch_size=128, shuffle_buffer=100, expand_dims=False, multi_var=False):\n",
    "    tf.random.set_seed(23)\n",
    "    \n",
    "    if multi_var:\n",
    "        data = load_data(train_data_path, col=['date', 'meantemp', 'humidity', 'wind_speed', 'meanpressure'])\n",
    "        years, day, months = make_time_features(data.date)\n",
    "        data = pd.concat([data.drop(['date'], axis=1), years, day, months], axis=1)\n",
    "    else:\n",
    "        data = load_data(col=['meantemp'])\n",
    "        \n",
    "    data = clean_data(data)\n",
    "    \n",
    "    if multi_var:\n",
    "        mm = MinMaxScaler()\n",
    "        data = mm.fit_transform(data)\n",
    "    \n",
    "    train_data, val_data, test_data = split_data(data, train_fraq=0.8)\n",
    "    \n",
    "    train_ds = window_dataset(train_data, n_steps, n_horizon, batch_size, shuffle_buffer, multi_var=multi_var, expand_dims=expand_dims)\n",
    "    val_ds = window_dataset(val_data, n_steps, n_horizon, batch_size, shuffle_buffer, multi_var=multi_var, expand_dims=expand_dims)\n",
    "    test_ds = window_dataset(test_data, n_steps, n_horizon, batch_size, shuffle_buffer, multi_var=multi_var, expand_dims=expand_dims)\n",
    "    \n",
    "    return train_ds, val_ds, test_ds"
   ]
  },
  {
   "cell_type": "code",
   "execution_count": 30,
   "metadata": {
    "id": "_N4lX5BHe1tb"
   },
   "outputs": [],
   "source": [
    "def get_params(multivar=False):\n",
    "    lr = 3e-4\n",
    "    n_steps=10\n",
    "    n_horizon=1\n",
    "    if multivar:\n",
    "        n_features=7\n",
    "    else:\n",
    "        n_features=1\n",
    "        \n",
    "    return n_steps, n_horizon, n_features, lr"
   ]
  },
  {
   "cell_type": "code",
   "execution_count": 31,
   "metadata": {
    "id": "lhut8d2jfVXM"
   },
   "outputs": [],
   "source": [
    "model_configs = dict()\n",
    "\n",
    "def cfg_model_run(model, history, test_ds):\n",
    "    return {\"model\": model, \"history\" : history, \"test_ds\": test_ds}\n",
    "\n",
    "def get_callbacks(model_name):\n",
    "  callbacks = []\n",
    "  MC = tf.keras.callbacks.ModelCheckpoint(f'saved_models/ts_practice_2/{model_name}', monitor='val_loss', save_best_only='True', verbose=1)\n",
    "  ES = tf.keras.callbacks.EarlyStopping(monitor='val_loss', patience=5, verbose=1, restore_best_weights='True')\n",
    "  return [MC, ES]\n",
    "\n",
    "def run_model(model_name, model_func, model_configs, epochs):\n",
    "    \n",
    "    n_steps, n_horizon, n_features, lr = get_params(multivar=True)\n",
    "    train_ds, val_ds, test_ds = build_dataset(n_steps=n_steps, n_horizon=n_horizon, multi_var=True)\n",
    "\n",
    "    model = model_func(n_steps, n_horizon, n_features, lr=lr)\n",
    "\n",
    "    model_hist = model.fit(train_ds, validation_data=val_ds, epochs=epochs, callbacks= get_callbacks(model.name))\n",
    "\n",
    "    model_configs[model_name] = cfg_model_run(model, model_hist, test_ds)\n",
    "    return test_ds"
   ]
  },
  {
   "cell_type": "code",
   "execution_count": 32,
   "metadata": {
    "colab": {
     "base_uri": "https://localhost:8080/"
    },
    "id": "_zvuLuclfZO9",
    "outputId": "d50b5d37-089c-476e-c6c8-511e345a20d0"
   },
   "outputs": [
    {
     "name": "stderr",
     "output_type": "stream",
     "text": [
      "WARNING:absl:`lr` is deprecated, please use `learning_rate` instead, or use the legacy optimizer, e.g.,tf.keras.optimizers.legacy.Adam.\n"
     ]
    },
    {
     "name": "stdout",
     "output_type": "stream",
     "text": [
      "Model: \"dnn\"\n",
      "_________________________________________________________________\n",
      " Layer (type)                Output Shape              Param #   \n",
      "=================================================================\n",
      " flatten (Flatten)           (None, 70)                0         \n",
      "                                                                 \n",
      " dense (Dense)               (None, 128)               9088      \n",
      "                                                                 \n",
      " dropout (Dropout)           (None, 128)               0         \n",
      "                                                                 \n",
      " dense_1 (Dense)             (None, 128)               16512     \n",
      "                                                                 \n",
      " dropout_1 (Dropout)         (None, 128)               0         \n",
      "                                                                 \n",
      " dense_2 (Dense)             (None, 1)                 129       \n",
      "                                                                 \n",
      "=================================================================\n",
      "Total params: 25,729\n",
      "Trainable params: 25,729\n",
      "Non-trainable params: 0\n",
      "_________________________________________________________________\n"
     ]
    }
   ],
   "source": [
    "def dnn_model(n_steps, n_horizon, n_features, lr):\n",
    "    tf.keras.backend.clear_session()\n",
    "    \n",
    "    model = tf.keras.models.Sequential([\n",
    "        tf.keras.layers.Flatten(input_shape=(n_steps, n_features)),\n",
    "        tf.keras.layers.Dense(128, activation='relu'),\n",
    "        tf.keras.layers.Dropout(0.3),\n",
    "        tf.keras.layers.Dense(128, activation='relu'),\n",
    "        tf.keras.layers.Dropout(0.3),\n",
    "        tf.keras.layers.Dense(n_horizon)\n",
    "    ], name='dnn')\n",
    "    \n",
    "    loss=tf.keras.losses.Huber()\n",
    "    optimizer = tf.keras.optimizers.Adam(lr=lr)\n",
    "    \n",
    "    model.compile(loss=loss, optimizer='adam', metrics=['mae'])\n",
    "    \n",
    "    return model\n",
    "\n",
    "\n",
    "dnn = dnn_model(*get_params(multivar=True))\n",
    "dnn.summary()"
   ]
  },
  {
   "cell_type": "code",
   "execution_count": 33,
   "metadata": {
    "colab": {
     "base_uri": "https://localhost:8080/"
    },
    "id": "MjGldMDafdnX",
    "outputId": "90b8f9b3-4603-41aa-8de8-02bee29d5ba5"
   },
   "outputs": [
    {
     "name": "stderr",
     "output_type": "stream",
     "text": [
      "WARNING:absl:`lr` is deprecated, please use `learning_rate` instead, or use the legacy optimizer, e.g.,tf.keras.optimizers.legacy.Adam.\n"
     ]
    },
    {
     "name": "stdout",
     "output_type": "stream",
     "text": [
      "Model: \"CNN\"\n",
      "_________________________________________________________________\n",
      " Layer (type)                Output Shape              Param #   \n",
      "=================================================================\n",
      " conv1d (Conv1D)             (None, 8, 64)             1408      \n",
      "                                                                 \n",
      " max_pooling1d (MaxPooling1D  (None, 4, 64)            0         \n",
      " )                                                               \n",
      "                                                                 \n",
      " conv1d_1 (Conv1D)           (None, 2, 64)             12352     \n",
      "                                                                 \n",
      " max_pooling1d_1 (MaxPooling  (None, 1, 64)            0         \n",
      " 1D)                                                             \n",
      "                                                                 \n",
      " flatten (Flatten)           (None, 64)                0         \n",
      "                                                                 \n",
      " dropout (Dropout)           (None, 64)                0         \n",
      "                                                                 \n",
      " dense (Dense)               (None, 128)               8320      \n",
      "                                                                 \n",
      " dropout_1 (Dropout)         (None, 128)               0         \n",
      "                                                                 \n",
      " dense_1 (Dense)             (None, 1)                 129       \n",
      "                                                                 \n",
      "=================================================================\n",
      "Total params: 22,209\n",
      "Trainable params: 22,209\n",
      "Non-trainable params: 0\n",
      "_________________________________________________________________\n"
     ]
    }
   ],
   "source": [
    "def cnn_model(n_steps, n_horizon, n_features, lr=3e-4):\n",
    "    \n",
    "    tf.keras.backend.clear_session()\n",
    "    \n",
    "    model = tf.keras.models.Sequential([\n",
    "        tf.keras.layers.Conv1D(64, kernel_size=3, activation='relu', input_shape=(n_steps,n_features)),\n",
    "        tf.keras.layers.MaxPooling1D(2),\n",
    "        tf.keras.layers.Conv1D(64, kernel_size=3, activation='relu'),\n",
    "        tf.keras.layers.MaxPooling1D(2),\n",
    "        tf.keras.layers.Flatten(),\n",
    "        tf.keras.layers.Dropout(0.3),\n",
    "        tf.keras.layers.Dense(128),\n",
    "        tf.keras.layers.Dropout(0.3),\n",
    "        tf.keras.layers.Dense(n_horizon)\n",
    "    ], name=\"CNN\")\n",
    "    \n",
    "    loss= tf.keras.losses.Huber()\n",
    "    optimizer = tf.keras.optimizers.Adam(lr=lr)\n",
    "    \n",
    "    model.compile(loss=loss, optimizer='adam', metrics=['mae'])\n",
    "    \n",
    "    return model\n",
    "\n",
    "cnn = cnn_model(*get_params(multivar=True))\n",
    "cnn.summary()"
   ]
  },
  {
   "cell_type": "code",
   "execution_count": 34,
   "metadata": {
    "colab": {
     "base_uri": "https://localhost:8080/"
    },
    "id": "fmqSrDdFfgSC",
    "outputId": "8b5ed99a-77d3-4cd3-9f61-663f5e4404ec"
   },
   "outputs": [
    {
     "name": "stdout",
     "output_type": "stream",
     "text": [
      "WARNING:tensorflow:Layer lstm will not use cuDNN kernels since it doesn't meet the criteria. It will use a generic GPU kernel as fallback when running on GPU.\n"
     ]
    },
    {
     "name": "stderr",
     "output_type": "stream",
     "text": [
      "WARNING:tensorflow:Layer lstm will not use cuDNN kernels since it doesn't meet the criteria. It will use a generic GPU kernel as fallback when running on GPU.\n"
     ]
    },
    {
     "name": "stdout",
     "output_type": "stream",
     "text": [
      "WARNING:tensorflow:Layer lstm_1 will not use cuDNN kernels since it doesn't meet the criteria. It will use a generic GPU kernel as fallback when running on GPU.\n"
     ]
    },
    {
     "name": "stderr",
     "output_type": "stream",
     "text": [
      "WARNING:tensorflow:Layer lstm_1 will not use cuDNN kernels since it doesn't meet the criteria. It will use a generic GPU kernel as fallback when running on GPU.\n",
      "WARNING:absl:`lr` is deprecated, please use `learning_rate` instead, or use the legacy optimizer, e.g.,tf.keras.optimizers.legacy.Adam.\n"
     ]
    },
    {
     "name": "stdout",
     "output_type": "stream",
     "text": [
      "Model: \"lstm\"\n",
      "_________________________________________________________________\n",
      " Layer (type)                Output Shape              Param #   \n",
      "=================================================================\n",
      " lstm (LSTM)                 (None, 10, 72)            23040     \n",
      "                                                                 \n",
      " lstm_1 (LSTM)               (None, 48)                23232     \n",
      "                                                                 \n",
      " flatten (Flatten)           (None, 48)                0         \n",
      "                                                                 \n",
      " dropout (Dropout)           (None, 48)                0         \n",
      "                                                                 \n",
      " dense (Dense)               (None, 128)               6272      \n",
      "                                                                 \n",
      " dropout_1 (Dropout)         (None, 128)               0         \n",
      "                                                                 \n",
      " dense_1 (Dense)             (None, 1)                 129       \n",
      "                                                                 \n",
      "=================================================================\n",
      "Total params: 52,673\n",
      "Trainable params: 52,673\n",
      "Non-trainable params: 0\n",
      "_________________________________________________________________\n"
     ]
    }
   ],
   "source": [
    "def lstm_model(n_steps, n_horizon, n_features, lr):\n",
    "    \n",
    "    tf.keras.backend.clear_session()\n",
    "    \n",
    "    model = tf.keras.models.Sequential([\n",
    "        tf.keras.layers.LSTM(72, activation='relu', input_shape=(n_steps, n_features), return_sequences=True),\n",
    "        tf.keras.layers.LSTM(48, activation='relu', return_sequences=False),\n",
    "        tf.keras.layers.Flatten(),\n",
    "        tf.keras.layers.Dropout(0.3),\n",
    "        tf.keras.layers.Dense(128, activation='relu'),\n",
    "        tf.keras.layers.Dropout(0.3),\n",
    "        tf.keras.layers.Dense(n_horizon)\n",
    "    ], name='lstm')\n",
    "    \n",
    "    loss = tf.keras.losses.Huber()\n",
    "    optimizer = tf.keras.optimizers.Adam(lr=lr)\n",
    "    \n",
    "    model.compile(loss=loss, optimizer='adam', metrics=['mae'])\n",
    "    \n",
    "    return model\n",
    "\n",
    "lstm = lstm_model(*get_params(multivar=True))\n",
    "lstm.summary()"
   ]
  },
  {
   "cell_type": "code",
   "execution_count": 35,
   "metadata": {
    "colab": {
     "base_uri": "https://localhost:8080/"
    },
    "id": "nSRHFggQfi1y",
    "outputId": "487ae795-5db5-4211-c252-964e891b51c1"
   },
   "outputs": [
    {
     "name": "stdout",
     "output_type": "stream",
     "text": [
      "WARNING:tensorflow:Layer lstm will not use cuDNN kernels since it doesn't meet the criteria. It will use a generic GPU kernel as fallback when running on GPU.\n"
     ]
    },
    {
     "name": "stderr",
     "output_type": "stream",
     "text": [
      "WARNING:tensorflow:Layer lstm will not use cuDNN kernels since it doesn't meet the criteria. It will use a generic GPU kernel as fallback when running on GPU.\n"
     ]
    },
    {
     "name": "stdout",
     "output_type": "stream",
     "text": [
      "WARNING:tensorflow:Layer lstm_1 will not use cuDNN kernels since it doesn't meet the criteria. It will use a generic GPU kernel as fallback when running on GPU.\n"
     ]
    },
    {
     "name": "stderr",
     "output_type": "stream",
     "text": [
      "WARNING:tensorflow:Layer lstm_1 will not use cuDNN kernels since it doesn't meet the criteria. It will use a generic GPU kernel as fallback when running on GPU.\n",
      "WARNING:absl:`lr` is deprecated, please use `learning_rate` instead, or use the legacy optimizer, e.g.,tf.keras.optimizers.legacy.Adam.\n"
     ]
    },
    {
     "name": "stdout",
     "output_type": "stream",
     "text": [
      "Model: \"lstm_cnn\"\n",
      "_________________________________________________________________\n",
      " Layer (type)                Output Shape              Param #   \n",
      "=================================================================\n",
      " conv1d (Conv1D)             (None, 8, 64)             1408      \n",
      "                                                                 \n",
      " max_pooling1d (MaxPooling1D  (None, 4, 64)            0         \n",
      " )                                                               \n",
      "                                                                 \n",
      " conv1d_1 (Conv1D)           (None, 2, 64)             12352     \n",
      "                                                                 \n",
      " max_pooling1d_1 (MaxPooling  (None, 1, 64)            0         \n",
      " 1D)                                                             \n",
      "                                                                 \n",
      " lstm (LSTM)                 (None, 1, 72)             39456     \n",
      "                                                                 \n",
      " lstm_1 (LSTM)               (None, 48)                23232     \n",
      "                                                                 \n",
      " flatten (Flatten)           (None, 48)                0         \n",
      "                                                                 \n",
      " dropout (Dropout)           (None, 48)                0         \n",
      "                                                                 \n",
      " dense (Dense)               (None, 128)               6272      \n",
      "                                                                 \n",
      " dropout_1 (Dropout)         (None, 128)               0         \n",
      "                                                                 \n",
      " dense_1 (Dense)             (None, 1)                 129       \n",
      "                                                                 \n",
      "=================================================================\n",
      "Total params: 82,849\n",
      "Trainable params: 82,849\n",
      "Non-trainable params: 0\n",
      "_________________________________________________________________\n"
     ]
    }
   ],
   "source": [
    "def lstm_cnn_model(n_steps, n_horizon, n_features, lr):\n",
    "    \n",
    "    tf.keras.backend.clear_session()\n",
    "    \n",
    "    model = tf.keras.models.Sequential([\n",
    "        tf.keras.layers.Conv1D(64, kernel_size=3, activation='relu', input_shape=(n_steps,n_features)),\n",
    "        tf.keras.layers.MaxPooling1D(2),\n",
    "        tf.keras.layers.Conv1D(64, kernel_size=3, activation='relu'),\n",
    "        tf.keras.layers.MaxPooling1D(2),\n",
    "        tf.keras.layers.LSTM(72, activation='relu', return_sequences=True),\n",
    "        tf.keras.layers.LSTM(48, activation='relu', return_sequences=False),\n",
    "        tf.keras.layers.Flatten(),\n",
    "        tf.keras.layers.Dropout(0.3),\n",
    "        tf.keras.layers.Dense(128),\n",
    "        tf.keras.layers.Dropout(0.3),\n",
    "        tf.keras.layers.Dense(n_horizon)\n",
    "    ], name=\"lstm_cnn\")\n",
    "    \n",
    "    loss = tf.keras.losses.Huber()\n",
    "    optimizer = tf.keras.optimizers.Adam(lr=lr)\n",
    "    \n",
    "    model.compile(loss=loss, optimizer='adam', metrics=['mae'])\n",
    "    \n",
    "    return model\n",
    "\n",
    "lstm_cnn = lstm_cnn_model(*get_params(multivar=True))\n",
    "lstm_cnn.summary()"
   ]
  },
  {
   "cell_type": "code",
   "execution_count": 36,
   "metadata": {
    "colab": {
     "base_uri": "https://localhost:8080/"
    },
    "id": "c4IHaK42gGpi",
    "outputId": "f2781a90-f6f5-4df2-e1ef-b443794cf6ca"
   },
   "outputs": [
    {
     "name": "stdout",
     "output_type": "stream",
     "text": [
      "WARNING:tensorflow:Layer lstm will not use cuDNN kernels since it doesn't meet the criteria. It will use a generic GPU kernel as fallback when running on GPU.\n"
     ]
    },
    {
     "name": "stderr",
     "output_type": "stream",
     "text": [
      "WARNING:tensorflow:Layer lstm will not use cuDNN kernels since it doesn't meet the criteria. It will use a generic GPU kernel as fallback when running on GPU.\n"
     ]
    },
    {
     "name": "stdout",
     "output_type": "stream",
     "text": [
      "WARNING:tensorflow:Layer lstm_1 will not use cuDNN kernels since it doesn't meet the criteria. It will use a generic GPU kernel as fallback when running on GPU.\n"
     ]
    },
    {
     "name": "stderr",
     "output_type": "stream",
     "text": [
      "WARNING:tensorflow:Layer lstm_1 will not use cuDNN kernels since it doesn't meet the criteria. It will use a generic GPU kernel as fallback when running on GPU.\n",
      "WARNING:absl:`lr` is deprecated, please use `learning_rate` instead, or use the legacy optimizer, e.g.,tf.keras.optimizers.legacy.Adam.\n"
     ]
    },
    {
     "name": "stdout",
     "output_type": "stream",
     "text": [
      "Model: \"lstm_skip\"\n",
      "__________________________________________________________________________________________________\n",
      " Layer (type)                   Output Shape         Param #     Connected to                     \n",
      "==================================================================================================\n",
      " main (InputLayer)              [(None, 10, 7)]      0           []                               \n",
      "                                                                                                  \n",
      " conv1d (Conv1D)                (None, 8, 64)        1408        ['main[0][0]']                   \n",
      "                                                                                                  \n",
      " max_pooling1d (MaxPooling1D)   (None, 4, 64)        0           ['conv1d[0][0]']                 \n",
      "                                                                                                  \n",
      " conv1d_1 (Conv1D)              (None, 2, 64)        12352       ['max_pooling1d[0][0]']          \n",
      "                                                                                                  \n",
      " max_pooling1d_1 (MaxPooling1D)  (None, 1, 64)       0           ['conv1d_1[0][0]']               \n",
      "                                                                                                  \n",
      " lstm (LSTM)                    (None, 1, 72)        39456       ['max_pooling1d_1[0][0]']        \n",
      "                                                                                                  \n",
      " lstm_1 (LSTM)                  (None, 48)           23232       ['lstm[0][0]']                   \n",
      "                                                                                                  \n",
      " flatten (Flatten)              (None, 48)           0           ['lstm_1[0][0]']                 \n",
      "                                                                                                  \n",
      " flatten_1 (Flatten)            (None, 70)           0           ['main[0][0]']                   \n",
      "                                                                                                  \n",
      " concatenate (Concatenate)      (None, 118)          0           ['flatten[0][0]',                \n",
      "                                                                  'flatten_1[0][0]']              \n",
      "                                                                                                  \n",
      " dropout (Dropout)              (None, 118)          0           ['concatenate[0][0]']            \n",
      "                                                                                                  \n",
      " dense (Dense)                  (None, 128)          15232       ['dropout[0][0]']                \n",
      "                                                                                                  \n",
      " dropout_1 (Dropout)            (None, 128)          0           ['dense[0][0]']                  \n",
      "                                                                                                  \n",
      " dense_1 (Dense)                (None, 1)            129         ['dropout_1[0][0]']              \n",
      "                                                                                                  \n",
      "==================================================================================================\n",
      "Total params: 91,809\n",
      "Trainable params: 91,809\n",
      "Non-trainable params: 0\n",
      "__________________________________________________________________________________________________\n"
     ]
    }
   ],
   "source": [
    "def lstm_cnn_skip_model(n_steps, n_horizon, n_features, lr):\n",
    "    \n",
    "    tf.keras.backend.clear_session()\n",
    "    \n",
    "   \n",
    "    inputs = tf.keras.layers.Input(shape=(n_steps,n_features), name='main')\n",
    "    \n",
    "    conv1 = tf.keras.layers.Conv1D(64, kernel_size=3, activation='relu')(inputs)\n",
    "    max_pool_1 = tf.keras.layers.MaxPooling1D(2)(conv1)\n",
    "    conv2 = tf.keras.layers.Conv1D(64, kernel_size=3, activation='relu')(max_pool_1)\n",
    "    max_pool_2 = tf.keras.layers.MaxPooling1D(2)(conv2)\n",
    "    lstm_1 = tf.keras.layers.LSTM(72, activation='relu', return_sequences=True)(max_pool_2)\n",
    "    lstm_2 = tf.keras.layers.LSTM(48, activation='relu', return_sequences=False)(lstm_1)\n",
    "    flatten = tf.keras.layers.Flatten()(lstm_2)\n",
    "    \n",
    "    skip_flatten = tf.keras.layers.Flatten()(inputs)\n",
    "\n",
    "    concat = tf.keras.layers.Concatenate(axis=-1)([flatten, skip_flatten])\n",
    "    drop_1 = tf.keras.layers.Dropout(0.3)(concat)\n",
    "    dense_1 = tf.keras.layers.Dense(128, activation='relu')(drop_1)\n",
    "    drop_2 = tf.keras.layers.Dropout(0.3)(dense_1)\n",
    "    output = tf.keras.layers.Dense(n_horizon)(drop_2)\n",
    "    \n",
    "    model = tf.keras.Model(inputs=inputs, outputs=output, name='lstm_skip')\n",
    "    \n",
    "    loss = tf.keras.losses.Huber()\n",
    "    optimizer = tf.keras.optimizers.Adam(lr=lr)\n",
    "    \n",
    "    model.compile(loss=loss, optimizer='adam', metrics=['mae'])\n",
    "    \n",
    "    return model\n",
    "\n",
    "lstm_skip = lstm_cnn_skip_model(*get_params(multivar=True))\n",
    "lstm_skip.summary()"
   ]
  },
  {
   "cell_type": "code",
   "execution_count": 37,
   "metadata": {
    "colab": {
     "base_uri": "https://localhost:8080/"
    },
    "id": "EsBI0tbzgm3g",
    "outputId": "9211658b-1e53-4a5e-c6c6-9c772e918d8d"
   },
   "outputs": [
    {
     "name": "stderr",
     "output_type": "stream",
     "text": [
      "WARNING:absl:`lr` is deprecated, please use `learning_rate` instead, or use the legacy optimizer, e.g.,tf.keras.optimizers.legacy.Adam.\n"
     ]
    },
    {
     "name": "stdout",
     "output_type": "stream",
     "text": [
      "Epoch 1/150\n",
      "      6/Unknown - 1s 11ms/step - loss: 0.0819 - mae: 0.3199\n",
      "Epoch 1: val_loss improved from inf to 0.03408, saving model to saved_models/ts_practice_2/dnn\n",
      "INFO:tensorflow:Assets written to: saved_models/ts_practice_2/dnn/assets\n"
     ]
    },
    {
     "name": "stderr",
     "output_type": "stream",
     "text": [
      "INFO:tensorflow:Assets written to: saved_models/ts_practice_2/dnn/assets\n"
     ]
    },
    {
     "name": "stdout",
     "output_type": "stream",
     "text": [
      "10/10 [==============================] - 2s 88ms/step - loss: 0.0689 - mae: 0.2927 - val_loss: 0.0341 - val_mae: 0.2417\n",
      "Epoch 2/150\n",
      " 9/10 [==========================>...] - ETA: 0s - loss: 0.0382 - mae: 0.2240\n",
      "Epoch 2: val_loss improved from 0.03408 to 0.00893, saving model to saved_models/ts_practice_2/dnn\n",
      "INFO:tensorflow:Assets written to: saved_models/ts_practice_2/dnn/assets\n"
     ]
    },
    {
     "name": "stderr",
     "output_type": "stream",
     "text": [
      "INFO:tensorflow:Assets written to: saved_models/ts_practice_2/dnn/assets\n"
     ]
    },
    {
     "name": "stdout",
     "output_type": "stream",
     "text": [
      "10/10 [==============================] - 1s 77ms/step - loss: 0.0382 - mae: 0.2241 - val_loss: 0.0089 - val_mae: 0.1125\n",
      "Epoch 3/150\n",
      " 9/10 [==========================>...] - ETA: 0s - loss: 0.0275 - mae: 0.1836\n",
      "Epoch 3: val_loss did not improve from 0.00893\n",
      "10/10 [==============================] - 0s 21ms/step - loss: 0.0274 - mae: 0.1835 - val_loss: 0.0111 - val_mae: 0.1303\n",
      "Epoch 4/150\n",
      " 8/10 [=======================>......] - ETA: 0s - loss: 0.0193 - mae: 0.1575\n",
      "Epoch 4: val_loss improved from 0.00893 to 0.00399, saving model to saved_models/ts_practice_2/dnn\n",
      "INFO:tensorflow:Assets written to: saved_models/ts_practice_2/dnn/assets\n"
     ]
    },
    {
     "name": "stderr",
     "output_type": "stream",
     "text": [
      "INFO:tensorflow:Assets written to: saved_models/ts_practice_2/dnn/assets\n"
     ]
    },
    {
     "name": "stdout",
     "output_type": "stream",
     "text": [
      "10/10 [==============================] - 1s 75ms/step - loss: 0.0190 - mae: 0.1565 - val_loss: 0.0040 - val_mae: 0.0713\n",
      "Epoch 5/150\n",
      " 9/10 [==========================>...] - ETA: 0s - loss: 0.0157 - mae: 0.1411\n",
      "Epoch 5: val_loss did not improve from 0.00399\n",
      "10/10 [==============================] - 0s 21ms/step - loss: 0.0157 - mae: 0.1407 - val_loss: 0.0052 - val_mae: 0.0805\n",
      "Epoch 6/150\n",
      " 8/10 [=======================>......] - ETA: 0s - loss: 0.0156 - mae: 0.1408\n",
      "Epoch 6: val_loss improved from 0.00399 to 0.00394, saving model to saved_models/ts_practice_2/dnn\n",
      "INFO:tensorflow:Assets written to: saved_models/ts_practice_2/dnn/assets\n"
     ]
    },
    {
     "name": "stderr",
     "output_type": "stream",
     "text": [
      "INFO:tensorflow:Assets written to: saved_models/ts_practice_2/dnn/assets\n"
     ]
    },
    {
     "name": "stdout",
     "output_type": "stream",
     "text": [
      "10/10 [==============================] - 1s 77ms/step - loss: 0.0154 - mae: 0.1400 - val_loss: 0.0039 - val_mae: 0.0692\n",
      "Epoch 7/150\n",
      " 7/10 [====================>.........] - ETA: 0s - loss: 0.0137 - mae: 0.1289\n",
      "Epoch 7: val_loss did not improve from 0.00394\n",
      "10/10 [==============================] - 0s 23ms/step - loss: 0.0133 - mae: 0.1283 - val_loss: 0.0047 - val_mae: 0.0764\n",
      "Epoch 8/150\n",
      " 9/10 [==========================>...] - ETA: 0s - loss: 0.0130 - mae: 0.1281\n",
      "Epoch 8: val_loss improved from 0.00394 to 0.00383, saving model to saved_models/ts_practice_2/dnn\n",
      "INFO:tensorflow:Assets written to: saved_models/ts_practice_2/dnn/assets\n"
     ]
    },
    {
     "name": "stderr",
     "output_type": "stream",
     "text": [
      "INFO:tensorflow:Assets written to: saved_models/ts_practice_2/dnn/assets\n"
     ]
    },
    {
     "name": "stdout",
     "output_type": "stream",
     "text": [
      "10/10 [==============================] - 1s 76ms/step - loss: 0.0130 - mae: 0.1279 - val_loss: 0.0038 - val_mae: 0.0683\n",
      "Epoch 9/150\n",
      " 7/10 [====================>.........] - ETA: 0s - loss: 0.0126 - mae: 0.1260\n",
      "Epoch 9: val_loss did not improve from 0.00383\n",
      "10/10 [==============================] - 0s 22ms/step - loss: 0.0120 - mae: 0.1226 - val_loss: 0.0057 - val_mae: 0.0855\n",
      "Epoch 10/150\n",
      " 9/10 [==========================>...] - ETA: 0s - loss: 0.0112 - mae: 0.1174\n",
      "Epoch 10: val_loss did not improve from 0.00383\n",
      "10/10 [==============================] - 0s 23ms/step - loss: 0.0112 - mae: 0.1176 - val_loss: 0.0041 - val_mae: 0.0716\n",
      "Epoch 11/150\n",
      " 9/10 [==========================>...] - ETA: 0s - loss: 0.0100 - mae: 0.1124\n",
      "Epoch 11: val_loss did not improve from 0.00383\n",
      "10/10 [==============================] - 0s 21ms/step - loss: 0.0099 - mae: 0.1121 - val_loss: 0.0045 - val_mae: 0.0757\n",
      "Epoch 12/150\n",
      " 7/10 [====================>.........] - ETA: 0s - loss: 0.0112 - mae: 0.1180\n",
      "Epoch 12: val_loss did not improve from 0.00383\n",
      "10/10 [==============================] - 0s 22ms/step - loss: 0.0109 - mae: 0.1162 - val_loss: 0.0070 - val_mae: 0.0994\n",
      "Epoch 13/150\n",
      " 9/10 [==========================>...] - ETA: 0s - loss: 0.0111 - mae: 0.1164\n",
      "Epoch 13: val_loss did not improve from 0.00383\n",
      "Restoring model weights from the end of the best epoch: 8.\n",
      "10/10 [==============================] - 0s 24ms/step - loss: 0.0111 - mae: 0.1161 - val_loss: 0.0048 - val_mae: 0.0796\n",
      "Epoch 13: early stopping\n"
     ]
    },
    {
     "name": "stderr",
     "output_type": "stream",
     "text": [
      "WARNING:absl:`lr` is deprecated, please use `learning_rate` instead, or use the legacy optimizer, e.g.,tf.keras.optimizers.legacy.Adam.\n"
     ]
    },
    {
     "name": "stdout",
     "output_type": "stream",
     "text": [
      "Epoch 1/150\n",
      "      7/Unknown - 1s 11ms/step - loss: 0.0507 - mae: 0.2524\n",
      "Epoch 1: val_loss improved from inf to 0.01036, saving model to saved_models/ts_practice_2/CNN\n"
     ]
    },
    {
     "name": "stderr",
     "output_type": "stream",
     "text": [
      "WARNING:absl:Found untraced functions such as _jit_compiled_convolution_op, _jit_compiled_convolution_op while saving (showing 2 of 2). These functions will not be directly callable after loading.\n"
     ]
    },
    {
     "name": "stdout",
     "output_type": "stream",
     "text": [
      "INFO:tensorflow:Assets written to: saved_models/ts_practice_2/CNN/assets\n"
     ]
    },
    {
     "name": "stderr",
     "output_type": "stream",
     "text": [
      "INFO:tensorflow:Assets written to: saved_models/ts_practice_2/CNN/assets\n"
     ]
    },
    {
     "name": "stdout",
     "output_type": "stream",
     "text": [
      "10/10 [==============================] - 2s 114ms/step - loss: 0.0454 - mae: 0.2369 - val_loss: 0.0104 - val_mae: 0.1193\n",
      "Epoch 2/150\n",
      " 7/10 [====================>.........] - ETA: 0s - loss: 0.0187 - mae: 0.1519\n",
      "Epoch 2: val_loss improved from 0.01036 to 0.00403, saving model to saved_models/ts_practice_2/CNN\n"
     ]
    },
    {
     "name": "stderr",
     "output_type": "stream",
     "text": [
      "WARNING:absl:Found untraced functions such as _jit_compiled_convolution_op, _jit_compiled_convolution_op while saving (showing 2 of 2). These functions will not be directly callable after loading.\n"
     ]
    },
    {
     "name": "stdout",
     "output_type": "stream",
     "text": [
      "INFO:tensorflow:Assets written to: saved_models/ts_practice_2/CNN/assets\n"
     ]
    },
    {
     "name": "stderr",
     "output_type": "stream",
     "text": [
      "INFO:tensorflow:Assets written to: saved_models/ts_practice_2/CNN/assets\n"
     ]
    },
    {
     "name": "stdout",
     "output_type": "stream",
     "text": [
      "10/10 [==============================] - 1s 117ms/step - loss: 0.0173 - mae: 0.1462 - val_loss: 0.0040 - val_mae: 0.0728\n",
      "Epoch 3/150\n",
      " 9/10 [==========================>...] - ETA: 0s - loss: 0.0123 - mae: 0.1248\n",
      "Epoch 3: val_loss improved from 0.00403 to 0.00342, saving model to saved_models/ts_practice_2/CNN\n"
     ]
    },
    {
     "name": "stderr",
     "output_type": "stream",
     "text": [
      "WARNING:absl:Found untraced functions such as _jit_compiled_convolution_op, _jit_compiled_convolution_op while saving (showing 2 of 2). These functions will not be directly callable after loading.\n"
     ]
    },
    {
     "name": "stdout",
     "output_type": "stream",
     "text": [
      "INFO:tensorflow:Assets written to: saved_models/ts_practice_2/CNN/assets\n"
     ]
    },
    {
     "name": "stderr",
     "output_type": "stream",
     "text": [
      "INFO:tensorflow:Assets written to: saved_models/ts_practice_2/CNN/assets\n"
     ]
    },
    {
     "name": "stdout",
     "output_type": "stream",
     "text": [
      "10/10 [==============================] - 1s 94ms/step - loss: 0.0123 - mae: 0.1247 - val_loss: 0.0034 - val_mae: 0.0651\n",
      "Epoch 4/150\n",
      " 9/10 [==========================>...] - ETA: 0s - loss: 0.0112 - mae: 0.1172\n",
      "Epoch 4: val_loss improved from 0.00342 to 0.00322, saving model to saved_models/ts_practice_2/CNN\n"
     ]
    },
    {
     "name": "stderr",
     "output_type": "stream",
     "text": [
      "WARNING:absl:Found untraced functions such as _jit_compiled_convolution_op, _jit_compiled_convolution_op while saving (showing 2 of 2). These functions will not be directly callable after loading.\n"
     ]
    },
    {
     "name": "stdout",
     "output_type": "stream",
     "text": [
      "INFO:tensorflow:Assets written to: saved_models/ts_practice_2/CNN/assets\n"
     ]
    },
    {
     "name": "stderr",
     "output_type": "stream",
     "text": [
      "INFO:tensorflow:Assets written to: saved_models/ts_practice_2/CNN/assets\n"
     ]
    },
    {
     "name": "stdout",
     "output_type": "stream",
     "text": [
      "10/10 [==============================] - 1s 95ms/step - loss: 0.0112 - mae: 0.1170 - val_loss: 0.0032 - val_mae: 0.0637\n",
      "Epoch 5/150\n",
      " 7/10 [====================>.........] - ETA: 0s - loss: 0.0102 - mae: 0.1132\n",
      "Epoch 5: val_loss did not improve from 0.00322\n",
      "10/10 [==============================] - 0s 22ms/step - loss: 0.0101 - mae: 0.1120 - val_loss: 0.0047 - val_mae: 0.0811\n",
      "Epoch 6/150\n",
      " 9/10 [==========================>...] - ETA: 0s - loss: 0.0093 - mae: 0.1076\n",
      "Epoch 6: val_loss did not improve from 0.00322\n",
      "10/10 [==============================] - 0s 21ms/step - loss: 0.0093 - mae: 0.1074 - val_loss: 0.0050 - val_mae: 0.0840\n",
      "Epoch 7/150\n",
      " 8/10 [=======================>......] - ETA: 0s - loss: 0.0084 - mae: 0.1019\n",
      "Epoch 7: val_loss improved from 0.00322 to 0.00266, saving model to saved_models/ts_practice_2/CNN\n"
     ]
    },
    {
     "name": "stderr",
     "output_type": "stream",
     "text": [
      "WARNING:absl:Found untraced functions such as _jit_compiled_convolution_op, _jit_compiled_convolution_op while saving (showing 2 of 2). These functions will not be directly callable after loading.\n"
     ]
    },
    {
     "name": "stdout",
     "output_type": "stream",
     "text": [
      "INFO:tensorflow:Assets written to: saved_models/ts_practice_2/CNN/assets\n"
     ]
    },
    {
     "name": "stderr",
     "output_type": "stream",
     "text": [
      "INFO:tensorflow:Assets written to: saved_models/ts_practice_2/CNN/assets\n"
     ]
    },
    {
     "name": "stdout",
     "output_type": "stream",
     "text": [
      "10/10 [==============================] - 1s 98ms/step - loss: 0.0082 - mae: 0.1014 - val_loss: 0.0027 - val_mae: 0.0592\n",
      "Epoch 8/150\n",
      " 8/10 [=======================>......] - ETA: 0s - loss: 0.0085 - mae: 0.1015\n",
      "Epoch 8: val_loss did not improve from 0.00266\n",
      "10/10 [==============================] - 0s 23ms/step - loss: 0.0082 - mae: 0.1002 - val_loss: 0.0029 - val_mae: 0.0587\n",
      "Epoch 9/150\n",
      " 9/10 [==========================>...] - ETA: 0s - loss: 0.0073 - mae: 0.0958\n",
      "Epoch 9: val_loss improved from 0.00266 to 0.00215, saving model to saved_models/ts_practice_2/CNN\n"
     ]
    },
    {
     "name": "stderr",
     "output_type": "stream",
     "text": [
      "WARNING:absl:Found untraced functions such as _jit_compiled_convolution_op, _jit_compiled_convolution_op while saving (showing 2 of 2). These functions will not be directly callable after loading.\n"
     ]
    },
    {
     "name": "stdout",
     "output_type": "stream",
     "text": [
      "INFO:tensorflow:Assets written to: saved_models/ts_practice_2/CNN/assets\n"
     ]
    },
    {
     "name": "stderr",
     "output_type": "stream",
     "text": [
      "INFO:tensorflow:Assets written to: saved_models/ts_practice_2/CNN/assets\n"
     ]
    },
    {
     "name": "stdout",
     "output_type": "stream",
     "text": [
      "10/10 [==============================] - 1s 96ms/step - loss: 0.0073 - mae: 0.0957 - val_loss: 0.0022 - val_mae: 0.0508\n",
      "Epoch 10/150\n",
      " 8/10 [=======================>......] - ETA: 0s - loss: 0.0063 - mae: 0.0872\n",
      "Epoch 10: val_loss did not improve from 0.00215\n",
      "10/10 [==============================] - 0s 22ms/step - loss: 0.0061 - mae: 0.0859 - val_loss: 0.0035 - val_mae: 0.0688\n",
      "Epoch 11/150\n",
      " 7/10 [====================>.........] - ETA: 0s - loss: 0.0064 - mae: 0.0883\n",
      "Epoch 11: val_loss did not improve from 0.00215\n",
      "10/10 [==============================] - 0s 24ms/step - loss: 0.0061 - mae: 0.0858 - val_loss: 0.0045 - val_mae: 0.0801\n",
      "Epoch 12/150\n",
      " 9/10 [==========================>...] - ETA: 0s - loss: 0.0054 - mae: 0.0808\n",
      "Epoch 12: val_loss did not improve from 0.00215\n",
      "10/10 [==============================] - 0s 22ms/step - loss: 0.0054 - mae: 0.0808 - val_loss: 0.0025 - val_mae: 0.0566\n",
      "Epoch 13/150\n",
      " 9/10 [==========================>...] - ETA: 0s - loss: 0.0056 - mae: 0.0825\n",
      "Epoch 13: val_loss did not improve from 0.00215\n",
      "10/10 [==============================] - 0s 21ms/step - loss: 0.0055 - mae: 0.0825 - val_loss: 0.0022 - val_mae: 0.0527\n",
      "Epoch 14/150\n",
      " 9/10 [==========================>...] - ETA: 0s - loss: 0.0050 - mae: 0.0777\n",
      "Epoch 14: val_loss did not improve from 0.00215\n",
      "Restoring model weights from the end of the best epoch: 9.\n",
      "10/10 [==============================] - 0s 23ms/step - loss: 0.0050 - mae: 0.0776 - val_loss: 0.0022 - val_mae: 0.0525\n",
      "Epoch 14: early stopping\n",
      "WARNING:tensorflow:Layer lstm will not use cuDNN kernels since it doesn't meet the criteria. It will use a generic GPU kernel as fallback when running on GPU.\n"
     ]
    },
    {
     "name": "stderr",
     "output_type": "stream",
     "text": [
      "WARNING:tensorflow:Layer lstm will not use cuDNN kernels since it doesn't meet the criteria. It will use a generic GPU kernel as fallback when running on GPU.\n"
     ]
    },
    {
     "name": "stdout",
     "output_type": "stream",
     "text": [
      "WARNING:tensorflow:Layer lstm_1 will not use cuDNN kernels since it doesn't meet the criteria. It will use a generic GPU kernel as fallback when running on GPU.\n"
     ]
    },
    {
     "name": "stderr",
     "output_type": "stream",
     "text": [
      "WARNING:tensorflow:Layer lstm_1 will not use cuDNN kernels since it doesn't meet the criteria. It will use a generic GPU kernel as fallback when running on GPU.\n",
      "WARNING:absl:`lr` is deprecated, please use `learning_rate` instead, or use the legacy optimizer, e.g.,tf.keras.optimizers.legacy.Adam.\n"
     ]
    },
    {
     "name": "stdout",
     "output_type": "stream",
     "text": [
      "Epoch 1/150\n",
      "     10/Unknown - 3s 79ms/step - loss: 0.1309 - mae: 0.4549\n",
      "Epoch 1: val_loss improved from inf to 0.05463, saving model to saved_models/ts_practice_2/lstm\n",
      "INFO:tensorflow:Assets written to: saved_models/ts_practice_2/lstm/assets\n"
     ]
    },
    {
     "name": "stderr",
     "output_type": "stream",
     "text": [
      "INFO:tensorflow:Assets written to: saved_models/ts_practice_2/lstm/assets\n"
     ]
    },
    {
     "name": "stdout",
     "output_type": "stream",
     "text": [
      "10/10 [==============================] - 5s 346ms/step - loss: 0.1309 - mae: 0.4549 - val_loss: 0.0546 - val_mae: 0.2985\n",
      "Epoch 2/150\n",
      "10/10 [==============================] - ETA: 0s - loss: 0.0441 - mae: 0.2399\n",
      "Epoch 2: val_loss improved from 0.05463 to 0.01567, saving model to saved_models/ts_practice_2/lstm\n",
      "INFO:tensorflow:Assets written to: saved_models/ts_practice_2/lstm/assets\n"
     ]
    },
    {
     "name": "stderr",
     "output_type": "stream",
     "text": [
      "INFO:tensorflow:Assets written to: saved_models/ts_practice_2/lstm/assets\n"
     ]
    },
    {
     "name": "stdout",
     "output_type": "stream",
     "text": [
      "10/10 [==============================] - 3s 332ms/step - loss: 0.0441 - mae: 0.2399 - val_loss: 0.0157 - val_mae: 0.1483\n",
      "Epoch 3/150\n",
      "10/10 [==============================] - ETA: 0s - loss: 0.0276 - mae: 0.1976\n",
      "Epoch 3: val_loss did not improve from 0.01567\n",
      "10/10 [==============================] - 1s 90ms/step - loss: 0.0276 - mae: 0.1976 - val_loss: 0.0285 - val_mae: 0.2135\n",
      "Epoch 4/150\n",
      "10/10 [==============================] - ETA: 0s - loss: 0.0230 - mae: 0.1785\n",
      "Epoch 4: val_loss improved from 0.01567 to 0.00935, saving model to saved_models/ts_practice_2/lstm\n",
      "INFO:tensorflow:Assets written to: saved_models/ts_practice_2/lstm/assets\n"
     ]
    },
    {
     "name": "stderr",
     "output_type": "stream",
     "text": [
      "INFO:tensorflow:Assets written to: saved_models/ts_practice_2/lstm/assets\n"
     ]
    },
    {
     "name": "stdout",
     "output_type": "stream",
     "text": [
      "10/10 [==============================] - 3s 302ms/step - loss: 0.0230 - mae: 0.1785 - val_loss: 0.0094 - val_mae: 0.1070\n",
      "Epoch 5/150\n",
      "10/10 [==============================] - ETA: 0s - loss: 0.0159 - mae: 0.1448\n",
      "Epoch 5: val_loss did not improve from 0.00935\n",
      "10/10 [==============================] - 1s 77ms/step - loss: 0.0159 - mae: 0.1448 - val_loss: 0.0102 - val_mae: 0.1238\n",
      "Epoch 6/150\n",
      "10/10 [==============================] - ETA: 0s - loss: 0.0134 - mae: 0.1327\n",
      "Epoch 6: val_loss improved from 0.00935 to 0.00499, saving model to saved_models/ts_practice_2/lstm\n",
      "INFO:tensorflow:Assets written to: saved_models/ts_practice_2/lstm/assets\n"
     ]
    },
    {
     "name": "stderr",
     "output_type": "stream",
     "text": [
      "INFO:tensorflow:Assets written to: saved_models/ts_practice_2/lstm/assets\n"
     ]
    },
    {
     "name": "stdout",
     "output_type": "stream",
     "text": [
      "10/10 [==============================] - 3s 333ms/step - loss: 0.0134 - mae: 0.1327 - val_loss: 0.0050 - val_mae: 0.0810\n",
      "Epoch 7/150\n",
      "10/10 [==============================] - ETA: 0s - loss: 0.0097 - mae: 0.1097\n",
      "Epoch 7: val_loss improved from 0.00499 to 0.00413, saving model to saved_models/ts_practice_2/lstm\n",
      "INFO:tensorflow:Assets written to: saved_models/ts_practice_2/lstm/assets\n"
     ]
    },
    {
     "name": "stderr",
     "output_type": "stream",
     "text": [
      "INFO:tensorflow:Assets written to: saved_models/ts_practice_2/lstm/assets\n"
     ]
    },
    {
     "name": "stdout",
     "output_type": "stream",
     "text": [
      "10/10 [==============================] - 3s 304ms/step - loss: 0.0097 - mae: 0.1097 - val_loss: 0.0041 - val_mae: 0.0719\n",
      "Epoch 8/150\n",
      "10/10 [==============================] - ETA: 0s - loss: 0.0085 - mae: 0.1018\n",
      "Epoch 8: val_loss did not improve from 0.00413\n",
      "10/10 [==============================] - 1s 88ms/step - loss: 0.0085 - mae: 0.1018 - val_loss: 0.0043 - val_mae: 0.0713\n",
      "Epoch 9/150\n",
      "10/10 [==============================] - ETA: 0s - loss: 0.0074 - mae: 0.0950\n",
      "Epoch 9: val_loss did not improve from 0.00413\n",
      "10/10 [==============================] - 1s 81ms/step - loss: 0.0074 - mae: 0.0950 - val_loss: 0.0069 - val_mae: 0.0944\n",
      "Epoch 10/150\n",
      "10/10 [==============================] - ETA: 0s - loss: 0.0078 - mae: 0.0973\n",
      "Epoch 10: val_loss improved from 0.00413 to 0.00287, saving model to saved_models/ts_practice_2/lstm\n",
      "INFO:tensorflow:Assets written to: saved_models/ts_practice_2/lstm/assets\n"
     ]
    },
    {
     "name": "stderr",
     "output_type": "stream",
     "text": [
      "INFO:tensorflow:Assets written to: saved_models/ts_practice_2/lstm/assets\n"
     ]
    },
    {
     "name": "stdout",
     "output_type": "stream",
     "text": [
      "10/10 [==============================] - 3s 333ms/step - loss: 0.0078 - mae: 0.0973 - val_loss: 0.0029 - val_mae: 0.0594\n",
      "Epoch 11/150\n",
      "10/10 [==============================] - ETA: 0s - loss: 0.0066 - mae: 0.0889\n",
      "Epoch 11: val_loss improved from 0.00287 to 0.00251, saving model to saved_models/ts_practice_2/lstm\n",
      "INFO:tensorflow:Assets written to: saved_models/ts_practice_2/lstm/assets\n"
     ]
    },
    {
     "name": "stderr",
     "output_type": "stream",
     "text": [
      "INFO:tensorflow:Assets written to: saved_models/ts_practice_2/lstm/assets\n"
     ]
    },
    {
     "name": "stdout",
     "output_type": "stream",
     "text": [
      "10/10 [==============================] - 3s 312ms/step - loss: 0.0066 - mae: 0.0889 - val_loss: 0.0025 - val_mae: 0.0562\n",
      "Epoch 12/150\n",
      "10/10 [==============================] - ETA: 0s - loss: 0.0072 - mae: 0.0936\n",
      "Epoch 12: val_loss did not improve from 0.00251\n",
      "10/10 [==============================] - 1s 84ms/step - loss: 0.0072 - mae: 0.0936 - val_loss: 0.0047 - val_mae: 0.0782\n",
      "Epoch 13/150\n",
      "10/10 [==============================] - ETA: 0s - loss: 0.0066 - mae: 0.0885\n",
      "Epoch 13: val_loss did not improve from 0.00251\n",
      "10/10 [==============================] - 1s 85ms/step - loss: 0.0066 - mae: 0.0885 - val_loss: 0.0054 - val_mae: 0.0841\n",
      "Epoch 14/150\n",
      "10/10 [==============================] - ETA: 0s - loss: 0.0069 - mae: 0.0922\n",
      "Epoch 14: val_loss did not improve from 0.00251\n",
      "10/10 [==============================] - 1s 81ms/step - loss: 0.0069 - mae: 0.0922 - val_loss: 0.0027 - val_mae: 0.0595\n",
      "Epoch 15/150\n",
      "10/10 [==============================] - ETA: 0s - loss: 0.0066 - mae: 0.0902\n",
      "Epoch 15: val_loss did not improve from 0.00251\n",
      "10/10 [==============================] - 1s 81ms/step - loss: 0.0066 - mae: 0.0902 - val_loss: 0.0031 - val_mae: 0.0617\n",
      "Epoch 16/150\n",
      "10/10 [==============================] - ETA: 0s - loss: 0.0055 - mae: 0.0813\n",
      "Epoch 16: val_loss did not improve from 0.00251\n",
      "Restoring model weights from the end of the best epoch: 11.\n",
      "10/10 [==============================] - 1s 86ms/step - loss: 0.0055 - mae: 0.0813 - val_loss: 0.0057 - val_mae: 0.0883\n",
      "Epoch 16: early stopping\n",
      "WARNING:tensorflow:Layer lstm will not use cuDNN kernels since it doesn't meet the criteria. It will use a generic GPU kernel as fallback when running on GPU.\n"
     ]
    },
    {
     "name": "stderr",
     "output_type": "stream",
     "text": [
      "WARNING:tensorflow:Layer lstm will not use cuDNN kernels since it doesn't meet the criteria. It will use a generic GPU kernel as fallback when running on GPU.\n"
     ]
    },
    {
     "name": "stdout",
     "output_type": "stream",
     "text": [
      "WARNING:tensorflow:Layer lstm_1 will not use cuDNN kernels since it doesn't meet the criteria. It will use a generic GPU kernel as fallback when running on GPU.\n"
     ]
    },
    {
     "name": "stderr",
     "output_type": "stream",
     "text": [
      "WARNING:tensorflow:Layer lstm_1 will not use cuDNN kernels since it doesn't meet the criteria. It will use a generic GPU kernel as fallback when running on GPU.\n",
      "WARNING:absl:`lr` is deprecated, please use `learning_rate` instead, or use the legacy optimizer, e.g.,tf.keras.optimizers.legacy.Adam.\n"
     ]
    },
    {
     "name": "stdout",
     "output_type": "stream",
     "text": [
      "Epoch 1/150\n",
      "     10/Unknown - 3s 20ms/step - loss: 0.1500 - mae: 0.4958\n",
      "Epoch 1: val_loss improved from inf to 0.14087, saving model to saved_models/ts_practice_2/lstm_cnn\n"
     ]
    },
    {
     "name": "stderr",
     "output_type": "stream",
     "text": [
      "WARNING:absl:Found untraced functions such as _jit_compiled_convolution_op, _jit_compiled_convolution_op while saving (showing 2 of 2). These functions will not be directly callable after loading.\n"
     ]
    },
    {
     "name": "stdout",
     "output_type": "stream",
     "text": [
      "INFO:tensorflow:Assets written to: saved_models/ts_practice_2/lstm_cnn/assets\n"
     ]
    },
    {
     "name": "stderr",
     "output_type": "stream",
     "text": [
      "INFO:tensorflow:Assets written to: saved_models/ts_practice_2/lstm_cnn/assets\n"
     ]
    },
    {
     "name": "stdout",
     "output_type": "stream",
     "text": [
      "10/10 [==============================] - 6s 349ms/step - loss: 0.1500 - mae: 0.4958 - val_loss: 0.1409 - val_mae: 0.5013\n",
      "Epoch 2/150\n",
      " 7/10 [====================>.........] - ETA: 0s - loss: 0.0656 - mae: 0.3073\n",
      "Epoch 2: val_loss improved from 0.14087 to 0.01858, saving model to saved_models/ts_practice_2/lstm_cnn\n"
     ]
    },
    {
     "name": "stderr",
     "output_type": "stream",
     "text": [
      "WARNING:absl:Found untraced functions such as _jit_compiled_convolution_op, _jit_compiled_convolution_op while saving (showing 2 of 2). These functions will not be directly callable after loading.\n"
     ]
    },
    {
     "name": "stdout",
     "output_type": "stream",
     "text": [
      "INFO:tensorflow:Assets written to: saved_models/ts_practice_2/lstm_cnn/assets\n"
     ]
    },
    {
     "name": "stderr",
     "output_type": "stream",
     "text": [
      "INFO:tensorflow:Assets written to: saved_models/ts_practice_2/lstm_cnn/assets\n"
     ]
    },
    {
     "name": "stdout",
     "output_type": "stream",
     "text": [
      "10/10 [==============================] - 3s 302ms/step - loss: 0.0568 - mae: 0.2826 - val_loss: 0.0186 - val_mae: 0.1566\n",
      "Epoch 3/150\n",
      " 7/10 [====================>.........] - ETA: 0s - loss: 0.0301 - mae: 0.1982\n",
      "Epoch 3: val_loss did not improve from 0.01858\n",
      "10/10 [==============================] - 0s 27ms/step - loss: 0.0286 - mae: 0.1932 - val_loss: 0.0239 - val_mae: 0.1964\n",
      "Epoch 4/150\n",
      "10/10 [==============================] - ETA: 0s - loss: 0.0233 - mae: 0.1879\n",
      "Epoch 4: val_loss did not improve from 0.01858\n",
      "10/10 [==============================] - 0s 35ms/step - loss: 0.0233 - mae: 0.1879 - val_loss: 0.0257 - val_mae: 0.2039\n",
      "Epoch 5/150\n",
      " 7/10 [====================>.........] - ETA: 0s - loss: 0.0199 - mae: 0.1711\n",
      "Epoch 5: val_loss improved from 0.01858 to 0.01119, saving model to saved_models/ts_practice_2/lstm_cnn\n"
     ]
    },
    {
     "name": "stderr",
     "output_type": "stream",
     "text": [
      "WARNING:absl:Found untraced functions such as _jit_compiled_convolution_op, _jit_compiled_convolution_op while saving (showing 2 of 2). These functions will not be directly callable after loading.\n"
     ]
    },
    {
     "name": "stdout",
     "output_type": "stream",
     "text": [
      "INFO:tensorflow:Assets written to: saved_models/ts_practice_2/lstm_cnn/assets\n"
     ]
    },
    {
     "name": "stderr",
     "output_type": "stream",
     "text": [
      "INFO:tensorflow:Assets written to: saved_models/ts_practice_2/lstm_cnn/assets\n"
     ]
    },
    {
     "name": "stdout",
     "output_type": "stream",
     "text": [
      "10/10 [==============================] - 3s 280ms/step - loss: 0.0193 - mae: 0.1673 - val_loss: 0.0112 - val_mae: 0.1293\n",
      "Epoch 6/150\n",
      "10/10 [==============================] - ETA: 0s - loss: 0.0137 - mae: 0.1365\n",
      "Epoch 6: val_loss did not improve from 0.01119\n",
      "10/10 [==============================] - 0s 27ms/step - loss: 0.0137 - mae: 0.1365 - val_loss: 0.0136 - val_mae: 0.1457\n",
      "Epoch 7/150\n",
      " 7/10 [====================>.........] - ETA: 0s - loss: 0.0096 - mae: 0.1142\n",
      "Epoch 7: val_loss improved from 0.01119 to 0.00571, saving model to saved_models/ts_practice_2/lstm_cnn\n"
     ]
    },
    {
     "name": "stderr",
     "output_type": "stream",
     "text": [
      "WARNING:absl:Found untraced functions such as _jit_compiled_convolution_op, _jit_compiled_convolution_op while saving (showing 2 of 2). These functions will not be directly callable after loading.\n"
     ]
    },
    {
     "name": "stdout",
     "output_type": "stream",
     "text": [
      "INFO:tensorflow:Assets written to: saved_models/ts_practice_2/lstm_cnn/assets\n"
     ]
    },
    {
     "name": "stderr",
     "output_type": "stream",
     "text": [
      "INFO:tensorflow:Assets written to: saved_models/ts_practice_2/lstm_cnn/assets\n"
     ]
    },
    {
     "name": "stdout",
     "output_type": "stream",
     "text": [
      "10/10 [==============================] - 3s 310ms/step - loss: 0.0092 - mae: 0.1115 - val_loss: 0.0057 - val_mae: 0.0866\n",
      "Epoch 8/150\n",
      " 9/10 [==========================>...] - ETA: 0s - loss: 0.0084 - mae: 0.1061\n",
      "Epoch 8: val_loss improved from 0.00571 to 0.00432, saving model to saved_models/ts_practice_2/lstm_cnn\n"
     ]
    },
    {
     "name": "stderr",
     "output_type": "stream",
     "text": [
      "WARNING:absl:Found untraced functions such as _jit_compiled_convolution_op, _jit_compiled_convolution_op while saving (showing 2 of 2). These functions will not be directly callable after loading.\n"
     ]
    },
    {
     "name": "stdout",
     "output_type": "stream",
     "text": [
      "INFO:tensorflow:Assets written to: saved_models/ts_practice_2/lstm_cnn/assets\n"
     ]
    },
    {
     "name": "stderr",
     "output_type": "stream",
     "text": [
      "INFO:tensorflow:Assets written to: saved_models/ts_practice_2/lstm_cnn/assets\n"
     ]
    },
    {
     "name": "stdout",
     "output_type": "stream",
     "text": [
      "10/10 [==============================] - 3s 286ms/step - loss: 0.0084 - mae: 0.1058 - val_loss: 0.0043 - val_mae: 0.0739\n",
      "Epoch 9/150\n",
      " 8/10 [=======================>......] - ETA: 0s - loss: 0.0069 - mae: 0.0944\n",
      "Epoch 9: val_loss did not improve from 0.00432\n",
      "10/10 [==============================] - 0s 33ms/step - loss: 0.0067 - mae: 0.0925 - val_loss: 0.0075 - val_mae: 0.1022\n",
      "Epoch 10/150\n",
      " 7/10 [====================>.........] - ETA: 0s - loss: 0.0073 - mae: 0.0963\n",
      "Epoch 10: val_loss improved from 0.00432 to 0.00355, saving model to saved_models/ts_practice_2/lstm_cnn\n"
     ]
    },
    {
     "name": "stderr",
     "output_type": "stream",
     "text": [
      "WARNING:absl:Found untraced functions such as _jit_compiled_convolution_op, _jit_compiled_convolution_op while saving (showing 2 of 2). These functions will not be directly callable after loading.\n"
     ]
    },
    {
     "name": "stdout",
     "output_type": "stream",
     "text": [
      "INFO:tensorflow:Assets written to: saved_models/ts_practice_2/lstm_cnn/assets\n"
     ]
    },
    {
     "name": "stderr",
     "output_type": "stream",
     "text": [
      "INFO:tensorflow:Assets written to: saved_models/ts_practice_2/lstm_cnn/assets\n"
     ]
    },
    {
     "name": "stdout",
     "output_type": "stream",
     "text": [
      "10/10 [==============================] - 3s 289ms/step - loss: 0.0067 - mae: 0.0916 - val_loss: 0.0036 - val_mae: 0.0676\n",
      "Epoch 11/150\n",
      "10/10 [==============================] - ETA: 0s - loss: 0.0061 - mae: 0.0872\n",
      "Epoch 11: val_loss improved from 0.00355 to 0.00296, saving model to saved_models/ts_practice_2/lstm_cnn\n"
     ]
    },
    {
     "name": "stderr",
     "output_type": "stream",
     "text": [
      "WARNING:absl:Found untraced functions such as _jit_compiled_convolution_op, _jit_compiled_convolution_op while saving (showing 2 of 2). These functions will not be directly callable after loading.\n"
     ]
    },
    {
     "name": "stdout",
     "output_type": "stream",
     "text": [
      "INFO:tensorflow:Assets written to: saved_models/ts_practice_2/lstm_cnn/assets\n"
     ]
    },
    {
     "name": "stderr",
     "output_type": "stream",
     "text": [
      "INFO:tensorflow:Assets written to: saved_models/ts_practice_2/lstm_cnn/assets\n"
     ]
    },
    {
     "name": "stdout",
     "output_type": "stream",
     "text": [
      "10/10 [==============================] - 3s 319ms/step - loss: 0.0061 - mae: 0.0872 - val_loss: 0.0030 - val_mae: 0.0612\n",
      "Epoch 12/150\n",
      "10/10 [==============================] - ETA: 0s - loss: 0.0056 - mae: 0.0814\n",
      "Epoch 12: val_loss did not improve from 0.00296\n",
      "10/10 [==============================] - 0s 27ms/step - loss: 0.0056 - mae: 0.0814 - val_loss: 0.0043 - val_mae: 0.0758\n",
      "Epoch 13/150\n",
      " 7/10 [====================>.........] - ETA: 0s - loss: 0.0055 - mae: 0.0818\n",
      "Epoch 13: val_loss did not improve from 0.00296\n",
      "10/10 [==============================] - 0s 25ms/step - loss: 0.0052 - mae: 0.0794 - val_loss: 0.0045 - val_mae: 0.0789\n",
      "Epoch 14/150\n",
      " 8/10 [=======================>......] - ETA: 0s - loss: 0.0051 - mae: 0.0791\n",
      "Epoch 14: val_loss improved from 0.00296 to 0.00255, saving model to saved_models/ts_practice_2/lstm_cnn\n"
     ]
    },
    {
     "name": "stderr",
     "output_type": "stream",
     "text": [
      "WARNING:absl:Found untraced functions such as _jit_compiled_convolution_op, _jit_compiled_convolution_op while saving (showing 2 of 2). These functions will not be directly callable after loading.\n"
     ]
    },
    {
     "name": "stdout",
     "output_type": "stream",
     "text": [
      "INFO:tensorflow:Assets written to: saved_models/ts_practice_2/lstm_cnn/assets\n"
     ]
    },
    {
     "name": "stderr",
     "output_type": "stream",
     "text": [
      "INFO:tensorflow:Assets written to: saved_models/ts_practice_2/lstm_cnn/assets\n"
     ]
    },
    {
     "name": "stdout",
     "output_type": "stream",
     "text": [
      "10/10 [==============================] - 2s 271ms/step - loss: 0.0049 - mae: 0.0779 - val_loss: 0.0025 - val_mae: 0.0574\n",
      "Epoch 15/150\n",
      "10/10 [==============================] - ETA: 0s - loss: 0.0048 - mae: 0.0769\n",
      "Epoch 15: val_loss did not improve from 0.00255\n",
      "10/10 [==============================] - 0s 27ms/step - loss: 0.0048 - mae: 0.0769 - val_loss: 0.0034 - val_mae: 0.0675\n",
      "Epoch 16/150\n",
      " 7/10 [====================>.........] - ETA: 0s - loss: 0.0052 - mae: 0.0799\n",
      "Epoch 16: val_loss did not improve from 0.00255\n",
      "10/10 [==============================] - 0s 25ms/step - loss: 0.0050 - mae: 0.0778 - val_loss: 0.0054 - val_mae: 0.0869\n",
      "Epoch 17/150\n",
      " 7/10 [====================>.........] - ETA: 0s - loss: 0.0052 - mae: 0.0804\n",
      "Epoch 17: val_loss did not improve from 0.00255\n",
      "10/10 [==============================] - 0s 25ms/step - loss: 0.0048 - mae: 0.0777 - val_loss: 0.0036 - val_mae: 0.0705\n",
      "Epoch 18/150\n",
      "10/10 [==============================] - ETA: 0s - loss: 0.0046 - mae: 0.0758\n",
      "Epoch 18: val_loss improved from 0.00255 to 0.00235, saving model to saved_models/ts_practice_2/lstm_cnn\n"
     ]
    },
    {
     "name": "stderr",
     "output_type": "stream",
     "text": [
      "WARNING:absl:Found untraced functions such as _jit_compiled_convolution_op, _jit_compiled_convolution_op while saving (showing 2 of 2). These functions will not be directly callable after loading.\n"
     ]
    },
    {
     "name": "stdout",
     "output_type": "stream",
     "text": [
      "INFO:tensorflow:Assets written to: saved_models/ts_practice_2/lstm_cnn/assets\n"
     ]
    },
    {
     "name": "stderr",
     "output_type": "stream",
     "text": [
      "INFO:tensorflow:Assets written to: saved_models/ts_practice_2/lstm_cnn/assets\n"
     ]
    },
    {
     "name": "stdout",
     "output_type": "stream",
     "text": [
      "10/10 [==============================] - 3s 301ms/step - loss: 0.0046 - mae: 0.0758 - val_loss: 0.0024 - val_mae: 0.0551\n",
      "Epoch 19/150\n",
      " 7/10 [====================>.........] - ETA: 0s - loss: 0.0051 - mae: 0.0788\n",
      "Epoch 19: val_loss did not improve from 0.00235\n",
      "10/10 [==============================] - 0s 26ms/step - loss: 0.0050 - mae: 0.0788 - val_loss: 0.0028 - val_mae: 0.0607\n",
      "Epoch 20/150\n",
      " 7/10 [====================>.........] - ETA: 0s - loss: 0.0050 - mae: 0.0794\n",
      "Epoch 20: val_loss did not improve from 0.00235\n",
      "10/10 [==============================] - 0s 26ms/step - loss: 0.0049 - mae: 0.0782 - val_loss: 0.0037 - val_mae: 0.0713\n",
      "Epoch 21/150\n",
      " 7/10 [====================>.........] - ETA: 0s - loss: 0.0050 - mae: 0.0791\n",
      "Epoch 21: val_loss did not improve from 0.00235\n",
      "10/10 [==============================] - 0s 25ms/step - loss: 0.0048 - mae: 0.0767 - val_loss: 0.0054 - val_mae: 0.0883\n",
      "Epoch 22/150\n",
      " 7/10 [====================>.........] - ETA: 0s - loss: 0.0051 - mae: 0.0790\n",
      "Epoch 22: val_loss did not improve from 0.00235\n",
      "10/10 [==============================] - 0s 26ms/step - loss: 0.0049 - mae: 0.0781 - val_loss: 0.0025 - val_mae: 0.0581\n",
      "Epoch 23/150\n",
      "10/10 [==============================] - ETA: 0s - loss: 0.0042 - mae: 0.0722\n",
      "Epoch 23: val_loss improved from 0.00235 to 0.00233, saving model to saved_models/ts_practice_2/lstm_cnn\n"
     ]
    },
    {
     "name": "stderr",
     "output_type": "stream",
     "text": [
      "WARNING:absl:Found untraced functions such as _jit_compiled_convolution_op, _jit_compiled_convolution_op while saving (showing 2 of 2). These functions will not be directly callable after loading.\n"
     ]
    },
    {
     "name": "stdout",
     "output_type": "stream",
     "text": [
      "INFO:tensorflow:Assets written to: saved_models/ts_practice_2/lstm_cnn/assets\n"
     ]
    },
    {
     "name": "stderr",
     "output_type": "stream",
     "text": [
      "INFO:tensorflow:Assets written to: saved_models/ts_practice_2/lstm_cnn/assets\n"
     ]
    },
    {
     "name": "stdout",
     "output_type": "stream",
     "text": [
      "10/10 [==============================] - 2s 272ms/step - loss: 0.0042 - mae: 0.0722 - val_loss: 0.0023 - val_mae: 0.0550\n",
      "Epoch 24/150\n",
      "10/10 [==============================] - ETA: 0s - loss: 0.0046 - mae: 0.0760\n",
      "Epoch 24: val_loss did not improve from 0.00233\n",
      "10/10 [==============================] - 0s 28ms/step - loss: 0.0046 - mae: 0.0760 - val_loss: 0.0037 - val_mae: 0.0715\n",
      "Epoch 25/150\n",
      " 7/10 [====================>.........] - ETA: 0s - loss: 0.0043 - mae: 0.0724\n",
      "Epoch 25: val_loss did not improve from 0.00233\n",
      "10/10 [==============================] - 0s 27ms/step - loss: 0.0040 - mae: 0.0704 - val_loss: 0.0037 - val_mae: 0.0714\n",
      "Epoch 26/150\n",
      " 7/10 [====================>.........] - ETA: 0s - loss: 0.0041 - mae: 0.0718\n",
      "Epoch 26: val_loss improved from 0.00233 to 0.00210, saving model to saved_models/ts_practice_2/lstm_cnn\n"
     ]
    },
    {
     "name": "stderr",
     "output_type": "stream",
     "text": [
      "WARNING:absl:Found untraced functions such as _jit_compiled_convolution_op, _jit_compiled_convolution_op while saving (showing 2 of 2). These functions will not be directly callable after loading.\n"
     ]
    },
    {
     "name": "stdout",
     "output_type": "stream",
     "text": [
      "INFO:tensorflow:Assets written to: saved_models/ts_practice_2/lstm_cnn/assets\n"
     ]
    },
    {
     "name": "stderr",
     "output_type": "stream",
     "text": [
      "INFO:tensorflow:Assets written to: saved_models/ts_practice_2/lstm_cnn/assets\n"
     ]
    },
    {
     "name": "stdout",
     "output_type": "stream",
     "text": [
      "10/10 [==============================] - 3s 299ms/step - loss: 0.0039 - mae: 0.0690 - val_loss: 0.0021 - val_mae: 0.0517\n",
      "Epoch 27/150\n",
      " 7/10 [====================>.........] - ETA: 0s - loss: 0.0043 - mae: 0.0722\n",
      "Epoch 27: val_loss did not improve from 0.00210\n",
      "10/10 [==============================] - 0s 26ms/step - loss: 0.0042 - mae: 0.0717 - val_loss: 0.0022 - val_mae: 0.0536\n",
      "Epoch 28/150\n",
      " 7/10 [====================>.........] - ETA: 0s - loss: 0.0043 - mae: 0.0719\n",
      "Epoch 28: val_loss did not improve from 0.00210\n",
      "10/10 [==============================] - 0s 26ms/step - loss: 0.0040 - mae: 0.0700 - val_loss: 0.0036 - val_mae: 0.0695\n",
      "Epoch 29/150\n",
      " 7/10 [====================>.........] - ETA: 0s - loss: 0.0043 - mae: 0.0731\n",
      "Epoch 29: val_loss did not improve from 0.00210\n",
      "10/10 [==============================] - 0s 26ms/step - loss: 0.0042 - mae: 0.0720 - val_loss: 0.0044 - val_mae: 0.0778\n",
      "Epoch 30/150\n",
      " 7/10 [====================>.........] - ETA: 0s - loss: 0.0044 - mae: 0.0745\n",
      "Epoch 30: val_loss did not improve from 0.00210\n",
      "10/10 [==============================] - 0s 24ms/step - loss: 0.0041 - mae: 0.0711 - val_loss: 0.0023 - val_mae: 0.0547\n",
      "Epoch 31/150\n",
      " 8/10 [=======================>......] - ETA: 0s - loss: 0.0044 - mae: 0.0731\n",
      "Epoch 31: val_loss did not improve from 0.00210\n",
      "Restoring model weights from the end of the best epoch: 26.\n",
      "10/10 [==============================] - 0s 27ms/step - loss: 0.0042 - mae: 0.0716 - val_loss: 0.0023 - val_mae: 0.0544\n",
      "Epoch 31: early stopping\n",
      "WARNING:tensorflow:Layer lstm will not use cuDNN kernels since it doesn't meet the criteria. It will use a generic GPU kernel as fallback when running on GPU.\n"
     ]
    },
    {
     "name": "stderr",
     "output_type": "stream",
     "text": [
      "WARNING:tensorflow:Layer lstm will not use cuDNN kernels since it doesn't meet the criteria. It will use a generic GPU kernel as fallback when running on GPU.\n"
     ]
    },
    {
     "name": "stdout",
     "output_type": "stream",
     "text": [
      "WARNING:tensorflow:Layer lstm_1 will not use cuDNN kernels since it doesn't meet the criteria. It will use a generic GPU kernel as fallback when running on GPU.\n"
     ]
    },
    {
     "name": "stderr",
     "output_type": "stream",
     "text": [
      "WARNING:tensorflow:Layer lstm_1 will not use cuDNN kernels since it doesn't meet the criteria. It will use a generic GPU kernel as fallback when running on GPU.\n",
      "WARNING:absl:`lr` is deprecated, please use `learning_rate` instead, or use the legacy optimizer, e.g.,tf.keras.optimizers.legacy.Adam.\n"
     ]
    },
    {
     "name": "stdout",
     "output_type": "stream",
     "text": [
      "Epoch 1/150\n",
      "      9/Unknown - 3s 20ms/step - loss: 0.1010 - mae: 0.3521\n",
      "Epoch 1: val_loss improved from inf to 0.03883, saving model to saved_models/ts_practice_2/lstm_skip\n"
     ]
    },
    {
     "name": "stderr",
     "output_type": "stream",
     "text": [
      "WARNING:absl:Found untraced functions such as _jit_compiled_convolution_op, _jit_compiled_convolution_op while saving (showing 2 of 2). These functions will not be directly callable after loading.\n"
     ]
    },
    {
     "name": "stdout",
     "output_type": "stream",
     "text": [
      "INFO:tensorflow:Assets written to: saved_models/ts_practice_2/lstm_skip/assets\n"
     ]
    },
    {
     "name": "stderr",
     "output_type": "stream",
     "text": [
      "INFO:tensorflow:Assets written to: saved_models/ts_practice_2/lstm_skip/assets\n"
     ]
    },
    {
     "name": "stdout",
     "output_type": "stream",
     "text": [
      "10/10 [==============================] - 6s 339ms/step - loss: 0.1007 - mae: 0.3513 - val_loss: 0.0388 - val_mae: 0.2358\n",
      "Epoch 2/150\n",
      "10/10 [==============================] - ETA: 0s - loss: 0.0748 - mae: 0.3104\n",
      "Epoch 2: val_loss improved from 0.03883 to 0.01646, saving model to saved_models/ts_practice_2/lstm_skip\n"
     ]
    },
    {
     "name": "stderr",
     "output_type": "stream",
     "text": [
      "WARNING:absl:Found untraced functions such as _jit_compiled_convolution_op, _jit_compiled_convolution_op while saving (showing 2 of 2). These functions will not be directly callable after loading.\n"
     ]
    },
    {
     "name": "stdout",
     "output_type": "stream",
     "text": [
      "INFO:tensorflow:Assets written to: saved_models/ts_practice_2/lstm_skip/assets\n"
     ]
    },
    {
     "name": "stderr",
     "output_type": "stream",
     "text": [
      "INFO:tensorflow:Assets written to: saved_models/ts_practice_2/lstm_skip/assets\n"
     ]
    },
    {
     "name": "stdout",
     "output_type": "stream",
     "text": [
      "10/10 [==============================] - 3s 277ms/step - loss: 0.0748 - mae: 0.3104 - val_loss: 0.0165 - val_mae: 0.1608\n",
      "Epoch 3/150\n",
      "10/10 [==============================] - ETA: 0s - loss: 0.0489 - mae: 0.2460\n",
      "Epoch 3: val_loss improved from 0.01646 to 0.01196, saving model to saved_models/ts_practice_2/lstm_skip\n"
     ]
    },
    {
     "name": "stderr",
     "output_type": "stream",
     "text": [
      "WARNING:absl:Found untraced functions such as _jit_compiled_convolution_op, _jit_compiled_convolution_op while saving (showing 2 of 2). These functions will not be directly callable after loading.\n"
     ]
    },
    {
     "name": "stdout",
     "output_type": "stream",
     "text": [
      "INFO:tensorflow:Assets written to: saved_models/ts_practice_2/lstm_skip/assets\n"
     ]
    },
    {
     "name": "stderr",
     "output_type": "stream",
     "text": [
      "INFO:tensorflow:Assets written to: saved_models/ts_practice_2/lstm_skip/assets\n"
     ]
    },
    {
     "name": "stdout",
     "output_type": "stream",
     "text": [
      "10/10 [==============================] - 3s 314ms/step - loss: 0.0489 - mae: 0.2460 - val_loss: 0.0120 - val_mae: 0.1361\n",
      "Epoch 4/150\n",
      "10/10 [==============================] - ETA: 0s - loss: 0.0368 - mae: 0.2172\n",
      "Epoch 4: val_loss improved from 0.01196 to 0.00545, saving model to saved_models/ts_practice_2/lstm_skip\n"
     ]
    },
    {
     "name": "stderr",
     "output_type": "stream",
     "text": [
      "WARNING:absl:Found untraced functions such as _jit_compiled_convolution_op, _jit_compiled_convolution_op while saving (showing 2 of 2). These functions will not be directly callable after loading.\n"
     ]
    },
    {
     "name": "stdout",
     "output_type": "stream",
     "text": [
      "INFO:tensorflow:Assets written to: saved_models/ts_practice_2/lstm_skip/assets\n"
     ]
    },
    {
     "name": "stderr",
     "output_type": "stream",
     "text": [
      "INFO:tensorflow:Assets written to: saved_models/ts_practice_2/lstm_skip/assets\n"
     ]
    },
    {
     "name": "stdout",
     "output_type": "stream",
     "text": [
      "10/10 [==============================] - 3s 279ms/step - loss: 0.0368 - mae: 0.2172 - val_loss: 0.0055 - val_mae: 0.0834\n",
      "Epoch 5/150\n",
      "10/10 [==============================] - ETA: 0s - loss: 0.0341 - mae: 0.2053\n",
      "Epoch 5: val_loss did not improve from 0.00545\n",
      "10/10 [==============================] - 0s 27ms/step - loss: 0.0341 - mae: 0.2053 - val_loss: 0.0077 - val_mae: 0.1032\n",
      "Epoch 6/150\n",
      " 7/10 [====================>.........] - ETA: 0s - loss: 0.0283 - mae: 0.1881\n",
      "Epoch 6: val_loss did not improve from 0.00545\n",
      "10/10 [==============================] - 0s 26ms/step - loss: 0.0285 - mae: 0.1885 - val_loss: 0.0090 - val_mae: 0.1135\n",
      "Epoch 7/150\n",
      " 7/10 [====================>.........] - ETA: 0s - loss: 0.0245 - mae: 0.1765\n",
      "Epoch 7: val_loss did not improve from 0.00545\n",
      "10/10 [==============================] - 0s 25ms/step - loss: 0.0255 - mae: 0.1800 - val_loss: 0.0091 - val_mae: 0.1140\n",
      "Epoch 8/150\n",
      "10/10 [==============================] - ETA: 0s - loss: 0.0226 - mae: 0.1696\n",
      "Epoch 8: val_loss did not improve from 0.00545\n",
      "10/10 [==============================] - 0s 26ms/step - loss: 0.0226 - mae: 0.1696 - val_loss: 0.0126 - val_mae: 0.1392\n",
      "Epoch 9/150\n",
      " 7/10 [====================>.........] - ETA: 0s - loss: 0.0188 - mae: 0.1548\n",
      "Epoch 9: val_loss did not improve from 0.00545\n",
      "Restoring model weights from the end of the best epoch: 4.\n",
      "10/10 [==============================] - 0s 27ms/step - loss: 0.0185 - mae: 0.1537 - val_loss: 0.0110 - val_mae: 0.1278\n",
      "Epoch 9: early stopping\n"
     ]
    },
    {
     "data": {
      "text/plain": [
       "<PrefetchDataset element_spec=(TensorSpec(shape=(None, None, 7), dtype=tf.float64, name=None), TensorSpec(shape=(None, None, 1), dtype=tf.float64, name=None))>"
      ]
     },
     "execution_count": 37,
     "metadata": {},
     "output_type": "execute_result"
    }
   ],
   "source": [
    "model_configs=dict()\n",
    "run_model(\"dnn\", dnn_model, model_configs, epochs=150)\n",
    "run_model(\"cnn\", cnn_model, model_configs, epochs=150)\n",
    "run_model(\"lstm\", lstm_model, model_configs, epochs=150)\n",
    "run_model(\"lstm_cnn\", lstm_cnn_model, model_configs, epochs=150)\n",
    "run_model(\"lstm_skip\", lstm_cnn_skip_model, model_configs, epochs=150)"
   ]
  },
  {
   "cell_type": "code",
   "execution_count": 27,
   "metadata": {
    "colab": {
     "base_uri": "https://localhost:8080/",
     "height": 288
    },
    "id": "U3oIgNcngqnm",
    "outputId": "28e9b0a1-f29d-49e8-a42c-d77b072adb7b"
   },
   "outputs": [
    {
     "name": "stdout",
     "output_type": "stream",
     "text": [
      "Loss Curves\n"
     ]
    },
    {
     "data": {
      "image/png": "[encoded data removed]",
      "text/plain": [
       "<Figure size 2500x500 with 5 Axes>"
      ]
     },
     "metadata": {},
     "output_type": "display_data"
    }
   ],
   "source": [
    "legend = list()\n",
    "\n",
    "fig, axs = plt.subplots(1, 5, figsize=(25,5))\n",
    "\n",
    "def plot_graphs(metric, val, ax, upper):\n",
    "    ax.plot(val['history'].history[metric])\n",
    "    ax.plot(val['history'].history[f'val_{metric}'])\n",
    "    ax.set_title(key)\n",
    "    ax.legend([metric, f\"val_{metric}\"])\n",
    "    ax.set_xlabel('epochs')\n",
    "    ax.set_ylabel(metric)\n",
    "    ax.set_ylim([0, upper])\n",
    "    \n",
    "for (key, val), ax in zip(model_configs.items(), axs.flatten()):\n",
    "    plot_graphs('loss', val, ax, 0.2)\n",
    "print(\"Loss Curves\")"
   ]
  },
  {
   "cell_type": "code",
   "execution_count": 28,
   "metadata": {
    "colab": {
     "base_uri": "https://localhost:8080/",
     "height": 291
    },
    "id": "AnDsXWeQl4rX",
    "outputId": "cea768fd-5ad7-453d-a541-dee379729920"
   },
   "outputs": [
    {
     "name": "stdout",
     "output_type": "stream",
     "text": [
      "MAE Curves\n"
     ]
    },
    {
     "data": {
      "image/png": "[encoded data removed]",
      "text/plain": [
       "<Figure size 2500x500 with 5 Axes>"
      ]
     },
     "metadata": {},
     "output_type": "display_data"
    }
   ],
   "source": [
    "print(\"MAE Curves\")\n",
    "fig, axs = plt.subplots(1, 5, figsize=(25,5))\n",
    "for (key, val), ax in zip(model_configs.items(), axs.flatten()):\n",
    "    plot_graphs('mae', val, ax, 0.6)"
   ]
  },
  {
   "cell_type": "code",
   "execution_count": null,
   "metadata": {
    "id": "QsdKEu7_mDYt"
   },
   "outputs": [],
   "source": []
  }
 ],
 "metadata": {
  "accelerator": "GPU",
  "colab": {
   "authorship_tag": "ABX9TyPQf13tk+vprdFEA/7wNCPQ",
   "include_colab_link": true,
   "provenance": []
  },
  "gpuClass": "standard",
  "kernelspec": {
   "display_name": "Python 3 (ipykernel)",
   "language": "python",
   "name": "python3"
  },
  "language_info": {
   "codemirror_mode": {
    "name": "ipython",
    "version": 3
   },
   "file_extension": ".py",
   "mimetype": "text/x-python",
   "name": "python",
   "nbconvert_exporter": "python",
   "pygments_lexer": "ipython3",
   "version": "3.9.13"
  }
 },
 "nbformat": 4,
 "nbformat_minor": 1
}
