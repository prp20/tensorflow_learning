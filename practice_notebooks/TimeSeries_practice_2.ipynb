{
 "cells": [
  {
   "cell_type": "code",
   "execution_count": 1,
   "id": "5f43a9c9",
   "metadata": {},
   "outputs": [
    {
     "name": "stderr",
     "output_type": "stream",
     "text": [
      "2023-03-02 21:33:26.613018: I tensorflow/core/platform/cpu_feature_guard.cc:193] This TensorFlow binary is optimized with oneAPI Deep Neural Network Library (oneDNN) to use the following CPU instructions in performance-critical operations:  AVX2 FMA\n",
      "To enable them in other operations, rebuild TensorFlow with the appropriate compiler flags.\n",
      "2023-03-02 21:33:29.263126: W tensorflow/compiler/xla/stream_executor/platform/default/dso_loader.cc:64] Could not load dynamic library 'libnvinfer.so.7'; dlerror: libnvinfer.so.7: cannot open shared object file: No such file or directory; LD_LIBRARY_PATH: :/home/prp/anaconda3/lib/\n",
      "2023-03-02 21:33:29.263215: W tensorflow/compiler/xla/stream_executor/platform/default/dso_loader.cc:64] Could not load dynamic library 'libnvinfer_plugin.so.7'; dlerror: libnvinfer_plugin.so.7: cannot open shared object file: No such file or directory; LD_LIBRARY_PATH: :/home/prp/anaconda3/lib/\n",
      "2023-03-02 21:33:29.263222: W tensorflow/compiler/tf2tensorrt/utils/py_utils.cc:38] TF-TRT Warning: Cannot dlopen some TensorRT libraries. If you would like to use Nvidia GPU with TensorRT, please make sure the missing libraries mentioned above are installed properly.\n"
     ]
    }
   ],
   "source": [
    "import pandas as pd\n",
    "import numpy as np\n",
    "import matplotlib.pyplot as plt\n",
    "import tensorflow as tf\n",
    "from sklearn.preprocessing import MinMaxScaler\n",
    "\n",
    "tf.random.set_seed(42)"
   ]
  },
  {
   "cell_type": "code",
   "execution_count": 2,
   "id": "bce76df9",
   "metadata": {},
   "outputs": [
    {
     "name": "stderr",
     "output_type": "stream",
     "text": [
      "2023-03-02 21:33:33.051394: I tensorflow/compiler/xla/stream_executor/cuda/cuda_gpu_executor.cc:967] could not open file to read NUMA node: /sys/bus/pci/devices/0000:01:00.0/numa_node\n",
      "Your kernel may have been built without NUMA support.\n",
      "2023-03-02 21:33:33.200270: I tensorflow/compiler/xla/stream_executor/cuda/cuda_gpu_executor.cc:967] could not open file to read NUMA node: /sys/bus/pci/devices/0000:01:00.0/numa_node\n",
      "Your kernel may have been built without NUMA support.\n",
      "2023-03-02 21:33:33.200539: I tensorflow/compiler/xla/stream_executor/cuda/cuda_gpu_executor.cc:967] could not open file to read NUMA node: /sys/bus/pci/devices/0000:01:00.0/numa_node\n",
      "Your kernel may have been built without NUMA support.\n"
     ]
    },
    {
     "data": {
      "text/plain": [
       "True"
      ]
     },
     "execution_count": 2,
     "metadata": {},
     "output_type": "execute_result"
    }
   ],
   "source": [
    "True if(len(tf.config.list_physical_devices('GPU')) > 0) else False"
   ]
  },
  {
   "cell_type": "code",
   "execution_count": 3,
   "id": "5830c28e",
   "metadata": {},
   "outputs": [],
   "source": [
    "def load_data(path, col=None, verbose=False):\n",
    "    df = pd.read_csv(path)\n",
    "    if col is not None:\n",
    "        df = df[col]\n",
    "    if verbose:\n",
    "        print(df.head())\n",
    "    return df"
   ]
  },
  {
   "cell_type": "code",
   "execution_count": 4,
   "id": "f54a9b14",
   "metadata": {},
   "outputs": [
    {
     "name": "stdout",
     "output_type": "stream",
     "text": [
      "Multivariate Sample\n"
     ]
    }
   ],
   "source": [
    "print(\"Multivariate Sample\")\n",
    "data_path = \"/mnt/d/Learning/tensorflow_learning/datasets/DailyDelhiClimateTrain.csv\"\n",
    "df = load_data(data_path)"
   ]
  },
  {
   "cell_type": "code",
   "execution_count": 5,
   "id": "e756fe08",
   "metadata": {},
   "outputs": [
    {
     "data": {
      "text/html": [
       "<div>\n",
       "<style scoped>\n",
       "    .dataframe tbody tr th:only-of-type {\n",
       "        vertical-align: middle;\n",
       "    }\n",
       "\n",
       "    .dataframe tbody tr th {\n",
       "        vertical-align: top;\n",
       "    }\n",
       "\n",
       "    .dataframe thead th {\n",
       "        text-align: right;\n",
       "    }\n",
       "</style>\n",
       "<table border=\"1\" class=\"dataframe\">\n",
       "  <thead>\n",
       "    <tr style=\"text-align: right;\">\n",
       "      <th></th>\n",
       "      <th>date</th>\n",
       "      <th>meantemp</th>\n",
       "      <th>humidity</th>\n",
       "      <th>wind_speed</th>\n",
       "      <th>meanpressure</th>\n",
       "    </tr>\n",
       "  </thead>\n",
       "  <tbody>\n",
       "    <tr>\n",
       "      <th>0</th>\n",
       "      <td>2013-01-01</td>\n",
       "      <td>10.000000</td>\n",
       "      <td>84.500000</td>\n",
       "      <td>0.000000</td>\n",
       "      <td>1015.666667</td>\n",
       "    </tr>\n",
       "    <tr>\n",
       "      <th>1</th>\n",
       "      <td>2013-01-02</td>\n",
       "      <td>7.400000</td>\n",
       "      <td>92.000000</td>\n",
       "      <td>2.980000</td>\n",
       "      <td>1017.800000</td>\n",
       "    </tr>\n",
       "    <tr>\n",
       "      <th>2</th>\n",
       "      <td>2013-01-03</td>\n",
       "      <td>7.166667</td>\n",
       "      <td>87.000000</td>\n",
       "      <td>4.633333</td>\n",
       "      <td>1018.666667</td>\n",
       "    </tr>\n",
       "    <tr>\n",
       "      <th>3</th>\n",
       "      <td>2013-01-04</td>\n",
       "      <td>8.666667</td>\n",
       "      <td>71.333333</td>\n",
       "      <td>1.233333</td>\n",
       "      <td>1017.166667</td>\n",
       "    </tr>\n",
       "    <tr>\n",
       "      <th>4</th>\n",
       "      <td>2013-01-05</td>\n",
       "      <td>6.000000</td>\n",
       "      <td>86.833333</td>\n",
       "      <td>3.700000</td>\n",
       "      <td>1016.500000</td>\n",
       "    </tr>\n",
       "    <tr>\n",
       "      <th>...</th>\n",
       "      <td>...</td>\n",
       "      <td>...</td>\n",
       "      <td>...</td>\n",
       "      <td>...</td>\n",
       "      <td>...</td>\n",
       "    </tr>\n",
       "    <tr>\n",
       "      <th>1457</th>\n",
       "      <td>2016-12-28</td>\n",
       "      <td>17.217391</td>\n",
       "      <td>68.043478</td>\n",
       "      <td>3.547826</td>\n",
       "      <td>1015.565217</td>\n",
       "    </tr>\n",
       "    <tr>\n",
       "      <th>1458</th>\n",
       "      <td>2016-12-29</td>\n",
       "      <td>15.238095</td>\n",
       "      <td>87.857143</td>\n",
       "      <td>6.000000</td>\n",
       "      <td>1016.904762</td>\n",
       "    </tr>\n",
       "    <tr>\n",
       "      <th>1459</th>\n",
       "      <td>2016-12-30</td>\n",
       "      <td>14.095238</td>\n",
       "      <td>89.666667</td>\n",
       "      <td>6.266667</td>\n",
       "      <td>1017.904762</td>\n",
       "    </tr>\n",
       "    <tr>\n",
       "      <th>1460</th>\n",
       "      <td>2016-12-31</td>\n",
       "      <td>15.052632</td>\n",
       "      <td>87.000000</td>\n",
       "      <td>7.325000</td>\n",
       "      <td>1016.100000</td>\n",
       "    </tr>\n",
       "    <tr>\n",
       "      <th>1461</th>\n",
       "      <td>2017-01-01</td>\n",
       "      <td>10.000000</td>\n",
       "      <td>100.000000</td>\n",
       "      <td>0.000000</td>\n",
       "      <td>1016.000000</td>\n",
       "    </tr>\n",
       "  </tbody>\n",
       "</table>\n",
       "<p>1462 rows × 5 columns</p>\n",
       "</div>"
      ],
      "text/plain": [
       "            date   meantemp    humidity  wind_speed  meanpressure\n",
       "0     2013-01-01  10.000000   84.500000    0.000000   1015.666667\n",
       "1     2013-01-02   7.400000   92.000000    2.980000   1017.800000\n",
       "2     2013-01-03   7.166667   87.000000    4.633333   1018.666667\n",
       "3     2013-01-04   8.666667   71.333333    1.233333   1017.166667\n",
       "4     2013-01-05   6.000000   86.833333    3.700000   1016.500000\n",
       "...          ...        ...         ...         ...           ...\n",
       "1457  2016-12-28  17.217391   68.043478    3.547826   1015.565217\n",
       "1458  2016-12-29  15.238095   87.857143    6.000000   1016.904762\n",
       "1459  2016-12-30  14.095238   89.666667    6.266667   1017.904762\n",
       "1460  2016-12-31  15.052632   87.000000    7.325000   1016.100000\n",
       "1461  2017-01-01  10.000000  100.000000    0.000000   1016.000000\n",
       "\n",
       "[1462 rows x 5 columns]"
      ]
     },
     "execution_count": 5,
     "metadata": {},
     "output_type": "execute_result"
    }
   ],
   "source": [
    "df"
   ]
  },
  {
   "cell_type": "code",
   "execution_count": 6,
   "id": "16e36ebd",
   "metadata": {},
   "outputs": [],
   "source": [
    "def clean_data(series):\n",
    "    \"\"\"Fills missing values. \n",
    "    \n",
    "        Interpolate missing values with a linear approximation.\n",
    "    \"\"\"\n",
    "    series_filled = series.interpolate(method='linear')\n",
    "        \n",
    "    return series_filled\n",
    "        \n",
    "    \n",
    "def min_max_scale(dataframe):\n",
    "    \"\"\" Applies MinMax Scaling\n",
    "    \n",
    "        Wrapper for sklearn's MinMaxScaler class.\n",
    "    \"\"\"\n",
    "    mm = MinMaxScaler()\n",
    "    return mm.fit_transform(dataframe)"
   ]
  },
  {
   "cell_type": "code",
   "execution_count": 41,
   "id": "34105561",
   "metadata": {},
   "outputs": [],
   "source": [
    "def make_time_features(series):\n",
    "    \n",
    "    #convert series to datetimes\n",
    "    times = series.apply(lambda x: x.split('+')[0])\n",
    "    datetimes = pd.DatetimeIndex(times)\n",
    "    \n",
    "    day = datetimes.day.values\n",
    "    months = datetimes.month.values\n",
    "    years = datetimes.year.values\n",
    "    \n",
    "    dayofw = pd.Series(day, name='dayofw')\n",
    "    month = pd.Series(months, name='months')\n",
    "    year = pd.Series(years, name = \"years\")\n",
    "    \n",
    "    return dayofw, month, year"
   ]
  },
  {
   "cell_type": "code",
   "execution_count": 42,
   "id": "db946a14",
   "metadata": {},
   "outputs": [],
   "source": [
    "def split_data(series, train_fraq):\n",
    "    \"\"\"Splits input series into train, val and test.\n",
    "    \n",
    "        Default to 1 year of test data.\n",
    "    \"\"\"\n",
    "    #slice the last year of data for testing 1 year has 8760 hours\n",
    "    train_val_data = series\n",
    "\n",
    "    #make train and validation from the remaining\n",
    "    train_size = int(len(train_val_data) * train_fraq)\n",
    "    \n",
    "    train_data = train_val_data[:train_size]\n",
    "    val_data = train_val_data[train_size:]\n",
    "    \n",
    "    return train_data, val_data"
   ]
  },
  {
   "cell_type": "code",
   "execution_count": 43,
   "id": "edb4e5c6",
   "metadata": {},
   "outputs": [],
   "source": [
    "def window_dataset(data, n_steps, n_horizon, batch_size, shuffle_buffer, multi_var=False, expand_dims=False):\n",
    "    \"\"\" Create a windowed tensorflow dataset\n",
    "    \n",
    "    \"\"\"\n",
    "\n",
    "    #create a window with n steps back plus the size of the prediction length\n",
    "    window = n_steps + n_horizon\n",
    "    \n",
    "    #expand dimensions to 3D to fit with LSTM inputs\n",
    "    #creat the inital tensor dataset\n",
    "    if expand_dims:\n",
    "        ds = tf.expand_dims(data, axis=-1)\n",
    "        ds = tf.data.Dataset.from_tensor_slices(ds)\n",
    "    else:\n",
    "        ds = tf.data.Dataset.from_tensor_slices(data)\n",
    "    \n",
    "    #create the window function shifting the data by the prediction length\n",
    "    ds = ds.window(window, shift=n_horizon, drop_remainder=True)\n",
    "    \n",
    "    #flatten the dataset and batch into the window size\n",
    "    ds = ds.flat_map(lambda x : x.batch(window))\n",
    "    ds = ds.shuffle(shuffle_buffer)    \n",
    "    \n",
    "    #create the supervised learning problem x and y and batch\n",
    "    if multi_var:\n",
    "        ds = ds.map(lambda x : (x[:-n_horizon], x[-n_horizon:, :1]))\n",
    "    else:\n",
    "        ds = ds.map(lambda x : (x[:-n_horizon], x[-n_horizon:]))\n",
    "    \n",
    "    ds = ds.batch(batch_size).prefetch(1)\n",
    "    \n",
    "    return ds"
   ]
  },
  {
   "cell_type": "code",
   "execution_count": 76,
   "id": "ba2fe03b",
   "metadata": {},
   "outputs": [],
   "source": [
    "def build_dataset(train_fraq=0.8, n_steps=24, n_horizon=1, batch_size=256, shuffle_buffer=500, expand_dims=False, multi_var=False):\n",
    "    \"\"\"If multi variate then first column is always the column from which the target is contstructed.\n",
    "    \"\"\"\n",
    "    \n",
    "    tf.random.set_seed(23)\n",
    "    \n",
    "    if multi_var:\n",
    "        data = load_data(data_path, col=['date', 'meantemp', 'humidity', \"wind_speed\", \"meanpressure\"])\n",
    "        day, months, years = make_time_features(data.date)\n",
    "        data = pd.concat([data.drop(['date'], axis=1), day, months, years], axis=1)\n",
    "    else:\n",
    "        data = load_data(col=['total load actual'])\n",
    "        \n",
    "    data = clean_data(data)\n",
    "    \n",
    "    if multi_var:\n",
    "        mm = MinMaxScaler()\n",
    "        data = mm.fit_transform(data)\n",
    "    \n",
    "    train_data, val_data = split_data(data, train_fraq=train_fraq)\n",
    "    \n",
    "    train_ds = window_dataset(train_data, n_steps, n_horizon, batch_size, shuffle_buffer, multi_var=multi_var, expand_dims=expand_dims)\n",
    "    val_ds = window_dataset(val_data, n_steps, n_horizon, batch_size, shuffle_buffer, multi_var=multi_var, expand_dims=expand_dims)\n",
    "    print(f\"Prediction lookback (n_steps): {n_steps}\")\n",
    "    print(f\"Prediction horizon (n_horizon): {n_horizon}\")\n",
    "    print(f\"Batch Size: {batch_size}\")\n",
    "    print(\"Datasets:\")\n",
    "    print(train_ds.element_spec)\n",
    "    \n",
    "    return train_ds, val_ds"
   ]
  },
  {
   "cell_type": "code",
   "execution_count": 77,
   "id": "ccbd7b1e",
   "metadata": {},
   "outputs": [],
   "source": [
    "def get_params(multivar=False):\n",
    "    lr = 3e-4\n",
    "    n_steps=24\n",
    "    n_horizon=1\n",
    "    if multivar:\n",
    "        n_features=7\n",
    "    else:\n",
    "        n_features=1\n",
    "        \n",
    "    return n_steps, n_horizon, n_features, lr"
   ]
  },
  {
   "cell_type": "code",
   "execution_count": 85,
   "id": "ed3665fc",
   "metadata": {},
   "outputs": [],
   "source": [
    "model_configs = dict()\n",
    "\n",
    "def cfg_model_run(model, history, test_ds):\n",
    "    return {\"model\": model, \"history\" : history, \"test_ds\": test_ds}\n",
    "\n",
    "def get_callbacks(model_name):\n",
    "  callbacks = []\n",
    "  MC = tf.keras.callbacks.ModelCheckpoint(f'saved_models/{model_name}', monitor='val_loss', save_best_only='True', verbose=1)\n",
    "  ES = tf.keras.callbacks.EarlyStopping(monitor='val_loss', patience=5, verbose=1, restore_best_weights='True')\n",
    "  return [MC, ES]\n",
    "\n",
    "def run_model(model_name, model_func, model_configs, epochs):\n",
    "    \n",
    "    n_steps, n_horizon, n_features, lr = get_params(multivar=True)\n",
    "    train_ds, val_ds= build_dataset(n_steps=n_steps, n_horizon=n_horizon, multi_var=True)\n",
    "\n",
    "    model = model_func(n_steps, n_horizon, n_features, lr=lr)\n",
    "\n",
    "    model_hist = model.fit(train_ds, validation_data=val_ds, epochs=epochs, callbacks = get_callbacks(model.name))\n",
    "    test_ds = val_ds\n",
    "    model_configs[model_name] = cfg_model_run(model, model_hist, test_ds)\n",
    "    return test_ds"
   ]
  },
  {
   "cell_type": "code",
   "execution_count": 86,
   "id": "c2c2ccf8",
   "metadata": {},
   "outputs": [
    {
     "name": "stderr",
     "output_type": "stream",
     "text": [
      "WARNING:absl:`lr` is deprecated, please use `learning_rate` instead, or use the legacy optimizer, e.g.,tf.keras.optimizers.legacy.Adam.\n"
     ]
    },
    {
     "name": "stdout",
     "output_type": "stream",
     "text": [
      "Model: \"dnn\"\n",
      "_________________________________________________________________\n",
      " Layer (type)                Output Shape              Param #   \n",
      "=================================================================\n",
      " flatten (Flatten)           (None, 168)               0         \n",
      "                                                                 \n",
      " dense (Dense)               (None, 128)               21632     \n",
      "                                                                 \n",
      " dropout (Dropout)           (None, 128)               0         \n",
      "                                                                 \n",
      " dense_1 (Dense)             (None, 128)               16512     \n",
      "                                                                 \n",
      " dropout_1 (Dropout)         (None, 128)               0         \n",
      "                                                                 \n",
      " dense_2 (Dense)             (None, 1)                 129       \n",
      "                                                                 \n",
      "=================================================================\n",
      "Total params: 38,273\n",
      "Trainable params: 38,273\n",
      "Non-trainable params: 0\n",
      "_________________________________________________________________\n"
     ]
    }
   ],
   "source": [
    "def dnn_model(n_steps, n_horizon, n_features, lr):\n",
    "    tf.keras.backend.clear_session()\n",
    "    \n",
    "    model = tf.keras.models.Sequential([\n",
    "        tf.keras.layers.Flatten(input_shape=(n_steps, n_features)),\n",
    "        tf.keras.layers.Dense(128, activation='relu'),\n",
    "        tf.keras.layers.Dropout(0.3),\n",
    "        tf.keras.layers.Dense(128, activation='relu'),\n",
    "        tf.keras.layers.Dropout(0.3),\n",
    "        tf.keras.layers.Dense(n_horizon)\n",
    "    ], name='dnn')\n",
    "    \n",
    "    loss=tf.keras.losses.Huber()\n",
    "    optimizer = tf.keras.optimizers.Adam(lr=lr)\n",
    "    \n",
    "    model.compile(loss=loss, optimizer='adam', metrics=['mae'])\n",
    "    \n",
    "    return model\n",
    "\n",
    "\n",
    "dnn = dnn_model(*get_params(multivar=True))\n",
    "dnn.summary()"
   ]
  },
  {
   "cell_type": "code",
   "execution_count": 87,
   "id": "1f98951d",
   "metadata": {},
   "outputs": [
    {
     "name": "stderr",
     "output_type": "stream",
     "text": [
      "WARNING:absl:`lr` is deprecated, please use `learning_rate` instead, or use the legacy optimizer, e.g.,tf.keras.optimizers.legacy.Adam.\n"
     ]
    },
    {
     "name": "stdout",
     "output_type": "stream",
     "text": [
      "Model: \"CNN\"\n",
      "_________________________________________________________________\n",
      " Layer (type)                Output Shape              Param #   \n",
      "=================================================================\n",
      " conv1d (Conv1D)             (None, 19, 64)            2752      \n",
      "                                                                 \n",
      " max_pooling1d (MaxPooling1D  (None, 9, 64)            0         \n",
      " )                                                               \n",
      "                                                                 \n",
      " conv1d_1 (Conv1D)           (None, 7, 64)             12352     \n",
      "                                                                 \n",
      " max_pooling1d_1 (MaxPooling  (None, 3, 64)            0         \n",
      " 1D)                                                             \n",
      "                                                                 \n",
      " flatten (Flatten)           (None, 192)               0         \n",
      "                                                                 \n",
      " dropout (Dropout)           (None, 192)               0         \n",
      "                                                                 \n",
      " dense (Dense)               (None, 128)               24704     \n",
      "                                                                 \n",
      " dropout_1 (Dropout)         (None, 128)               0         \n",
      "                                                                 \n",
      " dense_1 (Dense)             (None, 1)                 129       \n",
      "                                                                 \n",
      "=================================================================\n",
      "Total params: 39,937\n",
      "Trainable params: 39,937\n",
      "Non-trainable params: 0\n",
      "_________________________________________________________________\n"
     ]
    }
   ],
   "source": [
    "def cnn_model(n_steps, n_horizon, n_features, lr=3e-4):\n",
    "    \n",
    "    tf.keras.backend.clear_session()\n",
    "    \n",
    "    model = tf.keras.models.Sequential([\n",
    "        tf.keras.layers.Conv1D(64, kernel_size=6, activation='relu', input_shape=(n_steps,n_features)),\n",
    "        tf.keras.layers.MaxPooling1D(2),\n",
    "        tf.keras.layers.Conv1D(64, kernel_size=3, activation='relu'),\n",
    "        tf.keras.layers.MaxPooling1D(2),\n",
    "        tf.keras.layers.Flatten(),\n",
    "        tf.keras.layers.Dropout(0.3),\n",
    "        tf.keras.layers.Dense(128),\n",
    "        tf.keras.layers.Dropout(0.3),\n",
    "        tf.keras.layers.Dense(n_horizon)\n",
    "    ], name=\"CNN\")\n",
    "    \n",
    "    loss= tf.keras.losses.Huber()\n",
    "    optimizer = tf.keras.optimizers.Adam(lr=lr)\n",
    "    \n",
    "    model.compile(loss=loss, optimizer='adam', metrics=['mae'])\n",
    "    \n",
    "    return model\n",
    "\n",
    "cnn = cnn_model(*get_params(multivar=True))\n",
    "cnn.summary()"
   ]
  },
  {
   "cell_type": "code",
   "execution_count": 88,
   "id": "0a6a7440",
   "metadata": {},
   "outputs": [
    {
     "name": "stdout",
     "output_type": "stream",
     "text": [
      "WARNING:tensorflow:Layer lstm will not use cuDNN kernels since it doesn't meet the criteria. It will use a generic GPU kernel as fallback when running on GPU.\n"
     ]
    },
    {
     "name": "stderr",
     "output_type": "stream",
     "text": [
      "WARNING:tensorflow:Layer lstm will not use cuDNN kernels since it doesn't meet the criteria. It will use a generic GPU kernel as fallback when running on GPU.\n"
     ]
    },
    {
     "name": "stdout",
     "output_type": "stream",
     "text": [
      "WARNING:tensorflow:Layer lstm_1 will not use cuDNN kernels since it doesn't meet the criteria. It will use a generic GPU kernel as fallback when running on GPU.\n"
     ]
    },
    {
     "name": "stderr",
     "output_type": "stream",
     "text": [
      "WARNING:tensorflow:Layer lstm_1 will not use cuDNN kernels since it doesn't meet the criteria. It will use a generic GPU kernel as fallback when running on GPU.\n",
      "WARNING:absl:`lr` is deprecated, please use `learning_rate` instead, or use the legacy optimizer, e.g.,tf.keras.optimizers.legacy.Adam.\n"
     ]
    },
    {
     "name": "stdout",
     "output_type": "stream",
     "text": [
      "Model: \"lstm\"\n",
      "_________________________________________________________________\n",
      " Layer (type)                Output Shape              Param #   \n",
      "=================================================================\n",
      " lstm (LSTM)                 (None, 24, 72)            23040     \n",
      "                                                                 \n",
      " lstm_1 (LSTM)               (None, 48)                23232     \n",
      "                                                                 \n",
      " flatten (Flatten)           (None, 48)                0         \n",
      "                                                                 \n",
      " dropout (Dropout)           (None, 48)                0         \n",
      "                                                                 \n",
      " dense (Dense)               (None, 128)               6272      \n",
      "                                                                 \n",
      " dropout_1 (Dropout)         (None, 128)               0         \n",
      "                                                                 \n",
      " dense_1 (Dense)             (None, 1)                 129       \n",
      "                                                                 \n",
      "=================================================================\n",
      "Total params: 52,673\n",
      "Trainable params: 52,673\n",
      "Non-trainable params: 0\n",
      "_________________________________________________________________\n"
     ]
    }
   ],
   "source": [
    "def lstm_model(n_steps, n_horizon, n_features, lr):\n",
    "    \n",
    "    tf.keras.backend.clear_session()\n",
    "    \n",
    "    model = tf.keras.models.Sequential([\n",
    "        tf.keras.layers.LSTM(72, activation='relu', input_shape=(n_steps, n_features), return_sequences=True),\n",
    "        tf.keras.layers.LSTM(48, activation='relu', return_sequences=False),\n",
    "        tf.keras.layers.Flatten(),\n",
    "        tf.keras.layers.Dropout(0.3),\n",
    "        tf.keras.layers.Dense(128, activation='relu'),\n",
    "        tf.keras.layers.Dropout(0.3),\n",
    "        tf.keras.layers.Dense(n_horizon)\n",
    "    ], name='lstm')\n",
    "    \n",
    "    loss = tf.keras.losses.Huber()\n",
    "    optimizer = tf.keras.optimizers.Adam(lr=lr)\n",
    "    \n",
    "    model.compile(loss=loss, optimizer='adam', metrics=['mae'])\n",
    "    \n",
    "    return model\n",
    "\n",
    "lstm = lstm_model(*get_params(multivar=True))\n",
    "lstm.summary()"
   ]
  },
  {
   "cell_type": "code",
   "execution_count": 89,
   "id": "edaa8306",
   "metadata": {},
   "outputs": [
    {
     "name": "stdout",
     "output_type": "stream",
     "text": [
      "WARNING:tensorflow:Layer lstm will not use cuDNN kernels since it doesn't meet the criteria. It will use a generic GPU kernel as fallback when running on GPU.\n"
     ]
    },
    {
     "name": "stderr",
     "output_type": "stream",
     "text": [
      "WARNING:tensorflow:Layer lstm will not use cuDNN kernels since it doesn't meet the criteria. It will use a generic GPU kernel as fallback when running on GPU.\n"
     ]
    },
    {
     "name": "stdout",
     "output_type": "stream",
     "text": [
      "WARNING:tensorflow:Layer lstm_1 will not use cuDNN kernels since it doesn't meet the criteria. It will use a generic GPU kernel as fallback when running on GPU.\n"
     ]
    },
    {
     "name": "stderr",
     "output_type": "stream",
     "text": [
      "WARNING:tensorflow:Layer lstm_1 will not use cuDNN kernels since it doesn't meet the criteria. It will use a generic GPU kernel as fallback when running on GPU.\n",
      "WARNING:absl:`lr` is deprecated, please use `learning_rate` instead, or use the legacy optimizer, e.g.,tf.keras.optimizers.legacy.Adam.\n"
     ]
    },
    {
     "name": "stdout",
     "output_type": "stream",
     "text": [
      "Model: \"lstm_cnn\"\n",
      "_________________________________________________________________\n",
      " Layer (type)                Output Shape              Param #   \n",
      "=================================================================\n",
      " conv1d (Conv1D)             (None, 19, 64)            2752      \n",
      "                                                                 \n",
      " max_pooling1d (MaxPooling1D  (None, 9, 64)            0         \n",
      " )                                                               \n",
      "                                                                 \n",
      " conv1d_1 (Conv1D)           (None, 7, 64)             12352     \n",
      "                                                                 \n",
      " max_pooling1d_1 (MaxPooling  (None, 3, 64)            0         \n",
      " 1D)                                                             \n",
      "                                                                 \n",
      " lstm (LSTM)                 (None, 3, 72)             39456     \n",
      "                                                                 \n",
      " lstm_1 (LSTM)               (None, 48)                23232     \n",
      "                                                                 \n",
      " flatten (Flatten)           (None, 48)                0         \n",
      "                                                                 \n",
      " dropout (Dropout)           (None, 48)                0         \n",
      "                                                                 \n",
      " dense (Dense)               (None, 128)               6272      \n",
      "                                                                 \n",
      " dropout_1 (Dropout)         (None, 128)               0         \n",
      "                                                                 \n",
      " dense_1 (Dense)             (None, 1)                 129       \n",
      "                                                                 \n",
      "=================================================================\n",
      "Total params: 84,193\n",
      "Trainable params: 84,193\n",
      "Non-trainable params: 0\n",
      "_________________________________________________________________\n"
     ]
    }
   ],
   "source": [
    "def lstm_cnn_model(n_steps, n_horizon, n_features, lr):\n",
    "    \n",
    "    tf.keras.backend.clear_session()\n",
    "    \n",
    "    model = tf.keras.models.Sequential([\n",
    "        tf.keras.layers.Conv1D(64, kernel_size=6, activation='relu', input_shape=(n_steps,n_features)),\n",
    "        tf.keras.layers.MaxPooling1D(2),\n",
    "        tf.keras.layers.Conv1D(64, kernel_size=3, activation='relu'),\n",
    "        tf.keras.layers.MaxPooling1D(2),\n",
    "        tf.keras.layers.LSTM(72, activation='relu', return_sequences=True),\n",
    "        tf.keras.layers.LSTM(48, activation='relu', return_sequences=False),\n",
    "        tf.keras.layers.Flatten(),\n",
    "        tf.keras.layers.Dropout(0.3),\n",
    "        tf.keras.layers.Dense(128),\n",
    "        tf.keras.layers.Dropout(0.3),\n",
    "        tf.keras.layers.Dense(n_horizon)\n",
    "    ], name=\"lstm_cnn\")\n",
    "    \n",
    "    loss = tf.keras.losses.Huber()\n",
    "    optimizer = tf.keras.optimizers.Adam(lr=lr)\n",
    "    \n",
    "    model.compile(loss=loss, optimizer='adam', metrics=['mae'])\n",
    "    \n",
    "    return model\n",
    "\n",
    "lstm_cnn = lstm_cnn_model(*get_params(multivar=True))\n",
    "lstm_cnn.summary()"
   ]
  },
  {
   "cell_type": "code",
   "execution_count": 90,
   "id": "ba1df02f",
   "metadata": {},
   "outputs": [
    {
     "name": "stdout",
     "output_type": "stream",
     "text": [
      "WARNING:tensorflow:Layer lstm will not use cuDNN kernels since it doesn't meet the criteria. It will use a generic GPU kernel as fallback when running on GPU.\n"
     ]
    },
    {
     "name": "stderr",
     "output_type": "stream",
     "text": [
      "WARNING:tensorflow:Layer lstm will not use cuDNN kernels since it doesn't meet the criteria. It will use a generic GPU kernel as fallback when running on GPU.\n"
     ]
    },
    {
     "name": "stdout",
     "output_type": "stream",
     "text": [
      "WARNING:tensorflow:Layer lstm_1 will not use cuDNN kernels since it doesn't meet the criteria. It will use a generic GPU kernel as fallback when running on GPU.\n"
     ]
    },
    {
     "name": "stderr",
     "output_type": "stream",
     "text": [
      "WARNING:tensorflow:Layer lstm_1 will not use cuDNN kernels since it doesn't meet the criteria. It will use a generic GPU kernel as fallback when running on GPU.\n",
      "WARNING:absl:`lr` is deprecated, please use `learning_rate` instead, or use the legacy optimizer, e.g.,tf.keras.optimizers.legacy.Adam.\n"
     ]
    },
    {
     "name": "stdout",
     "output_type": "stream",
     "text": [
      "Model: \"lstm_skip\"\n",
      "__________________________________________________________________________________________________\n",
      " Layer (type)                   Output Shape         Param #     Connected to                     \n",
      "==================================================================================================\n",
      " main (InputLayer)              [(None, 24, 7)]      0           []                               \n",
      "                                                                                                  \n",
      " conv1d (Conv1D)                (None, 19, 64)       2752        ['main[0][0]']                   \n",
      "                                                                                                  \n",
      " max_pooling1d (MaxPooling1D)   (None, 9, 64)        0           ['conv1d[0][0]']                 \n",
      "                                                                                                  \n",
      " conv1d_1 (Conv1D)              (None, 7, 64)        12352       ['max_pooling1d[0][0]']          \n",
      "                                                                                                  \n",
      " max_pooling1d_1 (MaxPooling1D)  (None, 3, 64)       0           ['conv1d_1[0][0]']               \n",
      "                                                                                                  \n",
      " lstm (LSTM)                    (None, 3, 72)        39456       ['max_pooling1d_1[0][0]']        \n",
      "                                                                                                  \n",
      " lstm_1 (LSTM)                  (None, 48)           23232       ['lstm[0][0]']                   \n",
      "                                                                                                  \n",
      " flatten (Flatten)              (None, 48)           0           ['lstm_1[0][0]']                 \n",
      "                                                                                                  \n",
      " flatten_1 (Flatten)            (None, 168)          0           ['main[0][0]']                   \n",
      "                                                                                                  \n",
      " concatenate (Concatenate)      (None, 216)          0           ['flatten[0][0]',                \n",
      "                                                                  'flatten_1[0][0]']              \n",
      "                                                                                                  \n",
      " dropout (Dropout)              (None, 216)          0           ['concatenate[0][0]']            \n",
      "                                                                                                  \n",
      " dense (Dense)                  (None, 128)          27776       ['dropout[0][0]']                \n",
      "                                                                                                  \n",
      " dropout_1 (Dropout)            (None, 128)          0           ['dense[0][0]']                  \n",
      "                                                                                                  \n",
      " dense_1 (Dense)                (None, 1)            129         ['dropout_1[0][0]']              \n",
      "                                                                                                  \n",
      "==================================================================================================\n",
      "Total params: 105,697\n",
      "Trainable params: 105,697\n",
      "Non-trainable params: 0\n",
      "__________________________________________________________________________________________________\n"
     ]
    }
   ],
   "source": [
    "def lstm_cnn_skip_model(n_steps, n_horizon, n_features, lr):\n",
    "    \n",
    "    tf.keras.backend.clear_session()\n",
    "    \n",
    "   \n",
    "    inputs = tf.keras.layers.Input(shape=(n_steps,n_features), name='main')\n",
    "    \n",
    "    conv1 = tf.keras.layers.Conv1D(64, kernel_size=6, activation='relu')(inputs)\n",
    "    max_pool_1 = tf.keras.layers.MaxPooling1D(2)(conv1)\n",
    "    conv2 = tf.keras.layers.Conv1D(64, kernel_size=3, activation='relu')(max_pool_1)\n",
    "    max_pool_2 = tf.keras.layers.MaxPooling1D(2)(conv2)\n",
    "    lstm_1 = tf.keras.layers.LSTM(72, activation='relu', return_sequences=True)(max_pool_2)\n",
    "    lstm_2 = tf.keras.layers.LSTM(48, activation='relu', return_sequences=False)(lstm_1)\n",
    "    flatten = tf.keras.layers.Flatten()(lstm_2)\n",
    "    \n",
    "    skip_flatten = tf.keras.layers.Flatten()(inputs)\n",
    "\n",
    "    concat = tf.keras.layers.Concatenate(axis=-1)([flatten, skip_flatten])\n",
    "    drop_1 = tf.keras.layers.Dropout(0.3)(concat)\n",
    "    dense_1 = tf.keras.layers.Dense(128, activation='relu')(drop_1)\n",
    "    drop_2 = tf.keras.layers.Dropout(0.3)(dense_1)\n",
    "    output = tf.keras.layers.Dense(n_horizon)(drop_2)\n",
    "    \n",
    "    model = tf.keras.Model(inputs=inputs, outputs=output, name='lstm_skip')\n",
    "    \n",
    "    loss = tf.keras.losses.Huber()\n",
    "    optimizer = tf.keras.optimizers.Adam(lr=lr)\n",
    "    \n",
    "    model.compile(loss=loss, optimizer='adam', metrics=['mae'])\n",
    "    \n",
    "    return model\n",
    "\n",
    "lstm_skip = lstm_cnn_skip_model(*get_params(multivar=True))\n",
    "lstm_skip.summary()"
   ]
  },
  {
   "cell_type": "code",
   "execution_count": 91,
   "id": "acff6657",
   "metadata": {},
   "outputs": [
    {
     "name": "stdout",
     "output_type": "stream",
     "text": [
      "Prediction lookback (n_steps): 24\n",
      "Prediction horizon (n_horizon): 1\n",
      "Batch Size: 256\n",
      "Datasets:\n",
      "(TensorSpec(shape=(None, None, 7), dtype=tf.float64, name=None), TensorSpec(shape=(None, None, 1), dtype=tf.float64, name=None))\n"
     ]
    },
    {
     "name": "stderr",
     "output_type": "stream",
     "text": [
      "WARNING:absl:`lr` is deprecated, please use `learning_rate` instead, or use the legacy optimizer, e.g.,tf.keras.optimizers.legacy.Adam.\n"
     ]
    },
    {
     "name": "stdout",
     "output_type": "stream",
     "text": [
      "Epoch 1/150\n",
      "      1/Unknown - 1s 819ms/step - loss: 0.6042 - mae: 1.0673\n",
      "Epoch 1: val_loss improved from inf to 0.12892, saving model to saved_models/dnn\n",
      "INFO:tensorflow:Assets written to: saved_models/dnn/assets\n"
     ]
    },
    {
     "name": "stderr",
     "output_type": "stream",
     "text": [
      "INFO:tensorflow:Assets written to: saved_models/dnn/assets\n"
     ]
    },
    {
     "name": "stdout",
     "output_type": "stream",
     "text": [
      "5/5 [==============================] - 2s 215ms/step - loss: 0.2697 - mae: 0.6134 - val_loss: 0.1289 - val_mae: 0.4861\n",
      "Epoch 2/150\n",
      "3/5 [=================>............] - ETA: 0s - loss: 0.1187 - mae: 0.3941\n",
      "Epoch 2: val_loss improved from 0.12892 to 0.02209, saving model to saved_models/dnn\n",
      "INFO:tensorflow:Assets written to: saved_models/dnn/assets\n"
     ]
    },
    {
     "name": "stderr",
     "output_type": "stream",
     "text": [
      "INFO:tensorflow:Assets written to: saved_models/dnn/assets\n"
     ]
    },
    {
     "name": "stdout",
     "output_type": "stream",
     "text": [
      "5/5 [==============================] - 1s 158ms/step - loss: 0.1022 - mae: 0.3617 - val_loss: 0.0221 - val_mae: 0.1871\n",
      "Epoch 3/150\n",
      "3/5 [=================>............] - ETA: 0s - loss: 0.0547 - mae: 0.2664\n",
      "Epoch 3: val_loss did not improve from 0.02209\n",
      "5/5 [==============================] - 0s 36ms/step - loss: 0.0600 - mae: 0.2806 - val_loss: 0.0704 - val_mae: 0.3600\n",
      "Epoch 4/150\n",
      "3/5 [=================>............] - ETA: 0s - loss: 0.0488 - mae: 0.2565\n",
      "Epoch 4: val_loss improved from 0.02209 to 0.00526, saving model to saved_models/dnn\n",
      "INFO:tensorflow:Assets written to: saved_models/dnn/assets\n"
     ]
    },
    {
     "name": "stderr",
     "output_type": "stream",
     "text": [
      "INFO:tensorflow:Assets written to: saved_models/dnn/assets\n"
     ]
    },
    {
     "name": "stdout",
     "output_type": "stream",
     "text": [
      "5/5 [==============================] - 1s 153ms/step - loss: 0.0446 - mae: 0.2443 - val_loss: 0.0053 - val_mae: 0.0836\n",
      "Epoch 5/150\n",
      "3/5 [=================>............] - ETA: 0s - loss: 0.0295 - mae: 0.1944\n",
      "Epoch 5: val_loss did not improve from 0.00526\n",
      "5/5 [==============================] - 0s 34ms/step - loss: 0.0322 - mae: 0.2024 - val_loss: 0.0108 - val_mae: 0.1220\n",
      "Epoch 6/150\n",
      "3/5 [=================>............] - ETA: 0s - loss: 0.0299 - mae: 0.1992\n",
      "Epoch 6: val_loss improved from 0.00526 to 0.00517, saving model to saved_models/dnn\n",
      "INFO:tensorflow:Assets written to: saved_models/dnn/assets\n"
     ]
    },
    {
     "name": "stderr",
     "output_type": "stream",
     "text": [
      "INFO:tensorflow:Assets written to: saved_models/dnn/assets\n"
     ]
    },
    {
     "name": "stdout",
     "output_type": "stream",
     "text": [
      "5/5 [==============================] - 1s 156ms/step - loss: 0.0289 - mae: 0.1944 - val_loss: 0.0052 - val_mae: 0.0818\n",
      "Epoch 7/150\n",
      "3/5 [=================>............] - ETA: 0s - loss: 0.0240 - mae: 0.1759\n",
      "Epoch 7: val_loss did not improve from 0.00517\n",
      "5/5 [==============================] - 0s 34ms/step - loss: 0.0229 - mae: 0.1725 - val_loss: 0.0113 - val_mae: 0.1285\n",
      "Epoch 8/150\n",
      "3/5 [=================>............] - ETA: 0s - loss: 0.0229 - mae: 0.1691\n",
      "Epoch 8: val_loss did not improve from 0.00517\n",
      "5/5 [==============================] - 0s 34ms/step - loss: 0.0218 - mae: 0.1647 - val_loss: 0.0052 - val_mae: 0.0814\n",
      "Epoch 9/150\n",
      "3/5 [=================>............] - ETA: 0s - loss: 0.0174 - mae: 0.1477\n",
      "Epoch 9: val_loss improved from 0.00517 to 0.00438, saving model to saved_models/dnn\n",
      "INFO:tensorflow:Assets written to: saved_models/dnn/assets\n"
     ]
    },
    {
     "name": "stderr",
     "output_type": "stream",
     "text": [
      "INFO:tensorflow:Assets written to: saved_models/dnn/assets\n"
     ]
    },
    {
     "name": "stdout",
     "output_type": "stream",
     "text": [
      "5/5 [==============================] - 1s 161ms/step - loss: 0.0178 - mae: 0.1480 - val_loss: 0.0044 - val_mae: 0.0735\n",
      "Epoch 10/150\n",
      "3/5 [=================>............] - ETA: 0s - loss: 0.0172 - mae: 0.1464\n",
      "Epoch 10: val_loss did not improve from 0.00438\n",
      "5/5 [==============================] - 0s 39ms/step - loss: 0.0168 - mae: 0.1446 - val_loss: 0.0074 - val_mae: 0.1014\n",
      "Epoch 11/150\n",
      "3/5 [=================>............] - ETA: 0s - loss: 0.0166 - mae: 0.1453\n",
      "Epoch 11: val_loss did not improve from 0.00438\n",
      "5/5 [==============================] - 0s 37ms/step - loss: 0.0158 - mae: 0.1419 - val_loss: 0.0092 - val_mae: 0.1148\n",
      "Epoch 12/150\n",
      "3/5 [=================>............] - ETA: 0s - loss: 0.0142 - mae: 0.1343\n",
      "Epoch 12: val_loss did not improve from 0.00438\n",
      "5/5 [==============================] - 0s 35ms/step - loss: 0.0142 - mae: 0.1342 - val_loss: 0.0048 - val_mae: 0.0799\n",
      "Epoch 13/150\n",
      "3/5 [=================>............] - ETA: 0s - loss: 0.0143 - mae: 0.1311\n",
      "Epoch 13: val_loss did not improve from 0.00438\n",
      "5/5 [==============================] - 0s 35ms/step - loss: 0.0144 - mae: 0.1330 - val_loss: 0.0071 - val_mae: 0.0990\n",
      "Epoch 14/150\n",
      "3/5 [=================>............] - ETA: 0s - loss: 0.0145 - mae: 0.1352\n",
      "Epoch 14: val_loss did not improve from 0.00438\n",
      "Restoring model weights from the end of the best epoch: 9.\n",
      "5/5 [==============================] - 0s 36ms/step - loss: 0.0141 - mae: 0.1340 - val_loss: 0.0092 - val_mae: 0.1162\n",
      "Epoch 14: early stopping\n",
      "Prediction lookback (n_steps): 24\n",
      "Prediction horizon (n_horizon): 1\n",
      "Batch Size: 256\n",
      "Datasets:\n",
      "(TensorSpec(shape=(None, None, 7), dtype=tf.float64, name=None), TensorSpec(shape=(None, None, 1), dtype=tf.float64, name=None))\n"
     ]
    },
    {
     "name": "stderr",
     "output_type": "stream",
     "text": [
      "WARNING:absl:`lr` is deprecated, please use `learning_rate` instead, or use the legacy optimizer, e.g.,tf.keras.optimizers.legacy.Adam.\n"
     ]
    },
    {
     "name": "stdout",
     "output_type": "stream",
     "text": [
      "Epoch 1/150\n"
     ]
    },
    {
     "name": "stderr",
     "output_type": "stream",
     "text": [
      "2023-03-02 22:17:47.843496: I tensorflow/compiler/xla/stream_executor/cuda/cuda_dnn.cc:428] Loaded cuDNN version 8100\n",
      "2023-03-02 22:17:50.326417: I tensorflow/tsl/platform/default/subprocess.cc:304] Start cannot spawn child process: No such file or directory\n"
     ]
    },
    {
     "name": "stdout",
     "output_type": "stream",
     "text": [
      "      5/Unknown - 7s 24ms/step - loss: 0.1177 - mae: 0.3965\n",
      "Epoch 1: val_loss improved from inf to 0.02769, saving model to saved_models/CNN\n"
     ]
    },
    {
     "name": "stderr",
     "output_type": "stream",
     "text": [
      "WARNING:absl:Found untraced functions such as _jit_compiled_convolution_op, _jit_compiled_convolution_op while saving (showing 2 of 2). These functions will not be directly callable after loading.\n"
     ]
    },
    {
     "name": "stdout",
     "output_type": "stream",
     "text": [
      "INFO:tensorflow:Assets written to: saved_models/CNN/assets\n"
     ]
    },
    {
     "name": "stderr",
     "output_type": "stream",
     "text": [
      "INFO:tensorflow:Assets written to: saved_models/CNN/assets\n"
     ]
    },
    {
     "name": "stdout",
     "output_type": "stream",
     "text": [
      "5/5 [==============================] - 8s 284ms/step - loss: 0.1177 - mae: 0.3965 - val_loss: 0.0277 - val_mae: 0.1783\n",
      "Epoch 2/150\n",
      "3/5 [=================>............] - ETA: 0s - loss: 0.0475 - mae: 0.2411\n",
      "Epoch 2: val_loss did not improve from 0.02769\n",
      "5/5 [==============================] - 0s 35ms/step - loss: 0.0424 - mae: 0.2285 - val_loss: 0.0478 - val_mae: 0.2814\n",
      "Epoch 3/150\n",
      "3/5 [=================>............] - ETA: 0s - loss: 0.0342 - mae: 0.2154\n",
      "Epoch 3: val_loss improved from 0.02769 to 0.01440, saving model to saved_models/CNN\n"
     ]
    },
    {
     "name": "stderr",
     "output_type": "stream",
     "text": [
      "WARNING:absl:Found untraced functions such as _jit_compiled_convolution_op, _jit_compiled_convolution_op while saving (showing 2 of 2). These functions will not be directly callable after loading.\n"
     ]
    },
    {
     "name": "stdout",
     "output_type": "stream",
     "text": [
      "INFO:tensorflow:Assets written to: saved_models/CNN/assets\n"
     ]
    },
    {
     "name": "stderr",
     "output_type": "stream",
     "text": [
      "INFO:tensorflow:Assets written to: saved_models/CNN/assets\n"
     ]
    },
    {
     "name": "stdout",
     "output_type": "stream",
     "text": [
      "5/5 [==============================] - 1s 203ms/step - loss: 0.0307 - mae: 0.2032 - val_loss: 0.0144 - val_mae: 0.1439\n",
      "Epoch 4/150\n",
      "3/5 [=================>............] - ETA: 0s - loss: 0.0205 - mae: 0.1578\n",
      "Epoch 4: val_loss improved from 0.01440 to 0.00762, saving model to saved_models/CNN\n"
     ]
    },
    {
     "name": "stderr",
     "output_type": "stream",
     "text": [
      "WARNING:absl:Found untraced functions such as _jit_compiled_convolution_op, _jit_compiled_convolution_op while saving (showing 2 of 2). These functions will not be directly callable after loading.\n"
     ]
    },
    {
     "name": "stdout",
     "output_type": "stream",
     "text": [
      "INFO:tensorflow:Assets written to: saved_models/CNN/assets\n"
     ]
    },
    {
     "name": "stderr",
     "output_type": "stream",
     "text": [
      "INFO:tensorflow:Assets written to: saved_models/CNN/assets\n"
     ]
    },
    {
     "name": "stdout",
     "output_type": "stream",
     "text": [
      "5/5 [==============================] - 1s 200ms/step - loss: 0.0200 - mae: 0.1540 - val_loss: 0.0076 - val_mae: 0.1001\n",
      "Epoch 5/150\n",
      "3/5 [=================>............] - ETA: 0s - loss: 0.0175 - mae: 0.1468\n",
      "Epoch 5: val_loss did not improve from 0.00762\n",
      "5/5 [==============================] - 0s 36ms/step - loss: 0.0162 - mae: 0.1414 - val_loss: 0.0094 - val_mae: 0.1136\n",
      "Epoch 6/150\n",
      "3/5 [=================>............] - ETA: 0s - loss: 0.0134 - mae: 0.1311\n",
      "Epoch 6: val_loss improved from 0.00762 to 0.00702, saving model to saved_models/CNN\n"
     ]
    },
    {
     "name": "stderr",
     "output_type": "stream",
     "text": [
      "WARNING:absl:Found untraced functions such as _jit_compiled_convolution_op, _jit_compiled_convolution_op while saving (showing 2 of 2). These functions will not be directly callable after loading.\n"
     ]
    },
    {
     "name": "stdout",
     "output_type": "stream",
     "text": [
      "INFO:tensorflow:Assets written to: saved_models/CNN/assets\n"
     ]
    },
    {
     "name": "stderr",
     "output_type": "stream",
     "text": [
      "INFO:tensorflow:Assets written to: saved_models/CNN/assets\n"
     ]
    },
    {
     "name": "stdout",
     "output_type": "stream",
     "text": [
      "5/5 [==============================] - 1s 200ms/step - loss: 0.0131 - mae: 0.1299 - val_loss: 0.0070 - val_mae: 0.0928\n",
      "Epoch 7/150\n",
      "3/5 [=================>............] - ETA: 0s - loss: 0.0113 - mae: 0.1197\n",
      "Epoch 7: val_loss improved from 0.00702 to 0.00604, saving model to saved_models/CNN\n"
     ]
    },
    {
     "name": "stderr",
     "output_type": "stream",
     "text": [
      "WARNING:absl:Found untraced functions such as _jit_compiled_convolution_op, _jit_compiled_convolution_op while saving (showing 2 of 2). These functions will not be directly callable after loading.\n"
     ]
    },
    {
     "name": "stdout",
     "output_type": "stream",
     "text": [
      "INFO:tensorflow:Assets written to: saved_models/CNN/assets\n"
     ]
    },
    {
     "name": "stderr",
     "output_type": "stream",
     "text": [
      "INFO:tensorflow:Assets written to: saved_models/CNN/assets\n"
     ]
    },
    {
     "name": "stdout",
     "output_type": "stream",
     "text": [
      "5/5 [==============================] - 1s 253ms/step - loss: 0.0112 - mae: 0.1187 - val_loss: 0.0060 - val_mae: 0.0911\n",
      "Epoch 8/150\n",
      "3/5 [=================>............] - ETA: 0s - loss: 0.0102 - mae: 0.1148\n",
      "Epoch 8: val_loss improved from 0.00604 to 0.00462, saving model to saved_models/CNN\n"
     ]
    },
    {
     "name": "stderr",
     "output_type": "stream",
     "text": [
      "WARNING:absl:Found untraced functions such as _jit_compiled_convolution_op, _jit_compiled_convolution_op while saving (showing 2 of 2). These functions will not be directly callable after loading.\n"
     ]
    },
    {
     "name": "stdout",
     "output_type": "stream",
     "text": [
      "INFO:tensorflow:Assets written to: saved_models/CNN/assets\n"
     ]
    },
    {
     "name": "stderr",
     "output_type": "stream",
     "text": [
      "INFO:tensorflow:Assets written to: saved_models/CNN/assets\n"
     ]
    },
    {
     "name": "stdout",
     "output_type": "stream",
     "text": [
      "5/5 [==============================] - 1s 208ms/step - loss: 0.0099 - mae: 0.1123 - val_loss: 0.0046 - val_mae: 0.0776\n",
      "Epoch 9/150\n",
      "3/5 [=================>............] - ETA: 0s - loss: 0.0088 - mae: 0.1032\n",
      "Epoch 9: val_loss improved from 0.00462 to 0.00407, saving model to saved_models/CNN\n"
     ]
    },
    {
     "name": "stderr",
     "output_type": "stream",
     "text": [
      "WARNING:absl:Found untraced functions such as _jit_compiled_convolution_op, _jit_compiled_convolution_op while saving (showing 2 of 2). These functions will not be directly callable after loading.\n"
     ]
    },
    {
     "name": "stdout",
     "output_type": "stream",
     "text": [
      "INFO:tensorflow:Assets written to: saved_models/CNN/assets\n"
     ]
    },
    {
     "name": "stderr",
     "output_type": "stream",
     "text": [
      "INFO:tensorflow:Assets written to: saved_models/CNN/assets\n"
     ]
    },
    {
     "name": "stdout",
     "output_type": "stream",
     "text": [
      "5/5 [==============================] - 1s 205ms/step - loss: 0.0088 - mae: 0.1038 - val_loss: 0.0041 - val_mae: 0.0737\n",
      "Epoch 10/150\n",
      "3/5 [=================>............] - ETA: 0s - loss: 0.0087 - mae: 0.1030\n",
      "Epoch 10: val_loss improved from 0.00407 to 0.00391, saving model to saved_models/CNN\n"
     ]
    },
    {
     "name": "stderr",
     "output_type": "stream",
     "text": [
      "WARNING:absl:Found untraced functions such as _jit_compiled_convolution_op, _jit_compiled_convolution_op while saving (showing 2 of 2). These functions will not be directly callable after loading.\n"
     ]
    },
    {
     "name": "stdout",
     "output_type": "stream",
     "text": [
      "INFO:tensorflow:Assets written to: saved_models/CNN/assets\n"
     ]
    },
    {
     "name": "stderr",
     "output_type": "stream",
     "text": [
      "INFO:tensorflow:Assets written to: saved_models/CNN/assets\n"
     ]
    },
    {
     "name": "stdout",
     "output_type": "stream",
     "text": [
      "5/5 [==============================] - 1s 209ms/step - loss: 0.0084 - mae: 0.1013 - val_loss: 0.0039 - val_mae: 0.0733\n",
      "Epoch 11/150\n",
      "3/5 [=================>............] - ETA: 0s - loss: 0.0084 - mae: 0.1025\n",
      "Epoch 11: val_loss improved from 0.00391 to 0.00372, saving model to saved_models/CNN\n"
     ]
    },
    {
     "name": "stderr",
     "output_type": "stream",
     "text": [
      "WARNING:absl:Found untraced functions such as _jit_compiled_convolution_op, _jit_compiled_convolution_op while saving (showing 2 of 2). These functions will not be directly callable after loading.\n"
     ]
    },
    {
     "name": "stdout",
     "output_type": "stream",
     "text": [
      "INFO:tensorflow:Assets written to: saved_models/CNN/assets\n"
     ]
    },
    {
     "name": "stderr",
     "output_type": "stream",
     "text": [
      "INFO:tensorflow:Assets written to: saved_models/CNN/assets\n"
     ]
    },
    {
     "name": "stdout",
     "output_type": "stream",
     "text": [
      "5/5 [==============================] - 1s 208ms/step - loss: 0.0080 - mae: 0.0996 - val_loss: 0.0037 - val_mae: 0.0687\n",
      "Epoch 12/150\n",
      "3/5 [=================>............] - ETA: 0s - loss: 0.0077 - mae: 0.0960\n",
      "Epoch 12: val_loss improved from 0.00372 to 0.00334, saving model to saved_models/CNN\n"
     ]
    },
    {
     "name": "stderr",
     "output_type": "stream",
     "text": [
      "WARNING:absl:Found untraced functions such as _jit_compiled_convolution_op, _jit_compiled_convolution_op while saving (showing 2 of 2). These functions will not be directly callable after loading.\n"
     ]
    },
    {
     "name": "stdout",
     "output_type": "stream",
     "text": [
      "INFO:tensorflow:Assets written to: saved_models/CNN/assets\n"
     ]
    },
    {
     "name": "stderr",
     "output_type": "stream",
     "text": [
      "INFO:tensorflow:Assets written to: saved_models/CNN/assets\n"
     ]
    },
    {
     "name": "stdout",
     "output_type": "stream",
     "text": [
      "5/5 [==============================] - 1s 269ms/step - loss: 0.0075 - mae: 0.0941 - val_loss: 0.0033 - val_mae: 0.0678\n",
      "Epoch 13/150\n",
      "3/5 [=================>............] - ETA: 0s - loss: 0.0077 - mae: 0.0978\n",
      "Epoch 13: val_loss improved from 0.00334 to 0.00314, saving model to saved_models/CNN\n"
     ]
    },
    {
     "name": "stderr",
     "output_type": "stream",
     "text": [
      "WARNING:absl:Found untraced functions such as _jit_compiled_convolution_op, _jit_compiled_convolution_op while saving (showing 2 of 2). These functions will not be directly callable after loading.\n"
     ]
    },
    {
     "name": "stdout",
     "output_type": "stream",
     "text": [
      "INFO:tensorflow:Assets written to: saved_models/CNN/assets\n"
     ]
    },
    {
     "name": "stderr",
     "output_type": "stream",
     "text": [
      "INFO:tensorflow:Assets written to: saved_models/CNN/assets\n"
     ]
    },
    {
     "name": "stdout",
     "output_type": "stream",
     "text": [
      "5/5 [==============================] - 1s 204ms/step - loss: 0.0075 - mae: 0.0954 - val_loss: 0.0031 - val_mae: 0.0641\n",
      "Epoch 14/150\n",
      "3/5 [=================>............] - ETA: 0s - loss: 0.0072 - mae: 0.0956\n",
      "Epoch 14: val_loss improved from 0.00314 to 0.00309, saving model to saved_models/CNN\n"
     ]
    },
    {
     "name": "stderr",
     "output_type": "stream",
     "text": [
      "WARNING:absl:Found untraced functions such as _jit_compiled_convolution_op, _jit_compiled_convolution_op while saving (showing 2 of 2). These functions will not be directly callable after loading.\n"
     ]
    },
    {
     "name": "stdout",
     "output_type": "stream",
     "text": [
      "INFO:tensorflow:Assets written to: saved_models/CNN/assets\n"
     ]
    },
    {
     "name": "stderr",
     "output_type": "stream",
     "text": [
      "INFO:tensorflow:Assets written to: saved_models/CNN/assets\n"
     ]
    },
    {
     "name": "stdout",
     "output_type": "stream",
     "text": [
      "5/5 [==============================] - 1s 210ms/step - loss: 0.0072 - mae: 0.0952 - val_loss: 0.0031 - val_mae: 0.0652\n",
      "Epoch 15/150\n",
      "3/5 [=================>............] - ETA: 0s - loss: 0.0078 - mae: 0.0969\n",
      "Epoch 15: val_loss did not improve from 0.00309\n",
      "5/5 [==============================] - 0s 36ms/step - loss: 0.0072 - mae: 0.0929 - val_loss: 0.0031 - val_mae: 0.0624\n",
      "Epoch 16/150\n",
      "3/5 [=================>............] - ETA: 0s - loss: 0.0063 - mae: 0.0878\n",
      "Epoch 16: val_loss improved from 0.00309 to 0.00282, saving model to saved_models/CNN\n"
     ]
    },
    {
     "name": "stderr",
     "output_type": "stream",
     "text": [
      "WARNING:absl:Found untraced functions such as _jit_compiled_convolution_op, _jit_compiled_convolution_op while saving (showing 2 of 2). These functions will not be directly callable after loading.\n"
     ]
    },
    {
     "name": "stdout",
     "output_type": "stream",
     "text": [
      "INFO:tensorflow:Assets written to: saved_models/CNN/assets\n"
     ]
    },
    {
     "name": "stderr",
     "output_type": "stream",
     "text": [
      "INFO:tensorflow:Assets written to: saved_models/CNN/assets\n"
     ]
    },
    {
     "name": "stdout",
     "output_type": "stream",
     "text": [
      "5/5 [==============================] - 1s 205ms/step - loss: 0.0061 - mae: 0.0854 - val_loss: 0.0028 - val_mae: 0.0613\n",
      "Epoch 17/150\n",
      "3/5 [=================>............] - ETA: 0s - loss: 0.0067 - mae: 0.0902\n",
      "Epoch 17: val_loss did not improve from 0.00282\n",
      "5/5 [==============================] - 0s 37ms/step - loss: 0.0063 - mae: 0.0881 - val_loss: 0.0028 - val_mae: 0.0595\n",
      "Epoch 18/150\n",
      "3/5 [=================>............] - ETA: 0s - loss: 0.0057 - mae: 0.0842\n",
      "Epoch 18: val_loss improved from 0.00282 to 0.00267, saving model to saved_models/CNN\n"
     ]
    },
    {
     "name": "stderr",
     "output_type": "stream",
     "text": [
      "WARNING:absl:Found untraced functions such as _jit_compiled_convolution_op, _jit_compiled_convolution_op while saving (showing 2 of 2). These functions will not be directly callable after loading.\n"
     ]
    },
    {
     "name": "stdout",
     "output_type": "stream",
     "text": [
      "INFO:tensorflow:Assets written to: saved_models/CNN/assets\n"
     ]
    },
    {
     "name": "stderr",
     "output_type": "stream",
     "text": [
      "INFO:tensorflow:Assets written to: saved_models/CNN/assets\n"
     ]
    },
    {
     "name": "stdout",
     "output_type": "stream",
     "text": [
      "5/5 [==============================] - 1s 252ms/step - loss: 0.0058 - mae: 0.0841 - val_loss: 0.0027 - val_mae: 0.0599\n",
      "Epoch 19/150\n",
      "3/5 [=================>............] - ETA: 0s - loss: 0.0055 - mae: 0.0830\n",
      "Epoch 19: val_loss did not improve from 0.00267\n",
      "5/5 [==============================] - 0s 38ms/step - loss: 0.0056 - mae: 0.0849 - val_loss: 0.0027 - val_mae: 0.0597\n",
      "Epoch 20/150\n",
      "3/5 [=================>............] - ETA: 0s - loss: 0.0058 - mae: 0.0840\n",
      "Epoch 20: val_loss did not improve from 0.00267\n",
      "5/5 [==============================] - 0s 37ms/step - loss: 0.0057 - mae: 0.0849 - val_loss: 0.0030 - val_mae: 0.0597\n",
      "Epoch 21/150\n",
      "2/5 [===========>..................] - ETA: 0s - loss: 0.0059 - mae: 0.0848\n",
      "Epoch 21: val_loss did not improve from 0.00267\n",
      "5/5 [==============================] - 0s 43ms/step - loss: 0.0056 - mae: 0.0830 - val_loss: 0.0027 - val_mae: 0.0582\n",
      "Epoch 22/150\n",
      "3/5 [=================>............] - ETA: 0s - loss: 0.0051 - mae: 0.0789\n",
      "Epoch 22: val_loss did not improve from 0.00267\n",
      "5/5 [==============================] - 0s 37ms/step - loss: 0.0054 - mae: 0.0812 - val_loss: 0.0033 - val_mae: 0.0682\n",
      "Epoch 23/150\n",
      "3/5 [=================>............] - ETA: 0s - loss: 0.0054 - mae: 0.0830\n",
      "Epoch 23: val_loss did not improve from 0.00267\n",
      "Restoring model weights from the end of the best epoch: 18.\n",
      "5/5 [==============================] - 0s 47ms/step - loss: 0.0054 - mae: 0.0827 - val_loss: 0.0031 - val_mae: 0.0604\n",
      "Epoch 23: early stopping\n",
      "Prediction lookback (n_steps): 24\n",
      "Prediction horizon (n_horizon): 1\n",
      "Batch Size: 256\n",
      "Datasets:\n",
      "(TensorSpec(shape=(None, None, 7), dtype=tf.float64, name=None), TensorSpec(shape=(None, None, 1), dtype=tf.float64, name=None))\n",
      "WARNING:tensorflow:Layer lstm will not use cuDNN kernels since it doesn't meet the criteria. It will use a generic GPU kernel as fallback when running on GPU.\n"
     ]
    },
    {
     "name": "stderr",
     "output_type": "stream",
     "text": [
      "WARNING:tensorflow:Layer lstm will not use cuDNN kernels since it doesn't meet the criteria. It will use a generic GPU kernel as fallback when running on GPU.\n"
     ]
    },
    {
     "name": "stdout",
     "output_type": "stream",
     "text": [
      "WARNING:tensorflow:Layer lstm_1 will not use cuDNN kernels since it doesn't meet the criteria. It will use a generic GPU kernel as fallback when running on GPU.\n"
     ]
    },
    {
     "name": "stderr",
     "output_type": "stream",
     "text": [
      "WARNING:tensorflow:Layer lstm_1 will not use cuDNN kernels since it doesn't meet the criteria. It will use a generic GPU kernel as fallback when running on GPU.\n",
      "WARNING:absl:`lr` is deprecated, please use `learning_rate` instead, or use the legacy optimizer, e.g.,tf.keras.optimizers.legacy.Adam.\n"
     ]
    },
    {
     "name": "stdout",
     "output_type": "stream",
     "text": [
      "Epoch 1/150\n",
      "      5/Unknown - 3s 164ms/step - loss: 0.1768 - mae: 0.5477\n",
      "Epoch 1: val_loss improved from inf to 0.17322, saving model to saved_models/lstm\n",
      "INFO:tensorflow:Assets written to: saved_models/lstm/assets\n"
     ]
    },
    {
     "name": "stderr",
     "output_type": "stream",
     "text": [
      "INFO:tensorflow:Assets written to: saved_models/lstm/assets\n"
     ]
    },
    {
     "name": "stdout",
     "output_type": "stream",
     "text": [
      "5/5 [==============================] - 6s 760ms/step - loss: 0.1768 - mae: 0.5477 - val_loss: 0.1732 - val_mae: 0.5590\n",
      "Epoch 2/150\n",
      "5/5 [==============================] - ETA: 0s - loss: 0.0921 - mae: 0.3714\n",
      "Epoch 2: val_loss improved from 0.17322 to 0.03660, saving model to saved_models/lstm\n",
      "INFO:tensorflow:Assets written to: saved_models/lstm/assets\n"
     ]
    },
    {
     "name": "stderr",
     "output_type": "stream",
     "text": [
      "INFO:tensorflow:Assets written to: saved_models/lstm/assets\n"
     ]
    },
    {
     "name": "stdout",
     "output_type": "stream",
     "text": [
      "5/5 [==============================] - 3s 718ms/step - loss: 0.0921 - mae: 0.3714 - val_loss: 0.0366 - val_mae: 0.2352\n",
      "Epoch 3/150\n",
      "5/5 [==============================] - ETA: 0s - loss: 0.0472 - mae: 0.2459\n",
      "Epoch 3: val_loss improved from 0.03660 to 0.01786, saving model to saved_models/lstm\n",
      "INFO:tensorflow:Assets written to: saved_models/lstm/assets\n"
     ]
    },
    {
     "name": "stderr",
     "output_type": "stream",
     "text": [
      "INFO:tensorflow:Assets written to: saved_models/lstm/assets\n"
     ]
    },
    {
     "name": "stdout",
     "output_type": "stream",
     "text": [
      "5/5 [==============================] - 3s 712ms/step - loss: 0.0472 - mae: 0.2459 - val_loss: 0.0179 - val_mae: 0.1497\n",
      "Epoch 4/150\n",
      "5/5 [==============================] - ETA: 0s - loss: 0.0282 - mae: 0.1947\n",
      "Epoch 4: val_loss did not improve from 0.01786\n",
      "5/5 [==============================] - 1s 175ms/step - loss: 0.0282 - mae: 0.1947 - val_loss: 0.0362 - val_mae: 0.2383\n",
      "Epoch 5/150\n",
      "5/5 [==============================] - ETA: 0s - loss: 0.0293 - mae: 0.2028\n",
      "Epoch 5: val_loss did not improve from 0.01786\n",
      "5/5 [==============================] - 1s 178ms/step - loss: 0.0293 - mae: 0.2028 - val_loss: 0.0256 - val_mae: 0.2008\n",
      "Epoch 6/150\n",
      "5/5 [==============================] - ETA: 0s - loss: 0.0202 - mae: 0.1649\n",
      "Epoch 6: val_loss improved from 0.01786 to 0.00701, saving model to saved_models/lstm\n",
      "INFO:tensorflow:Assets written to: saved_models/lstm/assets\n"
     ]
    },
    {
     "name": "stderr",
     "output_type": "stream",
     "text": [
      "INFO:tensorflow:Assets written to: saved_models/lstm/assets\n"
     ]
    },
    {
     "name": "stdout",
     "output_type": "stream",
     "text": [
      "5/5 [==============================] - 3s 658ms/step - loss: 0.0202 - mae: 0.1649 - val_loss: 0.0070 - val_mae: 0.0931\n",
      "Epoch 7/150\n",
      "5/5 [==============================] - ETA: 0s - loss: 0.0175 - mae: 0.1514\n",
      "Epoch 7: val_loss improved from 0.00701 to 0.00642, saving model to saved_models/lstm\n",
      "INFO:tensorflow:Assets written to: saved_models/lstm/assets\n"
     ]
    },
    {
     "name": "stderr",
     "output_type": "stream",
     "text": [
      "INFO:tensorflow:Assets written to: saved_models/lstm/assets\n"
     ]
    },
    {
     "name": "stdout",
     "output_type": "stream",
     "text": [
      "5/5 [==============================] - 3s 706ms/step - loss: 0.0175 - mae: 0.1514 - val_loss: 0.0064 - val_mae: 0.0962\n",
      "Epoch 8/150\n",
      "5/5 [==============================] - ETA: 0s - loss: 0.0137 - mae: 0.1334\n",
      "Epoch 8: val_loss did not improve from 0.00642\n",
      "5/5 [==============================] - 1s 169ms/step - loss: 0.0137 - mae: 0.1334 - val_loss: 0.0097 - val_mae: 0.1224\n",
      "Epoch 9/150\n",
      "5/5 [==============================] - ETA: 0s - loss: 0.0113 - mae: 0.1206\n",
      "Epoch 9: val_loss improved from 0.00642 to 0.00311, saving model to saved_models/lstm\n",
      "INFO:tensorflow:Assets written to: saved_models/lstm/assets\n"
     ]
    },
    {
     "name": "stderr",
     "output_type": "stream",
     "text": [
      "INFO:tensorflow:Assets written to: saved_models/lstm/assets\n"
     ]
    },
    {
     "name": "stdout",
     "output_type": "stream",
     "text": [
      "5/5 [==============================] - 3s 747ms/step - loss: 0.0113 - mae: 0.1206 - val_loss: 0.0031 - val_mae: 0.0604\n",
      "Epoch 10/150\n",
      "5/5 [==============================] - ETA: 0s - loss: 0.0108 - mae: 0.1140\n",
      "Epoch 10: val_loss did not improve from 0.00311\n",
      "5/5 [==============================] - 1s 184ms/step - loss: 0.0108 - mae: 0.1140 - val_loss: 0.0067 - val_mae: 0.0987\n",
      "Epoch 11/150\n",
      "5/5 [==============================] - ETA: 0s - loss: 0.0097 - mae: 0.1103\n",
      "Epoch 11: val_loss improved from 0.00311 to 0.00248, saving model to saved_models/lstm\n",
      "INFO:tensorflow:Assets written to: saved_models/lstm/assets\n"
     ]
    },
    {
     "name": "stderr",
     "output_type": "stream",
     "text": [
      "INFO:tensorflow:Assets written to: saved_models/lstm/assets\n"
     ]
    },
    {
     "name": "stdout",
     "output_type": "stream",
     "text": [
      "5/5 [==============================] - 3s 692ms/step - loss: 0.0097 - mae: 0.1103 - val_loss: 0.0025 - val_mae: 0.0554\n",
      "Epoch 12/150\n",
      "5/5 [==============================] - ETA: 0s - loss: 0.0083 - mae: 0.1011\n",
      "Epoch 12: val_loss did not improve from 0.00248\n",
      "5/5 [==============================] - 1s 174ms/step - loss: 0.0083 - mae: 0.1011 - val_loss: 0.0029 - val_mae: 0.0618\n",
      "Epoch 13/150\n",
      "5/5 [==============================] - ETA: 0s - loss: 0.0084 - mae: 0.0990\n",
      "Epoch 13: val_loss did not improve from 0.00248\n",
      "5/5 [==============================] - 1s 222ms/step - loss: 0.0084 - mae: 0.0990 - val_loss: 0.0036 - val_mae: 0.0695\n",
      "Epoch 14/150\n",
      "5/5 [==============================] - ETA: 0s - loss: 0.0082 - mae: 0.0994\n",
      "Epoch 14: val_loss did not improve from 0.00248\n",
      "5/5 [==============================] - 1s 191ms/step - loss: 0.0082 - mae: 0.0994 - val_loss: 0.0026 - val_mae: 0.0578\n",
      "Epoch 15/150\n",
      "5/5 [==============================] - ETA: 0s - loss: 0.0078 - mae: 0.0978\n",
      "Epoch 15: val_loss did not improve from 0.00248\n",
      "5/5 [==============================] - 1s 178ms/step - loss: 0.0078 - mae: 0.0978 - val_loss: 0.0034 - val_mae: 0.0676\n",
      "Epoch 16/150\n",
      "5/5 [==============================] - ETA: 0s - loss: 0.0073 - mae: 0.0946\n",
      "Epoch 16: val_loss improved from 0.00248 to 0.00241, saving model to saved_models/lstm\n",
      "INFO:tensorflow:Assets written to: saved_models/lstm/assets\n"
     ]
    },
    {
     "name": "stderr",
     "output_type": "stream",
     "text": [
      "INFO:tensorflow:Assets written to: saved_models/lstm/assets\n"
     ]
    },
    {
     "name": "stdout",
     "output_type": "stream",
     "text": [
      "5/5 [==============================] - 3s 683ms/step - loss: 0.0073 - mae: 0.0946 - val_loss: 0.0024 - val_mae: 0.0557\n",
      "Epoch 17/150\n",
      "5/5 [==============================] - ETA: 0s - loss: 0.0068 - mae: 0.0907\n",
      "Epoch 17: val_loss improved from 0.00241 to 0.00220, saving model to saved_models/lstm\n",
      "INFO:tensorflow:Assets written to: saved_models/lstm/assets\n"
     ]
    },
    {
     "name": "stderr",
     "output_type": "stream",
     "text": [
      "INFO:tensorflow:Assets written to: saved_models/lstm/assets\n"
     ]
    },
    {
     "name": "stdout",
     "output_type": "stream",
     "text": [
      "5/5 [==============================] - 3s 656ms/step - loss: 0.0068 - mae: 0.0907 - val_loss: 0.0022 - val_mae: 0.0529\n",
      "Epoch 18/150\n",
      "5/5 [==============================] - ETA: 0s - loss: 0.0065 - mae: 0.0883\n",
      "Epoch 18: val_loss did not improve from 0.00220\n",
      "5/5 [==============================] - 1s 187ms/step - loss: 0.0065 - mae: 0.0883 - val_loss: 0.0025 - val_mae: 0.0569\n",
      "Epoch 19/150\n",
      "5/5 [==============================] - ETA: 0s - loss: 0.0065 - mae: 0.0891\n",
      "Epoch 19: val_loss did not improve from 0.00220\n",
      "5/5 [==============================] - 1s 191ms/step - loss: 0.0065 - mae: 0.0891 - val_loss: 0.0026 - val_mae: 0.0583\n",
      "Epoch 20/150\n",
      "5/5 [==============================] - ETA: 0s - loss: 0.0064 - mae: 0.0865\n",
      "Epoch 20: val_loss improved from 0.00220 to 0.00210, saving model to saved_models/lstm\n",
      "INFO:tensorflow:Assets written to: saved_models/lstm/assets\n"
     ]
    },
    {
     "name": "stderr",
     "output_type": "stream",
     "text": [
      "INFO:tensorflow:Assets written to: saved_models/lstm/assets\n"
     ]
    },
    {
     "name": "stdout",
     "output_type": "stream",
     "text": [
      "5/5 [==============================] - 3s 728ms/step - loss: 0.0064 - mae: 0.0865 - val_loss: 0.0021 - val_mae: 0.0514\n",
      "Epoch 21/150\n",
      "5/5 [==============================] - ETA: 0s - loss: 0.0062 - mae: 0.0856\n",
      "Epoch 21: val_loss did not improve from 0.00210\n",
      "5/5 [==============================] - 1s 195ms/step - loss: 0.0062 - mae: 0.0856 - val_loss: 0.0025 - val_mae: 0.0581\n",
      "Epoch 22/150\n",
      "5/5 [==============================] - ETA: 0s - loss: 0.0064 - mae: 0.0869\n",
      "Epoch 22: val_loss did not improve from 0.00210\n",
      "5/5 [==============================] - 1s 192ms/step - loss: 0.0064 - mae: 0.0869 - val_loss: 0.0021 - val_mae: 0.0525\n",
      "Epoch 23/150\n",
      "5/5 [==============================] - ETA: 0s - loss: 0.0059 - mae: 0.0836\n",
      "Epoch 23: val_loss did not improve from 0.00210\n",
      "5/5 [==============================] - 1s 180ms/step - loss: 0.0059 - mae: 0.0836 - val_loss: 0.0031 - val_mae: 0.0650\n",
      "Epoch 24/150\n",
      "5/5 [==============================] - ETA: 0s - loss: 0.0055 - mae: 0.0821\n",
      "Epoch 24: val_loss improved from 0.00210 to 0.00202, saving model to saved_models/lstm\n",
      "INFO:tensorflow:Assets written to: saved_models/lstm/assets\n"
     ]
    },
    {
     "name": "stderr",
     "output_type": "stream",
     "text": [
      "INFO:tensorflow:Assets written to: saved_models/lstm/assets\n"
     ]
    },
    {
     "name": "stdout",
     "output_type": "stream",
     "text": [
      "5/5 [==============================] - 3s 713ms/step - loss: 0.0055 - mae: 0.0821 - val_loss: 0.0020 - val_mae: 0.0506\n",
      "Epoch 25/150\n",
      "5/5 [==============================] - ETA: 0s - loss: 0.0057 - mae: 0.0820\n",
      "Epoch 25: val_loss did not improve from 0.00202\n",
      "5/5 [==============================] - 1s 165ms/step - loss: 0.0057 - mae: 0.0820 - val_loss: 0.0025 - val_mae: 0.0584\n",
      "Epoch 26/150\n",
      "5/5 [==============================] - ETA: 0s - loss: 0.0053 - mae: 0.0805\n",
      "Epoch 26: val_loss did not improve from 0.00202\n",
      "5/5 [==============================] - 1s 186ms/step - loss: 0.0053 - mae: 0.0805 - val_loss: 0.0023 - val_mae: 0.0544\n",
      "Epoch 27/150\n",
      "5/5 [==============================] - ETA: 0s - loss: 0.0058 - mae: 0.0820\n",
      "Epoch 27: val_loss did not improve from 0.00202\n",
      "5/5 [==============================] - 1s 175ms/step - loss: 0.0058 - mae: 0.0820 - val_loss: 0.0028 - val_mae: 0.0617\n",
      "Epoch 28/150\n",
      "5/5 [==============================] - ETA: 0s - loss: 0.0056 - mae: 0.0813\n",
      "Epoch 28: val_loss did not improve from 0.00202\n",
      "5/5 [==============================] - 1s 183ms/step - loss: 0.0056 - mae: 0.0813 - val_loss: 0.0024 - val_mae: 0.0568\n",
      "Epoch 29/150\n",
      "5/5 [==============================] - ETA: 0s - loss: 0.0050 - mae: 0.0770\n",
      "Epoch 29: val_loss did not improve from 0.00202\n",
      "Restoring model weights from the end of the best epoch: 24.\n",
      "5/5 [==============================] - 1s 181ms/step - loss: 0.0050 - mae: 0.0770 - val_loss: 0.0026 - val_mae: 0.0595\n",
      "Epoch 29: early stopping\n",
      "Prediction lookback (n_steps): 24\n",
      "Prediction horizon (n_horizon): 1\n",
      "Batch Size: 256\n",
      "Datasets:\n",
      "(TensorSpec(shape=(None, None, 7), dtype=tf.float64, name=None), TensorSpec(shape=(None, None, 1), dtype=tf.float64, name=None))\n",
      "WARNING:tensorflow:Layer lstm will not use cuDNN kernels since it doesn't meet the criteria. It will use a generic GPU kernel as fallback when running on GPU.\n"
     ]
    },
    {
     "name": "stderr",
     "output_type": "stream",
     "text": [
      "WARNING:tensorflow:Layer lstm will not use cuDNN kernels since it doesn't meet the criteria. It will use a generic GPU kernel as fallback when running on GPU.\n"
     ]
    },
    {
     "name": "stdout",
     "output_type": "stream",
     "text": [
      "WARNING:tensorflow:Layer lstm_1 will not use cuDNN kernels since it doesn't meet the criteria. It will use a generic GPU kernel as fallback when running on GPU.\n"
     ]
    },
    {
     "name": "stderr",
     "output_type": "stream",
     "text": [
      "WARNING:tensorflow:Layer lstm_1 will not use cuDNN kernels since it doesn't meet the criteria. It will use a generic GPU kernel as fallback when running on GPU.\n",
      "WARNING:absl:`lr` is deprecated, please use `learning_rate` instead, or use the legacy optimizer, e.g.,tf.keras.optimizers.legacy.Adam.\n"
     ]
    },
    {
     "name": "stdout",
     "output_type": "stream",
     "text": [
      "Epoch 1/150\n",
      "      4/Unknown - 3s 46ms/step - loss: 0.1719 - mae: 0.5416\n",
      "Epoch 1: val_loss improved from inf to 0.17480, saving model to saved_models/lstm_cnn\n"
     ]
    },
    {
     "name": "stderr",
     "output_type": "stream",
     "text": [
      "WARNING:absl:Found untraced functions such as _jit_compiled_convolution_op, _jit_compiled_convolution_op while saving (showing 2 of 2). These functions will not be directly callable after loading.\n"
     ]
    },
    {
     "name": "stdout",
     "output_type": "stream",
     "text": [
      "INFO:tensorflow:Assets written to: saved_models/lstm_cnn/assets\n"
     ]
    },
    {
     "name": "stderr",
     "output_type": "stream",
     "text": [
      "INFO:tensorflow:Assets written to: saved_models/lstm_cnn/assets\n"
     ]
    },
    {
     "name": "stdout",
     "output_type": "stream",
     "text": [
      "5/5 [==============================] - 5s 678ms/step - loss: 0.1659 - mae: 0.5299 - val_loss: 0.1748 - val_mae: 0.5634\n",
      "Epoch 2/150\n",
      "5/5 [==============================] - ETA: 0s - loss: 0.0853 - mae: 0.3547\n",
      "Epoch 2: val_loss improved from 0.17480 to 0.03259, saving model to saved_models/lstm_cnn\n"
     ]
    },
    {
     "name": "stderr",
     "output_type": "stream",
     "text": [
      "WARNING:absl:Found untraced functions such as _jit_compiled_convolution_op, _jit_compiled_convolution_op while saving (showing 2 of 2). These functions will not be directly callable after loading.\n"
     ]
    },
    {
     "name": "stdout",
     "output_type": "stream",
     "text": [
      "INFO:tensorflow:Assets written to: saved_models/lstm_cnn/assets\n"
     ]
    },
    {
     "name": "stderr",
     "output_type": "stream",
     "text": [
      "INFO:tensorflow:Assets written to: saved_models/lstm_cnn/assets\n"
     ]
    },
    {
     "name": "stdout",
     "output_type": "stream",
     "text": [
      "5/5 [==============================] - 3s 667ms/step - loss: 0.0853 - mae: 0.3547 - val_loss: 0.0326 - val_mae: 0.2265\n",
      "Epoch 3/150\n",
      "5/5 [==============================] - ETA: 0s - loss: 0.0445 - mae: 0.2405\n",
      "Epoch 3: val_loss improved from 0.03259 to 0.01852, saving model to saved_models/lstm_cnn\n"
     ]
    },
    {
     "name": "stderr",
     "output_type": "stream",
     "text": [
      "WARNING:absl:Found untraced functions such as _jit_compiled_convolution_op, _jit_compiled_convolution_op while saving (showing 2 of 2). These functions will not be directly callable after loading.\n"
     ]
    },
    {
     "name": "stdout",
     "output_type": "stream",
     "text": [
      "INFO:tensorflow:Assets written to: saved_models/lstm_cnn/assets\n"
     ]
    },
    {
     "name": "stderr",
     "output_type": "stream",
     "text": [
      "INFO:tensorflow:Assets written to: saved_models/lstm_cnn/assets\n"
     ]
    },
    {
     "name": "stdout",
     "output_type": "stream",
     "text": [
      "5/5 [==============================] - 3s 646ms/step - loss: 0.0445 - mae: 0.2405 - val_loss: 0.0185 - val_mae: 0.1574\n",
      "Epoch 4/150\n",
      "5/5 [==============================] - ETA: 0s - loss: 0.0287 - mae: 0.1988\n",
      "Epoch 4: val_loss did not improve from 0.01852\n",
      "5/5 [==============================] - 0s 58ms/step - loss: 0.0287 - mae: 0.1988 - val_loss: 0.0368 - val_mae: 0.2427\n",
      "Epoch 5/150\n",
      "5/5 [==============================] - ETA: 0s - loss: 0.0278 - mae: 0.2011\n",
      "Epoch 5: val_loss did not improve from 0.01852\n",
      "5/5 [==============================] - 0s 51ms/step - loss: 0.0278 - mae: 0.2011 - val_loss: 0.0277 - val_mae: 0.2109\n",
      "Epoch 6/150\n",
      "5/5 [==============================] - ETA: 0s - loss: 0.0221 - mae: 0.1760\n",
      "Epoch 6: val_loss improved from 0.01852 to 0.01220, saving model to saved_models/lstm_cnn\n"
     ]
    },
    {
     "name": "stderr",
     "output_type": "stream",
     "text": [
      "WARNING:absl:Found untraced functions such as _jit_compiled_convolution_op, _jit_compiled_convolution_op while saving (showing 2 of 2). These functions will not be directly callable after loading.\n"
     ]
    },
    {
     "name": "stdout",
     "output_type": "stream",
     "text": [
      "INFO:tensorflow:Assets written to: saved_models/lstm_cnn/assets\n"
     ]
    },
    {
     "name": "stderr",
     "output_type": "stream",
     "text": [
      "INFO:tensorflow:Assets written to: saved_models/lstm_cnn/assets\n"
     ]
    },
    {
     "name": "stdout",
     "output_type": "stream",
     "text": [
      "5/5 [==============================] - 3s 599ms/step - loss: 0.0221 - mae: 0.1760 - val_loss: 0.0122 - val_mae: 0.1333\n",
      "Epoch 7/150\n",
      "5/5 [==============================] - ETA: 0s - loss: 0.0182 - mae: 0.1543\n",
      "Epoch 7: val_loss did not improve from 0.01220\n",
      "5/5 [==============================] - 0s 57ms/step - loss: 0.0182 - mae: 0.1543 - val_loss: 0.0126 - val_mae: 0.1425\n",
      "Epoch 8/150\n",
      "5/5 [==============================] - ETA: 0s - loss: 0.0145 - mae: 0.1420\n",
      "Epoch 8: val_loss did not improve from 0.01220\n",
      "5/5 [==============================] - 0s 52ms/step - loss: 0.0145 - mae: 0.1420 - val_loss: 0.0155 - val_mae: 0.1576\n",
      "Epoch 9/150\n",
      "5/5 [==============================] - ETA: 0s - loss: 0.0098 - mae: 0.1141\n",
      "Epoch 9: val_loss improved from 0.01220 to 0.00431, saving model to saved_models/lstm_cnn\n"
     ]
    },
    {
     "name": "stderr",
     "output_type": "stream",
     "text": [
      "WARNING:absl:Found untraced functions such as _jit_compiled_convolution_op, _jit_compiled_convolution_op while saving (showing 2 of 2). These functions will not be directly callable after loading.\n"
     ]
    },
    {
     "name": "stdout",
     "output_type": "stream",
     "text": [
      "INFO:tensorflow:Assets written to: saved_models/lstm_cnn/assets\n"
     ]
    },
    {
     "name": "stderr",
     "output_type": "stream",
     "text": [
      "INFO:tensorflow:Assets written to: saved_models/lstm_cnn/assets\n"
     ]
    },
    {
     "name": "stdout",
     "output_type": "stream",
     "text": [
      "5/5 [==============================] - 3s 672ms/step - loss: 0.0098 - mae: 0.1141 - val_loss: 0.0043 - val_mae: 0.0777\n",
      "Epoch 10/150\n",
      "5/5 [==============================] - ETA: 0s - loss: 0.0086 - mae: 0.1034\n",
      "Epoch 10: val_loss did not improve from 0.00431\n",
      "5/5 [==============================] - 0s 60ms/step - loss: 0.0086 - mae: 0.1034 - val_loss: 0.0086 - val_mae: 0.1088\n",
      "Epoch 11/150\n",
      "5/5 [==============================] - ETA: 0s - loss: 0.0076 - mae: 0.1001\n",
      "Epoch 11: val_loss improved from 0.00431 to 0.00334, saving model to saved_models/lstm_cnn\n"
     ]
    },
    {
     "name": "stderr",
     "output_type": "stream",
     "text": [
      "WARNING:absl:Found untraced functions such as _jit_compiled_convolution_op, _jit_compiled_convolution_op while saving (showing 2 of 2). These functions will not be directly callable after loading.\n"
     ]
    },
    {
     "name": "stdout",
     "output_type": "stream",
     "text": [
      "INFO:tensorflow:Assets written to: saved_models/lstm_cnn/assets\n"
     ]
    },
    {
     "name": "stderr",
     "output_type": "stream",
     "text": [
      "INFO:tensorflow:Assets written to: saved_models/lstm_cnn/assets\n"
     ]
    },
    {
     "name": "stdout",
     "output_type": "stream",
     "text": [
      "5/5 [==============================] - 3s 603ms/step - loss: 0.0076 - mae: 0.1001 - val_loss: 0.0033 - val_mae: 0.0653\n",
      "Epoch 12/150\n",
      "5/5 [==============================] - ETA: 0s - loss: 0.0070 - mae: 0.0930\n",
      "Epoch 12: val_loss did not improve from 0.00334\n",
      "5/5 [==============================] - 0s 58ms/step - loss: 0.0070 - mae: 0.0930 - val_loss: 0.0048 - val_mae: 0.0802\n",
      "Epoch 13/150\n",
      "5/5 [==============================] - ETA: 0s - loss: 0.0067 - mae: 0.0908\n",
      "Epoch 13: val_loss improved from 0.00334 to 0.00267, saving model to saved_models/lstm_cnn\n"
     ]
    },
    {
     "name": "stderr",
     "output_type": "stream",
     "text": [
      "WARNING:absl:Found untraced functions such as _jit_compiled_convolution_op, _jit_compiled_convolution_op while saving (showing 2 of 2). These functions will not be directly callable after loading.\n"
     ]
    },
    {
     "name": "stdout",
     "output_type": "stream",
     "text": [
      "INFO:tensorflow:Assets written to: saved_models/lstm_cnn/assets\n"
     ]
    },
    {
     "name": "stderr",
     "output_type": "stream",
     "text": [
      "INFO:tensorflow:Assets written to: saved_models/lstm_cnn/assets\n"
     ]
    },
    {
     "name": "stdout",
     "output_type": "stream",
     "text": [
      "5/5 [==============================] - 3s 675ms/step - loss: 0.0067 - mae: 0.0908 - val_loss: 0.0027 - val_mae: 0.0595\n",
      "Epoch 14/150\n",
      "5/5 [==============================] - ETA: 0s - loss: 0.0061 - mae: 0.0871\n",
      "Epoch 14: val_loss did not improve from 0.00267\n",
      "5/5 [==============================] - 0s 58ms/step - loss: 0.0061 - mae: 0.0871 - val_loss: 0.0030 - val_mae: 0.0640\n",
      "Epoch 15/150\n",
      "5/5 [==============================] - ETA: 0s - loss: 0.0062 - mae: 0.0869\n",
      "Epoch 15: val_loss improved from 0.00267 to 0.00240, saving model to saved_models/lstm_cnn\n"
     ]
    },
    {
     "name": "stderr",
     "output_type": "stream",
     "text": [
      "WARNING:absl:Found untraced functions such as _jit_compiled_convolution_op, _jit_compiled_convolution_op while saving (showing 2 of 2). These functions will not be directly callable after loading.\n"
     ]
    },
    {
     "name": "stdout",
     "output_type": "stream",
     "text": [
      "INFO:tensorflow:Assets written to: saved_models/lstm_cnn/assets\n"
     ]
    },
    {
     "name": "stderr",
     "output_type": "stream",
     "text": [
      "INFO:tensorflow:Assets written to: saved_models/lstm_cnn/assets\n"
     ]
    },
    {
     "name": "stdout",
     "output_type": "stream",
     "text": [
      "5/5 [==============================] - 3s 602ms/step - loss: 0.0062 - mae: 0.0869 - val_loss: 0.0024 - val_mae: 0.0574\n",
      "Epoch 16/150\n",
      "5/5 [==============================] - ETA: 0s - loss: 0.0053 - mae: 0.0794\n",
      "Epoch 16: val_loss did not improve from 0.00240\n",
      "5/5 [==============================] - 0s 61ms/step - loss: 0.0053 - mae: 0.0794 - val_loss: 0.0036 - val_mae: 0.0713\n",
      "Epoch 17/150\n",
      "5/5 [==============================] - ETA: 0s - loss: 0.0052 - mae: 0.0795\n",
      "Epoch 17: val_loss improved from 0.00240 to 0.00223, saving model to saved_models/lstm_cnn\n"
     ]
    },
    {
     "name": "stderr",
     "output_type": "stream",
     "text": [
      "WARNING:absl:Found untraced functions such as _jit_compiled_convolution_op, _jit_compiled_convolution_op while saving (showing 2 of 2). These functions will not be directly callable after loading.\n"
     ]
    },
    {
     "name": "stdout",
     "output_type": "stream",
     "text": [
      "INFO:tensorflow:Assets written to: saved_models/lstm_cnn/assets\n"
     ]
    },
    {
     "name": "stderr",
     "output_type": "stream",
     "text": [
      "INFO:tensorflow:Assets written to: saved_models/lstm_cnn/assets\n"
     ]
    },
    {
     "name": "stdout",
     "output_type": "stream",
     "text": [
      "5/5 [==============================] - 3s 665ms/step - loss: 0.0052 - mae: 0.0795 - val_loss: 0.0022 - val_mae: 0.0539\n",
      "Epoch 18/150\n",
      "5/5 [==============================] - ETA: 0s - loss: 0.0051 - mae: 0.0790\n",
      "Epoch 18: val_loss did not improve from 0.00223\n",
      "5/5 [==============================] - 0s 59ms/step - loss: 0.0051 - mae: 0.0790 - val_loss: 0.0041 - val_mae: 0.0768\n",
      "Epoch 19/150\n",
      "5/5 [==============================] - ETA: 0s - loss: 0.0051 - mae: 0.0799\n",
      "Epoch 19: val_loss did not improve from 0.00223\n",
      "5/5 [==============================] - 0s 58ms/step - loss: 0.0051 - mae: 0.0799 - val_loss: 0.0026 - val_mae: 0.0600\n",
      "Epoch 20/150\n",
      "5/5 [==============================] - ETA: 0s - loss: 0.0051 - mae: 0.0791\n",
      "Epoch 20: val_loss did not improve from 0.00223\n",
      "5/5 [==============================] - 0s 55ms/step - loss: 0.0051 - mae: 0.0791 - val_loss: 0.0022 - val_mae: 0.0538\n",
      "Epoch 21/150\n",
      "5/5 [==============================] - ETA: 0s - loss: 0.0052 - mae: 0.0793\n",
      "Epoch 21: val_loss did not improve from 0.00223\n",
      "5/5 [==============================] - 0s 54ms/step - loss: 0.0052 - mae: 0.0793 - val_loss: 0.0034 - val_mae: 0.0694\n",
      "Epoch 22/150\n",
      "5/5 [==============================] - ETA: 0s - loss: 0.0048 - mae: 0.0763\n",
      "Epoch 22: val_loss did not improve from 0.00223\n",
      "Restoring model weights from the end of the best epoch: 17.\n",
      "5/5 [==============================] - 0s 60ms/step - loss: 0.0048 - mae: 0.0763 - val_loss: 0.0027 - val_mae: 0.0610\n",
      "Epoch 22: early stopping\n",
      "Prediction lookback (n_steps): 24\n",
      "Prediction horizon (n_horizon): 1\n",
      "Batch Size: 256\n",
      "Datasets:\n",
      "(TensorSpec(shape=(None, None, 7), dtype=tf.float64, name=None), TensorSpec(shape=(None, None, 1), dtype=tf.float64, name=None))\n",
      "WARNING:tensorflow:Layer lstm will not use cuDNN kernels since it doesn't meet the criteria. It will use a generic GPU kernel as fallback when running on GPU.\n"
     ]
    },
    {
     "name": "stderr",
     "output_type": "stream",
     "text": [
      "WARNING:tensorflow:Layer lstm will not use cuDNN kernels since it doesn't meet the criteria. It will use a generic GPU kernel as fallback when running on GPU.\n"
     ]
    },
    {
     "name": "stdout",
     "output_type": "stream",
     "text": [
      "WARNING:tensorflow:Layer lstm_1 will not use cuDNN kernels since it doesn't meet the criteria. It will use a generic GPU kernel as fallback when running on GPU.\n"
     ]
    },
    {
     "name": "stderr",
     "output_type": "stream",
     "text": [
      "WARNING:tensorflow:Layer lstm_1 will not use cuDNN kernels since it doesn't meet the criteria. It will use a generic GPU kernel as fallback when running on GPU.\n",
      "WARNING:absl:`lr` is deprecated, please use `learning_rate` instead, or use the legacy optimizer, e.g.,tf.keras.optimizers.legacy.Adam.\n"
     ]
    },
    {
     "name": "stdout",
     "output_type": "stream",
     "text": [
      "Epoch 1/150\n",
      "      4/Unknown - 3s 45ms/step - loss: 0.4340 - mae: 0.8233\n",
      "Epoch 1: val_loss improved from inf to 0.16156, saving model to saved_models/lstm_skip\n"
     ]
    },
    {
     "name": "stderr",
     "output_type": "stream",
     "text": [
      "WARNING:absl:Found untraced functions such as _jit_compiled_convolution_op, _jit_compiled_convolution_op while saving (showing 2 of 2). These functions will not be directly callable after loading.\n"
     ]
    },
    {
     "name": "stdout",
     "output_type": "stream",
     "text": [
      "INFO:tensorflow:Assets written to: saved_models/lstm_skip/assets\n"
     ]
    },
    {
     "name": "stderr",
     "output_type": "stream",
     "text": [
      "INFO:tensorflow:Assets written to: saved_models/lstm_skip/assets\n"
     ]
    },
    {
     "name": "stdout",
     "output_type": "stream",
     "text": [
      "5/5 [==============================] - 6s 783ms/step - loss: 0.4087 - mae: 0.7891 - val_loss: 0.1616 - val_mae: 0.4713\n",
      "Epoch 2/150\n",
      "4/5 [=======================>......] - ETA: 0s - loss: 0.2545 - mae: 0.5831\n",
      "Epoch 2: val_loss improved from 0.16156 to 0.05541, saving model to saved_models/lstm_skip\n"
     ]
    },
    {
     "name": "stderr",
     "output_type": "stream",
     "text": [
      "WARNING:absl:Found untraced functions such as _jit_compiled_convolution_op, _jit_compiled_convolution_op while saving (showing 2 of 2). These functions will not be directly callable after loading.\n"
     ]
    },
    {
     "name": "stdout",
     "output_type": "stream",
     "text": [
      "INFO:tensorflow:Assets written to: saved_models/lstm_skip/assets\n"
     ]
    },
    {
     "name": "stderr",
     "output_type": "stream",
     "text": [
      "INFO:tensorflow:Assets written to: saved_models/lstm_skip/assets\n"
     ]
    },
    {
     "name": "stdout",
     "output_type": "stream",
     "text": [
      "5/5 [==============================] - 3s 650ms/step - loss: 0.2515 - mae: 0.5784 - val_loss: 0.0554 - val_mae: 0.2649\n",
      "Epoch 3/150\n",
      "5/5 [==============================] - ETA: 0s - loss: 0.1183 - mae: 0.3845\n",
      "Epoch 3: val_loss did not improve from 0.05541\n",
      "5/5 [==============================] - 0s 57ms/step - loss: 0.1183 - mae: 0.3845 - val_loss: 0.1476 - val_mae: 0.5024\n",
      "Epoch 4/150\n",
      "5/5 [==============================] - ETA: 0s - loss: 0.1248 - mae: 0.4164\n",
      "Epoch 4: val_loss did not improve from 0.05541\n",
      "5/5 [==============================] - 0s 58ms/step - loss: 0.1248 - mae: 0.4164 - val_loss: 0.0921 - val_mae: 0.3923\n",
      "Epoch 5/150\n",
      "5/5 [==============================] - ETA: 0s - loss: 0.0760 - mae: 0.3181\n",
      "Epoch 5: val_loss improved from 0.05541 to 0.01578, saving model to saved_models/lstm_skip\n"
     ]
    },
    {
     "name": "stderr",
     "output_type": "stream",
     "text": [
      "WARNING:absl:Found untraced functions such as _jit_compiled_convolution_op, _jit_compiled_convolution_op while saving (showing 2 of 2). These functions will not be directly callable after loading.\n"
     ]
    },
    {
     "name": "stdout",
     "output_type": "stream",
     "text": [
      "INFO:tensorflow:Assets written to: saved_models/lstm_skip/assets\n"
     ]
    },
    {
     "name": "stderr",
     "output_type": "stream",
     "text": [
      "INFO:tensorflow:Assets written to: saved_models/lstm_skip/assets\n"
     ]
    },
    {
     "name": "stdout",
     "output_type": "stream",
     "text": [
      "5/5 [==============================] - 3s 705ms/step - loss: 0.0760 - mae: 0.3181 - val_loss: 0.0158 - val_mae: 0.1388\n",
      "Epoch 6/150\n",
      "5/5 [==============================] - ETA: 0s - loss: 0.0654 - mae: 0.2837\n",
      "Epoch 6: val_loss improved from 0.01578 to 0.01544, saving model to saved_models/lstm_skip\n"
     ]
    },
    {
     "name": "stderr",
     "output_type": "stream",
     "text": [
      "WARNING:absl:Found untraced functions such as _jit_compiled_convolution_op, _jit_compiled_convolution_op while saving (showing 2 of 2). These functions will not be directly callable after loading.\n"
     ]
    },
    {
     "name": "stdout",
     "output_type": "stream",
     "text": [
      "INFO:tensorflow:Assets written to: saved_models/lstm_skip/assets\n"
     ]
    },
    {
     "name": "stderr",
     "output_type": "stream",
     "text": [
      "INFO:tensorflow:Assets written to: saved_models/lstm_skip/assets\n"
     ]
    },
    {
     "name": "stdout",
     "output_type": "stream",
     "text": [
      "5/5 [==============================] - 3s 622ms/step - loss: 0.0654 - mae: 0.2837 - val_loss: 0.0154 - val_mae: 0.1363\n",
      "Epoch 7/150\n",
      "5/5 [==============================] - ETA: 0s - loss: 0.0491 - mae: 0.2446\n",
      "Epoch 7: val_loss improved from 0.01544 to 0.01523, saving model to saved_models/lstm_skip\n"
     ]
    },
    {
     "name": "stderr",
     "output_type": "stream",
     "text": [
      "WARNING:absl:Found untraced functions such as _jit_compiled_convolution_op, _jit_compiled_convolution_op while saving (showing 2 of 2). These functions will not be directly callable after loading.\n"
     ]
    },
    {
     "name": "stdout",
     "output_type": "stream",
     "text": [
      "INFO:tensorflow:Assets written to: saved_models/lstm_skip/assets\n"
     ]
    },
    {
     "name": "stderr",
     "output_type": "stream",
     "text": [
      "INFO:tensorflow:Assets written to: saved_models/lstm_skip/assets\n"
     ]
    },
    {
     "name": "stdout",
     "output_type": "stream",
     "text": [
      "5/5 [==============================] - 3s 699ms/step - loss: 0.0491 - mae: 0.2446 - val_loss: 0.0152 - val_mae: 0.1471\n",
      "Epoch 8/150\n",
      "5/5 [==============================] - ETA: 0s - loss: 0.0459 - mae: 0.2395\n",
      "Epoch 8: val_loss did not improve from 0.01523\n",
      "5/5 [==============================] - 0s 59ms/step - loss: 0.0459 - mae: 0.2395 - val_loss: 0.0229 - val_mae: 0.1858\n",
      "Epoch 9/150\n",
      "5/5 [==============================] - ETA: 0s - loss: 0.0412 - mae: 0.2286\n",
      "Epoch 9: val_loss improved from 0.01523 to 0.00855, saving model to saved_models/lstm_skip\n"
     ]
    },
    {
     "name": "stderr",
     "output_type": "stream",
     "text": [
      "WARNING:absl:Found untraced functions such as _jit_compiled_convolution_op, _jit_compiled_convolution_op while saving (showing 2 of 2). These functions will not be directly callable after loading.\n"
     ]
    },
    {
     "name": "stdout",
     "output_type": "stream",
     "text": [
      "INFO:tensorflow:Assets written to: saved_models/lstm_skip/assets\n"
     ]
    },
    {
     "name": "stderr",
     "output_type": "stream",
     "text": [
      "INFO:tensorflow:Assets written to: saved_models/lstm_skip/assets\n"
     ]
    },
    {
     "name": "stdout",
     "output_type": "stream",
     "text": [
      "5/5 [==============================] - 3s 623ms/step - loss: 0.0412 - mae: 0.2286 - val_loss: 0.0085 - val_mae: 0.1058\n",
      "Epoch 10/150\n",
      "5/5 [==============================] - ETA: 0s - loss: 0.0381 - mae: 0.2163\n",
      "Epoch 10: val_loss improved from 0.00855 to 0.00678, saving model to saved_models/lstm_skip\n"
     ]
    },
    {
     "name": "stderr",
     "output_type": "stream",
     "text": [
      "WARNING:absl:Found untraced functions such as _jit_compiled_convolution_op, _jit_compiled_convolution_op while saving (showing 2 of 2). These functions will not be directly callable after loading.\n"
     ]
    },
    {
     "name": "stdout",
     "output_type": "stream",
     "text": [
      "INFO:tensorflow:Assets written to: saved_models/lstm_skip/assets\n"
     ]
    },
    {
     "name": "stderr",
     "output_type": "stream",
     "text": [
      "INFO:tensorflow:Assets written to: saved_models/lstm_skip/assets\n"
     ]
    },
    {
     "name": "stdout",
     "output_type": "stream",
     "text": [
      "5/5 [==============================] - 3s 703ms/step - loss: 0.0381 - mae: 0.2163 - val_loss: 0.0068 - val_mae: 0.0922\n",
      "Epoch 11/150\n",
      "5/5 [==============================] - ETA: 0s - loss: 0.0308 - mae: 0.1976\n",
      "Epoch 11: val_loss did not improve from 0.00678\n",
      "5/5 [==============================] - 0s 59ms/step - loss: 0.0308 - mae: 0.1976 - val_loss: 0.0089 - val_mae: 0.1111\n",
      "Epoch 12/150\n",
      "5/5 [==============================] - ETA: 0s - loss: 0.0305 - mae: 0.1963\n",
      "Epoch 12: val_loss did not improve from 0.00678\n",
      "5/5 [==============================] - 0s 57ms/step - loss: 0.0305 - mae: 0.1963 - val_loss: 0.0151 - val_mae: 0.1482\n",
      "Epoch 13/150\n",
      "5/5 [==============================] - ETA: 0s - loss: 0.0285 - mae: 0.1906\n",
      "Epoch 13: val_loss did not improve from 0.00678\n",
      "5/5 [==============================] - 0s 53ms/step - loss: 0.0285 - mae: 0.1906 - val_loss: 0.0142 - val_mae: 0.1441\n",
      "Epoch 14/150\n",
      "5/5 [==============================] - ETA: 0s - loss: 0.0280 - mae: 0.1888\n",
      "Epoch 14: val_loss did not improve from 0.00678\n",
      "5/5 [==============================] - 0s 54ms/step - loss: 0.0280 - mae: 0.1888 - val_loss: 0.0086 - val_mae: 0.1128\n",
      "Epoch 15/150\n",
      "5/5 [==============================] - ETA: 0s - loss: 0.0219 - mae: 0.1657\n",
      "Epoch 15: val_loss did not improve from 0.00678\n",
      "Restoring model weights from the end of the best epoch: 10.\n",
      "5/5 [==============================] - 0s 62ms/step - loss: 0.0219 - mae: 0.1657 - val_loss: 0.0081 - val_mae: 0.1093\n",
      "Epoch 15: early stopping\n"
     ]
    },
    {
     "data": {
      "text/plain": [
       "<PrefetchDataset element_spec=(TensorSpec(shape=(None, None, 7), dtype=tf.float64, name=None), TensorSpec(shape=(None, None, 1), dtype=tf.float64, name=None))>"
      ]
     },
     "execution_count": 91,
     "metadata": {},
     "output_type": "execute_result"
    }
   ],
   "source": [
    "model_configs=dict()\n",
    "run_model(\"dnn\", dnn_model, model_configs, epochs=150)\n",
    "run_model(\"cnn\", cnn_model, model_configs, epochs=150)\n",
    "run_model(\"lstm\", lstm_model, model_configs, epochs=150)\n",
    "run_model(\"lstm_cnn\", lstm_cnn_model, model_configs, epochs=150)\n",
    "run_model(\"lstm_skip\", lstm_cnn_skip_model, model_configs, epochs=150)"
   ]
  },
  {
   "cell_type": "code",
   "execution_count": 92,
   "id": "6bbd9139",
   "metadata": {},
   "outputs": [
    {
     "name": "stdout",
     "output_type": "stream",
     "text": [
      "Loss Curves\n"
     ]
    },
    {
     "data": {
      "image/png": "[encoded data removed]",
      "text/plain": [
       "<Figure size 2500x500 with 5 Axes>"
      ]
     },
     "metadata": {},
     "output_type": "display_data"
    }
   ],
   "source": [
    "legend = list()\n",
    "\n",
    "fig, axs = plt.subplots(1, 5, figsize=(25,5))\n",
    "\n",
    "def plot_graphs(metric, val, ax, upper):\n",
    "    ax.plot(val['history'].history[metric])\n",
    "    ax.plot(val['history'].history[f'val_{metric}'])\n",
    "    ax.set_title(key)\n",
    "    ax.legend([metric, f\"val_{metric}\"])\n",
    "    ax.set_xlabel('epochs')\n",
    "    ax.set_ylabel(metric)\n",
    "    ax.set_ylim([0, upper])\n",
    "    \n",
    "for (key, val), ax in zip(model_configs.items(), axs.flatten()):\n",
    "    plot_graphs('loss', val, ax, 0.2)\n",
    "print(\"Loss Curves\")"
   ]
  },
  {
   "cell_type": "code",
   "execution_count": 93,
   "id": "97288954",
   "metadata": {},
   "outputs": [
    {
     "name": "stdout",
     "output_type": "stream",
     "text": [
      "MAE Curves\n"
     ]
    },
    {
     "data": {
      "image/png": "[encoded data removed]",
      "text/plain": [
       "<Figure size 2500x500 with 5 Axes>"
      ]
     },
     "metadata": {},
     "output_type": "display_data"
    }
   ],
   "source": [
    "print(\"MAE Curves\")\n",
    "fig, axs = plt.subplots(1, 5, figsize=(25,5))\n",
    "for (key, val), ax in zip(model_configs.items(), axs.flatten()):\n",
    "    plot_graphs('mae', val, ax, 0.6)"
   ]
  },
  {
   "cell_type": "code",
   "execution_count": 95,
   "id": "3e604105",
   "metadata": {},
   "outputs": [
    {
     "name": "stdout",
     "output_type": "stream",
     "text": [
      "2/2 [==============================] - 0s 23ms/step - loss: 0.0044 - mae: 0.0735\n",
      "2/2 [==============================] - 0s 23ms/step - loss: 0.0027 - mae: 0.0599\n",
      "2/2 [==============================] - 0s 41ms/step - loss: 0.0020 - mae: 0.0506\n",
      "2/2 [==============================] - 0s 25ms/step - loss: 0.0022 - mae: 0.0539\n",
      "2/2 [==============================] - 0s 24ms/step - loss: 0.0068 - mae: 0.0922\n",
      "                mae  error_mw\n",
      "dnn        0.073519  1.874398\n",
      "cnn        0.059919  1.527665\n",
      "lstm       0.050642  1.291144\n",
      "lstm_cnn   0.053929  1.374938\n",
      "lstm_skip  0.092243  2.351793\n"
     ]
    }
   ],
   "source": [
    "names = list()\n",
    "performance = list()\n",
    "\n",
    "for key, value in model_configs.items():\n",
    "    names.append(key)\n",
    "    mae = value['model'].evaluate(value['test_ds'])\n",
    "    performance.append(mae[1])\n",
    "    \n",
    "performance_df = pd.DataFrame(performance, index=names, columns=['mae'])\n",
    "performance_df['error_mw'] = performance_df['mae'] * df['meantemp'].mean()\n",
    "print(performance_df) "
   ]
  },
  {
   "cell_type": "code",
   "execution_count": 96,
   "id": "8d229de9",
   "metadata": {},
   "outputs": [
    {
     "name": "stdout",
     "output_type": "stream",
     "text": [
      "2/2 [==============================] - 0s 19ms/step\n",
      "2/2 [==============================] - 0s 19ms/step\n",
      "2/2 [==============================] - 0s 40ms/step\n",
      "2/2 [==============================] - 0s 32ms/step\n",
      "WARNING:tensorflow:5 out of the last 9 calls to <function Model.make_predict_function.<locals>.predict_function at 0x7fa0846c44c0> triggered tf.function retracing. Tracing is expensive and the excessive number of tracings could be due to (1) creating @tf.function repeatedly in a loop, (2) passing tensors with different shapes, (3) passing Python objects instead of tensors. For (1), please define your @tf.function outside of the loop. For (2), @tf.function has reduce_retracing=True option that can avoid unnecessary retracing. For (3), please refer to https://www.tensorflow.org/guide/function#controlling_retracing and https://www.tensorflow.org/api_docs/python/tf/function for  more details.\n"
     ]
    },
    {
     "name": "stderr",
     "output_type": "stream",
     "text": [
      "WARNING:tensorflow:5 out of the last 9 calls to <function Model.make_predict_function.<locals>.predict_function at 0x7fa0846c44c0> triggered tf.function retracing. Tracing is expensive and the excessive number of tracings could be due to (1) creating @tf.function repeatedly in a loop, (2) passing tensors with different shapes, (3) passing Python objects instead of tensors. For (1), please define your @tf.function outside of the loop. For (2), @tf.function has reduce_retracing=True option that can avoid unnecessary retracing. For (3), please refer to https://www.tensorflow.org/guide/function#controlling_retracing and https://www.tensorflow.org/api_docs/python/tf/function for  more details.\n"
     ]
    },
    {
     "name": "stdout",
     "output_type": "stream",
     "text": [
      "2/2 [==============================] - 0s 25ms/step\n",
      "First Two Weeks of Predictions\n"
     ]
    },
    {
     "data": {
      "image/png": "[encoded data removed]",
      "text/plain": [
       "<Figure size 1800x1000 with 5 Axes>"
      ]
     },
     "metadata": {},
     "output_type": "display_data"
    }
   ],
   "source": [
    "fig, axs = plt.subplots(5, 1, figsize=(18, 10))\n",
    "days = 14\n",
    "\n",
    "vline = np.linspace(0, days*24, days+1)\n",
    "\n",
    "for (key, val), ax in zip(model_configs.items(), axs):\n",
    "\n",
    "    test = val['test_ds']\n",
    "    preds = val['model'].predict(test)\n",
    "\n",
    "    xbatch, ybatch = iter(test).get_next()\n",
    "\n",
    "    ax.plot(ybatch.numpy()[:days].reshape(-1))\n",
    "    ax.plot(preds[:days].reshape(-1))\n",
    "    ax.set_title(key)\n",
    "    ax.vlines(vline, ymin=0, ymax=1, linestyle='dotted', transform = ax.get_xaxis_transform())\n",
    "    ax.legend([\"Actual\", \"Predicted\"])\n",
    "\n",
    "plt.xlabel(\"Hours Cumulative\")\n",
    "print('First Two Weeks of Predictions')"
   ]
  },
  {
   "cell_type": "code",
   "execution_count": null,
   "id": "7dc90565",
   "metadata": {},
   "outputs": [],
   "source": []
  }
 ],
 "metadata": {
  "kernelspec": {
   "display_name": "Python 3 (ipykernel)",
   "language": "python",
   "name": "python3"
  },
  "language_info": {
   "codemirror_mode": {
    "name": "ipython",
    "version": 3
   },
   "file_extension": ".py",
   "mimetype": "text/x-python",
   "name": "python",
   "nbconvert_exporter": "python",
   "pygments_lexer": "ipython3",
   "version": "3.9.13"
  }
 },
 "nbformat": 4,
 "nbformat_minor": 5
}
