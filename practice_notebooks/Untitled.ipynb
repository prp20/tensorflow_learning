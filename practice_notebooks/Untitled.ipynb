{
 "cells": [
  {
   "cell_type": "code",
   "execution_count": 2,
   "id": "3d100b7b",
   "metadata": {},
   "outputs": [
    {
     "name": "stderr",
     "output_type": "stream",
     "text": [
      "2023-02-22 23:06:27.384150: I tensorflow/core/platform/cpu_feature_guard.cc:193] This TensorFlow binary is optimized with oneAPI Deep Neural Network Library (oneDNN) to use the following CPU instructions in performance-critical operations:  AVX2 FMA\n",
      "To enable them in other operations, rebuild TensorFlow with the appropriate compiler flags.\n",
      "2023-02-22 23:06:30.191215: W tensorflow/compiler/xla/stream_executor/platform/default/dso_loader.cc:64] Could not load dynamic library 'libnvinfer.so.7'; dlerror: libnvinfer.so.7: cannot open shared object file: No such file or directory; LD_LIBRARY_PATH: :/home/prp/anaconda3/lib/\n",
      "2023-02-22 23:06:30.191297: W tensorflow/compiler/xla/stream_executor/platform/default/dso_loader.cc:64] Could not load dynamic library 'libnvinfer_plugin.so.7'; dlerror: libnvinfer_plugin.so.7: cannot open shared object file: No such file or directory; LD_LIBRARY_PATH: :/home/prp/anaconda3/lib/\n",
      "2023-02-22 23:06:30.191304: W tensorflow/compiler/tf2tensorrt/utils/py_utils.cc:38] TF-TRT Warning: Cannot dlopen some TensorRT libraries. If you would like to use Nvidia GPU with TensorRT, please make sure the missing libraries mentioned above are installed properly.\n"
     ]
    }
   ],
   "source": [
    "import os\n",
    "import pandas as pd\n",
    "import numpy as np\n",
    "import matplotlib.pyplot as plt\n",
    "import glob\n",
    "import shutil\n",
    "import json\n",
    "import keras\n",
    "import itertools\n",
    "from collections import Counter\n",
    "from keras.preprocessing.image import ImageDataGenerator\n",
    "from sklearn.model_selection import train_test_split\n",
    "from keras.applications import VGG19\n",
    "from keras.models import Model\n",
    "import tensorflow as tf\n",
    "from sklearn.metrics import confusion_matrix"
   ]
  },
  {
   "cell_type": "code",
   "execution_count": 3,
   "id": "9e7603ef",
   "metadata": {},
   "outputs": [],
   "source": [
    "main_dir = '/mnt/d/Learning/tensorflow_learning/datasets/cassava_leaf/'\n",
    "os.listdir(main_dir) \n",
    "train_img_path = '/mnt/d/Learning/tensorflow_learning/datasets/cassava_leaf/train_images'"
   ]
  },
  {
   "cell_type": "code",
   "execution_count": 4,
   "id": "e9d6efd6",
   "metadata": {},
   "outputs": [
    {
     "data": {
      "text/html": [
       "<div>\n",
       "<style scoped>\n",
       "    .dataframe tbody tr th:only-of-type {\n",
       "        vertical-align: middle;\n",
       "    }\n",
       "\n",
       "    .dataframe tbody tr th {\n",
       "        vertical-align: top;\n",
       "    }\n",
       "\n",
       "    .dataframe thead th {\n",
       "        text-align: right;\n",
       "    }\n",
       "</style>\n",
       "<table border=\"1\" class=\"dataframe\">\n",
       "  <thead>\n",
       "    <tr style=\"text-align: right;\">\n",
       "      <th></th>\n",
       "      <th>image_id</th>\n",
       "      <th>label</th>\n",
       "    </tr>\n",
       "  </thead>\n",
       "  <tbody>\n",
       "    <tr>\n",
       "      <th>0</th>\n",
       "      <td>1000015157.jpg</td>\n",
       "      <td>0</td>\n",
       "    </tr>\n",
       "    <tr>\n",
       "      <th>1</th>\n",
       "      <td>1000201771.jpg</td>\n",
       "      <td>3</td>\n",
       "    </tr>\n",
       "    <tr>\n",
       "      <th>2</th>\n",
       "      <td>100042118.jpg</td>\n",
       "      <td>1</td>\n",
       "    </tr>\n",
       "    <tr>\n",
       "      <th>3</th>\n",
       "      <td>1000723321.jpg</td>\n",
       "      <td>1</td>\n",
       "    </tr>\n",
       "    <tr>\n",
       "      <th>4</th>\n",
       "      <td>1000812911.jpg</td>\n",
       "      <td>3</td>\n",
       "    </tr>\n",
       "  </tbody>\n",
       "</table>\n",
       "</div>"
      ],
      "text/plain": [
       "         image_id  label\n",
       "0  1000015157.jpg      0\n",
       "1  1000201771.jpg      3\n",
       "2   100042118.jpg      1\n",
       "3  1000723321.jpg      1\n",
       "4  1000812911.jpg      3"
      ]
     },
     "execution_count": 4,
     "metadata": {},
     "output_type": "execute_result"
    }
   ],
   "source": [
    "data = pd.read_csv(main_dir+'/train.csv')\n",
    "data.head()"
   ]
  },
  {
   "cell_type": "code",
   "execution_count": 5,
   "id": "cf48c308",
   "metadata": {},
   "outputs": [],
   "source": [
    "js = open(main_dir + 'label_num_to_disease_map.json')\n",
    "real_classes = json.load(js)\n",
    "real_classes = {int(k):v for k,v in real_classes.items()}\n",
    "\n",
    "data['class_name'] = data.label.map(real_classes)"
   ]
  },
  {
   "cell_type": "code",
   "execution_count": 6,
   "id": "3b6a2f7c",
   "metadata": {},
   "outputs": [
    {
     "data": {
      "text/html": [
       "<div>\n",
       "<style scoped>\n",
       "    .dataframe tbody tr th:only-of-type {\n",
       "        vertical-align: middle;\n",
       "    }\n",
       "\n",
       "    .dataframe tbody tr th {\n",
       "        vertical-align: top;\n",
       "    }\n",
       "\n",
       "    .dataframe thead th {\n",
       "        text-align: right;\n",
       "    }\n",
       "</style>\n",
       "<table border=\"1\" class=\"dataframe\">\n",
       "  <thead>\n",
       "    <tr style=\"text-align: right;\">\n",
       "      <th></th>\n",
       "      <th>image_id</th>\n",
       "      <th>label</th>\n",
       "      <th>class_name</th>\n",
       "    </tr>\n",
       "  </thead>\n",
       "  <tbody>\n",
       "    <tr>\n",
       "      <th>0</th>\n",
       "      <td>1000015157.jpg</td>\n",
       "      <td>0</td>\n",
       "      <td>Cassava Bacterial Blight (CBB)</td>\n",
       "    </tr>\n",
       "    <tr>\n",
       "      <th>1</th>\n",
       "      <td>1000201771.jpg</td>\n",
       "      <td>3</td>\n",
       "      <td>Cassava Mosaic Disease (CMD)</td>\n",
       "    </tr>\n",
       "    <tr>\n",
       "      <th>2</th>\n",
       "      <td>100042118.jpg</td>\n",
       "      <td>1</td>\n",
       "      <td>Cassava Brown Streak Disease (CBSD)</td>\n",
       "    </tr>\n",
       "    <tr>\n",
       "      <th>3</th>\n",
       "      <td>1000723321.jpg</td>\n",
       "      <td>1</td>\n",
       "      <td>Cassava Brown Streak Disease (CBSD)</td>\n",
       "    </tr>\n",
       "    <tr>\n",
       "      <th>4</th>\n",
       "      <td>1000812911.jpg</td>\n",
       "      <td>3</td>\n",
       "      <td>Cassava Mosaic Disease (CMD)</td>\n",
       "    </tr>\n",
       "    <tr>\n",
       "      <th>...</th>\n",
       "      <td>...</td>\n",
       "      <td>...</td>\n",
       "      <td>...</td>\n",
       "    </tr>\n",
       "    <tr>\n",
       "      <th>21392</th>\n",
       "      <td>999068805.jpg</td>\n",
       "      <td>3</td>\n",
       "      <td>Cassava Mosaic Disease (CMD)</td>\n",
       "    </tr>\n",
       "    <tr>\n",
       "      <th>21393</th>\n",
       "      <td>999329392.jpg</td>\n",
       "      <td>3</td>\n",
       "      <td>Cassava Mosaic Disease (CMD)</td>\n",
       "    </tr>\n",
       "    <tr>\n",
       "      <th>21394</th>\n",
       "      <td>999474432.jpg</td>\n",
       "      <td>1</td>\n",
       "      <td>Cassava Brown Streak Disease (CBSD)</td>\n",
       "    </tr>\n",
       "    <tr>\n",
       "      <th>21395</th>\n",
       "      <td>999616605.jpg</td>\n",
       "      <td>4</td>\n",
       "      <td>Healthy</td>\n",
       "    </tr>\n",
       "    <tr>\n",
       "      <th>21396</th>\n",
       "      <td>999998473.jpg</td>\n",
       "      <td>4</td>\n",
       "      <td>Healthy</td>\n",
       "    </tr>\n",
       "  </tbody>\n",
       "</table>\n",
       "<p>21397 rows × 3 columns</p>\n",
       "</div>"
      ],
      "text/plain": [
       "             image_id  label                           class_name\n",
       "0      1000015157.jpg      0       Cassava Bacterial Blight (CBB)\n",
       "1      1000201771.jpg      3         Cassava Mosaic Disease (CMD)\n",
       "2       100042118.jpg      1  Cassava Brown Streak Disease (CBSD)\n",
       "3      1000723321.jpg      1  Cassava Brown Streak Disease (CBSD)\n",
       "4      1000812911.jpg      3         Cassava Mosaic Disease (CMD)\n",
       "...               ...    ...                                  ...\n",
       "21392   999068805.jpg      3         Cassava Mosaic Disease (CMD)\n",
       "21393   999329392.jpg      3         Cassava Mosaic Disease (CMD)\n",
       "21394   999474432.jpg      1  Cassava Brown Streak Disease (CBSD)\n",
       "21395   999616605.jpg      4                              Healthy\n",
       "21396   999998473.jpg      4                              Healthy\n",
       "\n",
       "[21397 rows x 3 columns]"
      ]
     },
     "execution_count": 6,
     "metadata": {},
     "output_type": "execute_result"
    }
   ],
   "source": [
    "data"
   ]
  },
  {
   "cell_type": "code",
   "execution_count": 7,
   "id": "4902561e",
   "metadata": {},
   "outputs": [],
   "source": [
    "train,val = train_test_split(data, test_size = 0.1, random_state = 42, stratify = data['class_name'])"
   ]
  },
  {
   "cell_type": "code",
   "execution_count": 36,
   "id": "bb802269",
   "metadata": {},
   "outputs": [
    {
     "name": "stdout",
     "output_type": "stream",
     "text": [
      "Found 19257 validated image filenames belonging to 5 classes.\n",
      "Found 2140 validated image filenames belonging to 5 classes.\n"
     ]
    }
   ],
   "source": [
    "img_row= 400\n",
    "img_col=400\n",
    "\n",
    "train_datagen = ImageDataGenerator(rescale = 1/255.0,\n",
    "                            fill_mode = 'nearest')\n",
    "\n",
    "validation_datagen = ImageDataGenerator(rescale=1.0/255)\n",
    "\n",
    "train_generator = train_datagen.flow_from_dataframe(train,\n",
    "                                                directory = train_img_path,\n",
    "                                                x_col = 'image_id',\n",
    "                                                y_col = 'class_name',\n",
    "                                                target_size = (img_row,img_col),\n",
    "                                                color_mode = 'rgb',\n",
    "                                                class_mode = 'categorical',\n",
    "                                                interpolation = 'nearest',\n",
    "                                                shuffle = True,\n",
    "                                                batch_size = 64, \n",
    "                                                )\n",
    "\n",
    "\n",
    "validation_generator = validation_datagen.flow_from_dataframe(val,\n",
    "                                                directory = train_img_path,\n",
    "                                                x_col = 'image_id',\n",
    "                                                y_col = 'class_name',\n",
    "                                                target_size = (img_row,img_col),\n",
    "                                                color_mode = 'rgb',\n",
    "                                                class_mode = 'categorical',\n",
    "                                                interpolation = 'nearest',\n",
    "                                                shuffle = True,\n",
    "                                                batch_size = 64, \n",
    "                                                )"
   ]
  },
  {
   "cell_type": "code",
   "execution_count": 37,
   "id": "8f8cf5a6",
   "metadata": {},
   "outputs": [],
   "source": [
    "from keras.applications import VGG19\n",
    "vgg19 = VGG19(weights = 'imagenet',\n",
    "             include_top = False,\n",
    "             input_shape = (img_row, img_col,3))"
   ]
  },
  {
   "cell_type": "code",
   "execution_count": 38,
   "id": "0890b105",
   "metadata": {},
   "outputs": [],
   "source": [
    "for layer in vgg19.layers:\n",
    "    layer.trainable = False"
   ]
  },
  {
   "cell_type": "code",
   "execution_count": 16,
   "id": "31f5a8ff",
   "metadata": {},
   "outputs": [],
   "source": [
    "def topmodel(bottom_model, num_classes):\n",
    "    top_model = bottom_model.output\n",
    "    top_model = tf.keras.layers.Flatten(name='flatten')(top_model)\n",
    "    top_model= tf.keras.layers.Dense(num_classes, activation='softmax')(top_model)\n",
    "    return top_model"
   ]
  },
  {
   "cell_type": "code",
   "execution_count": 39,
   "id": "38ee0257",
   "metadata": {},
   "outputs": [],
   "source": [
    "model_1 = tf.keras.models.Sequential([\n",
    "    tf.keras.layers.Conv2D(filters=10, kernel_size=3, activation='relu', input_shape=(400, 400, 3)),\n",
    "    tf.keras.layers.Conv2D(10, 3, activation='relu'),\n",
    "    tf.keras.layers.MaxPool2D(pool_size=2, padding='valid'),\n",
    "\n",
    "    tf.keras.layers.Conv2D(10, 3, activation='relu'),\n",
    "    tf.keras.layers.Conv2D(10, 3, activation='relu'),\n",
    "    tf.keras.layers.MaxPool2D(pool_size=2, padding='valid'),\n",
    "\n",
    "    tf.keras.layers.Flatten(),\n",
    "    tf.keras.layers.Dense(5, activation='softmax')\n",
    "], name= \"Small_vgg_model_1\")"
   ]
  },
  {
   "cell_type": "code",
   "execution_count": 40,
   "id": "371bbcaf",
   "metadata": {},
   "outputs": [],
   "source": [
    "model_1.compile(optimizer = 'adam',\n",
    "             loss = 'categorical_crossentropy',\n",
    "             metrics = ['accuracy'])"
   ]
  },
  {
   "cell_type": "code",
   "execution_count": 41,
   "id": "17f3410e",
   "metadata": {},
   "outputs": [],
   "source": [
    "earlystop = tf.keras.callbacks.EarlyStopping(monitor='val_loss', \n",
    "                                                 mode='min',\n",
    "                                                 patience=2,\n",
    "                                                 restore_best_weights=True,\n",
    "                                                 verbose=1)\n",
    "checkpoint = tf.keras.callbacks.ModelCheckpoint(\"Cassava_model.h5\",\n",
    "                                    save_best_only=True,\n",
    "                                    monitor = 'val_loss',\n",
    "                                    mode='min')"
   ]
  },
  {
   "cell_type": "code",
   "execution_count": 42,
   "id": "8d86a58b",
   "metadata": {},
   "outputs": [
    {
     "name": "stdout",
     "output_type": "stream",
     "text": [
      "Epoch 1/3\n",
      "301/301 [==============================] - 345s 1s/step - loss: 1.1216 - accuracy: 0.6146 - val_loss: 1.0711 - val_accuracy: 0.6243\n",
      "Epoch 2/3\n",
      "301/301 [==============================] - 324s 1s/step - loss: 0.9411 - accuracy: 0.6490 - val_loss: 1.0229 - val_accuracy: 0.6402\n",
      "Epoch 3/3\n",
      "301/301 [==============================] - 310s 1s/step - loss: 0.6562 - accuracy: 0.7576 - val_loss: 1.3389 - val_accuracy: 0.6262\n"
     ]
    }
   ],
   "source": [
    "history = model_1.fit(train_generator,\n",
    "                   epochs = 3,\n",
    "                   steps_per_epoch= 301,\n",
    "                   validation_data = validation_generator,\n",
    "                   validation_steps =34 ,\n",
    "                   callbacks = [earlystop,checkpoint],\n",
    "                   )"
   ]
  },
  {
   "cell_type": "code",
   "execution_count": null,
   "id": "6551e763",
   "metadata": {},
   "outputs": [],
   "source": []
  }
 ],
 "metadata": {
  "kernelspec": {
   "display_name": "Python 3 (ipykernel)",
   "language": "python",
   "name": "python3"
  },
  "language_info": {
   "codemirror_mode": {
    "name": "ipython",
    "version": 3
   },
   "file_extension": ".py",
   "mimetype": "text/x-python",
   "name": "python",
   "nbconvert_exporter": "python",
   "pygments_lexer": "ipython3",
   "version": "3.9.13"
  }
 },
 "nbformat": 4,
 "nbformat_minor": 5
}
