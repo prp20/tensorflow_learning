{
 "cells": [
  {
   "cell_type": "code",
   "execution_count": 1,
   "id": "d078c07d",
   "metadata": {},
   "outputs": [
    {
     "name": "stderr",
     "output_type": "stream",
     "text": [
      "2023-02-14 16:24:35.239920: I tensorflow/core/platform/cpu_feature_guard.cc:193] This TensorFlow binary is optimized with oneAPI Deep Neural Network Library (oneDNN) to use the following CPU instructions in performance-critical operations:  AVX2 FMA\n",
      "To enable them in other operations, rebuild TensorFlow with the appropriate compiler flags.\n",
      "2023-02-14 16:24:37.836177: W tensorflow/compiler/xla/stream_executor/platform/default/dso_loader.cc:64] Could not load dynamic library 'libnvinfer.so.7'; dlerror: libnvinfer.so.7: cannot open shared object file: No such file or directory; LD_LIBRARY_PATH: :/home/prp/anaconda3/lib/\n",
      "2023-02-14 16:24:37.836267: W tensorflow/compiler/xla/stream_executor/platform/default/dso_loader.cc:64] Could not load dynamic library 'libnvinfer_plugin.so.7'; dlerror: libnvinfer_plugin.so.7: cannot open shared object file: No such file or directory; LD_LIBRARY_PATH: :/home/prp/anaconda3/lib/\n",
      "2023-02-14 16:24:37.836274: W tensorflow/compiler/tf2tensorrt/utils/py_utils.cc:38] TF-TRT Warning: Cannot dlopen some TensorRT libraries. If you would like to use Nvidia GPU with TensorRT, please make sure the missing libraries mentioned above are installed properly.\n"
     ]
    }
   ],
   "source": [
    "import pandas as pd\n",
    "import matplotlib.pyplot as plt\n",
    "import numpy as np\n",
    "import tensorflow as tf"
   ]
  },
  {
   "cell_type": "code",
   "execution_count": 2,
   "id": "0639a766",
   "metadata": {},
   "outputs": [
    {
     "name": "stderr",
     "output_type": "stream",
     "text": [
      "2023-02-14 16:24:40.030896: I tensorflow/compiler/xla/stream_executor/cuda/cuda_gpu_executor.cc:967] could not open file to read NUMA node: /sys/bus/pci/devices/0000:01:00.0/numa_node\n",
      "Your kernel may have been built without NUMA support.\n",
      "2023-02-14 16:24:40.114725: I tensorflow/compiler/xla/stream_executor/cuda/cuda_gpu_executor.cc:967] could not open file to read NUMA node: /sys/bus/pci/devices/0000:01:00.0/numa_node\n",
      "Your kernel may have been built without NUMA support.\n",
      "2023-02-14 16:24:40.114775: I tensorflow/compiler/xla/stream_executor/cuda/cuda_gpu_executor.cc:967] could not open file to read NUMA node: /sys/bus/pci/devices/0000:01:00.0/numa_node\n",
      "Your kernel may have been built without NUMA support.\n"
     ]
    },
    {
     "data": {
      "text/plain": [
       "[PhysicalDevice(name='/physical_device:GPU:0', device_type='GPU')]"
      ]
     },
     "execution_count": 2,
     "metadata": {},
     "output_type": "execute_result"
    }
   ],
   "source": [
    "tf.config.list_physical_devices('GPU')"
   ]
  },
  {
   "cell_type": "code",
   "execution_count": 3,
   "id": "df610301",
   "metadata": {},
   "outputs": [
    {
     "data": {
      "text/html": [
       "<div>\n",
       "<style scoped>\n",
       "    .dataframe tbody tr th:only-of-type {\n",
       "        vertical-align: middle;\n",
       "    }\n",
       "\n",
       "    .dataframe tbody tr th {\n",
       "        vertical-align: top;\n",
       "    }\n",
       "\n",
       "    .dataframe thead th {\n",
       "        text-align: right;\n",
       "    }\n",
       "</style>\n",
       "<table border=\"1\" class=\"dataframe\">\n",
       "  <thead>\n",
       "    <tr style=\"text-align: right;\">\n",
       "      <th></th>\n",
       "      <th>name</th>\n",
       "      <th>diameter</th>\n",
       "      <th>weight</th>\n",
       "      <th>red</th>\n",
       "      <th>green</th>\n",
       "      <th>blue</th>\n",
       "    </tr>\n",
       "  </thead>\n",
       "  <tbody>\n",
       "    <tr>\n",
       "      <th>0</th>\n",
       "      <td>orange</td>\n",
       "      <td>2.96</td>\n",
       "      <td>86.76</td>\n",
       "      <td>172</td>\n",
       "      <td>85</td>\n",
       "      <td>2</td>\n",
       "    </tr>\n",
       "    <tr>\n",
       "      <th>1</th>\n",
       "      <td>orange</td>\n",
       "      <td>3.91</td>\n",
       "      <td>88.05</td>\n",
       "      <td>166</td>\n",
       "      <td>78</td>\n",
       "      <td>3</td>\n",
       "    </tr>\n",
       "    <tr>\n",
       "      <th>2</th>\n",
       "      <td>orange</td>\n",
       "      <td>4.42</td>\n",
       "      <td>95.17</td>\n",
       "      <td>156</td>\n",
       "      <td>81</td>\n",
       "      <td>2</td>\n",
       "    </tr>\n",
       "    <tr>\n",
       "      <th>3</th>\n",
       "      <td>orange</td>\n",
       "      <td>4.47</td>\n",
       "      <td>95.60</td>\n",
       "      <td>163</td>\n",
       "      <td>81</td>\n",
       "      <td>4</td>\n",
       "    </tr>\n",
       "    <tr>\n",
       "      <th>4</th>\n",
       "      <td>orange</td>\n",
       "      <td>4.48</td>\n",
       "      <td>95.76</td>\n",
       "      <td>161</td>\n",
       "      <td>72</td>\n",
       "      <td>9</td>\n",
       "    </tr>\n",
       "  </tbody>\n",
       "</table>\n",
       "</div>"
      ],
      "text/plain": [
       "     name  diameter  weight  red  green  blue\n",
       "0  orange      2.96   86.76  172     85     2\n",
       "1  orange      3.91   88.05  166     78     3\n",
       "2  orange      4.42   95.17  156     81     2\n",
       "3  orange      4.47   95.60  163     81     4\n",
       "4  orange      4.48   95.76  161     72     9"
      ]
     },
     "execution_count": 3,
     "metadata": {},
     "output_type": "execute_result"
    }
   ],
   "source": [
    "data = pd.read_csv(\"/mnt/c/Users/Admin/Downloads/citrus.csv\")\n",
    "data.head()"
   ]
  },
  {
   "cell_type": "code",
   "execution_count": 5,
   "id": "71a68253",
   "metadata": {},
   "outputs": [
    {
     "data": {
      "text/plain": [
       "orange        5000\n",
       "grapefruit    5000\n",
       "Name: name, dtype: int64"
      ]
     },
     "execution_count": 5,
     "metadata": {},
     "output_type": "execute_result"
    }
   ],
   "source": [
    "data.name.value_counts()"
   ]
  },
  {
   "cell_type": "code",
   "execution_count": 6,
   "id": "8f2b9b25",
   "metadata": {},
   "outputs": [
    {
     "data": {
      "text/plain": [
       "8000"
      ]
     },
     "execution_count": 6,
     "metadata": {},
     "output_type": "execute_result"
    }
   ],
   "source": [
    "train_size = int(len(data) * 0.8)\n",
    "train_size"
   ]
  },
  {
   "cell_type": "code",
   "execution_count": 7,
   "id": "cc930c76",
   "metadata": {},
   "outputs": [],
   "source": [
    "dataset = data.sample(frac = 1)"
   ]
  },
  {
   "cell_type": "code",
   "execution_count": 8,
   "id": "a041d84a",
   "metadata": {},
   "outputs": [
    {
     "data": {
      "text/html": [
       "<div>\n",
       "<style scoped>\n",
       "    .dataframe tbody tr th:only-of-type {\n",
       "        vertical-align: middle;\n",
       "    }\n",
       "\n",
       "    .dataframe tbody tr th {\n",
       "        vertical-align: top;\n",
       "    }\n",
       "\n",
       "    .dataframe thead th {\n",
       "        text-align: right;\n",
       "    }\n",
       "</style>\n",
       "<table border=\"1\" class=\"dataframe\">\n",
       "  <thead>\n",
       "    <tr style=\"text-align: right;\">\n",
       "      <th></th>\n",
       "      <th>name</th>\n",
       "      <th>diameter</th>\n",
       "      <th>weight</th>\n",
       "      <th>red</th>\n",
       "      <th>green</th>\n",
       "      <th>blue</th>\n",
       "    </tr>\n",
       "  </thead>\n",
       "  <tbody>\n",
       "    <tr>\n",
       "      <th>4220</th>\n",
       "      <td>orange</td>\n",
       "      <td>9.72</td>\n",
       "      <td>172.15</td>\n",
       "      <td>155</td>\n",
       "      <td>78</td>\n",
       "      <td>23</td>\n",
       "    </tr>\n",
       "    <tr>\n",
       "      <th>5078</th>\n",
       "      <td>grapefruit</td>\n",
       "      <td>8.93</td>\n",
       "      <td>155.54</td>\n",
       "      <td>154</td>\n",
       "      <td>66</td>\n",
       "      <td>15</td>\n",
       "    </tr>\n",
       "    <tr>\n",
       "      <th>5054</th>\n",
       "      <td>grapefruit</td>\n",
       "      <td>8.81</td>\n",
       "      <td>153.01</td>\n",
       "      <td>154</td>\n",
       "      <td>59</td>\n",
       "      <td>6</td>\n",
       "    </tr>\n",
       "    <tr>\n",
       "      <th>2690</th>\n",
       "      <td>orange</td>\n",
       "      <td>8.60</td>\n",
       "      <td>154.21</td>\n",
       "      <td>159</td>\n",
       "      <td>81</td>\n",
       "      <td>2</td>\n",
       "    </tr>\n",
       "    <tr>\n",
       "      <th>7173</th>\n",
       "      <td>grapefruit</td>\n",
       "      <td>11.25</td>\n",
       "      <td>194.39</td>\n",
       "      <td>143</td>\n",
       "      <td>66</td>\n",
       "      <td>8</td>\n",
       "    </tr>\n",
       "  </tbody>\n",
       "</table>\n",
       "</div>"
      ],
      "text/plain": [
       "            name  diameter  weight  red  green  blue\n",
       "4220      orange      9.72  172.15  155     78    23\n",
       "5078  grapefruit      8.93  155.54  154     66    15\n",
       "5054  grapefruit      8.81  153.01  154     59     6\n",
       "2690      orange      8.60  154.21  159     81     2\n",
       "7173  grapefruit     11.25  194.39  143     66     8"
      ]
     },
     "execution_count": 8,
     "metadata": {},
     "output_type": "execute_result"
    }
   ],
   "source": [
    "dataset.head()"
   ]
  },
  {
   "cell_type": "code",
   "execution_count": 24,
   "id": "bf79b88d",
   "metadata": {},
   "outputs": [],
   "source": [
    "from sklearn.model_selection import train_test_split\n",
    "labels = dataset['name']\n",
    "data = dataset.drop('name', axis=1)\n",
    "\n",
    "train_data, test_data, train_labels, test_labels = train_test_split(data, labels, test_size=0.2, shuffle=True)"
   ]
  },
  {
   "cell_type": "code",
   "execution_count": 25,
   "id": "e68b3f12",
   "metadata": {},
   "outputs": [
    {
     "data": {
      "text/plain": [
       "((8000, 5), (2000, 5), (8000,), (2000,))"
      ]
     },
     "execution_count": 25,
     "metadata": {},
     "output_type": "execute_result"
    }
   ],
   "source": [
    "train_data.shape, test_data.shape, train_labels.shape, test_labels.shape"
   ]
  },
  {
   "cell_type": "code",
   "execution_count": 12,
   "id": "8ddfa945",
   "metadata": {},
   "outputs": [],
   "source": [
    "from sklearn.preprocessing import OneHotEncoder"
   ]
  },
  {
   "cell_type": "code",
   "execution_count": 13,
   "id": "d34c11e9",
   "metadata": {},
   "outputs": [],
   "source": [
    "onc = OneHotEncoder(sparse=True, handle_unknown='error')"
   ]
  },
  {
   "cell_type": "code",
   "execution_count": 17,
   "id": "14e1b389",
   "metadata": {},
   "outputs": [
    {
     "data": {
      "text/plain": [
       "OneHotEncoder()"
      ]
     },
     "execution_count": 17,
     "metadata": {},
     "output_type": "execute_result"
    }
   ],
   "source": [
    "onc.fit(train_labels.to_numpy().reshape(-1, 1))"
   ]
  },
  {
   "cell_type": "code",
   "execution_count": 19,
   "id": "b1d2e3bd",
   "metadata": {},
   "outputs": [
    {
     "ename": "TypeError",
     "evalue": "transform() missing 1 required positional argument: 'func'",
     "output_type": "error",
     "traceback": [
      "\u001b[0;31m---------------------------------------------------------------------------\u001b[0m",
      "\u001b[0;31mTypeError\u001b[0m                                 Traceback (most recent call last)",
      "\u001b[0;32m/tmp/ipykernel_269/1335246819.py\u001b[0m in \u001b[0;36m<module>\u001b[0;34m\u001b[0m\n\u001b[0;32m----> 1\u001b[0;31m \u001b[0mtrain_labels\u001b[0m \u001b[0;34m=\u001b[0m \u001b[0mtrain_labels\u001b[0m\u001b[0;34m.\u001b[0m\u001b[0mtransform\u001b[0m\u001b[0;34m(\u001b[0m\u001b[0;34m)\u001b[0m\u001b[0;34m\u001b[0m\u001b[0;34m\u001b[0m\u001b[0m\n\u001b[0m",
      "\u001b[0;31mTypeError\u001b[0m: transform() missing 1 required positional argument: 'func'"
     ]
    }
   ],
   "source": []
  },
  {
   "cell_type": "code",
   "execution_count": 20,
   "id": "8619c230",
   "metadata": {},
   "outputs": [],
   "source": [
    "from sklearn.compose import make_column_transformer\n",
    "from sklearn.preprocessing import MinMaxScaler, OneHotEncoder"
   ]
  },
  {
   "cell_type": "code",
   "execution_count": 21,
   "id": "88998d28",
   "metadata": {},
   "outputs": [
    {
     "data": {
      "text/plain": [
       "ColumnTransformer(transformers=[('minmaxscaler', MinMaxScaler(),\n",
       "                                 ['diameter', 'weight', 'red', 'green',\n",
       "                                  'blue'])])"
      ]
     },
     "execution_count": 21,
     "metadata": {},
     "output_type": "execute_result"
    }
   ],
   "source": [
    "ct = make_column_transformer(\n",
    "    (MinMaxScaler(), [\"diameter\", \"weight\", \"red\", 'green', 'blue']), # get all values between 0 and 1\n",
    ")\n",
    "ct.fit(train_data)"
   ]
  },
  {
   "cell_type": "code",
   "execution_count": 22,
   "id": "50566bbf",
   "metadata": {},
   "outputs": [],
   "source": [
    "train_data_normalised = ct.transform(train_data)\n",
    "test_data_normalised = ct.transform(test_data)"
   ]
  },
  {
   "cell_type": "code",
   "execution_count": 23,
   "id": "3601f76f",
   "metadata": {},
   "outputs": [],
   "source": [
    "from sklearn.preprocessing import LabelEncoder"
   ]
  },
  {
   "cell_type": "code",
   "execution_count": 26,
   "id": "13867540",
   "metadata": {},
   "outputs": [
    {
     "data": {
      "text/plain": [
       "LabelEncoder()"
      ]
     },
     "execution_count": 26,
     "metadata": {},
     "output_type": "execute_result"
    }
   ],
   "source": [
    "le = LabelEncoder()\n",
    "le.fit(train_labels)"
   ]
  },
  {
   "cell_type": "code",
   "execution_count": 27,
   "id": "7284f6ca",
   "metadata": {},
   "outputs": [],
   "source": [
    "train_labels_encoded = le.transform(train_labels)\n",
    "test_labels_encoded = le.transform(test_labels)"
   ]
  },
  {
   "cell_type": "code",
   "execution_count": 28,
   "id": "a99c911b",
   "metadata": {},
   "outputs": [
    {
     "data": {
      "text/plain": [
       "array([0, 0, 0, ..., 0, 1, 0])"
      ]
     },
     "execution_count": 28,
     "metadata": {},
     "output_type": "execute_result"
    }
   ],
   "source": [
    "train_labels_encoded"
   ]
  },
  {
   "cell_type": "code",
   "execution_count": 29,
   "id": "ecdc1e5e",
   "metadata": {},
   "outputs": [
    {
     "data": {
      "text/plain": [
       "array([1, 0, 0, ..., 1, 0, 0])"
      ]
     },
     "execution_count": 29,
     "metadata": {},
     "output_type": "execute_result"
    }
   ],
   "source": [
    "test_labels_encoded"
   ]
  },
  {
   "cell_type": "code",
   "execution_count": 30,
   "id": "ac4f5674",
   "metadata": {},
   "outputs": [
    {
     "data": {
      "text/plain": [
       "((8000, 5), (2000, 5))"
      ]
     },
     "execution_count": 30,
     "metadata": {},
     "output_type": "execute_result"
    }
   ],
   "source": [
    "train_data_normalised.shape, test_data_normalised.shape"
   ]
  },
  {
   "cell_type": "code",
   "execution_count": 31,
   "id": "4a182771",
   "metadata": {},
   "outputs": [
    {
     "data": {
      "text/plain": [
       "array([[0.46404744, 0.42500715, 0.58108108, 0.41558442, 0.2826087 ],\n",
       "       [0.51297257, 0.4909299 , 0.64864865, 0.45454545, 0.04347826],\n",
       "       [0.2698295 , 0.21756795, 0.36486486, 0.57142857, 0.        ],\n",
       "       ...,\n",
       "       [0.41808747, 0.38592275, 0.51351351, 0.58441558, 0.        ],\n",
       "       [0.39659007, 0.36091559, 0.62162162, 0.32467532, 0.17391304],\n",
       "       [0.67828021, 0.68915594, 0.63513514, 0.45454545, 0.        ]])"
      ]
     },
     "execution_count": 31,
     "metadata": {},
     "output_type": "execute_result"
    }
   ],
   "source": [
    "test_data_normalised"
   ]
  },
  {
   "cell_type": "code",
   "execution_count": 33,
   "id": "16d5295e",
   "metadata": {},
   "outputs": [
    {
     "name": "stdout",
     "output_type": "stream",
     "text": [
      "Epoch 1/200\n"
     ]
    },
    {
     "name": "stderr",
     "output_type": "stream",
     "text": [
      "2023-02-14 16:55:14.090355: I tensorflow/compiler/xla/service/service.cc:173] XLA service 0x1dc141a0 initialized for platform CUDA (this does not guarantee that XLA will be used). Devices:\n",
      "2023-02-14 16:55:14.090399: I tensorflow/compiler/xla/service/service.cc:181]   StreamExecutor device (0): NVIDIA GeForce GTX 1660 Ti, Compute Capability 7.5\n",
      "2023-02-14 16:55:14.143521: I tensorflow/compiler/mlir/tensorflow/utils/dump_mlir_util.cc:268] disabling MLIR crash reproducer, set env var `MLIR_CRASH_REPRODUCER_DIRECTORY` to enable.\n",
      "2023-02-14 16:55:14.506157: I tensorflow/tsl/platform/default/subprocess.cc:304] Start cannot spawn child process: No such file or directory\n",
      "2023-02-14 16:55:14.623537: I tensorflow/compiler/jit/xla_compilation_cache.cc:477] Compiled cluster using XLA!  This line is logged at most once for the lifetime of the process.\n"
     ]
    },
    {
     "name": "stdout",
     "output_type": "stream",
     "text": [
      "250/250 [==============================] - 4s 5ms/step - loss: 0.6947 - accuracy: 0.5099 - val_loss: 0.6945 - val_accuracy: 0.4790\n",
      "Epoch 2/200\n",
      "250/250 [==============================] - 1s 3ms/step - loss: 0.6955 - accuracy: 0.5013 - val_loss: 0.6942 - val_accuracy: 0.4810\n",
      "Epoch 3/200\n",
      "250/250 [==============================] - 1s 3ms/step - loss: 0.6941 - accuracy: 0.5054 - val_loss: 0.6993 - val_accuracy: 0.4810\n",
      "Epoch 4/200\n",
      "250/250 [==============================] - 1s 3ms/step - loss: 0.6943 - accuracy: 0.4949 - val_loss: 0.6928 - val_accuracy: 0.5190\n",
      "Epoch 5/200\n",
      "250/250 [==============================] - 1s 4ms/step - loss: 0.6937 - accuracy: 0.5079 - val_loss: 0.6937 - val_accuracy: 0.4855\n",
      "Epoch 6/200\n",
      "250/250 [==============================] - 1s 3ms/step - loss: 0.6941 - accuracy: 0.4990 - val_loss: 0.6939 - val_accuracy: 0.5190\n",
      "Epoch 7/200\n",
      "250/250 [==============================] - 1s 4ms/step - loss: 0.6942 - accuracy: 0.4920 - val_loss: 0.6958 - val_accuracy: 0.4790\n",
      "Epoch 8/200\n",
      "250/250 [==============================] - 1s 3ms/step - loss: 0.6936 - accuracy: 0.5035 - val_loss: 0.6956 - val_accuracy: 0.4845\n",
      "Epoch 9/200\n",
      "250/250 [==============================] - 1s 3ms/step - loss: 0.6936 - accuracy: 0.5010 - val_loss: 0.6951 - val_accuracy: 0.4790\n",
      "Epoch 10/200\n",
      "250/250 [==============================] - 1s 3ms/step - loss: 0.6935 - accuracy: 0.5086 - val_loss: 0.6928 - val_accuracy: 0.5180\n",
      "Epoch 11/200\n",
      "250/250 [==============================] - 1s 4ms/step - loss: 0.6931 - accuracy: 0.5136 - val_loss: 0.6932 - val_accuracy: 0.5050\n",
      "Epoch 12/200\n",
      "250/250 [==============================] - 1s 3ms/step - loss: 0.6934 - accuracy: 0.5024 - val_loss: 0.6963 - val_accuracy: 0.4825\n",
      "Epoch 13/200\n",
      "250/250 [==============================] - 1s 4ms/step - loss: 0.6935 - accuracy: 0.4984 - val_loss: 0.6929 - val_accuracy: 0.5185\n",
      "Epoch 14/200\n",
      "250/250 [==============================] - 1s 3ms/step - loss: 0.6935 - accuracy: 0.4945 - val_loss: 0.6955 - val_accuracy: 0.4820\n",
      "Epoch 15/200\n",
      "250/250 [==============================] - 1s 3ms/step - loss: 0.6934 - accuracy: 0.4930 - val_loss: 0.6946 - val_accuracy: 0.4905\n",
      "Epoch 16/200\n",
      "250/250 [==============================] - 1s 3ms/step - loss: 0.6932 - accuracy: 0.5094 - val_loss: 0.6958 - val_accuracy: 0.4840\n",
      "Epoch 17/200\n",
      "250/250 [==============================] - 1s 4ms/step - loss: 0.6934 - accuracy: 0.5061 - val_loss: 0.6934 - val_accuracy: 0.4935\n",
      "Epoch 18/200\n",
      "250/250 [==============================] - 1s 4ms/step - loss: 0.6935 - accuracy: 0.5001 - val_loss: 0.6934 - val_accuracy: 0.5035\n",
      "Epoch 19/200\n",
      "250/250 [==============================] - 1s 4ms/step - loss: 0.6932 - accuracy: 0.5024 - val_loss: 0.6937 - val_accuracy: 0.4830\n",
      "Epoch 20/200\n",
      "250/250 [==============================] - 1s 4ms/step - loss: 0.6932 - accuracy: 0.5020 - val_loss: 0.6932 - val_accuracy: 0.5005\n",
      "Epoch 21/200\n",
      "250/250 [==============================] - 1s 4ms/step - loss: 0.6931 - accuracy: 0.5015 - val_loss: 0.6963 - val_accuracy: 0.4795\n",
      "Epoch 22/200\n",
      "250/250 [==============================] - 1s 3ms/step - loss: 0.6933 - accuracy: 0.5059 - val_loss: 0.6932 - val_accuracy: 0.5025\n",
      "Epoch 23/200\n",
      "250/250 [==============================] - 1s 4ms/step - loss: 0.6932 - accuracy: 0.5010 - val_loss: 0.6941 - val_accuracy: 0.4860\n",
      "Epoch 24/200\n",
      "250/250 [==============================] - 1s 4ms/step - loss: 0.6931 - accuracy: 0.5038 - val_loss: 0.6943 - val_accuracy: 0.4910\n",
      "Epoch 25/200\n",
      "250/250 [==============================] - 1s 4ms/step - loss: 0.6932 - accuracy: 0.5051 - val_loss: 0.6951 - val_accuracy: 0.4800\n",
      "Epoch 26/200\n",
      "250/250 [==============================] - 1s 3ms/step - loss: 0.6931 - accuracy: 0.5030 - val_loss: 0.6956 - val_accuracy: 0.4820\n",
      "Epoch 27/200\n",
      "250/250 [==============================] - 1s 3ms/step - loss: 0.6932 - accuracy: 0.5124 - val_loss: 0.6943 - val_accuracy: 0.4895\n",
      "Epoch 28/200\n",
      "250/250 [==============================] - 1s 3ms/step - loss: 0.6932 - accuracy: 0.5109 - val_loss: 0.6942 - val_accuracy: 0.4905\n",
      "Epoch 29/200\n",
      "250/250 [==============================] - 1s 4ms/step - loss: 0.6930 - accuracy: 0.5050 - val_loss: 0.6949 - val_accuracy: 0.4835\n",
      "Epoch 30/200\n",
      "250/250 [==============================] - 1s 3ms/step - loss: 0.6932 - accuracy: 0.5056 - val_loss: 0.6955 - val_accuracy: 0.4825\n",
      "Epoch 31/200\n",
      "250/250 [==============================] - 1s 3ms/step - loss: 0.6933 - accuracy: 0.5075 - val_loss: 0.6954 - val_accuracy: 0.4815\n",
      "Epoch 32/200\n",
      "250/250 [==============================] - 1s 3ms/step - loss: 0.6932 - accuracy: 0.5079 - val_loss: 0.6939 - val_accuracy: 0.4860\n",
      "Epoch 33/200\n",
      "250/250 [==============================] - 1s 4ms/step - loss: 0.6931 - accuracy: 0.5019 - val_loss: 0.6945 - val_accuracy: 0.4855\n",
      "Epoch 34/200\n",
      "250/250 [==============================] - 1s 4ms/step - loss: 0.6933 - accuracy: 0.5080 - val_loss: 0.6941 - val_accuracy: 0.4880\n",
      "Epoch 35/200\n",
      "250/250 [==============================] - 1s 3ms/step - loss: 0.6929 - accuracy: 0.5081 - val_loss: 0.6962 - val_accuracy: 0.4810\n",
      "Epoch 36/200\n",
      "250/250 [==============================] - 1s 3ms/step - loss: 0.6929 - accuracy: 0.5059 - val_loss: 0.6959 - val_accuracy: 0.4790\n",
      "Epoch 37/200\n",
      "250/250 [==============================] - 1s 4ms/step - loss: 0.6930 - accuracy: 0.5038 - val_loss: 0.6939 - val_accuracy: 0.4850\n",
      "Epoch 38/200\n",
      "250/250 [==============================] - 1s 3ms/step - loss: 0.6931 - accuracy: 0.5071 - val_loss: 0.6939 - val_accuracy: 0.4855\n",
      "Epoch 39/200\n",
      "250/250 [==============================] - 1s 3ms/step - loss: 0.6931 - accuracy: 0.5090 - val_loss: 0.6934 - val_accuracy: 0.4815\n",
      "Epoch 40/200\n",
      "250/250 [==============================] - 1s 4ms/step - loss: 0.6930 - accuracy: 0.4985 - val_loss: 0.6937 - val_accuracy: 0.4760\n",
      "Epoch 41/200\n",
      "250/250 [==============================] - 1s 4ms/step - loss: 0.6931 - accuracy: 0.5074 - val_loss: 0.6941 - val_accuracy: 0.4895\n",
      "Epoch 42/200\n",
      "250/250 [==============================] - 1s 4ms/step - loss: 0.6931 - accuracy: 0.5025 - val_loss: 0.6942 - val_accuracy: 0.4945\n",
      "Epoch 43/200\n",
      "250/250 [==============================] - 1s 4ms/step - loss: 0.6931 - accuracy: 0.5069 - val_loss: 0.6941 - val_accuracy: 0.4930\n",
      "Epoch 44/200\n",
      "250/250 [==============================] - 1s 4ms/step - loss: 0.6931 - accuracy: 0.5091 - val_loss: 0.6946 - val_accuracy: 0.4855\n",
      "Epoch 45/200\n",
      "250/250 [==============================] - 1s 4ms/step - loss: 0.6930 - accuracy: 0.5045 - val_loss: 0.6937 - val_accuracy: 0.4730\n",
      "Epoch 46/200\n",
      "250/250 [==============================] - 1s 3ms/step - loss: 0.6930 - accuracy: 0.5039 - val_loss: 0.6945 - val_accuracy: 0.4920\n",
      "Epoch 47/200\n",
      "250/250 [==============================] - 1s 4ms/step - loss: 0.6930 - accuracy: 0.5009 - val_loss: 0.6950 - val_accuracy: 0.4850\n",
      "Epoch 48/200\n",
      "250/250 [==============================] - 1s 4ms/step - loss: 0.6930 - accuracy: 0.5088 - val_loss: 0.6936 - val_accuracy: 0.4745\n",
      "Epoch 49/200\n",
      "250/250 [==============================] - 1s 4ms/step - loss: 0.6930 - accuracy: 0.5045 - val_loss: 0.6946 - val_accuracy: 0.4900\n",
      "Epoch 50/200\n",
      "250/250 [==============================] - 1s 4ms/step - loss: 0.6931 - accuracy: 0.5063 - val_loss: 0.6944 - val_accuracy: 0.4895\n",
      "Epoch 51/200\n",
      "250/250 [==============================] - 1s 3ms/step - loss: 0.6931 - accuracy: 0.5084 - val_loss: 0.6938 - val_accuracy: 0.4715\n",
      "Epoch 52/200\n",
      "250/250 [==============================] - 1s 4ms/step - loss: 0.6930 - accuracy: 0.5019 - val_loss: 0.6932 - val_accuracy: 0.5100\n",
      "Epoch 53/200\n",
      "250/250 [==============================] - 1s 3ms/step - loss: 0.6930 - accuracy: 0.5074 - val_loss: 0.6943 - val_accuracy: 0.4905\n",
      "Epoch 54/200\n",
      "250/250 [==============================] - 1s 4ms/step - loss: 0.6928 - accuracy: 0.5033 - val_loss: 0.6931 - val_accuracy: 0.5105\n",
      "Epoch 55/200\n",
      "250/250 [==============================] - 1s 3ms/step - loss: 0.6930 - accuracy: 0.5169 - val_loss: 0.6935 - val_accuracy: 0.4820\n",
      "Epoch 56/200\n",
      "250/250 [==============================] - 1s 4ms/step - loss: 0.6930 - accuracy: 0.5044 - val_loss: 0.6947 - val_accuracy: 0.4845\n",
      "Epoch 57/200\n",
      "250/250 [==============================] - 1s 3ms/step - loss: 0.6931 - accuracy: 0.5065 - val_loss: 0.6953 - val_accuracy: 0.4810\n",
      "Epoch 58/200\n"
     ]
    },
    {
     "name": "stdout",
     "output_type": "stream",
     "text": [
      "250/250 [==============================] - 1s 4ms/step - loss: 0.6931 - accuracy: 0.5035 - val_loss: 0.6947 - val_accuracy: 0.4820\n",
      "Epoch 59/200\n",
      "250/250 [==============================] - 1s 4ms/step - loss: 0.6930 - accuracy: 0.5096 - val_loss: 0.6946 - val_accuracy: 0.4825\n",
      "Epoch 60/200\n",
      "250/250 [==============================] - 1s 4ms/step - loss: 0.6930 - accuracy: 0.5067 - val_loss: 0.6940 - val_accuracy: 0.4815\n",
      "Epoch 61/200\n",
      "250/250 [==============================] - 1s 4ms/step - loss: 0.6930 - accuracy: 0.5059 - val_loss: 0.6944 - val_accuracy: 0.4915\n",
      "Epoch 62/200\n",
      "250/250 [==============================] - 1s 3ms/step - loss: 0.6930 - accuracy: 0.5048 - val_loss: 0.6943 - val_accuracy: 0.4875\n",
      "Epoch 63/200\n",
      "250/250 [==============================] - 1s 3ms/step - loss: 0.6930 - accuracy: 0.5092 - val_loss: 0.6943 - val_accuracy: 0.4875\n",
      "Epoch 64/200\n",
      "250/250 [==============================] - 1s 4ms/step - loss: 0.6930 - accuracy: 0.5034 - val_loss: 0.6946 - val_accuracy: 0.4870\n",
      "Epoch 65/200\n",
      "250/250 [==============================] - 1s 3ms/step - loss: 0.6930 - accuracy: 0.5066 - val_loss: 0.6951 - val_accuracy: 0.4820\n",
      "Epoch 66/200\n",
      "250/250 [==============================] - 1s 3ms/step - loss: 0.6930 - accuracy: 0.5095 - val_loss: 0.6938 - val_accuracy: 0.4795\n",
      "Epoch 67/200\n",
      "250/250 [==============================] - 1s 4ms/step - loss: 0.6930 - accuracy: 0.5055 - val_loss: 0.6943 - val_accuracy: 0.4910\n",
      "Epoch 68/200\n",
      "250/250 [==============================] - 1s 3ms/step - loss: 0.6929 - accuracy: 0.5044 - val_loss: 0.6955 - val_accuracy: 0.4830\n",
      "Epoch 69/200\n",
      "250/250 [==============================] - 1s 4ms/step - loss: 0.6930 - accuracy: 0.5061 - val_loss: 0.6944 - val_accuracy: 0.4890\n",
      "Epoch 70/200\n",
      "250/250 [==============================] - 1s 4ms/step - loss: 0.6930 - accuracy: 0.5081 - val_loss: 0.6937 - val_accuracy: 0.4810\n",
      "Epoch 71/200\n",
      "250/250 [==============================] - 1s 4ms/step - loss: 0.6930 - accuracy: 0.5001 - val_loss: 0.6941 - val_accuracy: 0.4865\n",
      "Epoch 72/200\n",
      "250/250 [==============================] - 1s 3ms/step - loss: 0.6929 - accuracy: 0.5066 - val_loss: 0.6942 - val_accuracy: 0.4850\n",
      "Epoch 73/200\n",
      "250/250 [==============================] - 1s 4ms/step - loss: 0.6930 - accuracy: 0.5067 - val_loss: 0.6936 - val_accuracy: 0.4755\n",
      "Epoch 74/200\n",
      "250/250 [==============================] - 1s 3ms/step - loss: 0.6929 - accuracy: 0.5090 - val_loss: 0.6936 - val_accuracy: 0.4765\n",
      "Epoch 75/200\n",
      "250/250 [==============================] - 1s 4ms/step - loss: 0.6929 - accuracy: 0.5090 - val_loss: 0.6938 - val_accuracy: 0.4785\n",
      "Epoch 76/200\n",
      "250/250 [==============================] - 1s 4ms/step - loss: 0.6930 - accuracy: 0.5064 - val_loss: 0.6938 - val_accuracy: 0.4820\n",
      "Epoch 77/200\n",
      "250/250 [==============================] - 1s 4ms/step - loss: 0.6929 - accuracy: 0.5079 - val_loss: 0.6948 - val_accuracy: 0.4915\n",
      "Epoch 78/200\n",
      "250/250 [==============================] - 1s 4ms/step - loss: 0.6929 - accuracy: 0.5082 - val_loss: 0.6937 - val_accuracy: 0.4780\n",
      "Epoch 79/200\n",
      "250/250 [==============================] - 1s 4ms/step - loss: 0.6930 - accuracy: 0.5039 - val_loss: 0.6936 - val_accuracy: 0.4790\n",
      "Epoch 80/200\n",
      "250/250 [==============================] - 1s 4ms/step - loss: 0.6929 - accuracy: 0.5092 - val_loss: 0.6958 - val_accuracy: 0.4830\n",
      "Epoch 81/200\n",
      "250/250 [==============================] - 1s 4ms/step - loss: 0.6929 - accuracy: 0.5040 - val_loss: 0.6940 - val_accuracy: 0.4810\n",
      "Epoch 82/200\n",
      "250/250 [==============================] - 1s 4ms/step - loss: 0.6929 - accuracy: 0.5088 - val_loss: 0.6946 - val_accuracy: 0.4935\n",
      "Epoch 83/200\n",
      "250/250 [==============================] - 1s 3ms/step - loss: 0.6929 - accuracy: 0.5100 - val_loss: 0.6944 - val_accuracy: 0.4865\n",
      "Epoch 84/200\n",
      "250/250 [==============================] - 1s 3ms/step - loss: 0.6930 - accuracy: 0.5041 - val_loss: 0.6944 - val_accuracy: 0.4855\n",
      "Epoch 85/200\n",
      "250/250 [==============================] - 1s 4ms/step - loss: 0.6931 - accuracy: 0.5105 - val_loss: 0.6938 - val_accuracy: 0.4790\n",
      "Epoch 86/200\n",
      "250/250 [==============================] - 1s 4ms/step - loss: 0.6930 - accuracy: 0.5040 - val_loss: 0.6939 - val_accuracy: 0.4805\n",
      "Epoch 87/200\n",
      "250/250 [==============================] - 1s 4ms/step - loss: 0.6930 - accuracy: 0.5054 - val_loss: 0.6934 - val_accuracy: 0.4925\n",
      "Epoch 88/200\n",
      "250/250 [==============================] - 1s 4ms/step - loss: 0.6930 - accuracy: 0.5079 - val_loss: 0.6938 - val_accuracy: 0.4820\n",
      "Epoch 89/200\n",
      "250/250 [==============================] - 1s 4ms/step - loss: 0.6930 - accuracy: 0.5041 - val_loss: 0.6941 - val_accuracy: 0.4820\n",
      "Epoch 90/200\n",
      "250/250 [==============================] - 1s 4ms/step - loss: 0.6929 - accuracy: 0.5098 - val_loss: 0.6947 - val_accuracy: 0.4915\n",
      "Epoch 91/200\n",
      "250/250 [==============================] - 1s 4ms/step - loss: 0.6930 - accuracy: 0.5100 - val_loss: 0.6938 - val_accuracy: 0.4810\n",
      "Epoch 92/200\n",
      "250/250 [==============================] - 1s 4ms/step - loss: 0.6931 - accuracy: 0.5069 - val_loss: 0.6939 - val_accuracy: 0.4785\n",
      "Epoch 93/200\n",
      "250/250 [==============================] - 1s 3ms/step - loss: 0.6930 - accuracy: 0.5038 - val_loss: 0.6947 - val_accuracy: 0.4865\n",
      "Epoch 94/200\n",
      "250/250 [==============================] - 1s 4ms/step - loss: 0.6929 - accuracy: 0.5073 - val_loss: 0.6944 - val_accuracy: 0.4850\n",
      "Epoch 95/200\n",
      "250/250 [==============================] - 1s 4ms/step - loss: 0.6929 - accuracy: 0.5110 - val_loss: 0.6940 - val_accuracy: 0.4805\n",
      "Epoch 96/200\n",
      "250/250 [==============================] - 1s 4ms/step - loss: 0.6929 - accuracy: 0.5125 - val_loss: 0.6946 - val_accuracy: 0.4860\n",
      "Epoch 97/200\n",
      "250/250 [==============================] - 1s 4ms/step - loss: 0.6929 - accuracy: 0.5079 - val_loss: 0.6938 - val_accuracy: 0.4760\n",
      "Epoch 98/200\n",
      "250/250 [==============================] - 1s 3ms/step - loss: 0.6930 - accuracy: 0.5059 - val_loss: 0.6943 - val_accuracy: 0.4820\n",
      "Epoch 99/200\n",
      "250/250 [==============================] - 1s 4ms/step - loss: 0.6930 - accuracy: 0.5081 - val_loss: 0.6941 - val_accuracy: 0.4810\n",
      "Epoch 100/200\n",
      "250/250 [==============================] - 1s 4ms/step - loss: 0.6929 - accuracy: 0.5086 - val_loss: 0.6942 - val_accuracy: 0.4825\n",
      "Epoch 101/200\n",
      "250/250 [==============================] - 1s 4ms/step - loss: 0.6928 - accuracy: 0.5115 - val_loss: 0.6990 - val_accuracy: 0.4820\n",
      "Epoch 102/200\n",
      "250/250 [==============================] - 1s 4ms/step - loss: 0.6931 - accuracy: 0.5061 - val_loss: 0.6948 - val_accuracy: 0.4925\n",
      "Epoch 103/200\n",
      "250/250 [==============================] - 1s 4ms/step - loss: 0.6929 - accuracy: 0.5098 - val_loss: 0.6950 - val_accuracy: 0.4895\n",
      "Epoch 104/200\n",
      "250/250 [==============================] - 1s 3ms/step - loss: 0.6930 - accuracy: 0.5023 - val_loss: 0.6940 - val_accuracy: 0.4800\n",
      "Epoch 105/200\n",
      "250/250 [==============================] - 1s 3ms/step - loss: 0.6929 - accuracy: 0.5102 - val_loss: 0.6941 - val_accuracy: 0.4805\n",
      "Epoch 106/200\n",
      "250/250 [==============================] - 1s 3ms/step - loss: 0.6929 - accuracy: 0.5106 - val_loss: 0.6949 - val_accuracy: 0.4940\n",
      "Epoch 107/200\n",
      "250/250 [==============================] - 1s 3ms/step - loss: 0.6930 - accuracy: 0.5038 - val_loss: 0.6950 - val_accuracy: 0.4885\n",
      "Epoch 108/200\n",
      "250/250 [==============================] - 1s 3ms/step - loss: 0.6930 - accuracy: 0.5035 - val_loss: 0.6952 - val_accuracy: 0.4880\n",
      "Epoch 109/200\n",
      "250/250 [==============================] - 1s 3ms/step - loss: 0.6929 - accuracy: 0.5128 - val_loss: 0.6932 - val_accuracy: 0.5065\n",
      "Epoch 110/200\n",
      "250/250 [==============================] - 1s 3ms/step - loss: 0.6929 - accuracy: 0.5031 - val_loss: 0.6937 - val_accuracy: 0.4745\n",
      "Epoch 111/200\n",
      "250/250 [==============================] - 1s 3ms/step - loss: 0.6931 - accuracy: 0.5044 - val_loss: 0.6941 - val_accuracy: 0.4850\n",
      "Epoch 112/200\n",
      "250/250 [==============================] - 1s 3ms/step - loss: 0.6929 - accuracy: 0.5113 - val_loss: 0.6946 - val_accuracy: 0.4880\n",
      "Epoch 113/200\n",
      "250/250 [==============================] - 1s 3ms/step - loss: 0.6932 - accuracy: 0.5019 - val_loss: 0.6940 - val_accuracy: 0.4840\n",
      "Epoch 114/200\n",
      "250/250 [==============================] - 1s 3ms/step - loss: 0.6929 - accuracy: 0.5086 - val_loss: 0.6950 - val_accuracy: 0.4915\n"
     ]
    },
    {
     "name": "stdout",
     "output_type": "stream",
     "text": [
      "Epoch 115/200\n",
      "250/250 [==============================] - 1s 3ms/step - loss: 0.6930 - accuracy: 0.5088 - val_loss: 0.6945 - val_accuracy: 0.4865\n",
      "Epoch 116/200\n",
      "250/250 [==============================] - 1s 3ms/step - loss: 0.6929 - accuracy: 0.5129 - val_loss: 0.6953 - val_accuracy: 0.4830\n",
      "Epoch 117/200\n",
      "250/250 [==============================] - 1s 3ms/step - loss: 0.6929 - accuracy: 0.5081 - val_loss: 0.6952 - val_accuracy: 0.4855\n",
      "Epoch 118/200\n",
      "250/250 [==============================] - 1s 3ms/step - loss: 0.6929 - accuracy: 0.5107 - val_loss: 0.6941 - val_accuracy: 0.4800\n",
      "Epoch 119/200\n",
      "250/250 [==============================] - 1s 3ms/step - loss: 0.6930 - accuracy: 0.5067 - val_loss: 0.6944 - val_accuracy: 0.4885\n",
      "Epoch 120/200\n",
      "250/250 [==============================] - 1s 3ms/step - loss: 0.6929 - accuracy: 0.5027 - val_loss: 0.6944 - val_accuracy: 0.4865\n",
      "Epoch 121/200\n",
      "250/250 [==============================] - 1s 3ms/step - loss: 0.6929 - accuracy: 0.5044 - val_loss: 0.6941 - val_accuracy: 0.4790\n",
      "Epoch 122/200\n",
      "250/250 [==============================] - 1s 3ms/step - loss: 0.6929 - accuracy: 0.5077 - val_loss: 0.6942 - val_accuracy: 0.4820\n",
      "Epoch 123/200\n",
      "250/250 [==============================] - 1s 3ms/step - loss: 0.6929 - accuracy: 0.5073 - val_loss: 0.6938 - val_accuracy: 0.4820\n",
      "Epoch 124/200\n",
      "250/250 [==============================] - 1s 3ms/step - loss: 0.6929 - accuracy: 0.5089 - val_loss: 0.6939 - val_accuracy: 0.4770\n",
      "Epoch 125/200\n",
      "250/250 [==============================] - 1s 3ms/step - loss: 0.6929 - accuracy: 0.5042 - val_loss: 0.6950 - val_accuracy: 0.4885\n",
      "Epoch 126/200\n",
      "250/250 [==============================] - 1s 4ms/step - loss: 0.6929 - accuracy: 0.5060 - val_loss: 0.6943 - val_accuracy: 0.4850\n",
      "Epoch 127/200\n",
      "250/250 [==============================] - 1s 4ms/step - loss: 0.6929 - accuracy: 0.5056 - val_loss: 0.6947 - val_accuracy: 0.4865\n",
      "Epoch 128/200\n",
      "250/250 [==============================] - 1s 3ms/step - loss: 0.6930 - accuracy: 0.5082 - val_loss: 0.6942 - val_accuracy: 0.4840\n",
      "Epoch 129/200\n",
      "250/250 [==============================] - 1s 3ms/step - loss: 0.6930 - accuracy: 0.5095 - val_loss: 0.6938 - val_accuracy: 0.4790\n",
      "Epoch 130/200\n",
      "250/250 [==============================] - 1s 4ms/step - loss: 0.6929 - accuracy: 0.5106 - val_loss: 0.6937 - val_accuracy: 0.4790\n",
      "Epoch 131/200\n",
      "250/250 [==============================] - 1s 3ms/step - loss: 0.6929 - accuracy: 0.5040 - val_loss: 0.6938 - val_accuracy: 0.4755\n",
      "Epoch 132/200\n",
      "250/250 [==============================] - 1s 3ms/step - loss: 0.6929 - accuracy: 0.5046 - val_loss: 0.6939 - val_accuracy: 0.4805\n",
      "Epoch 133/200\n",
      "250/250 [==============================] - 1s 3ms/step - loss: 0.6929 - accuracy: 0.5066 - val_loss: 0.6944 - val_accuracy: 0.4835\n",
      "Epoch 134/200\n",
      "250/250 [==============================] - 1s 4ms/step - loss: 0.6929 - accuracy: 0.5124 - val_loss: 0.6957 - val_accuracy: 0.4855\n",
      "Epoch 135/200\n",
      "250/250 [==============================] - 1s 3ms/step - loss: 0.6930 - accuracy: 0.5075 - val_loss: 0.6951 - val_accuracy: 0.4895\n",
      "Epoch 136/200\n",
      "250/250 [==============================] - 1s 3ms/step - loss: 0.6930 - accuracy: 0.5077 - val_loss: 0.6939 - val_accuracy: 0.4805\n",
      "Epoch 137/200\n",
      "250/250 [==============================] - 1s 3ms/step - loss: 0.6928 - accuracy: 0.5109 - val_loss: 0.6938 - val_accuracy: 0.4785\n",
      "Epoch 138/200\n",
      "250/250 [==============================] - 1s 3ms/step - loss: 0.6929 - accuracy: 0.5086 - val_loss: 0.6942 - val_accuracy: 0.4840\n",
      "Epoch 139/200\n",
      "250/250 [==============================] - 1s 3ms/step - loss: 0.6929 - accuracy: 0.5089 - val_loss: 0.6940 - val_accuracy: 0.4785\n",
      "Epoch 140/200\n",
      "250/250 [==============================] - 1s 3ms/step - loss: 0.6929 - accuracy: 0.5089 - val_loss: 0.6945 - val_accuracy: 0.4860\n",
      "Epoch 141/200\n",
      "250/250 [==============================] - 1s 4ms/step - loss: 0.6928 - accuracy: 0.5157 - val_loss: 0.6953 - val_accuracy: 0.4900\n",
      "Epoch 142/200\n",
      "250/250 [==============================] - 1s 4ms/step - loss: 0.6930 - accuracy: 0.5129 - val_loss: 0.6943 - val_accuracy: 0.4835\n",
      "Epoch 143/200\n",
      "250/250 [==============================] - 1s 4ms/step - loss: 0.6929 - accuracy: 0.5084 - val_loss: 0.6939 - val_accuracy: 0.4795\n",
      "Epoch 144/200\n",
      "250/250 [==============================] - 1s 4ms/step - loss: 0.6929 - accuracy: 0.5119 - val_loss: 0.6953 - val_accuracy: 0.4900\n",
      "Epoch 145/200\n",
      "250/250 [==============================] - 1s 4ms/step - loss: 0.6930 - accuracy: 0.5126 - val_loss: 0.6949 - val_accuracy: 0.4925\n",
      "Epoch 146/200\n",
      "250/250 [==============================] - 1s 3ms/step - loss: 0.6929 - accuracy: 0.5092 - val_loss: 0.6941 - val_accuracy: 0.4775\n",
      "Epoch 147/200\n",
      "250/250 [==============================] - 1s 3ms/step - loss: 0.6929 - accuracy: 0.5020 - val_loss: 0.6940 - val_accuracy: 0.4825\n",
      "Epoch 148/200\n",
      "250/250 [==============================] - 1s 3ms/step - loss: 0.6929 - accuracy: 0.5102 - val_loss: 0.6941 - val_accuracy: 0.4780\n",
      "Epoch 149/200\n",
      "250/250 [==============================] - 1s 3ms/step - loss: 0.6930 - accuracy: 0.5067 - val_loss: 0.6941 - val_accuracy: 0.4800\n",
      "Epoch 150/200\n",
      "250/250 [==============================] - 1s 3ms/step - loss: 0.6929 - accuracy: 0.5056 - val_loss: 0.6946 - val_accuracy: 0.4880\n",
      "Epoch 151/200\n",
      "250/250 [==============================] - 1s 4ms/step - loss: 0.6930 - accuracy: 0.5061 - val_loss: 0.6941 - val_accuracy: 0.4810\n",
      "Epoch 152/200\n",
      "250/250 [==============================] - 1s 3ms/step - loss: 0.6929 - accuracy: 0.5092 - val_loss: 0.6947 - val_accuracy: 0.4880\n",
      "Epoch 153/200\n",
      "250/250 [==============================] - 1s 3ms/step - loss: 0.6930 - accuracy: 0.5121 - val_loss: 0.6939 - val_accuracy: 0.4830\n",
      "Epoch 154/200\n",
      "250/250 [==============================] - 1s 4ms/step - loss: 0.6929 - accuracy: 0.5045 - val_loss: 0.6944 - val_accuracy: 0.4820\n",
      "Epoch 155/200\n",
      "250/250 [==============================] - 1s 4ms/step - loss: 0.6929 - accuracy: 0.5069 - val_loss: 0.6941 - val_accuracy: 0.4785\n",
      "Epoch 156/200\n",
      "250/250 [==============================] - 1s 3ms/step - loss: 0.6929 - accuracy: 0.5092 - val_loss: 0.6943 - val_accuracy: 0.4845\n",
      "Epoch 157/200\n",
      "250/250 [==============================] - 1s 4ms/step - loss: 0.6929 - accuracy: 0.5080 - val_loss: 0.6942 - val_accuracy: 0.4790\n",
      "Epoch 158/200\n",
      "250/250 [==============================] - 1s 4ms/step - loss: 0.6928 - accuracy: 0.5119 - val_loss: 0.6938 - val_accuracy: 0.4795\n",
      "Epoch 159/200\n",
      "250/250 [==============================] - 1s 3ms/step - loss: 0.6929 - accuracy: 0.5075 - val_loss: 0.6940 - val_accuracy: 0.4825\n",
      "Epoch 160/200\n",
      "250/250 [==============================] - 1s 4ms/step - loss: 0.6929 - accuracy: 0.5073 - val_loss: 0.6937 - val_accuracy: 0.4840\n",
      "Epoch 161/200\n",
      "250/250 [==============================] - 1s 3ms/step - loss: 0.6929 - accuracy: 0.5035 - val_loss: 0.6944 - val_accuracy: 0.4835\n",
      "Epoch 162/200\n",
      "250/250 [==============================] - 1s 3ms/step - loss: 0.6929 - accuracy: 0.5089 - val_loss: 0.6935 - val_accuracy: 0.4945\n",
      "Epoch 163/200\n",
      "250/250 [==============================] - 1s 4ms/step - loss: 0.6930 - accuracy: 0.5106 - val_loss: 0.6938 - val_accuracy: 0.4775\n",
      "Epoch 164/200\n",
      "250/250 [==============================] - 1s 4ms/step - loss: 0.6930 - accuracy: 0.5117 - val_loss: 0.6940 - val_accuracy: 0.4810\n",
      "Epoch 165/200\n",
      "250/250 [==============================] - 1s 3ms/step - loss: 0.6930 - accuracy: 0.5045 - val_loss: 0.6943 - val_accuracy: 0.4805\n",
      "Epoch 166/200\n",
      "250/250 [==============================] - 1s 4ms/step - loss: 0.6928 - accuracy: 0.5077 - val_loss: 0.6941 - val_accuracy: 0.4795\n",
      "Epoch 167/200\n",
      "250/250 [==============================] - 1s 4ms/step - loss: 0.6929 - accuracy: 0.5085 - val_loss: 0.6945 - val_accuracy: 0.4820\n",
      "Epoch 168/200\n",
      "250/250 [==============================] - 1s 4ms/step - loss: 0.6928 - accuracy: 0.5091 - val_loss: 0.6947 - val_accuracy: 0.4875\n",
      "Epoch 169/200\n",
      "250/250 [==============================] - 1s 4ms/step - loss: 0.6928 - accuracy: 0.5104 - val_loss: 0.6937 - val_accuracy: 0.4800\n",
      "Epoch 170/200\n",
      "250/250 [==============================] - 1s 4ms/step - loss: 0.6930 - accuracy: 0.5079 - val_loss: 0.6939 - val_accuracy: 0.4750\n",
      "Epoch 171/200\n"
     ]
    },
    {
     "name": "stdout",
     "output_type": "stream",
     "text": [
      "250/250 [==============================] - 1s 4ms/step - loss: 0.6929 - accuracy: 0.5067 - val_loss: 0.6946 - val_accuracy: 0.4860\n",
      "Epoch 172/200\n",
      "250/250 [==============================] - 1s 3ms/step - loss: 0.6930 - accuracy: 0.5114 - val_loss: 0.6947 - val_accuracy: 0.4865\n",
      "Epoch 173/200\n",
      "250/250 [==============================] - 1s 3ms/step - loss: 0.6931 - accuracy: 0.5023 - val_loss: 0.6943 - val_accuracy: 0.4845\n",
      "Epoch 174/200\n",
      "250/250 [==============================] - 1s 4ms/step - loss: 0.6929 - accuracy: 0.5045 - val_loss: 0.6947 - val_accuracy: 0.4885\n",
      "Epoch 175/200\n",
      "250/250 [==============================] - 1s 3ms/step - loss: 0.6929 - accuracy: 0.5111 - val_loss: 0.6944 - val_accuracy: 0.4835\n",
      "Epoch 176/200\n",
      "250/250 [==============================] - 1s 3ms/step - loss: 0.6928 - accuracy: 0.5090 - val_loss: 0.6950 - val_accuracy: 0.4935\n",
      "Epoch 177/200\n",
      "250/250 [==============================] - 1s 4ms/step - loss: 0.6929 - accuracy: 0.5048 - val_loss: 0.6937 - val_accuracy: 0.4825\n",
      "Epoch 178/200\n",
      "250/250 [==============================] - 1s 4ms/step - loss: 0.6928 - accuracy: 0.5123 - val_loss: 0.6951 - val_accuracy: 0.4910\n",
      "Epoch 179/200\n",
      "250/250 [==============================] - 1s 4ms/step - loss: 0.6928 - accuracy: 0.5106 - val_loss: 0.6937 - val_accuracy: 0.4835\n",
      "Epoch 180/200\n",
      "250/250 [==============================] - 1s 3ms/step - loss: 0.6929 - accuracy: 0.5060 - val_loss: 0.6935 - val_accuracy: 0.4920\n",
      "Epoch 181/200\n",
      "250/250 [==============================] - 1s 3ms/step - loss: 0.6929 - accuracy: 0.5060 - val_loss: 0.6941 - val_accuracy: 0.4800\n",
      "Epoch 182/200\n",
      "250/250 [==============================] - 1s 3ms/step - loss: 0.6929 - accuracy: 0.5070 - val_loss: 0.6940 - val_accuracy: 0.4770\n",
      "Epoch 183/200\n",
      "250/250 [==============================] - 1s 3ms/step - loss: 0.6929 - accuracy: 0.5035 - val_loss: 0.6940 - val_accuracy: 0.4810\n",
      "Epoch 184/200\n",
      "250/250 [==============================] - 1s 4ms/step - loss: 0.6929 - accuracy: 0.5060 - val_loss: 0.6940 - val_accuracy: 0.4795\n",
      "Epoch 185/200\n",
      "250/250 [==============================] - 1s 4ms/step - loss: 0.6929 - accuracy: 0.5081 - val_loss: 0.6943 - val_accuracy: 0.4825\n",
      "Epoch 186/200\n",
      "250/250 [==============================] - 1s 4ms/step - loss: 0.6929 - accuracy: 0.5091 - val_loss: 0.6939 - val_accuracy: 0.4785\n",
      "Epoch 187/200\n",
      "250/250 [==============================] - 1s 4ms/step - loss: 0.6928 - accuracy: 0.5071 - val_loss: 0.6939 - val_accuracy: 0.4755\n",
      "Epoch 188/200\n",
      "250/250 [==============================] - 1s 3ms/step - loss: 0.6930 - accuracy: 0.5095 - val_loss: 0.6945 - val_accuracy: 0.4850\n",
      "Epoch 189/200\n",
      "250/250 [==============================] - 1s 3ms/step - loss: 0.6929 - accuracy: 0.5070 - val_loss: 0.6947 - val_accuracy: 0.4890\n",
      "Epoch 190/200\n",
      "250/250 [==============================] - 1s 3ms/step - loss: 0.6929 - accuracy: 0.5050 - val_loss: 0.6945 - val_accuracy: 0.4850\n",
      "Epoch 191/200\n",
      "250/250 [==============================] - 1s 4ms/step - loss: 0.6929 - accuracy: 0.5106 - val_loss: 0.6944 - val_accuracy: 0.4835\n",
      "Epoch 192/200\n",
      "250/250 [==============================] - 1s 3ms/step - loss: 0.6929 - accuracy: 0.5040 - val_loss: 0.6947 - val_accuracy: 0.4870\n",
      "Epoch 193/200\n",
      "250/250 [==============================] - 1s 4ms/step - loss: 0.6929 - accuracy: 0.5073 - val_loss: 0.6944 - val_accuracy: 0.4855\n",
      "Epoch 194/200\n",
      "250/250 [==============================] - 1s 4ms/step - loss: 0.6929 - accuracy: 0.5111 - val_loss: 0.6948 - val_accuracy: 0.4860\n",
      "Epoch 195/200\n",
      "250/250 [==============================] - 1s 4ms/step - loss: 0.6928 - accuracy: 0.5091 - val_loss: 0.6941 - val_accuracy: 0.4820\n",
      "Epoch 196/200\n",
      "250/250 [==============================] - 1s 4ms/step - loss: 0.6929 - accuracy: 0.5079 - val_loss: 0.6943 - val_accuracy: 0.4815\n",
      "Epoch 197/200\n",
      "250/250 [==============================] - 1s 4ms/step - loss: 0.6929 - accuracy: 0.5038 - val_loss: 0.6949 - val_accuracy: 0.4875\n",
      "Epoch 198/200\n",
      "250/250 [==============================] - 1s 4ms/step - loss: 0.6929 - accuracy: 0.5056 - val_loss: 0.6949 - val_accuracy: 0.4880\n",
      "Epoch 199/200\n",
      "250/250 [==============================] - 1s 4ms/step - loss: 0.6929 - accuracy: 0.5060 - val_loss: 0.6946 - val_accuracy: 0.4840\n",
      "Epoch 200/200\n",
      "250/250 [==============================] - 1s 4ms/step - loss: 0.6929 - accuracy: 0.5056 - val_loss: 0.6942 - val_accuracy: 0.4795\n"
     ]
    },
    {
     "data": {
      "text/plain": [
       "<keras.callbacks.History at 0x7f52e414da00>"
      ]
     },
     "execution_count": 33,
     "metadata": {},
     "output_type": "execute_result"
    }
   ],
   "source": [
    "# Set random seed\n",
    "tf.random.set_seed(42)\n",
    "\n",
    "# Build the model (3 layers, 100, 10, 1 units)\n",
    "insurance_model_3 = tf.keras.Sequential([\n",
    "  tf.keras.layers.Dense(100),\n",
    "  tf.keras.layers.Dense(10),\n",
    "  tf.keras.layers.Dense(1, activation='sigmoid')\n",
    "])\n",
    "\n",
    "# Compile the model\n",
    "insurance_model_3.compile(loss=tf.keras.losses.BinaryCrossentropy(),\n",
    "                          optimizer=tf.keras.optimizers.Adam(),\n",
    "                          metrics=['accuracy'])\n",
    "\n",
    "# Fit the model for 200 epochs (same as insurance_model_2)\n",
    "insurance_model_3.fit(train_data_normalised, train_labels_encoded, epochs=200, validation_data = (test_data_normalised,test_labels_encoded ))"
   ]
  },
  {
   "cell_type": "code",
   "execution_count": 34,
   "id": "eb31c650",
   "metadata": {},
   "outputs": [
    {
     "data": {
      "text/html": [
       "<div>\n",
       "<style scoped>\n",
       "    .dataframe tbody tr th:only-of-type {\n",
       "        vertical-align: middle;\n",
       "    }\n",
       "\n",
       "    .dataframe tbody tr th {\n",
       "        vertical-align: top;\n",
       "    }\n",
       "\n",
       "    .dataframe thead th {\n",
       "        text-align: right;\n",
       "    }\n",
       "</style>\n",
       "<table border=\"1\" class=\"dataframe\">\n",
       "  <thead>\n",
       "    <tr style=\"text-align: right;\">\n",
       "      <th></th>\n",
       "      <th>name</th>\n",
       "      <th>diameter</th>\n",
       "      <th>weight</th>\n",
       "      <th>red</th>\n",
       "      <th>green</th>\n",
       "      <th>blue</th>\n",
       "    </tr>\n",
       "  </thead>\n",
       "  <tbody>\n",
       "    <tr>\n",
       "      <th>0</th>\n",
       "      <td>orange</td>\n",
       "      <td>2.96</td>\n",
       "      <td>86.76</td>\n",
       "      <td>172</td>\n",
       "      <td>85</td>\n",
       "      <td>2</td>\n",
       "    </tr>\n",
       "    <tr>\n",
       "      <th>1</th>\n",
       "      <td>orange</td>\n",
       "      <td>3.91</td>\n",
       "      <td>88.05</td>\n",
       "      <td>166</td>\n",
       "      <td>78</td>\n",
       "      <td>3</td>\n",
       "    </tr>\n",
       "    <tr>\n",
       "      <th>2</th>\n",
       "      <td>orange</td>\n",
       "      <td>4.42</td>\n",
       "      <td>95.17</td>\n",
       "      <td>156</td>\n",
       "      <td>81</td>\n",
       "      <td>2</td>\n",
       "    </tr>\n",
       "    <tr>\n",
       "      <th>3</th>\n",
       "      <td>orange</td>\n",
       "      <td>4.47</td>\n",
       "      <td>95.60</td>\n",
       "      <td>163</td>\n",
       "      <td>81</td>\n",
       "      <td>4</td>\n",
       "    </tr>\n",
       "    <tr>\n",
       "      <th>4</th>\n",
       "      <td>orange</td>\n",
       "      <td>4.48</td>\n",
       "      <td>95.76</td>\n",
       "      <td>161</td>\n",
       "      <td>72</td>\n",
       "      <td>9</td>\n",
       "    </tr>\n",
       "  </tbody>\n",
       "</table>\n",
       "</div>"
      ],
      "text/plain": [
       "     name  diameter  weight  red  green  blue\n",
       "0  orange      2.96   86.76  172     85     2\n",
       "1  orange      3.91   88.05  166     78     3\n",
       "2  orange      4.42   95.17  156     81     2\n",
       "3  orange      4.47   95.60  163     81     4\n",
       "4  orange      4.48   95.76  161     72     9"
      ]
     },
     "execution_count": 34,
     "metadata": {},
     "output_type": "execute_result"
    }
   ],
   "source": [
    "new_data = pd.read_csv(\"/mnt/c/Users/Admin/Downloads/citrus.csv\")\n",
    "new_data.head()"
   ]
  },
  {
   "cell_type": "code",
   "execution_count": 35,
   "id": "9c49bf78",
   "metadata": {},
   "outputs": [],
   "source": [
    "x = new_data.drop('name', axis=1)\n",
    "y = new_data['name']"
   ]
  },
  {
   "cell_type": "code",
   "execution_count": 36,
   "id": "653046e0",
   "metadata": {},
   "outputs": [
    {
     "data": {
      "text/html": [
       "<div>\n",
       "<style scoped>\n",
       "    .dataframe tbody tr th:only-of-type {\n",
       "        vertical-align: middle;\n",
       "    }\n",
       "\n",
       "    .dataframe tbody tr th {\n",
       "        vertical-align: top;\n",
       "    }\n",
       "\n",
       "    .dataframe thead th {\n",
       "        text-align: right;\n",
       "    }\n",
       "</style>\n",
       "<table border=\"1\" class=\"dataframe\">\n",
       "  <thead>\n",
       "    <tr style=\"text-align: right;\">\n",
       "      <th></th>\n",
       "      <th>diameter</th>\n",
       "      <th>weight</th>\n",
       "      <th>red</th>\n",
       "      <th>green</th>\n",
       "      <th>blue</th>\n",
       "    </tr>\n",
       "  </thead>\n",
       "  <tbody>\n",
       "    <tr>\n",
       "      <th>0</th>\n",
       "      <td>2.96</td>\n",
       "      <td>86.76</td>\n",
       "      <td>172</td>\n",
       "      <td>85</td>\n",
       "      <td>2</td>\n",
       "    </tr>\n",
       "    <tr>\n",
       "      <th>1</th>\n",
       "      <td>3.91</td>\n",
       "      <td>88.05</td>\n",
       "      <td>166</td>\n",
       "      <td>78</td>\n",
       "      <td>3</td>\n",
       "    </tr>\n",
       "    <tr>\n",
       "      <th>2</th>\n",
       "      <td>4.42</td>\n",
       "      <td>95.17</td>\n",
       "      <td>156</td>\n",
       "      <td>81</td>\n",
       "      <td>2</td>\n",
       "    </tr>\n",
       "    <tr>\n",
       "      <th>3</th>\n",
       "      <td>4.47</td>\n",
       "      <td>95.60</td>\n",
       "      <td>163</td>\n",
       "      <td>81</td>\n",
       "      <td>4</td>\n",
       "    </tr>\n",
       "    <tr>\n",
       "      <th>4</th>\n",
       "      <td>4.48</td>\n",
       "      <td>95.76</td>\n",
       "      <td>161</td>\n",
       "      <td>72</td>\n",
       "      <td>9</td>\n",
       "    </tr>\n",
       "    <tr>\n",
       "      <th>...</th>\n",
       "      <td>...</td>\n",
       "      <td>...</td>\n",
       "      <td>...</td>\n",
       "      <td>...</td>\n",
       "      <td>...</td>\n",
       "    </tr>\n",
       "    <tr>\n",
       "      <th>9995</th>\n",
       "      <td>15.35</td>\n",
       "      <td>253.89</td>\n",
       "      <td>149</td>\n",
       "      <td>77</td>\n",
       "      <td>20</td>\n",
       "    </tr>\n",
       "    <tr>\n",
       "      <th>9996</th>\n",
       "      <td>15.41</td>\n",
       "      <td>254.67</td>\n",
       "      <td>148</td>\n",
       "      <td>68</td>\n",
       "      <td>7</td>\n",
       "    </tr>\n",
       "    <tr>\n",
       "      <th>9997</th>\n",
       "      <td>15.59</td>\n",
       "      <td>256.50</td>\n",
       "      <td>168</td>\n",
       "      <td>82</td>\n",
       "      <td>20</td>\n",
       "    </tr>\n",
       "    <tr>\n",
       "      <th>9998</th>\n",
       "      <td>15.92</td>\n",
       "      <td>260.14</td>\n",
       "      <td>142</td>\n",
       "      <td>72</td>\n",
       "      <td>11</td>\n",
       "    </tr>\n",
       "    <tr>\n",
       "      <th>9999</th>\n",
       "      <td>16.45</td>\n",
       "      <td>261.51</td>\n",
       "      <td>152</td>\n",
       "      <td>74</td>\n",
       "      <td>2</td>\n",
       "    </tr>\n",
       "  </tbody>\n",
       "</table>\n",
       "<p>10000 rows × 5 columns</p>\n",
       "</div>"
      ],
      "text/plain": [
       "      diameter  weight  red  green  blue\n",
       "0         2.96   86.76  172     85     2\n",
       "1         3.91   88.05  166     78     3\n",
       "2         4.42   95.17  156     81     2\n",
       "3         4.47   95.60  163     81     4\n",
       "4         4.48   95.76  161     72     9\n",
       "...        ...     ...  ...    ...   ...\n",
       "9995     15.35  253.89  149     77    20\n",
       "9996     15.41  254.67  148     68     7\n",
       "9997     15.59  256.50  168     82    20\n",
       "9998     15.92  260.14  142     72    11\n",
       "9999     16.45  261.51  152     74     2\n",
       "\n",
       "[10000 rows x 5 columns]"
      ]
     },
     "execution_count": 36,
     "metadata": {},
     "output_type": "execute_result"
    }
   ],
   "source": [
    "x"
   ]
  },
  {
   "cell_type": "code",
   "execution_count": 44,
   "id": "1d07424e",
   "metadata": {},
   "outputs": [],
   "source": [
    "y = new_data['name'].map({'orange': 1, 'grapefruit': 0})"
   ]
  },
  {
   "cell_type": "code",
   "execution_count": 45,
   "id": "56d87a2c",
   "metadata": {},
   "outputs": [],
   "source": [
    "X_train, X_test, y_train, y_test = train_test_split(x, y, random_state=42, test_size=0.2)"
   ]
  },
  {
   "cell_type": "code",
   "execution_count": 46,
   "id": "5d4c5d1e",
   "metadata": {},
   "outputs": [
    {
     "data": {
      "text/plain": [
       "((8000, 5), (2000, 5), (8000,), (2000,))"
      ]
     },
     "execution_count": 46,
     "metadata": {},
     "output_type": "execute_result"
    }
   ],
   "source": [
    "X_train.shape, X_test.shape, y_train.shape, y_test.shape"
   ]
  },
  {
   "cell_type": "code",
   "execution_count": 47,
   "id": "dd698ec9",
   "metadata": {},
   "outputs": [],
   "source": [
    "from sklearn.preprocessing import MinMaxScaler\n",
    "mnscaler = MinMaxScaler()"
   ]
  },
  {
   "cell_type": "code",
   "execution_count": 48,
   "id": "6766aaf3",
   "metadata": {},
   "outputs": [],
   "source": [
    "X_train_normalised = mnscaler.fit_transform(X_train)\n",
    "X_test_normalised = mnscaler.transform(X_test)"
   ]
  },
  {
   "cell_type": "code",
   "execution_count": 49,
   "id": "a41a5d14",
   "metadata": {},
   "outputs": [
    {
     "name": "stdout",
     "output_type": "stream",
     "text": [
      "Epoch 1/200\n",
      "250/250 [==============================] - 2s 4ms/step - loss: 0.3206 - accuracy: 0.8951 - val_loss: 0.1869 - val_accuracy: 0.9265\n",
      "Epoch 2/200\n",
      "250/250 [==============================] - 1s 4ms/step - loss: 0.1829 - accuracy: 0.9268 - val_loss: 0.1759 - val_accuracy: 0.9305\n",
      "Epoch 3/200\n",
      "250/250 [==============================] - 1s 3ms/step - loss: 0.1808 - accuracy: 0.9258 - val_loss: 0.1783 - val_accuracy: 0.9310\n",
      "Epoch 4/200\n",
      "250/250 [==============================] - 1s 4ms/step - loss: 0.1826 - accuracy: 0.9244 - val_loss: 0.1767 - val_accuracy: 0.9280\n",
      "Epoch 5/200\n",
      "250/250 [==============================] - 1s 4ms/step - loss: 0.1812 - accuracy: 0.9262 - val_loss: 0.1737 - val_accuracy: 0.9300\n",
      "Epoch 6/200\n",
      "250/250 [==============================] - 1s 4ms/step - loss: 0.1800 - accuracy: 0.9271 - val_loss: 0.1736 - val_accuracy: 0.9295\n",
      "Epoch 7/200\n",
      "250/250 [==============================] - 1s 3ms/step - loss: 0.1795 - accuracy: 0.9264 - val_loss: 0.1731 - val_accuracy: 0.9320\n",
      "Epoch 8/200\n",
      "250/250 [==============================] - 1s 4ms/step - loss: 0.1800 - accuracy: 0.9287 - val_loss: 0.1733 - val_accuracy: 0.9290\n",
      "Epoch 9/200\n",
      "250/250 [==============================] - 1s 3ms/step - loss: 0.1793 - accuracy: 0.9270 - val_loss: 0.1729 - val_accuracy: 0.9320\n",
      "Epoch 10/200\n",
      "250/250 [==============================] - 1s 3ms/step - loss: 0.1788 - accuracy: 0.9261 - val_loss: 0.1830 - val_accuracy: 0.9275\n",
      "Epoch 11/200\n",
      "250/250 [==============================] - 1s 3ms/step - loss: 0.1801 - accuracy: 0.9247 - val_loss: 0.1791 - val_accuracy: 0.9275\n",
      "Epoch 12/200\n",
      "250/250 [==============================] - 1s 3ms/step - loss: 0.1789 - accuracy: 0.9259 - val_loss: 0.1727 - val_accuracy: 0.9320\n",
      "Epoch 13/200\n",
      "250/250 [==============================] - 1s 3ms/step - loss: 0.1787 - accuracy: 0.9280 - val_loss: 0.1722 - val_accuracy: 0.9320\n",
      "Epoch 14/200\n",
      "250/250 [==============================] - 1s 4ms/step - loss: 0.1791 - accuracy: 0.9264 - val_loss: 0.1752 - val_accuracy: 0.9290\n",
      "Epoch 15/200\n",
      "250/250 [==============================] - 1s 4ms/step - loss: 0.1785 - accuracy: 0.9268 - val_loss: 0.1776 - val_accuracy: 0.9320\n",
      "Epoch 16/200\n",
      "250/250 [==============================] - 1s 4ms/step - loss: 0.1782 - accuracy: 0.9271 - val_loss: 0.1735 - val_accuracy: 0.9340\n",
      "Epoch 17/200\n",
      "250/250 [==============================] - 1s 4ms/step - loss: 0.1784 - accuracy: 0.9271 - val_loss: 0.1828 - val_accuracy: 0.9285\n",
      "Epoch 18/200\n",
      "250/250 [==============================] - 1s 4ms/step - loss: 0.1793 - accuracy: 0.9258 - val_loss: 0.1721 - val_accuracy: 0.9325\n",
      "Epoch 19/200\n",
      "250/250 [==============================] - 1s 4ms/step - loss: 0.1769 - accuracy: 0.9283 - val_loss: 0.1713 - val_accuracy: 0.9325\n",
      "Epoch 20/200\n",
      "250/250 [==============================] - 1s 4ms/step - loss: 0.1770 - accuracy: 0.9276 - val_loss: 0.1728 - val_accuracy: 0.9315\n",
      "Epoch 21/200\n",
      "250/250 [==============================] - 1s 4ms/step - loss: 0.1773 - accuracy: 0.9281 - val_loss: 0.1787 - val_accuracy: 0.9305\n",
      "Epoch 22/200\n",
      "250/250 [==============================] - 1s 4ms/step - loss: 0.1772 - accuracy: 0.9283 - val_loss: 0.1720 - val_accuracy: 0.9335\n",
      "Epoch 23/200\n",
      "250/250 [==============================] - 1s 4ms/step - loss: 0.1777 - accuracy: 0.9273 - val_loss: 0.1805 - val_accuracy: 0.9290\n",
      "Epoch 24/200\n",
      "250/250 [==============================] - 1s 4ms/step - loss: 0.1770 - accuracy: 0.9277 - val_loss: 0.1741 - val_accuracy: 0.9330\n",
      "Epoch 25/200\n",
      "250/250 [==============================] - 1s 4ms/step - loss: 0.1777 - accuracy: 0.9273 - val_loss: 0.1707 - val_accuracy: 0.9325\n",
      "Epoch 26/200\n",
      "250/250 [==============================] - 1s 3ms/step - loss: 0.1774 - accuracy: 0.9274 - val_loss: 0.1706 - val_accuracy: 0.9330\n",
      "Epoch 27/200\n",
      "250/250 [==============================] - 1s 3ms/step - loss: 0.1779 - accuracy: 0.9280 - val_loss: 0.1758 - val_accuracy: 0.9270\n",
      "Epoch 28/200\n",
      "250/250 [==============================] - 1s 3ms/step - loss: 0.1778 - accuracy: 0.9276 - val_loss: 0.1755 - val_accuracy: 0.9330\n",
      "Epoch 29/200\n",
      "250/250 [==============================] - 1s 3ms/step - loss: 0.1764 - accuracy: 0.9274 - val_loss: 0.1708 - val_accuracy: 0.9315\n",
      "Epoch 30/200\n",
      "250/250 [==============================] - 1s 3ms/step - loss: 0.1754 - accuracy: 0.9281 - val_loss: 0.1779 - val_accuracy: 0.9320\n",
      "Epoch 31/200\n",
      "250/250 [==============================] - 1s 3ms/step - loss: 0.1762 - accuracy: 0.9298 - val_loss: 0.1931 - val_accuracy: 0.9240\n",
      "Epoch 32/200\n",
      "250/250 [==============================] - 1s 3ms/step - loss: 0.1771 - accuracy: 0.9269 - val_loss: 0.1722 - val_accuracy: 0.9335\n",
      "Epoch 33/200\n",
      "250/250 [==============================] - 1s 4ms/step - loss: 0.1770 - accuracy: 0.9283 - val_loss: 0.1763 - val_accuracy: 0.9315\n",
      "Epoch 34/200\n",
      "250/250 [==============================] - 1s 4ms/step - loss: 0.1748 - accuracy: 0.9289 - val_loss: 0.1753 - val_accuracy: 0.9325\n",
      "Epoch 35/200\n",
      "250/250 [==============================] - 1s 3ms/step - loss: 0.1749 - accuracy: 0.9277 - val_loss: 0.1705 - val_accuracy: 0.9300\n",
      "Epoch 36/200\n",
      "250/250 [==============================] - 1s 3ms/step - loss: 0.1751 - accuracy: 0.9283 - val_loss: 0.1705 - val_accuracy: 0.9320\n",
      "Epoch 37/200\n",
      "250/250 [==============================] - 1s 4ms/step - loss: 0.1744 - accuracy: 0.9284 - val_loss: 0.1722 - val_accuracy: 0.9295\n",
      "Epoch 38/200\n",
      "250/250 [==============================] - 1s 4ms/step - loss: 0.1771 - accuracy: 0.9277 - val_loss: 0.1697 - val_accuracy: 0.9340\n",
      "Epoch 39/200\n",
      "250/250 [==============================] - 1s 4ms/step - loss: 0.1748 - accuracy: 0.9291 - val_loss: 0.1686 - val_accuracy: 0.9340\n",
      "Epoch 40/200\n",
      "250/250 [==============================] - 1s 4ms/step - loss: 0.1745 - accuracy: 0.9284 - val_loss: 0.1690 - val_accuracy: 0.9325\n",
      "Epoch 41/200\n",
      "250/250 [==============================] - 1s 4ms/step - loss: 0.1739 - accuracy: 0.9295 - val_loss: 0.1712 - val_accuracy: 0.9300\n",
      "Epoch 42/200\n",
      "250/250 [==============================] - 1s 3ms/step - loss: 0.1748 - accuracy: 0.9299 - val_loss: 0.1709 - val_accuracy: 0.9345\n",
      "Epoch 43/200\n",
      "250/250 [==============================] - 1s 3ms/step - loss: 0.1749 - accuracy: 0.9277 - val_loss: 0.1898 - val_accuracy: 0.9195\n",
      "Epoch 44/200\n",
      "250/250 [==============================] - 1s 3ms/step - loss: 0.1735 - accuracy: 0.9293 - val_loss: 0.1799 - val_accuracy: 0.9290\n",
      "Epoch 45/200\n",
      "250/250 [==============================] - 1s 3ms/step - loss: 0.1752 - accuracy: 0.9281 - val_loss: 0.1722 - val_accuracy: 0.9330\n",
      "Epoch 46/200\n",
      "250/250 [==============================] - 1s 3ms/step - loss: 0.1755 - accuracy: 0.9264 - val_loss: 0.1680 - val_accuracy: 0.9325\n",
      "Epoch 47/200\n",
      "250/250 [==============================] - 1s 3ms/step - loss: 0.1736 - accuracy: 0.9290 - val_loss: 0.1705 - val_accuracy: 0.9350\n",
      "Epoch 48/200\n",
      "250/250 [==============================] - 1s 3ms/step - loss: 0.1728 - accuracy: 0.9312 - val_loss: 0.1674 - val_accuracy: 0.9335\n",
      "Epoch 49/200\n",
      "250/250 [==============================] - 1s 3ms/step - loss: 0.1727 - accuracy: 0.9291 - val_loss: 0.1930 - val_accuracy: 0.9260\n",
      "Epoch 50/200\n",
      "250/250 [==============================] - 1s 3ms/step - loss: 0.1718 - accuracy: 0.9300 - val_loss: 0.1668 - val_accuracy: 0.9345\n",
      "Epoch 51/200\n",
      "250/250 [==============================] - 1s 3ms/step - loss: 0.1721 - accuracy: 0.9290 - val_loss: 0.1667 - val_accuracy: 0.9360\n",
      "Epoch 52/200\n",
      "250/250 [==============================] - 1s 3ms/step - loss: 0.1722 - accuracy: 0.9295 - val_loss: 0.1673 - val_accuracy: 0.9315\n",
      "Epoch 53/200\n",
      "250/250 [==============================] - 1s 3ms/step - loss: 0.1717 - accuracy: 0.9283 - val_loss: 0.1702 - val_accuracy: 0.9295\n",
      "Epoch 54/200\n",
      "250/250 [==============================] - 1s 3ms/step - loss: 0.1718 - accuracy: 0.9294 - val_loss: 0.1657 - val_accuracy: 0.9365\n",
      "Epoch 55/200\n",
      "250/250 [==============================] - 1s 3ms/step - loss: 0.1709 - accuracy: 0.9299 - val_loss: 0.1666 - val_accuracy: 0.9350\n",
      "Epoch 56/200\n",
      "250/250 [==============================] - 1s 3ms/step - loss: 0.1707 - accuracy: 0.9300 - val_loss: 0.1705 - val_accuracy: 0.9345\n",
      "Epoch 57/200\n",
      "250/250 [==============================] - 1s 4ms/step - loss: 0.1707 - accuracy: 0.9304 - val_loss: 0.1662 - val_accuracy: 0.9345\n"
     ]
    },
    {
     "name": "stdout",
     "output_type": "stream",
     "text": [
      "Epoch 58/200\n",
      "250/250 [==============================] - 1s 3ms/step - loss: 0.1695 - accuracy: 0.9315 - val_loss: 0.1644 - val_accuracy: 0.9345\n",
      "Epoch 59/200\n",
      "250/250 [==============================] - 1s 3ms/step - loss: 0.1695 - accuracy: 0.9299 - val_loss: 0.1648 - val_accuracy: 0.9355\n",
      "Epoch 60/200\n",
      "250/250 [==============================] - 1s 4ms/step - loss: 0.1704 - accuracy: 0.9321 - val_loss: 0.1643 - val_accuracy: 0.9350\n",
      "Epoch 61/200\n",
      "250/250 [==============================] - 1s 3ms/step - loss: 0.1688 - accuracy: 0.9310 - val_loss: 0.1843 - val_accuracy: 0.9290\n",
      "Epoch 62/200\n",
      "250/250 [==============================] - 1s 4ms/step - loss: 0.1697 - accuracy: 0.9312 - val_loss: 0.1640 - val_accuracy: 0.9360\n",
      "Epoch 63/200\n",
      "250/250 [==============================] - 1s 4ms/step - loss: 0.1682 - accuracy: 0.9308 - val_loss: 0.1624 - val_accuracy: 0.9360\n",
      "Epoch 64/200\n",
      "250/250 [==============================] - 1s 4ms/step - loss: 0.1679 - accuracy: 0.9330 - val_loss: 0.1731 - val_accuracy: 0.9305\n",
      "Epoch 65/200\n",
      "250/250 [==============================] - 1s 4ms/step - loss: 0.1677 - accuracy: 0.9314 - val_loss: 0.1662 - val_accuracy: 0.9350\n",
      "Epoch 66/200\n",
      "250/250 [==============================] - 1s 4ms/step - loss: 0.1657 - accuracy: 0.9333 - val_loss: 0.1603 - val_accuracy: 0.9370\n",
      "Epoch 67/200\n",
      "250/250 [==============================] - 1s 4ms/step - loss: 0.1649 - accuracy: 0.9335 - val_loss: 0.1607 - val_accuracy: 0.9375\n",
      "Epoch 68/200\n",
      "250/250 [==============================] - 1s 4ms/step - loss: 0.1664 - accuracy: 0.9326 - val_loss: 0.1609 - val_accuracy: 0.9360\n",
      "Epoch 69/200\n",
      "250/250 [==============================] - 1s 4ms/step - loss: 0.1635 - accuracy: 0.9335 - val_loss: 0.1584 - val_accuracy: 0.9395\n",
      "Epoch 70/200\n",
      "250/250 [==============================] - 1s 4ms/step - loss: 0.1678 - accuracy: 0.9340 - val_loss: 0.1581 - val_accuracy: 0.9380\n",
      "Epoch 71/200\n",
      "250/250 [==============================] - 1s 4ms/step - loss: 0.1655 - accuracy: 0.9300 - val_loss: 0.1826 - val_accuracy: 0.9305\n",
      "Epoch 72/200\n",
      "250/250 [==============================] - 1s 4ms/step - loss: 0.1622 - accuracy: 0.9348 - val_loss: 0.1846 - val_accuracy: 0.9290\n",
      "Epoch 73/200\n",
      "250/250 [==============================] - 1s 4ms/step - loss: 0.1613 - accuracy: 0.9348 - val_loss: 0.1557 - val_accuracy: 0.9385\n",
      "Epoch 74/200\n",
      "250/250 [==============================] - 1s 4ms/step - loss: 0.1639 - accuracy: 0.9348 - val_loss: 0.1629 - val_accuracy: 0.9390\n",
      "Epoch 75/200\n",
      "250/250 [==============================] - 1s 3ms/step - loss: 0.1618 - accuracy: 0.9327 - val_loss: 0.1623 - val_accuracy: 0.9380\n",
      "Epoch 76/200\n",
      "250/250 [==============================] - 1s 4ms/step - loss: 0.1592 - accuracy: 0.9359 - val_loss: 0.1945 - val_accuracy: 0.9260\n",
      "Epoch 77/200\n",
      "250/250 [==============================] - 1s 4ms/step - loss: 0.1567 - accuracy: 0.9370 - val_loss: 0.1615 - val_accuracy: 0.9395\n",
      "Epoch 78/200\n",
      "250/250 [==============================] - 1s 4ms/step - loss: 0.1557 - accuracy: 0.9388 - val_loss: 0.1561 - val_accuracy: 0.9350\n",
      "Epoch 79/200\n",
      "250/250 [==============================] - 1s 3ms/step - loss: 0.1565 - accuracy: 0.9380 - val_loss: 0.1549 - val_accuracy: 0.9410\n",
      "Epoch 80/200\n",
      "250/250 [==============================] - 1s 4ms/step - loss: 0.1569 - accuracy: 0.9380 - val_loss: 0.1777 - val_accuracy: 0.9215\n",
      "Epoch 81/200\n",
      "250/250 [==============================] - 1s 4ms/step - loss: 0.1546 - accuracy: 0.9380 - val_loss: 0.1537 - val_accuracy: 0.9360\n",
      "Epoch 82/200\n",
      "250/250 [==============================] - 1s 4ms/step - loss: 0.1517 - accuracy: 0.9408 - val_loss: 0.1481 - val_accuracy: 0.9420\n",
      "Epoch 83/200\n",
      "250/250 [==============================] - 1s 3ms/step - loss: 0.1521 - accuracy: 0.9396 - val_loss: 0.1459 - val_accuracy: 0.9450\n",
      "Epoch 84/200\n",
      "250/250 [==============================] - 1s 4ms/step - loss: 0.1519 - accuracy: 0.9406 - val_loss: 0.1470 - val_accuracy: 0.9385\n",
      "Epoch 85/200\n",
      "250/250 [==============================] - 1s 4ms/step - loss: 0.1515 - accuracy: 0.9416 - val_loss: 0.1487 - val_accuracy: 0.9370\n",
      "Epoch 86/200\n",
      "250/250 [==============================] - 1s 4ms/step - loss: 0.1520 - accuracy: 0.9424 - val_loss: 0.1604 - val_accuracy: 0.9420\n",
      "Epoch 87/200\n",
      "250/250 [==============================] - 1s 3ms/step - loss: 0.1520 - accuracy: 0.9409 - val_loss: 0.1428 - val_accuracy: 0.9450\n",
      "Epoch 88/200\n",
      "250/250 [==============================] - 1s 3ms/step - loss: 0.1545 - accuracy: 0.9398 - val_loss: 0.1577 - val_accuracy: 0.9430\n",
      "Epoch 89/200\n",
      "250/250 [==============================] - 1s 3ms/step - loss: 0.1505 - accuracy: 0.9410 - val_loss: 0.1413 - val_accuracy: 0.9460\n",
      "Epoch 90/200\n",
      "250/250 [==============================] - 1s 3ms/step - loss: 0.1444 - accuracy: 0.9459 - val_loss: 0.1409 - val_accuracy: 0.9455\n",
      "Epoch 91/200\n",
      "250/250 [==============================] - 1s 3ms/step - loss: 0.1451 - accuracy: 0.9431 - val_loss: 0.1389 - val_accuracy: 0.9465\n",
      "Epoch 92/200\n",
      "250/250 [==============================] - 1s 3ms/step - loss: 0.1438 - accuracy: 0.9463 - val_loss: 0.1389 - val_accuracy: 0.9435\n",
      "Epoch 93/200\n",
      "250/250 [==============================] - 1s 4ms/step - loss: 0.1488 - accuracy: 0.9423 - val_loss: 0.1370 - val_accuracy: 0.9470\n",
      "Epoch 94/200\n",
      "250/250 [==============================] - 1s 4ms/step - loss: 0.1399 - accuracy: 0.9475 - val_loss: 0.1512 - val_accuracy: 0.9485\n",
      "Epoch 95/200\n",
      "250/250 [==============================] - 1s 3ms/step - loss: 0.1416 - accuracy: 0.9471 - val_loss: 0.1389 - val_accuracy: 0.9500\n",
      "Epoch 96/200\n",
      "250/250 [==============================] - 1s 4ms/step - loss: 0.1465 - accuracy: 0.9448 - val_loss: 0.1814 - val_accuracy: 0.9195\n",
      "Epoch 97/200\n",
      "250/250 [==============================] - 1s 4ms/step - loss: 0.1404 - accuracy: 0.9505 - val_loss: 0.1423 - val_accuracy: 0.9400\n",
      "Epoch 98/200\n",
      "250/250 [==============================] - 1s 4ms/step - loss: 0.1381 - accuracy: 0.9490 - val_loss: 0.1545 - val_accuracy: 0.9355\n",
      "Epoch 99/200\n",
      "250/250 [==============================] - 1s 4ms/step - loss: 0.1468 - accuracy: 0.9457 - val_loss: 0.1443 - val_accuracy: 0.9490\n",
      "Epoch 100/200\n",
      "250/250 [==============================] - 1s 3ms/step - loss: 0.1411 - accuracy: 0.9475 - val_loss: 0.1543 - val_accuracy: 0.9470\n",
      "Epoch 101/200\n",
      "250/250 [==============================] - 1s 3ms/step - loss: 0.1397 - accuracy: 0.9484 - val_loss: 0.1519 - val_accuracy: 0.9460\n",
      "Epoch 102/200\n",
      "250/250 [==============================] - 1s 3ms/step - loss: 0.1347 - accuracy: 0.9515 - val_loss: 0.1320 - val_accuracy: 0.9480\n",
      "Epoch 103/200\n",
      "250/250 [==============================] - 1s 3ms/step - loss: 0.1424 - accuracy: 0.9467 - val_loss: 0.1486 - val_accuracy: 0.9360\n",
      "Epoch 104/200\n",
      "250/250 [==============================] - 1s 3ms/step - loss: 0.1462 - accuracy: 0.9446 - val_loss: 0.1382 - val_accuracy: 0.9425\n",
      "Epoch 105/200\n",
      "250/250 [==============================] - 1s 3ms/step - loss: 0.1397 - accuracy: 0.9509 - val_loss: 0.1373 - val_accuracy: 0.9525\n",
      "Epoch 106/200\n",
      "250/250 [==============================] - 1s 3ms/step - loss: 0.1379 - accuracy: 0.9492 - val_loss: 0.1376 - val_accuracy: 0.9450\n",
      "Epoch 107/200\n",
      "250/250 [==============================] - 1s 3ms/step - loss: 0.1366 - accuracy: 0.9506 - val_loss: 0.1404 - val_accuracy: 0.9530\n",
      "Epoch 108/200\n",
      "250/250 [==============================] - 1s 4ms/step - loss: 0.1340 - accuracy: 0.9514 - val_loss: 0.1288 - val_accuracy: 0.9500\n",
      "Epoch 109/200\n",
      "250/250 [==============================] - 1s 4ms/step - loss: 0.1353 - accuracy: 0.9521 - val_loss: 0.1321 - val_accuracy: 0.9470\n",
      "Epoch 110/200\n",
      "250/250 [==============================] - 1s 3ms/step - loss: 0.1463 - accuracy: 0.9452 - val_loss: 0.1983 - val_accuracy: 0.9360\n",
      "Epoch 111/200\n",
      "250/250 [==============================] - 1s 3ms/step - loss: 0.1362 - accuracy: 0.9524 - val_loss: 0.1305 - val_accuracy: 0.9480\n",
      "Epoch 112/200\n",
      "250/250 [==============================] - 1s 4ms/step - loss: 0.1321 - accuracy: 0.9523 - val_loss: 0.1293 - val_accuracy: 0.9475\n",
      "Epoch 113/200\n",
      "250/250 [==============================] - 1s 4ms/step - loss: 0.1399 - accuracy: 0.9504 - val_loss: 0.1415 - val_accuracy: 0.9490\n",
      "Epoch 114/200\n",
      "250/250 [==============================] - 1s 4ms/step - loss: 0.1376 - accuracy: 0.9514 - val_loss: 0.1280 - val_accuracy: 0.9500\n"
     ]
    },
    {
     "name": "stdout",
     "output_type": "stream",
     "text": [
      "Epoch 115/200\n",
      "250/250 [==============================] - 1s 3ms/step - loss: 0.1335 - accuracy: 0.9528 - val_loss: 0.1493 - val_accuracy: 0.9505\n",
      "Epoch 116/200\n",
      "250/250 [==============================] - 1s 3ms/step - loss: 0.1345 - accuracy: 0.9517 - val_loss: 0.1284 - val_accuracy: 0.9500\n",
      "Epoch 117/200\n",
      "250/250 [==============================] - 1s 3ms/step - loss: 0.1346 - accuracy: 0.9519 - val_loss: 0.1295 - val_accuracy: 0.9475\n",
      "Epoch 118/200\n",
      "250/250 [==============================] - 1s 3ms/step - loss: 0.1307 - accuracy: 0.9536 - val_loss: 0.1493 - val_accuracy: 0.9525\n",
      "Epoch 119/200\n",
      "250/250 [==============================] - 1s 3ms/step - loss: 0.1359 - accuracy: 0.9529 - val_loss: 0.1432 - val_accuracy: 0.9545\n",
      "Epoch 120/200\n",
      "250/250 [==============================] - 1s 4ms/step - loss: 0.1357 - accuracy: 0.9531 - val_loss: 0.1268 - val_accuracy: 0.9495\n",
      "Epoch 121/200\n",
      "250/250 [==============================] - 1s 3ms/step - loss: 0.1294 - accuracy: 0.9536 - val_loss: 0.1419 - val_accuracy: 0.9550\n",
      "Epoch 122/200\n",
      "250/250 [==============================] - 1s 3ms/step - loss: 0.1287 - accuracy: 0.9556 - val_loss: 0.1258 - val_accuracy: 0.9535\n",
      "Epoch 123/200\n",
      "250/250 [==============================] - 1s 3ms/step - loss: 0.1362 - accuracy: 0.9507 - val_loss: 0.1491 - val_accuracy: 0.9510\n",
      "Epoch 124/200\n",
      "250/250 [==============================] - 1s 4ms/step - loss: 0.1357 - accuracy: 0.9534 - val_loss: 0.1339 - val_accuracy: 0.9550\n",
      "Epoch 125/200\n",
      "250/250 [==============================] - 1s 3ms/step - loss: 0.1401 - accuracy: 0.9492 - val_loss: 0.1472 - val_accuracy: 0.9370\n",
      "Epoch 126/200\n",
      "250/250 [==============================] - 1s 3ms/step - loss: 0.1336 - accuracy: 0.9535 - val_loss: 0.1398 - val_accuracy: 0.9545\n",
      "Epoch 127/200\n",
      "250/250 [==============================] - 1s 3ms/step - loss: 0.1300 - accuracy: 0.9532 - val_loss: 0.1277 - val_accuracy: 0.9520\n",
      "Epoch 128/200\n",
      "250/250 [==============================] - 1s 3ms/step - loss: 0.1307 - accuracy: 0.9554 - val_loss: 0.1270 - val_accuracy: 0.9500\n",
      "Epoch 129/200\n",
      "250/250 [==============================] - 1s 3ms/step - loss: 0.1340 - accuracy: 0.9523 - val_loss: 0.1337 - val_accuracy: 0.9555\n",
      "Epoch 130/200\n",
      "250/250 [==============================] - 1s 3ms/step - loss: 0.1377 - accuracy: 0.9510 - val_loss: 0.1409 - val_accuracy: 0.9545\n",
      "Epoch 131/200\n",
      "250/250 [==============================] - 1s 3ms/step - loss: 0.1331 - accuracy: 0.9534 - val_loss: 0.1347 - val_accuracy: 0.9465\n",
      "Epoch 132/200\n",
      "250/250 [==============================] - 1s 3ms/step - loss: 0.1395 - accuracy: 0.9510 - val_loss: 0.1316 - val_accuracy: 0.9465\n",
      "Epoch 133/200\n",
      "250/250 [==============================] - 1s 3ms/step - loss: 0.1310 - accuracy: 0.9539 - val_loss: 0.1355 - val_accuracy: 0.9560\n",
      "Epoch 134/200\n",
      "250/250 [==============================] - 1s 3ms/step - loss: 0.1336 - accuracy: 0.9535 - val_loss: 0.1342 - val_accuracy: 0.9550\n",
      "Epoch 135/200\n",
      "250/250 [==============================] - 1s 3ms/step - loss: 0.1287 - accuracy: 0.9561 - val_loss: 0.1435 - val_accuracy: 0.9405\n",
      "Epoch 136/200\n",
      "250/250 [==============================] - 1s 3ms/step - loss: 0.1369 - accuracy: 0.9488 - val_loss: 0.1423 - val_accuracy: 0.9400\n",
      "Epoch 137/200\n",
      "250/250 [==============================] - 1s 3ms/step - loss: 0.1360 - accuracy: 0.9532 - val_loss: 0.1276 - val_accuracy: 0.9490\n",
      "Epoch 138/200\n",
      "250/250 [==============================] - 1s 3ms/step - loss: 0.1332 - accuracy: 0.9535 - val_loss: 0.1392 - val_accuracy: 0.9550\n",
      "Epoch 139/200\n",
      "250/250 [==============================] - 1s 4ms/step - loss: 0.1315 - accuracy: 0.9524 - val_loss: 0.1629 - val_accuracy: 0.9475\n",
      "Epoch 140/200\n",
      "250/250 [==============================] - 1s 3ms/step - loss: 0.1359 - accuracy: 0.9506 - val_loss: 0.1270 - val_accuracy: 0.9490\n",
      "Epoch 141/200\n",
      "250/250 [==============================] - 1s 3ms/step - loss: 0.1337 - accuracy: 0.9554 - val_loss: 0.1383 - val_accuracy: 0.9425\n",
      "Epoch 142/200\n",
      "250/250 [==============================] - 1s 4ms/step - loss: 0.1302 - accuracy: 0.9538 - val_loss: 0.1333 - val_accuracy: 0.9465\n",
      "Epoch 143/200\n",
      "250/250 [==============================] - 1s 4ms/step - loss: 0.1289 - accuracy: 0.9549 - val_loss: 0.1556 - val_accuracy: 0.9500\n",
      "Epoch 144/200\n",
      "250/250 [==============================] - 1s 4ms/step - loss: 0.1280 - accuracy: 0.9554 - val_loss: 0.1461 - val_accuracy: 0.9530\n",
      "Epoch 145/200\n",
      "250/250 [==============================] - 1s 4ms/step - loss: 0.1386 - accuracy: 0.9511 - val_loss: 0.1365 - val_accuracy: 0.9445\n",
      "Epoch 146/200\n",
      "250/250 [==============================] - 1s 4ms/step - loss: 0.1308 - accuracy: 0.9548 - val_loss: 0.1242 - val_accuracy: 0.9510\n",
      "Epoch 147/200\n",
      "250/250 [==============================] - 1s 4ms/step - loss: 0.1336 - accuracy: 0.9511 - val_loss: 0.1275 - val_accuracy: 0.9525\n",
      "Epoch 148/200\n",
      "250/250 [==============================] - 1s 4ms/step - loss: 0.1323 - accuracy: 0.9545 - val_loss: 0.1386 - val_accuracy: 0.9575\n",
      "Epoch 149/200\n",
      "250/250 [==============================] - 1s 4ms/step - loss: 0.1324 - accuracy: 0.9530 - val_loss: 0.1296 - val_accuracy: 0.9475\n",
      "Epoch 150/200\n",
      "250/250 [==============================] - 1s 4ms/step - loss: 0.1316 - accuracy: 0.9578 - val_loss: 0.1246 - val_accuracy: 0.9515\n",
      "Epoch 151/200\n",
      "250/250 [==============================] - 1s 4ms/step - loss: 0.1350 - accuracy: 0.9539 - val_loss: 0.1309 - val_accuracy: 0.9460\n",
      "Epoch 152/200\n",
      "250/250 [==============================] - 1s 4ms/step - loss: 0.1291 - accuracy: 0.9551 - val_loss: 0.1250 - val_accuracy: 0.9530\n",
      "Epoch 153/200\n",
      "250/250 [==============================] - 1s 4ms/step - loss: 0.1358 - accuracy: 0.9523 - val_loss: 0.1581 - val_accuracy: 0.9490\n",
      "Epoch 154/200\n",
      "250/250 [==============================] - 1s 4ms/step - loss: 0.1347 - accuracy: 0.9528 - val_loss: 0.1261 - val_accuracy: 0.9515\n",
      "Epoch 155/200\n",
      "250/250 [==============================] - 1s 4ms/step - loss: 0.1320 - accuracy: 0.9569 - val_loss: 0.1566 - val_accuracy: 0.9500\n",
      "Epoch 156/200\n",
      "250/250 [==============================] - 1s 3ms/step - loss: 0.1292 - accuracy: 0.9556 - val_loss: 0.1242 - val_accuracy: 0.9520\n",
      "Epoch 157/200\n",
      "250/250 [==============================] - 1s 3ms/step - loss: 0.1320 - accuracy: 0.9581 - val_loss: 0.1291 - val_accuracy: 0.9480\n",
      "Epoch 158/200\n",
      "250/250 [==============================] - 1s 3ms/step - loss: 0.1377 - accuracy: 0.9520 - val_loss: 0.1270 - val_accuracy: 0.9550\n",
      "Epoch 159/200\n",
      "250/250 [==============================] - 1s 4ms/step - loss: 0.1356 - accuracy: 0.9519 - val_loss: 0.1264 - val_accuracy: 0.9490\n",
      "Epoch 160/200\n",
      "250/250 [==============================] - 1s 3ms/step - loss: 0.1284 - accuracy: 0.9549 - val_loss: 0.1439 - val_accuracy: 0.9555\n",
      "Epoch 161/200\n",
      "250/250 [==============================] - 1s 3ms/step - loss: 0.1310 - accuracy: 0.9548 - val_loss: 0.1500 - val_accuracy: 0.9375\n",
      "Epoch 162/200\n",
      "250/250 [==============================] - 1s 3ms/step - loss: 0.1313 - accuracy: 0.9544 - val_loss: 0.1291 - val_accuracy: 0.9465\n",
      "Epoch 163/200\n",
      "250/250 [==============================] - 1s 3ms/step - loss: 0.1360 - accuracy: 0.9523 - val_loss: 0.1254 - val_accuracy: 0.9540\n",
      "Epoch 164/200\n",
      "250/250 [==============================] - 1s 3ms/step - loss: 0.1293 - accuracy: 0.9569 - val_loss: 0.1242 - val_accuracy: 0.9520\n",
      "Epoch 165/200\n",
      "250/250 [==============================] - 1s 3ms/step - loss: 0.1313 - accuracy: 0.9554 - val_loss: 0.1275 - val_accuracy: 0.9555\n",
      "Epoch 166/200\n",
      "250/250 [==============================] - 1s 3ms/step - loss: 0.1367 - accuracy: 0.9545 - val_loss: 0.1255 - val_accuracy: 0.9535\n",
      "Epoch 167/200\n",
      "250/250 [==============================] - 1s 3ms/step - loss: 0.1391 - accuracy: 0.9545 - val_loss: 0.1294 - val_accuracy: 0.9520\n",
      "Epoch 168/200\n",
      "250/250 [==============================] - 1s 3ms/step - loss: 0.1315 - accuracy: 0.9544 - val_loss: 0.1267 - val_accuracy: 0.9485\n",
      "Epoch 169/200\n",
      "250/250 [==============================] - 1s 3ms/step - loss: 0.1288 - accuracy: 0.9563 - val_loss: 0.1277 - val_accuracy: 0.9495\n",
      "Epoch 170/200\n",
      "250/250 [==============================] - 1s 3ms/step - loss: 0.1326 - accuracy: 0.9538 - val_loss: 0.1396 - val_accuracy: 0.9555\n",
      "Epoch 171/200\n"
     ]
    },
    {
     "name": "stdout",
     "output_type": "stream",
     "text": [
      "250/250 [==============================] - 1s 3ms/step - loss: 0.1303 - accuracy: 0.9541 - val_loss: 0.1243 - val_accuracy: 0.9505\n",
      "Epoch 172/200\n",
      "250/250 [==============================] - 1s 3ms/step - loss: 0.1425 - accuracy: 0.9498 - val_loss: 0.1255 - val_accuracy: 0.9505\n",
      "Epoch 173/200\n",
      "250/250 [==============================] - 1s 3ms/step - loss: 0.1294 - accuracy: 0.9575 - val_loss: 0.1244 - val_accuracy: 0.9520\n",
      "Epoch 174/200\n",
      "250/250 [==============================] - 1s 4ms/step - loss: 0.1309 - accuracy: 0.9553 - val_loss: 0.1306 - val_accuracy: 0.9510\n",
      "Epoch 175/200\n",
      "250/250 [==============================] - 1s 3ms/step - loss: 0.1288 - accuracy: 0.9556 - val_loss: 0.1338 - val_accuracy: 0.9535\n",
      "Epoch 176/200\n",
      "250/250 [==============================] - 1s 3ms/step - loss: 0.1330 - accuracy: 0.9539 - val_loss: 0.1351 - val_accuracy: 0.9435\n",
      "Epoch 177/200\n",
      "250/250 [==============================] - 1s 4ms/step - loss: 0.1333 - accuracy: 0.9529 - val_loss: 0.1294 - val_accuracy: 0.9455\n",
      "Epoch 178/200\n",
      "250/250 [==============================] - 1s 4ms/step - loss: 0.1304 - accuracy: 0.9549 - val_loss: 0.1300 - val_accuracy: 0.9475\n",
      "Epoch 179/200\n",
      "250/250 [==============================] - 1s 3ms/step - loss: 0.1299 - accuracy: 0.9560 - val_loss: 0.1569 - val_accuracy: 0.9515\n",
      "Epoch 180/200\n",
      "250/250 [==============================] - 1s 3ms/step - loss: 0.1294 - accuracy: 0.9553 - val_loss: 0.1634 - val_accuracy: 0.9490\n",
      "Epoch 181/200\n",
      "250/250 [==============================] - 1s 3ms/step - loss: 0.1360 - accuracy: 0.9515 - val_loss: 0.1361 - val_accuracy: 0.9440\n",
      "Epoch 182/200\n",
      "250/250 [==============================] - 1s 3ms/step - loss: 0.1357 - accuracy: 0.9492 - val_loss: 0.1532 - val_accuracy: 0.9520\n",
      "Epoch 183/200\n",
      "250/250 [==============================] - 1s 3ms/step - loss: 0.1282 - accuracy: 0.9566 - val_loss: 0.1426 - val_accuracy: 0.9535\n",
      "Epoch 184/200\n",
      "250/250 [==============================] - 1s 3ms/step - loss: 0.1265 - accuracy: 0.9581 - val_loss: 0.1241 - val_accuracy: 0.9520\n",
      "Epoch 185/200\n",
      "250/250 [==============================] - 1s 3ms/step - loss: 0.1347 - accuracy: 0.9526 - val_loss: 0.1267 - val_accuracy: 0.9470\n",
      "Epoch 186/200\n",
      "250/250 [==============================] - 1s 3ms/step - loss: 0.1299 - accuracy: 0.9551 - val_loss: 0.1292 - val_accuracy: 0.9560\n",
      "Epoch 187/200\n",
      "250/250 [==============================] - 1s 3ms/step - loss: 0.1342 - accuracy: 0.9524 - val_loss: 0.1268 - val_accuracy: 0.9540\n",
      "Epoch 188/200\n",
      "250/250 [==============================] - 1s 3ms/step - loss: 0.1337 - accuracy: 0.9553 - val_loss: 0.1358 - val_accuracy: 0.9545\n",
      "Epoch 189/200\n",
      "250/250 [==============================] - 1s 3ms/step - loss: 0.1283 - accuracy: 0.9559 - val_loss: 0.1262 - val_accuracy: 0.9510\n",
      "Epoch 190/200\n",
      "250/250 [==============================] - 1s 3ms/step - loss: 0.1317 - accuracy: 0.9555 - val_loss: 0.1251 - val_accuracy: 0.9550\n",
      "Epoch 191/200\n",
      "250/250 [==============================] - 1s 4ms/step - loss: 0.1277 - accuracy: 0.9574 - val_loss: 0.1343 - val_accuracy: 0.9530\n",
      "Epoch 192/200\n",
      "250/250 [==============================] - 1s 3ms/step - loss: 0.1299 - accuracy: 0.9551 - val_loss: 0.1318 - val_accuracy: 0.9545\n",
      "Epoch 193/200\n",
      "250/250 [==============================] - 1s 3ms/step - loss: 0.1255 - accuracy: 0.9579 - val_loss: 0.1239 - val_accuracy: 0.9540\n",
      "Epoch 194/200\n",
      "250/250 [==============================] - 1s 4ms/step - loss: 0.1272 - accuracy: 0.9571 - val_loss: 0.1893 - val_accuracy: 0.9460\n",
      "Epoch 195/200\n",
      "250/250 [==============================] - 1s 4ms/step - loss: 0.1302 - accuracy: 0.9570 - val_loss: 0.1290 - val_accuracy: 0.9565\n",
      "Epoch 196/200\n",
      "250/250 [==============================] - 1s 4ms/step - loss: 0.1308 - accuracy: 0.9553 - val_loss: 0.1252 - val_accuracy: 0.9540\n",
      "Epoch 197/200\n",
      "250/250 [==============================] - 1s 3ms/step - loss: 0.1326 - accuracy: 0.9526 - val_loss: 0.1460 - val_accuracy: 0.9380\n",
      "Epoch 198/200\n",
      "250/250 [==============================] - 1s 3ms/step - loss: 0.1278 - accuracy: 0.9571 - val_loss: 0.1307 - val_accuracy: 0.9535\n",
      "Epoch 199/200\n",
      "250/250 [==============================] - 1s 3ms/step - loss: 0.1286 - accuracy: 0.9578 - val_loss: 0.1246 - val_accuracy: 0.9525\n",
      "Epoch 200/200\n",
      "250/250 [==============================] - 1s 3ms/step - loss: 0.1298 - accuracy: 0.9559 - val_loss: 0.1234 - val_accuracy: 0.9540\n"
     ]
    }
   ],
   "source": [
    "# Set random seed\n",
    "tf.random.set_seed(42)\n",
    "\n",
    "# Build the model (3 layers, 100, 10, 1 units)\n",
    "model_1 = tf.keras.Sequential([\n",
    "  tf.keras.layers.Dense(100),\n",
    "  tf.keras.layers.Dense(10),\n",
    "  tf.keras.layers.Dense(1, activation='sigmoid')\n",
    "])\n",
    "\n",
    "# Compile the model\n",
    "model_1.compile(loss=tf.keras.losses.BinaryCrossentropy(),\n",
    "                          optimizer=tf.keras.optimizers.Adam(),\n",
    "                          metrics=['accuracy'])\n",
    "\n",
    "# Fit the model for 200 epochs (same as insurance_model_2)\n",
    "history_1 = model_1.fit(X_train_normalised, y_train, epochs=200, validation_data = (X_test_normalised , y_test))"
   ]
  },
  {
   "cell_type": "code",
   "execution_count": 50,
   "id": "7f8855ec",
   "metadata": {},
   "outputs": [],
   "source": [
    "import matplotlib.pyplot as plt\n",
    "\n",
    "\n",
    "def plot_graphs(history, metric):\n",
    "  plt.plot(history.history[metric])\n",
    "  plt.plot(history.history['val_'+metric], '')\n",
    "  plt.xlabel(\"Epochs\")\n",
    "  plt.ylabel(metric)\n",
    "  plt.legend([metric, 'val_'+metric])"
   ]
  },
  {
   "cell_type": "code",
   "execution_count": 51,
   "id": "9dfbea05",
   "metadata": {},
   "outputs": [
    {
     "data": {
      "image/png": "[encoded data removed]",
      "text/plain": [
       "<Figure size 640x480 with 1 Axes>"
      ]
     },
     "metadata": {},
     "output_type": "display_data"
    }
   ],
   "source": [
    "plot_graphs(history_1, 'loss')"
   ]
  },
  {
   "cell_type": "code",
   "execution_count": 52,
   "id": "fafe69a8",
   "metadata": {},
   "outputs": [
    {
     "data": {
      "image/png": "[encoded data removed]",
      "text/plain": [
       "<Figure size 640x480 with 1 Axes>"
      ]
     },
     "metadata": {},
     "output_type": "display_data"
    }
   ],
   "source": [
    "plot_graphs(history_1, 'accuracy')"
   ]
  },
  {
   "cell_type": "code",
   "execution_count": 53,
   "id": "ff3ffa3e",
   "metadata": {},
   "outputs": [
    {
     "name": "stdout",
     "output_type": "stream",
     "text": [
      "63/63 [==============================] - 0s 4ms/step - loss: 0.1234 - accuracy: 0.9540\n"
     ]
    },
    {
     "data": {
      "text/plain": [
       "[0.12342240661382675, 0.9539999961853027]"
      ]
     },
     "execution_count": 53,
     "metadata": {},
     "output_type": "execute_result"
    }
   ],
   "source": [
    "model_1.evaluate(X_test_normalised, y_test)"
   ]
  },
  {
   "cell_type": "code",
   "execution_count": 54,
   "id": "bc725e1e",
   "metadata": {},
   "outputs": [],
   "source": [
    "def get_callbacks(model_name):\n",
    "  callbacks = []\n",
    "  MC = tf.keras.callbacks.ModelCheckpoint(f'saved_models/{model_name}', monitor='val_loss', save_best_only='True', verbose=1)\n",
    "  ES = tf.keras.callbacks.EarlyStopping(monitor='val_loss', patience=5, verbose=1, restore_best_weights='True')\n",
    "  return [MC, ES]"
   ]
  },
  {
   "cell_type": "code",
   "execution_count": 56,
   "id": "207bba76",
   "metadata": {},
   "outputs": [
    {
     "name": "stdout",
     "output_type": "stream",
     "text": [
      "Epoch 1/200\n",
      "240/250 [===========================>..] - ETA: 0s - loss: 0.3941 - accuracy: 0.9148\n",
      "Epoch 1: val_loss improved from inf to 0.20146, saving model to saved_models/orangevsgrapefruit_model_2\n",
      "INFO:tensorflow:Unsupported signature for serialization: ((TensorSpec(shape=(5, 100), dtype=tf.float32, name='gradient'), <tensorflow.python.framework.func_graph.UnknownArgument object at 0x7f527c1102b0>, 139992245709040), {}).\n",
      "INFO:tensorflow:Unsupported signature for serialization: ((TensorSpec(shape=(100,), dtype=tf.float32, name='gradient'), <tensorflow.python.framework.func_graph.UnknownArgument object at 0x7f527c126790>, 139992245709120), {}).\n",
      "INFO:tensorflow:Unsupported signature for serialization: ((TensorSpec(shape=(100, 10), dtype=tf.float32, name='gradient'), <tensorflow.python.framework.func_graph.UnknownArgument object at 0x7f527c0b9700>, 139992245764304), {}).\n",
      "INFO:tensorflow:Unsupported signature for serialization: ((TensorSpec(shape=(10,), dtype=tf.float32, name='gradient'), <tensorflow.python.framework.func_graph.UnknownArgument object at 0x7f528c054cd0>, 139992245764384), {}).\n",
      "INFO:tensorflow:Unsupported signature for serialization: ((TensorSpec(shape=(10, 1), dtype=tf.float32, name='gradient'), <tensorflow.python.framework.func_graph.UnknownArgument object at 0x7f527c1d9f70>, 139992245766224), {}).\n",
      "INFO:tensorflow:Unsupported signature for serialization: ((TensorSpec(shape=(1,), dtype=tf.float32, name='gradient'), <tensorflow.python.framework.func_graph.UnknownArgument object at 0x7f527c0d40d0>, 139992245766304), {}).\n",
      "INFO:tensorflow:Unsupported signature for serialization: ((TensorSpec(shape=(5, 100), dtype=tf.float32, name='gradient'), <tensorflow.python.framework.func_graph.UnknownArgument object at 0x7f527c1102b0>, 139992245709040), {}).\n",
      "INFO:tensorflow:Unsupported signature for serialization: ((TensorSpec(shape=(100,), dtype=tf.float32, name='gradient'), <tensorflow.python.framework.func_graph.UnknownArgument object at 0x7f527c126790>, 139992245709120), {}).\n",
      "INFO:tensorflow:Unsupported signature for serialization: ((TensorSpec(shape=(100, 10), dtype=tf.float32, name='gradient'), <tensorflow.python.framework.func_graph.UnknownArgument object at 0x7f527c0b9700>, 139992245764304), {}).\n",
      "INFO:tensorflow:Unsupported signature for serialization: ((TensorSpec(shape=(10,), dtype=tf.float32, name='gradient'), <tensorflow.python.framework.func_graph.UnknownArgument object at 0x7f528c054cd0>, 139992245764384), {}).\n",
      "INFO:tensorflow:Unsupported signature for serialization: ((TensorSpec(shape=(10, 1), dtype=tf.float32, name='gradient'), <tensorflow.python.framework.func_graph.UnknownArgument object at 0x7f527c1d9f70>, 139992245766224), {}).\n",
      "INFO:tensorflow:Unsupported signature for serialization: ((TensorSpec(shape=(1,), dtype=tf.float32, name='gradient'), <tensorflow.python.framework.func_graph.UnknownArgument object at 0x7f527c0d40d0>, 139992245766304), {}).\n"
     ]
    },
    {
     "name": "stderr",
     "output_type": "stream",
     "text": [
      "WARNING:absl:Found untraced functions such as _update_step_xla while saving (showing 1 of 1). These functions will not be directly callable after loading.\n"
     ]
    },
    {
     "name": "stdout",
     "output_type": "stream",
     "text": [
      "INFO:tensorflow:Assets written to: saved_models/orangevsgrapefruit_model_2/assets\n"
     ]
    },
    {
     "name": "stderr",
     "output_type": "stream",
     "text": [
      "INFO:tensorflow:Assets written to: saved_models/orangevsgrapefruit_model_2/assets\n"
     ]
    },
    {
     "name": "stdout",
     "output_type": "stream",
     "text": [
      "250/250 [==============================] - 2s 6ms/step - loss: 0.3872 - accuracy: 0.9147 - val_loss: 0.2015 - val_accuracy: 0.9240\n",
      "Epoch 2/200\n",
      "250/250 [==============================] - ETA: 0s - loss: 0.1882 - accuracy: 0.9254\n",
      "Epoch 2: val_loss improved from 0.20146 to 0.17781, saving model to saved_models/orangevsgrapefruit_model_2\n",
      "INFO:tensorflow:Unsupported signature for serialization: ((TensorSpec(shape=(5, 100), dtype=tf.float32, name='gradient'), <tensorflow.python.framework.func_graph.UnknownArgument object at 0x7f527c1102b0>, 139992245709040), {}).\n"
     ]
    },
    {
     "name": "stderr",
     "output_type": "stream",
     "text": [
      "INFO:tensorflow:Unsupported signature for serialization: ((TensorSpec(shape=(5, 100), dtype=tf.float32, name='gradient'), <tensorflow.python.framework.func_graph.UnknownArgument object at 0x7f527c1102b0>, 139992245709040), {}).\n"
     ]
    },
    {
     "name": "stdout",
     "output_type": "stream",
     "text": [
      "INFO:tensorflow:Unsupported signature for serialization: ((TensorSpec(shape=(100,), dtype=tf.float32, name='gradient'), <tensorflow.python.framework.func_graph.UnknownArgument object at 0x7f527c126790>, 139992245709120), {}).\n"
     ]
    },
    {
     "name": "stderr",
     "output_type": "stream",
     "text": [
      "INFO:tensorflow:Unsupported signature for serialization: ((TensorSpec(shape=(100,), dtype=tf.float32, name='gradient'), <tensorflow.python.framework.func_graph.UnknownArgument object at 0x7f527c126790>, 139992245709120), {}).\n"
     ]
    },
    {
     "name": "stdout",
     "output_type": "stream",
     "text": [
      "INFO:tensorflow:Unsupported signature for serialization: ((TensorSpec(shape=(100, 10), dtype=tf.float32, name='gradient'), <tensorflow.python.framework.func_graph.UnknownArgument object at 0x7f527c0b9700>, 139992245764304), {}).\n"
     ]
    },
    {
     "name": "stderr",
     "output_type": "stream",
     "text": [
      "INFO:tensorflow:Unsupported signature for serialization: ((TensorSpec(shape=(100, 10), dtype=tf.float32, name='gradient'), <tensorflow.python.framework.func_graph.UnknownArgument object at 0x7f527c0b9700>, 139992245764304), {}).\n"
     ]
    },
    {
     "name": "stdout",
     "output_type": "stream",
     "text": [
      "INFO:tensorflow:Unsupported signature for serialization: ((TensorSpec(shape=(10,), dtype=tf.float32, name='gradient'), <tensorflow.python.framework.func_graph.UnknownArgument object at 0x7f528c054cd0>, 139992245764384), {}).\n"
     ]
    },
    {
     "name": "stderr",
     "output_type": "stream",
     "text": [
      "INFO:tensorflow:Unsupported signature for serialization: ((TensorSpec(shape=(10,), dtype=tf.float32, name='gradient'), <tensorflow.python.framework.func_graph.UnknownArgument object at 0x7f528c054cd0>, 139992245764384), {}).\n"
     ]
    },
    {
     "name": "stdout",
     "output_type": "stream",
     "text": [
      "INFO:tensorflow:Unsupported signature for serialization: ((TensorSpec(shape=(10, 1), dtype=tf.float32, name='gradient'), <tensorflow.python.framework.func_graph.UnknownArgument object at 0x7f527c1d9f70>, 139992245766224), {}).\n"
     ]
    },
    {
     "name": "stderr",
     "output_type": "stream",
     "text": [
      "INFO:tensorflow:Unsupported signature for serialization: ((TensorSpec(shape=(10, 1), dtype=tf.float32, name='gradient'), <tensorflow.python.framework.func_graph.UnknownArgument object at 0x7f527c1d9f70>, 139992245766224), {}).\n"
     ]
    },
    {
     "name": "stdout",
     "output_type": "stream",
     "text": [
      "INFO:tensorflow:Unsupported signature for serialization: ((TensorSpec(shape=(1,), dtype=tf.float32, name='gradient'), <tensorflow.python.framework.func_graph.UnknownArgument object at 0x7f527c0d40d0>, 139992245766304), {}).\n"
     ]
    },
    {
     "name": "stderr",
     "output_type": "stream",
     "text": [
      "INFO:tensorflow:Unsupported signature for serialization: ((TensorSpec(shape=(1,), dtype=tf.float32, name='gradient'), <tensorflow.python.framework.func_graph.UnknownArgument object at 0x7f527c0d40d0>, 139992245766304), {}).\n"
     ]
    },
    {
     "name": "stdout",
     "output_type": "stream",
     "text": [
      "INFO:tensorflow:Unsupported signature for serialization: ((TensorSpec(shape=(5, 100), dtype=tf.float32, name='gradient'), <tensorflow.python.framework.func_graph.UnknownArgument object at 0x7f527c1102b0>, 139992245709040), {}).\n"
     ]
    },
    {
     "name": "stderr",
     "output_type": "stream",
     "text": [
      "INFO:tensorflow:Unsupported signature for serialization: ((TensorSpec(shape=(5, 100), dtype=tf.float32, name='gradient'), <tensorflow.python.framework.func_graph.UnknownArgument object at 0x7f527c1102b0>, 139992245709040), {}).\n"
     ]
    },
    {
     "name": "stdout",
     "output_type": "stream",
     "text": [
      "INFO:tensorflow:Unsupported signature for serialization: ((TensorSpec(shape=(100,), dtype=tf.float32, name='gradient'), <tensorflow.python.framework.func_graph.UnknownArgument object at 0x7f527c126790>, 139992245709120), {}).\n"
     ]
    },
    {
     "name": "stderr",
     "output_type": "stream",
     "text": [
      "INFO:tensorflow:Unsupported signature for serialization: ((TensorSpec(shape=(100,), dtype=tf.float32, name='gradient'), <tensorflow.python.framework.func_graph.UnknownArgument object at 0x7f527c126790>, 139992245709120), {}).\n"
     ]
    },
    {
     "name": "stdout",
     "output_type": "stream",
     "text": [
      "INFO:tensorflow:Unsupported signature for serialization: ((TensorSpec(shape=(100, 10), dtype=tf.float32, name='gradient'), <tensorflow.python.framework.func_graph.UnknownArgument object at 0x7f527c0b9700>, 139992245764304), {}).\n"
     ]
    },
    {
     "name": "stderr",
     "output_type": "stream",
     "text": [
      "INFO:tensorflow:Unsupported signature for serialization: ((TensorSpec(shape=(100, 10), dtype=tf.float32, name='gradient'), <tensorflow.python.framework.func_graph.UnknownArgument object at 0x7f527c0b9700>, 139992245764304), {}).\n"
     ]
    },
    {
     "name": "stdout",
     "output_type": "stream",
     "text": [
      "INFO:tensorflow:Unsupported signature for serialization: ((TensorSpec(shape=(10,), dtype=tf.float32, name='gradient'), <tensorflow.python.framework.func_graph.UnknownArgument object at 0x7f528c054cd0>, 139992245764384), {}).\n"
     ]
    },
    {
     "name": "stderr",
     "output_type": "stream",
     "text": [
      "INFO:tensorflow:Unsupported signature for serialization: ((TensorSpec(shape=(10,), dtype=tf.float32, name='gradient'), <tensorflow.python.framework.func_graph.UnknownArgument object at 0x7f528c054cd0>, 139992245764384), {}).\n"
     ]
    },
    {
     "name": "stdout",
     "output_type": "stream",
     "text": [
      "INFO:tensorflow:Unsupported signature for serialization: ((TensorSpec(shape=(10, 1), dtype=tf.float32, name='gradient'), <tensorflow.python.framework.func_graph.UnknownArgument object at 0x7f527c1d9f70>, 139992245766224), {}).\n"
     ]
    },
    {
     "name": "stderr",
     "output_type": "stream",
     "text": [
      "INFO:tensorflow:Unsupported signature for serialization: ((TensorSpec(shape=(10, 1), dtype=tf.float32, name='gradient'), <tensorflow.python.framework.func_graph.UnknownArgument object at 0x7f527c1d9f70>, 139992245766224), {}).\n"
     ]
    },
    {
     "name": "stdout",
     "output_type": "stream",
     "text": [
      "INFO:tensorflow:Unsupported signature for serialization: ((TensorSpec(shape=(1,), dtype=tf.float32, name='gradient'), <tensorflow.python.framework.func_graph.UnknownArgument object at 0x7f527c0d40d0>, 139992245766304), {}).\n"
     ]
    },
    {
     "name": "stderr",
     "output_type": "stream",
     "text": [
      "INFO:tensorflow:Unsupported signature for serialization: ((TensorSpec(shape=(1,), dtype=tf.float32, name='gradient'), <tensorflow.python.framework.func_graph.UnknownArgument object at 0x7f527c0d40d0>, 139992245766304), {}).\n",
      "WARNING:absl:Found untraced functions such as _update_step_xla while saving (showing 1 of 1). These functions will not be directly callable after loading.\n"
     ]
    },
    {
     "name": "stdout",
     "output_type": "stream",
     "text": [
      "INFO:tensorflow:Assets written to: saved_models/orangevsgrapefruit_model_2/assets\n"
     ]
    },
    {
     "name": "stderr",
     "output_type": "stream",
     "text": [
      "INFO:tensorflow:Assets written to: saved_models/orangevsgrapefruit_model_2/assets\n"
     ]
    },
    {
     "name": "stdout",
     "output_type": "stream",
     "text": [
      "250/250 [==============================] - 1s 5ms/step - loss: 0.1882 - accuracy: 0.9254 - val_loss: 0.1778 - val_accuracy: 0.9315\n",
      "Epoch 3/200\n",
      "247/250 [============================>.] - ETA: 0s - loss: 0.1821 - accuracy: 0.9259\n",
      "Epoch 3: val_loss did not improve from 0.17781\n",
      "250/250 [==============================] - 1s 4ms/step - loss: 0.1816 - accuracy: 0.9261 - val_loss: 0.1787 - val_accuracy: 0.9305\n",
      "Epoch 4/200\n",
      "243/250 [============================>.] - ETA: 0s - loss: 0.1822 - accuracy: 0.9252\n",
      "Epoch 4: val_loss improved from 0.17781 to 0.17742, saving model to saved_models/orangevsgrapefruit_model_2\n",
      "INFO:tensorflow:Unsupported signature for serialization: ((TensorSpec(shape=(5, 100), dtype=tf.float32, name='gradient'), <tensorflow.python.framework.func_graph.UnknownArgument object at 0x7f527c1102b0>, 139992245709040), {}).\n"
     ]
    },
    {
     "name": "stderr",
     "output_type": "stream",
     "text": [
      "INFO:tensorflow:Unsupported signature for serialization: ((TensorSpec(shape=(5, 100), dtype=tf.float32, name='gradient'), <tensorflow.python.framework.func_graph.UnknownArgument object at 0x7f527c1102b0>, 139992245709040), {}).\n"
     ]
    },
    {
     "name": "stdout",
     "output_type": "stream",
     "text": [
      "INFO:tensorflow:Unsupported signature for serialization: ((TensorSpec(shape=(100,), dtype=tf.float32, name='gradient'), <tensorflow.python.framework.func_graph.UnknownArgument object at 0x7f527c126790>, 139992245709120), {}).\n"
     ]
    },
    {
     "name": "stderr",
     "output_type": "stream",
     "text": [
      "INFO:tensorflow:Unsupported signature for serialization: ((TensorSpec(shape=(100,), dtype=tf.float32, name='gradient'), <tensorflow.python.framework.func_graph.UnknownArgument object at 0x7f527c126790>, 139992245709120), {}).\n"
     ]
    },
    {
     "name": "stdout",
     "output_type": "stream",
     "text": [
      "INFO:tensorflow:Unsupported signature for serialization: ((TensorSpec(shape=(100, 10), dtype=tf.float32, name='gradient'), <tensorflow.python.framework.func_graph.UnknownArgument object at 0x7f527c0b9700>, 139992245764304), {}).\n"
     ]
    },
    {
     "name": "stderr",
     "output_type": "stream",
     "text": [
      "INFO:tensorflow:Unsupported signature for serialization: ((TensorSpec(shape=(100, 10), dtype=tf.float32, name='gradient'), <tensorflow.python.framework.func_graph.UnknownArgument object at 0x7f527c0b9700>, 139992245764304), {}).\n"
     ]
    },
    {
     "name": "stdout",
     "output_type": "stream",
     "text": [
      "INFO:tensorflow:Unsupported signature for serialization: ((TensorSpec(shape=(10,), dtype=tf.float32, name='gradient'), <tensorflow.python.framework.func_graph.UnknownArgument object at 0x7f528c054cd0>, 139992245764384), {}).\n"
     ]
    },
    {
     "name": "stderr",
     "output_type": "stream",
     "text": [
      "INFO:tensorflow:Unsupported signature for serialization: ((TensorSpec(shape=(10,), dtype=tf.float32, name='gradient'), <tensorflow.python.framework.func_graph.UnknownArgument object at 0x7f528c054cd0>, 139992245764384), {}).\n"
     ]
    },
    {
     "name": "stdout",
     "output_type": "stream",
     "text": [
      "INFO:tensorflow:Unsupported signature for serialization: ((TensorSpec(shape=(10, 1), dtype=tf.float32, name='gradient'), <tensorflow.python.framework.func_graph.UnknownArgument object at 0x7f527c1d9f70>, 139992245766224), {}).\n"
     ]
    },
    {
     "name": "stderr",
     "output_type": "stream",
     "text": [
      "INFO:tensorflow:Unsupported signature for serialization: ((TensorSpec(shape=(10, 1), dtype=tf.float32, name='gradient'), <tensorflow.python.framework.func_graph.UnknownArgument object at 0x7f527c1d9f70>, 139992245766224), {}).\n"
     ]
    },
    {
     "name": "stdout",
     "output_type": "stream",
     "text": [
      "INFO:tensorflow:Unsupported signature for serialization: ((TensorSpec(shape=(1,), dtype=tf.float32, name='gradient'), <tensorflow.python.framework.func_graph.UnknownArgument object at 0x7f527c0d40d0>, 139992245766304), {}).\n"
     ]
    },
    {
     "name": "stderr",
     "output_type": "stream",
     "text": [
      "INFO:tensorflow:Unsupported signature for serialization: ((TensorSpec(shape=(1,), dtype=tf.float32, name='gradient'), <tensorflow.python.framework.func_graph.UnknownArgument object at 0x7f527c0d40d0>, 139992245766304), {}).\n"
     ]
    },
    {
     "name": "stdout",
     "output_type": "stream",
     "text": [
      "INFO:tensorflow:Unsupported signature for serialization: ((TensorSpec(shape=(5, 100), dtype=tf.float32, name='gradient'), <tensorflow.python.framework.func_graph.UnknownArgument object at 0x7f527c1102b0>, 139992245709040), {}).\n"
     ]
    },
    {
     "name": "stderr",
     "output_type": "stream",
     "text": [
      "INFO:tensorflow:Unsupported signature for serialization: ((TensorSpec(shape=(5, 100), dtype=tf.float32, name='gradient'), <tensorflow.python.framework.func_graph.UnknownArgument object at 0x7f527c1102b0>, 139992245709040), {}).\n"
     ]
    },
    {
     "name": "stdout",
     "output_type": "stream",
     "text": [
      "INFO:tensorflow:Unsupported signature for serialization: ((TensorSpec(shape=(100,), dtype=tf.float32, name='gradient'), <tensorflow.python.framework.func_graph.UnknownArgument object at 0x7f527c126790>, 139992245709120), {}).\n"
     ]
    },
    {
     "name": "stderr",
     "output_type": "stream",
     "text": [
      "INFO:tensorflow:Unsupported signature for serialization: ((TensorSpec(shape=(100,), dtype=tf.float32, name='gradient'), <tensorflow.python.framework.func_graph.UnknownArgument object at 0x7f527c126790>, 139992245709120), {}).\n"
     ]
    },
    {
     "name": "stdout",
     "output_type": "stream",
     "text": [
      "INFO:tensorflow:Unsupported signature for serialization: ((TensorSpec(shape=(100, 10), dtype=tf.float32, name='gradient'), <tensorflow.python.framework.func_graph.UnknownArgument object at 0x7f527c0b9700>, 139992245764304), {}).\n"
     ]
    },
    {
     "name": "stderr",
     "output_type": "stream",
     "text": [
      "INFO:tensorflow:Unsupported signature for serialization: ((TensorSpec(shape=(100, 10), dtype=tf.float32, name='gradient'), <tensorflow.python.framework.func_graph.UnknownArgument object at 0x7f527c0b9700>, 139992245764304), {}).\n"
     ]
    },
    {
     "name": "stdout",
     "output_type": "stream",
     "text": [
      "INFO:tensorflow:Unsupported signature for serialization: ((TensorSpec(shape=(10,), dtype=tf.float32, name='gradient'), <tensorflow.python.framework.func_graph.UnknownArgument object at 0x7f528c054cd0>, 139992245764384), {}).\n"
     ]
    },
    {
     "name": "stderr",
     "output_type": "stream",
     "text": [
      "INFO:tensorflow:Unsupported signature for serialization: ((TensorSpec(shape=(10,), dtype=tf.float32, name='gradient'), <tensorflow.python.framework.func_graph.UnknownArgument object at 0x7f528c054cd0>, 139992245764384), {}).\n"
     ]
    },
    {
     "name": "stdout",
     "output_type": "stream",
     "text": [
      "INFO:tensorflow:Unsupported signature for serialization: ((TensorSpec(shape=(10, 1), dtype=tf.float32, name='gradient'), <tensorflow.python.framework.func_graph.UnknownArgument object at 0x7f527c1d9f70>, 139992245766224), {}).\n"
     ]
    },
    {
     "name": "stderr",
     "output_type": "stream",
     "text": [
      "INFO:tensorflow:Unsupported signature for serialization: ((TensorSpec(shape=(10, 1), dtype=tf.float32, name='gradient'), <tensorflow.python.framework.func_graph.UnknownArgument object at 0x7f527c1d9f70>, 139992245766224), {}).\n"
     ]
    },
    {
     "name": "stdout",
     "output_type": "stream",
     "text": [
      "INFO:tensorflow:Unsupported signature for serialization: ((TensorSpec(shape=(1,), dtype=tf.float32, name='gradient'), <tensorflow.python.framework.func_graph.UnknownArgument object at 0x7f527c0d40d0>, 139992245766304), {}).\n"
     ]
    },
    {
     "name": "stderr",
     "output_type": "stream",
     "text": [
      "INFO:tensorflow:Unsupported signature for serialization: ((TensorSpec(shape=(1,), dtype=tf.float32, name='gradient'), <tensorflow.python.framework.func_graph.UnknownArgument object at 0x7f527c0d40d0>, 139992245766304), {}).\n",
      "WARNING:absl:Found untraced functions such as _update_step_xla while saving (showing 1 of 1). These functions will not be directly callable after loading.\n"
     ]
    },
    {
     "name": "stdout",
     "output_type": "stream",
     "text": [
      "INFO:tensorflow:Assets written to: saved_models/orangevsgrapefruit_model_2/assets\n"
     ]
    },
    {
     "name": "stderr",
     "output_type": "stream",
     "text": [
      "INFO:tensorflow:Assets written to: saved_models/orangevsgrapefruit_model_2/assets\n"
     ]
    },
    {
     "name": "stdout",
     "output_type": "stream",
     "text": [
      "250/250 [==============================] - 1s 5ms/step - loss: 0.1831 - accuracy: 0.9246 - val_loss: 0.1774 - val_accuracy: 0.9290\n",
      "Epoch 5/200\n",
      "247/250 [============================>.] - ETA: 0s - loss: 0.1819 - accuracy: 0.9255\n",
      "Epoch 5: val_loss improved from 0.17742 to 0.17465, saving model to saved_models/orangevsgrapefruit_model_2\n",
      "INFO:tensorflow:Unsupported signature for serialization: ((TensorSpec(shape=(5, 100), dtype=tf.float32, name='gradient'), <tensorflow.python.framework.func_graph.UnknownArgument object at 0x7f527c1102b0>, 139992245709040), {}).\n"
     ]
    },
    {
     "name": "stderr",
     "output_type": "stream",
     "text": [
      "INFO:tensorflow:Unsupported signature for serialization: ((TensorSpec(shape=(5, 100), dtype=tf.float32, name='gradient'), <tensorflow.python.framework.func_graph.UnknownArgument object at 0x7f527c1102b0>, 139992245709040), {}).\n"
     ]
    },
    {
     "name": "stdout",
     "output_type": "stream",
     "text": [
      "INFO:tensorflow:Unsupported signature for serialization: ((TensorSpec(shape=(100,), dtype=tf.float32, name='gradient'), <tensorflow.python.framework.func_graph.UnknownArgument object at 0x7f527c126790>, 139992245709120), {}).\n"
     ]
    },
    {
     "name": "stderr",
     "output_type": "stream",
     "text": [
      "INFO:tensorflow:Unsupported signature for serialization: ((TensorSpec(shape=(100,), dtype=tf.float32, name='gradient'), <tensorflow.python.framework.func_graph.UnknownArgument object at 0x7f527c126790>, 139992245709120), {}).\n"
     ]
    },
    {
     "name": "stdout",
     "output_type": "stream",
     "text": [
      "INFO:tensorflow:Unsupported signature for serialization: ((TensorSpec(shape=(100, 10), dtype=tf.float32, name='gradient'), <tensorflow.python.framework.func_graph.UnknownArgument object at 0x7f527c0b9700>, 139992245764304), {}).\n"
     ]
    },
    {
     "name": "stderr",
     "output_type": "stream",
     "text": [
      "INFO:tensorflow:Unsupported signature for serialization: ((TensorSpec(shape=(100, 10), dtype=tf.float32, name='gradient'), <tensorflow.python.framework.func_graph.UnknownArgument object at 0x7f527c0b9700>, 139992245764304), {}).\n"
     ]
    },
    {
     "name": "stdout",
     "output_type": "stream",
     "text": [
      "INFO:tensorflow:Unsupported signature for serialization: ((TensorSpec(shape=(10,), dtype=tf.float32, name='gradient'), <tensorflow.python.framework.func_graph.UnknownArgument object at 0x7f528c054cd0>, 139992245764384), {}).\n"
     ]
    },
    {
     "name": "stderr",
     "output_type": "stream",
     "text": [
      "INFO:tensorflow:Unsupported signature for serialization: ((TensorSpec(shape=(10,), dtype=tf.float32, name='gradient'), <tensorflow.python.framework.func_graph.UnknownArgument object at 0x7f528c054cd0>, 139992245764384), {}).\n"
     ]
    },
    {
     "name": "stdout",
     "output_type": "stream",
     "text": [
      "INFO:tensorflow:Unsupported signature for serialization: ((TensorSpec(shape=(10, 1), dtype=tf.float32, name='gradient'), <tensorflow.python.framework.func_graph.UnknownArgument object at 0x7f527c1d9f70>, 139992245766224), {}).\n"
     ]
    },
    {
     "name": "stderr",
     "output_type": "stream",
     "text": [
      "INFO:tensorflow:Unsupported signature for serialization: ((TensorSpec(shape=(10, 1), dtype=tf.float32, name='gradient'), <tensorflow.python.framework.func_graph.UnknownArgument object at 0x7f527c1d9f70>, 139992245766224), {}).\n"
     ]
    },
    {
     "name": "stdout",
     "output_type": "stream",
     "text": [
      "INFO:tensorflow:Unsupported signature for serialization: ((TensorSpec(shape=(1,), dtype=tf.float32, name='gradient'), <tensorflow.python.framework.func_graph.UnknownArgument object at 0x7f527c0d40d0>, 139992245766304), {}).\n"
     ]
    },
    {
     "name": "stderr",
     "output_type": "stream",
     "text": [
      "INFO:tensorflow:Unsupported signature for serialization: ((TensorSpec(shape=(1,), dtype=tf.float32, name='gradient'), <tensorflow.python.framework.func_graph.UnknownArgument object at 0x7f527c0d40d0>, 139992245766304), {}).\n"
     ]
    },
    {
     "name": "stdout",
     "output_type": "stream",
     "text": [
      "INFO:tensorflow:Unsupported signature for serialization: ((TensorSpec(shape=(5, 100), dtype=tf.float32, name='gradient'), <tensorflow.python.framework.func_graph.UnknownArgument object at 0x7f527c1102b0>, 139992245709040), {}).\n"
     ]
    },
    {
     "name": "stderr",
     "output_type": "stream",
     "text": [
      "INFO:tensorflow:Unsupported signature for serialization: ((TensorSpec(shape=(5, 100), dtype=tf.float32, name='gradient'), <tensorflow.python.framework.func_graph.UnknownArgument object at 0x7f527c1102b0>, 139992245709040), {}).\n"
     ]
    },
    {
     "name": "stdout",
     "output_type": "stream",
     "text": [
      "INFO:tensorflow:Unsupported signature for serialization: ((TensorSpec(shape=(100,), dtype=tf.float32, name='gradient'), <tensorflow.python.framework.func_graph.UnknownArgument object at 0x7f527c126790>, 139992245709120), {}).\n"
     ]
    },
    {
     "name": "stderr",
     "output_type": "stream",
     "text": [
      "INFO:tensorflow:Unsupported signature for serialization: ((TensorSpec(shape=(100,), dtype=tf.float32, name='gradient'), <tensorflow.python.framework.func_graph.UnknownArgument object at 0x7f527c126790>, 139992245709120), {}).\n"
     ]
    },
    {
     "name": "stdout",
     "output_type": "stream",
     "text": [
      "INFO:tensorflow:Unsupported signature for serialization: ((TensorSpec(shape=(100, 10), dtype=tf.float32, name='gradient'), <tensorflow.python.framework.func_graph.UnknownArgument object at 0x7f527c0b9700>, 139992245764304), {}).\n"
     ]
    },
    {
     "name": "stderr",
     "output_type": "stream",
     "text": [
      "INFO:tensorflow:Unsupported signature for serialization: ((TensorSpec(shape=(100, 10), dtype=tf.float32, name='gradient'), <tensorflow.python.framework.func_graph.UnknownArgument object at 0x7f527c0b9700>, 139992245764304), {}).\n"
     ]
    },
    {
     "name": "stdout",
     "output_type": "stream",
     "text": [
      "INFO:tensorflow:Unsupported signature for serialization: ((TensorSpec(shape=(10,), dtype=tf.float32, name='gradient'), <tensorflow.python.framework.func_graph.UnknownArgument object at 0x7f528c054cd0>, 139992245764384), {}).\n"
     ]
    },
    {
     "name": "stderr",
     "output_type": "stream",
     "text": [
      "INFO:tensorflow:Unsupported signature for serialization: ((TensorSpec(shape=(10,), dtype=tf.float32, name='gradient'), <tensorflow.python.framework.func_graph.UnknownArgument object at 0x7f528c054cd0>, 139992245764384), {}).\n"
     ]
    },
    {
     "name": "stdout",
     "output_type": "stream",
     "text": [
      "INFO:tensorflow:Unsupported signature for serialization: ((TensorSpec(shape=(10, 1), dtype=tf.float32, name='gradient'), <tensorflow.python.framework.func_graph.UnknownArgument object at 0x7f527c1d9f70>, 139992245766224), {}).\n"
     ]
    },
    {
     "name": "stderr",
     "output_type": "stream",
     "text": [
      "INFO:tensorflow:Unsupported signature for serialization: ((TensorSpec(shape=(10, 1), dtype=tf.float32, name='gradient'), <tensorflow.python.framework.func_graph.UnknownArgument object at 0x7f527c1d9f70>, 139992245766224), {}).\n"
     ]
    },
    {
     "name": "stdout",
     "output_type": "stream",
     "text": [
      "INFO:tensorflow:Unsupported signature for serialization: ((TensorSpec(shape=(1,), dtype=tf.float32, name='gradient'), <tensorflow.python.framework.func_graph.UnknownArgument object at 0x7f527c0d40d0>, 139992245766304), {}).\n"
     ]
    },
    {
     "name": "stderr",
     "output_type": "stream",
     "text": [
      "INFO:tensorflow:Unsupported signature for serialization: ((TensorSpec(shape=(1,), dtype=tf.float32, name='gradient'), <tensorflow.python.framework.func_graph.UnknownArgument object at 0x7f527c0d40d0>, 139992245766304), {}).\n",
      "WARNING:absl:Found untraced functions such as _update_step_xla while saving (showing 1 of 1). These functions will not be directly callable after loading.\n"
     ]
    },
    {
     "name": "stdout",
     "output_type": "stream",
     "text": [
      "INFO:tensorflow:Assets written to: saved_models/orangevsgrapefruit_model_2/assets\n"
     ]
    },
    {
     "name": "stderr",
     "output_type": "stream",
     "text": [
      "INFO:tensorflow:Assets written to: saved_models/orangevsgrapefruit_model_2/assets\n"
     ]
    },
    {
     "name": "stdout",
     "output_type": "stream",
     "text": [
      "250/250 [==============================] - 1s 5ms/step - loss: 0.1814 - accuracy: 0.9258 - val_loss: 0.1747 - val_accuracy: 0.9305\n",
      "Epoch 6/200\n",
      "248/250 [============================>.] - ETA: 0s - loss: 0.1798 - accuracy: 0.9267\n",
      "Epoch 6: val_loss improved from 0.17465 to 0.17463, saving model to saved_models/orangevsgrapefruit_model_2\n",
      "INFO:tensorflow:Unsupported signature for serialization: ((TensorSpec(shape=(5, 100), dtype=tf.float32, name='gradient'), <tensorflow.python.framework.func_graph.UnknownArgument object at 0x7f527c1102b0>, 139992245709040), {}).\n"
     ]
    },
    {
     "name": "stderr",
     "output_type": "stream",
     "text": [
      "INFO:tensorflow:Unsupported signature for serialization: ((TensorSpec(shape=(5, 100), dtype=tf.float32, name='gradient'), <tensorflow.python.framework.func_graph.UnknownArgument object at 0x7f527c1102b0>, 139992245709040), {}).\n"
     ]
    },
    {
     "name": "stdout",
     "output_type": "stream",
     "text": [
      "INFO:tensorflow:Unsupported signature for serialization: ((TensorSpec(shape=(100,), dtype=tf.float32, name='gradient'), <tensorflow.python.framework.func_graph.UnknownArgument object at 0x7f527c126790>, 139992245709120), {}).\n"
     ]
    },
    {
     "name": "stderr",
     "output_type": "stream",
     "text": [
      "INFO:tensorflow:Unsupported signature for serialization: ((TensorSpec(shape=(100,), dtype=tf.float32, name='gradient'), <tensorflow.python.framework.func_graph.UnknownArgument object at 0x7f527c126790>, 139992245709120), {}).\n"
     ]
    },
    {
     "name": "stdout",
     "output_type": "stream",
     "text": [
      "INFO:tensorflow:Unsupported signature for serialization: ((TensorSpec(shape=(100, 10), dtype=tf.float32, name='gradient'), <tensorflow.python.framework.func_graph.UnknownArgument object at 0x7f527c0b9700>, 139992245764304), {}).\n"
     ]
    },
    {
     "name": "stderr",
     "output_type": "stream",
     "text": [
      "INFO:tensorflow:Unsupported signature for serialization: ((TensorSpec(shape=(100, 10), dtype=tf.float32, name='gradient'), <tensorflow.python.framework.func_graph.UnknownArgument object at 0x7f527c0b9700>, 139992245764304), {}).\n"
     ]
    },
    {
     "name": "stdout",
     "output_type": "stream",
     "text": [
      "INFO:tensorflow:Unsupported signature for serialization: ((TensorSpec(shape=(10,), dtype=tf.float32, name='gradient'), <tensorflow.python.framework.func_graph.UnknownArgument object at 0x7f528c054cd0>, 139992245764384), {}).\n"
     ]
    },
    {
     "name": "stderr",
     "output_type": "stream",
     "text": [
      "INFO:tensorflow:Unsupported signature for serialization: ((TensorSpec(shape=(10,), dtype=tf.float32, name='gradient'), <tensorflow.python.framework.func_graph.UnknownArgument object at 0x7f528c054cd0>, 139992245764384), {}).\n"
     ]
    },
    {
     "name": "stdout",
     "output_type": "stream",
     "text": [
      "INFO:tensorflow:Unsupported signature for serialization: ((TensorSpec(shape=(10, 1), dtype=tf.float32, name='gradient'), <tensorflow.python.framework.func_graph.UnknownArgument object at 0x7f527c1d9f70>, 139992245766224), {}).\n"
     ]
    },
    {
     "name": "stderr",
     "output_type": "stream",
     "text": [
      "INFO:tensorflow:Unsupported signature for serialization: ((TensorSpec(shape=(10, 1), dtype=tf.float32, name='gradient'), <tensorflow.python.framework.func_graph.UnknownArgument object at 0x7f527c1d9f70>, 139992245766224), {}).\n"
     ]
    },
    {
     "name": "stdout",
     "output_type": "stream",
     "text": [
      "INFO:tensorflow:Unsupported signature for serialization: ((TensorSpec(shape=(1,), dtype=tf.float32, name='gradient'), <tensorflow.python.framework.func_graph.UnknownArgument object at 0x7f527c0d40d0>, 139992245766304), {}).\n"
     ]
    },
    {
     "name": "stderr",
     "output_type": "stream",
     "text": [
      "INFO:tensorflow:Unsupported signature for serialization: ((TensorSpec(shape=(1,), dtype=tf.float32, name='gradient'), <tensorflow.python.framework.func_graph.UnknownArgument object at 0x7f527c0d40d0>, 139992245766304), {}).\n"
     ]
    },
    {
     "name": "stdout",
     "output_type": "stream",
     "text": [
      "INFO:tensorflow:Unsupported signature for serialization: ((TensorSpec(shape=(5, 100), dtype=tf.float32, name='gradient'), <tensorflow.python.framework.func_graph.UnknownArgument object at 0x7f527c1102b0>, 139992245709040), {}).\n"
     ]
    },
    {
     "name": "stderr",
     "output_type": "stream",
     "text": [
      "INFO:tensorflow:Unsupported signature for serialization: ((TensorSpec(shape=(5, 100), dtype=tf.float32, name='gradient'), <tensorflow.python.framework.func_graph.UnknownArgument object at 0x7f527c1102b0>, 139992245709040), {}).\n"
     ]
    },
    {
     "name": "stdout",
     "output_type": "stream",
     "text": [
      "INFO:tensorflow:Unsupported signature for serialization: ((TensorSpec(shape=(100,), dtype=tf.float32, name='gradient'), <tensorflow.python.framework.func_graph.UnknownArgument object at 0x7f527c126790>, 139992245709120), {}).\n"
     ]
    },
    {
     "name": "stderr",
     "output_type": "stream",
     "text": [
      "INFO:tensorflow:Unsupported signature for serialization: ((TensorSpec(shape=(100,), dtype=tf.float32, name='gradient'), <tensorflow.python.framework.func_graph.UnknownArgument object at 0x7f527c126790>, 139992245709120), {}).\n"
     ]
    },
    {
     "name": "stdout",
     "output_type": "stream",
     "text": [
      "INFO:tensorflow:Unsupported signature for serialization: ((TensorSpec(shape=(100, 10), dtype=tf.float32, name='gradient'), <tensorflow.python.framework.func_graph.UnknownArgument object at 0x7f527c0b9700>, 139992245764304), {}).\n"
     ]
    },
    {
     "name": "stderr",
     "output_type": "stream",
     "text": [
      "INFO:tensorflow:Unsupported signature for serialization: ((TensorSpec(shape=(100, 10), dtype=tf.float32, name='gradient'), <tensorflow.python.framework.func_graph.UnknownArgument object at 0x7f527c0b9700>, 139992245764304), {}).\n"
     ]
    },
    {
     "name": "stdout",
     "output_type": "stream",
     "text": [
      "INFO:tensorflow:Unsupported signature for serialization: ((TensorSpec(shape=(10,), dtype=tf.float32, name='gradient'), <tensorflow.python.framework.func_graph.UnknownArgument object at 0x7f528c054cd0>, 139992245764384), {}).\n"
     ]
    },
    {
     "name": "stderr",
     "output_type": "stream",
     "text": [
      "INFO:tensorflow:Unsupported signature for serialization: ((TensorSpec(shape=(10,), dtype=tf.float32, name='gradient'), <tensorflow.python.framework.func_graph.UnknownArgument object at 0x7f528c054cd0>, 139992245764384), {}).\n"
     ]
    },
    {
     "name": "stdout",
     "output_type": "stream",
     "text": [
      "INFO:tensorflow:Unsupported signature for serialization: ((TensorSpec(shape=(10, 1), dtype=tf.float32, name='gradient'), <tensorflow.python.framework.func_graph.UnknownArgument object at 0x7f527c1d9f70>, 139992245766224), {}).\n"
     ]
    },
    {
     "name": "stderr",
     "output_type": "stream",
     "text": [
      "INFO:tensorflow:Unsupported signature for serialization: ((TensorSpec(shape=(10, 1), dtype=tf.float32, name='gradient'), <tensorflow.python.framework.func_graph.UnknownArgument object at 0x7f527c1d9f70>, 139992245766224), {}).\n"
     ]
    },
    {
     "name": "stdout",
     "output_type": "stream",
     "text": [
      "INFO:tensorflow:Unsupported signature for serialization: ((TensorSpec(shape=(1,), dtype=tf.float32, name='gradient'), <tensorflow.python.framework.func_graph.UnknownArgument object at 0x7f527c0d40d0>, 139992245766304), {}).\n"
     ]
    },
    {
     "name": "stderr",
     "output_type": "stream",
     "text": [
      "INFO:tensorflow:Unsupported signature for serialization: ((TensorSpec(shape=(1,), dtype=tf.float32, name='gradient'), <tensorflow.python.framework.func_graph.UnknownArgument object at 0x7f527c0d40d0>, 139992245766304), {}).\n",
      "WARNING:absl:Found untraced functions such as _update_step_xla while saving (showing 1 of 1). These functions will not be directly callable after loading.\n"
     ]
    },
    {
     "name": "stdout",
     "output_type": "stream",
     "text": [
      "INFO:tensorflow:Assets written to: saved_models/orangevsgrapefruit_model_2/assets\n"
     ]
    },
    {
     "name": "stderr",
     "output_type": "stream",
     "text": [
      "INFO:tensorflow:Assets written to: saved_models/orangevsgrapefruit_model_2/assets\n"
     ]
    },
    {
     "name": "stdout",
     "output_type": "stream",
     "text": [
      "250/250 [==============================] - 2s 6ms/step - loss: 0.1804 - accuracy: 0.9262 - val_loss: 0.1746 - val_accuracy: 0.9305\n",
      "Epoch 7/200\n",
      "248/250 [============================>.] - ETA: 0s - loss: 0.1787 - accuracy: 0.9263\n",
      "Epoch 7: val_loss improved from 0.17463 to 0.17437, saving model to saved_models/orangevsgrapefruit_model_2\n",
      "INFO:tensorflow:Unsupported signature for serialization: ((TensorSpec(shape=(5, 100), dtype=tf.float32, name='gradient'), <tensorflow.python.framework.func_graph.UnknownArgument object at 0x7f527c1102b0>, 139992245709040), {}).\n"
     ]
    },
    {
     "name": "stderr",
     "output_type": "stream",
     "text": [
      "INFO:tensorflow:Unsupported signature for serialization: ((TensorSpec(shape=(5, 100), dtype=tf.float32, name='gradient'), <tensorflow.python.framework.func_graph.UnknownArgument object at 0x7f527c1102b0>, 139992245709040), {}).\n"
     ]
    },
    {
     "name": "stdout",
     "output_type": "stream",
     "text": [
      "INFO:tensorflow:Unsupported signature for serialization: ((TensorSpec(shape=(100,), dtype=tf.float32, name='gradient'), <tensorflow.python.framework.func_graph.UnknownArgument object at 0x7f527c126790>, 139992245709120), {}).\n"
     ]
    },
    {
     "name": "stderr",
     "output_type": "stream",
     "text": [
      "INFO:tensorflow:Unsupported signature for serialization: ((TensorSpec(shape=(100,), dtype=tf.float32, name='gradient'), <tensorflow.python.framework.func_graph.UnknownArgument object at 0x7f527c126790>, 139992245709120), {}).\n"
     ]
    },
    {
     "name": "stdout",
     "output_type": "stream",
     "text": [
      "INFO:tensorflow:Unsupported signature for serialization: ((TensorSpec(shape=(100, 10), dtype=tf.float32, name='gradient'), <tensorflow.python.framework.func_graph.UnknownArgument object at 0x7f527c0b9700>, 139992245764304), {}).\n"
     ]
    },
    {
     "name": "stderr",
     "output_type": "stream",
     "text": [
      "INFO:tensorflow:Unsupported signature for serialization: ((TensorSpec(shape=(100, 10), dtype=tf.float32, name='gradient'), <tensorflow.python.framework.func_graph.UnknownArgument object at 0x7f527c0b9700>, 139992245764304), {}).\n"
     ]
    },
    {
     "name": "stdout",
     "output_type": "stream",
     "text": [
      "INFO:tensorflow:Unsupported signature for serialization: ((TensorSpec(shape=(10,), dtype=tf.float32, name='gradient'), <tensorflow.python.framework.func_graph.UnknownArgument object at 0x7f528c054cd0>, 139992245764384), {}).\n"
     ]
    },
    {
     "name": "stderr",
     "output_type": "stream",
     "text": [
      "INFO:tensorflow:Unsupported signature for serialization: ((TensorSpec(shape=(10,), dtype=tf.float32, name='gradient'), <tensorflow.python.framework.func_graph.UnknownArgument object at 0x7f528c054cd0>, 139992245764384), {}).\n"
     ]
    },
    {
     "name": "stdout",
     "output_type": "stream",
     "text": [
      "INFO:tensorflow:Unsupported signature for serialization: ((TensorSpec(shape=(10, 1), dtype=tf.float32, name='gradient'), <tensorflow.python.framework.func_graph.UnknownArgument object at 0x7f527c1d9f70>, 139992245766224), {}).\n"
     ]
    },
    {
     "name": "stderr",
     "output_type": "stream",
     "text": [
      "INFO:tensorflow:Unsupported signature for serialization: ((TensorSpec(shape=(10, 1), dtype=tf.float32, name='gradient'), <tensorflow.python.framework.func_graph.UnknownArgument object at 0x7f527c1d9f70>, 139992245766224), {}).\n"
     ]
    },
    {
     "name": "stdout",
     "output_type": "stream",
     "text": [
      "INFO:tensorflow:Unsupported signature for serialization: ((TensorSpec(shape=(1,), dtype=tf.float32, name='gradient'), <tensorflow.python.framework.func_graph.UnknownArgument object at 0x7f527c0d40d0>, 139992245766304), {}).\n"
     ]
    },
    {
     "name": "stderr",
     "output_type": "stream",
     "text": [
      "INFO:tensorflow:Unsupported signature for serialization: ((TensorSpec(shape=(1,), dtype=tf.float32, name='gradient'), <tensorflow.python.framework.func_graph.UnknownArgument object at 0x7f527c0d40d0>, 139992245766304), {}).\n"
     ]
    },
    {
     "name": "stdout",
     "output_type": "stream",
     "text": [
      "INFO:tensorflow:Unsupported signature for serialization: ((TensorSpec(shape=(5, 100), dtype=tf.float32, name='gradient'), <tensorflow.python.framework.func_graph.UnknownArgument object at 0x7f527c1102b0>, 139992245709040), {}).\n"
     ]
    },
    {
     "name": "stderr",
     "output_type": "stream",
     "text": [
      "INFO:tensorflow:Unsupported signature for serialization: ((TensorSpec(shape=(5, 100), dtype=tf.float32, name='gradient'), <tensorflow.python.framework.func_graph.UnknownArgument object at 0x7f527c1102b0>, 139992245709040), {}).\n"
     ]
    },
    {
     "name": "stdout",
     "output_type": "stream",
     "text": [
      "INFO:tensorflow:Unsupported signature for serialization: ((TensorSpec(shape=(100,), dtype=tf.float32, name='gradient'), <tensorflow.python.framework.func_graph.UnknownArgument object at 0x7f527c126790>, 139992245709120), {}).\n"
     ]
    },
    {
     "name": "stderr",
     "output_type": "stream",
     "text": [
      "INFO:tensorflow:Unsupported signature for serialization: ((TensorSpec(shape=(100,), dtype=tf.float32, name='gradient'), <tensorflow.python.framework.func_graph.UnknownArgument object at 0x7f527c126790>, 139992245709120), {}).\n"
     ]
    },
    {
     "name": "stdout",
     "output_type": "stream",
     "text": [
      "INFO:tensorflow:Unsupported signature for serialization: ((TensorSpec(shape=(100, 10), dtype=tf.float32, name='gradient'), <tensorflow.python.framework.func_graph.UnknownArgument object at 0x7f527c0b9700>, 139992245764304), {}).\n"
     ]
    },
    {
     "name": "stderr",
     "output_type": "stream",
     "text": [
      "INFO:tensorflow:Unsupported signature for serialization: ((TensorSpec(shape=(100, 10), dtype=tf.float32, name='gradient'), <tensorflow.python.framework.func_graph.UnknownArgument object at 0x7f527c0b9700>, 139992245764304), {}).\n"
     ]
    },
    {
     "name": "stdout",
     "output_type": "stream",
     "text": [
      "INFO:tensorflow:Unsupported signature for serialization: ((TensorSpec(shape=(10,), dtype=tf.float32, name='gradient'), <tensorflow.python.framework.func_graph.UnknownArgument object at 0x7f528c054cd0>, 139992245764384), {}).\n"
     ]
    },
    {
     "name": "stderr",
     "output_type": "stream",
     "text": [
      "INFO:tensorflow:Unsupported signature for serialization: ((TensorSpec(shape=(10,), dtype=tf.float32, name='gradient'), <tensorflow.python.framework.func_graph.UnknownArgument object at 0x7f528c054cd0>, 139992245764384), {}).\n"
     ]
    },
    {
     "name": "stdout",
     "output_type": "stream",
     "text": [
      "INFO:tensorflow:Unsupported signature for serialization: ((TensorSpec(shape=(10, 1), dtype=tf.float32, name='gradient'), <tensorflow.python.framework.func_graph.UnknownArgument object at 0x7f527c1d9f70>, 139992245766224), {}).\n"
     ]
    },
    {
     "name": "stderr",
     "output_type": "stream",
     "text": [
      "INFO:tensorflow:Unsupported signature for serialization: ((TensorSpec(shape=(10, 1), dtype=tf.float32, name='gradient'), <tensorflow.python.framework.func_graph.UnknownArgument object at 0x7f527c1d9f70>, 139992245766224), {}).\n"
     ]
    },
    {
     "name": "stdout",
     "output_type": "stream",
     "text": [
      "INFO:tensorflow:Unsupported signature for serialization: ((TensorSpec(shape=(1,), dtype=tf.float32, name='gradient'), <tensorflow.python.framework.func_graph.UnknownArgument object at 0x7f527c0d40d0>, 139992245766304), {}).\n"
     ]
    },
    {
     "name": "stderr",
     "output_type": "stream",
     "text": [
      "INFO:tensorflow:Unsupported signature for serialization: ((TensorSpec(shape=(1,), dtype=tf.float32, name='gradient'), <tensorflow.python.framework.func_graph.UnknownArgument object at 0x7f527c0d40d0>, 139992245766304), {}).\n",
      "WARNING:absl:Found untraced functions such as _update_step_xla while saving (showing 1 of 1). These functions will not be directly callable after loading.\n"
     ]
    },
    {
     "name": "stdout",
     "output_type": "stream",
     "text": [
      "INFO:tensorflow:Assets written to: saved_models/orangevsgrapefruit_model_2/assets\n"
     ]
    },
    {
     "name": "stderr",
     "output_type": "stream",
     "text": [
      "INFO:tensorflow:Assets written to: saved_models/orangevsgrapefruit_model_2/assets\n"
     ]
    },
    {
     "name": "stdout",
     "output_type": "stream",
     "text": [
      "250/250 [==============================] - 1s 5ms/step - loss: 0.1800 - accuracy: 0.9260 - val_loss: 0.1744 - val_accuracy: 0.9310\n",
      "Epoch 8/200\n",
      "241/250 [===========================>..] - ETA: 0s - loss: 0.1800 - accuracy: 0.9287\n",
      "Epoch 8: val_loss did not improve from 0.17437\n",
      "250/250 [==============================] - 1s 4ms/step - loss: 0.1805 - accuracy: 0.9285 - val_loss: 0.1745 - val_accuracy: 0.9300\n",
      "Epoch 9/200\n",
      "245/250 [============================>.] - ETA: 0s - loss: 0.1804 - accuracy: 0.9265\n",
      "Epoch 9: val_loss improved from 0.17437 to 0.17429, saving model to saved_models/orangevsgrapefruit_model_2\n",
      "INFO:tensorflow:Unsupported signature for serialization: ((TensorSpec(shape=(5, 100), dtype=tf.float32, name='gradient'), <tensorflow.python.framework.func_graph.UnknownArgument object at 0x7f527c1102b0>, 139992245709040), {}).\n"
     ]
    },
    {
     "name": "stderr",
     "output_type": "stream",
     "text": [
      "INFO:tensorflow:Unsupported signature for serialization: ((TensorSpec(shape=(5, 100), dtype=tf.float32, name='gradient'), <tensorflow.python.framework.func_graph.UnknownArgument object at 0x7f527c1102b0>, 139992245709040), {}).\n"
     ]
    },
    {
     "name": "stdout",
     "output_type": "stream",
     "text": [
      "INFO:tensorflow:Unsupported signature for serialization: ((TensorSpec(shape=(100,), dtype=tf.float32, name='gradient'), <tensorflow.python.framework.func_graph.UnknownArgument object at 0x7f527c126790>, 139992245709120), {}).\n"
     ]
    },
    {
     "name": "stderr",
     "output_type": "stream",
     "text": [
      "INFO:tensorflow:Unsupported signature for serialization: ((TensorSpec(shape=(100,), dtype=tf.float32, name='gradient'), <tensorflow.python.framework.func_graph.UnknownArgument object at 0x7f527c126790>, 139992245709120), {}).\n"
     ]
    },
    {
     "name": "stdout",
     "output_type": "stream",
     "text": [
      "INFO:tensorflow:Unsupported signature for serialization: ((TensorSpec(shape=(100, 10), dtype=tf.float32, name='gradient'), <tensorflow.python.framework.func_graph.UnknownArgument object at 0x7f527c0b9700>, 139992245764304), {}).\n"
     ]
    },
    {
     "name": "stderr",
     "output_type": "stream",
     "text": [
      "INFO:tensorflow:Unsupported signature for serialization: ((TensorSpec(shape=(100, 10), dtype=tf.float32, name='gradient'), <tensorflow.python.framework.func_graph.UnknownArgument object at 0x7f527c0b9700>, 139992245764304), {}).\n"
     ]
    },
    {
     "name": "stdout",
     "output_type": "stream",
     "text": [
      "INFO:tensorflow:Unsupported signature for serialization: ((TensorSpec(shape=(10,), dtype=tf.float32, name='gradient'), <tensorflow.python.framework.func_graph.UnknownArgument object at 0x7f528c054cd0>, 139992245764384), {}).\n"
     ]
    },
    {
     "name": "stderr",
     "output_type": "stream",
     "text": [
      "INFO:tensorflow:Unsupported signature for serialization: ((TensorSpec(shape=(10,), dtype=tf.float32, name='gradient'), <tensorflow.python.framework.func_graph.UnknownArgument object at 0x7f528c054cd0>, 139992245764384), {}).\n"
     ]
    },
    {
     "name": "stdout",
     "output_type": "stream",
     "text": [
      "INFO:tensorflow:Unsupported signature for serialization: ((TensorSpec(shape=(10, 1), dtype=tf.float32, name='gradient'), <tensorflow.python.framework.func_graph.UnknownArgument object at 0x7f527c1d9f70>, 139992245766224), {}).\n"
     ]
    },
    {
     "name": "stderr",
     "output_type": "stream",
     "text": [
      "INFO:tensorflow:Unsupported signature for serialization: ((TensorSpec(shape=(10, 1), dtype=tf.float32, name='gradient'), <tensorflow.python.framework.func_graph.UnknownArgument object at 0x7f527c1d9f70>, 139992245766224), {}).\n"
     ]
    },
    {
     "name": "stdout",
     "output_type": "stream",
     "text": [
      "INFO:tensorflow:Unsupported signature for serialization: ((TensorSpec(shape=(1,), dtype=tf.float32, name='gradient'), <tensorflow.python.framework.func_graph.UnknownArgument object at 0x7f527c0d40d0>, 139992245766304), {}).\n"
     ]
    },
    {
     "name": "stderr",
     "output_type": "stream",
     "text": [
      "INFO:tensorflow:Unsupported signature for serialization: ((TensorSpec(shape=(1,), dtype=tf.float32, name='gradient'), <tensorflow.python.framework.func_graph.UnknownArgument object at 0x7f527c0d40d0>, 139992245766304), {}).\n"
     ]
    },
    {
     "name": "stdout",
     "output_type": "stream",
     "text": [
      "INFO:tensorflow:Unsupported signature for serialization: ((TensorSpec(shape=(5, 100), dtype=tf.float32, name='gradient'), <tensorflow.python.framework.func_graph.UnknownArgument object at 0x7f527c1102b0>, 139992245709040), {}).\n"
     ]
    },
    {
     "name": "stderr",
     "output_type": "stream",
     "text": [
      "INFO:tensorflow:Unsupported signature for serialization: ((TensorSpec(shape=(5, 100), dtype=tf.float32, name='gradient'), <tensorflow.python.framework.func_graph.UnknownArgument object at 0x7f527c1102b0>, 139992245709040), {}).\n"
     ]
    },
    {
     "name": "stdout",
     "output_type": "stream",
     "text": [
      "INFO:tensorflow:Unsupported signature for serialization: ((TensorSpec(shape=(100,), dtype=tf.float32, name='gradient'), <tensorflow.python.framework.func_graph.UnknownArgument object at 0x7f527c126790>, 139992245709120), {}).\n"
     ]
    },
    {
     "name": "stderr",
     "output_type": "stream",
     "text": [
      "INFO:tensorflow:Unsupported signature for serialization: ((TensorSpec(shape=(100,), dtype=tf.float32, name='gradient'), <tensorflow.python.framework.func_graph.UnknownArgument object at 0x7f527c126790>, 139992245709120), {}).\n"
     ]
    },
    {
     "name": "stdout",
     "output_type": "stream",
     "text": [
      "INFO:tensorflow:Unsupported signature for serialization: ((TensorSpec(shape=(100, 10), dtype=tf.float32, name='gradient'), <tensorflow.python.framework.func_graph.UnknownArgument object at 0x7f527c0b9700>, 139992245764304), {}).\n"
     ]
    },
    {
     "name": "stderr",
     "output_type": "stream",
     "text": [
      "INFO:tensorflow:Unsupported signature for serialization: ((TensorSpec(shape=(100, 10), dtype=tf.float32, name='gradient'), <tensorflow.python.framework.func_graph.UnknownArgument object at 0x7f527c0b9700>, 139992245764304), {}).\n"
     ]
    },
    {
     "name": "stdout",
     "output_type": "stream",
     "text": [
      "INFO:tensorflow:Unsupported signature for serialization: ((TensorSpec(shape=(10,), dtype=tf.float32, name='gradient'), <tensorflow.python.framework.func_graph.UnknownArgument object at 0x7f528c054cd0>, 139992245764384), {}).\n"
     ]
    },
    {
     "name": "stderr",
     "output_type": "stream",
     "text": [
      "INFO:tensorflow:Unsupported signature for serialization: ((TensorSpec(shape=(10,), dtype=tf.float32, name='gradient'), <tensorflow.python.framework.func_graph.UnknownArgument object at 0x7f528c054cd0>, 139992245764384), {}).\n"
     ]
    },
    {
     "name": "stdout",
     "output_type": "stream",
     "text": [
      "INFO:tensorflow:Unsupported signature for serialization: ((TensorSpec(shape=(10, 1), dtype=tf.float32, name='gradient'), <tensorflow.python.framework.func_graph.UnknownArgument object at 0x7f527c1d9f70>, 139992245766224), {}).\n"
     ]
    },
    {
     "name": "stderr",
     "output_type": "stream",
     "text": [
      "INFO:tensorflow:Unsupported signature for serialization: ((TensorSpec(shape=(10, 1), dtype=tf.float32, name='gradient'), <tensorflow.python.framework.func_graph.UnknownArgument object at 0x7f527c1d9f70>, 139992245766224), {}).\n"
     ]
    },
    {
     "name": "stdout",
     "output_type": "stream",
     "text": [
      "INFO:tensorflow:Unsupported signature for serialization: ((TensorSpec(shape=(1,), dtype=tf.float32, name='gradient'), <tensorflow.python.framework.func_graph.UnknownArgument object at 0x7f527c0d40d0>, 139992245766304), {}).\n"
     ]
    },
    {
     "name": "stderr",
     "output_type": "stream",
     "text": [
      "INFO:tensorflow:Unsupported signature for serialization: ((TensorSpec(shape=(1,), dtype=tf.float32, name='gradient'), <tensorflow.python.framework.func_graph.UnknownArgument object at 0x7f527c0d40d0>, 139992245766304), {}).\n",
      "WARNING:absl:Found untraced functions such as _update_step_xla while saving (showing 1 of 1). These functions will not be directly callable after loading.\n"
     ]
    },
    {
     "name": "stdout",
     "output_type": "stream",
     "text": [
      "INFO:tensorflow:Assets written to: saved_models/orangevsgrapefruit_model_2/assets\n"
     ]
    },
    {
     "name": "stderr",
     "output_type": "stream",
     "text": [
      "INFO:tensorflow:Assets written to: saved_models/orangevsgrapefruit_model_2/assets\n"
     ]
    },
    {
     "name": "stdout",
     "output_type": "stream",
     "text": [
      "250/250 [==============================] - 1s 5ms/step - loss: 0.1800 - accuracy: 0.9266 - val_loss: 0.1743 - val_accuracy: 0.9320\n",
      "Epoch 10/200\n",
      "245/250 [============================>.] - ETA: 0s - loss: 0.1803 - accuracy: 0.9258\n",
      "Epoch 10: val_loss did not improve from 0.17429\n",
      "250/250 [==============================] - 1s 4ms/step - loss: 0.1795 - accuracy: 0.9260 - val_loss: 0.1845 - val_accuracy: 0.9280\n",
      "Epoch 11/200\n",
      "240/250 [===========================>..] - ETA: 0s - loss: 0.1795 - accuracy: 0.9257\n",
      "Epoch 11: val_loss did not improve from 0.17429\n",
      "250/250 [==============================] - 1s 3ms/step - loss: 0.1809 - accuracy: 0.9250 - val_loss: 0.1797 - val_accuracy: 0.9275\n",
      "Epoch 12/200\n",
      "245/250 [============================>.] - ETA: 0s - loss: 0.1794 - accuracy: 0.9265\n",
      "Epoch 12: val_loss improved from 0.17429 to 0.17352, saving model to saved_models/orangevsgrapefruit_model_2\n",
      "INFO:tensorflow:Unsupported signature for serialization: ((TensorSpec(shape=(5, 100), dtype=tf.float32, name='gradient'), <tensorflow.python.framework.func_graph.UnknownArgument object at 0x7f527c1102b0>, 139992245709040), {}).\n"
     ]
    },
    {
     "name": "stderr",
     "output_type": "stream",
     "text": [
      "INFO:tensorflow:Unsupported signature for serialization: ((TensorSpec(shape=(5, 100), dtype=tf.float32, name='gradient'), <tensorflow.python.framework.func_graph.UnknownArgument object at 0x7f527c1102b0>, 139992245709040), {}).\n"
     ]
    },
    {
     "name": "stdout",
     "output_type": "stream",
     "text": [
      "INFO:tensorflow:Unsupported signature for serialization: ((TensorSpec(shape=(100,), dtype=tf.float32, name='gradient'), <tensorflow.python.framework.func_graph.UnknownArgument object at 0x7f527c126790>, 139992245709120), {}).\n"
     ]
    },
    {
     "name": "stderr",
     "output_type": "stream",
     "text": [
      "INFO:tensorflow:Unsupported signature for serialization: ((TensorSpec(shape=(100,), dtype=tf.float32, name='gradient'), <tensorflow.python.framework.func_graph.UnknownArgument object at 0x7f527c126790>, 139992245709120), {}).\n"
     ]
    },
    {
     "name": "stdout",
     "output_type": "stream",
     "text": [
      "INFO:tensorflow:Unsupported signature for serialization: ((TensorSpec(shape=(100, 10), dtype=tf.float32, name='gradient'), <tensorflow.python.framework.func_graph.UnknownArgument object at 0x7f527c0b9700>, 139992245764304), {}).\n"
     ]
    },
    {
     "name": "stderr",
     "output_type": "stream",
     "text": [
      "INFO:tensorflow:Unsupported signature for serialization: ((TensorSpec(shape=(100, 10), dtype=tf.float32, name='gradient'), <tensorflow.python.framework.func_graph.UnknownArgument object at 0x7f527c0b9700>, 139992245764304), {}).\n"
     ]
    },
    {
     "name": "stdout",
     "output_type": "stream",
     "text": [
      "INFO:tensorflow:Unsupported signature for serialization: ((TensorSpec(shape=(10,), dtype=tf.float32, name='gradient'), <tensorflow.python.framework.func_graph.UnknownArgument object at 0x7f528c054cd0>, 139992245764384), {}).\n"
     ]
    },
    {
     "name": "stderr",
     "output_type": "stream",
     "text": [
      "INFO:tensorflow:Unsupported signature for serialization: ((TensorSpec(shape=(10,), dtype=tf.float32, name='gradient'), <tensorflow.python.framework.func_graph.UnknownArgument object at 0x7f528c054cd0>, 139992245764384), {}).\n"
     ]
    },
    {
     "name": "stdout",
     "output_type": "stream",
     "text": [
      "INFO:tensorflow:Unsupported signature for serialization: ((TensorSpec(shape=(10, 1), dtype=tf.float32, name='gradient'), <tensorflow.python.framework.func_graph.UnknownArgument object at 0x7f527c1d9f70>, 139992245766224), {}).\n"
     ]
    },
    {
     "name": "stderr",
     "output_type": "stream",
     "text": [
      "INFO:tensorflow:Unsupported signature for serialization: ((TensorSpec(shape=(10, 1), dtype=tf.float32, name='gradient'), <tensorflow.python.framework.func_graph.UnknownArgument object at 0x7f527c1d9f70>, 139992245766224), {}).\n"
     ]
    },
    {
     "name": "stdout",
     "output_type": "stream",
     "text": [
      "INFO:tensorflow:Unsupported signature for serialization: ((TensorSpec(shape=(1,), dtype=tf.float32, name='gradient'), <tensorflow.python.framework.func_graph.UnknownArgument object at 0x7f527c0d40d0>, 139992245766304), {}).\n"
     ]
    },
    {
     "name": "stderr",
     "output_type": "stream",
     "text": [
      "INFO:tensorflow:Unsupported signature for serialization: ((TensorSpec(shape=(1,), dtype=tf.float32, name='gradient'), <tensorflow.python.framework.func_graph.UnknownArgument object at 0x7f527c0d40d0>, 139992245766304), {}).\n"
     ]
    },
    {
     "name": "stdout",
     "output_type": "stream",
     "text": [
      "INFO:tensorflow:Unsupported signature for serialization: ((TensorSpec(shape=(5, 100), dtype=tf.float32, name='gradient'), <tensorflow.python.framework.func_graph.UnknownArgument object at 0x7f527c1102b0>, 139992245709040), {}).\n"
     ]
    },
    {
     "name": "stderr",
     "output_type": "stream",
     "text": [
      "INFO:tensorflow:Unsupported signature for serialization: ((TensorSpec(shape=(5, 100), dtype=tf.float32, name='gradient'), <tensorflow.python.framework.func_graph.UnknownArgument object at 0x7f527c1102b0>, 139992245709040), {}).\n"
     ]
    },
    {
     "name": "stdout",
     "output_type": "stream",
     "text": [
      "INFO:tensorflow:Unsupported signature for serialization: ((TensorSpec(shape=(100,), dtype=tf.float32, name='gradient'), <tensorflow.python.framework.func_graph.UnknownArgument object at 0x7f527c126790>, 139992245709120), {}).\n"
     ]
    },
    {
     "name": "stderr",
     "output_type": "stream",
     "text": [
      "INFO:tensorflow:Unsupported signature for serialization: ((TensorSpec(shape=(100,), dtype=tf.float32, name='gradient'), <tensorflow.python.framework.func_graph.UnknownArgument object at 0x7f527c126790>, 139992245709120), {}).\n"
     ]
    },
    {
     "name": "stdout",
     "output_type": "stream",
     "text": [
      "INFO:tensorflow:Unsupported signature for serialization: ((TensorSpec(shape=(100, 10), dtype=tf.float32, name='gradient'), <tensorflow.python.framework.func_graph.UnknownArgument object at 0x7f527c0b9700>, 139992245764304), {}).\n"
     ]
    },
    {
     "name": "stderr",
     "output_type": "stream",
     "text": [
      "INFO:tensorflow:Unsupported signature for serialization: ((TensorSpec(shape=(100, 10), dtype=tf.float32, name='gradient'), <tensorflow.python.framework.func_graph.UnknownArgument object at 0x7f527c0b9700>, 139992245764304), {}).\n"
     ]
    },
    {
     "name": "stdout",
     "output_type": "stream",
     "text": [
      "INFO:tensorflow:Unsupported signature for serialization: ((TensorSpec(shape=(10,), dtype=tf.float32, name='gradient'), <tensorflow.python.framework.func_graph.UnknownArgument object at 0x7f528c054cd0>, 139992245764384), {}).\n"
     ]
    },
    {
     "name": "stderr",
     "output_type": "stream",
     "text": [
      "INFO:tensorflow:Unsupported signature for serialization: ((TensorSpec(shape=(10,), dtype=tf.float32, name='gradient'), <tensorflow.python.framework.func_graph.UnknownArgument object at 0x7f528c054cd0>, 139992245764384), {}).\n"
     ]
    },
    {
     "name": "stdout",
     "output_type": "stream",
     "text": [
      "INFO:tensorflow:Unsupported signature for serialization: ((TensorSpec(shape=(10, 1), dtype=tf.float32, name='gradient'), <tensorflow.python.framework.func_graph.UnknownArgument object at 0x7f527c1d9f70>, 139992245766224), {}).\n"
     ]
    },
    {
     "name": "stderr",
     "output_type": "stream",
     "text": [
      "INFO:tensorflow:Unsupported signature for serialization: ((TensorSpec(shape=(10, 1), dtype=tf.float32, name='gradient'), <tensorflow.python.framework.func_graph.UnknownArgument object at 0x7f527c1d9f70>, 139992245766224), {}).\n"
     ]
    },
    {
     "name": "stdout",
     "output_type": "stream",
     "text": [
      "INFO:tensorflow:Unsupported signature for serialization: ((TensorSpec(shape=(1,), dtype=tf.float32, name='gradient'), <tensorflow.python.framework.func_graph.UnknownArgument object at 0x7f527c0d40d0>, 139992245766304), {}).\n"
     ]
    },
    {
     "name": "stderr",
     "output_type": "stream",
     "text": [
      "INFO:tensorflow:Unsupported signature for serialization: ((TensorSpec(shape=(1,), dtype=tf.float32, name='gradient'), <tensorflow.python.framework.func_graph.UnknownArgument object at 0x7f527c0d40d0>, 139992245766304), {}).\n",
      "WARNING:absl:Found untraced functions such as _update_step_xla while saving (showing 1 of 1). These functions will not be directly callable after loading.\n"
     ]
    },
    {
     "name": "stdout",
     "output_type": "stream",
     "text": [
      "INFO:tensorflow:Assets written to: saved_models/orangevsgrapefruit_model_2/assets\n"
     ]
    },
    {
     "name": "stderr",
     "output_type": "stream",
     "text": [
      "INFO:tensorflow:Assets written to: saved_models/orangevsgrapefruit_model_2/assets\n"
     ]
    },
    {
     "name": "stdout",
     "output_type": "stream",
     "text": [
      "250/250 [==============================] - 1s 5ms/step - loss: 0.1801 - accuracy: 0.9261 - val_loss: 0.1735 - val_accuracy: 0.9305\n",
      "Epoch 13/200\n",
      "245/250 [============================>.] - ETA: 0s - loss: 0.1798 - accuracy: 0.9272\n",
      "Epoch 13: val_loss improved from 0.17352 to 0.17333, saving model to saved_models/orangevsgrapefruit_model_2\n",
      "INFO:tensorflow:Unsupported signature for serialization: ((TensorSpec(shape=(5, 100), dtype=tf.float32, name='gradient'), <tensorflow.python.framework.func_graph.UnknownArgument object at 0x7f527c1102b0>, 139992245709040), {}).\n"
     ]
    },
    {
     "name": "stderr",
     "output_type": "stream",
     "text": [
      "INFO:tensorflow:Unsupported signature for serialization: ((TensorSpec(shape=(5, 100), dtype=tf.float32, name='gradient'), <tensorflow.python.framework.func_graph.UnknownArgument object at 0x7f527c1102b0>, 139992245709040), {}).\n"
     ]
    },
    {
     "name": "stdout",
     "output_type": "stream",
     "text": [
      "INFO:tensorflow:Unsupported signature for serialization: ((TensorSpec(shape=(100,), dtype=tf.float32, name='gradient'), <tensorflow.python.framework.func_graph.UnknownArgument object at 0x7f527c126790>, 139992245709120), {}).\n"
     ]
    },
    {
     "name": "stderr",
     "output_type": "stream",
     "text": [
      "INFO:tensorflow:Unsupported signature for serialization: ((TensorSpec(shape=(100,), dtype=tf.float32, name='gradient'), <tensorflow.python.framework.func_graph.UnknownArgument object at 0x7f527c126790>, 139992245709120), {}).\n"
     ]
    },
    {
     "name": "stdout",
     "output_type": "stream",
     "text": [
      "INFO:tensorflow:Unsupported signature for serialization: ((TensorSpec(shape=(100, 10), dtype=tf.float32, name='gradient'), <tensorflow.python.framework.func_graph.UnknownArgument object at 0x7f527c0b9700>, 139992245764304), {}).\n"
     ]
    },
    {
     "name": "stderr",
     "output_type": "stream",
     "text": [
      "INFO:tensorflow:Unsupported signature for serialization: ((TensorSpec(shape=(100, 10), dtype=tf.float32, name='gradient'), <tensorflow.python.framework.func_graph.UnknownArgument object at 0x7f527c0b9700>, 139992245764304), {}).\n"
     ]
    },
    {
     "name": "stdout",
     "output_type": "stream",
     "text": [
      "INFO:tensorflow:Unsupported signature for serialization: ((TensorSpec(shape=(10,), dtype=tf.float32, name='gradient'), <tensorflow.python.framework.func_graph.UnknownArgument object at 0x7f528c054cd0>, 139992245764384), {}).\n"
     ]
    },
    {
     "name": "stderr",
     "output_type": "stream",
     "text": [
      "INFO:tensorflow:Unsupported signature for serialization: ((TensorSpec(shape=(10,), dtype=tf.float32, name='gradient'), <tensorflow.python.framework.func_graph.UnknownArgument object at 0x7f528c054cd0>, 139992245764384), {}).\n"
     ]
    },
    {
     "name": "stdout",
     "output_type": "stream",
     "text": [
      "INFO:tensorflow:Unsupported signature for serialization: ((TensorSpec(shape=(10, 1), dtype=tf.float32, name='gradient'), <tensorflow.python.framework.func_graph.UnknownArgument object at 0x7f527c1d9f70>, 139992245766224), {}).\n"
     ]
    },
    {
     "name": "stderr",
     "output_type": "stream",
     "text": [
      "INFO:tensorflow:Unsupported signature for serialization: ((TensorSpec(shape=(10, 1), dtype=tf.float32, name='gradient'), <tensorflow.python.framework.func_graph.UnknownArgument object at 0x7f527c1d9f70>, 139992245766224), {}).\n"
     ]
    },
    {
     "name": "stdout",
     "output_type": "stream",
     "text": [
      "INFO:tensorflow:Unsupported signature for serialization: ((TensorSpec(shape=(1,), dtype=tf.float32, name='gradient'), <tensorflow.python.framework.func_graph.UnknownArgument object at 0x7f527c0d40d0>, 139992245766304), {}).\n"
     ]
    },
    {
     "name": "stderr",
     "output_type": "stream",
     "text": [
      "INFO:tensorflow:Unsupported signature for serialization: ((TensorSpec(shape=(1,), dtype=tf.float32, name='gradient'), <tensorflow.python.framework.func_graph.UnknownArgument object at 0x7f527c0d40d0>, 139992245766304), {}).\n"
     ]
    },
    {
     "name": "stdout",
     "output_type": "stream",
     "text": [
      "INFO:tensorflow:Unsupported signature for serialization: ((TensorSpec(shape=(5, 100), dtype=tf.float32, name='gradient'), <tensorflow.python.framework.func_graph.UnknownArgument object at 0x7f527c1102b0>, 139992245709040), {}).\n"
     ]
    },
    {
     "name": "stderr",
     "output_type": "stream",
     "text": [
      "INFO:tensorflow:Unsupported signature for serialization: ((TensorSpec(shape=(5, 100), dtype=tf.float32, name='gradient'), <tensorflow.python.framework.func_graph.UnknownArgument object at 0x7f527c1102b0>, 139992245709040), {}).\n"
     ]
    },
    {
     "name": "stdout",
     "output_type": "stream",
     "text": [
      "INFO:tensorflow:Unsupported signature for serialization: ((TensorSpec(shape=(100,), dtype=tf.float32, name='gradient'), <tensorflow.python.framework.func_graph.UnknownArgument object at 0x7f527c126790>, 139992245709120), {}).\n"
     ]
    },
    {
     "name": "stderr",
     "output_type": "stream",
     "text": [
      "INFO:tensorflow:Unsupported signature for serialization: ((TensorSpec(shape=(100,), dtype=tf.float32, name='gradient'), <tensorflow.python.framework.func_graph.UnknownArgument object at 0x7f527c126790>, 139992245709120), {}).\n"
     ]
    },
    {
     "name": "stdout",
     "output_type": "stream",
     "text": [
      "INFO:tensorflow:Unsupported signature for serialization: ((TensorSpec(shape=(100, 10), dtype=tf.float32, name='gradient'), <tensorflow.python.framework.func_graph.UnknownArgument object at 0x7f527c0b9700>, 139992245764304), {}).\n"
     ]
    },
    {
     "name": "stderr",
     "output_type": "stream",
     "text": [
      "INFO:tensorflow:Unsupported signature for serialization: ((TensorSpec(shape=(100, 10), dtype=tf.float32, name='gradient'), <tensorflow.python.framework.func_graph.UnknownArgument object at 0x7f527c0b9700>, 139992245764304), {}).\n"
     ]
    },
    {
     "name": "stdout",
     "output_type": "stream",
     "text": [
      "INFO:tensorflow:Unsupported signature for serialization: ((TensorSpec(shape=(10,), dtype=tf.float32, name='gradient'), <tensorflow.python.framework.func_graph.UnknownArgument object at 0x7f528c054cd0>, 139992245764384), {}).\n"
     ]
    },
    {
     "name": "stderr",
     "output_type": "stream",
     "text": [
      "INFO:tensorflow:Unsupported signature for serialization: ((TensorSpec(shape=(10,), dtype=tf.float32, name='gradient'), <tensorflow.python.framework.func_graph.UnknownArgument object at 0x7f528c054cd0>, 139992245764384), {}).\n"
     ]
    },
    {
     "name": "stdout",
     "output_type": "stream",
     "text": [
      "INFO:tensorflow:Unsupported signature for serialization: ((TensorSpec(shape=(10, 1), dtype=tf.float32, name='gradient'), <tensorflow.python.framework.func_graph.UnknownArgument object at 0x7f527c1d9f70>, 139992245766224), {}).\n"
     ]
    },
    {
     "name": "stderr",
     "output_type": "stream",
     "text": [
      "INFO:tensorflow:Unsupported signature for serialization: ((TensorSpec(shape=(10, 1), dtype=tf.float32, name='gradient'), <tensorflow.python.framework.func_graph.UnknownArgument object at 0x7f527c1d9f70>, 139992245766224), {}).\n"
     ]
    },
    {
     "name": "stdout",
     "output_type": "stream",
     "text": [
      "INFO:tensorflow:Unsupported signature for serialization: ((TensorSpec(shape=(1,), dtype=tf.float32, name='gradient'), <tensorflow.python.framework.func_graph.UnknownArgument object at 0x7f527c0d40d0>, 139992245766304), {}).\n"
     ]
    },
    {
     "name": "stderr",
     "output_type": "stream",
     "text": [
      "INFO:tensorflow:Unsupported signature for serialization: ((TensorSpec(shape=(1,), dtype=tf.float32, name='gradient'), <tensorflow.python.framework.func_graph.UnknownArgument object at 0x7f527c0d40d0>, 139992245766304), {}).\n",
      "WARNING:absl:Found untraced functions such as _update_step_xla while saving (showing 1 of 1). These functions will not be directly callable after loading.\n"
     ]
    },
    {
     "name": "stdout",
     "output_type": "stream",
     "text": [
      "INFO:tensorflow:Assets written to: saved_models/orangevsgrapefruit_model_2/assets\n"
     ]
    },
    {
     "name": "stderr",
     "output_type": "stream",
     "text": [
      "INFO:tensorflow:Assets written to: saved_models/orangevsgrapefruit_model_2/assets\n"
     ]
    },
    {
     "name": "stdout",
     "output_type": "stream",
     "text": [
      "250/250 [==============================] - 1s 5ms/step - loss: 0.1796 - accuracy: 0.9273 - val_loss: 0.1733 - val_accuracy: 0.9305\n",
      "Epoch 14/200\n",
      "238/250 [===========================>..] - ETA: 0s - loss: 0.1800 - accuracy: 0.9261\n",
      "Epoch 14: val_loss did not improve from 0.17333\n",
      "250/250 [==============================] - 1s 4ms/step - loss: 0.1800 - accuracy: 0.9264 - val_loss: 0.1754 - val_accuracy: 0.9300\n",
      "Epoch 15/200\n",
      "243/250 [============================>.] - ETA: 0s - loss: 0.1793 - accuracy: 0.9272\n",
      "Epoch 15: val_loss did not improve from 0.17333\n",
      "250/250 [==============================] - 1s 4ms/step - loss: 0.1795 - accuracy: 0.9273 - val_loss: 0.1801 - val_accuracy: 0.9295\n",
      "Epoch 16/200\n",
      "242/250 [============================>.] - ETA: 0s - loss: 0.1815 - accuracy: 0.9259\n",
      "Epoch 16: val_loss did not improve from 0.17333\n",
      "250/250 [==============================] - 1s 4ms/step - loss: 0.1793 - accuracy: 0.9270 - val_loss: 0.1743 - val_accuracy: 0.9340\n",
      "Epoch 17/200\n",
      "240/250 [===========================>..] - ETA: 0s - loss: 0.1788 - accuracy: 0.9279\n",
      "Epoch 17: val_loss did not improve from 0.17333\n",
      "250/250 [==============================] - 1s 4ms/step - loss: 0.1794 - accuracy: 0.9271 - val_loss: 0.1859 - val_accuracy: 0.9270\n",
      "Epoch 18/200\n",
      "235/250 [===========================>..] - ETA: 0s - loss: 0.1820 - accuracy: 0.9243\n",
      "Epoch 18: val_loss did not improve from 0.17333\n",
      "Restoring model weights from the end of the best epoch: 13.\n",
      "250/250 [==============================] - 1s 4ms/step - loss: 0.1808 - accuracy: 0.9249 - val_loss: 0.1735 - val_accuracy: 0.9320\n",
      "Epoch 18: early stopping\n"
     ]
    }
   ],
   "source": [
    "# Set random seed\n",
    "tf.random.set_seed(42)\n",
    "\n",
    "# Build the model (3 layers, 100, 10, 1 units)\n",
    "model_2 = tf.keras.Sequential([\n",
    "  tf.keras.layers.Dense(100, activation='relu'),\n",
    "  tf.keras.layers.Dense(10, activation='relu'),\n",
    "  tf.keras.layers.Dense(1, activation='sigmoid')\n",
    "], name=\"orangevsgrapefruit_model_2\")\n",
    "\n",
    "# Compile the model\n",
    "model_2.compile(loss=tf.keras.losses.BinaryCrossentropy(),\n",
    "                          optimizer=tf.keras.optimizers.Adam(),\n",
    "                          metrics=['accuracy'])\n",
    "\n",
    "# Fit the model for 200 epochs (same as insurance_model_2)\n",
    "history_2 = model_2.fit(X_train_normalised, y_train, epochs=200, validation_data = (X_test_normalised , y_test), callbacks = get_callbacks(model_2.name))"
   ]
  },
  {
   "cell_type": "code",
   "execution_count": 57,
   "id": "04316ac8",
   "metadata": {},
   "outputs": [
    {
     "name": "stdout",
     "output_type": "stream",
     "text": [
      "63/63 [==============================] - 0s 4ms/step - loss: 0.1733 - accuracy: 0.9305\n"
     ]
    },
    {
     "data": {
      "text/plain": [
       "[0.17333020269870758, 0.9304999709129333]"
      ]
     },
     "execution_count": 57,
     "metadata": {},
     "output_type": "execute_result"
    }
   ],
   "source": [
    "model_2.evaluate(X_test_normalised, y_test)"
   ]
  },
  {
   "cell_type": "code",
   "execution_count": 58,
   "id": "7968d2c7",
   "metadata": {},
   "outputs": [],
   "source": [
    "model_2 = tf.keras.models.load_model(\"saved_models/orangevsgrapefruit_model_2\")"
   ]
  },
  {
   "cell_type": "code",
   "execution_count": null,
   "id": "f2230ec0",
   "metadata": {},
   "outputs": [],
   "source": []
  }
 ],
 "metadata": {
  "kernelspec": {
   "display_name": "Python 3 (ipykernel)",
   "language": "python",
   "name": "python3"
  },
  "language_info": {
   "codemirror_mode": {
    "name": "ipython",
    "version": 3
   },
   "file_extension": ".py",
   "mimetype": "text/x-python",
   "name": "python",
   "nbconvert_exporter": "python",
   "pygments_lexer": "ipython3",
   "version": "3.9.13"
  }
 },
 "nbformat": 4,
 "nbformat_minor": 5
}
